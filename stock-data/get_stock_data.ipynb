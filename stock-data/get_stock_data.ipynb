{
 "cells": [
  {
   "cell_type": "markdown",
   "id": "775d4daa",
   "metadata": {},
   "source": [
    "# Retrieve Stock Data and Save to DF"
   ]
  },
  {
   "cell_type": "markdown",
   "id": "033fed49",
   "metadata": {},
   "source": []
  },
  {
   "cell_type": "code",
   "execution_count": 1,
   "id": "05151c11",
   "metadata": {},
   "outputs": [],
   "source": [
    "from pandas_datareader import data as web\n",
    "import os\n",
    "import pandas as pd\n",
    "import yfinance as yf\n",
    "\n",
    "def get_stock(ticker, start_date, end_date, s_window, l_window):\n",
    "    try:\n",
    "        #yf.pdr_override()\n",
    "        df = yf.download(ticker, start=start_date, end=end_date,auto_adjust=False)\n",
    "        #print(\"DF: \",df)\n",
    "# can use this as well        df = web.get_data_yahoo(ticker, start=start_date, end=end_date)\n",
    "        df['Return'] = df['Adj Close'].pct_change()\n",
    "        df['Return'].fillna(0, inplace = True)\n",
    "        df['Date'] = df.index\n",
    "        df['Date'] = pd.to_datetime(df['Date'])\n",
    "        df['Month'] = df['Date'].dt.month\n",
    "        df['Year'] = df['Date'].dt.year \n",
    "        df['Day'] = df['Date'].dt.day\n",
    "        for col in ['Open', 'High', 'Low', 'Close', 'Adj Close']:\n",
    "            df[col] = df[col].round(2)\n",
    "        df['Weekday'] = df['Date'].dt.day_name()\n",
    "        df['Week_Number'] = df['Date'].dt.strftime('%U')\n",
    "        df['Year_Week'] = df['Date'].dt.strftime('%Y-%U')\n",
    "        df['Short_MA'] = df['Adj Close'].rolling(window=s_window, min_periods=1).mean()\n",
    "        df['Long_MA'] = df['Adj Close'].rolling(window=l_window, min_periods=1).mean()        \n",
    "        col_list = ['Date', 'Year', 'Month', 'Day', 'Weekday', \n",
    "                    'Week_Number', 'Year_Week', 'Open', \n",
    "                    'High', 'Low', 'Close', 'Volume', 'Adj Close',\n",
    "                    'Return', 'Short_MA', 'Long_MA']\n",
    "        num_lines = len(df)\n",
    "        df = df[col_list]\n",
    "        print('read ', num_lines, ' lines of data for ticker: ' , ticker)\n",
    "        return df\n",
    "    except Exception as error:\n",
    "        print(error)\n",
    "        return None"
   ]
  },
  {
   "cell_type": "code",
   "execution_count": 11,
   "id": "3d79bd97",
   "metadata": {},
   "outputs": [
    {
     "name": "stderr",
     "output_type": "stream",
     "text": [
      "[*********************100%***********************]  1 of 1 completed"
     ]
    },
    {
     "name": "stdout",
     "output_type": "stream",
     "text": [
      "read  2138  lines of data for ticker:  SPY\n",
      "wrote 2138 lines to file: c:\\Users\\aksha\\Documents\\BU_RISE\\Final_Project\\stock-data\\SPY.csv\n"
     ]
    },
    {
     "name": "stderr",
     "output_type": "stream",
     "text": [
      "\n",
      "C:\\Users\\aksha\\AppData\\Local\\Temp\\ipykernel_2288\\2458294498.py:13: SettingWithCopyWarning: \n",
      "A value is trying to be set on a copy of a slice from a DataFrame\n",
      "\n",
      "See the caveats in the documentation: https://pandas.pydata.org/pandas-docs/stable/user_guide/indexing.html#returning-a-view-versus-a-copy\n",
      "  df['Return'].fillna(0, inplace = True)\n"
     ]
    }
   ],
   "source": [
    "try:\n",
    "    ticker='SPY'\n",
    "    input_dir = os.getcwd()\n",
    "    output_file = os.path.join(input_dir, ticker + '.csv')\n",
    "    df = get_stock(ticker, start_date='2017-01-01', end_date='2025-07-08', \n",
    "               s_window=14, l_window=50)\n",
    "    df.to_csv(output_file, index=False)\n",
    "    print('wrote ' + str(len(df)) + ' lines to file: ' + output_file)\n",
    "except Exception as e:\n",
    "    print(e)\n",
    "    print('failed to get Yahoo stock data for ticker: ', ticker)"
   ]
  },
  {
   "cell_type": "code",
   "execution_count": null,
   "id": "79956dbb",
   "metadata": {},
   "outputs": [
    {
     "data": {
      "text/plain": [
       "'\\n1. create ATR column\\n2. create SD column\\n3. build LSTM columnn\\n4. split into train and test\\n5. train lstm on training data for ATR and test\\n6. train lstm on training data for SD and test\\n7. plot results and avg. returns based on decisions (buy if delta_volatility<-alpha, sell if delta_volatility>alpha)\\n'"
      ]
     },
     "execution_count": 1,
     "metadata": {},
     "output_type": "execute_result"
    }
   ],
   "source": [
    "#psuedocode\n",
    "'''\n",
    "1. create ATR column\n",
    "2. create SD column\n",
    "3. build LSTM columnn\n",
    "4. split into train and test\n",
    "5. train lstm on training data for ATR and test\n",
    "6. train lstm on training data for SD and test\n",
    "7. plot results and avg. returns based on decisions (buy if delta_volatility<-alpha, sell if delta_volatility>alpha)\n",
    "'''"
   ]
  },
  {
   "cell_type": "code",
   "execution_count": 17,
   "id": "a91feef9",
   "metadata": {},
   "outputs": [
    {
     "data": {
      "text/html": [
       "<div>\n",
       "<style scoped>\n",
       "    .dataframe tbody tr th:only-of-type {\n",
       "        vertical-align: middle;\n",
       "    }\n",
       "\n",
       "    .dataframe tbody tr th {\n",
       "        vertical-align: top;\n",
       "    }\n",
       "\n",
       "    .dataframe thead th {\n",
       "        text-align: right;\n",
       "    }\n",
       "</style>\n",
       "<table border=\"1\" class=\"dataframe\">\n",
       "  <thead>\n",
       "    <tr style=\"text-align: right;\">\n",
       "      <th>Price</th>\n",
       "      <th>Open</th>\n",
       "      <th>High</th>\n",
       "      <th>Low</th>\n",
       "      <th>Close</th>\n",
       "      <th>Volume</th>\n",
       "      <th>Adj Close</th>\n",
       "    </tr>\n",
       "    <tr>\n",
       "      <th>Date</th>\n",
       "      <th></th>\n",
       "      <th></th>\n",
       "      <th></th>\n",
       "      <th></th>\n",
       "      <th></th>\n",
       "      <th></th>\n",
       "    </tr>\n",
       "  </thead>\n",
       "  <tbody>\n",
       "    <tr>\n",
       "      <th>2017-01-03</th>\n",
       "      <td>225.04</td>\n",
       "      <td>225.83</td>\n",
       "      <td>223.88</td>\n",
       "      <td>225.24</td>\n",
       "      <td>91366500</td>\n",
       "      <td>196.12</td>\n",
       "    </tr>\n",
       "    <tr>\n",
       "      <th>2017-01-04</th>\n",
       "      <td>225.62</td>\n",
       "      <td>226.75</td>\n",
       "      <td>225.61</td>\n",
       "      <td>226.58</td>\n",
       "      <td>78744400</td>\n",
       "      <td>197.28</td>\n",
       "    </tr>\n",
       "    <tr>\n",
       "      <th>2017-01-05</th>\n",
       "      <td>226.27</td>\n",
       "      <td>226.58</td>\n",
       "      <td>225.48</td>\n",
       "      <td>226.40</td>\n",
       "      <td>78379000</td>\n",
       "      <td>197.13</td>\n",
       "    </tr>\n",
       "    <tr>\n",
       "      <th>2017-01-06</th>\n",
       "      <td>226.53</td>\n",
       "      <td>227.75</td>\n",
       "      <td>225.90</td>\n",
       "      <td>227.21</td>\n",
       "      <td>71559900</td>\n",
       "      <td>197.83</td>\n",
       "    </tr>\n",
       "    <tr>\n",
       "      <th>2017-01-09</th>\n",
       "      <td>226.91</td>\n",
       "      <td>227.07</td>\n",
       "      <td>226.42</td>\n",
       "      <td>226.46</td>\n",
       "      <td>46939700</td>\n",
       "      <td>197.18</td>\n",
       "    </tr>\n",
       "  </tbody>\n",
       "</table>\n",
       "</div>"
      ],
      "text/plain": [
       "Price         Open    High     Low   Close    Volume  Adj Close\n",
       "Date                                                           \n",
       "2017-01-03  225.04  225.83  223.88  225.24  91366500     196.12\n",
       "2017-01-04  225.62  226.75  225.61  226.58  78744400     197.28\n",
       "2017-01-05  226.27  226.58  225.48  226.40  78379000     197.13\n",
       "2017-01-06  226.53  227.75  225.90  227.21  71559900     197.83\n",
       "2017-01-09  226.91  227.07  226.42  226.46  46939700     197.18"
      ]
     },
     "execution_count": 17,
     "metadata": {},
     "output_type": "execute_result"
    }
   ],
   "source": [
    "df_n= df.xs('SPY',axis=1,level=1) #.xs returns a cross section; selects only values within the SPY indexes at level=1\n",
    "df_n.head()\n",
    "#cleaned up data"
   ]
  },
  {
   "cell_type": "code",
   "execution_count": 19,
   "id": "d501d964",
   "metadata": {},
   "outputs": [
    {
     "ename": "IndexingError",
     "evalue": "Too many indexers",
     "output_type": "error",
     "traceback": [
      "\u001b[31m---------------------------------------------------------------------------\u001b[39m",
      "\u001b[31mIndexingError\u001b[39m                             Traceback (most recent call last)",
      "\u001b[36mCell\u001b[39m\u001b[36m \u001b[39m\u001b[32mIn[19]\u001b[39m\u001b[32m, line 19\u001b[39m\n\u001b[32m     16\u001b[39m         running+=TR\n\u001b[32m     17\u001b[39m     \u001b[38;5;28;01mreturn\u001b[39;00m running/\u001b[38;5;28mlen\u001b[39m(d)\n\u001b[32m---> \u001b[39m\u001b[32m19\u001b[39m df_n[\u001b[33m'\u001b[39m\u001b[33mATR\u001b[39m\u001b[33m'\u001b[39m] = \u001b[43mdf_n\u001b[49m\u001b[43m.\u001b[49m\u001b[43mrolling\u001b[49m\u001b[43m(\u001b[49m\u001b[43mwindow\u001b[49m\u001b[43m=\u001b[49m\u001b[32;43m14\u001b[39;49m\u001b[43m)\u001b[49m\u001b[43m.\u001b[49m\u001b[43mapply\u001b[49m\u001b[43m(\u001b[49m\u001b[43matr_func\u001b[49m\u001b[43m)\u001b[49m\n\u001b[32m     20\u001b[39m df_n\n",
      "\u001b[36mFile \u001b[39m\u001b[32mc:\\Python312\\Lib\\site-packages\\pandas\\core\\window\\rolling.py:2049\u001b[39m, in \u001b[36mRolling.apply\u001b[39m\u001b[34m(self, func, raw, engine, engine_kwargs, args, kwargs)\u001b[39m\n\u001b[32m   2016\u001b[39m \u001b[38;5;129m@doc\u001b[39m(\n\u001b[32m   2017\u001b[39m     template_header,\n\u001b[32m   2018\u001b[39m     create_section_header(\u001b[33m\"\u001b[39m\u001b[33mParameters\u001b[39m\u001b[33m\"\u001b[39m),\n\u001b[32m   (...)\u001b[39m\u001b[32m   2047\u001b[39m     kwargs: \u001b[38;5;28mdict\u001b[39m[\u001b[38;5;28mstr\u001b[39m, Any] | \u001b[38;5;28;01mNone\u001b[39;00m = \u001b[38;5;28;01mNone\u001b[39;00m,\n\u001b[32m   2048\u001b[39m ):\n\u001b[32m-> \u001b[39m\u001b[32m2049\u001b[39m     \u001b[38;5;28;01mreturn\u001b[39;00m \u001b[38;5;28;43msuper\u001b[39;49m\u001b[43m(\u001b[49m\u001b[43m)\u001b[49m\u001b[43m.\u001b[49m\u001b[43mapply\u001b[49m\u001b[43m(\u001b[49m\n\u001b[32m   2050\u001b[39m \u001b[43m        \u001b[49m\u001b[43mfunc\u001b[49m\u001b[43m,\u001b[49m\n\u001b[32m   2051\u001b[39m \u001b[43m        \u001b[49m\u001b[43mraw\u001b[49m\u001b[43m=\u001b[49m\u001b[43mraw\u001b[49m\u001b[43m,\u001b[49m\n\u001b[32m   2052\u001b[39m \u001b[43m        \u001b[49m\u001b[43mengine\u001b[49m\u001b[43m=\u001b[49m\u001b[43mengine\u001b[49m\u001b[43m,\u001b[49m\n\u001b[32m   2053\u001b[39m \u001b[43m        \u001b[49m\u001b[43mengine_kwargs\u001b[49m\u001b[43m=\u001b[49m\u001b[43mengine_kwargs\u001b[49m\u001b[43m,\u001b[49m\n\u001b[32m   2054\u001b[39m \u001b[43m        \u001b[49m\u001b[43margs\u001b[49m\u001b[43m=\u001b[49m\u001b[43margs\u001b[49m\u001b[43m,\u001b[49m\n\u001b[32m   2055\u001b[39m \u001b[43m        \u001b[49m\u001b[43mkwargs\u001b[49m\u001b[43m=\u001b[49m\u001b[43mkwargs\u001b[49m\u001b[43m,\u001b[49m\n\u001b[32m   2056\u001b[39m \u001b[43m    \u001b[49m\u001b[43m)\u001b[49m\n",
      "\u001b[36mFile \u001b[39m\u001b[32mc:\\Python312\\Lib\\site-packages\\pandas\\core\\window\\rolling.py:1508\u001b[39m, in \u001b[36mRollingAndExpandingMixin.apply\u001b[39m\u001b[34m(self, func, raw, engine, engine_kwargs, args, kwargs)\u001b[39m\n\u001b[32m   1505\u001b[39m \u001b[38;5;28;01melse\u001b[39;00m:\n\u001b[32m   1506\u001b[39m     \u001b[38;5;28;01mraise\u001b[39;00m \u001b[38;5;167;01mValueError\u001b[39;00m(\u001b[33m\"\u001b[39m\u001b[33mengine must be either \u001b[39m\u001b[33m'\u001b[39m\u001b[33mnumba\u001b[39m\u001b[33m'\u001b[39m\u001b[33m or \u001b[39m\u001b[33m'\u001b[39m\u001b[33mcython\u001b[39m\u001b[33m'\u001b[39m\u001b[33m\"\u001b[39m)\n\u001b[32m-> \u001b[39m\u001b[32m1508\u001b[39m \u001b[38;5;28;01mreturn\u001b[39;00m \u001b[38;5;28;43mself\u001b[39;49m\u001b[43m.\u001b[49m\u001b[43m_apply\u001b[49m\u001b[43m(\u001b[49m\n\u001b[32m   1509\u001b[39m \u001b[43m    \u001b[49m\u001b[43mapply_func\u001b[49m\u001b[43m,\u001b[49m\n\u001b[32m   1510\u001b[39m \u001b[43m    \u001b[49m\u001b[43mname\u001b[49m\u001b[43m=\u001b[49m\u001b[33;43m\"\u001b[39;49m\u001b[33;43mapply\u001b[39;49m\u001b[33;43m\"\u001b[39;49m\u001b[43m,\u001b[49m\n\u001b[32m   1511\u001b[39m \u001b[43m    \u001b[49m\u001b[43mnumba_args\u001b[49m\u001b[43m=\u001b[49m\u001b[43mnumba_args\u001b[49m\u001b[43m,\u001b[49m\n\u001b[32m   1512\u001b[39m \u001b[43m\u001b[49m\u001b[43m)\u001b[49m\n",
      "\u001b[36mFile \u001b[39m\u001b[32mc:\\Python312\\Lib\\site-packages\\pandas\\core\\window\\rolling.py:619\u001b[39m, in \u001b[36mBaseWindow._apply\u001b[39m\u001b[34m(self, func, name, numeric_only, numba_args, **kwargs)\u001b[39m\n\u001b[32m    616\u001b[39m     \u001b[38;5;28;01mreturn\u001b[39;00m result\n\u001b[32m    618\u001b[39m \u001b[38;5;28;01mif\u001b[39;00m \u001b[38;5;28mself\u001b[39m.method == \u001b[33m\"\u001b[39m\u001b[33msingle\u001b[39m\u001b[33m\"\u001b[39m:\n\u001b[32m--> \u001b[39m\u001b[32m619\u001b[39m     \u001b[38;5;28;01mreturn\u001b[39;00m \u001b[38;5;28;43mself\u001b[39;49m\u001b[43m.\u001b[49m\u001b[43m_apply_columnwise\u001b[49m\u001b[43m(\u001b[49m\u001b[43mhomogeneous_func\u001b[49m\u001b[43m,\u001b[49m\u001b[43m \u001b[49m\u001b[43mname\u001b[49m\u001b[43m,\u001b[49m\u001b[43m \u001b[49m\u001b[43mnumeric_only\u001b[49m\u001b[43m)\u001b[49m\n\u001b[32m    620\u001b[39m \u001b[38;5;28;01melse\u001b[39;00m:\n\u001b[32m    621\u001b[39m     \u001b[38;5;28;01mreturn\u001b[39;00m \u001b[38;5;28mself\u001b[39m._apply_tablewise(homogeneous_func, name, numeric_only)\n",
      "\u001b[36mFile \u001b[39m\u001b[32mc:\\Python312\\Lib\\site-packages\\pandas\\core\\window\\rolling.py:494\u001b[39m, in \u001b[36mBaseWindow._apply_columnwise\u001b[39m\u001b[34m(self, homogeneous_func, name, numeric_only)\u001b[39m\n\u001b[32m    490\u001b[39m \u001b[38;5;28;01mexcept\u001b[39;00m (\u001b[38;5;167;01mTypeError\u001b[39;00m, \u001b[38;5;167;01mNotImplementedError\u001b[39;00m) \u001b[38;5;28;01mas\u001b[39;00m err:\n\u001b[32m    491\u001b[39m     \u001b[38;5;28;01mraise\u001b[39;00m DataError(\n\u001b[32m    492\u001b[39m         \u001b[33mf\u001b[39m\u001b[33m\"\u001b[39m\u001b[33mCannot aggregate non-numeric type: \u001b[39m\u001b[38;5;132;01m{\u001b[39;00marr.dtype\u001b[38;5;132;01m}\u001b[39;00m\u001b[33m\"\u001b[39m\n\u001b[32m    493\u001b[39m     ) \u001b[38;5;28;01mfrom\u001b[39;00m \u001b[34;01merr\u001b[39;00m\n\u001b[32m--> \u001b[39m\u001b[32m494\u001b[39m res = \u001b[43mhomogeneous_func\u001b[49m\u001b[43m(\u001b[49m\u001b[43marr\u001b[49m\u001b[43m)\u001b[49m\n\u001b[32m    495\u001b[39m res_values.append(res)\n\u001b[32m    496\u001b[39m taker.append(i)\n",
      "\u001b[36mFile \u001b[39m\u001b[32mc:\\Python312\\Lib\\site-packages\\pandas\\core\\window\\rolling.py:614\u001b[39m, in \u001b[36mBaseWindow._apply.<locals>.homogeneous_func\u001b[39m\u001b[34m(values)\u001b[39m\n\u001b[32m    611\u001b[39m     \u001b[38;5;28;01mreturn\u001b[39;00m func(x, start, end, min_periods, *numba_args)\n\u001b[32m    613\u001b[39m \u001b[38;5;28;01mwith\u001b[39;00m np.errstate(\u001b[38;5;28mall\u001b[39m=\u001b[33m\"\u001b[39m\u001b[33mignore\u001b[39m\u001b[33m\"\u001b[39m):\n\u001b[32m--> \u001b[39m\u001b[32m614\u001b[39m     result = \u001b[43mcalc\u001b[49m\u001b[43m(\u001b[49m\u001b[43mvalues\u001b[49m\u001b[43m)\u001b[49m\n\u001b[32m    616\u001b[39m \u001b[38;5;28;01mreturn\u001b[39;00m result\n",
      "\u001b[36mFile \u001b[39m\u001b[32mc:\\Python312\\Lib\\site-packages\\pandas\\core\\window\\rolling.py:611\u001b[39m, in \u001b[36mBaseWindow._apply.<locals>.homogeneous_func.<locals>.calc\u001b[39m\u001b[34m(x)\u001b[39m\n\u001b[32m    602\u001b[39m start, end = window_indexer.get_window_bounds(\n\u001b[32m    603\u001b[39m     num_values=\u001b[38;5;28mlen\u001b[39m(x),\n\u001b[32m    604\u001b[39m     min_periods=min_periods,\n\u001b[32m   (...)\u001b[39m\u001b[32m    607\u001b[39m     step=\u001b[38;5;28mself\u001b[39m.step,\n\u001b[32m    608\u001b[39m )\n\u001b[32m    609\u001b[39m \u001b[38;5;28mself\u001b[39m._check_window_bounds(start, end, \u001b[38;5;28mlen\u001b[39m(x))\n\u001b[32m--> \u001b[39m\u001b[32m611\u001b[39m \u001b[38;5;28;01mreturn\u001b[39;00m \u001b[43mfunc\u001b[49m\u001b[43m(\u001b[49m\u001b[43mx\u001b[49m\u001b[43m,\u001b[49m\u001b[43m \u001b[49m\u001b[43mstart\u001b[49m\u001b[43m,\u001b[49m\u001b[43m \u001b[49m\u001b[43mend\u001b[49m\u001b[43m,\u001b[49m\u001b[43m \u001b[49m\u001b[43mmin_periods\u001b[49m\u001b[43m,\u001b[49m\u001b[43m \u001b[49m\u001b[43m*\u001b[49m\u001b[43mnumba_args\u001b[49m\u001b[43m)\u001b[49m\n",
      "\u001b[36mFile \u001b[39m\u001b[32mc:\\Python312\\Lib\\site-packages\\pandas\\core\\window\\rolling.py:1535\u001b[39m, in \u001b[36mRollingAndExpandingMixin._generate_cython_apply_func.<locals>.apply_func\u001b[39m\u001b[34m(values, begin, end, min_periods, raw)\u001b[39m\n\u001b[32m   1532\u001b[39m \u001b[38;5;28;01mif\u001b[39;00m \u001b[38;5;129;01mnot\u001b[39;00m raw:\n\u001b[32m   1533\u001b[39m     \u001b[38;5;66;03m# GH 45912\u001b[39;00m\n\u001b[32m   1534\u001b[39m     values = Series(values, index=\u001b[38;5;28mself\u001b[39m._on, copy=\u001b[38;5;28;01mFalse\u001b[39;00m)\n\u001b[32m-> \u001b[39m\u001b[32m1535\u001b[39m \u001b[38;5;28;01mreturn\u001b[39;00m \u001b[43mwindow_func\u001b[49m\u001b[43m(\u001b[49m\u001b[43mvalues\u001b[49m\u001b[43m,\u001b[49m\u001b[43m \u001b[49m\u001b[43mbegin\u001b[49m\u001b[43m,\u001b[49m\u001b[43m \u001b[49m\u001b[43mend\u001b[49m\u001b[43m,\u001b[49m\u001b[43m \u001b[49m\u001b[43mmin_periods\u001b[49m\u001b[43m)\u001b[49m\n",
      "\u001b[36mFile \u001b[39m\u001b[32maggregations.pyx:1422\u001b[39m, in \u001b[36mpandas._libs.window.aggregations.roll_apply\u001b[39m\u001b[34m()\u001b[39m\n",
      "\u001b[36mCell\u001b[39m\u001b[36m \u001b[39m\u001b[32mIn[19]\u001b[39m\u001b[32m, line 7\u001b[39m, in \u001b[36matr_func\u001b[39m\u001b[34m(d)\u001b[39m\n\u001b[32m      5\u001b[39m running = \u001b[32m0\u001b[39m\n\u001b[32m      6\u001b[39m \u001b[38;5;28;01mfor\u001b[39;00m i \u001b[38;5;129;01min\u001b[39;00m \u001b[38;5;28mrange\u001b[39m(\u001b[38;5;28mlen\u001b[39m(d)):\n\u001b[32m----> \u001b[39m\u001b[32m7\u001b[39m     high = \u001b[43md\u001b[49m\u001b[43m.\u001b[49m\u001b[43mloc\u001b[49m\u001b[43m[\u001b[49m\u001b[43mi\u001b[49m\u001b[43m,\u001b[49m\u001b[33;43m\"\u001b[39;49m\u001b[33;43mHigh\u001b[39;49m\u001b[33;43m\"\u001b[39;49m\u001b[43m]\u001b[49m\n\u001b[32m      8\u001b[39m     low = d.loc[i,\u001b[33m\"\u001b[39m\u001b[33mLow\u001b[39m\u001b[33m\"\u001b[39m]\n\u001b[32m      9\u001b[39m     \u001b[38;5;28;01mif\u001b[39;00m i==\u001b[32m0\u001b[39m:\n",
      "\u001b[36mFile \u001b[39m\u001b[32mc:\\Python312\\Lib\\site-packages\\pandas\\core\\indexing.py:1184\u001b[39m, in \u001b[36m_LocationIndexer.__getitem__\u001b[39m\u001b[34m(self, key)\u001b[39m\n\u001b[32m   1182\u001b[39m     \u001b[38;5;28;01mif\u001b[39;00m \u001b[38;5;28mself\u001b[39m._is_scalar_access(key):\n\u001b[32m   1183\u001b[39m         \u001b[38;5;28;01mreturn\u001b[39;00m \u001b[38;5;28mself\u001b[39m.obj._get_value(*key, takeable=\u001b[38;5;28mself\u001b[39m._takeable)\n\u001b[32m-> \u001b[39m\u001b[32m1184\u001b[39m     \u001b[38;5;28;01mreturn\u001b[39;00m \u001b[38;5;28;43mself\u001b[39;49m\u001b[43m.\u001b[49m\u001b[43m_getitem_tuple\u001b[49m\u001b[43m(\u001b[49m\u001b[43mkey\u001b[49m\u001b[43m)\u001b[49m\n\u001b[32m   1185\u001b[39m \u001b[38;5;28;01melse\u001b[39;00m:\n\u001b[32m   1186\u001b[39m     \u001b[38;5;66;03m# we by definition only have the 0th axis\u001b[39;00m\n\u001b[32m   1187\u001b[39m     axis = \u001b[38;5;28mself\u001b[39m.axis \u001b[38;5;129;01mor\u001b[39;00m \u001b[32m0\u001b[39m\n",
      "\u001b[36mFile \u001b[39m\u001b[32mc:\\Python312\\Lib\\site-packages\\pandas\\core\\indexing.py:1371\u001b[39m, in \u001b[36m_LocIndexer._getitem_tuple\u001b[39m\u001b[34m(self, tup)\u001b[39m\n\u001b[32m   1368\u001b[39m     \u001b[38;5;28;01mreturn\u001b[39;00m \u001b[38;5;28mself\u001b[39m._getitem_lowerdim(tup)\n\u001b[32m   1370\u001b[39m \u001b[38;5;66;03m# no multi-index, so validate all of the indexers\u001b[39;00m\n\u001b[32m-> \u001b[39m\u001b[32m1371\u001b[39m tup = \u001b[38;5;28;43mself\u001b[39;49m\u001b[43m.\u001b[49m\u001b[43m_validate_tuple_indexer\u001b[49m\u001b[43m(\u001b[49m\u001b[43mtup\u001b[49m\u001b[43m)\u001b[49m\n\u001b[32m   1373\u001b[39m \u001b[38;5;66;03m# ugly hack for GH #836\u001b[39;00m\n\u001b[32m   1374\u001b[39m \u001b[38;5;28;01mif\u001b[39;00m \u001b[38;5;28mself\u001b[39m._multi_take_opportunity(tup):\n",
      "\u001b[36mFile \u001b[39m\u001b[32mc:\\Python312\\Lib\\site-packages\\pandas\\core\\indexing.py:962\u001b[39m, in \u001b[36m_LocationIndexer._validate_tuple_indexer\u001b[39m\u001b[34m(self, key)\u001b[39m\n\u001b[32m    957\u001b[39m \u001b[38;5;129m@final\u001b[39m\n\u001b[32m    958\u001b[39m \u001b[38;5;28;01mdef\u001b[39;00m \u001b[34m_validate_tuple_indexer\u001b[39m(\u001b[38;5;28mself\u001b[39m, key: \u001b[38;5;28mtuple\u001b[39m) -> \u001b[38;5;28mtuple\u001b[39m:\n\u001b[32m    959\u001b[39m \u001b[38;5;250m    \u001b[39m\u001b[33;03m\"\"\"\u001b[39;00m\n\u001b[32m    960\u001b[39m \u001b[33;03m    Check the key for valid keys across my indexer.\u001b[39;00m\n\u001b[32m    961\u001b[39m \u001b[33;03m    \"\"\"\u001b[39;00m\n\u001b[32m--> \u001b[39m\u001b[32m962\u001b[39m     key = \u001b[38;5;28;43mself\u001b[39;49m\u001b[43m.\u001b[49m\u001b[43m_validate_key_length\u001b[49m\u001b[43m(\u001b[49m\u001b[43mkey\u001b[49m\u001b[43m)\u001b[49m\n\u001b[32m    963\u001b[39m     key = \u001b[38;5;28mself\u001b[39m._expand_ellipsis(key)\n\u001b[32m    964\u001b[39m     \u001b[38;5;28;01mfor\u001b[39;00m i, k \u001b[38;5;129;01min\u001b[39;00m \u001b[38;5;28menumerate\u001b[39m(key):\n",
      "\u001b[36mFile \u001b[39m\u001b[32mc:\\Python312\\Lib\\site-packages\\pandas\\core\\indexing.py:1001\u001b[39m, in \u001b[36m_LocationIndexer._validate_key_length\u001b[39m\u001b[34m(self, key)\u001b[39m\n\u001b[32m    999\u001b[39m             \u001b[38;5;28;01mraise\u001b[39;00m IndexingError(_one_ellipsis_message)\n\u001b[32m   1000\u001b[39m         \u001b[38;5;28;01mreturn\u001b[39;00m \u001b[38;5;28mself\u001b[39m._validate_key_length(key)\n\u001b[32m-> \u001b[39m\u001b[32m1001\u001b[39m     \u001b[38;5;28;01mraise\u001b[39;00m IndexingError(\u001b[33m\"\u001b[39m\u001b[33mToo many indexers\u001b[39m\u001b[33m\"\u001b[39m)\n\u001b[32m   1002\u001b[39m \u001b[38;5;28;01mreturn\u001b[39;00m key\n",
      "\u001b[31mIndexingError\u001b[39m: Too many indexers"
     ]
    }
   ],
   "source": [
    "import math\n",
    "#challenge of how to deal with missing values in time series data\n",
    "#choose sliding window of length=N (could be 20?) N_lstmtraining>N_atrslidingwindow\n",
    "def atr_func(d):\n",
    "    running = 0\n",
    "    for i in range(len(d)):\n",
    "        high = d.loc[i,\"High\"]\n",
    "        low = d.loc[i,\"Low\"]\n",
    "        if i==0:\n",
    "            running += high-low\n",
    "            continue\n",
    "        if i>0:\n",
    "            y_close = d.loc[i,\"Close\"]\n",
    "        \n",
    "        TR = max(high-low,max(math.abs(high-y_close),math.abs(low-y_close)))\n",
    "        running+=TR\n",
    "    return running/len(d)\n",
    "\n",
    "df_n['ATR'] = df_n.rolling(window=14).apply(atr_func)\n",
    "df_n"
   ]
  },
  {
   "cell_type": "code",
   "execution_count": null,
   "id": "e5c5bb27",
   "metadata": {},
   "outputs": [
    {
     "name": "stderr",
     "output_type": "stream",
     "text": [
      "C:\\Users\\aksha\\AppData\\Local\\Temp\\ipykernel_2288\\3229134450.py:14: SettingWithCopyWarning: \n",
      "A value is trying to be set on a copy of a slice from a DataFrame.\n",
      "Try using .loc[row_indexer,col_indexer] = value instead\n",
      "\n",
      "See the caveats in the documentation: https://pandas.pydata.org/pandas-docs/stable/user_guide/indexing.html#returning-a-view-versus-a-copy\n",
      "  df_n[\"ATR\"] = tr.rolling(7).mean()\n"
     ]
    }
   ],
   "source": [
    "#define ATR columns\n",
    "high = df_n[\"High\"]\n",
    "low = df_n[\"Low\"]\n",
    "close = df_n[\"Close\"]\n",
    "\n",
    "prev_close = close.shift(1)\n",
    "\n",
    "\n",
    "tr = pd.concat([\n",
    "    high - low,\n",
    "    (high - prev_close).abs(),\n",
    "    (low - prev_close).abs()\n",
    "], axis=1).max(axis=1)\n",
    "\n",
    "df_n[\"ATR\"] = tr.rolling(7).mean()"
   ]
  },
  {
   "cell_type": "code",
   "execution_count": 27,
   "id": "aca5313f",
   "metadata": {},
   "outputs": [
    {
     "name": "stderr",
     "output_type": "stream",
     "text": [
      "C:\\Users\\aksha\\AppData\\Local\\Temp\\ipykernel_2288\\3033044218.py:4: SettingWithCopyWarning: \n",
      "A value is trying to be set on a copy of a slice from a DataFrame.\n",
      "Try using .loc[row_indexer,col_indexer] = value instead\n",
      "\n",
      "See the caveats in the documentation: https://pandas.pydata.org/pandas-docs/stable/user_guide/indexing.html#returning-a-view-versus-a-copy\n",
      "  df_n[\"SD_Log_Close\"] = log_diff.rolling(7).std()\n"
     ]
    },
    {
     "data": {
      "text/html": [
       "<div>\n",
       "<style scoped>\n",
       "    .dataframe tbody tr th:only-of-type {\n",
       "        vertical-align: middle;\n",
       "    }\n",
       "\n",
       "    .dataframe tbody tr th {\n",
       "        vertical-align: top;\n",
       "    }\n",
       "\n",
       "    .dataframe thead th {\n",
       "        text-align: right;\n",
       "    }\n",
       "</style>\n",
       "<table border=\"1\" class=\"dataframe\">\n",
       "  <thead>\n",
       "    <tr style=\"text-align: right;\">\n",
       "      <th>Price</th>\n",
       "      <th>Open</th>\n",
       "      <th>High</th>\n",
       "      <th>Low</th>\n",
       "      <th>Close</th>\n",
       "      <th>Volume</th>\n",
       "      <th>Adj Close</th>\n",
       "      <th>ATR</th>\n",
       "      <th>SD_Log_Close</th>\n",
       "    </tr>\n",
       "    <tr>\n",
       "      <th>Date</th>\n",
       "      <th></th>\n",
       "      <th></th>\n",
       "      <th></th>\n",
       "      <th></th>\n",
       "      <th></th>\n",
       "      <th></th>\n",
       "      <th></th>\n",
       "      <th></th>\n",
       "    </tr>\n",
       "  </thead>\n",
       "  <tbody>\n",
       "    <tr>\n",
       "      <th>2017-01-03</th>\n",
       "      <td>225.04</td>\n",
       "      <td>225.83</td>\n",
       "      <td>223.88</td>\n",
       "      <td>225.24</td>\n",
       "      <td>91366500</td>\n",
       "      <td>196.12</td>\n",
       "      <td>NaN</td>\n",
       "      <td>NaN</td>\n",
       "    </tr>\n",
       "    <tr>\n",
       "      <th>2017-01-04</th>\n",
       "      <td>225.62</td>\n",
       "      <td>226.75</td>\n",
       "      <td>225.61</td>\n",
       "      <td>226.58</td>\n",
       "      <td>78744400</td>\n",
       "      <td>197.28</td>\n",
       "      <td>NaN</td>\n",
       "      <td>NaN</td>\n",
       "    </tr>\n",
       "    <tr>\n",
       "      <th>2017-01-05</th>\n",
       "      <td>226.27</td>\n",
       "      <td>226.58</td>\n",
       "      <td>225.48</td>\n",
       "      <td>226.40</td>\n",
       "      <td>78379000</td>\n",
       "      <td>197.13</td>\n",
       "      <td>NaN</td>\n",
       "      <td>NaN</td>\n",
       "    </tr>\n",
       "    <tr>\n",
       "      <th>2017-01-06</th>\n",
       "      <td>226.53</td>\n",
       "      <td>227.75</td>\n",
       "      <td>225.90</td>\n",
       "      <td>227.21</td>\n",
       "      <td>71559900</td>\n",
       "      <td>197.83</td>\n",
       "      <td>NaN</td>\n",
       "      <td>NaN</td>\n",
       "    </tr>\n",
       "    <tr>\n",
       "      <th>2017-01-09</th>\n",
       "      <td>226.91</td>\n",
       "      <td>227.07</td>\n",
       "      <td>226.42</td>\n",
       "      <td>226.46</td>\n",
       "      <td>46939700</td>\n",
       "      <td>197.18</td>\n",
       "      <td>NaN</td>\n",
       "      <td>NaN</td>\n",
       "    </tr>\n",
       "    <tr>\n",
       "      <th>...</th>\n",
       "      <td>...</td>\n",
       "      <td>...</td>\n",
       "      <td>...</td>\n",
       "      <td>...</td>\n",
       "      <td>...</td>\n",
       "      <td>...</td>\n",
       "      <td>...</td>\n",
       "      <td>...</td>\n",
       "    </tr>\n",
       "    <tr>\n",
       "      <th>2025-06-30</th>\n",
       "      <td>617.38</td>\n",
       "      <td>619.22</td>\n",
       "      <td>615.04</td>\n",
       "      <td>617.85</td>\n",
       "      <td>92502500</td>\n",
       "      <td>617.85</td>\n",
       "      <td>5.868571</td>\n",
       "      <td>0.005666</td>\n",
       "    </tr>\n",
       "    <tr>\n",
       "      <th>2025-07-01</th>\n",
       "      <td>616.36</td>\n",
       "      <td>618.83</td>\n",
       "      <td>615.52</td>\n",
       "      <td>617.65</td>\n",
       "      <td>70030100</td>\n",
       "      <td>617.65</td>\n",
       "      <td>5.398571</td>\n",
       "      <td>0.004345</td>\n",
       "    </tr>\n",
       "    <tr>\n",
       "      <th>2025-07-02</th>\n",
       "      <td>617.24</td>\n",
       "      <td>620.49</td>\n",
       "      <td>616.61</td>\n",
       "      <td>620.45</td>\n",
       "      <td>66510400</td>\n",
       "      <td>620.45</td>\n",
       "      <td>4.717143</td>\n",
       "      <td>0.003906</td>\n",
       "    </tr>\n",
       "    <tr>\n",
       "      <th>2025-07-03</th>\n",
       "      <td>622.45</td>\n",
       "      <td>626.28</td>\n",
       "      <td>622.43</td>\n",
       "      <td>625.34</td>\n",
       "      <td>51065800</td>\n",
       "      <td>625.34</td>\n",
       "      <td>4.450000</td>\n",
       "      <td>0.003185</td>\n",
       "    </tr>\n",
       "    <tr>\n",
       "      <th>2025-07-07</th>\n",
       "      <td>623.36</td>\n",
       "      <td>624.03</td>\n",
       "      <td>617.87</td>\n",
       "      <td>620.68</td>\n",
       "      <td>74814500</td>\n",
       "      <td>620.68</td>\n",
       "      <td>5.078571</td>\n",
       "      <td>0.005424</td>\n",
       "    </tr>\n",
       "  </tbody>\n",
       "</table>\n",
       "<p>2138 rows × 8 columns</p>\n",
       "</div>"
      ],
      "text/plain": [
       "Price         Open    High     Low   Close    Volume  Adj Close       ATR  \\\n",
       "Date                                                                        \n",
       "2017-01-03  225.04  225.83  223.88  225.24  91366500     196.12       NaN   \n",
       "2017-01-04  225.62  226.75  225.61  226.58  78744400     197.28       NaN   \n",
       "2017-01-05  226.27  226.58  225.48  226.40  78379000     197.13       NaN   \n",
       "2017-01-06  226.53  227.75  225.90  227.21  71559900     197.83       NaN   \n",
       "2017-01-09  226.91  227.07  226.42  226.46  46939700     197.18       NaN   \n",
       "...            ...     ...     ...     ...       ...        ...       ...   \n",
       "2025-06-30  617.38  619.22  615.04  617.85  92502500     617.85  5.868571   \n",
       "2025-07-01  616.36  618.83  615.52  617.65  70030100     617.65  5.398571   \n",
       "2025-07-02  617.24  620.49  616.61  620.45  66510400     620.45  4.717143   \n",
       "2025-07-03  622.45  626.28  622.43  625.34  51065800     625.34  4.450000   \n",
       "2025-07-07  623.36  624.03  617.87  620.68  74814500     620.68  5.078571   \n",
       "\n",
       "Price       SD_Log_Close  \n",
       "Date                      \n",
       "2017-01-03           NaN  \n",
       "2017-01-04           NaN  \n",
       "2017-01-05           NaN  \n",
       "2017-01-06           NaN  \n",
       "2017-01-09           NaN  \n",
       "...                  ...  \n",
       "2025-06-30      0.005666  \n",
       "2025-07-01      0.004345  \n",
       "2025-07-02      0.003906  \n",
       "2025-07-03      0.003185  \n",
       "2025-07-07      0.005424  \n",
       "\n",
       "[2138 rows x 8 columns]"
      ]
     },
     "execution_count": 27,
     "metadata": {},
     "output_type": "execute_result"
    }
   ],
   "source": [
    "import numpy as np\n",
    "\n",
    "log_diff = np.log(df_n[\"Close\"]/df_n[\"Close\"].shift(1))\n",
    "df_n[\"SD_Log_Close\"] = log_diff.rolling(7).std()\n",
    "df_n"
   ]
  },
  {
   "cell_type": "code",
   "execution_count": 39,
   "id": "9a6eb499",
   "metadata": {},
   "outputs": [],
   "source": [
    "#drop na values (first 6 rows)\n",
    "df_n = df_n.dropna()\n",
    "df_n = df_n.reset_index()"
   ]
  },
  {
   "cell_type": "code",
   "execution_count": 41,
   "id": "8b777b55",
   "metadata": {},
   "outputs": [
    {
     "data": {
      "text/plain": [
       "1"
      ]
     },
     "execution_count": 41,
     "metadata": {},
     "output_type": "execute_result"
    }
   ],
   "source": [
    "(df_n.loc[1,\"Date\"] - df_n.loc[0,\"Date\"]).days"
   ]
  },
  {
   "cell_type": "code",
   "execution_count": 47,
   "id": "4d95f6f1",
   "metadata": {},
   "outputs": [],
   "source": [
    "df_n[\"Delta_Days\"] = [(df_n.loc[i,\"Date\"] - df_n.loc[0,\"Date\"]).days for i in range(len(df_n))]"
   ]
  },
  {
   "cell_type": "code",
   "execution_count": 114,
   "id": "24ccea72",
   "metadata": {},
   "outputs": [],
   "source": [
    "#define lstm model\n",
    "import torch\n",
    "from torch.nn import *\n",
    "import torch.nn.functional as F\n",
    "\n",
    "class NN_LSTM(Module):\n",
    "    def __init__(self, input_size, output_size):\n",
    "        super().__init__()\n",
    "        self.lstm = LSTM(input_size=input_size,hidden_size=30)\n",
    "        self.fc = Linear(30,output_size)\n",
    "    def activation(self,X):\n",
    "        return F.relu(X)\n",
    "    def forward(self,input):\n",
    "        input,_ = self.lstm(input)\n",
    "        input = self.fc(input[-1,:,:])\n",
    "        return input #return the last prediction\n",
    "#lstm_layer = LSTM(input_size=4,hidden_size=30)"
   ]
  },
  {
   "cell_type": "code",
   "execution_count": 49,
   "id": "2a557c67",
   "metadata": {},
   "outputs": [],
   "source": [
    "#define PDE loss\n",
    "def PDE_loss(v_hat):\n",
    "    return 0\n",
    "    #use torch.autograd to get PDE loss"
   ]
  },
  {
   "cell_type": "code",
   "execution_count": 100,
   "id": "0bbb3ba9",
   "metadata": {},
   "outputs": [],
   "source": [
    "def tt_split(df_n,vol_metric):\n",
    "    train = df_n.loc[[i<=len(df_n)*4/5 for i in range(len(df_n))]]\n",
    "    X_train = train[[\"Open\",\"Close\",\"High\",\"Low\"]].to_numpy()\n",
    "    y_train = train[vol_metric].to_numpy()\n",
    "\n",
    "    test = df_n.loc[[i>len(df_n)*4/5 for i in range(len(df_n))]]\n",
    "    X_test = test[[\"Open\",\"Close\",\"High\",\"Low\"]].to_numpy()\n",
    "    y_test = test[vol_metric].to_numpy()\n",
    "    return X_train,y_train,X_test,y_test\n",
    "\n",
    "X_train,y_train,X_test,y_test = tt_split(df_n,\"ATR\")\n"
   ]
  },
  {
   "cell_type": "code",
   "execution_count": null,
   "id": "76390f87",
   "metadata": {},
   "outputs": [],
   "source": [
    "def make_seq(X_train,y_train,X_test,y_test):\n",
    "    T = 30  # sequence length (window size)\n",
    "    X_seq = []\n",
    "    y_seq = []\n",
    "    X_seq_test = []\n",
    "    y_seq_test = []\n",
    "\n",
    "    for i in range(len(X_train) - T):\n",
    "        X_seq.append(X_train[i:i+T])  # shape: [T, 4] <- what is wanted in lstm\n",
    "        y_seq.append(y_train[i+T])    # predict next ATR value\n",
    "    for i in range(len(X_test)-T):    \n",
    "        X_seq_test.append(X_test[i:i+T])\n",
    "        y_seq_test.append(y_test[i+T])\n",
    "\n",
    "\n",
    "    X_seq = torch.tensor(X_seq, dtype=torch.float32)\n",
    "    y_seq = torch.tensor(y_seq, dtype=torch.float32).unsqueeze(1)\n",
    "    X_seq_test = torch.tensor(X_seq_test, dtype=torch.float32)\n",
    "    y_seq_test = torch.tensor(y_seq_test, dtype=torch.float32).unsqueeze(1)\n",
    "    \n",
    "    return X_seq,y_seq,X_seq_test,y_seq_test\n",
    "X_seq,y_seq,X_seq_test,y_seq_test = make_seq(X_train,y_train,X_test,y_test)"
   ]
  },
  {
   "cell_type": "code",
   "execution_count": 120,
   "id": "d1bd9c32",
   "metadata": {},
   "outputs": [],
   "source": [
    "from torch.utils.data import DataLoader, TensorDataset\n",
    "\n",
    "def create_loaders(X_seq,y_seq,X_seq_test,y_seq_test,batch_size=64):\n",
    "    dataset = TensorDataset(X_seq, y_seq)\n",
    "    loader = DataLoader(dataset, batch_size=batch_size, shuffle=True)\n",
    "\n",
    "    dataset_test = TensorDataset(X_seq_test,y_seq_test)\n",
    "    loader_test = DataLoader(dataset_test,batch_size=batch_size,shuffle=True)\n",
    "    return loader,loader_test\n",
    "loader,loader_test = create_loaders(X_seq,y_seq,X_seq_test,y_seq_test)"
   ]
  },
  {
   "cell_type": "code",
   "execution_count": 116,
   "id": "fe4a641e",
   "metadata": {},
   "outputs": [
    {
     "name": "stdout",
     "output_type": "stream",
     "text": [
      "Training Loss: 30.9985834757487\n",
      "Training Loss: 26.051195285938405\n",
      "Training Loss: 24.20378522519712\n",
      "Training Loss: 22.162442489906592\n",
      "Training Loss: 21.673756564105\n",
      "Training Loss: 18.82260078854031\n",
      "Training Loss: 17.861312795568395\n",
      "Training Loss: 16.541908829300493\n",
      "Training Loss: 15.19481482329192\n",
      "Training Loss: 13.69721938945629\n",
      "Training Loss: 12.837032671327945\n",
      "Training Loss: 12.250276035732693\n",
      "Training Loss: 11.588001392505786\n",
      "Training Loss: 11.808012008666992\n",
      "Training Loss: 10.399848425829852\n",
      "Training Loss: 10.065310177979645\n",
      "Training Loss: 10.024542578944454\n",
      "Training Loss: 9.593825251967818\n",
      "Training Loss: 9.325894302792019\n",
      "Training Loss: 9.281861464182535\n",
      "Training Loss: 9.794601016574436\n",
      "Training Loss: 8.911570654975044\n",
      "Training Loss: 9.376995457543266\n",
      "Training Loss: 8.85840693226567\n",
      "Training Loss: 8.811235339553267\n",
      "Training Loss: 8.88979740496035\n",
      "Training Loss: 9.366097273649993\n",
      "Training Loss: 8.65828122916045\n",
      "Training Loss: 9.46364125499019\n",
      "Training Loss: 8.561747043221086\n",
      "Training Loss: 8.674522717793783\n",
      "Training Loss: 8.679771935498273\n",
      "Training Loss: 8.581151670879787\n",
      "Training Loss: 8.655804227899623\n",
      "Training Loss: 8.58680424866853\n",
      "Training Loss: 8.722816484945792\n",
      "Training Loss: 8.605485668888798\n",
      "Training Loss: 8.699794910572193\n",
      "Training Loss: 9.151974572075737\n",
      "Training Loss: 8.996251936312076\n",
      "Training Loss: 8.920639373638013\n",
      "Training Loss: 8.746087268546775\n",
      "Training Loss: 8.569321950276693\n",
      "Training Loss: 8.621418387801558\n",
      "Training Loss: 8.90505889610008\n",
      "Training Loss: 8.688412401411268\n",
      "Training Loss: 8.79092788696289\n",
      "Training Loss: 8.691789644735831\n",
      "Training Loss: 8.840418285793728\n",
      "Training Loss: 8.654730196352359\n",
      "Training Loss: 8.650128029010913\n",
      "Training Loss: 8.94407712088691\n",
      "Training Loss: 8.70349304764359\n",
      "Training Loss: 8.586791020852548\n",
      "Training Loss: 8.688363799342403\n",
      "Training Loss: 8.74866192429154\n",
      "Training Loss: 8.659513137958667\n",
      "Training Loss: 8.699078524554217\n",
      "Training Loss: 8.585116960384228\n",
      "Training Loss: 8.665942951484963\n"
     ]
    }
   ],
   "source": [
    "#training loop\n",
    "model = NN_LSTM(input_size=4,output_size=1)\n",
    "epochs = 60\n",
    "optim = torch.optim.Adam(params = model.parameters())\n",
    "crit = MSELoss()\n",
    "losses = []\n",
    "losses_test = []\n",
    "\n",
    "for i in range(epochs):\n",
    "    running_loss = 0\n",
    "    for x_window,y_atr in loader:\n",
    "        #print(\"Running\")\n",
    "        input = x_window.permute(1,0,2) #shape = [seq_length,batch_length,4]\n",
    "        out = model(input)\n",
    "        #print(y_atr.shape)\n",
    "        loss = crit(out,y_atr)\n",
    "        running_loss+=loss.item()\n",
    "        optim.zero_grad()\n",
    "        loss.backward()\n",
    "        optim.step()\n",
    "            # could try loss += (i+1)/period/sum(j/period for j in range(period))crit(out,y_train[i]); adds a coeff to give more weigt to recent ones\n",
    "    running_loss/=(len(loader))\n",
    "    print(f\"Training Loss: {running_loss}\")\n",
    "    losses.append(running_loss)\n",
    "\n",
    "    with torch.no_grad():\n",
    "        testing_loss = 0\n",
    "        for x_window_test,y_atr_test in loader_test:\n",
    "            out_test = model(x_window_test.permute(1,0,2))\n",
    "            #print(y_atr_test.shape)\n",
    "            loss = crit(out_test,y_atr_test)\n",
    "            testing_loss+=loss.item()\n",
    "        losses_test.append(testing_loss/(len(loader_test)))\n"
   ]
  },
  {
   "cell_type": "code",
   "execution_count": 117,
   "id": "272a0aa7",
   "metadata": {},
   "outputs": [
    {
     "data": {
      "text/plain": [
       "<Axes: >"
      ]
     },
     "execution_count": 117,
     "metadata": {},
     "output_type": "execute_result"
    },
    {
     "data": {
      "image/png": "[encoded data removed]",
      "text/plain": [
       "<Figure size 640x480 with 1 Axes>"
      ]
     },
     "metadata": {},
     "output_type": "display_data"
    }
   ],
   "source": [
    "import seaborn as sns\n",
    "\n",
    "sns.lineplot(x=[i for i in range(len(losses))],y=losses)"
   ]
  },
  {
   "cell_type": "code",
   "execution_count": 118,
   "id": "ac6278da",
   "metadata": {},
   "outputs": [
    {
     "data": {
      "text/plain": [
       "<Axes: >"
      ]
     },
     "execution_count": 118,
     "metadata": {},
     "output_type": "execute_result"
    },
    {
     "data": {
      "image/png": "[encoded data removed]",
      "text/plain": [
       "<Figure size 640x480 with 1 Axes>"
      ]
     },
     "metadata": {},
     "output_type": "display_data"
    }
   ],
   "source": [
    "sns.lineplot(x=[i for i in range(len(losses_test))],y=losses_test)"
   ]
  },
  {
   "cell_type": "code",
   "execution_count": 122,
   "id": "21004adb",
   "metadata": {},
   "outputs": [],
   "source": [
    "X_train_sd,y_train_sd,X_test_sd,y_test_sd = tt_split(df_n,vol_metric=\"SD_Log_Close\")\n",
    "X_seq_sd,y_seq_sd,X_seq_test_sd,y_seq_test_sd = make_seq(X_train_sd,y_train_sd,X_test_sd,y_test_sd)\n",
    "loader_sd,loader_test_sd = create_loaders(X_seq_sd,y_seq_sd,X_seq_test_sd,y_seq_test_sd)"
   ]
  },
  {
   "cell_type": "code",
   "execution_count": 123,
   "id": "a7127c16",
   "metadata": {},
   "outputs": [
    {
     "name": "stdout",
     "output_type": "stream",
     "text": [
      "Training Loss: 0.000898944853731707\n",
      "Training Loss: 7.619460902114278e-05\n",
      "Training Loss: 6.251129390740836e-05\n",
      "Training Loss: 6.206997453840881e-05\n",
      "Training Loss: 6.127288165939885e-05\n",
      "Training Loss: 6.27185906557349e-05\n",
      "Training Loss: 6.169266513704012e-05\n",
      "Training Loss: 6.318791653299101e-05\n",
      "Training Loss: 6.140495207984242e-05\n",
      "Training Loss: 6.137238482619136e-05\n",
      "Training Loss: 6.537651852003937e-05\n",
      "Training Loss: 6.171691381529888e-05\n",
      "Training Loss: 6.102387784199824e-05\n",
      "Training Loss: 6.108033536562559e-05\n",
      "Training Loss: 6.127760806756905e-05\n",
      "Training Loss: 6.120523452140063e-05\n",
      "Training Loss: 6.15839276347456e-05\n",
      "Training Loss: 6.27972356057769e-05\n",
      "Training Loss: 6.855206993350293e-05\n",
      "Training Loss: 6.129504025146296e-05\n",
      "Training Loss: 6.662142476232946e-05\n",
      "Training Loss: 6.22032266282649e-05\n",
      "Training Loss: 6.15653889663345e-05\n",
      "Training Loss: 6.183497862366494e-05\n",
      "Training Loss: 6.117506947905188e-05\n",
      "Training Loss: 6.157388762167775e-05\n",
      "Training Loss: 6.207476440909818e-05\n",
      "Training Loss: 6.14483456215735e-05\n",
      "Training Loss: 6.161624716898789e-05\n",
      "Training Loss: 6.222972775436506e-05\n",
      "Training Loss: 6.19096521135092e-05\n",
      "Training Loss: 6.282145895292396e-05\n",
      "Training Loss: 6.267975738780849e-05\n",
      "Training Loss: 7.10468037949694e-05\n",
      "Training Loss: 6.241120468917802e-05\n",
      "Training Loss: 6.20401789530189e-05\n",
      "Training Loss: 6.201135726802965e-05\n",
      "Training Loss: 6.0737805782722445e-05\n",
      "Training Loss: 7.103241585826725e-05\n",
      "Training Loss: 6.575883856351504e-05\n",
      "Training Loss: 6.250090107776621e-05\n",
      "Training Loss: 6.700625069950345e-05\n",
      "Training Loss: 6.447095613650702e-05\n",
      "Training Loss: 6.14640245691623e-05\n",
      "Training Loss: 6.234975666706709e-05\n",
      "Training Loss: 6.584872742813011e-05\n",
      "Training Loss: 6.186888755042606e-05\n",
      "Training Loss: 6.219983791837606e-05\n",
      "Training Loss: 6.445011179797196e-05\n",
      "Training Loss: 6.171225086964787e-05\n",
      "Training Loss: 6.117759346158925e-05\n",
      "Training Loss: 6.226474074032417e-05\n",
      "Training Loss: 6.170900067243363e-05\n",
      "Training Loss: 6.203799313408565e-05\n",
      "Training Loss: 6.156757552633751e-05\n",
      "Training Loss: 7.11892106563836e-05\n",
      "Training Loss: 6.318467462228404e-05\n",
      "Training Loss: 6.203190837873585e-05\n",
      "Training Loss: 6.22695502830471e-05\n",
      "Training Loss: 6.310376482832469e-05\n"
     ]
    }
   ],
   "source": [
    "#training loop\n",
    "model_sd = NN_LSTM(input_size=4,output_size=1)\n",
    "epochs = 60\n",
    "optim = torch.optim.Adam(params = model_sd.parameters())\n",
    "crit = MSELoss()\n",
    "losses = []\n",
    "losses_test = []\n",
    "\n",
    "for i in range(epochs):\n",
    "    running_loss = 0\n",
    "    for x_window,y_sd in loader_sd:\n",
    "        #print(\"Running\")\n",
    "        input = x_window.permute(1,0,2) #shape = [seq_length,batch_length,4]\n",
    "        out = model_sd(input)\n",
    "        #print(y_sd.shape)\n",
    "        loss = crit(out,y_sd)\n",
    "        running_loss+=loss.item()\n",
    "        optim.zero_grad()\n",
    "        loss.backward()\n",
    "        optim.step()\n",
    "            # could try loss += (i+1)/period/sum(j/period for j in range(period))crit(out,y_train[i]); adds a coeff to give more weigt to recent ones\n",
    "    running_loss/=(len(loader_sd))\n",
    "    print(f\"Training Loss: {running_loss}\")\n",
    "    losses.append(running_loss)\n",
    "\n",
    "    with torch.no_grad():\n",
    "        testing_loss = 0\n",
    "        for x_window_test,y_sd_test in loader_test_sd:\n",
    "            out_test = model_sd(x_window_test.permute(1,0,2))\n",
    "            #print(y_sd_test.shape)\n",
    "            loss = crit(out_test,y_sd_test)\n",
    "            testing_loss+=loss.item()\n",
    "        losses_test.append(testing_loss/(len(loader_test_sd)))\n"
   ]
  },
  {
   "cell_type": "code",
   "execution_count": 125,
   "id": "27f08d8c",
   "metadata": {},
   "outputs": [
    {
     "data": {
      "text/plain": [
       "<Axes: >"
      ]
     },
     "execution_count": 125,
     "metadata": {},
     "output_type": "execute_result"
    },
    {
     "data": {
      "image/png": "[encoded data removed]",
      "text/plain": [
       "<Figure size 640x480 with 1 Axes>"
      ]
     },
     "metadata": {},
     "output_type": "display_data"
    }
   ],
   "source": [
    "sns.lineplot(losses)"
   ]
  },
  {
   "cell_type": "code",
   "execution_count": 126,
   "id": "8181f8cd",
   "metadata": {},
   "outputs": [
    {
     "data": {
      "text/plain": [
       "<Axes: >"
      ]
     },
     "execution_count": 126,
     "metadata": {},
     "output_type": "execute_result"
    },
    {
     "data": {
      "image/png": "[encoded data removed]",
      "text/plain": [
       "<Figure size 640x480 with 1 Axes>"
      ]
     },
     "metadata": {},
     "output_type": "display_data"
    }
   ],
   "source": [
    "sns.lineplot(losses_test)"
   ]
  },
  {
   "cell_type": "code",
   "execution_count": null,
   "id": "fd62e553",
   "metadata": {},
   "outputs": [],
   "source": []
  }
 ],
 "metadata": {
  "kernelspec": {
   "display_name": "Python 3",
   "language": "python",
   "name": "python3"
  },
  "language_info": {
   "codemirror_mode": {
    "name": "ipython",
    "version": 3
   },
   "file_extension": ".py",
   "mimetype": "text/x-python",
   "name": "python",
   "nbconvert_exporter": "python",
   "pygments_lexer": "ipython3",
   "version": "3.12.3"
  }
 },
 "nbformat": 4,
 "nbformat_minor": 5
}
