{
 "cells": [
  {
   "cell_type": "code",
   "execution_count": 1,
   "id": "f3dd4010",
   "metadata": {},
   "outputs": [],
   "source": [
    "import torch\n",
    "from torch.nn import *\n",
    "import torch.nn.functional as F\n",
    "from pandas_datareader import data as web\n",
    "import os\n",
    "import pandas as pd\n",
    "import yfinance as yf\n",
    "import matplotlib.pyplot as plt\n",
    "import seaborn as sns\n",
    "from torch.utils.data import DataLoader, TensorDataset\n",
    "from sklearn.preprocessing import StandardScaler\n",
    "import numpy as np\n",
    "import warnings\n",
    "warnings.filterwarnings(\"ignore\")"
   ]
  },
  {
   "cell_type": "code",
   "execution_count": 2,
   "id": "e1dfba1e",
   "metadata": {},
   "outputs": [
    {
     "name": "stdout",
     "output_type": "stream",
     "text": [
      "DEVICE:  cuda\n"
     ]
    }
   ],
   "source": [
    "from utils import *"
   ]
  },
  {
   "cell_type": "code",
   "execution_count": 3,
   "id": "ab0b7f67",
   "metadata": {},
   "outputs": [
    {
     "data": {
      "text/plain": [
       "True"
      ]
     },
     "execution_count": 3,
     "metadata": {},
     "output_type": "execute_result"
    }
   ],
   "source": [
    "torch.cuda.is_available()"
   ]
  },
  {
   "cell_type": "code",
   "execution_count": 4,
   "id": "3414ddb9",
   "metadata": {},
   "outputs": [],
   "source": [
    "T=30"
   ]
  },
  {
   "cell_type": "code",
   "execution_count": 5,
   "id": "bc47382c",
   "metadata": {},
   "outputs": [],
   "source": [
    "etfs = ['XLB','XLE','XLF','XLI','XLP','XLV','XLY','XLU']\n",
    "metric2 = \"Squared_Returns\"\n",
    "metric3 = \"SD_Prices\"\n",
    "metrics = [\"ATR\",metric2,metric3]\n",
    "# start = '2001-01-01'\n",
    "# end = '2020-01-01'\n",
    "# start_t = '2022-01-02'\n",
    "# end_t = '2024-01-05'\n",
    "date_list = [['2001-01-01', '2020-01-01', '2022-01-02', '2024-01-05'], ['1990-01-05', '2010-01-05', '2023-01-05', '2024-01-05'], ['2000-01-05', \"2024-01-05\", \"2024-01-05\", \"2025-01-05\"], ['2005-01-05', '2010-01-05', '2020-01-05', '2024-01-05']]\n",
    "starts,ends = np.array([(f'200{i}-01-01',f'200{i+12}-01-01') for i in range(0,12,4)]).T\n",
    "models = {}\n",
    "lrs = [0]\n",
    "h1 = 50\n",
    "h2 = 50\n",
    "hl1s = [20,50,70,100]\n",
    "hl1s = [20,50,70,100]\n",
    "models = [\"LSTM\",\"RNN\"]\n",
    "lr = 0\n",
    "feat_combos = [['Open','Close','High','Low','Volume','Return','Short_MA','Long_MA'],['Open','Close','High','Low','Volume'],['index','Open','Close','High','Low','Volume']]"
   ]
  },
  {
   "cell_type": "code",
   "execution_count": 4,
   "id": "6bf0c50e",
   "metadata": {},
   "outputs": [],
   "source": []
  },
  {
   "cell_type": "code",
   "execution_count": null,
   "id": "24786877",
   "metadata": {},
   "outputs": [
    {
     "name": "stderr",
     "output_type": "stream",
     "text": [
      "[*********************100%***********************]  1 of 1 completed\n"
     ]
    },
    {
     "name": "stdout",
     "output_type": "stream",
     "text": [
      "read  4779  lines of data for ticker:  XLB\n"
     ]
    },
    {
     "name": "stderr",
     "output_type": "stream",
     "text": [
      "[*********************100%***********************]  1 of 1 completed\n"
     ]
    },
    {
     "name": "stdout",
     "output_type": "stream",
     "text": [
      "read  504  lines of data for ticker:  XLB\n"
     ]
    },
    {
     "name": "stderr",
     "output_type": "stream",
     "text": [
      "[*********************100%***********************]  1 of 1 completed"
     ]
    },
    {
     "name": "stdout",
     "output_type": "stream",
     "text": [
      "XLB Final Value: 1069.4249662693483, Final Money: 58.2287445115764, Final Shares: 12.009456315412967\n"
     ]
    },
    {
     "name": "stderr",
     "output_type": "stream",
     "text": [
      "\n"
     ]
    },
    {
     "name": "stdout",
     "output_type": "stream",
     "text": [
      "read  4779  lines of data for ticker:  XLB\n"
     ]
    },
    {
     "name": "stderr",
     "output_type": "stream",
     "text": [
      "[*********************100%***********************]  1 of 1 completed\n"
     ]
    },
    {
     "name": "stdout",
     "output_type": "stream",
     "text": [
      "read  504  lines of data for ticker:  XLB\n",
      "XLB Final Value: 1000.0, Final Money: 1000.0, Final Shares: 0.0\n"
     ]
    },
    {
     "name": "stderr",
     "output_type": "stream",
     "text": [
      "[*********************100%***********************]  1 of 1 completed\n"
     ]
    },
    {
     "name": "stdout",
     "output_type": "stream",
     "text": [
      "read  4779  lines of data for ticker:  XLB\n"
     ]
    },
    {
     "name": "stderr",
     "output_type": "stream",
     "text": [
      "[*********************100%***********************]  1 of 1 completed\n"
     ]
    },
    {
     "name": "stdout",
     "output_type": "stream",
     "text": [
      "read  504  lines of data for ticker:  XLB\n",
      "XLB Final Value: 888.4698356358317, Final Money: 888.4698356358317, Final Shares: 0.0\n"
     ]
    },
    {
     "name": "stderr",
     "output_type": "stream",
     "text": [
      "[*********************100%***********************]  1 of 1 completed\n"
     ]
    },
    {
     "name": "stdout",
     "output_type": "stream",
     "text": [
      "read  4779  lines of data for ticker:  XLE\n"
     ]
    },
    {
     "name": "stderr",
     "output_type": "stream",
     "text": [
      "[*********************100%***********************]  1 of 1 completed\n"
     ]
    },
    {
     "name": "stdout",
     "output_type": "stream",
     "text": [
      "read  504  lines of data for ticker:  XLE\n",
      "XLE Final Value: 859.1355294353732, Final Money: 53.62866997440337, Final Shares: 9.520232353870345\n"
     ]
    },
    {
     "name": "stderr",
     "output_type": "stream",
     "text": [
      "[*********************100%***********************]  1 of 1 completed\n"
     ]
    },
    {
     "name": "stdout",
     "output_type": "stream",
     "text": [
      "read  4779  lines of data for ticker:  XLE\n"
     ]
    },
    {
     "name": "stderr",
     "output_type": "stream",
     "text": [
      "[*********************100%***********************]  1 of 1 completed\n"
     ]
    },
    {
     "name": "stdout",
     "output_type": "stream",
     "text": [
      "read  504  lines of data for ticker:  XLE\n",
      "XLE Final Value: 901.1599968584835, Final Money: 266.5849526380254, Final Shares: 7.500000522638674\n"
     ]
    },
    {
     "name": "stderr",
     "output_type": "stream",
     "text": [
      "[*********************100%***********************]  1 of 1 completed\n"
     ]
    },
    {
     "name": "stdout",
     "output_type": "stream",
     "text": [
      "read  4779  lines of data for ticker:  XLE\n"
     ]
    },
    {
     "name": "stderr",
     "output_type": "stream",
     "text": [
      "[*********************100%***********************]  1 of 1 completed\n"
     ]
    },
    {
     "name": "stdout",
     "output_type": "stream",
     "text": [
      "read  504  lines of data for ticker:  XLE\n",
      "XLE Final Value: 868.6366966236042, Final Money: 64.38663060075699, Final Shares: 9.5053783952588\n"
     ]
    },
    {
     "name": "stderr",
     "output_type": "stream",
     "text": [
      "[*********************100%***********************]  1 of 1 completed\n"
     ]
    },
    {
     "name": "stdout",
     "output_type": "stream",
     "text": [
      "read  4779  lines of data for ticker:  XLF\n"
     ]
    },
    {
     "name": "stderr",
     "output_type": "stream",
     "text": [
      "[*********************100%***********************]  1 of 1 completed\n"
     ]
    },
    {
     "name": "stdout",
     "output_type": "stream",
     "text": [
      "read  504  lines of data for ticker:  XLF\n",
      "XLF Final Value: 833.0291955209676, Final Money: 24.45143758539687, Final Shares: 21.510448468623853\n"
     ]
    },
    {
     "name": "stderr",
     "output_type": "stream",
     "text": [
      "[*********************100%***********************]  1 of 1 completed\n"
     ]
    },
    {
     "name": "stdout",
     "output_type": "stream",
     "text": [
      "read  4779  lines of data for ticker:  XLF\n"
     ]
    },
    {
     "name": "stderr",
     "output_type": "stream",
     "text": [
      "[*********************100%***********************]  1 of 1 completed\n"
     ]
    },
    {
     "name": "stdout",
     "output_type": "stream",
     "text": [
      "read  504  lines of data for ticker:  XLF\n",
      "XLF Final Value: 1045.5650176779495, Final Money: 1045.5650176779495, Final Shares: 0.0\n"
     ]
    },
    {
     "name": "stderr",
     "output_type": "stream",
     "text": [
      "[*********************100%***********************]  1 of 1 completed\n"
     ]
    },
    {
     "name": "stdout",
     "output_type": "stream",
     "text": [
      "read  4779  lines of data for ticker:  XLF\n"
     ]
    },
    {
     "name": "stderr",
     "output_type": "stream",
     "text": [
      "[*********************100%***********************]  1 of 1 completed\n"
     ]
    },
    {
     "name": "stdout",
     "output_type": "stream",
     "text": [
      "read  504  lines of data for ticker:  XLF\n",
      "XLF Final Value: 739.4183400269276, Final Money: 739.4183400269276, Final Shares: 0.0\n"
     ]
    },
    {
     "name": "stderr",
     "output_type": "stream",
     "text": [
      "[*********************100%***********************]  1 of 1 completed\n"
     ]
    },
    {
     "name": "stdout",
     "output_type": "stream",
     "text": [
      "read  4779  lines of data for ticker:  XLI\n"
     ]
    },
    {
     "name": "stderr",
     "output_type": "stream",
     "text": [
      "[*********************100%***********************]  1 of 1 completed\n"
     ]
    },
    {
     "name": "stdout",
     "output_type": "stream",
     "text": [
      "read  504  lines of data for ticker:  XLI\n"
     ]
    },
    {
     "name": "stderr",
     "output_type": "stream",
     "text": [
      "[*********************100%***********************]  1 of 1 completed"
     ]
    },
    {
     "name": "stdout",
     "output_type": "stream",
     "text": [
      "XLI Final Value: 1116.4873192678197, Final Money: 58.033478810083956, Final Shares: 9.509917704022781\n"
     ]
    },
    {
     "name": "stderr",
     "output_type": "stream",
     "text": [
      "\n"
     ]
    },
    {
     "name": "stdout",
     "output_type": "stream",
     "text": [
      "read  4779  lines of data for ticker:  XLI\n"
     ]
    },
    {
     "name": "stderr",
     "output_type": "stream",
     "text": [
      "[*********************100%***********************]  1 of 1 completed\n"
     ]
    },
    {
     "name": "stdout",
     "output_type": "stream",
     "text": [
      "read  504  lines of data for ticker:  XLI\n",
      "XLI Final Value: 953.4649995859456, Final Money: 953.4649995859456, Final Shares: 0.0\n"
     ]
    },
    {
     "name": "stderr",
     "output_type": "stream",
     "text": [
      "[*********************100%***********************]  1 of 1 completed\n"
     ]
    },
    {
     "name": "stdout",
     "output_type": "stream",
     "text": [
      "read  4779  lines of data for ticker:  XLI\n"
     ]
    },
    {
     "name": "stderr",
     "output_type": "stream",
     "text": [
      "[*********************100%***********************]  1 of 1 completed\n"
     ]
    },
    {
     "name": "stdout",
     "output_type": "stream",
     "text": [
      "read  504  lines of data for ticker:  XLI\n",
      "XLI Final Value: 904.0046617349578, Final Money: 904.0046617349578, Final Shares: 0.0\n"
     ]
    },
    {
     "name": "stderr",
     "output_type": "stream",
     "text": [
      "[*********************100%***********************]  1 of 1 completed\n"
     ]
    },
    {
     "name": "stdout",
     "output_type": "stream",
     "text": [
      "read  4779  lines of data for ticker:  XLP\n"
     ]
    },
    {
     "name": "stderr",
     "output_type": "stream",
     "text": [
      "[*********************100%***********************]  1 of 1 completed\n"
     ]
    },
    {
     "name": "stdout",
     "output_type": "stream",
     "text": [
      "read  504  lines of data for ticker:  XLP\n"
     ]
    },
    {
     "name": "stderr",
     "output_type": "stream",
     "text": [
      "[*********************100%***********************]  1 of 1 completed"
     ]
    },
    {
     "name": "stdout",
     "output_type": "stream",
     "text": [
      "XLP Final Value: 997.0370758684459, Final Money: 57.88355981400287, Final Shares: 13.013073521607911\n"
     ]
    },
    {
     "name": "stderr",
     "output_type": "stream",
     "text": [
      "\n"
     ]
    },
    {
     "name": "stdout",
     "output_type": "stream",
     "text": [
      "read  4779  lines of data for ticker:  XLP\n"
     ]
    },
    {
     "name": "stderr",
     "output_type": "stream",
     "text": [
      "[*********************100%***********************]  1 of 1 completed\n"
     ]
    },
    {
     "name": "stdout",
     "output_type": "stream",
     "text": [
      "read  504  lines of data for ticker:  XLP\n",
      "XLP Final Value: 977.6799978889252, Final Money: 977.6799978889252, Final Shares: 0.0\n"
     ]
    },
    {
     "name": "stderr",
     "output_type": "stream",
     "text": [
      "[*********************100%***********************]  1 of 1 completed\n"
     ]
    },
    {
     "name": "stdout",
     "output_type": "stream",
     "text": [
      "read  4779  lines of data for ticker:  XLP\n"
     ]
    },
    {
     "name": "stderr",
     "output_type": "stream",
     "text": [
      "[*********************100%***********************]  1 of 1 completed\n"
     ]
    },
    {
     "name": "stdout",
     "output_type": "stream",
     "text": [
      "read  504  lines of data for ticker:  XLP\n",
      "XLP Final Value: 942.1585684385691, Final Money: 472.82965604317315, Final Shares: 6.503102568870665\n"
     ]
    },
    {
     "name": "stderr",
     "output_type": "stream",
     "text": [
      "[*********************100%***********************]  1 of 1 completed\n"
     ]
    },
    {
     "name": "stdout",
     "output_type": "stream",
     "text": [
      "read  4779  lines of data for ticker:  XLV\n"
     ]
    },
    {
     "name": "stderr",
     "output_type": "stream",
     "text": [
      "[*********************100%***********************]  1 of 1 completed\n"
     ]
    },
    {
     "name": "stdout",
     "output_type": "stream",
     "text": [
      "read  504  lines of data for ticker:  XLV\n"
     ]
    },
    {
     "name": "stderr",
     "output_type": "stream",
     "text": [
      "[*********************100%***********************]  1 of 1 completed"
     ]
    },
    {
     "name": "stdout",
     "output_type": "stream",
     "text": [
      "XLV Final Value: 1044.4224858568855, Final Money: 67.39117687700755, Final Shares: 7.016886734989067\n"
     ]
    },
    {
     "name": "stderr",
     "output_type": "stream",
     "text": [
      "\n"
     ]
    },
    {
     "name": "stdout",
     "output_type": "stream",
     "text": [
      "read  4779  lines of data for ticker:  XLV\n"
     ]
    },
    {
     "name": "stderr",
     "output_type": "stream",
     "text": [
      "[*********************100%***********************]  1 of 1 completed\n"
     ]
    },
    {
     "name": "stdout",
     "output_type": "stream",
     "text": [
      "read  504  lines of data for ticker:  XLV\n",
      "XLV Final Value: 896.0149906466282, Final Money: 896.0149906466282, Final Shares: 0.0\n"
     ]
    },
    {
     "name": "stderr",
     "output_type": "stream",
     "text": [
      "[*********************100%***********************]  1 of 1 completed\n"
     ]
    },
    {
     "name": "stdout",
     "output_type": "stream",
     "text": [
      "read  4779  lines of data for ticker:  XLV\n"
     ]
    },
    {
     "name": "stderr",
     "output_type": "stream",
     "text": [
      "[*********************100%***********************]  1 of 1 completed\n"
     ]
    },
    {
     "name": "stdout",
     "output_type": "stream",
     "text": [
      "read  504  lines of data for ticker:  XLV\n",
      "XLV Final Value: 1033.2330001405874, Final Money: 1033.2330001405874, Final Shares: 0.0\n"
     ]
    },
    {
     "name": "stderr",
     "output_type": "stream",
     "text": [
      "[*********************100%***********************]  1 of 1 completed\n"
     ]
    },
    {
     "name": "stdout",
     "output_type": "stream",
     "text": [
      "read  4779  lines of data for ticker:  XLY\n"
     ]
    },
    {
     "name": "stderr",
     "output_type": "stream",
     "text": [
      "[*********************100%***********************]  1 of 1 completed\n"
     ]
    },
    {
     "name": "stdout",
     "output_type": "stream",
     "text": [
      "read  504  lines of data for ticker:  XLY\n"
     ]
    },
    {
     "name": "stderr",
     "output_type": "stream",
     "text": [
      "[*********************100%***********************]  1 of 1 completed"
     ]
    },
    {
     "name": "stdout",
     "output_type": "stream",
     "text": [
      "XLY Final Value: 982.4176074756076, Final Money: 116.73174390476291, Final Shares: 5.022836458200434\n"
     ]
    },
    {
     "name": "stderr",
     "output_type": "stream",
     "text": [
      "\n"
     ]
    },
    {
     "name": "stdout",
     "output_type": "stream",
     "text": [
      "read  4779  lines of data for ticker:  XLY\n"
     ]
    },
    {
     "name": "stderr",
     "output_type": "stream",
     "text": [
      "[*********************100%***********************]  1 of 1 completed\n"
     ]
    },
    {
     "name": "stdout",
     "output_type": "stream",
     "text": [
      "read  504  lines of data for ticker:  XLY\n",
      "XLY Final Value: 1196.2200369100763, Final Money: 75.94482583381773, Final Shares: 6.500001224695437\n"
     ]
    },
    {
     "name": "stderr",
     "output_type": "stream",
     "text": [
      "[*********************100%***********************]  1 of 1 completed\n"
     ]
    },
    {
     "name": "stdout",
     "output_type": "stream",
     "text": [
      "read  4779  lines of data for ticker:  XLY\n"
     ]
    },
    {
     "name": "stderr",
     "output_type": "stream",
     "text": [
      "[*********************100%***********************]  1 of 1 completed\n"
     ]
    },
    {
     "name": "stdout",
     "output_type": "stream",
     "text": [
      "read  504  lines of data for ticker:  XLY\n",
      "XLY Final Value: 959.2337478944045, Final Money: 95.10744566544612, Final Shares: 5.013787654360072\n"
     ]
    },
    {
     "name": "stderr",
     "output_type": "stream",
     "text": [
      "[*********************100%***********************]  1 of 1 completed\n"
     ]
    },
    {
     "name": "stdout",
     "output_type": "stream",
     "text": [
      "read  4779  lines of data for ticker:  XLU\n"
     ]
    },
    {
     "name": "stderr",
     "output_type": "stream",
     "text": [
      "[*********************100%***********************]  1 of 1 completed\n"
     ]
    },
    {
     "name": "stdout",
     "output_type": "stream",
     "text": [
      "read  504  lines of data for ticker:  XLU\n"
     ]
    },
    {
     "name": "stderr",
     "output_type": "stream",
     "text": [
      "[*********************100%***********************]  1 of 1 completed"
     ]
    },
    {
     "name": "stdout",
     "output_type": "stream",
     "text": [
      "XLU Final Value: 739.4968124699691, Final Money: 739.4968124699691, Final Shares: 0.0\n"
     ]
    },
    {
     "name": "stderr",
     "output_type": "stream",
     "text": [
      "\n"
     ]
    },
    {
     "name": "stdout",
     "output_type": "stream",
     "text": [
      "read  4779  lines of data for ticker:  XLU\n"
     ]
    },
    {
     "name": "stderr",
     "output_type": "stream",
     "text": [
      "[*********************100%***********************]  1 of 1 completed\n"
     ]
    },
    {
     "name": "stdout",
     "output_type": "stream",
     "text": [
      "read  504  lines of data for ticker:  XLU\n",
      "XLU Final Value: 938.2399947018928, Final Money: 938.2399947018928, Final Shares: 0.0\n"
     ]
    },
    {
     "name": "stderr",
     "output_type": "stream",
     "text": [
      "[*********************100%***********************]  1 of 1 completed\n"
     ]
    },
    {
     "name": "stdout",
     "output_type": "stream",
     "text": [
      "read  4779  lines of data for ticker:  XLU\n"
     ]
    },
    {
     "name": "stderr",
     "output_type": "stream",
     "text": [
      "[*********************100%***********************]  1 of 1 completed\n"
     ]
    },
    {
     "name": "stdout",
     "output_type": "stream",
     "text": [
      "read  504  lines of data for ticker:  XLU\n",
      "XLU Final Value: 900.5588652566316, Final Money: 900.5588652566316, Final Shares: 0.0\n"
     ]
    },
    {
     "name": "stderr",
     "output_type": "stream",
     "text": [
      "[*********************100%***********************]  1 of 1 completed\n"
     ]
    },
    {
     "name": "stdout",
     "output_type": "stream",
     "text": [
      "read  4779  lines of data for ticker:  XLB\n"
     ]
    },
    {
     "name": "stderr",
     "output_type": "stream",
     "text": [
      "[*********************100%***********************]  1 of 1 completed\n"
     ]
    },
    {
     "name": "stdout",
     "output_type": "stream",
     "text": [
      "read  504  lines of data for ticker:  XLB\n"
     ]
    },
    {
     "name": "stderr",
     "output_type": "stream",
     "text": [
      "[*********************100%***********************]  1 of 1 completed"
     ]
    },
    {
     "name": "stdout",
     "output_type": "stream",
     "text": [
      "XLB Final Value: 1053.8338758024674, Final Money: 42.24954431516782, Final Shares: 12.014065694623511\n"
     ]
    },
    {
     "name": "stderr",
     "output_type": "stream",
     "text": [
      "\n"
     ]
    },
    {
     "name": "stdout",
     "output_type": "stream",
     "text": [
      "read  4779  lines of data for ticker:  XLB\n"
     ]
    },
    {
     "name": "stderr",
     "output_type": "stream",
     "text": [
      "[*********************100%***********************]  1 of 1 completed\n"
     ]
    },
    {
     "name": "stdout",
     "output_type": "stream",
     "text": [
      "read  504  lines of data for ticker:  XLB\n",
      "XLB Final Value: 990.5199994740731, Final Money: 990.5199994740731, Final Shares: 0.0\n"
     ]
    },
    {
     "name": "stderr",
     "output_type": "stream",
     "text": [
      "[*********************100%***********************]  1 of 1 completed\n"
     ]
    },
    {
     "name": "stdout",
     "output_type": "stream",
     "text": [
      "read  4779  lines of data for ticker:  XLB\n"
     ]
    },
    {
     "name": "stderr",
     "output_type": "stream",
     "text": [
      "[*********************100%***********************]  1 of 1 completed\n"
     ]
    },
    {
     "name": "stdout",
     "output_type": "stream",
     "text": [
      "read  504  lines of data for ticker:  XLB\n",
      "XLB Final Value: 896.3830238873779, Final Money: 264.7178788511975, Final Shares: 7.501961342472452\n"
     ]
    },
    {
     "name": "stderr",
     "output_type": "stream",
     "text": [
      "[*********************100%***********************]  1 of 1 completed\n"
     ]
    },
    {
     "name": "stdout",
     "output_type": "stream",
     "text": [
      "read  4779  lines of data for ticker:  XLE\n"
     ]
    },
    {
     "name": "stderr",
     "output_type": "stream",
     "text": [
      "[*********************100%***********************]  1 of 1 completed\n"
     ]
    },
    {
     "name": "stdout",
     "output_type": "stream",
     "text": [
      "read  504  lines of data for ticker:  XLE\n"
     ]
    },
    {
     "name": "stderr",
     "output_type": "stream",
     "text": [
      "[*********************100%***********************]  1 of 1 completed"
     ]
    },
    {
     "name": "stdout",
     "output_type": "stream",
     "text": [
      "XLE Final Value: 869.0554033100199, Final Money: 63.78623417736547, Final Shares: 9.51742310758367\n"
     ]
    },
    {
     "name": "stderr",
     "output_type": "stream",
     "text": [
      "\n"
     ]
    },
    {
     "name": "stdout",
     "output_type": "stream",
     "text": [
      "read  4779  lines of data for ticker:  XLE\n"
     ]
    },
    {
     "name": "stderr",
     "output_type": "stream",
     "text": [
      "[*********************100%***********************]  1 of 1 completed\n"
     ]
    },
    {
     "name": "stdout",
     "output_type": "stream",
     "text": [
      "read  504  lines of data for ticker:  XLE\n",
      "XLE Final Value: 934.5149813107035, Final Money: 46.109784019535326, Final Shares: 10.500002331771283\n"
     ]
    },
    {
     "name": "stderr",
     "output_type": "stream",
     "text": [
      "[*********************100%***********************]  1 of 1 completed\n"
     ]
    },
    {
     "name": "stdout",
     "output_type": "stream",
     "text": [
      "read  4779  lines of data for ticker:  XLE\n"
     ]
    },
    {
     "name": "stderr",
     "output_type": "stream",
     "text": [
      "[*********************100%***********************]  1 of 1 completed\n"
     ]
    },
    {
     "name": "stdout",
     "output_type": "stream",
     "text": [
      "read  504  lines of data for ticker:  XLE\n",
      "XLE Final Value: 1010.0494466154096, Final Money: 79.0113383533193, Final Shares: 11.003877889872241\n"
     ]
    },
    {
     "name": "stderr",
     "output_type": "stream",
     "text": [
      "[*********************100%***********************]  1 of 1 completed\n"
     ]
    },
    {
     "name": "stdout",
     "output_type": "stream",
     "text": [
      "read  4779  lines of data for ticker:  XLF\n"
     ]
    },
    {
     "name": "stderr",
     "output_type": "stream",
     "text": [
      "[*********************100%***********************]  1 of 1 completed\n"
     ]
    },
    {
     "name": "stdout",
     "output_type": "stream",
     "text": [
      "read  504  lines of data for ticker:  XLF\n"
     ]
    },
    {
     "name": "stderr",
     "output_type": "stream",
     "text": [
      "[*********************100%***********************]  1 of 1 completed"
     ]
    },
    {
     "name": "stdout",
     "output_type": "stream",
     "text": [
      "XLF Final Value: 848.9147037623425, Final Money: 21.529904053155082, Final Shares: 22.01076881375864\n"
     ]
    },
    {
     "name": "stderr",
     "output_type": "stream",
     "text": [
      "\n"
     ]
    },
    {
     "name": "stdout",
     "output_type": "stream",
     "text": [
      "read  4779  lines of data for ticker:  XLF\n"
     ]
    },
    {
     "name": "stderr",
     "output_type": "stream",
     "text": [
      "[*********************100%***********************]  1 of 1 completed\n"
     ]
    },
    {
     "name": "stdout",
     "output_type": "stream",
     "text": [
      "read  504  lines of data for ticker:  XLF\n",
      "XLF Final Value: 1000.0, Final Money: 1000.0, Final Shares: 0.0\n"
     ]
    },
    {
     "name": "stderr",
     "output_type": "stream",
     "text": [
      "[*********************100%***********************]  1 of 1 completed\n"
     ]
    },
    {
     "name": "stdout",
     "output_type": "stream",
     "text": [
      "read  4779  lines of data for ticker:  XLF\n"
     ]
    },
    {
     "name": "stderr",
     "output_type": "stream",
     "text": [
      "[*********************100%***********************]  1 of 1 completed\n"
     ]
    },
    {
     "name": "stdout",
     "output_type": "stream",
     "text": [
      "read  504  lines of data for ticker:  XLF\n",
      "XLF Final Value: 726.6761758437835, Final Money: 726.6761758437835, Final Shares: 0.0\n"
     ]
    },
    {
     "name": "stderr",
     "output_type": "stream",
     "text": [
      "[*********************100%***********************]  1 of 1 completed\n"
     ]
    },
    {
     "name": "stdout",
     "output_type": "stream",
     "text": [
      "read  4779  lines of data for ticker:  XLI\n"
     ]
    },
    {
     "name": "stderr",
     "output_type": "stream",
     "text": [
      "[*********************100%***********************]  1 of 1 completed\n"
     ]
    },
    {
     "name": "stdout",
     "output_type": "stream",
     "text": [
      "read  504  lines of data for ticker:  XLI\n"
     ]
    },
    {
     "name": "stderr",
     "output_type": "stream",
     "text": [
      "[*********************100%***********************]  1 of 1 completed"
     ]
    },
    {
     "name": "stdout",
     "output_type": "stream",
     "text": [
      "XLI Final Value: 1029.4254973114275, Final Money: 82.72036807573659, Final Shares: 8.505886156654904\n"
     ]
    },
    {
     "name": "stderr",
     "output_type": "stream",
     "text": [
      "\n"
     ]
    },
    {
     "name": "stdout",
     "output_type": "stream",
     "text": [
      "read  4779  lines of data for ticker:  XLI\n"
     ]
    },
    {
     "name": "stderr",
     "output_type": "stream",
     "text": [
      "[*********************100%***********************]  1 of 1 completed\n"
     ]
    },
    {
     "name": "stdout",
     "output_type": "stream",
     "text": [
      "read  504  lines of data for ticker:  XLI\n"
     ]
    }
   ],
   "source": [
    "num=10000\n",
    "for file in os.listdir():\n",
    "    if \"runtest\" in file:\n",
    "        num+=1\n",
    "os.mkdir(f'../output/runtest_{num}')\n",
    "for d,(start,end,start_t,end_t) in enumerate(date_list):\n",
    "    os.mkdir(f'../output/runtest_{num}/date_config{d}')\n",
    "    for model_type in models:\n",
    "        os.mkdir(f'../output/runtest_{num}/date_config{d}/{model_type}')\n",
    "        root = f'../output/runtest_{num}/date_config{d}/{model_type}'\n",
    "        with open(os.path.join(root,'run_data.txt'),'w') as f:\n",
    "            f.write(f'Start Training Date: {start} \\n End Training Date: {end} \\n Start Sim Date: {start_t} \\n End Sim Date: {end_t} \\n')\n",
    "            f.write(f'\\n Model Type: {model_type}')\n",
    "            f.write(f'Look-back window: {T} days')\n",
    "\n",
    "        for etf in etfs:\n",
    "            os.mkdir(f'{root}/{etf}')\n",
    "        for lr in lrs:\n",
    "            results = pd.DataFrame({\"ETF\":[],\"Metric\":[],\"Final_Value\":[],\"Passive_Potential\":[],\"Relative_MSE\":[],\"MAPE\":[]})\n",
    "            money_df_std = pd.DataFrame()\n",
    "            money_df_atr = pd.DataFrame()\n",
    "            money_df_sd_prices = pd.DataFrame()\n",
    "            money_df_passive = pd.DataFrame()\n",
    "            for j,etf in enumerate(etfs):\n",
    "                fig,ax = plt.subplots(1,len(metrics),figsize=(26,6))\n",
    "                for i,metric in enumerate(metrics):\n",
    "                    scaler = StandardScaler()\n",
    "                    scaler_x = StandardScaler()\n",
    "                    df = get_cleaned_df(etf,start,end)\n",
    "                    #print(df)\n",
    "                    model,fig_tr,fig_te = get_trained_model(df,scaler, scaler_x, metric=metric,model_type=model_type)\n",
    "                    fig_tr.savefig(os.path.join(root,etf,f'training_results_{metric}'))\n",
    "                    fig_te.savefig(os.path.join(root,etf,f'testing_results_{metric}'))\n",
    "                    df_test = get_cleaned_df(etf,start_t,end_t)\n",
    "                    ini_cash = 10000\n",
    "                    final_value, money, shares,passive_value,buy_points,sell_points,preds, t_money,p_money = backtest_strategy(df_test,model,scaler,scaler_x,metric,sell_scale=1,buy_scale=1)\n",
    "                    print(f\"{etf} Final Value: {final_value}, Final Money: {money}, Final Shares: {shares}\")\n",
    "                    \n",
    "                    if metric==\"ATR\":\n",
    "                        money_df_atr[etf] = t_money\n",
    "                    elif metric==\"Squared_Returns\":\n",
    "                        money_df_std[etf] = t_money\n",
    "                        money_df_passive[f\"{etf}_Passive\"] = p_money\n",
    "                    elif metric == \"SD_Prices\":\n",
    "                        money_df_sd_prices[etf] = t_money\n",
    "\n",
    "                    real_met = np.array(df_test[metric].iloc[T:len(df_test)-1])\n",
    "                    null_model_error = np.sum((real_met-real_met.mean())**2)\n",
    "                    mse_error = 1/len(real_met) * np.sum((real_met-preds)**2)/np.mean(real_met)\n",
    "                    mape_error = 1/len(real_met) * np.sum(abs(real_met-preds)/(real_met+1e-7))\n",
    "                    results.loc[len(results)] = [etf,metric,final_value,passive_value,mse_error,mape_error]\n",
    "\n",
    "                    sns.lineplot(preds,ax=ax[i],label=f\"Prediction {metric}\",color=\"Blue\")\n",
    "                    sns.lineplot(real_met,ax=ax[i],label = f\"True {metric}\",color=\"Orange\")\n",
    "                    #for buy in buy_points:\n",
    "                        #ax[i].axvline(buy,color=\"Green\",alpha=.6)\n",
    "                    #for sell in sell_points:\n",
    "                        #ax[i].axvline(sell,color=\"Red\",alpha=.6)\n",
    "                    ax[i].set_title(f\"{etf} - {metric} | Total MSE Error {mse_error:.6f} | Total MAPE Error: {mape_error:.3f}\")\n",
    "                    #plt.title(f\"Performance of LSTM on {etf}\")\n",
    "                    fig.tight_layout()\n",
    "                    fig.savefig(os.path.join(root,etf,'predictions_lr_{lr}.png'))\n",
    "                fig_sim,ax_sim = plt.subplots(figsize=(10,3))\n",
    "                sns.lineplot(x=range(0, len(df_test.index)-(T+1)), y=money_df_atr[etf], label=\"ATR\",ax=ax_sim)\n",
    "                sns.lineplot(x=range(0,len(df_test.index)-(T+1)),y=money_df_std[etf],label=\"STD\",ax=ax_sim)\n",
    "                sns.lineplot(x=range(0,len(df_test.index)-(T+1)),y=money_df_sd_prices[etf],label=\"SD_Prices\",ax=ax_sim)\n",
    "                sns.lineplot(x=range(0,len(df_test.index)-(T+1)),y=money_df_passive[f\"{etf}_Passive\"],label=\"Passive\",ax=ax_sim)\n",
    "                ax_sim.axhline(1000, label = \"Initial\",color=\"Black\")\n",
    "                ax_sim.set_title(f\"ETF Performance Over Time for {etf}\")\n",
    "                fig_sim.savefig(os.path.join(root,etf,'simulation_perf_lr_{lr}'))\n",
    "            fig2,ax2 = plt.subplots(figsize = (8,6))\n",
    "            sns.barplot(data=results,x=\"ETF\",y=\"Final_Value\",hue=\"Metric\",ax=ax2)    \n",
    "            plt.legend(loc=(1.1,1))\n",
    "            fig2.tight_layout()\n",
    "            fig2.savefig(os.path.join(root,'return_metrics_lr_{lr}.png'))\n",
    "            results.to_csv(os.path.join(root,'overall_results.csv'),index=False)\n"
   ]
  },
  {
   "cell_type": "code",
   "execution_count": 15,
   "id": "aa29a250",
   "metadata": {},
   "outputs": [
    {
     "data": {
      "text/plain": [
       "['get_stock_data.ipynb',\n",
       " 'predictions_lr_0.05.png',\n",
       " 'predictions_lr_0.png',\n",
       " 'sim.ipynb',\n",
       " 'predictions_lr_0.01.png',\n",
       " 'read_stock_data_from_file.py',\n",
       " 'testing.ipynb',\n",
       " 'predictions_lr_0.125.png',\n",
       " '__pycache__',\n",
       " 'full_sim_tests.ipynb',\n",
       " 'predictions.png',\n",
       " 'all_etfs_sim.png',\n",
       " 'predictions_lr_0.5.png',\n",
       " 'Clean_Data.csv',\n",
       " 'utils.py',\n",
       " 'predictions_lr_0.0.png',\n",
       " 'TSLA.csv',\n",
       " 'predictions_lr_0.1.png',\n",
       " 'SPY.csv',\n",
       " 'planning.txt',\n",
       " 'return_metrics.png',\n",
       " 'predictions_lr_0.25.png',\n",
       " 'predictions_lr_0.375.png',\n",
       " 'read_and_save_stock_data.py']"
      ]
     },
     "execution_count": 15,
     "metadata": {},
     "output_type": "execute_result"
    }
   ],
   "source": [
    "os.listdir()"
   ]
  },
  {
   "cell_type": "code",
   "execution_count": 17,
   "id": "d98e91eb",
   "metadata": {},
   "outputs": [
    {
     "name": "stdout",
     "output_type": "stream",
     "text": [
      "32 Metric\n",
      "ATR                0.830029\n",
      "Squared_Returns    0.895952\n",
      "Name: Relative_MSE, dtype: float64\n",
      "33 Metric\n",
      "ATR                0.771406\n",
      "Squared_Returns    0.628715\n",
      "Name: Relative_MSE, dtype: float64\n",
      "34 Metric\n",
      "ATR                0.799177\n",
      "Squared_Returns    0.824391\n",
      "Name: Relative_MSE, dtype: float64\n",
      "35 Metric\n",
      "ATR                0.724802\n",
      "Squared_Returns    0.823542\n",
      "Name: Relative_MSE, dtype: float64\n",
      "36 Metric\n",
      "ATR                0.794125\n",
      "Squared_Returns    0.964812\n",
      "Name: Relative_MSE, dtype: float64\n",
      "37 Metric\n",
      "ATR                0.680897\n",
      "Squared_Returns    0.544277\n",
      "Name: Relative_MSE, dtype: float64\n",
      "38 Metric\n",
      "ATR                0.751495\n",
      "Squared_Returns    0.594292\n",
      "Name: Relative_MSE, dtype: float64\n",
      "39 Metric\n",
      "ATR                0.628070\n",
      "Squared_Returns    0.565187\n",
      "Name: Relative_MSE, dtype: float64\n",
      "40 Metric\n",
      "ATR                0.751546\n",
      "Squared_Returns    0.677466\n",
      "Name: Relative_MSE, dtype: float64\n"
     ]
    }
   ],
   "source": [
    "for i in range(32,41):\n",
    "    df = pd.read_csv(f'runtest_{i}/overall_results.csv')\n",
    "    print(i,df.groupby('Metric')['Relative_MSE'].mean())"
   ]
  },
  {
   "cell_type": "code",
   "execution_count": 14,
   "id": "d2be5dc6",
   "metadata": {},
   "outputs": [
    {
     "data": {
      "text/plain": [
       "'/project/rise-portfolio/lstm-atr-prediction/stock-data'"
      ]
     },
     "execution_count": 14,
     "metadata": {},
     "output_type": "execute_result"
    }
   ],
   "source": [
    "os.getcwd()"
   ]
  },
  {
   "cell_type": "code",
   "execution_count": null,
   "id": "1056d21b",
   "metadata": {},
   "outputs": [],
   "source": []
  },
  {
   "cell_type": "code",
   "execution_count": null,
   "id": "691e3250",
   "metadata": {},
   "outputs": [],
   "source": []
  },
  {
   "cell_type": "code",
   "execution_count": null,
   "id": "af9ae0c3",
   "metadata": {},
   "outputs": [],
   "source": []
  },
  {
   "cell_type": "code",
   "execution_count": 18,
   "id": "293f7da3",
   "metadata": {},
   "outputs": [
    {
     "name": "stdout",
     "output_type": "stream",
     "text": [
      "Runtest:  runtest_105 Mean MSE over all sectors:  Metric\n",
      "ATR                0.681602\n",
      "Squared_Returns    1.110356\n",
      "Name: Relative_MSE, dtype: float64\n",
      "Runtest:  runtest_rnn_no_index Mean MSE over all sectors:  Metric\n",
      "ATR                0.577091\n",
      "Squared_Returns    0.518700\n",
      "Name: Relative_MSE, dtype: float64\n",
      "Runtest:  runtest_rnn_scaled_feats Mean MSE over all sectors:  Metric\n",
      "ATR                0.546472\n",
      "Squared_Returns    0.981297\n",
      "Name: Relative_MSE, dtype: float64\n",
      "Runtest:  runtest_104 Mean MSE over all sectors:  Metric\n",
      "ATR                0.632142\n",
      "Squared_Returns    1.119568\n",
      "Name: Relative_MSE, dtype: float64\n",
      "Runtest:  runtest_106 Mean MSE over all sectors:  Metric\n",
      "ATR                0.692127\n",
      "Squared_Returns    1.005954\n",
      "Name: Relative_MSE, dtype: float64\n"
     ]
    }
   ],
   "source": [
    "folders = [dir for dir in os.listdir() if \"runtest\" in dir]\n",
    "for folder in folders:\n",
    "    overall_results = pd.read_csv(f'./{folder}/overall_results.csv')\n",
    "    print(\"Runtest: \",folder,\"Mean MSE over all sectors: \",overall_results.groupby(\"Metric\")[\"Relative_MSE\"].mean(numeric_only=True))"
   ]
  },
  {
   "cell_type": "code",
   "execution_count": 14,
   "id": "4c594aff",
   "metadata": {},
   "outputs": [
    {
     "data": {
      "text/html": [
       "<div>\n",
       "<style scoped>\n",
       "    .dataframe tbody tr th:only-of-type {\n",
       "        vertical-align: middle;\n",
       "    }\n",
       "\n",
       "    .dataframe tbody tr th {\n",
       "        vertical-align: top;\n",
       "    }\n",
       "\n",
       "    .dataframe thead th {\n",
       "        text-align: right;\n",
       "    }\n",
       "</style>\n",
       "<table border=\"1\" class=\"dataframe\">\n",
       "  <thead>\n",
       "    <tr style=\"text-align: right;\">\n",
       "      <th></th>\n",
       "      <th>ETF</th>\n",
       "      <th>Metric</th>\n",
       "      <th>Final_Value</th>\n",
       "      <th>Passive_Potential</th>\n",
       "      <th>Relative_MSE</th>\n",
       "    </tr>\n",
       "  </thead>\n",
       "  <tbody>\n",
       "    <tr>\n",
       "      <th>0</th>\n",
       "      <td>XLB</td>\n",
       "      <td>ATR</td>\n",
       "      <td>1051.459404</td>\n",
       "      <td>1030.095425</td>\n",
       "      <td>0.986951</td>\n",
       "    </tr>\n",
       "    <tr>\n",
       "      <th>1</th>\n",
       "      <td>XLB</td>\n",
       "      <td>Squared_Returns</td>\n",
       "      <td>1000.000000</td>\n",
       "      <td>1030.095425</td>\n",
       "      <td>0.573459</td>\n",
       "    </tr>\n",
       "    <tr>\n",
       "      <th>2</th>\n",
       "      <td>XLE</td>\n",
       "      <td>ATR</td>\n",
       "      <td>861.108548</td>\n",
       "      <td>1257.954208</td>\n",
       "      <td>0.049186</td>\n",
       "    </tr>\n",
       "    <tr>\n",
       "      <th>3</th>\n",
       "      <td>XLE</td>\n",
       "      <td>Squared_Returns</td>\n",
       "      <td>854.374963</td>\n",
       "      <td>1257.954208</td>\n",
       "      <td>0.219141</td>\n",
       "    </tr>\n",
       "    <tr>\n",
       "      <th>4</th>\n",
       "      <td>XLF</td>\n",
       "      <td>ATR</td>\n",
       "      <td>837.852820</td>\n",
       "      <td>985.837923</td>\n",
       "      <td>0.074326</td>\n",
       "    </tr>\n",
       "    <tr>\n",
       "      <th>5</th>\n",
       "      <td>XLF</td>\n",
       "      <td>Squared_Returns</td>\n",
       "      <td>968.250000</td>\n",
       "      <td>985.837923</td>\n",
       "      <td>0.333424</td>\n",
       "    </tr>\n",
       "    <tr>\n",
       "      <th>6</th>\n",
       "      <td>XLI</td>\n",
       "      <td>ATR</td>\n",
       "      <td>1097.155597</td>\n",
       "      <td>1146.831530</td>\n",
       "      <td>1.298836</td>\n",
       "    </tr>\n",
       "    <tr>\n",
       "      <th>7</th>\n",
       "      <td>XLI</td>\n",
       "      <td>Squared_Returns</td>\n",
       "      <td>1000.000000</td>\n",
       "      <td>1146.831530</td>\n",
       "      <td>4.525363</td>\n",
       "    </tr>\n",
       "    <tr>\n",
       "      <th>8</th>\n",
       "      <td>XLP</td>\n",
       "      <td>ATR</td>\n",
       "      <td>966.546078</td>\n",
       "      <td>975.665810</td>\n",
       "      <td>0.566123</td>\n",
       "    </tr>\n",
       "    <tr>\n",
       "      <th>9</th>\n",
       "      <td>XLP</td>\n",
       "      <td>Squared_Returns</td>\n",
       "      <td>1000.000000</td>\n",
       "      <td>975.665810</td>\n",
       "      <td>0.406951</td>\n",
       "    </tr>\n",
       "    <tr>\n",
       "      <th>10</th>\n",
       "      <td>XLV</td>\n",
       "      <td>ATR</td>\n",
       "      <td>995.726737</td>\n",
       "      <td>1090.966074</td>\n",
       "      <td>0.582549</td>\n",
       "    </tr>\n",
       "    <tr>\n",
       "      <th>11</th>\n",
       "      <td>XLV</td>\n",
       "      <td>Squared_Returns</td>\n",
       "      <td>974.849998</td>\n",
       "      <td>1090.966074</td>\n",
       "      <td>0.901034</td>\n",
       "    </tr>\n",
       "    <tr>\n",
       "      <th>12</th>\n",
       "      <td>XLY</td>\n",
       "      <td>ATR</td>\n",
       "      <td>982.406733</td>\n",
       "      <td>994.575567</td>\n",
       "      <td>1.367507</td>\n",
       "    </tr>\n",
       "    <tr>\n",
       "      <th>13</th>\n",
       "      <td>XLY</td>\n",
       "      <td>Squared_Returns</td>\n",
       "      <td>978.749996</td>\n",
       "      <td>994.575567</td>\n",
       "      <td>0.667287</td>\n",
       "    </tr>\n",
       "    <tr>\n",
       "      <th>14</th>\n",
       "      <td>XLU</td>\n",
       "      <td>ATR</td>\n",
       "      <td>751.585052</td>\n",
       "      <td>972.176017</td>\n",
       "      <td>0.611537</td>\n",
       "    </tr>\n",
       "    <tr>\n",
       "      <th>15</th>\n",
       "      <td>XLU</td>\n",
       "      <td>Squared_Returns</td>\n",
       "      <td>998.100000</td>\n",
       "      <td>972.176017</td>\n",
       "      <td>0.420974</td>\n",
       "    </tr>\n",
       "  </tbody>\n",
       "</table>\n",
       "</div>"
      ],
      "text/plain": [
       "    ETF           Metric  Final_Value  Passive_Potential  Relative_MSE\n",
       "0   XLB              ATR  1051.459404        1030.095425      0.986951\n",
       "1   XLB  Squared_Returns  1000.000000        1030.095425      0.573459\n",
       "2   XLE              ATR   861.108548        1257.954208      0.049186\n",
       "3   XLE  Squared_Returns   854.374963        1257.954208      0.219141\n",
       "4   XLF              ATR   837.852820         985.837923      0.074326\n",
       "5   XLF  Squared_Returns   968.250000         985.837923      0.333424\n",
       "6   XLI              ATR  1097.155597        1146.831530      1.298836\n",
       "7   XLI  Squared_Returns  1000.000000        1146.831530      4.525363\n",
       "8   XLP              ATR   966.546078         975.665810      0.566123\n",
       "9   XLP  Squared_Returns  1000.000000         975.665810      0.406951\n",
       "10  XLV              ATR   995.726737        1090.966074      0.582549\n",
       "11  XLV  Squared_Returns   974.849998        1090.966074      0.901034\n",
       "12  XLY              ATR   982.406733         994.575567      1.367507\n",
       "13  XLY  Squared_Returns   978.749996         994.575567      0.667287\n",
       "14  XLU              ATR   751.585052         972.176017      0.611537\n",
       "15  XLU  Squared_Returns   998.100000         972.176017      0.420974"
      ]
     },
     "execution_count": 14,
     "metadata": {},
     "output_type": "execute_result"
    }
   ],
   "source": [
    "overall_results"
   ]
  },
  {
   "cell_type": "code",
   "execution_count": null,
   "id": "da3a0e2f",
   "metadata": {},
   "outputs": [],
   "source": []
  },
  {
   "cell_type": "code",
   "execution_count": null,
   "id": "6569d81e",
   "metadata": {},
   "outputs": [],
   "source": []
  }
 ],
 "metadata": {
  "kernelspec": {
   "display_name": "Python 3",
   "language": "python",
   "name": "python3"
  },
  "language_info": {
   "codemirror_mode": {
    "name": "ipython",
    "version": 3
   },
   "file_extension": ".py",
   "mimetype": "text/x-python",
   "name": "python",
   "nbconvert_exporter": "python",
   "pygments_lexer": "ipython3",
   "version": "3.12.4"
  }
 },
 "nbformat": 4,
 "nbformat_minor": 5
}
