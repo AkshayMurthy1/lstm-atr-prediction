{
 "cells": [
  {
   "cell_type": "code",
   "execution_count": 1,
   "id": "f3dd4010",
   "metadata": {},
   "outputs": [],
   "source": [
    "import torch\n",
    "from torch.nn import *\n",
    "import torch.nn.functional as F\n",
    "from pandas_datareader import data as web\n",
    "import os\n",
    "import pandas as pd\n",
    "import yfinance as yf\n",
    "import matplotlib.pyplot as plt\n",
    "import seaborn as sns\n",
    "from torch.utils.data import DataLoader, TensorDataset\n",
    "from sklearn.preprocessing import StandardScaler\n",
    "import numpy as np\n",
    "import warnings\n",
    "warnings.filterwarnings(\"ignore\")\n",
    "from diebold_mariano import diebold_mariano_test"
   ]
  },
  {
   "cell_type": "code",
   "execution_count": 2,
   "id": "e1dfba1e",
   "metadata": {},
   "outputs": [
    {
     "name": "stdout",
     "output_type": "stream",
     "text": [
      "DEVICE:  cuda\n"
     ]
    }
   ],
   "source": [
    "from utils import *"
   ]
  },
  {
   "cell_type": "code",
   "execution_count": 3,
   "id": "3414ddb9",
   "metadata": {},
   "outputs": [],
   "source": [
    "T=30"
   ]
  },
  {
   "cell_type": "code",
   "execution_count": 4,
   "id": "0cff2509",
   "metadata": {},
   "outputs": [],
   "source": [
    "import os\n",
    "import seaborn as sns\n",
    "import matplotlib.pyplot as plt\n",
    "import pandas as pd\n",
    "import matplotlib\n",
    "\n",
    "# Set consistent style for publication-quality plots\n",
    "sns.set(style=\"whitegrid\", context=\"talk\", palette=\"colorblind\")\n",
    "matplotlib.rcParams.update({\n",
    "    \"axes.titlesize\": 14,\n",
    "    \"axes.labelsize\": 12,\n",
    "    \"xtick.labelsize\": 10,\n",
    "    \"ytick.labelsize\": 10,\n",
    "    \"legend.fontsize\": 10,\n",
    "    \"legend.frameon\": True,\n",
    "    \"axes.titleweight\": \"bold\"\n",
    "})\n",
    "\n",
    "def customize_ax(ax, title=None, xlabel=None, ylabel=None):\n",
    "    if title:\n",
    "        ax.set_title(title, fontsize=14, fontweight=\"bold\")\n",
    "    if xlabel:\n",
    "        ax.set_xlabel(xlabel, fontsize=12)\n",
    "    if ylabel:\n",
    "        ax.set_ylabel(ylabel, fontsize=12)\n",
    "    ax.tick_params(axis='both', which='major', labelsize=10)\n",
    "    ax.grid(True)\n",
    "    if ax.get_legend():\n",
    "        ax.legend(fontsize=10, frameon=True)\n",
    "\n",
    "# Insert your original loop code here afterward, using customize_ax() and matplotlib.rcParams updates\n",
    "# on all relevant plots to ensure publication-quality formatting.\n"
   ]
  },
  {
   "cell_type": "code",
   "execution_count": 5,
   "id": "bc47382c",
   "metadata": {},
   "outputs": [],
   "source": [
    "etfs = ['XLB','XLE','XLF','XLI','XLK','XLP','XLV','XLY','XLU']\n",
    "metric2 = \"SD_Squared_Returns\"\n",
    "metric3 = \"SD_Prices\"\n",
    "metric4 = \"IQR\"\n",
    "metrics = [\"ATR\",metric2,metric3,metric4]\n",
    "# start = '2001-01-01'\n",
    "# end = '2020-01-01'\n",
    "# start_t = '2022-01-02'\n",
    "# end_t = '2024-01-05'\n",
    "date_list = [['2023-01-05', '2024-01-05', \"2024-01-05\", \"2025-01-05\"], ['2019-01-05', '2024-01-05', \"2024-01-05\", \"2025-01-05\"], ['2014-01-05', \"2024-01-05\", \"2024-01-05\", \"2025-01-05\"], ['2004-01-05', '2024-01-05', \"2024-01-05\", \"2025-01-05\"], ['1994-01-05', '2024-01-05', \"2024-01-05\", \"2025-01-05\"]]\n",
    "starts,ends = np.array([(f'200{i}-01-01',f'200{i+12}-01-01') for i in range(0,12,4)]).T\n",
    "models = {}\n",
    "lrs = [0]\n",
    "h1 = 50\n",
    "h2 = 50\n",
    "hl1s = [20,50,70,100]\n",
    "hl1s = [20,50,70,100]\n",
    "models = [\"LSTM\",\"RNN\"]\n",
    "b_types = ['ATR' ,'STD']\n",
    "lr = 0\n",
    "feat_combos = [['Open','Close','High','Low','Volume','Return','Short_MA','Long_MA'],['Open','Close','High','Low','Volume'],['index','Open','Close','High','Low','Volume']]"
   ]
  },
  {
   "cell_type": "code",
   "execution_count": null,
   "id": "24786877",
   "metadata": {},
   "outputs": [
    {
     "name": "stderr",
     "output_type": "stream",
     "text": [
      "[*********************100%***********************]  1 of 1 completed\n"
     ]
    },
    {
     "name": "stdout",
     "output_type": "stream",
     "text": [
      "read  4779  lines of data for ticker:  XLB\n"
     ]
    },
    {
     "name": "stderr",
     "output_type": "stream",
     "text": [
      "[*********************100%***********************]  1 of 1 completed\n"
     ]
    },
    {
     "name": "stdout",
     "output_type": "stream",
     "text": [
      "read  504  lines of data for ticker:  XLB\n",
      "On the 30th day, Bought 5.9283851078966086 shares for $500.0\n",
      "On the 47th day, Bought 5.749770009199632 shares for $499.99999999999994\n",
      "On the 48th day, Bought 0 shares for $0.0\n",
      "On the 49th day, Bought 0 shares for $0.0\n",
      "On the 50th day, Bought 0 shares for $0.0\n",
      "On the 51th day, Bought 0 shares for $0.0\n",
      "On the 52th day, Bought 0 shares for $0.0\n",
      "On the 53th day, Bought 0 shares for $0.0\n",
      "On the 54th day, Bought 0 shares for $0.0\n",
      "On the 72th day, sold 11.67815511709624 shares for $997.5480101023609\n",
      "On the 99th day, Bought 5.7149388501543035 shares for $500.0\n",
      "On the 100th day, Bought 4 shares for $352.48\n",
      "On the 101th day, Bought 1 shares for $86.29\n",
      "On the 102th day, Bought 0 shares for $0.0\n",
      "On the 134th day, Bought 0 shares for $0.0\n",
      "On the 136th day, Bought 0 shares for $0.0\n",
      "On the 137th day, Bought 0 shares for $0.0\n",
      "On the 159th day, sold 10.714938850154304 shares for $808.0135386901361\n",
      "On the 200th day, Bought 6.688963210702341 shares for $500.0\n",
      "On the 201th day, Bought 4 shares for $296.32\n",
      "On the 202th day, Bought 0 shares for $0.0\n",
      "On the 203th day, Bought 0 shares for $0.0\n",
      "On the 204th day, Bought 0 shares for $0.0\n",
      "On the 217th day, Bought 0 shares for $0.0\n",
      "On the 218th day, Bought 0 shares for $0.0\n",
      "On the 219th day, Bought 0 shares for $0.0\n",
      "On the 220th day, Bought 0 shares for $0.0\n",
      "On the 221th day, Bought 0 shares for $0.0\n",
      "On the 222th day, Bought 0 shares for $0.0\n",
      "On the 290th day, sold 10.68896321070234 shares for $835.663143812709\n",
      "On the 309th day, Bought 6.2790405626020345 shares for $500.0\n",
      "On the 378th day, Bought 4 shares for $335.96\n",
      "On the 379th day, Bought 0 shares for $0.0\n",
      "On the 380th day, Bought 0 shares for $0.0\n",
      "On the 381th day, Bought 0 shares for $0.0\n",
      "On the 382th day, Bought 0 shares for $0.0\n",
      "On the 383th day, Bought 0 shares for $0.0\n",
      "On the 424th day, sold 10.279040562602034 shares for $806.3907321361296\n",
      "On the 455th day, Bought 6.345982992765579 shares for $500.00000000000006\n",
      "On the 469th day, Bought 4 shares for $324.48\n",
      "On the 470th day, Bought 0 shares for $0.0\n",
      "On the 471th day, Bought 0 shares for $0.0\n",
      "On the 472th day, Bought 0 shares for $0.0\n",
      "On the 473th day, Bought 0 shares for $0.0\n",
      "XLB Final Value: 923.2171927321974, Final Money: 52.085424741335544, Final Shares: 10.34598299276558\n"
     ]
    },
    {
     "name": "stderr",
     "output_type": "stream",
     "text": [
      "[*********************100%***********************]  1 of 1 completed\n"
     ]
    },
    {
     "name": "stdout",
     "output_type": "stream",
     "text": [
      "read  4779  lines of data for ticker:  XLB\n"
     ]
    },
    {
     "name": "stderr",
     "output_type": "stream",
     "text": [
      "[*********************100%***********************]  1 of 1 completed\n"
     ]
    },
    {
     "name": "stdout",
     "output_type": "stream",
     "text": [
      "read  504  lines of data for ticker:  XLB\n",
      "On the 44th day, Bought 5.842486562280907 shares for $500.00000000000006\n",
      "On the 45th day, Bought 4 shares for $344.4\n",
      "On the 46th day, Bought 1 shares for $86.49\n",
      "On the 47th day, Bought 0 shares for $0.0\n",
      "On the 48th day, Bought 0 shares for $0.0\n",
      "On the 49th day, Bought 0 shares for $0.0\n",
      "On the 50th day, Bought 0 shares for $0.0\n",
      "On the 51th day, Bought 0 shares for $0.0\n",
      "On the 52th day, Bought 0 shares for $0.0\n",
      "On the 71th day, sold 10.842486562280907 shares for $912.7205188128069\n",
      "On the 121th day, Bought 6.847439057792386 shares for $499.99999999999994\n",
      "On the 122th day, Bought 5 shares for $364.09999999999997\n",
      "On the 123th day, Bought 1 shares for $72.68\n",
      "On the 144th day, Bought 0 shares for $0.0\n",
      "On the 157th day, sold 12.847439057792386 shares for $997.218219665845\n",
      "On the 217th day, Bought 6.091617933723197 shares for $500.0\n",
      "On the 218th day, Bought 6.067961165048543 shares for $500.0\n",
      "On the 219th day, Bought 0 shares for $0.0\n",
      "On the 220th day, Bought 0 shares for $0.0\n",
      "On the 248th day, sold 12.15957909877174 shares for $983.4667575086582\n",
      "On the 262th day, Bought 6.036460219727152 shares for $500.0\n",
      "On the 263th day, Bought 5.9066745422327225 shares for $500.0\n",
      "On the 285th day, Bought 0 shares for $0.0\n",
      "On the 286th day, Bought 0 shares for $0.0\n",
      "On the 289th day, sold 11.943134761959875 shares for $954.0176047853548\n",
      "On the 377th day, Bought 5.999520038396928 shares for $500.0\n",
      "On the 378th day, Bought 4 shares for $335.96\n",
      "On the 379th day, Bought 1 shares for $83.54\n",
      "On the 380th day, Bought 0 shares for $0.0\n",
      "On the 381th day, Bought 0 shares for $0.0\n",
      "On the 382th day, Bought 0 shares for $0.0\n",
      "On the 383th day, Bought 0 shares for $0.0\n",
      "On the 406th day, Bought 0 shares for $0.0\n",
      "On the 407th day, Bought 0 shares for $0.0\n",
      "On the 408th day, Bought 0 shares for $0.0\n",
      "On the 413th day, sold 10.999520038396927 shares for $902.9505999520038\n",
      "On the 456th day, Bought 6.377551020408163 shares for $500.0\n"
     ]
    },
    {
     "name": "stderr",
     "output_type": "stream",
     "text": [
      "[*********************100%***********************]  1 of 1 completed"
     ]
    },
    {
     "name": "stdout",
     "output_type": "stream",
     "text": [
      "On the 470th day, Bought 5 shares for $405.09999999999997\n",
      "On the 471th day, Bought 0 shares for $0.0\n",
      "On the 472th day, Bought 0 shares for $0.0\n",
      "On the 473th day, Bought 0 shares for $0.0\n",
      "On the 474th day, Bought 0 shares for $0.0\n",
      "XLB Final Value: 1016.0934966430364, Final Money: 58.103700724668954, Final Shares: 11.377551020408163\n",
      "read  4779  lines of data for ticker:  XLB\n"
     ]
    },
    {
     "name": "stderr",
     "output_type": "stream",
     "text": [
      "\n",
      "[*********************100%***********************]  1 of 1 completed\n"
     ]
    },
    {
     "name": "stdout",
     "output_type": "stream",
     "text": [
      "read  504  lines of data for ticker:  XLB\n",
      "On the 54th day, Bought 5.672149744753261 shares for $500.0\n",
      "On the 55th day, Bought 4 shares for $356.32\n",
      "On the 56th day, Bought 1 shares for $89.1\n",
      "On the 57th day, Bought 0 shares for $0.0\n",
      "On the 58th day, Bought 0 shares for $0.0\n",
      "On the 61th day, Bought 0 shares for $0.0\n",
      "On the 70th day, sold 10.672149744753261 shares for $912.4688031764039\n",
      "On the 144th day, Bought 6.30119722747322 shares for $499.99999999999994\n",
      "On the 147th day, sold 6.30119722747322 shares for $510.8380592312539\n",
      "On the 181th day, Bought 7.120478496154941 shares for $500.0\n",
      "On the 183th day, sold 7.120478496154941 shares for $512.5320421532327\n",
      "On the 192th day, Bought 7.017543859649122 shares for $500.0\n",
      "On the 210th day, sold 7.017543859649122 shares for $570.1754385964912\n",
      "On the 381th day, Bought 5.970149253731344 shares for $500.00000000000006\n",
      "On the 382th day, Bought 5.951672419950006 shares for $500.0\n",
      "On the 383th day, Bought 0 shares for $0.0\n",
      "On the 405th day, Bought 0 shares for $0.0\n",
      "On the 406th day, Bought 0 shares for $0.0\n",
      "On the 407th day, Bought 0 shares for $0.0\n",
      "On the 408th day, Bought 0 shares for $0.0\n",
      "On the 410th day, sold 11.92182167368135 shares for $988.1997985314472\n"
     ]
    },
    {
     "name": "stderr",
     "output_type": "stream",
     "text": [
      "[*********************100%***********************]  1 of 1 completed"
     ]
    },
    {
     "name": "stdout",
     "output_type": "stream",
     "text": [
      "On the 469th day, Bought 6.163708086785009 shares for $499.99999999999994\n",
      "On the 484th day, sold 6.163708086785009 shares for $524.9630177514792\n",
      "XLB Final Value: 1073.7571594403084, Final Money: 1073.7571594403084, Final Shares: 0.0\n",
      "read  4779  lines of data for ticker:  XLB\n"
     ]
    },
    {
     "name": "stderr",
     "output_type": "stream",
     "text": [
      "\n",
      "[*********************100%***********************]  1 of 1 completed\n"
     ]
    },
    {
     "name": "stdout",
     "output_type": "stream",
     "text": [
      "read  504  lines of data for ticker:  XLB\n",
      "On the 30th day, Bought 5.9283851078966086 shares for $500.0\n",
      "On the 32th day, Bought 6.137981831573779 shares for $499.99999999999994\n",
      "On the 33th day, Bought 0 shares for $0.0\n",
      "On the 41th day, Bought 0 shares for $0.0\n",
      "On the 42th day, Bought 0 shares for $0.0\n",
      "On the 70th day, sold 12.066366939470388 shares for $1031.674373324718\n",
      "On the 117th day, Bought 6.745817593092283 shares for $500.0\n",
      "On the 128th day, Bought 6.719526945303051 shares for $500.0\n",
      "On the 143th day, Bought 0 shares for $0.0\n",
      "On the 144th day, Bought 0 shares for $0.0\n",
      "On the 145th day, Bought 0 shares for $0.0\n",
      "On the 146th day, Bought 0 shares for $0.0\n",
      "On the 157th day, sold 13.465344538395334 shares for $1045.1800430702458\n",
      "On the 217th day, Bought 6.091617933723197 shares for $500.0\n",
      "On the 218th day, Bought 6.067961165048543 shares for $500.0\n",
      "On the 219th day, Bought 0 shares for $0.0\n",
      "On the 222th day, Bought 0 shares for $0.0\n",
      "On the 248th day, sold 12.15957909877174 shares for $983.4667575086582\n",
      "On the 253th day, Bought 6.027727546714888 shares for $500.0\n",
      "On the 254th day, Bought 6.11396429444852 shares for $499.99999999999994\n",
      "On the 261th day, Bought 0 shares for $0.0\n",
      "On the 262th day, Bought 0 shares for $0.0\n",
      "On the 263th day, Bought 0 shares for $0.0\n",
      "On the 264th day, Bought 0 shares for $0.0\n",
      "On the 285th day, Bought 0 shares for $0.0\n",
      "On the 290th day, sold 12.141691841163407 shares for $949.2374681421553\n",
      "On the 378th day, Bought 5.953089653530182 shares for $500.0\n",
      "On the 379th day, Bought 5.9851568111084505 shares for $500.0\n",
      "On the 382th day, Bought 0 shares for $0.0\n",
      "On the 383th day, Bought 0 shares for $0.0\n",
      "On the 384th day, Bought 0 shares for $0.0\n",
      "On the 406th day, Bought 0 shares for $0.0\n",
      "On the 407th day, Bought 0 shares for $0.0\n",
      "On the 426th day, sold 11.938246464638633 shares for $943.0020882418055\n",
      "On the 465th day, Bought 6.228977201943441 shares for $500.0\n",
      "On the 466th day, Bought 5 shares for $402.04999999999995\n",
      "On the 467th day, Bought 0 shares for $0.0\n",
      "On the 468th day, Bought 0 shares for $0.0\n",
      "On the 469th day, Bought 0 shares for $0.0\n",
      "On the 470th day, Bought 0 shares for $0.0\n",
      "On the 471th day, Bought 0 shares for $0.0\n",
      "On the 472th day, Bought 0 shares for $0.0\n",
      "XLB Final Value: 995.9906106912208, Final Money: 50.5107302875831, Final Shares: 11.22897720194344\n"
     ]
    },
    {
     "name": "stderr",
     "output_type": "stream",
     "text": [
      "[*********************100%***********************]  1 of 1 completed\n"
     ]
    },
    {
     "name": "stdout",
     "output_type": "stream",
     "text": [
      "read  4779  lines of data for ticker:  XLE\n"
     ]
    },
    {
     "name": "stderr",
     "output_type": "stream",
     "text": [
      "[*********************100%***********************]  1 of 1 completed\n"
     ]
    },
    {
     "name": "stdout",
     "output_type": "stream",
     "text": [
      "read  504  lines of data for ticker:  XLE\n",
      "On the 103th day, Bought 5.636343140570398 shares for $500.0\n",
      "On the 108th day, sold 5.636343140570398 shares for $414.21485740051855\n",
      "On the 152th day, Bought 6.304375236414071 shares for $500.0\n",
      "On the 153th day, Bought 5 shares for $410.85\n",
      "On the 155th day, Bought 0 shares for $0.0\n",
      "On the 156th day, Bought 0 shares for $0.0\n",
      "On the 157th day, Bought 0 shares for $0.0\n",
      "On the 162th day, sold 11.30437523641407 shares for $895.5326062287227\n",
      "On the 197th day, Bought 5.718860802928056 shares for $499.99999999999994\n",
      "On the 198th day, Bought 4 shares for $354.48\n",
      "On the 199th day, Bought 0 shares for $0.0\n",
      "On the 200th day, Bought 0 shares for $0.0\n",
      "On the 201th day, Bought 0 shares for $0.0\n",
      "On the 202th day, Bought 0 shares for $0.0\n",
      "On the 230th day, sold 9.718860802928056 shares for $824.6453391284455\n",
      "On the 237th day, Bought 5.789717461787864 shares for $499.99999999999994\n",
      "On the 238th day, Bought 4 shares for $337.48\n",
      "On the 254th day, Bought 0 shares for $0.0\n",
      "On the 265th day, sold 9.789717461787864 shares for $843.3841593330246\n",
      "On the 284th day, Bought 5.807875479149727 shares for $500.0\n",
      "On the 292th day, sold 5.807875479149727 shares for $474.7938204204902\n",
      "On the 315th day, Bought 5.800464037122969 shares for $500.0\n",
      "On the 316th day, Bought 4 shares for $346.16\n",
      "On the 317th day, Bought 0 shares for $0.0\n",
      "On the 318th day, Bought 0 shares for $0.0\n",
      "On the 367th day, Bought 0 shares for $0.0\n",
      "On the 368th day, Bought 0 shares for $0.0\n",
      "On the 369th day, Bought 0 shares for $0.0\n",
      "On the 370th day, Bought 0 shares for $0.0\n",
      "On the 409th day, Bought 0 shares for $0.0\n",
      "On the 410th day, Bought 0 shares for $0.0\n",
      "On the 411th day, Bought 0 shares for $0.0\n",
      "On the 412th day, Bought 0 shares for $0.0\n",
      "On the 434th day, sold 9.80046403712297 shares for $835.1955452436194\n"
     ]
    },
    {
     "name": "stderr",
     "output_type": "stream",
     "text": [
      "[*********************100%***********************]  1 of 1 completed"
     ]
    },
    {
     "name": "stdout",
     "output_type": "stream",
     "text": [
      "On the 462th day, Bought 5.8990089664936285 shares for $500.0\n",
      "On the 463th day, Bought 4 shares for $338.4\n",
      "On the 464th day, Bought 0 shares for $0.0\n",
      "On the 465th day, Bought 0 shares for $0.0\n",
      "On the 491th day, Bought 0 shares for $0.0\n",
      "On the 492th day, Bought 0 shares for $0.0\n",
      "On the 493th day, Bought 0 shares for $0.0\n",
      "On the 494th day, Bought 0 shares for $0.0\n",
      "On the 495th day, Bought 0 shares for $0.0\n",
      "XLE Final Value: 837.9514764098469, Final Money: 0.39632775482107263, Final Shares: 9.899008966493628\n",
      "read  4779  lines of data for ticker:  XLE\n"
     ]
    },
    {
     "name": "stderr",
     "output_type": "stream",
     "text": [
      "\n",
      "[*********************100%***********************]  1 of 1 completed\n"
     ]
    },
    {
     "name": "stdout",
     "output_type": "stream",
     "text": [
      "read  504  lines of data for ticker:  XLE\n",
      "On the 148th day, Bought 6.513809275664408 shares for $500.0\n",
      "On the 178th day, sold 6.513809275664408 shares for $472.902553413236\n",
      "On the 198th day, Bought 5.6420672534416605 shares for $500.0\n",
      "On the 199th day, Bought 4 shares for $355.76\n",
      "On the 200th day, Bought 1 shares for $89.25\n",
      "On the 201th day, Bought 0 shares for $0.0\n",
      "On the 202th day, Bought 0 shares for $0.0\n",
      "On the 203th day, Bought 0 shares for $0.0\n",
      "On the 245th day, sold 10.64206725344166 shares for $898.0840555179417\n",
      "On the 252th day, Bought 5.558643690939411 shares for $500.0\n",
      "On the 253th day, Bought 4 shares for $360.56\n",
      "On the 254th day, Bought 0 shares for $0.0\n",
      "On the 255th day, Bought 0 shares for $0.0\n",
      "On the 295th day, sold 9.55864369093941 shares for $735.7288048916064\n",
      "On the 317th day, Bought 5.797773654916512 shares for $500.0\n",
      "On the 318th day, Bought 3 shares for $256.44\n",
      "On the 319th day, Bought 0 shares for $0.0\n",
      "On the 359th day, Bought 0 shares for $0.0\n",
      "On the 369th day, Bought 0 shares for $0.0\n",
      "On the 370th day, Bought 0 shares for $0.0\n",
      "On the 384th day, Bought 0 shares for $0.0\n",
      "On the 385th day, Bought 0 shares for $0.0\n",
      "On the 386th day, Bought 0 shares for $0.0\n",
      "On the 421th day, sold 8.797773654916512 shares for $810.3629313543598\n"
     ]
    },
    {
     "name": "stderr",
     "output_type": "stream",
     "text": [
      "[*********************100%***********************]  1 of 1 completed"
     ]
    },
    {
     "name": "stdout",
     "output_type": "stream",
     "text": [
      "On the 472th day, Bought 5.950964056177101 shares for $500.0\n",
      "On the 473th day, Bought 4 shares for $338.32\n",
      "On the 474th day, Bought 0 shares for $0.0\n",
      "On the 475th day, Bought 0 shares for $0.0\n",
      "On the 476th day, Bought 0 shares for $0.0\n",
      "XLE Final Value: 858.6994139702886, Final Money: 16.748345177144017, Final Shares: 9.950964056177101\n",
      "read  4779  lines of data for ticker:  XLE\n"
     ]
    },
    {
     "name": "stderr",
     "output_type": "stream",
     "text": [
      "\n",
      "[*********************100%***********************]  1 of 1 completed\n"
     ]
    },
    {
     "name": "stdout",
     "output_type": "stream",
     "text": [
      "read  504  lines of data for ticker:  XLE\n",
      "On the 100th day, Bought 5.430060816681147 shares for $500.0\n",
      "On the 106th day, sold 5.430060816681147 shares for $447.32841007819286\n",
      "On the 165th day, Bought 6.20347394540943 shares for $500.0\n",
      "On the 166th day, Bought 5 shares for $410.4\n",
      "On the 175th day, sold 11.20347394540943 shares for $789.6208436724567\n",
      "On the 220th day, Bought 5.595970900951316 shares for $500.0\n",
      "On the 227th day, sold 5.595970900951316 shares for $476.329043088976\n",
      "On the 405th day, Bought 5.763688760806916 shares for $500.0\n",
      "On the 412th day, sold 5.763688760806916 shares for $525.7636887608069\n",
      "On the 468th day, Bought 5.911563017261764 shares for $499.99999999999994\n",
      "On the 469th day, Bought 3 shares for $254.79000000000002\n",
      "On the 472th day, Bought 0 shares for $0.0\n",
      "XLE Final Value: 827.8593324909502, Final Money: 73.8519856004325, Final Shares: 8.911563017261763\n"
     ]
    },
    {
     "name": "stderr",
     "output_type": "stream",
     "text": [
      "[*********************100%***********************]  1 of 1 completed\n"
     ]
    },
    {
     "name": "stdout",
     "output_type": "stream",
     "text": [
      "read  4779  lines of data for ticker:  XLE\n"
     ]
    },
    {
     "name": "stderr",
     "output_type": "stream",
     "text": [
      "[*********************100%***********************]  1 of 1 completed\n"
     ]
    },
    {
     "name": "stdout",
     "output_type": "stream",
     "text": [
      "read  504  lines of data for ticker:  XLE\n",
      "On the 66th day, Bought 6.222000995520159 shares for $500.0\n",
      "On the 74th day, sold 6.222000995520159 shares for $467.58337481334\n",
      "On the 147th day, Bought 6.498570314530803 shares for $500.0\n",
      "On the 148th day, Bought 5 shares for $383.8\n",
      "On the 149th day, Bought 1 shares for $77.4\n",
      "On the 150th day, Bought 0 shares for $0.0\n",
      "On the 153th day, Bought 0 shares for $0.0\n",
      "On the 170th day, sold 12.498570314530802 shares for $980.3878554717961\n",
      "On the 201th day, Bought 5.555555555555555 shares for $500.0\n",
      "On the 202th day, Bought 4 shares for $363.48\n",
      "On the 203th day, Bought 1 shares for $88.68\n",
      "On the 204th day, Bought 0 shares for $0.0\n",
      "On the 227th day, sold 10.555555555555555 shares for $898.4888888888889\n",
      "On the 254th day, Bought 5.650355972426263 shares for $500.0\n",
      "On the 255th day, Bought 4 shares for $358.36\n",
      "On the 256th day, Bought 0 shares for $0.0\n",
      "On the 257th day, Bought 0 shares for $0.0\n",
      "On the 259th day, Bought 0 shares for $0.0\n",
      "On the 297th day, sold 9.650355972426263 shares for $775.7921166233473\n",
      "On the 315th day, Bought 5.800464037122969 shares for $500.0\n",
      "On the 317th day, Bought 4 shares for $344.96\n",
      "On the 318th day, Bought 0 shares for $0.0\n",
      "On the 348th day, sold 9.80046403712297 shares for $783.0570765661253\n",
      "On the 384th day, Bought 5.804504295333179 shares for $500.00000000000006\n",
      "On the 385th day, Bought 3 shares for $256.77\n",
      "On the 413th day, Bought 0 shares for $0.0\n",
      "On the 414th day, Bought 0 shares for $0.0\n",
      "On the 421th day, sold 8.804504295333178 shares for $810.9828906431391\n",
      "On the 469th day, Bought 5.887201224537854 shares for $500.0\n",
      "On the 470th day, Bought 4 shares for $338.52\n",
      "On the 471th day, Bought 0 shares for $0.0\n",
      "On the 472th day, Bought 0 shares for $0.0\n",
      "On the 473th day, Bought 0 shares for $0.0\n",
      "On the 483th day, sold 9.887201224537854 shares for $837.9403037795831\n",
      "XLE Final Value: 842.2625067862197, Final Money: 842.2625067862197, Final Shares: 0.0\n"
     ]
    },
    {
     "name": "stderr",
     "output_type": "stream",
     "text": [
      "[*********************100%***********************]  1 of 1 completed\n"
     ]
    },
    {
     "name": "stdout",
     "output_type": "stream",
     "text": [
      "read  4779  lines of data for ticker:  XLF\n"
     ]
    },
    {
     "name": "stderr",
     "output_type": "stream",
     "text": [
      "[*********************100%***********************]  1 of 1 completed\n"
     ]
    },
    {
     "name": "stdout",
     "output_type": "stream",
     "text": [
      "read  504  lines of data for ticker:  XLF\n",
      "On the 51th day, Bought 12.687135244861711 shares for $500.0\n",
      "On the 53th day, Bought 11 shares for $431.41999999999996\n",
      "On the 54th day, Bought 1 shares for $38.32\n",
      "On the 75th day, sold 24.68713524486171 shares for $852.1999086526264\n",
      "On the 99th day, Bought 14.297969688304262 shares for $500.0\n",
      "On the 100th day, Bought 10 shares for $352.40000000000003\n",
      "On the 101th day, Bought 0 shares for $0.0\n",
      "On the 102th day, Bought 0 shares for $0.0\n",
      "On the 122th day, Bought 0 shares for $0.0\n",
      "On the 123th day, Bought 0 shares for $0.0\n",
      "On the 124th day, Bought 0 shares for $0.0\n",
      "On the 125th day, Bought 0 shares for $0.0\n",
      "On the 136th day, Bought 0 shares for $0.0\n",
      "On the 142th day, Bought 0 shares for $0.0\n",
      "On the 143th day, Bought 0 shares for $0.0\n",
      "On the 144th day, Bought 0 shares for $0.0\n",
      "On the 145th day, Bought 0 shares for $0.0\n",
      "On the 162th day, sold 24.297969688304264 shares for $797.2163854732629\n",
      "On the 200th day, Bought 14.624159110851126 shares for $499.99999999999994\n",
      "On the 201th day, Bought 9 shares for $305.82\n",
      "On the 202th day, Bought 0 shares for $0.0\n",
      "On the 203th day, Bought 0 shares for $0.0\n",
      "On the 204th day, Bought 0 shares for $0.0\n",
      "On the 205th day, Bought 0 shares for $0.0\n",
      "On the 206th day, Bought 0 shares for $0.0\n",
      "On the 207th day, Bought 0 shares for $0.0\n",
      "On the 208th day, Bought 0 shares for $0.0\n",
      "On the 218th day, Bought 0 shares for $0.0\n",
      "On the 219th day, Bought 0 shares for $0.0\n",
      "On the 220th day, Bought 0 shares for $0.0\n",
      "On the 221th day, Bought 0 shares for $0.0\n",
      "On the 285th day, Bought 0 shares for $0.0\n",
      "On the 286th day, Bought 0 shares for $0.0\n",
      "On the 290th day, sold 23.624159110851124 shares for $777.9435595203275\n",
      "On the 365th day, Bought 15.220700152207002 shares for $500.0\n",
      "On the 366th day, Bought 8 shares for $267.36\n",
      "On the 367th day, Bought 0 shares for $0.0\n",
      "On the 368th day, Bought 0 shares for $0.0\n",
      "On the 394th day, sold 23.220700152207 shares for $808.5447792998478\n",
      "On the 416th day, Bought 14.509576320371444 shares for $500.0\n",
      "On the 429th day, sold 14.509576320371444 shares for $485.7806152060359\n"
     ]
    },
    {
     "name": "stderr",
     "output_type": "stream",
     "text": [
      "[*********************100%***********************]  1 of 1 completed"
     ]
    },
    {
     "name": "stdout",
     "output_type": "stream",
     "text": [
      "On the 460th day, Bought 14.744913005013272 shares for $500.0\n",
      "On the 461th day, Bought 9 shares for $304.74\n",
      "On the 462th day, Bought 0 shares for $0.0\n",
      "On the 463th day, Bought 0 shares for $0.0\n",
      "On the 464th day, Bought 0 shares for $0.0\n",
      "On the 465th day, Bought 0 shares for $0.0\n",
      "On the 466th day, Bought 0 shares for $0.0\n",
      "On the 467th day, Bought 0 shares for $0.0\n",
      "On the 468th day, Bought 0 shares for $0.0\n",
      "On the 469th day, Bought 0 shares for $0.0\n",
      "On the 470th day, Bought 0 shares for $0.0\n",
      "On the 471th day, Bought 0 shares for $0.0\n",
      "On the 472th day, Bought 0 shares for $0.0\n",
      "On the 473th day, Bought 0 shares for $0.0\n",
      "XLF Final Value: 914.1965280105497, Final Money: 21.625248152100653, Final Shares: 23.744913005013274\n",
      "read  4779  lines of data for ticker:  XLF\n"
     ]
    },
    {
     "name": "stderr",
     "output_type": "stream",
     "text": [
      "\n",
      "[*********************100%***********************]  1 of 1 completed\n"
     ]
    },
    {
     "name": "stdout",
     "output_type": "stream",
     "text": [
      "read  504  lines of data for ticker:  XLF\n",
      "On the 60th day, Bought 13.196093956188967 shares for $500.0\n",
      "On the 77th day, sold 13.196093956188967 shares for $475.58722618105037\n",
      "On the 120th day, Bought 15.552099533437016 shares for $500.0\n",
      "On the 121th day, Bought 14 shares for $449.12\n",
      "On the 122th day, Bought 0 shares for $0.0\n",
      "On the 123th day, Bought 0 shares for $0.0\n",
      "On the 124th day, Bought 0 shares for $0.0\n",
      "On the 168th day, sold 29.552099533437016 shares for $982.6073094867808\n",
      "On the 217th day, Bought 13.950892857142856 shares for $500.0\n",
      "On the 218th day, Bought 13.89274798555154 shares for $500.0\n",
      "On the 219th day, Bought 0 shares for $0.0\n",
      "On the 220th day, Bought 0 shares for $0.0\n",
      "On the 263th day, Bought 0 shares for $0.0\n",
      "On the 264th day, Bought 0 shares for $0.0\n",
      "On the 265th day, Bought 0 shares for $0.0\n",
      "On the 266th day, Bought 0 shares for $0.0\n",
      "On the 267th day, Bought 0 shares for $0.0\n",
      "On the 285th day, Bought 0 shares for $0.0\n",
      "On the 289th day, sold 27.8436408426944 shares for $933.8757138639701\n",
      "On the 356th day, Bought 15.055706112616681 shares for $500.0\n",
      "On the 392th day, Bought 12 shares for $424.79999999999995\n",
      "On the 399th day, sold 27.055706112616683 shares for $924.2229208069858\n",
      "On the 411th day, Bought 14.413375612568464 shares for $500.0\n",
      "On the 412th day, Bought 12 shares for $412.08000000000004\n",
      "On the 420th day, Bought 0 shares for $0.0\n",
      "On the 421th day, Bought 0 shares for $0.0\n",
      "On the 423th day, Bought 0 shares for $0.0\n",
      "On the 430th day, sold 26.413375612568466 shares for $876.131669068896\n"
     ]
    },
    {
     "name": "stderr",
     "output_type": "stream",
     "text": [
      "[*********************100%***********************]  1 of 1 completed"
     ]
    },
    {
     "name": "stdout",
     "output_type": "stream",
     "text": [
      "On the 470th day, Bought 14.180374361883155 shares for $500.0\n",
      "On the 471th day, Bought 11 shares for $387.75\n",
      "On the 472th day, Bought 0 shares for $0.0\n",
      "On the 473th day, Bought 0 shares for $0.0\n",
      "On the 489th day, sold 25.180374361883153 shares for $940.235178672717\n",
      "XLF Final Value: 958.9100180804, Final Money: 958.9100180804, Final Shares: 0.0\n",
      "read  4779  lines of data for ticker:  XLF\n"
     ]
    },
    {
     "name": "stderr",
     "output_type": "stream",
     "text": [
      "\n",
      "[*********************100%***********************]  1 of 1 completed\n"
     ]
    },
    {
     "name": "stdout",
     "output_type": "stream",
     "text": [
      "read  504  lines of data for ticker:  XLF\n",
      "On the 50th day, Bought 12.651821862348177 shares for $500.0\n",
      "On the 72th day, sold 12.651821862348177 shares for $446.4827935222672\n",
      "On the 99th day, Bought 14.297969688304262 shares for $500.0\n",
      "On the 100th day, Bought 12 shares for $422.88\n",
      "On the 101th day, Bought 0 shares for $0.0\n",
      "On the 104th day, sold 26.297969688304264 shares for $829.9639233628825\n",
      "On the 196th day, Bought 15.328019619865115 shares for $500.0\n",
      "On the 205th day, Bought 10 shares for $339.09999999999997\n",
      "On the 206th day, Bought 0 shares for $0.0\n",
      "On the 211th day, sold 25.328019619865117 shares for $895.5987737584305\n",
      "On the 217th day, Bought 13.950892857142856 shares for $500.0\n",
      "On the 236th day, sold 13.950892857142856 shares for $467.9129464285714\n",
      "On the 270th day, Bought 13.747594171020072 shares for $500.0\n",
      "On the 278th day, sold 13.747594171020072 shares for $489.4143524883146\n",
      "On the 284th day, Bought 14.112334180073384 shares for $500.0\n",
      "On the 285th day, Bought 10 shares for $359.90000000000003\n",
      "On the 289th day, sold 24.112334180073383 shares for $808.7276883996612\n",
      "On the 357th day, Bought 14.85884101040119 shares for $500.0\n",
      "On the 366th day, Bought 9 shares for $300.78000000000003\n",
      "On the 369th day, sold 23.85884101040119 shares for $807.1445913818721\n",
      "On the 423th day, Bought 14.496955639315743 shares for $500.0\n",
      "On the 425th day, sold 14.496955639315743 shares for $487.9675268193679\n"
     ]
    },
    {
     "name": "stderr",
     "output_type": "stream",
     "text": [
      "[*********************100%***********************]  1 of 1 completed"
     ]
    },
    {
     "name": "stdout",
     "output_type": "stream",
     "text": [
      "XLF Final Value: 810.5525961613672, Final Money: 810.5525961613672, Final Shares: 0.0\n",
      "read  4779  lines of data for ticker:  XLF\n"
     ]
    },
    {
     "name": "stderr",
     "output_type": "stream",
     "text": [
      "\n",
      "[*********************100%***********************]  1 of 1 completed\n"
     ]
    },
    {
     "name": "stdout",
     "output_type": "stream",
     "text": [
      "read  504  lines of data for ticker:  XLF\n",
      "On the 48th day, Bought 12.916559028674762 shares for $500.00000000000006\n",
      "On the 71th day, sold 12.916559028674762 shares for $456.2128648927926\n",
      "On the 117th day, Bought 15.683814303638645 shares for $500.0\n",
      "On the 120th day, Bought 14 shares for $450.09999999999997\n",
      "On the 157th day, sold 29.683814303638645 shares for $993.8141028858217\n",
      "On the 163th day, Bought 14.943215780035864 shares for $500.0\n",
      "On the 182th day, sold 14.943215780035864 shares for $483.2635983263599\n",
      "On the 265th day, Bought 13.63884342607747 shares for $500.0\n",
      "On the 266th day, Bought 12 shares for $439.08000000000004\n",
      "On the 267th day, Bought 1 shares for $36.58\n",
      "On the 268th day, Bought 0 shares for $0.0\n",
      "On the 283th day, Bought 0 shares for $0.0\n",
      "On the 290th day, sold 26.63884342607747 shares for $877.2171140207312\n",
      "On the 402th day, Bought 14.731879787860931 shares for $500.0\n",
      "On the 403th day, Bought 11 shares for $369.82\n",
      "On the 406th day, Bought 0 shares for $0.0\n",
      "On the 428th day, sold 25.731879787860933 shares for $855.3276841484975\n",
      "On the 468th day, Bought 14.17635384179189 shares for $500.0\n",
      "On the 469th day, Bought 10 shares for $353.8\n",
      "On the 470th day, Bought 0 shares for $0.0\n",
      "XLF Final Value: 925.2445051871603, Final Money: 16.455364274202964, Final Shares: 24.17635384179189\n"
     ]
    },
    {
     "name": "stderr",
     "output_type": "stream",
     "text": [
      "[*********************100%***********************]  1 of 1 completed\n"
     ]
    },
    {
     "name": "stdout",
     "output_type": "stream",
     "text": [
      "read  4779  lines of data for ticker:  XLI\n"
     ]
    },
    {
     "name": "stderr",
     "output_type": "stream",
     "text": [
      "[*********************100%***********************]  1 of 1 completed\n"
     ]
    },
    {
     "name": "stdout",
     "output_type": "stream",
     "text": [
      "read  504  lines of data for ticker:  XLI\n",
      "On the 30th day, Bought 5.043881771411279 shares for $500.00000000000006\n",
      "On the 72th day, sold 5.043881771411279 shares for $487.440734389186\n",
      "On the 99th day, Bought 5.211047420531527 shares for $500.0\n",
      "On the 100th day, Bought 4 shares for $388.96\n",
      "On the 101th day, Bought 1 shares for $95.48\n",
      "On the 143th day, Bought 0 shares for $0.0\n",
      "On the 144th day, Bought 0 shares for $0.0\n",
      "On the 145th day, Bought 0 shares for $0.0\n",
      "On the 161th day, sold 10.211047420531527 shares for $941.0501302761854\n",
      "On the 198th day, Bought 5.470459518599562 shares for $500.00000000000006\n",
      "On the 199th day, Bought 4 shares for $369.88\n",
      "On the 200th day, Bought 0 shares for $0.0\n",
      "On the 201th day, Bought 0 shares for $0.0\n",
      "On the 202th day, Bought 0 shares for $0.0\n",
      "On the 203th day, Bought 0 shares for $0.0\n",
      "On the 216th day, Bought 0 shares for $0.0\n",
      "On the 217th day, Bought 0 shares for $0.0\n",
      "On the 218th day, Bought 0 shares for $0.0\n",
      "On the 219th day, Bought 0 shares for $0.0\n",
      "On the 220th day, Bought 0 shares for $0.0\n",
      "On the 221th day, Bought 0 shares for $0.0\n",
      "On the 272th day, Bought 0 shares for $0.0\n",
      "On the 273th day, Bought 0 shares for $0.0\n",
      "On the 274th day, Bought 0 shares for $0.0\n",
      "On the 291th day, sold 9.470459518599561 shares for $932.2720350109408\n",
      "On the 356th day, Bought 4.805382027871216 shares for $500.00000000000006\n",
      "On the 357th day, Bought 4.7339519030486645 shares for $499.99999999999994\n",
      "On the 359th day, Bought 0 shares for $0.0\n",
      "On the 365th day, Bought 0 shares for $0.0\n",
      "On the 366th day, Bought 0 shares for $0.0\n",
      "On the 367th day, Bought 0 shares for $0.0\n",
      "On the 368th day, Bought 0 shares for $0.0\n",
      "On the 369th day, Bought 0 shares for $0.0\n",
      "On the 370th day, Bought 0 shares for $0.0\n",
      "On the 380th day, Bought 0 shares for $0.0\n",
      "On the 381th day, Bought 0 shares for $0.0\n",
      "On the 382th day, Bought 0 shares for $0.0\n",
      "On the 383th day, Bought 0 shares for $0.0\n",
      "On the 384th day, Bought 0 shares for $0.0\n",
      "On the 405th day, sold 9.53933393091988 shares for $1007.8306298016854\n",
      "On the 422th day, Bought 4.796163069544365 shares for $500.00000000000006\n",
      "On the 423th day, Bought 4.815100154083205 shares for $500.0\n",
      "On the 425th day, sold 9.61126322362757 shares for $978.3304835330505\n",
      "On the 459th day, Bought 4.946087644673064 shares for $500.00000000000006\n",
      "On the 460th day, Bought 3 shares for $307.65\n",
      "On the 461th day, Bought 1 shares for $102.64\n",
      "On the 462th day, Bought 0 shares for $0.0\n"
     ]
    },
    {
     "name": "stderr",
     "output_type": "stream",
     "text": [
      "[*********************100%***********************]  1 of 1 completed"
     ]
    },
    {
     "name": "stdout",
     "output_type": "stream",
     "text": [
      "On the 463th day, Bought 0 shares for $0.0\n",
      "On the 469th day, Bought 0 shares for $0.0\n",
      "On the 470th day, Bought 0 shares for $0.0\n",
      "On the 471th day, Bought 0 shares for $0.0\n",
      "On the 472th day, Bought 0 shares for $0.0\n",
      "On the 473th day, Bought 0 shares for $0.0\n",
      "XLI Final Value: 1078.01356786316, Final Money: 82.31401301104795, Final Shares: 8.946087644673064\n",
      "read  4779  lines of data for ticker:  XLI\n"
     ]
    },
    {
     "name": "stderr",
     "output_type": "stream",
     "text": [
      "\n",
      "[*********************100%***********************]  1 of 1 completed\n"
     ]
    },
    {
     "name": "stdout",
     "output_type": "stream",
     "text": [
      "read  504  lines of data for ticker:  XLI\n",
      "On the 42th day, Bought 5.008514474606832 shares for $500.0\n",
      "On the 46th day, Bought 3 shares for $308.19\n",
      "On the 47th day, Bought 1 shares for $103.29\n",
      "On the 48th day, Bought 0 shares for $0.0\n",
      "On the 49th day, Bought 0 shares for $0.0\n",
      "On the 50th day, Bought 0 shares for $0.0\n",
      "On the 51th day, Bought 0 shares for $0.0\n",
      "On the 52th day, Bought 0 shares for $0.0\n",
      "On the 53th day, Bought 0 shares for $0.0\n",
      "On the 71th day, sold 9.008514474606832 shares for $867.3397736151458\n",
      "On the 120th day, Bought 5.661872947571056 shares for $500.0\n",
      "On the 122th day, Bought 4 shares for $349.28\n",
      "On the 123th day, Bought 1 shares for $87.05\n",
      "On the 124th day, Bought 0 shares for $0.0\n",
      "On the 144th day, Bought 0 shares for $0.0\n",
      "On the 159th day, sold 10.661872947571055 shares for $990.8078530177783\n",
      "On the 202th day, Bought 5.304476978569912 shares for $499.99999999999994\n",
      "On the 217th day, Bought 4.973639709539441 shares for $500.0\n",
      "On the 218th day, Bought 0 shares for $0.0\n",
      "On the 219th day, Bought 0 shares for $0.0\n",
      "On the 220th day, Bought 0 shares for $0.0\n",
      "On the 257th day, sold 10.278116688109353 shares for $1028.531136979103\n",
      "On the 263th day, Bought 4.909180166912126 shares for $500.0\n",
      "On the 265th day, Bought 4.836057645807138 shares for $500.0\n",
      "On the 266th day, Bought 0 shares for $0.0\n",
      "On the 267th day, Bought 0 shares for $0.0\n",
      "On the 270th day, Bought 0 shares for $0.0\n",
      "On the 271th day, Bought 0 shares for $0.0\n",
      "On the 272th day, Bought 0 shares for $0.0\n",
      "On the 273th day, Bought 0 shares for $0.0\n",
      "On the 274th day, Bought 0 shares for $0.0\n",
      "On the 275th day, Bought 0 shares for $0.0\n",
      "On the 291th day, sold 9.745237812719264 shares for $959.3212102840843\n",
      "On the 316th day, Bought 4.945598417408506 shares for $499.99999999999994\n",
      "On the 317th day, Bought 3 shares for $303.06\n",
      "On the 318th day, Bought 1 shares for $100.84\n",
      "On the 319th day, Bought 0 shares for $0.0\n",
      "On the 320th day, Bought 0 shares for $0.0\n",
      "On the 352th day, sold 8.945598417408506 shares for $918.4445895153314\n",
      "On the 381th day, Bought 4.564125969876769 shares for $500.0\n",
      "On the 382th day, Bought 4.553734061930784 shares for $500.0\n",
      "On the 383th day, Bought 0 shares for $0.0\n",
      "On the 384th day, Bought 0 shares for $0.0\n",
      "On the 407th day, sold 9.117860031807552 shares for $979.3493460164492\n",
      "On the 462th day, Bought 4.775549188156638 shares for $500.0\n",
      "On the 467th day, Bought 3 shares for $317.54999999999995\n",
      "On the 468th day, Bought 1 shares for $106.08\n",
      "On the 469th day, Bought 0 shares for $0.0\n",
      "On the 470th day, Bought 0 shares for $0.0\n",
      "On the 471th day, Bought 0 shares for $0.0\n",
      "On the 472th day, Bought 0 shares for $0.0\n",
      "On the 473th day, Bought 0 shares for $0.0\n"
     ]
    },
    {
     "name": "stderr",
     "output_type": "stream",
     "text": [
      "[*********************100%***********************]  1 of 1 completed"
     ]
    },
    {
     "name": "stdout",
     "output_type": "stream",
     "text": [
      "XLI Final Value: 1045.1725340697258, Final Money: 68.45390942789201, Final Shares: 8.775549188156639\n",
      "read  4779  lines of data for ticker:  XLI\n"
     ]
    },
    {
     "name": "stderr",
     "output_type": "stream",
     "text": [
      "\n",
      "[*********************100%***********************]  1 of 1 completed\n"
     ]
    },
    {
     "name": "stdout",
     "output_type": "stream",
     "text": [
      "read  504  lines of data for ticker:  XLI\n",
      "On the 43th day, Bought 4.9431537320810675 shares for $500.0\n",
      "On the 50th day, Bought 4.820671037408407 shares for $499.99999999999994\n",
      "On the 51th day, Bought 0 shares for $0.0\n",
      "On the 64th day, Bought 0 shares for $0.0\n",
      "On the 65th day, Bought 0 shares for $0.0\n",
      "On the 66th day, Bought 0 shares for $0.0\n",
      "On the 72th day, sold 9.763824769489474 shares for $943.5760257234629\n",
      "On the 190th day, Bought 5.900401227283456 shares for $500.0\n",
      "On the 192th day, Bought 4 shares for $354.72\n",
      "On the 206th day, Bought 0 shares for $0.0\n",
      "On the 210th day, sold 9.900401227283457 shares for $985.3869341515224\n",
      "On the 216th day, Bought 5.012028869286286 shares for $499.99999999999994\n",
      "On the 217th day, Bought 4.973639709539441 shares for $500.0\n",
      "On the 222th day, Bought 0 shares for $0.0\n",
      "On the 244th day, Bought 0 shares for $0.0\n",
      "On the 245th day, Bought 0 shares for $0.0\n",
      "On the 256th day, sold 9.985668578825727 shares for $988.4813326179587\n",
      "On the 320th day, Bought 4.95785820525533 shares for $500.0\n",
      "On the 321th day, Bought 5.051015254066067 shares for $500.0\n",
      "On the 333th day, Bought 0 shares for $0.0\n",
      "On the 349th day, sold 10.008873459321396 shares for $1003.2894755623768\n",
      "On the 384th day, Bought 4.527755139002083 shares for $500.0\n",
      "On the 385th day, Bought 4.567044208987943 shares for $500.0\n",
      "On the 401th day, sold 9.094799347990026 shares for $966.2314827304604\n"
     ]
    },
    {
     "name": "stderr",
     "output_type": "stream",
     "text": [
      "[*********************100%***********************]  1 of 1 completed"
     ]
    },
    {
     "name": "stdout",
     "output_type": "stream",
     "text": [
      "On the 471th day, Bought 4.739785761683573 shares for $500.00000000000006\n",
      "On the 472th day, Bought 4.721881197469072 shares for $500.00000000000006\n",
      "On the 473th day, Bought 0 shares for $0.0\n",
      "XLI Final Value: 1085.3287833394704, Final Money: 32.245250785781025, Final Shares: 9.461666959152645\n",
      "read  4779  lines of data for ticker:  XLI\n"
     ]
    },
    {
     "name": "stderr",
     "output_type": "stream",
     "text": [
      "\n",
      "[*********************100%***********************]  1 of 1 completed\n"
     ]
    },
    {
     "name": "stdout",
     "output_type": "stream",
     "text": [
      "read  504  lines of data for ticker:  XLI\n",
      "On the 40th day, Bought 5.105166428425567 shares for $500.0\n",
      "On the 72th day, sold 5.105166428425567 shares for $493.36328364304677\n",
      "On the 114th day, Bought 5.709065996802924 shares for $500.00000000000006\n",
      "On the 115th day, Bought 4 shares for $348.28\n",
      "On the 117th day, Bought 1 shares for $88.1\n",
      "On the 141th day, sold 10.709065996802924 shares for $1029.355423612697\n",
      "On the 144th day, Bought 5.110384300899428 shares for $500.00000000000006\n",
      "On the 145th day, Bought 5.08336722244815 shares for $500.0\n",
      "On the 146th day, Bought 0 shares for $0.0\n",
      "On the 171th day, sold 10.193751523347578 shares for $917.3356995860485\n",
      "On the 372th day, Bought 4.642094513044285 shares for $499.99999999999994\n",
      "On the 380th day, Bought 4.542563823021713 shares for $499.99999999999994\n",
      "On the 381th day, Bought 0 shares for $0.0\n",
      "On the 382th day, Bought 0 shares for $0.0\n",
      "On the 383th day, Bought 0 shares for $0.0\n",
      "On the 384th day, Bought 0 shares for $0.0\n",
      "On the 385th day, Bought 0 shares for $0.0\n",
      "On the 386th day, Bought 0 shares for $0.0\n",
      "On the 419th day, Bought 0 shares for $0.0\n",
      "On the 420th day, Bought 0 shares for $0.0\n",
      "On the 421th day, Bought 0 shares for $0.0\n",
      "On the 422th day, Bought 0 shares for $0.0\n",
      "On the 423th day, Bought 0 shares for $0.0\n",
      "On the 424th day, Bought 0 shares for $0.0\n",
      "On the 426th day, Bought 0 shares for $0.0\n",
      "On the 430th day, sold 9.184658336065999 shares for $931.140662110371\n",
      "On the 460th day, Bought 4.875670404680644 shares for $500.00000000000006\n",
      "On the 468th day, Bought 3 shares for $318.24\n",
      "On the 469th day, Bought 1 shares for $106.34\n",
      "On the 470th day, Bought 0 shares for $0.0\n",
      "On the 471th day, Bought 0 shares for $0.0\n",
      "On the 472th day, Bought 0 shares for $0.0\n",
      "On the 489th day, sold 8.875670404680644 shares for $1004.1045928815212\n",
      "XLI Final Value: 1014.3396618336843, Final Money: 1014.3396618336843, Final Shares: 0.0\n"
     ]
    },
    {
     "name": "stderr",
     "output_type": "stream",
     "text": [
      "[*********************100%***********************]  1 of 1 completed\n"
     ]
    },
    {
     "name": "stdout",
     "output_type": "stream",
     "text": [
      "read  4779  lines of data for ticker:  XLK\n"
     ]
    },
    {
     "name": "stderr",
     "output_type": "stream",
     "text": [
      "[*********************100%***********************]  1 of 1 completed\n"
     ]
    },
    {
     "name": "stdout",
     "output_type": "stream",
     "text": [
      "read  504  lines of data for ticker:  XLK\n",
      "On the 30th day, Bought 3.2393909944930352 shares for $500.0\n",
      "On the 73th day, sold 3.2393909944930352 shares for $478.0369290573372\n",
      "On the 102th day, Bought 3.667571334262451 shares for $500.0\n",
      "On the 112th day, Bought 2 shares for $266.9\n",
      "On the 114th day, Bought 1 shares for $128.58\n",
      "On the 116th day, Bought 0 shares for $0.0\n",
      "On the 120th day, Bought 0 shares for $0.0\n",
      "On the 122th day, Bought 0 shares for $0.0\n",
      "On the 123th day, Bought 0 shares for $0.0\n",
      "On the 124th day, Bought 0 shares for $0.0\n",
      "On the 142th day, Bought 0 shares for $0.0\n",
      "On the 143th day, Bought 0 shares for $0.0\n",
      "On the 144th day, Bought 0 shares for $0.0\n",
      "On the 145th day, Bought 0 shares for $0.0\n",
      "On the 146th day, Bought 0 shares for $0.0\n",
      "On the 147th day, Bought 0 shares for $0.0\n",
      "On the 148th day, Bought 0 shares for $0.0\n",
      "On the 149th day, Bought 0 shares for $0.0\n",
      "On the 150th day, Bought 0 shares for $0.0\n",
      "On the 151th day, Bought 0 shares for $0.0\n",
      "On the 152th day, Bought 0 shares for $0.0\n",
      "On the 154th day, Bought 0 shares for $0.0\n",
      "On the 155th day, Bought 0 shares for $0.0\n",
      "On the 162th day, sold 6.667571334262451 shares for $879.9193889826157\n",
      "On the 217th day, Bought 3.753753753753754 shares for $500.0\n",
      "On the 218th day, Bought 2 shares for $268.76\n",
      "On the 219th day, Bought 1 shares for $133.6\n",
      "On the 220th day, Bought 0 shares for $0.0\n",
      "On the 221th day, Bought 0 shares for $0.0\n",
      "On the 222th day, Bought 0 shares for $0.0\n",
      "On the 254th day, Bought 0 shares for $0.0\n",
      "On the 255th day, Bought 0 shares for $0.0\n",
      "On the 256th day, Bought 0 shares for $0.0\n",
      "On the 271th day, sold 6.753753753753754 shares for $948.091951951952\n",
      "On the 285th day, Bought 3.567860710717854 shares for $500.0\n",
      "On the 288th day, Bought 3.5660794522501957 shares for $500.0\n",
      "On the 307th day, Bought 0 shares for $0.0\n",
      "On the 320th day, Bought 0 shares for $0.0\n",
      "On the 331th day, Bought 0 shares for $0.0\n",
      "On the 332th day, Bought 0 shares for $0.0\n",
      "On the 334th day, Bought 0 shares for $0.0\n",
      "On the 335th day, Bought 0 shares for $0.0\n",
      "On the 337th day, Bought 0 shares for $0.0\n",
      "On the 338th day, Bought 0 shares for $0.0\n",
      "On the 340th day, Bought 0 shares for $0.0\n",
      "On the 347th day, sold 7.13394016296805 shares for $1183.8773700445477\n",
      "On the 375th day, Bought 2.8368794326241136 shares for $500.0\n",
      "On the 390th day, sold 2.8368794326241136 shares for $492.2553191489362\n",
      "On the 413th day, Bought 2.8577960676726106 shares for $500.0\n",
      "On the 416th day, Bought 2.8786919223904657 shares for $500.0\n",
      "On the 436th day, sold 5.736487990063076 shares for $969.9827542397655\n",
      "On the 468th day, Bought 2.706067002218975 shares for $500.0\n",
      "On the 470th day, Bought 2.7114967462039044 shares for $500.0\n",
      "On the 471th day, Bought 0 shares for $0.0\n",
      "On the 472th day, Bought 0 shares for $0.0\n",
      "On the 473th day, Bought 0 shares for $0.0\n",
      "On the 474th day, Bought 0 shares for $0.0\n",
      "On the 475th day, Bought 0 shares for $0.0\n",
      "On the 493th day, Bought 0 shares for $0.0\n",
      "XLK Final Value: 1152.0764289721956, Final Money: 154.32371342515398, Final Shares: 5.417563748422879\n"
     ]
    },
    {
     "name": "stderr",
     "output_type": "stream",
     "text": [
      "[*********************100%***********************]  1 of 1 completed\n"
     ]
    },
    {
     "name": "stdout",
     "output_type": "stream",
     "text": [
      "read  4779  lines of data for ticker:  XLK\n"
     ]
    },
    {
     "name": "stderr",
     "output_type": "stream",
     "text": [
      "[*********************100%***********************]  1 of 1 completed\n"
     ]
    },
    {
     "name": "stdout",
     "output_type": "stream",
     "text": [
      "read  504  lines of data for ticker:  XLK\n",
      "On the 30th day, Bought 3.2393909944930352 shares for $500.0\n",
      "On the 72th day, sold 3.2393909944930352 shares for $459.63718820861675\n",
      "On the 97th day, Bought 3.4862641193696837 shares for $500.0\n",
      "On the 122th day, Bought 2 shares for $262.08\n",
      "On the 123th day, Bought 1 shares for $129.25\n",
      "On the 124th day, Bought 0 shares for $0.0\n",
      "On the 158th day, sold 6.486264119369684 shares for $885.9588160647052\n",
      "On the 217th day, Bought 3.753753753753754 shares for $500.0\n",
      "On the 218th day, Bought 2 shares for $268.76\n",
      "On the 219th day, Bought 1 shares for $133.6\n",
      "On the 220th day, Bought 0 shares for $0.0\n",
      "On the 221th day, Bought 0 shares for $0.0\n",
      "On the 254th day, Bought 0 shares for $0.0\n",
      "On the 255th day, Bought 0 shares for $0.0\n",
      "On the 256th day, Bought 0 shares for $0.0\n",
      "On the 302th day, Bought 0 shares for $0.0\n",
      "On the 303th day, Bought 0 shares for $0.0\n",
      "On the 304th day, Bought 0 shares for $0.0\n",
      "On the 313th day, Bought 0 shares for $0.0\n",
      "On the 327th day, sold 6.753753753753754 shares for $1001.2439939939941\n"
     ]
    },
    {
     "name": "stderr",
     "output_type": "stream",
     "text": [
      "[*********************100%***********************]  1 of 1 completed"
     ]
    },
    {
     "name": "stdout",
     "output_type": "stream",
     "text": [
      "On the 458th day, Bought 2.8446265005404787 shares for $500.0\n",
      "On the 459th day, Bought 2.857959416976279 shares for $500.0\n",
      "On the 460th day, Bought 0 shares for $0.0\n",
      "On the 461th day, Bought 0 shares for $0.0\n",
      "On the 471th day, Bought 0 shares for $0.0\n",
      "On the 472th day, Bought 0 shares for $0.0\n",
      "On the 474th day, Bought 0 shares for $0.0\n",
      "On the 475th day, Bought 0 shares for $0.0\n",
      "On the 476th day, Bought 0 shares for $0.0\n",
      "XLK Final Value: 1103.3952466963772, Final Money: 53.14999826731605, Final Shares: 5.702585917516758\n",
      "read  4779  lines of data for ticker:  XLK\n"
     ]
    },
    {
     "name": "stderr",
     "output_type": "stream",
     "text": [
      "\n",
      "[*********************100%***********************]  1 of 1 completed\n"
     ]
    },
    {
     "name": "stdout",
     "output_type": "stream",
     "text": [
      "read  504  lines of data for ticker:  XLK\n",
      "On the 30th day, Bought 3.2393909944930352 shares for $500.0\n",
      "On the 69th day, Bought 2 shares for $286.16\n",
      "On the 82th day, sold 5.239390994493036 shares for $696.1054875283448\n",
      "On the 100th day, Bought 3.529328721677137 shares for $500.0\n",
      "On the 101th day, Bought 2 shares for $280.14\n",
      "On the 102th day, Bought 0 shares for $0.0\n",
      "On the 105th day, sold 5.529328721677137 shares for $697.0824719418366\n",
      "On the 146th day, Bought 3.319832680432906 shares for $500.0\n",
      "On the 160th day, sold 3.319832680432906 shares for $446.8494787862691\n",
      "On the 182th day, Bought 3.9503831871691557 shares for $500.0\n",
      "On the 189th day, sold 3.9503831871691557 shares for $474.75705143398915\n",
      "On the 216th day, Bought 3.826432999158185 shares for $500.0\n",
      "On the 217th day, Bought 1 shares for $133.2\n",
      "On the 218th day, Bought 0 shares for $0.0\n",
      "On the 220th day, Bought 0 shares for $0.0\n",
      "On the 245th day, Bought 0 shares for $0.0\n",
      "On the 284th day, Bought 0 shares for $0.0\n",
      "On the 303th day, Bought 0 shares for $0.0\n",
      "On the 339th day, sold 4.826432999158185 shares for $760.066668707431\n",
      "On the 431th day, Bought 3.0176836260486453 shares for $500.0\n",
      "On the 442th day, Bought 1 shares for $169.46\n",
      "On the 443th day, Bought 1 shares for $167.72\n",
      "On the 455th day, sold 5.017683626048646 shares for $861.8373396101154\n",
      "On the 471th day, Bought 2.706359945872801 shares for $500.0\n",
      "On the 472th day, Bought 1 shares for $184.89\n",
      "On the 473th day, Bought 1 shares for $185.16\n",
      "On the 474th day, Bought 0 shares for $0.0\n",
      "On the 475th day, Bought 0 shares for $0.0\n",
      "XLK Final Value: 896.7388092393797, Final Money: 29.96849800798597, Final Shares: 4.706359945872801\n"
     ]
    },
    {
     "name": "stderr",
     "output_type": "stream",
     "text": [
      "[*********************100%***********************]  1 of 1 completed\n"
     ]
    },
    {
     "name": "stdout",
     "output_type": "stream",
     "text": [
      "read  4779  lines of data for ticker:  XLK\n"
     ]
    },
    {
     "name": "stderr",
     "output_type": "stream",
     "text": [
      "[*********************100%***********************]  1 of 1 completed\n"
     ]
    },
    {
     "name": "stdout",
     "output_type": "stream",
     "text": [
      "read  504  lines of data for ticker:  XLK\n",
      "On the 102th day, Bought 3.667571334262451 shares for $500.0\n",
      "On the 110th day, sold 3.667571334262451 shares for $465.4881537445903\n",
      "On the 120th day, Bought 3.7647767487387997 shares for $500.0\n",
      "On the 122th day, Bought 2 shares for $262.08\n",
      "On the 144th day, Bought 1 shares for $148.25\n",
      "On the 155th day, Bought 0 shares for $0.0\n",
      "On the 160th day, Bought 0 shares for $0.0\n",
      "On the 161th day, Bought 0 shares for $0.0\n",
      "On the 162th day, Bought 0 shares for $0.0\n",
      "On the 163th day, Bought 0 shares for $0.0\n",
      "On the 164th day, Bought 0 shares for $0.0\n",
      "On the 165th day, Bought 0 shares for $0.0\n",
      "On the 183th day, sold 6.7647767487388 shares for $859.0589993223402\n",
      "On the 230th day, Bought 3.737758839799656 shares for $500.0\n",
      "On the 248th day, sold 3.737758839799656 shares for $471.6304104059206\n",
      "On the 252th day, Bought 3.8317112422407846 shares for $500.0\n",
      "On the 253th day, Bought 2 shares for $262.16\n",
      "On the 254th day, Bought 0 shares for $0.0\n",
      "On the 255th day, Bought 0 shares for $0.0\n",
      "On the 268th day, sold 5.831711242240784 shares for $837.0838317112422\n",
      "On the 302th day, Bought 3.46860908775581 shares for $500.00000000000006\n",
      "On the 303th day, Bought 2 shares for $294.34\n",
      "On the 312th day, Bought 1 shares for $146.75\n",
      "On the 313th day, Bought 0 shares for $0.0\n",
      "On the 314th day, Bought 0 shares for $0.0\n",
      "On the 315th day, Bought 0 shares for $0.0\n",
      "On the 317th day, Bought 0 shares for $0.0\n",
      "On the 318th day, Bought 0 shares for $0.0\n",
      "On the 320th day, Bought 0 shares for $0.0\n",
      "On the 321th day, Bought 0 shares for $0.0\n",
      "On the 322th day, Bought 0 shares for $0.0\n",
      "On the 323th day, Bought 0 shares for $0.0\n",
      "On the 328th day, sold 6.4686090877558104 shares for $954.3785848074922\n",
      "On the 397th day, Bought 2.948808681292758 shares for $500.00000000000006\n",
      "On the 400th day, Bought 2 shares for $329.42\n",
      "On the 401th day, Bought 0 shares for $0.0\n",
      "On the 403th day, sold 4.948808681292758 shares for $831.0039537626799\n",
      "On the 458th day, Bought 2.8446265005404787 shares for $500.0\n",
      "On the 467th day, sold 2.8446265005404787 shares for $523.269044774421\n",
      "XLK Final Value: 998.9129785286865, Final Money: 998.9129785286865, Final Shares: 0.0\n"
     ]
    },
    {
     "name": "stderr",
     "output_type": "stream",
     "text": [
      "[*********************100%***********************]  1 of 1 completed\n"
     ]
    },
    {
     "name": "stdout",
     "output_type": "stream",
     "text": [
      "read  4779  lines of data for ticker:  XLP\n"
     ]
    },
    {
     "name": "stderr",
     "output_type": "stream",
     "text": [
      "[*********************100%***********************]  1 of 1 completed\n"
     ]
    },
    {
     "name": "stdout",
     "output_type": "stream",
     "text": [
      "read  504  lines of data for ticker:  XLP\n",
      "On the 48th day, Bought 6.7658998646820026 shares for $500.0\n",
      "On the 51th day, Bought 5 shares for $376.75\n",
      "On the 52th day, Bought 1 shares for $76.02\n",
      "On the 53th day, Bought 0 shares for $0.0\n",
      "On the 54th day, Bought 0 shares for $0.0\n",
      "On the 55th day, Bought 0 shares for $0.0\n",
      "On the 56th day, Bought 0 shares for $0.0\n",
      "On the 72th day, sold 12.765899864682002 shares for $1004.0380243572395\n",
      "On the 122th day, Bought 6.868131868131869 shares for $500.0\n",
      "On the 123th day, Bought 6.888001102080176 shares for $500.0\n",
      "On the 124th day, Bought 0 shares for $0.0\n",
      "On the 126th day, Bought 0 shares for $0.0\n",
      "On the 144th day, Bought 0 shares for $0.0\n",
      "On the 145th day, Bought 0 shares for $0.0\n",
      "On the 146th day, Bought 0 shares for $0.0\n",
      "On the 147th day, Bought 0 shares for $0.0\n",
      "On the 152th day, Bought 0 shares for $0.0\n",
      "On the 153th day, Bought 0 shares for $0.0\n",
      "On the 154th day, Bought 0 shares for $0.0\n",
      "On the 155th day, Bought 0 shares for $0.0\n",
      "On the 156th day, Bought 0 shares for $0.0\n",
      "On the 162th day, sold 13.756132970212045 shares for $992.5049938007991\n",
      "On the 216th day, Bought 6.632179334129195 shares for $500.00000000000006\n",
      "On the 217th day, Bought 6.584145377929945 shares for $500.0\n",
      "On the 218th day, Bought 0 shares for $0.0\n",
      "On the 219th day, Bought 0 shares for $0.0\n",
      "On the 220th day, Bought 0 shares for $0.0\n",
      "On the 221th day, Bought 0 shares for $0.0\n",
      "On the 222th day, Bought 0 shares for $0.0\n",
      "On the 262th day, Bought 0 shares for $0.0\n",
      "On the 263th day, Bought 0 shares for $0.0\n",
      "On the 264th day, Bought 0 shares for $0.0\n",
      "On the 291th day, sold 13.21632471205914 shares for $944.5707271708668\n",
      "On the 306th day, Bought 6.657789613848203 shares for $500.0\n",
      "On the 307th day, Bought 5 shares for $374.75\n",
      "On the 308th day, Bought 1 shares for $75.3\n",
      "On the 309th day, Bought 0 shares for $0.0\n",
      "On the 310th day, Bought 0 shares for $0.0\n",
      "On the 339th day, sold 12.657789613848202 shares for $960.9793874833555\n",
      "On the 408th day, Bought 6.848376934666484 shares for $500.0\n",
      "On the 409th day, Bought 5 shares for $365.65\n",
      "On the 410th day, Bought 1 shares for $72.76\n",
      "On the 411th day, Bought 0 shares for $0.0\n",
      "On the 416th day, Bought 0 shares for $0.0\n",
      "On the 417th day, Bought 0 shares for $0.0\n",
      "On the 419th day, Bought 0 shares for $0.0\n",
      "On the 432th day, sold 12.848376934666483 shares for $871.7623750171208\n",
      "On the 460th day, Bought 7.250580046403713 shares for $500.0\n",
      "On the 461th day, Bought 6 shares for $415.08000000000004\n",
      "On the 462th day, Bought 0 shares for $0.0\n",
      "On the 470th day, Bought 0 shares for $0.0\n",
      "On the 471th day, Bought 0 shares for $0.0\n",
      "On the 472th day, Bought 0 shares for $0.0\n",
      "On the 473th day, Bought 0 shares for $0.0\n",
      "On the 484th day, sold 13.250580046403712 shares for $943.9713225058003\n"
     ]
    },
    {
     "name": "stderr",
     "output_type": "stream",
     "text": [
      "[*********************100%***********************]  1 of 1 completed"
     ]
    },
    {
     "name": "stdout",
     "output_type": "stream",
     "text": [
      "XLP Final Value: 961.5168303351821, Final Money: 961.5168303351821, Final Shares: 0.0\n",
      "read  4779  lines of data for ticker:  XLP\n"
     ]
    },
    {
     "name": "stderr",
     "output_type": "stream",
     "text": [
      "\n",
      "[*********************100%***********************]  1 of 1 completed\n"
     ]
    },
    {
     "name": "stdout",
     "output_type": "stream",
     "text": [
      "read  504  lines of data for ticker:  XLP\n",
      "On the 125th day, Bought 6.87757909215956 shares for $500.0\n",
      "On the 157th day, sold 6.87757909215956 shares for $511.21045392022006\n",
      "On the 216th day, Bought 6.632179334129195 shares for $500.00000000000006\n",
      "On the 217th day, Bought 6.584145377929945 shares for $500.0\n",
      "On the 218th day, Bought 0 shares for $0.0\n",
      "On the 219th day, Bought 0 shares for $0.0\n",
      "On the 220th day, Bought 0 shares for $0.0\n",
      "On the 221th day, Bought 0 shares for $0.0\n",
      "On the 222th day, Bought 0 shares for $0.0\n",
      "On the 248th day, sold 13.21632471205914 shares for $991.753006392918\n",
      "On the 263th day, Bought 6.780580417683754 shares for $500.0\n",
      "On the 284th day, Bought 6.898454746136865 shares for $500.0\n",
      "On the 294th day, sold 13.679035163820618 shares for $993.6451142999297\n",
      "On the 307th day, Bought 6.6711140760507 shares for $500.0\n",
      "On the 308th day, Bought 5 shares for $376.5\n",
      "On the 309th day, Bought 1 shares for $75.36\n",
      "On the 310th day, Bought 0 shares for $0.0\n",
      "On the 311th day, Bought 0 shares for $0.0\n",
      "On the 312th day, Bought 0 shares for $0.0\n",
      "On the 313th day, Bought 0 shares for $0.0\n",
      "On the 341th day, sold 12.6711140760507 shares for $940.4500867244828\n",
      "On the 379th day, Bought 6.690753378830456 shares for $500.0\n",
      "On the 416th day, Bought 5 shares for $361.59999999999997\n",
      "On the 421th day, sold 11.690753378830456 shares for $836.3564967215309\n",
      "On the 432th day, Bought 7.369196757553428 shares for $500.0\n",
      "On the 435th day, sold 7.369196757553428 shares for $491.30434782608705\n",
      "On the 462th day, Bought 7.154099298898268 shares for $500.0\n",
      "On the 472th day, Bought 6 shares for $419.76\n",
      "On the 484th day, sold 13.154099298898268 shares for $937.0980340535126\n",
      "XLP Final Value: 968.597539938681, Final Money: 968.597539938681, Final Shares: 0.0\n"
     ]
    },
    {
     "name": "stderr",
     "output_type": "stream",
     "text": [
      "[*********************100%***********************]  1 of 1 completed\n"
     ]
    },
    {
     "name": "stdout",
     "output_type": "stream",
     "text": [
      "read  4779  lines of data for ticker:  XLP\n"
     ]
    },
    {
     "name": "stderr",
     "output_type": "stream",
     "text": [
      "[*********************100%***********************]  1 of 1 completed\n"
     ]
    },
    {
     "name": "stdout",
     "output_type": "stream",
     "text": [
      "read  504  lines of data for ticker:  XLP\n",
      "On the 124th day, Bought 6.883259911894273 shares for $500.0\n",
      "On the 149th day, sold 6.883259911894273 shares for $529.3226872246696\n",
      "On the 232th day, Bought 6.5333856004181365 shares for $500.0\n",
      "On the 233th day, Bought 6.646284726837697 shares for $500.0\n",
      "On the 236th day, sold 13.179670327255835 shares for $978.1951316889281\n",
      "On the 243th day, Bought 6.70690811535882 shares for $500.0\n",
      "On the 244th day, Bought 6.732193348592972 shares for $500.0\n",
      "On the 256th day, sold 13.439101463951792 shares for $975.9475483121792\n",
      "On the 280th day, Bought 6.876633200385092 shares for $499.99999999999994\n",
      "On the 291th day, sold 6.876633200385092 shares for $491.4729748315225\n",
      "On the 313th day, Bought 6.608511763150939 shares for $500.0\n",
      "On the 314th day, Bought 5 shares for $375.90000000000003\n",
      "On the 315th day, Bought 1 shares for $75.66\n",
      "On the 316th day, Bought 0 shares for $0.0\n",
      "On the 317th day, Bought 0 shares for $0.0\n",
      "On the 318th day, Bought 0 shares for $0.0\n",
      "On the 340th day, sold 12.60851176315094 shares for $942.7384245307957\n",
      "On the 378th day, Bought 6.758583400919167 shares for $500.0\n",
      "On the 379th day, Bought 5 shares for $373.65000000000003\n",
      "On the 384th day, sold 11.758583400919168 shares for $893.5347526358476\n",
      "On the 390th day, Bought 6.63129973474801 shares for $500.0\n",
      "On the 401th day, sold 6.63129973474801 shares for $484.21750663129967\n",
      "On the 461th day, Bought 7.227522405319456 shares for $500.0\n",
      "On the 462th day, Bought 6 shares for $419.34000000000003\n",
      "On the 464th day, sold 13.227522405319455 shares for $920.3710089621277\n",
      "On the 469th day, Bought 7.10126402499645 shares for $500.0\n",
      "On the 471th day, Bought 6 shares for $423.18\n"
     ]
    },
    {
     "name": "stderr",
     "output_type": "stream",
     "text": [
      "[*********************100%***********************]  1 of 1 completed"
     ]
    },
    {
     "name": "stdout",
     "output_type": "stream",
     "text": [
      "On the 483th day, sold 13.10126402499645 shares for $933.334049140747\n",
      "XLP Final Value: 981.4040839581169, Final Money: 981.4040839581169, Final Shares: 0.0\n",
      "read  4779  lines of data for ticker:  XLP\n"
     ]
    },
    {
     "name": "stderr",
     "output_type": "stream",
     "text": [
      "\n",
      "[*********************100%***********************]  1 of 1 completed\n"
     ]
    },
    {
     "name": "stdout",
     "output_type": "stream",
     "text": [
      "read  504  lines of data for ticker:  XLP\n",
      "On the 120th day, Bought 6.846501437765302 shares for $500.0\n",
      "On the 162th day, sold 6.846501437765302 shares for $493.9750787347666\n",
      "On the 218th day, Bought 6.561679790026247 shares for $500.00000000000006\n",
      "On the 219th day, Bought 5 shares for $381.25\n",
      "On the 248th day, sold 11.561679790026247 shares for $867.5884514435696\n",
      "On the 263th day, Bought 6.780580417683754 shares for $500.0\n",
      "On the 271th day, Bought 5 shares for $364.85\n",
      "On the 272th day, Bought 1 shares for $73.8\n",
      "On the 276th day, sold 12.780580417683755 shares for $941.6731651749392\n",
      "On the 281th day, Bought 6.884207627702052 shares for $500.0\n",
      "On the 294th day, sold 6.884207627702052 shares for $500.06884207627706\n",
      "On the 307th day, Bought 6.6711140760507 shares for $500.0\n",
      "On the 332th day, Bought 5 shares for $382.95000000000005\n",
      "On the 333th day, Bought 1 shares for $76.82\n",
      "On the 346th day, sold 12.6711140760507 shares for $920.8098599066043\n",
      "On the 375th day, Bought 6.75401864109145 shares for $500.0\n",
      "On the 376th day, Bought 5 shares for $371.4\n",
      "On the 393th day, sold 11.754018641091449 shares for $878.2602728623531\n",
      "On the 411th day, Bought 6.930967563071805 shares for $500.0\n",
      "On the 420th day, Bought 5 shares for $360.25\n",
      "On the 422th day, sold 11.930967563071805 shares for $851.5131549764347\n",
      "On the 427th day, Bought 7.20772668300418 shares for $500.0\n",
      "On the 438th day, sold 7.20772668300418 shares for $482.5573014271299\n",
      "On the 459th day, Bought 7.3014018691588785 shares for $500.0\n",
      "On the 460th day, Bought 6 shares for $413.76\n",
      "On the 484th day, sold 13.301401869158878 shares for $947.5918691588785\n",
      "On the 492th day, Bought 6.9560378408458545 shares for $500.0\n",
      "XLP Final Value: 960.9752467347982, Final Money: 458.95799576095294, Final Shares: 6.9560378408458545\n"
     ]
    },
    {
     "name": "stderr",
     "output_type": "stream",
     "text": [
      "[*********************100%***********************]  1 of 1 completed\n"
     ]
    },
    {
     "name": "stdout",
     "output_type": "stream",
     "text": [
      "read  4779  lines of data for ticker:  XLV\n"
     ]
    },
    {
     "name": "stderr",
     "output_type": "stream",
     "text": [
      "[*********************100%***********************]  1 of 1 completed\n"
     ]
    },
    {
     "name": "stdout",
     "output_type": "stream",
     "text": [
      "read  504  lines of data for ticker:  XLV\n",
      "On the 46th day, Bought 3.6640773853143775 shares for $500.0\n",
      "On the 51th day, Bought 3.6427218417601632 shares for $499.99999999999994\n",
      "On the 52th day, Bought 0 shares for $0.0\n",
      "On the 53th day, Bought 0 shares for $0.0\n",
      "On the 54th day, Bought 0 shares for $0.0\n",
      "On the 71th day, sold 7.30679922707454 shares for $965.9588578192541\n",
      "On the 126th day, Bought 3.840245775729647 shares for $500.0\n",
      "On the 143th day, Bought 2 shares for $262.72\n",
      "On the 144th day, Bought 1 shares for $132.79\n",
      "On the 145th day, Bought 0 shares for $0.0\n",
      "On the 146th day, Bought 0 shares for $0.0\n",
      "On the 162th day, sold 6.840245775729647 shares for $855.7831490015361\n",
      "On the 198th day, Bought 3.8051750380517504 shares for $500.0\n",
      "On the 199th day, Bought 2 shares for $261.42\n",
      "On the 200th day, Bought 1 shares for $132.86\n",
      "On the 201th day, Bought 0 shares for $0.0\n",
      "On the 202th day, Bought 0 shares for $0.0\n",
      "On the 203th day, Bought 0 shares for $0.0\n",
      "On the 204th day, Bought 0 shares for $0.0\n",
      "On the 205th day, Bought 0 shares for $0.0\n",
      "On the 206th day, Bought 0 shares for $0.0\n",
      "On the 217th day, Bought 0 shares for $0.0\n",
      "On the 218th day, Bought 0 shares for $0.0\n",
      "On the 219th day, Bought 0 shares for $0.0\n",
      "On the 220th day, Bought 0 shares for $0.0\n",
      "On the 221th day, Bought 0 shares for $0.0\n",
      "On the 222th day, Bought 0 shares for $0.0\n",
      "On the 273th day, Bought 0 shares for $0.0\n",
      "On the 290th day, sold 6.80517503805175 shares for $844.8624809741249\n",
      "On the 402th day, Bought 3.7405550983765994 shares for $500.0\n",
      "On the 403th day, Bought 2 shares for $266.4\n",
      "On the 404th day, Bought 0 shares for $0.0\n",
      "On the 405th day, Bought 0 shares for $0.0\n",
      "On the 406th day, Bought 0 shares for $0.0\n",
      "On the 431th day, sold 5.7405550983766 shares for $738.0057634472956\n",
      "On the 467th day, Bought 3.8517833757029503 shares for $500.0\n",
      "On the 468th day, Bought 2 shares for $260.86\n",
      "On the 469th day, Bought 0 shares for $0.0\n",
      "On the 470th day, Bought 0 shares for $0.0\n",
      "On the 471th day, Bought 0 shares for $0.0\n",
      "On the 472th day, Bought 0 shares for $0.0\n",
      "On the 473th day, Bought 0 shares for $0.0\n",
      "On the 474th day, Bought 0 shares for $0.0\n",
      "On the 475th day, Bought 0 shares for $0.0\n"
     ]
    },
    {
     "name": "stderr",
     "output_type": "stream",
     "text": [
      "[*********************100%***********************]  1 of 1 completed"
     ]
    },
    {
     "name": "stdout",
     "output_type": "stream",
     "text": [
      "XLV Final Value: 902.3625684750898, Final Money: 87.56025124221094, Final Shares: 5.851783375702951\n",
      "read  4779  lines of data for ticker:  XLV\n"
     ]
    },
    {
     "name": "stderr",
     "output_type": "stream",
     "text": [
      "\n",
      "[*********************100%***********************]  1 of 1 completed\n"
     ]
    },
    {
     "name": "stdout",
     "output_type": "stream",
     "text": [
      "read  504  lines of data for ticker:  XLV\n",
      "On the 53th day, Bought 3.6142836489807717 shares for $499.99999999999994\n",
      "On the 70th day, sold 3.6142836489807717 shares for $486.37415064334243\n",
      "On the 95th day, Bought 3.7812901762081226 shares for $500.0\n",
      "On the 122th day, Bought 2 shares for $260.82\n",
      "On the 123th day, Bought 1 shares for $128.75\n",
      "On the 125th day, Bought 0 shares for $0.0\n",
      "On the 126th day, Bought 0 shares for $0.0\n",
      "On the 139th day, Bought 0 shares for $0.0\n",
      "On the 140th day, Bought 0 shares for $0.0\n",
      "On the 143th day, Bought 0 shares for $0.0\n",
      "On the 161th day, sold 6.781290176208122 shares for $847.5934591242532\n",
      "On the 201th day, Bought 3.766478342749529 shares for $499.99999999999994\n",
      "On the 202th day, Bought 2 shares for $265.66\n",
      "On the 203th day, Bought 1 shares for $130.57\n",
      "On the 217th day, Bought 0 shares for $0.0\n",
      "On the 218th day, Bought 0 shares for $0.0\n",
      "On the 219th day, Bought 0 shares for $0.0\n",
      "On the 220th day, Bought 0 shares for $0.0\n",
      "On the 221th day, Bought 0 shares for $0.0\n",
      "On the 222th day, Bought 0 shares for $0.0\n",
      "On the 262th day, Bought 0 shares for $0.0\n",
      "On the 288th day, sold 6.766478342749529 shares for $854.9445386064031\n",
      "On the 308th day, Bought 3.7540355882573766 shares for $500.0\n",
      "On the 316th day, Bought 2 shares for $267.08\n",
      "On the 336th day, Bought 1 shares for $130.86\n",
      "On the 337th day, Bought 0 shares for $0.0\n",
      "On the 349th day, sold 6.754035588257377 shares for $883.3603145881823\n",
      "On the 389th day, Bought 3.7441964954320803 shares for $500.0\n",
      "On the 404th day, Bought 2 shares for $267.2\n",
      "On the 405th day, Bought 0 shares for $0.0\n",
      "On the 413th day, sold 5.74419649543208 shares for $755.1895132544555\n",
      "On the 420th day, Bought 3.782434374763598 shares for $500.0\n",
      "On the 424th day, Bought 2 shares for $260.84\n",
      "On the 445th day, sold 5.782434374763598 shares for $740.4985460322264\n",
      "On the 467th day, Bought 3.8517833757029503 shares for $500.0\n",
      "On the 468th day, Bought 2 shares for $260.86\n",
      "On the 469th day, Bought 0 shares for $0.0\n",
      "On the 470th day, Bought 0 shares for $0.0\n"
     ]
    },
    {
     "name": "stderr",
     "output_type": "stream",
     "text": [
      "[*********************100%***********************]  1 of 1 completed"
     ]
    },
    {
     "name": "stdout",
     "output_type": "stream",
     "text": [
      "XLV Final Value: 910.1228394817417, Final Money: 95.32052224886286, Final Shares: 5.851783375702951\n",
      "read  4779  lines of data for ticker:  XLV\n"
     ]
    },
    {
     "name": "stderr",
     "output_type": "stream",
     "text": [
      "\n",
      "[*********************100%***********************]  1 of 1 completed\n"
     ]
    },
    {
     "name": "stdout",
     "output_type": "stream",
     "text": [
      "read  504  lines of data for ticker:  XLV\n",
      "On the 52th day, Bought 3.621351488375462 shares for $500.0\n",
      "On the 61th day, sold 3.621351488375462 shares for $506.95299485768095\n"
     ]
    },
    {
     "name": "stderr",
     "output_type": "stream",
     "text": [
      "[*********************100%***********************]  1 of 1 completed"
     ]
    },
    {
     "name": "stdout",
     "output_type": "stream",
     "text": [
      "On the 480th day, Bought 3.761095230931247 shares for $500.0\n",
      "On the 483th day, sold 3.761095230931247 shares for $508.9137956973071\n",
      "XLV Final Value: 1015.866790554988, Final Money: 1015.866790554988, Final Shares: 0.0\n",
      "read  4779  lines of data for ticker:  XLV\n"
     ]
    },
    {
     "name": "stderr",
     "output_type": "stream",
     "text": [
      "\n",
      "[*********************100%***********************]  1 of 1 completed\n"
     ]
    },
    {
     "name": "stdout",
     "output_type": "stream",
     "text": [
      "read  504  lines of data for ticker:  XLV\n",
      "On the 88th day, Bought 3.899547652472313 shares for $500.0\n",
      "On the 111th day, sold 3.899547652472313 shares for $495.5935111527063\n",
      "On the 217th day, Bought 3.681885125184094 shares for $500.0\n",
      "On the 235th day, sold 3.681885125184094 shares for $495.10309278350513\n",
      "On the 336th day, Bought 3.8208772734219774 shares for $500.0\n",
      "On the 337th day, Bought 2 shares for $262.04\n",
      "On the 339th day, Bought 1 shares for $131.31\n",
      "On the 373th day, sold 6.820877273421978 shares for $887.0550894085283\n",
      "On the 408th day, Bought 3.7058997924696118 shares for $500.0\n",
      "On the 414th day, sold 3.7058997924696118 shares for $489.40112659353696\n",
      "On the 420th day, Bought 3.782434374763598 shares for $500.0\n",
      "On the 421th day, Bought 2 shares for $262.9\n",
      "On the 422th day, Bought 1 shares for $131.56\n",
      "On the 423th day, Bought 0 shares for $0.0\n",
      "On the 424th day, Bought 0 shares for $0.0\n",
      "On the 444th day, sold 6.782434374763598 shares for $872.0175875633557\n",
      "XLV Final Value: 951.3604075016324, Final Money: 951.3604075016324, Final Shares: 0.0\n"
     ]
    },
    {
     "name": "stderr",
     "output_type": "stream",
     "text": [
      "[*********************100%***********************]  1 of 1 completed\n"
     ]
    },
    {
     "name": "stdout",
     "output_type": "stream",
     "text": [
      "read  4779  lines of data for ticker:  XLY\n"
     ]
    },
    {
     "name": "stderr",
     "output_type": "stream",
     "text": [
      "[*********************100%***********************]  1 of 1 completed\n"
     ]
    },
    {
     "name": "stdout",
     "output_type": "stream",
     "text": [
      "read  504  lines of data for ticker:  XLY\n",
      "On the 30th day, Bought 2.8378455076905613 shares for $500.0\n",
      "On the 31th day, Bought 1 shares for $177.43\n",
      "On the 32th day, Bought 1 shares for $174.74\n",
      "On the 33th day, Bought 0 shares for $0.0\n",
      "On the 34th day, Bought 0 shares for $0.0\n",
      "On the 72th day, sold 4.837845507690561 shares for $813.4837221181679\n",
      "On the 100th day, Bought 3.243593902043464 shares for $500.0\n",
      "On the 101th day, Bought 2 shares for $306.48\n",
      "On the 102th day, Bought 1 shares for $150.47\n",
      "On the 103th day, Bought 0 shares for $0.0\n",
      "On the 104th day, Bought 0 shares for $0.0\n",
      "On the 122th day, Bought 0 shares for $0.0\n",
      "On the 133th day, Bought 0 shares for $0.0\n",
      "On the 144th day, Bought 0 shares for $0.0\n",
      "On the 145th day, Bought 0 shares for $0.0\n",
      "On the 146th day, Bought 0 shares for $0.0\n",
      "On the 154th day, Bought 0 shares for $0.0\n",
      "On the 155th day, Bought 0 shares for $0.0\n",
      "On the 194th day, sold 6.2435939020434645 shares for $863.9260882257543\n",
      "On the 200th day, Bought 3.4492273730684326 shares for $500.0\n",
      "On the 201th day, Bought 2 shares for $288.06\n",
      "On the 202th day, Bought 0 shares for $0.0\n",
      "On the 217th day, Bought 0 shares for $0.0\n",
      "On the 218th day, Bought 0 shares for $0.0\n",
      "On the 219th day, Bought 0 shares for $0.0\n",
      "On the 220th day, Bought 0 shares for $0.0\n",
      "On the 221th day, Bought 0 shares for $0.0\n",
      "On the 222th day, Bought 0 shares for $0.0\n",
      "On the 223th day, Bought 0 shares for $0.0\n",
      "On the 266th day, sold 5.449227373068433 shares for $824.7405629139073\n",
      "On the 285th day, Bought 3.41740140796938 shares for $500.0\n",
      "On the 288th day, Bought 2 shares for $286.0\n",
      "On the 289th day, Bought 0 shares for $0.0\n",
      "On the 306th day, Bought 0 shares for $0.0\n",
      "On the 307th day, Bought 0 shares for $0.0\n",
      "On the 308th day, Bought 0 shares for $0.0\n",
      "On the 317th day, Bought 0 shares for $0.0\n",
      "On the 318th day, Bought 0 shares for $0.0\n",
      "On the 331th day, Bought 0 shares for $0.0\n",
      "On the 332th day, Bought 0 shares for $0.0\n",
      "On the 333th day, Bought 0 shares for $0.0\n",
      "On the 347th day, sold 5.41740140796938 shares for $831.0293759825029\n",
      "On the 373th day, Bought 2.918685424084992 shares for $500.0\n",
      "On the 374th day, Bought 1 shares for $172.85\n",
      "On the 375th day, Bought 1 shares for $174.47\n",
      "On the 376th day, Bought 0 shares for $0.0\n",
      "On the 377th day, Bought 0 shares for $0.0\n",
      "On the 378th day, Bought 0 shares for $0.0\n",
      "On the 379th day, Bought 0 shares for $0.0\n",
      "On the 380th day, Bought 0 shares for $0.0\n",
      "On the 392th day, sold 4.918685424084992 shares for $852.45737084817\n"
     ]
    },
    {
     "name": "stderr",
     "output_type": "stream",
     "text": [
      "[*********************100%***********************]  1 of 1 completed"
     ]
    },
    {
     "name": "stdout",
     "output_type": "stream",
     "text": [
      "On the 458th day, Bought 3.0906168871306714 shares for $500.0\n",
      "On the 459th day, Bought 2 shares for $317.52\n",
      "On the 460th day, Bought 0 shares for $0.0\n",
      "On the 468th day, Bought 0 shares for $0.0\n",
      "On the 469th day, Bought 0 shares for $0.0\n",
      "On the 470th day, Bought 0 shares for $0.0\n",
      "On the 471th day, Bought 0 shares for $0.0\n",
      "On the 472th day, Bought 0 shares for $0.0\n",
      "On the 473th day, Bought 0 shares for $0.0\n",
      "XLY Final Value: 1014.9849405854734, Final Money: 137.61712008850213, Final Shares: 5.090616887130672\n",
      "read  4779  lines of data for ticker:  XLY\n"
     ]
    },
    {
     "name": "stderr",
     "output_type": "stream",
     "text": [
      "\n",
      "[*********************100%***********************]  1 of 1 completed\n"
     ]
    },
    {
     "name": "stdout",
     "output_type": "stream",
     "text": [
      "read  504  lines of data for ticker:  XLY\n",
      "On the 48th day, Bought 2.74333369911116 shares for $500.0\n",
      "On the 50th day, Bought 2.726876090750436 shares for $499.99999999999994\n",
      "On the 51th day, Bought 0 shares for $0.0\n",
      "On the 52th day, Bought 0 shares for $0.0\n",
      "On the 53th day, Bought 0 shares for $0.0\n",
      "On the 75th day, sold 5.470209789861595 shares for $904.0068698725272\n",
      "On the 101th day, Bought 3.262855651265988 shares for $500.0\n",
      "On the 102th day, Bought 2 shares for $300.94\n",
      "On the 103th day, Bought 0 shares for $0.0\n",
      "On the 122th day, Bought 0 shares for $0.0\n",
      "On the 126th day, Bought 0 shares for $0.0\n",
      "On the 127th day, Bought 0 shares for $0.0\n",
      "On the 128th day, Bought 0 shares for $0.0\n",
      "On the 130th day, Bought 0 shares for $0.0\n",
      "On the 131th day, Bought 0 shares for $0.0\n",
      "On the 132th day, Bought 0 shares for $0.0\n",
      "On the 168th day, sold 5.262855651265988 shares for $842.2674184286086\n",
      "On the 274th day, Bought 3.248862897985705 shares for $500.0\n",
      "On the 275th day, Bought 2 shares for $301.08\n",
      "On the 306th day, Bought 0 shares for $0.0\n",
      "On the 313th day, Bought 0 shares for $0.0\n",
      "On the 316th day, Bought 0 shares for $0.0\n",
      "On the 317th day, Bought 0 shares for $0.0\n",
      "On the 321th day, Bought 0 shares for $0.0\n",
      "On the 336th day, Bought 0 shares for $0.0\n",
      "On the 337th day, Bought 0 shares for $0.0\n",
      "On the 359th day, Bought 0 shares for $0.0\n",
      "On the 360th day, Bought 0 shares for $0.0\n",
      "On the 378th day, Bought 0 shares for $0.0\n",
      "On the 379th day, Bought 0 shares for $0.0\n",
      "On the 380th day, Bought 0 shares for $0.0\n",
      "On the 382th day, sold 5.248862897985704 shares for $903.3293047433397\n",
      "On the 416th day, Bought 2.8853367187950836 shares for $500.0\n",
      "On the 422th day, sold 2.8853367187950836 shares for $486.9582780310463\n"
     ]
    },
    {
     "name": "stderr",
     "output_type": "stream",
     "text": [
      "[*********************100%***********************]  1 of 1 completed"
     ]
    },
    {
     "name": "stdout",
     "output_type": "stream",
     "text": [
      "On the 457th day, Bought 3.08242401824795 shares for $500.0\n",
      "On the 458th day, Bought 3.0906168871306714 shares for $500.0\n",
      "On the 459th day, Bought 0 shares for $0.0\n",
      "On the 470th day, Bought 0 shares for $0.0\n",
      "On the 471th day, Bought 0 shares for $0.0\n",
      "On the 472th day, Bought 0 shares for $0.0\n",
      "On the 473th day, Bought 0 shares for $0.0\n",
      "On the 474th day, Bought 0 shares for $0.0\n",
      "XLY Final Value: 1098.4654711175272, Final Money: 34.54187107552184, Final Shares: 6.173040905378621\n",
      "read  4779  lines of data for ticker:  XLY\n"
     ]
    },
    {
     "name": "stderr",
     "output_type": "stream",
     "text": [
      "\n",
      "[*********************100%***********************]  1 of 1 completed\n"
     ]
    },
    {
     "name": "stdout",
     "output_type": "stream",
     "text": [
      "read  504  lines of data for ticker:  XLY\n",
      "On the 65th day, Bought 2.794232703699564 shares for $500.0\n",
      "On the 72th day, sold 2.794232703699564 shares for $469.8502291270817\n",
      "On the 100th day, Bought 3.243593902043464 shares for $500.0\n",
      "On the 101th day, Bought 2 shares for $306.48\n",
      "On the 102th day, Bought 1 shares for $150.47\n",
      "On the 103th day, Bought 0 shares for $0.0\n",
      "On the 120th day, Bought 0 shares for $0.0\n",
      "On the 124th day, Bought 0 shares for $0.0\n",
      "On the 125th day, Bought 0 shares for $0.0\n",
      "On the 126th day, Bought 0 shares for $0.0\n",
      "On the 127th day, Bought 0 shares for $0.0\n",
      "On the 128th day, Bought 0 shares for $0.0\n",
      "On the 176th day, sold 6.2435939020434645 shares for $912.1266331495298\n",
      "On the 186th day, Bought 3.577049649449134 shares for $500.0\n",
      "On the 192th day, Bought 2 shares for $285.4\n",
      "On the 202th day, Bought 0 shares for $0.0\n",
      "On the 203th day, Bought 1 shares for $137.18\n",
      "On the 205th day, sold 6.577049649449134 shares for $904.3443267992559\n",
      "On the 220th day, Bought 3.527336860670194 shares for $500.0\n",
      "On the 221th day, Bought 2 shares for $282.6\n",
      "On the 233th day, Bought 0 shares for $0.0\n",
      "On the 234th day, Bought 0 shares for $0.0\n",
      "On the 237th day, sold 5.527336860670194 shares for $729.2768253968253\n"
     ]
    },
    {
     "name": "stderr",
     "output_type": "stream",
     "text": [
      "[*********************100%***********************]  1 of 1 completed"
     ]
    },
    {
     "name": "stdout",
     "output_type": "stream",
     "text": [
      "On the 470th day, Bought 2.967182956501098 shares for $500.0\n",
      "On the 471th day, Bought 1 shares for $169.48\n",
      "On the 472th day, Bought 1 shares for $169.02\n",
      "On the 473th day, Bought 0 shares for $0.0\n",
      "XLY Final Value: 871.0619970256569, Final Money: 14.96801447269263, Final Shares: 4.967182956501098\n",
      "read  4779  lines of data for ticker:  XLY\n"
     ]
    },
    {
     "name": "stderr",
     "output_type": "stream",
     "text": [
      "\n",
      "[*********************100%***********************]  1 of 1 completed\n"
     ]
    },
    {
     "name": "stdout",
     "output_type": "stream",
     "text": [
      "read  504  lines of data for ticker:  XLY\n",
      "On the 65th day, Bought 2.794232703699564 shares for $500.0\n",
      "On the 75th day, sold 2.794232703699564 shares for $461.7748966133899\n",
      "On the 102th day, Bought 3.3229215125938727 shares for $500.0\n",
      "On the 103th day, Bought 2 shares for $288.94\n",
      "On the 110th day, sold 5.322921512593872 shares for $742.0152588555858\n",
      "On the 117th day, Bought 3.571173487608028 shares for $500.0\n",
      "On the 122th day, Bought 2 shares for $284.72\n",
      "On the 126th day, Bought 0 shares for $0.0\n",
      "On the 127th day, Bought 0 shares for $0.0\n",
      "On the 128th day, Bought 0 shares for $0.0\n",
      "On the 162th day, Bought 0 shares for $0.0\n",
      "On the 163th day, Bought 0 shares for $0.0\n",
      "On the 169th day, Bought 0 shares for $0.0\n",
      "On the 187th day, Bought 0 shares for $0.0\n",
      "On the 188th day, Bought 0 shares for $0.0\n",
      "On the 189th day, Bought 0 shares for $0.0\n",
      "On the 190th day, Bought 0 shares for $0.0\n",
      "On the 196th day, sold 5.5711734876080286 shares for $796.6220969930721\n",
      "On the 203th day, Bought 3.6448461874908875 shares for $500.0\n",
      "On the 205th day, Bought 2 shares for $275.0\n",
      "On the 206th day, Bought 1 shares for $136.54\n",
      "On the 207th day, Bought 0 shares for $0.0\n",
      "On the 208th day, Bought 0 shares for $0.0\n",
      "On the 226th day, Bought 0 shares for $0.0\n",
      "On the 248th day, sold 6.644846187490888 shares for $882.9007129319143\n",
      "On the 289th day, Bought 3.5819184755354967 shares for $500.0\n",
      "On the 302th day, Bought 2 shares for $283.4\n",
      "On the 303th day, Bought 0 shares for $0.0\n",
      "On the 305th day, Bought 0 shares for $0.0\n",
      "On the 316th day, Bought 0 shares for $0.0\n",
      "On the 317th day, Bought 0 shares for $0.0\n",
      "On the 318th day, Bought 0 shares for $0.0\n",
      "On the 336th day, Bought 0 shares for $0.0\n",
      "On the 348th day, sold 5.581918475535497 shares for $876.361200659073\n",
      "On the 382th day, Bought 2.9052876234747242 shares for $500.0\n",
      "On the 392th day, sold 2.9052876234747242 shares for $503.5153980244045\n",
      "On the 426th day, Bought 3.0879446640316206 shares for $499.99999999999994\n",
      "On the 431th day, sold 3.0879446640316206 shares for $497.49876482213443\n",
      "On the 458th day, Bought 3.0906168871306714 shares for $500.0\n",
      "On the 470th day, Bought 1 shares for $168.51\n",
      "XLY Final Value: 1028.5961493965456, Final Money: 323.5783288995742, Final Shares: 4.090616887130672\n"
     ]
    },
    {
     "name": "stderr",
     "output_type": "stream",
     "text": [
      "[*********************100%***********************]  1 of 1 completed\n"
     ]
    },
    {
     "name": "stdout",
     "output_type": "stream",
     "text": [
      "read  4779  lines of data for ticker:  XLU\n"
     ]
    },
    {
     "name": "stderr",
     "output_type": "stream",
     "text": [
      "[*********************100%***********************]  1 of 1 completed\n"
     ]
    },
    {
     "name": "stdout",
     "output_type": "stream",
     "text": [
      "read  504  lines of data for ticker:  XLU\n",
      "On the 47th day, Bought 7.051191651389085 shares for $500.0\n",
      "On the 72th day, sold 7.051191651389085 shares for $512.269073473417\n",
      "On the 151th day, Bought 6.435006435006435 shares for $500.0\n",
      "On the 152th day, Bought 6.524008350730689 shares for $500.0\n",
      "On the 153th day, Bought 0 shares for $0.0\n",
      "On the 154th day, Bought 0 shares for $0.0\n",
      "On the 155th day, Bought 0 shares for $0.0\n",
      "On the 156th day, Bought 0 shares for $0.0\n",
      "On the 161th day, sold 12.959014785737125 shares for $966.7425030159894\n",
      "On the 200th day, Bought 7.417297136923305 shares for $500.0\n",
      "On the 201th day, Bought 6 shares for $400.68\n",
      "On the 202th day, Bought 1 shares for $67.04\n",
      "On the 217th day, Bought 0 shares for $0.0\n",
      "On the 218th day, Bought 0 shares for $0.0\n",
      "On the 219th day, Bought 0 shares for $0.0\n",
      "On the 220th day, Bought 0 shares for $0.0\n",
      "On the 221th day, Bought 0 shares for $0.0\n",
      "On the 222th day, Bought 0 shares for $0.0\n",
      "On the 269th day, sold 14.417297136923306 shares for $970.4282702863078\n",
      "On the 308th day, Bought 7.212925562608195 shares for $500.0\n",
      "On the 310th day, Bought 6 shares for $418.02\n",
      "On the 311th day, Bought 0 shares for $0.0\n",
      "On the 337th day, sold 13.212925562608195 shares for $877.4703866128102\n",
      "On the 357th day, Bought 7.469375560203167 shares for $499.99999999999994\n",
      "On the 359th day, Bought 6 shares for $395.88\n",
      "On the 377th day, Bought 0 shares for $0.0\n",
      "On the 378th day, Bought 0 shares for $0.0\n",
      "On the 399th day, Bought 0 shares for $0.0\n",
      "On the 402th day, Bought 0 shares for $0.0\n",
      "On the 403th day, Bought 0 shares for $0.0\n",
      "On the 404th day, Bought 0 shares for $0.0\n",
      "On the 428th day, sold 13.469375560203167 shares for $809.9135524350164\n"
     ]
    },
    {
     "name": "stderr",
     "output_type": "stream",
     "text": [
      "[*********************100%***********************]  1 of 1 completed"
     ]
    },
    {
     "name": "stdout",
     "output_type": "stream",
     "text": [
      "On the 469th day, Bought 7.975753708725475 shares for $500.0\n",
      "On the 470th day, Bought 5 shares for $313.95\n",
      "On the 471th day, Bought 0 shares for $0.0\n",
      "On the 472th day, Bought 0 shares for $0.0\n",
      "On the 473th day, Bought 0 shares for $0.0\n",
      "On the 474th day, Bought 0 shares for $0.0\n",
      "On the 484th day, sold 12.975753708725474 shares for $830.0589647471686\n",
      "XLU Final Value: 871.3127505707096, Final Money: 871.3127505707096, Final Shares: 0.0\n",
      "read  4779  lines of data for ticker:  XLU\n"
     ]
    },
    {
     "name": "stderr",
     "output_type": "stream",
     "text": [
      "\n",
      "[*********************100%***********************]  1 of 1 completed\n"
     ]
    },
    {
     "name": "stdout",
     "output_type": "stream",
     "text": [
      "read  504  lines of data for ticker:  XLU\n",
      "On the 127th day, Bought 7.268498328245384 shares for $500.0\n",
      "On the 164th day, sold 7.268498328245384 shares for $560.1831661578717\n",
      "On the 230th day, Bought 6.901311249137335 shares for $499.99999999999994\n",
      "On the 262th day, Bought 7.2907553222513855 shares for $500.0\n",
      "On the 263th day, Bought 0 shares for $0.0\n",
      "On the 264th day, Bought 0 shares for $0.0\n",
      "On the 265th day, Bought 0 shares for $0.0\n",
      "On the 266th day, Bought 0 shares for $0.0\n",
      "On the 273th day, sold 14.192066571388722 shares for $962.647875537297\n",
      "On the 308th day, Bought 7.212925562608195 shares for $500.0\n",
      "On the 310th day, Bought 7.176690110521028 shares for $500.0\n",
      "On the 311th day, Bought 0 shares for $0.0\n",
      "On the 316th day, Bought 0 shares for $0.0\n",
      "On the 317th day, Bought 0 shares for $0.0\n",
      "On the 318th day, Bought 0 shares for $0.0\n",
      "On the 319th day, Bought 0 shares for $0.0\n",
      "On the 320th day, Bought 0 shares for $0.0\n",
      "On the 363th day, sold 14.389615673129223 shares for $944.9660612543961\n",
      "On the 398th day, Bought 7.9339892097746745 shares for $500.0\n",
      "On the 399th day, Bought 6 shares for $379.79999999999995\n",
      "On the 400th day, Bought 1 shares for $63.16\n",
      "On the 401th day, Bought 0 shares for $0.0\n",
      "On the 402th day, Bought 0 shares for $0.0\n",
      "On the 406th day, Bought 0 shares for $0.0\n",
      "On the 407th day, Bought 0 shares for $0.0\n",
      "On the 408th day, Bought 0 shares for $0.0\n",
      "On the 409th day, Bought 0 shares for $0.0\n",
      "On the 410th day, Bought 0 shares for $0.0\n",
      "On the 428th day, sold 14.933989209774674 shares for $897.9807711837512\n",
      "On the 470th day, Bought 7.963051441312311 shares for $500.0\n",
      "On the 471th day, Bought 6 shares for $377.94\n",
      "On the 472th day, Bought 0 shares for $0.0\n",
      "On the 473th day, Bought 0 shares for $0.0\n",
      "On the 474th day, Bought 0 shares for $0.0\n"
     ]
    },
    {
     "name": "stderr",
     "output_type": "stream",
     "text": [
      "[*********************100%***********************]  1 of 1 completed"
     ]
    },
    {
     "name": "stdout",
     "output_type": "stream",
     "text": [
      "On the 484th day, sold 13.963051441312311 shares for $893.2164007007485\n",
      "XLU Final Value: 938.0942748340647, Final Money: 938.0942748340647, Final Shares: 0.0\n",
      "read  4779  lines of data for ticker:  XLU\n"
     ]
    },
    {
     "name": "stderr",
     "output_type": "stream",
     "text": [
      "\n",
      "[*********************100%***********************]  1 of 1 completed\n"
     ]
    },
    {
     "name": "stdout",
     "output_type": "stream",
     "text": [
      "read  504  lines of data for ticker:  XLU\n",
      "On the 125th day, Bought 7.18081286801666 shares for $500.0\n",
      "On the 172th day, sold 7.18081286801666 shares for $530.4466465603907\n",
      "On the 192th day, Bought 7.73874013310633 shares for $500.0\n",
      "On the 196th day, Bought 7.832080200501252 shares for $500.0\n",
      "On the 206th day, Bought 0 shares for $0.0\n",
      "On the 207th day, Bought 0 shares for $0.0\n",
      "On the 208th day, Bought 0 shares for $0.0\n",
      "On the 229th day, Bought 0 shares for $0.0\n",
      "On the 230th day, Bought 0 shares for $0.0\n",
      "On the 244th day, Bought 0 shares for $0.0\n",
      "On the 246th day, Bought 0 shares for $0.0\n",
      "On the 254th day, Bought 0 shares for $0.0\n",
      "On the 256th day, sold 15.570820333607582 shares for $1077.967891695653\n",
      "On the 261th day, Bought 7.257947452460444 shares for $500.0\n",
      "On the 284th day, sold 7.257947452460444 shares for $472.7826970532733\n",
      "On the 315th day, Bought 7.218131947452 shares for $500.0\n",
      "On the 316th day, Bought 7.255840951966333 shares for $500.0\n",
      "On the 317th day, Bought 1 shares for $69.44\n",
      "On the 318th day, Bought 0 shares for $0.0\n",
      "On the 319th day, Bought 0 shares for $0.0\n",
      "On the 338th day, sold 15.473972899418333 shares for $1024.5317456704877\n",
      "On the 397th day, Bought 7.805182641273806 shares for $500.0\n",
      "On the 404th day, Bought 7.87153652392947 shares for $500.0\n",
      "On the 405th day, Bought 0 shares for $0.0\n",
      "On the 406th day, Bought 0 shares for $0.0\n",
      "On the 428th day, sold 15.676719165203277 shares for $942.6411234036731\n",
      "On the 469th day, Bought 7.975753708725475 shares for $500.0\n"
     ]
    },
    {
     "name": "stderr",
     "output_type": "stream",
     "text": [
      "[*********************100%***********************]  1 of 1 completed"
     ]
    },
    {
     "name": "stdout",
     "output_type": "stream",
     "text": [
      "On the 488th day, sold 7.975753708725475 shares for $497.76678896155687\n",
      "XLU Final Value: 976.6968933450346, Final Money: 976.6968933450346, Final Shares: 0.0\n",
      "read  4779  lines of data for ticker:  XLU\n"
     ]
    },
    {
     "name": "stderr",
     "output_type": "stream",
     "text": [
      "\n",
      "[*********************100%***********************]  1 of 1 completed\n"
     ]
    },
    {
     "name": "stdout",
     "output_type": "stream",
     "text": [
      "read  504  lines of data for ticker:  XLU\n",
      "On the 219th day, Bought 7.048209754722301 shares for $500.0\n",
      "On the 248th day, sold 7.048209754722301 shares for $503.80603326755005\n",
      "On the 263th day, Bought 7.236937328122738 shares for $500.0\n",
      "On the 264th day, Bought 7.224389539083948 shares for $500.0\n",
      "On the 265th day, Bought 0 shares for $0.0\n",
      "On the 266th day, Bought 0 shares for $0.0\n",
      "On the 267th day, Bought 0 shares for $0.0\n",
      "On the 272th day, sold 14.461326867206687 shares for $985.1055861941196\n",
      "On the 308th day, Bought 7.212925562608195 shares for $500.0\n",
      "On the 336th day, sold 7.212925562608195 shares for $480.74148874783623\n",
      "On the 388th day, Bought 7.547169811320755 shares for $500.0\n",
      "On the 389th day, Bought 6 shares for $397.5\n",
      "On the 390th day, Bought 1 shares for $64.74\n",
      "On the 396th day, Bought 0 shares for $0.0\n",
      "On the 417th day, sold 14.547169811320755 shares for $924.0362264150943\n",
      "On the 427th day, Bought 8.155276463872125 shares for $500.0\n",
      "On the 429th day, sold 8.155276463872125 shares for $479.7749143695971\n",
      "On the 454th day, Bought 8.130081300813009 shares for $500.00000000000006\n",
      "On the 455th day, Bought 6 shares for $371.15999999999997\n",
      "On the 487th day, sold 14.130081300813009 shares for $880.3040650406504\n",
      "XLU Final Value: 920.3683140348476, Final Money: 920.3683140348476, Final Shares: 0.0\n"
     ]
    },
    {
     "name": "stderr",
     "output_type": "stream",
     "text": [
      "[*********************100%***********************]  1 of 1 completed\n"
     ]
    },
    {
     "name": "stdout",
     "output_type": "stream",
     "text": [
      "read  4779  lines of data for ticker:  XLB\n"
     ]
    },
    {
     "name": "stderr",
     "output_type": "stream",
     "text": [
      "[*********************100%***********************]  1 of 1 completed\n"
     ]
    },
    {
     "name": "stdout",
     "output_type": "stream",
     "text": [
      "read  504  lines of data for ticker:  XLB\n",
      "On the 45th day, Bought 5.807200929152149 shares for $500.0\n",
      "On the 47th day, Bought 5.749770009199632 shares for $499.99999999999994\n",
      "On the 48th day, Bought 0 shares for $0.0\n",
      "On the 49th day, Bought 0 shares for $0.0\n",
      "On the 50th day, Bought 0 shares for $0.0\n",
      "On the 51th day, Bought 0 shares for $0.0\n",
      "On the 52th day, Bought 0 shares for $0.0\n",
      "On the 53th day, Bought 0 shares for $0.0\n",
      "On the 54th day, Bought 0 shares for $0.0\n",
      "On the 71th day, sold 11.556970938351782 shares for $972.8658135904531\n",
      "On the 100th day, Bought 5.674080798910576 shares for $500.0\n",
      "On the 101th day, Bought 4 shares for $345.16\n",
      "On the 134th day, Bought 1 shares for $75.76\n",
      "On the 136th day, Bought 0 shares for $0.0\n",
      "On the 155th day, Bought 0 shares for $0.0\n",
      "On the 158th day, sold 10.674080798910577 shares for $814.9660689968225\n",
      "On the 189th day, Bought 7.086167800453515 shares for $500.0\n",
      "On the 194th day, sold 7.086167800453515 shares for $495.3231292517007\n",
      "On the 200th day, Bought 6.688963210702341 shares for $500.0\n",
      "On the 201th day, Bought 4 shares for $296.32\n",
      "On the 202th day, Bought 0 shares for $0.0\n",
      "On the 203th day, Bought 0 shares for $0.0\n",
      "On the 217th day, Bought 0 shares for $0.0\n",
      "On the 218th day, Bought 0 shares for $0.0\n",
      "On the 219th day, Bought 0 shares for $0.0\n",
      "On the 220th day, Bought 0 shares for $0.0\n",
      "On the 221th day, Bought 0 shares for $0.0\n",
      "On the 222th day, Bought 0 shares for $0.0\n",
      "On the 278th day, Bought 0 shares for $0.0\n",
      "On the 279th day, Bought 0 shares for $0.0\n",
      "On the 290th day, sold 10.68896321070234 shares for $835.663143812709\n",
      "On the 308th day, Bought 6.264094211976949 shares for $500.0\n",
      "On the 309th day, Bought 5 shares for $398.15\n",
      "On the 310th day, Bought 0 shares for $0.0\n",
      "On the 311th day, Bought 0 shares for $0.0\n",
      "On the 333th day, sold 11.26409421197695 shares for $878.1487847657229\n",
      "On the 378th day, Bought 5.953089653530182 shares for $500.0\n",
      "On the 379th day, Bought 4 shares for $334.16\n",
      "On the 380th day, Bought 0 shares for $0.0\n",
      "On the 381th day, Bought 0 shares for $0.0\n",
      "On the 382th day, Bought 0 shares for $0.0\n",
      "On the 383th day, Bought 0 shares for $0.0\n",
      "On the 411th day, Bought 0 shares for $0.0\n",
      "On the 425th day, sold 9.953089653530181 shares for $780.0236361471603\n",
      "On the 454th day, Bought 6.445790898543252 shares for $500.0\n",
      "On the 455th day, Bought 4 shares for $315.16\n"
     ]
    },
    {
     "name": "stderr",
     "output_type": "stream",
     "text": [
      "[*********************100%***********************]  1 of 1 completed"
     ]
    },
    {
     "name": "stdout",
     "output_type": "stream",
     "text": [
      "On the 469th day, Bought 0 shares for $0.0\n",
      "On the 470th day, Bought 0 shares for $0.0\n",
      "On the 471th day, Bought 0 shares for $0.0\n",
      "On the 472th day, Bought 0 shares for $0.0\n",
      "On the 473th day, Bought 0 shares for $0.0\n",
      "On the 495th day, Bought 0 shares for $0.0\n",
      "XLB Final Value: 891.8161702219104, Final Money: 12.280576564568548, Final Shares: 10.445790898543251\n",
      "read  4779  lines of data for ticker:  XLB\n"
     ]
    },
    {
     "name": "stderr",
     "output_type": "stream",
     "text": [
      "\n",
      "[*********************100%***********************]  1 of 1 completed\n"
     ]
    },
    {
     "name": "stdout",
     "output_type": "stream",
     "text": [
      "read  504  lines of data for ticker:  XLB\n",
      "On the 30th day, Bought 5.9283851078966086 shares for $500.0\n",
      "On the 44th day, Bought 4 shares for $342.32\n",
      "On the 45th day, Bought 1 shares for $86.1\n",
      "On the 46th day, Bought 0 shares for $0.0\n",
      "On the 47th day, Bought 0 shares for $0.0\n",
      "On the 48th day, Bought 0 shares for $0.0\n",
      "On the 49th day, Bought 0 shares for $0.0\n",
      "On the 50th day, Bought 0 shares for $0.0\n",
      "On the 51th day, Bought 0 shares for $0.0\n",
      "On the 70th day, sold 10.92838510789661 shares for $934.3769267251602\n",
      "On the 120th day, Bought 6.780580417683754 shares for $500.0\n",
      "On the 136th day, Bought 6.399590426212723 shares for $500.0\n",
      "On the 144th day, Bought 0 shares for $0.0\n",
      "On the 157th day, sold 13.180170843896477 shares for $1023.0448609032446\n",
      "On the 203th day, Bought 6.911805363560962 shares for $500.0\n",
      "On the 217th day, Bought 6.091617933723197 shares for $500.0\n",
      "On the 218th day, Bought 0 shares for $0.0\n",
      "On the 219th day, Bought 0 shares for $0.0\n",
      "On the 220th day, Bought 0 shares for $0.0\n",
      "On the 248th day, sold 13.003423297284158 shares for $1051.7168762843426\n",
      "On the 262th day, Bought 6.036460219727152 shares for $500.0\n",
      "On the 263th day, Bought 5.9066745422327225 shares for $500.0\n",
      "On the 285th day, Bought 0 shares for $0.0\n",
      "On the 286th day, Bought 0 shares for $0.0\n",
      "On the 290th day, sold 11.943134761959875 shares for $933.7142756900231\n",
      "On the 377th day, Bought 5.999520038396928 shares for $500.0\n",
      "On the 378th day, Bought 5.953089653530182 shares for $500.0\n",
      "On the 379th day, Bought 0 shares for $0.0\n",
      "On the 380th day, Bought 0 shares for $0.0\n",
      "On the 381th day, Bought 0 shares for $0.0\n",
      "On the 382th day, Bought 0 shares for $0.0\n",
      "On the 383th day, Bought 0 shares for $0.0\n",
      "On the 406th day, Bought 0 shares for $0.0\n",
      "On the 407th day, Bought 0 shares for $0.0\n",
      "On the 413th day, sold 11.95260969192711 shares for $981.1897296102965\n",
      "On the 456th day, Bought 6.377551020408163 shares for $500.0\n"
     ]
    },
    {
     "name": "stderr",
     "output_type": "stream",
     "text": [
      "[*********************100%***********************]  1 of 1 completed"
     ]
    },
    {
     "name": "stdout",
     "output_type": "stream",
     "text": [
      "On the 470th day, Bought 0 shares for $0.0\n",
      "On the 471th day, Bought 0 shares for $0.0\n",
      "On the 472th day, Bought 0 shares for $0.0\n",
      "On the 473th day, Bought 0 shares for $0.0\n",
      "XLB Final Value: 1032.6124651314344, Final Money: 495.62266921306696, Final Shares: 6.377551020408163\n",
      "read  4779  lines of data for ticker:  XLB\n"
     ]
    },
    {
     "name": "stderr",
     "output_type": "stream",
     "text": [
      "\n",
      "[*********************100%***********************]  1 of 1 completed\n"
     ]
    },
    {
     "name": "stdout",
     "output_type": "stream",
     "text": [
      "read  504  lines of data for ticker:  XLB\n",
      "On the 56th day, Bought 5.611672278338945 shares for $500.0\n",
      "On the 57th day, Bought 4 shares for $353.56\n",
      "On the 58th day, Bought 1 shares for $87.37\n",
      "On the 61th day, Bought 0 shares for $0.0\n",
      "On the 70th day, sold 10.611672278338945 shares for $907.2979797979798\n",
      "On the 144th day, Bought 6.30119722747322 shares for $499.99999999999994\n",
      "On the 147th day, sold 6.30119722747322 shares for $510.8380592312539\n",
      "On the 192th day, Bought 7.017543859649122 shares for $500.0\n",
      "On the 202th day, Bought 5 shares for $371.34999999999997\n",
      "On the 210th day, sold 12.017543859649123 shares for $976.4254385964913\n",
      "On the 216th day, Bought 6.229753301769249 shares for $500.0\n",
      "On the 240th day, Bought 6.362132586843109 shares for $499.99999999999994\n",
      "On the 250th day, sold 12.591885888612358 shares for $1044.7487721781674\n",
      "On the 263th day, Bought 5.9066745422327225 shares for $500.0\n",
      "On the 286th day, sold 5.9066745422327225 shares for $491.6125221500295\n",
      "On the 381th day, Bought 5.970149253731344 shares for $500.00000000000006\n",
      "On the 382th day, Bought 5.951672419950006 shares for $500.0\n",
      "On the 383th day, Bought 1 shares for $85.52\n",
      "On the 405th day, Bought 0 shares for $0.0\n",
      "On the 406th day, Bought 0 shares for $0.0\n",
      "On the 407th day, Bought 0 shares for $0.0\n",
      "On the 412th day, sold 12.92182167368135 shares for $1063.0782690937647\n",
      "On the 419th day, Bought 6.051071039574005 shares for $500.0\n",
      "On the 425th day, sold 6.051071039574005 shares for $474.2224373714148\n"
     ]
    },
    {
     "name": "stderr",
     "output_type": "stream",
     "text": [
      "[*********************100%***********************]  1 of 1 completed"
     ]
    },
    {
     "name": "stdout",
     "output_type": "stream",
     "text": [
      "On the 469th day, Bought 6.163708086785009 shares for $499.99999999999994\n",
      "On the 484th day, sold 6.163708086785009 shares for $524.9630177514792\n",
      "XLB Final Value: 1095.3864961705808, Final Money: 1095.3864961705808, Final Shares: 0.0\n",
      "read  4779  lines of data for ticker:  XLB\n"
     ]
    },
    {
     "name": "stderr",
     "output_type": "stream",
     "text": [
      "\n",
      "[*********************100%***********************]  1 of 1 completed\n"
     ]
    },
    {
     "name": "stdout",
     "output_type": "stream",
     "text": [
      "read  504  lines of data for ticker:  XLB\n",
      "On the 30th day, Bought 5.9283851078966086 shares for $500.0\n",
      "On the 32th day, Bought 6.137981831573779 shares for $499.99999999999994\n",
      "On the 33th day, Bought 0 shares for $0.0\n",
      "On the 41th day, Bought 0 shares for $0.0\n",
      "On the 42th day, Bought 0 shares for $0.0\n",
      "On the 70th day, sold 12.066366939470388 shares for $1031.674373324718\n",
      "On the 117th day, Bought 6.745817593092283 shares for $500.0\n",
      "On the 143th day, Bought 6.480041472265423 shares for $500.0\n",
      "On the 144th day, Bought 0 shares for $0.0\n",
      "On the 145th day, Bought 0 shares for $0.0\n",
      "On the 146th day, Bought 0 shares for $0.0\n",
      "On the 157th day, sold 13.225859065357707 shares for $1026.5911806530653\n",
      "On the 222th day, Bought 0 shares for $0.0\n",
      "On the 253th day, Bought 6.027727546714888 shares for $500.0\n",
      "On the 254th day, Bought 6.11396429444852 shares for $499.99999999999994\n",
      "On the 261th day, Bought 0 shares for $0.0\n",
      "On the 262th day, Bought 0 shares for $0.0\n",
      "On the 263th day, Bought 0 shares for $0.0\n",
      "On the 285th day, Bought 0 shares for $0.0\n",
      "On the 290th day, sold 12.141691841163407 shares for $949.2374681421553\n",
      "On the 361th day, Bought 6.225099601593626 shares for $500.0\n",
      "On the 371th day, sold 6.225099601593626 shares for $505.7270916334661\n",
      "On the 378th day, Bought 5.953089653530182 shares for $500.0\n",
      "On the 379th day, Bought 5.9851568111084505 shares for $500.0\n",
      "On the 382th day, Bought 0 shares for $0.0\n",
      "On the 383th day, Bought 0 shares for $0.0\n",
      "On the 384th day, Bought 0 shares for $0.0\n",
      "On the 386th day, Bought 0 shares for $0.0\n",
      "On the 387th day, Bought 0 shares for $0.0\n",
      "On the 407th day, Bought 0 shares for $0.0\n",
      "On the 426th day, sold 11.938246464638633 shares for $943.0020882418055\n",
      "On the 465th day, Bought 6.228977201943441 shares for $500.0\n",
      "On the 466th day, Bought 5 shares for $402.04999999999995\n",
      "On the 467th day, Bought 0 shares for $0.0\n",
      "On the 468th day, Bought 0 shares for $0.0\n",
      "On the 469th day, Bought 0 shares for $0.0\n",
      "On the 470th day, Bought 0 shares for $0.0\n",
      "On the 471th day, Bought 0 shares for $0.0\n",
      "On the 472th day, Bought 0 shares for $0.0\n",
      "XLB Final Value: 999.6620823988482, Final Money: 54.18220199521045, Final Shares: 11.22897720194344\n"
     ]
    },
    {
     "name": "stderr",
     "output_type": "stream",
     "text": [
      "[*********************100%***********************]  1 of 1 completed\n"
     ]
    },
    {
     "name": "stdout",
     "output_type": "stream",
     "text": [
      "read  4779  lines of data for ticker:  XLE\n"
     ]
    },
    {
     "name": "stderr",
     "output_type": "stream",
     "text": [
      "[*********************100%***********************]  1 of 1 completed\n"
     ]
    },
    {
     "name": "stdout",
     "output_type": "stream",
     "text": [
      "read  504  lines of data for ticker:  XLE\n",
      "On the 100th day, Bought 5.430060816681147 shares for $500.0\n",
      "On the 108th day, sold 5.430060816681147 shares for $399.05516941789745\n",
      "On the 152th day, Bought 6.304375236414071 shares for $500.0\n",
      "On the 153th day, Bought 4 shares for $328.68\n",
      "On the 155th day, Bought 0 shares for $0.0\n",
      "On the 156th day, Bought 0 shares for $0.0\n",
      "On the 157th day, Bought 0 shares for $0.0\n",
      "On the 164th day, sold 10.30437523641407 shares for $810.3360685916025\n",
      "On the 197th day, Bought 5.718860802928056 shares for $499.99999999999994\n",
      "On the 198th day, Bought 4 shares for $354.48\n",
      "On the 199th day, Bought 0 shares for $0.0\n",
      "On the 200th day, Bought 0 shares for $0.0\n",
      "On the 201th day, Bought 0 shares for $0.0\n",
      "On the 202th day, Bought 0 shares for $0.0\n",
      "On the 225th day, Bought 0 shares for $0.0\n",
      "On the 230th day, sold 9.718860802928056 shares for $824.6453391284455\n",
      "On the 236th day, Bought 5.899705014749262 shares for $500.0\n",
      "On the 237th day, Bought 4 shares for $345.44\n",
      "On the 238th day, Bought 0 shares for $0.0\n",
      "On the 254th day, Bought 0 shares for $0.0\n",
      "On the 265th day, sold 9.899705014749262 shares for $852.859587020649\n",
      "On the 283th day, Bought 5.858917272088118 shares for $500.0\n",
      "On the 284th day, Bought 4 shares for $344.36\n",
      "On the 292th day, sold 9.858917272088117 shares for $805.9664869932036\n",
      "On the 315th day, Bought 5.800464037122969 shares for $500.0\n",
      "On the 316th day, Bought 3 shares for $259.62\n",
      "On the 317th day, Bought 0 shares for $0.0\n",
      "On the 318th day, Bought 0 shares for $0.0\n",
      "On the 367th day, Bought 0 shares for $0.0\n",
      "On the 368th day, Bought 0 shares for $0.0\n",
      "On the 369th day, Bought 0 shares for $0.0\n",
      "On the 370th day, Bought 0 shares for $0.0\n",
      "On the 409th day, Bought 0 shares for $0.0\n",
      "On the 410th day, Bought 0 shares for $0.0\n",
      "On the 411th day, Bought 0 shares for $0.0\n",
      "On the 412th day, Bought 0 shares for $0.0\n",
      "On the 415th day, Bought 0 shares for $0.0\n",
      "On the 434th day, sold 8.80046403712297 shares for $749.9755452436194\n"
     ]
    },
    {
     "name": "stderr",
     "output_type": "stream",
     "text": [
      "[*********************100%***********************]  1 of 1 completed"
     ]
    },
    {
     "name": "stdout",
     "output_type": "stream",
     "text": [
      "On the 462th day, Bought 5.8990089664936285 shares for $500.0\n",
      "On the 463th day, Bought 3 shares for $253.79999999999998\n",
      "On the 464th day, Bought 0 shares for $0.0\n",
      "On the 465th day, Bought 0 shares for $0.0\n",
      "On the 472th day, Bought 0 shares for $0.0\n",
      "On the 473th day, Bought 0 shares for $0.0\n",
      "On the 491th day, Bought 0 shares for $0.0\n",
      "On the 492th day, Bought 0 shares for $0.0\n",
      "On the 493th day, Bought 0 shares for $0.0\n",
      "On the 494th day, Bought 0 shares for $0.0\n",
      "XLE Final Value: 809.4033450504436, Final Money: 56.458196395417616, Final Shares: 8.899008966493628\n",
      "read  4779  lines of data for ticker:  XLE\n"
     ]
    },
    {
     "name": "stderr",
     "output_type": "stream",
     "text": [
      "\n",
      "[*********************100%***********************]  1 of 1 completed\n"
     ]
    },
    {
     "name": "stdout",
     "output_type": "stream",
     "text": [
      "read  504  lines of data for ticker:  XLE\n",
      "On the 95th day, Bought 5.73394495412844 shares for $500.0\n",
      "On the 114th day, sold 5.73394495412844 shares for $433.94495412844043\n",
      "On the 198th day, Bought 5.6420672534416605 shares for $500.0\n",
      "On the 199th day, Bought 4 shares for $355.76\n",
      "On the 200th day, Bought 0 shares for $0.0\n",
      "On the 201th day, Bought 0 shares for $0.0\n",
      "On the 202th day, Bought 0 shares for $0.0\n",
      "On the 203th day, Bought 0 shares for $0.0\n",
      "On the 245th day, sold 9.64206725344166 shares for $813.6940555179417\n",
      "On the 252th day, Bought 5.558643690939411 shares for $500.0\n",
      "On the 253th day, Bought 4 shares for $360.56\n",
      "On the 254th day, Bought 0 shares for $0.0\n",
      "On the 286th day, Bought 0 shares for $0.0\n",
      "On the 295th day, sold 9.55864369093941 shares for $735.7288048916064\n",
      "On the 315th day, Bought 5.800464037122969 shares for $500.0\n",
      "On the 317th day, Bought 3 shares for $258.71999999999997\n",
      "On the 318th day, Bought 0 shares for $0.0\n",
      "On the 319th day, Bought 0 shares for $0.0\n",
      "On the 330th day, sold 8.80046403712297 shares for $706.0612296983759\n",
      "On the 359th day, Bought 6.380806533945891 shares for $500.0\n",
      "On the 369th day, Bought 2 shares for $161.82\n",
      "On the 370th day, Bought 0 shares for $0.0\n",
      "On the 384th day, Bought 0 shares for $0.0\n",
      "On the 385th day, Bought 0 shares for $0.0\n",
      "On the 411th day, Bought 0 shares for $0.0\n",
      "On the 421th day, sold 8.38080653394589 shares for $771.9560898417559\n"
     ]
    },
    {
     "name": "stderr",
     "output_type": "stream",
     "text": [
      "[*********************100%***********************]  1 of 1 completed"
     ]
    },
    {
     "name": "stdout",
     "output_type": "stream",
     "text": [
      "On the 472th day, Bought 5.950964056177101 shares for $500.0\n",
      "On the 473th day, Bought 3 shares for $253.74\n",
      "On the 474th day, Bought 0 shares for $0.0\n",
      "On the 475th day, Bought 0 shares for $0.0\n",
      "XLE Final Value: 828.1262028712648, Final Money: 70.78513407812034, Final Shares: 8.950964056177101\n",
      "read  4779  lines of data for ticker:  XLE\n"
     ]
    },
    {
     "name": "stderr",
     "output_type": "stream",
     "text": [
      "\n",
      "[*********************100%***********************]  1 of 1 completed\n"
     ]
    },
    {
     "name": "stdout",
     "output_type": "stream",
     "text": [
      "read  504  lines of data for ticker:  XLE\n",
      "On the 100th day, Bought 5.430060816681147 shares for $500.0\n",
      "On the 106th day, sold 5.430060816681147 shares for $447.32841007819286\n",
      "On the 165th day, Bought 6.20347394540943 shares for $500.0\n",
      "On the 175th day, sold 6.20347394540943 shares for $437.2208436724566\n",
      "On the 220th day, Bought 5.595970900951316 shares for $500.0\n",
      "On the 227th day, sold 5.595970900951316 shares for $476.329043088976\n",
      "On the 313th day, Bought 5.742506029631332 shares for $500.0\n",
      "On the 317th day, Bought 4 shares for $344.96\n",
      "On the 318th day, Bought 0 shares for $0.0\n",
      "On the 328th day, sold 9.742506029631333 shares for $760.9871459745034\n"
     ]
    },
    {
     "name": "stderr",
     "output_type": "stream",
     "text": [
      "[*********************100%***********************]  1 of 1 completed"
     ]
    },
    {
     "name": "stdout",
     "output_type": "stream",
     "text": [
      "On the 463th day, Bought 5.91016548463357 shares for $500.0\n",
      "On the 467th day, Bought 3 shares for $253.86\n",
      "On the 468th day, Bought 0 shares for $0.0\n",
      "On the 469th day, Bought 0 shares for $0.0\n",
      "On the 472th day, Bought 0 shares for $0.0\n",
      "XLE Final Value: 776.9345444689752, Final Money: 23.045442814128933, Final Shares: 8.91016548463357\n",
      "read  4779  lines of data for ticker:  XLE\n"
     ]
    },
    {
     "name": "stderr",
     "output_type": "stream",
     "text": [
      "\n",
      "[*********************100%***********************]  1 of 1 completed\n"
     ]
    },
    {
     "name": "stdout",
     "output_type": "stream",
     "text": [
      "read  504  lines of data for ticker:  XLE\n",
      "On the 147th day, Bought 6.498570314530803 shares for $500.0\n",
      "On the 170th day, sold 6.498570314530803 shares for $509.7478554717962\n",
      "On the 201th day, Bought 5.555555555555555 shares for $500.0\n",
      "On the 202th day, Bought 5.502366017387477 shares for $500.00000000000006\n",
      "On the 203th day, Bought 0 shares for $0.0\n",
      "On the 204th day, Bought 0 shares for $0.0\n",
      "On the 227th day, sold 11.057921572943032 shares for $941.250284288911\n",
      "On the 254th day, Bought 5.650355972426263 shares for $500.0\n",
      "On the 255th day, Bought 4 shares for $358.36\n",
      "On the 256th day, Bought 1 shares for $90.48\n",
      "On the 257th day, Bought 0 shares for $0.0\n",
      "On the 259th day, Bought 0 shares for $0.0\n",
      "On the 297th day, sold 10.650355972426263 shares for $856.1821166233473\n",
      "On the 317th day, Bought 5.797773654916512 shares for $500.0\n",
      "On the 318th day, Bought 4 shares for $341.92\n",
      "On the 352th day, sold 9.797773654916512 shares for $801.2619294990724\n",
      "On the 384th day, Bought 5.804504295333179 shares for $500.00000000000006\n",
      "On the 385th day, Bought 3 shares for $256.77\n",
      "On the 413th day, Bought 0 shares for $0.0\n",
      "On the 414th day, Bought 0 shares for $0.0\n",
      "On the 415th day, Bought 0 shares for $0.0\n",
      "On the 421th day, sold 8.804504295333178 shares for $810.9828906431391\n",
      "On the 469th day, Bought 5.887201224537854 shares for $500.0\n",
      "On the 470th day, Bought 4 shares for $338.52\n",
      "On the 471th day, Bought 0 shares for $0.0\n",
      "On the 472th day, Bought 0 shares for $0.0\n",
      "On the 473th day, Bought 0 shares for $0.0\n",
      "On the 474th day, Bought 0 shares for $0.0\n",
      "On the 483th day, sold 9.887201224537854 shares for $837.9403037795831\n",
      "XLE Final Value: 871.3153803058489, Final Money: 871.3153803058489, Final Shares: 0.0\n"
     ]
    },
    {
     "name": "stderr",
     "output_type": "stream",
     "text": [
      "[*********************100%***********************]  1 of 1 completed\n"
     ]
    },
    {
     "name": "stdout",
     "output_type": "stream",
     "text": [
      "read  4779  lines of data for ticker:  XLF\n"
     ]
    },
    {
     "name": "stderr",
     "output_type": "stream",
     "text": [
      "[*********************100%***********************]  1 of 1 completed\n"
     ]
    },
    {
     "name": "stdout",
     "output_type": "stream",
     "text": [
      "read  504  lines of data for ticker:  XLF\n",
      "On the 50th day, Bought 12.651821862348177 shares for $500.0\n",
      "On the 53th day, Bought 11 shares for $431.41999999999996\n",
      "On the 54th day, Bought 1 shares for $38.32\n",
      "On the 74th day, sold 24.65182186234818 shares for $850.7343724696356\n",
      "On the 99th day, Bought 14.297969688304262 shares for $500.0\n",
      "On the 100th day, Bought 10 shares for $352.40000000000003\n",
      "On the 101th day, Bought 0 shares for $0.0\n",
      "On the 102th day, Bought 0 shares for $0.0\n",
      "On the 123th day, Bought 0 shares for $0.0\n",
      "On the 124th day, Bought 0 shares for $0.0\n",
      "On the 125th day, Bought 0 shares for $0.0\n",
      "On the 135th day, Bought 0 shares for $0.0\n",
      "On the 136th day, Bought 0 shares for $0.0\n",
      "On the 141th day, Bought 0 shares for $0.0\n",
      "On the 143th day, Bought 0 shares for $0.0\n",
      "On the 144th day, Bought 0 shares for $0.0\n",
      "On the 162th day, sold 24.297969688304264 shares for $797.2163854732629\n",
      "On the 202th day, Bought 14.6756677428823 shares for $500.0\n",
      "On the 203th day, Bought 9 shares for $302.76\n",
      "On the 205th day, Bought 0 shares for $0.0\n",
      "On the 207th day, Bought 0 shares for $0.0\n",
      "On the 217th day, Bought 0 shares for $0.0\n",
      "On the 218th day, Bought 0 shares for $0.0\n",
      "On the 219th day, Bought 0 shares for $0.0\n",
      "On the 220th day, Bought 0 shares for $0.0\n",
      "On the 221th day, Bought 0 shares for $0.0\n",
      "On the 285th day, Bought 0 shares for $0.0\n",
      "On the 290th day, sold 23.6756677428823 shares for $779.6397387731141\n",
      "On the 366th day, Bought 14.961101137043686 shares for $500.0\n",
      "On the 367th day, Bought 8 shares for $269.68\n",
      "On the 394th day, sold 22.961101137043684 shares for $799.5055415918611\n",
      "On the 416th day, Bought 14.509576320371444 shares for $500.0\n",
      "On the 431th day, sold 14.509576320371444 shares for $477.21996517701683\n",
      "On the 459th day, Bought 14.912019087384431 shares for $500.0\n",
      "On the 461th day, Bought 9 shares for $304.74\n",
      "On the 462th day, Bought 0 shares for $0.0\n",
      "On the 463th day, Bought 0 shares for $0.0\n",
      "On the 466th day, Bought 0 shares for $0.0\n",
      "On the 467th day, Bought 0 shares for $0.0\n",
      "On the 468th day, Bought 0 shares for $0.0\n",
      "On the 469th day, Bought 0 shares for $0.0\n",
      "On the 470th day, Bought 0 shares for $0.0\n",
      "On the 471th day, Bought 0 shares for $0.0\n",
      "On the 472th day, Bought 0 shares for $0.0\n"
     ]
    },
    {
     "name": "stderr",
     "output_type": "stream",
     "text": [
      "[*********************100%***********************]  1 of 1 completed"
     ]
    },
    {
     "name": "stdout",
     "output_type": "stream",
     "text": [
      "XLF Final Value: 903.8488009796711, Final Money: 4.996003484890252, Final Shares: 23.91201908738443\n",
      "read  4779  lines of data for ticker:  XLF\n"
     ]
    },
    {
     "name": "stderr",
     "output_type": "stream",
     "text": [
      "\n",
      "[*********************100%***********************]  1 of 1 completed\n"
     ]
    },
    {
     "name": "stdout",
     "output_type": "stream",
     "text": [
      "read  504  lines of data for ticker:  XLF\n",
      "On the 62th day, Bought 13.401232913428034 shares for $500.0\n",
      "On the 72th day, sold 13.401232913428034 shares for $472.9295095148753\n",
      "On the 120th day, Bought 15.552099533437016 shares for $500.0\n",
      "On the 122th day, Bought 14 shares for $445.48\n",
      "On the 123th day, Bought 0 shares for $0.0\n",
      "On the 124th day, Bought 0 shares for $0.0\n",
      "On the 168th day, sold 29.552099533437016 shares for $982.6073094867808\n",
      "On the 217th day, Bought 13.950892857142856 shares for $500.0\n",
      "On the 218th day, Bought 13.89274798555154 shares for $500.0\n",
      "On the 219th day, Bought 0 shares for $0.0\n",
      "On the 220th day, Bought 0 shares for $0.0\n",
      "On the 263th day, Bought 0 shares for $0.0\n",
      "On the 264th day, Bought 0 shares for $0.0\n",
      "On the 265th day, Bought 0 shares for $0.0\n",
      "On the 266th day, Bought 0 shares for $0.0\n",
      "On the 267th day, Bought 0 shares for $0.0\n",
      "On the 285th day, Bought 0 shares for $0.0\n",
      "On the 288th day, sold 27.8436408426944 shares for $973.4136838605962\n",
      "On the 356th day, Bought 15.055706112616681 shares for $500.0\n",
      "On the 357th day, Bought 13 shares for $437.45\n",
      "On the 366th day, Bought 1 shares for $33.42\n",
      "On the 392th day, Bought 0 shares for $0.0\n",
      "On the 399th day, sold 29.055706112616683 shares for $992.5429208069858\n",
      "On the 411th day, Bought 14.413375612568464 shares for $500.0\n",
      "On the 419th day, Bought 14.281633818908883 shares for $499.99999999999994\n",
      "On the 420th day, Bought 0 shares for $0.0\n",
      "On the 423th day, Bought 0 shares for $0.0\n",
      "On the 430th day, sold 28.695009431477345 shares for $951.8134628421036\n"
     ]
    },
    {
     "name": "stderr",
     "output_type": "stream",
     "text": [
      "[*********************100%***********************]  1 of 1 completed"
     ]
    },
    {
     "name": "stdout",
     "output_type": "stream",
     "text": [
      "On the 470th day, Bought 14.180374361883155 shares for $500.0\n",
      "On the 471th day, Bought 12 shares for $423.0\n",
      "On the 472th day, Bought 0 shares for $0.0\n",
      "On the 488th day, sold 26.180374361883153 shares for $975.4807487237663\n",
      "XLF Final Value: 1009.4376352351078, Final Money: 1009.4376352351078, Final Shares: 0.0\n",
      "read  4779  lines of data for ticker:  XLF\n"
     ]
    },
    {
     "name": "stderr",
     "output_type": "stream",
     "text": [
      "\n",
      "[*********************100%***********************]  1 of 1 completed\n"
     ]
    },
    {
     "name": "stdout",
     "output_type": "stream",
     "text": [
      "read  504  lines of data for ticker:  XLF\n",
      "On the 50th day, Bought 12.651821862348177 shares for $500.0\n",
      "On the 72th day, sold 12.651821862348177 shares for $446.4827935222672\n",
      "On the 100th day, Bought 14.188422247446082 shares for $499.99999999999994\n",
      "On the 101th day, Bought 12 shares for $415.43999999999994\n",
      "On the 104th day, sold 26.188422247446084 shares for $826.5066061293984\n",
      "On the 163th day, Bought 14.943215780035864 shares for $500.0\n",
      "On the 176th day, sold 14.943215780035864 shares for $456.66467423789595\n",
      "On the 196th day, Bought 15.328019619865115 shares for $500.0\n",
      "On the 206th day, Bought 9 shares for $308.25\n",
      "On the 211th day, sold 24.328019619865117 shares for $860.2387737584305\n",
      "On the 216th day, Bought 14.092446448703496 shares for $500.0\n",
      "On the 217th day, Bought 10 shares for $358.40000000000003\n",
      "On the 218th day, Bought 0 shares for $0.0\n",
      "On the 270th day, Bought 0 shares for $0.0\n",
      "On the 279th day, sold 24.092446448703498 shares for $858.4138669673057\n",
      "On the 284th day, Bought 14.112334180073384 shares for $500.0\n",
      "On the 290th day, sold 14.112334180073384 shares for $464.7191645498165\n",
      "On the 336th day, Bought 15.693659761456372 shares for $500.0\n",
      "On the 348th day, Bought 10 shares for $328.0\n",
      "On the 355th day, Bought 0 shares for $0.0\n",
      "On the 357th day, Bought 0 shares for $0.0\n",
      "On the 369th day, sold 25.693659761456374 shares for $869.2165097300691\n",
      "On the 373th day, Bought 14.645577035735208 shares for $500.0\n",
      "On the 405th day, Bought 11 shares for $372.13\n",
      "On the 425th day, sold 25.645577035735208 shares for $863.230123022847\n"
     ]
    },
    {
     "name": "stderr",
     "output_type": "stream",
     "text": [
      "[*********************100%***********************]  1 of 1 completed"
     ]
    },
    {
     "name": "stdout",
     "output_type": "stream",
     "text": [
      "XLF Final Value: 863.2525119180305, Final Money: 863.2525119180305, Final Shares: 0.0\n",
      "read  4779  lines of data for ticker:  XLF\n"
     ]
    },
    {
     "name": "stderr",
     "output_type": "stream",
     "text": [
      "\n",
      "[*********************100%***********************]  1 of 1 completed\n"
     ]
    },
    {
     "name": "stdout",
     "output_type": "stream",
     "text": [
      "read  504  lines of data for ticker:  XLF\n",
      "On the 58th day, Bought 13.315579227696405 shares for $500.0\n",
      "On the 72th day, sold 13.315579227696405 shares for $469.90679094540616\n",
      "On the 86th day, Bought 14.645577035735208 shares for $500.0\n",
      "On the 91th day, sold 14.645577035735208 shares for $496.7779730521383\n",
      "On the 112th day, Bought 15.46072974644403 shares for $500.0\n",
      "On the 117th day, Bought 14 shares for $446.32\n",
      "On the 120th day, Bought 0 shares for $0.0\n",
      "On the 125th day, Bought 0 shares for $0.0\n",
      "On the 157th day, sold 29.46072974644403 shares for $986.345231910946\n",
      "On the 160th day, Bought 15.08295625942685 shares for $500.0\n",
      "On the 163th day, Bought 14.943215780035864 shares for $500.0\n",
      "On the 165th day, sold 30.026172039462715 shares for $1031.6992712759388\n",
      "On the 177th day, Bought 16.43115346697338 shares for $500.0\n",
      "On the 182th day, sold 16.43115346697338 shares for $531.3835031219191\n",
      "On the 229th day, Bought 14.480162177816391 shares for $500.0\n",
      "On the 248th day, sold 14.480162177816391 shares for $510.42571676802777\n",
      "On the 262th day, Bought 13.86193512614361 shares for $500.0\n",
      "On the 268th day, Bought 13.513513513513514 shares for $500.0\n",
      "On the 283th day, Bought 2 shares for $71.2\n",
      "On the 290th day, sold 29.375448639657122 shares for $967.333523703909\n",
      "On the 401th day, Bought 14.714537963507947 shares for $500.0\n",
      "On the 402th day, Bought 13 shares for $441.21999999999997\n",
      "On the 403th day, Bought 1 shares for $33.62\n",
      "On the 429th day, sold 28.714537963507947 shares for $961.362731018246\n",
      "On the 439th day, Bought 15.087507543753771 shares for $500.0\n",
      "On the 445th day, sold 15.087507543753771 shares for $485.8177429088715\n",
      "On the 469th day, Bought 14.132278123233464 shares for $500.0\n",
      "On the 470th day, Bought 12 shares for $423.12\n",
      "On the 488th day, sold 26.132278123233462 shares for $973.6886828716788\n",
      "XLF Final Value: 999.2611675770817, Final Money: 999.2611675770817, Final Shares: 0.0\n"
     ]
    },
    {
     "name": "stderr",
     "output_type": "stream",
     "text": [
      "[*********************100%***********************]  1 of 1 completed\n"
     ]
    },
    {
     "name": "stdout",
     "output_type": "stream",
     "text": [
      "read  4779  lines of data for ticker:  XLI\n"
     ]
    },
    {
     "name": "stderr",
     "output_type": "stream",
     "text": [
      "[*********************100%***********************]  1 of 1 completed\n"
     ]
    },
    {
     "name": "stdout",
     "output_type": "stream",
     "text": [
      "read  504  lines of data for ticker:  XLI\n",
      "On the 46th day, Bought 4.867127421395892 shares for $500.00000000000006\n",
      "On the 48th day, Bought 3 shares for $306.9\n",
      "On the 49th day, Bought 1 shares for $103.08\n",
      "On the 50th day, Bought 0 shares for $0.0\n",
      "On the 51th day, Bought 0 shares for $0.0\n",
      "On the 52th day, Bought 0 shares for $0.0\n",
      "On the 53th day, Bought 0 shares for $0.0\n",
      "On the 54th day, Bought 0 shares for $0.0\n",
      "On the 72th day, sold 8.867127421395892 shares for $856.9191940036991\n",
      "On the 99th day, Bought 5.211047420531527 shares for $500.0\n",
      "On the 100th day, Bought 4 shares for $388.96\n",
      "On the 101th day, Bought 0 shares for $0.0\n",
      "On the 102th day, Bought 0 shares for $0.0\n",
      "On the 126th day, Bought 0 shares for $0.0\n",
      "On the 127th day, Bought 0 shares for $0.0\n",
      "On the 136th day, Bought 0 shares for $0.0\n",
      "On the 143th day, Bought 0 shares for $0.0\n",
      "On the 144th day, Bought 0 shares for $0.0\n",
      "On the 162th day, sold 9.211047420531527 shares for $850.2717873892652\n",
      "On the 199th day, Bought 5.407159078620093 shares for $499.99999999999994\n",
      "On the 200th day, Bought 4 shares for $378.48\n",
      "On the 201th day, Bought 0 shares for $0.0\n",
      "On the 202th day, Bought 0 shares for $0.0\n",
      "On the 203th day, Bought 0 shares for $0.0\n",
      "On the 212th day, Bought 0 shares for $0.0\n",
      "On the 216th day, Bought 0 shares for $0.0\n",
      "On the 217th day, Bought 0 shares for $0.0\n",
      "On the 218th day, Bought 0 shares for $0.0\n",
      "On the 219th day, Bought 0 shares for $0.0\n",
      "On the 220th day, Bought 0 shares for $0.0\n",
      "On the 221th day, Bought 0 shares for $0.0\n",
      "On the 222th day, Bought 0 shares for $0.0\n",
      "On the 272th day, Bought 0 shares for $0.0\n",
      "On the 273th day, Bought 0 shares for $0.0\n",
      "On the 274th day, Bought 0 shares for $0.0\n",
      "On the 291th day, sold 9.407159078620094 shares for $926.040739699362\n",
      "On the 356th day, Bought 4.805382027871216 shares for $500.00000000000006\n",
      "On the 357th day, Bought 3 shares for $316.86\n",
      "On the 359th day, Bought 1 shares for $104.25\n",
      "On the 366th day, Bought 0 shares for $0.0\n",
      "On the 367th day, Bought 0 shares for $0.0\n",
      "On the 368th day, Bought 0 shares for $0.0\n",
      "On the 369th day, Bought 0 shares for $0.0\n",
      "On the 370th day, Bought 0 shares for $0.0\n",
      "On the 371th day, Bought 0 shares for $0.0\n",
      "On the 380th day, Bought 0 shares for $0.0\n",
      "On the 381th day, Bought 0 shares for $0.0\n",
      "On the 382th day, Bought 0 shares for $0.0\n",
      "On the 383th day, Bought 0 shares for $0.0\n",
      "On the 384th day, Bought 0 shares for $0.0\n",
      "On the 385th day, Bought 0 shares for $0.0\n",
      "On the 405th day, sold 8.805382027871216 shares for $930.288611244594\n",
      "On the 422th day, Bought 4.796163069544365 shares for $500.00000000000006\n",
      "On the 425th day, sold 4.796163069544365 shares for $488.20143884892093\n",
      "On the 459th day, Bought 4.946087644673064 shares for $500.00000000000006\n",
      "On the 460th day, Bought 3 shares for $307.65\n",
      "On the 462th day, Bought 1 shares for $104.7\n"
     ]
    },
    {
     "name": "stderr",
     "output_type": "stream",
     "text": [
      "[*********************100%***********************]  1 of 1 completed"
     ]
    },
    {
     "name": "stdout",
     "output_type": "stream",
     "text": [
      "On the 470th day, Bought 0 shares for $0.0\n",
      "On the 471th day, Bought 0 shares for $0.0\n",
      "On the 472th day, Bought 0 shares for $0.0\n",
      "On the 473th day, Bought 0 shares for $0.0\n",
      "XLI Final Value: 1036.541326037953, Final Money: 40.841771185841125, Final Shares: 8.946087644673064\n",
      "read  4779  lines of data for ticker:  XLI\n"
     ]
    },
    {
     "name": "stderr",
     "output_type": "stream",
     "text": [
      "\n",
      "[*********************100%***********************]  1 of 1 completed\n"
     ]
    },
    {
     "name": "stdout",
     "output_type": "stream",
     "text": [
      "read  504  lines of data for ticker:  XLI\n",
      "On the 41th day, Bought 5.088022794342119 shares for $500.0\n",
      "On the 46th day, Bought 3 shares for $308.19\n",
      "On the 47th day, Bought 1 shares for $103.29\n",
      "On the 48th day, Bought 0 shares for $0.0\n",
      "On the 49th day, Bought 0 shares for $0.0\n",
      "On the 50th day, Bought 0 shares for $0.0\n",
      "On the 51th day, Bought 0 shares for $0.0\n",
      "On the 52th day, Bought 0 shares for $0.0\n",
      "On the 70th day, sold 9.08802279434212 shares for $894.5340836470949\n",
      "On the 120th day, Bought 5.661872947571056 shares for $500.0\n",
      "On the 144th day, Bought 4 shares for $391.36\n",
      "On the 157th day, sold 9.661872947571055 shares for $918.7474985845316\n",
      "On the 202th day, Bought 5.304476978569912 shares for $499.99999999999994\n",
      "On the 203th day, Bought 5.399568034557236 shares for $500.0\n",
      "On the 217th day, Bought 0 shares for $0.0\n",
      "On the 218th day, Bought 0 shares for $0.0\n",
      "On the 219th day, Bought 0 shares for $0.0\n",
      "On the 220th day, Bought 0 shares for $0.0\n",
      "On the 263th day, Bought 0 shares for $0.0\n",
      "On the 265th day, Bought 0 shares for $0.0\n",
      "On the 266th day, Bought 0 shares for $0.0\n",
      "On the 267th day, Bought 0 shares for $0.0\n",
      "On the 269th day, Bought 0 shares for $0.0\n",
      "On the 270th day, Bought 0 shares for $0.0\n",
      "On the 271th day, Bought 0 shares for $0.0\n",
      "On the 272th day, Bought 0 shares for $0.0\n",
      "On the 273th day, Bought 0 shares for $0.0\n",
      "On the 274th day, Bought 0 shares for $0.0\n",
      "On the 290th day, sold 10.704045013127148 shares for $1059.7004562995876\n",
      "On the 316th day, Bought 0 shares for $0.0\n",
      "On the 317th day, Bought 0 shares for $0.0\n",
      "On the 318th day, Bought 0 shares for $0.0\n",
      "On the 319th day, Bought 0 shares for $0.0\n",
      "On the 320th day, Bought 4.95785820525533 shares for $500.0\n",
      "On the 357th day, Bought 4.7339519030486645 shares for $499.99999999999994\n",
      "On the 359th day, Bought 0 shares for $0.0\n",
      "On the 369th day, Bought 0 shares for $0.0\n",
      "On the 380th day, Bought 0 shares for $0.0\n",
      "On the 381th day, Bought 0 shares for $0.0\n",
      "On the 382th day, Bought 0 shares for $0.0\n",
      "On the 383th day, Bought 0 shares for $0.0\n",
      "On the 384th day, Bought 0 shares for $0.0\n",
      "On the 406th day, sold 9.691810108303994 shares for $1032.5654489387075\n",
      "On the 462th day, Bought 4.775549188156638 shares for $500.0\n",
      "On the 467th day, Bought 4.723665564478035 shares for $500.0\n",
      "On the 468th day, Bought 0 shares for $0.0\n",
      "On the 469th day, Bought 0 shares for $0.0\n",
      "On the 470th day, Bought 0 shares for $0.0\n",
      "On the 471th day, Bought 0 shares for $0.0\n",
      "On the 472th day, Bought 0 shares for $0.0\n",
      "On the 473th day, Bought 0 shares for $0.0\n"
     ]
    },
    {
     "name": "stderr",
     "output_type": "stream",
     "text": [
      "[*********************100%***********************]  1 of 1 completed"
     ]
    },
    {
     "name": "stdout",
     "output_type": "stream",
     "text": [
      "XLI Final Value: 1159.9700894381608, Final Money: 102.70748746992172, Final Shares: 9.499214752634673\n",
      "read  4779  lines of data for ticker:  XLI\n"
     ]
    },
    {
     "name": "stderr",
     "output_type": "stream",
     "text": [
      "\n",
      "[*********************100%***********************]  1 of 1 completed\n"
     ]
    },
    {
     "name": "stdout",
     "output_type": "stream",
     "text": [
      "read  504  lines of data for ticker:  XLI\n",
      "On the 42th day, Bought 5.008514474606832 shares for $500.0\n",
      "On the 49th day, Bought 3 shares for $309.24\n",
      "On the 50th day, Bought 1 shares for $103.72\n",
      "On the 51th day, Bought 0 shares for $0.0\n",
      "On the 52th day, Bought 0 shares for $0.0\n",
      "On the 64th day, Bought 0 shares for $0.0\n",
      "On the 65th day, Bought 0 shares for $0.0\n",
      "On the 72th day, sold 9.008514474606832 shares for $870.5828388260043\n",
      "On the 100th day, Bought 5.141916906622789 shares for $500.0\n",
      "On the 104th day, sold 5.141916906622789 shares for $453.054298642534\n",
      "On the 216th day, Bought 5.012028869286286 shares for $499.99999999999994\n",
      "On the 217th day, Bought 3 shares for $301.59000000000003\n",
      "On the 256th day, sold 8.012028869286286 shares for $793.1107377706495\n",
      "On the 270th day, Bought 4.929994084007099 shares for $499.99999999999994\n",
      "On the 284th day, Bought 3 shares for $307.68\n",
      "On the 291th day, sold 7.929994084007099 shares for $780.6286176296588\n",
      "On the 320th day, Bought 4.95785820525533 shares for $500.0\n",
      "On the 349th day, sold 4.95785820525533 shares for $496.9757064947942\n",
      "On the 379th day, Bought 4.562876437306078 shares for $500.0\n",
      "On the 380th day, Bought 3 shares for $330.21\n",
      "On the 384th day, Bought 0 shares for $0.0\n",
      "On the 401th day, sold 7.562876437306078 shares for $803.4799926993977\n",
      "On the 461th day, Bought 4.871395167575994 shares for $500.0\n",
      "On the 469th day, Bought 3 shares for $319.02\n",
      "On the 472th day, Bought 0 shares for $0.0\n"
     ]
    },
    {
     "name": "stderr",
     "output_type": "stream",
     "text": [
      "[*********************100%***********************]  1 of 1 completed"
     ]
    },
    {
     "name": "stdout",
     "output_type": "stream",
     "text": [
      "XLI Final Value: 902.4584742142465, Final Money: 26.372192063038483, Final Shares: 7.871395167575994\n",
      "read  4779  lines of data for ticker:  XLI\n"
     ]
    },
    {
     "name": "stderr",
     "output_type": "stream",
     "text": [
      "\n",
      "[*********************100%***********************]  1 of 1 completed\n"
     ]
    },
    {
     "name": "stdout",
     "output_type": "stream",
     "text": [
      "read  504  lines of data for ticker:  XLI\n",
      "On the 40th day, Bought 5.105166428425567 shares for $500.0\n",
      "On the 51th day, Bought 3 shares for $311.25\n",
      "On the 70th day, sold 8.105166428425566 shares for $797.7915315499285\n",
      "On the 112th day, Bought 5.629362756136006 shares for $500.0\n",
      "On the 115th day, Bought 4 shares for $348.28\n",
      "On the 117th day, Bought 1 shares for $88.1\n",
      "On the 128th day, Bought 0 shares for $0.0\n",
      "On the 143th day, Bought 0 shares for $0.0\n",
      "On the 144th day, Bought 0 shares for $0.0\n",
      "On the 157th day, sold 10.629362756136006 shares for $1010.7461044809728\n",
      "On the 317th day, Bought 4.949514947535142 shares for $500.0\n",
      "On the 372th day, Bought 4.642094513044285 shares for $499.99999999999994\n",
      "On the 378th day, Bought 0 shares for $0.0\n",
      "On the 380th day, Bought 0 shares for $0.0\n",
      "On the 381th day, Bought 0 shares for $0.0\n",
      "On the 382th day, Bought 0 shares for $0.0\n",
      "On the 383th day, Bought 0 shares for $0.0\n",
      "On the 384th day, Bought 0 shares for $0.0\n",
      "On the 385th day, Bought 0 shares for $0.0\n",
      "On the 389th day, Bought 0 shares for $0.0\n",
      "On the 417th day, Bought 0 shares for $0.0\n",
      "On the 418th day, Bought 0 shares for $0.0\n",
      "On the 419th day, Bought 0 shares for $0.0\n",
      "On the 420th day, Bought 0 shares for $0.0\n",
      "On the 424th day, Bought 0 shares for $0.0\n",
      "On the 426th day, Bought 0 shares for $0.0\n",
      "On the 430th day, sold 9.591609460579427 shares for $972.3973671135423\n",
      "On the 468th day, Bought 4.71342383107089 shares for $500.0\n",
      "On the 469th day, Bought 4.701899567425239 shares for $499.99999999999994\n",
      "On the 470th day, Bought 0 shares for $0.0\n",
      "On the 471th day, Bought 0 shares for $0.0\n",
      "On the 488th day, sold 9.41532339849613 shares for $1060.0712614366792\n",
      "XLI Final Value: 1093.3762645811228, Final Money: 1093.3762645811228, Final Shares: 0.0\n"
     ]
    },
    {
     "name": "stderr",
     "output_type": "stream",
     "text": [
      "[*********************100%***********************]  1 of 1 completed\n"
     ]
    },
    {
     "name": "stdout",
     "output_type": "stream",
     "text": [
      "read  4779  lines of data for ticker:  XLK\n"
     ]
    },
    {
     "name": "stderr",
     "output_type": "stream",
     "text": [
      "[*********************100%***********************]  1 of 1 completed\n"
     ]
    },
    {
     "name": "stdout",
     "output_type": "stream",
     "text": [
      "read  504  lines of data for ticker:  XLK\n",
      "On the 30th day, Bought 3.2393909944930352 shares for $500.0\n",
      "On the 74th day, sold 3.2393909944930352 shares for $458.114674441205\n",
      "On the 102th day, Bought 3.667571334262451 shares for $500.0\n",
      "On the 120th day, Bought 2 shares for $265.62\n",
      "On the 122th day, Bought 1 shares for $131.04\n",
      "On the 142th day, Bought 0 shares for $0.0\n",
      "On the 143th day, Bought 0 shares for $0.0\n",
      "On the 144th day, Bought 0 shares for $0.0\n",
      "On the 146th day, Bought 0 shares for $0.0\n",
      "On the 147th day, Bought 0 shares for $0.0\n",
      "On the 148th day, Bought 0 shares for $0.0\n",
      "On the 149th day, Bought 0 shares for $0.0\n",
      "On the 150th day, Bought 0 shares for $0.0\n",
      "On the 151th day, Bought 0 shares for $0.0\n",
      "On the 152th day, Bought 0 shares for $0.0\n",
      "On the 154th day, Bought 0 shares for $0.0\n",
      "On the 162th day, sold 6.667571334262451 shares for $879.9193889826157\n",
      "On the 217th day, Bought 3.753753753753754 shares for $500.0\n",
      "On the 218th day, Bought 2 shares for $268.76\n",
      "On the 219th day, Bought 1 shares for $133.6\n",
      "On the 220th day, Bought 0 shares for $0.0\n",
      "On the 221th day, Bought 0 shares for $0.0\n",
      "On the 222th day, Bought 0 shares for $0.0\n",
      "On the 255th day, Bought 0 shares for $0.0\n",
      "On the 256th day, Bought 0 shares for $0.0\n",
      "On the 271th day, sold 6.753753753753754 shares for $948.091951951952\n",
      "On the 285th day, Bought 3.567860710717854 shares for $500.0\n",
      "On the 296th day, sold 3.567860710717854 shares for $512.0950478093336\n",
      "On the 307th day, Bought 3.334667200213419 shares for $500.0\n",
      "On the 321th day, Bought 2 shares for $287.94\n",
      "On the 337th day, Bought 1 shares for $154.39\n",
      "On the 338th day, Bought 0 shares for $0.0\n",
      "On the 344th day, sold 6.334667200213419 shares for $1043.826461251167\n",
      "On the 372th day, Bought 2.9127344751252475 shares for $500.0\n",
      "On the 373th day, Bought 2.9064698017787594 shares for $500.0\n",
      "On the 374th day, Bought 0 shares for $0.0\n",
      "On the 375th day, Bought 0 shares for $0.0\n",
      "On the 396th day, sold 5.819204276904006 shares for $971.2251938152787\n",
      "On the 413th day, Bought 2.8577960676726106 shares for $500.0\n",
      "On the 414th day, Bought 2.8997274256219914 shares for $500.0\n",
      "On the 416th day, Bought 0 shares for $0.0\n",
      "On the 436th day, sold 5.7575234932946024 shares for $973.5396474811844\n",
      "On the 457th day, Bought 2.8607392150131594 shares for $500.0\n",
      "On the 458th day, Bought 2.8446265005404787 shares for $500.0\n",
      "On the 459th day, Bought 0 shares for $0.0\n",
      "On the 460th day, Bought 0 shares for $0.0\n",
      "On the 462th day, Bought 0 shares for $0.0\n",
      "On the 468th day, Bought 0 shares for $0.0\n",
      "On the 470th day, Bought 0 shares for $0.0\n",
      "On the 471th day, Bought 0 shares for $0.0\n",
      "On the 472th day, Bought 0 shares for $0.0\n",
      "On the 474th day, Bought 0 shares for $0.0\n"
     ]
    },
    {
     "name": "stderr",
     "output_type": "stream",
     "text": [
      "[*********************100%***********************]  1 of 1 completed"
     ]
    },
    {
     "name": "stdout",
     "output_type": "stream",
     "text": [
      "On the 491th day, Bought 0 shares for $0.0\n",
      "On the 492th day, Bought 0 shares for $0.0\n",
      "On the 493th day, Bought 0 shares for $0.0\n",
      "XLK Final Value: 1096.2195695662497, Final Money: 45.462365732736316, Final Shares: 5.705365715553638\n",
      "read  4779  lines of data for ticker:  XLK\n"
     ]
    },
    {
     "name": "stderr",
     "output_type": "stream",
     "text": [
      "\n",
      "[*********************100%***********************]  1 of 1 completed\n"
     ]
    },
    {
     "name": "stdout",
     "output_type": "stream",
     "text": [
      "read  504  lines of data for ticker:  XLK\n",
      "On the 30th day, Bought 3.2393909944930352 shares for $500.0\n",
      "On the 74th day, sold 3.2393909944930352 shares for $458.114674441205\n",
      "On the 102th day, Bought 3.667571334262451 shares for $500.0\n",
      "On the 122th day, Bought 2 shares for $262.08\n",
      "On the 142th day, Bought 1 shares for $145.77\n",
      "On the 144th day, Bought 0 shares for $0.0\n",
      "On the 157th day, sold 6.667571334262451 shares for $920.3248712682462\n",
      "On the 217th day, Bought 3.753753753753754 shares for $500.0\n",
      "On the 218th day, Bought 2 shares for $268.76\n",
      "On the 219th day, Bought 1 shares for $133.6\n",
      "On the 220th day, Bought 0 shares for $0.0\n",
      "On the 254th day, Bought 0 shares for $0.0\n",
      "On the 255th day, Bought 0 shares for $0.0\n",
      "On the 256th day, Bought 0 shares for $0.0\n",
      "On the 276th day, Bought 0 shares for $0.0\n",
      "On the 288th day, Bought 0 shares for $0.0\n",
      "On the 289th day, Bought 0 shares for $0.0\n",
      "On the 298th day, Bought 0 shares for $0.0\n",
      "On the 302th day, Bought 0 shares for $0.0\n",
      "On the 303th day, Bought 0 shares for $0.0\n",
      "On the 306th day, Bought 0 shares for $0.0\n",
      "On the 307th day, Bought 0 shares for $0.0\n",
      "On the 311th day, Bought 0 shares for $0.0\n",
      "On the 312th day, Bought 0 shares for $0.0\n",
      "On the 313th day, Bought 0 shares for $0.0\n",
      "On the 321th day, Bought 0 shares for $0.0\n",
      "On the 328th day, sold 6.753753753753754 shares for $996.4488288288288\n",
      "On the 337th day, Bought 3.2385517196709634 shares for $500.0\n",
      "On the 345th day, sold 3.2385517196709634 shares for $536.4984778806918\n",
      "On the 352th day, Bought 3.026817603971185 shares for $500.00000000000006\n",
      "On the 353th day, Bought 3.011866755014758 shares for $500.0\n",
      "On the 354th day, Bought 0 shares for $0.0\n",
      "On the 375th day, Bought 0 shares for $0.0\n",
      "On the 379th day, Bought 0 shares for $0.0\n",
      "On the 406th day, sold 6.038684358985943 shares for $1018.7864382045185\n",
      "On the 413th day, Bought 2.8577960676726106 shares for $500.0\n",
      "On the 440th day, Bought 2.9650714582221434 shares for $500.0\n",
      "On the 452th day, sold 5.822867525894754 shares for $955.0085029219986\n",
      "On the 457th day, Bought 2.8607392150131594 shares for $500.0\n",
      "On the 458th day, Bought 0 shares for $0.0\n",
      "On the 459th day, Bought 0 shares for $0.0\n",
      "On the 470th day, Bought 0 shares for $0.0\n",
      "On the 471th day, Bought 0 shares for $0.0\n",
      "On the 474th day, Bought 0 shares for $0.0\n",
      "On the 475th day, Bought 0 shares for $0.0\n",
      "On the 487th day, Bought 0 shares for $0.0\n"
     ]
    },
    {
     "name": "stderr",
     "output_type": "stream",
     "text": [
      "[*********************100%***********************]  1 of 1 completed"
     ]
    },
    {
     "name": "stdout",
     "output_type": "stream",
     "text": [
      "On the 495th day, sold 2.8607392150131594 shares for $530.7529465613915\n",
      "XLK Final Value: 1105.7247401068803, Final Money: 1105.7247401068803, Final Shares: 0.0\n",
      "read  4779  lines of data for ticker:  XLK\n"
     ]
    },
    {
     "name": "stderr",
     "output_type": "stream",
     "text": [
      "\n",
      "[*********************100%***********************]  1 of 1 completed\n"
     ]
    },
    {
     "name": "stdout",
     "output_type": "stream",
     "text": [
      "read  504  lines of data for ticker:  XLK\n",
      "On the 30th day, Bought 3.2393909944930352 shares for $500.0\n",
      "On the 81th day, sold 3.2393909944930352 shares for $444.4120505344995\n",
      "On the 100th day, Bought 3.529328721677137 shares for $500.0\n",
      "On the 101th day, Bought 2 shares for $280.14\n",
      "On the 102th day, Bought 1 shares for $136.33\n",
      "On the 105th day, sold 6.529328721677137 shares for $823.1524719418367\n",
      "On the 146th day, Bought 3.319832680432906 shares for $500.0\n",
      "On the 161th day, sold 3.319832680432906 shares for $441.0397715955115\n",
      "On the 216th day, Bought 3.826432999158185 shares for $500.0\n",
      "On the 217th day, Bought 2 shares for $266.4\n",
      "On the 218th day, Bought 0 shares for $0.0\n",
      "On the 284th day, Bought 0 shares for $0.0\n",
      "On the 336th day, Bought 0 shares for $0.0\n",
      "On the 340th day, sold 5.826432999158185 shares for $919.2945986071785\n",
      "On the 431th day, Bought 3.0176836260486453 shares for $500.0\n",
      "On the 442th day, Bought 1 shares for $169.46\n",
      "On the 443th day, Bought 1 shares for $167.72\n",
      "On the 455th day, sold 5.017683626048646 shares for $861.8373396101154\n",
      "On the 469th day, Bought 2.711349709885581 shares for $500.0\n",
      "On the 471th day, Bought 1 shares for $184.75\n",
      "On the 472th day, Bought 1 shares for $184.89\n",
      "On the 473th day, Bought 0 shares for $0.0\n",
      "On the 474th day, Bought 0 shares for $0.0\n",
      "On the 475th day, Bought 0 shares for $0.0\n",
      "XLK Final Value: 967.735508358769, Final Money: 100.04623228914147, Final Shares: 4.711349709885582\n"
     ]
    },
    {
     "name": "stderr",
     "output_type": "stream",
     "text": [
      "[*********************100%***********************]  1 of 1 completed\n"
     ]
    },
    {
     "name": "stdout",
     "output_type": "stream",
     "text": [
      "read  4779  lines of data for ticker:  XLK\n"
     ]
    },
    {
     "name": "stderr",
     "output_type": "stream",
     "text": [
      "[*********************100%***********************]  1 of 1 completed\n"
     ]
    },
    {
     "name": "stdout",
     "output_type": "stream",
     "text": [
      "read  504  lines of data for ticker:  XLK\n",
      "On the 30th day, Bought 3.2393909944930352 shares for $500.0\n",
      "On the 73th day, sold 3.2393909944930352 shares for $478.0369290573372\n",
      "On the 101th day, Bought 3.5696437495537947 shares for $500.0\n",
      "On the 102th day, Bought 0 shares for $0.0\n",
      "On the 110th day, sold 3.5696437495537947 shares for $453.0591846933676\n",
      "On the 142th day, Bought 0 shares for $0.0\n",
      "On the 143th day, Bought 0 shares for $0.0\n",
      "On the 144th day, Bought 0 shares for $0.0\n",
      "On the 147th day, Bought 0 shares for $0.0\n",
      "On the 152th day, Bought 0 shares for $0.0\n",
      "On the 155th day, Bought 0 shares for $0.0\n",
      "On the 212th day, Bought 3.7425149700598803 shares for $500.0\n",
      "On the 213th day, Bought 2 shares for $263.54\n",
      "On the 217th day, Bought 1 shares for $133.2\n",
      "On the 248th day, sold 6.74251497005988 shares for $850.7705389221558\n",
      "On the 253th day, Bought 0 shares for $0.0\n",
      "On the 255th day, Bought 0 shares for $0.0\n",
      "On the 301th day, Bought 0 shares for $0.0\n",
      "On the 302th day, Bought 0 shares for $0.0\n",
      "On the 313th day, Bought 0 shares for $0.0\n",
      "On the 358th day, Bought 0 shares for $0.0\n",
      "On the 359th day, Bought 0 shares for $0.0\n",
      "On the 372th day, Bought 0 shares for $0.0\n",
      "On the 412th day, Bought 0 shares for $0.0\n",
      "On the 457th day, Bought 0 shares for $0.0\n",
      "On the 458th day, Bought 0 shares for $0.0\n",
      "On the 470th day, Bought 0 shares for $0.0\n",
      "On the 473th day, Bought 0 shares for $0.0\n",
      "On the 474th day, Bought 0 shares for $0.0\n",
      "XLK Final Value: 885.1266526728605, Final Money: 885.1266526728605, Final Shares: 0.0\n"
     ]
    },
    {
     "name": "stderr",
     "output_type": "stream",
     "text": [
      "[*********************100%***********************]  1 of 1 completed\n"
     ]
    },
    {
     "name": "stdout",
     "output_type": "stream",
     "text": [
      "read  4779  lines of data for ticker:  XLP\n"
     ]
    },
    {
     "name": "stderr",
     "output_type": "stream",
     "text": [
      "[*********************100%***********************]  1 of 1 completed\n"
     ]
    },
    {
     "name": "stdout",
     "output_type": "stream",
     "text": [
      "read  504  lines of data for ticker:  XLP\n",
      "On the 48th day, Bought 6.7658998646820026 shares for $500.0\n",
      "On the 51th day, Bought 5 shares for $376.75\n",
      "On the 52th day, Bought 1 shares for $76.02\n",
      "On the 53th day, Bought 0 shares for $0.0\n",
      "On the 54th day, Bought 0 shares for $0.0\n",
      "On the 55th day, Bought 0 shares for $0.0\n",
      "On the 56th day, Bought 0 shares for $0.0\n",
      "On the 74th day, sold 12.765899864682002 shares for $991.1444654939106\n",
      "On the 122th day, Bought 6.868131868131869 shares for $500.0\n",
      "On the 126th day, Bought 6.854949273375377 shares for $500.0\n",
      "On the 133th day, Bought 0 shares for $0.0\n",
      "On the 144th day, Bought 0 shares for $0.0\n",
      "On the 145th day, Bought 0 shares for $0.0\n",
      "On the 146th day, Bought 0 shares for $0.0\n",
      "On the 147th day, Bought 0 shares for $0.0\n",
      "On the 148th day, Bought 0 shares for $0.0\n",
      "On the 150th day, Bought 0 shares for $0.0\n",
      "On the 152th day, Bought 0 shares for $0.0\n",
      "On the 155th day, Bought 0 shares for $0.0\n",
      "On the 156th day, Bought 0 shares for $0.0\n",
      "On the 162th day, sold 13.723081141507246 shares for $990.1203043597478\n",
      "On the 208th day, Bought 6.953135864274788 shares for $500.0\n",
      "On the 217th day, Bought 6.584145377929945 shares for $500.0\n",
      "On the 218th day, Bought 0 shares for $0.0\n",
      "On the 219th day, Bought 0 shares for $0.0\n",
      "On the 220th day, Bought 0 shares for $0.0\n",
      "On the 221th day, Bought 0 shares for $0.0\n",
      "On the 222th day, Bought 0 shares for $0.0\n",
      "On the 262th day, Bought 0 shares for $0.0\n",
      "On the 263th day, Bought 0 shares for $0.0\n",
      "On the 264th day, Bought 0 shares for $0.0\n",
      "On the 290th day, sold 13.537281242204733 shares for $962.6360691331786\n",
      "On the 305th day, Bought 6.692544505420962 shares for $500.0\n",
      "On the 306th day, Bought 5 shares for $375.5\n",
      "On the 307th day, Bought 1 shares for $74.95\n",
      "On the 308th day, Bought 0 shares for $0.0\n",
      "On the 309th day, Bought 0 shares for $0.0\n",
      "On the 310th day, Bought 0 shares for $0.0\n",
      "On the 311th day, Bought 0 shares for $0.0\n",
      "On the 312th day, Bought 0 shares for $0.0\n",
      "On the 339th day, sold 12.692544505420962 shares for $963.6179788515594\n",
      "On the 379th day, Bought 6.690753378830456 shares for $500.0\n",
      "On the 390th day, sold 6.690753378830456 shares for $504.48280476381643\n",
      "On the 410th day, Bought 6.871907641561297 shares for $500.0\n",
      "On the 411th day, Bought 6.930967563071805 shares for $500.0\n",
      "On the 414th day, Bought 0 shares for $0.0\n",
      "On the 416th day, Bought 0 shares for $0.0\n",
      "On the 419th day, Bought 0 shares for $0.0\n",
      "On the 420th day, Bought 0 shares for $0.0\n",
      "On the 434th day, sold 13.802875204633102 shares for $925.3447537186032\n",
      "On the 462th day, Bought 7.154099298898268 shares for $500.0\n",
      "On the 470th day, Bought 6 shares for $421.26\n",
      "On the 471th day, Bought 0 shares for $0.0\n",
      "On the 472th day, Bought 0 shares for $0.0\n",
      "On the 473th day, Bought 0 shares for $0.0\n",
      "On the 488th day, sold 13.154099298898268 shares for $929.7317384461297\n"
     ]
    },
    {
     "name": "stderr",
     "output_type": "stream",
     "text": [
      "[*********************100%***********************]  1 of 1 completed"
     ]
    },
    {
     "name": "stdout",
     "output_type": "stream",
     "text": [
      "XLP Final Value: 942.5981147669457, Final Money: 942.5981147669457, Final Shares: 0.0\n",
      "read  4779  lines of data for ticker:  XLP\n"
     ]
    },
    {
     "name": "stderr",
     "output_type": "stream",
     "text": [
      "\n",
      "[*********************100%***********************]  1 of 1 completed\n"
     ]
    },
    {
     "name": "stdout",
     "output_type": "stream",
     "text": [
      "read  504  lines of data for ticker:  XLP\n",
      "On the 125th day, Bought 6.87757909215956 shares for $500.0\n",
      "On the 157th day, sold 6.87757909215956 shares for $511.21045392022006\n",
      "On the 175th day, Bought 7.206687806284232 shares for $500.0\n",
      "On the 183th day, sold 7.206687806284232 shares for $493.73018160853275\n",
      "On the 208th day, Bought 6.953135864274788 shares for $500.0\n",
      "On the 209th day, Bought 6.793478260869565 shares for $500.0\n",
      "On the 216th day, Bought 0 shares for $0.0\n",
      "On the 217th day, Bought 0 shares for $0.0\n",
      "On the 218th day, Bought 0 shares for $0.0\n",
      "On the 219th day, Bought 0 shares for $0.0\n",
      "On the 220th day, Bought 0 shares for $0.0\n",
      "On the 221th day, Bought 0 shares for $0.0\n",
      "On the 248th day, sold 13.746614125144355 shares for $1031.5459239508325\n",
      "On the 262th day, Bought 6.854009595613434 shares for $500.0\n",
      "On the 263th day, Bought 6.780580417683754 shares for $500.0\n",
      "On the 264th day, Bought 0 shares for $0.0\n",
      "On the 284th day, Bought 0 shares for $0.0\n",
      "On the 301th day, sold 13.634590013297188 shares for $1000.2335233754817\n",
      "On the 307th day, Bought 6.6711140760507 shares for $500.0\n",
      "On the 308th day, Bought 6.6401062416998675 shares for $500.0\n",
      "On the 309th day, Bought 0 shares for $0.0\n",
      "On the 310th day, Bought 0 shares for $0.0\n",
      "On the 311th day, Bought 0 shares for $0.0\n",
      "On the 341th day, sold 13.311220317750568 shares for $987.9587719834471\n",
      "On the 379th day, Bought 6.690753378830456 shares for $500.0\n",
      "On the 416th day, Bought 6.913716814159293 shares for $500.0\n",
      "On the 421th day, sold 13.604470192989748 shares for $973.2637976064866\n",
      "On the 427th day, Bought 7.20772668300418 shares for $500.0\n",
      "On the 432th day, Bought 6 shares for $407.09999999999997\n",
      "On the 435th day, sold 13.20772668300418 shares for $880.5591379558888\n",
      "On the 462th day, Bought 7.154099298898268 shares for $500.0\n",
      "On the 472th day, Bought 6 shares for $419.76\n",
      "On the 484th day, sold 13.154099298898268 shares for $937.0980340535126\n",
      "On the 495th day, Bought 6.918500069185001 shares for $500.0\n",
      "XLP Final Value: 988.0479744474837, Final Money: 488.7398244544023, Final Shares: 6.918500069185001\n"
     ]
    },
    {
     "name": "stderr",
     "output_type": "stream",
     "text": [
      "[*********************100%***********************]  1 of 1 completed\n"
     ]
    },
    {
     "name": "stdout",
     "output_type": "stream",
     "text": [
      "read  4779  lines of data for ticker:  XLP\n"
     ]
    },
    {
     "name": "stderr",
     "output_type": "stream",
     "text": [
      "[*********************100%***********************]  1 of 1 completed\n"
     ]
    },
    {
     "name": "stdout",
     "output_type": "stream",
     "text": [
      "read  504  lines of data for ticker:  XLP\n",
      "On the 85th day, Bought 6.468305304010349 shares for $500.0\n",
      "On the 88th day, sold 6.468305304010349 shares for $456.33893919793013\n",
      "On the 124th day, Bought 6.883259911894273 shares for $500.0\n",
      "On the 149th day, sold 6.883259911894273 shares for $529.3226872246696\n",
      "On the 174th day, Bought 7.084159818645509 shares for $500.00000000000006\n",
      "On the 199th day, sold 7.084159818645509 shares for $507.2258430150184\n",
      "On the 232th day, Bought 6.5333856004181365 shares for $500.0\n",
      "On the 236th day, sold 6.5333856004181365 shares for $484.9078792630341\n",
      "On the 240th day, Bought 6.619009796134498 shares for $500.0\n",
      "On the 255th day, sold 6.619009796134498 shares for $476.96584590945196\n",
      "On the 263th day, Bought 6.780580417683754 shares for $500.0\n",
      "On the 299th day, Bought 5 shares for $358.75\n",
      "On the 304th day, sold 11.780580417683755 shares for $873.058814754543\n",
      "On the 312th day, Bought 6.645401382243488 shares for $500.0\n",
      "On the 313th day, Bought 5 shares for $378.29999999999995\n",
      "On the 314th day, Bought 1 shares for $75.18\n",
      "On the 315th day, Bought 0 shares for $0.0\n",
      "On the 341th day, sold 12.645401382243488 shares for $938.5416905901117\n"
     ]
    },
    {
     "name": "stderr",
     "output_type": "stream",
     "text": [
      "[*********************100%***********************]  1 of 1 completed"
     ]
    },
    {
     "name": "stdout",
     "output_type": "stream",
     "text": [
      "On the 441th day, Bought 7.408504963698326 shares for $500.0\n",
      "On the 461th day, Bought 6 shares for $415.08000000000004\n",
      "On the 464th day, sold 13.408504963698327 shares for $932.9637753741296\n",
      "XLP Final Value: 972.0154753288884, Final Money: 972.0154753288884, Final Shares: 0.0\n"
     ]
    },
    {
     "name": "stderr",
     "output_type": "stream",
     "text": [
      "\n"
     ]
    },
    {
     "name": "stdout",
     "output_type": "stream",
     "text": [
      "read  4779  lines of data for ticker:  XLP\n"
     ]
    },
    {
     "name": "stderr",
     "output_type": "stream",
     "text": [
      "[*********************100%***********************]  1 of 1 completed\n"
     ]
    },
    {
     "name": "stdout",
     "output_type": "stream",
     "text": [
      "read  504  lines of data for ticker:  XLP\n",
      "On the 120th day, Bought 6.846501437765302 shares for $500.0\n",
      "On the 168th day, sold 6.846501437765302 shares for $491.3049431740381\n",
      "On the 175th day, Bought 7.206687806284232 shares for $500.0\n",
      "On the 180th day, sold 7.206687806284232 shares for $480.9022773133468\n",
      "On the 218th day, Bought 6.561679790026247 shares for $500.00000000000006\n",
      "On the 219th day, Bought 5 shares for $381.25\n",
      "On the 237th day, Bought 1 shares for $74.96\n",
      "On the 248th day, sold 12.561679790026247 shares for $942.6284514435697\n",
      "On the 263th day, Bought 6.780580417683754 shares for $500.0\n",
      "On the 264th day, Bought 5 shares for $371.65\n",
      "On the 271th day, Bought 1 shares for $72.97\n",
      "On the 272th day, Bought 0 shares for $0.0\n",
      "On the 277th day, sold 12.780580417683755 shares for $938.0946026579877\n",
      "On the 282th day, Bought 6.941552131056504 shares for $500.0\n",
      "On the 307th day, Bought 5 shares for $374.75\n",
      "On the 308th day, Bought 1 shares for $75.3\n",
      "On the 332th day, Bought 0 shares for $0.0\n",
      "On the 333th day, Bought 0 shares for $0.0\n",
      "On the 349th day, sold 12.941552131056504 shares for $949.133433291684\n",
      "On the 375th day, Bought 6.75401864109145 shares for $500.0\n",
      "On the 376th day, Bought 5 shares for $371.4\n",
      "On the 377th day, Bought 1 shares for $74.06\n",
      "On the 379th day, Bought 0 shares for $0.0\n",
      "On the 393th day, sold 12.754018641091449 shares for $952.980272862353\n",
      "On the 420th day, Bought 6.939625260235948 shares for $500.0\n",
      "On the 422th day, sold 6.939625260235948 shares for $495.28105482303965\n",
      "On the 427th day, Bought 7.20772668300418 shares for $500.0\n",
      "On the 428th day, Bought 6 shares for $412.79999999999995\n",
      "On the 432th day, Bought 0 shares for $0.0\n",
      "On the 439th day, sold 13.20772668300418 shares for $874.6156609485369\n",
      "On the 459th day, Bought 7.3014018691588785 shares for $500.0\n",
      "On the 460th day, Bought 6 shares for $413.76\n",
      "On the 484th day, sold 13.301401869158878 shares for $947.5918691588785\n",
      "On the 491th day, Bought 6.958942240779402 shares for $500.0\n",
      "On the 492th day, Bought 5 shares for $359.4\n",
      "XLP Final Value: 953.3094271904837, Final Money: 90.23256567343424, Final Shares: 11.958942240779402\n"
     ]
    },
    {
     "name": "stderr",
     "output_type": "stream",
     "text": [
      "[*********************100%***********************]  1 of 1 completed\n"
     ]
    },
    {
     "name": "stdout",
     "output_type": "stream",
     "text": [
      "read  4779  lines of data for ticker:  XLV\n"
     ]
    },
    {
     "name": "stderr",
     "output_type": "stream",
     "text": [
      "[*********************100%***********************]  1 of 1 completed\n"
     ]
    },
    {
     "name": "stdout",
     "output_type": "stream",
     "text": [
      "read  504  lines of data for ticker:  XLV\n",
      "On the 49th day, Bought 3.686228251253318 shares for $500.0\n",
      "On the 51th day, Bought 3.6427218417601632 shares for $499.99999999999994\n",
      "On the 52th day, Bought 0 shares for $0.0\n",
      "On the 53th day, Bought 0 shares for $0.0\n",
      "On the 54th day, Bought 0 shares for $0.0\n",
      "On the 57th day, Bought 0 shares for $0.0\n",
      "On the 71th day, sold 7.328950093013481 shares for $968.8872022963822\n",
      "On the 125th day, Bought 3.9329819869425 shares for $500.0\n",
      "On the 126th day, Bought 2 shares for $260.4\n",
      "On the 134th day, Bought 1 shares for $132.0\n",
      "On the 135th day, Bought 0 shares for $0.0\n",
      "On the 143th day, Bought 0 shares for $0.0\n",
      "On the 144th day, Bought 0 shares for $0.0\n",
      "On the 145th day, Bought 0 shares for $0.0\n",
      "On the 162th day, sold 6.9329819869425 shares for $867.3853763863762\n",
      "On the 202th day, Bought 3.764209892343597 shares for $500.0\n",
      "On the 203th day, Bought 2 shares for $261.14\n",
      "On the 204th day, Bought 1 shares for $130.02\n",
      "On the 206th day, Bought 0 shares for $0.0\n",
      "On the 217th day, Bought 0 shares for $0.0\n",
      "On the 218th day, Bought 0 shares for $0.0\n",
      "On the 219th day, Bought 0 shares for $0.0\n",
      "On the 220th day, Bought 0 shares for $0.0\n",
      "On the 221th day, Bought 0 shares for $0.0\n",
      "On the 222th day, Bought 0 shares for $0.0\n",
      "On the 257th day, Bought 0 shares for $0.0\n",
      "On the 262th day, Bought 0 shares for $0.0\n",
      "On the 273th day, Bought 0 shares for $0.0\n",
      "On the 287th day, Bought 0 shares for $0.0\n",
      "On the 290th day, sold 6.764209892343597 shares for $839.7766581344576\n",
      "On the 308th day, Bought 3.7540355882573766 shares for $500.0\n",
      "On the 375th day, Bought 2 shares for $259.5\n",
      "On the 376th day, Bought 1 shares for $131.7\n",
      "On the 381th day, sold 6.754035588257377 shares for $920.1698085441851\n",
      "On the 403th day, Bought 3.753753753753754 shares for $500.0\n",
      "On the 404th day, Bought 2 shares for $267.2\n",
      "On the 405th day, Bought 1 shares for $132.44\n",
      "On the 431th day, sold 6.753753753753754 shares for $868.2625825825827\n",
      "On the 458th day, Bought 3.9010688928766486 shares for $500.0\n",
      "On the 459th day, Bought 2 shares for $251.04\n",
      "On the 467th day, Bought 1 shares for $129.81\n",
      "On the 468th day, Bought 0 shares for $0.0\n",
      "On the 469th day, Bought 0 shares for $0.0\n",
      "On the 470th day, Bought 0 shares for $0.0\n",
      "On the 471th day, Bought 0 shares for $0.0\n",
      "On the 472th day, Bought 0 shares for $0.0\n",
      "On the 473th day, Bought 0 shares for $0.0\n"
     ]
    },
    {
     "name": "stderr",
     "output_type": "stream",
     "text": [
      "[*********************100%***********************]  1 of 1 completed"
     ]
    },
    {
     "name": "stdout",
     "output_type": "stream",
     "text": [
      "XLV Final Value: 970.1364605881284, Final Money: 9.23162794398391, Final Shares: 6.901068892876649\n",
      "read  4779  lines of data for ticker:  XLV\n"
     ]
    },
    {
     "name": "stderr",
     "output_type": "stream",
     "text": [
      "\n",
      "[*********************100%***********************]  1 of 1 completed\n"
     ]
    },
    {
     "name": "stdout",
     "output_type": "stream",
     "text": [
      "read  504  lines of data for ticker:  XLV\n",
      "On the 30th day, Bought 3.818251240931654 shares for $500.0\n",
      "On the 70th day, sold 3.818251240931654 shares for $513.8220694921727\n",
      "On the 95th day, Bought 0 shares for $0.0\n",
      "On the 122th day, Bought 0 shares for $0.0\n",
      "On the 123th day, Bought 3.883495145631068 shares for $500.0\n",
      "On the 137th day, Bought 3.8045959519099077 shares for $500.0\n",
      "On the 138th day, Bought 0 shares for $0.0\n",
      "On the 161th day, sold 7.688091097540976 shares for $960.9345062816466\n",
      "On the 201th day, Bought 3.766478342749529 shares for $499.99999999999994\n",
      "On the 202th day, Bought 2 shares for $265.66\n",
      "On the 203th day, Bought 1 shares for $130.57\n",
      "On the 208th day, Bought 0 shares for $0.0\n",
      "On the 217th day, Bought 0 shares for $0.0\n",
      "On the 218th day, Bought 0 shares for $0.0\n",
      "On the 219th day, Bought 0 shares for $0.0\n",
      "On the 220th day, Bought 0 shares for $0.0\n",
      "On the 262th day, Bought 0 shares for $0.0\n",
      "On the 278th day, sold 6.766478342749529 shares for $878.559548022599\n",
      "On the 306th day, Bought 3.819417920708884 shares for $500.0\n",
      "On the 307th day, Bought 2 shares for $261.86\n",
      "On the 310th day, Bought 1 shares for $133.43\n",
      "On the 316th day, Bought 0 shares for $0.0\n",
      "On the 321th day, Bought 0 shares for $0.0\n",
      "On the 348th day, sold 6.819417920708884 shares for $888.7065434267816\n",
      "On the 365th day, Bought 0 shares for $0.0\n",
      "On the 366th day, Bought 0 shares for $0.0\n",
      "On the 389th day, Bought 0 shares for $0.0\n",
      "On the 392th day, Bought 0 shares for $0.0\n",
      "On the 404th day, Bought 0 shares for $0.0\n",
      "On the 458th day, Bought 0 shares for $0.0\n",
      "On the 467th day, Bought 0 shares for $0.0\n",
      "On the 468th day, Bought 0 shares for $0.0\n",
      "On the 469th day, Bought 0 shares for $0.0\n",
      "On the 470th day, Bought 0 shares for $0.0\n"
     ]
    },
    {
     "name": "stderr",
     "output_type": "stream",
     "text": [
      "[*********************100%***********************]  1 of 1 completed"
     ]
    },
    {
     "name": "stdout",
     "output_type": "stream",
     "text": [
      "On the 481th day, Bought 0 shares for $0.0\n",
      "XLV Final Value: 950.5026672231998, Final Money: 950.5026672231998, Final Shares: 0.0\n",
      "read  4779  lines of data for ticker:  XLV\n"
     ]
    },
    {
     "name": "stderr",
     "output_type": "stream",
     "text": [
      "\n",
      "[*********************100%***********************]  1 of 1 completed\n"
     ]
    },
    {
     "name": "stdout",
     "output_type": "stream",
     "text": [
      "read  504  lines of data for ticker:  XLV\n",
      "On the 50th day, Bought 3.669186174506494 shares for $500.0\n",
      "On the 51th day, Bought 3.6427218417601632 shares for $499.99999999999994\n",
      "On the 52th day, Bought 0 shares for $0.0\n",
      "On the 57th day, Bought 0 shares for $0.0\n",
      "On the 58th day, Bought 0 shares for $0.0\n",
      "On the 61th day, sold 7.311908016266657 shares for $1023.5940031971694\n",
      "On the 102th day, Bought 3.9203387172651714 shares for $500.0\n",
      "On the 104th day, sold 3.9203387172651714 shares for $477.0660185039987\n",
      "On the 196th day, Bought 3.876570010854396 shares for $500.0\n",
      "On the 199th day, sold 3.876570010854396 shares for $506.70646611877817\n",
      "On the 407th day, Bought 3.7391564463057136 shares for $500.0\n",
      "On the 419th day, Bought 3.7526268387871506 shares for $500.0\n",
      "On the 438th day, sold 7.491783285092865 shares for $977.6777187046189\n",
      "On the 473th day, Bought 3.80778310867413 shares for $500.0\n",
      "On the 474th day, Bought 2 shares for $263.66\n",
      "On the 480th day, Bought 1 shares for $132.94\n",
      "On the 481th day, Bought 0 shares for $0.0\n",
      "On the 483th day, sold 6.80778310867413 shares for $921.1611324346965\n"
     ]
    },
    {
     "name": "stderr",
     "output_type": "stream",
     "text": [
      "[*********************100%***********************]  1 of 1 completed"
     ]
    },
    {
     "name": "stdout",
     "output_type": "stream",
     "text": [
      "XLV Final Value: 1009.6053389592618, Final Money: 1009.6053389592618, Final Shares: 0.0\n",
      "read  4779  lines of data for ticker:  XLV\n"
     ]
    },
    {
     "name": "stderr",
     "output_type": "stream",
     "text": [
      "\n",
      "[*********************100%***********************]  1 of 1 completed\n"
     ]
    },
    {
     "name": "stdout",
     "output_type": "stream",
     "text": [
      "read  504  lines of data for ticker:  XLV\n",
      "On the 86th day, Bought 3.8072032285083375 shares for $500.0\n",
      "On the 131th day, sold 3.8072032285083375 shares for $494.2891951572375\n",
      "On the 136th day, Bought 3.7764350453172204 shares for $500.0\n",
      "On the 137th day, Bought 2 shares for $262.84\n",
      "On the 143th day, Bought 1 shares for $131.36\n",
      "On the 164th day, sold 6.77643504531722 shares for $876.5996374622357\n",
      "On the 206th day, Bought 3.781862188941835 shares for $500.0\n",
      "On the 214th day, Bought 2 shares for $265.92\n",
      "On the 215th day, Bought 1 shares for $134.57\n",
      "On the 217th day, Bought 0 shares for $0.0\n",
      "On the 219th day, Bought 0 shares for $0.0\n",
      "On the 235th day, sold 6.781862188941835 shares for $911.9570085470085\n",
      "On the 316th day, Bought 0 shares for $0.0\n",
      "On the 336th day, Bought 0 shares for $0.0\n",
      "On the 404th day, Bought 3.7425149700598803 shares for $500.0\n",
      "On the 408th day, Bought 2 shares for $269.84\n",
      "On the 413th day, sold 5.74251497005988 shares for $754.9684431137724\n",
      "On the 418th day, Bought 3.7644932992019275 shares for $500.0\n",
      "On the 420th day, Bought 2 shares for $264.38\n",
      "On the 424th day, Bought 0 shares for $0.0\n",
      "On the 431th day, sold 5.764493299201927 shares for $741.0832585453998\n",
      "On the 457th day, Bought 0 shares for $0.0\n",
      "On the 467th day, Bought 0 shares for $0.0\n",
      "On the 469th day, Bought 0 shares for $0.0\n",
      "XLV Final Value: 949.987542825654, Final Money: 949.987542825654, Final Shares: 0.0\n"
     ]
    },
    {
     "name": "stderr",
     "output_type": "stream",
     "text": [
      "[*********************100%***********************]  1 of 1 completed\n"
     ]
    },
    {
     "name": "stdout",
     "output_type": "stream",
     "text": [
      "read  4779  lines of data for ticker:  XLY\n"
     ]
    },
    {
     "name": "stderr",
     "output_type": "stream",
     "text": [
      "[*********************100%***********************]  1 of 1 completed\n"
     ]
    },
    {
     "name": "stdout",
     "output_type": "stream",
     "text": [
      "read  504  lines of data for ticker:  XLY\n",
      "On the 30th day, Bought 2.8378455076905613 shares for $500.0\n",
      "On the 31th day, Bought 1 shares for $177.43\n",
      "On the 32th day, Bought 1 shares for $174.74\n",
      "On the 33th day, Bought 0 shares for $0.0\n",
      "On the 34th day, Bought 0 shares for $0.0\n",
      "On the 74th day, sold 4.837845507690561 shares for $787.9882762926386\n",
      "On the 101th day, Bought 3.262855651265988 shares for $500.0\n",
      "On the 102th day, Bought 2 shares for $300.94\n",
      "On the 103th day, Bought 0 shares for $0.0\n",
      "On the 104th day, Bought 0 shares for $0.0\n",
      "On the 122th day, Bought 0 shares for $0.0\n",
      "On the 123th day, Bought 0 shares for $0.0\n",
      "On the 124th day, Bought 0 shares for $0.0\n",
      "On the 127th day, Bought 0 shares for $0.0\n",
      "On the 128th day, Bought 0 shares for $0.0\n",
      "On the 132th day, Bought 0 shares for $0.0\n",
      "On the 133th day, Bought 0 shares for $0.0\n",
      "On the 144th day, Bought 0 shares for $0.0\n",
      "On the 145th day, Bought 0 shares for $0.0\n",
      "On the 151th day, Bought 0 shares for $0.0\n",
      "On the 152th day, Bought 0 shares for $0.0\n",
      "On the 154th day, Bought 0 shares for $0.0\n",
      "On the 155th day, Bought 0 shares for $0.0\n",
      "On the 156th day, Bought 0 shares for $0.0\n",
      "On the 174th day, sold 5.262855651265988 shares for $788.7441764552336\n",
      "On the 200th day, Bought 3.4492273730684326 shares for $500.0\n",
      "On the 217th day, Bought 2 shares for $281.04\n",
      "On the 218th day, Bought 1 shares for $142.55\n",
      "On the 219th day, Bought 0 shares for $0.0\n",
      "On the 220th day, Bought 0 shares for $0.0\n",
      "On the 221th day, Bought 0 shares for $0.0\n",
      "On the 222th day, Bought 0 shares for $0.0\n",
      "On the 223th day, Bought 0 shares for $0.0\n",
      "On the 224th day, Bought 0 shares for $0.0\n",
      "On the 266th day, sold 6.449227373068433 shares for $976.0905629139072\n",
      "On the 285th day, Bought 3.41740140796938 shares for $500.0\n",
      "On the 287th day, Bought 2 shares for $286.52\n",
      "On the 288th day, Bought 1 shares for $143.0\n",
      "On the 289th day, Bought 0 shares for $0.0\n",
      "On the 307th day, Bought 0 shares for $0.0\n",
      "On the 308th day, Bought 0 shares for $0.0\n",
      "On the 317th day, Bought 0 shares for $0.0\n",
      "On the 318th day, Bought 0 shares for $0.0\n",
      "On the 321th day, Bought 0 shares for $0.0\n",
      "On the 331th day, Bought 0 shares for $0.0\n",
      "On the 332th day, Bought 0 shares for $0.0\n",
      "On the 333th day, Bought 0 shares for $0.0\n",
      "On the 334th day, Bought 0 shares for $0.0\n",
      "On the 335th day, Bought 0 shares for $0.0\n",
      "On the 336th day, Bought 0 shares for $0.0\n",
      "On the 337th day, Bought 0 shares for $0.0\n",
      "On the 348th day, sold 6.41740140796938 shares for $1007.5320210511926\n",
      "On the 372th day, Bought 2.943080816999235 shares for $500.0\n",
      "On the 373th day, Bought 2.918685424084992 shares for $500.0\n",
      "On the 374th day, Bought 0 shares for $0.0\n",
      "On the 375th day, Bought 0 shares for $0.0\n",
      "On the 376th day, Bought 0 shares for $0.0\n",
      "On the 377th day, Bought 0 shares for $0.0\n",
      "On the 378th day, Bought 0 shares for $0.0\n",
      "On the 379th day, Bought 0 shares for $0.0\n",
      "On the 380th day, Bought 0 shares for $0.0\n",
      "On the 396th day, sold 5.8617662410842275 shares for $994.8589664368151\n",
      "On the 416th day, Bought 2.8853367187950836 shares for $500.0\n",
      "On the 425th day, sold 2.8853367187950836 shares for $464.33723815569283\n"
     ]
    },
    {
     "name": "stderr",
     "output_type": "stream",
     "text": [
      "[*********************100%***********************]  1 of 1 completed"
     ]
    },
    {
     "name": "stdout",
     "output_type": "stream",
     "text": [
      "On the 457th day, Bought 3.08242401824795 shares for $500.0\n",
      "On the 458th day, Bought 3.0906168871306714 shares for $500.0\n",
      "On the 459th day, Bought 0 shares for $0.0\n",
      "On the 460th day, Bought 0 shares for $0.0\n",
      "On the 462th day, Bought 0 shares for $0.0\n",
      "On the 468th day, Bought 0 shares for $0.0\n",
      "On the 469th day, Bought 0 shares for $0.0\n",
      "On the 470th day, Bought 0 shares for $0.0\n",
      "On the 471th day, Bought 0 shares for $0.0\n",
      "On the 472th day, Bought 0 shares for $0.0\n",
      "On the 473th day, Bought 0 shares for $0.0\n",
      "On the 474th day, Bought 0 shares for $0.0\n",
      "XLY Final Value: 1077.2548413474851, Final Money: 13.331241305479807, Final Shares: 6.173040905378621\n",
      "read  4779  lines of data for ticker:  XLY\n"
     ]
    },
    {
     "name": "stderr",
     "output_type": "stream",
     "text": [
      "\n",
      "[*********************100%***********************]  1 of 1 completed\n"
     ]
    },
    {
     "name": "stdout",
     "output_type": "stream",
     "text": [
      "read  504  lines of data for ticker:  XLY\n",
      "On the 48th day, Bought 2.74333369911116 shares for $500.0\n",
      "On the 50th day, Bought 2.726876090750436 shares for $499.99999999999994\n",
      "On the 51th day, Bought 0 shares for $0.0\n",
      "On the 52th day, Bought 0 shares for $0.0\n",
      "On the 53th day, Bought 0 shares for $0.0\n",
      "On the 72th day, sold 5.470209789861595 shares for $919.8157761652272\n",
      "On the 102th day, Bought 3.3229215125938727 shares for $500.0\n",
      "On the 103th day, Bought 2 shares for $288.94\n",
      "On the 122th day, Bought 0 shares for $0.0\n",
      "On the 126th day, Bought 0 shares for $0.0\n",
      "On the 127th day, Bought 0 shares for $0.0\n",
      "On the 128th day, Bought 0 shares for $0.0\n",
      "On the 130th day, Bought 0 shares for $0.0\n",
      "On the 131th day, Bought 0 shares for $0.0\n",
      "On the 132th day, Bought 0 shares for $0.0\n",
      "On the 168th day, sold 5.322921512593872 shares for $851.8803588755233\n",
      "On the 203th day, Bought 3.6448461874908875 shares for $500.0\n",
      "On the 210th day, sold 3.6448461874908875 shares for $528.8307333430529\n",
      "On the 218th day, Bought 3.5075412136092594 shares for $499.99999999999994\n",
      "On the 267th day, sold 3.5075412136092594 shares for $530.0947036127674\n",
      "On the 274th day, Bought 3.248862897985705 shares for $500.0\n",
      "On the 275th day, Bought 3.3213763783711974 shares for $500.0\n",
      "On the 285th day, Bought 0 shares for $0.0\n",
      "On the 306th day, Bought 0 shares for $0.0\n",
      "On the 313th day, Bought 0 shares for $0.0\n",
      "On the 316th day, Bought 0 shares for $0.0\n",
      "On the 317th day, Bought 0 shares for $0.0\n",
      "On the 321th day, Bought 0 shares for $0.0\n",
      "On the 333th day, Bought 0 shares for $0.0\n",
      "On the 336th day, Bought 0 shares for $0.0\n",
      "On the 337th day, Bought 0 shares for $0.0\n",
      "On the 356th day, Bought 0 shares for $0.0\n",
      "On the 359th day, Bought 0 shares for $0.0\n",
      "On the 360th day, Bought 0 shares for $0.0\n",
      "On the 378th day, Bought 0 shares for $0.0\n",
      "On the 379th day, Bought 0 shares for $0.0\n",
      "On the 380th day, Bought 0 shares for $0.0\n",
      "On the 416th day, Bought 0 shares for $0.0\n",
      "On the 422th day, sold 6.570239276356903 shares for $1108.8592826707545\n",
      "On the 457th day, Bought 3.08242401824795 shares for $500.0\n",
      "On the 458th day, Bought 3.0906168871306714 shares for $500.0\n",
      "On the 470th day, Bought 0 shares for $0.0\n",
      "On the 471th day, Bought 0 shares for $0.0\n",
      "On the 472th day, Bought 0 shares for $0.0\n",
      "On the 473th day, Bought 0 shares for $0.0\n",
      "On the 474th day, Bought 0 shares for $0.0\n",
      "XLY Final Value: 1214.4644547093308, Final Money: 150.54085466732545, Final Shares: 6.173040905378621\n"
     ]
    },
    {
     "name": "stderr",
     "output_type": "stream",
     "text": [
      "[*********************100%***********************]  1 of 1 completed\n"
     ]
    },
    {
     "name": "stdout",
     "output_type": "stream",
     "text": [
      "read  4779  lines of data for ticker:  XLY\n"
     ]
    },
    {
     "name": "stderr",
     "output_type": "stream",
     "text": [
      "[*********************100%***********************]  1 of 1 completed\n"
     ]
    },
    {
     "name": "stdout",
     "output_type": "stream",
     "text": [
      "read  504  lines of data for ticker:  XLY\n",
      "On the 65th day, Bought 2.794232703699564 shares for $500.0\n",
      "On the 103th day, Bought 2 shares for $288.94\n",
      "On the 111th day, Bought 1 shares for $141.59\n",
      "On the 143th day, Bought 0 shares for $0.0\n",
      "On the 163th day, Bought 0 shares for $0.0\n",
      "On the 176th day, sold 5.794232703699564 shares for $846.4794556834693\n",
      "On the 192th day, Bought 3.5038542396636303 shares for $500.0\n",
      "On the 202th day, Bought 2 shares for $285.14\n",
      "On the 203th day, Bought 0 shares for $0.0\n",
      "On the 211th day, sold 5.50385423966363 shares for $785.8953468815697\n",
      "On the 216th day, Bought 3.598416696653473 shares for $500.0\n",
      "On the 220th day, Bought 2 shares for $283.5\n",
      "On the 221th day, Bought 0 shares for $0.0\n",
      "On the 232th day, Bought 0 shares for $0.0\n",
      "On the 233th day, Bought 0 shares for $0.0\n",
      "On the 266th day, sold 5.598416696653473 shares for $847.3203670385032\n",
      "On the 273th day, Bought 3.2868787799105967 shares for $500.0\n",
      "On the 284th day, Bought 2 shares for $286.46\n",
      "On the 320th day, Bought 1 shares for $147.35\n",
      "On the 336th day, Bought 0 shares for $0.0\n",
      "On the 337th day, Bought 0 shares for $0.0\n",
      "On the 339th day, sold 6.286878779910596 shares for $952.7764790954509\n",
      "On the 387th day, Bought 2.877863474156786 shares for $500.0\n",
      "On the 401th day, sold 2.877863474156786 shares for $468.1132727063428\n",
      "On the 415th day, Bought 2.962962962962963 shares for $500.0\n",
      "On the 425th day, sold 2.962962962962963 shares for $476.8296296296296\n",
      "On the 469th day, Bought 2.9719448407037565 shares for $500.0\n",
      "On the 470th day, Bought 1 shares for $168.51\n",
      "On the 471th day, Bought 1 shares for $169.48\n",
      "On the 472th day, Bought 0 shares for $0.0\n",
      "On the 473th day, Bought 0 shares for $0.0\n"
     ]
    },
    {
     "name": "stderr",
     "output_type": "stream",
     "text": [
      "[*********************100%***********************]  1 of 1 completed"
     ]
    },
    {
     "name": "stdout",
     "output_type": "stream",
     "text": [
      "XLY Final Value: 963.3592443302579, Final Money: 106.4445510349656, Final Shares: 4.971944840703756\n",
      "read  4779  lines of data for ticker:  XLY\n"
     ]
    },
    {
     "name": "stderr",
     "output_type": "stream",
     "text": [
      "\n",
      "[*********************100%***********************]  1 of 1 completed\n"
     ]
    },
    {
     "name": "stdout",
     "output_type": "stream",
     "text": [
      "read  504  lines of data for ticker:  XLY\n",
      "On the 38th day, Bought 2.962260797440607 shares for $500.00000000000006\n",
      "On the 66th day, Bought 1 shares for $184.13\n",
      "On the 75th day, sold 3.962260797440607 shares for $654.8032193850347\n",
      "On the 102th day, Bought 3.3229215125938727 shares for $500.0\n",
      "On the 110th day, sold 3.3229215125938727 shares for $463.2152588555859\n",
      "On the 126th day, Bought 3.4520850593758627 shares for $499.99999999999994\n",
      "On the 128th day, Bought 2 shares for $299.42\n",
      "On the 163th day, Bought 0 shares for $0.0\n",
      "On the 173th day, sold 5.452085059375863 shares for $836.4043689588511\n",
      "On the 205th day, Bought 0 shares for $0.0\n",
      "On the 266th day, Bought 3.303600925008259 shares for $500.0\n",
      "On the 268th day, sold 3.303600925008259 shares for $500.42946812025104\n",
      "On the 272th day, Bought 3.326237360298031 shares for $500.0\n",
      "On the 273th day, Bought 2 shares for $304.24\n",
      "On the 274th day, Bought 1 shares for $153.9\n",
      "On the 278th day, sold 6.32623736029803 shares for $925.4020010643959\n",
      "On the 285th day, Bought 3.41740140796938 shares for $500.0\n",
      "On the 299th day, sold 3.41740140796938 shares for $485.4076959879707\n",
      "On the 303th day, Bought 0 shares for $0.0\n",
      "On the 305th day, Bought 0 shares for $0.0\n",
      "On the 316th day, Bought 0 shares for $0.0\n",
      "On the 317th day, Bought 0 shares for $0.0\n",
      "On the 318th day, Bought 0 shares for $0.0\n",
      "On the 336th day, Bought 0 shares for $0.0\n",
      "On the 354th day, Bought 0 shares for $0.0\n",
      "On the 360th day, Bought 0 shares for $0.0\n",
      "On the 372th day, Bought 0 shares for $0.0\n",
      "On the 373th day, Bought 0 shares for $0.0\n",
      "On the 375th day, Bought 0 shares for $0.0\n",
      "On the 377th day, Bought 0 shares for $0.0\n",
      "On the 456th day, Bought 0 shares for $0.0\n",
      "On the 458th day, Bought 0 shares for $0.0\n",
      "XLY Final Value: 923.9720123720895, Final Money: 923.9720123720895, Final Shares: 0.0\n"
     ]
    },
    {
     "name": "stderr",
     "output_type": "stream",
     "text": [
      "[*********************100%***********************]  1 of 1 completed\n"
     ]
    },
    {
     "name": "stdout",
     "output_type": "stream",
     "text": [
      "read  4779  lines of data for ticker:  XLU\n"
     ]
    },
    {
     "name": "stderr",
     "output_type": "stream",
     "text": [
      "[*********************100%***********************]  1 of 1 completed\n"
     ]
    },
    {
     "name": "stdout",
     "output_type": "stream",
     "text": [
      "read  504  lines of data for ticker:  XLU\n",
      "On the 45th day, Bought 7.061149555147578 shares for $500.0\n",
      "On the 72th day, sold 7.061149555147578 shares for $512.9925151814716\n",
      "On the 150th day, Bought 6.4316953949060975 shares for $500.0\n",
      "On the 151th day, Bought 6.435006435006435 shares for $500.0\n",
      "On the 152th day, Bought 0 shares for $0.0\n",
      "On the 154th day, Bought 0 shares for $0.0\n",
      "On the 155th day, Bought 0 shares for $0.0\n",
      "On the 162th day, sold 12.866701829912532 shares for $962.3006298591583\n",
      "On the 203th day, Bought 7.531254707034192 shares for $500.0\n",
      "On the 217th day, Bought 6 shares for $418.5\n",
      "On the 218th day, Bought 0 shares for $0.0\n",
      "On the 219th day, Bought 0 shares for $0.0\n",
      "On the 220th day, Bought 0 shares for $0.0\n",
      "On the 221th day, Bought 0 shares for $0.0\n",
      "On the 222th day, Bought 0 shares for $0.0\n",
      "On the 230th day, Bought 0 shares for $0.0\n",
      "On the 254th day, Bought 0 shares for $0.0\n",
      "On the 270th day, sold 13.531254707034192 shares for $898.34\n",
      "On the 307th day, Bought 7.399733609590055 shares for $500.0\n",
      "On the 308th day, Bought 6 shares for $415.91999999999996\n",
      "On the 310th day, Bought 0 shares for $0.0\n",
      "On the 352th day, sold 13.399733609590054 shares for $894.8342104484238\n",
      "On the 356th day, Bought 7.5505889459377835 shares for $500.0\n",
      "On the 357th day, Bought 6 shares for $401.64\n",
      "On the 359th day, Bought 0 shares for $0.0\n",
      "On the 363th day, sold 13.550588945937783 shares for $889.8671760797342\n",
      "On the 377th day, Bought 7.566585956416465 shares for $500.0\n",
      "On the 378th day, Bought 6 shares for $393.41999999999996\n",
      "On the 392th day, sold 13.566585956416464 shares for $867.9901694915253\n",
      "On the 399th day, Bought 7.898894154818326 shares for $500.0\n",
      "On the 400th day, Bought 6 shares for $378.96\n",
      "On the 401th day, Bought 0 shares for $0.0\n",
      "On the 402th day, Bought 0 shares for $0.0\n",
      "On the 403th day, Bought 0 shares for $0.0\n",
      "On the 405th day, Bought 0 shares for $0.0\n",
      "On the 428th day, sold 13.898894154818326 shares for $835.740505529226\n"
     ]
    },
    {
     "name": "stderr",
     "output_type": "stream",
     "text": [
      "[*********************100%***********************]  1 of 1 completed"
     ]
    },
    {
     "name": "stdout",
     "output_type": "stream",
     "text": [
      "On the 462th day, Bought 8.067118425298483 shares for $500.0\n",
      "On the 469th day, Bought 5 shares for $313.45\n",
      "On the 470th day, Bought 0 shares for $0.0\n",
      "On the 471th day, Bought 0 shares for $0.0\n",
      "On the 472th day, Bought 0 shares for $0.0\n",
      "On the 473th day, Bought 0 shares for $0.0\n",
      "On the 474th day, Bought 0 shares for $0.0\n",
      "On the 485th day, sold 13.067118425298483 shares for $826.2338980316231\n",
      "XLU Final Value: 866.4091046211624, Final Money: 866.4091046211624, Final Shares: 0.0\n",
      "read  4779  lines of data for ticker:  XLU\n"
     ]
    },
    {
     "name": "stderr",
     "output_type": "stream",
     "text": [
      "\n",
      "[*********************100%***********************]  1 of 1 completed\n"
     ]
    },
    {
     "name": "stdout",
     "output_type": "stream",
     "text": [
      "read  504  lines of data for ticker:  XLU\n",
      "On the 44th day, Bought 7.0008401008120975 shares for $500.0\n",
      "On the 70th day, sold 7.0008401008120975 shares for $516.241949033884\n",
      "On the 126th day, Bought 7.16743119266055 shares for $500.0\n",
      "On the 127th day, Bought 7.268498328245384 shares for $500.0\n",
      "On the 143th day, Bought 0 shares for $0.0\n",
      "On the 144th day, Bought 0 shares for $0.0\n",
      "On the 164th day, sold 14.435929520905933 shares for $1112.5770881762203\n",
      "On the 208th day, Bought 7.604562737642586 shares for $500.0\n",
      "On the 217th day, Bought 7.168458781362007 shares for $500.0\n",
      "On the 218th day, Bought 1 shares for $70.53\n",
      "On the 219th day, Bought 0 shares for $0.0\n",
      "On the 230th day, Bought 0 shares for $0.0\n",
      "On the 248th day, sold 15.773021519004594 shares for $1127.4555781784484\n",
      "On the 262th day, Bought 7.2907553222513855 shares for $500.0\n",
      "On the 263th day, Bought 7.236937328122738 shares for $500.0\n",
      "On the 272th day, sold 14.527692650374124 shares for $989.6264233434854\n",
      "On the 308th day, Bought 7.212925562608195 shares for $500.0\n",
      "On the 310th day, Bought 7.176690110521028 shares for $500.0\n",
      "On the 316th day, Bought 2 shares for $137.82\n",
      "On the 317th day, Bought 0 shares for $0.0\n",
      "On the 318th day, Bought 0 shares for $0.0\n",
      "On the 319th day, Bought 0 shares for $0.0\n",
      "On the 363th day, sold 16.38961567312922 shares for $1076.306061254396\n",
      "On the 389th day, Bought 7.547169811320755 shares for $500.0\n",
      "On the 398th day, Bought 7.9339892097746745 shares for $500.0\n",
      "On the 406th day, Bought 1 shares for $63.63\n",
      "On the 407th day, Bought 0 shares for $0.0\n",
      "On the 408th day, Bought 0 shares for $0.0\n",
      "On the 409th day, Bought 0 shares for $0.0\n",
      "On the 410th day, Bought 0 shares for $0.0\n",
      "On the 420th day, Bought 0 shares for $0.0\n",
      "On the 428th day, sold 16.48115902109543 shares for $991.0120919384682\n",
      "On the 470th day, Bought 7.963051441312311 shares for $500.0\n",
      "On the 471th day, Bought 7.937767899666613 shares for $500.0\n",
      "On the 472th day, Bought 0 shares for $0.0\n",
      "On the 473th day, Bought 0 shares for $0.0\n",
      "On the 474th day, Bought 0 shares for $0.0\n"
     ]
    },
    {
     "name": "stderr",
     "output_type": "stream",
     "text": [
      "[*********************100%***********************]  1 of 1 completed"
     ]
    },
    {
     "name": "stdout",
     "output_type": "stream",
     "text": [
      "XLU Final Value: 1063.5028673564375, Final Money: 41.23919192490234, Final Shares: 15.900819340978924\n",
      "read  4779  lines of data for ticker:  XLU\n"
     ]
    },
    {
     "name": "stderr",
     "output_type": "stream",
     "text": [
      "\n",
      "[*********************100%***********************]  1 of 1 completed\n"
     ]
    },
    {
     "name": "stdout",
     "output_type": "stream",
     "text": [
      "read  504  lines of data for ticker:  XLU\n",
      "On the 98th day, Bought 6.724949562878279 shares for $500.0\n",
      "On the 104th day, sold 6.724949562878279 shares for $457.70006724949565\n",
      "On the 142th day, Bought 6.725854183481302 shares for $500.0\n",
      "On the 171th day, sold 6.725854183481302 shares for $504.1700295937584\n",
      "On the 206th day, Bought 7.597629539583649 shares for $500.0\n",
      "On the 229th day, Bought 6 shares for $424.98\n",
      "On the 230th day, Bought 0 shares for $0.0\n",
      "On the 254th day, Bought 0 shares for $0.0\n",
      "On the 256th day, sold 13.59762953958365 shares for $941.3638930253761\n",
      "On the 261th day, Bought 7.257947452460444 shares for $500.0\n",
      "On the 271th day, sold 7.257947452460444 shares for $491.4356220060966\n",
      "On the 315th day, Bought 7.218131947452 shares for $500.0\n",
      "On the 316th day, Bought 6 shares for $413.46\n",
      "On the 317th day, Bought 0 shares for $0.0\n",
      "On the 318th day, Bought 0 shares for $0.0\n",
      "On the 319th day, Bought 0 shares for $0.0\n",
      "On the 337th day, sold 13.218131947452001 shares for $877.8161426302873\n",
      "On the 397th day, Bought 7.805182641273806 shares for $500.0\n",
      "On the 398th day, Bought 6 shares for $378.12\n",
      "On the 404th day, Bought 0 shares for $0.0\n",
      "On the 405th day, Bought 0 shares for $0.0\n",
      "On the 406th day, Bought 0 shares for $0.0\n",
      "On the 428th day, sold 13.805182641273806 shares for $830.105632219794\n",
      "On the 469th day, Bought 0 shares for $0.0\n",
      "On the 470th day, Bought 7.963051441312311 shares for $500.0\n",
      "On the 471th day, Bought 6 shares for $377.94\n",
      "On the 483th day, sold 13.963051441312311 shares for $908.9946488294314\n"
     ]
    },
    {
     "name": "stderr",
     "output_type": "stream",
     "text": [
      "[*********************100%***********************]  1 of 1 completed"
     ]
    },
    {
     "name": "stdout",
     "output_type": "stream",
     "text": [
      "XLU Final Value: 917.0860355542395, Final Money: 917.0860355542395, Final Shares: 0.0\n",
      "read  4779  lines of data for ticker:  XLU\n"
     ]
    },
    {
     "name": "stderr",
     "output_type": "stream",
     "text": [
      "\n",
      "[*********************100%***********************]  1 of 1 completed\n"
     ]
    },
    {
     "name": "stdout",
     "output_type": "stream",
     "text": [
      "read  504  lines of data for ticker:  XLU\n",
      "On the 99th day, Bought 6.695232994108195 shares for $500.0\n",
      "On the 104th day, sold 6.695232994108195 shares for $455.67755757900375\n",
      "On the 143th day, Bought 6.6515897299454565 shares for $500.0\n",
      "On the 157th day, sold 6.6515897299454565 shares for $505.12172409205795\n",
      "On the 219th day, Bought 7.048209754722301 shares for $500.0\n",
      "On the 220th day, Bought 6 shares for $421.26\n",
      "On the 251th day, Bought 0 shares for $0.0\n",
      "On the 258th day, Bought 0 shares for $0.0\n",
      "On the 262th day, Bought 0 shares for $0.0\n",
      "On the 263th day, Bought 0 shares for $0.0\n",
      "On the 266th day, Bought 0 shares for $0.0\n",
      "On the 271th day, sold 13.0482097547223 shares for $883.4942824922468\n",
      "On the 308th day, Bought 7.212925562608195 shares for $500.0\n",
      "On the 336th day, sold 7.212925562608195 shares for $480.74148874783623\n",
      "On the 388th day, Bought 7.547169811320755 shares for $500.0\n",
      "On the 396th day, Bought 6 shares for $387.41999999999996\n",
      "On the 425th day, sold 13.547169811320755 shares for $857.4003773584906\n",
      "On the 426th day, Bought 7.911392405063291 shares for $500.0\n",
      "On the 429th day, sold 7.911392405063291 shares for $465.4272151898734\n",
      "On the 442th day, Bought 8.368200836820083 shares for $500.0\n",
      "On the 454th day, Bought 5 shares for $307.5\n",
      "On the 455th day, Bought 0 shares for $0.0\n",
      "On the 487th day, sold 13.368200836820083 shares for $832.8389121338912\n",
      "XLU Final Value: 864.5215575933998, Final Money: 864.5215575933998, Final Shares: 0.0\n"
     ]
    },
    {
     "name": "stderr",
     "output_type": "stream",
     "text": [
      "[*********************100%***********************]  1 of 1 completed\n"
     ]
    },
    {
     "name": "stdout",
     "output_type": "stream",
     "text": [
      "read  2775  lines of data for ticker:  XLB\n"
     ]
    },
    {
     "name": "stderr",
     "output_type": "stream",
     "text": [
      "[*********************100%***********************]  1 of 1 completed\n"
     ]
    },
    {
     "name": "stdout",
     "output_type": "stream",
     "text": [
      "read  251  lines of data for ticker:  XLB\n",
      "On the 30th day, Bought 6.062810719049351 shares for $500.0\n",
      "On the 31th day, Bought 5.994485073732166 shares for $499.99999999999994\n",
      "On the 32th day, Bought 0 shares for $0.0\n",
      "On the 33th day, Bought 0 shares for $0.0\n",
      "On the 34th day, Bought 0 shares for $0.0\n",
      "On the 35th day, Bought 0 shares for $0.0\n",
      "On the 36th day, Bought 0 shares for $0.0\n",
      "On the 57th day, Bought 0 shares for $0.0\n",
      "On the 58th day, Bought 0 shares for $0.0\n",
      "On the 120th day, sold 12.057295792781517 shares for $988.93940092394\n",
      "On the 125th day, Bought 5.953089653530182 shares for $500.0\n",
      "On the 126th day, Bought 4 shares for $334.16\n",
      "On the 127th day, Bought 1 shares for $83.74\n",
      "On the 128th day, Bought 0 shares for $0.0\n",
      "On the 129th day, Bought 0 shares for $0.0\n",
      "On the 130th day, Bought 0 shares for $0.0\n",
      "On the 155th day, Bought 0 shares for $0.0\n",
      "On the 166th day, Bought 0 shares for $0.0\n",
      "On the 172th day, sold 10.953089653530181 shares for $858.3936361471604\n",
      "On the 201th day, Bought 6.445790898543252 shares for $500.0\n",
      "On the 202th day, Bought 5 shares for $393.95000000000005\n"
     ]
    },
    {
     "name": "stderr",
     "output_type": "stream",
     "text": [
      "[*********************100%***********************]  1 of 1 completed"
     ]
    },
    {
     "name": "stdout",
     "output_type": "stream",
     "text": [
      "On the 216th day, Bought 0 shares for $0.0\n",
      "On the 217th day, Bought 0 shares for $0.0\n",
      "On the 218th day, Bought 0 shares for $0.0\n",
      "On the 219th day, Bought 0 shares for $0.0\n",
      "On the 220th day, Bought 0 shares for $0.0\n",
      "XLB Final Value: 999.218630728442, Final Money: 35.483037071100284, Final Shares: 11.445790898543251\n",
      "read  2775  lines of data for ticker:  XLB\n"
     ]
    },
    {
     "name": "stderr",
     "output_type": "stream",
     "text": [
      "\n",
      "[*********************100%***********************]  1 of 1 completed\n"
     ]
    },
    {
     "name": "stdout",
     "output_type": "stream",
     "text": [
      "read  251  lines of data for ticker:  XLB\n",
      "On the 126th day, Bought 5.9851568111084505 shares for $500.0\n",
      "On the 128th day, Bought 4 shares for $335.0\n",
      "On the 129th day, Bought 1 shares for $84.01\n",
      "On the 151th day, Bought 1 shares for $80.9\n",
      "On the 152th day, Bought 0 shares for $0.0\n",
      "On the 153th day, Bought 0 shares for $0.0\n",
      "On the 154th day, Bought 0 shares for $0.0\n",
      "On the 155th day, Bought 0 shares for $0.0\n",
      "On the 178th day, sold 11.98515681110845 shares for $928.969504429016\n"
     ]
    },
    {
     "name": "stderr",
     "output_type": "stream",
     "text": [
      "[*********************100%***********************]  1 of 1 completed"
     ]
    },
    {
     "name": "stdout",
     "output_type": "stream",
     "text": [
      "On the 217th day, Bought 6.171315724512467 shares for $500.00000000000006\n",
      "On the 218th day, Bought 5 shares for $405.90000000000003\n",
      "On the 219th day, Bought 0 shares for $0.0\n",
      "On the 220th day, Bought 0 shares for $0.0\n",
      "XLB Final Value: 963.7842884329657, Final Money: 23.159504429015897, Final Shares: 11.171315724512468\n",
      "read  2775  lines of data for ticker:  XLB\n"
     ]
    },
    {
     "name": "stderr",
     "output_type": "stream",
     "text": [
      "\n",
      "[*********************100%***********************]  1 of 1 completed\n"
     ]
    },
    {
     "name": "stdout",
     "output_type": "stream",
     "text": [
      "read  251  lines of data for ticker:  XLB\n",
      "On the 30th day, Bought 6.062810719049351 shares for $500.0\n",
      "On the 91th day, sold 6.062810719049351 shares for $462.2286892203225\n",
      "On the 143th day, Bought 6.044487427466151 shares for $500.0\n",
      "On the 152th day, Bought 5 shares for $402.8\n",
      "On the 159th day, sold 11.044487427466152 shares for $908.6299806576402\n",
      "On the 166th day, Bought 6.051071039574005 shares for $500.0\n",
      "On the 172th day, sold 6.051071039574005 shares for $474.2224373714148\n"
     ]
    },
    {
     "name": "stderr",
     "output_type": "stream",
     "text": [
      "[*********************100%***********************]  1 of 1 completed"
     ]
    },
    {
     "name": "stdout",
     "output_type": "stream",
     "text": [
      "On the 242th day, Bought 5.9192612761927315 shares for $500.0\n",
      "XLB Final Value: 940.6829067048056, Final Money: 442.28110724937756, Final Shares: 5.9192612761927315\n",
      "read  2775  lines of data for ticker:  XLB\n"
     ]
    },
    {
     "name": "stderr",
     "output_type": "stream",
     "text": [
      "\n",
      "[*********************100%***********************]  1 of 1 completed\n"
     ]
    },
    {
     "name": "stdout",
     "output_type": "stream",
     "text": [
      "read  251  lines of data for ticker:  XLB\n",
      "On the 129th day, Bought 5.951672419950006 shares for $500.0\n",
      "On the 175th day, sold 5.951672419950006 shares for $463.2781811689085\n",
      "On the 215th day, Bought 6.19041723412158 shares for $500.0\n",
      "On the 216th day, Bought 5 shares for $405.6\n",
      "On the 217th day, Bought 0 shares for $0.0\n",
      "On the 218th day, Bought 0 shares for $0.0\n",
      "On the 219th day, Bought 0 shares for $0.0\n",
      "On the 220th day, Bought 0 shares for $0.0\n",
      "XLB Final Value: 999.9113122819455, Final Money: 57.67818116890851, Final Shares: 11.190417234121579\n"
     ]
    },
    {
     "name": "stderr",
     "output_type": "stream",
     "text": [
      "[*********************100%***********************]  1 of 1 completed\n"
     ]
    },
    {
     "name": "stdout",
     "output_type": "stream",
     "text": [
      "read  2775  lines of data for ticker:  XLE\n"
     ]
    },
    {
     "name": "stderr",
     "output_type": "stream",
     "text": [
      "[*********************100%***********************]  1 of 1 completed\n"
     ]
    },
    {
     "name": "stdout",
     "output_type": "stream",
     "text": [
      "read  251  lines of data for ticker:  XLE\n",
      "On the 31th day, Bought 5.807875479149727 shares for $500.0\n",
      "On the 40th day, sold 5.807875479149727 shares for $449.2972470670229\n",
      "On the 62th day, Bought 5.800464037122969 shares for $500.0\n",
      "On the 63th day, Bought 4 shares for $346.16\n",
      "On the 64th day, Bought 1 shares for $86.24\n",
      "On the 65th day, Bought 0 shares for $0.0\n",
      "On the 66th day, Bought 0 shares for $0.0\n",
      "On the 67th day, Bought 0 shares for $0.0\n",
      "On the 115th day, Bought 0 shares for $0.0\n",
      "On the 116th day, Bought 0 shares for $0.0\n",
      "On the 157th day, Bought 0 shares for $0.0\n",
      "On the 158th day, Bought 0 shares for $0.0\n",
      "On the 159th day, Bought 0 shares for $0.0\n",
      "On the 160th day, Bought 0 shares for $0.0\n",
      "On the 161th day, Bought 0 shares for $0.0\n",
      "On the 162th day, Bought 0 shares for $0.0\n",
      "On the 181th day, sold 10.80046403712297 shares for $920.4155452436195\n"
     ]
    },
    {
     "name": "stderr",
     "output_type": "stream",
     "text": [
      "[*********************100%***********************]  1 of 1 completed"
     ]
    },
    {
     "name": "stdout",
     "output_type": "stream",
     "text": [
      "On the 209th day, Bought 5.8990089664936285 shares for $500.0\n",
      "On the 210th day, Bought 4 shares for $338.4\n",
      "On the 211th day, Bought 1 shares for $82.95\n",
      "On the 212th day, Bought 0 shares for $0.0\n",
      "On the 213th day, Bought 0 shares for $0.0\n",
      "On the 214th day, Bought 0 shares for $0.0\n",
      "On the 238th day, Bought 0 shares for $0.0\n",
      "On the 240th day, Bought 0 shares for $0.0\n",
      "On the 241th day, Bought 0 shares for $0.0\n",
      "On the 242th day, Bought 0 shares for $0.0\n",
      "XLE Final Value: 938.1279409656682, Final Money: 15.962792310642428, Final Shares: 10.899008966493628\n",
      "read  2775  lines of data for ticker:  XLE\n"
     ]
    },
    {
     "name": "stderr",
     "output_type": "stream",
     "text": [
      "\n",
      "[*********************100%***********************]  1 of 1 completed\n"
     ]
    },
    {
     "name": "stdout",
     "output_type": "stream",
     "text": [
      "read  251  lines of data for ticker:  XLE\n",
      "On the 64th day, Bought 5.797773654916512 shares for $500.0\n",
      "On the 65th day, Bought 4 shares for $341.92\n",
      "On the 66th day, Bought 1 shares for $84.98\n",
      "On the 67th day, Bought 0 shares for $0.0\n",
      "On the 78th day, sold 10.797773654916512 shares for $866.6293135435993\n",
      "On the 106th day, Bought 6.380806533945891 shares for $500.0\n",
      "On the 116th day, Bought 5 shares for $404.54999999999995\n",
      "On the 117th day, Bought 0 shares for $0.0\n",
      "On the 131th day, Bought 0 shares for $0.0\n",
      "On the 132th day, Bought 0 shares for $0.0\n",
      "On the 133th day, Bought 0 shares for $0.0\n",
      "On the 134th day, Bought 0 shares for $0.0\n",
      "On the 168th day, sold 11.38080653394589 shares for $1048.286089841756\n"
     ]
    },
    {
     "name": "stderr",
     "output_type": "stream",
     "text": [
      "[*********************100%***********************]  1 of 1 completed"
     ]
    },
    {
     "name": "stdout",
     "output_type": "stream",
     "text": [
      "On the 220th day, Bought 5.911563017261764 shares for $499.99999999999994\n",
      "On the 221th day, Bought 5.8809691837214775 shares for $500.0\n",
      "On the 222th day, Bought 0 shares for $0.0\n",
      "On the 223th day, Bought 1 shares for $83.15\n",
      "XLE Final Value: 1082.6915529105474, Final Money: 0.3154033853553244, Final Shares: 12.792532200983242\n",
      "read  2775  lines of data for ticker:  XLE\n"
     ]
    },
    {
     "name": "stderr",
     "output_type": "stream",
     "text": [
      "\n",
      "[*********************100%***********************]  1 of 1 completed\n"
     ]
    },
    {
     "name": "stdout",
     "output_type": "stream",
     "text": [
      "read  251  lines of data for ticker:  XLE\n",
      "On the 60th day, Bought 5.742506029631332 shares for $500.0\n",
      "On the 65th day, Bought 4 shares for $341.92\n",
      "On the 74th day, sold 9.742506029631333 shares for $769.5605512805789\n"
     ]
    },
    {
     "name": "stderr",
     "output_type": "stream",
     "text": [
      "[*********************100%***********************]  1 of 1 completed"
     ]
    },
    {
     "name": "stdout",
     "output_type": "stream",
     "text": [
      "On the 211th day, Bought 6.027727546714888 shares for $500.0\n",
      "On the 214th day, Bought 4 shares for $338.48\n",
      "On the 215th day, Bought 1 shares for $84.58\n",
      "On the 219th day, Bought 0 shares for $0.0\n",
      "On the 220th day, Bought 0 shares for $0.0\n",
      "On the 221th day, Bought 0 shares for $0.0\n",
      "On the 231th day, sold 11.027727546714889 shares for $929.6374321880651\n",
      "XLE Final Value: 934.2179834686439, Final Money: 934.2179834686439, Final Shares: 0.0\n",
      "read  2775  lines of data for ticker:  XLE\n"
     ]
    },
    {
     "name": "stderr",
     "output_type": "stream",
     "text": [
      "\n",
      "[*********************100%***********************]  1 of 1 completed\n"
     ]
    },
    {
     "name": "stdout",
     "output_type": "stream",
     "text": [
      "read  251  lines of data for ticker:  XLE\n",
      "On the 64th day, Bought 5.797773654916512 shares for $500.0\n",
      "On the 65th day, Bought 4 shares for $341.92\n",
      "On the 95th day, sold 9.797773654916512 shares for $782.8421150278293\n",
      "On the 131th day, Bought 5.804504295333179 shares for $500.00000000000006\n",
      "On the 132th day, Bought 4 shares for $342.36\n",
      "On the 160th day, Bought 1 shares for $91.26\n",
      "On the 167th day, sold 10.804504295333178 shares for $994.1224402136057\n",
      "On the 216th day, Bought 5.887201224537854 shares for $500.0\n",
      "On the 217th day, Bought 5.908070424199456 shares for $499.99999999999994\n",
      "On the 218th day, Bought 0 shares for $0.0\n",
      "On the 219th day, Bought 0 shares for $0.0\n",
      "On the 227th day, sold 11.79527164873731 shares for $971.1047148405428\n",
      "XLE Final Value: 972.5292700819778, Final Money: 972.5292700819778, Final Shares: 0.0\n"
     ]
    },
    {
     "name": "stderr",
     "output_type": "stream",
     "text": [
      "[*********************100%***********************]  1 of 1 completed\n"
     ]
    },
    {
     "name": "stdout",
     "output_type": "stream",
     "text": [
      "read  2775  lines of data for ticker:  XLF\n"
     ]
    },
    {
     "name": "stderr",
     "output_type": "stream",
     "text": [
      "[*********************100%***********************]  1 of 1 completed\n"
     ]
    },
    {
     "name": "stdout",
     "output_type": "stream",
     "text": [
      "read  251  lines of data for ticker:  XLF\n",
      "On the 31th day, Bought 14.112334180073384 shares for $500.0\n",
      "On the 37th day, sold 14.112334180073384 shares for $464.7191645498165\n",
      "On the 112th day, Bought 15.220700152207002 shares for $500.0\n",
      "On the 113th day, Bought 13 shares for $434.46000000000004\n",
      "On the 114th day, Bought 0 shares for $0.0\n",
      "On the 115th day, Bought 0 shares for $0.0\n",
      "On the 116th day, Bought 0 shares for $0.0\n",
      "On the 129th day, Bought 0 shares for $0.0\n",
      "On the 131th day, Bought 0 shares for $0.0\n",
      "On the 132th day, Bought 0 shares for $0.0\n",
      "On the 141th day, sold 28.220700152207 shares for $982.6447792998478\n"
     ]
    },
    {
     "name": "stderr",
     "output_type": "stream",
     "text": [
      "[*********************100%***********************]  1 of 1 completed"
     ]
    },
    {
     "name": "stdout",
     "output_type": "stream",
     "text": [
      "On the 206th day, Bought 14.912019087384431 shares for $500.0\n",
      "On the 207th day, Bought 14.744913005013272 shares for $500.0\n",
      "On the 208th day, Bought 0 shares for $0.0\n",
      "On the 209th day, Bought 0 shares for $0.0\n",
      "On the 210th day, Bought 0 shares for $0.0\n",
      "On the 211th day, Bought 0 shares for $0.0\n",
      "On the 212th day, Bought 0 shares for $0.0\n",
      "On the 213th day, Bought 0 shares for $0.0\n",
      "On the 214th day, Bought 0 shares for $0.0\n",
      "On the 215th day, Bought 0 shares for $0.0\n",
      "On the 216th day, Bought 0 shares for $0.0\n",
      "On the 217th day, Bought 0 shares for $0.0\n",
      "On the 218th day, Bought 0 shares for $0.0\n",
      "On the 219th day, Bought 0 shares for $0.0\n",
      "On the 220th day, Bought 0 shares for $0.0\n",
      "XLF Final Value: 1127.708021202894, Final Money: 12.903943849664188, Final Shares: 29.656932092397703\n",
      "read  2775  lines of data for ticker:  XLF\n"
     ]
    },
    {
     "name": "stderr",
     "output_type": "stream",
     "text": [
      "\n",
      "[*********************100%***********************]  1 of 1 completed\n"
     ]
    },
    {
     "name": "stdout",
     "output_type": "stream",
     "text": [
      "read  251  lines of data for ticker:  XLF\n",
      "On the 103th day, Bought 15.055706112616681 shares for $500.0\n",
      "On the 146th day, sold 15.055706112616681 shares for $514.3029208069858\n",
      "On the 158th day, Bought 14.413375612568464 shares for $500.0\n",
      "On the 166th day, Bought 14.281633818908883 shares for $499.99999999999994\n",
      "On the 167th day, Bought 0 shares for $0.0\n",
      "On the 177th day, sold 28.695009431477345 shares for $951.8134628421036\n"
     ]
    },
    {
     "name": "stderr",
     "output_type": "stream",
     "text": [
      "[*********************100%***********************]  1 of 1 completed"
     ]
    },
    {
     "name": "stdout",
     "output_type": "stream",
     "text": [
      "On the 217th day, Bought 14.180374361883155 shares for $500.0\n",
      "On the 218th day, Bought 13 shares for $458.25\n",
      "On the 219th day, Bought 0 shares for $0.0\n",
      "On the 220th day, Bought 0 shares for $0.0\n",
      "On the 235th day, sold 27.180374361883153 shares for $1012.7407487237663\n",
      "XLF Final Value: 1020.6071323728556, Final Money: 1020.6071323728556, Final Shares: 0.0\n",
      "read  2775  lines of data for ticker:  XLF\n"
     ]
    },
    {
     "name": "stderr",
     "output_type": "stream",
     "text": [
      "\n",
      "[*********************100%***********************]  1 of 1 completed\n"
     ]
    },
    {
     "name": "stdout",
     "output_type": "stream",
     "text": [
      "read  251  lines of data for ticker:  XLF\n",
      "On the 83th day, Bought 15.693659761456372 shares for $500.0\n",
      "On the 116th day, sold 15.693659761456372 shares for $530.916509730069\n",
      "On the 120th day, Bought 14.645577035735208 shares for $500.0\n",
      "On the 146th day, sold 14.645577035735208 shares for $500.29291154071467\n"
     ]
    },
    {
     "name": "stderr",
     "output_type": "stream",
     "text": [
      "[*********************100%***********************]  1 of 1 completed"
     ]
    },
    {
     "name": "stdout",
     "output_type": "stream",
     "text": [
      "XLF Final Value: 1031.2094212707837, Final Money: 1031.2094212707837, Final Shares: 0.0\n",
      "read  2775  lines of data for ticker:  XLF\n"
     ]
    },
    {
     "name": "stderr",
     "output_type": "stream",
     "text": [
      "\n",
      "[*********************100%***********************]  1 of 1 completed\n"
     ]
    },
    {
     "name": "stdout",
     "output_type": "stream",
     "text": [
      "read  251  lines of data for ticker:  XLF\n",
      "On the 110th day, Bought 15.304560759106213 shares for $500.0\n",
      "On the 133th day, sold 15.304560759106213 shares for $538.7205387205387\n",
      "On the 149th day, Bought 14.731879787860931 shares for $500.0\n",
      "On the 150th day, Bought 14.872099940511601 shares for $500.0\n",
      "On the 153th day, Bought 1 shares for $33.99\n",
      "On the 177th day, sold 30.603979728372533 shares for $1015.134007590117\n",
      "On the 214th day, Bought 14.232849416453172 shares for $500.0\n",
      "On the 215th day, Bought 14.17635384179189 shares for $500.0\n",
      "On the 216th day, Bought 0 shares for $0.0\n",
      "On the 217th day, Bought 0 shares for $0.0\n",
      "On the 218th day, Bought 0 shares for $0.0\n",
      "On the 235th day, sold 28.409203258245064 shares for $1058.526913402211\n",
      "XLF Final Value: 1078.3914597128664, Final Money: 1078.3914597128664, Final Shares: 0.0\n"
     ]
    },
    {
     "name": "stderr",
     "output_type": "stream",
     "text": [
      "[*********************100%***********************]  1 of 1 completed\n"
     ]
    },
    {
     "name": "stdout",
     "output_type": "stream",
     "text": [
      "read  2775  lines of data for ticker:  XLI\n"
     ]
    },
    {
     "name": "stderr",
     "output_type": "stream",
     "text": [
      "[*********************100%***********************]  1 of 1 completed\n"
     ]
    },
    {
     "name": "stdout",
     "output_type": "stream",
     "text": [
      "read  251  lines of data for ticker:  XLI\n",
      "On the 30th day, Bought 4.932425766992207 shares for $500.00000000000006\n",
      "On the 31th day, Bought 3 shares for $307.68\n",
      "On the 32th day, Bought 1 shares for $103.67\n",
      "On the 33th day, Bought 0 shares for $0.0\n",
      "On the 34th day, Bought 0 shares for $0.0\n",
      "On the 35th day, Bought 0 shares for $0.0\n",
      "On the 36th day, Bought 0 shares for $0.0\n",
      "On the 37th day, Bought 0 shares for $0.0\n",
      "On the 63th day, Bought 0 shares for $0.0\n",
      "On the 68th day, Bought 0 shares for $0.0\n",
      "On the 69th day, Bought 0 shares for $0.0\n",
      "On the 100th day, sold 8.932425766992207 shares for $914.680398540002\n",
      "On the 104th day, Bought 4.7339519030486645 shares for $499.99999999999994\n",
      "On the 114th day, Bought 4.658963846440552 shares for $500.00000000000006\n",
      "On the 115th day, Bought 0 shares for $0.0\n",
      "On the 116th day, Bought 0 shares for $0.0\n",
      "On the 117th day, Bought 0 shares for $0.0\n",
      "On the 118th day, Bought 0 shares for $0.0\n",
      "On the 119th day, Bought 0 shares for $0.0\n",
      "On the 127th day, Bought 0 shares for $0.0\n",
      "On the 128th day, Bought 0 shares for $0.0\n",
      "On the 129th day, Bought 0 shares for $0.0\n",
      "On the 130th day, Bought 0 shares for $0.0\n",
      "On the 131th day, Bought 0 shares for $0.0\n",
      "On the 132th day, Bought 0 shares for $0.0\n",
      "On the 169th day, Bought 0 shares for $0.0\n",
      "On the 170th day, Bought 0 shares for $0.0\n",
      "On the 180th day, sold 9.392915749489216 shares for $939.3855041064165\n"
     ]
    },
    {
     "name": "stderr",
     "output_type": "stream",
     "text": [
      "[*********************100%***********************]  1 of 1 completed"
     ]
    },
    {
     "name": "stdout",
     "output_type": "stream",
     "text": [
      "On the 209th day, Bought 4.775549188156638 shares for $500.0\n",
      "On the 215th day, Bought 3 shares for $318.24\n",
      "On the 216th day, Bought 1 shares for $106.34\n",
      "On the 217th day, Bought 0 shares for $0.0\n",
      "On the 218th day, Bought 0 shares for $0.0\n",
      "On the 219th day, Bought 0 shares for $0.0\n",
      "On the 220th day, Bought 0 shares for $0.0\n",
      "On the 221th day, Bought 0 shares for $0.0\n",
      "XLI Final Value: 994.8545272882523, Final Money: 18.135902646418486, Final Shares: 8.775549188156639\n",
      "read  2775  lines of data for ticker:  XLI\n"
     ]
    },
    {
     "name": "stderr",
     "output_type": "stream",
     "text": [
      "\n",
      "[*********************100%***********************]  1 of 1 completed\n"
     ]
    },
    {
     "name": "stdout",
     "output_type": "stream",
     "text": [
      "read  251  lines of data for ticker:  XLI\n",
      "On the 54th day, Bought 5.045917852457362 shares for $500.0\n",
      "On the 96th day, sold 5.045917852457362 shares for $505.80280553032594\n",
      "On the 131th day, Bought 4.527755139002083 shares for $500.0\n",
      "On the 157th day, sold 4.527755139002083 shares for $490.03893869419545\n",
      "On the 166th day, Bought 4.734400151500805 shares for $500.0\n",
      "On the 167th day, Bought 3 shares for $315.0\n",
      "On the 174th day, Bought 1 shares for $100.74\n",
      "On the 182th day, Bought 0 shares for $0.0\n",
      "On the 184th day, sold 8.734400151500804 shares for $899.4685276015529\n",
      "On the 209th day, Bought 4.775549188156638 shares for $500.0\n"
     ]
    },
    {
     "name": "stderr",
     "output_type": "stream",
     "text": [
      "[*********************100%***********************]  1 of 1 completed"
     ]
    },
    {
     "name": "stdout",
     "output_type": "stream",
     "text": [
      "On the 217th day, Bought 3 shares for $317.21999999999997\n",
      "On the 218th day, Bought 1 shares for $105.49\n",
      "On the 220th day, Bought 0 shares for $0.0\n",
      "On the 235th day, sold 8.775549188156639 shares for $988.039083094556\n",
      "XLI Final Value: 1044.8993549206302, Final Money: 1044.8993549206302, Final Shares: 0.0\n",
      "read  2775  lines of data for ticker:  XLI\n"
     ]
    },
    {
     "name": "stderr",
     "output_type": "stream",
     "text": [
      "\n",
      "[*********************100%***********************]  1 of 1 completed\n"
     ]
    },
    {
     "name": "stdout",
     "output_type": "stream",
     "text": [
      "read  251  lines of data for ticker:  XLI\n",
      "On the 62th day, Bought 4.969191015702643 shares for $499.99999999999994\n",
      "On the 64th day, Bought 4.949514947535142 shares for $500.0\n",
      "On the 67th day, Bought 0 shares for $0.0\n",
      "On the 68th day, Bought 0 shares for $0.0\n",
      "On the 99th day, sold 9.918705963237784 shares for $1018.3535412456233\n",
      "On the 120th day, Bought 4.587997797761057 shares for $500.0\n",
      "On the 126th day, Bought 4.562876437306078 shares for $500.0\n",
      "On the 127th day, Bought 0 shares for $0.0\n",
      "On the 148th day, sold 9.150874235067135 shares for $972.1888787335324\n"
     ]
    },
    {
     "name": "stderr",
     "output_type": "stream",
     "text": [
      "[*********************100%***********************]  1 of 1 completed"
     ]
    },
    {
     "name": "stdout",
     "output_type": "stream",
     "text": [
      "On the 208th day, Bought 4.871395167575994 shares for $500.0\n",
      "On the 209th day, Bought 3 shares for $314.1\n",
      "On the 216th day, Bought 1 shares for $106.34\n",
      "On the 217th day, Bought 0 shares for $0.0\n",
      "On the 218th day, Bought 0 shares for $0.0\n",
      "On the 219th day, Bought 0 shares for $0.0\n",
      "On the 220th day, Bought 0 shares for $0.0\n",
      "XLI Final Value: 1057.488702130364, Final Money: 70.10241997915571, Final Shares: 8.871395167575994\n",
      "read  2775  lines of data for ticker:  XLI\n"
     ]
    },
    {
     "name": "stderr",
     "output_type": "stream",
     "text": [
      "\n",
      "[*********************100%***********************]  1 of 1 completed\n"
     ]
    },
    {
     "name": "stdout",
     "output_type": "stream",
     "text": [
      "read  251  lines of data for ticker:  XLI\n",
      "On the 131th day, Bought 4.527755139002083 shares for $500.0\n",
      "On the 146th day, Bought 3 shares for $320.82\n",
      "On the 147th day, Bought 1 shares for $106.04\n",
      "On the 153th day, Bought 0 shares for $0.0\n",
      "On the 165th day, Bought 0 shares for $0.0\n",
      "On the 166th day, Bought 0 shares for $0.0\n",
      "On the 167th day, Bought 0 shares for $0.0\n",
      "On the 170th day, Bought 0 shares for $0.0\n",
      "On the 171th day, Bought 0 shares for $0.0\n",
      "On the 172th day, Bought 0 shares for $0.0\n",
      "On the 173th day, Bought 0 shares for $0.0\n",
      "On the 174th day, Bought 0 shares for $0.0\n",
      "On the 175th day, Bought 0 shares for $0.0\n",
      "On the 184th day, sold 8.527755139002082 shares for $878.1882242144344\n",
      "On the 220th day, Bought 4.670714619336759 shares for $500.00000000000006\n",
      "On the 221th day, Bought 3 shares for $326.21999999999997\n",
      "On the 229th day, Bought 1 shares for $111.73\n",
      "On the 230th day, Bought 0 shares for $0.0\n",
      "On the 235th day, sold 8.67071461933676 shares for $976.2357589911259\n",
      "XLI Final Value: 989.6139832055602, Final Money: 989.6139832055602, Final Shares: 0.0\n"
     ]
    },
    {
     "name": "stderr",
     "output_type": "stream",
     "text": [
      "[*********************100%***********************]  1 of 1 completed\n"
     ]
    },
    {
     "name": "stdout",
     "output_type": "stream",
     "text": [
      "read  2775  lines of data for ticker:  XLK\n"
     ]
    },
    {
     "name": "stderr",
     "output_type": "stream",
     "text": [
      "[*********************100%***********************]  1 of 1 completed\n"
     ]
    },
    {
     "name": "stdout",
     "output_type": "stream",
     "text": [
      "read  251  lines of data for ticker:  XLK\n",
      "On the 31th day, Bought 3.644580508783439 shares for $499.99999999999994\n",
      "On the 32th day, Bought 3.567860710717854 shares for $500.0\n",
      "On the 33th day, Bought 0 shares for $0.0\n",
      "On the 34th day, Bought 0 shares for $0.0\n",
      "On the 60th day, Bought 0 shares for $0.0\n",
      "On the 64th day, Bought 0 shares for $0.0\n",
      "On the 65th day, Bought 0 shares for $0.0\n",
      "On the 66th day, Bought 0 shares for $0.0\n",
      "On the 67th day, Bought 0 shares for $0.0\n",
      "On the 68th day, Bought 0 shares for $0.0\n",
      "On the 69th day, Bought 0 shares for $0.0\n",
      "On the 70th day, Bought 0 shares for $0.0\n",
      "On the 84th day, Bought 0 shares for $0.0\n",
      "On the 85th day, Bought 0 shares for $0.0\n",
      "On the 86th day, Bought 0 shares for $0.0\n",
      "On the 87th day, Bought 0 shares for $0.0\n",
      "On the 88th day, Bought 0 shares for $0.0\n",
      "On the 89th day, Bought 0 shares for $0.0\n",
      "On the 90th day, Bought 0 shares for $0.0\n",
      "On the 94th day, sold 7.212441219501293 shares for $1196.9046203762396\n",
      "On the 122th day, Bought 2.8368794326241136 shares for $500.0\n",
      "On the 123th day, Bought 2.841070515370191 shares for $499.99999999999994\n",
      "On the 124th day, Bought 1 shares for $178.24\n",
      "On the 125th day, Bought 0 shares for $0.0\n",
      "On the 127th day, Bought 0 shares for $0.0\n",
      "On the 153th day, sold 6.677949947994305 shares for $1126.6369357261192\n",
      "On the 163th day, Bought 2.8786919223904657 shares for $500.0\n",
      "On the 183th day, sold 2.8786919223904657 shares for $486.75801715700385\n"
     ]
    },
    {
     "name": "stderr",
     "output_type": "stream",
     "text": [
      "[*********************100%***********************]  1 of 1 completed"
     ]
    },
    {
     "name": "stdout",
     "output_type": "stream",
     "text": [
      "On the 206th day, Bought 2.857959416976279 shares for $500.0\n",
      "On the 207th day, Bought 2.785204991087344 shares for $500.0\n",
      "On the 208th day, Bought 0 shares for $0.0\n",
      "On the 209th day, Bought 0 shares for $0.0\n",
      "On the 210th day, Bought 0 shares for $0.0\n",
      "On the 211th day, Bought 0 shares for $0.0\n",
      "On the 212th day, Bought 0 shares for $0.0\n",
      "On the 213th day, Bought 0 shares for $0.0\n",
      "On the 214th day, Bought 0 shares for $0.0\n",
      "On the 215th day, Bought 0 shares for $0.0\n",
      "On the 216th day, Bought 0 shares for $0.0\n",
      "On the 217th day, Bought 0 shares for $0.0\n",
      "On the 218th day, Bought 0 shares for $0.0\n",
      "On the 219th day, Bought 0 shares for $0.0\n",
      "On the 220th day, Bought 0 shares for $0.0\n",
      "On the 221th day, Bought 0 shares for $0.0\n",
      "On the 222th day, Bought 0 shares for $0.0\n",
      "On the 223th day, Bought 0 shares for $0.0\n",
      "On the 224th day, Bought 0 shares for $0.0\n",
      "On the 230th day, Bought 0 shares for $0.0\n",
      "On the 231th day, Bought 0 shares for $0.0\n",
      "On the 241th day, Bought 0 shares for $0.0\n",
      "On the 242th day, Bought 0 shares for $0.0\n",
      "XLK Final Value: 1171.36116229244, Final Money: 132.05957325936265, Final Shares: 5.6431644080636225\n",
      "read  2775  lines of data for ticker:  XLK\n"
     ]
    },
    {
     "name": "stderr",
     "output_type": "stream",
     "text": [
      "\n",
      "[*********************100%***********************]  1 of 1 completed\n"
     ]
    },
    {
     "name": "stdout",
     "output_type": "stream",
     "text": [
      "read  251  lines of data for ticker:  XLK\n",
      "On the 30th day, Bought 3.6894923258559618 shares for $500.0\n",
      "On the 31th day, Bought 3.644580508783439 shares for $499.99999999999994\n",
      "On the 32th day, Bought 0 shares for $0.0\n",
      "On the 33th day, Bought 0 shares for $0.0\n",
      "On the 34th day, Bought 0 shares for $0.0\n",
      "On the 35th day, Bought 0 shares for $0.0\n",
      "On the 73th day, sold 7.3340728346394 shares for $1096.5172295069367\n",
      "On the 115th day, Bought 2.8820104905181854 shares for $500.0\n",
      "On the 120th day, Bought 2.9064698017787594 shares for $500.0\n",
      "On the 122th day, Bought 0 shares for $0.0\n",
      "On the 152th day, sold 5.788480292296945 shares for $966.7340936165127\n",
      "On the 162th day, Bought 2.8936859771977548 shares for $500.0\n",
      "On the 163th day, Bought 2.8786919223904657 shares for $500.0\n",
      "On the 174th day, sold 5.7723778995882205 shares for $934.952048396304\n"
     ]
    },
    {
     "name": "stderr",
     "output_type": "stream",
     "text": [
      "[*********************100%***********************]  1 of 1 completed"
     ]
    },
    {
     "name": "stdout",
     "output_type": "stream",
     "text": [
      "On the 204th day, Bought 2.8607392150131594 shares for $500.0\n",
      "On the 205th day, Bought 1 shares for $175.77\n",
      "On the 206th day, Bought 1 shares for $174.95\n",
      "On the 207th day, Bought 0 shares for $0.0\n",
      "On the 208th day, Bought 0 shares for $0.0\n",
      "On the 211th day, Bought 0 shares for $0.0\n",
      "On the 216th day, Bought 0 shares for $0.0\n",
      "On the 223th day, Bought 0 shares for $0.0\n",
      "On the 227th day, sold 4.86073921501316 shares for $915.2285867948278\n",
      "XLK Final Value: 1062.7119583145811, Final Money: 1062.7119583145811, Final Shares: 0.0\n",
      "read  2775  lines of data for ticker:  XLK\n"
     ]
    },
    {
     "name": "stderr",
     "output_type": "stream",
     "text": [
      "\n",
      "[*********************100%***********************]  1 of 1 completed\n"
     ]
    },
    {
     "name": "stdout",
     "output_type": "stream",
     "text": [
      "read  251  lines of data for ticker:  XLK\n",
      "On the 62th day, Bought 3.351431061063074 shares for $500.0\n",
      "On the 63th day, Bought 3.3411293017039756 shares for $499.99999999999994\n",
      "On the 64th day, Bought 0 shares for $0.0\n",
      "On the 67th day, Bought 0 shares for $0.0\n",
      "On the 88th day, sold 6.69256036276705 shares for $1040.3585083921378\n",
      "On the 120th day, Bought 2.9064698017787594 shares for $500.0\n",
      "On the 122th day, Bought 2.8368794326241136 shares for $500.0\n",
      "On the 134th day, Bought 0 shares for $0.0\n",
      "On the 135th day, Bought 0 shares for $0.0\n",
      "On the 141th day, sold 5.7433492344028725 shares for $965.571873287811\n",
      "On the 190th day, Bought 2.981159074648223 shares for $499.99999999999994\n",
      "On the 202th day, sold 2.981159074648223 shares for $512.0438826615788\n"
     ]
    },
    {
     "name": "stderr",
     "output_type": "stream",
     "text": [
      "[*********************100%***********************]  1 of 1 completed"
     ]
    },
    {
     "name": "stdout",
     "output_type": "stream",
     "text": [
      "On the 216th day, Bought 2.711349709885581 shares for $500.0\n",
      "On the 220th day, Bought 2.7003672499459928 shares for $500.0\n",
      "On the 221th day, Bought 0 shares for $0.0\n",
      "On the 223th day, Bought 0 shares for $0.0\n",
      "On the 236th day, Bought 0 shares for $0.0\n",
      "On the 237th day, Bought 0 shares for $0.0\n",
      "On the 238th day, Bought 0 shares for $0.0\n",
      "On the 239th day, Bought 0 shares for $0.0\n",
      "XLK Final Value: 1014.6501768337084, Final Money: 17.974264341527487, Final Shares: 5.411716959831574\n",
      "read  2775  lines of data for ticker:  XLK\n"
     ]
    },
    {
     "name": "stderr",
     "output_type": "stream",
     "text": [
      "\n",
      "[*********************100%***********************]  1 of 1 completed\n"
     ]
    },
    {
     "name": "stdout",
     "output_type": "stream",
     "text": [
      "read  251  lines of data for ticker:  XLK\n",
      "On the 62th day, Bought 3.351431061063074 shares for $500.0\n",
      "On the 90th day, sold 3.351431061063074 shares for $536.9997989141364\n",
      "On the 120th day, Bought 2.9064698017787594 shares for $500.0\n",
      "On the 122th day, Bought 2.8368794326241136 shares for $500.0\n",
      "On the 127th day, sold 5.7433492344028725 shares for $1012.0930020864741\n",
      "On the 135th day, Bought 2.7987685418415897 shares for $500.0\n",
      "On the 153th day, sold 2.7987685418415897 shares for $472.1802406940946\n",
      "On the 161th day, Bought 2.8997274256219914 shares for $500.0\n",
      "On the 171th day, sold 2.8997274256219914 shares for $475.7292814475439\n",
      "On the 185th day, Bought 2.9253451907325068 shares for $500.0\n",
      "On the 191th day, sold 2.9253451907325068 shares for $487.8305640065528\n",
      "On the 223th day, Bought 2.711202689513068 shares for $500.0\n",
      "On the 227th day, sold 2.711202689513068 shares for $510.49235440841557\n",
      "On the 228th day, Bought 2.637965600928564 shares for $500.0\n",
      "On the 229th day, sold 2.637965600928564 shares for $504.40540255355074\n",
      "XLK Final Value: 999.7306441107681, Final Money: 999.7306441107681, Final Shares: 0.0\n"
     ]
    },
    {
     "name": "stderr",
     "output_type": "stream",
     "text": [
      "[*********************100%***********************]  1 of 1 completed\n"
     ]
    },
    {
     "name": "stdout",
     "output_type": "stream",
     "text": [
      "read  2775  lines of data for ticker:  XLP\n"
     ]
    },
    {
     "name": "stderr",
     "output_type": "stream",
     "text": [
      "[*********************100%***********************]  1 of 1 completed\n"
     ]
    },
    {
     "name": "stdout",
     "output_type": "stream",
     "text": [
      "read  251  lines of data for ticker:  XLP\n",
      "On the 30th day, Bought 6.993006993006993 shares for $500.0\n",
      "On the 64th day, Bought 6.592827004219409 shares for $499.99999999999994\n",
      "On the 65th day, Bought 0 shares for $0.0\n",
      "On the 86th day, sold 13.585833997226402 shares for $1031.4365170694284\n",
      "On the 126th day, Bought 6.690753378830456 shares for $500.0\n",
      "On the 127th day, Bought 6.6339392331166245 shares for $500.0\n",
      "On the 131th day, Bought 0 shares for $0.0\n",
      "On the 137th day, sold 13.32469261194708 shares for $1004.68182294081\n",
      "On the 157th day, Bought 6.871907641561297 shares for $500.0\n",
      "On the 158th day, Bought 6.930967563071805 shares for $500.0\n",
      "On the 163th day, Bought 0 shares for $0.0\n",
      "On the 166th day, Bought 0 shares for $0.0\n",
      "On the 167th day, Bought 0 shares for $0.0\n",
      "On the 173th day, sold 13.802875204633102 shares for $964.6829480518074\n",
      "On the 209th day, Bought 7.154099298898268 shares for $500.0\n"
     ]
    },
    {
     "name": "stderr",
     "output_type": "stream",
     "text": [
      "[*********************100%***********************]  1 of 1 completed"
     ]
    },
    {
     "name": "stdout",
     "output_type": "stream",
     "text": [
      "On the 217th day, Bought 7.121492664862556 shares for $500.0\n",
      "On the 218th day, Bought 0 shares for $0.0\n",
      "On the 219th day, Bought 0 shares for $0.0\n",
      "On the 220th day, Bought 0 shares for $0.0\n",
      "On the 233th day, sold 14.275591963760824 shares for $1021.8468727659998\n",
      "XLP Final Value: 1022.6481608280457, Final Money: 1022.6481608280457, Final Shares: 0.0\n",
      "read  2775  lines of data for ticker:  XLP\n"
     ]
    },
    {
     "name": "stderr",
     "output_type": "stream",
     "text": [
      "\n",
      "[*********************100%***********************]  1 of 1 completed\n"
     ]
    },
    {
     "name": "stdout",
     "output_type": "stream",
     "text": [
      "read  251  lines of data for ticker:  XLP\n",
      "On the 87th day, Bought 6.687174000267487 shares for $500.0\n",
      "On the 97th day, sold 6.687174000267487 shares for $487.9630867995185\n",
      "On the 100th day, Bought 6.83900971139379 shares for $500.0\n",
      "On the 148th day, Bought 5 shares for $365.09999999999997\n",
      "On the 157th day, sold 11.839009711393789 shares for $861.4063466010122\n",
      "On the 178th day, Bought 7.316359379572725 shares for $500.0\n",
      "On the 179th day, Bought 6 shares for $407.09999999999997\n"
     ]
    },
    {
     "name": "stderr",
     "output_type": "stream",
     "text": [
      "[*********************100%***********************]  1 of 1 completed"
     ]
    },
    {
     "name": "stdout",
     "output_type": "stream",
     "text": [
      "On the 182th day, Bought 1 shares for $66.67\n",
      "On the 189th day, Bought 0 shares for $0.0\n",
      "On the 190th day, Bought 0 shares for $0.0\n",
      "On the 197th day, Bought 0 shares for $0.0\n",
      "On the 239th day, sold 14.316359379572724 shares for $1029.0599122036874\n",
      "On the 242th day, Bought 6.918500069185001 shares for $500.0\n",
      "XLP Final Value: 1038.8674955972997, Final Money: 539.5593456042182, Final Shares: 6.918500069185001\n"
     ]
    },
    {
     "name": "stderr",
     "output_type": "stream",
     "text": [
      "\n"
     ]
    },
    {
     "name": "stdout",
     "output_type": "stream",
     "text": [
      "read  2775  lines of data for ticker:  XLP\n"
     ]
    },
    {
     "name": "stderr",
     "output_type": "stream",
     "text": [
      "[*********************100%***********************]  1 of 1 completed\n"
     ]
    },
    {
     "name": "stdout",
     "output_type": "stream",
     "text": [
      "read  251  lines of data for ticker:  XLP\n",
      "On the 73th day, Bought 6.469142191745374 shares for $500.0\n",
      "On the 77th day, sold 6.469142191745374 shares for $497.80049165480654\n",
      "On the 92th day, Bought 6.888001102080176 shares for $500.0\n",
      "On the 93th day, Bought 5 shares for $363.35\n",
      "On the 127th day, Bought 1 shares for $75.37\n",
      "On the 130th day, sold 12.888001102080176 shares for $978.1992836478854\n",
      "On the 179th day, Bought 7.369196757553428 shares for $500.0\n",
      "On the 180th day, Bought 7.311010381634742 shares for $500.0\n",
      "On the 181th day, Bought 0 shares for $0.0\n",
      "On the 182th day, Bought 0 shares for $0.0\n",
      "On the 183th day, Bought 0 shares for $0.0\n",
      "On the 197th day, Bought 0 shares for $0.0\n",
      "On the 201th day, Bought 0 shares for $0.0\n",
      "On the 202th day, Bought 0 shares for $0.0\n"
     ]
    },
    {
     "name": "stderr",
     "output_type": "stream",
     "text": [
      "[*********************100%***********************]  1 of 1 completed"
     ]
    },
    {
     "name": "stdout",
     "output_type": "stream",
     "text": [
      "On the 216th day, sold 14.68020713918817 shares for $1033.633384670239\n",
      "XLP Final Value: 1070.913159972931, Final Money: 1070.913159972931, Final Shares: 0.0\n",
      "read  2775  lines of data for ticker:  XLP\n"
     ]
    },
    {
     "name": "stderr",
     "output_type": "stream",
     "text": [
      "\n",
      "[*********************100%***********************]  1 of 1 completed\n"
     ]
    },
    {
     "name": "stdout",
     "output_type": "stream",
     "text": [
      "read  251  lines of data for ticker:  XLP\n",
      "On the 30th day, Bought 6.993006993006993 shares for $500.0\n",
      "On the 79th day, Bought 5 shares for $382.95000000000005\n",
      "On the 96th day, sold 11.993006993006993 shares for $879.567132867133\n",
      "On the 126th day, Bought 6.690753378830456 shares for $500.0\n",
      "On the 127th day, Bought 5 shares for $376.85\n",
      "On the 154th day, sold 11.690753378830456 shares for $850.5023083099156\n",
      "On the 175th day, Bought 7.267441860465117 shares for $500.0\n",
      "On the 179th day, Bought 6 shares for $407.09999999999997\n",
      "On the 189th day, sold 13.267441860465116 shares for $899.2672093023256\n",
      "On the 234th day, Bought 7.123521869212139 shares for $500.0\n",
      "On the 240th day, Bought 5 shares for $360.15\n",
      "On the 241th day, Bought 1 shares for $72.84\n",
      "On the 242th day, Bought 0 shares for $0.0\n",
      "XLP Final Value: 976.5712237804141, Final Money: 29.446650479374085, Final Shares: 13.123521869212139\n"
     ]
    },
    {
     "name": "stderr",
     "output_type": "stream",
     "text": [
      "[*********************100%***********************]  1 of 1 completed\n"
     ]
    },
    {
     "name": "stdout",
     "output_type": "stream",
     "text": [
      "read  2775  lines of data for ticker:  XLV\n"
     ]
    },
    {
     "name": "stderr",
     "output_type": "stream",
     "text": [
      "[*********************100%***********************]  1 of 1 completed\n"
     ]
    },
    {
     "name": "stdout",
     "output_type": "stream",
     "text": [
      "read  251  lines of data for ticker:  XLV\n",
      "On the 30th day, Bought 3.9382482671707626 shares for $500.0\n",
      "On the 130th day, sold 3.9382482671707626 shares for $535.1291745431632\n",
      "On the 149th day, Bought 3.7405550983765994 shares for $500.0\n",
      "On the 150th day, Bought 3.753753753753754 shares for $500.0\n",
      "On the 151th day, Bought 0 shares for $0.0\n",
      "On the 177th day, sold 7.494308852130354 shares for $964.8173216232618\n",
      "On the 214th day, Bought 3.8517833757029503 shares for $500.0\n"
     ]
    },
    {
     "name": "stderr",
     "output_type": "stream",
     "text": [
      "[*********************100%***********************]  1 of 1 completed"
     ]
    },
    {
     "name": "stdout",
     "output_type": "stream",
     "text": [
      "On the 215th day, Bought 2 shares for $260.86\n",
      "On the 216th day, Bought 1 shares for $131.13\n",
      "On the 217th day, Bought 0 shares for $0.0\n",
      "On the 218th day, Bought 0 shares for $0.0\n",
      "On the 219th day, Bought 0 shares for $0.0\n",
      "On the 220th day, Bought 0 shares for $0.0\n",
      "On the 221th day, Bought 0 shares for $0.0\n",
      "On the 222th day, Bought 0 shares for $0.0\n",
      "On the 223th day, Bought 0 shares for $0.0\n",
      "XLV Final Value: 1061.9988133993038, Final Money: 107.95649616642493, Final Shares: 6.851783375702951\n",
      "read  2775  lines of data for ticker:  XLV\n"
     ]
    },
    {
     "name": "stderr",
     "output_type": "stream",
     "text": [
      "\n",
      "[*********************100%***********************]  1 of 1 completed\n"
     ]
    },
    {
     "name": "stdout",
     "output_type": "stream",
     "text": [
      "read  251  lines of data for ticker:  XLV\n",
      "On the 66th day, Bought 3.7230081906180192 shares for $500.0\n",
      "On the 72th day, Bought 3.7252272388615704 shares for $499.99999999999994\n",
      "On the 74th day, Bought 0 shares for $0.0\n",
      "On the 112th day, sold 7.44823542947959 shares for $972.2181706099709\n",
      "On the 115th day, Bought 3.7982376177453667 shares for $500.0\n",
      "On the 123th day, sold 3.7982376177453667 shares for $500.22789425706475\n"
     ]
    },
    {
     "name": "stderr",
     "output_type": "stream",
     "text": [
      "[*********************100%***********************]  1 of 1 completed"
     ]
    },
    {
     "name": "stdout",
     "output_type": "stream",
     "text": [
      "On the 225th day, Bought 3.79218809252939 shares for $500.0\n",
      "On the 226th day, Bought 2 shares for $264.14\n",
      "XLV Final Value: 1014.8103348708279, Final Money: 208.30606486703562, Final Shares: 5.79218809252939\n",
      "read  2775  lines of data for ticker:  XLV\n"
     ]
    },
    {
     "name": "stderr",
     "output_type": "stream",
     "text": [
      "\n",
      "[*********************100%***********************]  1 of 1 completed\n"
     ]
    },
    {
     "name": "stdout",
     "output_type": "stream",
     "text": [
      "read  251  lines of data for ticker:  XLV\n",
      "On the 30th day, Bought 3.9382482671707626 shares for $500.0\n",
      "On the 73th day, sold 3.9382482671707626 shares for $526.3074984247006\n",
      "On the 77th day, Bought 3.750937734433608 shares for $500.0\n",
      "On the 84th day, sold 3.750937734433608 shares for $491.44786196549137\n",
      "On the 153th day, Bought 3.7478449891312495 shares for $500.0\n",
      "On the 154th day, Bought 3.7391564463057136 shares for $500.0\n",
      "On the 164th day, Bought 0 shares for $0.0\n",
      "On the 166th day, Bought 0 shares for $0.0\n",
      "On the 168th day, Bought 0 shares for $0.0\n",
      "On the 178th day, sold 7.487001435436963 shares for $962.528904539776\n",
      "On the 215th day, Bought 3.8334738940427813 shares for $500.0\n",
      "On the 216th day, Bought 2 shares for $262.26\n",
      "On the 220th day, Bought 1 shares for $131.31\n",
      "On the 227th day, Bought 0 shares for $0.0\n",
      "On the 228th day, Bought 0 shares for $0.0\n",
      "On the 230th day, sold 6.833473894042781 shares for $924.6373526029287\n"
     ]
    },
    {
     "name": "stderr",
     "output_type": "stream",
     "text": [
      "[*********************100%***********************]  1 of 1 completed"
     ]
    },
    {
     "name": "stdout",
     "output_type": "stream",
     "text": [
      "XLV Final Value: 1011.3516175328966, Final Money: 1011.3516175328966, Final Shares: 0.0\n",
      "read  2775  lines of data for ticker:  XLV\n"
     ]
    },
    {
     "name": "stderr",
     "output_type": "stream",
     "text": [
      "\n",
      "[*********************100%***********************]  1 of 1 completed\n"
     ]
    },
    {
     "name": "stdout",
     "output_type": "stream",
     "text": [
      "read  251  lines of data for ticker:  XLV\n",
      "On the 165th day, Bought 3.7644932992019275 shares for $500.0\n",
      "On the 177th day, sold 3.7644932992019275 shares for $484.6408673392562\n",
      "On the 204th day, Bought 3.8955979742890534 shares for $500.0\n",
      "On the 211th day, Bought 2 shares for $257.02\n",
      "On the 212th day, Bought 1 shares for $128.25\n",
      "On the 216th day, Bought 0 shares for $0.0\n",
      "On the 241th day, sold 6.895597974289053 shares for $956.9710868718348\n",
      "XLV Final Value: 1056.341954211091, Final Money: 1056.341954211091, Final Shares: 0.0\n"
     ]
    },
    {
     "name": "stderr",
     "output_type": "stream",
     "text": [
      "[*********************100%***********************]  1 of 1 completed\n"
     ]
    },
    {
     "name": "stdout",
     "output_type": "stream",
     "text": [
      "read  2775  lines of data for ticker:  XLY\n"
     ]
    },
    {
     "name": "stderr",
     "output_type": "stream",
     "text": [
      "[*********************100%***********************]  1 of 1 completed\n"
     ]
    },
    {
     "name": "stdout",
     "output_type": "stream",
     "text": [
      "read  251  lines of data for ticker:  XLY\n",
      "On the 30th day, Bought 3.4792290028529678 shares for $500.0\n",
      "On the 64th day, Bought 2 shares for $296.08\n",
      "On the 79th day, Bought 1 shares for $148.4\n",
      "On the 95th day, sold 6.479229002852968 shares for $1017.238953447916\n",
      "On the 120th day, Bought 2.918685424084992 shares for $500.0\n",
      "On the 121th day, Bought 2.8926815157651142 shares for $500.0\n",
      "On the 123th day, Bought 0 shares for $0.0\n",
      "On the 125th day, Bought 0 shares for $0.0\n",
      "On the 126th day, Bought 0 shares for $0.0\n",
      "On the 139th day, sold 5.811366939850107 shares for $1007.168004345422\n",
      "On the 203th day, Bought 3.116818351826456 shares for $500.0\n",
      "On the 204th day, Bought 3.08242401824795 shares for $500.0\n"
     ]
    },
    {
     "name": "stderr",
     "output_type": "stream",
     "text": [
      "[*********************100%***********************]  1 of 1 completed"
     ]
    },
    {
     "name": "stdout",
     "output_type": "stream",
     "text": [
      "On the 205th day, Bought 0 shares for $0.0\n",
      "On the 206th day, Bought 0 shares for $0.0\n",
      "On the 217th day, Bought 0 shares for $0.0\n",
      "On the 218th day, Bought 0 shares for $0.0\n",
      "On the 219th day, Bought 0 shares for $0.0\n",
      "XLY Final Value: 1148.3663802756616, Final Money: 79.9269577933378, Final Shares: 6.199242370074406\n",
      "read  2775  lines of data for ticker:  XLY\n"
     ]
    },
    {
     "name": "stderr",
     "output_type": "stream",
     "text": [
      "\n",
      "[*********************100%***********************]  1 of 1 completed\n"
     ]
    },
    {
     "name": "stdout",
     "output_type": "stream",
     "text": [
      "read  251  lines of data for ticker:  XLY\n",
      "On the 99th day, Bought 3.1177901103697696 shares for $499.99999999999994\n",
      "On the 106th day, Bought 2.9888218064439 shares for $500.0\n",
      "On the 107th day, Bought 0 shares for $0.0\n",
      "On the 110th day, Bought 0 shares for $0.0\n",
      "On the 122th day, Bought 0 shares for $0.0\n",
      "On the 123th day, Bought 0 shares for $0.0\n",
      "On the 124th day, Bought 0 shares for $0.0\n",
      "On the 125th day, Bought 0 shares for $0.0\n",
      "On the 127th day, sold 6.106611916813669 shares for $1043.8642410601287\n"
     ]
    },
    {
     "name": "stderr",
     "output_type": "stream",
     "text": [
      "[*********************100%***********************]  1 of 1 completed"
     ]
    },
    {
     "name": "stdout",
     "output_type": "stream",
     "text": [
      "On the 185th day, Bought 3.0652280529671407 shares for $500.0\n",
      "On the 186th day, Bought 3.099045493987852 shares for $500.0\n",
      "On the 191th day, sold 6.164273546954993 shares for $949.7912681148254\n",
      "On the 204th day, Bought 3.08242401824795 shares for $500.0\n",
      "On the 205th day, Bought 2 shares for $323.56\n",
      "On the 206th day, Bought 1 shares for $158.76\n",
      "On the 216th day, Bought 0 shares for $0.0\n",
      "On the 217th day, Bought 0 shares for $0.0\n",
      "On the 233th day, Bought 0 shares for $0.0\n",
      "XLY Final Value: 1059.6412887199883, Final Money: 11.335509174954097, Final Shares: 6.08242401824795\n"
     ]
    },
    {
     "name": "stderr",
     "output_type": "stream",
     "text": [
      "\n"
     ]
    },
    {
     "name": "stdout",
     "output_type": "stream",
     "text": [
      "read  2775  lines of data for ticker:  XLY\n"
     ]
    },
    {
     "name": "stderr",
     "output_type": "stream",
     "text": [
      "[*********************100%***********************]  1 of 1 completed\n"
     ]
    },
    {
     "name": "stdout",
     "output_type": "stream",
     "text": [
      "read  251  lines of data for ticker:  XLY\n",
      "On the 30th day, Bought 3.4792290028529678 shares for $500.0\n",
      "On the 96th day, sold 3.4792290028529678 shares for $547.8741910792568\n",
      "On the 108th day, Bought 2.9870362626202285 shares for $500.0\n",
      "On the 134th day, Bought 2.877863474156786 shares for $500.0\n",
      "On the 148th day, sold 5.864899736777014 shares for $953.984591184149\n",
      "On the 162th day, Bought 2.962962962962963 shares for $500.0\n",
      "On the 172th day, sold 2.962962962962963 shares for $476.8296296296296\n"
     ]
    },
    {
     "name": "stderr",
     "output_type": "stream",
     "text": [
      "[*********************100%***********************]  1 of 1 completed"
     ]
    },
    {
     "name": "stdout",
     "output_type": "stream",
     "text": [
      "On the 222th day, Bought 2.933583665806149 shares for $500.0\n",
      "On the 223th day, Bought 1 shares for $170.74\n",
      "On the 224th day, Bought 1 shares for $170.99\n",
      "On the 225th day, Bought 0 shares for $0.0\n",
      "XLY Final Value: 987.2615566947252, Final Money: 136.95841189303553, Final Shares: 4.9335836658061485\n",
      "read  2775  lines of data for ticker:  XLY\n"
     ]
    },
    {
     "name": "stderr",
     "output_type": "stream",
     "text": [
      "\n",
      "[*********************100%***********************]  1 of 1 completed\n"
     ]
    },
    {
     "name": "stdout",
     "output_type": "stream",
     "text": [
      "read  251  lines of data for ticker:  XLY\n",
      "On the 30th day, Bought 3.4792290028529678 shares for $500.0\n",
      "On the 77th day, sold 3.4792290028529678 shares for $513.8473314313547\n",
      "On the 93th day, Bought 3.2979354923817685 shares for $500.0\n",
      "On the 96th day, sold 3.2979354923817685 shares for $519.3259019853571\n",
      "On the 126th day, Bought 2.825337627846528 shares for $500.00000000000006\n",
      "On the 127th day, Bought 2.925002925002925 shares for $500.0\n",
      "On the 139th day, sold 5.750340552849453 shares for $996.5915212143387\n",
      "On the 158th day, Bought 2.9468969175458244 shares for $500.0\n",
      "On the 160th day, Bought 2.9712384121701927 shares for $500.00000000000006\n",
      "On the 161th day, Bought 0 shares for $0.0\n",
      "On the 163th day, Bought 0 shares for $0.0\n",
      "On the 174th day, Bought 0 shares for $0.0\n",
      "On the 175th day, Bought 0 shares for $0.0\n",
      "On the 191th day, Bought 0 shares for $0.0\n",
      "On the 194th day, sold 5.9181353297160175 shares for $908.3745917581116\n",
      "On the 200th day, Bought 3.2471749577867257 shares for $500.0\n",
      "On the 201th day, Bought 2 shares for $316.0\n",
      "On the 221th day, Bought 0 shares for $0.0\n",
      "On the 222th day, Bought 0 shares for $0.0\n",
      "On the 227th day, Bought 0 shares for $0.0\n",
      "On the 237th day, sold 5.247174957786726 shares for $945.7508143914795\n",
      "XLY Final Value: 1067.8901607806415, Final Money: 1067.8901607806415, Final Shares: 0.0\n"
     ]
    },
    {
     "name": "stderr",
     "output_type": "stream",
     "text": [
      "[*********************100%***********************]  1 of 1 completed\n"
     ]
    },
    {
     "name": "stdout",
     "output_type": "stream",
     "text": [
      "read  2775  lines of data for ticker:  XLU\n"
     ]
    },
    {
     "name": "stderr",
     "output_type": "stream",
     "text": [
      "[*********************100%***********************]  1 of 1 completed\n"
     ]
    },
    {
     "name": "stdout",
     "output_type": "stream",
     "text": [
      "read  251  lines of data for ticker:  XLU\n",
      "On the 35th day, Bought 7.578053955744164 shares for $500.0\n",
      "On the 84th day, sold 7.578053955744164 shares for $503.25856320096995\n",
      "On the 104th day, Bought 7.469375560203167 shares for $499.99999999999994\n",
      "On the 138th day, sold 7.469375560203167 shares for $477.96534209740065\n",
      "On the 150th day, Bought 7.902639481586849 shares for $500.0\n",
      "On the 175th day, sold 7.902639481586849 shares for $475.18571202781726\n"
     ]
    },
    {
     "name": "stderr",
     "output_type": "stream",
     "text": [
      "[*********************100%***********************]  1 of 1 completed"
     ]
    },
    {
     "name": "stdout",
     "output_type": "stream",
     "text": [
      "On the 206th day, Bought 8.333333333333334 shares for $500.00000000000006\n",
      "On the 207th day, Bought 7 shares for $422.24\n",
      "On the 208th day, Bought 0 shares for $0.0\n",
      "On the 209th day, Bought 0 shares for $0.0\n",
      "On the 215th day, Bought 0 shares for $0.0\n",
      "On the 216th day, Bought 0 shares for $0.0\n",
      "On the 217th day, Bought 0 shares for $0.0\n",
      "On the 218th day, Bought 0 shares for $0.0\n",
      "On the 219th day, Bought 0 shares for $0.0\n",
      "On the 220th day, Bought 0 shares for $0.0\n",
      "On the 221th day, Bought 0 shares for $0.0\n",
      "On the 234th day, sold 15.333333333333334 shares for $955.2666666666667\n",
      "XLU Final Value: 989.4362839928547, Final Money: 989.4362839928547, Final Shares: 0.0\n",
      "read  2775  lines of data for ticker:  XLU\n"
     ]
    },
    {
     "name": "stderr",
     "output_type": "stream",
     "text": [
      "\n",
      "[*********************100%***********************]  1 of 1 completed\n"
     ]
    },
    {
     "name": "stdout",
     "output_type": "stream",
     "text": [
      "read  251  lines of data for ticker:  XLU\n",
      "On the 63th day, Bought 7.255840951966333 shares for $500.0\n",
      "On the 65th day, Bought 6 shares for $416.52\n",
      "On the 66th day, Bought 1 shares for $69.62\n",
      "On the 67th day, Bought 0 shares for $0.0\n",
      "On the 110th day, sold 14.255840951966334 shares for $936.1810753156292\n",
      "On the 137th day, Bought 7.723200494284832 shares for $500.0\n",
      "On the 145th day, Bought 6 shares for $378.12\n",
      "On the 146th day, Bought 1 shares for $63.3\n",
      "On the 147th day, Bought 0 shares for $0.0\n",
      "On the 148th day, Bought 0 shares for $0.0\n",
      "On the 153th day, Bought 0 shares for $0.0\n",
      "On the 154th day, Bought 0 shares for $0.0\n",
      "On the 155th day, Bought 0 shares for $0.0\n",
      "On the 156th day, Bought 0 shares for $0.0\n",
      "On the 157th day, Bought 0 shares for $0.0\n",
      "On the 175th day, sold 14.723200494284832 shares for $885.306045721347\n"
     ]
    },
    {
     "name": "stderr",
     "output_type": "stream",
     "text": [
      "[*********************100%***********************]  1 of 1 completed"
     ]
    },
    {
     "name": "stdout",
     "output_type": "stream",
     "text": [
      "On the 217th day, Bought 7.963051441312311 shares for $500.0\n",
      "On the 218th day, Bought 6 shares for $377.94\n",
      "On the 219th day, Bought 0 shares for $0.0\n",
      "On the 220th day, Bought 0 shares for $0.0\n",
      "On the 221th day, Bought 0 shares for $0.0\n",
      "On the 232th day, sold 13.963051441312311 shares for $882.8837426341775\n",
      "XLU Final Value: 898.8708636711538, Final Money: 898.8708636711538, Final Shares: 0.0\n",
      "read  2775  lines of data for ticker:  XLU\n"
     ]
    },
    {
     "name": "stderr",
     "output_type": "stream",
     "text": [
      "\n",
      "[*********************100%***********************]  1 of 1 completed\n"
     ]
    },
    {
     "name": "stdout",
     "output_type": "stream",
     "text": [
      "read  251  lines of data for ticker:  XLU\n",
      "On the 62th day, Bought 7.218131947452 shares for $500.0\n",
      "On the 65th day, Bought 6 shares for $416.52\n",
      "On the 84th day, sold 13.218131947452001 shares for $877.8161426302873\n",
      "On the 144th day, Bought 7.805182641273806 shares for $500.0\n",
      "On the 145th day, Bought 6 shares for $378.12\n",
      "On the 152th day, Bought 1 shares for $63.15\n",
      "On the 153th day, Bought 0 shares for $0.0\n",
      "On the 166th day, sold 14.805182641273806 shares for $965.5940118638777\n",
      "On the 216th day, Bought 7.975753708725475 shares for $500.0\n",
      "On the 217th day, Bought 6 shares for $376.74\n",
      "On the 218th day, Bought 1 shares for $62.99\n",
      "On the 219th day, Bought 0 shares for $0.0\n",
      "On the 220th day, Bought 0 shares for $0.0\n",
      "On the 221th day, Bought 0 shares for $0.0\n"
     ]
    },
    {
     "name": "stderr",
     "output_type": "stream",
     "text": [
      "[*********************100%***********************]  1 of 1 completed"
     ]
    },
    {
     "name": "stdout",
     "output_type": "stream",
     "text": [
      "On the 230th day, sold 14.975753708725474 shares for $974.9215664380283\n",
      "XLU Final Value: 1020.8117209321933, Final Money: 1020.8117209321933, Final Shares: 0.0\n",
      "read  2775  lines of data for ticker:  XLU\n"
     ]
    },
    {
     "name": "stderr",
     "output_type": "stream",
     "text": [
      "\n",
      "[*********************100%***********************]  1 of 1 completed\n"
     ]
    },
    {
     "name": "stdout",
     "output_type": "stream",
     "text": [
      "read  251  lines of data for ticker:  XLU\n",
      "On the 135th day, Bought 7.547169811320755 shares for $500.0\n",
      "On the 163th day, sold 7.547169811320755 shares for $478.79245283018867\n",
      "On the 216th day, Bought 7.975753708725475 shares for $500.0\n",
      "On the 217th day, Bought 6 shares for $376.74\n",
      "On the 218th day, Bought 1 shares for $62.99\n",
      "On the 219th day, Bought 0 shares for $0.0\n",
      "On the 234th day, sold 14.975753708725474 shares for $932.989456053597\n",
      "XLU Final Value: 972.0519088837857, Final Money: 972.0519088837857, Final Shares: 0.0\n"
     ]
    },
    {
     "name": "stderr",
     "output_type": "stream",
     "text": [
      "[*********************100%***********************]  1 of 1 completed\n"
     ]
    },
    {
     "name": "stdout",
     "output_type": "stream",
     "text": [
      "read  2775  lines of data for ticker:  XLB\n"
     ]
    },
    {
     "name": "stderr",
     "output_type": "stream",
     "text": [
      "[*********************100%***********************]  1 of 1 completed\n"
     ]
    },
    {
     "name": "stdout",
     "output_type": "stream",
     "text": [
      "read  251  lines of data for ticker:  XLB\n",
      "On the 30th day, Bought 6.062810719049351 shares for $500.0\n",
      "On the 31th day, Bought 5.994485073732166 shares for $499.99999999999994\n",
      "On the 32th day, Bought 0 shares for $0.0\n",
      "On the 35th day, Bought 0 shares for $0.0\n",
      "On the 53th day, Bought 0 shares for $0.0\n",
      "On the 54th day, Bought 0 shares for $0.0\n",
      "On the 55th day, Bought 0 shares for $0.0\n",
      "On the 56th day, Bought 0 shares for $0.0\n",
      "On the 57th day, Bought 0 shares for $0.0\n",
      "On the 58th day, Bought 0 shares for $0.0\n",
      "On the 60th day, Bought 0 shares for $0.0\n",
      "On the 80th day, sold 12.057295792781517 shares for $939.9867800052469\n",
      "On the 125th day, Bought 5.953089653530182 shares for $500.0\n",
      "On the 126th day, Bought 4 shares for $334.16\n",
      "On the 127th day, Bought 1 shares for $83.74\n",
      "On the 128th day, Bought 0 shares for $0.0\n",
      "On the 129th day, Bought 0 shares for $0.0\n",
      "On the 130th day, Bought 0 shares for $0.0\n",
      "On the 158th day, Bought 0 shares for $0.0\n",
      "On the 163th day, Bought 0 shares for $0.0\n",
      "On the 172th day, sold 10.953089653530181 shares for $858.3936361471604\n",
      "On the 201th day, Bought 6.445790898543252 shares for $500.0\n",
      "On the 202th day, Bought 4 shares for $315.16\n"
     ]
    },
    {
     "name": "stderr",
     "output_type": "stream",
     "text": [
      "[*********************100%***********************]  1 of 1 completed"
     ]
    },
    {
     "name": "stdout",
     "output_type": "stream",
     "text": [
      "On the 216th day, Bought 0 shares for $0.0\n",
      "On the 217th day, Bought 0 shares for $0.0\n",
      "On the 218th day, Bought 0 shares for $0.0\n",
      "On the 219th day, Bought 0 shares for $0.0\n",
      "XLB Final Value: 944.8560098097491, Final Money: 65.3204161524074, Final Shares: 10.445790898543251\n",
      "read  2775  lines of data for ticker:  XLB\n"
     ]
    },
    {
     "name": "stderr",
     "output_type": "stream",
     "text": [
      "\n",
      "[*********************100%***********************]  1 of 1 completed\n"
     ]
    },
    {
     "name": "stdout",
     "output_type": "stream",
     "text": [
      "read  251  lines of data for ticker:  XLB\n",
      "On the 32th day, Bought 5.91016548463357 shares for $500.0\n",
      "On the 37th day, sold 5.91016548463357 shares for $462.05673758865254\n",
      "On the 125th day, Bought 5.953089653530182 shares for $500.0\n",
      "On the 126th day, Bought 4 shares for $334.16\n",
      "On the 127th day, Bought 1 shares for $83.74\n",
      "On the 128th day, Bought 0 shares for $0.0\n",
      "On the 129th day, Bought 0 shares for $0.0\n",
      "On the 130th day, Bought 0 shares for $0.0\n",
      "On the 153th day, Bought 0 shares for $0.0\n",
      "On the 154th day, Bought 0 shares for $0.0\n",
      "On the 155th day, Bought 0 shares for $0.0\n",
      "On the 160th day, sold 10.953089653530181 shares for $899.1391296582926\n",
      "On the 203th day, Bought 6.377551020408163 shares for $500.0\n"
     ]
    },
    {
     "name": "stderr",
     "output_type": "stream",
     "text": [
      "[*********************100%***********************]  1 of 1 completed"
     ]
    },
    {
     "name": "stdout",
     "output_type": "stream",
     "text": [
      "On the 217th day, Bought 5 shares for $405.09999999999997\n",
      "On the 218th day, Bought 0 shares for $0.0\n",
      "On the 219th day, Bought 0 shares for $0.0\n",
      "On the 220th day, Bought 0 shares for $0.0\n",
      "XLB Final Value: 996.1856631653127, Final Money: 38.195867246945284, Final Shares: 11.377551020408163\n",
      "read  2775  lines of data for ticker:  XLB\n"
     ]
    },
    {
     "name": "stderr",
     "output_type": "stream",
     "text": [
      "\n",
      "[*********************100%***********************]  1 of 1 completed\n"
     ]
    },
    {
     "name": "stdout",
     "output_type": "stream",
     "text": [
      "read  251  lines of data for ticker:  XLB\n",
      "On the 102th day, Bought 6.157635467980295 shares for $500.0\n",
      "On the 128th day, Bought 4 shares for $335.0\n",
      "On the 129th day, Bought 1 shares for $84.01\n",
      "On the 152th day, Bought 1 shares for $80.56\n",
      "On the 153th day, Bought 0 shares for $0.0\n",
      "On the 154th day, Bought 0 shares for $0.0\n",
      "On the 159th day, sold 12.157635467980295 shares for $1000.2086699507389\n",
      "On the 166th day, Bought 6.051071039574005 shares for $500.0\n",
      "On the 172th day, sold 6.051071039574005 shares for $474.2224373714148\n"
     ]
    },
    {
     "name": "stderr",
     "output_type": "stream",
     "text": [
      "[*********************100%***********************]  1 of 1 completed"
     ]
    },
    {
     "name": "stdout",
     "output_type": "stream",
     "text": [
      "On the 216th day, Bought 6.163708086785009 shares for $499.99999999999994\n",
      "XLB Final Value: 993.8453282294515, Final Money: 474.8611073221537, Final Shares: 6.163708086785009\n",
      "read  2775  lines of data for ticker:  XLB\n"
     ]
    },
    {
     "name": "stderr",
     "output_type": "stream",
     "text": [
      "\n",
      "[*********************100%***********************]  1 of 1 completed\n"
     ]
    },
    {
     "name": "stdout",
     "output_type": "stream",
     "text": [
      "read  251  lines of data for ticker:  XLB\n",
      "On the 125th day, Bought 5.953089653530182 shares for $500.0\n",
      "On the 161th day, sold 5.953089653530182 shares for $486.4864864864865\n",
      "On the 212th day, Bought 6.228977201943441 shares for $500.0\n",
      "On the 213th day, Bought 5 shares for $402.04999999999995\n",
      "On the 214th day, Bought 1 shares for $80.72\n",
      "On the 215th day, Bought 0 shares for $0.0\n",
      "On the 216th day, Bought 0 shares for $0.0\n",
      "On the 217th day, Bought 0 shares for $0.0\n",
      "On the 218th day, Bought 0 shares for $0.0\n",
      "On the 219th day, Bought 0 shares for $0.0\n",
      "XLB Final Value: 1033.3963668901242, Final Money: 3.7164864864865024, Final Shares: 12.22897720194344\n"
     ]
    },
    {
     "name": "stderr",
     "output_type": "stream",
     "text": [
      "[*********************100%***********************]  1 of 1 completed\n"
     ]
    },
    {
     "name": "stdout",
     "output_type": "stream",
     "text": [
      "read  2775  lines of data for ticker:  XLE\n"
     ]
    },
    {
     "name": "stderr",
     "output_type": "stream",
     "text": [
      "[*********************100%***********************]  1 of 1 completed\n"
     ]
    },
    {
     "name": "stdout",
     "output_type": "stream",
     "text": [
      "read  251  lines of data for ticker:  XLE\n",
      "On the 31th day, Bought 5.807875479149727 shares for $500.0\n",
      "On the 40th day, sold 5.807875479149727 shares for $449.2972470670229\n",
      "On the 62th day, Bought 5.800464037122969 shares for $500.0\n",
      "On the 63th day, Bought 4 shares for $346.16\n",
      "On the 64th day, Bought 1 shares for $86.24\n",
      "On the 65th day, Bought 0 shares for $0.0\n",
      "On the 66th day, Bought 0 shares for $0.0\n",
      "On the 114th day, Bought 0 shares for $0.0\n",
      "On the 115th day, Bought 0 shares for $0.0\n",
      "On the 116th day, Bought 0 shares for $0.0\n",
      "On the 117th day, Bought 0 shares for $0.0\n",
      "On the 156th day, Bought 0 shares for $0.0\n",
      "On the 157th day, Bought 0 shares for $0.0\n",
      "On the 158th day, Bought 0 shares for $0.0\n",
      "On the 159th day, Bought 0 shares for $0.0\n",
      "On the 160th day, Bought 0 shares for $0.0\n",
      "On the 161th day, Bought 0 shares for $0.0\n",
      "On the 162th day, Bought 0 shares for $0.0\n",
      "On the 181th day, sold 10.80046403712297 shares for $920.4155452436195\n"
     ]
    },
    {
     "name": "stderr",
     "output_type": "stream",
     "text": [
      "[*********************100%***********************]  1 of 1 completed"
     ]
    },
    {
     "name": "stdout",
     "output_type": "stream",
     "text": [
      "On the 209th day, Bought 5.8990089664936285 shares for $500.0\n",
      "On the 210th day, Bought 4 shares for $338.4\n",
      "On the 211th day, Bought 1 shares for $82.95\n",
      "On the 212th day, Bought 0 shares for $0.0\n",
      "On the 220th day, Bought 0 shares for $0.0\n",
      "On the 238th day, Bought 0 shares for $0.0\n",
      "On the 239th day, Bought 0 shares for $0.0\n",
      "On the 240th day, Bought 0 shares for $0.0\n",
      "On the 241th day, Bought 0 shares for $0.0\n",
      "On the 242th day, Bought 0 shares for $0.0\n",
      "XLE Final Value: 938.1279409656682, Final Money: 15.962792310642428, Final Shares: 10.899008966493628\n",
      "read  2775  lines of data for ticker:  XLE\n"
     ]
    },
    {
     "name": "stderr",
     "output_type": "stream",
     "text": [
      "\n",
      "[*********************100%***********************]  1 of 1 completed\n"
     ]
    },
    {
     "name": "stdout",
     "output_type": "stream",
     "text": [
      "read  251  lines of data for ticker:  XLE\n",
      "On the 64th day, Bought 5.797773654916512 shares for $500.0\n",
      "On the 65th day, Bought 4 shares for $341.92\n",
      "On the 66th day, Bought 1 shares for $84.98\n",
      "On the 78th day, sold 10.797773654916512 shares for $866.6293135435993\n",
      "On the 106th day, Bought 6.380806533945891 shares for $500.0\n",
      "On the 116th day, Bought 5 shares for $404.54999999999995\n",
      "On the 117th day, Bought 0 shares for $0.0\n",
      "On the 131th day, Bought 0 shares for $0.0\n",
      "On the 132th day, Bought 0 shares for $0.0\n",
      "On the 133th day, Bought 0 shares for $0.0\n",
      "On the 168th day, sold 11.38080653394589 shares for $1048.286089841756\n"
     ]
    },
    {
     "name": "stderr",
     "output_type": "stream",
     "text": [
      "[*********************100%***********************]  1 of 1 completed"
     ]
    },
    {
     "name": "stdout",
     "output_type": "stream",
     "text": [
      "On the 219th day, Bought 5.950964056177101 shares for $500.0\n",
      "On the 220th day, Bought 5.911563017261764 shares for $499.99999999999994\n",
      "On the 221th day, Bought 0 shares for $0.0\n",
      "On the 222th day, Bought 0 shares for $0.0\n",
      "XLE Final Value: 1087.1538190690178, Final Money: 83.46540338535539, Final Shares: 11.862527073438866\n",
      "read  2775  lines of data for ticker:  XLE\n"
     ]
    },
    {
     "name": "stderr",
     "output_type": "stream",
     "text": [
      "\n",
      "[*********************100%***********************]  1 of 1 completed\n"
     ]
    },
    {
     "name": "stdout",
     "output_type": "stream",
     "text": [
      "read  251  lines of data for ticker:  XLE\n",
      "On the 60th day, Bought 5.742506029631332 shares for $500.0\n",
      "On the 65th day, Bought 4 shares for $341.92\n",
      "On the 75th day, sold 9.742506029631333 shares for $760.9871459745034\n",
      "On the 140th day, Bought 5.717552887364208 shares for $500.00000000000006\n",
      "On the 172th day, sold 5.717552887364208 shares for $510.6346483704975\n",
      "On the 210th day, Bought 5.91016548463357 shares for $500.0\n",
      "On the 211th day, Bought 5 shares for $414.75\n",
      "On the 214th day, Bought 0 shares for $0.0\n",
      "On the 215th day, Bought 0 shares for $0.0\n",
      "On the 216th day, Bought 0 shares for $0.0\n",
      "On the 219th day, Bought 0 shares for $0.0\n",
      "On the 221th day, Bought 0 shares for $0.0\n"
     ]
    },
    {
     "name": "stderr",
     "output_type": "stream",
     "text": [
      "[*********************100%***********************]  1 of 1 completed"
     ]
    },
    {
     "name": "stdout",
     "output_type": "stream",
     "text": [
      "XLE Final Value: 938.060895999847, Final Money: 14.951794345000735, Final Shares: 10.91016548463357\n",
      "read  2775  lines of data for ticker:  XLE\n"
     ]
    },
    {
     "name": "stderr",
     "output_type": "stream",
     "text": [
      "\n",
      "[*********************100%***********************]  1 of 1 completed\n"
     ]
    },
    {
     "name": "stdout",
     "output_type": "stream",
     "text": [
      "read  251  lines of data for ticker:  XLE\n",
      "On the 64th day, Bought 5.797773654916512 shares for $500.0\n",
      "On the 65th day, Bought 4 shares for $341.92\n",
      "On the 96th day, sold 9.797773654916512 shares for $777.6492949907235\n",
      "On the 131th day, Bought 5.804504295333179 shares for $500.00000000000006\n",
      "On the 132th day, Bought 4 shares for $342.36\n",
      "On the 160th day, Bought 1 shares for $91.26\n",
      "On the 161th day, Bought 0 shares for $0.0\n",
      "On the 162th day, Bought 0 shares for $0.0\n",
      "On the 168th day, sold 10.804504295333178 shares for $995.202890643139\n",
      "On the 216th day, Bought 5.887201224537854 shares for $500.0\n",
      "On the 217th day, Bought 4 shares for $338.52\n",
      "On the 218th day, Bought 1 shares for $84.65\n",
      "On the 219th day, Bought 0 shares for $0.0\n",
      "On the 220th day, Bought 0 shares for $0.0\n",
      "On the 221th day, Bought 0 shares for $0.0\n",
      "On the 230th day, sold 10.887201224537854 shares for $922.6903037795831\n",
      "XLE Final Value: 996.8324894134455, Final Money: 996.8324894134455, Final Shares: 0.0\n"
     ]
    },
    {
     "name": "stderr",
     "output_type": "stream",
     "text": [
      "[*********************100%***********************]  1 of 1 completed\n"
     ]
    },
    {
     "name": "stdout",
     "output_type": "stream",
     "text": [
      "read  2775  lines of data for ticker:  XLF\n"
     ]
    },
    {
     "name": "stderr",
     "output_type": "stream",
     "text": [
      "[*********************100%***********************]  1 of 1 completed\n"
     ]
    },
    {
     "name": "stdout",
     "output_type": "stream",
     "text": [
      "read  251  lines of data for ticker:  XLF\n",
      "On the 32th day, Bought 13.89274798555154 shares for $500.0\n",
      "On the 37th day, sold 13.89274798555154 shares for $457.48819116421225\n",
      "On the 113th day, Bought 14.961101137043686 shares for $500.0\n",
      "On the 115th day, Bought 13 shares for $440.7\n",
      "On the 129th day, Bought 0 shares for $0.0\n",
      "On the 131th day, Bought 0 shares for $0.0\n",
      "On the 141th day, sold 27.961101137043684 shares for $973.6055415918611\n",
      "On the 163th day, Bought 14.509576320371444 shares for $500.0\n",
      "On the 176th day, sold 14.509576320371444 shares for $485.7806152060359\n"
     ]
    },
    {
     "name": "stderr",
     "output_type": "stream",
     "text": [
      "[*********************100%***********************]  1 of 1 completed"
     ]
    },
    {
     "name": "stdout",
     "output_type": "stream",
     "text": [
      "On the 206th day, Bought 14.912019087384431 shares for $500.0\n",
      "On the 208th day, Bought 13 shares for $440.18\n",
      "On the 209th day, Bought 1 shares for $34.5\n",
      "On the 210th day, Bought 0 shares for $0.0\n",
      "On the 211th day, Bought 0 shares for $0.0\n",
      "On the 213th day, Bought 0 shares for $0.0\n",
      "On the 214th day, Bought 0 shares for $0.0\n",
      "On the 215th day, Bought 0 shares for $0.0\n",
      "On the 216th day, Bought 0 shares for $0.0\n",
      "On the 217th day, Bought 0 shares for $0.0\n",
      "On the 218th day, Bought 0 shares for $0.0\n",
      "On the 219th day, Bought 0 shares for $0.0\n",
      "XLF Final Value: 1088.2971454568901, Final Money: 1.494347962109316, Final Shares: 28.91201908738443\n",
      "read  2775  lines of data for ticker:  XLF\n"
     ]
    },
    {
     "name": "stderr",
     "output_type": "stream",
     "text": [
      "\n",
      "[*********************100%***********************]  1 of 1 completed\n"
     ]
    },
    {
     "name": "stdout",
     "output_type": "stream",
     "text": [
      "read  251  lines of data for ticker:  XLF\n",
      "On the 32th day, Bought 13.89274798555154 shares for $500.0\n",
      "On the 35th day, sold 13.89274798555154 shares for $485.6904695748819\n",
      "On the 104th day, Bought 14.85884101040119 shares for $500.0\n",
      "On the 113th day, Bought 13 shares for $434.46000000000004\n",
      "On the 139th day, Bought 1 shares for $35.4\n",
      "On the 146th day, sold 28.85884101040119 shares for $985.8180089153045\n",
      "On the 158th day, Bought 14.413375612568464 shares for $500.0\n",
      "On the 166th day, Bought 14.281633818908883 shares for $499.99999999999994\n",
      "On the 167th day, Bought 0 shares for $0.0\n",
      "On the 170th day, Bought 0 shares for $0.0\n",
      "On the 177th day, sold 28.695009431477345 shares for $951.8134628421036\n"
     ]
    },
    {
     "name": "stderr",
     "output_type": "stream",
     "text": [
      "[*********************100%***********************]  1 of 1 completed"
     ]
    },
    {
     "name": "stdout",
     "output_type": "stream",
     "text": [
      "On the 217th day, Bought 14.180374361883155 shares for $500.0\n",
      "On the 218th day, Bought 12 shares for $423.0\n",
      "On the 219th day, Bought 0 shares for $0.0\n",
      "On the 235th day, sold 26.180374361883153 shares for $975.4807487237663\n",
      "XLF Final Value: 1005.9426900560563, Final Money: 1005.9426900560563, Final Shares: 0.0\n",
      "read  2775  lines of data for ticker:  XLF\n"
     ]
    },
    {
     "name": "stderr",
     "output_type": "stream",
     "text": [
      "\n",
      "[*********************100%***********************]  1 of 1 completed\n"
     ]
    },
    {
     "name": "stdout",
     "output_type": "stream",
     "text": [
      "read  251  lines of data for ticker:  XLF\n",
      "On the 31th day, Bought 14.112334180073384 shares for $500.0\n",
      "On the 37th day, sold 14.112334180073384 shares for $464.7191645498165\n",
      "On the 83th day, Bought 15.693659761456372 shares for $500.0\n",
      "On the 102th day, Bought 13 shares for $433.4200000000001\n",
      "On the 104th day, Bought 0 shares for $0.0\n",
      "On the 116th day, sold 28.693659761456374 shares for $970.7065097300691\n",
      "On the 120th day, Bought 14.645577035735208 shares for $500.0\n",
      "On the 152th day, Bought 14.779781259237364 shares for $500.0\n",
      "On the 172th day, sold 29.425358294972572 shares for $990.4575602087766\n"
     ]
    },
    {
     "name": "stderr",
     "output_type": "stream",
     "text": [
      "[*********************100%***********************]  1 of 1 completed"
     ]
    },
    {
     "name": "stdout",
     "output_type": "stream",
     "text": [
      "XLF Final Value: 992.4632344886621, Final Money: 992.4632344886621, Final Shares: 0.0\n",
      "read  2775  lines of data for ticker:  XLF\n"
     ]
    },
    {
     "name": "stderr",
     "output_type": "stream",
     "text": [
      "\n",
      "[*********************100%***********************]  1 of 1 completed\n"
     ]
    },
    {
     "name": "stdout",
     "output_type": "stream",
     "text": [
      "read  251  lines of data for ticker:  XLF\n",
      "On the 103th day, Bought 15.055706112616681 shares for $500.0\n",
      "On the 133th day, sold 15.055706112616681 shares for $529.9608551641072\n",
      "On the 149th day, Bought 14.731879787860931 shares for $500.0\n",
      "On the 150th day, Bought 14.872099940511601 shares for $500.0\n",
      "On the 153th day, Bought 0 shares for $0.0\n",
      "On the 175th day, sold 29.603979728372533 shares for $984.036286171103\n",
      "On the 214th day, Bought 14.232849416453172 shares for $500.0\n",
      "On the 215th day, Bought 14.17635384179189 shares for $500.0\n",
      "On the 216th day, Bought 0 shares for $0.0\n",
      "On the 217th day, Bought 0 shares for $0.0\n",
      "On the 218th day, Bought 0 shares for $0.0\n",
      "On the 242th day, Bought 0 shares for $0.0\n",
      "XLF Final Value: 1081.8990918126424, Final Money: 13.997141335210245, Final Shares: 28.409203258245064\n"
     ]
    },
    {
     "name": "stderr",
     "output_type": "stream",
     "text": [
      "[*********************100%***********************]  1 of 1 completed\n"
     ]
    },
    {
     "name": "stdout",
     "output_type": "stream",
     "text": [
      "read  2775  lines of data for ticker:  XLI\n"
     ]
    },
    {
     "name": "stderr",
     "output_type": "stream",
     "text": [
      "[*********************100%***********************]  1 of 1 completed\n"
     ]
    },
    {
     "name": "stdout",
     "output_type": "stream",
     "text": [
      "read  251  lines of data for ticker:  XLI\n",
      "On the 30th day, Bought 4.932425766992207 shares for $500.00000000000006\n",
      "On the 31th day, Bought 3 shares for $307.68\n",
      "On the 32th day, Bought 1 shares for $103.67\n",
      "On the 33th day, Bought 0 shares for $0.0\n",
      "On the 34th day, Bought 0 shares for $0.0\n",
      "On the 35th day, Bought 0 shares for $0.0\n",
      "On the 36th day, Bought 0 shares for $0.0\n",
      "On the 63th day, Bought 0 shares for $0.0\n",
      "On the 64th day, Bought 0 shares for $0.0\n",
      "On the 65th day, Bought 0 shares for $0.0\n",
      "On the 66th day, Bought 0 shares for $0.0\n",
      "On the 67th day, Bought 0 shares for $0.0\n",
      "On the 103th day, Bought 0 shares for $0.0\n",
      "On the 104th day, Bought 0 shares for $0.0\n",
      "On the 106th day, Bought 0 shares for $0.0\n",
      "On the 112th day, Bought 0 shares for $0.0\n",
      "On the 113th day, Bought 0 shares for $0.0\n",
      "On the 114th day, Bought 0 shares for $0.0\n",
      "On the 115th day, Bought 0 shares for $0.0\n",
      "On the 116th day, Bought 0 shares for $0.0\n",
      "On the 117th day, Bought 0 shares for $0.0\n",
      "On the 118th day, Bought 0 shares for $0.0\n",
      "On the 128th day, Bought 0 shares for $0.0\n",
      "On the 129th day, Bought 0 shares for $0.0\n",
      "On the 130th day, Bought 0 shares for $0.0\n",
      "On the 152th day, sold 8.932425766992207 shares for $943.7107822827268\n",
      "On the 169th day, Bought 4.796163069544365 shares for $500.00000000000006\n",
      "On the 172th day, sold 4.796163069544365 shares for $488.20143884892093\n"
     ]
    },
    {
     "name": "stderr",
     "output_type": "stream",
     "text": [
      "[*********************100%***********************]  1 of 1 completed"
     ]
    },
    {
     "name": "stdout",
     "output_type": "stream",
     "text": [
      "On the 207th day, Bought 4.875670404680644 shares for $500.00000000000006\n",
      "On the 208th day, Bought 4.871395167575994 shares for $500.0\n",
      "On the 209th day, Bought 0 shares for $0.0\n",
      "On the 210th day, Bought 0 shares for $0.0\n",
      "On the 216th day, Bought 0 shares for $0.0\n",
      "On the 217th day, Bought 0 shares for $0.0\n",
      "On the 218th day, Bought 0 shares for $0.0\n",
      "On the 219th day, Bought 0 shares for $0.0\n",
      "XLI Final Value: 1105.4106193238113, Final Money: 20.562221131647448, Final Shares: 9.747065572256638\n",
      "read  2775  lines of data for ticker:  XLI\n"
     ]
    },
    {
     "name": "stderr",
     "output_type": "stream",
     "text": [
      "\n",
      "[*********************100%***********************]  1 of 1 completed\n"
     ]
    },
    {
     "name": "stdout",
     "output_type": "stream",
     "text": [
      "read  251  lines of data for ticker:  XLI\n",
      "On the 30th day, Bought 4.932425766992207 shares for $500.00000000000006\n",
      "On the 31th day, Bought 3 shares for $307.68\n",
      "On the 32th day, Bought 1 shares for $103.67\n",
      "On the 33th day, Bought 0 shares for $0.0\n",
      "On the 34th day, Bought 0 shares for $0.0\n",
      "On the 35th day, Bought 0 shares for $0.0\n",
      "On the 37th day, Bought 0 shares for $0.0\n",
      "On the 103th day, Bought 0 shares for $0.0\n",
      "On the 104th day, Bought 0 shares for $0.0\n",
      "On the 105th day, Bought 0 shares for $0.0\n",
      "On the 119th day, Bought 0 shares for $0.0\n",
      "On the 127th day, Bought 0 shares for $0.0\n",
      "On the 128th day, Bought 0 shares for $0.0\n",
      "On the 130th day, Bought 0 shares for $0.0\n",
      "On the 131th day, Bought 0 shares for $0.0\n",
      "On the 132th day, Bought 0 shares for $0.0\n",
      "On the 154th day, sold 8.932425766992207 shares for $959.431851632633\n"
     ]
    },
    {
     "name": "stderr",
     "output_type": "stream",
     "text": [
      "[*********************100%***********************]  1 of 1 completed"
     ]
    },
    {
     "name": "stdout",
     "output_type": "stream",
     "text": [
      "On the 206th day, Bought 4.946087644673064 shares for $500.00000000000006\n",
      "On the 209th day, Bought 4.775549188156638 shares for $500.0\n",
      "On the 215th day, Bought 0 shares for $0.0\n",
      "On the 217th day, Bought 0 shares for $0.0\n",
      "On the 218th day, Bought 0 shares for $0.0\n",
      "On the 219th day, Bought 0 shares for $0.0\n",
      "On the 220th day, Bought 0 shares for $0.0\n",
      "On the 221th day, Bought 0 shares for $0.0\n",
      "On the 229th day, Bought 0 shares for $0.0\n",
      "On the 230th day, Bought 0 shares for $0.0\n",
      "On the 231th day, Bought 0 shares for $0.0\n",
      "On the 242th day, Bought 0 shares for $0.0\n",
      "XLI Final Value: 1130.1000311265786, Final Money: 48.081851632632834, Final Shares: 9.721636832829702\n",
      "read  2775  lines of data for ticker:  XLI\n"
     ]
    },
    {
     "name": "stderr",
     "output_type": "stream",
     "text": [
      "\n",
      "[*********************100%***********************]  1 of 1 completed\n"
     ]
    },
    {
     "name": "stdout",
     "output_type": "stream",
     "text": [
      "read  251  lines of data for ticker:  XLI\n",
      "On the 31th day, Bought 4.875195007800312 shares for $500.0\n",
      "On the 66th day, Bought 3 shares for $301.83\n",
      "On the 67th day, Bought 1 shares for $100.85\n",
      "On the 68th day, Bought 0 shares for $0.0\n",
      "On the 83th day, Bought 0 shares for $0.0\n",
      "On the 97th day, sold 8.875195007800311 shares for $895.2409204368174\n",
      "On the 126th day, Bought 4.562876437306078 shares for $500.0\n",
      "On the 127th day, Bought 3 shares for $330.21\n",
      "On the 131th day, Bought 1 shares for $110.43\n",
      "On the 132th day, Bought 0 shares for $0.0\n",
      "On the 148th day, sold 8.562876437306077 shares for $909.7199926993976\n",
      "On the 208th day, Bought 4.871395167575994 shares for $500.0\n"
     ]
    },
    {
     "name": "stderr",
     "output_type": "stream",
     "text": [
      "[*********************100%***********************]  1 of 1 completed"
     ]
    },
    {
     "name": "stdout",
     "output_type": "stream",
     "text": [
      "On the 216th day, Bought 3 shares for $319.02\n",
      "On the 217th day, Bought 1 shares for $105.74\n",
      "On the 218th day, Bought 0 shares for $0.0\n",
      "On the 219th day, Bought 0 shares for $0.0\n",
      "On the 220th day, Bought 0 shares for $0.0\n",
      "XLI Final Value: 1024.2671952874232, Final Money: 36.88091313621511, Final Shares: 8.871395167575994\n",
      "read  2775  lines of data for ticker:  XLI\n"
     ]
    },
    {
     "name": "stderr",
     "output_type": "stream",
     "text": [
      "\n",
      "[*********************100%***********************]  1 of 1 completed\n"
     ]
    },
    {
     "name": "stdout",
     "output_type": "stream",
     "text": [
      "read  251  lines of data for ticker:  XLI\n",
      "On the 30th day, Bought 4.932425766992207 shares for $500.00000000000006\n",
      "On the 31th day, Bought 3 shares for $307.68\n",
      "On the 32th day, Bought 1 shares for $103.67\n",
      "On the 36th day, Bought 0 shares for $0.0\n",
      "On the 119th day, Bought 0 shares for $0.0\n",
      "On the 127th day, Bought 0 shares for $0.0\n",
      "On the 128th day, Bought 0 shares for $0.0\n",
      "On the 131th day, Bought 0 shares for $0.0\n",
      "On the 132th day, Bought 0 shares for $0.0\n",
      "On the 136th day, Bought 0 shares for $0.0\n",
      "On the 154th day, sold 8.932425766992207 shares for $959.431851632633\n",
      "On the 165th day, Bought 4.781028877414419 shares for $500.0\n",
      "On the 166th day, Bought 4.734400151500805 shares for $500.0\n",
      "On the 167th day, Bought 0 shares for $0.0\n",
      "On the 171th day, Bought 0 shares for $0.0\n",
      "On the 174th day, Bought 0 shares for $0.0\n",
      "On the 177th day, sold 9.515429028915225 shares for $964.6741949514254\n",
      "On the 209th day, Bought 4.775549188156638 shares for $500.0\n",
      "On the 215th day, Bought 4.71342383107089 shares for $500.0\n",
      "On the 217th day, Bought 0 shares for $0.0\n",
      "On the 220th day, Bought 0 shares for $0.0\n",
      "On the 229th day, Bought 0 shares for $0.0\n",
      "On the 235th day, sold 9.488973019227528 shares for $1068.3634722348274\n",
      "XLI Final Value: 1081.1195188188858, Final Money: 1081.1195188188858, Final Shares: 0.0\n"
     ]
    },
    {
     "name": "stderr",
     "output_type": "stream",
     "text": [
      "[*********************100%***********************]  1 of 1 completed\n"
     ]
    },
    {
     "name": "stdout",
     "output_type": "stream",
     "text": [
      "read  2775  lines of data for ticker:  XLK\n"
     ]
    },
    {
     "name": "stderr",
     "output_type": "stream",
     "text": [
      "[*********************100%***********************]  1 of 1 completed\n"
     ]
    },
    {
     "name": "stdout",
     "output_type": "stream",
     "text": [
      "read  251  lines of data for ticker:  XLK\n",
      "On the 30th day, Bought 3.6894923258559618 shares for $500.0\n",
      "On the 31th day, Bought 3.644580508783439 shares for $499.99999999999994\n",
      "On the 32th day, Bought 0 shares for $0.0\n",
      "On the 33th day, Bought 0 shares for $0.0\n",
      "On the 34th day, Bought 0 shares for $0.0\n",
      "On the 35th day, Bought 0 shares for $0.0\n",
      "On the 36th day, Bought 0 shares for $0.0\n",
      "On the 54th day, Bought 0 shares for $0.0\n",
      "On the 64th day, Bought 0 shares for $0.0\n",
      "On the 65th day, Bought 0 shares for $0.0\n",
      "On the 67th day, Bought 0 shares for $0.0\n",
      "On the 68th day, Bought 0 shares for $0.0\n",
      "On the 82th day, Bought 0 shares for $0.0\n",
      "On the 83th day, Bought 0 shares for $0.0\n",
      "On the 84th day, Bought 0 shares for $0.0\n",
      "On the 85th day, Bought 0 shares for $0.0\n",
      "On the 92th day, sold 7.3340728346394 shares for $1214.962505786363\n",
      "On the 119th day, Bought 2.9127344751252475 shares for $500.0\n",
      "On the 120th day, Bought 2.9064698017787594 shares for $500.0\n",
      "On the 121th day, Bought 1 shares for $173.98\n",
      "On the 122th day, Bought 0 shares for $0.0\n",
      "On the 143th day, sold 6.819204276904006 shares for $1138.1251938152786\n",
      "On the 161th day, Bought 2.8997274256219914 shares for $500.0\n",
      "On the 163th day, Bought 2.8786919223904657 shares for $500.0\n",
      "On the 164th day, Bought 1 shares for $170.54\n",
      "On the 197th day, sold 6.7784193480124575 shares for $1092.1389253517673\n",
      "On the 204th day, Bought 2.8607392150131594 shares for $500.0\n",
      "On the 205th day, Bought 2.8446265005404787 shares for $500.0\n",
      "On the 206th day, Bought 0 shares for $0.0\n"
     ]
    },
    {
     "name": "stderr",
     "output_type": "stream",
     "text": [
      "[*********************100%***********************]  1 of 1 completed"
     ]
    },
    {
     "name": "stdout",
     "output_type": "stream",
     "text": [
      "On the 207th day, Bought 0 shares for $0.0\n",
      "On the 208th day, Bought 0 shares for $0.0\n",
      "On the 209th day, Bought 0 shares for $0.0\n",
      "On the 210th day, Bought 0 shares for $0.0\n",
      "On the 212th day, Bought 0 shares for $0.0\n",
      "On the 213th day, Bought 0 shares for $0.0\n",
      "On the 215th day, Bought 0 shares for $0.0\n",
      "On the 216th day, Bought 0 shares for $0.0\n",
      "On the 217th day, Bought 0 shares for $0.0\n",
      "On the 218th day, Bought 0 shares for $0.0\n",
      "On the 219th day, Bought 0 shares for $0.0\n",
      "On the 239th day, Bought 0 shares for $0.0\n",
      "On the 240th day, Bought 0 shares for $0.0\n",
      "XLK Final Value: 1151.4638287869222, Final Money: 100.70662495340889, Final Shares: 5.705365715553638\n",
      "read  2775  lines of data for ticker:  XLK\n"
     ]
    },
    {
     "name": "stderr",
     "output_type": "stream",
     "text": [
      "\n",
      "[*********************100%***********************]  1 of 1 completed\n"
     ]
    },
    {
     "name": "stdout",
     "output_type": "stream",
     "text": [
      "read  251  lines of data for ticker:  XLK\n",
      "On the 30th day, Bought 3.6894923258559618 shares for $500.0\n",
      "On the 31th day, Bought 3.644580508783439 shares for $499.99999999999994\n",
      "On the 32th day, Bought 0 shares for $0.0\n",
      "On the 33th day, Bought 0 shares for $0.0\n",
      "On the 34th day, Bought 0 shares for $0.0\n",
      "On the 35th day, Bought 0 shares for $0.0\n",
      "On the 36th day, Bought 0 shares for $0.0\n",
      "On the 49th day, Bought 0 shares for $0.0\n",
      "On the 50th day, Bought 0 shares for $0.0\n",
      "On the 60th day, Bought 0 shares for $0.0\n",
      "On the 68th day, Bought 0 shares for $0.0\n",
      "On the 84th day, Bought 0 shares for $0.0\n",
      "On the 86th day, Bought 0 shares for $0.0\n",
      "On the 91th day, sold 7.3340728346394 shares for $1208.5085216918803\n",
      "On the 99th day, Bought 3.026817603971185 shares for $500.00000000000006\n",
      "On the 120th day, Bought 0 shares for $0.0\n",
      "On the 122th day, Bought 0 shares for $0.0\n",
      "On the 153th day, sold 3.026817603971185 shares for $510.65439796597866\n",
      "On the 160th day, Bought 2.8577960676726106 shares for $500.0\n",
      "On the 163th day, Bought 2.8786919223904657 shares for $500.0\n"
     ]
    },
    {
     "name": "stderr",
     "output_type": "stream",
     "text": [
      "[*********************100%***********************]  1 of 1 completed"
     ]
    },
    {
     "name": "stdout",
     "output_type": "stream",
     "text": [
      "On the 200th day, sold 5.736487990063076 shares for $959.0260621787452\n",
      "On the 204th day, Bought 0 shares for $0.0\n",
      "On the 205th day, Bought 0 shares for $0.0\n",
      "On the 206th day, Bought 0 shares for $0.0\n",
      "On the 216th day, Bought 0 shares for $0.0\n",
      "On the 217th day, Bought 0 shares for $0.0\n",
      "On the 218th day, Bought 0 shares for $0.0\n",
      "On the 219th day, Bought 0 shares for $0.0\n",
      "On the 221th day, Bought 0 shares for $0.0\n",
      "On the 232th day, Bought 0 shares for $0.0\n",
      "On the 233th day, Bought 0 shares for $0.0\n",
      "XLK Final Value: 1178.1889818366042, Final Money: 1178.1889818366042, Final Shares: 0.0\n",
      "read  2775  lines of data for ticker:  XLK\n"
     ]
    },
    {
     "name": "stderr",
     "output_type": "stream",
     "text": [
      "\n",
      "[*********************100%***********************]  1 of 1 completed\n"
     ]
    },
    {
     "name": "stdout",
     "output_type": "stream",
     "text": [
      "read  251  lines of data for ticker:  XLK\n"
     ]
    },
    {
     "name": "stderr",
     "output_type": "stream",
     "text": [
      "[*********************100%***********************]  1 of 1 completed"
     ]
    },
    {
     "name": "stdout",
     "output_type": "stream",
     "text": [
      "On the 178th day, Bought 3.0176836260486453 shares for $500.0\n",
      "On the 190th day, Bought 2.981159074648223 shares for $499.99999999999994\n",
      "On the 202th day, sold 5.998842700696868 shares for $1030.361222271694\n",
      "On the 216th day, Bought 2.711349709885581 shares for $500.0\n",
      "On the 218th day, Bought 2.706359945872801 shares for $500.0\n",
      "On the 220th day, Bought 0 shares for $0.0\n",
      "On the 221th day, Bought 0 shares for $0.0\n",
      "On the 222th day, Bought 0 shares for $0.0\n",
      "XLK Final Value: 1028.1408095727152, Final Money: 30.361222271694032, Final Shares: 5.417709655758382\n"
     ]
    },
    {
     "name": "stderr",
     "output_type": "stream",
     "text": [
      "\n"
     ]
    },
    {
     "name": "stdout",
     "output_type": "stream",
     "text": [
      "read  2775  lines of data for ticker:  XLK\n"
     ]
    },
    {
     "name": "stderr",
     "output_type": "stream",
     "text": [
      "[*********************100%***********************]  1 of 1 completed\n"
     ]
    },
    {
     "name": "stdout",
     "output_type": "stream",
     "text": [
      "read  251  lines of data for ticker:  XLK\n",
      "On the 47th day, Bought 3.425596053713346 shares for $500.0\n",
      "On the 49th day, Bought 2 shares for $288.3\n",
      "On the 59th day, Bought 1 shares for $146.75\n",
      "On the 60th day, Bought 0 shares for $0.0\n",
      "On the 62th day, Bought 0 shares for $0.0\n",
      "On the 64th day, Bought 0 shares for $0.0\n",
      "On the 75th day, sold 6.425596053713345 shares for $948.0324417648669\n",
      "On the 120th day, Bought 2.9064698017787594 shares for $500.0\n",
      "On the 122th day, Bought 2.8368794326241136 shares for $500.0\n",
      "On the 150th day, sold 5.7433492344028725 shares for $964.4232034409303\n",
      "On the 158th day, Bought 2.837684449489217 shares for $500.0\n",
      "On the 159th day, Bought 1 shares for $176.83\n",
      "On the 171th day, sold 3.837684449489217 shares for $629.6105107832009\n",
      "On the 203th day, Bought 2.8920122621319915 shares for $499.99999999999994\n",
      "On the 205th day, Bought 1 shares for $175.77\n",
      "On the 217th day, Bought 1 shares for $184.4\n",
      "On the 218th day, Bought 0 shares for $0.0\n",
      "On the 219th day, Bought 0 shares for $0.0\n",
      "On the 221th day, Bought 0 shares for $0.0\n",
      "On the 223th day, Bought 0 shares for $0.0\n",
      "On the 227th day, sold 4.892012262131992 shares for $921.1169888368328\n",
      "On the 232th day, Bought 2.6062027625749282 shares for $499.99999999999994\n",
      "XLK Final Value: 971.1175076092554, Final Money: 491.1331448258309, Final Shares: 2.6062027625749282\n"
     ]
    },
    {
     "name": "stderr",
     "output_type": "stream",
     "text": [
      "[*********************100%***********************]  1 of 1 completed\n"
     ]
    },
    {
     "name": "stdout",
     "output_type": "stream",
     "text": [
      "read  2775  lines of data for ticker:  XLP\n"
     ]
    },
    {
     "name": "stderr",
     "output_type": "stream",
     "text": [
      "[*********************100%***********************]  1 of 1 completed\n"
     ]
    },
    {
     "name": "stdout",
     "output_type": "stream",
     "text": [
      "read  251  lines of data for ticker:  XLP\n",
      "On the 30th day, Bought 6.993006993006993 shares for $500.0\n",
      "On the 86th day, sold 6.993006993006993 shares for $530.909090909091\n",
      "On the 123th day, Bought 6.731287022078622 shares for $500.0\n",
      "On the 126th day, Bought 6.690753378830456 shares for $500.0\n",
      "On the 137th day, sold 13.422040400909077 shares for $1012.0218462285445\n",
      "On the 157th day, Bought 6.871907641561297 shares for $500.0\n",
      "On the 158th day, Bought 6.930967563071805 shares for $500.0\n",
      "On the 163th day, Bought 0 shares for $0.0\n",
      "On the 164th day, Bought 0 shares for $0.0\n",
      "On the 166th day, Bought 0 shares for $0.0\n",
      "On the 167th day, Bought 0 shares for $0.0\n",
      "On the 182th day, sold 13.802875204633102 shares for $920.237689892889\n",
      "On the 209th day, Bought 7.154099298898268 shares for $500.0\n"
     ]
    },
    {
     "name": "stderr",
     "output_type": "stream",
     "text": [
      "[*********************100%***********************]  1 of 1 completed"
     ]
    },
    {
     "name": "stdout",
     "output_type": "stream",
     "text": [
      "On the 217th day, Bought 6 shares for $421.26\n",
      "On the 218th day, Bought 0 shares for $0.0\n",
      "On the 219th day, Bought 0 shares for $0.0\n",
      "On the 220th day, Bought 0 shares for $0.0\n",
      "On the 233th day, sold 13.154099298898268 shares for $941.570427815138\n",
      "XLP Final Value: 983.4790548456625, Final Money: 983.4790548456625, Final Shares: 0.0\n",
      "read  2775  lines of data for ticker:  XLP\n"
     ]
    },
    {
     "name": "stderr",
     "output_type": "stream",
     "text": [
      "\n",
      "[*********************100%***********************]  1 of 1 completed\n"
     ]
    },
    {
     "name": "stdout",
     "output_type": "stream",
     "text": [
      "read  251  lines of data for ticker:  XLP\n",
      "On the 129th day, Bought 6.585879873551106 shares for $500.0\n",
      "On the 152th day, sold 6.585879873551106 shares for $474.31506849315065\n",
      "On the 162th day, Bought 6.97350069735007 shares for $500.0\n",
      "On the 163th day, Bought 5 shares for $361.59999999999997\n",
      "On the 170th day, sold 11.973500697350069 shares for $855.3868898186889\n"
     ]
    },
    {
     "name": "stderr",
     "output_type": "stream",
     "text": [
      "[*********************100%***********************]  1 of 1 completed"
     ]
    },
    {
     "name": "stdout",
     "output_type": "stream",
     "text": [
      "XLP Final Value: 968.1019583118396, Final Money: 968.1019583118396, Final Shares: 0.0\n",
      "read  2775  lines of data for ticker:  XLP\n"
     ]
    },
    {
     "name": "stderr",
     "output_type": "stream",
     "text": [
      "\n",
      "[*********************100%***********************]  1 of 1 completed\n"
     ]
    },
    {
     "name": "stdout",
     "output_type": "stream",
     "text": [
      "read  251  lines of data for ticker:  XLP\n",
      "On the 60th day, Bought 6.608511763150939 shares for $500.0\n",
      "On the 88th day, sold 6.608511763150939 shares for $490.4837430610627\n"
     ]
    },
    {
     "name": "stderr",
     "output_type": "stream",
     "text": [
      "[*********************100%***********************]  1 of 1 completed"
     ]
    },
    {
     "name": "stdout",
     "output_type": "stream",
     "text": [
      "On the 188th day, Bought 7.408504963698326 shares for $500.0\n",
      "On the 208th day, Bought 6 shares for $415.08000000000004\n",
      "On the 230th day, sold 13.408504963698327 shares for $955.2218936138687\n",
      "XLP Final Value: 1030.6256366749312, Final Money: 1030.6256366749312, Final Shares: 0.0\n",
      "read  2775  lines of data for ticker:  XLP\n"
     ]
    },
    {
     "name": "stderr",
     "output_type": "stream",
     "text": [
      "\n",
      "[*********************100%***********************]  1 of 1 completed\n"
     ]
    },
    {
     "name": "stdout",
     "output_type": "stream",
     "text": [
      "read  251  lines of data for ticker:  XLP\n",
      "On the 73th day, Bought 6.469142191745374 shares for $500.0\n",
      "On the 77th day, sold 6.469142191745374 shares for $497.80049165480654\n",
      "On the 80th day, Bought 6.508721687060662 shares for $500.0\n",
      "On the 90th day, Bought 5 shares for $365.90000000000003\n",
      "On the 92th day, Bought 1 shares for $72.59\n",
      "On the 93th day, Bought 0 shares for $0.0\n",
      "On the 96th day, sold 12.508721687060662 shares for $917.389648529029\n",
      "On the 126th day, Bought 6.690753378830456 shares for $500.0\n",
      "On the 127th day, Bought 5 shares for $376.85\n",
      "On the 140th day, sold 11.690753378830456 shares for $873.5330924662117\n",
      "On the 174th day, Bought 7.20772668300418 shares for $500.0\n",
      "On the 175th day, Bought 6 shares for $412.79999999999995\n",
      "On the 178th day, Bought 0 shares for $0.0\n",
      "On the 179th day, Bought 0 shares for $0.0\n",
      "On the 180th day, Bought 0 shares for $0.0\n",
      "On the 182th day, Bought 0 shares for $0.0\n",
      "On the 189th day, sold 13.20772668300418 shares for $895.2197145740233\n",
      "On the 234th day, Bought 7.123521869212139 shares for $500.0\n",
      "On the 236th day, sold 7.123521869212139 shares for $507.33722752528854\n",
      "XLP Final Value: 963.1401747493592, Final Money: 963.1401747493592, Final Shares: 0.0\n"
     ]
    },
    {
     "name": "stderr",
     "output_type": "stream",
     "text": [
      "[*********************100%***********************]  1 of 1 completed\n"
     ]
    },
    {
     "name": "stdout",
     "output_type": "stream",
     "text": [
      "read  2775  lines of data for ticker:  XLV\n"
     ]
    },
    {
     "name": "stderr",
     "output_type": "stream",
     "text": [
      "[*********************100%***********************]  1 of 1 completed\n"
     ]
    },
    {
     "name": "stdout",
     "output_type": "stream",
     "text": [
      "read  251  lines of data for ticker:  XLV\n",
      "On the 30th day, Bought 3.9382482671707626 shares for $500.0\n",
      "On the 130th day, sold 3.9382482671707626 shares for $535.1291745431632\n",
      "On the 150th day, Bought 3.753753753753754 shares for $500.0\n",
      "On the 151th day, Bought 3.7425149700598803 shares for $500.0\n",
      "On the 152th day, Bought 0 shares for $0.0\n",
      "On the 179th day, sold 7.4962687238136345 shares for $955.1745607883333\n",
      "On the 214th day, Bought 3.8517833757029503 shares for $500.0\n",
      "On the 215th day, Bought 2 shares for $260.86\n",
      "On the 216th day, Bought 1 shares for $131.13\n",
      "On the 217th day, Bought 0 shares for $0.0\n"
     ]
    },
    {
     "name": "stderr",
     "output_type": "stream",
     "text": [
      "[*********************100%***********************]  1 of 1 completed"
     ]
    },
    {
     "name": "stdout",
     "output_type": "stream",
     "text": [
      "On the 218th day, Bought 0 shares for $0.0\n",
      "On the 219th day, Bought 0 shares for $0.0\n",
      "On the 220th day, Bought 0 shares for $0.0\n",
      "On the 221th day, Bought 0 shares for $0.0\n",
      "On the 222th day, Bought 0 shares for $0.0\n",
      "XLV Final Value: 1052.3560525643752, Final Money: 98.31373533149645, Final Shares: 6.851783375702951\n",
      "read  2775  lines of data for ticker:  XLV\n"
     ]
    },
    {
     "name": "stderr",
     "output_type": "stream",
     "text": [
      "\n",
      "[*********************100%***********************]  1 of 1 completed\n"
     ]
    },
    {
     "name": "stdout",
     "output_type": "stream",
     "text": [
      "read  251  lines of data for ticker:  XLV\n",
      "On the 30th day, Bought 0 shares for $0.0\n",
      "On the 31th day, Bought 0 shares for $0.0\n",
      "On the 32th day, Bought 0 shares for $0.0\n",
      "On the 33th day, Bought 0 shares for $0.0\n",
      "On the 34th day, Bought 0 shares for $0.0\n",
      "On the 35th day, Bought 0 shares for $0.0\n",
      "On the 36th day, Bought 0 shares for $0.0\n",
      "On the 39th day, Bought 0 shares for $0.0\n",
      "On the 74th day, Bought 0 shares for $0.0\n",
      "On the 85th day, Bought 0 shares for $0.0\n",
      "On the 86th day, Bought 0 shares for $0.0\n",
      "On the 88th day, Bought 0 shares for $0.0\n",
      "On the 122th day, Bought 0 shares for $0.0\n",
      "On the 137th day, Bought 0 shares for $0.0\n",
      "On the 139th day, Bought 0 shares for $0.0\n",
      "On the 179th day, Bought 0 shares for $0.0\n"
     ]
    },
    {
     "name": "stderr",
     "output_type": "stream",
     "text": [
      "[*********************100%***********************]  1 of 1 completed"
     ]
    },
    {
     "name": "stdout",
     "output_type": "stream",
     "text": [
      "On the 215th day, Bought 0 shares for $0.0\n",
      "On the 218th day, Bought 0 shares for $0.0\n",
      "On the 228th day, Bought 0 shares for $0.0\n",
      "On the 242th day, Bought 0 shares for $0.0\n",
      "XLV Final Value: 1000.0, Final Money: 1000.0, Final Shares: 0.0\n",
      "read  2775  lines of data for ticker:  XLV\n"
     ]
    },
    {
     "name": "stderr",
     "output_type": "stream",
     "text": [
      "\n",
      "[*********************100%***********************]  1 of 1 completed\n"
     ]
    },
    {
     "name": "stdout",
     "output_type": "stream",
     "text": [
      "read  251  lines of data for ticker:  XLV\n",
      "On the 31th day, Bought 3.9142007202129325 shares for $500.0\n",
      "On the 91th day, sold 3.9142007202129325 shares for $499.1780178487553\n",
      "On the 154th day, Bought 3.7391564463057136 shares for $500.0\n",
      "On the 166th day, Bought 2 shares for $266.48\n",
      "On the 168th day, Bought 1 shares for $131.45\n",
      "On the 185th day, sold 6.739156446305714 shares for $879.4599162428956\n",
      "On the 220th day, Bought 3.80778310867413 shares for $500.0\n",
      "On the 221th day, Bought 2 shares for $263.66\n",
      "On the 227th day, Bought 1 shares for $132.94\n",
      "On the 228th day, Bought 0 shares for $0.0\n"
     ]
    },
    {
     "name": "stderr",
     "output_type": "stream",
     "text": [
      "[*********************100%***********************]  1 of 1 completed"
     ]
    },
    {
     "name": "stdout",
     "output_type": "stream",
     "text": [
      "XLV Final Value: 1032.023654143437, Final Money: 84.10793409165092, Final Shares: 6.80778310867413\n",
      "read  2775  lines of data for ticker:  XLV\n"
     ]
    },
    {
     "name": "stderr",
     "output_type": "stream",
     "text": [
      "\n",
      "[*********************100%***********************]  1 of 1 completed\n"
     ]
    },
    {
     "name": "stdout",
     "output_type": "stream",
     "text": [
      "read  251  lines of data for ticker:  XLV\n",
      "On the 30th day, Bought 3.9382482671707626 shares for $500.0\n",
      "On the 73th day, sold 3.9382482671707626 shares for $526.3074984247006\n",
      "On the 115th day, Bought 3.7982376177453667 shares for $500.0\n",
      "On the 121th day, sold 3.7982376177453667 shares for $492.631419021574\n",
      "On the 204th day, Bought 3.8955979742890534 shares for $500.0\n",
      "On the 211th day, Bought 3.890747801727492 shares for $500.0\n",
      "On the 212th day, Bought 0 shares for $0.0\n",
      "On the 213th day, Bought 0 shares for $0.0\n",
      "On the 215th day, Bought 0 shares for $0.0\n",
      "On the 216th day, Bought 0 shares for $0.0\n",
      "On the 241th day, sold 7.786345776016546 shares for $1080.5890667955762\n",
      "XLV Final Value: 1099.5279842418506, Final Money: 1099.5279842418506, Final Shares: 0.0\n"
     ]
    },
    {
     "name": "stderr",
     "output_type": "stream",
     "text": [
      "[*********************100%***********************]  1 of 1 completed\n"
     ]
    },
    {
     "name": "stdout",
     "output_type": "stream",
     "text": [
      "read  2775  lines of data for ticker:  XLY\n"
     ]
    },
    {
     "name": "stderr",
     "output_type": "stream",
     "text": [
      "[*********************100%***********************]  1 of 1 completed\n"
     ]
    },
    {
     "name": "stdout",
     "output_type": "stream",
     "text": [
      "read  251  lines of data for ticker:  XLY\n",
      "On the 30th day, Bought 3.4792290028529678 shares for $500.0\n",
      "On the 96th day, sold 3.4792290028529678 shares for $547.8741910792568\n",
      "On the 119th day, Bought 2.943080816999235 shares for $500.0\n",
      "On the 120th day, Bought 2.918685424084992 shares for $500.0\n",
      "On the 121th day, Bought 0 shares for $0.0\n",
      "On the 122th day, Bought 0 shares for $0.0\n",
      "On the 123th day, Bought 0 shares for $0.0\n",
      "On the 124th day, Bought 0 shares for $0.0\n",
      "On the 125th day, Bought 0 shares for $0.0\n",
      "On the 126th day, Bought 0 shares for $0.0\n",
      "On the 127th day, Bought 0 shares for $0.0\n",
      "On the 163th day, Bought 0 shares for $0.0\n",
      "On the 172th day, sold 5.8617662410842275 shares for $943.3340411776848\n",
      "On the 204th day, Bought 3.08242401824795 shares for $500.0\n",
      "On the 205th day, Bought 2 shares for $323.56\n",
      "On the 206th day, Bought 1 shares for $158.76\n"
     ]
    },
    {
     "name": "stderr",
     "output_type": "stream",
     "text": [
      "[*********************100%***********************]  1 of 1 completed"
     ]
    },
    {
     "name": "stdout",
     "output_type": "stream",
     "text": [
      "On the 207th day, Bought 0 shares for $0.0\n",
      "On the 209th day, Bought 0 shares for $0.0\n",
      "On the 216th day, Bought 0 shares for $0.0\n",
      "On the 217th day, Bought 0 shares for $0.0\n",
      "On the 218th day, Bought 0 shares for $0.0\n",
      "On the 219th day, Bought 0 shares for $0.0\n",
      "On the 220th day, Bought 0 shares for $0.0\n",
      "On the 221th day, Bought 0 shares for $0.0\n",
      "XLY Final Value: 1057.1940118019759, Final Money: 8.888232256941649, Final Shares: 6.08242401824795\n",
      "read  2775  lines of data for ticker:  XLY\n"
     ]
    },
    {
     "name": "stderr",
     "output_type": "stream",
     "text": [
      "\n",
      "[*********************100%***********************]  1 of 1 completed\n"
     ]
    },
    {
     "name": "stdout",
     "output_type": "stream",
     "text": [
      "read  251  lines of data for ticker:  XLY\n",
      "On the 30th day, Bought 3.4792290028529678 shares for $500.0\n",
      "On the 32th day, Bought 0 shares for $0.0\n",
      "On the 33th day, Bought 0 shares for $0.0\n",
      "On the 34th day, Bought 0 shares for $0.0\n",
      "On the 35th day, Bought 0 shares for $0.0\n",
      "On the 36th day, Bought 0 shares for $0.0\n",
      "On the 68th day, Bought 0 shares for $0.0\n",
      "On the 78th day, Bought 0 shares for $0.0\n",
      "On the 80th day, Bought 0 shares for $0.0\n",
      "On the 81th day, Bought 0 shares for $0.0\n",
      "On the 82th day, Bought 0 shares for $0.0\n",
      "On the 83th day, Bought 0 shares for $0.0\n",
      "On the 84th day, Bought 0 shares for $0.0\n",
      "On the 107th day, Bought 0 shares for $0.0\n",
      "On the 116th day, sold 3.4792290028529678 shares for $598.1838424605107\n",
      "On the 122th day, Bought 0 shares for $0.0\n",
      "On the 123th day, Bought 0 shares for $0.0\n",
      "On the 124th day, Bought 0 shares for $0.0\n",
      "On the 125th day, Bought 0 shares for $0.0\n",
      "On the 126th day, Bought 0 shares for $0.0\n",
      "On the 163th day, Bought 0 shares for $0.0\n"
     ]
    },
    {
     "name": "stderr",
     "output_type": "stream",
     "text": [
      "[*********************100%***********************]  1 of 1 completed"
     ]
    },
    {
     "name": "stdout",
     "output_type": "stream",
     "text": [
      "On the 204th day, Bought 0 shares for $0.0\n",
      "On the 205th day, Bought 0 shares for $0.0\n",
      "On the 217th day, Bought 0 shares for $0.0\n",
      "On the 218th day, Bought 0 shares for $0.0\n",
      "On the 219th day, Bought 0 shares for $0.0\n",
      "On the 220th day, Bought 0 shares for $0.0\n",
      "XLY Final Value: 1098.1838424605107, Final Money: 1098.1838424605107, Final Shares: 0.0\n",
      "read  2775  lines of data for ticker:  XLY\n"
     ]
    },
    {
     "name": "stderr",
     "output_type": "stream",
     "text": [
      "\n",
      "[*********************100%***********************]  1 of 1 completed\n"
     ]
    },
    {
     "name": "stdout",
     "output_type": "stream",
     "text": [
      "read  251  lines of data for ticker:  XLY\n",
      "On the 30th day, Bought 3.4792290028529678 shares for $500.0\n",
      "On the 96th day, sold 3.4792290028529678 shares for $547.8741910792568\n",
      "On the 108th day, Bought 2.9870362626202285 shares for $500.0\n",
      "On the 109th day, Bought 3.022061045633122 shares for $500.0\n",
      "On the 134th day, Bought 0 shares for $0.0\n",
      "On the 148th day, sold 6.0090973082533505 shares for $977.43976816049\n",
      "On the 162th day, Bought 2.962962962962963 shares for $500.0\n",
      "On the 172th day, sold 2.962962962962963 shares for $476.8296296296296\n"
     ]
    },
    {
     "name": "stderr",
     "output_type": "stream",
     "text": [
      "[*********************100%***********************]  1 of 1 completed"
     ]
    },
    {
     "name": "stdout",
     "output_type": "stream",
     "text": [
      "On the 216th day, Bought 2.9719448407037565 shares for $500.0\n",
      "On the 217th day, Bought 2.967182956501098 shares for $500.0\n",
      "On the 218th day, Bought 0 shares for $0.0\n",
      "On the 219th day, Bought 0 shares for $0.0\n",
      "On the 220th day, Bought 0 shares for $0.0\n",
      "XLY Final Value: 1025.7522647176331, Final Money: 2.143588869376572, Final Shares: 5.939127797204854\n",
      "read  2775  lines of data for ticker:  XLY\n"
     ]
    },
    {
     "name": "stderr",
     "output_type": "stream",
     "text": [
      "\n",
      "[*********************100%***********************]  1 of 1 completed\n"
     ]
    },
    {
     "name": "stdout",
     "output_type": "stream",
     "text": [
      "read  251  lines of data for ticker:  XLY\n",
      "On the 30th day, Bought 0 shares for $0.0\n",
      "On the 31th day, Bought 0 shares for $0.0\n",
      "On the 32th day, Bought 0 shares for $0.0\n",
      "On the 33th day, Bought 0 shares for $0.0\n",
      "On the 34th day, Bought 0 shares for $0.0\n",
      "On the 35th day, Bought 0 shares for $0.0\n",
      "On the 36th day, Bought 0 shares for $0.0\n",
      "On the 37th day, Bought 0 shares for $0.0\n",
      "On the 63th day, Bought 0 shares for $0.0\n",
      "On the 101th day, Bought 0 shares for $0.0\n",
      "On the 103th day, Bought 0 shares for $0.0\n",
      "On the 105th day, Bought 0 shares for $0.0\n",
      "On the 107th day, Bought 0 shares for $0.0\n",
      "On the 126th day, Bought 0 shares for $0.0\n",
      "On the 127th day, Bought 0 shares for $0.0\n",
      "On the 163th day, Bought 0 shares for $0.0\n",
      "On the 218th day, Bought 0 shares for $0.0\n",
      "On the 221th day, Bought 0 shares for $0.0\n",
      "On the 222th day, Bought 0 shares for $0.0\n",
      "On the 230th day, Bought 0 shares for $0.0\n",
      "XLY Final Value: 1000.0, Final Money: 1000.0, Final Shares: 0.0\n"
     ]
    },
    {
     "name": "stderr",
     "output_type": "stream",
     "text": [
      "[*********************100%***********************]  1 of 1 completed\n"
     ]
    },
    {
     "name": "stdout",
     "output_type": "stream",
     "text": [
      "read  2775  lines of data for ticker:  XLU\n"
     ]
    },
    {
     "name": "stderr",
     "output_type": "stream",
     "text": [
      "[*********************100%***********************]  1 of 1 completed\n"
     ]
    },
    {
     "name": "stdout",
     "output_type": "stream",
     "text": [
      "read  251  lines of data for ticker:  XLU\n",
      "On the 53th day, Bought 7.437156031533541 shares for $500.0\n",
      "On the 84th day, sold 7.437156031533541 shares for $493.9015320541424\n",
      "On the 103th day, Bought 7.5505889459377835 shares for $500.0\n",
      "On the 105th day, Bought 6 shares for $403.79999999999995\n",
      "On the 106th day, Bought 1 shares for $65.98\n",
      "On the 124th day, Bought 0 shares for $0.0\n",
      "On the 125th day, Bought 0 shares for $0.0\n",
      "On the 138th day, sold 14.550588945937783 shares for $931.0921866505587\n",
      "On the 146th day, Bought 7.898894154818326 shares for $500.0\n",
      "On the 147th day, Bought 6 shares for $378.96\n",
      "On the 148th day, Bought 1 shares for $63.49\n",
      "On the 149th day, Bought 0 shares for $0.0\n",
      "On the 150th day, Bought 0 shares for $0.0\n",
      "On the 152th day, Bought 0 shares for $0.0\n",
      "On the 175th day, sold 14.898894154818326 shares for $895.870505529226\n"
     ]
    },
    {
     "name": "stderr",
     "output_type": "stream",
     "text": [
      "[*********************100%***********************]  1 of 1 completed"
     ]
    },
    {
     "name": "stdout",
     "output_type": "stream",
     "text": [
      "On the 208th day, Bought 8.389261744966444 shares for $500.00000000000006\n",
      "On the 209th day, Bought 6 shares for $371.88\n",
      "On the 216th day, Bought 0 shares for $0.0\n",
      "On the 217th day, Bought 0 shares for $0.0\n",
      "On the 218th day, Bought 0 shares for $0.0\n",
      "On the 219th day, Bought 0 shares for $0.0\n",
      "On the 220th day, Bought 0 shares for $0.0\n",
      "On the 221th day, Bought 0 shares for $0.0\n",
      "On the 232th day, sold 14.389261744966444 shares for $909.8330201342281\n",
      "XLU Final Value: 946.5872443681553, Final Money: 946.5872443681553, Final Shares: 0.0\n",
      "read  2775  lines of data for ticker:  XLU\n"
     ]
    },
    {
     "name": "stderr",
     "output_type": "stream",
     "text": [
      "\n",
      "[*********************100%***********************]  1 of 1 completed\n"
     ]
    },
    {
     "name": "stdout",
     "output_type": "stream",
     "text": [
      "read  251  lines of data for ticker:  XLU\n",
      "On the 55th day, Bought 7.212925562608195 shares for $500.0\n",
      "On the 65th day, Bought 6 shares for $416.52\n",
      "On the 66th day, Bought 1 shares for $69.62\n",
      "On the 67th day, Bought 0 shares for $0.0\n",
      "On the 111th day, sold 14.212925562608195 shares for $933.6470802077323\n",
      "On the 136th day, Bought 7.547169811320755 shares for $500.0\n",
      "On the 145th day, Bought 6 shares for $378.12\n",
      "On the 149th day, Bought 1 shares for $63.09\n",
      "On the 153th day, Bought 0 shares for $0.0\n",
      "On the 154th day, Bought 0 shares for $0.0\n",
      "On the 155th day, Bought 0 shares for $0.0\n",
      "On the 156th day, Bought 0 shares for $0.0\n",
      "On the 157th day, Bought 0 shares for $0.0\n",
      "On the 175th day, sold 14.547169811320755 shares for $874.721320754717\n"
     ]
    },
    {
     "name": "stderr",
     "output_type": "stream",
     "text": [
      "[*********************100%***********************]  1 of 1 completed"
     ]
    },
    {
     "name": "stdout",
     "output_type": "stream",
     "text": [
      "On the 205th day, Bought 8.223684210526317 shares for $500.00000000000006\n",
      "On the 209th day, Bought 6 shares for $371.88\n",
      "On the 210th day, sold 14.223684210526317 shares for $878.881447368421\n",
      "On the 217th day, Bought 7.963051441312311 shares for $500.0\n",
      "On the 218th day, Bought 6 shares for $377.94\n",
      "On the 219th day, Bought 0 shares for $0.0\n",
      "On the 221th day, Bought 0 shares for $0.0\n",
      "On the 232th day, sold 13.963051441312311 shares for $882.8837426341775\n",
      "XLU Final Value: 892.9635909650476, Final Money: 892.9635909650476, Final Shares: 0.0\n",
      "read  2775  lines of data for ticker:  XLU\n"
     ]
    },
    {
     "name": "stderr",
     "output_type": "stream",
     "text": [
      "\n",
      "[*********************100%***********************]  1 of 1 completed\n"
     ]
    },
    {
     "name": "stdout",
     "output_type": "stream",
     "text": [
      "read  251  lines of data for ticker:  XLU\n",
      "On the 54th day, Bought 7.399733609590055 shares for $500.0\n",
      "On the 84th day, sold 7.399733609590055 shares for $491.41630901287556\n",
      "On the 144th day, Bought 7.805182641273806 shares for $500.0\n",
      "On the 145th day, Bought 6 shares for $378.12\n",
      "On the 151th day, Bought 1 shares for $63.52\n",
      "On the 152th day, Bought 0 shares for $0.0\n",
      "On the 153th day, Bought 0 shares for $0.0\n",
      "On the 175th day, sold 14.805182641273806 shares for $890.235632219794\n",
      "On the 216th day, Bought 7.975753708725475 shares for $500.0\n",
      "On the 217th day, Bought 6 shares for $376.74\n",
      "On the 218th day, Bought 1 shares for $62.99\n",
      "On the 220th day, Bought 0 shares for $0.0\n",
      "On the 221th day, Bought 0 shares for $0.0\n",
      "On the 230th day, sold 14.975753708725474 shares for $974.9215664380283\n"
     ]
    },
    {
     "name": "stderr",
     "output_type": "stream",
     "text": [
      "[*********************100%***********************]  1 of 1 completed"
     ]
    },
    {
     "name": "stdout",
     "output_type": "stream",
     "text": [
      "XLU Final Value: 975.2035076706978, Final Money: 975.2035076706978, Final Shares: 0.0\n",
      "read  2775  lines of data for ticker:  XLU\n"
     ]
    },
    {
     "name": "stderr",
     "output_type": "stream",
     "text": [
      "\n",
      "[*********************100%***********************]  1 of 1 completed\n"
     ]
    },
    {
     "name": "stdout",
     "output_type": "stream",
     "text": [
      "read  251  lines of data for ticker:  XLU\n",
      "On the 53th day, Bought 7.437156031533541 shares for $500.0\n",
      "On the 83th day, sold 7.437156031533541 shares for $495.68644950171057\n",
      "On the 104th day, Bought 7.469375560203167 shares for $499.99999999999994\n",
      "On the 110th day, sold 7.469375560203167 shares for $490.513893038542\n",
      "On the 135th day, Bought 7.547169811320755 shares for $500.0\n",
      "On the 143th day, Bought 6 shares for $387.41999999999996\n",
      "On the 173th day, Bought 1 shares for $63.2\n",
      "On the 175th day, sold 14.547169811320755 shares for $874.721320754717\n",
      "On the 202th day, Bought 8.08276753960556 shares for $500.0\n",
      "On the 203th day, Bought 6 shares for $370.20000000000005\n",
      "On the 214th day, Bought 0 shares for $0.0\n",
      "On the 215th day, Bought 0 shares for $0.0\n",
      "On the 216th day, Bought 0 shares for $0.0\n",
      "On the 217th day, Bought 0 shares for $0.0\n",
      "On the 218th day, Bought 0 shares for $0.0\n",
      "On the 219th day, Bought 0 shares for $0.0\n",
      "On the 221th day, Bought 0 shares for $0.0\n",
      "On the 230th day, sold 14.08276753960556 shares for $916.7881668283219\n",
      "XLU Final Value: 956.8898301232914, Final Money: 956.8898301232914, Final Shares: 0.0\n"
     ]
    },
    {
     "name": "stderr",
     "output_type": "stream",
     "text": [
      "[*********************100%***********************]  1 of 1 completed\n"
     ]
    },
    {
     "name": "stdout",
     "output_type": "stream",
     "text": [
      "read  6038  lines of data for ticker:  XLB\n"
     ]
    },
    {
     "name": "stderr",
     "output_type": "stream",
     "text": [
      "[*********************100%***********************]  1 of 1 completed\n"
     ]
    },
    {
     "name": "stdout",
     "output_type": "stream",
     "text": [
      "read  251  lines of data for ticker:  XLB\n",
      "On the 30th day, Bought 5.710370031978072 shares for $500.0\n",
      "On the 59th day, sold 5.710370031978072 shares for $522.7272727272727\n",
      "On the 83th day, Bought 5.433010974682169 shares for $500.0\n",
      "On the 84th day, Bought 5.472255663784612 shares for $500.0\n",
      "On the 85th day, Bought 0 shares for $0.0\n",
      "On the 86th day, Bought 0 shares for $0.0\n",
      "On the 87th day, Bought 0 shares for $0.0\n",
      "On the 88th day, Bought 0 shares for $0.0\n",
      "On the 127th day, sold 10.905266638466781 shares for $982.6735767922416\n",
      "On the 186th day, Bought 5.214308061320263 shares for $500.0\n",
      "On the 187th day, Bought 5.184570717544587 shares for $500.0\n",
      "On the 188th day, Bought 0 shares for $0.0\n",
      "On the 189th day, Bought 0 shares for $0.0\n",
      "On the 190th day, Bought 0 shares for $0.0\n",
      "On the 191th day, Bought 0 shares for $0.0\n",
      "On the 192th day, Bought 0 shares for $0.0\n",
      "On the 193th day, Bought 0 shares for $0.0\n"
     ]
    },
    {
     "name": "stderr",
     "output_type": "stream",
     "text": [
      "[*********************100%***********************]  1 of 1 completed"
     ]
    },
    {
     "name": "stdout",
     "output_type": "stream",
     "text": [
      "On the 228th day, sold 10.39887877886485 shares for $942.4503837285213\n",
      "XLB Final Value: 947.8512332480357, Final Money: 947.8512332480357, Final Shares: 0.0\n",
      "read  6038  lines of data for ticker:  XLB\n"
     ]
    },
    {
     "name": "stderr",
     "output_type": "stream",
     "text": [
      "\n",
      "[*********************100%***********************]  1 of 1 completed\n"
     ]
    },
    {
     "name": "stdout",
     "output_type": "stream",
     "text": [
      "read  251  lines of data for ticker:  XLB\n",
      "On the 149th day, Bought 5.514503143266792 shares for $500.0\n",
      "On the 231th day, Bought 4 shares for $353.76\n",
      "On the 232th day, Bought 1 shares for $87.95\n"
     ]
    },
    {
     "name": "stderr",
     "output_type": "stream",
     "text": [
      "[*********************100%***********************]  1 of 1 completed"
     ]
    },
    {
     "name": "stdout",
     "output_type": "stream",
     "text": [
      "On the 234th day, sold 10.514503143266792 shares for $888.7909507003419\n",
      "XLB Final Value: 947.0809507003419, Final Money: 947.0809507003419, Final Shares: 0.0\n",
      "read  6038  lines of data for ticker:  XLB\n"
     ]
    },
    {
     "name": "stderr",
     "output_type": "stream",
     "text": [
      "\n",
      "[*********************100%***********************]  1 of 1 completed\n"
     ]
    },
    {
     "name": "stdout",
     "output_type": "stream",
     "text": [
      "read  251  lines of data for ticker:  XLB\n",
      "On the 44th day, Bought 5.4608999563128 shares for $500.0\n",
      "On the 61th day, sold 5.4608999563128 shares for $488.69593709043244\n",
      "On the 106th day, Bought 5.584096493187402 shares for $500.0\n",
      "On the 107th day, Bought 4 shares for $358.52\n",
      "On the 115th day, sold 9.584096493187403 shares for $834.8706455215546\n",
      "On the 185th day, Bought 5.24824183898394 shares for $499.99999999999994\n",
      "On the 186th day, Bought 4 shares for $383.56\n",
      "On the 187th day, Bought 0 shares for $0.0\n"
     ]
    },
    {
     "name": "stderr",
     "output_type": "stream",
     "text": [
      "[*********************100%***********************]  1 of 1 completed"
     ]
    },
    {
     "name": "stdout",
     "output_type": "stream",
     "text": [
      "On the 197th day, sold 9.24824183898394 shares for $876.1784318253384\n",
      "On the 223th day, Bought 5.347593582887701 shares for $500.0\n",
      "On the 234th day, sold 5.347593582887701 shares for $452.03208556149735\n",
      "On the 240th day, Bought 5.966587112171838 shares for $500.0\n",
      "XLB Final Value: 906.057481860398, Final Money: 409.69709999882275, Final Shares: 5.966587112171838\n"
     ]
    },
    {
     "name": "stderr",
     "output_type": "stream",
     "text": [
      "\n"
     ]
    },
    {
     "name": "stdout",
     "output_type": "stream",
     "text": [
      "read  6038  lines of data for ticker:  XLB\n"
     ]
    },
    {
     "name": "stderr",
     "output_type": "stream",
     "text": [
      "[*********************100%***********************]  1 of 1 completed\n"
     ]
    },
    {
     "name": "stdout",
     "output_type": "stream",
     "text": [
      "read  251  lines of data for ticker:  XLB\n",
      "On the 70th day, Bought 5.5853440571939235 shares for $500.0\n",
      "On the 85th day, Bought 4 shares for $368.6\n",
      "On the 87th day, Bought 1 shares for $92.28\n",
      "On the 88th day, Bought 0 shares for $0.0\n",
      "On the 94th day, sold 10.585344057193923 shares for $968.8765415549598\n",
      "On the 104th day, Bought 5.619240278714318 shares for $500.0\n",
      "On the 127th day, sold 5.619240278714318 shares for $506.3497415149472\n",
      "On the 181th day, Bought 5.253756435851634 shares for $500.0\n",
      "On the 183th day, Bought 5.293806246691371 shares for $500.00000000000006\n",
      "On the 184th day, Bought 0 shares for $0.0\n",
      "On the 215th day, sold 10.547562682543006 shares for $986.9354402055491\n",
      "On the 232th day, Bought 5.6850483229107445 shares for $500.0\n",
      "On the 234th day, Bought 5.915059742103395 shares for $500.0\n",
      "On the 236th day, Bought 0 shares for $0.0\n",
      "On the 237th day, Bought 0 shares for $0.0\n",
      "On the 242th day, sold 11.60010806501414 shares for $965.2449920898265\n",
      "XLB Final Value: 966.5267153652825, Final Money: 966.5267153652825, Final Shares: 0.0\n"
     ]
    },
    {
     "name": "stderr",
     "output_type": "stream",
     "text": [
      "[*********************100%***********************]  1 of 1 completed\n"
     ]
    },
    {
     "name": "stdout",
     "output_type": "stream",
     "text": [
      "read  6038  lines of data for ticker:  XLE\n"
     ]
    },
    {
     "name": "stderr",
     "output_type": "stream",
     "text": [
      "[*********************100%***********************]  1 of 1 completed\n"
     ]
    },
    {
     "name": "stdout",
     "output_type": "stream",
     "text": [
      "read  251  lines of data for ticker:  XLE\n",
      "On the 37th day, Bought 5.612932195779075 shares for $500.00000000000006\n",
      "On the 46th day, Bought 4 shares for $369.6\n",
      "On the 47th day, Bought 1 shares for $93.26\n",
      "On the 60th day, sold 10.612932195779075 shares for $1020.2211719802425\n"
     ]
    },
    {
     "name": "stderr",
     "output_type": "stream",
     "text": [
      "[*********************100%***********************]  1 of 1 completed"
     ]
    },
    {
     "name": "stdout",
     "output_type": "stream",
     "text": [
      "On the 191th day, Bought 5.534646889528448 shares for $500.0\n",
      "On the 192th day, Bought 5.551237926057511 shares for $500.0\n",
      "On the 193th day, Bought 0 shares for $0.0\n",
      "On the 194th day, Bought 0 shares for $0.0\n",
      "On the 195th day, Bought 0 shares for $0.0\n",
      "On the 196th day, Bought 0 shares for $0.0\n",
      "On the 197th day, Bought 0 shares for $0.0\n",
      "On the 236th day, sold 11.08588481558596 shares for $930.4383125721297\n",
      "XLE Final Value: 987.7994845523722, Final Money: 987.7994845523722, Final Shares: 0.0\n"
     ]
    },
    {
     "name": "stderr",
     "output_type": "stream",
     "text": [
      "\n"
     ]
    },
    {
     "name": "stdout",
     "output_type": "stream",
     "text": [
      "read  6038  lines of data for ticker:  XLE\n"
     ]
    },
    {
     "name": "stderr",
     "output_type": "stream",
     "text": [
      "[*********************100%***********************]  1 of 1 completed\n"
     ]
    },
    {
     "name": "stdout",
     "output_type": "stream",
     "text": [
      "read  251  lines of data for ticker:  XLE\n",
      "On the 56th day, Bought 5.130309870716191 shares for $499.99999999999994\n",
      "On the 61th day, sold 5.130309870716191 shares for $488.5594089883029\n",
      "On the 172th day, Bought 5.6104129263913824 shares for $500.00000000000006\n",
      "On the 173th day, Bought 4 shares for $355.6\n",
      "On the 174th day, Bought 1 shares for $87.16\n",
      "On the 177th day, sold 10.610412926391383 shares for $931.5942549371634\n",
      "On the 196th day, Bought 5.569789461958338 shares for $500.0\n",
      "On the 197th day, Bought 4 shares for $356.8\n",
      "On the 198th day, Bought 1 shares for $87.84\n",
      "On the 238th day, sold 10.569789461958338 shares for $893.8870947978166\n",
      "XLE Final Value: 926.6407587232829, Final Money: 926.6407587232829, Final Shares: 0.0\n"
     ]
    },
    {
     "name": "stderr",
     "output_type": "stream",
     "text": [
      "[*********************100%***********************]  1 of 1 completed\n"
     ]
    },
    {
     "name": "stdout",
     "output_type": "stream",
     "text": [
      "read  6038  lines of data for ticker:  XLE\n"
     ]
    },
    {
     "name": "stderr",
     "output_type": "stream",
     "text": [
      "[*********************100%***********************]  1 of 1 completed\n"
     ]
    },
    {
     "name": "stdout",
     "output_type": "stream",
     "text": [
      "read  251  lines of data for ticker:  XLE\n",
      "On the 72th day, Bought 5.3464499572284 shares for $500.0\n",
      "On the 74th day, sold 5.3464499572284 shares for $494.86740804106074\n",
      "On the 116th day, Bought 5.4626898284715395 shares for $500.0\n",
      "On the 125th day, sold 5.4626898284715395 shares for $509.2319458101169\n",
      "On the 195th day, Bought 5.56792873051225 shares for $500.00000000000006\n"
     ]
    },
    {
     "name": "stderr",
     "output_type": "stream",
     "text": [
      "[*********************100%***********************]  1 of 1 completed"
     ]
    },
    {
     "name": "stdout",
     "output_type": "stream",
     "text": [
      "On the 205th day, sold 5.56792873051225 shares for $518.5412026726058\n",
      "XLE Final Value: 1022.6405565237835, Final Money: 1022.6405565237835, Final Shares: 0.0\n",
      "read  6038  lines of data for ticker:  XLE\n"
     ]
    },
    {
     "name": "stderr",
     "output_type": "stream",
     "text": [
      "\n",
      "[*********************100%***********************]  1 of 1 completed\n"
     ]
    },
    {
     "name": "stdout",
     "output_type": "stream",
     "text": [
      "read  251  lines of data for ticker:  XLE\n",
      "On the 54th day, Bought 5.152514427040395 shares for $499.99999999999994\n",
      "On the 56th day, Bought 5.130309870716191 shares for $499.99999999999994\n",
      "On the 72th day, Bought 0 shares for $0.0\n",
      "On the 74th day, sold 10.282824297756587 shares for $951.7782170003497\n",
      "On the 116th day, Bought 5.4626898284715395 shares for $500.0\n",
      "On the 117th day, Bought 4 shares for $360.4\n",
      "On the 130th day, sold 9.46268982847154 shares for $854.8593991041189\n",
      "On the 186th day, Bought 5.3873505010235965 shares for $500.0\n",
      "On the 187th day, Bought 4 shares for $371.08\n",
      "On the 226th day, sold 9.387350501023597 shares for $853.0285400280144\n",
      "XLE Final Value: 928.1861561324831, Final Money: 928.1861561324831, Final Shares: 0.0\n"
     ]
    },
    {
     "name": "stderr",
     "output_type": "stream",
     "text": [
      "[*********************100%***********************]  1 of 1 completed\n"
     ]
    },
    {
     "name": "stdout",
     "output_type": "stream",
     "text": [
      "read  6038  lines of data for ticker:  XLF\n"
     ]
    },
    {
     "name": "stderr",
     "output_type": "stream",
     "text": [
      "[*********************100%***********************]  1 of 1 completed\n"
     ]
    },
    {
     "name": "stdout",
     "output_type": "stream",
     "text": [
      "read  251  lines of data for ticker:  XLF\n",
      "On the 84th day, Bought 11.853959222380276 shares for $500.0\n",
      "On the 127th day, sold 11.853959222380276 shares for $507.94215267899483\n"
     ]
    },
    {
     "name": "stderr",
     "output_type": "stream",
     "text": [
      "[*********************100%***********************]  1 of 1 completed"
     ]
    },
    {
     "name": "stdout",
     "output_type": "stream",
     "text": [
      "XLF Final Value: 1007.9421526789948, Final Money: 1007.9421526789948, Final Shares: 0.0\n",
      "read  6038  lines of data for ticker:  XLF\n"
     ]
    },
    {
     "name": "stderr",
     "output_type": "stream",
     "text": [
      "\n",
      "[*********************100%***********************]  1 of 1 completed\n"
     ]
    },
    {
     "name": "stdout",
     "output_type": "stream",
     "text": [
      "read  251  lines of data for ticker:  XLF\n",
      "On the 75th day, Bought 12.330456226880395 shares for $500.0\n",
      "On the 92th day, sold 12.330456226880395 shares for $503.32922318125776\n"
     ]
    },
    {
     "name": "stderr",
     "output_type": "stream",
     "text": [
      "[*********************100%***********************]  1 of 1 completed"
     ]
    },
    {
     "name": "stdout",
     "output_type": "stream",
     "text": [
      "XLF Final Value: 1003.3292231812577, Final Money: 1003.3292231812577, Final Shares: 0.0\n",
      "read  6038  lines of data for ticker:  XLF\n"
     ]
    },
    {
     "name": "stderr",
     "output_type": "stream",
     "text": [
      "\n",
      "[*********************100%***********************]  1 of 1 completed\n"
     ]
    },
    {
     "name": "stdout",
     "output_type": "stream",
     "text": [
      "read  251  lines of data for ticker:  XLF\n",
      "On the 101th day, Bought 12.239902080783354 shares for $500.00000000000006\n",
      "On the 123th day, sold 12.239902080783354 shares for $526.3157894736843\n",
      "On the 174th day, Bought 11.163206072784103 shares for $499.99999999999994\n",
      "On the 180th day, Bought 11.138338159946535 shares for $499.99999999999994\n",
      "On the 187th day, sold 22.301544232730638 shares for $1043.7122700917937\n",
      "XLF Final Value: 1070.0280595654779, Final Money: 1070.0280595654779, Final Shares: 0.0\n"
     ]
    },
    {
     "name": "stderr",
     "output_type": "stream",
     "text": [
      "[*********************100%***********************]  1 of 1 completed\n"
     ]
    },
    {
     "name": "stdout",
     "output_type": "stream",
     "text": [
      "read  6038  lines of data for ticker:  XLF\n"
     ]
    },
    {
     "name": "stderr",
     "output_type": "stream",
     "text": [
      "[*********************100%***********************]  1 of 1 completed\n"
     ]
    },
    {
     "name": "stdout",
     "output_type": "stream",
     "text": [
      "read  251  lines of data for ticker:  XLF\n",
      "On the 74th day, Bought 12.357884330202669 shares for $500.0\n",
      "On the 77th day, Bought 12.132977432661974 shares for $499.99999999999994\n",
      "On the 78th day, Bought 0 shares for $0.0\n",
      "On the 79th day, Bought 0 shares for $0.0\n",
      "On the 80th day, Bought 0 shares for $0.0\n",
      "On the 81th day, Bought 0 shares for $0.0\n",
      "On the 82th day, Bought 0 shares for $0.0\n",
      "On the 90th day, sold 24.490861762864643 shares for $1019.0647579527978\n",
      "On the 194th day, Bought 10.613457864572277 shares for $500.0\n",
      "On the 195th day, Bought 10.604453870625663 shares for $500.0\n",
      "On the 196th day, Bought 0 shares for $0.0\n",
      "On the 204th day, sold 21.21791173519794 shares for $1051.347526479058\n",
      "XLF Final Value: 1070.4122844318558, Final Money: 1070.4122844318558, Final Shares: 0.0\n"
     ]
    },
    {
     "name": "stderr",
     "output_type": "stream",
     "text": [
      "[*********************100%***********************]  1 of 1 completed\n"
     ]
    },
    {
     "name": "stdout",
     "output_type": "stream",
     "text": [
      "read  6038  lines of data for ticker:  XLI\n"
     ]
    },
    {
     "name": "stderr",
     "output_type": "stream",
     "text": [
      "[*********************100%***********************]  1 of 1 completed\n"
     ]
    },
    {
     "name": "stdout",
     "output_type": "stream",
     "text": [
      "read  251  lines of data for ticker:  XLI\n",
      "On the 30th day, Bought 4.132231404958677 shares for $499.99999999999994\n",
      "On the 31th day, Bought 4.114549045424622 shares for $500.0\n",
      "On the 56th day, sold 8.246780450383298 shares for $1034.5586075005847\n",
      "On the 81th day, Bought 3.9952057530962843 shares for $500.0\n",
      "On the 82th day, Bought 3.99616368286445 shares for $500.0\n",
      "On the 83th day, Bought 0 shares for $0.0\n",
      "On the 84th day, Bought 0 shares for $0.0\n",
      "On the 85th day, Bought 0 shares for $0.0\n",
      "On the 86th day, Bought 0 shares for $0.0\n",
      "On the 87th day, Bought 0 shares for $0.0\n",
      "On the 88th day, Bought 0 shares for $0.0\n",
      "On the 96th day, sold 7.991369435960735 shares for $972.5496603564214\n",
      "On the 151th day, Bought 3.90625 shares for $500.0\n",
      "On the 152th day, Bought 3.8675742574257423 shares for $500.0\n",
      "On the 153th day, Bought 0 shares for $0.0\n",
      "On the 154th day, Bought 0 shares for $0.0\n",
      "On the 155th day, Bought 0 shares for $0.0\n",
      "On the 205th day, sold 7.773824257425742 shares for $1092.844214108911\n"
     ]
    },
    {
     "name": "stderr",
     "output_type": "stream",
     "text": [
      "[*********************100%***********************]  1 of 1 completed"
     ]
    },
    {
     "name": "stdout",
     "output_type": "stream",
     "text": [
      "XLI Final Value: 1099.9524819659173, Final Money: 1099.9524819659173, Final Shares: 0.0\n",
      "read  6038  lines of data for ticker:  XLI\n"
     ]
    },
    {
     "name": "stderr",
     "output_type": "stream",
     "text": [
      "\n",
      "[*********************100%***********************]  1 of 1 completed\n"
     ]
    },
    {
     "name": "stdout",
     "output_type": "stream",
     "text": [
      "read  251  lines of data for ticker:  XLI\n",
      "On the 80th day, Bought 3.9783577339274347 shares for $500.0\n",
      "On the 95th day, sold 3.9783577339274347 shares for $485.35964353914704\n",
      "On the 154th day, Bought 3.869370066553165 shares for $500.0\n",
      "On the 155th day, Bought 2 shares for $258.32\n",
      "On the 204th day, sold 5.869370066553165 shares for $830.1050085126142\n"
     ]
    },
    {
     "name": "stderr",
     "output_type": "stream",
     "text": [
      "[*********************100%***********************]  1 of 1 completed"
     ]
    },
    {
     "name": "stdout",
     "output_type": "stream",
     "text": [
      "XLI Final Value: 1057.1446520517613, Final Money: 1057.1446520517613, Final Shares: 0.0\n",
      "read  6038  lines of data for ticker:  XLI\n"
     ]
    },
    {
     "name": "stderr",
     "output_type": "stream",
     "text": [
      "\n",
      "[*********************100%***********************]  1 of 1 completed\n"
     ]
    },
    {
     "name": "stdout",
     "output_type": "stream",
     "text": [
      "read  251  lines of data for ticker:  XLI\n",
      "On the 41th day, Bought 4.097017371353655 shares for $500.00000000000006\n",
      "On the 46th day, sold 4.097017371353655 shares for $512.987545067191\n",
      "On the 86th day, Bought 3.9818427968463808 shares for $500.0\n",
      "On the 87th day, Bought 3.9948865452221156 shares for $500.0\n",
      "On the 88th day, Bought 0 shares for $0.0\n",
      "On the 93th day, sold 7.976729342068497 shares for $973.4002816126186\n"
     ]
    },
    {
     "name": "stderr",
     "output_type": "stream",
     "text": [
      "[*********************100%***********************]  1 of 1 completed"
     ]
    },
    {
     "name": "stdout",
     "output_type": "stream",
     "text": [
      "XLI Final Value: 986.3878266798096, Final Money: 986.3878266798096, Final Shares: 0.0\n",
      "read  6038  lines of data for ticker:  XLI\n"
     ]
    },
    {
     "name": "stderr",
     "output_type": "stream",
     "text": [
      "\n",
      "[*********************100%***********************]  1 of 1 completed\n"
     ]
    },
    {
     "name": "stdout",
     "output_type": "stream",
     "text": [
      "read  251  lines of data for ticker:  XLI\n",
      "On the 87th day, Bought 3.9948865452221156 shares for $500.0\n",
      "On the 89th day, Bought 3 shares for $371.49\n",
      "On the 92th day, sold 6.994886545222116 shares for $847.7802492809204\n",
      "On the 197th day, Bought 3.681885125184094 shares for $500.0\n",
      "On the 205th day, sold 3.681885125184094 shares for $517.59941089838\n",
      "On the 232th day, Bought 3.668647736444347 shares for $500.0\n",
      "XLI Final Value: 980.7925877601942, Final Money: 493.88966017930045, Final Shares: 3.668647736444347\n"
     ]
    },
    {
     "name": "stderr",
     "output_type": "stream",
     "text": [
      "[*********************100%***********************]  1 of 1 completed\n"
     ]
    },
    {
     "name": "stdout",
     "output_type": "stream",
     "text": [
      "read  6038  lines of data for ticker:  XLK\n"
     ]
    },
    {
     "name": "stderr",
     "output_type": "stream",
     "text": [
      "[*********************100%***********************]  1 of 1 completed\n"
     ]
    },
    {
     "name": "stdout",
     "output_type": "stream",
     "text": [
      "read  251  lines of data for ticker:  XLK\n",
      "On the 30th day, Bought 2.4156923374239057 shares for $499.99999999999994\n",
      "On the 31th day, Bought 2.3723666729929778 shares for $500.0\n",
      "On the 32th day, Bought 0 shares for $0.0\n",
      "On the 33th day, Bought 0 shares for $0.0\n",
      "On the 34th day, Bought 0 shares for $0.0\n",
      "On the 35th day, Bought 0 shares for $0.0\n",
      "On the 36th day, Bought 0 shares for $0.0\n",
      "On the 83th day, Bought 0 shares for $0.0\n",
      "On the 84th day, Bought 0 shares for $0.0\n",
      "On the 85th day, Bought 0 shares for $0.0\n",
      "On the 86th day, Bought 0 shares for $0.0\n",
      "On the 87th day, Bought 0 shares for $0.0\n",
      "On the 125th day, sold 4.788059010416884 shares for $1074.248919577132\n",
      "On the 178th day, Bought 2.2700444928720604 shares for $500.0\n",
      "On the 198th day, Bought 2.142979598834219 shares for $500.0\n",
      "On the 205th day, sold 4.41302409170628 shares for $1047.740179852905\n"
     ]
    },
    {
     "name": "stderr",
     "output_type": "stream",
     "text": [
      "[*********************100%***********************]  1 of 1 completed"
     ]
    },
    {
     "name": "stdout",
     "output_type": "stream",
     "text": [
      "XLK Final Value: 1121.989099430037, Final Money: 1121.989099430037, Final Shares: 0.0\n",
      "read  6038  lines of data for ticker:  XLK\n"
     ]
    },
    {
     "name": "stderr",
     "output_type": "stream",
     "text": [
      "\n",
      "[*********************100%***********************]  1 of 1 completed\n"
     ]
    },
    {
     "name": "stdout",
     "output_type": "stream",
     "text": [
      "read  251  lines of data for ticker:  XLK\n",
      "On the 83th day, Bought 2.3470872647045016 shares for $500.0\n",
      "On the 110th day, sold 2.3470872647045016 shares for $531.6152654555696\n",
      "On the 178th day, Bought 2.2700444928720604 shares for $500.0\n",
      "On the 186th day, Bought 2.1662839565010183 shares for $500.00000000000006\n",
      "On the 187th day, Bought 0 shares for $0.0\n"
     ]
    },
    {
     "name": "stderr",
     "output_type": "stream",
     "text": [
      "[*********************100%***********************]  1 of 1 completed"
     ]
    },
    {
     "name": "stdout",
     "output_type": "stream",
     "text": [
      "On the 196th day, Bought 0 shares for $0.0\n",
      "On the 197th day, Bought 0 shares for $0.0\n",
      "On the 198th day, Bought 0 shares for $0.0\n",
      "On the 205th day, sold 4.436328449373079 shares for $1053.2731004501563\n",
      "On the 219th day, Bought 2.159081095085931 shares for $499.99999999999994\n",
      "On the 237th day, sold 2.159081095085931 shares for $519.323775801019\n",
      "XLK Final Value: 1104.2121417067447, Final Money: 1104.2121417067447, Final Shares: 0.0\n"
     ]
    },
    {
     "name": "stderr",
     "output_type": "stream",
     "text": [
      "\n"
     ]
    },
    {
     "name": "stdout",
     "output_type": "stream",
     "text": [
      "read  6038  lines of data for ticker:  XLK\n"
     ]
    },
    {
     "name": "stderr",
     "output_type": "stream",
     "text": [
      "[*********************100%***********************]  1 of 1 completed\n"
     ]
    },
    {
     "name": "stdout",
     "output_type": "stream",
     "text": [
      "read  251  lines of data for ticker:  XLK\n",
      "On the 93th day, Bought 2.3828813801648954 shares for $500.0\n",
      "On the 105th day, sold 2.3828813801648954 shares for $550.7315445837106\n",
      "On the 155th day, Bought 2.2787348464132715 shares for $500.0\n",
      "On the 156th day, Bought 2.299484915378955 shares for $499.99999999999994\n",
      "On the 157th day, Bought 0 shares for $0.0\n",
      "On the 158th day, Bought 0 shares for $0.0\n",
      "On the 177th day, Bought 0 shares for $0.0\n"
     ]
    },
    {
     "name": "stderr",
     "output_type": "stream",
     "text": [
      "[*********************100%***********************]  1 of 1 completed"
     ]
    },
    {
     "name": "stdout",
     "output_type": "stream",
     "text": [
      "On the 201th day, sold 4.5782197617922264 shares for $1025.1091868628973\n",
      "XLK Final Value: 1075.840731446608, Final Money: 1075.840731446608, Final Shares: 0.0\n",
      "read  6038  lines of data for ticker:  XLK\n"
     ]
    },
    {
     "name": "stderr",
     "output_type": "stream",
     "text": [
      "\n",
      "[*********************100%***********************]  1 of 1 completed\n"
     ]
    },
    {
     "name": "stdout",
     "output_type": "stream",
     "text": [
      "read  251  lines of data for ticker:  XLK\n",
      "On the 101th day, Bought 2.270972430394695 shares for $499.99999999999994\n",
      "On the 103th day, sold 2.270972430394695 shares for $515.1019666621247\n",
      "On the 173th day, Bought 2.2360359554581635 shares for $499.99999999999994\n",
      "On the 174th day, Bought 2.229654403567447 shares for $500.0\n",
      "On the 178th day, Bought 0 shares for $0.0\n",
      "On the 196th day, Bought 0 shares for $0.0\n",
      "On the 201th day, sold 4.4656903590256105 shares for $999.9127282894244\n",
      "XLK Final Value: 1015.0146949515492, Final Money: 1015.0146949515492, Final Shares: 0.0\n"
     ]
    },
    {
     "name": "stderr",
     "output_type": "stream",
     "text": [
      "[*********************100%***********************]  1 of 1 completed\n"
     ]
    },
    {
     "name": "stdout",
     "output_type": "stream",
     "text": [
      "read  6038  lines of data for ticker:  XLP\n"
     ]
    },
    {
     "name": "stderr",
     "output_type": "stream",
     "text": [
      "[*********************100%***********************]  1 of 1 completed\n"
     ]
    },
    {
     "name": "stdout",
     "output_type": "stream",
     "text": [
      "read  251  lines of data for ticker:  XLP\n",
      "On the 31th day, Bought 6.715014773032501 shares for $500.0\n",
      "On the 62th day, sold 6.715014773032501 shares for $490.9347300564062\n",
      "On the 121th day, Bought 6.484243288808196 shares for $500.0\n",
      "On the 122th day, Bought 5 shares for $387.25\n",
      "On the 123th day, Bought 1 shares for $77.0\n",
      "On the 124th day, Bought 0 shares for $0.0\n",
      "On the 135th day, sold 12.484243288808196 shares for $971.898340033718\n",
      "On the 188th day, Bought 6.06134076857801 shares for $500.0\n",
      "On the 196th day, Bought 5 shares for $405.3\n",
      "On the 202th day, Bought 1 shares for $80.37\n",
      "On the 203th day, Bought 0 shares for $0.0\n",
      "On the 204th day, Bought 0 shares for $0.0\n",
      "On the 205th day, sold 12.06134076857801 shares for $963.098060370954\n"
     ]
    },
    {
     "name": "stderr",
     "output_type": "stream",
     "text": [
      "[*********************100%***********************]  1 of 1 completed"
     ]
    },
    {
     "name": "stdout",
     "output_type": "stream",
     "text": [
      "XLP Final Value: 976.0111304610782, Final Money: 976.0111304610782, Final Shares: 0.0\n",
      "read  6038  lines of data for ticker:  XLP\n"
     ]
    },
    {
     "name": "stderr",
     "output_type": "stream",
     "text": [
      "\n",
      "[*********************100%***********************]  1 of 1 completed\n"
     ]
    },
    {
     "name": "stdout",
     "output_type": "stream",
     "text": [
      "read  251  lines of data for ticker:  XLP\n",
      "On the 31th day, Bought 6.715014773032501 shares for $500.0\n",
      "On the 54th day, sold 6.715014773032501 shares for $498.32124630674184\n",
      "On the 110th day, Bought 6.459113809585325 shares for $500.0\n",
      "On the 113th day, Bought 5 shares for $382.9\n",
      "On the 114th day, Bought 1 shares for $76.04\n",
      "On the 139th day, sold 12.459113809585325 shares for $974.8010644619558\n",
      "On the 151th day, Bought 6.126700159294204 shares for $500.0\n",
      "On the 178th day, Bought 6.044487427466151 shares for $500.0\n",
      "On the 179th day, Bought 0 shares for $0.0\n"
     ]
    },
    {
     "name": "stderr",
     "output_type": "stream",
     "text": [
      "[*********************100%***********************]  1 of 1 completed"
     ]
    },
    {
     "name": "stdout",
     "output_type": "stream",
     "text": [
      "On the 205th day, sold 12.171187586760354 shares for $971.8693288028142\n",
      "XLP Final Value: 986.0516395715118, Final Money: 986.0516395715118, Final Shares: 0.0\n",
      "read  6038  lines of data for ticker:  XLP\n"
     ]
    },
    {
     "name": "stderr",
     "output_type": "stream",
     "text": [
      "\n",
      "[*********************100%***********************]  1 of 1 completed\n"
     ]
    },
    {
     "name": "stdout",
     "output_type": "stream",
     "text": [
      "read  251  lines of data for ticker:  XLP\n",
      "On the 31th day, Bought 6.715014773032501 shares for $500.0\n",
      "On the 55th day, sold 6.715014773032501 shares for $499.1270480795058\n",
      "On the 101th day, Bought 6.446621970087674 shares for $500.0\n",
      "On the 102th day, Bought 5 shares for $383.54999999999995\n",
      "On the 112th day, Bought 1 shares for $76.92\n",
      "On the 124th day, Bought 0 shares for $0.0\n",
      "On the 126th day, sold 12.446621970087673 shares for $975.1928313563691\n",
      "On the 165th day, Bought 5.999520038396928 shares for $500.0\n",
      "On the 166th day, Bought 5.957345406886691 shares for $500.0\n",
      "On the 175th day, Bought 0 shares for $0.0\n",
      "On the 176th day, Bought 0 shares for $0.0\n",
      "On the 177th day, Bought 0 shares for $0.0\n",
      "On the 178th day, Bought 0 shares for $0.0\n",
      "On the 181th day, sold 11.956865445283618 shares for $974.1258278272563\n"
     ]
    },
    {
     "name": "stderr",
     "output_type": "stream",
     "text": [
      "[*********************100%***********************]  1 of 1 completed"
     ]
    },
    {
     "name": "stdout",
     "output_type": "stream",
     "text": [
      "XLP Final Value: 987.9757072631313, Final Money: 987.9757072631313, Final Shares: 0.0\n",
      "read  6038  lines of data for ticker:  XLP\n"
     ]
    },
    {
     "name": "stderr",
     "output_type": "stream",
     "text": [
      "\n",
      "[*********************100%***********************]  1 of 1 completed\n"
     ]
    },
    {
     "name": "stdout",
     "output_type": "stream",
     "text": [
      "read  251  lines of data for ticker:  XLP\n",
      "On the 102th day, Bought 6.518055012384305 shares for $499.99999999999994\n",
      "On the 107th day, Bought 6.442468754026543 shares for $500.0\n",
      "On the 108th day, Bought 0 shares for $0.0\n",
      "On the 109th day, Bought 0 shares for $0.0\n",
      "On the 110th day, Bought 0 shares for $0.0\n",
      "On the 111th day, Bought 0 shares for $0.0\n",
      "On the 126th day, sold 12.960523766410848 shares for $1015.4570370982899\n",
      "On the 150th day, Bought 6.117704637220115 shares for $500.0\n",
      "On the 151th day, Bought 6.126700159294204 shares for $500.0\n",
      "On the 170th day, sold 12.244404796514319 shares for $1012.0000564319085\n",
      "XLP Final Value: 1027.4570935301986, Final Money: 1027.4570935301986, Final Shares: 0.0\n"
     ]
    },
    {
     "name": "stderr",
     "output_type": "stream",
     "text": [
      "[*********************100%***********************]  1 of 1 completed\n"
     ]
    },
    {
     "name": "stdout",
     "output_type": "stream",
     "text": [
      "read  6038  lines of data for ticker:  XLV\n"
     ]
    }
   ],
   "source": [
    "num=10000\n",
    "for file in os.listdir('../output'):\n",
    "    if \"runtest\" in file:\n",
    "        num+=1\n",
    "os.mkdir(f'../output/runtest_{num}')\n",
    "for d,(start,end,start_t,end_t) in enumerate(date_list):\n",
    "    os.mkdir(f'../output/runtest_{num}/date_config{d}')\n",
    "    for model_type in models:\n",
    "        os.mkdir(f'../output/runtest_{num}/date_config{d}/{model_type}')\n",
    "        root = f'../output/runtest_{num}/date_config{d}/{model_type}'\n",
    "        with open(os.path.join(root,'run_data.txt'),'w') as f:\n",
    "            f.write(f'Start Training Date: {start} \\n End Training Date: {end} \\n Start Sim Date: {start_t} \\n End Sim Date: {end_t} \\n')\n",
    "            f.write(f'\\n Model Type: {model_type}')\n",
    "            f.write(f'Look-back window: {T} days')\n",
    "\n",
    "        for etf in etfs:\n",
    "            os.mkdir(f'{root}/{etf}')\n",
    "        for lr in lrs:\n",
    "            results = pd.DataFrame({\"ETF\":[],\"Metric\":[],\"Final_Value\":[],\"Passive_Potential\":[],\"Relative_MSE\":[],\"MAPE\":[],\"DM_stat\":[],\"DM_p\":[]})\n",
    "            money_df_std = pd.DataFrame()\n",
    "            money_df_atr = pd.DataFrame()\n",
    "            money_df_sd_prices = pd.DataFrame()\n",
    "            money_df_iqr = pd.DataFrame()\n",
    "            money_df_passive = pd.DataFrame()\n",
    "            for j,etf in enumerate(etfs):\n",
    "                #fig,ax = plt.subplots(1,len(metrics),figsize=(26,6))\n",
    "                fig,ax = plt.subplots(2,2,figsize=(25,18))\n",
    "                atr_preds = []\n",
    "                for i,metric in enumerate(metrics):\n",
    "                    scaler = StandardScaler()\n",
    "                    scaler_x = StandardScaler()\n",
    "                    df = get_cleaned_df(etf,start,end)\n",
    "                    #print(df)\n",
    "                    model,fig_tr,fig_te = get_trained_model(df,scaler, scaler_x, metric=metric,model_type=model_type)\n",
    "                    fig_tr.savefig(os.path.join(root,etf,f'training_results_{metric}'))\n",
    "                    fig_te.savefig(os.path.join(root,etf,f'testing_results_{metric}'))\n",
    "                    df_test = get_cleaned_df(etf,start_t,end_t)\n",
    "                    ini_cash = 10000\n",
    "                    final_value, money, shares,passive_value,buy_points,sell_points,preds, t_money,p_money = backtest_strategy_mr(df_test,model,scaler,scaler_x,metric,sell_scale=1.7,buy_scale=1.7)\n",
    "                    print(f\"{etf} Final Value: {final_value}, Final Money: {money}, Final Shares: {shares}\")\n",
    "                    \n",
    "                    real_met = np.array(df_test[metric].iloc[T:len(df_test)-1])\n",
    "                    atr_met = np.array(df_test[\"ATR\"].iloc[T:len(df_test)-1])\n",
    "                    null_model_error = np.sum((real_met-real_met.mean())**2)\n",
    "                    mse_error = 1/len(real_met) * np.sum((real_met-preds)**2)/null_model_error\n",
    "                    mape_error = 1/len(real_met) * np.sum(abs(real_met-preds)/(real_met+1e-8))\n",
    "                    if metric==\"ATR\": #atr should go first\n",
    "                        money_df_atr[etf] = t_money\n",
    "                        atr_preds = preds\n",
    "                    elif metric==\"SD_Squared_Returns\":\n",
    "                        money_df_std[etf] = t_money\n",
    "                        money_df_passive[f\"{etf}_Passive\"] = p_money\n",
    "                    elif metric == \"SD_Prices\":\n",
    "                        money_df_sd_prices[etf] = t_money\n",
    "                    elif metric == \"IQR\":\n",
    "                        money_df_iqr[etf] = t_money\n",
    "\n",
    "                    dm,p = diebold_mariano_test(atr_met,atr_preds,real_met,preds,loss=\"mae\")\n",
    "                    results.loc[len(results)] = [etf,metric,final_value,passive_value,mse_error,mape_error,dm,p]\n",
    "\n",
    "                    sns.lineplot(preds,ax=ax[i//2][i%2],label=f\"Prediction {metric}\",color=\"Blue\",linestyle = '--')\n",
    "                    sns.lineplot(real_met,ax=ax[i//2][i%2],label = f\"True {metric}\",color=\"Orange\")\n",
    "                    sns.despine(ax=ax[i//2][i%2])\n",
    "                    #for buy in buy_points:\n",
    "                        #ax[i].axvline(buy,color=\"Green\",alpha=.6)\n",
    "                    #for sell in sell_points:\n",
    "                        #ax[i].axvline(sell,color=\"Red\",alpha=.6)\n",
    "                    ax[i//2][i%2].set_title(f\"{etf} - {metric} \")\n",
    "                    ax[i//2][i%2].set_xlabel(f'Total MSE Error {mse_error:.6f} | Total MAPE Error: {mape_error:.3f}')\n",
    "                    customize_ax(ax[i//2][i%2])\n",
    "                    #plt.title(f\"Performance of LSTM on {etf}\")\n",
    "                fig.supylabel(\"Volatility Metric\")\n",
    "                fig.supxlabel(f\"Days after {start_t}\")\n",
    "                fig.tight_layout()\n",
    "                fig.savefig(os.path.join(root,etf,'predictions_lr_{lr}.png'))\n",
    "                fig_sim,ax_sim = plt.subplots(figsize=(10,3))\n",
    "                sns.lineplot(x=range(0, len(df_test.index)-(T+1)), y=money_df_atr[etf], label=\"ATR\",ax=ax_sim)\n",
    "                sns.lineplot(x=range(0,len(df_test.index)-(T+1)),y=money_df_std[etf],label=\"SD_Squared_Returns\",ax=ax_sim)\n",
    "                sns.lineplot(x=range(0,len(df_test.index)-(T+1)),y=money_df_sd_prices[etf],label=\"SD_Prices\",ax=ax_sim)\n",
    "                sns.lineplot(x=range(0,len(df_test.index)-(T+1)),y=money_df_passive[f\"{etf}_Passive\"],label=\"Passive\",ax=ax_sim)\n",
    "                sns.lineplot(x=range(0,len(df_test.index)-(T+1)),y=money_df_iqr[etf],label=\"IQR\",ax=ax_sim)\n",
    "                sns.despine(ax=ax_sim)\n",
    "                ax_sim.axhline(1000, label = \"Initial\",color=\"Black\")\n",
    "                ax_sim.set_xlabel(f\"Days after {start_t}\")\n",
    "                ax_sim.set_title(f\"ETF Performance Over Time for {etf}\")\n",
    "                customize_ax(ax_sim)\n",
    "                fig_sim.savefig(os.path.join(root,etf,'simulation_perf_lr_{lr}'))\n",
    "                \n",
    "            fig2,ax2 = plt.subplots(figsize = (8,6))\n",
    "            sns.barplot(data=results,x=\"ETF\",y=\"Final_Value\",hue=\"Metric\",ax=ax2) \n",
    "            sns.despine(ax=ax2)   \n",
    "            plt.legend(loc=(1.1,1))\n",
    "            fig2.tight_layout()\n",
    "            customize_ax(ax2)\n",
    "            fig2.savefig(os.path.join(root,'return_metrics_lr_{lr}.png'))\n",
    "            results.to_csv(os.path.join(root,'overall_results.csv'),index=False)"
   ]
  },
  {
   "cell_type": "code",
   "execution_count": null,
   "id": "aa29a250",
   "metadata": {},
   "outputs": [],
   "source": [
    "os.listdir()"
   ]
  },
  {
   "cell_type": "code",
   "execution_count": null,
   "id": "d98e91eb",
   "metadata": {},
   "outputs": [],
   "source": [
    "for i in range(32,41):\n",
    "    df = pd.read_csv(f'runtest_{i}/overall_results.csv')\n",
    "    print(i,df.groupby('Metric')['Relative_MSE'].mean())"
   ]
  },
  {
   "cell_type": "code",
   "execution_count": null,
   "id": "d2be5dc6",
   "metadata": {},
   "outputs": [],
   "source": [
    "scaler_x = StandardScaler()\n",
    "scaler = StandardScaler()\n",
    "start,end,start_t,end_t = date_list[1]\n",
    "df_xlp = get_cleaned_df('XLP',start,end)\n",
    "df_xlp_test = get_cleaned_df('XLP',start_t,end_t)\n",
    "model,fig_tr,fig_te = get_trained_model(df_xlp,scaler, scaler_x, metric=\"SD_Squared_Returns\",model_type=\"LSTM\")\n",
    "final_value, money, shares,passive_value,buy_points,sell_points,preds, t_money,p_money = backtest_strategy_mr(df_xlp_test,model,scaler,scaler_x,\"SD_Squared_Returns\",sell_scale=1.7,buy_scale=1.7)"
   ]
  },
  {
   "cell_type": "code",
   "execution_count": null,
   "id": "6569d81e",
   "metadata": {},
   "outputs": [],
   "source": [
    "sns.lineplot(t_money)"
   ]
  },
  {
   "cell_type": "code",
   "execution_count": null,
   "id": "693fd171",
   "metadata": {},
   "outputs": [],
   "source": []
  }
 ],
 "metadata": {
  "kernelspec": {
   "display_name": "Python 3",
   "language": "python",
   "name": "python3"
  },
  "language_info": {
   "codemirror_mode": {
    "name": "ipython",
    "version": 3
   },
   "file_extension": ".py",
   "mimetype": "text/x-python",
   "name": "python",
   "nbconvert_exporter": "python",
   "pygments_lexer": "ipython3",
   "version": "3.9.13"
  }
 },
 "nbformat": 4,
 "nbformat_minor": 5
}
