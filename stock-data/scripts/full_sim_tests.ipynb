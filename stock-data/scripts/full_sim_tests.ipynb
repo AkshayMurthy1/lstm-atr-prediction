{
 "cells": [
  {
   "cell_type": "code",
   "execution_count": 1,
   "id": "f3dd4010",
   "metadata": {},
   "outputs": [],
   "source": [
    "import torch\n",
    "from torch.nn import *\n",
    "import torch.nn.functional as F\n",
    "from pandas_datareader import data as web\n",
    "import os\n",
    "import pandas as pd\n",
    "import yfinance as yf\n",
    "import matplotlib.pyplot as plt\n",
    "import seaborn as sns\n",
    "from torch.utils.data import DataLoader, TensorDataset\n",
    "from sklearn.preprocessing import StandardScaler\n",
    "import numpy as np\n",
    "import warnings\n",
    "warnings.filterwarnings(\"ignore\")\n",
    "from diebold_mariano import diebold_mariano_test"
   ]
  },
  {
   "cell_type": "code",
   "execution_count": 2,
   "id": "e1dfba1e",
   "metadata": {},
   "outputs": [
    {
     "name": "stdout",
     "output_type": "stream",
     "text": [
      "DEVICE:  cuda\n"
     ]
    }
   ],
   "source": [
    "from utils import *"
   ]
  },
  {
   "cell_type": "code",
   "execution_count": 3,
   "id": "3414ddb9",
   "metadata": {},
   "outputs": [],
   "source": [
    "T=30"
   ]
  },
  {
   "cell_type": "code",
   "execution_count": 4,
   "id": "0cff2509",
   "metadata": {},
   "outputs": [],
   "source": [
    "import os\n",
    "import seaborn as sns\n",
    "import matplotlib.pyplot as plt\n",
    "import pandas as pd\n",
    "import matplotlib\n",
    "\n",
    "# Set consistent style for publication-quality plots\n",
    "sns.set(style=\"whitegrid\", context=\"talk\", palette=\"colorblind\")\n",
    "matplotlib.rcParams.update({\n",
    "    \"axes.titlesize\": 14,\n",
    "    \"axes.labelsize\": 12,\n",
    "    \"xtick.labelsize\": 10,\n",
    "    \"ytick.labelsize\": 10,\n",
    "    \"legend.fontsize\": 10,\n",
    "    \"legend.frameon\": True,\n",
    "    \"axes.titleweight\": \"bold\"\n",
    "})\n",
    "\n",
    "def customize_ax(ax, title=None, xlabel=None, ylabel=None):\n",
    "    if title:\n",
    "        ax.set_title(title, fontsize=14, fontweight=\"bold\")\n",
    "    if xlabel:\n",
    "        ax.set_xlabel(xlabel, fontsize=12)\n",
    "    if ylabel:\n",
    "        ax.set_ylabel(ylabel, fontsize=12)\n",
    "    ax.tick_params(axis='both', which='major', labelsize=10)\n",
    "    ax.grid(True)\n",
    "    if ax.get_legend():\n",
    "        ax.legend(fontsize=10, frameon=True)\n",
    "\n",
    "# Insert your original loop code here afterward, using customize_ax() and matplotlib.rcParams updates\n",
    "# on all relevant plots to ensure publication-quality formatting.\n"
   ]
  },
  {
   "cell_type": "code",
   "execution_count": 7,
   "id": "bc47382c",
   "metadata": {},
   "outputs": [],
   "source": [
    "etfs = ['XLB','XLE','XLF','XLI','XLK','XLP','XLV','XLY','XLU']\n",
    "metric2 = \"Squared_Returns\"\n",
    "metric3 = \"SD_Prices\"\n",
    "metrics = [\"ATR\",metric2,metric3]\n",
    "# start = '2001-01-01'\n",
    "# end = '2020-01-01'\n",
    "# start_t = '2022-01-02'\n",
    "# end_t = '2024-01-05'\n",
    "date_list = [['2001-01-01', '2020-01-01', '2022-01-02', '2024-01-05'], ['1990-01-05', '2010-01-05', '2023-01-05', '2024-01-05'], ['2000-01-05', \"2024-01-05\", \"2024-01-05\", \"2025-01-05\"], ['2005-01-05', '2010-01-05', '2020-01-05', '2024-01-05']]\n",
    "starts,ends = np.array([(f'200{i}-01-01',f'200{i+12}-01-01') for i in range(0,12,4)]).T\n",
    "models = {}\n",
    "lrs = [0]\n",
    "h1 = 50\n",
    "h2 = 50\n",
    "hl1s = [20,50,70,100]\n",
    "hl1s = [20,50,70,100]\n",
    "models = [\"LSTM\",\"RNN\"]\n",
    "b_types = ['ATR' ,'STD']\n",
    "lr = 0\n",
    "feat_combos = [['Open','Close','High','Low','Volume','Return','Short_MA','Long_MA'],['Open','Close','High','Low','Volume'],['index','Open','Close','High','Low','Volume']]"
   ]
  },
  {
   "cell_type": "code",
   "execution_count": null,
   "id": "24786877",
   "metadata": {},
   "outputs": [
    {
     "name": "stderr",
     "output_type": "stream",
     "text": [
      "[*********************100%***********************]  1 of 1 completed\n"
     ]
    },
    {
     "name": "stdout",
     "output_type": "stream",
     "text": [
      "read  4779  lines of data for ticker:  XLB\n"
     ]
    },
    {
     "name": "stderr",
     "output_type": "stream",
     "text": [
      "[*********************100%***********************]  1 of 1 completed\n"
     ]
    },
    {
     "name": "stdout",
     "output_type": "stream",
     "text": [
      "read  504  lines of data for ticker:  XLB\n",
      "On the 50th day, Bought 5.59973121290178 shares for $498.1520886997423\n",
      "On the 51th day, Bought 4 shares for $355.88\n",
      "On the 52th day, Bought 1 shares for $89.67\n",
      "On the 71th day, sold 10.59973121290178 shares for $892.2853735020719\n",
      "On the 188th day, Bought 7.293946024799417 shares for $490.22611232676877\n",
      "On the 194th day, sold 7.293946024799417 shares for $509.8468271334793\n",
      "On the 201th day, Bought 6.749460043196544 shares for $507.4919006479481\n",
      "On the 202th day, Bought 5 shares for $372.84999999999997\n",
      "On the 209th day, sold 11.749460043196544 shares for $943.2466522678186\n",
      "On the 219th day, Bought 6.070171178827243 shares for $496.3578972927036\n",
      "On the 221th day, Bought 6.188118811881188 shares for $500.18564356435644\n",
      "On the 277th day, Bought 0 shares for $0.0\n",
      "On the 278th day, Bought 0 shares for $0.0\n",
      "On the 290th day, sold 12.25828999070843 shares for $958.3531114735852\n",
      "On the 377th day, Bought 5.999520038396928 shares for $498.14014878809695\n",
      "On the 378th day, Bought 4 shares for $335.52\n",
      "On the 379th day, Bought 1 shares for $83.81\n",
      "On the 380th day, Bought 0 shares for $0.0\n",
      "On the 381th day, Bought 0 shares for $0.0\n",
      "On the 382th day, Bought 0 shares for $0.0\n",
      "On the 424th day, sold 10.999520038396927 shares for $862.9123470122389\n",
      "On the 469th day, Bought 6.163708086785009 shares for $498.1508875739644\n",
      "On the 470th day, Bought 5 shares for $405.09999999999997\n",
      "On the 471th day, Bought 0 shares for $0.0\n",
      "XLB Final Value: 965.4785322964917, Final Money: 25.494311389193967, Final Shares: 11.16370808678501\n"
     ]
    },
    {
     "name": "stderr",
     "output_type": "stream",
     "text": [
      "[*********************100%***********************]  1 of 1 completed\n"
     ]
    },
    {
     "name": "stdout",
     "output_type": "stream",
     "text": [
      "read  4779  lines of data for ticker:  XLB\n"
     ]
    },
    {
     "name": "stderr",
     "output_type": "stream",
     "text": [
      "[*********************100%***********************]  1 of 1 completed\n"
     ]
    },
    {
     "name": "stdout",
     "output_type": "stream",
     "text": [
      "read  504  lines of data for ticker:  XLB\n",
      "On the 284th day, Bought 5.994485073732166 shares for $503.29696679055263\n",
      "On the 289th day, sold 5.994485073732166 shares for $478.8394676897254\n",
      "On the 406th day, Bought 6.188118811881188 shares for $501.36138613861385\n",
      "On the 443th day, sold 6.188118811881188 shares for $477.2277227722773\n"
     ]
    },
    {
     "name": "stderr",
     "output_type": "stream",
     "text": [
      "[*********************100%***********************]  1 of 1 completed"
     ]
    },
    {
     "name": "stdout",
     "output_type": "stream",
     "text": [
      "XLB Final Value: 956.0671904620027, Final Money: 956.0671904620027, Final Shares: 0.0\n",
      "read  4779  lines of data for ticker:  XLB\n"
     ]
    },
    {
     "name": "stderr",
     "output_type": "stream",
     "text": [
      "\n",
      "[*********************100%***********************]  1 of 1 completed\n"
     ]
    },
    {
     "name": "stdout",
     "output_type": "stream",
     "text": [
      "read  504  lines of data for ticker:  XLB\n",
      "On the 55th day, Bought 5.612932195779075 shares for $500.84193982936694\n",
      "On the 56th day, Bought 5.611672278338945 shares for $499.7194163860831\n",
      "On the 57th day, Bought 5.656748500961648 shares for $496.77565335445183\n",
      "On the 70th day, sold 16.88135297507967 shares for $1443.3556793693117\n",
      "On the 191th day, Bought 7.155123068116772 shares for $512.0206067544362\n",
      "On the 209th day, sold 7.155123068116772 shares for $574.4132799084144\n",
      "On the 380th day, Bought 5.970862192500597 shares for $498.56699307379984\n",
      "On the 381th day, Bought 5.970149253731344 shares for $500.5970149253731\n",
      "On the 382th day, Bought 0 shares for $0.0\n",
      "On the 404th day, Bought 0 shares for $0.0\n",
      "On the 405th day, Bought 0 shares for $0.0\n",
      "On the 406th day, Bought 0 shares for $0.0\n",
      "On the 411th day, sold 11.94101144623194 shares for $1000.8955794231612\n",
      "XLB Final Value: 1018.6645387008871, Final Money: 1018.6645387008871, Final Shares: 0.0\n"
     ]
    },
    {
     "name": "stderr",
     "output_type": "stream",
     "text": [
      "[*********************100%***********************]  1 of 1 completed\n"
     ]
    },
    {
     "name": "stdout",
     "output_type": "stream",
     "text": [
      "read  4779  lines of data for ticker:  XLE\n"
     ]
    },
    {
     "name": "stderr",
     "output_type": "stream",
     "text": [
      "[*********************100%***********************]  1 of 1 completed\n"
     ]
    },
    {
     "name": "stdout",
     "output_type": "stream",
     "text": [
      "read  504  lines of data for ticker:  XLE\n",
      "On the 152th day, Bought 6.304375236414071 shares for $508.19568780733823\n",
      "On the 154th day, Bought 5 shares for $418.29999999999995\n",
      "On the 155th day, Bought 1 shares for $83.65\n",
      "On the 156th day, Bought 0 shares for $0.0\n",
      "On the 175th day, sold 12.30437523641407 shares for $867.2123666624638\n",
      "On the 197th day, Bought 5.718860802928056 shares for $501.88722406496623\n",
      "On the 198th day, Bought 4 shares for $359.36\n",
      "On the 199th day, Bought 0 shares for $0.0\n",
      "On the 200th day, Bought 0 shares for $0.0\n",
      "On the 202th day, Bought 0 shares for $0.0\n",
      "On the 231th day, sold 9.718860802928056 shares for $840.2927050211597\n",
      "On the 237th day, Bought 5.789717461787864 shares for $500.5210745715609\n",
      "On the 293th day, sold 5.789717461787864 shares for $447.8925428439092\n",
      "On the 367th day, Bought 6.159911297277319 shares for $501.2319822594555\n",
      "On the 368th day, Bought 3 shares for $245.10000000000002\n",
      "On the 369th day, Bought 0 shares for $0.0\n",
      "On the 409th day, Bought 0 shares for $0.0\n",
      "On the 410th day, Bought 0 shares for $0.0\n",
      "On the 411th day, Bought 0 shares for $0.0\n",
      "On the 414th day, Bought 0 shares for $0.0\n",
      "On the 433th day, sold 9.159911297277318 shares for $785.46239374153\n"
     ]
    },
    {
     "name": "stderr",
     "output_type": "stream",
     "text": [
      "[*********************100%***********************]  1 of 1 completed"
     ]
    },
    {
     "name": "stdout",
     "output_type": "stream",
     "text": [
      "On the 463th day, Bought 5.91016548463357 shares for $495.27186761229314\n",
      "On the 472th day, Bought 4 shares for $338.96\n",
      "On the 490th day, Bought 0 shares for $0.0\n",
      "On the 491th day, Bought 0 shares for $0.0\n",
      "On the 492th day, Bought 0 shares for $0.0\n",
      "On the 493th day, Bought 0 shares for $0.0\n",
      "On the 494th day, Bought 0 shares for $0.0\n",
      "XLE Final Value: 844.9991099239091, Final Money: 6.500008269062789, Final Shares: 9.91016548463357\n",
      "read  4779  lines of data for ticker:  XLE\n"
     ]
    },
    {
     "name": "stderr",
     "output_type": "stream",
     "text": [
      "\n",
      "[*********************100%***********************]  1 of 1 completed\n"
     ]
    },
    {
     "name": "stdout",
     "output_type": "stream",
     "text": [
      "read  504  lines of data for ticker:  XLE\n",
      "On the 165th day, Bought 6.20347394540943 shares for $507.32009925558316\n",
      "On the 166th day, Bought 6.091617933723197 shares for $492.2027290448343\n",
      "On the 175th day, sold 12.295091879132627 shares for $866.5580756412676\n",
      "On the 251th day, Bought 5.566688933422401 shares for $499.6103317746605\n",
      "On the 271th day, sold 5.566688933422401 shares for $502.17100868403475\n"
     ]
    },
    {
     "name": "stderr",
     "output_type": "stream",
     "text": [
      "[*********************100%***********************]  1 of 1 completed"
     ]
    },
    {
     "name": "stdout",
     "output_type": "stream",
     "text": [
      "On the 472th day, Bought 5.950964056177101 shares for $504.2846941204475\n",
      "On the 473th day, Bought 4 shares for $337.92\n",
      "XLE Final Value: 872.3601531184468, Final Money: 30.40908432530233, Final Shares: 9.950964056177101\n",
      "read  4779  lines of data for ticker:  XLE\n"
     ]
    },
    {
     "name": "stderr",
     "output_type": "stream",
     "text": [
      "\n",
      "[*********************100%***********************]  1 of 1 completed\n"
     ]
    },
    {
     "name": "stdout",
     "output_type": "stream",
     "text": [
      "read  504  lines of data for ticker:  XLE\n",
      "On the 99th day, Bought 5.592215635834918 shares for $499.6644670618499\n",
      "On the 106th day, sold 5.592215635834918 shares for $460.6867240800806\n",
      "On the 165th day, Bought 6.20347394540943 shares for $507.32009925558316\n",
      "On the 175th day, sold 6.20347394540943 shares for $437.2208436724566\n",
      "On the 466th day, Bought 5.895531187359981 shares for $497.641787525056\n",
      "On the 467th day, Bought 4 shares for $331.72\n",
      "On the 471th day, Bought 0 shares for $0.0\n",
      "XLE Final Value: 896.6884615150651, Final Money: 59.427567752537016, Final Shares: 9.895531187359982\n"
     ]
    },
    {
     "name": "stderr",
     "output_type": "stream",
     "text": [
      "[*********************100%***********************]  1 of 1 completed\n"
     ]
    },
    {
     "name": "stdout",
     "output_type": "stream",
     "text": [
      "read  4779  lines of data for ticker:  XLF\n"
     ]
    },
    {
     "name": "stderr",
     "output_type": "stream",
     "text": [
      "[*********************100%***********************]  1 of 1 completed\n"
     ]
    },
    {
     "name": "stdout",
     "output_type": "stream",
     "text": [
      "read  504  lines of data for ticker:  XLF\n",
      "On the 100th day, Bought 14.188422247446082 shares for $496.1691259931895\n",
      "On the 101th day, Bought 14.44251877527441 shares for $499.4222992489891\n",
      "On the 123th day, Bought 15.812776723592663 shares for $494.6236559139785\n",
      "On the 124th day, Bought 15.95405232929164 shares for $489.78940650925335\n",
      "On the 143th day, Bought 14.775413711583923 shares for $508.7174940898345\n",
      "On the 161th day, sold 75.17318378718872 shares for $2472.446014760637\n",
      "On the 202th day, Bought 14.6756677428823 shares for $498.9727032579982\n",
      "On the 219th day, Bought 12 shares for $430.91999999999996\n",
      "On the 286th day, Bought 1 shares for $35.89\n",
      "On the 289th day, sold 27.6756677428823 shares for $928.2418960962723\n",
      "On the 415th day, Bought 14.57725947521866 shares for $502.33236151603506\n",
      "On the 430th day, sold 14.57725947521866 shares for $483.527696793003\n",
      "On the 461th day, Bought 14.766686355581808 shares for $505.4636739515652\n",
      "On the 462th day, Bought 12 shares for $414.72\n",
      "On the 463th day, Bought 0 shares for $0.0\n",
      "On the 464th day, Bought 0 shares for $0.0\n",
      "On the 465th day, Bought 0 shares for $0.0\n",
      "On the 467th day, Bought 0 shares for $0.0\n",
      "On the 468th day, Bought 0 shares for $0.0\n",
      "On the 469th day, Bought 0 shares for $0.0\n",
      "On the 470th day, Bought 0 shares for $0.0\n",
      "On the 471th day, Bought 0 shares for $0.0\n",
      "XLF Final Value: 1007.0353477562323, Final Money: 0.8756076499121264, Final Shares: 26.766686355581808\n"
     ]
    },
    {
     "name": "stderr",
     "output_type": "stream",
     "text": [
      "[*********************100%***********************]  1 of 1 completed\n"
     ]
    },
    {
     "name": "stdout",
     "output_type": "stream",
     "text": [
      "read  4779  lines of data for ticker:  XLF\n"
     ]
    },
    {
     "name": "stderr",
     "output_type": "stream",
     "text": [
      "[*********************100%***********************]  1 of 1 completed\n"
     ]
    },
    {
     "name": "stdout",
     "output_type": "stream",
     "text": [
      "read  504  lines of data for ticker:  XLF\n",
      "On the 98th day, Bought 14.338973329509608 shares for $504.1583022655578\n",
      "On the 99th day, Bought 14.297969688304262 shares for $496.56848727480696\n",
      "On the 100th day, Bought 14.188422247446082 shares for $496.1691259931895\n",
      "On the 101th day, Bought 14.44251877527441 shares for $499.4222992489891\n",
      "On the 119th day, Bought 15.77784790154623 shares for $504.2600189334175\n",
      "On the 120th day, Bought 15.552099533437016 shares for $501.3996889580094\n",
      "On the 167th day, sold 88.59783147551761 shares for $2954.7376797085126\n",
      "On the 284th day, Bought 14.112334180073384 shares for $501.97572678521027\n",
      "On the 287th day, sold 14.112334180073384 shares for $495.20180637877513\n"
     ]
    },
    {
     "name": "stderr",
     "output_type": "stream",
     "text": [
      "[*********************100%***********************]  1 of 1 completed"
     ]
    },
    {
     "name": "stdout",
     "output_type": "stream",
     "text": [
      "On the 469th day, Bought 14.132278123233464 shares for $498.1628038439796\n",
      "On the 470th day, Bought 12 shares for $422.64\n",
      "On the 471th day, Bought 0 shares for $0.0\n",
      "XLF Final Value: 1009.1318207396337, Final Money: 26.819486087287714, Final Shares: 26.132278123233462\n",
      "read  4779  lines of data for ticker:  XLF\n"
     ]
    },
    {
     "name": "stderr",
     "output_type": "stream",
     "text": [
      "\n",
      "[*********************100%***********************]  1 of 1 completed\n"
     ]
    },
    {
     "name": "stdout",
     "output_type": "stream",
     "text": [
      "read  504  lines of data for ticker:  XLF\n",
      "On the 49th day, Bought 12.813941568426447 shares for $501.66581240389536\n",
      "On the 83th day, sold 12.813941568426447 shares for $423.50076883649405\n",
      "On the 215th day, Bought 14.136273678258412 shares for $499.29318631608714\n",
      "On the 216th day, Bought 11 shares for $392.37\n",
      "On the 283th day, Bought 0 shares for $0.0\n",
      "On the 289th day, sold 25.136273678258412 shares for $843.0706191687872\n",
      "On the 356th day, Bought 15.055706112616681 shares for $498.3438723276122\n",
      "On the 425th day, sold 15.055706112616681 shares for $506.7750677506774\n",
      "XLF Final Value: 883.0664557559586, Final Money: 883.0664557559586, Final Shares: 0.0\n"
     ]
    },
    {
     "name": "stderr",
     "output_type": "stream",
     "text": [
      "[*********************100%***********************]  1 of 1 completed\n"
     ]
    },
    {
     "name": "stdout",
     "output_type": "stream",
     "text": [
      "read  4779  lines of data for ticker:  XLI\n"
     ]
    },
    {
     "name": "stderr",
     "output_type": "stream",
     "text": [
      "[*********************100%***********************]  1 of 1 completed\n"
     ]
    },
    {
     "name": "stdout",
     "output_type": "stream",
     "text": [
      "read  504  lines of data for ticker:  XLI\n",
      "On the 48th day, Bought 4.887585532746823 shares for $502.5415444770283\n",
      "On the 49th day, Bought 3 shares for $309.9\n",
      "On the 50th day, Bought 1 shares for $103.63\n",
      "On the 51th day, Bought 0 shares for $0.0\n",
      "On the 52th day, Bought 0 shares for $0.0\n",
      "On the 53th day, Bought 0 shares for $0.0\n",
      "On the 74th day, sold 8.887585532746822 shares for $845.5648875855327\n",
      "On the 99th day, Bought 5.211047420531527 shares for $495.57060969254815\n",
      "On the 125th day, Bought 4 shares for $346.8\n",
      "On the 126th day, Bought 1 shares for $87.61\n",
      "On the 143th day, Bought 0 shares for $0.0\n",
      "On the 161th day, sold 10.211047420531527 shares for $941.0501302761854\n",
      "On the 202th day, Bought 5.304476978569912 shares for $497.50689582007215\n",
      "On the 216th day, Bought 4 shares for $400.8\n",
      "On the 217th day, Bought 0 shares for $0.0\n",
      "On the 218th day, Bought 0 shares for $0.0\n",
      "On the 219th day, Bought 0 shares for $0.0\n",
      "On the 221th day, Bought 0 shares for $0.0\n",
      "On the 272th day, Bought 0 shares for $0.0\n",
      "On the 292th day, sold 9.304476978569912 shares for $925.609369828135\n",
      "On the 355th day, Bought 4.792485382919582 shares for $501.38982076104674\n",
      "On the 366th day, Bought 3 shares for $321.18\n",
      "On the 367th day, Bought 1 shares for $106.91\n",
      "On the 368th day, Bought 0 shares for $0.0\n",
      "On the 369th day, Bought 0 shares for $0.0\n",
      "On the 381th day, Bought 0 shares for $0.0\n",
      "On the 382th day, Bought 0 shares for $0.0\n",
      "On the 406th day, sold 8.792485382919583 shares for $936.7513926962524\n",
      "On the 421th day, Bought 4.776005349125991 shares for $498.75823860922725\n",
      "On the 432th day, sold 4.776005349125991 shares for $476.11997325437\n"
     ]
    },
    {
     "name": "stderr",
     "output_type": "stream",
     "text": [
      "[*********************100%***********************]  1 of 1 completed"
     ]
    },
    {
     "name": "stdout",
     "output_type": "stream",
     "text": [
      "On the 461th day, Bought 4.871395167575994 shares for $506.08924395946997\n",
      "On the 469th day, Bought 3 shares for $318.0\n",
      "On the 470th day, Bought 1 shares for $105.89\n",
      "On the 471th day, Bought 0 shares for $0.0\n",
      "XLI Final Value: 1020.3320357916836, Final Money: 32.94575364047547, Final Shares: 8.871395167575994\n",
      "read  4779  lines of data for ticker:  XLI\n"
     ]
    },
    {
     "name": "stderr",
     "output_type": "stream",
     "text": [
      "\n",
      "[*********************100%***********************]  1 of 1 completed\n"
     ]
    },
    {
     "name": "stdout",
     "output_type": "stream",
     "text": [
      "read  504  lines of data for ticker:  XLI\n",
      "On the 119th day, Bought 5.728689275893675 shares for $503.49450045829514\n",
      "On the 167th day, sold 5.728689275893675 shares for $528.4715857011915\n",
      "On the 315th day, Bought 4.969191015702643 shares for $502.43490359769424\n",
      "On the 316th day, Bought 4.945598417408506 shares for $498.2195845697329\n",
      "On the 317th day, Bought 0 shares for $0.0\n",
      "On the 318th day, Bought 0 shares for $0.0\n",
      "On the 348th day, sold 9.91478943311115 shares for $1000.7988453782394\n"
     ]
    },
    {
     "name": "stderr",
     "output_type": "stream",
     "text": [
      "[*********************100%***********************]  1 of 1 completed"
     ]
    },
    {
     "name": "stdout",
     "output_type": "stream",
     "text": [
      "On the 469th day, Bought 4.701899567425239 shares for $498.4013541470754\n",
      "On the 470th day, Bought 4.728579534707774 shares for $500.7092869302062\n",
      "On the 471th day, Bought 0 shares for $0.0\n",
      "On the 472th day, Bought 0 shares for $0.0\n",
      "XLI Final Value: 1078.8827551468355, Final Money: 29.27043107943109, Final Shares: 9.430479102133013\n",
      "read  4779  lines of data for ticker:  XLI\n"
     ]
    },
    {
     "name": "stderr",
     "output_type": "stream",
     "text": [
      "\n",
      "[*********************100%***********************]  1 of 1 completed\n"
     ]
    },
    {
     "name": "stdout",
     "output_type": "stream",
     "text": [
      "read  504  lines of data for ticker:  XLI\n",
      "On the 49th day, Bought 4.850601474582849 shares for $501.06713232440825\n",
      "On the 50th day, Bought 4.820671037408407 shares for $499.5661396066332\n",
      "On the 51th day, Bought 4.819277108433735 shares for $503.277108433735\n",
      "On the 72th day, sold 14.49054962042499 shares for $1400.366715317871\n",
      "On the 215th day, Bought 5.02815768302494 shares for $498.69267900241357\n",
      "On the 216th day, Bought 3 shares for $300.6\n",
      "On the 255th day, sold 8.02815768302494 shares for $783.7890345937249\n",
      "XLI Final Value: 884.8757499115959, Final Money: 884.8757499115959, Final Shares: 0.0\n"
     ]
    },
    {
     "name": "stderr",
     "output_type": "stream",
     "text": [
      "[*********************100%***********************]  1 of 1 completed\n"
     ]
    },
    {
     "name": "stdout",
     "output_type": "stream",
     "text": [
      "read  4779  lines of data for ticker:  XLK\n"
     ]
    },
    {
     "name": "stderr",
     "output_type": "stream",
     "text": [
      "[*********************100%***********************]  1 of 1 completed\n"
     ]
    },
    {
     "name": "stdout",
     "output_type": "stream",
     "text": [
      "read  504  lines of data for ticker:  XLK\n",
      "On the 50th day, Bought 3.160156743774491 shares for $497.69308557704466\n",
      "On the 51th day, Bought 2 shares for $323.94\n",
      "On the 52th day, Bought 1 shares for $162.66\n",
      "On the 53th day, Bought 0 shares for $0.0\n",
      "On the 73th day, sold 6.1601567437744915 shares for $909.0543306788016\n",
      "On the 115th day, Bought 3.88078236572493 shares for $493.36386215461033\n",
      "On the 121th day, Bought 2 shares for $263.42\n",
      "On the 122th day, Bought 1 shares for $131.52\n",
      "On the 143th day, Bought 0 shares for $0.0\n",
      "On the 146th day, Bought 0 shares for $0.0\n",
      "On the 149th day, Bought 0 shares for $0.0\n",
      "On the 150th day, Bought 0 shares for $0.0\n",
      "On the 151th day, Bought 0 shares for $0.0\n",
      "On the 183th day, sold 6.880782365724929 shares for $873.7905526234088\n",
      "On the 216th day, Bought 3.826432999158185 shares for $502.18106680952025\n",
      "On the 217th day, Bought 2 shares for $265.82\n",
      "On the 218th day, Bought 1 shares for $133.47\n",
      "On the 219th day, Bought 0 shares for $0.0\n",
      "On the 220th day, Bought 0 shares for $0.0\n",
      "On the 221th day, Bought 0 shares for $0.0\n",
      "On the 255th day, Bought 0 shares for $0.0\n",
      "On the 268th day, sold 6.826432999158185 shares for $979.8661926991658\n",
      "On the 336th day, Bought 3.2817012339196636 shares for $502.10028878970854\n",
      "On the 343th day, sold 3.2817012339196636 shares for $525.8269887109477\n",
      "On the 372th day, Bought 2.9127344751252475 shares for $501.0485844110451\n",
      "On the 405th day, sold 2.9127344751252475 shares for $486.45578469066754\n"
     ]
    },
    {
     "name": "stderr",
     "output_type": "stream",
     "text": [
      "[*********************100%***********************]  1 of 1 completed"
     ]
    },
    {
     "name": "stdout",
     "output_type": "stream",
     "text": [
      "On the 458th day, Bought 2.8446265005404787 shares for $500.7396028901405\n",
      "On the 459th day, Bought 1 shares for $176.01\n",
      "On the 467th day, Bought 1 shares for $185.11\n",
      "On the 469th day, Bought 0 shares for $0.0\n",
      "On the 470th day, Bought 0 shares for $0.0\n",
      "On the 471th day, Bought 0 shares for $0.0\n",
      "On the 473th day, Bought 0 shares for $0.0\n",
      "On the 492th day, Bought 0 shares for $0.0\n",
      "XLK Final Value: 1027.0687120075313, Final Money: 134.83384940299163, Final Shares: 4.844626500540478\n",
      "read  4779  lines of data for ticker:  XLK\n"
     ]
    },
    {
     "name": "stderr",
     "output_type": "stream",
     "text": [
      "\n",
      "[*********************100%***********************]  1 of 1 completed\n"
     ]
    },
    {
     "name": "stdout",
     "output_type": "stream",
     "text": [
      "read  504  lines of data for ticker:  XLK\n",
      "On the 50th day, Bought 3.160156743774491 shares for $497.69308557704466\n",
      "On the 51th day, Bought 2 shares for $323.94\n",
      "On the 52th day, Bought 1 shares for $162.66\n",
      "On the 53th day, Bought 0 shares for $0.0\n",
      "On the 56th day, Bought 0 shares for $0.0\n",
      "On the 73th day, sold 6.1601567437744915 shares for $909.0543306788016\n",
      "On the 101th day, Bought 3.5696437495537947 shares for $496.3589633754552\n",
      "On the 121th day, Bought 2 shares for $263.42\n",
      "On the 122th day, Bought 1 shares for $131.52\n",
      "On the 167th day, sold 6.569643749553794 shares for $867.1929749411008\n",
      "On the 275th day, Bought 3.5313228335334417 shares for $496.43336393813127\n",
      "On the 276th day, Bought 2 shares for $275.9\n",
      "On the 296th day, sold 5.531322833533442 shares for $793.9107662970549\n"
     ]
    },
    {
     "name": "stderr",
     "output_type": "stream",
     "text": [
      "[*********************100%***********************]  1 of 1 completed"
     ]
    },
    {
     "name": "stdout",
     "output_type": "stream",
     "text": [
      "On the 442th day, Bought 2.9505488020771864 shares for $496.4888469255282\n",
      "On the 443th day, Bought 1 shares for $168.39\n",
      "On the 444th day, Bought 1 shares for $166.68\n",
      "On the 460th day, sold 4.950548802077186 shares for $888.7225209488965\n",
      "On the 474th day, Bought 2.694255846535187 shares for $495.0156266839099\n",
      "On the 494th day, sold 2.694255846535187 shares for $505.0113158745554\n",
      "XLK Final Value: 969.2919087404094, Final Money: 969.2919087404094, Final Shares: 0.0\n"
     ]
    },
    {
     "name": "stderr",
     "output_type": "stream",
     "text": [
      "\n"
     ]
    },
    {
     "name": "stdout",
     "output_type": "stream",
     "text": [
      "read  4779  lines of data for ticker:  XLK\n"
     ]
    },
    {
     "name": "stderr",
     "output_type": "stream",
     "text": [
      "[*********************100%***********************]  1 of 1 completed\n"
     ]
    },
    {
     "name": "stdout",
     "output_type": "stream",
     "text": [
      "read  504  lines of data for ticker:  XLK\n",
      "On the 100th day, Bought 3.529328721677137 shares for $498.5176819368956\n",
      "On the 101th day, Bought 3.5696437495537947 shares for $496.3589633754552\n",
      "On the 104th day, sold 7.0989724712309314 shares for $889.3592711958111\n",
      "On the 215th day, Bought 3.785297902944962 shares for $497.1610265727913\n",
      "On the 339th day, sold 3.785297902944962 shares for $596.1087137557726\n",
      "XLK Final Value: 985.4679849515836, Final Money: 985.4679849515836, Final Shares: 0.0\n"
     ]
    },
    {
     "name": "stderr",
     "output_type": "stream",
     "text": [
      "[*********************100%***********************]  1 of 1 completed\n"
     ]
    },
    {
     "name": "stdout",
     "output_type": "stream",
     "text": [
      "read  4779  lines of data for ticker:  XLP\n"
     ]
    },
    {
     "name": "stderr",
     "output_type": "stream",
     "text": [
      "[*********************100%***********************]  1 of 1 completed\n"
     ]
    },
    {
     "name": "stdout",
     "output_type": "stream",
     "text": [
      "read  504  lines of data for ticker:  XLP\n",
      "On the 125th day, Bought 6.87757909215956 shares for $503.30123796423663\n",
      "On the 144th day, Bought 5 shares for $376.8\n",
      "On the 146th day, Bought 1 shares for $75.47\n",
      "On the 155th day, Bought 0 shares for $0.0\n",
      "On the 161th day, sold 12.87757909215956 shares for $934.3971389270978\n",
      "On the 216th day, Bought 6.632179334129195 shares for $503.7140204271124\n",
      "On the 217th day, Bought 5 shares for $380.0\n",
      "On the 218th day, Bought 1 shares for $76.3\n",
      "On the 219th day, Bought 0 shares for $0.0\n",
      "On the 220th day, Bought 0 shares for $0.0\n",
      "On the 221th day, Bought 0 shares for $0.0\n",
      "On the 261th day, Bought 0 shares for $0.0\n",
      "On the 291th day, sold 12.632179334129194 shares for $902.8218570102135\n",
      "On the 304th day, Bought 6.746727836999056 shares for $502.5637565780596\n",
      "On the 305th day, Bought 5 shares for $373.8\n",
      "On the 306th day, Bought 0 shares for $0.0\n",
      "On the 307th day, Bought 0 shares for $0.0\n",
      "On the 308th day, Bought 0 shares for $0.0\n",
      "On the 309th day, Bought 0 shares for $0.0\n",
      "On the 338th day, sold 11.746727836999057 shares for $891.2242409931184\n",
      "On the 409th day, Bought 6.837139340899768 shares for $498.1539723779571\n",
      "On the 410th day, Bought 5 shares for $365.0\n",
      "On the 415th day, Bought 1 shares for $71.8\n",
      "On the 418th day, Bought 0 shares for $0.0\n",
      "On the 434th day, sold 12.837139340899768 shares for $860.6018214139204\n",
      "On the 471th day, Bought 7.089181908407769 shares for $500.4962427335885\n",
      "On the 472th day, Bought 5 shares for $350.15\n",
      "On the 487th day, sold 12.08918190840777 shares for $848.5396781511414\n"
     ]
    },
    {
     "name": "stderr",
     "output_type": "stream",
     "text": [
      "[*********************100%***********************]  1 of 1 completed"
     ]
    },
    {
     "name": "stdout",
     "output_type": "stream",
     "text": [
      "XLP Final Value: 872.1247364954916, Final Money: 872.1247364954916, Final Shares: 0.0\n",
      "read  4779  lines of data for ticker:  XLP\n"
     ]
    },
    {
     "name": "stderr",
     "output_type": "stream",
     "text": [
      "\n",
      "[*********************100%***********************]  1 of 1 completed\n"
     ]
    },
    {
     "name": "stdout",
     "output_type": "stream",
     "text": [
      "read  504  lines of data for ticker:  XLP\n",
      "On the 124th day, Bought 6.883259911894273 shares for $493.59856828193824\n",
      "On the 125th day, Bought 5 shares for $365.90000000000003\n",
      "On the 126th day, Bought 1 shares for $73.07\n",
      "On the 156th day, sold 12.883259911894273 shares for $959.1587004405286\n",
      "On the 216th day, Bought 6.632179334129195 shares for $503.7140204271124\n",
      "On the 217th day, Bought 6.584145377929945 shares for $500.39504872267577\n",
      "On the 218th day, Bought 0 shares for $0.0\n",
      "On the 247th day, sold 13.21632471205914 shares for $1001.5330866798417\n",
      "On the 378th day, Bought 6.758583400919167 shares for $501.6220600162206\n",
      "On the 407th day, Bought 6.8728522336769755 shares for $500.2749140893471\n",
      "On the 408th day, Bought 0 shares for $0.0\n",
      "On the 409th day, Bought 0 shares for $0.0\n",
      "On the 410th day, Bought 0 shares for $0.0\n",
      "On the 424th day, sold 13.631435634596142 shares for $961.2888409517199\n",
      "XLP Final Value: 985.5406280720904, Final Money: 985.5406280720904, Final Shares: 0.0\n"
     ]
    },
    {
     "name": "stderr",
     "output_type": "stream",
     "text": [
      "[*********************100%***********************]  1 of 1 completed\n"
     ]
    },
    {
     "name": "stdout",
     "output_type": "stream",
     "text": [
      "read  4779  lines of data for ticker:  XLP\n"
     ]
    },
    {
     "name": "stderr",
     "output_type": "stream",
     "text": [
      "[*********************100%***********************]  1 of 1 completed\n"
     ]
    },
    {
     "name": "stdout",
     "output_type": "stream",
     "text": [
      "read  504  lines of data for ticker:  XLP\n",
      "On the 312th day, Bought 6.645401382243488 shares for $500.19936204146734\n",
      "On the 314th day, Bought 5 shares for $376.65\n",
      "On the 340th day, sold 11.645401382243488 shares for $870.7266613503456\n",
      "On the 460th day, Bought 7.250580046403713 shares for $499.5649651972159\n",
      "XLP Final Value: 1018.1010232993016, Final Money: 494.8266613503456, Final Shares: 7.250580046403713\n"
     ]
    },
    {
     "name": "stderr",
     "output_type": "stream",
     "text": [
      "[*********************100%***********************]  1 of 1 completed\n"
     ]
    },
    {
     "name": "stdout",
     "output_type": "stream",
     "text": [
      "read  4779  lines of data for ticker:  XLV\n"
     ]
    },
    {
     "name": "stderr",
     "output_type": "stream",
     "text": [
      "[*********************100%***********************]  1 of 1 completed\n"
     ]
    },
    {
     "name": "stdout",
     "output_type": "stream",
     "text": [
      "read  504  lines of data for ticker:  XLV\n",
      "On the 50th day, Bought 3.669186174506494 shares for $500.84391282013644\n",
      "On the 51th day, Bought 2 shares for $276.8\n",
      "On the 52th day, Bought 1 shares for $138.09\n",
      "On the 53th day, Bought 0 shares for $0.0\n",
      "On the 74th day, sold 6.669186174506494 shares for $868.9282666764511\n",
      "On the 125th day, Bought 3.9329819869425 shares for $507.4333359553214\n",
      "On the 134th day, Bought 2 shares for $264.34\n",
      "On the 142th day, Bought 1 shares for $131.93\n",
      "On the 143th day, Bought 0 shares for $0.0\n",
      "On the 161th day, sold 6.9329819869425 shares for $866.553418547943\n",
      "On the 202th day, Bought 3.764209892343597 shares for $498.8330949333735\n",
      "On the 216th day, Bought 2 shares for $269.9\n",
      "On the 217th day, Bought 1 shares for $135.82\n",
      "On the 218th day, Bought 0 shares for $0.0\n",
      "On the 219th day, Bought 0 shares for $0.0\n",
      "On the 220th day, Bought 0 shares for $0.0\n",
      "On the 221th day, Bought 0 shares for $0.0\n",
      "On the 261th day, Bought 0 shares for $0.0\n",
      "On the 286th day, Bought 0 shares for $0.0\n",
      "On the 290th day, sold 6.764209892343597 shares for $839.7766581344576\n",
      "On the 375th day, Bought 3.8535645472061657 shares for $503.77649325626203\n",
      "On the 381th day, sold 3.8535645472061657 shares for $525.009633911368\n",
      "On the 402th day, Bought 3.7405550983765994 shares for $499.25188898032474\n",
      "On the 403th day, Bought 2 shares for $268.0\n",
      "On the 404th day, Bought 0 shares for $0.0\n",
      "On the 432th day, sold 5.7405550983766 shares for $731.4615306351463\n"
     ]
    },
    {
     "name": "stderr",
     "output_type": "stream",
     "text": [
      "[*********************100%***********************]  1 of 1 completed"
     ]
    },
    {
     "name": "stdout",
     "output_type": "stream",
     "text": [
      "On the 466th day, Bought 3.8750678136867394 shares for $501.70502983802214\n",
      "On the 467th day, Bought 2 shares for $260.48\n",
      "On the 468th day, Bought 0 shares for $0.0\n",
      "On the 469th day, Bought 0 shares for $0.0\n",
      "On the 470th day, Bought 0 shares for $0.0\n",
      "On the 471th day, Bought 0 shares for $0.0\n",
      "On the 472th day, Bought 0 shares for $0.0\n",
      "XLV Final Value: 910.3439502831079, Final Money: 92.29950790536634, Final Shares: 5.875067813686739\n",
      "read  4779  lines of data for ticker:  XLV\n"
     ]
    },
    {
     "name": "stderr",
     "output_type": "stream",
     "text": [
      "\n",
      "[*********************100%***********************]  1 of 1 completed\n"
     ]
    },
    {
     "name": "stdout",
     "output_type": "stream",
     "text": [
      "read  504  lines of data for ticker:  XLV\n",
      "On the 207th day, Bought 3.7630766915029725 shares for $499.20975389478434\n",
      "On the 208th day, Bought 2 shares for $268.94\n",
      "On the 216th day, Bought 1 shares for $134.95\n",
      "On the 217th day, Bought 0 shares for $0.0\n",
      "On the 218th day, Bought 0 shares for $0.0\n",
      "On the 219th day, Bought 0 shares for $0.0\n",
      "On the 261th day, Bought 0 shares for $0.0\n",
      "On the 270th day, Bought 0 shares for $0.0\n",
      "On the 287th day, sold 6.763076691502972 shares for $859.1136321216226\n",
      "On the 320th day, Bought 3.7023324694557567 shares for $499.25953350610877\n",
      "On the 329th day, Bought 2 shares for $266.78\n",
      "On the 357th day, sold 5.702332469455756 shares for $753.96239911144\n"
     ]
    },
    {
     "name": "stderr",
     "output_type": "stream",
     "text": [
      "[*********************100%***********************]  1 of 1 completed"
     ]
    },
    {
     "name": "stdout",
     "output_type": "stream",
     "text": [
      "XLV Final Value: 948.3860312330626, Final Money: 948.3860312330626, Final Shares: 0.0\n",
      "read  4779  lines of data for ticker:  XLV\n"
     ]
    },
    {
     "name": "stderr",
     "output_type": "stream",
     "text": [
      "\n",
      "[*********************100%***********************]  1 of 1 completed\n"
     ]
    },
    {
     "name": "stdout",
     "output_type": "stream",
     "text": [
      "read  504  lines of data for ticker:  XLV\n",
      "On the 479th day, Bought 3.785871128946771 shares for $502.68796850155223\n",
      "XLV Final Value: 1027.1446959945483, Final Money: 500.0, Final Shares: 3.785871128946771\n"
     ]
    },
    {
     "name": "stderr",
     "output_type": "stream",
     "text": [
      "[*********************100%***********************]  1 of 1 completed\n"
     ]
    },
    {
     "name": "stdout",
     "output_type": "stream",
     "text": [
      "read  4779  lines of data for ticker:  XLY\n"
     ]
    },
    {
     "name": "stderr",
     "output_type": "stream",
     "text": [
      "[*********************100%***********************]  1 of 1 completed\n"
     ]
    },
    {
     "name": "stdout",
     "output_type": "stream",
     "text": [
      "read  504  lines of data for ticker:  XLY\n",
      "On the 50th day, Bought 2.726876090750436 shares for $505.26287085514826\n",
      "On the 52th day, Bought 2.6105570928836213 shares for $496.00584764788806\n",
      "On the 53th day, Bought 0 shares for $0.0\n",
      "On the 54th day, Bought 0 shares for $0.0\n",
      "On the 55th day, Bought 0 shares for $0.0\n",
      "On the 73th day, sold 5.337433183634057 shares for $915.9035343116042\n",
      "On the 100th day, Bought 3.243593902043464 shares for $497.4375608173857\n",
      "On the 101th day, Bought 2 shares for $306.66\n",
      "On the 102th day, Bought 0 shares for $0.0\n",
      "On the 121th day, Bought 0 shares for $0.0\n",
      "On the 151th day, Bought 0 shares for $0.0\n",
      "On the 153th day, Bought 0 shares for $0.0\n",
      "On the 173th day, sold 5.2435939020434645 shares for $804.4197405124879\n",
      "On the 216th day, Bought 3.598416696653473 shares for $501.9791291831595\n",
      "On the 217th day, Bought 2 shares for $282.04\n",
      "On the 218th day, Bought 0 shares for $0.0\n",
      "On the 219th day, Bought 0 shares for $0.0\n",
      "On the 220th day, Bought 0 shares for $0.0\n",
      "On the 221th day, Bought 0 shares for $0.0\n",
      "On the 264th day, sold 5.598416696653473 shares for $848.2720978769343\n",
      "On the 306th day, Bought 3.374502260916515 shares for $501.6535061078491\n",
      "On the 331th day, Bought 2 shares for $298.02\n",
      "On the 336th day, Bought 1 shares for $148.35\n",
      "On the 347th day, sold 6.374502260916515 shares for $977.8486468245934\n",
      "On the 375th day, Bought 2.8658222043904398 shares for $499.9713417779561\n",
      "On the 376th day, Bought 2.8584495769494627 shares for $500.28584495769496\n",
      "On the 377th day, Bought 0 shares for $0.0\n",
      "On the 378th day, Bought 0 shares for $0.0\n",
      "On the 379th day, Bought 0 shares for $0.0\n",
      "On the 395th day, sold 5.724271781339903 shares for $974.8434843621856\n",
      "On the 456th day, Bought 3.116818351826456 shares for $500.90387732202976\n",
      "On the 457th day, Bought 2 shares for $324.52\n",
      "On the 458th day, Bought 1 shares for $161.56\n",
      "On the 469th day, Bought 0 shares for $0.0\n",
      "On the 470th day, Bought 0 shares for $0.0\n",
      "On the 471th day, Bought 0 shares for $0.0\n",
      "On the 472th day, Bought 0 shares for $0.0\n"
     ]
    },
    {
     "name": "stderr",
     "output_type": "stream",
     "text": [
      "[*********************100%***********************]  1 of 1 completed"
     ]
    },
    {
     "name": "stdout",
     "output_type": "stream",
     "text": [
      "XLY Final Value: 1059.0811468250952, Final Money: 4.847503887805402, Final Shares: 6.116818351826456\n",
      "read  4779  lines of data for ticker:  XLY\n"
     ]
    },
    {
     "name": "stderr",
     "output_type": "stream",
     "text": [
      "\n",
      "[*********************100%***********************]  1 of 1 completed\n"
     ]
    },
    {
     "name": "stdout",
     "output_type": "stream",
     "text": [
      "read  504  lines of data for ticker:  XLY\n",
      "On the 101th day, Bought 3.262855651265988 shares for $500.29365700861393\n",
      "On the 102th day, Bought 3.3229215125938727 shares for $489.66571409583315\n",
      "On the 167th day, sold 6.585777163859861 shares for $1040.6186496614966\n",
      "On the 273th day, Bought 3.2868787799105967 shares for $498.5866421246384\n",
      "On the 274th day, Bought 3.248862897985705 shares for $492.3326835607537\n",
      "On the 320th day, Bought 0 shares for $0.0\n",
      "On the 336th day, Bought 0 shares for $0.0\n",
      "On the 380th day, sold 6.535741677896302 shares for $1117.2196824195937\n",
      "On the 440th day, Bought 3.145247530980688 shares for $502.70491287664345\n"
     ]
    },
    {
     "name": "stderr",
     "output_type": "stream",
     "text": [
      "[*********************100%***********************]  1 of 1 completed"
     ]
    },
    {
     "name": "stdout",
     "output_type": "stream",
     "text": [
      "On the 462th day, sold 3.145247530980688 shares for $526.9862238158144\n",
      "XLY Final Value: 1184.8245558969047, Final Money: 1184.8245558969047, Final Shares: 0.0\n",
      "read  4779  lines of data for ticker:  XLY\n"
     ]
    },
    {
     "name": "stderr",
     "output_type": "stream",
     "text": [
      "\n",
      "[*********************100%***********************]  1 of 1 completed\n"
     ]
    },
    {
     "name": "stdout",
     "output_type": "stream",
     "text": [
      "read  504  lines of data for ticker:  XLY\n",
      "On the 100th day, Bought 3.243593902043464 shares for $497.4375608173857\n",
      "On the 101th day, Bought 2 shares for $306.66\n",
      "On the 138th day, sold 5.2435939020434645 shares for $852.1888809601039\n",
      "On the 232th day, Bought 3.60386334150209 shares for $492.2516938157705\n",
      "On the 265th day, sold 3.60386334150209 shares for $562.7792994089664\n",
      "XLY Final Value: 1108.4881803690703, Final Money: 1108.4881803690703, Final Shares: 0.0\n"
     ]
    },
    {
     "name": "stderr",
     "output_type": "stream",
     "text": [
      "[*********************100%***********************]  1 of 1 completed\n"
     ]
    },
    {
     "name": "stdout",
     "output_type": "stream",
     "text": [
      "read  4779  lines of data for ticker:  XLU\n"
     ]
    },
    {
     "name": "stderr",
     "output_type": "stream",
     "text": [
      "[*********************100%***********************]  1 of 1 completed\n"
     ]
    },
    {
     "name": "stdout",
     "output_type": "stream",
     "text": [
      "read  504  lines of data for ticker:  XLU\n",
      "On the 154th day, Bought 6.54278984559016 shares for $501.1777021722062\n",
      "On the 161th day, sold 6.54278984559016 shares for $488.09212248102585\n",
      "On the 202th day, Bought 7.458233890214797 shares for $498.3591885441527\n",
      "On the 217th day, Bought 6 shares for $417.29999999999995\n",
      "On the 218th day, Bought 0 shares for $0.0\n",
      "On the 219th day, Bought 0 shares for $0.0\n",
      "On the 221th day, Bought 1 shares for $69.56\n",
      "On the 270th day, sold 14.458233890214796 shares for $959.8821479713603\n",
      "On the 307th day, Bought 7.399733609590055 shares for $502.14592274678114\n",
      "On the 358th day, Bought 6 shares for $399.41999999999996\n",
      "On the 362th day, sold 13.399733609590054 shares for $871.3846766316412\n",
      "On the 377th day, Bought 7.566585956416465 shares for $499.546004842615\n",
      "On the 398th day, Bought 6 shares for $379.74\n",
      "On the 401th day, Bought 0 shares for $0.0\n",
      "On the 402th day, Bought 0 shares for $0.0\n",
      "On the 428th day, sold 13.566585956416464 shares for $815.758813559322\n"
     ]
    },
    {
     "name": "stderr",
     "output_type": "stream",
     "text": [
      "[*********************100%***********************]  1 of 1 completed"
     ]
    },
    {
     "name": "stdout",
     "output_type": "stream",
     "text": [
      "On the 469th day, Bought 7.975753708725475 shares for $500.39878768543633\n",
      "On the 470th day, Bought 5 shares for $314.0\n",
      "On the 471th day, Bought 0 shares for $0.0\n",
      "On the 472th day, Bought 0 shares for $0.0\n",
      "On the 473th day, Bought 0 shares for $0.0\n",
      "On the 484th day, sold 12.975753708725474 shares for $830.0589647471686\n",
      "XLU Final Value: 881.116725390518, Final Money: 881.116725390518, Final Shares: 0.0\n",
      "read  4779  lines of data for ticker:  XLU\n"
     ]
    },
    {
     "name": "stderr",
     "output_type": "stream",
     "text": [
      "\n",
      "[*********************100%***********************]  1 of 1 completed\n"
     ]
    },
    {
     "name": "stdout",
     "output_type": "stream",
     "text": [
      "read  504  lines of data for ticker:  XLU\n",
      "On the 295th day, Bought 7.466029565477079 shares for $497.0882484694639\n",
      "On the 300th day, sold 7.466029565477079 shares for $490.4434821561893\n",
      "On the 405th day, Bought 7.917656373713381 shares for $500.71258907363426\n",
      "On the 406th day, Bought 6 shares for $382.44\n",
      "On the 427th day, sold 13.917656373713381 shares for $853.2915122723674\n"
     ]
    },
    {
     "name": "stderr",
     "output_type": "stream",
     "text": [
      "[*********************100%***********************]  1 of 1 completed"
     ]
    },
    {
     "name": "stdout",
     "output_type": "stream",
     "text": [
      "XLU Final Value: 961.9549944285566, Final Money: 961.9549944285566, Final Shares: 0.0\n",
      "read  4779  lines of data for ticker:  XLU\n"
     ]
    },
    {
     "name": "stderr",
     "output_type": "stream",
     "text": [
      "\n",
      "[*********************100%***********************]  1 of 1 completed\n"
     ]
    },
    {
     "name": "stdout",
     "output_type": "stream",
     "text": [
      "read  504  lines of data for ticker:  XLU\n",
      "On the 228th day, Bought 7.022471910112359 shares for $498.2443820224719\n",
      "On the 256th day, sold 7.022471910112359 shares for $486.1657303370786\n",
      "On the 314th day, Bought 7.257947452460444 shares for $500.8709536942953\n",
      "On the 315th day, Bought 6 shares for $415.79999999999995\n",
      "On the 316th day, Bought 1 shares for $69.08\n",
      "On the 317th day, Bought 0 shares for $0.0\n",
      "On the 338th day, sold 14.257947452460444 shares for $944.018700827406\n",
      "On the 396th day, Bought 7.7435341489855976 shares for $499.6902586340406\n",
      "On the 397th day, Bought 6 shares for $382.14\n",
      "On the 404th day, Bought 0 shares for $0.0\n",
      "On the 428th day, sold 13.743534148985598 shares for $826.398708378504\n",
      "On the 468th day, Bought 7.996161842315688 shares for $499.92003838157683\n",
      "On the 469th day, Bought 6 shares for $376.44\n",
      "On the 470th day, Bought 0 shares for $0.0\n",
      "On the 488th day, sold 13.996161842315688 shares for $873.500460578922\n",
      "XLU Final Value: 885.0536001219107, Final Money: 885.0536001219107, Final Shares: 0.0\n"
     ]
    },
    {
     "name": "stderr",
     "output_type": "stream",
     "text": [
      "[*********************100%***********************]  1 of 1 completed\n"
     ]
    },
    {
     "name": "stdout",
     "output_type": "stream",
     "text": [
      "read  4779  lines of data for ticker:  XLB\n"
     ]
    },
    {
     "name": "stderr",
     "output_type": "stream",
     "text": [
      "[*********************100%***********************]  1 of 1 completed\n"
     ]
    },
    {
     "name": "stdout",
     "output_type": "stream",
     "text": [
      "read  504  lines of data for ticker:  XLB\n",
      "On the 50th day, Bought 5.59973121290178 shares for $498.1520886997423\n",
      "On the 51th day, Bought 4 shares for $355.88\n",
      "On the 52th day, Bought 1 shares for $89.67\n",
      "On the 71th day, sold 10.59973121290178 shares for $892.2853735020719\n",
      "On the 188th day, Bought 7.293946024799417 shares for $490.22611232676877\n",
      "On the 194th day, sold 7.293946024799417 shares for $509.8468271334793\n",
      "On the 201th day, Bought 6.749460043196544 shares for $507.4919006479481\n",
      "On the 202th day, Bought 5 shares for $372.84999999999997\n",
      "On the 209th day, sold 11.749460043196544 shares for $943.2466522678186\n",
      "On the 219th day, Bought 6.070171178827243 shares for $496.3578972927036\n",
      "On the 221th day, Bought 6.188118811881188 shares for $500.18564356435644\n",
      "On the 277th day, Bought 0 shares for $0.0\n",
      "On the 278th day, Bought 0 shares for $0.0\n",
      "On the 290th day, sold 12.25828999070843 shares for $958.3531114735852\n",
      "On the 377th day, Bought 5.999520038396928 shares for $498.14014878809695\n",
      "On the 378th day, Bought 4 shares for $335.52\n",
      "On the 379th day, Bought 1 shares for $83.81\n",
      "On the 380th day, Bought 0 shares for $0.0\n",
      "On the 381th day, Bought 0 shares for $0.0\n",
      "On the 382th day, Bought 0 shares for $0.0\n",
      "On the 424th day, sold 10.999520038396927 shares for $862.9123470122389\n"
     ]
    },
    {
     "name": "stderr",
     "output_type": "stream",
     "text": [
      "[*********************100%***********************]  1 of 1 completed"
     ]
    },
    {
     "name": "stdout",
     "output_type": "stream",
     "text": [
      "On the 469th day, Bought 6.163708086785009 shares for $498.1508875739644\n",
      "On the 470th day, Bought 5 shares for $405.09999999999997\n",
      "On the 471th day, Bought 0 shares for $0.0\n",
      "XLB Final Value: 965.4785322964917, Final Money: 25.494311389193967, Final Shares: 11.16370808678501\n",
      "read  4779  lines of data for ticker:  XLB\n"
     ]
    },
    {
     "name": "stderr",
     "output_type": "stream",
     "text": [
      "\n",
      "[*********************100%***********************]  1 of 1 completed\n"
     ]
    },
    {
     "name": "stdout",
     "output_type": "stream",
     "text": [
      "read  504  lines of data for ticker:  XLB\n",
      "On the 284th day, Bought 0 shares for $0.0\n",
      "On the 406th day, Bought 0 shares for $0.0\n"
     ]
    },
    {
     "name": "stderr",
     "output_type": "stream",
     "text": [
      "[*********************100%***********************]  1 of 1 completed"
     ]
    },
    {
     "name": "stdout",
     "output_type": "stream",
     "text": [
      "XLB Final Value: 1000.0, Final Money: 1000.0, Final Shares: 0.0\n",
      "read  4779  lines of data for ticker:  XLB\n"
     ]
    },
    {
     "name": "stderr",
     "output_type": "stream",
     "text": [
      "\n",
      "[*********************100%***********************]  1 of 1 completed\n"
     ]
    },
    {
     "name": "stdout",
     "output_type": "stream",
     "text": [
      "read  504  lines of data for ticker:  XLB\n",
      "On the 55th day, Bought 5.612932195779075 shares for $500.84193982936694\n",
      "On the 56th day, Bought 5.611672278338945 shares for $499.7194163860831\n",
      "On the 57th day, Bought 5.656748500961648 shares for $496.77565335445183\n",
      "On the 70th day, sold 16.88135297507967 shares for $1443.3556793693117\n",
      "On the 191th day, Bought 7.155123068116772 shares for $512.0206067544362\n",
      "On the 209th day, sold 7.155123068116772 shares for $574.4132799084144\n",
      "On the 380th day, Bought 5.970862192500597 shares for $498.56699307379984\n",
      "On the 381th day, Bought 5.970149253731344 shares for $500.5970149253731\n",
      "On the 382th day, Bought 0 shares for $0.0\n",
      "On the 404th day, Bought 0 shares for $0.0\n",
      "On the 405th day, Bought 0 shares for $0.0\n",
      "On the 406th day, Bought 0 shares for $0.0\n",
      "On the 411th day, sold 11.94101144623194 shares for $1000.8955794231612\n",
      "XLB Final Value: 1018.6645387008871, Final Money: 1018.6645387008871, Final Shares: 0.0\n"
     ]
    },
    {
     "name": "stderr",
     "output_type": "stream",
     "text": [
      "[*********************100%***********************]  1 of 1 completed\n"
     ]
    },
    {
     "name": "stdout",
     "output_type": "stream",
     "text": [
      "read  4779  lines of data for ticker:  XLE\n"
     ]
    },
    {
     "name": "stderr",
     "output_type": "stream",
     "text": [
      "[*********************100%***********************]  1 of 1 completed\n"
     ]
    },
    {
     "name": "stdout",
     "output_type": "stream",
     "text": [
      "read  504  lines of data for ticker:  XLE\n",
      "On the 152th day, Bought 6.304375236414071 shares for $508.19568780733823\n",
      "On the 154th day, Bought 5 shares for $418.29999999999995\n",
      "On the 155th day, Bought 1 shares for $83.65\n",
      "On the 156th day, Bought 0 shares for $0.0\n",
      "On the 175th day, sold 12.30437523641407 shares for $867.2123666624638\n",
      "On the 197th day, Bought 5.718860802928056 shares for $501.88722406496623\n",
      "On the 198th day, Bought 4 shares for $359.36\n",
      "On the 199th day, Bought 0 shares for $0.0\n",
      "On the 200th day, Bought 0 shares for $0.0\n",
      "On the 202th day, Bought 0 shares for $0.0\n",
      "On the 231th day, sold 9.718860802928056 shares for $840.2927050211597\n",
      "On the 237th day, Bought 5.789717461787864 shares for $500.5210745715609\n",
      "On the 293th day, sold 5.789717461787864 shares for $447.8925428439092\n",
      "On the 367th day, Bought 6.159911297277319 shares for $501.2319822594555\n",
      "On the 368th day, Bought 3 shares for $245.10000000000002\n",
      "On the 369th day, Bought 0 shares for $0.0\n",
      "On the 409th day, Bought 0 shares for $0.0\n",
      "On the 410th day, Bought 0 shares for $0.0\n",
      "On the 411th day, Bought 0 shares for $0.0\n",
      "On the 414th day, Bought 0 shares for $0.0\n",
      "On the 433th day, sold 9.159911297277318 shares for $785.46239374153\n"
     ]
    },
    {
     "name": "stderr",
     "output_type": "stream",
     "text": [
      "[*********************100%***********************]  1 of 1 completed"
     ]
    },
    {
     "name": "stdout",
     "output_type": "stream",
     "text": [
      "On the 463th day, Bought 5.91016548463357 shares for $495.27186761229314\n",
      "On the 472th day, Bought 4 shares for $338.96\n",
      "On the 490th day, Bought 0 shares for $0.0\n",
      "On the 491th day, Bought 0 shares for $0.0\n",
      "On the 492th day, Bought 0 shares for $0.0\n",
      "On the 493th day, Bought 0 shares for $0.0\n",
      "On the 494th day, Bought 0 shares for $0.0\n",
      "XLE Final Value: 844.9991099239091, Final Money: 6.500008269062789, Final Shares: 9.91016548463357\n",
      "read  4779  lines of data for ticker:  XLE\n"
     ]
    },
    {
     "name": "stderr",
     "output_type": "stream",
     "text": [
      "\n",
      "[*********************100%***********************]  1 of 1 completed\n"
     ]
    },
    {
     "name": "stdout",
     "output_type": "stream",
     "text": [
      "read  504  lines of data for ticker:  XLE\n",
      "On the 165th day, Bought 6.20347394540943 shares for $507.32009925558316\n",
      "On the 166th day, Bought 6.091617933723197 shares for $492.2027290448343\n",
      "On the 175th day, sold 12.295091879132627 shares for $866.5580756412676\n",
      "On the 251th day, Bought 5.566688933422401 shares for $499.6103317746605\n",
      "On the 271th day, sold 5.566688933422401 shares for $502.17100868403475\n"
     ]
    },
    {
     "name": "stderr",
     "output_type": "stream",
     "text": [
      "[*********************100%***********************]  1 of 1 completed"
     ]
    },
    {
     "name": "stdout",
     "output_type": "stream",
     "text": [
      "On the 472th day, Bought 5.950964056177101 shares for $504.2846941204475\n",
      "On the 473th day, Bought 4 shares for $337.92\n",
      "XLE Final Value: 872.3601531184468, Final Money: 30.40908432530233, Final Shares: 9.950964056177101\n",
      "read  4779  lines of data for ticker:  XLE\n"
     ]
    },
    {
     "name": "stderr",
     "output_type": "stream",
     "text": [
      "\n",
      "[*********************100%***********************]  1 of 1 completed\n"
     ]
    },
    {
     "name": "stdout",
     "output_type": "stream",
     "text": [
      "read  504  lines of data for ticker:  XLE\n",
      "On the 99th day, Bought 5.592215635834918 shares for $499.6644670618499\n",
      "On the 106th day, sold 5.592215635834918 shares for $460.6867240800806\n",
      "On the 165th day, Bought 6.20347394540943 shares for $507.32009925558316\n",
      "On the 175th day, sold 6.20347394540943 shares for $437.2208436724566\n",
      "On the 466th day, Bought 5.895531187359981 shares for $497.641787525056\n",
      "On the 467th day, Bought 4 shares for $331.72\n",
      "On the 471th day, Bought 0 shares for $0.0\n",
      "XLE Final Value: 896.6884615150651, Final Money: 59.427567752537016, Final Shares: 9.895531187359982\n"
     ]
    },
    {
     "name": "stderr",
     "output_type": "stream",
     "text": [
      "[*********************100%***********************]  1 of 1 completed\n"
     ]
    },
    {
     "name": "stdout",
     "output_type": "stream",
     "text": [
      "read  4779  lines of data for ticker:  XLF\n"
     ]
    },
    {
     "name": "stderr",
     "output_type": "stream",
     "text": [
      "[*********************100%***********************]  1 of 1 completed\n"
     ]
    },
    {
     "name": "stdout",
     "output_type": "stream",
     "text": [
      "read  504  lines of data for ticker:  XLF\n",
      "On the 100th day, Bought 14.188422247446082 shares for $496.1691259931895\n",
      "On the 101th day, Bought 14.44251877527441 shares for $499.4222992489891\n",
      "On the 123th day, Bought 15.812776723592663 shares for $494.6236559139785\n",
      "On the 124th day, Bought 15.95405232929164 shares for $489.78940650925335\n",
      "On the 143th day, Bought 14.775413711583923 shares for $508.7174940898345\n",
      "On the 161th day, sold 75.17318378718872 shares for $2472.446014760637\n",
      "On the 202th day, Bought 14.6756677428823 shares for $498.9727032579982\n",
      "On the 219th day, Bought 12 shares for $430.91999999999996\n",
      "On the 286th day, Bought 1 shares for $35.89\n",
      "On the 289th day, sold 27.6756677428823 shares for $928.2418960962723\n",
      "On the 415th day, Bought 14.57725947521866 shares for $502.33236151603506\n",
      "On the 430th day, sold 14.57725947521866 shares for $483.527696793003\n",
      "On the 461th day, Bought 14.766686355581808 shares for $505.4636739515652\n",
      "On the 462th day, Bought 12 shares for $414.72\n",
      "On the 463th day, Bought 0 shares for $0.0\n",
      "On the 464th day, Bought 0 shares for $0.0\n",
      "On the 465th day, Bought 0 shares for $0.0\n",
      "On the 467th day, Bought 0 shares for $0.0\n",
      "On the 468th day, Bought 0 shares for $0.0\n",
      "On the 469th day, Bought 0 shares for $0.0\n",
      "On the 470th day, Bought 0 shares for $0.0\n",
      "On the 471th day, Bought 0 shares for $0.0\n",
      "XLF Final Value: 1007.0353477562323, Final Money: 0.8756076499121264, Final Shares: 26.766686355581808\n"
     ]
    },
    {
     "name": "stderr",
     "output_type": "stream",
     "text": [
      "[*********************100%***********************]  1 of 1 completed\n"
     ]
    },
    {
     "name": "stdout",
     "output_type": "stream",
     "text": [
      "read  4779  lines of data for ticker:  XLF\n"
     ]
    },
    {
     "name": "stderr",
     "output_type": "stream",
     "text": [
      "[*********************100%***********************]  1 of 1 completed\n"
     ]
    },
    {
     "name": "stdout",
     "output_type": "stream",
     "text": [
      "read  504  lines of data for ticker:  XLF\n",
      "On the 98th day, Bought 14.338973329509608 shares for $504.1583022655578\n",
      "On the 99th day, Bought 14.297969688304262 shares for $496.56848727480696\n",
      "On the 100th day, Bought 14.188422247446082 shares for $496.1691259931895\n",
      "On the 101th day, Bought 14.44251877527441 shares for $499.4222992489891\n",
      "On the 119th day, Bought 15.77784790154623 shares for $504.2600189334175\n",
      "On the 120th day, Bought 15.552099533437016 shares for $501.3996889580094\n",
      "On the 167th day, sold 88.59783147551761 shares for $2954.7376797085126\n",
      "On the 284th day, Bought 14.112334180073384 shares for $501.97572678521027\n",
      "On the 287th day, sold 14.112334180073384 shares for $495.20180637877513\n"
     ]
    },
    {
     "name": "stderr",
     "output_type": "stream",
     "text": [
      "[*********************100%***********************]  1 of 1 completed"
     ]
    },
    {
     "name": "stdout",
     "output_type": "stream",
     "text": [
      "On the 469th day, Bought 14.132278123233464 shares for $498.1628038439796\n",
      "On the 470th day, Bought 0 shares for $0.0\n",
      "On the 471th day, Bought 0 shares for $0.0\n",
      "XLF Final Value: 981.1718207396336, Final Money: 449.9394860872877, Final Shares: 14.132278123233464\n",
      "read  4779  lines of data for ticker:  XLF\n"
     ]
    },
    {
     "name": "stderr",
     "output_type": "stream",
     "text": [
      "\n",
      "[*********************100%***********************]  1 of 1 completed\n"
     ]
    },
    {
     "name": "stdout",
     "output_type": "stream",
     "text": [
      "read  504  lines of data for ticker:  XLF\n",
      "On the 49th day, Bought 12.813941568426447 shares for $501.66581240389536\n",
      "On the 83th day, sold 12.813941568426447 shares for $423.50076883649405\n",
      "On the 215th day, Bought 14.136273678258412 shares for $499.29318631608714\n",
      "On the 216th day, Bought 11 shares for $392.37\n",
      "On the 283th day, Bought 0 shares for $0.0\n",
      "On the 289th day, sold 25.136273678258412 shares for $843.0706191687872\n",
      "On the 356th day, Bought 15.055706112616681 shares for $498.3438723276122\n",
      "On the 425th day, sold 15.055706112616681 shares for $506.7750677506774\n",
      "XLF Final Value: 883.0664557559586, Final Money: 883.0664557559586, Final Shares: 0.0\n"
     ]
    },
    {
     "name": "stderr",
     "output_type": "stream",
     "text": [
      "[*********************100%***********************]  1 of 1 completed\n"
     ]
    },
    {
     "name": "stdout",
     "output_type": "stream",
     "text": [
      "read  4779  lines of data for ticker:  XLI\n"
     ]
    },
    {
     "name": "stderr",
     "output_type": "stream",
     "text": [
      "[*********************100%***********************]  1 of 1 completed\n"
     ]
    },
    {
     "name": "stdout",
     "output_type": "stream",
     "text": [
      "read  504  lines of data for ticker:  XLI\n",
      "On the 48th day, Bought 4.887585532746823 shares for $502.5415444770283\n",
      "On the 49th day, Bought 3 shares for $309.9\n",
      "On the 50th day, Bought 1 shares for $103.63\n",
      "On the 51th day, Bought 0 shares for $0.0\n",
      "On the 52th day, Bought 0 shares for $0.0\n",
      "On the 53th day, Bought 0 shares for $0.0\n",
      "On the 74th day, sold 8.887585532746822 shares for $845.5648875855327\n",
      "On the 99th day, Bought 5.211047420531527 shares for $495.57060969254815\n",
      "On the 125th day, Bought 4 shares for $346.8\n",
      "On the 126th day, Bought 1 shares for $87.61\n",
      "On the 143th day, Bought 0 shares for $0.0\n",
      "On the 161th day, sold 10.211047420531527 shares for $941.0501302761854\n",
      "On the 202th day, Bought 5.304476978569912 shares for $497.50689582007215\n",
      "On the 216th day, Bought 4 shares for $400.8\n",
      "On the 217th day, Bought 0 shares for $0.0\n",
      "On the 218th day, Bought 0 shares for $0.0\n",
      "On the 219th day, Bought 0 shares for $0.0\n",
      "On the 221th day, Bought 0 shares for $0.0\n",
      "On the 272th day, Bought 0 shares for $0.0\n",
      "On the 292th day, sold 9.304476978569912 shares for $925.609369828135\n",
      "On the 355th day, Bought 4.792485382919582 shares for $501.38982076104674\n",
      "On the 366th day, Bought 3 shares for $321.18\n",
      "On the 367th day, Bought 1 shares for $106.91\n",
      "On the 368th day, Bought 0 shares for $0.0\n",
      "On the 369th day, Bought 0 shares for $0.0\n",
      "On the 381th day, Bought 0 shares for $0.0\n",
      "On the 382th day, Bought 0 shares for $0.0\n",
      "On the 406th day, sold 8.792485382919583 shares for $936.7513926962524\n",
      "On the 421th day, Bought 4.776005349125991 shares for $498.75823860922725\n",
      "On the 432th day, sold 4.776005349125991 shares for $476.11997325437\n"
     ]
    },
    {
     "name": "stderr",
     "output_type": "stream",
     "text": [
      "[*********************100%***********************]  1 of 1 completed"
     ]
    },
    {
     "name": "stdout",
     "output_type": "stream",
     "text": [
      "On the 461th day, Bought 4.871395167575994 shares for $506.08924395946997\n",
      "On the 469th day, Bought 3 shares for $318.0\n",
      "On the 470th day, Bought 1 shares for $105.89\n",
      "On the 471th day, Bought 0 shares for $0.0\n",
      "XLI Final Value: 1020.3320357916836, Final Money: 32.94575364047547, Final Shares: 8.871395167575994\n",
      "read  4779  lines of data for ticker:  XLI\n"
     ]
    },
    {
     "name": "stderr",
     "output_type": "stream",
     "text": [
      "\n",
      "[*********************100%***********************]  1 of 1 completed\n"
     ]
    },
    {
     "name": "stdout",
     "output_type": "stream",
     "text": [
      "read  504  lines of data for ticker:  XLI\n",
      "On the 119th day, Bought 5.728689275893675 shares for $503.49450045829514\n",
      "On the 167th day, sold 5.728689275893675 shares for $528.4715857011915\n",
      "On the 315th day, Bought 0 shares for $0.0\n",
      "On the 316th day, Bought 0 shares for $0.0\n",
      "On the 317th day, Bought 0 shares for $0.0\n",
      "On the 318th day, Bought 0 shares for $0.0\n"
     ]
    },
    {
     "name": "stderr",
     "output_type": "stream",
     "text": [
      "[*********************100%***********************]  1 of 1 completed"
     ]
    },
    {
     "name": "stdout",
     "output_type": "stream",
     "text": [
      "On the 469th day, Bought 0 shares for $0.0\n",
      "On the 470th day, Bought 0 shares for $0.0\n",
      "On the 471th day, Bought 0 shares for $0.0\n",
      "On the 472th day, Bought 0 shares for $0.0\n",
      "XLI Final Value: 1028.4715857011915, Final Money: 1028.4715857011915, Final Shares: 0.0\n",
      "read  4779  lines of data for ticker:  XLI\n"
     ]
    },
    {
     "name": "stderr",
     "output_type": "stream",
     "text": [
      "\n",
      "[*********************100%***********************]  1 of 1 completed\n"
     ]
    },
    {
     "name": "stdout",
     "output_type": "stream",
     "text": [
      "read  504  lines of data for ticker:  XLI\n",
      "On the 49th day, Bought 4.850601474582849 shares for $501.06713232440825\n",
      "On the 50th day, Bought 4.820671037408407 shares for $499.5661396066332\n",
      "On the 51th day, Bought 4.819277108433735 shares for $503.277108433735\n",
      "On the 72th day, sold 14.49054962042499 shares for $1400.366715317871\n",
      "On the 215th day, Bought 5.02815768302494 shares for $498.69267900241357\n",
      "On the 216th day, Bought 3 shares for $300.6\n",
      "On the 255th day, sold 8.02815768302494 shares for $783.7890345937249\n",
      "XLI Final Value: 884.8757499115959, Final Money: 884.8757499115959, Final Shares: 0.0\n"
     ]
    },
    {
     "name": "stderr",
     "output_type": "stream",
     "text": [
      "[*********************100%***********************]  1 of 1 completed\n"
     ]
    },
    {
     "name": "stdout",
     "output_type": "stream",
     "text": [
      "read  4779  lines of data for ticker:  XLK\n"
     ]
    },
    {
     "name": "stderr",
     "output_type": "stream",
     "text": [
      "[*********************100%***********************]  1 of 1 completed\n"
     ]
    },
    {
     "name": "stdout",
     "output_type": "stream",
     "text": [
      "read  504  lines of data for ticker:  XLK\n",
      "On the 50th day, Bought 3.160156743774491 shares for $497.69308557704466\n",
      "On the 51th day, Bought 2 shares for $323.94\n",
      "On the 52th day, Bought 1 shares for $162.66\n",
      "On the 53th day, Bought 0 shares for $0.0\n",
      "On the 73th day, sold 6.1601567437744915 shares for $909.0543306788016\n",
      "On the 115th day, Bought 3.88078236572493 shares for $493.36386215461033\n",
      "On the 121th day, Bought 2 shares for $263.42\n",
      "On the 122th day, Bought 1 shares for $131.52\n",
      "On the 143th day, Bought 0 shares for $0.0\n",
      "On the 146th day, Bought 0 shares for $0.0\n",
      "On the 149th day, Bought 0 shares for $0.0\n",
      "On the 150th day, Bought 0 shares for $0.0\n",
      "On the 151th day, Bought 0 shares for $0.0\n",
      "On the 183th day, sold 6.880782365724929 shares for $873.7905526234088\n",
      "On the 216th day, Bought 3.826432999158185 shares for $502.18106680952025\n",
      "On the 217th day, Bought 2 shares for $265.82\n",
      "On the 218th day, Bought 1 shares for $133.47\n",
      "On the 219th day, Bought 0 shares for $0.0\n",
      "On the 220th day, Bought 0 shares for $0.0\n",
      "On the 221th day, Bought 0 shares for $0.0\n",
      "On the 255th day, Bought 0 shares for $0.0\n",
      "On the 268th day, sold 6.826432999158185 shares for $979.8661926991658\n",
      "On the 336th day, Bought 3.2817012339196636 shares for $502.10028878970854\n",
      "On the 343th day, sold 3.2817012339196636 shares for $525.8269887109477\n",
      "On the 372th day, Bought 2.9127344751252475 shares for $501.0485844110451\n",
      "On the 405th day, sold 2.9127344751252475 shares for $486.45578469066754\n"
     ]
    },
    {
     "name": "stderr",
     "output_type": "stream",
     "text": [
      "[*********************100%***********************]  1 of 1 completed"
     ]
    },
    {
     "name": "stdout",
     "output_type": "stream",
     "text": [
      "On the 458th day, Bought 2.8446265005404787 shares for $500.7396028901405\n",
      "On the 459th day, Bought 1 shares for $176.01\n",
      "On the 467th day, Bought 1 shares for $185.11\n",
      "On the 469th day, Bought 0 shares for $0.0\n",
      "On the 470th day, Bought 0 shares for $0.0\n",
      "On the 471th day, Bought 0 shares for $0.0\n",
      "On the 473th day, Bought 0 shares for $0.0\n",
      "On the 492th day, Bought 0 shares for $0.0\n",
      "XLK Final Value: 1027.0687120075313, Final Money: 134.83384940299163, Final Shares: 4.844626500540478\n",
      "read  4779  lines of data for ticker:  XLK\n"
     ]
    },
    {
     "name": "stderr",
     "output_type": "stream",
     "text": [
      "\n",
      "[*********************100%***********************]  1 of 1 completed\n"
     ]
    },
    {
     "name": "stdout",
     "output_type": "stream",
     "text": [
      "read  504  lines of data for ticker:  XLK\n",
      "On the 50th day, Bought 0 shares for $0.0\n",
      "On the 51th day, Bought 0 shares for $0.0\n",
      "On the 52th day, Bought 0 shares for $0.0\n",
      "On the 53th day, Bought 0 shares for $0.0\n",
      "On the 56th day, Bought 0 shares for $0.0\n",
      "On the 101th day, Bought 0 shares for $0.0\n",
      "On the 121th day, Bought 0 shares for $0.0\n",
      "On the 122th day, Bought 0 shares for $0.0\n",
      "On the 275th day, Bought 0 shares for $0.0\n",
      "On the 276th day, Bought 0 shares for $0.0\n"
     ]
    },
    {
     "name": "stderr",
     "output_type": "stream",
     "text": [
      "[*********************100%***********************]  1 of 1 completed"
     ]
    },
    {
     "name": "stdout",
     "output_type": "stream",
     "text": [
      "On the 442th day, Bought 0 shares for $0.0\n",
      "On the 443th day, Bought 0 shares for $0.0\n",
      "On the 444th day, Bought 0 shares for $0.0\n",
      "On the 474th day, Bought 0 shares for $0.0\n",
      "XLK Final Value: 1000.0, Final Money: 1000.0, Final Shares: 0.0\n"
     ]
    },
    {
     "name": "stderr",
     "output_type": "stream",
     "text": [
      "\n"
     ]
    },
    {
     "name": "stdout",
     "output_type": "stream",
     "text": [
      "read  4779  lines of data for ticker:  XLK\n"
     ]
    },
    {
     "name": "stderr",
     "output_type": "stream",
     "text": [
      "[*********************100%***********************]  1 of 1 completed\n"
     ]
    },
    {
     "name": "stdout",
     "output_type": "stream",
     "text": [
      "read  504  lines of data for ticker:  XLK\n",
      "On the 100th day, Bought 3.529328721677137 shares for $498.5176819368956\n",
      "On the 101th day, Bought 3.5696437495537947 shares for $496.3589633754552\n",
      "On the 104th day, sold 7.0989724712309314 shares for $889.3592711958111\n",
      "On the 215th day, Bought 3.785297902944962 shares for $497.1610265727913\n",
      "On the 339th day, sold 3.785297902944962 shares for $596.1087137557726\n",
      "XLK Final Value: 985.4679849515836, Final Money: 985.4679849515836, Final Shares: 0.0\n"
     ]
    },
    {
     "name": "stderr",
     "output_type": "stream",
     "text": [
      "[*********************100%***********************]  1 of 1 completed\n"
     ]
    },
    {
     "name": "stdout",
     "output_type": "stream",
     "text": [
      "read  4779  lines of data for ticker:  XLP\n"
     ]
    },
    {
     "name": "stderr",
     "output_type": "stream",
     "text": [
      "[*********************100%***********************]  1 of 1 completed\n"
     ]
    },
    {
     "name": "stdout",
     "output_type": "stream",
     "text": [
      "read  504  lines of data for ticker:  XLP\n",
      "On the 125th day, Bought 6.87757909215956 shares for $503.30123796423663\n",
      "On the 144th day, Bought 5 shares for $376.8\n",
      "On the 146th day, Bought 1 shares for $75.47\n",
      "On the 155th day, Bought 0 shares for $0.0\n",
      "On the 161th day, sold 12.87757909215956 shares for $934.3971389270978\n",
      "On the 216th day, Bought 6.632179334129195 shares for $503.7140204271124\n",
      "On the 217th day, Bought 5 shares for $380.0\n",
      "On the 218th day, Bought 1 shares for $76.3\n",
      "On the 219th day, Bought 0 shares for $0.0\n",
      "On the 220th day, Bought 0 shares for $0.0\n",
      "On the 221th day, Bought 0 shares for $0.0\n",
      "On the 261th day, Bought 0 shares for $0.0\n",
      "On the 291th day, sold 12.632179334129194 shares for $902.8218570102135\n",
      "On the 304th day, Bought 6.746727836999056 shares for $502.5637565780596\n",
      "On the 305th day, Bought 5 shares for $373.8\n",
      "On the 306th day, Bought 0 shares for $0.0\n",
      "On the 307th day, Bought 0 shares for $0.0\n",
      "On the 308th day, Bought 0 shares for $0.0\n",
      "On the 309th day, Bought 0 shares for $0.0\n",
      "On the 338th day, sold 11.746727836999057 shares for $891.2242409931184\n",
      "On the 409th day, Bought 6.837139340899768 shares for $498.1539723779571\n",
      "On the 410th day, Bought 5 shares for $365.0\n",
      "On the 415th day, Bought 1 shares for $71.8\n",
      "On the 418th day, Bought 0 shares for $0.0\n",
      "On the 434th day, sold 12.837139340899768 shares for $860.6018214139204\n",
      "On the 471th day, Bought 7.089181908407769 shares for $500.4962427335885\n",
      "On the 472th day, Bought 5 shares for $350.15\n",
      "On the 487th day, sold 12.08918190840777 shares for $848.5396781511414\n"
     ]
    },
    {
     "name": "stderr",
     "output_type": "stream",
     "text": [
      "[*********************100%***********************]  1 of 1 completed"
     ]
    },
    {
     "name": "stdout",
     "output_type": "stream",
     "text": [
      "XLP Final Value: 872.1247364954916, Final Money: 872.1247364954916, Final Shares: 0.0\n",
      "read  4779  lines of data for ticker:  XLP\n"
     ]
    },
    {
     "name": "stderr",
     "output_type": "stream",
     "text": [
      "\n",
      "[*********************100%***********************]  1 of 1 completed\n"
     ]
    },
    {
     "name": "stdout",
     "output_type": "stream",
     "text": [
      "read  504  lines of data for ticker:  XLP\n",
      "On the 124th day, Bought 6.883259911894273 shares for $493.59856828193824\n",
      "On the 125th day, Bought 5 shares for $365.90000000000003\n",
      "On the 126th day, Bought 1 shares for $73.07\n",
      "On the 156th day, sold 12.883259911894273 shares for $959.1587004405286\n",
      "On the 216th day, Bought 6.632179334129195 shares for $503.7140204271124\n",
      "On the 217th day, Bought 6.584145377929945 shares for $500.39504872267577\n",
      "On the 218th day, Bought 0 shares for $0.0\n",
      "On the 247th day, sold 13.21632471205914 shares for $1001.5330866798417\n",
      "On the 378th day, Bought 6.758583400919167 shares for $501.6220600162206\n",
      "On the 407th day, Bought 6.8728522336769755 shares for $500.2749140893471\n",
      "On the 408th day, Bought 0 shares for $0.0\n",
      "On the 409th day, Bought 0 shares for $0.0\n",
      "On the 410th day, Bought 0 shares for $0.0\n",
      "On the 424th day, sold 13.631435634596142 shares for $961.2888409517199\n"
     ]
    },
    {
     "name": "stderr",
     "output_type": "stream",
     "text": [
      "[*********************100%***********************]  1 of 1 completed"
     ]
    },
    {
     "name": "stdout",
     "output_type": "stream",
     "text": [
      "XLP Final Value: 985.5406280720904, Final Money: 985.5406280720904, Final Shares: 0.0\n",
      "read  4779  lines of data for ticker:  XLP\n"
     ]
    },
    {
     "name": "stderr",
     "output_type": "stream",
     "text": [
      "\n",
      "[*********************100%***********************]  1 of 1 completed\n"
     ]
    },
    {
     "name": "stdout",
     "output_type": "stream",
     "text": [
      "read  504  lines of data for ticker:  XLP\n",
      "On the 312th day, Bought 6.645401382243488 shares for $500.19936204146734\n",
      "On the 314th day, Bought 5 shares for $376.65\n",
      "On the 340th day, sold 11.645401382243488 shares for $870.7266613503456\n",
      "On the 460th day, Bought 7.250580046403713 shares for $499.5649651972159\n",
      "XLP Final Value: 1018.1010232993016, Final Money: 494.8266613503456, Final Shares: 7.250580046403713\n"
     ]
    },
    {
     "name": "stderr",
     "output_type": "stream",
     "text": [
      "[*********************100%***********************]  1 of 1 completed\n"
     ]
    },
    {
     "name": "stdout",
     "output_type": "stream",
     "text": [
      "read  4779  lines of data for ticker:  XLV\n"
     ]
    },
    {
     "name": "stderr",
     "output_type": "stream",
     "text": [
      "[*********************100%***********************]  1 of 1 completed\n"
     ]
    },
    {
     "name": "stdout",
     "output_type": "stream",
     "text": [
      "read  504  lines of data for ticker:  XLV\n",
      "On the 50th day, Bought 3.669186174506494 shares for $500.84391282013644\n",
      "On the 51th day, Bought 2 shares for $276.8\n",
      "On the 52th day, Bought 1 shares for $138.09\n",
      "On the 53th day, Bought 0 shares for $0.0\n",
      "On the 74th day, sold 6.669186174506494 shares for $868.9282666764511\n",
      "On the 125th day, Bought 3.9329819869425 shares for $507.4333359553214\n",
      "On the 134th day, Bought 2 shares for $264.34\n",
      "On the 142th day, Bought 1 shares for $131.93\n",
      "On the 143th day, Bought 0 shares for $0.0\n",
      "On the 161th day, sold 6.9329819869425 shares for $866.553418547943\n",
      "On the 202th day, Bought 3.764209892343597 shares for $498.8330949333735\n",
      "On the 216th day, Bought 2 shares for $269.9\n",
      "On the 217th day, Bought 1 shares for $135.82\n",
      "On the 218th day, Bought 0 shares for $0.0\n",
      "On the 219th day, Bought 0 shares for $0.0\n",
      "On the 220th day, Bought 0 shares for $0.0\n",
      "On the 221th day, Bought 0 shares for $0.0\n",
      "On the 261th day, Bought 0 shares for $0.0\n",
      "On the 286th day, Bought 0 shares for $0.0\n",
      "On the 290th day, sold 6.764209892343597 shares for $839.7766581344576\n",
      "On the 375th day, Bought 3.8535645472061657 shares for $503.77649325626203\n",
      "On the 381th day, sold 3.8535645472061657 shares for $525.009633911368\n",
      "On the 402th day, Bought 3.7405550983765994 shares for $499.25188898032474\n",
      "On the 403th day, Bought 2 shares for $268.0\n",
      "On the 404th day, Bought 0 shares for $0.0\n",
      "On the 432th day, sold 5.7405550983766 shares for $731.4615306351463\n"
     ]
    },
    {
     "name": "stderr",
     "output_type": "stream",
     "text": [
      "[*********************100%***********************]  1 of 1 completed"
     ]
    },
    {
     "name": "stdout",
     "output_type": "stream",
     "text": [
      "On the 466th day, Bought 3.8750678136867394 shares for $501.70502983802214\n",
      "On the 467th day, Bought 2 shares for $260.48\n",
      "On the 468th day, Bought 0 shares for $0.0\n",
      "On the 469th day, Bought 0 shares for $0.0\n",
      "On the 470th day, Bought 0 shares for $0.0\n",
      "On the 471th day, Bought 0 shares for $0.0\n",
      "On the 472th day, Bought 0 shares for $0.0\n",
      "XLV Final Value: 910.3439502831079, Final Money: 92.29950790536634, Final Shares: 5.875067813686739\n",
      "read  4779  lines of data for ticker:  XLV\n"
     ]
    },
    {
     "name": "stderr",
     "output_type": "stream",
     "text": [
      "\n",
      "[*********************100%***********************]  1 of 1 completed\n"
     ]
    },
    {
     "name": "stdout",
     "output_type": "stream",
     "text": [
      "read  504  lines of data for ticker:  XLV\n",
      "On the 207th day, Bought 3.7630766915029725 shares for $499.20975389478434\n",
      "On the 208th day, Bought 2 shares for $268.94\n",
      "On the 216th day, Bought 1 shares for $134.95\n",
      "On the 217th day, Bought 0 shares for $0.0\n",
      "On the 218th day, Bought 0 shares for $0.0\n",
      "On the 219th day, Bought 0 shares for $0.0\n",
      "On the 261th day, Bought 0 shares for $0.0\n",
      "On the 270th day, Bought 0 shares for $0.0\n",
      "On the 287th day, sold 6.763076691502972 shares for $859.1136321216226\n",
      "On the 320th day, Bought 3.7023324694557567 shares for $499.25953350610877\n",
      "On the 329th day, Bought 2 shares for $266.78\n",
      "On the 357th day, sold 5.702332469455756 shares for $753.96239911144\n"
     ]
    },
    {
     "name": "stderr",
     "output_type": "stream",
     "text": [
      "[*********************100%***********************]  1 of 1 completed"
     ]
    },
    {
     "name": "stdout",
     "output_type": "stream",
     "text": [
      "XLV Final Value: 948.3860312330626, Final Money: 948.3860312330626, Final Shares: 0.0\n",
      "read  4779  lines of data for ticker:  XLV\n"
     ]
    },
    {
     "name": "stderr",
     "output_type": "stream",
     "text": [
      "\n",
      "[*********************100%***********************]  1 of 1 completed\n"
     ]
    },
    {
     "name": "stdout",
     "output_type": "stream",
     "text": [
      "read  504  lines of data for ticker:  XLV\n",
      "On the 479th day, Bought 3.785871128946771 shares for $502.68796850155223\n",
      "XLV Final Value: 1027.1446959945483, Final Money: 500.0, Final Shares: 3.785871128946771\n"
     ]
    },
    {
     "name": "stderr",
     "output_type": "stream",
     "text": [
      "[*********************100%***********************]  1 of 1 completed\n"
     ]
    },
    {
     "name": "stdout",
     "output_type": "stream",
     "text": [
      "read  4779  lines of data for ticker:  XLY\n"
     ]
    },
    {
     "name": "stderr",
     "output_type": "stream",
     "text": [
      "[*********************100%***********************]  1 of 1 completed\n"
     ]
    },
    {
     "name": "stdout",
     "output_type": "stream",
     "text": [
      "read  504  lines of data for ticker:  XLY\n",
      "On the 50th day, Bought 2.726876090750436 shares for $505.26287085514826\n",
      "On the 52th day, Bought 2.6105570928836213 shares for $496.00584764788806\n",
      "On the 53th day, Bought 0 shares for $0.0\n",
      "On the 54th day, Bought 0 shares for $0.0\n",
      "On the 55th day, Bought 0 shares for $0.0\n",
      "On the 73th day, sold 5.337433183634057 shares for $915.9035343116042\n",
      "On the 100th day, Bought 3.243593902043464 shares for $497.4375608173857\n",
      "On the 101th day, Bought 2 shares for $306.66\n",
      "On the 102th day, Bought 0 shares for $0.0\n",
      "On the 121th day, Bought 0 shares for $0.0\n",
      "On the 151th day, Bought 0 shares for $0.0\n",
      "On the 153th day, Bought 0 shares for $0.0\n",
      "On the 173th day, sold 5.2435939020434645 shares for $804.4197405124879\n",
      "On the 216th day, Bought 3.598416696653473 shares for $501.9791291831595\n",
      "On the 217th day, Bought 2 shares for $282.04\n",
      "On the 218th day, Bought 0 shares for $0.0\n",
      "On the 219th day, Bought 0 shares for $0.0\n",
      "On the 220th day, Bought 0 shares for $0.0\n",
      "On the 221th day, Bought 0 shares for $0.0\n",
      "On the 264th day, sold 5.598416696653473 shares for $848.2720978769343\n",
      "On the 306th day, Bought 3.374502260916515 shares for $501.6535061078491\n",
      "On the 331th day, Bought 2 shares for $298.02\n",
      "On the 336th day, Bought 1 shares for $148.35\n",
      "On the 347th day, sold 6.374502260916515 shares for $977.8486468245934\n",
      "On the 375th day, Bought 2.8658222043904398 shares for $499.9713417779561\n",
      "On the 376th day, Bought 2.8584495769494627 shares for $500.28584495769496\n",
      "On the 377th day, Bought 0 shares for $0.0\n",
      "On the 378th day, Bought 0 shares for $0.0\n",
      "On the 379th day, Bought 0 shares for $0.0\n",
      "On the 395th day, sold 5.724271781339903 shares for $974.8434843621856\n",
      "On the 456th day, Bought 3.116818351826456 shares for $500.90387732202976\n",
      "On the 457th day, Bought 2 shares for $324.52\n",
      "On the 458th day, Bought 1 shares for $161.56\n",
      "On the 469th day, Bought 0 shares for $0.0\n",
      "On the 470th day, Bought 0 shares for $0.0\n",
      "On the 471th day, Bought 0 shares for $0.0\n",
      "On the 472th day, Bought 0 shares for $0.0\n"
     ]
    },
    {
     "name": "stderr",
     "output_type": "stream",
     "text": [
      "[*********************100%***********************]  1 of 1 completed"
     ]
    },
    {
     "name": "stdout",
     "output_type": "stream",
     "text": [
      "XLY Final Value: 1059.0811468250952, Final Money: 4.847503887805402, Final Shares: 6.116818351826456\n",
      "read  4779  lines of data for ticker:  XLY\n"
     ]
    },
    {
     "name": "stderr",
     "output_type": "stream",
     "text": [
      "\n",
      "[*********************100%***********************]  1 of 1 completed\n"
     ]
    },
    {
     "name": "stdout",
     "output_type": "stream",
     "text": [
      "read  504  lines of data for ticker:  XLY\n",
      "On the 101th day, Bought 3.262855651265988 shares for $500.29365700861393\n",
      "On the 102th day, Bought 3.3229215125938727 shares for $489.66571409583315\n",
      "On the 167th day, sold 6.585777163859861 shares for $1040.6186496614966\n",
      "On the 273th day, Bought 3.2868787799105967 shares for $498.5866421246384\n",
      "On the 274th day, Bought 0 shares for $0.0\n",
      "On the 320th day, Bought 3.3932813030200206 shares for $496.7085171360706\n",
      "On the 336th day, Bought 0 shares for $0.0\n",
      "On the 380th day, sold 6.680160082930618 shares for $1141.9065645761598\n",
      "On the 440th day, Bought 0 shares for $0.0\n"
     ]
    },
    {
     "name": "stderr",
     "output_type": "stream",
     "text": [
      "[*********************100%***********************]  1 of 1 completed"
     ]
    },
    {
     "name": "stdout",
     "output_type": "stream",
     "text": [
      "XLY Final Value: 1182.5252142376564, Final Money: 1182.5252142376564, Final Shares: 0.0\n",
      "read  4779  lines of data for ticker:  XLY\n"
     ]
    },
    {
     "name": "stderr",
     "output_type": "stream",
     "text": [
      "\n",
      "[*********************100%***********************]  1 of 1 completed\n"
     ]
    },
    {
     "name": "stdout",
     "output_type": "stream",
     "text": [
      "read  504  lines of data for ticker:  XLY\n",
      "On the 100th day, Bought 3.243593902043464 shares for $497.4375608173857\n",
      "On the 101th day, Bought 2 shares for $306.66\n",
      "On the 138th day, sold 5.2435939020434645 shares for $852.1888809601039\n",
      "On the 232th day, Bought 3.60386334150209 shares for $492.2516938157705\n",
      "On the 265th day, sold 3.60386334150209 shares for $562.7792994089664\n",
      "XLY Final Value: 1108.4881803690703, Final Money: 1108.4881803690703, Final Shares: 0.0\n"
     ]
    },
    {
     "name": "stderr",
     "output_type": "stream",
     "text": [
      "[*********************100%***********************]  1 of 1 completed\n"
     ]
    },
    {
     "name": "stdout",
     "output_type": "stream",
     "text": [
      "read  4779  lines of data for ticker:  XLU\n"
     ]
    },
    {
     "name": "stderr",
     "output_type": "stream",
     "text": [
      "[*********************100%***********************]  1 of 1 completed\n"
     ]
    },
    {
     "name": "stdout",
     "output_type": "stream",
     "text": [
      "read  504  lines of data for ticker:  XLU\n",
      "On the 154th day, Bought 6.54278984559016 shares for $501.1777021722062\n",
      "On the 161th day, sold 6.54278984559016 shares for $488.09212248102585\n",
      "On the 202th day, Bought 7.458233890214797 shares for $498.3591885441527\n",
      "On the 217th day, Bought 6 shares for $417.29999999999995\n",
      "On the 218th day, Bought 0 shares for $0.0\n",
      "On the 219th day, Bought 0 shares for $0.0\n",
      "On the 221th day, Bought 1 shares for $69.56\n",
      "On the 270th day, sold 14.458233890214796 shares for $959.8821479713603\n",
      "On the 307th day, Bought 7.399733609590055 shares for $502.14592274678114\n",
      "On the 358th day, Bought 6 shares for $399.41999999999996\n",
      "On the 362th day, sold 13.399733609590054 shares for $871.3846766316412\n",
      "On the 377th day, Bought 7.566585956416465 shares for $499.546004842615\n",
      "On the 398th day, Bought 6 shares for $379.74\n",
      "On the 401th day, Bought 0 shares for $0.0\n",
      "On the 402th day, Bought 0 shares for $0.0\n",
      "On the 428th day, sold 13.566585956416464 shares for $815.758813559322\n"
     ]
    },
    {
     "name": "stderr",
     "output_type": "stream",
     "text": [
      "[*********************100%***********************]  1 of 1 completed"
     ]
    },
    {
     "name": "stdout",
     "output_type": "stream",
     "text": [
      "On the 469th day, Bought 7.975753708725475 shares for $500.39878768543633\n",
      "On the 470th day, Bought 5 shares for $314.0\n",
      "On the 471th day, Bought 0 shares for $0.0\n",
      "On the 472th day, Bought 0 shares for $0.0\n",
      "On the 473th day, Bought 0 shares for $0.0\n",
      "On the 484th day, sold 12.975753708725474 shares for $830.0589647471686\n",
      "XLU Final Value: 881.116725390518, Final Money: 881.116725390518, Final Shares: 0.0\n",
      "read  4779  lines of data for ticker:  XLU\n"
     ]
    },
    {
     "name": "stderr",
     "output_type": "stream",
     "text": [
      "\n",
      "[*********************100%***********************]  1 of 1 completed\n"
     ]
    },
    {
     "name": "stdout",
     "output_type": "stream",
     "text": [
      "read  504  lines of data for ticker:  XLU\n",
      "On the 295th day, Bought 0 shares for $0.0\n",
      "On the 405th day, Bought 0 shares for $0.0\n",
      "On the 406th day, Bought 0 shares for $0.0\n"
     ]
    },
    {
     "name": "stderr",
     "output_type": "stream",
     "text": [
      "[*********************100%***********************]  1 of 1 completed"
     ]
    },
    {
     "name": "stdout",
     "output_type": "stream",
     "text": [
      "XLU Final Value: 1000.0, Final Money: 1000.0, Final Shares: 0.0\n",
      "read  4779  lines of data for ticker:  XLU\n"
     ]
    },
    {
     "name": "stderr",
     "output_type": "stream",
     "text": [
      "\n",
      "[*********************100%***********************]  1 of 1 completed\n"
     ]
    },
    {
     "name": "stdout",
     "output_type": "stream",
     "text": [
      "read  504  lines of data for ticker:  XLU\n",
      "On the 228th day, Bought 7.022471910112359 shares for $498.2443820224719\n",
      "On the 256th day, sold 7.022471910112359 shares for $486.1657303370786\n",
      "On the 314th day, Bought 7.257947452460444 shares for $500.8709536942953\n",
      "On the 315th day, Bought 6 shares for $415.79999999999995\n",
      "On the 316th day, Bought 1 shares for $69.08\n",
      "On the 317th day, Bought 0 shares for $0.0\n",
      "On the 338th day, sold 14.257947452460444 shares for $944.018700827406\n",
      "On the 396th day, Bought 7.7435341489855976 shares for $499.6902586340406\n",
      "On the 397th day, Bought 6 shares for $382.14\n",
      "On the 404th day, Bought 0 shares for $0.0\n",
      "On the 428th day, sold 13.743534148985598 shares for $826.398708378504\n",
      "On the 468th day, Bought 7.996161842315688 shares for $499.92003838157683\n",
      "On the 469th day, Bought 0 shares for $0.0\n",
      "On the 470th day, Bought 6 shares for $376.79999999999995\n",
      "On the 488th day, sold 13.996161842315688 shares for $873.500460578922\n",
      "XLU Final Value: 884.4536001219107, Final Money: 884.4536001219107, Final Shares: 0.0\n"
     ]
    },
    {
     "name": "stderr",
     "output_type": "stream",
     "text": [
      "[*********************100%***********************]  1 of 1 completed\n"
     ]
    },
    {
     "name": "stdout",
     "output_type": "stream",
     "text": [
      "read  2775  lines of data for ticker:  XLB\n"
     ]
    },
    {
     "name": "stderr",
     "output_type": "stream",
     "text": [
      "[*********************100%***********************]  1 of 1 completed\n"
     ]
    },
    {
     "name": "stdout",
     "output_type": "stream",
     "text": [
      "read  251  lines of data for ticker:  XLB\n",
      "On the 124th day, Bought 5.999520038396928 shares for $498.14014878809695\n",
      "On the 125th day, Bought 5.953089653530182 shares for $499.3451601381117\n",
      "On the 126th day, Bought 5.9851568111084505 shares for $501.61599233899926\n",
      "On the 127th day, Bought 5.970862192500597 shares for $498.56699307379984\n",
      "On the 128th day, Bought 5.970149253731344 shares for $500.5970149253731\n",
      "On the 129th day, Bought 5.951672419950006 shares for $502.7972860373765\n",
      "On the 171th day, sold 35.83045036921751 shares for $2810.8988314651137\n"
     ]
    },
    {
     "name": "stderr",
     "output_type": "stream",
     "text": [
      "[*********************100%***********************]  1 of 1 completed"
     ]
    },
    {
     "name": "stdout",
     "output_type": "stream",
     "text": [
      "On the 216th day, Bought 6.163708086785009 shares for $498.1508875739644\n",
      "On the 217th day, Bought 3 shares for $243.06\n",
      "On the 218th day, Bought 0 shares for $0.0\n",
      "XLB Final Value: 839.4230523724116, Final Money: 67.8388314651138, Final Shares: 9.16370808678501\n",
      "read  2775  lines of data for ticker:  XLB\n"
     ]
    },
    {
     "name": "stderr",
     "output_type": "stream",
     "text": [
      "\n",
      "[*********************100%***********************]  1 of 1 completed\n"
     ]
    },
    {
     "name": "stdout",
     "output_type": "stream",
     "text": [
      "read  251  lines of data for ticker:  XLB\n",
      "On the 31th day, Bought 5.994485073732166 shares for $503.29696679055263\n",
      "On the 36th day, sold 5.994485073732166 shares for $478.8394676897254\n",
      "On the 153th day, Bought 6.188118811881188 shares for $501.36138613861385\n",
      "On the 190th day, sold 6.188118811881188 shares for $477.2277227722773\n"
     ]
    },
    {
     "name": "stderr",
     "output_type": "stream",
     "text": [
      "[*********************100%***********************]  1 of 1 completed"
     ]
    },
    {
     "name": "stdout",
     "output_type": "stream",
     "text": [
      "XLB Final Value: 956.0671904620027, Final Money: 956.0671904620027, Final Shares: 0.0\n",
      "read  2775  lines of data for ticker:  XLB\n"
     ]
    },
    {
     "name": "stderr",
     "output_type": "stream",
     "text": [
      "\n",
      "[*********************100%***********************]  1 of 1 completed\n"
     ]
    },
    {
     "name": "stdout",
     "output_type": "stream",
     "text": [
      "read  251  lines of data for ticker:  XLB\n",
      "On the 127th day, Bought 5.970862192500597 shares for $498.56699307379984\n",
      "On the 128th day, Bought 4 shares for $335.4\n",
      "On the 129th day, Bought 1 shares for $84.48\n",
      "On the 151th day, Bought 1 shares for $80.53\n",
      "On the 152th day, Bought 0 shares for $0.0\n",
      "On the 153th day, Bought 0 shares for $0.0\n",
      "On the 158th day, sold 11.970862192500597 shares for $1003.3976689753999\n",
      "XLB Final Value: 1003.4876689754, Final Money: 1003.4876689754, Final Shares: 0.0\n"
     ]
    },
    {
     "name": "stderr",
     "output_type": "stream",
     "text": [
      "[*********************100%***********************]  1 of 1 completed\n"
     ]
    },
    {
     "name": "stdout",
     "output_type": "stream",
     "text": [
      "read  2775  lines of data for ticker:  XLE\n"
     ]
    },
    {
     "name": "stderr",
     "output_type": "stream",
     "text": [
      "[*********************100%***********************]  1 of 1 completed\n"
     ]
    },
    {
     "name": "stdout",
     "output_type": "stream",
     "text": [
      "read  251  lines of data for ticker:  XLE\n",
      "On the 114th day, Bought 6.159911297277319 shares for $501.2319822594555\n",
      "On the 115th day, Bought 5 shares for $408.5\n",
      "On the 116th day, Bought 1 shares for $80.03\n",
      "On the 156th day, Bought 0 shares for $0.0\n",
      "On the 157th day, Bought 0 shares for $0.0\n",
      "On the 158th day, Bought 0 shares for $0.0\n",
      "On the 161th day, Bought 0 shares for $0.0\n",
      "On the 180th day, sold 12.159911297277318 shares for $1042.7123937415301\n"
     ]
    },
    {
     "name": "stderr",
     "output_type": "stream",
     "text": [
      "[*********************100%***********************]  1 of 1 completed"
     ]
    },
    {
     "name": "stdout",
     "output_type": "stream",
     "text": [
      "On the 210th day, Bought 5.91016548463357 shares for $495.27186761229314\n",
      "On the 219th day, Bought 5.950964056177101 shares for $504.2846941204475\n",
      "On the 237th day, Bought 0 shares for $0.0\n",
      "On the 238th day, Bought 0 shares for $0.0\n",
      "On the 239th day, Bought 0 shares for $0.0\n",
      "On the 240th day, Bought 0 shares for $0.0\n",
      "On the 241th day, Bought 0 shares for $0.0\n",
      "XLE Final Value: 1058.572564189521, Final Money: 55.00239374153011, Final Shares: 11.861129540810671\n"
     ]
    },
    {
     "name": "stderr",
     "output_type": "stream",
     "text": [
      "\n"
     ]
    },
    {
     "name": "stdout",
     "output_type": "stream",
     "text": [
      "read  2775  lines of data for ticker:  XLE\n"
     ]
    },
    {
     "name": "stderr",
     "output_type": "stream",
     "text": [
      "[*********************100%***********************]  1 of 1 completed\n"
     ]
    },
    {
     "name": "stdout",
     "output_type": "stream",
     "text": [
      "read  251  lines of data for ticker:  XLE\n"
     ]
    },
    {
     "name": "stderr",
     "output_type": "stream",
     "text": [
      "[*********************100%***********************]  1 of 1 completed"
     ]
    },
    {
     "name": "stdout",
     "output_type": "stream",
     "text": [
      "On the 219th day, Bought 5.950964056177101 shares for $504.2846941204475\n",
      "On the 220th day, Bought 5.911563017261764 shares for $499.4088436982738\n",
      "XLE Final Value: 1003.6884156836625, Final Money: 5.684341886080802e-14, Final Shares: 11.862527073438866\n",
      "read  2775  lines of data for ticker:  XLE\n"
     ]
    },
    {
     "name": "stderr",
     "output_type": "stream",
     "text": [
      "\n",
      "[*********************100%***********************]  1 of 1 completed\n"
     ]
    },
    {
     "name": "stdout",
     "output_type": "stream",
     "text": [
      "read  251  lines of data for ticker:  XLE\n",
      "On the 213th day, Bought 5.895531187359981 shares for $497.641787525056\n",
      "On the 214th day, Bought 5.908768612621129 shares for $490.0141810446703\n",
      "On the 218th day, Bought 5.9066745422327225 shares for $503.13053750738334\n",
      "XLE Final Value: 998.5255390947123, Final Money: -500.0, Final Shares: 17.71097434221383\n"
     ]
    },
    {
     "name": "stderr",
     "output_type": "stream",
     "text": [
      "[*********************100%***********************]  1 of 1 completed\n"
     ]
    },
    {
     "name": "stdout",
     "output_type": "stream",
     "text": [
      "read  2775  lines of data for ticker:  XLF\n"
     ]
    },
    {
     "name": "stderr",
     "output_type": "stream",
     "text": [
      "[*********************100%***********************]  1 of 1 completed\n"
     ]
    },
    {
     "name": "stdout",
     "output_type": "stream",
     "text": [
      "read  251  lines of data for ticker:  XLF\n",
      "On the 33th day, Bought 13.881177123820098 shares for $498.19544697390336\n",
      "On the 36th day, sold 13.881177123820098 shares for $465.5746807329261\n",
      "On the 162th day, Bought 14.57725947521866 shares for $502.33236151603506\n",
      "On the 177th day, sold 14.57725947521866 shares for $483.527696793003\n",
      "On the 208th day, Bought 14.766686355581808 shares for $505.4636739515652\n",
      "On the 209th day, Bought 12 shares for $414.72\n",
      "On the 210th day, Bought 1 shares for $34.79\n",
      "On the 211th day, Bought 0 shares for $0.0\n",
      "On the 212th day, Bought 0 shares for $0.0\n",
      "On the 214th day, Bought 0 shares for $0.0\n",
      "On the 215th day, Bought 0 shares for $0.0\n",
      "On the 216th day, Bought 0 shares for $0.0\n",
      "On the 217th day, Bought 0 shares for $0.0\n",
      "On the 218th day, Bought 0 shares for $0.0\n"
     ]
    },
    {
     "name": "stderr",
     "output_type": "stream",
     "text": [
      "[*********************100%***********************]  1 of 1 completed"
     ]
    },
    {
     "name": "stdout",
     "output_type": "stream",
     "text": [
      "XLF Final Value: 1044.1621176322492, Final Money: 0.4123775259290028, Final Shares: 27.766686355581808\n",
      "read  2775  lines of data for ticker:  XLF\n"
     ]
    },
    {
     "name": "stderr",
     "output_type": "stream",
     "text": [
      "\n",
      "[*********************100%***********************]  1 of 1 completed\n"
     ]
    },
    {
     "name": "stdout",
     "output_type": "stream",
     "text": [
      "read  251  lines of data for ticker:  XLF\n",
      "On the 31th day, Bought 14.112334180073384 shares for $501.97572678521027\n",
      "On the 34th day, sold 14.112334180073384 shares for $495.20180637877513\n"
     ]
    },
    {
     "name": "stderr",
     "output_type": "stream",
     "text": [
      "[*********************100%***********************]  1 of 1 completed"
     ]
    },
    {
     "name": "stdout",
     "output_type": "stream",
     "text": [
      "On the 216th day, Bought 14.132278123233464 shares for $498.1628038439796\n",
      "On the 217th day, Bought 13 shares for $457.86\n",
      "On the 218th day, Bought 1 shares for $35.35\n",
      "XLF Final Value: 1059.0641410311212, Final Money: 1.5718063787751362, Final Shares: 28.132278123233462\n",
      "read  2775  lines of data for ticker:  XLF\n"
     ]
    },
    {
     "name": "stderr",
     "output_type": "stream",
     "text": [
      "\n",
      "[*********************100%***********************]  1 of 1 completed\n"
     ]
    },
    {
     "name": "stdout",
     "output_type": "stream",
     "text": [
      "read  251  lines of data for ticker:  XLF\n",
      "On the 30th day, Bought 14.044943820224718 shares for $497.0505617977528\n",
      "On the 36th day, sold 14.044943820224718 shares for $471.067415730337\n",
      "On the 103th day, Bought 15.055706112616681 shares for $498.3438723276122\n",
      "On the 172th day, sold 15.055706112616681 shares for $506.7750677506774\n",
      "XLF Final Value: 977.8424834810144, Final Money: 977.8424834810144, Final Shares: 0.0\n"
     ]
    },
    {
     "name": "stderr",
     "output_type": "stream",
     "text": [
      "[*********************100%***********************]  1 of 1 completed\n"
     ]
    },
    {
     "name": "stdout",
     "output_type": "stream",
     "text": [
      "read  2775  lines of data for ticker:  XLI\n"
     ]
    },
    {
     "name": "stderr",
     "output_type": "stream",
     "text": [
      "[*********************100%***********************]  1 of 1 completed\n"
     ]
    },
    {
     "name": "stdout",
     "output_type": "stream",
     "text": [
      "read  251  lines of data for ticker:  XLI\n",
      "On the 102th day, Bought 4.792485382919582 shares for $501.38982076104674\n",
      "On the 113th day, Bought 3 shares for $321.18\n",
      "On the 114th day, Bought 1 shares for $106.91\n",
      "On the 115th day, Bought 0 shares for $0.0\n",
      "On the 116th day, Bought 0 shares for $0.0\n",
      "On the 128th day, Bought 0 shares for $0.0\n",
      "On the 129th day, Bought 0 shares for $0.0\n",
      "On the 153th day, sold 8.792485382919583 shares for $936.7513926962524\n",
      "On the 168th day, Bought 4.776005349125991 shares for $498.75823860922725\n",
      "On the 179th day, sold 4.776005349125991 shares for $476.11997325437\n"
     ]
    },
    {
     "name": "stderr",
     "output_type": "stream",
     "text": [
      "[*********************100%***********************]  1 of 1 completed"
     ]
    },
    {
     "name": "stdout",
     "output_type": "stream",
     "text": [
      "On the 208th day, Bought 4.871395167575994 shares for $506.08924395946997\n",
      "On the 216th day, Bought 3 shares for $318.0\n",
      "On the 217th day, Bought 1 shares for $105.89\n",
      "On the 218th day, Bought 0 shares for $0.0\n",
      "XLI Final Value: 1048.9476481018307, Final Money: 61.561365950622545, Final Shares: 8.871395167575994\n",
      "read  2775  lines of data for ticker:  XLI\n"
     ]
    },
    {
     "name": "stderr",
     "output_type": "stream",
     "text": [
      "\n",
      "[*********************100%***********************]  1 of 1 completed\n"
     ]
    },
    {
     "name": "stdout",
     "output_type": "stream",
     "text": [
      "read  251  lines of data for ticker:  XLI\n",
      "On the 62th day, Bought 4.969191015702643 shares for $502.43490359769424\n",
      "On the 63th day, Bought 4.945598417408506 shares for $498.2195845697329\n",
      "On the 64th day, Bought 0 shares for $0.0\n",
      "On the 65th day, Bought 0 shares for $0.0\n",
      "On the 95th day, sold 9.91478943311115 shares for $1000.7988453782394\n"
     ]
    },
    {
     "name": "stderr",
     "output_type": "stream",
     "text": [
      "[*********************100%***********************]  1 of 1 completed"
     ]
    },
    {
     "name": "stdout",
     "output_type": "stream",
     "text": [
      "On the 216th day, Bought 4.701899567425239 shares for $498.4013541470754\n",
      "On the 217th day, Bought 4.728579534707774 shares for $500.7092869302062\n",
      "On the 218th day, Bought 0 shares for $0.0\n",
      "On the 219th day, Bought 0 shares for $0.0\n",
      "XLI Final Value: 1050.411169445644, Final Money: 0.798845378239605, Final Shares: 9.430479102133013\n",
      "read  2775  lines of data for ticker:  XLI\n"
     ]
    },
    {
     "name": "stderr",
     "output_type": "stream",
     "text": [
      "\n",
      "[*********************100%***********************]  1 of 1 completed\n"
     ]
    },
    {
     "name": "stdout",
     "output_type": "stream",
     "text": [
      "read  251  lines of data for ticker:  XLI\n",
      "XLI Final Value: 1000.0, Final Money: 1000, Final Shares: 0.0\n"
     ]
    },
    {
     "name": "stderr",
     "output_type": "stream",
     "text": [
      "[*********************100%***********************]  1 of 1 completed\n"
     ]
    },
    {
     "name": "stdout",
     "output_type": "stream",
     "text": [
      "read  2775  lines of data for ticker:  XLK\n"
     ]
    },
    {
     "name": "stderr",
     "output_type": "stream",
     "text": [
      "[*********************100%***********************]  1 of 1 completed\n"
     ]
    },
    {
     "name": "stdout",
     "output_type": "stream",
     "text": [
      "read  251  lines of data for ticker:  XLK\n",
      "On the 83th day, Bought 3.2817012339196636 shares for $502.10028878970854\n",
      "On the 90th day, sold 3.2817012339196636 shares for $525.8269887109477\n",
      "On the 119th day, Bought 2.9127344751252475 shares for $501.0485844110451\n",
      "On the 152th day, sold 2.9127344751252475 shares for $486.45578469066754\n"
     ]
    },
    {
     "name": "stderr",
     "output_type": "stream",
     "text": [
      "[*********************100%***********************]  1 of 1 completed"
     ]
    },
    {
     "name": "stdout",
     "output_type": "stream",
     "text": [
      "On the 205th day, Bought 2.8446265005404787 shares for $500.7396028901405\n",
      "On the 206th day, Bought 2.857959416976279 shares for $503.0294369819948\n",
      "On the 214th day, Bought 0 shares for $0.0\n",
      "On the 216th day, Bought 0 shares for $0.0\n",
      "On the 217th day, Bought 0 shares for $0.0\n",
      "On the 218th day, Bought 0 shares for $0.0\n",
      "On the 220th day, Bought 0 shares for $0.0\n",
      "On the 239th day, Bought 0 shares for $0.0\n",
      "XLK Final Value: 1062.5280218306764, Final Money: 12.282773401615259, Final Shares: 5.702585917516758\n",
      "read  2775  lines of data for ticker:  XLK\n"
     ]
    },
    {
     "name": "stderr",
     "output_type": "stream",
     "text": [
      "\n",
      "[*********************100%***********************]  1 of 1 completed\n"
     ]
    },
    {
     "name": "stdout",
     "output_type": "stream",
     "text": [
      "read  251  lines of data for ticker:  XLK\n"
     ]
    },
    {
     "name": "stderr",
     "output_type": "stream",
     "text": [
      "[*********************100%***********************]  1 of 1 completed"
     ]
    },
    {
     "name": "stdout",
     "output_type": "stream",
     "text": [
      "On the 189th day, Bought 0 shares for $0.0\n",
      "On the 190th day, Bought 0 shares for $0.0\n",
      "On the 191th day, Bought 0 shares for $0.0\n",
      "On the 221th day, Bought 0 shares for $0.0\n",
      "XLK Final Value: 1000.0, Final Money: 1000.0, Final Shares: 0.0\n"
     ]
    },
    {
     "name": "stderr",
     "output_type": "stream",
     "text": [
      "\n"
     ]
    },
    {
     "name": "stdout",
     "output_type": "stream",
     "text": [
      "read  2775  lines of data for ticker:  XLK\n"
     ]
    },
    {
     "name": "stderr",
     "output_type": "stream",
     "text": [
      "[*********************100%***********************]  1 of 1 completed\n"
     ]
    },
    {
     "name": "stdout",
     "output_type": "stream",
     "text": [
      "read  251  lines of data for ticker:  XLK\n",
      "XLK Final Value: 1000.0, Final Money: 1000, Final Shares: 0.0\n"
     ]
    },
    {
     "name": "stderr",
     "output_type": "stream",
     "text": [
      "[*********************100%***********************]  1 of 1 completed\n"
     ]
    },
    {
     "name": "stdout",
     "output_type": "stream",
     "text": [
      "read  2775  lines of data for ticker:  XLP\n"
     ]
    },
    {
     "name": "stderr",
     "output_type": "stream",
     "text": [
      "[*********************100%***********************]  1 of 1 completed\n"
     ]
    },
    {
     "name": "stdout",
     "output_type": "stream",
     "text": [
      "read  251  lines of data for ticker:  XLP\n",
      "On the 51th day, Bought 6.746727836999056 shares for $502.5637565780596\n",
      "On the 52th day, Bought 5 shares for $373.8\n",
      "On the 53th day, Bought 1 shares for $75.07\n",
      "On the 54th day, Bought 0 shares for $0.0\n",
      "On the 55th day, Bought 0 shares for $0.0\n",
      "On the 56th day, Bought 0 shares for $0.0\n",
      "On the 85th day, sold 12.746727836999057 shares for $967.0942409931184\n",
      "On the 156th day, Bought 6.837139340899768 shares for $498.1539723779571\n",
      "On the 157th day, Bought 6.871907641561297 shares for $501.6492578339747\n",
      "On the 162th day, Bought 0 shares for $0.0\n",
      "On the 165th day, Bought 0 shares for $0.0\n",
      "On the 181th day, sold 13.709046982461064 shares for $919.0545097041899\n",
      "On the 218th day, Bought 7.089181908407769 shares for $500.4962427335885\n",
      "On the 219th day, Bought 6 shares for $420.18\n",
      "On the 234th day, sold 13.08918190840777 shares for $918.7296781511413\n"
     ]
    },
    {
     "name": "stderr",
     "output_type": "stream",
     "text": [
      "[*********************100%***********************]  1 of 1 completed"
     ]
    },
    {
     "name": "stdout",
     "output_type": "stream",
     "text": [
      "XLP Final Value: 936.4684288484497, Final Money: 936.4684288484497, Final Shares: 0.0\n",
      "read  2775  lines of data for ticker:  XLP\n"
     ]
    },
    {
     "name": "stderr",
     "output_type": "stream",
     "text": [
      "\n",
      "[*********************100%***********************]  1 of 1 completed\n"
     ]
    },
    {
     "name": "stdout",
     "output_type": "stream",
     "text": [
      "read  251  lines of data for ticker:  XLP\n",
      "On the 125th day, Bought 6.758583400919167 shares for $501.6220600162206\n",
      "On the 154th day, Bought 5 shares for $363.95000000000005\n",
      "On the 155th day, Bought 1 shares for $73.1\n",
      "On the 156th day, Bought 0 shares for $0.0\n",
      "On the 157th day, Bought 0 shares for $0.0\n",
      "On the 171th day, sold 12.758583400919168 shares for $899.7353014328197\n"
     ]
    },
    {
     "name": "stderr",
     "output_type": "stream",
     "text": [
      "[*********************100%***********************]  1 of 1 completed"
     ]
    },
    {
     "name": "stdout",
     "output_type": "stream",
     "text": [
      "XLP Final Value: 962.9753014328197, Final Money: 962.9753014328197, Final Shares: 0.0\n",
      "read  2775  lines of data for ticker:  XLP\n"
     ]
    },
    {
     "name": "stderr",
     "output_type": "stream",
     "text": [
      "\n",
      "[*********************100%***********************]  1 of 1 completed\n"
     ]
    },
    {
     "name": "stdout",
     "output_type": "stream",
     "text": [
      "read  251  lines of data for ticker:  XLP\n",
      "On the 59th day, Bought 6.645401382243488 shares for $500.19936204146734\n",
      "On the 61th day, Bought 5 shares for $376.65\n",
      "On the 87th day, sold 11.645401382243488 shares for $870.7266613503456\n",
      "On the 207th day, Bought 7.250580046403713 shares for $499.5649651972159\n",
      "XLP Final Value: 1018.1010232993016, Final Money: 494.8266613503456, Final Shares: 7.250580046403713\n"
     ]
    },
    {
     "name": "stderr",
     "output_type": "stream",
     "text": [
      "[*********************100%***********************]  1 of 1 completed\n"
     ]
    },
    {
     "name": "stdout",
     "output_type": "stream",
     "text": [
      "read  2775  lines of data for ticker:  XLV\n"
     ]
    },
    {
     "name": "stderr",
     "output_type": "stream",
     "text": [
      "[*********************100%***********************]  1 of 1 completed\n"
     ]
    },
    {
     "name": "stdout",
     "output_type": "stream",
     "text": [
      "read  251  lines of data for ticker:  XLV\n",
      "On the 33th day, Bought 3.8726667183022223 shares for $501.00689334675855\n",
      "On the 37th day, sold 3.8726667183022223 shares for $480.7915730772209\n",
      "On the 122th day, Bought 3.8535645472061657 shares for $503.77649325626203\n",
      "On the 128th day, sold 3.8535645472061657 shares for $525.009633911368\n",
      "On the 149th day, Bought 3.7405550983765994 shares for $499.25188898032474\n",
      "On the 150th day, Bought 3.753753753753754 shares for $503.0030030030031\n",
      "On the 151th day, Bought 0 shares for $0.0\n",
      "On the 179th day, sold 7.494308852130354 shares for $954.9248339384498\n"
     ]
    },
    {
     "name": "stderr",
     "output_type": "stream",
     "text": [
      "[*********************100%***********************]  1 of 1 completed"
     ]
    },
    {
     "name": "stdout",
     "output_type": "stream",
     "text": [
      "On the 213th day, Bought 3.8750678136867394 shares for $501.70502983802214\n",
      "On the 214th day, Bought 2 shares for $260.48\n",
      "On the 215th day, Bought 1 shares for $130.69\n",
      "On the 216th day, Bought 0 shares for $0.0\n",
      "On the 217th day, Bought 0 shares for $0.0\n",
      "On the 218th day, Bought 0 shares for $0.0\n",
      "On the 219th day, Bought 0 shares for $0.0\n",
      "XLV Final Value: 1027.9604833047802, Final Money: 70.67604092703863, Final Shares: 6.875067813686739\n",
      "read  2775  lines of data for ticker:  XLV\n"
     ]
    },
    {
     "name": "stderr",
     "output_type": "stream",
     "text": [
      "\n",
      "[*********************100%***********************]  1 of 1 completed\n"
     ]
    },
    {
     "name": "stdout",
     "output_type": "stream",
     "text": [
      "read  251  lines of data for ticker:  XLV\n",
      "On the 67th day, Bought 3.7023324694557567 shares for $499.25953350610877\n",
      "On the 76th day, Bought 3.742795119395164 shares for $499.2514409761209\n",
      "On the 104th day, sold 7.445127588850921 shares for $984.3947697978688\n"
     ]
    },
    {
     "name": "stderr",
     "output_type": "stream",
     "text": [
      "[*********************100%***********************]  1 of 1 completed"
     ]
    },
    {
     "name": "stdout",
     "output_type": "stream",
     "text": [
      "XLV Final Value: 984.3947697978688, Final Money: 984.3947697978688, Final Shares: 0.0\n",
      "read  2775  lines of data for ticker:  XLV\n"
     ]
    },
    {
     "name": "stderr",
     "output_type": "stream",
     "text": [
      "\n",
      "[*********************100%***********************]  1 of 1 completed\n"
     ]
    },
    {
     "name": "stdout",
     "output_type": "stream",
     "text": [
      "read  251  lines of data for ticker:  XLV\n",
      "On the 226th day, Bought 3.785871128946771 shares for $502.68796850155223\n",
      "XLV Final Value: 1027.1446959945483, Final Money: 500.0, Final Shares: 3.785871128946771\n"
     ]
    },
    {
     "name": "stderr",
     "output_type": "stream",
     "text": [
      "[*********************100%***********************]  1 of 1 completed\n"
     ]
    },
    {
     "name": "stdout",
     "output_type": "stream",
     "text": [
      "read  2775  lines of data for ticker:  XLY\n"
     ]
    },
    {
     "name": "stderr",
     "output_type": "stream",
     "text": [
      "[*********************100%***********************]  1 of 1 completed\n"
     ]
    },
    {
     "name": "stdout",
     "output_type": "stream",
     "text": [
      "read  251  lines of data for ticker:  XLY\n",
      "On the 53th day, Bought 3.374502260916515 shares for $501.6535061078491\n",
      "On the 78th day, Bought 2 shares for $298.02\n",
      "On the 83th day, Bought 1 shares for $148.35\n",
      "On the 94th day, sold 6.374502260916515 shares for $977.8486468245934\n",
      "On the 122th day, Bought 2.8658222043904398 shares for $499.9713417779561\n",
      "On the 123th day, Bought 2.8584495769494627 shares for $500.28584495769496\n",
      "On the 124th day, Bought 0 shares for $0.0\n",
      "On the 125th day, Bought 0 shares for $0.0\n",
      "On the 126th day, Bought 0 shares for $0.0\n",
      "On the 142th day, sold 5.724271781339903 shares for $974.8434843621856\n",
      "On the 203th day, Bought 3.116818351826456 shares for $500.90387732202976\n",
      "On the 204th day, Bought 3.08242401824795 shares for $500.1541212009123\n"
     ]
    },
    {
     "name": "stderr",
     "output_type": "stream",
     "text": [
      "[*********************100%***********************]  1 of 1 completed"
     ]
    },
    {
     "name": "stdout",
     "output_type": "stream",
     "text": [
      "On the 205th day, Bought 0 shares for $0.0\n",
      "On the 216th day, Bought 0 shares for $0.0\n",
      "On the 217th day, Bought 0 shares for $0.0\n",
      "On the 218th day, Bought 0 shares for $0.0\n",
      "On the 219th day, Bought 0 shares for $0.0\n",
      "XLY Final Value: 1078.411553669103, Final Money: 9.972131186779052, Final Shares: 6.199242370074406\n",
      "read  2775  lines of data for ticker:  XLY\n"
     ]
    },
    {
     "name": "stderr",
     "output_type": "stream",
     "text": [
      "\n",
      "[*********************100%***********************]  1 of 1 completed\n"
     ]
    },
    {
     "name": "stdout",
     "output_type": "stream",
     "text": [
      "read  251  lines of data for ticker:  XLY\n",
      "On the 67th day, Bought 3.3932813030200206 shares for $496.7085171360706\n",
      "On the 83th day, Bought 0 shares for $0.0\n",
      "On the 127th day, sold 3.3932813030200206 shares for $580.0475059382424\n",
      "On the 187th day, Bought 3.145247530980688 shares for $502.70491287664345\n",
      "On the 209th day, sold 3.145247530980688 shares for $526.9862238158144\n"
     ]
    },
    {
     "name": "stderr",
     "output_type": "stream",
     "text": [
      "[*********************100%***********************]  1 of 1 completed"
     ]
    },
    {
     "name": "stdout",
     "output_type": "stream",
     "text": [
      "XLY Final Value: 1107.0337297540568, Final Money: 1107.0337297540568, Final Shares: 0.0\n",
      "read  2775  lines of data for ticker:  XLY\n"
     ]
    },
    {
     "name": "stderr",
     "output_type": "stream",
     "text": [
      "\n",
      "[*********************100%***********************]  1 of 1 completed\n"
     ]
    },
    {
     "name": "stdout",
     "output_type": "stream",
     "text": [
      "read  251  lines of data for ticker:  XLY\n",
      "XLY Final Value: 1000.0, Final Money: 1000, Final Shares: 0.0\n"
     ]
    },
    {
     "name": "stderr",
     "output_type": "stream",
     "text": [
      "[*********************100%***********************]  1 of 1 completed\n"
     ]
    },
    {
     "name": "stdout",
     "output_type": "stream",
     "text": [
      "read  2775  lines of data for ticker:  XLU\n"
     ]
    },
    {
     "name": "stderr",
     "output_type": "stream",
     "text": [
      "[*********************100%***********************]  1 of 1 completed\n"
     ]
    },
    {
     "name": "stdout",
     "output_type": "stream",
     "text": [
      "read  251  lines of data for ticker:  XLU\n",
      "On the 54th day, Bought 7.399733609590055 shares for $502.14592274678114\n",
      "On the 105th day, Bought 7.429420505200595 shares for $494.5765230312035\n",
      "On the 109th day, sold 14.82915411479065 shares for $964.339892084836\n",
      "On the 124th day, Bought 7.566585956416465 shares for $499.546004842615\n",
      "On the 145th day, Bought 6 shares for $379.74\n",
      "On the 148th day, Bought 1 shares for $63.3\n",
      "On the 149th day, Bought 0 shares for $0.0\n",
      "On the 175th day, sold 14.566585956416464 shares for $875.888813559322\n"
     ]
    },
    {
     "name": "stderr",
     "output_type": "stream",
     "text": [
      "[*********************100%***********************]  1 of 1 completed"
     ]
    },
    {
     "name": "stdout",
     "output_type": "stream",
     "text": [
      "On the 216th day, Bought 7.975753708725475 shares for $500.39878768543633\n",
      "On the 217th day, Bought 6 shares for $376.79999999999995\n",
      "On the 218th day, Bought 0 shares for $0.0\n",
      "On the 219th day, Bought 0 shares for $0.0\n",
      "On the 220th day, Bought 0 shares for $0.0\n",
      "On the 231th day, sold 13.975753708725474 shares for $894.0289647471685\n",
      "XLU Final Value: 915.9076703913265, Final Money: 915.9076703913265, Final Shares: 0.0\n",
      "read  2775  lines of data for ticker:  XLU\n"
     ]
    },
    {
     "name": "stderr",
     "output_type": "stream",
     "text": [
      "\n",
      "[*********************100%***********************]  1 of 1 completed\n"
     ]
    },
    {
     "name": "stdout",
     "output_type": "stream",
     "text": [
      "read  251  lines of data for ticker:  XLU\n",
      "On the 42th day, Bought 7.466029565477079 shares for $497.0882484694639\n",
      "On the 47th day, sold 7.466029565477079 shares for $490.4434821561893\n",
      "On the 152th day, Bought 7.917656373713381 shares for $500.71258907363426\n",
      "On the 153th day, Bought 6 shares for $382.44\n",
      "On the 174th day, sold 13.917656373713381 shares for $853.2915122723674\n",
      "XLU Final Value: 961.9549944285566, Final Money: 961.9549944285566, Final Shares: 0.0\n"
     ]
    },
    {
     "name": "stderr",
     "output_type": "stream",
     "text": [
      "[*********************100%***********************]  1 of 1 completed\n"
     ]
    },
    {
     "name": "stdout",
     "output_type": "stream",
     "text": [
      "read  2775  lines of data for ticker:  XLU\n"
     ]
    },
    {
     "name": "stderr",
     "output_type": "stream",
     "text": [
      "[*********************100%***********************]  1 of 1 completed\n"
     ]
    },
    {
     "name": "stdout",
     "output_type": "stream",
     "text": [
      "read  251  lines of data for ticker:  XLU\n",
      "On the 61th day, Bought 7.257947452460444 shares for $500.8709536942953\n",
      "On the 62th day, Bought 6 shares for $415.79999999999995\n",
      "On the 63th day, Bought 1 shares for $69.08\n",
      "On the 64th day, Bought 0 shares for $0.0\n",
      "On the 85th day, sold 14.257947452460444 shares for $944.018700827406\n",
      "On the 143th day, Bought 7.7435341489855976 shares for $499.6902586340406\n",
      "On the 144th day, Bought 6 shares for $382.14\n",
      "On the 151th day, Bought 1 shares for $63.41\n",
      "On the 175th day, sold 14.743534148985598 shares for $886.528708378504\n",
      "On the 215th day, Bought 7.996161842315688 shares for $499.92003838157683\n",
      "On the 216th day, Bought 6 shares for $376.44\n",
      "On the 217th day, Bought 0 shares for $0.0\n",
      "On the 235th day, sold 13.996161842315688 shares for $873.500460578922\n",
      "XLU Final Value: 895.497869784832, Final Money: 895.497869784832, Final Shares: 0.0\n"
     ]
    },
    {
     "name": "stderr",
     "output_type": "stream",
     "text": [
      "[*********************100%***********************]  1 of 1 completed\n"
     ]
    },
    {
     "name": "stdout",
     "output_type": "stream",
     "text": [
      "read  2775  lines of data for ticker:  XLB\n"
     ]
    },
    {
     "name": "stderr",
     "output_type": "stream",
     "text": [
      "[*********************100%***********************]  1 of 1 completed\n"
     ]
    },
    {
     "name": "stdout",
     "output_type": "stream",
     "text": [
      "read  251  lines of data for ticker:  XLB\n",
      "On the 124th day, Bought 5.999520038396928 shares for $498.14014878809695\n",
      "On the 125th day, Bought 5.953089653530182 shares for $499.3451601381117\n",
      "On the 126th day, Bought 5.9851568111084505 shares for $501.61599233899926\n",
      "On the 127th day, Bought 5.970862192500597 shares for $498.56699307379984\n",
      "On the 128th day, Bought 5.970149253731344 shares for $500.5970149253731\n",
      "On the 129th day, Bought 5.951672419950006 shares for $502.7972860373765\n",
      "On the 171th day, sold 35.83045036921751 shares for $2810.8988314651137\n"
     ]
    },
    {
     "name": "stderr",
     "output_type": "stream",
     "text": [
      "[*********************100%***********************]  1 of 1 completed"
     ]
    },
    {
     "name": "stdout",
     "output_type": "stream",
     "text": [
      "On the 216th day, Bought 6.163708086785009 shares for $498.1508875739644\n",
      "On the 217th day, Bought 3 shares for $243.06\n",
      "On the 218th day, Bought 0 shares for $0.0\n",
      "XLB Final Value: 839.4230523724116, Final Money: 67.8388314651138, Final Shares: 9.16370808678501\n",
      "read  2775  lines of data for ticker:  XLB\n"
     ]
    },
    {
     "name": "stderr",
     "output_type": "stream",
     "text": [
      "\n",
      "[*********************100%***********************]  1 of 1 completed\n"
     ]
    },
    {
     "name": "stdout",
     "output_type": "stream",
     "text": [
      "read  251  lines of data for ticker:  XLB\n",
      "On the 31th day, Bought 5.994485073732166 shares for $503.29696679055263\n",
      "On the 36th day, sold 5.994485073732166 shares for $478.8394676897254\n",
      "On the 153th day, Bought 6.188118811881188 shares for $501.36138613861385\n",
      "On the 190th day, sold 6.188118811881188 shares for $477.2277227722773\n"
     ]
    },
    {
     "name": "stderr",
     "output_type": "stream",
     "text": [
      "[*********************100%***********************]  1 of 1 completed"
     ]
    },
    {
     "name": "stdout",
     "output_type": "stream",
     "text": [
      "XLB Final Value: 956.0671904620027, Final Money: 956.0671904620027, Final Shares: 0.0\n",
      "read  2775  lines of data for ticker:  XLB\n"
     ]
    },
    {
     "name": "stderr",
     "output_type": "stream",
     "text": [
      "\n",
      "[*********************100%***********************]  1 of 1 completed\n"
     ]
    },
    {
     "name": "stdout",
     "output_type": "stream",
     "text": [
      "read  251  lines of data for ticker:  XLB\n",
      "On the 127th day, Bought 5.970862192500597 shares for $498.56699307379984\n",
      "On the 128th day, Bought 4 shares for $335.4\n",
      "On the 129th day, Bought 1 shares for $84.48\n",
      "On the 151th day, Bought 1 shares for $80.53\n",
      "On the 152th day, Bought 0 shares for $0.0\n",
      "On the 153th day, Bought 0 shares for $0.0\n",
      "On the 158th day, sold 11.970862192500597 shares for $1003.3976689753999\n",
      "XLB Final Value: 1003.4876689754, Final Money: 1003.4876689754, Final Shares: 0.0\n"
     ]
    },
    {
     "name": "stderr",
     "output_type": "stream",
     "text": [
      "[*********************100%***********************]  1 of 1 completed\n"
     ]
    },
    {
     "name": "stdout",
     "output_type": "stream",
     "text": [
      "read  2775  lines of data for ticker:  XLE\n"
     ]
    },
    {
     "name": "stderr",
     "output_type": "stream",
     "text": [
      "[*********************100%***********************]  1 of 1 completed\n"
     ]
    },
    {
     "name": "stdout",
     "output_type": "stream",
     "text": [
      "read  251  lines of data for ticker:  XLE\n",
      "On the 114th day, Bought 6.159911297277319 shares for $501.2319822594555\n",
      "On the 115th day, Bought 5 shares for $408.5\n",
      "On the 116th day, Bought 1 shares for $80.03\n",
      "On the 156th day, Bought 0 shares for $0.0\n",
      "On the 157th day, Bought 0 shares for $0.0\n",
      "On the 158th day, Bought 0 shares for $0.0\n",
      "On the 161th day, Bought 0 shares for $0.0\n",
      "On the 180th day, sold 12.159911297277318 shares for $1042.7123937415301\n"
     ]
    },
    {
     "name": "stderr",
     "output_type": "stream",
     "text": [
      "[*********************100%***********************]  1 of 1 completed"
     ]
    },
    {
     "name": "stdout",
     "output_type": "stream",
     "text": [
      "On the 210th day, Bought 5.91016548463357 shares for $495.27186761229314\n",
      "On the 219th day, Bought 5.950964056177101 shares for $504.2846941204475\n",
      "On the 237th day, Bought 0 shares for $0.0\n",
      "On the 238th day, Bought 0 shares for $0.0\n",
      "On the 239th day, Bought 0 shares for $0.0\n",
      "On the 240th day, Bought 0 shares for $0.0\n",
      "On the 241th day, Bought 0 shares for $0.0\n",
      "XLE Final Value: 1058.572564189521, Final Money: 55.00239374153011, Final Shares: 11.861129540810671\n",
      "read  2775  lines of data for ticker:  XLE\n"
     ]
    },
    {
     "name": "stderr",
     "output_type": "stream",
     "text": [
      "\n",
      "[*********************100%***********************]  1 of 1 completed\n"
     ]
    },
    {
     "name": "stdout",
     "output_type": "stream",
     "text": [
      "read  251  lines of data for ticker:  XLE\n"
     ]
    },
    {
     "name": "stderr",
     "output_type": "stream",
     "text": [
      "[*********************100%***********************]  1 of 1 completed"
     ]
    },
    {
     "name": "stdout",
     "output_type": "stream",
     "text": [
      "On the 219th day, Bought 5.950964056177101 shares for $504.2846941204475\n",
      "On the 220th day, Bought 5.911563017261764 shares for $499.4088436982738\n",
      "XLE Final Value: 1003.6884156836625, Final Money: 5.684341886080802e-14, Final Shares: 11.862527073438866\n",
      "read  2775  lines of data for ticker:  XLE\n"
     ]
    },
    {
     "name": "stderr",
     "output_type": "stream",
     "text": [
      "\n",
      "[*********************100%***********************]  1 of 1 completed\n"
     ]
    },
    {
     "name": "stdout",
     "output_type": "stream",
     "text": [
      "read  251  lines of data for ticker:  XLE\n",
      "On the 213th day, Bought 5.895531187359981 shares for $497.641787525056\n",
      "On the 214th day, Bought 5.908768612621129 shares for $490.0141810446703\n",
      "On the 218th day, Bought 5.9066745422327225 shares for $503.13053750738334\n",
      "XLE Final Value: 998.5255390947123, Final Money: -500.0, Final Shares: 17.71097434221383\n"
     ]
    },
    {
     "name": "stderr",
     "output_type": "stream",
     "text": [
      "[*********************100%***********************]  1 of 1 completed\n"
     ]
    },
    {
     "name": "stdout",
     "output_type": "stream",
     "text": [
      "read  2775  lines of data for ticker:  XLF\n"
     ]
    },
    {
     "name": "stderr",
     "output_type": "stream",
     "text": [
      "[*********************100%***********************]  1 of 1 completed\n"
     ]
    },
    {
     "name": "stdout",
     "output_type": "stream",
     "text": [
      "read  251  lines of data for ticker:  XLF\n",
      "On the 33th day, Bought 13.881177123820098 shares for $498.19544697390336\n",
      "On the 36th day, sold 13.881177123820098 shares for $465.5746807329261\n",
      "On the 162th day, Bought 14.57725947521866 shares for $502.33236151603506\n",
      "On the 177th day, sold 14.57725947521866 shares for $483.527696793003\n",
      "On the 208th day, Bought 14.766686355581808 shares for $505.4636739515652\n",
      "On the 209th day, Bought 12 shares for $414.72\n",
      "On the 210th day, Bought 1 shares for $34.79\n",
      "On the 211th day, Bought 0 shares for $0.0\n",
      "On the 212th day, Bought 0 shares for $0.0\n",
      "On the 214th day, Bought 0 shares for $0.0\n",
      "On the 215th day, Bought 0 shares for $0.0\n",
      "On the 216th day, Bought 0 shares for $0.0\n",
      "On the 217th day, Bought 0 shares for $0.0\n",
      "On the 218th day, Bought 0 shares for $0.0\n",
      "XLF Final Value: 1044.1621176322492, Final Money: 0.4123775259290028, Final Shares: 27.766686355581808\n"
     ]
    },
    {
     "name": "stderr",
     "output_type": "stream",
     "text": [
      "[*********************100%***********************]  1 of 1 completed\n"
     ]
    },
    {
     "name": "stdout",
     "output_type": "stream",
     "text": [
      "read  2775  lines of data for ticker:  XLF\n"
     ]
    },
    {
     "name": "stderr",
     "output_type": "stream",
     "text": [
      "[*********************100%***********************]  1 of 1 completed\n"
     ]
    },
    {
     "name": "stdout",
     "output_type": "stream",
     "text": [
      "read  251  lines of data for ticker:  XLF\n",
      "On the 31th day, Bought 14.112334180073384 shares for $501.97572678521027\n",
      "On the 34th day, sold 14.112334180073384 shares for $495.20180637877513\n"
     ]
    },
    {
     "name": "stderr",
     "output_type": "stream",
     "text": [
      "[*********************100%***********************]  1 of 1 completed"
     ]
    },
    {
     "name": "stdout",
     "output_type": "stream",
     "text": [
      "On the 216th day, Bought 14.132278123233464 shares for $498.1628038439796\n",
      "On the 217th day, Bought 13 shares for $457.86\n",
      "On the 218th day, Bought 1 shares for $35.35\n",
      "XLF Final Value: 1059.0641410311212, Final Money: 1.5718063787751362, Final Shares: 28.132278123233462\n",
      "read  2775  lines of data for ticker:  XLF\n"
     ]
    },
    {
     "name": "stderr",
     "output_type": "stream",
     "text": [
      "\n",
      "[*********************100%***********************]  1 of 1 completed\n"
     ]
    },
    {
     "name": "stdout",
     "output_type": "stream",
     "text": [
      "read  251  lines of data for ticker:  XLF\n",
      "On the 30th day, Bought 14.044943820224718 shares for $497.0505617977528\n",
      "On the 36th day, sold 14.044943820224718 shares for $471.067415730337\n",
      "On the 103th day, Bought 15.055706112616681 shares for $498.3438723276122\n",
      "On the 172th day, sold 15.055706112616681 shares for $506.7750677506774\n",
      "XLF Final Value: 977.8424834810144, Final Money: 977.8424834810144, Final Shares: 0.0\n"
     ]
    },
    {
     "name": "stderr",
     "output_type": "stream",
     "text": [
      "[*********************100%***********************]  1 of 1 completed\n"
     ]
    },
    {
     "name": "stdout",
     "output_type": "stream",
     "text": [
      "read  2775  lines of data for ticker:  XLI\n"
     ]
    },
    {
     "name": "stderr",
     "output_type": "stream",
     "text": [
      "[*********************100%***********************]  1 of 1 completed\n"
     ]
    },
    {
     "name": "stdout",
     "output_type": "stream",
     "text": [
      "read  251  lines of data for ticker:  XLI\n",
      "On the 102th day, Bought 4.792485382919582 shares for $501.38982076104674\n",
      "On the 113th day, Bought 3 shares for $321.18\n",
      "On the 114th day, Bought 1 shares for $106.91\n",
      "On the 115th day, Bought 0 shares for $0.0\n",
      "On the 116th day, Bought 0 shares for $0.0\n",
      "On the 128th day, Bought 0 shares for $0.0\n",
      "On the 129th day, Bought 0 shares for $0.0\n",
      "On the 153th day, sold 8.792485382919583 shares for $936.7513926962524\n",
      "On the 168th day, Bought 4.776005349125991 shares for $498.75823860922725\n",
      "On the 179th day, sold 4.776005349125991 shares for $476.11997325437\n"
     ]
    },
    {
     "name": "stderr",
     "output_type": "stream",
     "text": [
      "[*********************100%***********************]  1 of 1 completed"
     ]
    },
    {
     "name": "stdout",
     "output_type": "stream",
     "text": [
      "On the 208th day, Bought 4.871395167575994 shares for $506.08924395946997\n",
      "On the 216th day, Bought 3 shares for $318.0\n",
      "On the 217th day, Bought 1 shares for $105.89\n",
      "On the 218th day, Bought 0 shares for $0.0\n",
      "XLI Final Value: 1048.9476481018307, Final Money: 61.561365950622545, Final Shares: 8.871395167575994\n",
      "read  2775  lines of data for ticker:  XLI\n"
     ]
    },
    {
     "name": "stderr",
     "output_type": "stream",
     "text": [
      "\n",
      "[*********************100%***********************]  1 of 1 completed\n"
     ]
    },
    {
     "name": "stdout",
     "output_type": "stream",
     "text": [
      "read  251  lines of data for ticker:  XLI\n",
      "On the 62th day, Bought 0 shares for $0.0\n",
      "On the 63th day, Bought 0 shares for $0.0\n",
      "On the 64th day, Bought 0 shares for $0.0\n",
      "On the 65th day, Bought 0 shares for $0.0\n"
     ]
    },
    {
     "name": "stderr",
     "output_type": "stream",
     "text": [
      "[*********************100%***********************]  1 of 1 completed"
     ]
    },
    {
     "name": "stdout",
     "output_type": "stream",
     "text": [
      "On the 216th day, Bought 0 shares for $0.0\n",
      "On the 217th day, Bought 0 shares for $0.0\n",
      "On the 218th day, Bought 0 shares for $0.0\n",
      "On the 219th day, Bought 0 shares for $0.0\n",
      "XLI Final Value: 1000.0, Final Money: 1000.0, Final Shares: 0.0\n",
      "read  2775  lines of data for ticker:  XLI\n"
     ]
    },
    {
     "name": "stderr",
     "output_type": "stream",
     "text": [
      "\n",
      "[*********************100%***********************]  1 of 1 completed\n"
     ]
    },
    {
     "name": "stdout",
     "output_type": "stream",
     "text": [
      "read  251  lines of data for ticker:  XLI\n",
      "XLI Final Value: 1000.0, Final Money: 1000, Final Shares: 0.0\n"
     ]
    },
    {
     "name": "stderr",
     "output_type": "stream",
     "text": [
      "[*********************100%***********************]  1 of 1 completed\n"
     ]
    },
    {
     "name": "stdout",
     "output_type": "stream",
     "text": [
      "read  2775  lines of data for ticker:  XLK\n"
     ]
    },
    {
     "name": "stderr",
     "output_type": "stream",
     "text": [
      "[*********************100%***********************]  1 of 1 completed\n"
     ]
    },
    {
     "name": "stdout",
     "output_type": "stream",
     "text": [
      "read  251  lines of data for ticker:  XLK\n",
      "On the 83th day, Bought 3.2817012339196636 shares for $502.10028878970854\n",
      "On the 90th day, sold 3.2817012339196636 shares for $525.8269887109477\n",
      "On the 119th day, Bought 2.9127344751252475 shares for $501.0485844110451\n",
      "On the 152th day, sold 2.9127344751252475 shares for $486.45578469066754\n",
      "On the 205th day, Bought 2.8446265005404787 shares for $500.7396028901405\n"
     ]
    },
    {
     "name": "stderr",
     "output_type": "stream",
     "text": [
      "[*********************100%***********************]  1 of 1 completed"
     ]
    },
    {
     "name": "stdout",
     "output_type": "stream",
     "text": [
      "On the 206th day, Bought 2.857959416976279 shares for $503.0294369819948\n",
      "On the 214th day, Bought 0 shares for $0.0\n",
      "On the 216th day, Bought 0 shares for $0.0\n",
      "On the 217th day, Bought 0 shares for $0.0\n",
      "On the 218th day, Bought 0 shares for $0.0\n",
      "On the 220th day, Bought 0 shares for $0.0\n",
      "On the 239th day, Bought 0 shares for $0.0\n",
      "XLK Final Value: 1062.5280218306764, Final Money: 12.282773401615259, Final Shares: 5.702585917516758\n",
      "read  2775  lines of data for ticker:  XLK\n"
     ]
    },
    {
     "name": "stderr",
     "output_type": "stream",
     "text": [
      "\n",
      "[*********************100%***********************]  1 of 1 completed\n"
     ]
    },
    {
     "name": "stdout",
     "output_type": "stream",
     "text": [
      "read  251  lines of data for ticker:  XLK\n"
     ]
    },
    {
     "name": "stderr",
     "output_type": "stream",
     "text": [
      "[*********************100%***********************]  1 of 1 completed"
     ]
    },
    {
     "name": "stdout",
     "output_type": "stream",
     "text": [
      "On the 189th day, Bought 2.9505488020771864 shares for $496.4888469255282\n",
      "On the 190th day, Bought 1 shares for $168.39\n",
      "On the 191th day, Bought 1 shares for $166.68\n",
      "On the 207th day, sold 4.950548802077186 shares for $888.7225209488965\n",
      "On the 221th day, Bought 2.694255846535187 shares for $495.0156266839099\n",
      "On the 241th day, sold 2.694255846535187 shares for $505.0113158745554\n",
      "XLK Final Value: 1059.2538368234518, Final Money: 1059.2538368234518, Final Shares: 0.0\n",
      "read  2775  lines of data for ticker:  XLK\n"
     ]
    },
    {
     "name": "stderr",
     "output_type": "stream",
     "text": [
      "\n",
      "[*********************100%***********************]  1 of 1 completed\n"
     ]
    },
    {
     "name": "stdout",
     "output_type": "stream",
     "text": [
      "read  251  lines of data for ticker:  XLK\n",
      "XLK Final Value: 1000.0, Final Money: 1000, Final Shares: 0.0\n"
     ]
    },
    {
     "name": "stderr",
     "output_type": "stream",
     "text": [
      "[*********************100%***********************]  1 of 1 completed\n"
     ]
    },
    {
     "name": "stdout",
     "output_type": "stream",
     "text": [
      "read  2775  lines of data for ticker:  XLP\n"
     ]
    },
    {
     "name": "stderr",
     "output_type": "stream",
     "text": [
      "[*********************100%***********************]  1 of 1 completed\n"
     ]
    },
    {
     "name": "stdout",
     "output_type": "stream",
     "text": [
      "read  251  lines of data for ticker:  XLP\n",
      "On the 51th day, Bought 6.746727836999056 shares for $502.5637565780596\n",
      "On the 52th day, Bought 5 shares for $373.8\n",
      "On the 53th day, Bought 1 shares for $75.07\n",
      "On the 54th day, Bought 0 shares for $0.0\n",
      "On the 55th day, Bought 0 shares for $0.0\n",
      "On the 56th day, Bought 0 shares for $0.0\n",
      "On the 85th day, sold 12.746727836999057 shares for $967.0942409931184\n",
      "On the 156th day, Bought 6.837139340899768 shares for $498.1539723779571\n",
      "On the 157th day, Bought 6.871907641561297 shares for $501.6492578339747\n",
      "On the 162th day, Bought 0 shares for $0.0\n",
      "On the 165th day, Bought 0 shares for $0.0\n",
      "On the 181th day, sold 13.709046982461064 shares for $919.0545097041899\n",
      "On the 218th day, Bought 7.089181908407769 shares for $500.4962427335885\n",
      "On the 219th day, Bought 6 shares for $420.18\n",
      "On the 234th day, sold 13.08918190840777 shares for $918.7296781511413\n"
     ]
    },
    {
     "name": "stderr",
     "output_type": "stream",
     "text": [
      "[*********************100%***********************]  1 of 1 completed"
     ]
    },
    {
     "name": "stdout",
     "output_type": "stream",
     "text": [
      "XLP Final Value: 936.4684288484497, Final Money: 936.4684288484497, Final Shares: 0.0\n",
      "read  2775  lines of data for ticker:  XLP\n"
     ]
    },
    {
     "name": "stderr",
     "output_type": "stream",
     "text": [
      "\n",
      "[*********************100%***********************]  1 of 1 completed\n"
     ]
    },
    {
     "name": "stdout",
     "output_type": "stream",
     "text": [
      "read  251  lines of data for ticker:  XLP\n",
      "On the 125th day, Bought 0 shares for $0.0\n",
      "On the 154th day, Bought 0 shares for $0.0\n",
      "On the 155th day, Bought 0 shares for $0.0\n",
      "On the 156th day, Bought 0 shares for $0.0\n",
      "On the 157th day, Bought 0 shares for $0.0\n"
     ]
    },
    {
     "name": "stderr",
     "output_type": "stream",
     "text": [
      "[*********************100%***********************]  1 of 1 completed"
     ]
    },
    {
     "name": "stdout",
     "output_type": "stream",
     "text": [
      "XLP Final Value: 1000.0, Final Money: 1000.0, Final Shares: 0.0\n",
      "read  2775  lines of data for ticker:  XLP\n"
     ]
    },
    {
     "name": "stderr",
     "output_type": "stream",
     "text": [
      "\n",
      "[*********************100%***********************]  1 of 1 completed\n"
     ]
    },
    {
     "name": "stdout",
     "output_type": "stream",
     "text": [
      "read  251  lines of data for ticker:  XLP\n",
      "On the 59th day, Bought 6.645401382243488 shares for $500.19936204146734\n",
      "On the 61th day, Bought 5 shares for $376.65\n",
      "On the 87th day, sold 11.645401382243488 shares for $870.7266613503456\n",
      "On the 207th day, Bought 7.250580046403713 shares for $499.5649651972159\n",
      "XLP Final Value: 1018.1010232993016, Final Money: 494.8266613503456, Final Shares: 7.250580046403713\n"
     ]
    },
    {
     "name": "stderr",
     "output_type": "stream",
     "text": [
      "[*********************100%***********************]  1 of 1 completed\n"
     ]
    },
    {
     "name": "stdout",
     "output_type": "stream",
     "text": [
      "read  2775  lines of data for ticker:  XLV\n"
     ]
    },
    {
     "name": "stderr",
     "output_type": "stream",
     "text": [
      "[*********************100%***********************]  1 of 1 completed\n"
     ]
    },
    {
     "name": "stdout",
     "output_type": "stream",
     "text": [
      "read  251  lines of data for ticker:  XLV\n",
      "On the 33th day, Bought 3.8726667183022223 shares for $501.00689334675855\n",
      "On the 37th day, sold 3.8726667183022223 shares for $480.7915730772209\n",
      "On the 122th day, Bought 3.8535645472061657 shares for $503.77649325626203\n",
      "On the 128th day, sold 3.8535645472061657 shares for $525.009633911368\n",
      "On the 149th day, Bought 3.7405550983765994 shares for $499.25188898032474\n",
      "On the 150th day, Bought 3.753753753753754 shares for $503.0030030030031\n",
      "On the 151th day, Bought 0 shares for $0.0\n",
      "On the 179th day, sold 7.494308852130354 shares for $954.9248339384498\n"
     ]
    },
    {
     "name": "stderr",
     "output_type": "stream",
     "text": [
      "[*********************100%***********************]  1 of 1 completed"
     ]
    },
    {
     "name": "stdout",
     "output_type": "stream",
     "text": [
      "On the 213th day, Bought 3.8750678136867394 shares for $501.70502983802214\n",
      "On the 214th day, Bought 2 shares for $260.48\n",
      "On the 215th day, Bought 1 shares for $130.69\n",
      "On the 216th day, Bought 0 shares for $0.0\n",
      "On the 217th day, Bought 0 shares for $0.0\n",
      "On the 218th day, Bought 0 shares for $0.0\n",
      "On the 219th day, Bought 0 shares for $0.0\n",
      "XLV Final Value: 1027.9604833047802, Final Money: 70.67604092703863, Final Shares: 6.875067813686739\n",
      "read  2775  lines of data for ticker:  XLV\n"
     ]
    },
    {
     "name": "stderr",
     "output_type": "stream",
     "text": [
      "\n",
      "[*********************100%***********************]  1 of 1 completed\n"
     ]
    },
    {
     "name": "stdout",
     "output_type": "stream",
     "text": [
      "read  251  lines of data for ticker:  XLV\n",
      "On the 67th day, Bought 0 shares for $0.0\n",
      "On the 76th day, Bought 0 shares for $0.0\n"
     ]
    },
    {
     "name": "stderr",
     "output_type": "stream",
     "text": [
      "[*********************100%***********************]  1 of 1 completed"
     ]
    },
    {
     "name": "stdout",
     "output_type": "stream",
     "text": [
      "XLV Final Value: 1000.0, Final Money: 1000.0, Final Shares: 0.0\n",
      "read  2775  lines of data for ticker:  XLV\n"
     ]
    },
    {
     "name": "stderr",
     "output_type": "stream",
     "text": [
      "\n",
      "[*********************100%***********************]  1 of 1 completed\n"
     ]
    },
    {
     "name": "stdout",
     "output_type": "stream",
     "text": [
      "read  251  lines of data for ticker:  XLV\n",
      "On the 226th day, Bought 3.785871128946771 shares for $502.68796850155223\n",
      "XLV Final Value: 1027.1446959945483, Final Money: 500.0, Final Shares: 3.785871128946771\n"
     ]
    },
    {
     "name": "stderr",
     "output_type": "stream",
     "text": [
      "[*********************100%***********************]  1 of 1 completed\n"
     ]
    },
    {
     "name": "stdout",
     "output_type": "stream",
     "text": [
      "read  2775  lines of data for ticker:  XLY\n"
     ]
    },
    {
     "name": "stderr",
     "output_type": "stream",
     "text": [
      "[*********************100%***********************]  1 of 1 completed\n"
     ]
    },
    {
     "name": "stdout",
     "output_type": "stream",
     "text": [
      "read  251  lines of data for ticker:  XLY\n",
      "On the 53th day, Bought 3.374502260916515 shares for $501.6535061078491\n",
      "On the 78th day, Bought 2 shares for $298.02\n",
      "On the 83th day, Bought 1 shares for $148.35\n",
      "On the 94th day, sold 6.374502260916515 shares for $977.8486468245934\n",
      "On the 122th day, Bought 2.8658222043904398 shares for $499.9713417779561\n",
      "On the 123th day, Bought 2.8584495769494627 shares for $500.28584495769496\n",
      "On the 124th day, Bought 0 shares for $0.0\n",
      "On the 125th day, Bought 0 shares for $0.0\n",
      "On the 126th day, Bought 0 shares for $0.0\n",
      "On the 142th day, sold 5.724271781339903 shares for $974.8434843621856\n",
      "On the 203th day, Bought 3.116818351826456 shares for $500.90387732202976\n",
      "On the 204th day, Bought 3.08242401824795 shares for $500.1541212009123\n",
      "On the 205th day, Bought 0 shares for $0.0\n"
     ]
    },
    {
     "name": "stderr",
     "output_type": "stream",
     "text": [
      "[*********************100%***********************]  1 of 1 completed"
     ]
    },
    {
     "name": "stdout",
     "output_type": "stream",
     "text": [
      "On the 216th day, Bought 0 shares for $0.0\n",
      "On the 217th day, Bought 0 shares for $0.0\n",
      "On the 218th day, Bought 0 shares for $0.0\n",
      "On the 219th day, Bought 0 shares for $0.0\n",
      "XLY Final Value: 1078.411553669103, Final Money: 9.972131186779052, Final Shares: 6.199242370074406\n",
      "read  2775  lines of data for ticker:  XLY\n"
     ]
    },
    {
     "name": "stderr",
     "output_type": "stream",
     "text": [
      "\n",
      "[*********************100%***********************]  1 of 1 completed\n"
     ]
    },
    {
     "name": "stdout",
     "output_type": "stream",
     "text": [
      "read  251  lines of data for ticker:  XLY\n",
      "On the 67th day, Bought 0 shares for $0.0\n",
      "On the 83th day, Bought 0 shares for $0.0\n"
     ]
    },
    {
     "name": "stderr",
     "output_type": "stream",
     "text": [
      "[*********************100%***********************]  1 of 1 completed"
     ]
    },
    {
     "name": "stdout",
     "output_type": "stream",
     "text": [
      "On the 187th day, Bought 0 shares for $0.0\n",
      "XLY Final Value: 1000.0, Final Money: 1000.0, Final Shares: 0.0\n"
     ]
    },
    {
     "name": "stderr",
     "output_type": "stream",
     "text": [
      "\n"
     ]
    },
    {
     "name": "stdout",
     "output_type": "stream",
     "text": [
      "read  2775  lines of data for ticker:  XLY\n"
     ]
    },
    {
     "name": "stderr",
     "output_type": "stream",
     "text": [
      "[*********************100%***********************]  1 of 1 completed\n"
     ]
    },
    {
     "name": "stdout",
     "output_type": "stream",
     "text": [
      "read  251  lines of data for ticker:  XLY\n",
      "XLY Final Value: 1000.0, Final Money: 1000, Final Shares: 0.0\n"
     ]
    },
    {
     "name": "stderr",
     "output_type": "stream",
     "text": [
      "[*********************100%***********************]  1 of 1 completed\n"
     ]
    },
    {
     "name": "stdout",
     "output_type": "stream",
     "text": [
      "read  2775  lines of data for ticker:  XLU\n"
     ]
    },
    {
     "name": "stderr",
     "output_type": "stream",
     "text": [
      "[*********************100%***********************]  1 of 1 completed\n"
     ]
    },
    {
     "name": "stdout",
     "output_type": "stream",
     "text": [
      "read  251  lines of data for ticker:  XLU\n",
      "On the 54th day, Bought 7.399733609590055 shares for $502.14592274678114\n",
      "On the 105th day, Bought 7.429420505200595 shares for $494.5765230312035\n",
      "On the 109th day, sold 14.82915411479065 shares for $964.339892084836\n",
      "On the 124th day, Bought 7.566585956416465 shares for $499.546004842615\n",
      "On the 145th day, Bought 6 shares for $379.74\n",
      "On the 148th day, Bought 1 shares for $63.3\n",
      "On the 149th day, Bought 0 shares for $0.0\n",
      "On the 175th day, sold 14.566585956416464 shares for $875.888813559322\n",
      "On the 216th day, Bought 7.975753708725475 shares for $500.39878768543633\n",
      "On the 217th day, Bought 6 shares for $376.79999999999995\n",
      "On the 218th day, Bought 0 shares for $0.0\n",
      "On the 219th day, Bought 0 shares for $0.0\n",
      "On the 220th day, Bought 0 shares for $0.0\n",
      "On the 231th day, sold 13.975753708725474 shares for $894.0289647471685\n",
      "XLU Final Value: 915.9076703913265, Final Money: 915.9076703913265, Final Shares: 0.0\n"
     ]
    },
    {
     "name": "stderr",
     "output_type": "stream",
     "text": [
      "[*********************100%***********************]  1 of 1 completed\n"
     ]
    },
    {
     "name": "stdout",
     "output_type": "stream",
     "text": [
      "read  2775  lines of data for ticker:  XLU\n"
     ]
    },
    {
     "name": "stderr",
     "output_type": "stream",
     "text": [
      "[*********************100%***********************]  1 of 1 completed\n"
     ]
    },
    {
     "name": "stdout",
     "output_type": "stream",
     "text": [
      "read  251  lines of data for ticker:  XLU\n",
      "On the 42th day, Bought 7.466029565477079 shares for $497.0882484694639\n",
      "On the 47th day, sold 7.466029565477079 shares for $490.4434821561893\n",
      "On the 152th day, Bought 7.917656373713381 shares for $500.71258907363426\n",
      "On the 153th day, Bought 6 shares for $382.44\n",
      "On the 174th day, sold 13.917656373713381 shares for $853.2915122723674\n"
     ]
    },
    {
     "name": "stderr",
     "output_type": "stream",
     "text": [
      "[*********************100%***********************]  1 of 1 completed"
     ]
    },
    {
     "name": "stdout",
     "output_type": "stream",
     "text": [
      "XLU Final Value: 961.9549944285566, Final Money: 961.9549944285566, Final Shares: 0.0\n",
      "read  2775  lines of data for ticker:  XLU\n"
     ]
    },
    {
     "name": "stderr",
     "output_type": "stream",
     "text": [
      "\n",
      "[*********************100%***********************]  1 of 1 completed\n"
     ]
    },
    {
     "name": "stdout",
     "output_type": "stream",
     "text": [
      "read  251  lines of data for ticker:  XLU\n",
      "On the 61th day, Bought 7.257947452460444 shares for $500.8709536942953\n",
      "On the 62th day, Bought 6 shares for $415.79999999999995\n",
      "On the 63th day, Bought 1 shares for $69.08\n",
      "On the 64th day, Bought 0 shares for $0.0\n",
      "On the 85th day, sold 14.257947452460444 shares for $944.018700827406\n",
      "On the 143th day, Bought 7.7435341489855976 shares for $499.6902586340406\n",
      "On the 144th day, Bought 6 shares for $382.14\n",
      "On the 151th day, Bought 1 shares for $63.41\n",
      "On the 175th day, sold 14.743534148985598 shares for $886.528708378504\n",
      "On the 215th day, Bought 7.996161842315688 shares for $499.92003838157683\n",
      "On the 216th day, Bought 6 shares for $376.44\n",
      "On the 217th day, Bought 0 shares for $0.0\n",
      "On the 235th day, sold 13.996161842315688 shares for $873.500460578922\n",
      "XLU Final Value: 895.497869784832, Final Money: 895.497869784832, Final Shares: 0.0\n"
     ]
    },
    {
     "name": "stderr",
     "output_type": "stream",
     "text": [
      "[*********************100%***********************]  1 of 1 completed\n"
     ]
    },
    {
     "name": "stdout",
     "output_type": "stream",
     "text": [
      "read  6038  lines of data for ticker:  XLB\n"
     ]
    },
    {
     "name": "stderr",
     "output_type": "stream",
     "text": [
      "[*********************100%***********************]  1 of 1 completed\n"
     ]
    },
    {
     "name": "stdout",
     "output_type": "stream",
     "text": [
      "read  251  lines of data for ticker:  XLB\n",
      "On the 82th day, Bought 5.4424730597583535 shares for $503.4287580276477\n",
      "On the 83th day, Bought 4 shares for $368.24\n",
      "On the 84th day, Bought 1 shares for $91.71\n",
      "On the 86th day, Bought 0 shares for $0.0\n",
      "On the 132th day, sold 10.442473059758353 shares for $953.7110645477303\n",
      "On the 191th day, Bought 5.121376626037079 shares for $499.4366485711359\n"
     ]
    },
    {
     "name": "stderr",
     "output_type": "stream",
     "text": [
      "[*********************100%***********************]  1 of 1 completed"
     ]
    },
    {
     "name": "stdout",
     "output_type": "stream",
     "text": [
      "On the 235th day, sold 5.121376626037079 shares for $438.2874116562532\n",
      "XLB Final Value: 932.5084762039835, Final Money: 932.5084762039835, Final Shares: 0.0\n",
      "read  6038  lines of data for ticker:  XLB\n"
     ]
    },
    {
     "name": "stderr",
     "output_type": "stream",
     "text": [
      "\n",
      "[*********************100%***********************]  1 of 1 completed\n"
     ]
    },
    {
     "name": "stdout",
     "output_type": "stream",
     "text": [
      "read  251  lines of data for ticker:  XLB\n"
     ]
    },
    {
     "name": "stderr",
     "output_type": "stream",
     "text": [
      "[*********************100%***********************]  1 of 1 completed"
     ]
    },
    {
     "name": "stdout",
     "output_type": "stream",
     "text": [
      "XLB Final Value: 1000.0, Final Money: 1000, Final Shares: 0.0\n",
      "read  6038  lines of data for ticker:  XLB\n"
     ]
    },
    {
     "name": "stderr",
     "output_type": "stream",
     "text": [
      "\n",
      "[*********************100%***********************]  1 of 1 completed\n"
     ]
    },
    {
     "name": "stdout",
     "output_type": "stream",
     "text": [
      "read  251  lines of data for ticker:  XLB\n",
      "On the 43th day, Bought 5.515719801434087 shares for $499.6138996138996\n",
      "On the 44th day, Bought 4 shares for $367.2\n",
      "On the 60th day, sold 9.515719801434088 shares for $855.6535245449531\n",
      "On the 185th day, Bought 5.24824183898394 shares for $500.9971659494069\n",
      "On the 196th day, sold 5.24824183898394 shares for $493.124803190931\n",
      "On the 222th day, Bought 5.295488244016098 shares for $498.040669349714\n",
      "On the 233th day, sold 5.295488244016098 shares for $452.49947045117557\n",
      "XLB Final Value: 935.0377981870598, Final Money: 935.0377981870598, Final Shares: 0.0\n"
     ]
    },
    {
     "name": "stderr",
     "output_type": "stream",
     "text": [
      "[*********************100%***********************]  1 of 1 completed\n"
     ]
    },
    {
     "name": "stdout",
     "output_type": "stream",
     "text": [
      "read  6038  lines of data for ticker:  XLE\n"
     ]
    },
    {
     "name": "stderr",
     "output_type": "stream",
     "text": [
      "[*********************100%***********************]  1 of 1 completed\n"
     ]
    },
    {
     "name": "stdout",
     "output_type": "stream",
     "text": [
      "read  251  lines of data for ticker:  XLE\n",
      "On the 46th day, Bought 5.411255411255411 shares for $501.7316017316017\n",
      "On the 60th day, sold 5.411255411255411 shares for $520.1839826839827\n"
     ]
    },
    {
     "name": "stderr",
     "output_type": "stream",
     "text": [
      "[*********************100%***********************]  1 of 1 completed"
     ]
    },
    {
     "name": "stdout",
     "output_type": "stream",
     "text": [
      "On the 190th day, Bought 5.516328331862312 shares for $499.0622241835834\n",
      "On the 191th day, Bought 5.534646889528448 shares for $503.32078813371703\n",
      "On the 192th day, Bought 0 shares for $0.0\n",
      "On the 193th day, Bought 0 shares for $0.0\n",
      "On the 195th day, Bought 0 shares for $0.0\n",
      "On the 196th day, Bought 0 shares for $0.0\n",
      "XLE Final Value: 986.8127852990325, Final Money: 20.183982683982663, Final Shares: 11.050975221390761\n"
     ]
    },
    {
     "name": "stderr",
     "output_type": "stream",
     "text": [
      "\n"
     ]
    },
    {
     "name": "stdout",
     "output_type": "stream",
     "text": [
      "read  6038  lines of data for ticker:  XLE\n"
     ]
    },
    {
     "name": "stderr",
     "output_type": "stream",
     "text": [
      "[*********************100%***********************]  1 of 1 completed\n"
     ]
    },
    {
     "name": "stdout",
     "output_type": "stream",
     "text": [
      "read  251  lines of data for ticker:  XLE\n",
      "On the 31th day, Bought 5.737893045673629 shares for $499.71310534771635\n",
      "On the 72th day, sold 5.737893045673629 shares for $536.6077576313978\n"
     ]
    },
    {
     "name": "stderr",
     "output_type": "stream",
     "text": [
      "[*********************100%***********************]  1 of 1 completed"
     ]
    },
    {
     "name": "stdout",
     "output_type": "stream",
     "text": [
      "XLE Final Value: 1036.6077576313978, Final Money: 1036.6077576313978, Final Shares: 0.0\n",
      "read  6038  lines of data for ticker:  XLE\n"
     ]
    },
    {
     "name": "stderr",
     "output_type": "stream",
     "text": [
      "\n",
      "[*********************100%***********************]  1 of 1 completed\n"
     ]
    },
    {
     "name": "stdout",
     "output_type": "stream",
     "text": [
      "read  251  lines of data for ticker:  XLE\n",
      "On the 115th day, Bought 5.48666739822232 shares for $500.43893339185774\n",
      "On the 125th day, sold 5.48666739822232 shares for $511.46713486228464\n",
      "On the 194th day, Bought 5.567308762943993 shares for $501.0577886649594\n",
      "On the 234th day, sold 5.567308762943993 shares for $463.86816612849344\n",
      "XLE Final Value: 975.335300990778, Final Money: 975.335300990778, Final Shares: 0.0\n"
     ]
    },
    {
     "name": "stderr",
     "output_type": "stream",
     "text": [
      "[*********************100%***********************]  1 of 1 completed\n"
     ]
    },
    {
     "name": "stdout",
     "output_type": "stream",
     "text": [
      "read  6038  lines of data for ticker:  XLF\n"
     ]
    },
    {
     "name": "stderr",
     "output_type": "stream",
     "text": [
      "[*********************100%***********************]  1 of 1 completed\n"
     ]
    },
    {
     "name": "stdout",
     "output_type": "stream",
     "text": [
      "read  251  lines of data for ticker:  XLF\n"
     ]
    },
    {
     "name": "stderr",
     "output_type": "stream",
     "text": [
      "[*********************100%***********************]  1 of 1 completed"
     ]
    },
    {
     "name": "stdout",
     "output_type": "stream",
     "text": [
      "XLF Final Value: 1000.0, Final Money: 1000, Final Shares: 0.0\n",
      "read  6038  lines of data for ticker:  XLF\n"
     ]
    },
    {
     "name": "stderr",
     "output_type": "stream",
     "text": [
      "\n",
      "[*********************100%***********************]  1 of 1 completed\n"
     ]
    },
    {
     "name": "stdout",
     "output_type": "stream",
     "text": [
      "read  251  lines of data for ticker:  XLF\n",
      "On the 32th day, Bought 12.379301807378063 shares for $498.26689774696706\n",
      "On the 33th day, Bought 11 shares for $445.06\n",
      "On the 58th day, sold 23.379301807378063 shares for $955.979650903689\n",
      "On the 74th day, Bought 12.357884330202669 shares for $502.96589223924866\n",
      "On the 83th day, Bought 11.853959222380276 shares for $500.47415836889525\n",
      "On the 84th day, Bought 0 shares for $0.0\n",
      "On the 85th day, Bought 0 shares for $0.0\n",
      "On the 132th day, sold 24.211843552582945 shares for $1051.0361286176255\n"
     ]
    },
    {
     "name": "stderr",
     "output_type": "stream",
     "text": [
      "[*********************100%***********************]  1 of 1 completed"
     ]
    },
    {
     "name": "stdout",
     "output_type": "stream",
     "text": [
      "XLF Final Value: 1062.6157795213146, Final Money: 1062.6157795213146, Final Shares: 0.0\n",
      "read  6038  lines of data for ticker:  XLF\n"
     ]
    },
    {
     "name": "stderr",
     "output_type": "stream",
     "text": [
      "\n",
      "[*********************100%***********************]  1 of 1 completed\n"
     ]
    },
    {
     "name": "stdout",
     "output_type": "stream",
     "text": [
      "read  251  lines of data for ticker:  XLF\n",
      "On the 100th day, Bought 12.100677637947724 shares for $497.5798644724104\n",
      "On the 123th day, sold 12.100677637947724 shares for $520.3291384317521\n",
      "On the 179th day, Bought 11.079104808331486 shares for $498.11655218258363\n",
      "On the 180th day, Bought 11.138338159946535 shares for $504.9008687903764\n",
      "On the 187th day, sold 22.21744296827802 shares for $1039.7763309154113\n",
      "XLF Final Value: 1060.1054693471635, Final Money: 1060.1054693471635, Final Shares: 0.0\n"
     ]
    },
    {
     "name": "stderr",
     "output_type": "stream",
     "text": [
      "[*********************100%***********************]  1 of 1 completed\n"
     ]
    },
    {
     "name": "stdout",
     "output_type": "stream",
     "text": [
      "read  6038  lines of data for ticker:  XLI\n"
     ]
    },
    {
     "name": "stderr",
     "output_type": "stream",
     "text": [
      "[*********************100%***********************]  1 of 1 completed\n"
     ]
    },
    {
     "name": "stdout",
     "output_type": "stream",
     "text": [
      "read  251  lines of data for ticker:  XLI\n",
      "On the 30th day, Bought 4.132231404958677 shares for $499.83471074380157\n",
      "On the 32th day, Bought 4.09970482125287 shares for $498.8930796982618\n",
      "On the 55th day, sold 8.231936226211548 shares for $1034.5074255480054\n",
      "On the 82th day, Bought 3.99616368286445 shares for $502.6374680306905\n",
      "On the 83th day, Bought 3.9701445132602826 shares for $499.1265682070827\n",
      "On the 84th day, Bought 0 shares for $0.0\n",
      "On the 85th day, Bought 0 shares for $0.0\n",
      "On the 86th day, Bought 0 shares for $0.0\n",
      "On the 126th day, sold 7.966308196124732 shares for $1000.2496571054214\n"
     ]
    },
    {
     "name": "stderr",
     "output_type": "stream",
     "text": [
      "[*********************100%***********************]  1 of 1 completed"
     ]
    },
    {
     "name": "stdout",
     "output_type": "stream",
     "text": [
      "XLI Final Value: 1034.7570826534268, Final Money: 1034.7570826534268, Final Shares: 0.0\n",
      "read  6038  lines of data for ticker:  XLI\n"
     ]
    },
    {
     "name": "stderr",
     "output_type": "stream",
     "text": [
      "\n",
      "[*********************100%***********************]  1 of 1 completed\n"
     ]
    },
    {
     "name": "stdout",
     "output_type": "stream",
     "text": [
      "read  251  lines of data for ticker:  XLI\n",
      "On the 32th day, Bought 4.09970482125287 shares for $498.8930796982618\n",
      "On the 86th day, Bought 3.9818427968463808 shares for $499.0841761567254\n",
      "On the 87th day, Bought 3.9948865452221156 shares for $499.24097155640777\n",
      "On the 124th day, sold 12.076434163321366 shares for $1548.078095396166\n",
      "On the 153th day, Bought 3.8717670744927988 shares for $499.2643642558464\n",
      "On the 154th day, Bought 3.869370066553165 shares for $500.2321622039932\n",
      "On the 155th day, Bought 0 shares for $0.0\n",
      "On the 204th day, sold 7.741137141045964 shares for $1094.8290258581308\n"
     ]
    },
    {
     "name": "stderr",
     "output_type": "stream",
     "text": [
      "[*********************100%***********************]  1 of 1 completed"
     ]
    },
    {
     "name": "stdout",
     "output_type": "stream",
     "text": [
      "XLI Final Value: 1142.9071212542967, Final Money: 1142.9071212542967, Final Shares: 0.0\n",
      "read  6038  lines of data for ticker:  XLI\n"
     ]
    },
    {
     "name": "stderr",
     "output_type": "stream",
     "text": [
      "\n",
      "[*********************100%***********************]  1 of 1 completed\n"
     ]
    },
    {
     "name": "stdout",
     "output_type": "stream",
     "text": [
      "read  251  lines of data for ticker:  XLI\n",
      "On the 40th day, Bought 4.097688903458449 shares for $497.9921324373053\n",
      "On the 41th day, Bought 3 shares for $366.29999999999995\n",
      "On the 42th day, Bought 1 shares for $121.93\n",
      "On the 45th day, sold 8.09768890345845 shares for $1017.3936338305195\n",
      "On the 85th day, Bought 3.989467804994814 shares for $500.1196840341498\n",
      "On the 86th day, Bought 3.9818427968463808 shares for $499.0841761567254\n",
      "On the 123th day, sold 7.9713106018411946 shares for $996.9718169722781\n",
      "XLI Final Value: 1026.3654508027976, Final Money: 1026.3654508027976, Final Shares: 0.0\n"
     ]
    },
    {
     "name": "stderr",
     "output_type": "stream",
     "text": [
      "[*********************100%***********************]  1 of 1 completed\n"
     ]
    },
    {
     "name": "stdout",
     "output_type": "stream",
     "text": [
      "read  6038  lines of data for ticker:  XLK\n"
     ]
    },
    {
     "name": "stderr",
     "output_type": "stream",
     "text": [
      "[*********************100%***********************]  1 of 1 completed\n"
     ]
    },
    {
     "name": "stdout",
     "output_type": "stream",
     "text": [
      "read  251  lines of data for ticker:  XLK\n",
      "On the 32th day, Bought 2.3723666729929778 shares for $495.06547732017464\n",
      "On the 36th day, sold 2.3723666729929778 shares for $491.9102296450939\n",
      "On the 50th day, Bought 2.400729821865847 shares for $501.05632112162095\n",
      "On the 51th day, Bought 1 shares for $206.53\n",
      "On the 82th day, Bought 1 shares for $209.65\n",
      "On the 83th day, Bought 0 shares for $0.0\n",
      "On the 84th day, Bought 0 shares for $0.0\n",
      "On the 125th day, sold 4.400729821865847 shares for $987.3477428338214\n",
      "On the 177th day, Bought 2.2147413182140325 shares for $498.5161233167966\n",
      "On the 204th day, sold 2.2147413182140325 shares for $516.8098866052445\n"
     ]
    },
    {
     "name": "stderr",
     "output_type": "stream",
     "text": [
      "[*********************100%***********************]  1 of 1 completed"
     ]
    },
    {
     "name": "stdout",
     "output_type": "stream",
     "text": [
      "XLK Final Value: 1078.8778590841598, Final Money: 1078.8778590841598, Final Shares: 0.0\n",
      "read  6038  lines of data for ticker:  XLK\n"
     ]
    },
    {
     "name": "stderr",
     "output_type": "stream",
     "text": [
      "\n",
      "[*********************100%***********************]  1 of 1 completed\n"
     ]
    },
    {
     "name": "stdout",
     "output_type": "stream",
     "text": [
      "read  251  lines of data for ticker:  XLK\n",
      "On the 90th day, Bought 0 shares for $0.0\n",
      "On the 91th day, Bought 0 shares for $0.0\n",
      "On the 117th day, Bought 0 shares for $0.0\n",
      "On the 153th day, Bought 0 shares for $0.0\n",
      "On the 154th day, Bought 0 shares for $0.0\n",
      "On the 155th day, Bought 0 shares for $0.0\n",
      "On the 156th day, Bought 0 shares for $0.0\n",
      "On the 157th day, Bought 0 shares for $0.0\n"
     ]
    },
    {
     "name": "stderr",
     "output_type": "stream",
     "text": [
      "[*********************100%***********************]  1 of 1 completed"
     ]
    },
    {
     "name": "stdout",
     "output_type": "stream",
     "text": [
      "XLK Final Value: 1000.0, Final Money: 1000.0, Final Shares: 0.0\n",
      "read  6038  lines of data for ticker:  XLK\n"
     ]
    },
    {
     "name": "stderr",
     "output_type": "stream",
     "text": [
      "\n",
      "[*********************100%***********************]  1 of 1 completed\n"
     ]
    },
    {
     "name": "stdout",
     "output_type": "stream",
     "text": [
      "read  251  lines of data for ticker:  XLK\n",
      "On the 40th day, Bought 2.394865408564039 shares for $492.8154037743079\n",
      "On the 48th day, Bought 1 shares for $208.97\n",
      "On the 49th day, Bought 1 shares for $208.23\n",
      "On the 50th day, Bought 0 shares for $0.0\n",
      "On the 51th day, Bought 0 shares for $0.0\n",
      "On the 52th day, Bought 0 shares for $0.0\n",
      "On the 53th day, Bought 0 shares for $0.0\n",
      "On the 63th day, sold 4.394865408564039 shares for $873.9189864929591\n",
      "XLK Final Value: 957.538986492959, Final Money: 957.538986492959, Final Shares: 0.0\n"
     ]
    },
    {
     "name": "stderr",
     "output_type": "stream",
     "text": [
      "[*********************100%***********************]  1 of 1 completed\n"
     ]
    },
    {
     "name": "stdout",
     "output_type": "stream",
     "text": [
      "read  6038  lines of data for ticker:  XLP\n"
     ]
    },
    {
     "name": "stderr",
     "output_type": "stream",
     "text": [
      "[*********************100%***********************]  1 of 1 completed\n"
     ]
    },
    {
     "name": "stdout",
     "output_type": "stream",
     "text": [
      "read  251  lines of data for ticker:  XLP\n",
      "On the 30th day, Bought 6.715916722632639 shares for $498.65681665547345\n",
      "On the 32th day, Bought 5 shares for $374.20000000000005\n",
      "On the 33th day, Bought 1 shares for $75.05\n",
      "On the 66th day, sold 12.715916722632638 shares for $955.6011417058428\n",
      "On the 121th day, Bought 6.484243288808196 shares for $502.65853974841133\n",
      "On the 122th day, Bought 6.455777921239509 shares for $499.677211103938\n",
      "On the 124th day, Bought 0 shares for $0.0\n",
      "On the 135th day, sold 12.940021210047705 shares for $1007.3806512022138\n",
      "On the 200th day, Bought 6.240639041437843 shares for $501.6225661507738\n",
      "On the 201th day, Bought 6.238303181534622 shares for $500.74859638178407\n",
      "On the 202th day, Bought 0 shares for $0.0\n"
     ]
    },
    {
     "name": "stderr",
     "output_type": "stream",
     "text": [
      "[*********************100%***********************]  1 of 1 completed"
     ]
    },
    {
     "name": "stdout",
     "output_type": "stream",
     "text": [
      "On the 203th day, Bought 0 shares for $0.0\n",
      "On the 206th day, sold 12.478942222972465 shares for $1008.5481104606346\n",
      "XLP Final Value: 1024.2299033686913, Final Money: 1024.2299033686913, Final Shares: 0.0\n",
      "read  6038  lines of data for ticker:  XLP\n"
     ]
    },
    {
     "name": "stderr",
     "output_type": "stream",
     "text": [
      "\n",
      "[*********************100%***********************]  1 of 1 completed\n"
     ]
    },
    {
     "name": "stdout",
     "output_type": "stream",
     "text": [
      "read  251  lines of data for ticker:  XLP\n",
      "On the 112th day, Bought 6.500260010400416 shares for $499.93499739989596\n",
      "On the 113th day, Bought 5 shares for $384.90000000000003\n",
      "On the 138th day, sold 11.500260010400416 shares for $893.5702028081123\n",
      "On the 175th day, Bought 6.033546518643658 shares for $500.66369011705075\n",
      "On the 176th day, Bought 6.022645145748013 shares for $501.8067935437244\n",
      "On the 177th day, Bought 0 shares for $0.0\n",
      "On the 178th day, Bought 0 shares for $0.0\n",
      "On the 182th day, sold 12.05619166439167 shares for $972.4524196498321\n"
     ]
    },
    {
     "name": "stderr",
     "output_type": "stream",
     "text": [
      "[*********************100%***********************]  1 of 1 completed"
     ]
    },
    {
     "name": "stdout",
     "output_type": "stream",
     "text": [
      "XLP Final Value: 983.1226224579444, Final Money: 983.1226224579444, Final Shares: 0.0\n",
      "read  6038  lines of data for ticker:  XLP\n"
     ]
    },
    {
     "name": "stderr",
     "output_type": "stream",
     "text": [
      "\n",
      "[*********************100%***********************]  1 of 1 completed\n"
     ]
    },
    {
     "name": "stdout",
     "output_type": "stream",
     "text": [
      "read  251  lines of data for ticker:  XLP\n",
      "On the 111th day, Bought 6.472491909385114 shares for $499.87055016181233\n",
      "On the 148th day, sold 6.472491909385114 shares for $522.8478964401295\n",
      "On the 175th day, Bought 6.033546518643658 shares for $500.66369011705075\n",
      "On the 176th day, Bought 6.022645145748013 shares for $501.8067935437244\n",
      "On the 177th day, Bought 0 shares for $0.0\n",
      "On the 182th day, sold 12.05619166439167 shares for $972.4524196498321\n",
      "XLP Final Value: 995.3003160899616, Final Money: 995.3003160899616, Final Shares: 0.0\n"
     ]
    },
    {
     "name": "stderr",
     "output_type": "stream",
     "text": [
      "[*********************100%***********************]  1 of 1 completed\n"
     ]
    },
    {
     "name": "stdout",
     "output_type": "stream",
     "text": [
      "read  6038  lines of data for ticker:  XLV\n"
     ]
    },
    {
     "name": "stderr",
     "output_type": "stream",
     "text": [
      "[*********************100%***********************]  1 of 1 completed\n"
     ]
    },
    {
     "name": "stdout",
     "output_type": "stream",
     "text": [
      "read  251  lines of data for ticker:  XLV\n",
      "On the 46th day, Bought 3.4378437843784377 shares for $500.9282178217822\n",
      "On the 47th day, Bought 2 shares for $291.06\n",
      "On the 48th day, Bought 1 shares for $147.01\n",
      "On the 50th day, Bought 0 shares for $0.0\n",
      "On the 54th day, sold 6.437843784378438 shares for $913.8519251925192\n",
      "On the 81th day, Bought 3.485535029627048 shares for $500.6971070059255\n",
      "On the 82th day, Bought 2 shares for $289.4\n",
      "On the 95th day, sold 5.485535029627048 shares for $793.8117741373302\n"
     ]
    },
    {
     "name": "stderr",
     "output_type": "stream",
     "text": [
      "[*********************100%***********************]  1 of 1 completed"
     ]
    },
    {
     "name": "stdout",
     "output_type": "stream",
     "text": [
      "On the 222th day, Bought 3.4055305816646233 shares for $500.88543795123286\n",
      "XLV Final Value: 956.5262289579655, Final Money: 483.2936993298494, Final Shares: 3.4055305816646233\n",
      "read  6038  lines of data for ticker:  XLV\n"
     ]
    },
    {
     "name": "stderr",
     "output_type": "stream",
     "text": [
      "\n",
      "[*********************100%***********************]  1 of 1 completed\n"
     ]
    },
    {
     "name": "stdout",
     "output_type": "stream",
     "text": [
      "read  251  lines of data for ticker:  XLV\n",
      "On the 38th day, Bought 3.4006665306400055 shares for $501.9043732571584\n",
      "On the 39th day, Bought 2 shares for $293.1\n",
      "On the 40th day, Bought 1 shares for $145.02\n",
      "On the 41th day, Bought 0 shares for $0.0\n",
      "On the 42th day, Bought 0 shares for $0.0\n",
      "On the 49th day, sold 6.400666530640006 shares for $945.4424532408353\n",
      "On the 76th day, Bought 3.536067892503536 shares for $501.1315417256011\n",
      "On the 126th day, sold 3.536067892503536 shares for $520.2263083451203\n",
      "On the 199th day, Bought 3.3756413718606533 shares for $497.02943559276264\n"
     ]
    },
    {
     "name": "stderr",
     "output_type": "stream",
     "text": [
      "[*********************100%***********************]  1 of 1 completed"
     ]
    },
    {
     "name": "stdout",
     "output_type": "stream",
     "text": [
      "On the 210th day, sold 3.3756413718606533 shares for $487.84769106130165\n",
      "XLV Final Value: 1014.6564526472573, Final Money: 1014.6564526472573, Final Shares: 0.0\n",
      "read  6038  lines of data for ticker:  XLV\n"
     ]
    },
    {
     "name": "stderr",
     "output_type": "stream",
     "text": [
      "\n",
      "[*********************100%***********************]  1 of 1 completed\n"
     ]
    },
    {
     "name": "stdout",
     "output_type": "stream",
     "text": [
      "read  251  lines of data for ticker:  XLV\n",
      "On the 40th day, Bought 3.426065506372482 shares for $496.8480197341374\n",
      "On the 47th day, Bought 2 shares for $291.06\n",
      "On the 53th day, sold 5.426065506372482 shares for $781.5162148828286\n",
      "XLV Final Value: 991.0362148828286, Final Money: 991.0362148828286, Final Shares: 0.0\n"
     ]
    },
    {
     "name": "stderr",
     "output_type": "stream",
     "text": [
      "[*********************100%***********************]  1 of 1 completed\n"
     ]
    },
    {
     "name": "stdout",
     "output_type": "stream",
     "text": [
      "read  6038  lines of data for ticker:  XLY\n"
     ]
    },
    {
     "name": "stderr",
     "output_type": "stream",
     "text": [
      "[*********************100%***********************]  1 of 1 completed\n"
     ]
    },
    {
     "name": "stdout",
     "output_type": "stream",
     "text": [
      "read  251  lines of data for ticker:  XLY\n",
      "On the 32th day, Bought 2.739425816348893 shares for $496.79487179487177\n",
      "On the 56th day, sold 2.739425816348893 shares for $494.57593688362914\n",
      "On the 82th day, Bought 2.7982986344302665 shares for $502.2386389075442\n",
      "On the 83th day, Bought 1 shares for $178.85\n",
      "On the 84th day, Bought 1 shares for $177.95\n",
      "On the 85th day, Bought 0 shares for $0.0\n",
      "On the 115th day, sold 4.7982986344302665 shares for $895.2665592119992\n",
      "On the 176th day, Bought 2.48954391555467 shares for $498.63075084644487\n",
      "On the 177th day, Bought 2.495383540450167 shares for $499.70055397514597\n",
      "On the 189th day, Bought 0 shares for $0.0\n",
      "On the 190th day, Bought 0 shares for $0.0\n",
      "On the 191th day, Bought 0 shares for $0.0\n"
     ]
    },
    {
     "name": "stderr",
     "output_type": "stream",
     "text": [
      "[*********************100%***********************]  1 of 1 completed"
     ]
    },
    {
     "name": "stdout",
     "output_type": "stream",
     "text": [
      "On the 204th day, sold 4.984927456004837 shares for $1043.943507836533\n",
      "XLY Final Value: 1077.046003932161, Final Money: 1077.046003932161, Final Shares: 0.0\n",
      "read  6038  lines of data for ticker:  XLY\n"
     ]
    },
    {
     "name": "stderr",
     "output_type": "stream",
     "text": [
      "\n",
      "[*********************100%***********************]  1 of 1 completed\n"
     ]
    },
    {
     "name": "stdout",
     "output_type": "stream",
     "text": [
      "read  251  lines of data for ticker:  XLY\n",
      "On the 39th day, Bought 2.7625835681529365 shares for $500.5801425493121\n",
      "On the 40th day, Bought 2.7802491103202844 shares for $496.6358985765124\n",
      "On the 41th day, Bought 0 shares for $0.0\n",
      "On the 42th day, Bought 0 shares for $0.0\n",
      "On the 62th day, sold 5.542832678473221 shares for $959.8523349312077\n"
     ]
    },
    {
     "name": "stderr",
     "output_type": "stream",
     "text": [
      "[*********************100%***********************]  1 of 1 completed"
     ]
    },
    {
     "name": "stdout",
     "output_type": "stream",
     "text": [
      "XLY Final Value: 959.8523349312077, Final Money: 959.8523349312077, Final Shares: 0.0\n",
      "read  6038  lines of data for ticker:  XLY\n"
     ]
    },
    {
     "name": "stderr",
     "output_type": "stream",
     "text": [
      "\n",
      "[*********************100%***********************]  1 of 1 completed\n"
     ]
    },
    {
     "name": "stdout",
     "output_type": "stream",
     "text": [
      "read  251  lines of data for ticker:  XLY\n",
      "On the 38th day, Bought 2.7567955009097425 shares for $498.75944202459056\n",
      "On the 39th day, Bought 1 shares for $181.2\n",
      "On the 40th day, Bought 1 shares for $178.63\n",
      "On the 62th day, sold 4.7567955009097425 shares for $823.73427689254\n",
      "On the 83th day, Bought 2.794076557697681 shares for $499.7205923442302\n",
      "On the 115th day, sold 2.794076557697681 shares for $521.3188041352333\n",
      "XLY Final Value: 984.2230810277733, Final Money: 984.2230810277733, Final Shares: 0.0\n"
     ]
    },
    {
     "name": "stderr",
     "output_type": "stream",
     "text": [
      "[*********************100%***********************]  1 of 1 completed\n"
     ]
    },
    {
     "name": "stdout",
     "output_type": "stream",
     "text": [
      "read  6038  lines of data for ticker:  XLU\n"
     ]
    },
    {
     "name": "stderr",
     "output_type": "stream",
     "text": [
      "[*********************100%***********************]  1 of 1 completed\n"
     ]
    },
    {
     "name": "stdout",
     "output_type": "stream",
     "text": [
      "read  251  lines of data for ticker:  XLU\n",
      "On the 46th day, Bought 7.829627309740056 shares for $501.4093329157532\n",
      "On the 47th day, Bought 6 shares for $385.38\n",
      "On the 48th day, Bought 1 shares for $63.9\n",
      "On the 63th day, sold 14.829627309740056 shares for $950.2825180081428\n",
      "On the 86th day, Bought 6.9232899473829965 shares for $499.72306840210473\n",
      "On the 87th day, Bought 6.861534239055852 shares for $497.2553863043776\n",
      "On the 125th day, sold 13.784824186438849 shares for $966.4540237112277\n"
     ]
    },
    {
     "name": "stderr",
     "output_type": "stream",
     "text": [
      "[*********************100%***********************]  1 of 1 completed"
     ]
    },
    {
     "name": "stdout",
     "output_type": "stream",
     "text": [
      "On the 232th day, Bought 6.51890482398957 shares for $499.6740547588006\n",
      "On the 242th day, Bought 5 shares for $383.54999999999995\n",
      "XLU Final Value: 974.8737255524865, Final Money: 86.9965417193705, Final Shares: 11.518904823989569\n",
      "read  6038  lines of data for ticker:  XLU\n"
     ]
    },
    {
     "name": "stderr",
     "output_type": "stream",
     "text": [
      "\n",
      "[*********************100%***********************]  1 of 1 completed\n"
     ]
    },
    {
     "name": "stdout",
     "output_type": "stream",
     "text": [
      "read  251  lines of data for ticker:  XLU\n",
      "On the 39th day, Bought 7.827175954915466 shares for $498.90419536631185\n",
      "On the 40th day, Bought 7.890168849613382 shares for $498.4219662300774\n",
      "On the 41th day, Bought 7.87897888433659 shares for $496.5332492908919\n",
      "On the 42th day, Bought 7.907638779060573 shares for $501.18614581685915\n",
      "On the 49th day, sold 31.503962467926012 shares for $2054.058352908776\n",
      "On the 107th day, Bought 7.163323782234957 shares for $501.8624641833811\n",
      "On the 108th day, Bought 7.205649228995532 shares for $495.89277993947246\n",
      "On the 123th day, sold 14.368973011230489 shares for $999.0746934708559\n"
     ]
    },
    {
     "name": "stderr",
     "output_type": "stream",
     "text": [
      "[*********************100%***********************]  1 of 1 completed"
     ]
    },
    {
     "name": "stdout",
     "output_type": "stream",
     "text": [
      "On the 213th day, Bought 6.215040397762586 shares for $500.9322560596644\n",
      "On the 228th day, Bought 6.44080896560608 shares for $502.38309931727423\n",
      "On the 229th day, Bought 0 shares for $0.0\n",
      "On the 230th day, Bought 0 shares for $0.0\n",
      "On the 232th day, Bought 0 shares for $0.0\n",
      "On the 242th day, Bought 0 shares for $0.0\n",
      "XLU Final Value: 1028.645915308089, Final Money: 53.13304637963216, Final Shares: 12.655849363368667\n",
      "read  6038  lines of data for ticker:  XLU\n"
     ]
    },
    {
     "name": "stderr",
     "output_type": "stream",
     "text": [
      "\n",
      "[*********************100%***********************]  1 of 1 completed\n"
     ]
    },
    {
     "name": "stdout",
     "output_type": "stream",
     "text": [
      "read  251  lines of data for ticker:  XLU\n",
      "On the 41th day, Bought 7.87897888433659 shares for $496.5332492908919\n",
      "On the 50th day, sold 7.87897888433659 shares for $517.2549637566972\n",
      "On the 195th day, Bought 6.128201985537443 shares for $502.51256281407035\n",
      "On the 240th day, Bought 6.599788806758183 shares for $500.98996832101363\n",
      "On the 241th day, Bought 0 shares for $0.0\n",
      "On the 242th day, Bought 0 shares for $0.0\n",
      "XLU Final Value: 998.328494026844, Final Money: 17.25496375669718, Final Shares: 12.727990792295627\n"
     ]
    },
    {
     "name": "stderr",
     "output_type": "stream",
     "text": [
      "[*********************100%***********************]  1 of 1 completed\n"
     ]
    },
    {
     "name": "stdout",
     "output_type": "stream",
     "text": [
      "read  6038  lines of data for ticker:  XLB\n"
     ]
    },
    {
     "name": "stderr",
     "output_type": "stream",
     "text": [
      "[*********************100%***********************]  1 of 1 completed\n"
     ]
    },
    {
     "name": "stdout",
     "output_type": "stream",
     "text": [
      "read  251  lines of data for ticker:  XLB\n",
      "On the 82th day, Bought 5.4424730597583535 shares for $503.4287580276477\n",
      "On the 83th day, Bought 4 shares for $368.24\n",
      "On the 84th day, Bought 1 shares for $91.71\n",
      "On the 86th day, Bought 0 shares for $0.0\n",
      "On the 132th day, sold 10.442473059758353 shares for $953.7110645477303\n",
      "On the 191th day, Bought 5.121376626037079 shares for $499.4366485711359\n"
     ]
    },
    {
     "name": "stderr",
     "output_type": "stream",
     "text": [
      "[*********************100%***********************]  1 of 1 completed"
     ]
    },
    {
     "name": "stdout",
     "output_type": "stream",
     "text": [
      "On the 235th day, sold 5.121376626037079 shares for $438.2874116562532\n",
      "XLB Final Value: 932.5084762039835, Final Money: 932.5084762039835, Final Shares: 0.0\n",
      "read  6038  lines of data for ticker:  XLB\n"
     ]
    },
    {
     "name": "stderr",
     "output_type": "stream",
     "text": [
      "\n",
      "[*********************100%***********************]  1 of 1 completed\n"
     ]
    },
    {
     "name": "stdout",
     "output_type": "stream",
     "text": [
      "read  251  lines of data for ticker:  XLB\n"
     ]
    },
    {
     "name": "stderr",
     "output_type": "stream",
     "text": [
      "[*********************100%***********************]  1 of 1 completed"
     ]
    },
    {
     "name": "stdout",
     "output_type": "stream",
     "text": [
      "XLB Final Value: 1000.0, Final Money: 1000, Final Shares: 0.0\n",
      "read  6038  lines of data for ticker:  XLB\n"
     ]
    },
    {
     "name": "stderr",
     "output_type": "stream",
     "text": [
      "\n",
      "[*********************100%***********************]  1 of 1 completed\n"
     ]
    },
    {
     "name": "stdout",
     "output_type": "stream",
     "text": [
      "read  251  lines of data for ticker:  XLB\n",
      "On the 43th day, Bought 5.515719801434087 shares for $499.6138996138996\n",
      "On the 44th day, Bought 4 shares for $367.2\n",
      "On the 60th day, sold 9.515719801434088 shares for $855.6535245449531\n",
      "On the 185th day, Bought 5.24824183898394 shares for $500.9971659494069\n",
      "On the 196th day, sold 5.24824183898394 shares for $493.124803190931\n",
      "On the 222th day, Bought 5.295488244016098 shares for $498.040669349714\n",
      "On the 233th day, sold 5.295488244016098 shares for $452.49947045117557\n",
      "XLB Final Value: 935.0377981870598, Final Money: 935.0377981870598, Final Shares: 0.0\n"
     ]
    },
    {
     "name": "stderr",
     "output_type": "stream",
     "text": [
      "[*********************100%***********************]  1 of 1 completed\n"
     ]
    },
    {
     "name": "stdout",
     "output_type": "stream",
     "text": [
      "read  6038  lines of data for ticker:  XLE\n"
     ]
    },
    {
     "name": "stderr",
     "output_type": "stream",
     "text": [
      "[*********************100%***********************]  1 of 1 completed\n"
     ]
    },
    {
     "name": "stdout",
     "output_type": "stream",
     "text": [
      "read  251  lines of data for ticker:  XLE\n",
      "On the 46th day, Bought 5.411255411255411 shares for $501.7316017316017\n",
      "On the 60th day, sold 5.411255411255411 shares for $520.1839826839827\n"
     ]
    },
    {
     "name": "stderr",
     "output_type": "stream",
     "text": [
      "[*********************100%***********************]  1 of 1 completed"
     ]
    },
    {
     "name": "stdout",
     "output_type": "stream",
     "text": [
      "On the 190th day, Bought 5.516328331862312 shares for $499.0622241835834\n",
      "On the 191th day, Bought 5.534646889528448 shares for $503.32078813371703\n",
      "On the 192th day, Bought 0 shares for $0.0\n",
      "On the 193th day, Bought 0 shares for $0.0\n",
      "On the 195th day, Bought 0 shares for $0.0\n",
      "On the 196th day, Bought 0 shares for $0.0\n",
      "XLE Final Value: 986.8127852990325, Final Money: 20.183982683982663, Final Shares: 11.050975221390761\n"
     ]
    },
    {
     "name": "stderr",
     "output_type": "stream",
     "text": [
      "\n"
     ]
    },
    {
     "name": "stdout",
     "output_type": "stream",
     "text": [
      "read  6038  lines of data for ticker:  XLE\n"
     ]
    },
    {
     "name": "stderr",
     "output_type": "stream",
     "text": [
      "[*********************100%***********************]  1 of 1 completed\n"
     ]
    },
    {
     "name": "stdout",
     "output_type": "stream",
     "text": [
      "read  251  lines of data for ticker:  XLE\n",
      "On the 31th day, Bought 5.737893045673629 shares for $499.71310534771635\n",
      "On the 72th day, sold 5.737893045673629 shares for $536.6077576313978\n"
     ]
    },
    {
     "name": "stderr",
     "output_type": "stream",
     "text": [
      "[*********************100%***********************]  1 of 1 completed"
     ]
    },
    {
     "name": "stdout",
     "output_type": "stream",
     "text": [
      "XLE Final Value: 1036.6077576313978, Final Money: 1036.6077576313978, Final Shares: 0.0\n",
      "read  6038  lines of data for ticker:  XLE\n"
     ]
    },
    {
     "name": "stderr",
     "output_type": "stream",
     "text": [
      "\n",
      "[*********************100%***********************]  1 of 1 completed\n"
     ]
    },
    {
     "name": "stdout",
     "output_type": "stream",
     "text": [
      "read  251  lines of data for ticker:  XLE\n",
      "On the 115th day, Bought 5.48666739822232 shares for $500.43893339185774\n",
      "On the 125th day, sold 5.48666739822232 shares for $511.46713486228464\n",
      "On the 194th day, Bought 5.567308762943993 shares for $501.0577886649594\n",
      "On the 234th day, sold 5.567308762943993 shares for $463.86816612849344\n",
      "XLE Final Value: 975.335300990778, Final Money: 975.335300990778, Final Shares: 0.0\n"
     ]
    },
    {
     "name": "stderr",
     "output_type": "stream",
     "text": [
      "[*********************100%***********************]  1 of 1 completed\n"
     ]
    },
    {
     "name": "stdout",
     "output_type": "stream",
     "text": [
      "read  6038  lines of data for ticker:  XLF\n"
     ]
    },
    {
     "name": "stderr",
     "output_type": "stream",
     "text": [
      "[*********************100%***********************]  1 of 1 completed\n"
     ]
    },
    {
     "name": "stdout",
     "output_type": "stream",
     "text": [
      "read  251  lines of data for ticker:  XLF\n"
     ]
    },
    {
     "name": "stderr",
     "output_type": "stream",
     "text": [
      "[*********************100%***********************]  1 of 1 completed"
     ]
    },
    {
     "name": "stdout",
     "output_type": "stream",
     "text": [
      "XLF Final Value: 1000.0, Final Money: 1000, Final Shares: 0.0\n",
      "read  6038  lines of data for ticker:  XLF\n"
     ]
    },
    {
     "name": "stderr",
     "output_type": "stream",
     "text": [
      "\n",
      "[*********************100%***********************]  1 of 1 completed\n"
     ]
    },
    {
     "name": "stdout",
     "output_type": "stream",
     "text": [
      "read  251  lines of data for ticker:  XLF\n",
      "On the 32th day, Bought 0 shares for $0.0\n",
      "On the 33th day, Bought 0 shares for $0.0\n",
      "On the 74th day, Bought 0 shares for $0.0\n",
      "On the 83th day, Bought 0 shares for $0.0\n",
      "On the 84th day, Bought 0 shares for $0.0\n",
      "On the 85th day, Bought 0 shares for $0.0\n"
     ]
    },
    {
     "name": "stderr",
     "output_type": "stream",
     "text": [
      "[*********************100%***********************]  1 of 1 completed"
     ]
    },
    {
     "name": "stdout",
     "output_type": "stream",
     "text": [
      "XLF Final Value: 1000.0, Final Money: 1000.0, Final Shares: 0.0\n",
      "read  6038  lines of data for ticker:  XLF\n"
     ]
    },
    {
     "name": "stderr",
     "output_type": "stream",
     "text": [
      "\n",
      "[*********************100%***********************]  1 of 1 completed\n"
     ]
    },
    {
     "name": "stdout",
     "output_type": "stream",
     "text": [
      "read  251  lines of data for ticker:  XLF\n",
      "On the 100th day, Bought 12.100677637947724 shares for $497.5798644724104\n",
      "On the 123th day, sold 12.100677637947724 shares for $520.3291384317521\n",
      "On the 179th day, Bought 11.079104808331486 shares for $498.11655218258363\n",
      "On the 180th day, Bought 11.138338159946535 shares for $504.9008687903764\n",
      "On the 187th day, sold 22.21744296827802 shares for $1039.7763309154113\n",
      "XLF Final Value: 1060.1054693471635, Final Money: 1060.1054693471635, Final Shares: 0.0\n"
     ]
    },
    {
     "name": "stderr",
     "output_type": "stream",
     "text": [
      "[*********************100%***********************]  1 of 1 completed\n"
     ]
    },
    {
     "name": "stdout",
     "output_type": "stream",
     "text": [
      "read  6038  lines of data for ticker:  XLI\n"
     ]
    },
    {
     "name": "stderr",
     "output_type": "stream",
     "text": [
      "[*********************100%***********************]  1 of 1 completed\n"
     ]
    },
    {
     "name": "stdout",
     "output_type": "stream",
     "text": [
      "read  251  lines of data for ticker:  XLI\n",
      "On the 30th day, Bought 4.132231404958677 shares for $499.83471074380157\n",
      "On the 32th day, Bought 4.09970482125287 shares for $498.8930796982618\n",
      "On the 55th day, sold 8.231936226211548 shares for $1034.5074255480054\n",
      "On the 82th day, Bought 3.99616368286445 shares for $502.6374680306905\n",
      "On the 83th day, Bought 3.9701445132602826 shares for $499.1265682070827\n",
      "On the 84th day, Bought 0 shares for $0.0\n",
      "On the 85th day, Bought 0 shares for $0.0\n",
      "On the 86th day, Bought 0 shares for $0.0\n",
      "On the 126th day, sold 7.966308196124732 shares for $1000.2496571054214\n"
     ]
    },
    {
     "name": "stderr",
     "output_type": "stream",
     "text": [
      "[*********************100%***********************]  1 of 1 completed"
     ]
    },
    {
     "name": "stdout",
     "output_type": "stream",
     "text": [
      "XLI Final Value: 1034.7570826534268, Final Money: 1034.7570826534268, Final Shares: 0.0\n",
      "read  6038  lines of data for ticker:  XLI\n"
     ]
    },
    {
     "name": "stderr",
     "output_type": "stream",
     "text": [
      "\n",
      "[*********************100%***********************]  1 of 1 completed\n"
     ]
    },
    {
     "name": "stdout",
     "output_type": "stream",
     "text": [
      "read  251  lines of data for ticker:  XLI\n",
      "On the 32th day, Bought 0 shares for $0.0\n",
      "On the 86th day, Bought 0 shares for $0.0\n",
      "On the 87th day, Bought 0 shares for $0.0\n",
      "On the 153th day, Bought 0 shares for $0.0\n",
      "On the 154th day, Bought 0 shares for $0.0\n",
      "On the 155th day, Bought 0 shares for $0.0\n"
     ]
    },
    {
     "name": "stderr",
     "output_type": "stream",
     "text": [
      "[*********************100%***********************]  1 of 1 completed"
     ]
    },
    {
     "name": "stdout",
     "output_type": "stream",
     "text": [
      "XLI Final Value: 1000.0, Final Money: 1000.0, Final Shares: 0.0\n",
      "read  6038  lines of data for ticker:  XLI\n"
     ]
    },
    {
     "name": "stderr",
     "output_type": "stream",
     "text": [
      "\n",
      "[*********************100%***********************]  1 of 1 completed\n"
     ]
    },
    {
     "name": "stdout",
     "output_type": "stream",
     "text": [
      "read  251  lines of data for ticker:  XLI\n",
      "On the 40th day, Bought 4.097688903458449 shares for $497.9921324373053\n",
      "On the 41th day, Bought 3 shares for $366.29999999999995\n",
      "On the 42th day, Bought 1 shares for $121.93\n",
      "On the 45th day, sold 8.09768890345845 shares for $1017.3936338305195\n",
      "On the 85th day, Bought 3.989467804994814 shares for $500.1196840341498\n",
      "On the 86th day, Bought 3.9818427968463808 shares for $499.0841761567254\n",
      "On the 123th day, sold 7.9713106018411946 shares for $996.9718169722781\n",
      "XLI Final Value: 1026.3654508027976, Final Money: 1026.3654508027976, Final Shares: 0.0\n"
     ]
    },
    {
     "name": "stderr",
     "output_type": "stream",
     "text": [
      "[*********************100%***********************]  1 of 1 completed\n"
     ]
    },
    {
     "name": "stdout",
     "output_type": "stream",
     "text": [
      "read  6038  lines of data for ticker:  XLK\n"
     ]
    },
    {
     "name": "stderr",
     "output_type": "stream",
     "text": [
      "[*********************100%***********************]  1 of 1 completed\n"
     ]
    },
    {
     "name": "stdout",
     "output_type": "stream",
     "text": [
      "read  251  lines of data for ticker:  XLK\n",
      "On the 32th day, Bought 2.3723666729929778 shares for $495.06547732017464\n",
      "On the 36th day, sold 2.3723666729929778 shares for $491.9102296450939\n",
      "On the 50th day, Bought 2.400729821865847 shares for $501.05632112162095\n",
      "On the 51th day, Bought 1 shares for $206.53\n",
      "On the 82th day, Bought 1 shares for $209.65\n",
      "On the 83th day, Bought 0 shares for $0.0\n",
      "On the 84th day, Bought 0 shares for $0.0\n",
      "On the 125th day, sold 4.400729821865847 shares for $987.3477428338214\n",
      "On the 177th day, Bought 2.2147413182140325 shares for $498.5161233167966\n",
      "On the 204th day, sold 2.2147413182140325 shares for $516.8098866052445\n"
     ]
    },
    {
     "name": "stderr",
     "output_type": "stream",
     "text": [
      "[*********************100%***********************]  1 of 1 completed"
     ]
    },
    {
     "name": "stdout",
     "output_type": "stream",
     "text": [
      "XLK Final Value: 1078.8778590841598, Final Money: 1078.8778590841598, Final Shares: 0.0\n",
      "read  6038  lines of data for ticker:  XLK\n"
     ]
    },
    {
     "name": "stderr",
     "output_type": "stream",
     "text": [
      "\n",
      "[*********************100%***********************]  1 of 1 completed\n"
     ]
    },
    {
     "name": "stdout",
     "output_type": "stream",
     "text": [
      "read  251  lines of data for ticker:  XLK\n",
      "On the 90th day, Bought 2.323528044983503 shares for $502.83470421487993\n",
      "On the 91th day, Bought 2.3137436372049978 shares for $494.72466450717263\n",
      "On the 117th day, Bought 2.1470285125386463 shares for $501.6102713844039\n",
      "On the 125th day, sold 6.784300194727148 shares for $1522.1255916889831\n",
      "On the 153th day, Bought 2.2609088853719195 shares for $496.9025548270405\n",
      "On the 154th day, Bought 2.247292013124185 shares for $499.34828531619394\n",
      "On the 155th day, Bought 0 shares for $0.0\n",
      "On the 156th day, Bought 0 shares for $0.0\n",
      "On the 157th day, Bought 0 shares for $0.0\n"
     ]
    },
    {
     "name": "stderr",
     "output_type": "stream",
     "text": [
      "[*********************100%***********************]  1 of 1 completed"
     ]
    },
    {
     "name": "stdout",
     "output_type": "stream",
     "text": [
      "On the 204th day, sold 4.508200898496105 shares for $1051.988679664066\n",
      "XLK Final Value: 1074.1142713530492, Final Money: 1074.1142713530492, Final Shares: 0.0\n",
      "read  6038  lines of data for ticker:  XLK\n"
     ]
    },
    {
     "name": "stderr",
     "output_type": "stream",
     "text": [
      "\n",
      "[*********************100%***********************]  1 of 1 completed\n"
     ]
    },
    {
     "name": "stdout",
     "output_type": "stream",
     "text": [
      "read  251  lines of data for ticker:  XLK\n",
      "On the 40th day, Bought 2.394865408564039 shares for $492.8154037743079\n",
      "On the 48th day, Bought 1 shares for $208.97\n",
      "On the 49th day, Bought 1 shares for $208.23\n",
      "On the 50th day, Bought 0 shares for $0.0\n",
      "On the 51th day, Bought 0 shares for $0.0\n",
      "On the 52th day, Bought 0 shares for $0.0\n",
      "On the 53th day, Bought 0 shares for $0.0\n",
      "On the 63th day, sold 4.394865408564039 shares for $873.9189864929591\n",
      "XLK Final Value: 957.538986492959, Final Money: 957.538986492959, Final Shares: 0.0\n"
     ]
    },
    {
     "name": "stderr",
     "output_type": "stream",
     "text": [
      "[*********************100%***********************]  1 of 1 completed\n"
     ]
    },
    {
     "name": "stdout",
     "output_type": "stream",
     "text": [
      "read  6038  lines of data for ticker:  XLP\n"
     ]
    },
    {
     "name": "stderr",
     "output_type": "stream",
     "text": [
      "[*********************100%***********************]  1 of 1 completed\n"
     ]
    },
    {
     "name": "stdout",
     "output_type": "stream",
     "text": [
      "read  251  lines of data for ticker:  XLP\n",
      "On the 30th day, Bought 6.715916722632639 shares for $498.65681665547345\n",
      "On the 32th day, Bought 5 shares for $374.20000000000005\n",
      "On the 33th day, Bought 1 shares for $75.05\n",
      "On the 66th day, sold 12.715916722632638 shares for $955.6011417058428\n",
      "On the 121th day, Bought 6.484243288808196 shares for $502.65853974841133\n",
      "On the 122th day, Bought 6.455777921239509 shares for $499.677211103938\n",
      "On the 124th day, Bought 0 shares for $0.0\n",
      "On the 135th day, sold 12.940021210047705 shares for $1007.3806512022138\n",
      "On the 200th day, Bought 6.240639041437843 shares for $501.6225661507738\n",
      "On the 201th day, Bought 6.238303181534622 shares for $500.74859638178407\n",
      "On the 202th day, Bought 0 shares for $0.0\n",
      "On the 203th day, Bought 0 shares for $0.0\n",
      "On the 206th day, sold 12.478942222972465 shares for $1008.5481104606346\n"
     ]
    },
    {
     "name": "stderr",
     "output_type": "stream",
     "text": [
      "[*********************100%***********************]  1 of 1 completed"
     ]
    },
    {
     "name": "stdout",
     "output_type": "stream",
     "text": [
      "XLP Final Value: 1024.2299033686913, Final Money: 1024.2299033686913, Final Shares: 0.0\n",
      "read  6038  lines of data for ticker:  XLP\n"
     ]
    },
    {
     "name": "stderr",
     "output_type": "stream",
     "text": [
      "\n",
      "[*********************100%***********************]  1 of 1 completed\n"
     ]
    },
    {
     "name": "stdout",
     "output_type": "stream",
     "text": [
      "read  251  lines of data for ticker:  XLP\n",
      "On the 112th day, Bought 0 shares for $0.0\n",
      "On the 113th day, Bought 0 shares for $0.0\n",
      "On the 175th day, Bought 0 shares for $0.0\n",
      "On the 176th day, Bought 0 shares for $0.0\n",
      "On the 177th day, Bought 0 shares for $0.0\n",
      "On the 178th day, Bought 0 shares for $0.0\n"
     ]
    },
    {
     "name": "stderr",
     "output_type": "stream",
     "text": [
      "[*********************100%***********************]  1 of 1 completed"
     ]
    },
    {
     "name": "stdout",
     "output_type": "stream",
     "text": [
      "XLP Final Value: 1000.0, Final Money: 1000.0, Final Shares: 0.0\n",
      "read  6038  lines of data for ticker:  XLP\n"
     ]
    },
    {
     "name": "stderr",
     "output_type": "stream",
     "text": [
      "\n",
      "[*********************100%***********************]  1 of 1 completed\n"
     ]
    },
    {
     "name": "stdout",
     "output_type": "stream",
     "text": [
      "read  251  lines of data for ticker:  XLP\n",
      "On the 111th day, Bought 6.472491909385114 shares for $499.87055016181233\n",
      "On the 148th day, sold 6.472491909385114 shares for $522.8478964401295\n",
      "On the 175th day, Bought 6.033546518643658 shares for $500.66369011705075\n",
      "On the 176th day, Bought 6.022645145748013 shares for $501.8067935437244\n",
      "On the 177th day, Bought 0 shares for $0.0\n",
      "On the 182th day, sold 12.05619166439167 shares for $972.4524196498321\n",
      "XLP Final Value: 995.3003160899616, Final Money: 995.3003160899616, Final Shares: 0.0\n"
     ]
    },
    {
     "name": "stderr",
     "output_type": "stream",
     "text": [
      "[*********************100%***********************]  1 of 1 completed\n"
     ]
    },
    {
     "name": "stdout",
     "output_type": "stream",
     "text": [
      "read  6038  lines of data for ticker:  XLV\n"
     ]
    },
    {
     "name": "stderr",
     "output_type": "stream",
     "text": [
      "[*********************100%***********************]  1 of 1 completed\n"
     ]
    },
    {
     "name": "stdout",
     "output_type": "stream",
     "text": [
      "read  251  lines of data for ticker:  XLV\n",
      "On the 46th day, Bought 3.4378437843784377 shares for $500.9282178217822\n",
      "On the 47th day, Bought 2 shares for $291.06\n",
      "On the 48th day, Bought 1 shares for $147.01\n",
      "On the 50th day, Bought 0 shares for $0.0\n",
      "On the 54th day, sold 6.437843784378438 shares for $913.8519251925192\n",
      "On the 81th day, Bought 3.485535029627048 shares for $500.6971070059255\n",
      "On the 82th day, Bought 2 shares for $289.4\n",
      "On the 95th day, sold 5.485535029627048 shares for $793.8117741373302\n"
     ]
    },
    {
     "name": "stderr",
     "output_type": "stream",
     "text": [
      "[*********************100%***********************]  1 of 1 completed"
     ]
    },
    {
     "name": "stdout",
     "output_type": "stream",
     "text": [
      "On the 222th day, Bought 3.4055305816646233 shares for $500.88543795123286\n",
      "XLV Final Value: 956.5262289579655, Final Money: 483.2936993298494, Final Shares: 3.4055305816646233\n",
      "read  6038  lines of data for ticker:  XLV\n"
     ]
    },
    {
     "name": "stderr",
     "output_type": "stream",
     "text": [
      "\n",
      "[*********************100%***********************]  1 of 1 completed\n"
     ]
    },
    {
     "name": "stdout",
     "output_type": "stream",
     "text": [
      "read  251  lines of data for ticker:  XLV\n",
      "On the 38th day, Bought 0 shares for $0.0\n",
      "On the 39th day, Bought 0 shares for $0.0\n",
      "On the 40th day, Bought 0 shares for $0.0\n",
      "On the 41th day, Bought 0 shares for $0.0\n",
      "On the 42th day, Bought 0 shares for $0.0\n",
      "On the 76th day, Bought 0 shares for $0.0\n"
     ]
    },
    {
     "name": "stderr",
     "output_type": "stream",
     "text": [
      "[*********************100%***********************]  1 of 1 completed"
     ]
    },
    {
     "name": "stdout",
     "output_type": "stream",
     "text": [
      "On the 199th day, Bought 0 shares for $0.0\n",
      "XLV Final Value: 1000.0, Final Money: 1000.0, Final Shares: 0.0\n"
     ]
    },
    {
     "name": "stderr",
     "output_type": "stream",
     "text": [
      "\n"
     ]
    },
    {
     "name": "stdout",
     "output_type": "stream",
     "text": [
      "read  6038  lines of data for ticker:  XLV\n"
     ]
    },
    {
     "name": "stderr",
     "output_type": "stream",
     "text": [
      "[*********************100%***********************]  1 of 1 completed\n"
     ]
    },
    {
     "name": "stdout",
     "output_type": "stream",
     "text": [
      "read  251  lines of data for ticker:  XLV\n",
      "On the 40th day, Bought 3.426065506372482 shares for $496.8480197341374\n",
      "On the 47th day, Bought 2 shares for $291.06\n",
      "On the 53th day, sold 5.426065506372482 shares for $781.5162148828286\n",
      "XLV Final Value: 991.0362148828286, Final Money: 991.0362148828286, Final Shares: 0.0\n"
     ]
    },
    {
     "name": "stderr",
     "output_type": "stream",
     "text": [
      "[*********************100%***********************]  1 of 1 completed\n"
     ]
    },
    {
     "name": "stdout",
     "output_type": "stream",
     "text": [
      "read  6038  lines of data for ticker:  XLY\n"
     ]
    },
    {
     "name": "stderr",
     "output_type": "stream",
     "text": [
      "[*********************100%***********************]  1 of 1 completed\n"
     ]
    },
    {
     "name": "stdout",
     "output_type": "stream",
     "text": [
      "read  251  lines of data for ticker:  XLY\n",
      "On the 32th day, Bought 2.739425816348893 shares for $496.79487179487177\n",
      "On the 56th day, sold 2.739425816348893 shares for $494.57593688362914\n",
      "On the 82th day, Bought 2.7982986344302665 shares for $502.2386389075442\n",
      "On the 83th day, Bought 1 shares for $178.85\n",
      "On the 84th day, Bought 1 shares for $177.95\n",
      "On the 85th day, Bought 0 shares for $0.0\n",
      "On the 115th day, sold 4.7982986344302665 shares for $895.2665592119992\n",
      "On the 176th day, Bought 2.48954391555467 shares for $498.63075084644487\n",
      "On the 177th day, Bought 2.495383540450167 shares for $499.70055397514597\n",
      "On the 189th day, Bought 0 shares for $0.0\n",
      "On the 190th day, Bought 0 shares for $0.0\n",
      "On the 191th day, Bought 0 shares for $0.0\n"
     ]
    },
    {
     "name": "stderr",
     "output_type": "stream",
     "text": [
      "[*********************100%***********************]  1 of 1 completed"
     ]
    },
    {
     "name": "stdout",
     "output_type": "stream",
     "text": [
      "On the 204th day, sold 4.984927456004837 shares for $1043.943507836533\n",
      "XLY Final Value: 1077.046003932161, Final Money: 1077.046003932161, Final Shares: 0.0\n",
      "read  6038  lines of data for ticker:  XLY\n"
     ]
    },
    {
     "name": "stderr",
     "output_type": "stream",
     "text": [
      "\n",
      "[*********************100%***********************]  1 of 1 completed\n"
     ]
    },
    {
     "name": "stdout",
     "output_type": "stream",
     "text": [
      "read  251  lines of data for ticker:  XLY\n",
      "On the 39th day, Bought 0 shares for $0.0\n",
      "On the 40th day, Bought 0 shares for $0.0\n",
      "On the 41th day, Bought 0 shares for $0.0\n",
      "On the 42th day, Bought 0 shares for $0.0\n"
     ]
    },
    {
     "name": "stderr",
     "output_type": "stream",
     "text": [
      "[*********************100%***********************]  1 of 1 completed"
     ]
    },
    {
     "name": "stdout",
     "output_type": "stream",
     "text": [
      "XLY Final Value: 1000.0, Final Money: 1000.0, Final Shares: 0.0\n",
      "read  6038  lines of data for ticker:  XLY\n"
     ]
    },
    {
     "name": "stderr",
     "output_type": "stream",
     "text": [
      "\n",
      "[*********************100%***********************]  1 of 1 completed\n"
     ]
    },
    {
     "name": "stdout",
     "output_type": "stream",
     "text": [
      "read  251  lines of data for ticker:  XLY\n",
      "On the 38th day, Bought 2.7567955009097425 shares for $498.75944202459056\n",
      "On the 39th day, Bought 1 shares for $181.2\n",
      "On the 40th day, Bought 1 shares for $178.63\n",
      "On the 62th day, sold 4.7567955009097425 shares for $823.73427689254\n",
      "On the 83th day, Bought 2.794076557697681 shares for $499.7205923442302\n",
      "On the 115th day, sold 2.794076557697681 shares for $521.3188041352333\n",
      "XLY Final Value: 984.2230810277733, Final Money: 984.2230810277733, Final Shares: 0.0\n"
     ]
    },
    {
     "name": "stderr",
     "output_type": "stream",
     "text": [
      "[*********************100%***********************]  1 of 1 completed\n"
     ]
    },
    {
     "name": "stdout",
     "output_type": "stream",
     "text": [
      "read  6038  lines of data for ticker:  XLU\n"
     ]
    },
    {
     "name": "stderr",
     "output_type": "stream",
     "text": [
      "[*********************100%***********************]  1 of 1 completed\n"
     ]
    },
    {
     "name": "stdout",
     "output_type": "stream",
     "text": [
      "read  251  lines of data for ticker:  XLU\n",
      "On the 46th day, Bought 7.829627309740056 shares for $501.4093329157532\n",
      "On the 47th day, Bought 6 shares for $385.38\n",
      "On the 48th day, Bought 1 shares for $63.9\n",
      "On the 63th day, sold 14.829627309740056 shares for $950.2825180081428\n",
      "On the 86th day, Bought 6.9232899473829965 shares for $499.72306840210473\n",
      "On the 87th day, Bought 6.861534239055852 shares for $497.2553863043776\n",
      "On the 125th day, sold 13.784824186438849 shares for $966.4540237112277\n"
     ]
    },
    {
     "name": "stderr",
     "output_type": "stream",
     "text": [
      "[*********************100%***********************]  1 of 1 completed"
     ]
    },
    {
     "name": "stdout",
     "output_type": "stream",
     "text": [
      "On the 232th day, Bought 6.51890482398957 shares for $499.6740547588006\n",
      "On the 242th day, Bought 5 shares for $383.54999999999995\n",
      "XLU Final Value: 974.8737255524865, Final Money: 86.9965417193705, Final Shares: 11.518904823989569\n",
      "read  6038  lines of data for ticker:  XLU\n"
     ]
    },
    {
     "name": "stderr",
     "output_type": "stream",
     "text": [
      "\n",
      "[*********************100%***********************]  1 of 1 completed\n"
     ]
    },
    {
     "name": "stdout",
     "output_type": "stream",
     "text": [
      "read  251  lines of data for ticker:  XLU\n",
      "On the 39th day, Bought 7.827175954915466 shares for $498.90419536631185\n",
      "On the 40th day, Bought 7.890168849613382 shares for $498.4219662300774\n",
      "On the 41th day, Bought 7.87897888433659 shares for $496.5332492908919\n",
      "On the 42th day, Bought 7.907638779060573 shares for $501.18614581685915\n",
      "On the 49th day, sold 31.503962467926012 shares for $2054.058352908776\n",
      "On the 107th day, Bought 7.163323782234957 shares for $501.8624641833811\n",
      "On the 108th day, Bought 7.205649228995532 shares for $495.89277993947246\n",
      "On the 123th day, sold 14.368973011230489 shares for $999.0746934708559\n"
     ]
    },
    {
     "name": "stderr",
     "output_type": "stream",
     "text": [
      "[*********************100%***********************]  1 of 1 completed"
     ]
    },
    {
     "name": "stdout",
     "output_type": "stream",
     "text": [
      "On the 213th day, Bought 6.215040397762586 shares for $500.9322560596644\n",
      "On the 228th day, Bought 6.44080896560608 shares for $502.38309931727423\n",
      "On the 229th day, Bought 0 shares for $0.0\n",
      "On the 230th day, Bought 0 shares for $0.0\n",
      "On the 232th day, Bought 0 shares for $0.0\n",
      "On the 242th day, Bought 0 shares for $0.0\n",
      "XLU Final Value: 1028.645915308089, Final Money: 53.13304637963216, Final Shares: 12.655849363368667\n",
      "read  6038  lines of data for ticker:  XLU\n"
     ]
    },
    {
     "name": "stderr",
     "output_type": "stream",
     "text": [
      "\n",
      "[*********************100%***********************]  1 of 1 completed\n"
     ]
    },
    {
     "name": "stdout",
     "output_type": "stream",
     "text": [
      "read  251  lines of data for ticker:  XLU\n",
      "On the 41th day, Bought 7.87897888433659 shares for $496.5332492908919\n",
      "On the 50th day, sold 7.87897888433659 shares for $517.2549637566972\n",
      "On the 195th day, Bought 6.128201985537443 shares for $502.51256281407035\n",
      "On the 240th day, Bought 6.599788806758183 shares for $500.98996832101363\n",
      "On the 241th day, Bought 0 shares for $0.0\n",
      "On the 242th day, Bought 0 shares for $0.0\n",
      "XLU Final Value: 998.328494026844, Final Money: 17.25496375669718, Final Shares: 12.727990792295627\n"
     ]
    },
    {
     "name": "stderr",
     "output_type": "stream",
     "text": [
      "[*********************100%***********************]  1 of 1 completed\n"
     ]
    },
    {
     "name": "stdout",
     "output_type": "stream",
     "text": [
      "read  1258  lines of data for ticker:  XLB\n"
     ]
    },
    {
     "name": "stderr",
     "output_type": "stream",
     "text": [
      "[*********************100%***********************]  1 of 1 completed\n"
     ]
    },
    {
     "name": "stdout",
     "output_type": "stream",
     "text": [
      "read  1007  lines of data for ticker:  XLB\n",
      "On the 94th day, Bought 8.955758552749419 shares for $501.61203653949497\n",
      "On the 95th day, Bought 7 shares for $402.84999999999997\n",
      "On the 102th day, sold 15.955758552749419 shares for $861.4514042629412\n",
      "On the 147th day, Bought 7.983394539358135 shares for $503.91186332428543\n",
      "On the 161th day, sold 7.983394539358135 shares for $514.130608334664\n",
      "On the 189th day, Bought 7.575757575757576 shares for $493.03030303030306\n",
      "On the 190th day, Bought 6 shares for $397.20000000000005\n",
      "On the 191th day, Bought 1 shares for $66.49\n",
      "On the 192th day, Bought 0 shares for $0.0\n",
      "On the 193th day, Bought 0 shares for $0.0\n",
      "On the 205th day, sold 14.575757575757576 shares for $988.6736363636363\n",
      "On the 369th day, Bought 6.032818532818533 shares for $499.7586872586873\n",
      "On the 407th day, Bought 5.894141223623718 shares for $502.5344807261582\n",
      "On the 409th day, Bought 0 shares for $0.0\n",
      "On the 410th day, Bought 0 shares for $0.0\n",
      "On the 413th day, Bought 0 shares for $0.0\n",
      "On the 414th day, Bought 0 shares for $0.0\n",
      "On the 415th day, Bought 0 shares for $0.0\n",
      "On the 423th day, sold 11.926959756442251 shares for $947.2391438566436\n",
      "On the 553th day, Bought 5.59973121290178 shares for $498.1520886997423\n",
      "On the 554th day, Bought 4 shares for $355.88\n",
      "On the 555th day, Bought 1 shares for $89.67\n",
      "On the 574th day, sold 10.59973121290178 shares for $892.2853735020719\n",
      "On the 691th day, Bought 7.293946024799417 shares for $490.22611232676877\n",
      "On the 697th day, sold 7.293946024799417 shares for $509.8468271334793\n",
      "On the 704th day, Bought 6.749460043196544 shares for $507.4919006479481\n",
      "On the 705th day, Bought 5 shares for $372.84999999999997\n",
      "On the 712th day, sold 11.749460043196544 shares for $943.2466522678186\n",
      "On the 722th day, Bought 6.070171178827243 shares for $496.3578972927036\n",
      "On the 724th day, Bought 5 shares for $404.15\n",
      "On the 780th day, Bought 0 shares for $0.0\n",
      "On the 781th day, Bought 0 shares for $0.0\n",
      "On the 793th day, sold 11.070171178827243 shares for $865.4659827607139\n",
      "On the 880th day, Bought 5.999520038396928 shares for $498.14014878809695\n",
      "On the 881th day, Bought 4 shares for $335.52\n",
      "On the 882th day, Bought 1 shares for $83.81\n",
      "On the 883th day, Bought 0 shares for $0.0\n",
      "On the 884th day, Bought 0 shares for $0.0\n",
      "On the 885th day, Bought 0 shares for $0.0\n",
      "On the 927th day, sold 10.999520038396927 shares for $862.9123470122389\n"
     ]
    },
    {
     "name": "stderr",
     "output_type": "stream",
     "text": [
      "[*********************100%***********************]  1 of 1 completed"
     ]
    },
    {
     "name": "stdout",
     "output_type": "stream",
     "text": [
      "On the 972th day, Bought 6.163708086785009 shares for $498.1508875739644\n",
      "On the 973th day, Bought 4 shares for $324.08\n",
      "On the 974th day, Bought 0 shares for $0.0\n",
      "XLB Final Value: 917.8961964015056, Final Money: 62.11197549420774, Final Shares: 10.16370808678501\n",
      "read  1258  lines of data for ticker:  XLB\n"
     ]
    },
    {
     "name": "stderr",
     "output_type": "stream",
     "text": [
      "\n",
      "[*********************100%***********************]  1 of 1 completed\n"
     ]
    },
    {
     "name": "stdout",
     "output_type": "stream",
     "text": [
      "read  1007  lines of data for ticker:  XLB\n",
      "On the 147th day, Bought 7.983394539358135 shares for $503.91186332428543\n",
      "On the 148th day, Bought 6 shares for $378.65999999999997\n",
      "On the 150th day, Bought 1 shares for $62.0\n",
      "On the 159th day, sold 14.983394539358134 shares for $970.3246303688328\n",
      "On the 787th day, Bought 5.994485073732166 shares for $503.29696679055263\n",
      "On the 792th day, sold 5.994485073732166 shares for $478.8394676897254\n",
      "On the 909th day, Bought 6.188118811881188 shares for $501.36138613861385\n",
      "On the 946th day, sold 6.188118811881188 shares for $477.2277227722773\n"
     ]
    },
    {
     "name": "stderr",
     "output_type": "stream",
     "text": [
      "[*********************100%***********************]  1 of 1 completed"
     ]
    },
    {
     "name": "stdout",
     "output_type": "stream",
     "text": [
      "XLB Final Value: 986.4618208308354, Final Money: 986.4618208308354, Final Shares: 0.0\n",
      "read  1258  lines of data for ticker:  XLB\n"
     ]
    },
    {
     "name": "stderr",
     "output_type": "stream",
     "text": [
      "\n",
      "[*********************100%***********************]  1 of 1 completed\n"
     ]
    },
    {
     "name": "stdout",
     "output_type": "stream",
     "text": [
      "read  1007  lines of data for ticker:  XLB\n",
      "On the 558th day, Bought 5.612932195779075 shares for $500.84193982936694\n",
      "On the 559th day, Bought 5.611672278338945 shares for $499.7194163860831\n",
      "On the 560th day, Bought 5.656748500961648 shares for $496.77565335445183\n",
      "On the 573th day, sold 16.88135297507967 shares for $1443.3556793693117\n",
      "On the 694th day, Bought 7.155123068116772 shares for $512.0206067544362\n",
      "On the 712th day, sold 7.155123068116772 shares for $574.4132799084144\n",
      "On the 883th day, Bought 5.970862192500597 shares for $498.56699307379984\n",
      "On the 884th day, Bought 5.970149253731344 shares for $500.5970149253731\n",
      "On the 885th day, Bought 0 shares for $0.0\n",
      "On the 907th day, Bought 0 shares for $0.0\n",
      "On the 908th day, Bought 0 shares for $0.0\n",
      "On the 909th day, Bought 0 shares for $0.0\n",
      "On the 914th day, sold 11.94101144623194 shares for $1000.8955794231612\n",
      "XLB Final Value: 1018.6645387008871, Final Money: 1018.6645387008871, Final Shares: 0.0\n"
     ]
    },
    {
     "name": "stderr",
     "output_type": "stream",
     "text": [
      "[*********************100%***********************]  1 of 1 completed\n"
     ]
    },
    {
     "name": "stdout",
     "output_type": "stream",
     "text": [
      "read  1258  lines of data for ticker:  XLE\n"
     ]
    },
    {
     "name": "stderr",
     "output_type": "stream",
     "text": [
      "[*********************100%***********************]  1 of 1 completed\n"
     ]
    },
    {
     "name": "stdout",
     "output_type": "stream",
     "text": [
      "read  1007  lines of data for ticker:  XLE\n",
      "On the 81th day, Bought 13.35826876836762 shares for $496.6604328079081\n",
      "On the 82th day, Bought 13.99384270920795 shares for $491.18387909319904\n",
      "On the 92th day, Bought 12.840267077555215 shares for $495.6343091936313\n",
      "On the 93th day, Bought 12.899896800825594 shares for $499.22600619195055\n",
      "On the 94th day, Bought 12.677484787018257 shares for $505.45131845841786\n",
      "On the 102th day, sold 65.76976014297463 shares for $2554.497483953135\n",
      "On the 151th day, Bought 13.78929950358522 shares for $498.0694980694981\n",
      "On the 152th day, Bought 13.877324451845684 shares for $503.05301137940603\n",
      "On the 172th day, sold 27.666623955430904 shares for $884.5019678551259\n",
      "On the 238th day, Bought 13.048016701461378 shares for $500.6524008350731\n",
      "On the 239th day, Bought 11 shares for $420.85999999999996\n",
      "On the 243th day, Bought 0 shares for $0.0\n",
      "On the 244th day, Bought 0 shares for $0.0\n",
      "On the 279th day, sold 24.04801670146138 shares for $1209.3747599164926\n",
      "On the 307th day, Bought 10.208248264597795 shares for $500.20416496529197\n",
      "On the 308th day, Bought 10.172939979654121 shares for $496.4394710071211\n",
      "On the 309th day, Bought 4 shares for $194.0\n",
      "On the 332th day, sold 24.381188244251916 shares for $1274.4047095270478\n",
      "On the 345th day, Bought 9.57670944263551 shares for $509.86401072591457\n",
      "On the 381th day, sold 9.57670944263551 shares for $471.6529400497989\n",
      "On the 398th day, Bought 10.117361392148927 shares for $493.2213678672602\n",
      "On the 423th day, sold 10.117361392148927 shares for $477.9441521651153\n",
      "On the 655th day, Bought 6.304375236414071 shares for $508.19568780733823\n",
      "On the 657th day, Bought 6.011060351045924 shares for $502.885308968502\n",
      "On the 658th day, Bought 3 shares for $250.95000000000002\n",
      "On the 659th day, Bought 0 shares for $0.0\n",
      "On the 678th day, sold 15.315435587459994 shares for $1079.4319002041805\n",
      "On the 700th day, Bought 5.718860802928056 shares for $501.88722406496623\n",
      "On the 701th day, Bought 5.6420672534416605 shares for $506.8833220491988\n",
      "On the 702th day, Bought 0 shares for $0.0\n",
      "On the 703th day, Bought 0 shares for $0.0\n",
      "On the 705th day, Bought 0 shares for $0.0\n",
      "On the 734th day, sold 11.360928056369715 shares for $982.2658397537256\n",
      "On the 740th day, Bought 5.789717461787864 shares for $500.5210745715609\n",
      "On the 796th day, sold 5.789717461787864 shares for $447.8925428439092\n",
      "On the 870th day, Bought 6.159911297277319 shares for $501.2319822594555\n",
      "On the 871th day, Bought 6.145526057030482 shares for $502.0894788593904\n",
      "On the 872th day, Bought 0 shares for $0.0\n",
      "On the 912th day, Bought 0 shares for $0.0\n",
      "On the 913th day, Bought 0 shares for $0.0\n",
      "On the 914th day, Bought 0 shares for $0.0\n",
      "On the 917th day, Bought 0 shares for $0.0\n",
      "On the 936th day, sold 12.305437354307802 shares for $1055.191253131894\n"
     ]
    },
    {
     "name": "stderr",
     "output_type": "stream",
     "text": [
      "[*********************100%***********************]  1 of 1 completed"
     ]
    },
    {
     "name": "stdout",
     "output_type": "stream",
     "text": [
      "On the 966th day, Bought 5.91016548463357 shares for $495.27186761229314\n",
      "On the 975th day, Bought 5.950964056177101 shares for $504.2846941204475\n",
      "On the 993th day, Bought 0 shares for $0.0\n",
      "On the 994th day, Bought 0 shares for $0.0\n",
      "On the 995th day, Bought 0 shares for $0.0\n",
      "On the 996th day, Bought 0 shares for $0.0\n",
      "On the 997th day, Bought 0 shares for $0.0\n",
      "XLE Final Value: 1075.9077198484158, Final Money: 72.3375494004249, Final Shares: 11.861129540810671\n",
      "read  1258  lines of data for ticker:  XLE\n"
     ]
    },
    {
     "name": "stderr",
     "output_type": "stream",
     "text": [
      "\n",
      "[*********************100%***********************]  1 of 1 completed\n"
     ]
    },
    {
     "name": "stdout",
     "output_type": "stream",
     "text": [
      "read  1007  lines of data for ticker:  XLE\n",
      "On the 275th day, Bought 11.008366358432408 shares for $500.6605019815059\n",
      "On the 276th day, Bought 9 shares for $418.41\n",
      "On the 345th day, Bought 1 shares for $53.24\n",
      "On the 346th day, sold 21.008366358432408 shares for $1139.0736239542052\n",
      "On the 353th day, Bought 8.997660608241857 shares for $501.7995321216484\n",
      "On the 354th day, Bought 9.028530155290719 shares for $501.80570603105815\n",
      "On the 355th day, Bought 3 shares for $166.47\n",
      "On the 388th day, Bought 0 shares for $0.0\n",
      "On the 389th day, Bought 0 shares for $0.0\n",
      "On the 390th day, Bought 0 shares for $0.0\n",
      "On the 398th day, Bought 0 shares for $0.0\n",
      "On the 420th day, sold 21.026190763532576 shares for $1056.7763477751473\n",
      "On the 444th day, Bought 8.617718028266115 shares for $496.20820406756286\n",
      "On the 445th day, Bought 8.548469823901522 shares for $496.15318857924433\n",
      "On the 467th day, sold 17.16618785216764 shares for $938.4754898780049\n",
      "On the 523th day, Bought 7.307804735457468 shares for $503.3615901783104\n",
      "On the 532th day, Bought 6 shares for $403.56000000000006\n",
      "On the 548th day, sold 13.307804735457468 shares for $983.1806138555977\n",
      "On the 668th day, Bought 6.20347394540943 shares for $507.32009925558316\n",
      "On the 669th day, Bought 6.091617933723197 shares for $492.2027290448343\n",
      "On the 678th day, sold 12.295091879132627 shares for $866.5580756412676\n",
      "On the 754th day, Bought 5.566688933422401 shares for $499.6103317746605\n",
      "On the 774th day, sold 5.566688933422401 shares for $502.17100868403475\n"
     ]
    },
    {
     "name": "stderr",
     "output_type": "stream",
     "text": [
      "[*********************100%***********************]  1 of 1 completed"
     ]
    },
    {
     "name": "stdout",
     "output_type": "stream",
     "text": [
      "On the 975th day, Bought 5.950964056177101 shares for $504.2846941204475\n",
      "On the 976th day, Bought 4 shares for $337.92\n",
      "XLE Final Value: 953.9562285814018, Final Money: 112.00515978825734, Final Shares: 9.950964056177101\n",
      "read  1258  lines of data for ticker:  XLE\n"
     ]
    },
    {
     "name": "stderr",
     "output_type": "stream",
     "text": [
      "\n",
      "[*********************100%***********************]  1 of 1 completed\n"
     ]
    },
    {
     "name": "stdout",
     "output_type": "stream",
     "text": [
      "read  1007  lines of data for ticker:  XLE\n",
      "On the 91th day, Bought 12.481278082875686 shares for $501.2481278082875\n",
      "On the 93th day, Bought 12.899896800825594 shares for $499.22600619195055\n",
      "On the 94th day, Bought 12.677484787018257 shares for $505.45131845841786\n",
      "On the 98th day, sold 38.058659670719535 shares for $1706.550299635064\n",
      "On the 149th day, Bought 13.336889837289943 shares for $499.5998933048813\n",
      "On the 165th day, sold 13.336889837289943 shares for $434.6492397972793\n",
      "On the 242th day, Bought 13.082155939298797 shares for $497.7760334903192\n",
      "On the 243th day, Bought 13.192612137203167 shares for $505.8047493403694\n",
      "On the 244th day, Bought 3 shares for $115.10999999999999\n",
      "On the 268th day, sold 29.274768076501964 shares for $1298.0432165120972\n",
      "On the 292th day, Bought 9.441087613293051 shares for $491.6918429003021\n",
      "On the 330th day, sold 9.441087613293051 shares for $506.3255287009064\n",
      "On the 344th day, Bought 9.595087315294569 shares for $502.7825753214354\n",
      "On the 353th day, Bought 8.997660608241857 shares for $501.7995321216484\n",
      "On the 354th day, Bought 5 shares for $277.9\n",
      "On the 379th day, sold 23.592747923536425 shares for $1107.9154424892706\n",
      "On the 495th day, Bought 9.00900900900901 shares for $500.72072072072075\n",
      "On the 498th day, sold 9.00900900900901 shares for $533.2432432432432\n",
      "On the 602th day, Bought 5.592215635834918 shares for $499.6644670618499\n",
      "On the 609th day, sold 5.592215635834918 shares for $460.6867240800806\n",
      "On the 668th day, Bought 6.20347394540943 shares for $507.32009925558316\n",
      "On the 678th day, sold 6.20347394540943 shares for $437.2208436724566\n",
      "On the 969th day, Bought 5.895531187359981 shares for $497.641787525056\n",
      "On the 970th day, Bought 5.908768612621129 shares for $490.0141810446703\n",
      "On the 974th day, Bought 1 shares for $85.18\n",
      "XLE Final Value: 1092.5763442067994, Final Money: 9.204538130397708, Final Shares: 12.80429979998111\n"
     ]
    },
    {
     "name": "stderr",
     "output_type": "stream",
     "text": [
      "[*********************100%***********************]  1 of 1 completed\n"
     ]
    },
    {
     "name": "stdout",
     "output_type": "stream",
     "text": [
      "read  1258  lines of data for ticker:  XLF\n"
     ]
    },
    {
     "name": "stderr",
     "output_type": "stream",
     "text": [
      "[*********************100%***********************]  1 of 1 completed\n"
     ]
    },
    {
     "name": "stdout",
     "output_type": "stream",
     "text": [
      "read  1007  lines of data for ticker:  XLF\n",
      "On the 191th day, Bought 20.008003201280513 shares for $501.8007202881152\n",
      "On the 192th day, Bought 19 shares for $470.63\n",
      "On the 207th day, sold 39.008003201280516 shares for $1053.6061664665867\n",
      "On the 307th day, Bought 14.421690222094028 shares for $501.4421690222094\n",
      "On the 308th day, Bought 14.351320321469574 shares for $498.1343283582089\n",
      "On the 309th day, Bought 2 shares for $70.18\n",
      "On the 310th day, Bought 0 shares for $0.0\n",
      "On the 311th day, Bought 0 shares for $0.0\n",
      "On the 312th day, Bought 0 shares for $0.0\n",
      "On the 333th day, sold 30.7730105435636 shares for $1129.3694869487842\n",
      "On the 415th day, Bought 13.245033112582782 shares for $499.3377483443709\n",
      "On the 416th day, Bought 13.206550449022716 shares for $502.7733755942948\n",
      "On the 423th day, sold 26.451583561605496 shares for $966.8053791766808\n",
      "On the 449th day, Bought 12.31527093596059 shares for $498.76847290640393\n",
      "On the 471th day, sold 12.31527093596059 shares for $477.46305418719214\n",
      "On the 603th day, Bought 14.188422247446082 shares for $496.1691259931895\n",
      "On the 604th day, Bought 14.44251877527441 shares for $499.4222992489891\n",
      "On the 626th day, Bought 2 shares for $62.56\n",
      "On the 627th day, Bought 0 shares for $0.0\n",
      "On the 646th day, Bought 0 shares for $0.0\n",
      "On the 664th day, sold 30.630941022720492 shares for $1007.451650237277\n",
      "On the 705th day, Bought 14.6756677428823 shares for $498.9727032579982\n",
      "On the 722th day, Bought 13.846579894765993 shares for $497.2306840210468\n",
      "On the 789th day, Bought 0 shares for $0.0\n",
      "On the 792th day, sold 28.52224763764829 shares for $956.6361857667237\n",
      "On the 918th day, Bought 14.57725947521866 shares for $502.33236151603506\n",
      "On the 933th day, sold 14.57725947521866 shares for $483.527696793003\n",
      "On the 964th day, Bought 14.766686355581808 shares for $505.4636739515652\n",
      "On the 965th day, Bought 13 shares for $449.28000000000003\n",
      "On the 966th day, Bought 0 shares for $0.0\n",
      "On the 967th day, Bought 0 shares for $0.0\n",
      "On the 968th day, Bought 0 shares for $0.0\n",
      "On the 970th day, Bought 0 shares for $0.0\n",
      "On the 971th day, Bought 0 shares for $0.0\n",
      "On the 972th day, Bought 0 shares for $0.0\n",
      "On the 973th day, Bought 0 shares for $0.0\n",
      "On the 974th day, Bought 0 shares for $0.0\n"
     ]
    },
    {
     "name": "stderr",
     "output_type": "stream",
     "text": [
      "[*********************100%***********************]  1 of 1 completed"
     ]
    },
    {
     "name": "stdout",
     "output_type": "stream",
     "text": [
      "XLF Final Value: 1069.5793596825674, Final Money: 25.82961957624741, Final Shares: 27.766686355581808\n",
      "read  1258  lines of data for ticker:  XLF\n"
     ]
    },
    {
     "name": "stderr",
     "output_type": "stream",
     "text": [
      "\n",
      "[*********************100%***********************]  1 of 1 completed\n"
     ]
    },
    {
     "name": "stdout",
     "output_type": "stream",
     "text": [
      "read  1007  lines of data for ticker:  XLF\n",
      "On the 170th day, Bought 20.21835826930853 shares for $500.0\n",
      "On the 172th day, sold 20.21835826930853 shares for $483.82531338455317\n",
      "On the 347th day, Bought 13.061650992685475 shares for $498.4326018808777\n",
      "On the 351th day, Bought 12 shares for $455.64\n",
      "On the 358th day, sold 25.061650992685475 shares for $904.7256008359457\n",
      "On the 463th day, Bought 12.453300124533001 shares for $500.62266500622667\n",
      "On the 464th day, Bought 10 shares for $400.5\n",
      "On the 471th day, sold 22.453300124533 shares for $870.5144458281445\n",
      "On the 601th day, Bought 14.338973329509608 shares for $504.1583022655578\n",
      "On the 602th day, Bought 11 shares for $382.03\n",
      "On the 603th day, Bought 0 shares for $0.0\n",
      "On the 604th day, Bought 0 shares for $0.0\n",
      "On the 622th day, Bought 0 shares for $0.0\n",
      "On the 623th day, Bought 0 shares for $0.0\n",
      "On the 670th day, sold 25.338973329509606 shares for $845.0547605391454\n",
      "On the 787th day, Bought 14.112334180073384 shares for $501.97572678521027\n",
      "On the 790th day, sold 14.112334180073384 shares for $495.20180637877513\n"
     ]
    },
    {
     "name": "stderr",
     "output_type": "stream",
     "text": [
      "[*********************100%***********************]  1 of 1 completed"
     ]
    },
    {
     "name": "stdout",
     "output_type": "stream",
     "text": [
      "On the 972th day, Bought 14.132278123233464 shares for $498.1628038439796\n",
      "On the 973th day, Bought 10 shares for $352.2\n",
      "On the 974th day, Bought 0 shares for $0.0\n",
      "XLF Final Value: 910.6442616189099, Final Money: 3.5119269665639763, Final Shares: 24.132278123233462\n",
      "read  1258  lines of data for ticker:  XLF\n"
     ]
    },
    {
     "name": "stderr",
     "output_type": "stream",
     "text": [
      "\n",
      "[*********************100%***********************]  1 of 1 completed\n"
     ]
    },
    {
     "name": "stdout",
     "output_type": "stream",
     "text": [
      "read  1007  lines of data for ticker:  XLF\n",
      "On the 295th day, Bought 14.44251877527441 shares for $496.100519930676\n",
      "On the 324th day, sold 14.44251877527441 shares for $528.3073367995379\n",
      "On the 351th day, Bought 13.11647429171039 shares for $498.03252885624346\n",
      "On the 359th day, sold 13.11647429171039 shares for $462.09338929695696\n",
      "On the 552th day, Bought 12.813941568426447 shares for $501.66581240389536\n",
      "On the 586th day, sold 12.813941568426447 shares for $423.50076883649405\n",
      "On the 718th day, Bought 14.136273678258412 shares for $499.29318631608714\n",
      "On the 719th day, Bought 11 shares for $392.37\n",
      "On the 786th day, Bought 0 shares for $0.0\n",
      "On the 792th day, sold 25.136273678258412 shares for $843.0706191687872\n",
      "On the 859th day, Bought 15.055706112616681 shares for $498.3438723276122\n",
      "On the 928th day, sold 15.055706112616681 shares for $506.7750677506774\n",
      "XLF Final Value: 873.4671818524533, Final Money: 873.4671818524533, Final Shares: 0.0\n"
     ]
    },
    {
     "name": "stderr",
     "output_type": "stream",
     "text": [
      "[*********************100%***********************]  1 of 1 completed\n"
     ]
    },
    {
     "name": "stdout",
     "output_type": "stream",
     "text": [
      "read  1258  lines of data for ticker:  XLI\n"
     ]
    },
    {
     "name": "stderr",
     "output_type": "stream",
     "text": [
      "[*********************100%***********************]  1 of 1 completed\n"
     ]
    },
    {
     "name": "stdout",
     "output_type": "stream",
     "text": [
      "read  1007  lines of data for ticker:  XLI\n",
      "On the 190th day, Bought 6.172077521293667 shares for $503.08603876064683\n",
      "On the 191th day, Bought 5 shares for $408.29999999999995\n",
      "On the 203th day, sold 11.172077521293666 shares for $896.2240587581779\n",
      "On the 308th day, Bought 5.0352467270896275 shares for $499.29506545820743\n",
      "On the 309th day, Bought 4 shares for $398.88\n",
      "On the 333th day, sold 9.035246727089628 shares for $916.1740181268884\n",
      "On the 447th day, Bought 4.770992366412214 shares for $499.2366412213741\n",
      "On the 448th day, Bought 4.7600913937547595 shares for $499.47638994668694\n",
      "On the 449th day, Bought 0 shares for $0.0\n",
      "On the 450th day, Bought 0 shares for $0.0\n",
      "On the 471th day, sold 9.531083760166974 shares for $983.7031548868333\n",
      "On the 551th day, Bought 4.887585532746823 shares for $502.5415444770283\n",
      "On the 552th day, Bought 3 shares for $309.9\n",
      "On the 553th day, Bought 1 shares for $103.63\n",
      "On the 554th day, Bought 0 shares for $0.0\n",
      "On the 555th day, Bought 0 shares for $0.0\n",
      "On the 556th day, Bought 0 shares for $0.0\n",
      "On the 577th day, sold 8.887585532746822 shares for $845.5648875855327\n",
      "On the 602th day, Bought 5.211047420531527 shares for $495.57060969254815\n",
      "On the 628th day, Bought 4 shares for $346.8\n",
      "On the 629th day, Bought 0 shares for $0.0\n",
      "On the 646th day, Bought 0 shares for $0.0\n",
      "On the 664th day, sold 9.211047420531527 shares for $848.8901302761855\n",
      "On the 705th day, Bought 5.304476978569912 shares for $497.50689582007215\n",
      "On the 719th day, Bought 4 shares for $400.8\n",
      "On the 720th day, Bought 0 shares for $0.0\n",
      "On the 721th day, Bought 0 shares for $0.0\n",
      "On the 722th day, Bought 0 shares for $0.0\n",
      "On the 724th day, Bought 0 shares for $0.0\n",
      "On the 775th day, Bought 0 shares for $0.0\n",
      "On the 795th day, sold 9.304476978569912 shares for $925.609369828135\n",
      "On the 858th day, Bought 4.792485382919582 shares for $501.38982076104674\n",
      "On the 869th day, Bought 3 shares for $321.18\n",
      "On the 870th day, Bought 1 shares for $106.91\n",
      "On the 871th day, Bought 0 shares for $0.0\n",
      "On the 872th day, Bought 0 shares for $0.0\n",
      "On the 884th day, Bought 0 shares for $0.0\n",
      "On the 885th day, Bought 0 shares for $0.0\n",
      "On the 909th day, sold 8.792485382919583 shares for $936.7513926962524\n",
      "On the 924th day, Bought 4.776005349125991 shares for $498.75823860922725\n",
      "On the 935th day, sold 4.776005349125991 shares for $476.11997325437\n"
     ]
    },
    {
     "name": "stderr",
     "output_type": "stream",
     "text": [
      "[*********************100%***********************]  1 of 1 completed"
     ]
    },
    {
     "name": "stdout",
     "output_type": "stream",
     "text": [
      "On the 964th day, Bought 4.871395167575994 shares for $506.08924395946997\n",
      "On the 972th day, Bought 3 shares for $318.0\n",
      "On the 973th day, Bought 1 shares for $105.89\n",
      "On the 974th day, Bought 0 shares for $0.0\n",
      "XLI Final Value: 1004.9532675635832, Final Money: 17.566985412375075, Final Shares: 8.871395167575994\n",
      "read  1258  lines of data for ticker:  XLI\n"
     ]
    },
    {
     "name": "stderr",
     "output_type": "stream",
     "text": [
      "\n",
      "[*********************100%***********************]  1 of 1 completed\n"
     ]
    },
    {
     "name": "stdout",
     "output_type": "stream",
     "text": [
      "read  1007  lines of data for ticker:  XLI\n",
      "On the 150th day, Bought 0 shares for $0.0\n",
      "On the 151th day, Bought 0 shares for $0.0\n",
      "On the 448th day, Bought 0 shares for $0.0\n",
      "On the 449th day, Bought 0 shares for $0.0\n",
      "On the 622th day, Bought 0 shares for $0.0\n",
      "On the 818th day, Bought 0 shares for $0.0\n",
      "On the 819th day, Bought 0 shares for $0.0\n",
      "On the 820th day, Bought 0 shares for $0.0\n",
      "On the 821th day, Bought 0 shares for $0.0\n"
     ]
    },
    {
     "name": "stderr",
     "output_type": "stream",
     "text": [
      "[*********************100%***********************]  1 of 1 completed"
     ]
    },
    {
     "name": "stdout",
     "output_type": "stream",
     "text": [
      "On the 972th day, Bought 0 shares for $0.0\n",
      "On the 973th day, Bought 0 shares for $0.0\n",
      "On the 974th day, Bought 0 shares for $0.0\n",
      "On the 975th day, Bought 0 shares for $0.0\n",
      "XLI Final Value: 1000.0, Final Money: 1000.0, Final Shares: 0.0\n",
      "read  1258  lines of data for ticker:  XLI\n"
     ]
    },
    {
     "name": "stderr",
     "output_type": "stream",
     "text": [
      "\n",
      "[*********************100%***********************]  1 of 1 completed\n"
     ]
    },
    {
     "name": "stdout",
     "output_type": "stream",
     "text": [
      "read  1007  lines of data for ticker:  XLI\n",
      "On the 191th day, Bought 6.127450980392157 shares for $500.36764705882354\n",
      "On the 199th day, sold 6.127450980392157 shares for $458.76225490196083\n",
      "On the 316th day, Bought 4.964257347100874 shares for $498.90786338363785\n",
      "On the 335th day, sold 4.964257347100874 shares for $519.9066719618746\n",
      "On the 350th day, Bought 4.7796577765032024 shares for $500.2867794665902\n",
      "On the 351th day, Bought 3 shares for $314.43\n",
      "On the 424th day, sold 7.7796577765032024 shares for $765.051545741325\n",
      "On the 552th day, Bought 4.850601474582849 shares for $501.06713232440825\n",
      "On the 553th day, Bought 3 shares for $310.89\n",
      "On the 554th day, Bought 1 shares for $104.43\n",
      "On the 575th day, sold 8.850601474582849 shares for $855.3221265036865\n",
      "On the 718th day, Bought 5.02815768302494 shares for $498.69267900241357\n",
      "On the 719th day, Bought 3 shares for $300.6\n",
      "On the 758th day, sold 8.02815768302494 shares for $783.7890345937249\n",
      "XLI Final Value: 854.0016337025718, Final Money: 854.0016337025718, Final Shares: 0.0\n"
     ]
    },
    {
     "name": "stderr",
     "output_type": "stream",
     "text": [
      "[*********************100%***********************]  1 of 1 completed\n"
     ]
    },
    {
     "name": "stdout",
     "output_type": "stream",
     "text": [
      "read  1258  lines of data for ticker:  XLK\n"
     ]
    },
    {
     "name": "stderr",
     "output_type": "stream",
     "text": [
      "[*********************100%***********************]  1 of 1 completed\n"
     ]
    },
    {
     "name": "stdout",
     "output_type": "stream",
     "text": [
      "read  1007  lines of data for ticker:  XLK\n",
      "On the 94th day, Bought 5.105166428425567 shares for $501.0210332856851\n",
      "On the 103th day, sold 5.105166428425567 shares for $507.5045946497856\n",
      "On the 149th day, Bought 4.345181194055792 shares for $501.2601025462762\n",
      "On the 150th day, Bought 4.350474201687984 shares for $498.12929609327415\n",
      "On the 151th day, Bought 0 shares for $0.0\n",
      "On the 152th day, Bought 0 shares for $0.0\n",
      "On the 153th day, Bought 0 shares for $0.0\n",
      "On the 161th day, sold 8.695655395743776 shares for $1041.652559856147\n",
      "On the 553th day, Bought 3.160156743774491 shares for $497.69308557704466\n",
      "On the 554th day, Bought 3.1230480949406623 shares for $505.84009993753904\n",
      "On the 555th day, Bought 0 shares for $0.0\n",
      "On the 556th day, Bought 0 shares for $0.0\n",
      "On the 576th day, sold 6.283204838715154 shares for $927.2125380491952\n",
      "On the 618th day, Bought 3.88078236572493 shares for $493.36386215461033\n",
      "On the 624th day, Bought 2 shares for $263.42\n",
      "On the 625th day, Bought 1 shares for $131.52\n",
      "On the 646th day, Bought 0 shares for $0.0\n",
      "On the 649th day, Bought 0 shares for $0.0\n",
      "On the 652th day, Bought 0 shares for $0.0\n",
      "On the 653th day, Bought 0 shares for $0.0\n",
      "On the 654th day, Bought 0 shares for $0.0\n",
      "On the 686th day, sold 6.880782365724929 shares for $873.7905526234088\n",
      "On the 719th day, Bought 3.826432999158185 shares for $502.18106680952025\n",
      "On the 720th day, Bought 2 shares for $265.82\n",
      "On the 721th day, Bought 1 shares for $133.47\n",
      "On the 722th day, Bought 0 shares for $0.0\n",
      "On the 723th day, Bought 0 shares for $0.0\n",
      "On the 724th day, Bought 0 shares for $0.0\n",
      "On the 758th day, Bought 0 shares for $0.0\n",
      "On the 771th day, sold 6.826432999158185 shares for $979.8661926991658\n",
      "On the 839th day, Bought 3.2817012339196636 shares for $502.10028878970854\n",
      "On the 846th day, sold 3.2817012339196636 shares for $525.8269887109477\n",
      "On the 875th day, Bought 2.9127344751252475 shares for $501.0485844110451\n",
      "On the 908th day, sold 2.9127344751252475 shares for $486.45578469066754\n"
     ]
    },
    {
     "name": "stderr",
     "output_type": "stream",
     "text": [
      "[*********************100%***********************]  1 of 1 completed"
     ]
    },
    {
     "name": "stdout",
     "output_type": "stream",
     "text": [
      "On the 961th day, Bought 2.8446265005404787 shares for $500.7396028901405\n",
      "On the 962th day, Bought 2.857959416976279 shares for $503.0294369819948\n",
      "On the 970th day, Bought 0 shares for $0.0\n",
      "On the 972th day, Bought 0 shares for $0.0\n",
      "On the 973th day, Bought 0 shares for $0.0\n",
      "On the 974th day, Bought 0 shares for $0.0\n",
      "On the 976th day, Bought 0 shares for $0.0\n",
      "On the 995th day, Bought 0 shares for $0.0\n",
      "XLK Final Value: 1094.9944597083788, Final Money: 44.749211279317706, Final Shares: 5.702585917516758\n",
      "read  1258  lines of data for ticker:  XLK\n"
     ]
    },
    {
     "name": "stderr",
     "output_type": "stream",
     "text": [
      "\n",
      "[*********************100%***********************]  1 of 1 completed\n"
     ]
    },
    {
     "name": "stdout",
     "output_type": "stream",
     "text": [
      "read  1007  lines of data for ticker:  XLK\n",
      "On the 152th day, Bought 4.239443784975411 shares for $507.2070544344582\n",
      "On the 153th day, Bought 4.203093476798924 shares for $498.8651647612643\n",
      "On the 154th day, Bought 0 shares for $0.0\n",
      "On the 161th day, sold 8.442537261774335 shares for $1011.3315385879476\n",
      "On the 313th day, Bought 3.548364204101909 shares for $504.5773898232914\n",
      "On the 333th day, sold 3.548364204101909 shares for $465.9357036406217\n",
      "On the 392th day, Bought 3.2260145815859085 shares for $498.2579521259435\n",
      "On the 393th day, Bought 2 shares for $310.08\n",
      "On the 394th day, Bought 1 shares for $154.64\n",
      "On the 422th day, sold 6.2260145815859085 shares for $968.020747144977\n",
      "On the 553th day, Bought 3.160156743774491 shares for $497.69308557704466\n",
      "On the 554th day, Bought 2 shares for $323.94\n",
      "On the 555th day, Bought 0 shares for $0.0\n",
      "On the 556th day, Bought 0 shares for $0.0\n",
      "On the 559th day, Bought 1 shares for $160.77\n",
      "On the 576th day, sold 6.1601567437744915 shares for $909.0543306788016\n",
      "On the 604th day, Bought 3.5696437495537947 shares for $496.3589633754552\n",
      "On the 624th day, Bought 2 shares for $263.42\n",
      "On the 625th day, Bought 1 shares for $131.52\n",
      "On the 670th day, sold 6.569643749553794 shares for $867.1929749411008\n",
      "On the 778th day, Bought 3.5313228335334417 shares for $496.43336393813127\n",
      "On the 779th day, Bought 2 shares for $275.9\n",
      "On the 799th day, sold 5.531322833533442 shares for $793.9107662970549\n"
     ]
    },
    {
     "name": "stderr",
     "output_type": "stream",
     "text": [
      "[*********************100%***********************]  1 of 1 completed"
     ]
    },
    {
     "name": "stdout",
     "output_type": "stream",
     "text": [
      "On the 945th day, Bought 2.9505488020771864 shares for $496.4888469255282\n",
      "On the 946th day, Bought 1 shares for $168.39\n",
      "On the 947th day, Bought 1 shares for $166.68\n",
      "On the 963th day, sold 4.950548802077186 shares for $888.7225209488965\n",
      "On the 977th day, Bought 2.694255846535187 shares for $495.0156266839099\n",
      "On the 997th day, sold 2.694255846535187 shares for $505.0113158745554\n",
      "XLK Final Value: 952.5298981139558, Final Money: 952.5298981139558, Final Shares: 0.0\n"
     ]
    },
    {
     "name": "stderr",
     "output_type": "stream",
     "text": [
      "\n"
     ]
    },
    {
     "name": "stdout",
     "output_type": "stream",
     "text": [
      "read  1258  lines of data for ticker:  XLK\n"
     ]
    },
    {
     "name": "stderr",
     "output_type": "stream",
     "text": [
      "[*********************100%***********************]  1 of 1 completed\n"
     ]
    },
    {
     "name": "stdout",
     "output_type": "stream",
     "text": [
      "read  1007  lines of data for ticker:  XLK\n",
      "On the 91th day, Bought 5.157829585310502 shares for $498.1431813492883\n",
      "On the 92th day, Bought 4 shares for $388.16\n",
      "On the 93th day, Bought 1 shares for $97.51\n",
      "On the 94th day, Bought 0 shares for $0.0\n",
      "On the 138th day, sold 10.157829585310502 shares for $1149.3584175778833\n",
      "On the 347th day, Bought 3.6056825557077956 shares for $495.9616355376073\n",
      "On the 383th day, sold 3.6056825557077956 shares for $557.1500685079686\n",
      "On the 603th day, Bought 3.529328721677137 shares for $498.5176819368956\n",
      "On the 604th day, Bought 3.5696437495537947 shares for $496.3589633754552\n",
      "On the 607th day, sold 7.0989724712309314 shares for $889.3592711958111\n",
      "On the 718th day, Bought 3.785297902944962 shares for $497.1610265727913\n",
      "On the 842th day, sold 3.785297902944962 shares for $596.1087137557726\n",
      "XLK Final Value: 1207.0064710374354, Final Money: 1207.0064710374354, Final Shares: 0.0\n"
     ]
    },
    {
     "name": "stderr",
     "output_type": "stream",
     "text": [
      "[*********************100%***********************]  1 of 1 completed\n"
     ]
    },
    {
     "name": "stdout",
     "output_type": "stream",
     "text": [
      "read  1258  lines of data for ticker:  XLP\n"
     ]
    },
    {
     "name": "stderr",
     "output_type": "stream",
     "text": [
      "[*********************100%***********************]  1 of 1 completed\n"
     ]
    },
    {
     "name": "stdout",
     "output_type": "stream",
     "text": [
      "read  1007  lines of data for ticker:  XLP\n",
      "On the 313th day, Bought 7.261109497531223 shares for $501.161777519605\n",
      "On the 335th day, sold 7.261109497531223 shares for $514.885274469939\n",
      "On the 628th day, Bought 6.87757909215956 shares for $503.30123796423663\n",
      "On the 647th day, Bought 6.663113006396588 shares for $502.1321961620469\n",
      "On the 649th day, Bought 0 shares for $0.0\n",
      "On the 658th day, Bought 0 shares for $0.0\n",
      "On the 664th day, sold 13.540692098556148 shares for $982.5126186712341\n",
      "On the 719th day, Bought 6.632179334129195 shares for $503.7140204271124\n",
      "On the 720th day, Bought 5 shares for $380.0\n",
      "On the 721th day, Bought 1 shares for $76.3\n",
      "On the 722th day, Bought 0 shares for $0.0\n",
      "On the 723th day, Bought 0 shares for $0.0\n",
      "On the 724th day, Bought 0 shares for $0.0\n",
      "On the 764th day, Bought 0 shares for $0.0\n",
      "On the 794th day, sold 12.632179334129194 shares for $902.8218570102135\n",
      "On the 807th day, Bought 6.746727836999056 shares for $502.5637565780596\n",
      "On the 808th day, Bought 5 shares for $373.8\n",
      "On the 809th day, Bought 0 shares for $0.0\n",
      "On the 810th day, Bought 0 shares for $0.0\n",
      "On the 811th day, Bought 0 shares for $0.0\n",
      "On the 812th day, Bought 0 shares for $0.0\n",
      "On the 841th day, sold 11.746727836999057 shares for $891.2242409931184\n",
      "On the 912th day, Bought 6.837139340899768 shares for $498.1539723779571\n",
      "On the 913th day, Bought 5 shares for $365.0\n",
      "On the 918th day, Bought 1 shares for $71.8\n",
      "On the 921th day, Bought 0 shares for $0.0\n",
      "On the 937th day, sold 12.837139340899768 shares for $860.6018214139204\n",
      "On the 974th day, Bought 7.089181908407769 shares for $500.4962427335885\n",
      "On the 975th day, Bought 5 shares for $350.15\n",
      "On the 990th day, sold 12.08918190840777 shares for $848.5396781511414\n"
     ]
    },
    {
     "name": "stderr",
     "output_type": "stream",
     "text": [
      "[*********************100%***********************]  1 of 1 completed"
     ]
    },
    {
     "name": "stdout",
     "output_type": "stream",
     "text": [
      "XLP Final Value: 885.8354907095669, Final Money: 885.8354907095669, Final Shares: 0.0\n",
      "read  1258  lines of data for ticker:  XLP\n"
     ]
    },
    {
     "name": "stderr",
     "output_type": "stream",
     "text": [
      "\n",
      "[*********************100%***********************]  1 of 1 completed\n"
     ]
    },
    {
     "name": "stdout",
     "output_type": "stream",
     "text": [
      "read  1007  lines of data for ticker:  XLP\n",
      "On the 409th day, Bought 6.934812760055479 shares for $500.4160887656033\n",
      "On the 410th day, Bought 5 shares for $361.59999999999997\n",
      "On the 412th day, Bought 1 shares for $72.7\n",
      "On the 413th day, Bought 0 shares for $0.0\n",
      "On the 423th day, sold 12.934812760055479 shares for $908.153203883495\n",
      "On the 627th day, Bought 6.883259911894273 shares for $493.59856828193824\n",
      "On the 628th day, Bought 5 shares for $365.90000000000003\n",
      "On the 629th day, Bought 1 shares for $73.07\n",
      "On the 659th day, sold 12.883259911894273 shares for $959.1587004405286\n",
      "On the 719th day, Bought 6.632179334129195 shares for $503.7140204271124\n",
      "On the 720th day, Bought 5 shares for $380.0\n",
      "On the 721th day, Bought 1 shares for $76.3\n",
      "On the 750th day, sold 12.632179334129194 shares for $957.2665499403104\n",
      "On the 881th day, Bought 6.758583400919167 shares for $501.6220600162206\n",
      "On the 910th day, Bought 5 shares for $363.95000000000005\n",
      "On the 911th day, Bought 1 shares for $73.1\n",
      "On the 912th day, Bought 0 shares for $0.0\n",
      "On the 913th day, Bought 0 shares for $0.0\n",
      "On the 927th day, sold 12.758583400919168 shares for $899.7353014328197\n"
     ]
    },
    {
     "name": "stderr",
     "output_type": "stream",
     "text": [
      "[*********************100%***********************]  1 of 1 completed"
     ]
    },
    {
     "name": "stdout",
     "output_type": "stream",
     "text": [
      "XLP Final Value: 960.9937556971537, Final Money: 960.9937556971537, Final Shares: 0.0\n",
      "read  1258  lines of data for ticker:  XLP\n"
     ]
    },
    {
     "name": "stderr",
     "output_type": "stream",
     "text": [
      "\n",
      "[*********************100%***********************]  1 of 1 completed\n"
     ]
    },
    {
     "name": "stdout",
     "output_type": "stream",
     "text": [
      "read  1007  lines of data for ticker:  XLP\n",
      "On the 137th day, Bought 7.974481658692184 shares for $500.2392344497607\n",
      "On the 138th day, Bought 7.996161842315688 shares for $499.28034543419153\n",
      "On the 160th day, sold 15.970643501007872 shares for $1067.4778116073662\n",
      "On the 345th day, Bought 7.061149555147578 shares for $501.9065103798898\n",
      "On the 359th day, sold 7.061149555147578 shares for $485.80708939415337\n",
      "On the 453th day, Bought 7.006726457399103 shares for $500.28026905829597\n",
      "On the 473th day, sold 7.006726457399103 shares for $492.502802690583\n",
      "On the 815th day, Bought 6.645401382243488 shares for $500.19936204146734\n",
      "On the 817th day, Bought 6.65070497472732 shares for $500.99760574620905\n",
      "On the 843th day, sold 13.296106356970808 shares for $994.1498723107073\n",
      "On the 963th day, Bought 7.250580046403713 shares for $499.5649651972159\n",
      "XLP Final Value: 1063.2119379517658, Final Money: 539.9375760028097, Final Shares: 7.250580046403713\n"
     ]
    },
    {
     "name": "stderr",
     "output_type": "stream",
     "text": [
      "[*********************100%***********************]  1 of 1 completed\n"
     ]
    },
    {
     "name": "stdout",
     "output_type": "stream",
     "text": [
      "read  1258  lines of data for ticker:  XLV\n"
     ]
    },
    {
     "name": "stderr",
     "output_type": "stream",
     "text": [
      "[*********************100%***********************]  1 of 1 completed\n"
     ]
    },
    {
     "name": "stdout",
     "output_type": "stream",
     "text": [
      "read  1007  lines of data for ticker:  XLV\n",
      "On the 101th day, Bought 4.869497467861317 shares for $495.66614725360347\n",
      "On the 102th day, sold 4.869497467861317 shares for $472.1951694585119\n",
      "On the 144th day, Bought 4.7447333459859555 shares for $502.704498007212\n",
      "On the 152th day, Bought 3 shares for $321.99\n",
      "On the 161th day, sold 7.7447333459859555 shares for $824.5043120136647\n",
      "On the 366th day, Bought 3.967309370784734 shares for $499.484249781798\n",
      "On the 367th day, Bought 2 shares for $252.08\n",
      "On the 368th day, Bought 1 shares for $127.23\n",
      "On the 383th day, sold 6.967309370784734 shares for $916.0618360707767\n",
      "On the 553th day, Bought 3.669186174506494 shares for $500.84391282013644\n",
      "On the 554th day, Bought 3.6427218417601632 shares for $504.1527028996066\n",
      "On the 555th day, Bought 0 shares for $0.0\n",
      "On the 556th day, Bought 0 shares for $0.0\n",
      "On the 577th day, sold 7.311908016266657 shares for $952.6684954393827\n",
      "On the 628th day, Bought 3.9329819869425 shares for $507.4333359553214\n",
      "On the 637th day, Bought 2 shares for $264.34\n",
      "On the 645th day, Bought 1 shares for $131.93\n",
      "On the 646th day, Bought 0 shares for $0.0\n",
      "On the 664th day, sold 6.9329819869425 shares for $866.553418547943\n",
      "On the 705th day, Bought 3.764209892343597 shares for $498.8330949333735\n",
      "On the 719th day, Bought 2 shares for $269.9\n",
      "On the 720th day, Bought 1 shares for $135.82\n",
      "On the 721th day, Bought 0 shares for $0.0\n",
      "On the 722th day, Bought 0 shares for $0.0\n",
      "On the 723th day, Bought 0 shares for $0.0\n",
      "On the 724th day, Bought 0 shares for $0.0\n",
      "On the 764th day, Bought 0 shares for $0.0\n",
      "On the 789th day, Bought 0 shares for $0.0\n",
      "On the 793th day, sold 6.764209892343597 shares for $839.7766581344576\n",
      "On the 878th day, Bought 3.8535645472061657 shares for $503.77649325626203\n",
      "On the 884th day, sold 3.8535645472061657 shares for $525.009633911368\n",
      "On the 905th day, Bought 3.7405550983765994 shares for $499.25188898032474\n",
      "On the 906th day, Bought 2 shares for $268.0\n",
      "On the 907th day, Bought 0 shares for $0.0\n",
      "On the 935th day, sold 5.7405550983766 shares for $731.4615306351463\n"
     ]
    },
    {
     "name": "stderr",
     "output_type": "stream",
     "text": [
      "[*********************100%***********************]  1 of 1 completed"
     ]
    },
    {
     "name": "stdout",
     "output_type": "stream",
     "text": [
      "On the 969th day, Bought 3.8750678136867394 shares for $501.70502983802214\n",
      "On the 970th day, Bought 2 shares for $260.48\n",
      "On the 971th day, Bought 0 shares for $0.0\n",
      "On the 972th day, Bought 0 shares for $0.0\n",
      "On the 973th day, Bought 0 shares for $0.0\n",
      "On the 974th day, Bought 0 shares for $0.0\n",
      "On the 975th day, Bought 0 shares for $0.0\n",
      "XLV Final Value: 920.0054965889926, Final Money: 101.96105421125105, Final Shares: 5.875067813686739\n",
      "read  1258  lines of data for ticker:  XLV\n"
     ]
    },
    {
     "name": "stderr",
     "output_type": "stream",
     "text": [
      "\n",
      "[*********************100%***********************]  1 of 1 completed\n"
     ]
    },
    {
     "name": "stdout",
     "output_type": "stream",
     "text": [
      "read  1007  lines of data for ticker:  XLV\n",
      "On the 191th day, Bought 4.633061527057079 shares for $501.297257227576\n",
      "On the 199th day, sold 4.633061527057079 shares for $475.0277983691624\n",
      "On the 257th day, Bought 4.252062250191343 shares for $500.2976443575134\n",
      "On the 258th day, Bought 3 shares for $356.1\n",
      "On the 260th day, sold 7.252062250191343 shares for $829.2007976868781\n",
      "On the 408th day, Bought 3.7138824927579295 shares for $499.5543341008691\n",
      "On the 409th day, Bought 2 shares for $270.84\n",
      "On the 410th day, Bought 1 shares for $135.32\n",
      "On the 411th day, Bought 0 shares for $0.0\n",
      "On the 429th day, sold 6.7138824927579295 shares for $858.5041543489565\n",
      "On the 452th day, Bought 3.7363622776864447 shares for $500.4483634733224\n",
      "On the 453th day, Bought 2 shares for $268.36\n",
      "On the 454th day, Bought 1 shares for $134.24\n",
      "On the 455th day, Bought 3.6957646537068523 shares for $498.8543129573509\n",
      "On the 456th day, Bought 3.7213456385829113 shares for $495.4971717773147\n",
      "On the 464th day, Bought 3.7441964954320803 shares for $500.5616294743148\n",
      "On the 473th day, sold 17.89766906540829 shares for $2321.8646078554175\n",
      "On the 710th day, Bought 3.7630766915029725 shares for $499.20975389478434\n",
      "On the 711th day, Bought 2 shares for $268.94\n",
      "On the 719th day, Bought 0 shares for $0.0\n",
      "On the 720th day, Bought 0 shares for $0.0\n",
      "On the 721th day, Bought 0 shares for $0.0\n",
      "On the 722th day, Bought 0 shares for $0.0\n",
      "On the 764th day, Bought 0 shares for $0.0\n",
      "On the 773th day, Bought 0 shares for $0.0\n",
      "On the 790th day, sold 5.763076691502972 shares for $732.0836321216226\n",
      "On the 823th day, Bought 3.7023324694557567 shares for $499.25953350610877\n",
      "On the 832th day, Bought 2 shares for $266.78\n",
      "On the 860th day, sold 5.702332469455756 shares for $753.96239911144\n"
     ]
    },
    {
     "name": "stderr",
     "output_type": "stream",
     "text": [
      "[*********************100%***********************]  1 of 1 completed"
     ]
    },
    {
     "name": "stdout",
     "output_type": "stream",
     "text": [
      "XLV Final Value: 777.6933894934773, Final Money: 777.6933894934773, Final Shares: 0.0\n",
      "read  1258  lines of data for ticker:  XLV\n"
     ]
    },
    {
     "name": "stderr",
     "output_type": "stream",
     "text": [
      "\n",
      "[*********************100%***********************]  1 of 1 completed\n"
     ]
    },
    {
     "name": "stdout",
     "output_type": "stream",
     "text": [
      "read  1007  lines of data for ticker:  XLV\n",
      "On the 982th day, Bought 3.785871128946771 shares for $502.68796850155223\n",
      "XLV Final Value: 1027.1446959945483, Final Money: 500.0, Final Shares: 3.785871128946771\n"
     ]
    },
    {
     "name": "stderr",
     "output_type": "stream",
     "text": [
      "[*********************100%***********************]  1 of 1 completed\n"
     ]
    },
    {
     "name": "stdout",
     "output_type": "stream",
     "text": [
      "read  1258  lines of data for ticker:  XLY\n"
     ]
    },
    {
     "name": "stderr",
     "output_type": "stream",
     "text": [
      "[*********************100%***********************]  1 of 1 completed\n"
     ]
    },
    {
     "name": "stdout",
     "output_type": "stream",
     "text": [
      "read  1007  lines of data for ticker:  XLY\n",
      "On the 95th day, Bought 3.9544447959506486 shares for $502.4517557734894\n",
      "On the 103th day, sold 3.9544447959506486 shares for $495.6501107244543\n",
      "On the 139th day, Bought 3.628183731224149 shares for $501.95921921486104\n",
      "On the 161th day, sold 3.628183731224149 shares for $540.1639939046513\n",
      "On the 217th day, Bought 3.2179173638820955 shares for $504.73033852490664\n",
      "On the 219th day, Bought 3.1669622498099823 shares for $502.28021281986315\n",
      "On the 220th day, Bought 0 shares for $0.0\n",
      "On the 246th day, sold 6.384879613692078 shares for $1035.9467173215396\n",
      "On the 495th day, Bought 2.4457053414204655 shares for $509.4159655644687\n",
      "On the 510th day, sold 2.4457053414204655 shares for $446.5613382899628\n",
      "On the 553th day, Bought 2.726876090750436 shares for $505.26287085514826\n",
      "On the 555th day, Bought 2.6105570928836213 shares for $496.00584764788806\n",
      "On the 556th day, Bought 0 shares for $0.0\n",
      "On the 557th day, Bought 0 shares for $0.0\n",
      "On the 558th day, Bought 0 shares for $0.0\n",
      "On the 576th day, sold 5.337433183634057 shares for $915.9035343116042\n",
      "On the 603th day, Bought 3.243593902043464 shares for $497.4375608173857\n",
      "On the 604th day, Bought 2 shares for $306.66\n",
      "On the 605th day, Bought 0 shares for $0.0\n",
      "On the 624th day, Bought 0 shares for $0.0\n",
      "On the 654th day, Bought 0 shares for $0.0\n",
      "On the 656th day, Bought 0 shares for $0.0\n",
      "On the 676th day, sold 5.2435939020434645 shares for $804.4197405124879\n",
      "On the 719th day, Bought 3.598416696653473 shares for $501.9791291831595\n",
      "On the 720th day, Bought 2 shares for $282.04\n",
      "On the 721th day, Bought 1 shares for $142.62\n",
      "On the 722th day, Bought 0 shares for $0.0\n",
      "On the 723th day, Bought 0 shares for $0.0\n",
      "On the 724th day, Bought 0 shares for $0.0\n",
      "On the 767th day, sold 6.598416696653473 shares for $999.7920978769342\n",
      "On the 809th day, Bought 3.374502260916515 shares for $501.6535061078491\n",
      "On the 834th day, Bought 3.3863867253640363 shares for $504.60548594649504\n",
      "On the 839th day, Bought 0 shares for $0.0\n",
      "On the 850th day, sold 6.760888986280552 shares for $1037.1203704954366\n",
      "On the 878th day, Bought 2.8658222043904398 shares for $499.9713417779561\n",
      "On the 879th day, Bought 2.8584495769494627 shares for $500.28584495769496\n",
      "On the 880th day, Bought 0 shares for $0.0\n",
      "On the 881th day, Bought 0 shares for $0.0\n",
      "On the 882th day, Bought 0 shares for $0.0\n",
      "On the 898th day, sold 5.724271781339903 shares for $974.8434843621856\n"
     ]
    },
    {
     "name": "stderr",
     "output_type": "stream",
     "text": [
      "[*********************100%***********************]  1 of 1 completed"
     ]
    },
    {
     "name": "stdout",
     "output_type": "stream",
     "text": [
      "On the 959th day, Bought 3.116818351826456 shares for $500.90387732202976\n",
      "On the 960th day, Bought 3.08242401824795 shares for $500.1541212009123\n",
      "On the 961th day, Bought 0 shares for $0.0\n",
      "On the 972th day, Bought 0 shares for $0.0\n",
      "On the 973th day, Bought 0 shares for $0.0\n",
      "On the 974th day, Bought 0 shares for $0.0\n",
      "On the 975th day, Bought 0 shares for $0.0\n",
      "XLY Final Value: 1088.7708102815805, Final Money: 20.331387799256618, Final Shares: 6.199242370074406\n",
      "read  1258  lines of data for ticker:  XLY\n"
     ]
    },
    {
     "name": "stderr",
     "output_type": "stream",
     "text": [
      "\n",
      "[*********************100%***********************]  1 of 1 completed\n"
     ]
    },
    {
     "name": "stdout",
     "output_type": "stream",
     "text": [
      "read  1007  lines of data for ticker:  XLY\n",
      "On the 604th day, Bought 0 shares for $0.0\n",
      "On the 605th day, Bought 0 shares for $0.0\n",
      "On the 776th day, Bought 0 shares for $0.0\n",
      "On the 777th day, Bought 0 shares for $0.0\n",
      "On the 823th day, Bought 0 shares for $0.0\n",
      "On the 839th day, Bought 0 shares for $0.0\n"
     ]
    },
    {
     "name": "stderr",
     "output_type": "stream",
     "text": [
      "[*********************100%***********************]  1 of 1 completed"
     ]
    },
    {
     "name": "stdout",
     "output_type": "stream",
     "text": [
      "On the 943th day, Bought 0 shares for $0.0\n",
      "XLY Final Value: 1000.0, Final Money: 1000.0, Final Shares: 0.0\n"
     ]
    },
    {
     "name": "stderr",
     "output_type": "stream",
     "text": [
      "\n"
     ]
    },
    {
     "name": "stdout",
     "output_type": "stream",
     "text": [
      "read  1258  lines of data for ticker:  XLY\n"
     ]
    },
    {
     "name": "stderr",
     "output_type": "stream",
     "text": [
      "[*********************100%***********************]  1 of 1 completed\n"
     ]
    },
    {
     "name": "stdout",
     "output_type": "stream",
     "text": [
      "read  1007  lines of data for ticker:  XLY\n",
      "On the 110th day, Bought 3.863987635239567 shares for $497.0247295208655\n",
      "On the 163th day, sold 3.863987635239567 shares for $561.1669242658422\n",
      "On the 276th day, Bought 2.9477655936799905 shares for $495.2246197382384\n",
      "On the 291th day, sold 2.9477655936799905 shares for $491.59886805801204\n",
      "On the 326th day, Bought 2.807884539787724 shares for $496.26551356208233\n",
      "On the 333th day, sold 2.807884539787724 shares for $467.9339585556242\n",
      "On the 470th day, Bought 2.38333571666905 shares for $491.7298250631584\n",
      "On the 487th day, sold 2.38333571666905 shares for $457.24295724295723\n",
      "On the 603th day, Bought 3.243593902043464 shares for $497.4375608173857\n",
      "On the 604th day, Bought 2 shares for $306.66\n",
      "On the 641th day, sold 5.2435939020434645 shares for $852.1888809601039\n",
      "On the 735th day, Bought 3.60386334150209 shares for $492.2516938157705\n",
      "On the 768th day, sold 3.60386334150209 shares for $562.7792994089664\n",
      "XLY Final Value: 1086.4308884915063, Final Money: 1086.4308884915063, Final Shares: 0.0\n"
     ]
    },
    {
     "name": "stderr",
     "output_type": "stream",
     "text": [
      "[*********************100%***********************]  1 of 1 completed\n"
     ]
    },
    {
     "name": "stdout",
     "output_type": "stream",
     "text": [
      "read  1258  lines of data for ticker:  XLU\n"
     ]
    },
    {
     "name": "stderr",
     "output_type": "stream",
     "text": [
      "[*********************100%***********************]  1 of 1 completed\n"
     ]
    },
    {
     "name": "stdout",
     "output_type": "stream",
     "text": [
      "read  1007  lines of data for ticker:  XLU\n",
      "On the 141th day, Bought 8.27814569536424 shares for $498.01324503311264\n",
      "On the 149th day, Bought 7 shares for $421.26\n",
      "On the 150th day, Bought 1 shares for $59.61\n",
      "On the 151th day, Bought 0 shares for $0.0\n",
      "On the 152th day, Bought 0 shares for $0.0\n",
      "On the 153th day, Bought 0 shares for $0.0\n",
      "On the 154th day, Bought 0 shares for $0.0\n",
      "On the 164th day, sold 16.278145695364238 shares for $973.7586754966887\n",
      "On the 197th day, Bought 7.724393635099644 shares for $500.9269272362119\n",
      "On the 201th day, sold 7.724393635099644 shares for $481.84767495751584\n",
      "On the 243th day, Bought 7.974481658692184 shares for $500.8771929824561\n",
      "On the 247th day, sold 7.974481658692184 shares for $492.9027113237639\n",
      "On the 271th day, Bought 7.926442612555485 shares for $498.49397590361446\n",
      "On the 310th day, Bought 6 shares for $388.98\n",
      "On the 333th day, sold 13.926442612555485 shares for $896.1665821179454\n",
      "On the 447th day, Bought 7.434944237918216 shares for $499.2565055762082\n",
      "On the 448th day, Bought 6 shares for $402.12\n",
      "On the 449th day, Bought 1 shares for $67.48\n",
      "On the 450th day, Bought 0 shares for $0.0\n",
      "On the 451th day, Bought 0 shares for $0.0\n",
      "On the 452th day, Bought 0 shares for $0.0\n",
      "On the 453th day, Bought 0 shares for $0.0\n",
      "On the 465th day, Bought 0 shares for $0.0\n",
      "On the 466th day, Bought 0 shares for $0.0\n",
      "On the 473th day, sold 14.434944237918216 shares for $949.386282527881\n",
      "On the 657th day, Bought 6.54278984559016 shares for $501.1777021722062\n",
      "On the 664th day, sold 6.54278984559016 shares for $488.09212248102585\n",
      "On the 705th day, Bought 7.458233890214797 shares for $498.3591885441527\n",
      "On the 720th day, Bought 6 shares for $417.29999999999995\n",
      "On the 721th day, Bought 0 shares for $0.0\n",
      "On the 722th day, Bought 0 shares for $0.0\n",
      "On the 724th day, Bought 0 shares for $0.0\n",
      "On the 773th day, sold 13.458233890214796 shares for $893.4921479713603\n",
      "On the 810th day, Bought 7.399733609590055 shares for $502.14592274678114\n",
      "On the 861th day, Bought 6 shares for $399.41999999999996\n",
      "On the 865th day, sold 13.399733609590054 shares for $871.3846766316412\n",
      "On the 880th day, Bought 7.566585956416465 shares for $499.546004842615\n",
      "On the 901th day, Bought 6 shares for $379.74\n",
      "On the 904th day, Bought 0 shares for $0.0\n",
      "On the 905th day, Bought 0 shares for $0.0\n",
      "On the 931th day, sold 13.566585956416464 shares for $815.758813559322\n"
     ]
    },
    {
     "name": "stderr",
     "output_type": "stream",
     "text": [
      "[*********************100%***********************]  1 of 1 completed"
     ]
    },
    {
     "name": "stdout",
     "output_type": "stream",
     "text": [
      "On the 972th day, Bought 7.975753708725475 shares for $500.39878768543633\n",
      "On the 973th day, Bought 5 shares for $314.0\n",
      "On the 974th day, Bought 0 shares for $0.0\n",
      "On the 975th day, Bought 0 shares for $0.0\n",
      "On the 976th day, Bought 0 shares for $0.0\n",
      "On the 987th day, sold 12.975753708725474 shares for $830.0589647471686\n",
      "XLU Final Value: 840.4186518143129, Final Money: 840.4186518143129, Final Shares: 0.0\n",
      "read  1258  lines of data for ticker:  XLU\n"
     ]
    },
    {
     "name": "stderr",
     "output_type": "stream",
     "text": [
      "\n",
      "[*********************100%***********************]  1 of 1 completed\n"
     ]
    },
    {
     "name": "stdout",
     "output_type": "stream",
     "text": [
      "read  1007  lines of data for ticker:  XLU\n",
      "On the 152th day, Bought 8.41467519353753 shares for $501.43049478290146\n",
      "On the 153th day, Bought 7 shares for $420.34999999999997\n",
      "On the 160th day, sold 15.41467519353753 shares for $930.8922349377315\n",
      "On the 267th day, Bought 7.862871520679351 shares for $501.10080201289503\n",
      "On the 268th day, Bought 7.923930269413629 shares for $500.8716323296355\n",
      "On the 269th day, Bought 0 shares for $0.0\n",
      "On the 330th day, sold 15.78680179009298 shares for $1042.5603902177404\n",
      "On the 452th day, Bought 7.472724555372889 shares for $499.8505455088926\n",
      "On the 453th day, Bought 7.4460163812360385 shares for $501.86150409530904\n",
      "On the 454th day, Bought 0 shares for $0.0\n",
      "On the 455th day, Bought 0 shares for $0.0\n",
      "On the 456th day, Bought 0 shares for $0.0\n",
      "On the 473th day, sold 14.918740936608927 shares for $981.2055914007691\n",
      "On the 798th day, Bought 7.466029565477079 shares for $497.0882484694639\n",
      "On the 803th day, sold 7.466029565477079 shares for $490.4434821561893\n",
      "On the 908th day, Bought 7.917656373713381 shares for $500.71258907363426\n",
      "On the 909th day, Bought 7.857928650007858 shares for $500.86437215150085\n",
      "On the 930th day, sold 15.775585023721238 shares for $967.2011178043491\n"
     ]
    },
    {
     "name": "stderr",
     "output_type": "stream",
     "text": [
      "[*********************100%***********************]  1 of 1 completed"
     ]
    },
    {
     "name": "stdout",
     "output_type": "stream",
     "text": [
      "XLU Final Value: 992.7228165167793, Final Money: 992.7228165167793, Final Shares: 0.0\n",
      "read  1258  lines of data for ticker:  XLU\n"
     ]
    },
    {
     "name": "stderr",
     "output_type": "stream",
     "text": [
      "\n",
      "[*********************100%***********************]  1 of 1 completed\n"
     ]
    },
    {
     "name": "stdout",
     "output_type": "stream",
     "text": [
      "read  1007  lines of data for ticker:  XLU\n",
      "On the 257th day, Bought 7.9567154678548695 shares for $498.2495225970719\n",
      "On the 270th day, Bought 7.881462799495587 shares for $499.76355611601514\n",
      "On the 271th day, Bought 7.926442612555485 shares for $498.49397590361446\n",
      "On the 277th day, sold 23.76462087990594 shares for $1430.8678231791366\n",
      "On the 348th day, Bought 7.634753397465262 shares for $501.2979080775691\n",
      "On the 359th day, sold 7.634753397465262 shares for $489.3876927775233\n",
      "On the 410th day, Bought 7.295010213014297 shares for $501.38605194047267\n",
      "On the 421th day, sold 7.295010213014297 shares for $491.9754887656842\n",
      "On the 451th day, Bought 7.428316743425939 shares for $499.8514336651315\n",
      "On the 452th day, Bought 6 shares for $401.34000000000003\n",
      "On the 453th day, Bought 0 shares for $0.0\n",
      "On the 454th day, Bought 0 shares for $0.0\n",
      "On the 455th day, Bought 0 shares for $0.0\n",
      "On the 474th day, sold 13.428316743425938 shares for $884.791790224335\n",
      "On the 731th day, Bought 7.022471910112359 shares for $498.2443820224719\n",
      "On the 759th day, sold 7.022471910112359 shares for $486.1657303370786\n",
      "On the 817th day, Bought 7.257947452460444 shares for $500.8709536942953\n",
      "On the 818th day, Bought 5 shares for $346.5\n",
      "On the 819th day, Bought 0 shares for $0.0\n",
      "On the 820th day, Bought 0 shares for $0.0\n",
      "On the 841th day, sold 12.257947452460444 shares for $811.5987008274059\n",
      "On the 899th day, Bought 7.7435341489855976 shares for $499.6902586340406\n",
      "On the 900th day, Bought 5 shares for $318.45\n",
      "On the 907th day, Bought 0 shares for $0.0\n",
      "On the 931th day, sold 12.743534148985598 shares for $766.268708378504\n",
      "On the 971th day, Bought 7.996161842315688 shares for $499.92003838157683\n",
      "On the 972th day, Bought 4 shares for $250.96\n",
      "On the 973th day, Bought 0 shares for $0.0\n",
      "On the 991th day, sold 11.996161842315688 shares for $748.6804605789221\n",
      "XLU Final Value: 790.8663950685898, Final Money: 790.8663950685898, Final Shares: 0.0\n"
     ]
    },
    {
     "name": "stderr",
     "output_type": "stream",
     "text": [
      "[*********************100%***********************]  1 of 1 completed\n"
     ]
    },
    {
     "name": "stdout",
     "output_type": "stream",
     "text": [
      "read  1258  lines of data for ticker:  XLB\n"
     ]
    },
    {
     "name": "stderr",
     "output_type": "stream",
     "text": [
      "[*********************100%***********************]  1 of 1 completed\n"
     ]
    },
    {
     "name": "stdout",
     "output_type": "stream",
     "text": [
      "read  1007  lines of data for ticker:  XLB\n",
      "On the 94th day, Bought 8.955758552749419 shares for $501.61203653949497\n",
      "On the 95th day, Bought 7 shares for $402.84999999999997\n",
      "On the 102th day, sold 15.955758552749419 shares for $861.4514042629412\n",
      "On the 147th day, Bought 7.983394539358135 shares for $503.91186332428543\n",
      "On the 161th day, sold 7.983394539358135 shares for $514.130608334664\n",
      "On the 189th day, Bought 7.575757575757576 shares for $493.03030303030306\n",
      "On the 190th day, Bought 6 shares for $397.20000000000005\n",
      "On the 191th day, Bought 1 shares for $66.49\n",
      "On the 192th day, Bought 0 shares for $0.0\n",
      "On the 193th day, Bought 0 shares for $0.0\n",
      "On the 205th day, sold 14.575757575757576 shares for $988.6736363636363\n",
      "On the 369th day, Bought 6.032818532818533 shares for $499.7586872586873\n",
      "On the 407th day, Bought 5.894141223623718 shares for $502.5344807261582\n",
      "On the 409th day, Bought 0 shares for $0.0\n",
      "On the 410th day, Bought 0 shares for $0.0\n",
      "On the 413th day, Bought 0 shares for $0.0\n",
      "On the 414th day, Bought 0 shares for $0.0\n",
      "On the 415th day, Bought 0 shares for $0.0\n",
      "On the 423th day, sold 11.926959756442251 shares for $947.2391438566436\n",
      "On the 553th day, Bought 5.59973121290178 shares for $498.1520886997423\n",
      "On the 554th day, Bought 4 shares for $355.88\n",
      "On the 555th day, Bought 1 shares for $89.67\n",
      "On the 574th day, sold 10.59973121290178 shares for $892.2853735020719\n",
      "On the 691th day, Bought 7.293946024799417 shares for $490.22611232676877\n",
      "On the 697th day, sold 7.293946024799417 shares for $509.8468271334793\n",
      "On the 704th day, Bought 6.749460043196544 shares for $507.4919006479481\n",
      "On the 705th day, Bought 5 shares for $372.84999999999997\n",
      "On the 712th day, sold 11.749460043196544 shares for $943.2466522678186\n",
      "On the 722th day, Bought 6.070171178827243 shares for $496.3578972927036\n",
      "On the 724th day, Bought 5 shares for $404.15\n",
      "On the 780th day, Bought 0 shares for $0.0\n",
      "On the 781th day, Bought 0 shares for $0.0\n",
      "On the 793th day, sold 11.070171178827243 shares for $865.4659827607139\n",
      "On the 880th day, Bought 5.999520038396928 shares for $498.14014878809695\n",
      "On the 881th day, Bought 4 shares for $335.52\n",
      "On the 882th day, Bought 1 shares for $83.81\n",
      "On the 883th day, Bought 0 shares for $0.0\n",
      "On the 884th day, Bought 0 shares for $0.0\n",
      "On the 885th day, Bought 0 shares for $0.0\n",
      "On the 927th day, sold 10.999520038396927 shares for $862.9123470122389\n"
     ]
    },
    {
     "name": "stderr",
     "output_type": "stream",
     "text": [
      "[*********************100%***********************]  1 of 1 completed"
     ]
    },
    {
     "name": "stdout",
     "output_type": "stream",
     "text": [
      "On the 972th day, Bought 6.163708086785009 shares for $498.1508875739644\n",
      "On the 973th day, Bought 4 shares for $324.08\n",
      "On the 974th day, Bought 0 shares for $0.0\n",
      "XLB Final Value: 917.8961964015056, Final Money: 62.11197549420774, Final Shares: 10.16370808678501\n",
      "read  1258  lines of data for ticker:  XLB\n"
     ]
    },
    {
     "name": "stderr",
     "output_type": "stream",
     "text": [
      "\n",
      "[*********************100%***********************]  1 of 1 completed\n"
     ]
    },
    {
     "name": "stdout",
     "output_type": "stream",
     "text": [
      "read  1007  lines of data for ticker:  XLB\n",
      "On the 147th day, Bought 0 shares for $0.0\n",
      "On the 148th day, Bought 0 shares for $0.0\n",
      "On the 150th day, Bought 0 shares for $0.0\n",
      "On the 787th day, Bought 0 shares for $0.0\n",
      "On the 909th day, Bought 0 shares for $0.0\n"
     ]
    },
    {
     "name": "stderr",
     "output_type": "stream",
     "text": [
      "[*********************100%***********************]  1 of 1 completed"
     ]
    },
    {
     "name": "stdout",
     "output_type": "stream",
     "text": [
      "XLB Final Value: 1000.0, Final Money: 1000.0, Final Shares: 0.0\n",
      "read  1258  lines of data for ticker:  XLB\n"
     ]
    },
    {
     "name": "stderr",
     "output_type": "stream",
     "text": [
      "\n",
      "[*********************100%***********************]  1 of 1 completed\n"
     ]
    },
    {
     "name": "stdout",
     "output_type": "stream",
     "text": [
      "read  1007  lines of data for ticker:  XLB\n",
      "On the 558th day, Bought 5.612932195779075 shares for $500.84193982936694\n",
      "On the 559th day, Bought 5.611672278338945 shares for $499.7194163860831\n",
      "On the 560th day, Bought 5.656748500961648 shares for $496.77565335445183\n",
      "On the 573th day, sold 16.88135297507967 shares for $1443.3556793693117\n",
      "On the 694th day, Bought 7.155123068116772 shares for $512.0206067544362\n",
      "On the 712th day, sold 7.155123068116772 shares for $574.4132799084144\n",
      "On the 883th day, Bought 5.970862192500597 shares for $498.56699307379984\n",
      "On the 884th day, Bought 5.970149253731344 shares for $500.5970149253731\n",
      "On the 885th day, Bought 0 shares for $0.0\n",
      "On the 907th day, Bought 0 shares for $0.0\n",
      "On the 908th day, Bought 0 shares for $0.0\n",
      "On the 909th day, Bought 0 shares for $0.0\n",
      "On the 914th day, sold 11.94101144623194 shares for $1000.8955794231612\n",
      "XLB Final Value: 1018.6645387008871, Final Money: 1018.6645387008871, Final Shares: 0.0\n"
     ]
    },
    {
     "name": "stderr",
     "output_type": "stream",
     "text": [
      "[*********************100%***********************]  1 of 1 completed\n"
     ]
    },
    {
     "name": "stdout",
     "output_type": "stream",
     "text": [
      "read  1258  lines of data for ticker:  XLE\n"
     ]
    },
    {
     "name": "stderr",
     "output_type": "stream",
     "text": [
      "[*********************100%***********************]  1 of 1 completed\n"
     ]
    },
    {
     "name": "stdout",
     "output_type": "stream",
     "text": [
      "read  1007  lines of data for ticker:  XLE\n",
      "On the 81th day, Bought 13.35826876836762 shares for $496.6604328079081\n",
      "On the 82th day, Bought 13.99384270920795 shares for $491.18387909319904\n",
      "On the 92th day, Bought 12.840267077555215 shares for $495.6343091936313\n",
      "On the 93th day, Bought 12.899896800825594 shares for $499.22600619195055\n",
      "On the 94th day, Bought 12.677484787018257 shares for $505.45131845841786\n",
      "On the 102th day, sold 65.76976014297463 shares for $2554.497483953135\n",
      "On the 151th day, Bought 13.78929950358522 shares for $498.0694980694981\n",
      "On the 152th day, Bought 13.877324451845684 shares for $503.05301137940603\n",
      "On the 172th day, sold 27.666623955430904 shares for $884.5019678551259\n",
      "On the 238th day, Bought 13.048016701461378 shares for $500.6524008350731\n",
      "On the 239th day, Bought 11 shares for $420.85999999999996\n",
      "On the 243th day, Bought 0 shares for $0.0\n",
      "On the 244th day, Bought 0 shares for $0.0\n",
      "On the 279th day, sold 24.04801670146138 shares for $1209.3747599164926\n",
      "On the 307th day, Bought 10.208248264597795 shares for $500.20416496529197\n",
      "On the 308th day, Bought 10.172939979654121 shares for $496.4394710071211\n",
      "On the 309th day, Bought 4 shares for $194.0\n",
      "On the 332th day, sold 24.381188244251916 shares for $1274.4047095270478\n",
      "On the 345th day, Bought 9.57670944263551 shares for $509.86401072591457\n",
      "On the 381th day, sold 9.57670944263551 shares for $471.6529400497989\n",
      "On the 398th day, Bought 10.117361392148927 shares for $493.2213678672602\n",
      "On the 423th day, sold 10.117361392148927 shares for $477.9441521651153\n",
      "On the 655th day, Bought 6.304375236414071 shares for $508.19568780733823\n",
      "On the 657th day, Bought 6.011060351045924 shares for $502.885308968502\n",
      "On the 658th day, Bought 3 shares for $250.95000000000002\n",
      "On the 659th day, Bought 0 shares for $0.0\n",
      "On the 678th day, sold 15.315435587459994 shares for $1079.4319002041805\n",
      "On the 700th day, Bought 5.718860802928056 shares for $501.88722406496623\n",
      "On the 701th day, Bought 5.6420672534416605 shares for $506.8833220491988\n",
      "On the 702th day, Bought 0 shares for $0.0\n",
      "On the 703th day, Bought 0 shares for $0.0\n",
      "On the 705th day, Bought 0 shares for $0.0\n",
      "On the 734th day, sold 11.360928056369715 shares for $982.2658397537256\n",
      "On the 740th day, Bought 5.789717461787864 shares for $500.5210745715609\n",
      "On the 796th day, sold 5.789717461787864 shares for $447.8925428439092\n",
      "On the 870th day, Bought 6.159911297277319 shares for $501.2319822594555\n",
      "On the 871th day, Bought 6.145526057030482 shares for $502.0894788593904\n",
      "On the 872th day, Bought 0 shares for $0.0\n",
      "On the 912th day, Bought 0 shares for $0.0\n",
      "On the 913th day, Bought 0 shares for $0.0\n",
      "On the 914th day, Bought 0 shares for $0.0\n",
      "On the 917th day, Bought 0 shares for $0.0\n",
      "On the 936th day, sold 12.305437354307802 shares for $1055.191253131894\n"
     ]
    },
    {
     "name": "stderr",
     "output_type": "stream",
     "text": [
      "[*********************100%***********************]  1 of 1 completed"
     ]
    },
    {
     "name": "stdout",
     "output_type": "stream",
     "text": [
      "On the 966th day, Bought 5.91016548463357 shares for $495.27186761229314\n",
      "On the 975th day, Bought 5.950964056177101 shares for $504.2846941204475\n",
      "On the 993th day, Bought 0 shares for $0.0\n",
      "On the 994th day, Bought 0 shares for $0.0\n",
      "On the 995th day, Bought 0 shares for $0.0\n",
      "On the 996th day, Bought 0 shares for $0.0\n",
      "On the 997th day, Bought 0 shares for $0.0\n",
      "XLE Final Value: 1075.9077198484158, Final Money: 72.3375494004249, Final Shares: 11.861129540810671\n",
      "read  1258  lines of data for ticker:  XLE\n"
     ]
    },
    {
     "name": "stderr",
     "output_type": "stream",
     "text": [
      "\n",
      "[*********************100%***********************]  1 of 1 completed\n"
     ]
    },
    {
     "name": "stdout",
     "output_type": "stream",
     "text": [
      "read  1007  lines of data for ticker:  XLE\n",
      "On the 275th day, Bought 11.008366358432408 shares for $500.6605019815059\n",
      "On the 276th day, Bought 9 shares for $418.41\n",
      "On the 345th day, Bought 1 shares for $53.24\n",
      "On the 346th day, sold 21.008366358432408 shares for $1139.0736239542052\n",
      "On the 353th day, Bought 8.997660608241857 shares for $501.7995321216484\n",
      "On the 354th day, Bought 9.028530155290719 shares for $501.80570603105815\n",
      "On the 355th day, Bought 0 shares for $0.0\n",
      "On the 388th day, Bought 3 shares for $148.26\n",
      "On the 389th day, Bought 0 shares for $0.0\n",
      "On the 390th day, Bought 0 shares for $0.0\n",
      "On the 398th day, Bought 0 shares for $0.0\n",
      "On the 420th day, sold 21.026190763532576 shares for $1056.7763477751473\n",
      "On the 444th day, Bought 8.617718028266115 shares for $496.20820406756286\n",
      "On the 445th day, Bought 8.548469823901522 shares for $496.15318857924433\n",
      "On the 467th day, sold 17.16618785216764 shares for $938.4754898780049\n",
      "On the 523th day, Bought 7.307804735457468 shares for $503.3615901783104\n",
      "On the 532th day, Bought 7.450454477723141 shares for $501.1175681716585\n",
      "On the 548th day, sold 14.758259213180608 shares for $1090.3401906697832\n",
      "On the 668th day, Bought 6.20347394540943 shares for $507.32009925558316\n",
      "On the 669th day, Bought 6.091617933723197 shares for $492.2027290448343\n",
      "On the 678th day, sold 12.295091879132627 shares for $866.5580756412676\n",
      "On the 754th day, Bought 5.566688933422401 shares for $499.6103317746605\n",
      "On the 774th day, sold 5.566688933422401 shares for $502.17100868403475\n"
     ]
    },
    {
     "name": "stderr",
     "output_type": "stream",
     "text": [
      "[*********************100%***********************]  1 of 1 completed"
     ]
    },
    {
     "name": "stdout",
     "output_type": "stream",
     "text": [
      "On the 975th day, Bought 5.950964056177101 shares for $504.2846941204475\n",
      "On the 976th day, Bought 4 shares for $337.92\n",
      "XLE Final Value: 981.0258053955872, Final Money: 139.07473660244278, Final Shares: 9.950964056177101\n",
      "read  1258  lines of data for ticker:  XLE\n"
     ]
    },
    {
     "name": "stderr",
     "output_type": "stream",
     "text": [
      "\n",
      "[*********************100%***********************]  1 of 1 completed\n"
     ]
    },
    {
     "name": "stdout",
     "output_type": "stream",
     "text": [
      "read  1007  lines of data for ticker:  XLE\n",
      "On the 91th day, Bought 12.481278082875686 shares for $501.2481278082875\n",
      "On the 93th day, Bought 12.899896800825594 shares for $499.22600619195055\n",
      "On the 94th day, Bought 12.677484787018257 shares for $505.45131845841786\n",
      "On the 98th day, sold 38.058659670719535 shares for $1706.550299635064\n",
      "On the 149th day, Bought 13.336889837289943 shares for $499.5998933048813\n",
      "On the 165th day, sold 13.336889837289943 shares for $434.6492397972793\n",
      "On the 242th day, Bought 13.082155939298797 shares for $497.7760334903192\n",
      "On the 243th day, Bought 13.192612137203167 shares for $505.8047493403694\n",
      "On the 244th day, Bought 3 shares for $115.10999999999999\n",
      "On the 268th day, sold 29.274768076501964 shares for $1298.0432165120972\n",
      "On the 292th day, Bought 9.441087613293051 shares for $491.6918429003021\n",
      "On the 330th day, sold 9.441087613293051 shares for $506.3255287009064\n",
      "On the 344th day, Bought 9.595087315294569 shares for $502.7825753214354\n",
      "On the 353th day, Bought 8.997660608241857 shares for $501.7995321216484\n",
      "On the 354th day, Bought 5 shares for $277.9\n",
      "On the 379th day, sold 23.592747923536425 shares for $1107.9154424892706\n",
      "On the 495th day, Bought 9.00900900900901 shares for $500.72072072072075\n",
      "On the 498th day, sold 9.00900900900901 shares for $533.2432432432432\n",
      "On the 602th day, Bought 5.592215635834918 shares for $499.6644670618499\n",
      "On the 609th day, sold 5.592215635834918 shares for $460.6867240800806\n",
      "On the 668th day, Bought 6.20347394540943 shares for $507.32009925558316\n",
      "On the 678th day, sold 6.20347394540943 shares for $437.2208436724566\n",
      "On the 969th day, Bought 5.895531187359981 shares for $497.641787525056\n",
      "On the 970th day, Bought 5.908768612621129 shares for $490.0141810446703\n",
      "On the 974th day, Bought 1 shares for $85.18\n",
      "XLE Final Value: 1092.5763442067994, Final Money: 9.204538130397708, Final Shares: 12.80429979998111\n"
     ]
    },
    {
     "name": "stderr",
     "output_type": "stream",
     "text": [
      "[*********************100%***********************]  1 of 1 completed\n"
     ]
    },
    {
     "name": "stdout",
     "output_type": "stream",
     "text": [
      "read  1258  lines of data for ticker:  XLF\n"
     ]
    },
    {
     "name": "stderr",
     "output_type": "stream",
     "text": [
      "[*********************100%***********************]  1 of 1 completed\n"
     ]
    },
    {
     "name": "stdout",
     "output_type": "stream",
     "text": [
      "read  1007  lines of data for ticker:  XLF\n",
      "On the 191th day, Bought 20.008003201280513 shares for $501.8007202881152\n",
      "On the 192th day, Bought 19 shares for $470.63\n",
      "On the 207th day, sold 39.008003201280516 shares for $1053.6061664665867\n",
      "On the 307th day, Bought 14.421690222094028 shares for $501.4421690222094\n",
      "On the 308th day, Bought 14.351320321469574 shares for $498.1343283582089\n",
      "On the 309th day, Bought 2 shares for $70.18\n",
      "On the 310th day, Bought 0 shares for $0.0\n",
      "On the 311th day, Bought 0 shares for $0.0\n",
      "On the 312th day, Bought 0 shares for $0.0\n",
      "On the 333th day, sold 30.7730105435636 shares for $1129.3694869487842\n",
      "On the 415th day, Bought 13.245033112582782 shares for $499.3377483443709\n",
      "On the 416th day, Bought 13.206550449022716 shares for $502.7733755942948\n",
      "On the 423th day, sold 26.451583561605496 shares for $966.8053791766808\n",
      "On the 449th day, Bought 12.31527093596059 shares for $498.76847290640393\n",
      "On the 471th day, sold 12.31527093596059 shares for $477.46305418719214\n",
      "On the 603th day, Bought 14.188422247446082 shares for $496.1691259931895\n",
      "On the 604th day, Bought 14.44251877527441 shares for $499.4222992489891\n",
      "On the 626th day, Bought 2 shares for $62.56\n",
      "On the 627th day, Bought 0 shares for $0.0\n",
      "On the 646th day, Bought 0 shares for $0.0\n",
      "On the 664th day, sold 30.630941022720492 shares for $1007.451650237277\n",
      "On the 705th day, Bought 14.6756677428823 shares for $498.9727032579982\n",
      "On the 722th day, Bought 13.846579894765993 shares for $497.2306840210468\n",
      "On the 789th day, Bought 0 shares for $0.0\n",
      "On the 792th day, sold 28.52224763764829 shares for $956.6361857667237\n",
      "On the 918th day, Bought 14.57725947521866 shares for $502.33236151603506\n",
      "On the 933th day, sold 14.57725947521866 shares for $483.527696793003\n",
      "On the 964th day, Bought 14.766686355581808 shares for $505.4636739515652\n",
      "On the 965th day, Bought 13 shares for $449.28000000000003\n",
      "On the 966th day, Bought 0 shares for $0.0\n",
      "On the 967th day, Bought 0 shares for $0.0\n",
      "On the 968th day, Bought 0 shares for $0.0\n",
      "On the 970th day, Bought 0 shares for $0.0\n",
      "On the 971th day, Bought 0 shares for $0.0\n",
      "On the 972th day, Bought 0 shares for $0.0\n",
      "On the 973th day, Bought 0 shares for $0.0\n",
      "On the 974th day, Bought 0 shares for $0.0\n",
      "XLF Final Value: 1069.5793596825674, Final Money: 25.82961957624741, Final Shares: 27.766686355581808\n"
     ]
    },
    {
     "name": "stderr",
     "output_type": "stream",
     "text": [
      "[*********************100%***********************]  1 of 1 completed\n"
     ]
    },
    {
     "name": "stdout",
     "output_type": "stream",
     "text": [
      "read  1258  lines of data for ticker:  XLF\n"
     ]
    },
    {
     "name": "stderr",
     "output_type": "stream",
     "text": [
      "[*********************100%***********************]  1 of 1 completed\n"
     ]
    },
    {
     "name": "stdout",
     "output_type": "stream",
     "text": [
      "read  1007  lines of data for ticker:  XLF\n",
      "On the 170th day, Bought 20.21835826930853 shares for $500.0\n",
      "On the 172th day, sold 20.21835826930853 shares for $483.82531338455317\n",
      "On the 347th day, Bought 0 shares for $0.0\n",
      "On the 351th day, Bought 0 shares for $0.0\n",
      "On the 463th day, Bought 0 shares for $0.0\n",
      "On the 464th day, Bought 0 shares for $0.0\n",
      "On the 601th day, Bought 14.338973329509608 shares for $504.1583022655578\n",
      "On the 602th day, Bought 13 shares for $451.48999999999995\n",
      "On the 603th day, Bought 0 shares for $0.0\n",
      "On the 604th day, Bought 0 shares for $0.0\n",
      "On the 622th day, Bought 0 shares for $0.0\n",
      "On the 623th day, Bought 0 shares for $0.0\n",
      "On the 670th day, sold 27.338973329509606 shares for $911.7547605391454\n",
      "On the 787th day, Bought 14.112334180073384 shares for $501.97572678521027\n",
      "On the 790th day, sold 14.112334180073384 shares for $495.20180637877513\n"
     ]
    },
    {
     "name": "stderr",
     "output_type": "stream",
     "text": [
      "[*********************100%***********************]  1 of 1 completed"
     ]
    },
    {
     "name": "stdout",
     "output_type": "stream",
     "text": [
      "On the 972th day, Bought 14.132278123233464 shares for $498.1628038439796\n",
      "On the 973th day, Bought 0 shares for $0.0\n",
      "On the 974th day, Bought 0 shares for $0.0\n",
      "XLF Final Value: 967.4042149548196, Final Money: 436.1718803024737, Final Shares: 14.132278123233464\n",
      "read  1258  lines of data for ticker:  XLF\n"
     ]
    },
    {
     "name": "stderr",
     "output_type": "stream",
     "text": [
      "\n",
      "[*********************100%***********************]  1 of 1 completed\n"
     ]
    },
    {
     "name": "stdout",
     "output_type": "stream",
     "text": [
      "read  1007  lines of data for ticker:  XLF\n",
      "On the 295th day, Bought 14.44251877527441 shares for $496.100519930676\n",
      "On the 324th day, sold 14.44251877527441 shares for $528.3073367995379\n",
      "On the 351th day, Bought 13.11647429171039 shares for $498.03252885624346\n",
      "On the 359th day, sold 13.11647429171039 shares for $462.09338929695696\n",
      "On the 552th day, Bought 12.813941568426447 shares for $501.66581240389536\n",
      "On the 586th day, sold 12.813941568426447 shares for $423.50076883649405\n",
      "On the 718th day, Bought 14.136273678258412 shares for $499.29318631608714\n",
      "On the 719th day, Bought 11 shares for $392.37\n",
      "On the 786th day, Bought 0 shares for $0.0\n",
      "On the 792th day, sold 25.136273678258412 shares for $843.0706191687872\n",
      "On the 859th day, Bought 15.055706112616681 shares for $498.3438723276122\n",
      "On the 928th day, sold 15.055706112616681 shares for $506.7750677506774\n",
      "XLF Final Value: 873.4671818524533, Final Money: 873.4671818524533, Final Shares: 0.0\n"
     ]
    },
    {
     "name": "stderr",
     "output_type": "stream",
     "text": [
      "[*********************100%***********************]  1 of 1 completed\n"
     ]
    },
    {
     "name": "stdout",
     "output_type": "stream",
     "text": [
      "read  1258  lines of data for ticker:  XLI\n"
     ]
    },
    {
     "name": "stderr",
     "output_type": "stream",
     "text": [
      "[*********************100%***********************]  1 of 1 completed\n"
     ]
    },
    {
     "name": "stdout",
     "output_type": "stream",
     "text": [
      "read  1007  lines of data for ticker:  XLI\n",
      "On the 190th day, Bought 6.172077521293667 shares for $503.08603876064683\n",
      "On the 191th day, Bought 5 shares for $408.29999999999995\n",
      "On the 203th day, sold 11.172077521293666 shares for $896.2240587581779\n",
      "On the 308th day, Bought 5.0352467270896275 shares for $499.29506545820743\n",
      "On the 309th day, Bought 4 shares for $398.88\n",
      "On the 333th day, sold 9.035246727089628 shares for $916.1740181268884\n",
      "On the 447th day, Bought 4.770992366412214 shares for $499.2366412213741\n",
      "On the 448th day, Bought 4.7600913937547595 shares for $499.47638994668694\n",
      "On the 449th day, Bought 0 shares for $0.0\n",
      "On the 450th day, Bought 0 shares for $0.0\n",
      "On the 471th day, sold 9.531083760166974 shares for $983.7031548868333\n",
      "On the 551th day, Bought 4.887585532746823 shares for $502.5415444770283\n",
      "On the 552th day, Bought 3 shares for $309.9\n",
      "On the 553th day, Bought 1 shares for $103.63\n",
      "On the 554th day, Bought 0 shares for $0.0\n",
      "On the 555th day, Bought 0 shares for $0.0\n",
      "On the 556th day, Bought 0 shares for $0.0\n",
      "On the 577th day, sold 8.887585532746822 shares for $845.5648875855327\n",
      "On the 602th day, Bought 5.211047420531527 shares for $495.57060969254815\n",
      "On the 628th day, Bought 4 shares for $346.8\n",
      "On the 629th day, Bought 0 shares for $0.0\n",
      "On the 646th day, Bought 0 shares for $0.0\n",
      "On the 664th day, sold 9.211047420531527 shares for $848.8901302761855\n",
      "On the 705th day, Bought 5.304476978569912 shares for $497.50689582007215\n",
      "On the 719th day, Bought 4 shares for $400.8\n",
      "On the 720th day, Bought 0 shares for $0.0\n",
      "On the 721th day, Bought 0 shares for $0.0\n",
      "On the 722th day, Bought 0 shares for $0.0\n",
      "On the 724th day, Bought 0 shares for $0.0\n",
      "On the 775th day, Bought 0 shares for $0.0\n",
      "On the 795th day, sold 9.304476978569912 shares for $925.609369828135\n",
      "On the 858th day, Bought 4.792485382919582 shares for $501.38982076104674\n",
      "On the 869th day, Bought 3 shares for $321.18\n",
      "On the 870th day, Bought 1 shares for $106.91\n",
      "On the 871th day, Bought 0 shares for $0.0\n",
      "On the 872th day, Bought 0 shares for $0.0\n",
      "On the 884th day, Bought 0 shares for $0.0\n",
      "On the 885th day, Bought 0 shares for $0.0\n",
      "On the 909th day, sold 8.792485382919583 shares for $936.7513926962524\n",
      "On the 924th day, Bought 4.776005349125991 shares for $498.75823860922725\n",
      "On the 935th day, sold 4.776005349125991 shares for $476.11997325437\n"
     ]
    },
    {
     "name": "stderr",
     "output_type": "stream",
     "text": [
      "[*********************100%***********************]  1 of 1 completed"
     ]
    },
    {
     "name": "stdout",
     "output_type": "stream",
     "text": [
      "On the 964th day, Bought 4.871395167575994 shares for $506.08924395946997\n",
      "On the 972th day, Bought 3 shares for $318.0\n",
      "On the 973th day, Bought 1 shares for $105.89\n",
      "On the 974th day, Bought 0 shares for $0.0\n",
      "XLI Final Value: 1004.9532675635832, Final Money: 17.566985412375075, Final Shares: 8.871395167575994\n",
      "read  1258  lines of data for ticker:  XLI\n"
     ]
    },
    {
     "name": "stderr",
     "output_type": "stream",
     "text": [
      "\n",
      "[*********************100%***********************]  1 of 1 completed\n"
     ]
    },
    {
     "name": "stdout",
     "output_type": "stream",
     "text": [
      "read  1007  lines of data for ticker:  XLI\n",
      "On the 150th day, Bought 0 shares for $0.0\n",
      "On the 151th day, Bought 0 shares for $0.0\n",
      "On the 448th day, Bought 0 shares for $0.0\n",
      "On the 449th day, Bought 0 shares for $0.0\n",
      "On the 622th day, Bought 0 shares for $0.0\n",
      "On the 818th day, Bought 0 shares for $0.0\n",
      "On the 819th day, Bought 0 shares for $0.0\n",
      "On the 820th day, Bought 0 shares for $0.0\n",
      "On the 821th day, Bought 0 shares for $0.0\n"
     ]
    },
    {
     "name": "stderr",
     "output_type": "stream",
     "text": [
      "[*********************100%***********************]  1 of 1 completed"
     ]
    },
    {
     "name": "stdout",
     "output_type": "stream",
     "text": [
      "On the 972th day, Bought 0 shares for $0.0\n",
      "On the 973th day, Bought 0 shares for $0.0\n",
      "On the 974th day, Bought 0 shares for $0.0\n",
      "On the 975th day, Bought 0 shares for $0.0\n",
      "XLI Final Value: 1000.0, Final Money: 1000.0, Final Shares: 0.0\n",
      "read  1258  lines of data for ticker:  XLI\n"
     ]
    },
    {
     "name": "stderr",
     "output_type": "stream",
     "text": [
      "\n",
      "[*********************100%***********************]  1 of 1 completed\n"
     ]
    },
    {
     "name": "stdout",
     "output_type": "stream",
     "text": [
      "read  1007  lines of data for ticker:  XLI\n",
      "On the 191th day, Bought 6.127450980392157 shares for $500.36764705882354\n",
      "On the 199th day, sold 6.127450980392157 shares for $458.76225490196083\n",
      "On the 316th day, Bought 4.964257347100874 shares for $498.90786338363785\n",
      "On the 335th day, sold 4.964257347100874 shares for $519.9066719618746\n",
      "On the 350th day, Bought 4.7796577765032024 shares for $500.2867794665902\n",
      "On the 351th day, Bought 3 shares for $314.43\n",
      "On the 424th day, sold 7.7796577765032024 shares for $765.051545741325\n",
      "On the 552th day, Bought 4.850601474582849 shares for $501.06713232440825\n",
      "On the 553th day, Bought 3 shares for $310.89\n",
      "On the 554th day, Bought 1 shares for $104.43\n",
      "On the 575th day, sold 8.850601474582849 shares for $855.3221265036865\n",
      "On the 718th day, Bought 5.02815768302494 shares for $498.69267900241357\n",
      "On the 719th day, Bought 3 shares for $300.6\n",
      "On the 758th day, sold 8.02815768302494 shares for $783.7890345937249\n",
      "XLI Final Value: 854.0016337025718, Final Money: 854.0016337025718, Final Shares: 0.0\n"
     ]
    },
    {
     "name": "stderr",
     "output_type": "stream",
     "text": [
      "[*********************100%***********************]  1 of 1 completed\n"
     ]
    },
    {
     "name": "stdout",
     "output_type": "stream",
     "text": [
      "read  1258  lines of data for ticker:  XLK\n"
     ]
    },
    {
     "name": "stderr",
     "output_type": "stream",
     "text": [
      "[*********************100%***********************]  1 of 1 completed\n"
     ]
    },
    {
     "name": "stdout",
     "output_type": "stream",
     "text": [
      "read  1007  lines of data for ticker:  XLK\n",
      "On the 94th day, Bought 5.105166428425567 shares for $501.0210332856851\n",
      "On the 103th day, sold 5.105166428425567 shares for $507.5045946497856\n",
      "On the 149th day, Bought 4.345181194055792 shares for $501.2601025462762\n",
      "On the 150th day, Bought 4.350474201687984 shares for $498.12929609327415\n",
      "On the 151th day, Bought 0 shares for $0.0\n",
      "On the 152th day, Bought 0 shares for $0.0\n",
      "On the 153th day, Bought 0 shares for $0.0\n",
      "On the 161th day, sold 8.695655395743776 shares for $1041.652559856147\n",
      "On the 553th day, Bought 3.160156743774491 shares for $497.69308557704466\n",
      "On the 554th day, Bought 3.1230480949406623 shares for $505.84009993753904\n",
      "On the 555th day, Bought 0 shares for $0.0\n",
      "On the 556th day, Bought 0 shares for $0.0\n",
      "On the 576th day, sold 6.283204838715154 shares for $927.2125380491952\n",
      "On the 618th day, Bought 3.88078236572493 shares for $493.36386215461033\n",
      "On the 624th day, Bought 2 shares for $263.42\n",
      "On the 625th day, Bought 1 shares for $131.52\n",
      "On the 646th day, Bought 0 shares for $0.0\n",
      "On the 649th day, Bought 0 shares for $0.0\n",
      "On the 652th day, Bought 0 shares for $0.0\n",
      "On the 653th day, Bought 0 shares for $0.0\n",
      "On the 654th day, Bought 0 shares for $0.0\n",
      "On the 686th day, sold 6.880782365724929 shares for $873.7905526234088\n",
      "On the 719th day, Bought 3.826432999158185 shares for $502.18106680952025\n",
      "On the 720th day, Bought 2 shares for $265.82\n",
      "On the 721th day, Bought 1 shares for $133.47\n",
      "On the 722th day, Bought 0 shares for $0.0\n",
      "On the 723th day, Bought 0 shares for $0.0\n",
      "On the 724th day, Bought 0 shares for $0.0\n",
      "On the 758th day, Bought 0 shares for $0.0\n",
      "On the 771th day, sold 6.826432999158185 shares for $979.8661926991658\n",
      "On the 839th day, Bought 3.2817012339196636 shares for $502.10028878970854\n",
      "On the 846th day, sold 3.2817012339196636 shares for $525.8269887109477\n",
      "On the 875th day, Bought 2.9127344751252475 shares for $501.0485844110451\n",
      "On the 908th day, sold 2.9127344751252475 shares for $486.45578469066754\n"
     ]
    },
    {
     "name": "stderr",
     "output_type": "stream",
     "text": [
      "[*********************100%***********************]  1 of 1 completed"
     ]
    },
    {
     "name": "stdout",
     "output_type": "stream",
     "text": [
      "On the 961th day, Bought 2.8446265005404787 shares for $500.7396028901405\n",
      "On the 962th day, Bought 2.857959416976279 shares for $503.0294369819948\n",
      "On the 970th day, Bought 0 shares for $0.0\n",
      "On the 972th day, Bought 0 shares for $0.0\n",
      "On the 973th day, Bought 0 shares for $0.0\n",
      "On the 974th day, Bought 0 shares for $0.0\n",
      "On the 976th day, Bought 0 shares for $0.0\n",
      "On the 995th day, Bought 0 shares for $0.0\n",
      "XLK Final Value: 1094.9944597083788, Final Money: 44.749211279317706, Final Shares: 5.702585917516758\n",
      "read  1258  lines of data for ticker:  XLK\n"
     ]
    },
    {
     "name": "stderr",
     "output_type": "stream",
     "text": [
      "\n",
      "[*********************100%***********************]  1 of 1 completed\n"
     ]
    },
    {
     "name": "stdout",
     "output_type": "stream",
     "text": [
      "read  1007  lines of data for ticker:  XLK\n",
      "On the 152th day, Bought 4.239443784975411 shares for $507.2070544344582\n",
      "On the 153th day, Bought 4.203093476798924 shares for $498.8651647612643\n",
      "On the 154th day, Bought 0 shares for $0.0\n",
      "On the 161th day, sold 8.442537261774335 shares for $1011.3315385879476\n",
      "On the 313th day, Bought 3.548364204101909 shares for $504.5773898232914\n",
      "On the 333th day, sold 3.548364204101909 shares for $465.9357036406217\n",
      "On the 392th day, Bought 3.2260145815859085 shares for $498.2579521259435\n",
      "On the 393th day, Bought 2 shares for $310.08\n",
      "On the 394th day, Bought 1 shares for $154.64\n",
      "On the 422th day, sold 6.2260145815859085 shares for $968.020747144977\n",
      "On the 553th day, Bought 3.160156743774491 shares for $497.69308557704466\n",
      "On the 554th day, Bought 2 shares for $323.94\n",
      "On the 555th day, Bought 0 shares for $0.0\n",
      "On the 556th day, Bought 0 shares for $0.0\n",
      "On the 559th day, Bought 1 shares for $160.77\n",
      "On the 576th day, sold 6.1601567437744915 shares for $909.0543306788016\n",
      "On the 604th day, Bought 3.5696437495537947 shares for $496.3589633754552\n",
      "On the 624th day, Bought 2 shares for $263.42\n",
      "On the 625th day, Bought 1 shares for $131.52\n",
      "On the 670th day, sold 6.569643749553794 shares for $867.1929749411008\n",
      "On the 778th day, Bought 3.5313228335334417 shares for $496.43336393813127\n",
      "On the 779th day, Bought 2 shares for $275.9\n",
      "On the 799th day, sold 5.531322833533442 shares for $793.9107662970549\n"
     ]
    },
    {
     "name": "stderr",
     "output_type": "stream",
     "text": [
      "[*********************100%***********************]  1 of 1 completed"
     ]
    },
    {
     "name": "stdout",
     "output_type": "stream",
     "text": [
      "On the 945th day, Bought 2.9505488020771864 shares for $496.4888469255282\n",
      "On the 946th day, Bought 1 shares for $168.39\n",
      "On the 947th day, Bought 1 shares for $166.68\n",
      "On the 963th day, sold 4.950548802077186 shares for $888.7225209488965\n",
      "On the 977th day, Bought 2.694255846535187 shares for $495.0156266839099\n",
      "On the 997th day, sold 2.694255846535187 shares for $505.0113158745554\n",
      "XLK Final Value: 952.5298981139558, Final Money: 952.5298981139558, Final Shares: 0.0\n",
      "read  1258  lines of data for ticker:  XLK\n"
     ]
    },
    {
     "name": "stderr",
     "output_type": "stream",
     "text": [
      "\n",
      "[*********************100%***********************]  1 of 1 completed\n"
     ]
    },
    {
     "name": "stdout",
     "output_type": "stream",
     "text": [
      "read  1007  lines of data for ticker:  XLK\n",
      "On the 91th day, Bought 5.157829585310502 shares for $498.1431813492883\n",
      "On the 92th day, Bought 4 shares for $388.16\n",
      "On the 93th day, Bought 1 shares for $97.51\n",
      "On the 94th day, Bought 0 shares for $0.0\n",
      "On the 138th day, sold 10.157829585310502 shares for $1149.3584175778833\n",
      "On the 347th day, Bought 3.6056825557077956 shares for $495.9616355376073\n",
      "On the 383th day, sold 3.6056825557077956 shares for $557.1500685079686\n",
      "On the 603th day, Bought 3.529328721677137 shares for $498.5176819368956\n",
      "On the 604th day, Bought 3.5696437495537947 shares for $496.3589633754552\n",
      "On the 607th day, sold 7.0989724712309314 shares for $889.3592711958111\n",
      "On the 718th day, Bought 3.785297902944962 shares for $497.1610265727913\n",
      "On the 842th day, sold 3.785297902944962 shares for $596.1087137557726\n",
      "XLK Final Value: 1207.0064710374354, Final Money: 1207.0064710374354, Final Shares: 0.0\n"
     ]
    },
    {
     "name": "stderr",
     "output_type": "stream",
     "text": [
      "[*********************100%***********************]  1 of 1 completed\n"
     ]
    },
    {
     "name": "stdout",
     "output_type": "stream",
     "text": [
      "read  1258  lines of data for ticker:  XLP\n"
     ]
    },
    {
     "name": "stderr",
     "output_type": "stream",
     "text": [
      "[*********************100%***********************]  1 of 1 completed\n"
     ]
    },
    {
     "name": "stdout",
     "output_type": "stream",
     "text": [
      "read  1007  lines of data for ticker:  XLP\n",
      "On the 313th day, Bought 7.261109497531223 shares for $501.161777519605\n",
      "On the 335th day, sold 7.261109497531223 shares for $514.885274469939\n",
      "On the 628th day, Bought 6.87757909215956 shares for $503.30123796423663\n",
      "On the 647th day, Bought 6.663113006396588 shares for $502.1321961620469\n",
      "On the 649th day, Bought 0 shares for $0.0\n",
      "On the 658th day, Bought 0 shares for $0.0\n",
      "On the 664th day, sold 13.540692098556148 shares for $982.5126186712341\n",
      "On the 719th day, Bought 6.632179334129195 shares for $503.7140204271124\n",
      "On the 720th day, Bought 5 shares for $380.0\n",
      "On the 721th day, Bought 1 shares for $76.3\n",
      "On the 722th day, Bought 0 shares for $0.0\n",
      "On the 723th day, Bought 0 shares for $0.0\n",
      "On the 724th day, Bought 0 shares for $0.0\n",
      "On the 764th day, Bought 0 shares for $0.0\n",
      "On the 794th day, sold 12.632179334129194 shares for $902.8218570102135\n",
      "On the 807th day, Bought 6.746727836999056 shares for $502.5637565780596\n",
      "On the 808th day, Bought 5 shares for $373.8\n",
      "On the 809th day, Bought 0 shares for $0.0\n",
      "On the 810th day, Bought 0 shares for $0.0\n",
      "On the 811th day, Bought 0 shares for $0.0\n",
      "On the 812th day, Bought 0 shares for $0.0\n",
      "On the 841th day, sold 11.746727836999057 shares for $891.2242409931184\n",
      "On the 912th day, Bought 6.837139340899768 shares for $498.1539723779571\n",
      "On the 913th day, Bought 5 shares for $365.0\n",
      "On the 918th day, Bought 1 shares for $71.8\n",
      "On the 921th day, Bought 0 shares for $0.0\n",
      "On the 937th day, sold 12.837139340899768 shares for $860.6018214139204\n",
      "On the 974th day, Bought 7.089181908407769 shares for $500.4962427335885\n",
      "On the 975th day, Bought 5 shares for $350.15\n",
      "On the 990th day, sold 12.08918190840777 shares for $848.5396781511414\n"
     ]
    },
    {
     "name": "stderr",
     "output_type": "stream",
     "text": [
      "[*********************100%***********************]  1 of 1 completed"
     ]
    },
    {
     "name": "stdout",
     "output_type": "stream",
     "text": [
      "XLP Final Value: 885.8354907095669, Final Money: 885.8354907095669, Final Shares: 0.0\n",
      "read  1258  lines of data for ticker:  XLP\n"
     ]
    },
    {
     "name": "stderr",
     "output_type": "stream",
     "text": [
      "\n",
      "[*********************100%***********************]  1 of 1 completed\n"
     ]
    },
    {
     "name": "stdout",
     "output_type": "stream",
     "text": [
      "read  1007  lines of data for ticker:  XLP\n",
      "On the 409th day, Bought 0 shares for $0.0\n",
      "On the 410th day, Bought 0 shares for $0.0\n",
      "On the 412th day, Bought 0 shares for $0.0\n",
      "On the 413th day, Bought 0 shares for $0.0\n",
      "On the 627th day, Bought 0 shares for $0.0\n",
      "On the 628th day, Bought 0 shares for $0.0\n",
      "On the 629th day, Bought 0 shares for $0.0\n",
      "On the 719th day, Bought 0 shares for $0.0\n",
      "On the 720th day, Bought 0 shares for $0.0\n",
      "On the 721th day, Bought 0 shares for $0.0\n",
      "On the 881th day, Bought 0 shares for $0.0\n",
      "On the 910th day, Bought 0 shares for $0.0\n",
      "On the 911th day, Bought 0 shares for $0.0\n",
      "On the 912th day, Bought 0 shares for $0.0\n",
      "On the 913th day, Bought 0 shares for $0.0\n"
     ]
    },
    {
     "name": "stderr",
     "output_type": "stream",
     "text": [
      "[*********************100%***********************]  1 of 1 completed"
     ]
    },
    {
     "name": "stdout",
     "output_type": "stream",
     "text": [
      "XLP Final Value: 1000.0, Final Money: 1000.0, Final Shares: 0.0\n",
      "read  1258  lines of data for ticker:  XLP\n"
     ]
    },
    {
     "name": "stderr",
     "output_type": "stream",
     "text": [
      "\n",
      "[*********************100%***********************]  1 of 1 completed\n"
     ]
    },
    {
     "name": "stdout",
     "output_type": "stream",
     "text": [
      "read  1007  lines of data for ticker:  XLP\n",
      "On the 137th day, Bought 7.974481658692184 shares for $500.2392344497607\n",
      "On the 138th day, Bought 7.996161842315688 shares for $499.28034543419153\n",
      "On the 160th day, sold 15.970643501007872 shares for $1067.4778116073662\n",
      "On the 345th day, Bought 7.061149555147578 shares for $501.9065103798898\n",
      "On the 359th day, sold 7.061149555147578 shares for $485.80708939415337\n",
      "On the 453th day, Bought 7.006726457399103 shares for $500.28026905829597\n",
      "On the 473th day, sold 7.006726457399103 shares for $492.502802690583\n",
      "On the 815th day, Bought 6.645401382243488 shares for $500.19936204146734\n",
      "On the 817th day, Bought 6.65070497472732 shares for $500.99760574620905\n",
      "On the 843th day, sold 13.296106356970808 shares for $994.1498723107073\n",
      "On the 963th day, Bought 7.250580046403713 shares for $499.5649651972159\n",
      "XLP Final Value: 1063.2119379517658, Final Money: 539.9375760028097, Final Shares: 7.250580046403713\n"
     ]
    },
    {
     "name": "stderr",
     "output_type": "stream",
     "text": [
      "[*********************100%***********************]  1 of 1 completed\n"
     ]
    },
    {
     "name": "stdout",
     "output_type": "stream",
     "text": [
      "read  1258  lines of data for ticker:  XLV\n"
     ]
    },
    {
     "name": "stderr",
     "output_type": "stream",
     "text": [
      "[*********************100%***********************]  1 of 1 completed\n"
     ]
    },
    {
     "name": "stdout",
     "output_type": "stream",
     "text": [
      "read  1007  lines of data for ticker:  XLV\n",
      "On the 101th day, Bought 0 shares for $0.0\n",
      "On the 144th day, Bought 0 shares for $0.0\n",
      "On the 152th day, Bought 0 shares for $0.0\n",
      "On the 366th day, Bought 0 shares for $0.0\n",
      "On the 367th day, Bought 0 shares for $0.0\n",
      "On the 368th day, Bought 0 shares for $0.0\n",
      "On the 553th day, Bought 0 shares for $0.0\n",
      "On the 554th day, Bought 0 shares for $0.0\n",
      "On the 555th day, Bought 0 shares for $0.0\n",
      "On the 556th day, Bought 0 shares for $0.0\n",
      "On the 628th day, Bought 0 shares for $0.0\n",
      "On the 637th day, Bought 0 shares for $0.0\n",
      "On the 645th day, Bought 0 shares for $0.0\n",
      "On the 646th day, Bought 0 shares for $0.0\n",
      "On the 705th day, Bought 0 shares for $0.0\n",
      "On the 719th day, Bought 0 shares for $0.0\n",
      "On the 720th day, Bought 0 shares for $0.0\n",
      "On the 721th day, Bought 0 shares for $0.0\n",
      "On the 722th day, Bought 0 shares for $0.0\n",
      "On the 723th day, Bought 0 shares for $0.0\n",
      "On the 724th day, Bought 0 shares for $0.0\n",
      "On the 764th day, Bought 0 shares for $0.0\n",
      "On the 789th day, Bought 0 shares for $0.0\n",
      "On the 878th day, Bought 0 shares for $0.0\n",
      "On the 905th day, Bought 0 shares for $0.0\n",
      "On the 906th day, Bought 0 shares for $0.0\n",
      "On the 907th day, Bought 0 shares for $0.0\n"
     ]
    },
    {
     "name": "stderr",
     "output_type": "stream",
     "text": [
      "[*********************100%***********************]  1 of 1 completed"
     ]
    },
    {
     "name": "stdout",
     "output_type": "stream",
     "text": [
      "On the 969th day, Bought 0 shares for $0.0\n",
      "On the 970th day, Bought 0 shares for $0.0\n",
      "On the 971th day, Bought 0 shares for $0.0\n",
      "On the 972th day, Bought 0 shares for $0.0\n",
      "On the 973th day, Bought 0 shares for $0.0\n",
      "On the 974th day, Bought 0 shares for $0.0\n",
      "On the 975th day, Bought 0 shares for $0.0\n",
      "XLV Final Value: 1000.0, Final Money: 1000.0, Final Shares: 0.0\n",
      "read  1258  lines of data for ticker:  XLV\n"
     ]
    },
    {
     "name": "stderr",
     "output_type": "stream",
     "text": [
      "\n",
      "[*********************100%***********************]  1 of 1 completed\n"
     ]
    },
    {
     "name": "stdout",
     "output_type": "stream",
     "text": [
      "read  1007  lines of data for ticker:  XLV\n",
      "On the 191th day, Bought 0 shares for $0.0\n",
      "On the 257th day, Bought 0 shares for $0.0\n",
      "On the 258th day, Bought 0 shares for $0.0\n",
      "On the 408th day, Bought 0 shares for $0.0\n",
      "On the 409th day, Bought 0 shares for $0.0\n",
      "On the 410th day, Bought 0 shares for $0.0\n",
      "On the 411th day, Bought 0 shares for $0.0\n",
      "On the 452th day, Bought 0 shares for $0.0\n",
      "On the 453th day, Bought 0 shares for $0.0\n",
      "On the 454th day, Bought 0 shares for $0.0\n",
      "On the 455th day, Bought 0 shares for $0.0\n",
      "On the 456th day, Bought 0 shares for $0.0\n",
      "On the 464th day, Bought 0 shares for $0.0\n",
      "On the 710th day, Bought 0 shares for $0.0\n",
      "On the 711th day, Bought 0 shares for $0.0\n",
      "On the 719th day, Bought 0 shares for $0.0\n",
      "On the 720th day, Bought 0 shares for $0.0\n",
      "On the 721th day, Bought 0 shares for $0.0\n",
      "On the 722th day, Bought 0 shares for $0.0\n",
      "On the 764th day, Bought 0 shares for $0.0\n",
      "On the 773th day, Bought 0 shares for $0.0\n",
      "On the 823th day, Bought 0 shares for $0.0\n",
      "On the 832th day, Bought 0 shares for $0.0\n"
     ]
    },
    {
     "name": "stderr",
     "output_type": "stream",
     "text": [
      "[*********************100%***********************]  1 of 1 completed"
     ]
    },
    {
     "name": "stdout",
     "output_type": "stream",
     "text": [
      "XLV Final Value: 1000.0, Final Money: 1000.0, Final Shares: 0.0\n",
      "read  1258  lines of data for ticker:  XLV\n"
     ]
    },
    {
     "name": "stderr",
     "output_type": "stream",
     "text": [
      "\n",
      "[*********************100%***********************]  1 of 1 completed\n"
     ]
    },
    {
     "name": "stdout",
     "output_type": "stream",
     "text": [
      "read  1007  lines of data for ticker:  XLV\n",
      "On the 982th day, Bought 0 shares for $0.0\n",
      "XLV Final Value: 1000.0, Final Money: 1000.0, Final Shares: 0.0\n"
     ]
    },
    {
     "name": "stderr",
     "output_type": "stream",
     "text": [
      "[*********************100%***********************]  1 of 1 completed\n"
     ]
    },
    {
     "name": "stdout",
     "output_type": "stream",
     "text": [
      "read  1258  lines of data for ticker:  XLY\n"
     ]
    },
    {
     "name": "stderr",
     "output_type": "stream",
     "text": [
      "[*********************100%***********************]  1 of 1 completed\n"
     ]
    },
    {
     "name": "stdout",
     "output_type": "stream",
     "text": [
      "read  1007  lines of data for ticker:  XLY\n",
      "On the 95th day, Bought 3.9544447959506486 shares for $502.4517557734894\n",
      "On the 103th day, sold 3.9544447959506486 shares for $495.6501107244543\n",
      "On the 139th day, Bought 3.628183731224149 shares for $501.95921921486104\n",
      "On the 161th day, sold 3.628183731224149 shares for $540.1639939046513\n",
      "On the 217th day, Bought 3.2179173638820955 shares for $504.73033852490664\n",
      "On the 219th day, Bought 3.1669622498099823 shares for $502.28021281986315\n",
      "On the 220th day, Bought 0 shares for $0.0\n",
      "On the 246th day, sold 6.384879613692078 shares for $1035.9467173215396\n",
      "On the 495th day, Bought 2.4457053414204655 shares for $509.4159655644687\n",
      "On the 510th day, sold 2.4457053414204655 shares for $446.5613382899628\n",
      "On the 553th day, Bought 2.726876090750436 shares for $505.26287085514826\n",
      "On the 555th day, Bought 2.6105570928836213 shares for $496.00584764788806\n",
      "On the 556th day, Bought 0 shares for $0.0\n",
      "On the 557th day, Bought 0 shares for $0.0\n",
      "On the 558th day, Bought 0 shares for $0.0\n",
      "On the 576th day, sold 5.337433183634057 shares for $915.9035343116042\n",
      "On the 603th day, Bought 3.243593902043464 shares for $497.4375608173857\n",
      "On the 604th day, Bought 2 shares for $306.66\n",
      "On the 605th day, Bought 0 shares for $0.0\n",
      "On the 624th day, Bought 0 shares for $0.0\n",
      "On the 654th day, Bought 0 shares for $0.0\n",
      "On the 656th day, Bought 0 shares for $0.0\n",
      "On the 676th day, sold 5.2435939020434645 shares for $804.4197405124879\n",
      "On the 719th day, Bought 3.598416696653473 shares for $501.9791291831595\n",
      "On the 720th day, Bought 2 shares for $282.04\n",
      "On the 721th day, Bought 1 shares for $142.62\n",
      "On the 722th day, Bought 0 shares for $0.0\n",
      "On the 723th day, Bought 0 shares for $0.0\n",
      "On the 724th day, Bought 0 shares for $0.0\n",
      "On the 767th day, sold 6.598416696653473 shares for $999.7920978769342\n",
      "On the 809th day, Bought 3.374502260916515 shares for $501.6535061078491\n",
      "On the 834th day, Bought 3.3863867253640363 shares for $504.60548594649504\n",
      "On the 839th day, Bought 0 shares for $0.0\n",
      "On the 850th day, sold 6.760888986280552 shares for $1037.1203704954366\n",
      "On the 878th day, Bought 2.8658222043904398 shares for $499.9713417779561\n",
      "On the 879th day, Bought 2.8584495769494627 shares for $500.28584495769496\n",
      "On the 880th day, Bought 0 shares for $0.0\n",
      "On the 881th day, Bought 0 shares for $0.0\n",
      "On the 882th day, Bought 0 shares for $0.0\n",
      "On the 898th day, sold 5.724271781339903 shares for $974.8434843621856\n",
      "On the 959th day, Bought 3.116818351826456 shares for $500.90387732202976\n",
      "On the 960th day, Bought 3.08242401824795 shares for $500.1541212009123\n",
      "On the 961th day, Bought 0 shares for $0.0\n",
      "On the 972th day, Bought 0 shares for $0.0\n",
      "On the 973th day, Bought 0 shares for $0.0\n",
      "On the 974th day, Bought 0 shares for $0.0\n",
      "On the 975th day, Bought 0 shares for $0.0\n"
     ]
    },
    {
     "name": "stderr",
     "output_type": "stream",
     "text": [
      "[*********************100%***********************]  1 of 1 completed"
     ]
    },
    {
     "name": "stdout",
     "output_type": "stream",
     "text": [
      "XLY Final Value: 1088.7708102815805, Final Money: 20.331387799256618, Final Shares: 6.199242370074406\n",
      "read  1258  lines of data for ticker:  XLY\n"
     ]
    },
    {
     "name": "stderr",
     "output_type": "stream",
     "text": [
      "\n",
      "[*********************100%***********************]  1 of 1 completed\n"
     ]
    },
    {
     "name": "stdout",
     "output_type": "stream",
     "text": [
      "read  1007  lines of data for ticker:  XLY\n",
      "On the 604th day, Bought 3.262855651265988 shares for $500.29365700861393\n",
      "On the 605th day, Bought 3.3229215125938727 shares for $489.66571409583315\n",
      "On the 670th day, sold 6.585777163859861 shares for $1040.6186496614966\n",
      "On the 776th day, Bought 3.2868787799105967 shares for $498.5866421246384\n",
      "On the 777th day, Bought 3.248862897985705 shares for $492.3326835607537\n",
      "On the 823th day, Bought 0 shares for $0.0\n",
      "On the 839th day, Bought 0 shares for $0.0\n",
      "On the 883th day, sold 6.535741677896302 shares for $1117.2196824195937\n",
      "On the 943th day, Bought 3.145247530980688 shares for $502.70491287664345\n",
      "On the 965th day, sold 3.145247530980688 shares for $526.9862238158144\n"
     ]
    },
    {
     "name": "stderr",
     "output_type": "stream",
     "text": [
      "[*********************100%***********************]  1 of 1 completed"
     ]
    },
    {
     "name": "stdout",
     "output_type": "stream",
     "text": [
      "XLY Final Value: 1184.8245558969047, Final Money: 1184.8245558969047, Final Shares: 0.0\n",
      "read  1258  lines of data for ticker:  XLY\n"
     ]
    },
    {
     "name": "stderr",
     "output_type": "stream",
     "text": [
      "\n",
      "[*********************100%***********************]  1 of 1 completed\n"
     ]
    },
    {
     "name": "stdout",
     "output_type": "stream",
     "text": [
      "read  1007  lines of data for ticker:  XLY\n",
      "On the 110th day, Bought 3.863987635239567 shares for $497.0247295208655\n",
      "On the 163th day, sold 3.863987635239567 shares for $561.1669242658422\n",
      "On the 276th day, Bought 2.9477655936799905 shares for $495.2246197382384\n",
      "On the 291th day, sold 2.9477655936799905 shares for $491.59886805801204\n",
      "On the 326th day, Bought 2.807884539787724 shares for $496.26551356208233\n",
      "On the 333th day, sold 2.807884539787724 shares for $467.9339585556242\n",
      "On the 470th day, Bought 2.38333571666905 shares for $491.7298250631584\n",
      "On the 487th day, sold 2.38333571666905 shares for $457.24295724295723\n",
      "On the 603th day, Bought 3.243593902043464 shares for $497.4375608173857\n",
      "On the 604th day, Bought 2 shares for $306.66\n",
      "On the 641th day, sold 5.2435939020434645 shares for $852.1888809601039\n",
      "On the 735th day, Bought 3.60386334150209 shares for $492.2516938157705\n",
      "On the 768th day, sold 3.60386334150209 shares for $562.7792994089664\n",
      "XLY Final Value: 1086.4308884915063, Final Money: 1086.4308884915063, Final Shares: 0.0\n"
     ]
    },
    {
     "name": "stderr",
     "output_type": "stream",
     "text": [
      "[*********************100%***********************]  1 of 1 completed\n"
     ]
    },
    {
     "name": "stdout",
     "output_type": "stream",
     "text": [
      "read  1258  lines of data for ticker:  XLU\n"
     ]
    },
    {
     "name": "stderr",
     "output_type": "stream",
     "text": [
      "[*********************100%***********************]  1 of 1 completed\n"
     ]
    },
    {
     "name": "stdout",
     "output_type": "stream",
     "text": [
      "read  1007  lines of data for ticker:  XLU\n",
      "On the 141th day, Bought 8.27814569536424 shares for $498.01324503311264\n",
      "On the 149th day, Bought 7 shares for $421.26\n",
      "On the 150th day, Bought 1 shares for $59.61\n",
      "On the 151th day, Bought 0 shares for $0.0\n",
      "On the 152th day, Bought 0 shares for $0.0\n",
      "On the 153th day, Bought 0 shares for $0.0\n",
      "On the 154th day, Bought 0 shares for $0.0\n",
      "On the 164th day, sold 16.278145695364238 shares for $973.7586754966887\n",
      "On the 197th day, Bought 7.724393635099644 shares for $500.9269272362119\n",
      "On the 201th day, sold 7.724393635099644 shares for $481.84767495751584\n",
      "On the 243th day, Bought 7.974481658692184 shares for $500.8771929824561\n",
      "On the 247th day, sold 7.974481658692184 shares for $492.9027113237639\n",
      "On the 271th day, Bought 7.926442612555485 shares for $498.49397590361446\n",
      "On the 310th day, Bought 6 shares for $388.98\n",
      "On the 333th day, sold 13.926442612555485 shares for $896.1665821179454\n",
      "On the 447th day, Bought 7.434944237918216 shares for $499.2565055762082\n",
      "On the 448th day, Bought 6 shares for $402.12\n",
      "On the 449th day, Bought 1 shares for $67.48\n",
      "On the 450th day, Bought 0 shares for $0.0\n",
      "On the 451th day, Bought 0 shares for $0.0\n",
      "On the 452th day, Bought 0 shares for $0.0\n",
      "On the 453th day, Bought 0 shares for $0.0\n",
      "On the 465th day, Bought 0 shares for $0.0\n",
      "On the 466th day, Bought 0 shares for $0.0\n",
      "On the 473th day, sold 14.434944237918216 shares for $949.386282527881\n",
      "On the 657th day, Bought 6.54278984559016 shares for $501.1777021722062\n",
      "On the 664th day, sold 6.54278984559016 shares for $488.09212248102585\n",
      "On the 705th day, Bought 7.458233890214797 shares for $498.3591885441527\n",
      "On the 720th day, Bought 6 shares for $417.29999999999995\n",
      "On the 721th day, Bought 0 shares for $0.0\n",
      "On the 722th day, Bought 0 shares for $0.0\n",
      "On the 724th day, Bought 0 shares for $0.0\n",
      "On the 773th day, sold 13.458233890214796 shares for $893.4921479713603\n",
      "On the 810th day, Bought 7.399733609590055 shares for $502.14592274678114\n",
      "On the 861th day, Bought 6 shares for $399.41999999999996\n",
      "On the 865th day, sold 13.399733609590054 shares for $871.3846766316412\n",
      "On the 880th day, Bought 7.566585956416465 shares for $499.546004842615\n",
      "On the 901th day, Bought 6 shares for $379.74\n",
      "On the 904th day, Bought 0 shares for $0.0\n",
      "On the 905th day, Bought 0 shares for $0.0\n",
      "On the 931th day, sold 13.566585956416464 shares for $815.758813559322\n"
     ]
    },
    {
     "name": "stderr",
     "output_type": "stream",
     "text": [
      "[*********************100%***********************]  1 of 1 completed"
     ]
    },
    {
     "name": "stdout",
     "output_type": "stream",
     "text": [
      "On the 972th day, Bought 7.975753708725475 shares for $500.39878768543633\n",
      "On the 973th day, Bought 5 shares for $314.0\n",
      "On the 974th day, Bought 0 shares for $0.0\n",
      "On the 975th day, Bought 0 shares for $0.0\n",
      "On the 976th day, Bought 0 shares for $0.0\n",
      "On the 987th day, sold 12.975753708725474 shares for $830.0589647471686\n",
      "XLU Final Value: 840.4186518143129, Final Money: 840.4186518143129, Final Shares: 0.0\n",
      "read  1258  lines of data for ticker:  XLU\n"
     ]
    },
    {
     "name": "stderr",
     "output_type": "stream",
     "text": [
      "\n",
      "[*********************100%***********************]  1 of 1 completed\n"
     ]
    },
    {
     "name": "stdout",
     "output_type": "stream",
     "text": [
      "read  1007  lines of data for ticker:  XLU\n",
      "On the 152th day, Bought 8.41467519353753 shares for $501.43049478290146\n",
      "On the 153th day, Bought 7 shares for $420.34999999999997\n",
      "On the 160th day, sold 15.41467519353753 shares for $930.8922349377315\n",
      "On the 267th day, Bought 7.862871520679351 shares for $501.10080201289503\n",
      "On the 268th day, Bought 0 shares for $0.0\n",
      "On the 269th day, Bought 0 shares for $0.0\n",
      "On the 330th day, sold 7.862871520679351 shares for $519.2640352256644\n",
      "On the 452th day, Bought 0 shares for $0.0\n",
      "On the 453th day, Bought 0 shares for $0.0\n",
      "On the 454th day, Bought 0 shares for $0.0\n",
      "On the 455th day, Bought 0 shares for $0.0\n",
      "On the 456th day, Bought 0 shares for $0.0\n",
      "On the 798th day, Bought 0 shares for $0.0\n",
      "On the 908th day, Bought 7.917656373713381 shares for $500.71258907363426\n",
      "On the 909th day, Bought 7.857928650007858 shares for $500.86437215150085\n",
      "On the 930th day, sold 15.775585023721238 shares for $967.2011178043491\n"
     ]
    },
    {
     "name": "stderr",
     "output_type": "stream",
     "text": [
      "[*********************100%***********************]  1 of 1 completed"
     ]
    },
    {
     "name": "stdout",
     "output_type": "stream",
     "text": [
      "XLU Final Value: 997.7773879677449, Final Money: 997.7773879677449, Final Shares: 0.0\n",
      "read  1258  lines of data for ticker:  XLU\n"
     ]
    },
    {
     "name": "stderr",
     "output_type": "stream",
     "text": [
      "\n",
      "[*********************100%***********************]  1 of 1 completed\n"
     ]
    },
    {
     "name": "stdout",
     "output_type": "stream",
     "text": [
      "read  1007  lines of data for ticker:  XLU\n",
      "On the 257th day, Bought 7.9567154678548695 shares for $498.2495225970719\n",
      "On the 270th day, Bought 7.881462799495587 shares for $499.76355611601514\n",
      "On the 271th day, Bought 7.926442612555485 shares for $498.49397590361446\n",
      "On the 277th day, sold 23.76462087990594 shares for $1430.8678231791366\n",
      "On the 348th day, Bought 7.634753397465262 shares for $501.2979080775691\n",
      "On the 359th day, sold 7.634753397465262 shares for $489.3876927775233\n",
      "On the 410th day, Bought 7.295010213014297 shares for $501.38605194047267\n",
      "On the 421th day, sold 7.295010213014297 shares for $491.9754887656842\n",
      "On the 451th day, Bought 7.428316743425939 shares for $499.8514336651315\n",
      "On the 452th day, Bought 6 shares for $401.34000000000003\n",
      "On the 453th day, Bought 0 shares for $0.0\n",
      "On the 454th day, Bought 0 shares for $0.0\n",
      "On the 455th day, Bought 0 shares for $0.0\n",
      "On the 474th day, sold 13.428316743425938 shares for $884.791790224335\n",
      "On the 731th day, Bought 7.022471910112359 shares for $498.2443820224719\n",
      "On the 759th day, sold 7.022471910112359 shares for $486.1657303370786\n",
      "On the 817th day, Bought 7.257947452460444 shares for $500.8709536942953\n",
      "On the 818th day, Bought 5 shares for $346.5\n",
      "On the 819th day, Bought 0 shares for $0.0\n",
      "On the 820th day, Bought 0 shares for $0.0\n",
      "On the 841th day, sold 12.257947452460444 shares for $811.5987008274059\n",
      "On the 899th day, Bought 7.7435341489855976 shares for $499.6902586340406\n",
      "On the 900th day, Bought 5 shares for $318.45\n",
      "On the 907th day, Bought 0 shares for $0.0\n",
      "On the 931th day, sold 12.743534148985598 shares for $766.268708378504\n",
      "On the 971th day, Bought 7.996161842315688 shares for $499.92003838157683\n",
      "On the 972th day, Bought 0 shares for $0.0\n",
      "On the 973th day, Bought 4 shares for $251.2\n",
      "On the 991th day, sold 11.996161842315688 shares for $748.6804605789221\n",
      "XLU Final Value: 790.4663950685898, Final Money: 790.4663950685898, Final Shares: 0.0\n"
     ]
    }
   ],
   "source": [
    "num=10000\n",
    "for file in os.listdir('../output'):\n",
    "    if \"runtest\" in file:\n",
    "        num+=1\n",
    "os.mkdir(f'../output/runtest_{num}')\n",
    "for d,(start,end,start_t,end_t) in enumerate(date_list):\n",
    "    os.mkdir(f'../output/runtest_{num}/date_config{d}')\n",
    "    for model_type in models:\n",
    "        os.mkdir(f'../output/runtest_{num}/date_config{d}/{model_type}')\n",
    "        root = f'../output/runtest_{num}/date_config{d}/{model_type}'\n",
    "        with open(os.path.join(root,'run_data.txt'),'w') as f:\n",
    "            f.write(f'Start Training Date: {start} \\n End Training Date: {end} \\n Start Sim Date: {start_t} \\n End Sim Date: {end_t} \\n')\n",
    "            f.write(f'\\n Model Type: {model_type}')\n",
    "            f.write(f'Look-back window: {T} days')\n",
    "\n",
    "        for etf in etfs:\n",
    "            os.mkdir(f'{root}/{etf}')\n",
    "        for lr in lrs:\n",
    "            results = pd.DataFrame({\"ETF\":[],\"Metric\":[],\"Final_Value\":[],\"Passive_Potential\":[],\"Relative_MSE\":[],\"MAPE\":[],\"DM_stat\":[],\"DM_p\":[]})\n",
    "            money_df_std = pd.DataFrame()\n",
    "            money_df_atr = pd.DataFrame()\n",
    "            money_df_sd_prices = pd.DataFrame()\n",
    "            money_df_passive = pd.DataFrame()\n",
    "            for j,etf in enumerate(etfs):\n",
    "                fig,ax = plt.subplots(1,len(metrics),figsize=(26,6))\n",
    "                atr_preds = []\n",
    "                for i,metric in enumerate(metrics):\n",
    "                    scaler = StandardScaler()\n",
    "                    scaler_x = StandardScaler()\n",
    "                    df = get_cleaned_df(etf,start,end)\n",
    "                    #print(df)\n",
    "                    model,fig_tr,fig_te = get_trained_model(df,scaler, scaler_x, metric=metric,model_type=model_type)\n",
    "                    fig_tr.savefig(os.path.join(root,etf,f'training_results_{metric}'))\n",
    "                    fig_te.savefig(os.path.join(root,etf,f'testing_results_{metric}'))\n",
    "                    df_test = get_cleaned_df(etf,start_t,end_t)\n",
    "                    ini_cash = 10000\n",
    "                    final_value, money, shares,passive_value,buy_points,sell_points,preds, t_money,p_money = backtest_strategy_mr(df_test,model,scaler,scaler_x,metric,sell_scale=2,buy_scale=2)\n",
    "                    print(f\"{etf} Final Value: {final_value}, Final Money: {money}, Final Shares: {shares}\")\n",
    "                    \n",
    "                    real_met = np.array(df_test[metric].iloc[T:len(df_test)-1])\n",
    "                    atr_met = np.array(df_test[\"ATR\"].iloc[T:len(df_test)-1])\n",
    "                    null_model_error = np.sum((real_met-real_met.mean())**2)\n",
    "                    mse_error = 1/len(real_met) * np.sum((real_met-preds)**2)/null_model_error\n",
    "                    mape_error = 1/len(real_met) * np.sum(abs(real_met-preds)/(real_met+1e-8))\n",
    "                    if metric==\"ATR\": #atr should go first\n",
    "                        money_df_atr[etf] = t_money\n",
    "                        atr_preds = preds\n",
    "                    elif metric==\"Squared_Returns\":\n",
    "                        money_df_std[etf] = t_money\n",
    "                        money_df_passive[f\"{etf}_Passive\"] = p_money\n",
    "                    elif metric == \"SD_Prices\":\n",
    "                        money_df_sd_prices[etf] = t_money\n",
    "\n",
    "                    dm,p = diebold_mariano_test(atr_met,atr_preds,real_met,preds,loss=\"mae\")\n",
    "                    results.loc[len(results)] = [etf,metric,final_value,passive_value,mse_error,mape_error,dm,p]\n",
    "\n",
    "                    sns.lineplot(preds,ax=ax[i],label=f\"Prediction {metric}\",color=\"Blue\")\n",
    "                    sns.lineplot(real_met,ax=ax[i],label = f\"True {metric}\",color=\"Orange\")\n",
    "                    #for buy in buy_points:\n",
    "                        #ax[i].axvline(buy,color=\"Green\",alpha=.6)\n",
    "                    #for sell in sell_points:\n",
    "                        #ax[i].axvline(sell,color=\"Red\",alpha=.6)\n",
    "                    ax[i].set_title(f\"{etf} - {metric} \")\n",
    "                    ax[i].set_xlabel(f'| Total MSE Error {mse_error:.6f} | Total MAPE Error: {mape_error:.3f} | Total DM Score: {dm:.2f},{p:.2f}\"')\n",
    "                    customize_ax(ax[i])\n",
    "                    #plt.title(f\"Performance of LSTM on {etf}\")\n",
    "                fig.supylabel(\"Volatility Metric\")\n",
    "                fig.supxlabel(f\"Days after {start_t}\")\n",
    "                fig.tight_layout()\n",
    "                fig.savefig(os.path.join(root,etf,'predictions_lr_{lr}.png'))\n",
    "                fig_sim,ax_sim = plt.subplots(figsize=(10,3))\n",
    "                sns.lineplot(x=range(0, len(df_test.index)-(T+1)), y=money_df_atr[etf], label=\"ATR\",ax=ax_sim)\n",
    "                sns.lineplot(x=range(0,len(df_test.index)-(T+1)),y=money_df_std[etf],label=\"STD\",ax=ax_sim)\n",
    "                sns.lineplot(x=range(0,len(df_test.index)-(T+1)),y=money_df_sd_prices[etf],label=\"SD_Prices\",ax=ax_sim)\n",
    "                sns.lineplot(x=range(0,len(df_test.index)-(T+1)),y=money_df_passive[f\"{etf}_Passive\"],label=\"Passive\",ax=ax_sim)\n",
    "                ax_sim.axhline(1000, label = \"Initial\",color=\"Black\")\n",
    "                ax_sim.set_xlabel(f\"Days after {start_t}\")\n",
    "                ax_sim.set_title(f\"ETF Performance Over Time for {etf}\")\n",
    "                customize_ax(ax_sim)\n",
    "                fig_sim.savefig(os.path.join(root,etf,'simulation_perf_lr_{lr}'))\n",
    "                \n",
    "            fig2,ax2 = plt.subplots(figsize = (8,6))\n",
    "            sns.barplot(data=results,x=\"ETF\",y=\"Final_Value\",hue=\"Metric\",ax=ax2)    \n",
    "            plt.legend(loc=(1.1,1))\n",
    "            fig2.tight_layout()\n",
    "            customize_ax(ax2)\n",
    "            fig2.savefig(os.path.join(root,'return_metrics_lr_{lr}.png'))\n",
    "            results.to_csv(os.path.join(root,'overall_results.csv'),index=False)"
   ]
  },
  {
   "cell_type": "code",
   "execution_count": 15,
   "id": "aa29a250",
   "metadata": {},
   "outputs": [
    {
     "data": {
      "text/plain": [
       "['get_stock_data.ipynb',\n",
       " 'predictions_lr_0.05.png',\n",
       " 'predictions_lr_0.png',\n",
       " 'sim.ipynb',\n",
       " 'predictions_lr_0.01.png',\n",
       " 'read_stock_data_from_file.py',\n",
       " 'testing.ipynb',\n",
       " 'predictions_lr_0.125.png',\n",
       " '__pycache__',\n",
       " 'full_sim_tests.ipynb',\n",
       " 'predictions.png',\n",
       " 'all_etfs_sim.png',\n",
       " 'predictions_lr_0.5.png',\n",
       " 'Clean_Data.csv',\n",
       " 'utils.py',\n",
       " 'predictions_lr_0.0.png',\n",
       " 'TSLA.csv',\n",
       " 'predictions_lr_0.1.png',\n",
       " 'SPY.csv',\n",
       " 'planning.txt',\n",
       " 'return_metrics.png',\n",
       " 'predictions_lr_0.25.png',\n",
       " 'predictions_lr_0.375.png',\n",
       " 'read_and_save_stock_data.py']"
      ]
     },
     "execution_count": 15,
     "metadata": {},
     "output_type": "execute_result"
    }
   ],
   "source": [
    "os.listdir()"
   ]
  },
  {
   "cell_type": "code",
   "execution_count": 17,
   "id": "d98e91eb",
   "metadata": {},
   "outputs": [
    {
     "name": "stdout",
     "output_type": "stream",
     "text": [
      "32 Metric\n",
      "ATR                0.830029\n",
      "Squared_Returns    0.895952\n",
      "Name: Relative_MSE, dtype: float64\n",
      "33 Metric\n",
      "ATR                0.771406\n",
      "Squared_Returns    0.628715\n",
      "Name: Relative_MSE, dtype: float64\n",
      "34 Metric\n",
      "ATR                0.799177\n",
      "Squared_Returns    0.824391\n",
      "Name: Relative_MSE, dtype: float64\n",
      "35 Metric\n",
      "ATR                0.724802\n",
      "Squared_Returns    0.823542\n",
      "Name: Relative_MSE, dtype: float64\n",
      "36 Metric\n",
      "ATR                0.794125\n",
      "Squared_Returns    0.964812\n",
      "Name: Relative_MSE, dtype: float64\n",
      "37 Metric\n",
      "ATR                0.680897\n",
      "Squared_Returns    0.544277\n",
      "Name: Relative_MSE, dtype: float64\n",
      "38 Metric\n",
      "ATR                0.751495\n",
      "Squared_Returns    0.594292\n",
      "Name: Relative_MSE, dtype: float64\n",
      "39 Metric\n",
      "ATR                0.628070\n",
      "Squared_Returns    0.565187\n",
      "Name: Relative_MSE, dtype: float64\n",
      "40 Metric\n",
      "ATR                0.751546\n",
      "Squared_Returns    0.677466\n",
      "Name: Relative_MSE, dtype: float64\n"
     ]
    }
   ],
   "source": [
    "for i in range(32,41):\n",
    "    df = pd.read_csv(f'runtest_{i}/overall_results.csv')\n",
    "    print(i,df.groupby('Metric')['Relative_MSE'].mean())"
   ]
  },
  {
   "cell_type": "code",
   "execution_count": 14,
   "id": "d2be5dc6",
   "metadata": {},
   "outputs": [
    {
     "data": {
      "text/plain": [
       "'/project/rise-portfolio/lstm-atr-prediction/stock-data'"
      ]
     },
     "execution_count": 14,
     "metadata": {},
     "output_type": "execute_result"
    }
   ],
   "source": [
    "os.getcwd()"
   ]
  },
  {
   "cell_type": "code",
   "execution_count": null,
   "id": "1056d21b",
   "metadata": {},
   "outputs": [],
   "source": []
  },
  {
   "cell_type": "code",
   "execution_count": null,
   "id": "691e3250",
   "metadata": {},
   "outputs": [],
   "source": []
  },
  {
   "cell_type": "code",
   "execution_count": null,
   "id": "af9ae0c3",
   "metadata": {},
   "outputs": [],
   "source": []
  },
  {
   "cell_type": "code",
   "execution_count": 18,
   "id": "293f7da3",
   "metadata": {},
   "outputs": [
    {
     "name": "stdout",
     "output_type": "stream",
     "text": [
      "Runtest:  runtest_105 Mean MSE over all sectors:  Metric\n",
      "ATR                0.681602\n",
      "Squared_Returns    1.110356\n",
      "Name: Relative_MSE, dtype: float64\n",
      "Runtest:  runtest_rnn_no_index Mean MSE over all sectors:  Metric\n",
      "ATR                0.577091\n",
      "Squared_Returns    0.518700\n",
      "Name: Relative_MSE, dtype: float64\n",
      "Runtest:  runtest_rnn_scaled_feats Mean MSE over all sectors:  Metric\n",
      "ATR                0.546472\n",
      "Squared_Returns    0.981297\n",
      "Name: Relative_MSE, dtype: float64\n",
      "Runtest:  runtest_104 Mean MSE over all sectors:  Metric\n",
      "ATR                0.632142\n",
      "Squared_Returns    1.119568\n",
      "Name: Relative_MSE, dtype: float64\n",
      "Runtest:  runtest_106 Mean MSE over all sectors:  Metric\n",
      "ATR                0.692127\n",
      "Squared_Returns    1.005954\n",
      "Name: Relative_MSE, dtype: float64\n"
     ]
    }
   ],
   "source": [
    "folders = [dir for dir in os.listdir() if \"runtest\" in dir]\n",
    "for folder in folders:\n",
    "    overall_results = pd.read_csv(f'./{folder}/overall_results.csv')\n",
    "    print(\"Runtest: \",folder,\"Mean MSE over all sectors: \",overall_results.groupby(\"Metric\")[\"Relative_MSE\"].mean(numeric_only=True))"
   ]
  },
  {
   "cell_type": "code",
   "execution_count": 14,
   "id": "4c594aff",
   "metadata": {},
   "outputs": [
    {
     "data": {
      "text/html": [
       "<div>\n",
       "<style scoped>\n",
       "    .dataframe tbody tr th:only-of-type {\n",
       "        vertical-align: middle;\n",
       "    }\n",
       "\n",
       "    .dataframe tbody tr th {\n",
       "        vertical-align: top;\n",
       "    }\n",
       "\n",
       "    .dataframe thead th {\n",
       "        text-align: right;\n",
       "    }\n",
       "</style>\n",
       "<table border=\"1\" class=\"dataframe\">\n",
       "  <thead>\n",
       "    <tr style=\"text-align: right;\">\n",
       "      <th></th>\n",
       "      <th>ETF</th>\n",
       "      <th>Metric</th>\n",
       "      <th>Final_Value</th>\n",
       "      <th>Passive_Potential</th>\n",
       "      <th>Relative_MSE</th>\n",
       "    </tr>\n",
       "  </thead>\n",
       "  <tbody>\n",
       "    <tr>\n",
       "      <th>0</th>\n",
       "      <td>XLB</td>\n",
       "      <td>ATR</td>\n",
       "      <td>1051.459404</td>\n",
       "      <td>1030.095425</td>\n",
       "      <td>0.986951</td>\n",
       "    </tr>\n",
       "    <tr>\n",
       "      <th>1</th>\n",
       "      <td>XLB</td>\n",
       "      <td>Squared_Returns</td>\n",
       "      <td>1000.000000</td>\n",
       "      <td>1030.095425</td>\n",
       "      <td>0.573459</td>\n",
       "    </tr>\n",
       "    <tr>\n",
       "      <th>2</th>\n",
       "      <td>XLE</td>\n",
       "      <td>ATR</td>\n",
       "      <td>861.108548</td>\n",
       "      <td>1257.954208</td>\n",
       "      <td>0.049186</td>\n",
       "    </tr>\n",
       "    <tr>\n",
       "      <th>3</th>\n",
       "      <td>XLE</td>\n",
       "      <td>Squared_Returns</td>\n",
       "      <td>854.374963</td>\n",
       "      <td>1257.954208</td>\n",
       "      <td>0.219141</td>\n",
       "    </tr>\n",
       "    <tr>\n",
       "      <th>4</th>\n",
       "      <td>XLF</td>\n",
       "      <td>ATR</td>\n",
       "      <td>837.852820</td>\n",
       "      <td>985.837923</td>\n",
       "      <td>0.074326</td>\n",
       "    </tr>\n",
       "    <tr>\n",
       "      <th>5</th>\n",
       "      <td>XLF</td>\n",
       "      <td>Squared_Returns</td>\n",
       "      <td>968.250000</td>\n",
       "      <td>985.837923</td>\n",
       "      <td>0.333424</td>\n",
       "    </tr>\n",
       "    <tr>\n",
       "      <th>6</th>\n",
       "      <td>XLI</td>\n",
       "      <td>ATR</td>\n",
       "      <td>1097.155597</td>\n",
       "      <td>1146.831530</td>\n",
       "      <td>1.298836</td>\n",
       "    </tr>\n",
       "    <tr>\n",
       "      <th>7</th>\n",
       "      <td>XLI</td>\n",
       "      <td>Squared_Returns</td>\n",
       "      <td>1000.000000</td>\n",
       "      <td>1146.831530</td>\n",
       "      <td>4.525363</td>\n",
       "    </tr>\n",
       "    <tr>\n",
       "      <th>8</th>\n",
       "      <td>XLP</td>\n",
       "      <td>ATR</td>\n",
       "      <td>966.546078</td>\n",
       "      <td>975.665810</td>\n",
       "      <td>0.566123</td>\n",
       "    </tr>\n",
       "    <tr>\n",
       "      <th>9</th>\n",
       "      <td>XLP</td>\n",
       "      <td>Squared_Returns</td>\n",
       "      <td>1000.000000</td>\n",
       "      <td>975.665810</td>\n",
       "      <td>0.406951</td>\n",
       "    </tr>\n",
       "    <tr>\n",
       "      <th>10</th>\n",
       "      <td>XLV</td>\n",
       "      <td>ATR</td>\n",
       "      <td>995.726737</td>\n",
       "      <td>1090.966074</td>\n",
       "      <td>0.582549</td>\n",
       "    </tr>\n",
       "    <tr>\n",
       "      <th>11</th>\n",
       "      <td>XLV</td>\n",
       "      <td>Squared_Returns</td>\n",
       "      <td>974.849998</td>\n",
       "      <td>1090.966074</td>\n",
       "      <td>0.901034</td>\n",
       "    </tr>\n",
       "    <tr>\n",
       "      <th>12</th>\n",
       "      <td>XLY</td>\n",
       "      <td>ATR</td>\n",
       "      <td>982.406733</td>\n",
       "      <td>994.575567</td>\n",
       "      <td>1.367507</td>\n",
       "    </tr>\n",
       "    <tr>\n",
       "      <th>13</th>\n",
       "      <td>XLY</td>\n",
       "      <td>Squared_Returns</td>\n",
       "      <td>978.749996</td>\n",
       "      <td>994.575567</td>\n",
       "      <td>0.667287</td>\n",
       "    </tr>\n",
       "    <tr>\n",
       "      <th>14</th>\n",
       "      <td>XLU</td>\n",
       "      <td>ATR</td>\n",
       "      <td>751.585052</td>\n",
       "      <td>972.176017</td>\n",
       "      <td>0.611537</td>\n",
       "    </tr>\n",
       "    <tr>\n",
       "      <th>15</th>\n",
       "      <td>XLU</td>\n",
       "      <td>Squared_Returns</td>\n",
       "      <td>998.100000</td>\n",
       "      <td>972.176017</td>\n",
       "      <td>0.420974</td>\n",
       "    </tr>\n",
       "  </tbody>\n",
       "</table>\n",
       "</div>"
      ],
      "text/plain": [
       "    ETF           Metric  Final_Value  Passive_Potential  Relative_MSE\n",
       "0   XLB              ATR  1051.459404        1030.095425      0.986951\n",
       "1   XLB  Squared_Returns  1000.000000        1030.095425      0.573459\n",
       "2   XLE              ATR   861.108548        1257.954208      0.049186\n",
       "3   XLE  Squared_Returns   854.374963        1257.954208      0.219141\n",
       "4   XLF              ATR   837.852820         985.837923      0.074326\n",
       "5   XLF  Squared_Returns   968.250000         985.837923      0.333424\n",
       "6   XLI              ATR  1097.155597        1146.831530      1.298836\n",
       "7   XLI  Squared_Returns  1000.000000        1146.831530      4.525363\n",
       "8   XLP              ATR   966.546078         975.665810      0.566123\n",
       "9   XLP  Squared_Returns  1000.000000         975.665810      0.406951\n",
       "10  XLV              ATR   995.726737        1090.966074      0.582549\n",
       "11  XLV  Squared_Returns   974.849998        1090.966074      0.901034\n",
       "12  XLY              ATR   982.406733         994.575567      1.367507\n",
       "13  XLY  Squared_Returns   978.749996         994.575567      0.667287\n",
       "14  XLU              ATR   751.585052         972.176017      0.611537\n",
       "15  XLU  Squared_Returns   998.100000         972.176017      0.420974"
      ]
     },
     "execution_count": 14,
     "metadata": {},
     "output_type": "execute_result"
    }
   ],
   "source": [
    "overall_results"
   ]
  },
  {
   "cell_type": "code",
   "execution_count": null,
   "id": "da3a0e2f",
   "metadata": {},
   "outputs": [],
   "source": []
  },
  {
   "cell_type": "code",
   "execution_count": null,
   "id": "6569d81e",
   "metadata": {},
   "outputs": [],
   "source": []
  }
 ],
 "metadata": {
  "kernelspec": {
   "display_name": "Python 3",
   "language": "python",
   "name": "python3"
  },
  "language_info": {
   "codemirror_mode": {
    "name": "ipython",
    "version": 3
   },
   "file_extension": ".py",
   "mimetype": "text/x-python",
   "name": "python",
   "nbconvert_exporter": "python",
   "pygments_lexer": "ipython3",
   "version": "3.12.4"
  }
 },
 "nbformat": 4,
 "nbformat_minor": 5
}
