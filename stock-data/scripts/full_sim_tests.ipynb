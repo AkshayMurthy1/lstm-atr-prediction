{
 "cells": [
  {
   "cell_type": "code",
   "execution_count": 1,
   "id": "f3dd4010",
   "metadata": {},
   "outputs": [],
   "source": [
    "import torch\n",
    "from torch.nn import *\n",
    "import torch.nn.functional as F\n",
    "from pandas_datareader import data as web\n",
    "import os\n",
    "import pandas as pd\n",
    "import yfinance as yf\n",
    "import matplotlib.pyplot as plt\n",
    "import seaborn as sns\n",
    "from torch.utils.data import DataLoader, TensorDataset\n",
    "from sklearn.preprocessing import StandardScaler\n",
    "import numpy as np\n",
    "import warnings\n",
    "warnings.filterwarnings(\"ignore\")\n",
    "from diebold_mariano import diebold_mariano_test"
   ]
  },
  {
   "cell_type": "code",
   "execution_count": 2,
   "id": "e1dfba1e",
   "metadata": {},
   "outputs": [
    {
     "name": "stdout",
     "output_type": "stream",
     "text": [
      "DEVICE:  cuda\n"
     ]
    }
   ],
   "source": [
    "from utils import *"
   ]
  },
  {
   "cell_type": "code",
   "execution_count": 3,
   "id": "3414ddb9",
   "metadata": {},
   "outputs": [],
   "source": [
    "T=30"
   ]
  },
  {
   "cell_type": "code",
   "execution_count": 4,
   "id": "0cff2509",
   "metadata": {},
   "outputs": [],
   "source": [
    "import os\n",
    "import seaborn as sns\n",
    "import matplotlib.pyplot as plt\n",
    "import pandas as pd\n",
    "import matplotlib\n",
    "\n",
    "# Set consistent style for publication-quality plots\n",
    "sns.set(style=\"whitegrid\", context=\"talk\", palette=\"colorblind\")\n",
    "matplotlib.rcParams.update({\n",
    "    \"axes.titlesize\": 18,\n",
    "    \"axes.labelsize\": 12,\n",
    "    \"xtick.labelsize\": 10,\n",
    "    \"ytick.labelsize\": 10,\n",
    "    \"legend.fontsize\": 10,\n",
    "    \"legend.frameon\": True,\n",
    "    \"axes.titleweight\": \"bold\"\n",
    "})\n",
    "\n",
    "def customize_ax(ax, title=None, xlabel=None, ylabel=None):\n",
    "    if title:\n",
    "        ax.set_title(title, fontsize=20, fontweight=\"bold\")\n",
    "    if xlabel:\n",
    "        ax.set_xlabel(xlabel, fontsize=12)\n",
    "    if ylabel:\n",
    "        ax.set_ylabel(ylabel, fontsize=12)\n",
    "    ax.tick_params(axis='both', which='major', labelsize=10)\n",
    "    ax.grid(False)\n",
    "    if ax.get_legend():\n",
    "        ax.legend(fontsize=10, frameon=True)\n",
    "\n",
    "# Insert your original loop code here afterward, using customize_ax() and matplotlib.rcParams updates\n",
    "# on all relevant plots to ensure publication-quality formatting.\n"
   ]
  },
  {
   "cell_type": "code",
   "execution_count": 5,
   "id": "bc47382c",
   "metadata": {},
   "outputs": [],
   "source": [
    "etfs = ['SPY','XLB','XLE','XLF','XLI','XLK','XLP','XLV','XLY','XLU']\n",
    "metric2 = \"SD_Squared_Returns\"\n",
    "metric3 = \"MAD_Returns\"\n",
    "metric4 = \"IQR\"\n",
    "metric5 = \"SD_Returns\"\n",
    "metrics = [\"ATR\",metric3,metric4,metric5]\n",
    "# start = '2001-01-01'\n",
    "# end = '2020-01-01'\n",
    "# start_t = '2022-01-02'\n",
    "# end_t = '2024-01-05'\n",
    "date_list = [['2023-01-05', '2024-01-05', \"2024-01-05\", \"2025-01-05\"], ['2019-01-05', '2024-01-05', \"2024-01-05\", \"2025-01-05\"], ['2014-01-05', \"2024-01-05\", \"2024-01-05\", \"2025-01-05\"], ['2004-01-05', '2024-01-05', \"2024-01-05\", \"2025-01-05\"], ['1994-01-05', '2024-01-05', \"2024-01-05\", \"2025-01-05\"]]\n",
    "starts,ends = np.array([(f'200{i}-01-01',f'200{i+12}-01-01') for i in range(0,12,4)]).T\n",
    "models = {}\n",
    "lrs = [0]\n",
    "h1 = 50\n",
    "h2 = 50\n",
    "hl1s = [20,50,70,100]\n",
    "hl1s = [20,50,70,100]\n",
    "models = [\"LSTM\",\"RNN\"]\n",
    "b_types = ['ATR' ,'STD']\n",
    "lr = 0\n",
    "feat_combos = [['Open','Close','High','Low','Volume','Return','Short_MA','Long_MA'],['Open','Close','High','Low','Volume'],['index','Open','Close','High','Low','Volume']]"
   ]
  },
  {
   "cell_type": "code",
   "execution_count": null,
   "id": "24786877",
   "metadata": {},
   "outputs": [
    {
     "name": "stderr",
     "output_type": "stream",
     "text": [
      "[*********************100%***********************]  1 of 1 completed\n"
     ]
    },
    {
     "name": "stdout",
     "output_type": "stream",
     "text": [
      "read  251  lines of data for ticker:  SPY\n"
     ]
    },
    {
     "name": "stderr",
     "output_type": "stream",
     "text": [
      "[*********************100%***********************]  1 of 1 completed\n"
     ]
    },
    {
     "name": "stdout",
     "output_type": "stream",
     "text": [
      "read  251  lines of data for ticker:  SPY\n",
      "On the 83th day, Bought 0.9437879874664956 shares for $500.0\n",
      "On the 128th day, sold 0.9437879874664956 shares for $523.4720072482918\n",
      "On the 179th day, Bought 0.8789508842245896 shares for $500.0\n",
      "On the 180th day, Bought 0.8805607410799197 shares for $500.0\n",
      "On the 206th day, sold 1.7595116253045093 shares for $1052.5222591409045\n",
      "On the 223th day, Bought 0.8228285554421881 shares for $500.0\n",
      "On the 224th day, Bought 0.8241848811525402 shares for $500.0\n",
      "On the 238th day, sold 1.6470134365947282 shares for $990.4150599618739\n"
     ]
    },
    {
     "name": "stderr",
     "output_type": "stream",
     "text": [
      "[*********************100%***********************]  1 of 1 completed"
     ]
    },
    {
     "name": "stdout",
     "output_type": "stream",
     "text": [
      "SPY Final Value: 1066.40932635107, Final Money: 1066.40932635107, Final Shares: 0.0\n",
      "read  251  lines of data for ticker:  SPY\n"
     ]
    },
    {
     "name": "stderr",
     "output_type": "stream",
     "text": [
      "\n",
      "[*********************100%***********************]  1 of 1 completed\n"
     ]
    },
    {
     "name": "stdout",
     "output_type": "stream",
     "text": [
      "read  251  lines of data for ticker:  SPY\n",
      "On the 85th day, Bought 0.9443762394938142 shares for $500.0\n",
      "On the 128th day, sold 0.9443762394938142 shares for $523.7982812352441\n",
      "On the 174th day, Bought 0.8771314293733774 shares for $500.0\n",
      "On the 175th day, Bought 0.8736676568233445 shares for $500.0\n",
      "On the 206th day, sold 1.750799086196722 shares for $1047.3105053720171\n"
     ]
    },
    {
     "name": "stderr",
     "output_type": "stream",
     "text": [
      "[*********************100%***********************]  1 of 1 completed"
     ]
    },
    {
     "name": "stdout",
     "output_type": "stream",
     "text": [
      "SPY Final Value: 1071.1087866072612, Final Money: 1071.1087866072612, Final Shares: 0.0\n",
      "read  251  lines of data for ticker:  SPY\n"
     ]
    },
    {
     "name": "stderr",
     "output_type": "stream",
     "text": [
      "\n",
      "[*********************100%***********************]  1 of 1 completed\n"
     ]
    },
    {
     "name": "stdout",
     "output_type": "stream",
     "text": [
      "read  251  lines of data for ticker:  SPY\n",
      "On the 30th day, Bought 0.9840969925995906 shares for $500.0\n",
      "On the 62th day, sold 0.9840969925995906 shares for $495.5223586836718\n",
      "On the 87th day, Bought 0.9409816320385426 shares for $500.0\n",
      "On the 127th day, sold 0.9409816320385426 shares for $516.5895061728395\n",
      "On the 199th day, Bought 0.8620541025154739 shares for $500.0\n",
      "On the 235th day, sold 0.8620541025154739 shares for $509.60328270202234\n"
     ]
    },
    {
     "name": "stderr",
     "output_type": "stream",
     "text": [
      "[*********************100%***********************]  1 of 1 completed"
     ]
    },
    {
     "name": "stdout",
     "output_type": "stream",
     "text": [
      "SPY Final Value: 1021.7151475585338, Final Money: 1021.7151475585338, Final Shares: 0.0\n",
      "read  251  lines of data for ticker:  SPY\n"
     ]
    },
    {
     "name": "stderr",
     "output_type": "stream",
     "text": [
      "\n",
      "[*********************100%***********************]  1 of 1 completed\n"
     ]
    },
    {
     "name": "stdout",
     "output_type": "stream",
     "text": [
      "read  251  lines of data for ticker:  SPY\n",
      "On the 82th day, Bought 0.9554748710108925 shares for $500.0\n",
      "On the 126th day, sold 0.9554748710108925 shares for $528.0527422128798\n",
      "SPY Final Value: 1028.0527422128798, Final Money: 1028.0527422128798, Final Shares: 0.0\n"
     ]
    },
    {
     "name": "stderr",
     "output_type": "stream",
     "text": [
      "[*********************100%***********************]  1 of 1 completed\n"
     ]
    },
    {
     "name": "stdout",
     "output_type": "stream",
     "text": [
      "read  251  lines of data for ticker:  XLB\n"
     ]
    },
    {
     "name": "stderr",
     "output_type": "stream",
     "text": [
      "[*********************100%***********************]  1 of 1 completed\n"
     ]
    },
    {
     "name": "stdout",
     "output_type": "stream",
     "text": [
      "read  251  lines of data for ticker:  XLB\n"
     ]
    },
    {
     "name": "stderr",
     "output_type": "stream",
     "text": [
      "[*********************100%***********************]  1 of 1 completed"
     ]
    },
    {
     "name": "stdout",
     "output_type": "stream",
     "text": [
      "XLB Final Value: 1000.0, Final Money: 1000, Final Shares: 0.0\n",
      "read  251  lines of data for ticker:  XLB\n"
     ]
    },
    {
     "name": "stderr",
     "output_type": "stream",
     "text": [
      "\n",
      "[*********************100%***********************]  1 of 1 completed\n"
     ]
    },
    {
     "name": "stdout",
     "output_type": "stream",
     "text": [
      "read  251  lines of data for ticker:  XLB\n",
      "On the 68th day, Bought 5.659950192438306 shares for $500.0\n",
      "On the 74th day, sold 5.659950192438306 shares for $501.64138555580706\n",
      "On the 104th day, Bought 5.619240278714318 shares for $500.0\n",
      "On the 105th day, Bought 5.577867023650156 shares for $500.0\n",
      "On the 127th day, sold 11.197107302364474 shares for $1008.9713390160628\n",
      "On the 184th day, Bought 5.260389268805892 shares for $500.00000000000006\n",
      "On the 225th day, Bought 5.440104450005441 shares for $500.00000000000006\n",
      "On the 226th day, Bought 0 shares for $0.0\n",
      "On the 227th day, Bought 0 shares for $0.0\n",
      "On the 228th day, Bought 0 shares for $0.0\n",
      "On the 229th day, Bought 0 shares for $0.0\n",
      "On the 230th day, Bought 0 shares for $0.0\n",
      "On the 231th day, Bought 0 shares for $0.0\n",
      "On the 232th day, Bought 0 shares for $0.0\n",
      "On the 233th day, Bought 0 shares for $0.0\n",
      "XLB Final Value: 900.7867970397846, Final Money: 10.612724571869762, Final Shares: 10.700493718811334\n"
     ]
    },
    {
     "name": "stderr",
     "output_type": "stream",
     "text": [
      "[*********************100%***********************]  1 of 1 completed\n"
     ]
    },
    {
     "name": "stdout",
     "output_type": "stream",
     "text": [
      "read  251  lines of data for ticker:  XLB\n"
     ]
    },
    {
     "name": "stderr",
     "output_type": "stream",
     "text": [
      "[*********************100%***********************]  1 of 1 completed\n"
     ]
    },
    {
     "name": "stdout",
     "output_type": "stream",
     "text": [
      "read  251  lines of data for ticker:  XLB\n",
      "On the 70th day, Bought 5.5853440571939235 shares for $500.0\n",
      "On the 74th day, sold 5.5853440571939235 shares for $495.0290437890974\n",
      "On the 104th day, Bought 5.619240278714318 shares for $500.0\n",
      "On the 139th day, sold 5.619240278714318 shares for $497.19037986064285\n"
     ]
    },
    {
     "name": "stderr",
     "output_type": "stream",
     "text": [
      "[*********************100%***********************]  1 of 1 completed"
     ]
    },
    {
     "name": "stdout",
     "output_type": "stream",
     "text": [
      "On the 231th day, Bought 5.653550429669833 shares for $500.00000000000006\n",
      "On the 232th day, Bought 4 shares for $351.8\n",
      "On the 233th day, Bought 1 shares for $85.45\n",
      "On the 234th day, Bought 0 shares for $0.0\n",
      "On the 235th day, Bought 0 shares for $0.0\n",
      "On the 236th day, Bought 0 shares for $0.0\n",
      "On the 237th day, Bought 0 shares for $0.0\n",
      "On the 242th day, sold 10.653550429669833 shares for $886.4819312528267\n",
      "XLB Final Value: 941.4513549025669, Final Money: 941.4513549025669, Final Shares: 0.0\n",
      "read  251  lines of data for ticker:  XLB\n"
     ]
    },
    {
     "name": "stderr",
     "output_type": "stream",
     "text": [
      "\n",
      "[*********************100%***********************]  1 of 1 completed\n"
     ]
    },
    {
     "name": "stdout",
     "output_type": "stream",
     "text": [
      "read  251  lines of data for ticker:  XLB\n",
      "On the 68th day, Bought 5.659950192438306 shares for $500.0\n",
      "On the 74th day, sold 5.659950192438306 shares for $501.64138555580706\n",
      "On the 104th day, Bought 5.619240278714318 shares for $500.0\n",
      "On the 105th day, Bought 5.577867023650156 shares for $500.0\n",
      "On the 128th day, sold 11.197107302364474 shares for $1012.330471206772\n",
      "On the 149th day, Bought 5.514503143266792 shares for $500.0\n",
      "On the 150th day, Bought 5.451968160505943 shares for $499.99999999999994\n",
      "On the 211th day, sold 10.966471303772735 shares for $1001.0195006083753\n",
      "On the 228th day, Bought 5.516936996579499 shares for $500.0\n",
      "On the 229th day, Bought 5.555555555555555 shares for $500.0\n",
      "On the 230th day, Bought 0 shares for $0.0\n",
      "On the 231th day, Bought 0 shares for $0.0\n",
      "On the 232th day, Bought 0 shares for $0.0\n",
      "On the 233th day, Bought 0 shares for $0.0\n",
      "On the 237th day, sold 11.072492552135055 shares for $947.0302879841113\n",
      "XLB Final Value: 962.0216453550659, Final Money: 962.0216453550659, Final Shares: 0.0\n"
     ]
    },
    {
     "name": "stderr",
     "output_type": "stream",
     "text": [
      "[*********************100%***********************]  1 of 1 completed\n"
     ]
    },
    {
     "name": "stdout",
     "output_type": "stream",
     "text": [
      "read  251  lines of data for ticker:  XLE\n"
     ]
    },
    {
     "name": "stderr",
     "output_type": "stream",
     "text": [
      "[*********************100%***********************]  1 of 1 completed\n"
     ]
    },
    {
     "name": "stdout",
     "output_type": "stream",
     "text": [
      "read  251  lines of data for ticker:  XLE\n",
      "On the 81th day, Bought 5.343022013250694 shares for $499.99999999999994\n",
      "On the 82th day, Bought 5.336179295624333 shares for $500.0\n",
      "On the 83th day, Bought 0 shares for $0.0\n",
      "On the 84th day, Bought 0 shares for $0.0\n",
      "On the 116th day, Bought 0 shares for $0.0\n",
      "On the 117th day, Bought 0 shares for $0.0\n",
      "On the 138th day, sold 10.679201308875026 shares for $923.216953152246\n"
     ]
    },
    {
     "name": "stderr",
     "output_type": "stream",
     "text": [
      "[*********************100%***********************]  1 of 1 completed"
     ]
    },
    {
     "name": "stdout",
     "output_type": "stream",
     "text": [
      "On the 242th day, Bought 5.769674590353104 shares for $500.0\n",
      "XLE Final Value: 927.8903895704321, Final Money: 423.2169531522461, Final Shares: 5.769674590353104\n",
      "read  251  lines of data for ticker:  XLE\n"
     ]
    },
    {
     "name": "stderr",
     "output_type": "stream",
     "text": [
      "\n",
      "[*********************100%***********************]  1 of 1 completed\n"
     ]
    },
    {
     "name": "stdout",
     "output_type": "stream",
     "text": [
      "read  251  lines of data for ticker:  XLE\n"
     ]
    },
    {
     "name": "stderr",
     "output_type": "stream",
     "text": [
      "[*********************100%***********************]  1 of 1 completed"
     ]
    },
    {
     "name": "stdout",
     "output_type": "stream",
     "text": [
      "On the 241th day, Bought 5.837030119075415 shares for $500.0\n",
      "XLE Final Value: 1010.5650245155266, Final Money: 500.0, Final Shares: 5.837030119075415\n",
      "read  251  lines of data for ticker:  XLE\n"
     ]
    },
    {
     "name": "stderr",
     "output_type": "stream",
     "text": [
      "\n",
      "[*********************100%***********************]  1 of 1 completed\n"
     ]
    },
    {
     "name": "stdout",
     "output_type": "stream",
     "text": [
      "read  251  lines of data for ticker:  XLE\n",
      "On the 194th day, Bought 5.567308762943993 shares for $500.0\n",
      "On the 235th day, sold 5.567308762943993 shares for $468.4333593141076\n"
     ]
    },
    {
     "name": "stderr",
     "output_type": "stream",
     "text": [
      "[*********************100%***********************]  1 of 1 completed"
     ]
    },
    {
     "name": "stdout",
     "output_type": "stream",
     "text": [
      "XLE Final Value: 968.4333593141075, Final Money: 968.4333593141075, Final Shares: 0.0\n",
      "read  251  lines of data for ticker:  XLE\n"
     ]
    },
    {
     "name": "stderr",
     "output_type": "stream",
     "text": [
      "\n",
      "[*********************100%***********************]  1 of 1 completed\n"
     ]
    },
    {
     "name": "stdout",
     "output_type": "stream",
     "text": [
      "read  251  lines of data for ticker:  XLE\n",
      "On the 81th day, Bought 5.343022013250694 shares for $499.99999999999994\n",
      "On the 82th day, Bought 5.336179295624333 shares for $500.0\n",
      "On the 97th day, sold 10.679201308875026 shares for $959.8466136416873\n",
      "XLE Final Value: 959.8466136416873, Final Money: 959.8466136416873, Final Shares: 0.0\n"
     ]
    },
    {
     "name": "stderr",
     "output_type": "stream",
     "text": [
      "[*********************100%***********************]  1 of 1 completed\n"
     ]
    },
    {
     "name": "stdout",
     "output_type": "stream",
     "text": [
      "read  251  lines of data for ticker:  XLF\n"
     ]
    },
    {
     "name": "stderr",
     "output_type": "stream",
     "text": [
      "[*********************100%***********************]  1 of 1 completed\n"
     ]
    },
    {
     "name": "stdout",
     "output_type": "stream",
     "text": [
      "read  251  lines of data for ticker:  XLF\n"
     ]
    },
    {
     "name": "stderr",
     "output_type": "stream",
     "text": [
      "[*********************100%***********************]  1 of 1 completed"
     ]
    },
    {
     "name": "stdout",
     "output_type": "stream",
     "text": [
      "XLF Final Value: 1000.0, Final Money: 1000, Final Shares: 0.0\n",
      "read  251  lines of data for ticker:  XLF\n"
     ]
    },
    {
     "name": "stderr",
     "output_type": "stream",
     "text": [
      "\n",
      "[*********************100%***********************]  1 of 1 completed\n"
     ]
    },
    {
     "name": "stdout",
     "output_type": "stream",
     "text": [
      "read  251  lines of data for ticker:  XLF\n"
     ]
    },
    {
     "name": "stderr",
     "output_type": "stream",
     "text": [
      "[*********************100%***********************]  1 of 1 completed"
     ]
    },
    {
     "name": "stdout",
     "output_type": "stream",
     "text": [
      "XLF Final Value: 1000.0, Final Money: 1000, Final Shares: 0.0\n",
      "read  251  lines of data for ticker:  XLF\n"
     ]
    },
    {
     "name": "stderr",
     "output_type": "stream",
     "text": [
      "\n",
      "[*********************100%***********************]  1 of 1 completed\n"
     ]
    },
    {
     "name": "stdout",
     "output_type": "stream",
     "text": [
      "read  251  lines of data for ticker:  XLF\n"
     ]
    },
    {
     "name": "stderr",
     "output_type": "stream",
     "text": [
      "[*********************100%***********************]  1 of 1 completed"
     ]
    },
    {
     "name": "stdout",
     "output_type": "stream",
     "text": [
      "XLF Final Value: 1000.0, Final Money: 1000, Final Shares: 0.0\n",
      "read  251  lines of data for ticker:  XLF\n"
     ]
    },
    {
     "name": "stderr",
     "output_type": "stream",
     "text": [
      "\n",
      "[*********************100%***********************]  1 of 1 completed\n"
     ]
    },
    {
     "name": "stdout",
     "output_type": "stream",
     "text": [
      "read  251  lines of data for ticker:  XLF\n",
      "On the 65th day, Bought 12.382367508667656 shares for $500.0\n",
      "On the 127th day, sold 12.382367508667656 shares for $530.5844477464091\n",
      "XLF Final Value: 1030.584447746409, Final Money: 1030.584447746409, Final Shares: 0.0\n"
     ]
    },
    {
     "name": "stderr",
     "output_type": "stream",
     "text": [
      "[*********************100%***********************]  1 of 1 completed\n"
     ]
    },
    {
     "name": "stdout",
     "output_type": "stream",
     "text": [
      "read  251  lines of data for ticker:  XLI\n"
     ]
    },
    {
     "name": "stderr",
     "output_type": "stream",
     "text": [
      "[*********************100%***********************]  1 of 1 completed\n"
     ]
    },
    {
     "name": "stdout",
     "output_type": "stream",
     "text": [
      "read  251  lines of data for ticker:  XLI\n",
      "On the 30th day, Bought 4.132231404958677 shares for $499.99999999999994\n",
      "On the 31th day, Bought 4.114549045424622 shares for $500.0\n",
      "On the 32th day, Bought 0 shares for $0.0\n",
      "On the 33th day, Bought 0 shares for $0.0\n",
      "On the 59th day, sold 8.246780450383298 shares for $1024.4975353511172\n"
     ]
    },
    {
     "name": "stderr",
     "output_type": "stream",
     "text": [
      "[*********************100%***********************]  1 of 1 completed"
     ]
    },
    {
     "name": "stdout",
     "output_type": "stream",
     "text": [
      "XLI Final Value: 1024.4975353511172, Final Money: 1024.4975353511172, Final Shares: 0.0\n",
      "read  251  lines of data for ticker:  XLI\n"
     ]
    },
    {
     "name": "stderr",
     "output_type": "stream",
     "text": [
      "\n",
      "[*********************100%***********************]  1 of 1 completed\n"
     ]
    },
    {
     "name": "stdout",
     "output_type": "stream",
     "text": [
      "read  251  lines of data for ticker:  XLI\n",
      "On the 66th day, Bought 4.119294776734224 shares for $500.00000000000006\n",
      "On the 67th day, Bought 3 shares for $369.21\n",
      "On the 73th day, sold 7.119294776734224 shares for $863.0009128357226\n",
      "On the 81th day, Bought 3.9952057530962843 shares for $500.0\n",
      "On the 82th day, Bought 2 shares for $250.24\n",
      "On the 83th day, Bought 1 shares for $125.94\n",
      "On the 95th day, sold 6.995205753096284 shares for $853.4151018777467\n",
      "On the 149th day, Bought 3.9249548630190754 shares for $500.0\n",
      "On the 150th day, Bought 2 shares for $256.32\n",
      "On the 151th day, Bought 1 shares for $128.0\n",
      "On the 152th day, Bought 0 shares for $0.0\n",
      "On the 153th day, Bought 0 shares for $0.0\n",
      "On the 154th day, Bought 0 shares for $0.0\n",
      "On the 155th day, Bought 0 shares for $0.0\n",
      "On the 206th day, sold 6.924954863019075 shares for $983.9668364863804\n"
     ]
    },
    {
     "name": "stderr",
     "output_type": "stream",
     "text": [
      "[*********************100%***********************]  1 of 1 completed"
     ]
    },
    {
     "name": "stdout",
     "output_type": "stream",
     "text": [
      "XLI Final Value: 1070.6728511998497, Final Money: 1070.6728511998497, Final Shares: 0.0\n",
      "read  251  lines of data for ticker:  XLI\n"
     ]
    },
    {
     "name": "stderr",
     "output_type": "stream",
     "text": [
      "\n",
      "[*********************100%***********************]  1 of 1 completed\n"
     ]
    },
    {
     "name": "stdout",
     "output_type": "stream",
     "text": [
      "read  251  lines of data for ticker:  XLI\n",
      "On the 78th day, Bought 4.0209087253719344 shares for $500.0\n",
      "On the 94th day, sold 4.0209087253719344 shares for $496.62243667068765\n",
      "On the 119th day, Bought 4.137702747434624 shares for $500.0\n",
      "On the 138th day, sold 4.137702747434624 shares for $499.0069513406157\n"
     ]
    },
    {
     "name": "stderr",
     "output_type": "stream",
     "text": [
      "[*********************100%***********************]  1 of 1 completed"
     ]
    },
    {
     "name": "stdout",
     "output_type": "stream",
     "text": [
      "XLI Final Value: 995.6293880113033, Final Money: 995.6293880113033, Final Shares: 0.0\n",
      "read  251  lines of data for ticker:  XLI\n"
     ]
    },
    {
     "name": "stderr",
     "output_type": "stream",
     "text": [
      "\n",
      "[*********************100%***********************]  1 of 1 completed\n"
     ]
    },
    {
     "name": "stdout",
     "output_type": "stream",
     "text": [
      "read  251  lines of data for ticker:  XLI\n",
      "On the 67th day, Bought 4.062728528479727 shares for $500.0\n",
      "On the 74th day, sold 4.062728528479727 shares for $495.3278621922484\n",
      "On the 82th day, Bought 3.99616368286445 shares for $500.0\n",
      "On the 83th day, Bought 2 shares for $251.88\n",
      "On the 84th day, Bought 1 shares for $125.19\n",
      "On the 85th day, Bought 0 shares for $0.0\n",
      "On the 96th day, sold 6.9961636828644505 shares for $851.4331202046036\n",
      "On the 151th day, Bought 3.90625 shares for $500.0\n",
      "On the 152th day, Bought 2 shares for $258.56\n",
      "On the 153th day, Bought 1 shares for $129.14\n",
      "On the 154th day, Bought 0 shares for $0.0\n",
      "On the 155th day, Bought 0 shares for $0.0\n",
      "On the 156th day, Bought 0 shares for $0.0\n",
      "On the 207th day, sold 6.90625 shares for $988.9059374999999\n",
      "XLI Final Value: 1070.8969198968518, Final Money: 1070.8969198968518, Final Shares: 0.0\n"
     ]
    },
    {
     "name": "stderr",
     "output_type": "stream",
     "text": [
      "[*********************100%***********************]  1 of 1 completed\n"
     ]
    },
    {
     "name": "stdout",
     "output_type": "stream",
     "text": [
      "read  251  lines of data for ticker:  XLK\n"
     ]
    },
    {
     "name": "stderr",
     "output_type": "stream",
     "text": [
      "[*********************100%***********************]  1 of 1 completed\n"
     ]
    },
    {
     "name": "stdout",
     "output_type": "stream",
     "text": [
      "read  251  lines of data for ticker:  XLK\n",
      "On the 82th day, Bought 2.399923202457521 shares for $500.0\n",
      "On the 85th day, Bought 1 shares for $211.82\n",
      "On the 126th day, sold 3.399923202457521 shares for $762.8747681674186\n",
      "On the 150th day, Bought 2.216508555723025 shares for $500.0\n",
      "On the 151th day, Bought 2.268705476655021 shares for $500.00000000000006\n",
      "On the 201th day, sold 4.485214032378046 shares for $1004.2842739897683\n"
     ]
    },
    {
     "name": "stderr",
     "output_type": "stream",
     "text": [
      "[*********************100%***********************]  1 of 1 completed"
     ]
    },
    {
     "name": "stdout",
     "output_type": "stream",
     "text": [
      "XLK Final Value: 1055.339042157187, Final Money: 1055.339042157187, Final Shares: 0.0\n",
      "read  251  lines of data for ticker:  XLK\n"
     ]
    },
    {
     "name": "stderr",
     "output_type": "stream",
     "text": [
      "\n",
      "[*********************100%***********************]  1 of 1 completed\n"
     ]
    },
    {
     "name": "stdout",
     "output_type": "stream",
     "text": [
      "read  251  lines of data for ticker:  XLK\n",
      "On the 120th day, Bought 2.1036687983843825 shares for $500.00000000000006\n",
      "On the 121th day, Bought 1 shares for $231.73\n",
      "On the 127th day, sold 3.1036687983843825 shares for $685.5073274991586\n",
      "On the 188th day, Bought 2.1864614308203603 shares for $500.0\n",
      "On the 197th day, Bought 1 shares for $230.22\n",
      "On the 198th day, Bought 0 shares for $0.0\n",
      "On the 199th day, Bought 0 shares for $0.0\n",
      "On the 205th day, sold 3.1864614308203603 shares for $756.5296729053699\n"
     ]
    },
    {
     "name": "stderr",
     "output_type": "stream",
     "text": [
      "[*********************100%***********************]  1 of 1 completed"
     ]
    },
    {
     "name": "stdout",
     "output_type": "stream",
     "text": [
      "XLK Final Value: 980.0870004045285, Final Money: 980.0870004045285, Final Shares: 0.0\n",
      "read  251  lines of data for ticker:  XLK\n"
     ]
    },
    {
     "name": "stderr",
     "output_type": "stream",
     "text": [
      "\n",
      "[*********************100%***********************]  1 of 1 completed\n"
     ]
    },
    {
     "name": "stdout",
     "output_type": "stream",
     "text": [
      "read  251  lines of data for ticker:  XLK\n",
      "On the 83th day, Bought 2.3470872647045016 shares for $500.0\n",
      "On the 127th day, sold 2.3470872647045016 shares for $518.4011641552833\n"
     ]
    },
    {
     "name": "stderr",
     "output_type": "stream",
     "text": [
      "[*********************100%***********************]  1 of 1 completed"
     ]
    },
    {
     "name": "stdout",
     "output_type": "stream",
     "text": [
      "XLK Final Value: 1018.4011641552833, Final Money: 1018.4011641552833, Final Shares: 0.0\n",
      "read  251  lines of data for ticker:  XLK\n"
     ]
    },
    {
     "name": "stderr",
     "output_type": "stream",
     "text": [
      "\n",
      "[*********************100%***********************]  1 of 1 completed\n"
     ]
    },
    {
     "name": "stdout",
     "output_type": "stream",
     "text": [
      "read  251  lines of data for ticker:  XLK\n",
      "On the 198th day, Bought 2.142979598834219 shares for $500.0\n",
      "On the 199th day, Bought 1 shares for $229.61\n",
      "On the 203th day, sold 3.142979598834219 shares for $713.1106411794959\n",
      "XLK Final Value: 983.5006411794959, Final Money: 983.5006411794959, Final Shares: 0.0\n"
     ]
    },
    {
     "name": "stderr",
     "output_type": "stream",
     "text": [
      "[*********************100%***********************]  1 of 1 completed\n"
     ]
    },
    {
     "name": "stdout",
     "output_type": "stream",
     "text": [
      "read  251  lines of data for ticker:  XLP\n"
     ]
    },
    {
     "name": "stderr",
     "output_type": "stream",
     "text": [
      "[*********************100%***********************]  1 of 1 completed\n"
     ]
    },
    {
     "name": "stdout",
     "output_type": "stream",
     "text": [
      "read  251  lines of data for ticker:  XLP\n",
      "On the 124th day, Bought 6.4316953949060975 shares for $500.0\n",
      "On the 136th day, sold 6.4316953949060975 shares for $505.33830717777204\n",
      "On the 202th day, Bought 6.221226825930073 shares for $500.0\n",
      "On the 203th day, Bought 6.181998021760633 shares for $500.0\n",
      "On the 204th day, Bought 0 shares for $0.0\n",
      "On the 208th day, sold 12.403224847690707 shares for $1000.0720194693016\n",
      "XLP Final Value: 1005.4103266470737, Final Money: 1005.4103266470737, Final Shares: 0.0\n"
     ]
    },
    {
     "name": "stderr",
     "output_type": "stream",
     "text": [
      "[*********************100%***********************]  1 of 1 completed\n"
     ]
    },
    {
     "name": "stdout",
     "output_type": "stream",
     "text": [
      "read  251  lines of data for ticker:  XLP\n"
     ]
    },
    {
     "name": "stderr",
     "output_type": "stream",
     "text": [
      "[*********************100%***********************]  1 of 1 completed\n"
     ]
    },
    {
     "name": "stdout",
     "output_type": "stream",
     "text": [
      "read  251  lines of data for ticker:  XLP\n",
      "On the 103th day, Bought 6.509569066527796 shares for $500.0\n",
      "On the 113th day, Bought 5 shares for $382.9\n",
      "On the 114th day, Bought 1 shares for $76.04\n",
      "On the 115th day, Bought 0 shares for $0.0\n",
      "On the 122th day, sold 12.509569066527796 shares for $968.8661242025778\n"
     ]
    },
    {
     "name": "stderr",
     "output_type": "stream",
     "text": [
      "[*********************100%***********************]  1 of 1 completed"
     ]
    },
    {
     "name": "stdout",
     "output_type": "stream",
     "text": [
      "XLP Final Value: 1009.9261242025779, Final Money: 1009.9261242025779, Final Shares: 0.0\n",
      "read  251  lines of data for ticker:  XLP\n"
     ]
    },
    {
     "name": "stderr",
     "output_type": "stream",
     "text": [
      "\n",
      "[*********************100%***********************]  1 of 1 completed\n"
     ]
    },
    {
     "name": "stdout",
     "output_type": "stream",
     "text": [
      "read  251  lines of data for ticker:  XLP\n",
      "On the 133th day, Bought 6.367804381049415 shares for $500.0\n",
      "On the 138th day, sold 6.367804381049415 shares for $494.77840040753955\n"
     ]
    },
    {
     "name": "stderr",
     "output_type": "stream",
     "text": [
      "[*********************100%***********************]  1 of 1 completed"
     ]
    },
    {
     "name": "stdout",
     "output_type": "stream",
     "text": [
      "XLP Final Value: 994.7784004075395, Final Money: 994.7784004075395, Final Shares: 0.0\n",
      "read  251  lines of data for ticker:  XLP\n"
     ]
    },
    {
     "name": "stderr",
     "output_type": "stream",
     "text": [
      "\n",
      "[*********************100%***********************]  1 of 1 completed\n"
     ]
    },
    {
     "name": "stdout",
     "output_type": "stream",
     "text": [
      "read  251  lines of data for ticker:  XLP\n",
      "On the 102th day, Bought 6.518055012384305 shares for $499.99999999999994\n",
      "On the 103th day, Bought 6.509569066527796 shares for $500.0\n",
      "On the 104th day, Bought 0 shares for $0.0\n",
      "On the 105th day, Bought 0 shares for $0.0\n",
      "On the 106th day, Bought 0 shares for $0.0\n",
      "On the 113th day, Bought 0 shares for $0.0\n",
      "On the 114th day, Bought 0 shares for $0.0\n",
      "On the 115th day, Bought 0 shares for $0.0\n",
      "On the 116th day, Bought 0 shares for $0.0\n",
      "On the 147th day, Bought 0 shares for $0.0\n",
      "On the 148th day, Bought 0 shares for $0.0\n",
      "On the 149th day, Bought 0 shares for $0.0\n",
      "On the 206th day, sold 13.027624078912101 shares for $1052.892578057676\n",
      "XLP Final Value: 1052.892578057676, Final Money: 1052.892578057676, Final Shares: 0.0\n"
     ]
    },
    {
     "name": "stderr",
     "output_type": "stream",
     "text": [
      "[*********************100%***********************]  1 of 1 completed\n"
     ]
    },
    {
     "name": "stdout",
     "output_type": "stream",
     "text": [
      "read  251  lines of data for ticker:  XLV\n"
     ]
    },
    {
     "name": "stderr",
     "output_type": "stream",
     "text": [
      "[*********************100%***********************]  1 of 1 completed\n"
     ]
    },
    {
     "name": "stdout",
     "output_type": "stream",
     "text": [
      "read  251  lines of data for ticker:  XLV\n",
      "On the 48th day, Bought 3.4300610550867803 shares for $500.0\n",
      "On the 56th day, sold 3.4300610550867803 shares for $489.6755162241887\n",
      "On the 152th day, Bought 3.21646831778707 shares for $500.0\n",
      "On the 153th day, Bought 2 shares for $310.74\n",
      "On the 154th day, Bought 1 shares for $155.61\n",
      "On the 155th day, Bought 0 shares for $0.0\n",
      "On the 156th day, Bought 0 shares for $0.0\n",
      "On the 205th day, sold 6.21646831778707 shares for $926.9375908652302\n",
      "On the 223th day, Bought 3.4073872154831673 shares for $500.0\n",
      "On the 224th day, Bought 2 shares for $290.2\n",
      "On the 225th day, Bought 1 shares for $144.28\n",
      "On the 226th day, Bought 0 shares for $0.0\n",
      "On the 227th day, Bought 0 shares for $0.0\n",
      "On the 228th day, Bought 0 shares for $0.0\n",
      "On the 229th day, Bought 0 shares for $0.0\n"
     ]
    },
    {
     "name": "stderr",
     "output_type": "stream",
     "text": [
      "[*********************100%***********************]  1 of 1 completed"
     ]
    },
    {
     "name": "stdout",
     "output_type": "stream",
     "text": [
      "XLV Final Value: 906.1536345529597, Final Money: 15.783107089418792, Final Shares: 6.407387215483167\n",
      "read  251  lines of data for ticker:  XLV\n"
     ]
    },
    {
     "name": "stderr",
     "output_type": "stream",
     "text": [
      "\n",
      "[*********************100%***********************]  1 of 1 completed\n"
     ]
    },
    {
     "name": "stdout",
     "output_type": "stream",
     "text": [
      "read  251  lines of data for ticker:  XLV\n",
      "On the 64th day, Bought 3.6119338293722456 shares for $500.0\n",
      "On the 84th day, sold 3.6119338293722456 shares for $527.450697103229\n",
      "On the 149th day, Bought 3.2379225488926306 shares for $500.0\n",
      "On the 150th day, Bought 3.2324799586242565 shares for $500.0\n",
      "On the 151th day, Bought 0 shares for $0.0\n",
      "On the 152th day, Bought 0 shares for $0.0\n",
      "On the 153th day, Bought 0 shares for $0.0\n",
      "On the 154th day, Bought 0 shares for $0.0\n",
      "On the 155th day, Bought 0 shares for $0.0\n",
      "On the 156th day, Bought 0 shares for $0.0\n",
      "On the 197th day, Bought 0 shares for $0.0\n",
      "On the 198th day, Bought 0 shares for $0.0\n",
      "On the 199th day, Bought 0 shares for $0.0\n",
      "On the 200th day, Bought 0 shares for $0.0\n",
      "On the 201th day, Bought 0 shares for $0.0\n",
      "On the 205th day, sold 6.470402507516887 shares for $964.8017178958431\n",
      "On the 221th day, Bought 3.397893306150187 shares for $500.0\n",
      "On the 222th day, Bought 2 shares for $293.64\n",
      "On the 223th day, Bought 1 shares for $146.74\n"
     ]
    },
    {
     "name": "stderr",
     "output_type": "stream",
     "text": [
      "[*********************100%***********************]  1 of 1 completed"
     ]
    },
    {
     "name": "stdout",
     "output_type": "stream",
     "text": [
      "On the 240th day, sold 6.397893306150187 shares for $878.0468773360517\n",
      "XLV Final Value: 929.9192923351238, Final Money: 929.9192923351238, Final Shares: 0.0\n",
      "read  251  lines of data for ticker:  XLV\n"
     ]
    },
    {
     "name": "stderr",
     "output_type": "stream",
     "text": [
      "\n",
      "[*********************100%***********************]  1 of 1 completed\n"
     ]
    },
    {
     "name": "stdout",
     "output_type": "stream",
     "text": [
      "read  251  lines of data for ticker:  XLV\n",
      "On the 157th day, Bought 3.180661577608143 shares for $500.0\n",
      "On the 158th day, Bought 3.1867431485022304 shares for $499.99999999999994\n",
      "On the 187th day, sold 6.367404726110373 shares for $985.2922073183192\n",
      "On the 228th day, Bought 3.517658646404953 shares for $500.0\n",
      "On the 229th day, Bought 2 shares for $282.02\n",
      "On the 230th day, Bought 1 shares for $140.99\n",
      "On the 231th day, Bought 0 shares for $0.0\n"
     ]
    },
    {
     "name": "stderr",
     "output_type": "stream",
     "text": [
      "[*********************100%***********************]  1 of 1 completed"
     ]
    },
    {
     "name": "stdout",
     "output_type": "stream",
     "text": [
      "XLV Final Value: 967.9760528227516, Final Money: 62.28220731831925, Final Shares: 6.5176586464049535\n",
      "read  251  lines of data for ticker:  XLV\n"
     ]
    },
    {
     "name": "stderr",
     "output_type": "stream",
     "text": [
      "\n",
      "[*********************100%***********************]  1 of 1 completed\n"
     ]
    },
    {
     "name": "stdout",
     "output_type": "stream",
     "text": [
      "read  251  lines of data for ticker:  XLV\n",
      "On the 76th day, Bought 3.536067892503536 shares for $500.0\n",
      "On the 122th day, sold 3.536067892503536 shares for $524.2927864214993\n",
      "On the 155th day, Bought 3.2094486167276464 shares for $500.0\n",
      "On the 156th day, Bought 3.2026646169613118 shares for $500.0\n",
      "On the 157th day, Bought 0 shares for $0.0\n",
      "On the 191th day, sold 6.412113233688958 shares for $981.8868994747901\n",
      "On the 199th day, Bought 3.3756413718606533 shares for $500.0\n",
      "On the 200th day, Bought 3.404371212637026 shares for $500.0\n",
      "On the 201th day, Bought 0 shares for $0.0\n",
      "On the 202th day, Bought 0 shares for $0.0\n",
      "On the 217th day, sold 6.78001258449768 shares for $985.7460296601175\n",
      "XLV Final Value: 991.925715556407, Final Money: 991.925715556407, Final Shares: 0.0\n"
     ]
    },
    {
     "name": "stderr",
     "output_type": "stream",
     "text": [
      "[*********************100%***********************]  1 of 1 completed\n"
     ]
    },
    {
     "name": "stdout",
     "output_type": "stream",
     "text": [
      "read  251  lines of data for ticker:  XLY\n"
     ]
    },
    {
     "name": "stderr",
     "output_type": "stream",
     "text": [
      "[*********************100%***********************]  1 of 1 completed\n"
     ]
    },
    {
     "name": "stdout",
     "output_type": "stream",
     "text": [
      "read  251  lines of data for ticker:  XLY\n",
      "On the 81th day, Bought 2.811041772080733 shares for $500.0\n",
      "On the 82th day, Bought 1 shares for $178.68\n",
      "On the 83th day, Bought 1 shares for $178.95\n",
      "On the 84th day, Bought 0 shares for $0.0\n",
      "On the 85th day, Bought 0 shares for $0.0\n",
      "On the 125th day, sold 4.811041772080733 shares for $921.0739472648563\n",
      "On the 151th day, Bought 2.7128207910585425 shares for $499.99999999999994\n",
      "On the 152th day, Bought 2.661414808111992 shares for $500.0\n",
      "On the 201th day, sold 5.374235599170534 shares for $1075.3308010380322\n"
     ]
    },
    {
     "name": "stderr",
     "output_type": "stream",
     "text": [
      "[*********************100%***********************]  1 of 1 completed"
     ]
    },
    {
     "name": "stdout",
     "output_type": "stream",
     "text": [
      "XLY Final Value: 1138.7747483028886, Final Money: 1138.7747483028886, Final Shares: 0.0\n",
      "read  251  lines of data for ticker:  XLY\n"
     ]
    },
    {
     "name": "stderr",
     "output_type": "stream",
     "text": [
      "\n",
      "[*********************100%***********************]  1 of 1 completed\n"
     ]
    },
    {
     "name": "stdout",
     "output_type": "stream",
     "text": [
      "read  251  lines of data for ticker:  XLY\n",
      "On the 82th day, Bought 2.7982986344302665 shares for $500.00000000000006\n",
      "On the 84th day, Bought 1 shares for $177.79\n",
      "On the 85th day, Bought 1 shares for $178.7\n",
      "On the 131th day, sold 4.7982986344302665 shares for $866.5247503917618\n",
      "On the 154th day, Bought 2.689328743545611 shares for $499.99999999999994\n",
      "On the 170th day, Bought 2.536268641574516 shares for $500.00000000000006\n",
      "On the 171th day, Bought 0 shares for $0.0\n",
      "On the 216th day, Bought 0 shares for $0.0\n",
      "On the 217th day, Bought 0 shares for $0.0\n",
      "On the 218th day, Bought 0 shares for $0.0\n",
      "On the 219th day, Bought 0 shares for $0.0\n",
      "On the 220th day, Bought 0 shares for $0.0\n",
      "XLY Final Value: 1190.392687742696, Final Money: 10.03475039176169, Final Shares: 5.2255973851201265\n"
     ]
    },
    {
     "name": "stderr",
     "output_type": "stream",
     "text": [
      "[*********************100%***********************]  1 of 1 completed\n"
     ]
    },
    {
     "name": "stdout",
     "output_type": "stream",
     "text": [
      "read  251  lines of data for ticker:  XLY\n"
     ]
    },
    {
     "name": "stderr",
     "output_type": "stream",
     "text": [
      "[*********************100%***********************]  1 of 1 completed\n"
     ]
    },
    {
     "name": "stdout",
     "output_type": "stream",
     "text": [
      "read  251  lines of data for ticker:  XLY\n",
      "On the 122th day, Bought 2.6111024074364195 shares for $500.0\n",
      "On the 123th day, Bought 0 shares for $0.0\n",
      "On the 137th day, sold 2.6111024074364195 shares for $459.97180009399966\n",
      "On the 169th day, Bought 2.594033722438392 shares for $500.0\n",
      "On the 170th day, Bought 1 shares for $197.14\n",
      "On the 171th day, Bought 1 shares for $196.69\n",
      "On the 172th day, Bought 0 shares for $0.0\n",
      "On the 173th day, Bought 0 shares for $0.0\n",
      "On the 213th day, sold 4.594033722438391 shares for $990.335849546044\n",
      "XLY Final Value: 1056.4776496400436, Final Money: 1056.4776496400436, Final Shares: 0.0\n"
     ]
    },
    {
     "name": "stderr",
     "output_type": "stream",
     "text": [
      "[*********************100%***********************]  1 of 1 completed\n"
     ]
    },
    {
     "name": "stdout",
     "output_type": "stream",
     "text": [
      "read  251  lines of data for ticker:  XLY\n"
     ]
    },
    {
     "name": "stderr",
     "output_type": "stream",
     "text": [
      "[*********************100%***********************]  1 of 1 completed\n"
     ]
    },
    {
     "name": "stdout",
     "output_type": "stream",
     "text": [
      "read  251  lines of data for ticker:  XLY\n",
      "On the 81th day, Bought 2.811041772080733 shares for $500.0\n",
      "On the 82th day, Bought 1 shares for $178.68\n",
      "On the 83th day, Bought 1 shares for $178.95\n",
      "On the 84th day, Bought 0 shares for $0.0\n",
      "On the 85th day, Bought 0 shares for $0.0\n",
      "On the 128th day, sold 4.811041772080733 shares for $913.5206116826896\n",
      "On the 170th day, Bought 2.536268641574516 shares for $500.00000000000006\n",
      "On the 171th day, Bought 2.5420712796786824 shares for $500.00000000000006\n",
      "On the 196th day, sold 5.078339921253198 shares for $1019.7814395868547\n",
      "On the 216th day, Bought 2.2925263640531868 shares for $500.0\n",
      "On the 234th day, sold 2.2925263640531868 shares for $523.4525447042641\n",
      "XLY Final Value: 1099.1245959738085, Final Money: 1099.1245959738085, Final Shares: 0.0\n"
     ]
    },
    {
     "name": "stderr",
     "output_type": "stream",
     "text": [
      "[*********************100%***********************]  1 of 1 completed\n"
     ]
    },
    {
     "name": "stdout",
     "output_type": "stream",
     "text": [
      "read  251  lines of data for ticker:  XLU\n"
     ]
    },
    {
     "name": "stderr",
     "output_type": "stream",
     "text": [
      "[*********************100%***********************]  1 of 1 completed\n"
     ]
    },
    {
     "name": "stdout",
     "output_type": "stream",
     "text": [
      "read  251  lines of data for ticker:  XLU\n",
      "On the 88th day, Bought 6.943480072212192 shares for $500.0\n",
      "On the 137th day, sold 6.943480072212192 shares for $515.3450909595889\n"
     ]
    },
    {
     "name": "stderr",
     "output_type": "stream",
     "text": [
      "[*********************100%***********************]  1 of 1 completed"
     ]
    },
    {
     "name": "stdout",
     "output_type": "stream",
     "text": [
      "XLU Final Value: 1015.3450909595889, Final Money: 1015.3450909595889, Final Shares: 0.0\n",
      "read  251  lines of data for ticker:  XLU\n"
     ]
    },
    {
     "name": "stderr",
     "output_type": "stream",
     "text": [
      "\n",
      "[*********************100%***********************]  1 of 1 completed\n"
     ]
    },
    {
     "name": "stdout",
     "output_type": "stream",
     "text": [
      "read  251  lines of data for ticker:  XLU\n",
      "On the 37th day, Bought 7.803964413922273 shares for $500.0\n",
      "On the 67th day, sold 7.803964413922273 shares for $517.7149992196037\n"
     ]
    },
    {
     "name": "stderr",
     "output_type": "stream",
     "text": [
      "[*********************100%***********************]  1 of 1 completed"
     ]
    },
    {
     "name": "stdout",
     "output_type": "stream",
     "text": [
      "XLU Final Value: 1017.7149992196037, Final Money: 1017.7149992196037, Final Shares: 0.0\n",
      "read  251  lines of data for ticker:  XLU\n"
     ]
    },
    {
     "name": "stderr",
     "output_type": "stream",
     "text": [
      "\n",
      "[*********************100%***********************]  1 of 1 completed\n"
     ]
    },
    {
     "name": "stdout",
     "output_type": "stream",
     "text": [
      "read  251  lines of data for ticker:  XLU\n",
      "On the 48th day, Bought 7.882705344474224 shares for $500.0\n",
      "On the 66th day, sold 7.882705344474224 shares for $520.495033895633\n",
      "On the 141th day, Bought 6.815703380588877 shares for $500.0\n",
      "On the 143th day, Bought 6.780580417683754 shares for $500.0\n",
      "On the 144th day, Bought 0 shares for $0.0\n",
      "On the 145th day, Bought 0 shares for $0.0\n",
      "On the 146th day, Bought 0 shares for $0.0\n",
      "On the 172th day, sold 13.59628379827263 shares for $1092.1894775152402\n"
     ]
    },
    {
     "name": "stderr",
     "output_type": "stream",
     "text": [
      "[*********************100%***********************]  1 of 1 completed"
     ]
    },
    {
     "name": "stdout",
     "output_type": "stream",
     "text": [
      "XLU Final Value: 1112.6845114108733, Final Money: 1112.6845114108733, Final Shares: 0.0\n",
      "read  251  lines of data for ticker:  XLU\n"
     ]
    },
    {
     "name": "stderr",
     "output_type": "stream",
     "text": [
      "\n",
      "[*********************100%***********************]  1 of 1 completed\n"
     ]
    },
    {
     "name": "stdout",
     "output_type": "stream",
     "text": [
      "read  251  lines of data for ticker:  XLU\n",
      "On the 37th day, Bought 7.803964413922273 shares for $500.0\n",
      "On the 124th day, sold 7.803964413922273 shares for $546.8237864835336\n",
      "On the 181th day, Bought 6.149305128520477 shares for $500.0\n",
      "On the 201th day, sold 6.149305128520477 shares for $480.44520969130485\n",
      "On the 210th day, Bought 6.403688524590164 shares for $500.0\n",
      "On the 211th day, Bought 6.309148264984227 shares for $500.0\n",
      "On the 212th day, Bought 0 shares for $0.0\n",
      "On the 229th day, Bought 0 shares for $0.0\n",
      "On the 236th day, sold 12.712836789574391 shares for $966.9383662150282\n",
      "On the 242th day, Bought 6.555657532450505 shares for $500.0\n",
      "XLU Final Value: 999.5174449911517, Final Money: 494.2073623898667, Final Shares: 6.555657532450505\n"
     ]
    },
    {
     "name": "stderr",
     "output_type": "stream",
     "text": [
      "[*********************100%***********************]  1 of 1 completed\n"
     ]
    },
    {
     "name": "stdout",
     "output_type": "stream",
     "text": [
      "read  251  lines of data for ticker:  SPY\n"
     ]
    },
    {
     "name": "stderr",
     "output_type": "stream",
     "text": [
      "[*********************100%***********************]  1 of 1 completed\n"
     ]
    },
    {
     "name": "stdout",
     "output_type": "stream",
     "text": [
      "read  251  lines of data for ticker:  SPY\n",
      "On the 83th day, Bought 0.9437879874664956 shares for $500.0\n",
      "On the 127th day, sold 0.9437879874664956 shares for $518.1301672392315\n"
     ]
    },
    {
     "name": "stderr",
     "output_type": "stream",
     "text": [
      "[*********************100%***********************]  1 of 1 completed"
     ]
    },
    {
     "name": "stdout",
     "output_type": "stream",
     "text": [
      "On the 224th day, Bought 0.8241848811525402 shares for $500.0\n",
      "On the 225th day, Bought 0.8226254915187312 shares for $500.0\n",
      "On the 235th day, sold 1.6468103726712715 shares for $973.5119518046221\n",
      "SPY Final Value: 991.6421190438535, Final Money: 991.6421190438535, Final Shares: 0.0\n"
     ]
    },
    {
     "name": "stderr",
     "output_type": "stream",
     "text": [
      "\n"
     ]
    },
    {
     "name": "stdout",
     "output_type": "stream",
     "text": [
      "read  251  lines of data for ticker:  SPY\n"
     ]
    },
    {
     "name": "stderr",
     "output_type": "stream",
     "text": [
      "[*********************100%***********************]  1 of 1 completed\n"
     ]
    },
    {
     "name": "stdout",
     "output_type": "stream",
     "text": [
      "read  251  lines of data for ticker:  SPY\n",
      "On the 83th day, Bought 0.9437879874664956 shares for $500.0\n",
      "On the 126th day, sold 0.9437879874664956 shares for $521.5938691532334\n",
      "On the 197th day, Bought 0.8608370779746225 shares for $500.0\n",
      "On the 204th day, sold 0.8608370779746225 shares for $508.78914656612085\n"
     ]
    },
    {
     "name": "stderr",
     "output_type": "stream",
     "text": [
      "[*********************100%***********************]  1 of 1 completed"
     ]
    },
    {
     "name": "stdout",
     "output_type": "stream",
     "text": [
      "SPY Final Value: 1030.3830157193543, Final Money: 1030.3830157193543, Final Shares: 0.0\n",
      "read  251  lines of data for ticker:  SPY\n"
     ]
    },
    {
     "name": "stderr",
     "output_type": "stream",
     "text": [
      "\n",
      "[*********************100%***********************]  1 of 1 completed\n"
     ]
    },
    {
     "name": "stdout",
     "output_type": "stream",
     "text": [
      "read  251  lines of data for ticker:  SPY\n",
      "On the 87th day, Bought 0.9409816320385426 shares for $500.0\n",
      "On the 126th day, sold 0.9409816320385426 shares for $520.0429087624209\n",
      "On the 197th day, Bought 0.8608370779746225 shares for $500.0\n",
      "On the 218th day, Bought 0.8324315325064514 shares for $500.0\n",
      "On the 235th day, sold 1.693268610481074 shares for $1000.9757390858869\n",
      "SPY Final Value: 1021.0186478483078, Final Money: 1021.0186478483078, Final Shares: 0.0\n"
     ]
    },
    {
     "name": "stderr",
     "output_type": "stream",
     "text": [
      "[*********************100%***********************]  1 of 1 completed\n"
     ]
    },
    {
     "name": "stdout",
     "output_type": "stream",
     "text": [
      "read  251  lines of data for ticker:  SPY\n"
     ]
    },
    {
     "name": "stderr",
     "output_type": "stream",
     "text": [
      "[*********************100%***********************]  1 of 1 completed\n"
     ]
    },
    {
     "name": "stdout",
     "output_type": "stream",
     "text": [
      "read  251  lines of data for ticker:  SPY\n",
      "On the 81th day, Bought 0.959858708798065 shares for $500.0\n",
      "On the 126th day, sold 0.959858708798065 shares for $530.4755140043386\n",
      "SPY Final Value: 1030.4755140043385, Final Money: 1030.4755140043385, Final Shares: 0.0\n"
     ]
    },
    {
     "name": "stderr",
     "output_type": "stream",
     "text": [
      "[*********************100%***********************]  1 of 1 completed\n"
     ]
    },
    {
     "name": "stdout",
     "output_type": "stream",
     "text": [
      "read  251  lines of data for ticker:  XLB\n"
     ]
    },
    {
     "name": "stderr",
     "output_type": "stream",
     "text": [
      "[*********************100%***********************]  1 of 1 completed\n"
     ]
    },
    {
     "name": "stdout",
     "output_type": "stream",
     "text": [
      "read  251  lines of data for ticker:  XLB\n",
      "On the 84th day, Bought 5.472255663784612 shares for $500.0\n",
      "On the 85th day, Bought 4 shares for $368.6\n",
      "On the 86th day, Bought 1 shares for $92.28\n",
      "On the 133th day, sold 10.472255663784612 shares for $958.106670679654\n"
     ]
    },
    {
     "name": "stderr",
     "output_type": "stream",
     "text": [
      "[*********************100%***********************]  1 of 1 completed"
     ]
    },
    {
     "name": "stdout",
     "output_type": "stream",
     "text": [
      "XLB Final Value: 997.226670679654, Final Money: 997.226670679654, Final Shares: 0.0\n",
      "read  251  lines of data for ticker:  XLB\n"
     ]
    },
    {
     "name": "stderr",
     "output_type": "stream",
     "text": [
      "\n",
      "[*********************100%***********************]  1 of 1 completed\n"
     ]
    },
    {
     "name": "stdout",
     "output_type": "stream",
     "text": [
      "read  251  lines of data for ticker:  XLB\n",
      "On the 70th day, Bought 5.5853440571939235 shares for $500.0\n",
      "On the 74th day, sold 5.5853440571939235 shares for $495.0290437890974\n",
      "On the 184th day, Bought 5.260389268805892 shares for $500.00000000000006\n",
      "On the 229th day, Bought 4 shares for $360.0\n",
      "On the 230th day, Bought 1 shares for $89.23\n",
      "On the 231th day, Bought 0 shares for $0.0\n",
      "On the 232th day, Bought 0 shares for $0.0\n",
      "On the 233th day, Bought 0 shares for $0.0\n",
      "On the 237th day, sold 10.260389268805891 shares for $877.5710941609678\n"
     ]
    },
    {
     "name": "stderr",
     "output_type": "stream",
     "text": [
      "[*********************100%***********************]  1 of 1 completed"
     ]
    },
    {
     "name": "stdout",
     "output_type": "stream",
     "text": [
      "XLB Final Value: 923.3701379500652, Final Money: 923.3701379500652, Final Shares: 0.0\n",
      "read  251  lines of data for ticker:  XLB\n"
     ]
    },
    {
     "name": "stderr",
     "output_type": "stream",
     "text": [
      "\n",
      "[*********************100%***********************]  1 of 1 completed\n"
     ]
    },
    {
     "name": "stdout",
     "output_type": "stream",
     "text": [
      "read  251  lines of data for ticker:  XLB\n",
      "On the 184th day, Bought 5.260389268805892 shares for $500.00000000000006\n",
      "On the 232th day, Bought 4 shares for $351.8\n",
      "On the 234th day, Bought 1 shares for $84.53\n",
      "On the 238th day, sold 10.260389268805891 shares for $876.2372435560231\n"
     ]
    },
    {
     "name": "stderr",
     "output_type": "stream",
     "text": [
      "[*********************100%***********************]  1 of 1 completed"
     ]
    },
    {
     "name": "stdout",
     "output_type": "stream",
     "text": [
      "XLB Final Value: 939.9072435560231, Final Money: 939.9072435560231, Final Shares: 0.0\n",
      "read  251  lines of data for ticker:  XLB\n"
     ]
    },
    {
     "name": "stderr",
     "output_type": "stream",
     "text": [
      "\n",
      "[*********************100%***********************]  1 of 1 completed\n"
     ]
    },
    {
     "name": "stdout",
     "output_type": "stream",
     "text": [
      "read  251  lines of data for ticker:  XLB\n",
      "On the 69th day, Bought 5.619871866921434 shares for $500.0\n",
      "On the 74th day, sold 5.619871866921434 shares for $498.08924356524665\n",
      "On the 149th day, Bought 5.514503143266792 shares for $500.0\n",
      "On the 150th day, Bought 4 shares for $366.84\n",
      "On the 226th day, Bought 1 shares for $91.89\n",
      "On the 227th day, Bought 0 shares for $0.0\n",
      "On the 228th day, Bought 0 shares for $0.0\n",
      "On the 229th day, Bought 0 shares for $0.0\n",
      "On the 230th day, Bought 0 shares for $0.0\n",
      "On the 231th day, Bought 0 shares for $0.0\n",
      "On the 232th day, Bought 0 shares for $0.0\n",
      "On the 233th day, Bought 0 shares for $0.0\n",
      "On the 236th day, sold 10.514503143266792 shares for $894.4687823977059\n",
      "XLB Final Value: 933.8280259629526, Final Money: 933.8280259629526, Final Shares: 0.0\n"
     ]
    },
    {
     "name": "stderr",
     "output_type": "stream",
     "text": [
      "[*********************100%***********************]  1 of 1 completed\n"
     ]
    },
    {
     "name": "stdout",
     "output_type": "stream",
     "text": [
      "read  251  lines of data for ticker:  XLE\n"
     ]
    },
    {
     "name": "stderr",
     "output_type": "stream",
     "text": [
      "[*********************100%***********************]  1 of 1 completed\n"
     ]
    },
    {
     "name": "stdout",
     "output_type": "stream",
     "text": [
      "read  251  lines of data for ticker:  XLE\n",
      "On the 38th day, Bought 5.621767483696875 shares for $500.0\n",
      "On the 60th day, sold 5.621767483696875 shares for $540.4205082077806\n",
      "On the 193th day, Bought 5.538325210456358 shares for $500.0\n",
      "On the 194th day, Bought 5.567308762943993 shares for $500.0\n",
      "On the 195th day, Bought 0 shares for $0.0\n",
      "On the 196th day, Bought 0 shares for $0.0\n",
      "On the 197th day, Bought 0 shares for $0.0\n",
      "On the 236th day, sold 11.105633973400352 shares for $932.0958593874916\n"
     ]
    },
    {
     "name": "stderr",
     "output_type": "stream",
     "text": [
      "[*********************100%***********************]  1 of 1 completed"
     ]
    },
    {
     "name": "stdout",
     "output_type": "stream",
     "text": [
      "XLE Final Value: 972.5163675952722, Final Money: 972.5163675952722, Final Shares: 0.0\n",
      "read  251  lines of data for ticker:  XLE\n"
     ]
    },
    {
     "name": "stderr",
     "output_type": "stream",
     "text": [
      "\n",
      "[*********************100%***********************]  1 of 1 completed\n"
     ]
    },
    {
     "name": "stdout",
     "output_type": "stream",
     "text": [
      "read  251  lines of data for ticker:  XLE\n"
     ]
    },
    {
     "name": "stderr",
     "output_type": "stream",
     "text": [
      "[*********************100%***********************]  1 of 1 completed"
     ]
    },
    {
     "name": "stdout",
     "output_type": "stream",
     "text": [
      "XLE Final Value: 1000.0, Final Money: 1000, Final Shares: 0.0\n",
      "read  251  lines of data for ticker:  XLE\n"
     ]
    },
    {
     "name": "stderr",
     "output_type": "stream",
     "text": [
      "\n",
      "[*********************100%***********************]  1 of 1 completed\n"
     ]
    },
    {
     "name": "stdout",
     "output_type": "stream",
     "text": [
      "read  251  lines of data for ticker:  XLE\n",
      "On the 187th day, Bought 5.389673385792821 shares for $500.0\n",
      "On the 236th day, sold 5.389673385792821 shares for $452.3552872695915\n"
     ]
    },
    {
     "name": "stderr",
     "output_type": "stream",
     "text": [
      "[*********************100%***********************]  1 of 1 completed"
     ]
    },
    {
     "name": "stdout",
     "output_type": "stream",
     "text": [
      "XLE Final Value: 952.3552872695915, Final Money: 952.3552872695915, Final Shares: 0.0\n",
      "read  251  lines of data for ticker:  XLE\n"
     ]
    },
    {
     "name": "stderr",
     "output_type": "stream",
     "text": [
      "\n",
      "[*********************100%***********************]  1 of 1 completed\n"
     ]
    },
    {
     "name": "stdout",
     "output_type": "stream",
     "text": [
      "read  251  lines of data for ticker:  XLE\n",
      "On the 197th day, Bought 5.605381165919282 shares for $500.0\n",
      "On the 198th day, Bought 4 shares for $351.36\n",
      "On the 236th day, sold 9.605381165919283 shares for $806.1796412556055\n",
      "XLE Final Value: 954.8196412556055, Final Money: 954.8196412556055, Final Shares: 0.0\n"
     ]
    },
    {
     "name": "stderr",
     "output_type": "stream",
     "text": [
      "[*********************100%***********************]  1 of 1 completed\n"
     ]
    },
    {
     "name": "stdout",
     "output_type": "stream",
     "text": [
      "read  251  lines of data for ticker:  XLF\n"
     ]
    },
    {
     "name": "stderr",
     "output_type": "stream",
     "text": [
      "[*********************100%***********************]  1 of 1 completed\n"
     ]
    },
    {
     "name": "stdout",
     "output_type": "stream",
     "text": [
      "read  251  lines of data for ticker:  XLF\n",
      "On the 119th day, Bought 11.976047904191617 shares for $500.0\n",
      "On the 127th day, sold 11.976047904191617 shares for $513.1736526946108\n"
     ]
    },
    {
     "name": "stderr",
     "output_type": "stream",
     "text": [
      "[*********************100%***********************]  1 of 1 completed"
     ]
    },
    {
     "name": "stdout",
     "output_type": "stream",
     "text": [
      "XLF Final Value: 1013.1736526946108, Final Money: 1013.1736526946108, Final Shares: 0.0\n",
      "read  251  lines of data for ticker:  XLF\n"
     ]
    },
    {
     "name": "stderr",
     "output_type": "stream",
     "text": [
      "\n",
      "[*********************100%***********************]  1 of 1 completed\n"
     ]
    },
    {
     "name": "stdout",
     "output_type": "stream",
     "text": [
      "read  251  lines of data for ticker:  XLF\n",
      "On the 75th day, Bought 12.330456226880395 shares for $500.0\n",
      "On the 128th day, sold 12.330456226880395 shares for $531.3193588162762\n",
      "On the 195th day, Bought 10.604453870625663 shares for $500.0\n",
      "On the 196th day, Bought 10.72271070126528 shares for $500.0\n",
      "On the 204th day, sold 21.327164571890943 shares for $1056.7610045371962\n"
     ]
    },
    {
     "name": "stderr",
     "output_type": "stream",
     "text": [
      "[*********************100%***********************]  1 of 1 completed"
     ]
    },
    {
     "name": "stdout",
     "output_type": "stream",
     "text": [
      "XLF Final Value: 1088.0803633534724, Final Money: 1088.0803633534724, Final Shares: 0.0\n",
      "read  251  lines of data for ticker:  XLF\n"
     ]
    },
    {
     "name": "stderr",
     "output_type": "stream",
     "text": [
      "\n",
      "[*********************100%***********************]  1 of 1 completed\n"
     ]
    },
    {
     "name": "stdout",
     "output_type": "stream",
     "text": [
      "read  251  lines of data for ticker:  XLF\n",
      "On the 75th day, Bought 12.330456226880395 shares for $500.0\n",
      "On the 92th day, sold 12.330456226880395 shares for $503.32922318125776\n",
      "On the 195th day, Bought 10.604453870625663 shares for $500.0\n",
      "On the 196th day, Bought 10.72271070126528 shares for $500.0\n",
      "On the 204th day, sold 21.327164571890943 shares for $1056.7610045371962\n"
     ]
    },
    {
     "name": "stderr",
     "output_type": "stream",
     "text": [
      "[*********************100%***********************]  1 of 1 completed"
     ]
    },
    {
     "name": "stdout",
     "output_type": "stream",
     "text": [
      "XLF Final Value: 1060.090227718454, Final Money: 1060.090227718454, Final Shares: 0.0\n",
      "read  251  lines of data for ticker:  XLF\n"
     ]
    },
    {
     "name": "stderr",
     "output_type": "stream",
     "text": [
      "\n",
      "[*********************100%***********************]  1 of 1 completed\n"
     ]
    },
    {
     "name": "stdout",
     "output_type": "stream",
     "text": [
      "read  251  lines of data for ticker:  XLF\n",
      "On the 76th day, Bought 12.174336498660823 shares for $500.0\n",
      "On the 128th day, sold 12.174336498660823 shares for $524.5921597272949\n",
      "XLF Final Value: 1024.592159727295, Final Money: 1024.592159727295, Final Shares: 0.0\n"
     ]
    },
    {
     "name": "stderr",
     "output_type": "stream",
     "text": [
      "[*********************100%***********************]  1 of 1 completed\n"
     ]
    },
    {
     "name": "stdout",
     "output_type": "stream",
     "text": [
      "read  251  lines of data for ticker:  XLI\n"
     ]
    },
    {
     "name": "stderr",
     "output_type": "stream",
     "text": [
      "[*********************100%***********************]  1 of 1 completed\n"
     ]
    },
    {
     "name": "stdout",
     "output_type": "stream",
     "text": [
      "read  251  lines of data for ticker:  XLI\n",
      "On the 30th day, Bought 4.132231404958677 shares for $499.99999999999994\n",
      "On the 31th day, Bought 4.114549045424622 shares for $500.0\n",
      "On the 58th day, sold 8.246780450383298 shares for $1023.3429860880635\n",
      "On the 85th day, Bought 3.989467804994814 shares for $500.0\n",
      "On the 86th day, Bought 3.9818427968463808 shares for $500.0\n",
      "On the 130th day, sold 7.9713106018411946 shares for $981.9857530408167\n"
     ]
    },
    {
     "name": "stderr",
     "output_type": "stream",
     "text": [
      "[*********************100%***********************]  1 of 1 completed"
     ]
    },
    {
     "name": "stdout",
     "output_type": "stream",
     "text": [
      "XLI Final Value: 1005.3287391288802, Final Money: 1005.3287391288802, Final Shares: 0.0\n",
      "read  251  lines of data for ticker:  XLI\n"
     ]
    },
    {
     "name": "stderr",
     "output_type": "stream",
     "text": [
      "\n",
      "[*********************100%***********************]  1 of 1 completed\n"
     ]
    },
    {
     "name": "stdout",
     "output_type": "stream",
     "text": [
      "read  251  lines of data for ticker:  XLI\n",
      "On the 66th day, Bought 4.119294776734224 shares for $500.00000000000006\n",
      "On the 95th day, sold 4.119294776734224 shares for $502.5539627615753\n"
     ]
    },
    {
     "name": "stderr",
     "output_type": "stream",
     "text": [
      "[*********************100%***********************]  1 of 1 completed"
     ]
    },
    {
     "name": "stdout",
     "output_type": "stream",
     "text": [
      "XLI Final Value: 1002.5539627615752, Final Money: 1002.5539627615752, Final Shares: 0.0\n",
      "read  251  lines of data for ticker:  XLI\n"
     ]
    },
    {
     "name": "stderr",
     "output_type": "stream",
     "text": [
      "\n",
      "[*********************100%***********************]  1 of 1 completed\n"
     ]
    },
    {
     "name": "stdout",
     "output_type": "stream",
     "text": [
      "read  251  lines of data for ticker:  XLI\n",
      "On the 201th day, Bought 3.731064845907022 shares for $500.0\n",
      "On the 207th day, sold 3.731064845907022 shares for $534.2511752854265\n"
     ]
    },
    {
     "name": "stderr",
     "output_type": "stream",
     "text": [
      "[*********************100%***********************]  1 of 1 completed"
     ]
    },
    {
     "name": "stdout",
     "output_type": "stream",
     "text": [
      "XLI Final Value: 1034.2511752854266, Final Money: 1034.2511752854266, Final Shares: 0.0\n",
      "read  251  lines of data for ticker:  XLI\n"
     ]
    },
    {
     "name": "stderr",
     "output_type": "stream",
     "text": [
      "\n",
      "[*********************100%***********************]  1 of 1 completed\n"
     ]
    },
    {
     "name": "stdout",
     "output_type": "stream",
     "text": [
      "read  251  lines of data for ticker:  XLI\n",
      "On the 81th day, Bought 3.9952057530962843 shares for $500.0\n",
      "On the 95th day, sold 3.9952057530962843 shares for $487.4151018777467\n",
      "On the 154th day, Bought 3.869370066553165 shares for $500.0\n",
      "On the 205th day, sold 3.869370066553165 shares for $543.956043956044\n",
      "XLI Final Value: 1031.3711458337907, Final Money: 1031.3711458337907, Final Shares: 0.0\n"
     ]
    },
    {
     "name": "stderr",
     "output_type": "stream",
     "text": [
      "[*********************100%***********************]  1 of 1 completed\n"
     ]
    },
    {
     "name": "stdout",
     "output_type": "stream",
     "text": [
      "read  251  lines of data for ticker:  XLK\n"
     ]
    },
    {
     "name": "stderr",
     "output_type": "stream",
     "text": [
      "[*********************100%***********************]  1 of 1 completed\n"
     ]
    },
    {
     "name": "stdout",
     "output_type": "stream",
     "text": [
      "read  251  lines of data for ticker:  XLK\n",
      "On the 51th day, Bought 2.3940627244433803 shares for $499.99999999999994\n",
      "On the 52th day, Bought 2.4173274028234384 shares for $500.0\n",
      "On the 83th day, Bought 0 shares for $0.0\n",
      "On the 84th day, Bought 0 shares for $0.0\n",
      "On the 85th day, Bought 0 shares for $0.0\n",
      "On the 86th day, Bought 0 shares for $0.0\n",
      "On the 125th day, sold 4.811390127266819 shares for $1079.4834889535834\n",
      "On the 173th day, Bought 2.2360359554581635 shares for $499.99999999999994\n",
      "On the 174th day, Bought 2.229654403567447 shares for $500.0\n",
      "On the 205th day, sold 4.4656903590256105 shares for $1060.2442050398604\n"
     ]
    },
    {
     "name": "stderr",
     "output_type": "stream",
     "text": [
      "[*********************100%***********************]  1 of 1 completed"
     ]
    },
    {
     "name": "stdout",
     "output_type": "stream",
     "text": [
      "XLK Final Value: 1139.7276939934438, Final Money: 1139.7276939934438, Final Shares: 0.0\n",
      "read  251  lines of data for ticker:  XLK\n"
     ]
    },
    {
     "name": "stderr",
     "output_type": "stream",
     "text": [
      "\n",
      "[*********************100%***********************]  1 of 1 completed\n"
     ]
    },
    {
     "name": "stdout",
     "output_type": "stream",
     "text": [
      "read  251  lines of data for ticker:  XLK\n",
      "On the 47th day, Bought 2.3978515250335697 shares for $500.0\n",
      "On the 85th day, Bought 1 shares for $211.82\n",
      "On the 111th day, sold 3.3978515250335697 shares for $768.7299290235949\n",
      "On the 118th day, Bought 2.132468972576449 shares for $500.0\n",
      "On the 119th day, Bought 2.134198395082807 shares for $500.0\n",
      "On the 120th day, Bought 0 shares for $0.0\n",
      "On the 126th day, sold 4.266667367659256 shares for $957.3548239553838\n",
      "On the 197th day, Bought 2.171835635479107 shares for $500.0\n",
      "On the 198th day, Bought 2.142979598834219 shares for $500.0\n",
      "On the 201th day, sold 4.3148152343133255 shares for $966.1302791150966\n"
     ]
    },
    {
     "name": "stderr",
     "output_type": "stream",
     "text": [
      "[*********************100%***********************]  1 of 1 completed"
     ]
    },
    {
     "name": "stdout",
     "output_type": "stream",
     "text": [
      "XLK Final Value: 980.3950320940754, Final Money: 980.3950320940754, Final Shares: 0.0\n",
      "read  251  lines of data for ticker:  XLK\n"
     ]
    },
    {
     "name": "stderr",
     "output_type": "stream",
     "text": [
      "\n",
      "[*********************100%***********************]  1 of 1 completed\n"
     ]
    },
    {
     "name": "stdout",
     "output_type": "stream",
     "text": [
      "read  251  lines of data for ticker:  XLK\n",
      "On the 174th day, Bought 2.229654403567447 shares for $500.0\n",
      "On the 201th day, sold 2.229654403567447 shares for $499.24191750278703\n"
     ]
    },
    {
     "name": "stderr",
     "output_type": "stream",
     "text": [
      "[*********************100%***********************]  1 of 1 completed"
     ]
    },
    {
     "name": "stdout",
     "output_type": "stream",
     "text": [
      "XLK Final Value: 999.241917502787, Final Money: 999.241917502787, Final Shares: 0.0\n",
      "read  251  lines of data for ticker:  XLK\n"
     ]
    },
    {
     "name": "stderr",
     "output_type": "stream",
     "text": [
      "\n",
      "[*********************100%***********************]  1 of 1 completed\n"
     ]
    },
    {
     "name": "stdout",
     "output_type": "stream",
     "text": [
      "read  251  lines of data for ticker:  XLK\n",
      "On the 47th day, Bought 2.3978515250335697 shares for $500.0\n",
      "On the 111th day, sold 2.3978515250335697 shares for $542.4899290235949\n",
      "On the 118th day, Bought 2.132468972576449 shares for $500.0\n",
      "On the 119th day, Bought 2.134198395082807 shares for $500.0\n",
      "On the 120th day, Bought 0 shares for $0.0\n",
      "On the 126th day, sold 4.266667367659256 shares for $957.3548239553838\n",
      "On the 197th day, Bought 2.171835635479107 shares for $500.0\n",
      "On the 198th day, Bought 1 shares for $233.32\n",
      "On the 202th day, sold 3.171835635479107 shares for $709.6665050820953\n",
      "XLK Final Value: 976.191258061074, Final Money: 976.191258061074, Final Shares: 0.0\n"
     ]
    },
    {
     "name": "stderr",
     "output_type": "stream",
     "text": [
      "[*********************100%***********************]  1 of 1 completed\n"
     ]
    },
    {
     "name": "stdout",
     "output_type": "stream",
     "text": [
      "read  251  lines of data for ticker:  XLP\n"
     ]
    },
    {
     "name": "stderr",
     "output_type": "stream",
     "text": [
      "[*********************100%***********************]  1 of 1 completed\n"
     ]
    },
    {
     "name": "stdout",
     "output_type": "stream",
     "text": [
      "read  251  lines of data for ticker:  XLP\n",
      "On the 122th day, Bought 6.455777921239509 shares for $500.0\n",
      "On the 136th day, sold 6.455777921239509 shares for $507.2304712717882\n",
      "On the 202th day, Bought 6.221226825930073 shares for $500.0\n",
      "On the 203th day, Bought 6.181998021760633 shares for $500.0\n",
      "On the 204th day, Bought 0 shares for $0.0\n",
      "On the 207th day, sold 12.403224847690707 shares for $998.9557292330096\n"
     ]
    },
    {
     "name": "stderr",
     "output_type": "stream",
     "text": [
      "[*********************100%***********************]  1 of 1 completed"
     ]
    },
    {
     "name": "stdout",
     "output_type": "stream",
     "text": [
      "XLP Final Value: 1006.1862005047979, Final Money: 1006.1862005047979, Final Shares: 0.0\n",
      "read  251  lines of data for ticker:  XLP\n"
     ]
    },
    {
     "name": "stderr",
     "output_type": "stream",
     "text": [
      "\n",
      "[*********************100%***********************]  1 of 1 completed\n"
     ]
    },
    {
     "name": "stdout",
     "output_type": "stream",
     "text": [
      "read  251  lines of data for ticker:  XLP\n",
      "On the 102th day, Bought 6.518055012384305 shares for $499.99999999999994\n",
      "On the 103th day, Bought 6.509569066527796 shares for $500.0\n",
      "On the 104th day, Bought 0 shares for $0.0\n",
      "On the 105th day, Bought 0 shares for $0.0\n",
      "On the 139th day, sold 13.027624078912101 shares for $1019.2813079340827\n"
     ]
    },
    {
     "name": "stderr",
     "output_type": "stream",
     "text": [
      "[*********************100%***********************]  1 of 1 completed"
     ]
    },
    {
     "name": "stdout",
     "output_type": "stream",
     "text": [
      "XLP Final Value: 1019.2813079340829, Final Money: 1019.2813079340829, Final Shares: 0.0\n",
      "read  251  lines of data for ticker:  XLP\n"
     ]
    },
    {
     "name": "stderr",
     "output_type": "stream",
     "text": [
      "\n",
      "[*********************100%***********************]  1 of 1 completed\n"
     ]
    },
    {
     "name": "stdout",
     "output_type": "stream",
     "text": [
      "read  251  lines of data for ticker:  XLP\n",
      "On the 102th day, Bought 6.518055012384305 shares for $499.99999999999994\n",
      "On the 104th day, Bought 6.49772579597141 shares for $500.0\n",
      "On the 107th day, Bought 0 shares for $0.0\n",
      "On the 126th day, sold 13.015780808355714 shares for $1019.7864263346702\n"
     ]
    },
    {
     "name": "stderr",
     "output_type": "stream",
     "text": [
      "[*********************100%***********************]  1 of 1 completed"
     ]
    },
    {
     "name": "stdout",
     "output_type": "stream",
     "text": [
      "XLP Final Value: 1019.7864263346703, Final Money: 1019.7864263346703, Final Shares: 0.0\n",
      "read  251  lines of data for ticker:  XLP\n"
     ]
    },
    {
     "name": "stderr",
     "output_type": "stream",
     "text": [
      "\n",
      "[*********************100%***********************]  1 of 1 completed\n"
     ]
    },
    {
     "name": "stdout",
     "output_type": "stream",
     "text": [
      "read  251  lines of data for ticker:  XLP\n",
      "On the 102th day, Bought 6.518055012384305 shares for $499.99999999999994\n",
      "On the 103th day, Bought 6.509569066527796 shares for $500.0\n",
      "On the 104th day, Bought 0 shares for $0.0\n",
      "On the 113th day, Bought 0 shares for $0.0\n",
      "On the 114th day, Bought 0 shares for $0.0\n",
      "On the 139th day, sold 13.027624078912101 shares for $1019.2813079340827\n",
      "On the 148th day, Bought 6.1896509036890315 shares for $499.99999999999994\n",
      "On the 206th day, sold 6.1896509036890315 shares for $500.2475860361475\n",
      "XLP Final Value: 1019.5288939702303, Final Money: 1019.5288939702303, Final Shares: 0.0\n"
     ]
    },
    {
     "name": "stderr",
     "output_type": "stream",
     "text": [
      "[*********************100%***********************]  1 of 1 completed\n"
     ]
    },
    {
     "name": "stdout",
     "output_type": "stream",
     "text": [
      "read  251  lines of data for ticker:  XLV\n"
     ]
    },
    {
     "name": "stderr",
     "output_type": "stream",
     "text": [
      "[*********************100%***********************]  1 of 1 completed\n"
     ]
    },
    {
     "name": "stdout",
     "output_type": "stream",
     "text": [
      "read  251  lines of data for ticker:  XLV\n",
      "On the 47th day, Bought 3.442577802258331 shares for $500.0\n",
      "On the 55th day, sold 3.442577802258331 shares for $493.04599283943816\n",
      "On the 150th day, Bought 3.2324799586242565 shares for $500.0\n",
      "On the 151th day, Bought 2 shares for $309.56\n",
      "On the 152th day, Bought 1 shares for $155.45\n",
      "On the 153th day, Bought 0 shares for $0.0\n",
      "On the 154th day, Bought 0 shares for $0.0\n",
      "On the 155th day, Bought 0 shares for $0.0\n",
      "On the 203th day, sold 6.232479958624257 shares for $921.4721618825963\n"
     ]
    },
    {
     "name": "stderr",
     "output_type": "stream",
     "text": [
      "[*********************100%***********************]  1 of 1 completed"
     ]
    },
    {
     "name": "stdout",
     "output_type": "stream",
     "text": [
      "XLV Final Value: 949.5081547220345, Final Money: 949.5081547220345, Final Shares: 0.0\n",
      "read  251  lines of data for ticker:  XLV\n"
     ]
    },
    {
     "name": "stderr",
     "output_type": "stream",
     "text": [
      "\n",
      "[*********************100%***********************]  1 of 1 completed\n"
     ]
    },
    {
     "name": "stdout",
     "output_type": "stream",
     "text": [
      "read  251  lines of data for ticker:  XLV\n",
      "On the 152th day, Bought 3.21646831778707 shares for $500.0\n",
      "On the 189th day, sold 3.21646831778707 shares for $493.0202637504021\n",
      "On the 199th day, Bought 3.3756413718606533 shares for $500.0\n",
      "On the 200th day, Bought 2 shares for $293.74\n",
      "On the 201th day, Bought 1 shares for $147.74\n",
      "On the 211th day, sold 6.375641371860653 shares for $904.3209721847151\n"
     ]
    },
    {
     "name": "stderr",
     "output_type": "stream",
     "text": [
      "[*********************100%***********************]  1 of 1 completed"
     ]
    },
    {
     "name": "stdout",
     "output_type": "stream",
     "text": [
      "XLV Final Value: 955.8612359351172, Final Money: 955.8612359351172, Final Shares: 0.0\n",
      "read  251  lines of data for ticker:  XLV\n"
     ]
    },
    {
     "name": "stderr",
     "output_type": "stream",
     "text": [
      "\n",
      "[*********************100%***********************]  1 of 1 completed\n"
     ]
    },
    {
     "name": "stdout",
     "output_type": "stream",
     "text": [
      "read  251  lines of data for ticker:  XLV\n",
      "On the 197th day, Bought 3.359989248034406 shares for $499.99999999999994\n",
      "On the 209th day, sold 3.359989248034406 shares for $493.3472212888919\n"
     ]
    },
    {
     "name": "stderr",
     "output_type": "stream",
     "text": [
      "[*********************100%***********************]  1 of 1 completed"
     ]
    },
    {
     "name": "stdout",
     "output_type": "stream",
     "text": [
      "XLV Final Value: 993.3472212888919, Final Money: 993.3472212888919, Final Shares: 0.0\n",
      "read  251  lines of data for ticker:  XLV\n"
     ]
    },
    {
     "name": "stderr",
     "output_type": "stream",
     "text": [
      "\n",
      "[*********************100%***********************]  1 of 1 completed\n"
     ]
    },
    {
     "name": "stdout",
     "output_type": "stream",
     "text": [
      "read  251  lines of data for ticker:  XLV\n",
      "On the 43th day, Bought 3.4298257648511457 shares for $500.0\n",
      "On the 53th day, sold 3.4298257648511457 shares for $493.9978049115105\n",
      "On the 77th day, Bought 3.5070491688293473 shares for $500.0\n",
      "On the 95th day, sold 3.5070491688293473 shares for $507.50508522129485\n",
      "On the 199th day, Bought 3.3756413718606533 shares for $500.0\n",
      "On the 200th day, Bought 3.404371212637026 shares for $500.0\n",
      "On the 201th day, Bought 0 shares for $0.0\n",
      "On the 211th day, sold 6.78001258449768 shares for $961.676984985151\n",
      "XLV Final Value: 963.1798751179563, Final Money: 963.1798751179563, Final Shares: 0.0\n"
     ]
    },
    {
     "name": "stderr",
     "output_type": "stream",
     "text": [
      "[*********************100%***********************]  1 of 1 completed\n"
     ]
    },
    {
     "name": "stdout",
     "output_type": "stream",
     "text": [
      "read  251  lines of data for ticker:  XLY\n"
     ]
    },
    {
     "name": "stderr",
     "output_type": "stream",
     "text": [
      "[*********************100%***********************]  1 of 1 completed\n"
     ]
    },
    {
     "name": "stdout",
     "output_type": "stream",
     "text": [
      "read  251  lines of data for ticker:  XLY\n",
      "On the 85th day, Bought 2.797985450475658 shares for $500.0\n",
      "On the 118th day, sold 2.797985450475658 shares for $529.9104644655848\n",
      "On the 178th day, Bought 2.5055121266786933 shares for $500.00000000000006\n",
      "On the 179th day, Bought 2.52691160863193 shares for $500.0\n",
      "On the 180th day, Bought 0 shares for $0.0\n",
      "On the 191th day, Bought 0 shares for $0.0\n",
      "On the 192th day, Bought 0 shares for $0.0\n",
      "On the 207th day, sold 5.032423735310623 shares for $1104.4157129512694\n",
      "XLY Final Value: 1134.3261774168543, Final Money: 1134.3261774168543, Final Shares: 0.0\n"
     ]
    },
    {
     "name": "stderr",
     "output_type": "stream",
     "text": [
      "[*********************100%***********************]  1 of 1 completed\n"
     ]
    },
    {
     "name": "stdout",
     "output_type": "stream",
     "text": [
      "read  251  lines of data for ticker:  XLY\n"
     ]
    },
    {
     "name": "stderr",
     "output_type": "stream",
     "text": [
      "[*********************100%***********************]  1 of 1 completed\n"
     ]
    },
    {
     "name": "stdout",
     "output_type": "stream",
     "text": [
      "read  251  lines of data for ticker:  XLY\n",
      "On the 67th day, Bought 2.897878752752985 shares for $500.0\n",
      "On the 77th day, sold 2.897878752752985 shares for $517.3293149414628\n",
      "On the 169th day, Bought 2.594033722438392 shares for $500.0\n",
      "On the 170th day, Bought 2.536268641574516 shares for $500.00000000000006\n",
      "On the 206th day, sold 5.130302364012907 shares for $1103.6306445464566\n"
     ]
    },
    {
     "name": "stderr",
     "output_type": "stream",
     "text": [
      "[*********************100%***********************]  1 of 1 completed"
     ]
    },
    {
     "name": "stdout",
     "output_type": "stream",
     "text": [
      "XLY Final Value: 1120.9599594879194, Final Money: 1120.9599594879194, Final Shares: 0.0\n",
      "read  251  lines of data for ticker:  XLY\n"
     ]
    },
    {
     "name": "stderr",
     "output_type": "stream",
     "text": [
      "\n",
      "[*********************100%***********************]  1 of 1 completed\n"
     ]
    },
    {
     "name": "stdout",
     "output_type": "stream",
     "text": [
      "read  251  lines of data for ticker:  XLY\n",
      "On the 99th day, Bought 2.814364516492176 shares for $500.0\n",
      "On the 127th day, sold 2.814364516492176 shares for $528.5657998423956\n",
      "On the 167th day, Bought 2.602133749674733 shares for $500.0\n",
      "On the 205th day, sold 2.602133749674733 shares for $551.9385896435077\n",
      "XLY Final Value: 1080.5043894859032, Final Money: 1080.5043894859032, Final Shares: 0.0\n"
     ]
    },
    {
     "name": "stderr",
     "output_type": "stream",
     "text": [
      "[*********************100%***********************]  1 of 1 completed\n"
     ]
    },
    {
     "name": "stdout",
     "output_type": "stream",
     "text": [
      "read  251  lines of data for ticker:  XLY\n"
     ]
    },
    {
     "name": "stderr",
     "output_type": "stream",
     "text": [
      "[*********************100%***********************]  1 of 1 completed\n"
     ]
    },
    {
     "name": "stdout",
     "output_type": "stream",
     "text": [
      "read  251  lines of data for ticker:  XLY\n",
      "On the 169th day, Bought 2.594033722438392 shares for $500.0\n",
      "On the 170th day, Bought 1 shares for $197.14\n",
      "On the 197th day, sold 3.594033722438392 shares for $723.4071076523995\n",
      "XLY Final Value: 1026.2671076523995, Final Money: 1026.2671076523995, Final Shares: 0.0\n"
     ]
    },
    {
     "name": "stderr",
     "output_type": "stream",
     "text": [
      "[*********************100%***********************]  1 of 1 completed\n"
     ]
    },
    {
     "name": "stdout",
     "output_type": "stream",
     "text": [
      "read  251  lines of data for ticker:  XLU\n"
     ]
    },
    {
     "name": "stderr",
     "output_type": "stream",
     "text": [
      "[*********************100%***********************]  1 of 1 completed\n"
     ]
    },
    {
     "name": "stdout",
     "output_type": "stream",
     "text": [
      "read  251  lines of data for ticker:  XLU\n",
      "On the 87th day, Bought 6.861534239055852 shares for $500.0\n",
      "On the 137th day, sold 6.861534239055852 shares for $509.26307122272533\n"
     ]
    },
    {
     "name": "stderr",
     "output_type": "stream",
     "text": [
      "[*********************100%***********************]  1 of 1 completed"
     ]
    },
    {
     "name": "stdout",
     "output_type": "stream",
     "text": [
      "XLU Final Value: 1009.2630712227253, Final Money: 1009.2630712227253, Final Shares: 0.0\n",
      "read  251  lines of data for ticker:  XLU\n"
     ]
    },
    {
     "name": "stderr",
     "output_type": "stream",
     "text": [
      "\n",
      "[*********************100%***********************]  1 of 1 completed\n"
     ]
    },
    {
     "name": "stdout",
     "output_type": "stream",
     "text": [
      "read  251  lines of data for ticker:  XLU\n",
      "On the 37th day, Bought 7.803964413922273 shares for $500.0\n",
      "On the 68th day, sold 7.803964413922273 shares for $520.8365849851724\n",
      "On the 148th day, Bought 6.6728947017216065 shares for $500.0\n",
      "On the 149th day, Bought 6.687174000267487 shares for $500.0\n",
      "On the 172th day, sold 13.360068701989093 shares for $1073.214318830784\n"
     ]
    },
    {
     "name": "stderr",
     "output_type": "stream",
     "text": [
      "[*********************100%***********************]  1 of 1 completed"
     ]
    },
    {
     "name": "stdout",
     "output_type": "stream",
     "text": [
      "XLU Final Value: 1094.0509038159562, Final Money: 1094.0509038159562, Final Shares: 0.0\n",
      "read  251  lines of data for ticker:  XLU\n"
     ]
    },
    {
     "name": "stderr",
     "output_type": "stream",
     "text": [
      "\n",
      "[*********************100%***********************]  1 of 1 completed\n"
     ]
    },
    {
     "name": "stdout",
     "output_type": "stream",
     "text": [
      "read  251  lines of data for ticker:  XLU\n",
      "On the 38th day, Bought 7.880220646178093 shares for $500.0\n",
      "On the 66th day, sold 7.880220646178093 shares for $520.3309692671395\n",
      "On the 143th day, Bought 6.780580417683754 shares for $500.0\n",
      "On the 144th day, Bought 6.741270055278414 shares for $500.0\n",
      "On the 145th day, Bought 0 shares for $0.0\n",
      "On the 172th day, sold 13.521850472962168 shares for $1086.2102484930508\n"
     ]
    },
    {
     "name": "stderr",
     "output_type": "stream",
     "text": [
      "[*********************100%***********************]  1 of 1 completed"
     ]
    },
    {
     "name": "stdout",
     "output_type": "stream",
     "text": [
      "XLU Final Value: 1106.5412177601902, Final Money: 1106.5412177601902, Final Shares: 0.0\n",
      "read  251  lines of data for ticker:  XLU\n"
     ]
    },
    {
     "name": "stderr",
     "output_type": "stream",
     "text": [
      "\n",
      "[*********************100%***********************]  1 of 1 completed\n"
     ]
    },
    {
     "name": "stdout",
     "output_type": "stream",
     "text": [
      "read  251  lines of data for ticker:  XLU\n",
      "On the 37th day, Bought 7.803964413922273 shares for $500.0\n",
      "On the 96th day, sold 7.803964413922273 shares for $560.7928827844545\n",
      "XLU Final Value: 1060.7928827844544, Final Money: 1060.7928827844544, Final Shares: 0.0\n"
     ]
    },
    {
     "name": "stderr",
     "output_type": "stream",
     "text": [
      "[*********************100%***********************]  1 of 1 completed\n"
     ]
    },
    {
     "name": "stdout",
     "output_type": "stream",
     "text": [
      "read  1258  lines of data for ticker:  SPY\n"
     ]
    },
    {
     "name": "stderr",
     "output_type": "stream",
     "text": [
      "[*********************100%***********************]  1 of 1 completed\n"
     ]
    },
    {
     "name": "stdout",
     "output_type": "stream",
     "text": [
      "read  251  lines of data for ticker:  SPY\n",
      "On the 83th day, Bought 0.9437879874664956 shares for $500.0\n",
      "On the 127th day, sold 0.9437879874664956 shares for $518.1301672392315\n"
     ]
    },
    {
     "name": "stderr",
     "output_type": "stream",
     "text": [
      "[*********************100%***********************]  1 of 1 completed"
     ]
    },
    {
     "name": "stdout",
     "output_type": "stream",
     "text": [
      "On the 222th day, Bought 0.8279379377721846 shares for $500.0\n",
      "On the 223th day, Bought 0.8228285554421881 shares for $500.0\n",
      "On the 235th day, sold 1.6507664932143729 shares for $975.8506124636765\n",
      "SPY Final Value: 993.980779702908, Final Money: 993.980779702908, Final Shares: 0.0\n"
     ]
    },
    {
     "name": "stderr",
     "output_type": "stream",
     "text": [
      "\n"
     ]
    },
    {
     "name": "stdout",
     "output_type": "stream",
     "text": [
      "read  1258  lines of data for ticker:  SPY\n"
     ]
    },
    {
     "name": "stderr",
     "output_type": "stream",
     "text": [
      "[*********************100%***********************]  1 of 1 completed\n"
     ]
    },
    {
     "name": "stdout",
     "output_type": "stream",
     "text": [
      "read  251  lines of data for ticker:  SPY\n",
      "On the 83th day, Bought 0.9437879874664956 shares for $500.0\n",
      "On the 126th day, sold 0.9437879874664956 shares for $521.5938691532334\n",
      "On the 197th day, Bought 0.8608370779746225 shares for $500.0\n",
      "On the 198th day, Bought 0.8594461728861922 shares for $500.0\n",
      "On the 205th day, sold 1.7202832508608146 shares for $1024.61790704521\n"
     ]
    },
    {
     "name": "stderr",
     "output_type": "stream",
     "text": [
      "[*********************100%***********************]  1 of 1 completed"
     ]
    },
    {
     "name": "stdout",
     "output_type": "stream",
     "text": [
      "SPY Final Value: 1046.2117761984432, Final Money: 1046.2117761984432, Final Shares: 0.0\n",
      "read  1258  lines of data for ticker:  SPY\n"
     ]
    },
    {
     "name": "stderr",
     "output_type": "stream",
     "text": [
      "\n",
      "[*********************100%***********************]  1 of 1 completed\n"
     ]
    },
    {
     "name": "stdout",
     "output_type": "stream",
     "text": [
      "read  251  lines of data for ticker:  SPY\n",
      "On the 87th day, Bought 0.9409816320385426 shares for $500.0\n",
      "On the 126th day, sold 0.9409816320385426 shares for $520.0429087624209\n",
      "On the 197th day, Bought 0.8608370779746225 shares for $500.0\n",
      "On the 206th day, sold 0.8608370779746225 shares for $514.9441316736395\n"
     ]
    },
    {
     "name": "stderr",
     "output_type": "stream",
     "text": [
      "[*********************100%***********************]  1 of 1 completed"
     ]
    },
    {
     "name": "stdout",
     "output_type": "stream",
     "text": [
      "SPY Final Value: 1034.9870404360604, Final Money: 1034.9870404360604, Final Shares: 0.0\n",
      "read  1258  lines of data for ticker:  SPY\n"
     ]
    },
    {
     "name": "stderr",
     "output_type": "stream",
     "text": [
      "\n",
      "[*********************100%***********************]  1 of 1 completed\n"
     ]
    },
    {
     "name": "stdout",
     "output_type": "stream",
     "text": [
      "read  251  lines of data for ticker:  SPY\n",
      "On the 81th day, Bought 0.959858708798065 shares for $500.0\n",
      "On the 126th day, sold 0.959858708798065 shares for $530.4755140043386\n",
      "On the 171th day, Bought 0.8798944126704795 shares for $500.0\n",
      "On the 172th day, Bought 0.8777011252128426 shares for $500.0\n",
      "On the 204th day, sold 1.7575955378833221 shares for $1038.8092667105586\n",
      "SPY Final Value: 1069.2847807148971, Final Money: 1069.2847807148971, Final Shares: 0.0\n"
     ]
    },
    {
     "name": "stderr",
     "output_type": "stream",
     "text": [
      "[*********************100%***********************]  1 of 1 completed\n"
     ]
    },
    {
     "name": "stdout",
     "output_type": "stream",
     "text": [
      "read  1258  lines of data for ticker:  XLB\n"
     ]
    },
    {
     "name": "stderr",
     "output_type": "stream",
     "text": [
      "[*********************100%***********************]  1 of 1 completed\n"
     ]
    },
    {
     "name": "stdout",
     "output_type": "stream",
     "text": [
      "read  251  lines of data for ticker:  XLB\n",
      "On the 83th day, Bought 5.433010974682169 shares for $500.0\n",
      "On the 85th day, Bought 4 shares for $368.6\n",
      "On the 127th day, sold 9.433010974682169 shares for $850.0086189286103\n",
      "On the 185th day, Bought 5.24824183898394 shares for $499.99999999999994\n",
      "On the 186th day, Bought 4 shares for $383.56\n",
      "On the 187th day, Bought 1 shares for $96.44\n",
      "On the 192th day, Bought 0 shares for $0.0\n"
     ]
    },
    {
     "name": "stderr",
     "output_type": "stream",
     "text": [
      "[*********************100%***********************]  1 of 1 completed"
     ]
    },
    {
     "name": "stdout",
     "output_type": "stream",
     "text": [
      "On the 235th day, sold 10.24824183898394 shares for $877.0445365802456\n",
      "XLB Final Value: 878.4531555088558, Final Money: 878.4531555088558, Final Shares: 0.0\n",
      "read  1258  lines of data for ticker:  XLB\n"
     ]
    },
    {
     "name": "stderr",
     "output_type": "stream",
     "text": [
      "\n",
      "[*********************100%***********************]  1 of 1 completed\n"
     ]
    },
    {
     "name": "stdout",
     "output_type": "stream",
     "text": [
      "read  251  lines of data for ticker:  XLB\n",
      "On the 183th day, Bought 5.293806246691371 shares for $500.00000000000006\n",
      "On the 184th day, Bought 4 shares for $380.2\n",
      "On the 230th day, Bought 1 shares for $89.23\n",
      "On the 231th day, Bought 0 shares for $0.0\n",
      "On the 232th day, Bought 0 shares for $0.0\n",
      "On the 233th day, Bought 0 shares for $0.0\n",
      "On the 238th day, sold 10.293806246691371 shares for $879.0910534674432\n"
     ]
    },
    {
     "name": "stderr",
     "output_type": "stream",
     "text": [
      "[*********************100%***********************]  1 of 1 completed"
     ]
    },
    {
     "name": "stdout",
     "output_type": "stream",
     "text": [
      "XLB Final Value: 909.6610534674431, Final Money: 909.6610534674431, Final Shares: 0.0\n",
      "read  1258  lines of data for ticker:  XLB\n"
     ]
    },
    {
     "name": "stderr",
     "output_type": "stream",
     "text": [
      "\n",
      "[*********************100%***********************]  1 of 1 completed\n"
     ]
    },
    {
     "name": "stdout",
     "output_type": "stream",
     "text": [
      "read  251  lines of data for ticker:  XLB\n",
      "On the 87th day, Bought 5.418292154312961 shares for $500.0\n",
      "On the 95th day, sold 5.418292154312961 shares for $493.01040312093625\n",
      "On the 183th day, Bought 5.293806246691371 shares for $500.00000000000006\n",
      "On the 184th day, Bought 4 shares for $380.2\n",
      "On the 217th day, sold 9.293806246691371 shares for $883.4692218104818\n"
     ]
    },
    {
     "name": "stderr",
     "output_type": "stream",
     "text": [
      "[*********************100%***********************]  1 of 1 completed"
     ]
    },
    {
     "name": "stdout",
     "output_type": "stream",
     "text": [
      "XLB Final Value: 996.279624931418, Final Money: 996.279624931418, Final Shares: 0.0\n",
      "read  1258  lines of data for ticker:  XLB\n"
     ]
    },
    {
     "name": "stderr",
     "output_type": "stream",
     "text": [
      "\n",
      "[*********************100%***********************]  1 of 1 completed\n"
     ]
    },
    {
     "name": "stdout",
     "output_type": "stream",
     "text": [
      "read  251  lines of data for ticker:  XLB\n",
      "On the 184th day, Bought 5.260389268805892 shares for $500.00000000000006\n",
      "On the 228th day, Bought 4 shares for $362.52\n",
      "On the 229th day, Bought 1 shares for $90.0\n",
      "On the 230th day, Bought 0 shares for $0.0\n",
      "On the 231th day, Bought 0 shares for $0.0\n",
      "On the 232th day, Bought 0 shares for $0.0\n",
      "On the 233th day, Bought 0 shares for $0.0\n",
      "On the 236th day, sold 10.260389268805891 shares for $872.8513150973171\n",
      "XLB Final Value: 920.331315097317, Final Money: 920.331315097317, Final Shares: 0.0\n"
     ]
    },
    {
     "name": "stderr",
     "output_type": "stream",
     "text": [
      "[*********************100%***********************]  1 of 1 completed\n"
     ]
    },
    {
     "name": "stdout",
     "output_type": "stream",
     "text": [
      "read  1258  lines of data for ticker:  XLE\n"
     ]
    },
    {
     "name": "stderr",
     "output_type": "stream",
     "text": [
      "[*********************100%***********************]  1 of 1 completed\n"
     ]
    },
    {
     "name": "stdout",
     "output_type": "stream",
     "text": [
      "read  251  lines of data for ticker:  XLE\n",
      "On the 192th day, Bought 5.551237926057511 shares for $500.0\n",
      "On the 195th day, Bought 4 shares for $359.2\n",
      "On the 196th day, Bought 1 shares for $89.77\n",
      "On the 197th day, Bought 0 shares for $0.0\n",
      "On the 198th day, Bought 0 shares for $0.0\n",
      "On the 241th day, Bought 0 shares for $0.0\n",
      "On the 242th day, Bought 0 shares for $0.0\n"
     ]
    },
    {
     "name": "stderr",
     "output_type": "stream",
     "text": [
      "[*********************100%***********************]  1 of 1 completed"
     ]
    },
    {
     "name": "stdout",
     "output_type": "stream",
     "text": [
      "XLE Final Value: 973.9467813922504, Final Money: 51.030000000000015, Final Shares: 10.55123792605751\n",
      "read  1258  lines of data for ticker:  XLE\n"
     ]
    },
    {
     "name": "stderr",
     "output_type": "stream",
     "text": [
      "\n",
      "[*********************100%***********************]  1 of 1 completed\n"
     ]
    },
    {
     "name": "stdout",
     "output_type": "stream",
     "text": [
      "read  251  lines of data for ticker:  XLE\n",
      "On the 196th day, Bought 5.569789461958338 shares for $500.0\n"
     ]
    },
    {
     "name": "stderr",
     "output_type": "stream",
     "text": [
      "[*********************100%***********************]  1 of 1 completed"
     ]
    },
    {
     "name": "stdout",
     "output_type": "stream",
     "text": [
      "XLE Final Value: 987.1894842374959, Final Money: 500.0, Final Shares: 5.569789461958338\n",
      "read  1258  lines of data for ticker:  XLE\n"
     ]
    },
    {
     "name": "stderr",
     "output_type": "stream",
     "text": [
      "\n",
      "[*********************100%***********************]  1 of 1 completed\n"
     ]
    },
    {
     "name": "stdout",
     "output_type": "stream",
     "text": [
      "read  251  lines of data for ticker:  XLE\n"
     ]
    },
    {
     "name": "stderr",
     "output_type": "stream",
     "text": [
      "[*********************100%***********************]  1 of 1 completed"
     ]
    },
    {
     "name": "stdout",
     "output_type": "stream",
     "text": [
      "XLE Final Value: 1000.0, Final Money: 1000, Final Shares: 0.0\n",
      "read  1258  lines of data for ticker:  XLE\n"
     ]
    },
    {
     "name": "stderr",
     "output_type": "stream",
     "text": [
      "\n",
      "[*********************100%***********************]  1 of 1 completed\n"
     ]
    },
    {
     "name": "stdout",
     "output_type": "stream",
     "text": [
      "read  251  lines of data for ticker:  XLE\n",
      "On the 173th day, Bought 5.624296962879639 shares for $499.99999999999994\n",
      "On the 174th day, Bought 5.736576411197797 shares for $499.99999999999994\n",
      "On the 179th day, sold 11.360873374077435 shares for $1030.6584324963048\n",
      "On the 197th day, Bought 5.605381165919282 shares for $500.0\n",
      "On the 198th day, Bought 5.692167577413479 shares for $500.00000000000006\n",
      "On the 242th day, Bought 0 shares for $0.0\n",
      "XLE Final Value: 1018.8550210756216, Final Money: 30.65843249630501, Final Shares: 11.297548743332761\n"
     ]
    },
    {
     "name": "stderr",
     "output_type": "stream",
     "text": [
      "[*********************100%***********************]  1 of 1 completed\n"
     ]
    },
    {
     "name": "stdout",
     "output_type": "stream",
     "text": [
      "read  1258  lines of data for ticker:  XLF\n"
     ]
    },
    {
     "name": "stderr",
     "output_type": "stream",
     "text": [
      "[*********************100%***********************]  1 of 1 completed\n"
     ]
    },
    {
     "name": "stdout",
     "output_type": "stream",
     "text": [
      "read  251  lines of data for ticker:  XLF\n",
      "On the 119th day, Bought 11.976047904191617 shares for $500.0\n",
      "On the 125th day, sold 11.976047904191617 shares for $524.7904191616767\n"
     ]
    },
    {
     "name": "stderr",
     "output_type": "stream",
     "text": [
      "[*********************100%***********************]  1 of 1 completed"
     ]
    },
    {
     "name": "stdout",
     "output_type": "stream",
     "text": [
      "XLF Final Value: 1024.7904191616767, Final Money: 1024.7904191616767, Final Shares: 0.0\n",
      "read  1258  lines of data for ticker:  XLF\n"
     ]
    },
    {
     "name": "stderr",
     "output_type": "stream",
     "text": [
      "\n",
      "[*********************100%***********************]  1 of 1 completed\n"
     ]
    },
    {
     "name": "stdout",
     "output_type": "stream",
     "text": [
      "read  251  lines of data for ticker:  XLF\n",
      "On the 75th day, Bought 12.330456226880395 shares for $500.0\n",
      "On the 92th day, sold 12.330456226880395 shares for $503.32922318125776\n"
     ]
    },
    {
     "name": "stderr",
     "output_type": "stream",
     "text": [
      "[*********************100%***********************]  1 of 1 completed"
     ]
    },
    {
     "name": "stdout",
     "output_type": "stream",
     "text": [
      "XLF Final Value: 1003.3292231812577, Final Money: 1003.3292231812577, Final Shares: 0.0\n",
      "read  1258  lines of data for ticker:  XLF\n"
     ]
    },
    {
     "name": "stderr",
     "output_type": "stream",
     "text": [
      "\n",
      "[*********************100%***********************]  1 of 1 completed\n"
     ]
    },
    {
     "name": "stdout",
     "output_type": "stream",
     "text": [
      "read  251  lines of data for ticker:  XLF\n",
      "On the 74th day, Bought 12.357884330202669 shares for $500.0\n",
      "On the 90th day, sold 12.357884330202669 shares for $514.2115669797331\n",
      "On the 195th day, Bought 10.604453870625663 shares for $500.0\n",
      "On the 196th day, Bought 10.72271070126528 shares for $500.0\n",
      "On the 204th day, sold 21.327164571890943 shares for $1056.7610045371962\n"
     ]
    },
    {
     "name": "stderr",
     "output_type": "stream",
     "text": [
      "[*********************100%***********************]  1 of 1 completed"
     ]
    },
    {
     "name": "stdout",
     "output_type": "stream",
     "text": [
      "XLF Final Value: 1070.9725715169293, Final Money: 1070.9725715169293, Final Shares: 0.0\n",
      "read  1258  lines of data for ticker:  XLF\n"
     ]
    },
    {
     "name": "stderr",
     "output_type": "stream",
     "text": [
      "\n",
      "[*********************100%***********************]  1 of 1 completed\n"
     ]
    },
    {
     "name": "stdout",
     "output_type": "stream",
     "text": [
      "read  251  lines of data for ticker:  XLF\n",
      "On the 75th day, Bought 12.330456226880395 shares for $500.0\n",
      "On the 128th day, sold 12.330456226880395 shares for $531.3193588162762\n",
      "XLF Final Value: 1031.3193588162762, Final Money: 1031.3193588162762, Final Shares: 0.0\n"
     ]
    },
    {
     "name": "stderr",
     "output_type": "stream",
     "text": [
      "[*********************100%***********************]  1 of 1 completed\n"
     ]
    },
    {
     "name": "stdout",
     "output_type": "stream",
     "text": [
      "read  1258  lines of data for ticker:  XLI\n"
     ]
    },
    {
     "name": "stderr",
     "output_type": "stream",
     "text": [
      "[*********************100%***********************]  1 of 1 completed\n"
     ]
    },
    {
     "name": "stdout",
     "output_type": "stream",
     "text": [
      "read  251  lines of data for ticker:  XLI\n",
      "On the 30th day, Bought 4.132231404958677 shares for $499.99999999999994\n",
      "On the 31th day, Bought 4.114549045424622 shares for $500.0\n",
      "On the 56th day, sold 8.246780450383298 shares for $1034.5586075005847\n",
      "On the 82th day, Bought 3.99616368286445 shares for $500.0\n",
      "On the 83th day, Bought 3.9701445132602826 shares for $500.0\n",
      "On the 84th day, Bought 0 shares for $0.0\n",
      "On the 85th day, Bought 0 shares for $0.0\n",
      "On the 86th day, Bought 0 shares for $0.0\n",
      "On the 127th day, sold 7.966308196124732 shares for $994.7529044500953\n"
     ]
    },
    {
     "name": "stderr",
     "output_type": "stream",
     "text": [
      "[*********************100%***********************]  1 of 1 completed"
     ]
    },
    {
     "name": "stdout",
     "output_type": "stream",
     "text": [
      "XLI Final Value: 1029.3115119506801, Final Money: 1029.3115119506801, Final Shares: 0.0\n",
      "read  1258  lines of data for ticker:  XLI\n"
     ]
    },
    {
     "name": "stderr",
     "output_type": "stream",
     "text": [
      "\n",
      "[*********************100%***********************]  1 of 1 completed\n"
     ]
    },
    {
     "name": "stdout",
     "output_type": "stream",
     "text": [
      "read  251  lines of data for ticker:  XLI\n",
      "On the 30th day, Bought 4.132231404958677 shares for $499.99999999999994\n",
      "On the 31th day, Bought 4.114549045424622 shares for $500.0\n",
      "On the 32th day, Bought 0 shares for $0.0\n",
      "On the 33th day, Bought 0 shares for $0.0\n",
      "On the 74th day, sold 8.246780450383298 shares for $1005.4474725107317\n",
      "On the 81th day, Bought 3.9952057530962843 shares for $500.0\n",
      "On the 94th day, sold 3.9952057530962843 shares for $493.4478625649221\n"
     ]
    },
    {
     "name": "stderr",
     "output_type": "stream",
     "text": [
      "[*********************100%***********************]  1 of 1 completed"
     ]
    },
    {
     "name": "stdout",
     "output_type": "stream",
     "text": [
      "XLI Final Value: 998.895335075654, Final Money: 998.895335075654, Final Shares: 0.0\n",
      "read  1258  lines of data for ticker:  XLI\n"
     ]
    },
    {
     "name": "stderr",
     "output_type": "stream",
     "text": [
      "\n",
      "[*********************100%***********************]  1 of 1 completed\n"
     ]
    },
    {
     "name": "stdout",
     "output_type": "stream",
     "text": [
      "read  251  lines of data for ticker:  XLI\n",
      "On the 31th day, Bought 4.114549045424622 shares for $500.0\n",
      "On the 93th day, sold 4.114549045424622 shares for $502.09842001316656\n"
     ]
    },
    {
     "name": "stderr",
     "output_type": "stream",
     "text": [
      "[*********************100%***********************]  1 of 1 completed"
     ]
    },
    {
     "name": "stdout",
     "output_type": "stream",
     "text": [
      "XLI Final Value: 1002.0984200131666, Final Money: 1002.0984200131666, Final Shares: 0.0\n",
      "read  1258  lines of data for ticker:  XLI\n"
     ]
    },
    {
     "name": "stderr",
     "output_type": "stream",
     "text": [
      "\n",
      "[*********************100%***********************]  1 of 1 completed\n"
     ]
    },
    {
     "name": "stdout",
     "output_type": "stream",
     "text": [
      "read  251  lines of data for ticker:  XLI\n",
      "On the 80th day, Bought 3.9783577339274347 shares for $500.0\n",
      "On the 95th day, sold 3.9783577339274347 shares for $485.35964353914704\n",
      "XLI Final Value: 985.3596435391471, Final Money: 985.3596435391471, Final Shares: 0.0\n"
     ]
    },
    {
     "name": "stderr",
     "output_type": "stream",
     "text": [
      "[*********************100%***********************]  1 of 1 completed\n"
     ]
    },
    {
     "name": "stdout",
     "output_type": "stream",
     "text": [
      "read  1258  lines of data for ticker:  XLK\n"
     ]
    },
    {
     "name": "stderr",
     "output_type": "stream",
     "text": [
      "[*********************100%***********************]  1 of 1 completed\n"
     ]
    },
    {
     "name": "stdout",
     "output_type": "stream",
     "text": [
      "read  251  lines of data for ticker:  XLK\n",
      "On the 50th day, Bought 2.400729821865847 shares for $500.0\n",
      "On the 51th day, Bought 2.3940627244433803 shares for $499.99999999999994\n",
      "On the 52th day, Bought 0 shares for $0.0\n",
      "On the 53th day, Bought 0 shares for $0.0\n",
      "On the 83th day, Bought 0 shares for $0.0\n",
      "On the 84th day, Bought 0 shares for $0.0\n",
      "On the 85th day, Bought 0 shares for $0.0\n",
      "On the 86th day, Bought 0 shares for $0.0\n",
      "On the 124th day, sold 4.794792546309227 shares for $1119.296372010426\n",
      "On the 175th day, Bought 2.2005105184402782 shares for $500.0\n"
     ]
    },
    {
     "name": "stderr",
     "output_type": "stream",
     "text": [
      "[*********************100%***********************]  1 of 1 completed"
     ]
    },
    {
     "name": "stdout",
     "output_type": "stream",
     "text": [
      "On the 235th day, sold 2.2005105184402782 shares for $519.232461931168\n",
      "XLK Final Value: 1138.528833941594, Final Money: 1138.528833941594, Final Shares: 0.0\n",
      "read  1258  lines of data for ticker:  XLK\n"
     ]
    },
    {
     "name": "stderr",
     "output_type": "stream",
     "text": [
      "\n",
      "[*********************100%***********************]  1 of 1 completed\n"
     ]
    },
    {
     "name": "stdout",
     "output_type": "stream",
     "text": [
      "read  251  lines of data for ticker:  XLK\n",
      "On the 47th day, Bought 2.3978515250335697 shares for $500.0\n",
      "On the 48th day, Bought 1 shares for $207.66\n",
      "On the 49th day, Bought 1 shares for $208.72\n",
      "On the 50th day, Bought 0 shares for $0.0\n",
      "On the 51th day, Bought 0 shares for $0.0\n",
      "On the 83th day, Bought 0 shares for $0.0\n",
      "On the 84th day, Bought 0 shares for $0.0\n",
      "On the 85th day, Bought 0 shares for $0.0\n",
      "On the 111th day, sold 4.39785152503357 shares for $994.9699290235949\n",
      "On the 118th day, Bought 2.132468972576449 shares for $500.0\n",
      "On the 119th day, Bought 2.134198395082807 shares for $500.0\n",
      "On the 120th day, Bought 0 shares for $0.0\n",
      "On the 121th day, Bought 0 shares for $0.0\n",
      "On the 126th day, sold 4.266667367659256 shares for $957.3548239553838\n",
      "On the 197th day, Bought 2.171835635479107 shares for $500.0\n",
      "On the 198th day, Bought 2.142979598834219 shares for $500.0\n",
      "On the 202th day, sold 4.3148152343133255 shares for $965.3967605252635\n"
     ]
    },
    {
     "name": "stderr",
     "output_type": "stream",
     "text": [
      "[*********************100%***********************]  1 of 1 completed"
     ]
    },
    {
     "name": "stdout",
     "output_type": "stream",
     "text": [
      "XLK Final Value: 1001.3415135042424, Final Money: 1001.3415135042424, Final Shares: 0.0\n",
      "read  1258  lines of data for ticker:  XLK\n"
     ]
    },
    {
     "name": "stderr",
     "output_type": "stream",
     "text": [
      "\n",
      "[*********************100%***********************]  1 of 1 completed\n"
     ]
    },
    {
     "name": "stdout",
     "output_type": "stream",
     "text": [
      "read  251  lines of data for ticker:  XLK\n",
      "On the 83th day, Bought 2.3470872647045016 shares for $500.0\n",
      "On the 85th day, Bought 1 shares for $211.82\n",
      "On the 101th day, Bought 1 shares for $220.17\n",
      "On the 127th day, sold 4.347087264704502 shares for $960.1411641552834\n",
      "On the 173th day, Bought 2.2360359554581635 shares for $499.99999999999994\n",
      "On the 174th day, Bought 2.229654403567447 shares for $500.0\n",
      "On the 175th day, Bought 0 shares for $0.0\n",
      "On the 193th day, Bought 0 shares for $0.0\n",
      "On the 204th day, sold 4.4656903590256105 shares for $1042.0688452786262\n"
     ]
    },
    {
     "name": "stderr",
     "output_type": "stream",
     "text": [
      "[*********************100%***********************]  1 of 1 completed"
     ]
    },
    {
     "name": "stdout",
     "output_type": "stream",
     "text": [
      "XLK Final Value: 1070.2200094339096, Final Money: 1070.2200094339096, Final Shares: 0.0\n",
      "read  1258  lines of data for ticker:  XLK\n"
     ]
    },
    {
     "name": "stderr",
     "output_type": "stream",
     "text": [
      "\n",
      "[*********************100%***********************]  1 of 1 completed\n"
     ]
    },
    {
     "name": "stdout",
     "output_type": "stream",
     "text": [
      "read  251  lines of data for ticker:  XLK\n",
      "On the 48th day, Bought 2.4077819512664935 shares for $500.00000000000006\n",
      "On the 49th day, Bought 1 shares for $208.72\n",
      "On the 50th day, Bought 1 shares for $208.27\n",
      "On the 51th day, Bought 0 shares for $0.0\n",
      "On the 52th day, Bought 0 shares for $0.0\n",
      "On the 53th day, Bought 0 shares for $0.0\n",
      "On the 110th day, sold 4.407781951266493 shares for $998.3626119618607\n",
      "On the 178th day, Bought 2.2700444928720604 shares for $500.0\n",
      "On the 197th day, Bought 2.171835635479107 shares for $500.0\n",
      "On the 198th day, Bought 0 shares for $0.0\n",
      "On the 204th day, sold 4.441880128351167 shares for $1036.5127279507449\n",
      "XLK Final Value: 1117.8853399126056, Final Money: 1117.8853399126056, Final Shares: 0.0\n"
     ]
    },
    {
     "name": "stderr",
     "output_type": "stream",
     "text": [
      "[*********************100%***********************]  1 of 1 completed\n"
     ]
    },
    {
     "name": "stdout",
     "output_type": "stream",
     "text": [
      "read  1258  lines of data for ticker:  XLP\n"
     ]
    },
    {
     "name": "stderr",
     "output_type": "stream",
     "text": [
      "[*********************100%***********************]  1 of 1 completed\n"
     ]
    },
    {
     "name": "stdout",
     "output_type": "stream",
     "text": [
      "read  251  lines of data for ticker:  XLP\n",
      "On the 34th day, Bought 6.637461834594451 shares for $500.0\n",
      "On the 70th day, sold 6.637461834594451 shares for $501.7257400769946\n",
      "On the 122th day, Bought 6.455777921239509 shares for $500.0\n",
      "On the 123th day, Bought 6.4935064935064934 shares for $500.0\n",
      "On the 124th day, Bought 0 shares for $0.0\n",
      "On the 136th day, sold 12.949284414746003 shares for $1017.4252764665933\n",
      "On the 202th day, Bought 6.221226825930073 shares for $500.0\n",
      "On the 203th day, Bought 6.181998021760633 shares for $500.0\n",
      "On the 207th day, sold 12.403224847690707 shares for $998.9557292330096\n",
      "XLP Final Value: 1018.1067457765976, Final Money: 1018.1067457765976, Final Shares: 0.0\n"
     ]
    },
    {
     "name": "stderr",
     "output_type": "stream",
     "text": [
      "[*********************100%***********************]  1 of 1 completed\n"
     ]
    },
    {
     "name": "stdout",
     "output_type": "stream",
     "text": [
      "read  1258  lines of data for ticker:  XLP\n"
     ]
    },
    {
     "name": "stderr",
     "output_type": "stream",
     "text": [
      "[*********************100%***********************]  1 of 1 completed\n"
     ]
    },
    {
     "name": "stdout",
     "output_type": "stream",
     "text": [
      "read  251  lines of data for ticker:  XLP\n",
      "On the 104th day, Bought 6.49772579597141 shares for $500.0\n",
      "On the 111th day, Bought 5 shares for $386.25\n",
      "On the 128th day, sold 11.497725795971409 shares for $898.4322936972059\n"
     ]
    },
    {
     "name": "stderr",
     "output_type": "stream",
     "text": [
      "[*********************100%***********************]  1 of 1 completed"
     ]
    },
    {
     "name": "stdout",
     "output_type": "stream",
     "text": [
      "XLP Final Value: 1012.1822936972059, Final Money: 1012.1822936972059, Final Shares: 0.0\n",
      "read  1258  lines of data for ticker:  XLP\n"
     ]
    },
    {
     "name": "stderr",
     "output_type": "stream",
     "text": [
      "\n",
      "[*********************100%***********************]  1 of 1 completed\n"
     ]
    },
    {
     "name": "stdout",
     "output_type": "stream",
     "text": [
      "read  251  lines of data for ticker:  XLP\n",
      "On the 102th day, Bought 6.518055012384305 shares for $499.99999999999994\n",
      "On the 103th day, Bought 6.509569066527796 shares for $500.0\n",
      "On the 104th day, Bought 0 shares for $0.0\n",
      "On the 107th day, Bought 0 shares for $0.0\n",
      "On the 110th day, Bought 0 shares for $0.0\n",
      "On the 126th day, sold 13.027624078912101 shares for $1020.714346582763\n"
     ]
    },
    {
     "name": "stderr",
     "output_type": "stream",
     "text": [
      "[*********************100%***********************]  1 of 1 completed"
     ]
    },
    {
     "name": "stdout",
     "output_type": "stream",
     "text": [
      "XLP Final Value: 1020.714346582763, Final Money: 1020.714346582763, Final Shares: 0.0\n",
      "read  1258  lines of data for ticker:  XLP\n"
     ]
    },
    {
     "name": "stderr",
     "output_type": "stream",
     "text": [
      "\n",
      "[*********************100%***********************]  1 of 1 completed\n"
     ]
    },
    {
     "name": "stdout",
     "output_type": "stream",
     "text": [
      "read  251  lines of data for ticker:  XLP\n",
      "On the 179th day, Bought 6.0960741282614 shares for $500.00000000000006\n",
      "On the 205th day, sold 6.0960741282614 shares for $486.7715191416728\n",
      "XLP Final Value: 986.7715191416728, Final Money: 986.7715191416728, Final Shares: 0.0\n"
     ]
    },
    {
     "name": "stderr",
     "output_type": "stream",
     "text": [
      "[*********************100%***********************]  1 of 1 completed\n"
     ]
    },
    {
     "name": "stdout",
     "output_type": "stream",
     "text": [
      "read  1258  lines of data for ticker:  XLV\n"
     ]
    },
    {
     "name": "stderr",
     "output_type": "stream",
     "text": [
      "[*********************100%***********************]  1 of 1 completed\n"
     ]
    },
    {
     "name": "stdout",
     "output_type": "stream",
     "text": [
      "read  251  lines of data for ticker:  XLV\n",
      "On the 47th day, Bought 3.442577802258331 shares for $500.0\n",
      "On the 55th day, sold 3.442577802258331 shares for $493.04599283943816\n"
     ]
    },
    {
     "name": "stderr",
     "output_type": "stream",
     "text": [
      "[*********************100%***********************]  1 of 1 completed"
     ]
    },
    {
     "name": "stdout",
     "output_type": "stream",
     "text": [
      "XLV Final Value: 993.0459928394382, Final Money: 993.0459928394382, Final Shares: 0.0\n",
      "read  1258  lines of data for ticker:  XLV\n"
     ]
    },
    {
     "name": "stderr",
     "output_type": "stream",
     "text": [
      "\n",
      "[*********************100%***********************]  1 of 1 completed\n"
     ]
    },
    {
     "name": "stdout",
     "output_type": "stream",
     "text": [
      "read  251  lines of data for ticker:  XLV\n",
      "On the 200th day, Bought 3.404371212637026 shares for $500.0\n",
      "On the 211th day, sold 3.404371212637026 shares for $482.8760128004358\n"
     ]
    },
    {
     "name": "stderr",
     "output_type": "stream",
     "text": [
      "[*********************100%***********************]  1 of 1 completed"
     ]
    },
    {
     "name": "stdout",
     "output_type": "stream",
     "text": [
      "XLV Final Value: 982.8760128004358, Final Money: 982.8760128004358, Final Shares: 0.0\n",
      "read  1258  lines of data for ticker:  XLV\n"
     ]
    },
    {
     "name": "stderr",
     "output_type": "stream",
     "text": [
      "\n",
      "[*********************100%***********************]  1 of 1 completed\n"
     ]
    },
    {
     "name": "stdout",
     "output_type": "stream",
     "text": [
      "read  251  lines of data for ticker:  XLV\n",
      "On the 197th day, Bought 3.359989248034406 shares for $499.99999999999994\n",
      "On the 209th day, sold 3.359989248034406 shares for $493.3472212888919\n"
     ]
    },
    {
     "name": "stderr",
     "output_type": "stream",
     "text": [
      "[*********************100%***********************]  1 of 1 completed"
     ]
    },
    {
     "name": "stdout",
     "output_type": "stream",
     "text": [
      "XLV Final Value: 993.3472212888919, Final Money: 993.3472212888919, Final Shares: 0.0\n",
      "read  1258  lines of data for ticker:  XLV\n"
     ]
    },
    {
     "name": "stderr",
     "output_type": "stream",
     "text": [
      "\n",
      "[*********************100%***********************]  1 of 1 completed\n"
     ]
    },
    {
     "name": "stdout",
     "output_type": "stream",
     "text": [
      "read  251  lines of data for ticker:  XLV\n",
      "On the 43th day, Bought 3.4298257648511457 shares for $500.0\n",
      "On the 53th day, sold 3.4298257648511457 shares for $493.9978049115105\n",
      "On the 77th day, Bought 3.5070491688293473 shares for $500.0\n",
      "On the 95th day, sold 3.5070491688293473 shares for $507.50508522129485\n",
      "On the 199th day, Bought 3.3756413718606533 shares for $500.0\n",
      "On the 200th day, Bought 3.404371212637026 shares for $500.0\n",
      "On the 211th day, sold 6.78001258449768 shares for $961.676984985151\n",
      "On the 221th day, Bought 3.397893306150187 shares for $500.0\n",
      "XLV Final Value: 935.3511289405862, Final Money: 463.17987511795627, Final Shares: 3.397893306150187\n"
     ]
    },
    {
     "name": "stderr",
     "output_type": "stream",
     "text": [
      "[*********************100%***********************]  1 of 1 completed\n"
     ]
    },
    {
     "name": "stdout",
     "output_type": "stream",
     "text": [
      "read  1258  lines of data for ticker:  XLY\n"
     ]
    },
    {
     "name": "stderr",
     "output_type": "stream",
     "text": [
      "[*********************100%***********************]  1 of 1 completed\n"
     ]
    },
    {
     "name": "stdout",
     "output_type": "stream",
     "text": [
      "read  251  lines of data for ticker:  XLY\n",
      "On the 83th day, Bought 2.794076557697681 shares for $499.99999999999994\n",
      "On the 84th day, Bought 2.812306653917543 shares for $500.0\n",
      "On the 117th day, sold 5.606383211615224 shares for $1061.288341958762\n",
      "On the 177th day, Bought 2.495383540450167 shares for $500.0\n",
      "On the 178th day, Bought 2.5055121266786933 shares for $500.00000000000006\n",
      "On the 190th day, Bought 0 shares for $0.0\n",
      "On the 191th day, Bought 0 shares for $0.0\n",
      "On the 192th day, Bought 0 shares for $0.0\n",
      "On the 206th day, sold 5.0008956671288605 shares for $1075.7926759127604\n",
      "XLY Final Value: 1137.0810178715224, Final Money: 1137.0810178715224, Final Shares: 0.0\n"
     ]
    },
    {
     "name": "stderr",
     "output_type": "stream",
     "text": [
      "[*********************100%***********************]  1 of 1 completed\n"
     ]
    },
    {
     "name": "stdout",
     "output_type": "stream",
     "text": [
      "read  1258  lines of data for ticker:  XLY\n"
     ]
    },
    {
     "name": "stderr",
     "output_type": "stream",
     "text": [
      "[*********************100%***********************]  1 of 1 completed\n"
     ]
    },
    {
     "name": "stdout",
     "output_type": "stream",
     "text": [
      "read  251  lines of data for ticker:  XLY\n",
      "On the 169th day, Bought 2.594033722438392 shares for $500.0\n",
      "On the 170th day, Bought 1 shares for $197.14\n",
      "On the 197th day, sold 3.594033722438392 shares for $723.4071076523995\n"
     ]
    },
    {
     "name": "stderr",
     "output_type": "stream",
     "text": [
      "[*********************100%***********************]  1 of 1 completed"
     ]
    },
    {
     "name": "stdout",
     "output_type": "stream",
     "text": [
      "XLY Final Value: 1026.2671076523995, Final Money: 1026.2671076523995, Final Shares: 0.0\n",
      "read  1258  lines of data for ticker:  XLY\n"
     ]
    },
    {
     "name": "stderr",
     "output_type": "stream",
     "text": [
      "\n",
      "[*********************100%***********************]  1 of 1 completed\n"
     ]
    },
    {
     "name": "stdout",
     "output_type": "stream",
     "text": [
      "read  251  lines of data for ticker:  XLY\n",
      "On the 99th day, Bought 2.814364516492176 shares for $500.0\n",
      "On the 100th day, Bought 2.8053638556920832 shares for $499.99999999999994\n",
      "On the 126th day, sold 5.619728372184259 shares for $1064.938526528917\n",
      "On the 167th day, Bought 2.602133749674733 shares for $500.0\n",
      "On the 205th day, sold 2.602133749674733 shares for $551.9385896435077\n"
     ]
    },
    {
     "name": "stderr",
     "output_type": "stream",
     "text": [
      "[*********************100%***********************]  1 of 1 completed"
     ]
    },
    {
     "name": "stdout",
     "output_type": "stream",
     "text": [
      "XLY Final Value: 1116.8771161724248, Final Money: 1116.8771161724248, Final Shares: 0.0\n",
      "read  1258  lines of data for ticker:  XLY\n"
     ]
    },
    {
     "name": "stderr",
     "output_type": "stream",
     "text": [
      "\n",
      "[*********************100%***********************]  1 of 1 completed\n"
     ]
    },
    {
     "name": "stdout",
     "output_type": "stream",
     "text": [
      "read  251  lines of data for ticker:  XLY\n",
      "On the 169th day, Bought 2.594033722438392 shares for $500.0\n",
      "On the 170th day, Bought 1 shares for $197.14\n",
      "On the 171th day, Bought 1 shares for $196.69\n",
      "On the 179th day, Bought 0 shares for $0.0\n",
      "On the 196th day, sold 4.594033722438391 shares for $922.5279118028534\n",
      "XLY Final Value: 1028.6979118028535, Final Money: 1028.6979118028535, Final Shares: 0.0\n"
     ]
    },
    {
     "name": "stderr",
     "output_type": "stream",
     "text": [
      "[*********************100%***********************]  1 of 1 completed\n"
     ]
    },
    {
     "name": "stdout",
     "output_type": "stream",
     "text": [
      "read  1258  lines of data for ticker:  XLU\n"
     ]
    },
    {
     "name": "stderr",
     "output_type": "stream",
     "text": [
      "[*********************100%***********************]  1 of 1 completed\n"
     ]
    },
    {
     "name": "stdout",
     "output_type": "stream",
     "text": [
      "read  251  lines of data for ticker:  XLU\n",
      "On the 47th day, Bought 7.793017456359102 shares for $500.0\n",
      "On the 65th day, sold 7.793017456359102 shares for $509.89713216957614\n",
      "On the 87th day, Bought 6.861534239055852 shares for $500.0\n",
      "On the 88th day, Bought 6.943480072212192 shares for $500.0\n",
      "On the 137th day, sold 13.805014311268044 shares for $1024.6081621823141\n"
     ]
    },
    {
     "name": "stderr",
     "output_type": "stream",
     "text": [
      "[*********************100%***********************]  1 of 1 completed"
     ]
    },
    {
     "name": "stdout",
     "output_type": "stream",
     "text": [
      "XLU Final Value: 1034.5052943518904, Final Money: 1034.5052943518904, Final Shares: 0.0\n",
      "read  1258  lines of data for ticker:  XLU\n"
     ]
    },
    {
     "name": "stderr",
     "output_type": "stream",
     "text": [
      "\n",
      "[*********************100%***********************]  1 of 1 completed\n"
     ]
    },
    {
     "name": "stdout",
     "output_type": "stream",
     "text": [
      "read  251  lines of data for ticker:  XLU\n",
      "On the 37th day, Bought 7.803964413922273 shares for $500.0\n",
      "On the 65th day, sold 7.803964413922273 shares for $510.61339160293437\n",
      "On the 147th day, Bought 6.716818914562063 shares for $500.0\n",
      "On the 148th day, Bought 6.6728947017216065 shares for $500.0\n",
      "On the 172th day, sold 13.38971361628367 shares for $1075.5956947960672\n"
     ]
    },
    {
     "name": "stderr",
     "output_type": "stream",
     "text": [
      "[*********************100%***********************]  1 of 1 completed"
     ]
    },
    {
     "name": "stdout",
     "output_type": "stream",
     "text": [
      "XLU Final Value: 1086.2090863990015, Final Money: 1086.2090863990015, Final Shares: 0.0\n",
      "read  1258  lines of data for ticker:  XLU\n"
     ]
    },
    {
     "name": "stderr",
     "output_type": "stream",
     "text": [
      "\n",
      "[*********************100%***********************]  1 of 1 completed\n"
     ]
    },
    {
     "name": "stdout",
     "output_type": "stream",
     "text": [
      "read  251  lines of data for ticker:  XLU\n",
      "On the 47th day, Bought 7.793017456359102 shares for $500.0\n",
      "On the 66th day, sold 7.793017456359102 shares for $514.5729426433916\n",
      "On the 144th day, Bought 6.741270055278414 shares for $500.0\n",
      "On the 171th day, sold 6.741270055278414 shares for $539.8409060266954\n"
     ]
    },
    {
     "name": "stderr",
     "output_type": "stream",
     "text": [
      "[*********************100%***********************]  1 of 1 completed"
     ]
    },
    {
     "name": "stdout",
     "output_type": "stream",
     "text": [
      "On the 242th day, Bought 6.555657532450505 shares for $500.0\n",
      "XLU Final Value: 1059.7239312713718, Final Money: 554.413848670087, Final Shares: 6.555657532450505\n",
      "read  1258  lines of data for ticker:  XLU\n"
     ]
    },
    {
     "name": "stderr",
     "output_type": "stream",
     "text": [
      "\n",
      "[*********************100%***********************]  1 of 1 completed\n"
     ]
    },
    {
     "name": "stdout",
     "output_type": "stream",
     "text": [
      "read  251  lines of data for ticker:  XLU\n",
      "On the 36th day, Bought 7.8431372549019605 shares for $500.0\n",
      "On the 95th day, sold 7.8431372549019605 shares for $563.843137254902\n",
      "On the 147th day, Bought 6.716818914562063 shares for $500.0\n",
      "On the 148th day, Bought 6.6728947017216065 shares for $500.0\n",
      "On the 173th day, sold 13.38971361628367 shares for $1067.9635580347856\n",
      "On the 228th day, Bought 6.44080896560608 shares for $499.99999999999994\n",
      "On the 229th day, Bought 6.444129398118314 shares for $500.0\n",
      "On the 230th day, Bought 1 shares for $77.64\n",
      "On the 231th day, Bought 0 shares for $0.0\n",
      "On the 232th day, Bought 0 shares for $0.0\n",
      "On the 233th day, Bought 0 shares for $0.0\n",
      "XLU Final Value: 1124.417744365564, Final Money: 54.166695289687695, Final Shares: 13.884938363724395\n"
     ]
    },
    {
     "name": "stderr",
     "output_type": "stream",
     "text": [
      "[*********************100%***********************]  1 of 1 completed\n"
     ]
    },
    {
     "name": "stdout",
     "output_type": "stream",
     "text": [
      "read  1258  lines of data for ticker:  SPY\n"
     ]
    },
    {
     "name": "stderr",
     "output_type": "stream",
     "text": [
      "[*********************100%***********************]  1 of 1 completed\n"
     ]
    },
    {
     "name": "stdout",
     "output_type": "stream",
     "text": [
      "read  251  lines of data for ticker:  SPY\n",
      "On the 51th day, Bought 0.9575609008732956 shares for $500.0\n",
      "On the 59th day, sold 0.9575609008732956 shares for $496.01654665236714\n",
      "On the 83th day, Bought 0.9437879874664956 shares for $500.0\n",
      "On the 127th day, sold 0.9437879874664956 shares for $518.1301672392315\n"
     ]
    },
    {
     "name": "stderr",
     "output_type": "stream",
     "text": [
      "[*********************100%***********************]  1 of 1 completed"
     ]
    },
    {
     "name": "stdout",
     "output_type": "stream",
     "text": [
      "On the 223th day, Bought 0.8228285554421881 shares for $500.0\n",
      "On the 224th day, Bought 0.8241848811525402 shares for $500.0\n",
      "On the 237th day, sold 1.6470134365947282 shares for $990.34917942441\n",
      "SPY Final Value: 1004.4958933160086, Final Money: 1004.4958933160086, Final Shares: 0.0\n"
     ]
    },
    {
     "name": "stderr",
     "output_type": "stream",
     "text": [
      "\n"
     ]
    },
    {
     "name": "stdout",
     "output_type": "stream",
     "text": [
      "read  1258  lines of data for ticker:  SPY\n"
     ]
    },
    {
     "name": "stderr",
     "output_type": "stream",
     "text": [
      "[*********************100%***********************]  1 of 1 completed\n"
     ]
    },
    {
     "name": "stdout",
     "output_type": "stream",
     "text": [
      "read  251  lines of data for ticker:  SPY\n",
      "On the 83th day, Bought 0.9437879874664956 shares for $500.0\n",
      "On the 126th day, sold 0.9437879874664956 shares for $521.5938691532334\n",
      "On the 197th day, Bought 0.8608370779746225 shares for $500.0\n",
      "On the 199th day, Bought 0.8620541025154739 shares for $500.0\n",
      "On the 205th day, sold 1.7228911804900964 shares for $1026.1712160117063\n",
      "On the 219th day, Bought 0.8349615082744685 shares for $500.0\n",
      "On the 238th day, sold 0.8349615082744685 shares for $502.0957533857689\n",
      "SPY Final Value: 1049.8608385507084, Final Money: 1049.8608385507084, Final Shares: 0.0\n"
     ]
    },
    {
     "name": "stderr",
     "output_type": "stream",
     "text": [
      "[*********************100%***********************]  1 of 1 completed\n"
     ]
    },
    {
     "name": "stdout",
     "output_type": "stream",
     "text": [
      "read  1258  lines of data for ticker:  SPY\n"
     ]
    },
    {
     "name": "stderr",
     "output_type": "stream",
     "text": [
      "[*********************100%***********************]  1 of 1 completed\n"
     ]
    },
    {
     "name": "stdout",
     "output_type": "stream",
     "text": [
      "read  251  lines of data for ticker:  SPY\n",
      "On the 30th day, Bought 0.9840969925995906 shares for $500.0\n",
      "On the 61th day, sold 0.9840969925995906 shares for $496.4277279168635\n",
      "On the 87th day, Bought 0.9409816320385426 shares for $500.0\n",
      "On the 127th day, sold 0.9409816320385426 shares for $516.5895061728395\n",
      "On the 197th day, Bought 0 shares for $0.0\n",
      "On the 218th day, Bought 0 shares for $0.0\n",
      "On the 219th day, Bought 0 shares for $0.0\n",
      "On the 220th day, Bought 0 shares for $0.0\n",
      "SPY Final Value: 1013.0172340897029, Final Money: 1013.0172340897029, Final Shares: 0.0\n"
     ]
    },
    {
     "name": "stderr",
     "output_type": "stream",
     "text": [
      "[*********************100%***********************]  1 of 1 completed\n"
     ]
    },
    {
     "name": "stdout",
     "output_type": "stream",
     "text": [
      "read  1258  lines of data for ticker:  SPY\n"
     ]
    },
    {
     "name": "stderr",
     "output_type": "stream",
     "text": [
      "[*********************100%***********************]  1 of 1 completed\n"
     ]
    },
    {
     "name": "stdout",
     "output_type": "stream",
     "text": [
      "read  251  lines of data for ticker:  SPY\n",
      "On the 49th day, Bought 0.9557122923715046 shares for $500.0\n",
      "On the 61th day, sold 0.9557122923715046 shares for $482.10906588680547\n",
      "On the 81th day, Bought 0.959858708798065 shares for $500.0\n",
      "On the 126th day, sold 0.959858708798065 shares for $530.4755140043386\n",
      "On the 219th day, Bought 0.8349615082744685 shares for $500.0\n",
      "On the 237th day, sold 0.8349615082744685 shares for $502.06235492543783\n",
      "SPY Final Value: 1014.6469348165818, Final Money: 1014.6469348165818, Final Shares: 0.0\n"
     ]
    },
    {
     "name": "stderr",
     "output_type": "stream",
     "text": [
      "[*********************100%***********************]  1 of 1 completed\n"
     ]
    },
    {
     "name": "stdout",
     "output_type": "stream",
     "text": [
      "read  1258  lines of data for ticker:  XLB\n"
     ]
    },
    {
     "name": "stderr",
     "output_type": "stream",
     "text": [
      "[*********************100%***********************]  1 of 1 completed\n"
     ]
    },
    {
     "name": "stdout",
     "output_type": "stream",
     "text": [
      "read  251  lines of data for ticker:  XLB\n",
      "On the 83th day, Bought 5.433010974682169 shares for $500.0\n",
      "On the 85th day, Bought 4 shares for $368.6\n",
      "On the 86th day, Bought 1 shares for $92.28\n",
      "On the 133th day, sold 10.433010974682169 shares for $954.5161740736716\n",
      "On the 187th day, Bought 5.184570717544587 shares for $500.0\n",
      "On the 192th day, Bought 4 shares for $387.52\n"
     ]
    },
    {
     "name": "stderr",
     "output_type": "stream",
     "text": [
      "[*********************100%***********************]  1 of 1 completed"
     ]
    },
    {
     "name": "stdout",
     "output_type": "stream",
     "text": [
      "On the 228th day, sold 9.184570717544588 shares for $832.3976441310659\n",
      "XLB Final Value: 938.5138182047375, Final Money: 938.5138182047375, Final Shares: 0.0\n"
     ]
    },
    {
     "name": "stderr",
     "output_type": "stream",
     "text": [
      "\n"
     ]
    },
    {
     "name": "stdout",
     "output_type": "stream",
     "text": [
      "read  1258  lines of data for ticker:  XLB\n"
     ]
    },
    {
     "name": "stderr",
     "output_type": "stream",
     "text": [
      "[*********************100%***********************]  1 of 1 completed\n"
     ]
    },
    {
     "name": "stdout",
     "output_type": "stream",
     "text": [
      "read  251  lines of data for ticker:  XLB\n",
      "On the 70th day, Bought 5.5853440571939235 shares for $500.0\n",
      "On the 74th day, sold 5.5853440571939235 shares for $495.0290437890974\n",
      "On the 184th day, Bought 5.260389268805892 shares for $500.00000000000006\n",
      "On the 230th day, Bought 4 shares for $356.92\n",
      "On the 232th day, Bought 1 shares for $87.95\n",
      "On the 238th day, sold 10.260389268805891 shares for $876.2372435560231\n"
     ]
    },
    {
     "name": "stderr",
     "output_type": "stream",
     "text": [
      "[*********************100%***********************]  1 of 1 completed"
     ]
    },
    {
     "name": "stdout",
     "output_type": "stream",
     "text": [
      "XLB Final Value: 926.3962873451204, Final Money: 926.3962873451204, Final Shares: 0.0\n",
      "read  1258  lines of data for ticker:  XLB\n"
     ]
    },
    {
     "name": "stderr",
     "output_type": "stream",
     "text": [
      "\n",
      "[*********************100%***********************]  1 of 1 completed\n"
     ]
    },
    {
     "name": "stdout",
     "output_type": "stream",
     "text": [
      "read  251  lines of data for ticker:  XLB\n",
      "On the 87th day, Bought 5.418292154312961 shares for $500.0\n",
      "On the 95th day, sold 5.418292154312961 shares for $493.01040312093625\n",
      "On the 181th day, Bought 5.253756435851634 shares for $500.0\n",
      "On the 183th day, Bought 4 shares for $377.8\n",
      "On the 184th day, Bought 1 shares for $95.05\n"
     ]
    },
    {
     "name": "stderr",
     "output_type": "stream",
     "text": [
      "[*********************100%***********************]  1 of 1 completed"
     ]
    },
    {
     "name": "stdout",
     "output_type": "stream",
     "text": [
      "XLB Final Value: 873.1704010194336, Final Money: 20.16040312093618, Final Shares: 10.253756435851635\n",
      "read  1258  lines of data for ticker:  XLB\n"
     ]
    },
    {
     "name": "stderr",
     "output_type": "stream",
     "text": [
      "\n",
      "[*********************100%***********************]  1 of 1 completed\n"
     ]
    },
    {
     "name": "stdout",
     "output_type": "stream",
     "text": [
      "read  251  lines of data for ticker:  XLB\n",
      "On the 169th day, Bought 5.357334190506804 shares for $500.0\n",
      "On the 236th day, sold 5.357334190506804 shares for $455.7484195864138\n",
      "XLB Final Value: 955.7484195864138, Final Money: 955.7484195864138, Final Shares: 0.0\n"
     ]
    },
    {
     "name": "stderr",
     "output_type": "stream",
     "text": [
      "[*********************100%***********************]  1 of 1 completed\n"
     ]
    },
    {
     "name": "stdout",
     "output_type": "stream",
     "text": [
      "read  1258  lines of data for ticker:  XLE\n"
     ]
    },
    {
     "name": "stderr",
     "output_type": "stream",
     "text": [
      "[*********************100%***********************]  1 of 1 completed\n"
     ]
    },
    {
     "name": "stdout",
     "output_type": "stream",
     "text": [
      "read  251  lines of data for ticker:  XLE\n",
      "On the 37th day, Bought 5.612932195779075 shares for $500.00000000000006\n",
      "On the 61th day, sold 5.612932195779075 shares for $534.5195330040414\n",
      "On the 192th day, Bought 5.551237926057511 shares for $500.0\n",
      "On the 193th day, Bought 5.538325210456358 shares for $500.0\n",
      "On the 194th day, Bought 0 shares for $0.0\n",
      "On the 195th day, Bought 0 shares for $0.0\n",
      "On the 196th day, Bought 0 shares for $0.0\n",
      "On the 197th day, Bought 0 shares for $0.0\n"
     ]
    },
    {
     "name": "stderr",
     "output_type": "stream",
     "text": [
      "[*********************100%***********************]  1 of 1 completed"
     ]
    },
    {
     "name": "stdout",
     "output_type": "stream",
     "text": [
      "XLE Final Value: 1004.5236205549094, Final Money: 34.51953300404125, Final Shares: 11.089563136513869\n",
      "read  1258  lines of data for ticker:  XLE\n"
     ]
    },
    {
     "name": "stderr",
     "output_type": "stream",
     "text": [
      "\n",
      "[*********************100%***********************]  1 of 1 completed\n"
     ]
    },
    {
     "name": "stdout",
     "output_type": "stream",
     "text": [
      "read  251  lines of data for ticker:  XLE\n",
      "On the 173th day, Bought 5.624296962879639 shares for $499.99999999999994\n",
      "On the 179th day, sold 5.624296962879639 shares for $510.2362204724409\n",
      "On the 196th day, Bought 5.569789461958338 shares for $500.0\n",
      "On the 197th day, Bought 5.605381165919282 shares for $500.0\n",
      "On the 198th day, Bought 0 shares for $0.0\n",
      "On the 238th day, sold 11.17517062787762 shares for $945.0841799996102\n"
     ]
    },
    {
     "name": "stderr",
     "output_type": "stream",
     "text": [
      "[*********************100%***********************]  1 of 1 completed"
     ]
    },
    {
     "name": "stdout",
     "output_type": "stream",
     "text": [
      "XLE Final Value: 955.3204004720511, Final Money: 955.3204004720511, Final Shares: 0.0\n",
      "read  1258  lines of data for ticker:  XLE\n"
     ]
    },
    {
     "name": "stderr",
     "output_type": "stream",
     "text": [
      "\n",
      "[*********************100%***********************]  1 of 1 completed\n"
     ]
    },
    {
     "name": "stdout",
     "output_type": "stream",
     "text": [
      "read  251  lines of data for ticker:  XLE\n",
      "On the 116th day, Bought 5.4626898284715395 shares for $500.0\n",
      "On the 138th day, sold 5.4626898284715395 shares for $472.2495356713646\n",
      "On the 186th day, Bought 5.3873505010235965 shares for $500.0\n",
      "On the 187th day, Bought 4 shares for $371.08\n"
     ]
    },
    {
     "name": "stderr",
     "output_type": "stream",
     "text": [
      "[*********************100%***********************]  1 of 1 completed"
     ]
    },
    {
     "name": "stdout",
     "output_type": "stream",
     "text": [
      "On the 226th day, sold 9.387350501023597 shares for $853.0285400280144\n",
      "On the 241th day, Bought 5.837030119075415 shares for $500.0\n",
      "XLE Final Value: 964.7631002149055, Final Money: 454.19807569937893, Final Shares: 5.837030119075415\n"
     ]
    },
    {
     "name": "stderr",
     "output_type": "stream",
     "text": [
      "\n"
     ]
    },
    {
     "name": "stdout",
     "output_type": "stream",
     "text": [
      "read  1258  lines of data for ticker:  XLE\n"
     ]
    },
    {
     "name": "stderr",
     "output_type": "stream",
     "text": [
      "[*********************100%***********************]  1 of 1 completed\n"
     ]
    },
    {
     "name": "stdout",
     "output_type": "stream",
     "text": [
      "read  251  lines of data for ticker:  XLE\n"
     ]
    }
   ],
   "source": [
    "num=20000\n",
    "for file in os.listdir('../output'):\n",
    "    if \"runtest\" in file:\n",
    "        num+=1\n",
    "os.mkdir(f'../output/runtest_{num}')\n",
    "for d,(start,end,start_t,end_t) in enumerate(date_list):\n",
    "    os.mkdir(f'../output/runtest_{num}/date_config{d}')\n",
    "    for model_type in models:\n",
    "        os.mkdir(f'../output/runtest_{num}/date_config{d}/{model_type}')\n",
    "        root = f'../output/runtest_{num}/date_config{d}/{model_type}'\n",
    "        with open(os.path.join(root,'run_data.txt'),'w') as f:\n",
    "            f.write(f'Start Training Date: {start} \\n End Training Date: {end} \\n Start Sim Date: {start_t} \\n End Sim Date: {end_t} \\n')\n",
    "            f.write(f'\\n Model Type: {model_type}')\n",
    "            f.write(f'Look-back window: {T} days')\n",
    "\n",
    "        for etf in etfs:\n",
    "            os.mkdir(f'{root}/{etf}')\n",
    "        for lr in lrs:\n",
    "            results = pd.DataFrame({\"ETF\":[],\"Metric\":[],\"Final_Value\":[],\"Passive_Potential\":[],\"Relative_MSE\":[],\"MAPE\":[],\"DM_stat\":[],\"DM_p\":[]})\n",
    "            money_df_std = pd.DataFrame()\n",
    "            money_df_atr = pd.DataFrame()\n",
    "            money_df_sd_prices = pd.DataFrame()\n",
    "            money_df_iqr = pd.DataFrame()\n",
    "            money_df_passive = pd.DataFrame()\n",
    "            for j,etf in enumerate(etfs):\n",
    "                #fig,ax = plt.subplots(1,len(metrics),figsize=(26,6))\n",
    "                fig,ax = plt.subplots(2,2,figsize=(12,9))\n",
    "                atr_preds = []\n",
    "                for i,metric in enumerate(metrics):\n",
    "                    scaler = StandardScaler()\n",
    "                    scaler_x = StandardScaler()\n",
    "                    df = get_cleaned_df(etf,start,end)\n",
    "                    #print(df)\n",
    "                    model,fig_tr,fig_te = get_trained_model(df,scaler, scaler_x, metric=metric,model_type=model_type)\n",
    "                    fig_tr.savefig(os.path.join(root,etf,f'training_results_{metric}'))\n",
    "                    fig_te.savefig(os.path.join(root,etf,f'testing_results_{metric}'))\n",
    "                    df_test = get_cleaned_df(etf,start_t,end_t)\n",
    "                    ini_cash = 10000\n",
    "                    final_value, money, shares,passive_value,buy_points,sell_points,preds, t_money,p_money,lowers,uppers,vols = backtest_strategy_mr(df_test,model,scaler,scaler_x,metric,sell_scale=2,buy_scale=2)\n",
    "                    fig_vol,ax_vol = plt.subplots(figsize=(10,5))\n",
    "                    sns.lineplot(x = range(0,len(df_test.index)-(T+1)),y=lowers,color = 'blue',ax=ax_vol,label = \"Buy\")\n",
    "                    sns.lineplot(x = range(0,len(df_test.index)-(T+1)),y=uppers,color = 'red',ax=ax_vol,label=\"Sell\")\n",
    "                    sns.lineplot(x = range(0,len(df_test.index)-(T+1)),y=vols,color = 'black',ax=ax_vol,label=f\"{metric}\")\n",
    "                    ax_vol.set_title(f\"Predicted {metric} and Buy/Sell Signals\")\n",
    "                    ax_vol.set_ylabel(f\"{metric}\")\n",
    "                    ax_vol.set_xlabel(f\"Days after {start_t}\")\n",
    "                    for buy in buy_points:\n",
    "                        ax_vol.axvline(buy,color = 'Orange',alpha=.5,)\n",
    "                    for sell in sell_points:\n",
    "                        ax_vol.axvline(sell,color='Purple',alpha=.5,)\n",
    "                    #ax_vol.legend()\n",
    "                    customize_ax(ax_vol)\n",
    "                    \n",
    "                    fig_vol.tight_layout()\n",
    "                    fig_vol.savefig(os.path.join(root,etf,f'{metric}_signals.png'))\n",
    "                    \n",
    "\n",
    "                    print(f\"{etf} Final Value: {final_value}, Final Money: {money}, Final Shares: {shares}\")\n",
    "                    \n",
    "                    real_met = np.array(df_test[metric].iloc[T:len(df_test)-1])\n",
    "                    atr_met = np.array(df_test[\"ATR\"].iloc[T:len(df_test)-1])\n",
    "                    null_model_error = np.sum((real_met-real_met.mean())**2)\n",
    "                    mse_error = 1/len(real_met) * np.sum((real_met-preds)**2)/null_model_error\n",
    "                    mape_error = 1/len(real_met) * np.sum(abs(real_met-preds)/(real_met+1e-8))\n",
    "                    if metric==\"ATR\": #atr should go first\n",
    "                        money_df_atr[etf] = t_money\n",
    "                        atr_preds = preds\n",
    "                    elif metric==metric3:\n",
    "                        money_df_std[etf] = t_money\n",
    "                        money_df_passive[f\"{etf}_Passive\"] = p_money\n",
    "                    elif metric == metric5:\n",
    "                        money_df_sd_prices[etf] = t_money\n",
    "                    elif metric == metric4:\n",
    "                        money_df_iqr[etf] = t_money\n",
    "\n",
    "                    dm,p = diebold_mariano_test(atr_met,atr_preds,real_met,preds,loss=\"mae\")\n",
    "                    results.loc[len(results)] = [etf,metric,final_value,passive_value,mse_error,mape_error,dm,p]\n",
    "\n",
    "                    sns.lineplot(preds,ax=ax[i//2][i%2],label=f\"Prediction {metric}\",color=\"Blue\",linestyle = '--')\n",
    "                    sns.lineplot(real_met,ax=ax[i//2][i%2],label = f\"True {metric}\",color=\"Orange\")\n",
    "                    sns.despine(ax=ax[i//2][i%2])\n",
    "                    #for buy in buy_points:\n",
    "                        #ax[i].axvline(buy,color=\"Green\",alpha=.6)\n",
    "                    #for sell in sell_points:\n",
    "                        #ax[i].axvline(sell,color=\"Red\",alpha=.6)\n",
    "                    ax[i//2][i%2].set_title(f\"{etf} - {metric} \",fontsize = 20)\n",
    "                    ax[i//2][i%2].set_xlabel(f'Total MSE Error {mse_error:.6f} | Total MAPE Error: {mape_error:.3f}')\n",
    "                    customize_ax(ax[i//2][i%2])\n",
    "                    #plt.title(f\"Performance of LSTM on {etf}\")\n",
    "                fig.supylabel(\"Volatility Metric\")\n",
    "                fig.supxlabel(f\"Days after {start_t}\")\n",
    "                fig.tight_layout()\n",
    "                fig.savefig(os.path.join(root,etf,'predictions.png'))\n",
    "                fig_sim,ax_sim = plt.subplots(figsize=(10,6))\n",
    "                sns.lineplot(x=range(0, len(df_test.index)-(T+1)), y=money_df_atr[etf], label=\"ATR\",ax=ax_sim,palette = 'colorblind')\n",
    "                sns.lineplot(x=range(0,len(df_test.index)-(T+1)),y=money_df_std[etf],label=\"SD_Returns\",ax=ax_sim,palette = 'colorblind')\n",
    "                sns.lineplot(x=range(0,len(df_test.index)-(T+1)),y=money_df_sd_prices[etf],label=\"MAD_Returns\",ax=ax_sim,palette = 'colorblind')\n",
    "                sns.lineplot(x=range(0,len(df_test.index)-(T+1)),y=money_df_passive[f\"{etf}_Passive\"],label=\"Passive\",ax=ax_sim,palette = 'colorblind')\n",
    "                sns.lineplot(x=range(0,len(df_test.index)-(T+1)),y=money_df_iqr[etf],label=\"IQR\",ax=ax_sim,palette = 'colorblind')\n",
    "                sns.despine(ax=ax_sim)\n",
    "                ax_sim.axhline(1000, label = \"Initial\",color=\"Black\")\n",
    "                ax_sim.set_xlabel(f\"Days after {start_t}\")\n",
    "                ax_sim.set_ylabel(f\"Value ($)\")\n",
    "                ax_sim.set_title(f\"ETF Performance Over Time for {etf}\")\n",
    "                customize_ax(ax_sim)\n",
    "                ax_sim.legend(\n",
    "                    loc='upper left',              # anchor the legend’s corner\n",
    "                    bbox_to_anchor=(1.02, 1.0),     # (x, y) in axes fraction coordinates\n",
    "                    borderaxespad=0\n",
    "                )\n",
    "                fig_sim.tight_layout()\n",
    "                fig_sim.savefig(os.path.join(root,etf,'simulation_perf_lr_{lr}'))\n",
    "                \n",
    "            fig2,ax2 = plt.subplots(figsize = (8,6))\n",
    "            sns.barplot(data=results,x=\"ETF\",y=\"Final_Value\",hue=\"Metric\",ax=ax2,palette='colorblind') \n",
    "            sns.despine(ax=ax2)   \n",
    "            plt.legend(loc=(1.1,1))\n",
    "            fig2.tight_layout()\n",
    "            customize_ax(ax2)\n",
    "            fig2.savefig(os.path.join(root,'return_metrics_lr_{lr}.png'))\n",
    "            results.to_csv(os.path.join(root,'overall_results.csv'),index=False)"
   ]
  },
  {
   "cell_type": "code",
   "execution_count": 3,
   "id": "aa29a250",
   "metadata": {},
   "outputs": [
    {
     "ename": "NameError",
     "evalue": "name 'os' is not defined",
     "output_type": "error",
     "traceback": [
      "\u001b[0;31m---------------------------------------------------------------------------\u001b[0m",
      "\u001b[0;31mNameError\u001b[0m                                 Traceback (most recent call last)",
      "Cell \u001b[0;32mIn[3], line 1\u001b[0m\n\u001b[0;32m----> 1\u001b[0m \u001b[43mos\u001b[49m\u001b[38;5;241m.\u001b[39mlistdir()\n",
      "\u001b[0;31mNameError\u001b[0m: name 'os' is not defined"
     ]
    }
   ],
   "source": [
    "os.listdir()"
   ]
  },
  {
   "cell_type": "code",
   "execution_count": null,
   "id": "d98e91eb",
   "metadata": {},
   "outputs": [],
   "source": [
    "for i in range(32,41):\n",
    "    df = pd.read_csv(f'runtest_{i}/overall_results.csv')\n",
    "    print(i,df.groupby('Metric')['Relative_MSE'].mean())"
   ]
  },
  {
   "cell_type": "code",
   "execution_count": null,
   "id": "d2be5dc6",
   "metadata": {},
   "outputs": [],
   "source": [
    "scaler_x = StandardScaler()\n",
    "scaler = StandardScaler()\n",
    "start,end,start_t,end_t = date_list[1]\n",
    "df_xlp = get_cleaned_df('XLP',start,end)\n",
    "df_xlp_test = get_cleaned_df('XLP',start_t,end_t)\n",
    "model,fig_tr,fig_te = get_trained_model(df_xlp,scaler, scaler_x, metric=\"SD_Squared_Returns\",model_type=\"LSTM\")\n",
    "final_value, money, shares,passive_value,buy_points,sell_points,preds, t_money,p_money = backtest_strategy_mr(df_xlp_test,model,scaler,scaler_x,\"SD_Squared_Returns\",sell_scale=1.7,buy_scale=1.7)"
   ]
  },
  {
   "cell_type": "code",
   "execution_count": null,
   "id": "6569d81e",
   "metadata": {},
   "outputs": [],
   "source": [
    "sns.lineplot(t_money)"
   ]
  },
  {
   "cell_type": "code",
   "execution_count": null,
   "id": "693fd171",
   "metadata": {},
   "outputs": [],
   "source": []
  }
 ],
 "metadata": {
  "kernelspec": {
   "display_name": "Python 3",
   "language": "python",
   "name": "python3"
  },
  "language_info": {
   "codemirror_mode": {
    "name": "ipython",
    "version": 3
   },
   "file_extension": ".py",
   "mimetype": "text/x-python",
   "name": "python",
   "nbconvert_exporter": "python",
   "pygments_lexer": "ipython3",
   "version": "3.12.4"
  }
 },
 "nbformat": 4,
 "nbformat_minor": 5
}
