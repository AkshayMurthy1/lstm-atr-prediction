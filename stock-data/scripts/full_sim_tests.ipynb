{
 "cells": [
  {
   "cell_type": "code",
   "execution_count": 4,
   "id": "f3dd4010",
   "metadata": {},
   "outputs": [],
   "source": [
    "import torch\n",
    "from torch.nn import *\n",
    "import torch.nn.functional as F\n",
    "from pandas_datareader import data as web\n",
    "import os\n",
    "import pandas as pd\n",
    "import yfinance as yf\n",
    "import matplotlib.pyplot as plt\n",
    "import seaborn as sns\n",
    "from torch.utils.data import DataLoader, TensorDataset\n",
    "from sklearn.preprocessing import StandardScaler\n",
    "import numpy as np\n",
    "import warnings\n",
    "warnings.filterwarnings(\"ignore\")\n",
    "from diebold_mariano import diebold_mariano_test"
   ]
  },
  {
   "cell_type": "code",
   "execution_count": 5,
   "id": "e1dfba1e",
   "metadata": {},
   "outputs": [
    {
     "name": "stdout",
     "output_type": "stream",
     "text": [
      "DEVICE:  cuda\n"
     ]
    }
   ],
   "source": [
    "from utils import *"
   ]
  },
  {
   "cell_type": "code",
   "execution_count": 6,
   "id": "3414ddb9",
   "metadata": {},
   "outputs": [],
   "source": [
    "T=30"
   ]
  },
  {
   "cell_type": "code",
   "execution_count": 7,
   "id": "0cff2509",
   "metadata": {},
   "outputs": [],
   "source": [
    "import os\n",
    "import seaborn as sns\n",
    "import matplotlib.pyplot as plt\n",
    "import pandas as pd\n",
    "import matplotlib\n",
    "\n",
    "# Set consistent style for publication-quality plots\n",
    "sns.set(style=\"whitegrid\", context=\"talk\", palette=\"colorblind\")\n",
    "matplotlib.rcParams.update({\n",
    "    \"axes.titlesize\": 18,\n",
    "    \"axes.labelsize\": 12,\n",
    "    \"xtick.labelsize\": 10,\n",
    "    \"ytick.labelsize\": 10,\n",
    "    \"legend.fontsize\": 10,\n",
    "    \"legend.frameon\": True,\n",
    "    \"axes.titleweight\": \"bold\"\n",
    "})\n",
    "\n",
    "def customize_ax(ax, title=None, xlabel=None, ylabel=None):\n",
    "    if title:\n",
    "        ax.set_title(title, fontsize=20, fontweight=\"bold\")\n",
    "    if xlabel:\n",
    "        ax.set_xlabel(xlabel, fontsize=12)\n",
    "    if ylabel:\n",
    "        ax.set_ylabel(ylabel, fontsize=12)\n",
    "    ax.tick_params(axis='both', which='major', labelsize=10)\n",
    "    ax.grid(False)\n",
    "    if ax.get_legend():\n",
    "        ax.legend(fontsize=10, frameon=True)\n",
    "\n",
    "# Insert your original loop code here afterward, using customize_ax() and matplotlib.rcParams updates\n",
    "# on all relevant plots to ensure publication-quality formatting.\n"
   ]
  },
  {
   "cell_type": "code",
   "execution_count": 8,
   "id": "bc47382c",
   "metadata": {},
   "outputs": [],
   "source": [
    "etfs = ['XLB','XLE','XLF','XLI','XLK','XLP','XLV','XLY','XLU']\n",
    "metric2 = \"SD_Squared_Returns\"\n",
    "metric3 = \"SD_Prices\"\n",
    "metric4 = \"IQR\"\n",
    "metrics = [\"ATR\",metric2,metric3,metric4]\n",
    "# start = '2001-01-01'\n",
    "# end = '2020-01-01'\n",
    "# start_t = '2022-01-02'\n",
    "# end_t = '2024-01-05'\n",
    "date_list = [['2001-01-01', '2020-01-01', '2022-01-02', '2024-01-05'], ['1990-01-05', '2010-01-05', '2023-01-05', '2024-01-05'], ['2000-01-05', \"2024-01-05\", \"2024-01-05\", \"2025-01-05\"], ['2005-01-05', '2010-01-05', '2020-01-05', '2024-01-05']]\n",
    "starts,ends = np.array([(f'200{i}-01-01',f'200{i+12}-01-01') for i in range(0,12,4)]).T\n",
    "models = {}\n",
    "lrs = [0]\n",
    "h1 = 50\n",
    "h2 = 50\n",
    "hl1s = [20,50,70,100]\n",
    "hl1s = [20,50,70,100]\n",
    "models = [\"LSTM\",\"RNN\"]\n",
    "b_types = ['ATR' ,'STD']\n",
    "lr = 0\n",
    "feat_combos = [['Open','Close','High','Low','Volume','Return','Short_MA','Long_MA'],['Open','Close','High','Low','Volume'],['index','Open','Close','High','Low','Volume']]"
   ]
  },
  {
   "cell_type": "code",
   "execution_count": null,
   "id": "24786877",
   "metadata": {},
   "outputs": [
    {
     "name": "stderr",
     "output_type": "stream",
     "text": [
      "[*********************100%***********************]  1 of 1 completed\n"
     ]
    },
    {
     "name": "stdout",
     "output_type": "stream",
     "text": [
      "read  4779  lines of data for ticker:  XLB\n"
     ]
    },
    {
     "name": "stderr",
     "output_type": "stream",
     "text": [
      "[*********************100%***********************]  1 of 1 completed\n"
     ]
    },
    {
     "name": "stdout",
     "output_type": "stream",
     "text": [
      "read  504  lines of data for ticker:  XLB\n",
      "On the 46th day, Bought 5.7810151462596835 shares for $500.0\n",
      "On the 47th day, Bought 5.749770009199632 shares for $499.99999999999994\n",
      "On the 48th day, Bought 0 shares for $0.0\n",
      "On the 49th day, Bought 0 shares for $0.0\n",
      "On the 50th day, Bought 0 shares for $0.0\n",
      "On the 51th day, Bought 0 shares for $0.0\n",
      "On the 52th day, Bought 0 shares for $0.0\n",
      "On the 53th day, Bought 0 shares for $0.0\n",
      "On the 54th day, Bought 0 shares for $0.0\n",
      "On the 72th day, sold 11.530785155459316 shares for $984.9596679793348\n",
      "On the 200th day, Bought 6.688963210702341 shares for $500.0\n",
      "On the 201th day, Bought 5 shares for $370.4\n",
      "On the 202th day, Bought 1 shares for $74.27\n",
      "On the 203th day, Bought 0 shares for $0.0\n",
      "On the 217th day, Bought 0 shares for $0.0\n",
      "On the 218th day, Bought 0 shares for $0.0\n",
      "On the 219th day, Bought 0 shares for $0.0\n",
      "On the 220th day, Bought 0 shares for $0.0\n",
      "On the 221th day, Bought 0 shares for $0.0\n",
      "On the 222th day, Bought 0 shares for $0.0\n",
      "On the 290th day, sold 12.68896321070234 shares for $992.023143812709\n",
      "On the 378th day, Bought 5.953089653530182 shares for $500.0\n",
      "On the 379th day, Bought 5.9851568111084505 shares for $500.0\n",
      "On the 380th day, Bought 0 shares for $0.0\n",
      "On the 381th day, Bought 0 shares for $0.0\n",
      "On the 382th day, Bought 0 shares for $0.0\n",
      "On the 383th day, Bought 0 shares for $0.0\n",
      "On the 425th day, sold 11.938246464638633 shares for $935.6003754337297\n"
     ]
    },
    {
     "name": "stderr",
     "output_type": "stream",
     "text": [
      "[*********************100%***********************]  1 of 1 completed"
     ]
    },
    {
     "name": "stdout",
     "output_type": "stream",
     "text": [
      "On the 470th day, Bought 6.171315724512467 shares for $500.00000000000006\n",
      "On the 471th day, Bought 5 shares for $405.90000000000003\n",
      "On the 472th day, Bought 0 shares for $0.0\n",
      "XLB Final Value: 1002.6379712297233, Final Money: 62.01318722577355, Final Shares: 11.171315724512468\n",
      "read  4779  lines of data for ticker:  XLB\n"
     ]
    },
    {
     "name": "stderr",
     "output_type": "stream",
     "text": [
      "\n",
      "[*********************100%***********************]  1 of 1 completed\n"
     ]
    },
    {
     "name": "stdout",
     "output_type": "stream",
     "text": [
      "read  504  lines of data for ticker:  XLB\n",
      "On the 44th day, Bought 5.842486562280907 shares for $500.00000000000006\n",
      "On the 45th day, Bought 4 shares for $344.4\n",
      "On the 46th day, Bought 1 shares for $86.49\n",
      "On the 47th day, Bought 0 shares for $0.0\n",
      "On the 48th day, Bought 0 shares for $0.0\n",
      "On the 49th day, Bought 0 shares for $0.0\n",
      "On the 50th day, Bought 0 shares for $0.0\n",
      "On the 51th day, Bought 0 shares for $0.0\n",
      "On the 73th day, sold 10.842486562280907 shares for $940.8025590091142\n",
      "On the 120th day, Bought 6.780580417683754 shares for $500.0\n",
      "On the 157th day, sold 6.780580417683754 shares for $526.308652020613\n",
      "On the 217th day, Bought 6.091617933723197 shares for $500.0\n",
      "On the 218th day, Bought 6.067961165048543 shares for $500.0\n",
      "On the 219th day, Bought 0 shares for $0.0\n",
      "On the 220th day, Bought 0 shares for $0.0\n",
      "On the 248th day, sold 12.15957909877174 shares for $983.4667575086582\n",
      "On the 285th day, Bought 5.91016548463357 shares for $500.0\n",
      "On the 286th day, Bought 6.0074492370539465 shares for $500.0\n",
      "On the 290th day, sold 11.917614721687517 shares for $931.7191189415302\n",
      "On the 378th day, Bought 5.953089653530182 shares for $500.0\n",
      "On the 379th day, Bought 4 shares for $334.16\n",
      "On the 380th day, Bought 1 shares for $83.74\n",
      "On the 381th day, Bought 0 shares for $0.0\n",
      "On the 382th day, Bought 0 shares for $0.0\n",
      "On the 383th day, Bought 0 shares for $0.0\n",
      "On the 406th day, Bought 0 shares for $0.0\n",
      "On the 407th day, Bought 0 shares for $0.0\n",
      "On the 408th day, Bought 0 shares for $0.0\n",
      "On the 413th day, sold 10.953089653530181 shares for $899.1391296582926\n"
     ]
    },
    {
     "name": "stderr",
     "output_type": "stream",
     "text": [
      "[*********************100%***********************]  1 of 1 completed"
     ]
    },
    {
     "name": "stdout",
     "output_type": "stream",
     "text": [
      "On the 470th day, Bought 6.171315724512467 shares for $500.00000000000006\n",
      "On the 471th day, Bought 5 shares for $405.90000000000003\n",
      "On the 472th day, Bought 0 shares for $0.0\n",
      "On the 473th day, Bought 0 shares for $0.0\n",
      "XLB Final Value: 967.3710011421581, Final Money: 26.746217138208294, Final Shares: 11.171315724512468\n",
      "read  4779  lines of data for ticker:  XLB\n"
     ]
    },
    {
     "name": "stderr",
     "output_type": "stream",
     "text": [
      "\n",
      "[*********************100%***********************]  1 of 1 completed\n"
     ]
    },
    {
     "name": "stdout",
     "output_type": "stream",
     "text": [
      "read  504  lines of data for ticker:  XLB\n",
      "On the 56th day, Bought 5.611672278338945 shares for $500.0\n",
      "On the 57th day, Bought 4 shares for $353.56\n",
      "On the 61th day, Bought 1 shares for $88.04\n",
      "On the 70th day, sold 10.611672278338945 shares for $907.2979797979798\n",
      "On the 192th day, Bought 7.017543859649122 shares for $500.0\n",
      "On the 216th day, Bought 5 shares for $401.3\n",
      "On the 286th day, sold 12.017543859649123 shares for $1000.2201754385966\n",
      "On the 381th day, Bought 5.970149253731344 shares for $500.00000000000006\n",
      "On the 405th day, Bought 6.206554121151936 shares for $500.0\n",
      "On the 406th day, Bought 0 shares for $0.0\n",
      "On the 407th day, Bought 0 shares for $0.0\n",
      "On the 425th day, sold 12.17670337488328 shares for $954.2882434896027\n"
     ]
    },
    {
     "name": "stderr",
     "output_type": "stream",
     "text": [
      "[*********************100%***********************]  1 of 1 completed"
     ]
    },
    {
     "name": "stdout",
     "output_type": "stream",
     "text": [
      "XLB Final Value: 1018.906398726179, Final Money: 1018.906398726179, Final Shares: 0.0\n",
      "read  4779  lines of data for ticker:  XLB\n"
     ]
    },
    {
     "name": "stderr",
     "output_type": "stream",
     "text": [
      "\n",
      "[*********************100%***********************]  1 of 1 completed\n"
     ]
    },
    {
     "name": "stdout",
     "output_type": "stream",
     "text": [
      "read  504  lines of data for ticker:  XLB\n",
      "On the 143th day, Bought 6.480041472265423 shares for $500.0\n",
      "On the 145th day, Bought 5 shares for $398.1\n",
      "On the 146th day, Bought 1 shares for $81.12\n",
      "On the 157th day, sold 12.480041472265423 shares for $968.7008190772422\n",
      "On the 253th day, Bought 6.027727546714888 shares for $500.0\n",
      "On the 254th day, Bought 5 shares for $408.9\n",
      "On the 262th day, Bought 0 shares for $0.0\n",
      "On the 263th day, Bought 0 shares for $0.0\n",
      "On the 290th day, sold 11.027727546714889 shares for $862.1477396021701\n",
      "On the 379th day, Bought 5.9851568111084505 shares for $500.0\n",
      "On the 382th day, Bought 4 shares for $336.04\n",
      "On the 383th day, Bought 1 shares for $85.52\n",
      "On the 384th day, Bought 0 shares for $0.0\n",
      "On the 407th day, Bought 0 shares for $0.0\n",
      "On the 426th day, sold 10.98515681110845 shares for $867.7175365094564\n",
      "On the 465th day, Bought 6.228977201943441 shares for $500.0\n",
      "On the 466th day, Bought 4 shares for $321.64\n",
      "On the 467th day, Bought 0 shares for $0.0\n",
      "On the 468th day, Bought 0 shares for $0.0\n",
      "On the 469th day, Bought 0 shares for $0.0\n",
      "On the 470th day, Bought 0 shares for $0.0\n",
      "On the 471th day, Bought 0 shares for $0.0\n",
      "XLB Final Value: 928.5259755925063, Final Money: 67.2460951888686, Final Shares: 10.22897720194344\n"
     ]
    },
    {
     "name": "stderr",
     "output_type": "stream",
     "text": [
      "[*********************100%***********************]  1 of 1 completed\n"
     ]
    },
    {
     "name": "stdout",
     "output_type": "stream",
     "text": [
      "read  4779  lines of data for ticker:  XLE\n"
     ]
    },
    {
     "name": "stderr",
     "output_type": "stream",
     "text": [
      "[*********************100%***********************]  1 of 1 completed\n"
     ]
    },
    {
     "name": "stdout",
     "output_type": "stream",
     "text": [
      "read  504  lines of data for ticker:  XLE\n",
      "On the 153th day, Bought 6.084945843981989 shares for $500.0\n",
      "On the 163th day, sold 6.084945843981989 shares for $476.4512595837897\n",
      "On the 198th day, Bought 5.6420672534416605 shares for $500.0\n",
      "On the 199th day, Bought 4 shares for $355.76\n",
      "On the 200th day, Bought 1 shares for $89.25\n",
      "On the 201th day, Bought 0 shares for $0.0\n",
      "On the 230th day, sold 10.64206725344166 shares for $902.9794064545248\n",
      "On the 237th day, Bought 5.789717461787864 shares for $499.99999999999994\n",
      "On the 238th day, Bought 4 shares for $337.48\n",
      "On the 266th day, sold 9.789717461787864 shares for $841.5241130152848\n",
      "On the 367th day, Bought 6.159911297277319 shares for $500.0\n",
      "On the 368th day, Bought 5 shares for $406.8\n",
      "On the 369th day, Bought 0 shares for $0.0\n",
      "On the 410th day, Bought 0 shares for $0.0\n",
      "On the 411th day, Bought 0 shares for $0.0\n",
      "On the 412th day, Bought 0 shares for $0.0\n",
      "On the 434th day, sold 11.159911297277318 shares for $951.047640753973\n"
     ]
    },
    {
     "name": "stderr",
     "output_type": "stream",
     "text": [
      "[*********************100%***********************]  1 of 1 completed"
     ]
    },
    {
     "name": "stdout",
     "output_type": "stream",
     "text": [
      "On the 462th day, Bought 5.8990089664936285 shares for $500.0\n",
      "On the 463th day, Bought 4 shares for $338.4\n",
      "On the 464th day, Bought 1 shares for $82.95\n",
      "On the 491th day, Bought 0 shares for $0.0\n",
      "On the 492th day, Bought 0 shares for $0.0\n",
      "On the 493th day, Bought 0 shares for $0.0\n",
      "On the 494th day, Bought 0 shares for $0.0\n",
      "XLE Final Value: 983.5275684625982, Final Money: 61.36241980757238, Final Shares: 10.899008966493628\n",
      "read  4779  lines of data for ticker:  XLE\n"
     ]
    },
    {
     "name": "stderr",
     "output_type": "stream",
     "text": [
      "\n",
      "[*********************100%***********************]  1 of 1 completed\n"
     ]
    },
    {
     "name": "stdout",
     "output_type": "stream",
     "text": [
      "read  504  lines of data for ticker:  XLE\n",
      "On the 198th day, Bought 5.6420672534416605 shares for $500.0\n",
      "On the 200th day, Bought 5.602240896358543 shares for $499.99999999999994\n",
      "On the 201th day, Bought 0 shares for $0.0\n",
      "On the 202th day, Bought 0 shares for $0.0\n",
      "On the 203th day, Bought 0 shares for $0.0\n",
      "On the 245th day, sold 11.244308149800204 shares for $948.9071647616393\n",
      "On the 252th day, Bought 5.558643690939411 shares for $500.0\n",
      "On the 253th day, Bought 4 shares for $360.56\n",
      "On the 254th day, Bought 0 shares for $0.0\n",
      "On the 297th day, sold 9.55864369093941 shares for $768.4193663146192\n",
      "On the 317th day, Bought 5.797773654916512 shares for $500.0\n",
      "On the 318th day, Bought 4 shares for $341.92\n",
      "On the 369th day, Bought 0 shares for $0.0\n",
      "On the 370th day, Bought 0 shares for $0.0\n",
      "On the 384th day, Bought 0 shares for $0.0\n",
      "On the 385th day, Bought 0 shares for $0.0\n",
      "On the 431th day, sold 9.797773654916512 shares for $867.9847680890538\n"
     ]
    },
    {
     "name": "stderr",
     "output_type": "stream",
     "text": [
      "[*********************100%***********************]  1 of 1 completed"
     ]
    },
    {
     "name": "stdout",
     "output_type": "stream",
     "text": [
      "On the 473th day, Bought 5.911563017261764 shares for $499.99999999999994\n",
      "On the 474th day, Bought 4 shares for $340.08\n",
      "On the 475th day, Bought 0 shares for $0.0\n",
      "XLE Final Value: 881.36864605583, Final Money: 42.751299165312275, Final Shares: 9.911563017261763\n",
      "read  4779  lines of data for ticker:  XLE\n"
     ]
    },
    {
     "name": "stderr",
     "output_type": "stream",
     "text": [
      "\n",
      "[*********************100%***********************]  1 of 1 completed\n"
     ]
    },
    {
     "name": "stdout",
     "output_type": "stream",
     "text": [
      "read  504  lines of data for ticker:  XLE\n",
      "On the 220th day, Bought 5.595970900951316 shares for $500.0\n",
      "On the 227th day, sold 5.595970900951316 shares for $476.329043088976\n"
     ]
    },
    {
     "name": "stderr",
     "output_type": "stream",
     "text": [
      "[*********************100%***********************]  1 of 1 completed"
     ]
    },
    {
     "name": "stdout",
     "output_type": "stream",
     "text": [
      "On the 468th day, Bought 5.911563017261764 shares for $499.99999999999994\n",
      "On the 472th day, Bought 4 shares for $336.08\n",
      "XLE Final Value: 978.8663899794939, Final Money: 140.24904308897612, Final Shares: 9.911563017261763\n",
      "read  4779  lines of data for ticker:  XLE\n"
     ]
    },
    {
     "name": "stderr",
     "output_type": "stream",
     "text": [
      "\n",
      "[*********************100%***********************]  1 of 1 completed\n"
     ]
    },
    {
     "name": "stdout",
     "output_type": "stream",
     "text": [
      "read  504  lines of data for ticker:  XLE\n",
      "On the 148th day, Bought 6.513809275664408 shares for $500.0\n",
      "On the 171th day, sold 6.513809275664408 shares for $505.7321521625846\n",
      "On the 201th day, Bought 5.555555555555555 shares for $500.0\n",
      "On the 202th day, Bought 5.502366017387477 shares for $500.00000000000006\n",
      "On the 203th day, Bought 0 shares for $0.0\n",
      "On the 227th day, sold 11.057921572943032 shares for $941.250284288911\n",
      "On the 255th day, Bought 5.580980020091528 shares for $500.0\n",
      "On the 256th day, Bought 4 shares for $361.92\n",
      "On the 297th day, sold 9.580980020091527 shares for $770.2149838151579\n",
      "On the 315th day, Bought 5.800464037122969 shares for $500.0\n",
      "On the 317th day, Bought 4 shares for $344.96\n",
      "On the 318th day, Bought 0 shares for $0.0\n",
      "On the 377th day, sold 9.80046403712297 shares for $796.6797215777262\n",
      "On the 384th day, Bought 5.804504295333179 shares for $500.00000000000006\n",
      "On the 385th day, Bought 3 shares for $256.77\n",
      "On the 421th day, sold 8.804504295333178 shares for $810.9828906431391\n",
      "On the 469th day, Bought 5.887201224537854 shares for $500.0\n",
      "On the 470th day, Bought 4 shares for $338.52\n",
      "On the 471th day, Bought 0 shares for $0.0\n",
      "On the 472th day, Bought 0 shares for $0.0\n",
      "On the 484th day, sold 9.887201224537854 shares for $833.4910632285411\n",
      "XLE Final Value: 856.1810957160595, Final Money: 856.1810957160595, Final Shares: 0.0\n"
     ]
    },
    {
     "name": "stderr",
     "output_type": "stream",
     "text": [
      "[*********************100%***********************]  1 of 1 completed\n"
     ]
    },
    {
     "name": "stdout",
     "output_type": "stream",
     "text": [
      "read  4779  lines of data for ticker:  XLF\n"
     ]
    },
    {
     "name": "stderr",
     "output_type": "stream",
     "text": [
      "[*********************100%***********************]  1 of 1 completed\n"
     ]
    },
    {
     "name": "stdout",
     "output_type": "stream",
     "text": [
      "read  504  lines of data for ticker:  XLF\n",
      "On the 51th day, Bought 12.687135244861711 shares for $500.0\n",
      "On the 74th day, sold 12.687135244861711 shares for $437.83303730017764\n",
      "On the 101th day, Bought 14.44251877527441 shares for $500.00000000000006\n",
      "On the 102th day, Bought 12 shares for $405.0\n",
      "On the 143th day, Bought 0 shares for $0.0\n",
      "On the 144th day, Bought 0 shares for $0.0\n",
      "On the 162th day, sold 26.442518775274408 shares for $867.5790410167534\n",
      "On the 200th day, Bought 14.624159110851126 shares for $499.99999999999994\n",
      "On the 201th day, Bought 11 shares for $373.78\n",
      "On the 202th day, Bought 0 shares for $0.0\n",
      "On the 203th day, Bought 0 shares for $0.0\n",
      "On the 220th day, Bought 0 shares for $0.0\n",
      "On the 290th day, sold 25.624159110851124 shares for $843.8035595203276\n",
      "On the 365th day, Bought 15.220700152207002 shares for $500.0\n",
      "On the 366th day, Bought 11 shares for $367.62\n",
      "On the 367th day, Bought 0 shares for $0.0\n",
      "On the 368th day, Bought 0 shares for $0.0\n",
      "On the 394th day, sold 26.220700152207 shares for $913.0047792998478\n",
      "On the 461th day, Bought 14.766686355581808 shares for $500.0\n",
      "On the 462th day, Bought 12 shares for $414.0\n",
      "On the 463th day, Bought 0 shares for $0.0\n",
      "On the 464th day, Bought 0 shares for $0.0\n",
      "On the 469th day, Bought 0 shares for $0.0\n",
      "On the 470th day, Bought 0 shares for $0.0\n",
      "On the 471th day, Bought 0 shares for $0.0\n",
      "On the 472th day, Bought 0 shares for $0.0\n"
     ]
    },
    {
     "name": "stderr",
     "output_type": "stream",
     "text": [
      "[*********************100%***********************]  1 of 1 completed"
     ]
    },
    {
     "name": "stdout",
     "output_type": "stream",
     "text": [
      "XLF Final Value: 1007.9801572434266, Final Money: 1.8204171371063467, Final Shares: 26.766686355581808\n",
      "read  4779  lines of data for ticker:  XLF\n"
     ]
    },
    {
     "name": "stderr",
     "output_type": "stream",
     "text": [
      "\n",
      "[*********************100%***********************]  1 of 1 completed\n"
     ]
    },
    {
     "name": "stdout",
     "output_type": "stream",
     "text": [
      "read  504  lines of data for ticker:  XLF\n",
      "On the 120th day, Bought 15.552099533437016 shares for $500.0\n",
      "On the 168th day, sold 15.552099533437016 shares for $517.1073094867808\n",
      "On the 217th day, Bought 13.950892857142856 shares for $500.0\n",
      "On the 218th day, Bought 13.89274798555154 shares for $500.0\n",
      "On the 219th day, Bought 0 shares for $0.0\n",
      "On the 220th day, Bought 0 shares for $0.0\n",
      "On the 264th day, Bought 0 shares for $0.0\n",
      "On the 265th day, Bought 0 shares for $0.0\n",
      "On the 266th day, Bought 0 shares for $0.0\n",
      "On the 285th day, Bought 0 shares for $0.0\n",
      "On the 289th day, sold 27.8436408426944 shares for $933.8757138639701\n",
      "On the 356th day, Bought 15.055706112616681 shares for $500.0\n",
      "On the 399th day, sold 15.055706112616681 shares for $514.3029208069858\n",
      "On the 420th day, Bought 14.35544071202986 shares for $500.0\n",
      "On the 430th day, sold 14.35544071202986 shares for $476.1699684180305\n"
     ]
    },
    {
     "name": "stderr",
     "output_type": "stream",
     "text": [
      "[*********************100%***********************]  1 of 1 completed"
     ]
    },
    {
     "name": "stdout",
     "output_type": "stream",
     "text": [
      "On the 470th day, Bought 14.180374361883155 shares for $500.0\n",
      "XLF Final Value: 974.496184838955, Final Money: 441.4559125757671, Final Shares: 14.180374361883155\n",
      "read  4779  lines of data for ticker:  XLF\n"
     ]
    },
    {
     "name": "stderr",
     "output_type": "stream",
     "text": [
      "\n",
      "[*********************100%***********************]  1 of 1 completed\n"
     ]
    },
    {
     "name": "stdout",
     "output_type": "stream",
     "text": [
      "read  504  lines of data for ticker:  XLF\n",
      "On the 50th day, Bought 12.651821862348177 shares for $500.0\n",
      "On the 72th day, sold 12.651821862348177 shares for $446.4827935222672\n",
      "On the 99th day, Bought 14.297969688304262 shares for $500.0\n",
      "On the 100th day, Bought 12 shares for $422.88\n",
      "On the 104th day, sold 26.297969688304264 shares for $829.9639233628825\n",
      "On the 216th day, Bought 14.092446448703496 shares for $500.0\n",
      "On the 217th day, Bought 9 shares for $322.56000000000006\n",
      "On the 279th day, sold 23.092446448703498 shares for $822.7838669673057\n",
      "On the 284th day, Bought 14.112334180073384 shares for $500.0\n",
      "On the 290th day, sold 14.112334180073384 shares for $464.7191645498165\n",
      "On the 357th day, Bought 14.85884101040119 shares for $500.0\n",
      "On the 369th day, sold 14.85884101040119 shares for $502.67459138187223\n"
     ]
    },
    {
     "name": "stderr",
     "output_type": "stream",
     "text": [
      "[*********************100%***********************]  1 of 1 completed"
     ]
    },
    {
     "name": "stdout",
     "output_type": "stream",
     "text": [
      "XLF Final Value: 821.1843397841442, Final Money: 821.1843397841442, Final Shares: 0.0\n",
      "read  4779  lines of data for ticker:  XLF\n"
     ]
    },
    {
     "name": "stderr",
     "output_type": "stream",
     "text": [
      "\n",
      "[*********************100%***********************]  1 of 1 completed\n"
     ]
    },
    {
     "name": "stdout",
     "output_type": "stream",
     "text": [
      "read  504  lines of data for ticker:  XLF\n",
      "On the 120th day, Bought 15.552099533437016 shares for $500.0\n",
      "On the 182th day, sold 15.552099533437016 shares for $502.95489891135315\n",
      "On the 267th day, Bought 13.66867140513942 shares for $500.0\n",
      "On the 268th day, Bought 13.513513513513514 shares for $500.0\n",
      "On the 290th day, sold 27.182184918652936 shares for $895.1093493712411\n",
      "On the 402th day, Bought 14.731879787860931 shares for $500.0\n",
      "On the 403th day, Bought 11 shares for $369.82\n",
      "On the 429th day, sold 25.731879787860933 shares for $861.5033352975839\n",
      "On the 469th day, Bought 14.132278123233464 shares for $500.0\n",
      "On the 470th day, Bought 11 shares for $387.85999999999996\n",
      "XLF Final Value: 946.6099182325243, Final Money: 1.8875835801783865, Final Shares: 25.132278123233462\n"
     ]
    },
    {
     "name": "stderr",
     "output_type": "stream",
     "text": [
      "[*********************100%***********************]  1 of 1 completed\n"
     ]
    },
    {
     "name": "stdout",
     "output_type": "stream",
     "text": [
      "read  4779  lines of data for ticker:  XLI\n"
     ]
    },
    {
     "name": "stderr",
     "output_type": "stream",
     "text": [
      "[*********************100%***********************]  1 of 1 completed\n"
     ]
    },
    {
     "name": "stdout",
     "output_type": "stream",
     "text": [
      "read  504  lines of data for ticker:  XLI\n",
      "On the 143th day, Bought 5.222477543346564 shares for $500.0\n",
      "On the 144th day, Bought 4 shares for $391.36\n",
      "On the 145th day, Bought 1 shares for $98.36\n",
      "On the 162th day, sold 10.222477543346564 shares for $943.6369020263213\n",
      "On the 199th day, Bought 5.407159078620093 shares for $499.99999999999994\n",
      "On the 200th day, Bought 4 shares for $378.48\n",
      "On the 201th day, Bought 0 shares for $0.0\n",
      "On the 202th day, Bought 0 shares for $0.0\n",
      "On the 203th day, Bought 0 shares for $0.0\n",
      "On the 217th day, Bought 0 shares for $0.0\n",
      "On the 218th day, Bought 0 shares for $0.0\n",
      "On the 219th day, Bought 0 shares for $0.0\n",
      "On the 220th day, Bought 0 shares for $0.0\n",
      "On the 272th day, Bought 0 shares for $0.0\n",
      "On the 273th day, Bought 0 shares for $0.0\n",
      "On the 274th day, Bought 0 shares for $0.0\n",
      "On the 291th day, sold 9.407159078620094 shares for $926.040739699362\n",
      "On the 356th day, Bought 4.805382027871216 shares for $500.00000000000006\n",
      "On the 357th day, Bought 4.7339519030486645 shares for $499.99999999999994\n",
      "On the 365th day, Bought 0 shares for $0.0\n",
      "On the 366th day, Bought 0 shares for $0.0\n",
      "On the 367th day, Bought 0 shares for $0.0\n",
      "On the 368th day, Bought 0 shares for $0.0\n",
      "On the 405th day, sold 9.53933393091988 shares for $1007.8306298016854\n"
     ]
    },
    {
     "name": "stderr",
     "output_type": "stream",
     "text": [
      "[*********************100%***********************]  1 of 1 completed"
     ]
    },
    {
     "name": "stdout",
     "output_type": "stream",
     "text": [
      "On the 460th day, Bought 4.875670404680644 shares for $500.00000000000006\n",
      "On the 462th day, Bought 4.775549188156638 shares for $500.0\n",
      "On the 470th day, Bought 0 shares for $0.0\n",
      "On the 471th day, Bought 0 shares for $0.0\n",
      "XLI Final Value: 1083.489012210158, Final Money: 9.308271527368618, Final Shares: 9.651219592837283\n",
      "read  4779  lines of data for ticker:  XLI\n"
     ]
    },
    {
     "name": "stderr",
     "output_type": "stream",
     "text": [
      "\n",
      "[*********************100%***********************]  1 of 1 completed\n"
     ]
    },
    {
     "name": "stdout",
     "output_type": "stream",
     "text": [
      "read  504  lines of data for ticker:  XLI\n",
      "On the 42th day, Bought 5.008514474606832 shares for $500.0\n",
      "On the 46th day, Bought 3 shares for $308.19\n",
      "On the 47th day, Bought 1 shares for $103.29\n",
      "On the 48th day, Bought 0 shares for $0.0\n",
      "On the 49th day, Bought 0 shares for $0.0\n",
      "On the 71th day, sold 9.008514474606832 shares for $867.3397736151458\n",
      "On the 217th day, Bought 4.973639709539441 shares for $500.0\n",
      "On the 218th day, Bought 3 shares for $302.73\n",
      "On the 219th day, Bought 1 shares for $101.3\n",
      "On the 220th day, Bought 0 shares for $0.0\n",
      "On the 271th day, Bought 0 shares for $0.0\n",
      "On the 272th day, Bought 0 shares for $0.0\n",
      "On the 291th day, sold 8.973639709539441 shares for $883.3650930070626\n",
      "On the 317th day, Bought 4.949514947535142 shares for $500.0\n",
      "On the 318th day, Bought 3 shares for $302.52\n",
      "On the 429th day, sold 7.949514947535142 shares for $810.2145634527817\n",
      "On the 462th day, Bought 4.775549188156638 shares for $500.0\n",
      "On the 470th day, Bought 3 shares for $317.21999999999997\n",
      "On the 471th day, Bought 1 shares for $105.49\n",
      "On the 472th day, Bought 0 shares for $0.0\n",
      "XLI Final Value: 996.8980547168239, Final Money: 20.179430074990094, Final Shares: 8.775549188156639\n"
     ]
    },
    {
     "name": "stderr",
     "output_type": "stream",
     "text": [
      "[*********************100%***********************]  1 of 1 completed\n"
     ]
    },
    {
     "name": "stdout",
     "output_type": "stream",
     "text": [
      "read  4779  lines of data for ticker:  XLI\n"
     ]
    },
    {
     "name": "stderr",
     "output_type": "stream",
     "text": [
      "[*********************100%***********************]  1 of 1 completed\n"
     ]
    },
    {
     "name": "stdout",
     "output_type": "stream",
     "text": [
      "read  504  lines of data for ticker:  XLI\n",
      "On the 217th day, Bought 4.973639709539441 shares for $500.0\n",
      "On the 256th day, sold 4.973639709539441 shares for $492.3405948473092\n"
     ]
    },
    {
     "name": "stderr",
     "output_type": "stream",
     "text": [
      "[*********************100%***********************]  1 of 1 completed"
     ]
    },
    {
     "name": "stdout",
     "output_type": "stream",
     "text": [
      "XLI Final Value: 992.3405948473091, Final Money: 992.3405948473091, Final Shares: 0.0\n",
      "read  4779  lines of data for ticker:  XLI\n"
     ]
    },
    {
     "name": "stderr",
     "output_type": "stream",
     "text": [
      "\n",
      "[*********************100%***********************]  1 of 1 completed\n"
     ]
    },
    {
     "name": "stdout",
     "output_type": "stream",
     "text": [
      "read  504  lines of data for ticker:  XLI\n",
      "On the 41th day, Bought 5.088022794342119 shares for $500.0\n",
      "On the 70th day, sold 5.088022794342119 shares for $500.8140836470948\n",
      "On the 144th day, Bought 5.110384300899428 shares for $500.00000000000006\n",
      "On the 171th day, sold 5.110384300899428 shares for $459.88348323793946\n",
      "On the 381th day, Bought 4.564125969876769 shares for $500.0\n",
      "On the 429th day, sold 4.564125969876769 shares for $465.1757188498403\n",
      "On the 468th day, Bought 4.71342383107089 shares for $500.0\n",
      "On the 469th day, Bought 3 shares for $319.02\n",
      "On the 470th day, Bought 1 shares for $105.74\n",
      "On the 471th day, Bought 0 shares for $0.0\n",
      "XLI Final Value: 970.9173581330645, Final Money: 1.113285734874367, Final Shares: 8.713423831070891\n"
     ]
    },
    {
     "name": "stderr",
     "output_type": "stream",
     "text": [
      "[*********************100%***********************]  1 of 1 completed\n"
     ]
    },
    {
     "name": "stdout",
     "output_type": "stream",
     "text": [
      "read  4779  lines of data for ticker:  XLK\n"
     ]
    },
    {
     "name": "stderr",
     "output_type": "stream",
     "text": [
      "[*********************100%***********************]  1 of 1 completed\n"
     ]
    },
    {
     "name": "stdout",
     "output_type": "stream",
     "text": [
      "read  504  lines of data for ticker:  XLK\n",
      "On the 30th day, Bought 3.2393909944930352 shares for $500.0\n",
      "On the 74th day, sold 3.2393909944930352 shares for $458.114674441205\n",
      "On the 116th day, Bought 3.9332913782252987 shares for $500.0\n",
      "On the 120th day, Bought 2 shares for $265.62\n",
      "On the 122th day, Bought 1 shares for $131.04\n",
      "On the 123th day, Bought 0 shares for $0.0\n",
      "On the 124th day, Bought 0 shares for $0.0\n",
      "On the 142th day, Bought 0 shares for $0.0\n",
      "On the 143th day, Bought 0 shares for $0.0\n",
      "On the 144th day, Bought 0 shares for $0.0\n",
      "On the 145th day, Bought 0 shares for $0.0\n",
      "On the 146th day, Bought 0 shares for $0.0\n",
      "On the 147th day, Bought 0 shares for $0.0\n",
      "On the 148th day, Bought 0 shares for $0.0\n",
      "On the 149th day, Bought 0 shares for $0.0\n",
      "On the 150th day, Bought 0 shares for $0.0\n",
      "On the 151th day, Bought 0 shares for $0.0\n",
      "On the 152th day, Bought 0 shares for $0.0\n",
      "On the 217th day, Bought 0 shares for $0.0\n",
      "On the 218th day, Bought 0 shares for $0.0\n",
      "On the 219th day, Bought 0 shares for $0.0\n",
      "On the 220th day, Bought 0 shares for $0.0\n",
      "On the 221th day, Bought 0 shares for $0.0\n",
      "On the 222th day, Bought 0 shares for $0.0\n",
      "On the 256th day, Bought 0 shares for $0.0\n",
      "On the 257th day, Bought 0 shares for $0.0\n",
      "On the 271th day, sold 6.933291378225299 shares for $973.2954436752674\n",
      "On the 285th day, Bought 3.567860710717854 shares for $500.0\n",
      "On the 336th day, Bought 3.2817012339196636 shares for $500.0\n",
      "On the 337th day, Bought 0 shares for $0.0\n",
      "On the 338th day, Bought 0 shares for $0.0\n",
      "On the 340th day, Bought 0 shares for $0.0\n",
      "On the 346th day, sold 6.849561944637518 shares for $1125.2460362650515\n"
     ]
    },
    {
     "name": "stderr",
     "output_type": "stream",
     "text": [
      "[*********************100%***********************]  1 of 1 completed"
     ]
    },
    {
     "name": "stdout",
     "output_type": "stream",
     "text": [
      "On the 470th day, Bought 2.7114967462039044 shares for $500.0\n",
      "On the 471th day, Bought 2.706359945872801 shares for $500.0\n",
      "On the 472th day, Bought 0 shares for $0.0\n",
      "On the 473th day, Bought 0 shares for $0.0\n",
      "On the 474th day, Bought 0 shares for $0.0\n",
      "XLK Final Value: 1157.8028213612906, Final Money: 159.99615438152387, Final Shares: 5.417856692076706\n",
      "read  4779  lines of data for ticker:  XLK\n"
     ]
    },
    {
     "name": "stderr",
     "output_type": "stream",
     "text": [
      "\n",
      "[*********************100%***********************]  1 of 1 completed\n"
     ]
    },
    {
     "name": "stdout",
     "output_type": "stream",
     "text": [
      "read  504  lines of data for ticker:  XLK\n",
      "On the 120th day, Bought 3.7647767487387997 shares for $500.0\n",
      "On the 164th day, Bought 2 shares for $269.08\n",
      "On the 168th day, sold 5.7647767487388 shares for $763.7176236729161\n",
      "On the 198th day, Bought 3.9805747950003982 shares for $500.0\n",
      "On the 210th day, sold 3.9805747950003982 shares for $529.9737282063529\n",
      "On the 302th day, Bought 3.46860908775581 shares for $500.00000000000006\n",
      "On the 311th day, Bought 3.3877633986042412 shares for $500.0\n",
      "On the 313th day, Bought 0 shares for $0.0\n",
      "On the 321th day, Bought 0 shares for $0.0\n",
      "On the 327th day, sold 6.856372486360051 shares for $1016.4572211028776\n",
      "On the 397th day, Bought 2.948808681292758 shares for $500.00000000000006\n",
      "On the 409th day, sold 2.948808681292758 shares for $515.481245576787\n",
      "On the 450th day, Bought 3.103277060575968 shares for $500.0\n",
      "On the 454th day, sold 3.103277060575968 shares for $527.5881330685203\n",
      "On the 457th day, Bought 2.8607392150131594 shares for $500.0\n",
      "On the 458th day, Bought 2.8446265005404787 shares for $500.0\n"
     ]
    },
    {
     "name": "stderr",
     "output_type": "stream",
     "text": [
      "[*********************100%***********************]  1 of 1 completed"
     ]
    },
    {
     "name": "stdout",
     "output_type": "stream",
     "text": [
      "XLK Final Value: 1134.895155460967, Final Money: 84.13795162745373, Final Shares: 5.705365715553638\n",
      "read  4779  lines of data for ticker:  XLK\n"
     ]
    },
    {
     "name": "stderr",
     "output_type": "stream",
     "text": [
      "\n",
      "[*********************100%***********************]  1 of 1 completed\n"
     ]
    },
    {
     "name": "stdout",
     "output_type": "stream",
     "text": [
      "read  504  lines of data for ticker:  XLK\n",
      "On the 31th day, Bought 3.245278120334913 shares for $500.0\n",
      "On the 83th day, sold 3.245278120334913 shares for $426.72162004283774\n",
      "On the 101th day, Bought 3.5696437495537947 shares for $500.0\n",
      "On the 102th day, Bought 2 shares for $272.66\n",
      "On the 105th day, sold 5.569643749553794 shares for $702.1649875062468\n",
      "On the 218th day, Bought 3.7207917844917398 shares for $499.99999999999994\n",
      "On the 266th day, sold 3.7207917844917398 shares for $527.496651287394\n"
     ]
    },
    {
     "name": "stderr",
     "output_type": "stream",
     "text": [
      "[*********************100%***********************]  1 of 1 completed"
     ]
    },
    {
     "name": "stdout",
     "output_type": "stream",
     "text": [
      "XLK Final Value: 883.7232588364786, Final Money: 883.7232588364786, Final Shares: 0.0\n",
      "read  4779  lines of data for ticker:  XLK\n"
     ]
    },
    {
     "name": "stderr",
     "output_type": "stream",
     "text": [
      "\n",
      "[*********************100%***********************]  1 of 1 completed\n"
     ]
    },
    {
     "name": "stdout",
     "output_type": "stream",
     "text": [
      "read  504  lines of data for ticker:  XLK\n",
      "On the 102th day, Bought 3.667571334262451 shares for $500.0\n",
      "On the 163th day, Bought 2 shares for $268.16\n",
      "On the 183th day, sold 5.667571334262451 shares for $719.7248837379886\n",
      "On the 255th day, Bought 3.9099155458242105 shares for $500.0\n",
      "On the 269th day, sold 3.9099155458242105 shares for $554.4651235533313\n",
      "On the 313th day, Bought 3.344929087503345 shares for $500.0\n",
      "On the 345th day, sold 3.344929087503345 shares for $554.1209526358041\n",
      "On the 432th day, Bought 3.069744597249509 shares for $500.0\n",
      "On the 452th day, sold 3.069744597249509 shares for $503.46881139489193\n",
      "XLK Final Value: 1063.6197713220158, Final Money: 1063.6197713220158, Final Shares: 0.0\n"
     ]
    },
    {
     "name": "stderr",
     "output_type": "stream",
     "text": [
      "[*********************100%***********************]  1 of 1 completed\n"
     ]
    },
    {
     "name": "stdout",
     "output_type": "stream",
     "text": [
      "read  4779  lines of data for ticker:  XLP\n"
     ]
    },
    {
     "name": "stderr",
     "output_type": "stream",
     "text": [
      "[*********************100%***********************]  1 of 1 completed\n"
     ]
    },
    {
     "name": "stdout",
     "output_type": "stream",
     "text": [
      "read  504  lines of data for ticker:  XLP\n",
      "On the 48th day, Bought 6.7658998646820026 shares for $500.0\n",
      "On the 51th day, Bought 5 shares for $376.75\n",
      "On the 52th day, Bought 1 shares for $76.02\n",
      "On the 53th day, Bought 0 shares for $0.0\n",
      "On the 54th day, Bought 0 shares for $0.0\n",
      "On the 55th day, Bought 0 shares for $0.0\n",
      "On the 75th day, sold 12.765899864682002 shares for $978.123247631935\n",
      "On the 144th day, Bought 6.663113006396588 shares for $500.0\n",
      "On the 145th day, Bought 6.67913438418381 shares for $500.0\n",
      "On the 146th day, Bought 0 shares for $0.0\n",
      "On the 156th day, Bought 0 shares for $0.0\n",
      "On the 162th day, sold 13.342247390580397 shares for $962.6431492303757\n",
      "On the 217th day, Bought 6.584145377929945 shares for $500.0\n",
      "On the 218th day, Bought 5 shares for $381.0\n",
      "On the 219th day, Bought 1 shares for $76.25\n",
      "On the 220th day, Bought 0 shares for $0.0\n",
      "On the 221th day, Bought 0 shares for $0.0\n",
      "On the 222th day, Bought 0 shares for $0.0\n",
      "On the 264th day, Bought 0 shares for $0.0\n",
      "On the 291th day, sold 12.584145377929945 shares for $899.3888701606531\n",
      "On the 306th day, Bought 6.657789613848203 shares for $500.0\n",
      "On the 307th day, Bought 5 shares for $374.75\n",
      "On the 308th day, Bought 0 shares for $0.0\n",
      "On the 309th day, Bought 0 shares for $0.0\n",
      "On the 339th day, sold 11.657789613848202 shares for $885.0593874833555\n",
      "On the 411th day, Bought 6.930967563071805 shares for $500.0\n",
      "On the 416th day, Bought 5 shares for $361.59999999999997\n",
      "On the 419th day, Bought 1 shares for $72.65\n",
      "On the 434th day, sold 12.930967563071805 shares for $866.8920654283339\n",
      "On the 471th day, Bought 7.089181908407769 shares for $500.0\n",
      "On the 472th day, Bought 5 shares for $349.79999999999995\n",
      "On the 486th day, sold 12.08918190840777 shares for $865.3436410038282\n"
     ]
    },
    {
     "name": "stderr",
     "output_type": "stream",
     "text": [
      "[*********************100%***********************]  1 of 1 completed"
     ]
    },
    {
     "name": "stdout",
     "output_type": "stream",
     "text": [
      "XLP Final Value: 888.6303609384814, Final Money: 888.6303609384814, Final Shares: 0.0\n",
      "read  4779  lines of data for ticker:  XLP\n"
     ]
    },
    {
     "name": "stderr",
     "output_type": "stream",
     "text": [
      "\n",
      "[*********************100%***********************]  1 of 1 completed\n"
     ]
    },
    {
     "name": "stdout",
     "output_type": "stream",
     "text": [
      "read  504  lines of data for ticker:  XLP\n",
      "On the 125th day, Bought 6.87757909215956 shares for $500.0\n",
      "On the 158th day, sold 6.87757909215956 shares for $505.91471801925724\n",
      "On the 217th day, Bought 6.584145377929945 shares for $500.0\n",
      "On the 218th day, Bought 6.561679790026247 shares for $500.00000000000006\n",
      "On the 219th day, Bought 0 shares for $0.0\n",
      "On the 220th day, Bought 0 shares for $0.0\n",
      "On the 221th day, Bought 0 shares for $0.0\n",
      "On the 248th day, sold 13.145825167956191 shares for $986.4627206034327\n",
      "On the 307th day, Bought 6.6711140760507 shares for $500.0\n",
      "On the 308th day, Bought 5 shares for $376.5\n",
      "On the 309th day, Bought 1 shares for $75.36\n",
      "On the 310th day, Bought 0 shares for $0.0\n",
      "On the 311th day, Bought 0 shares for $0.0\n",
      "On the 346th day, sold 12.6711140760507 shares for $920.8098599066043\n",
      "On the 379th day, Bought 6.690753378830456 shares for $500.0\n",
      "On the 416th day, Bought 5 shares for $361.59999999999997\n",
      "On the 423th day, sold 11.690753378830456 shares for $835.1874213836477\n",
      "On the 472th day, Bought 7.146941109205261 shares for $500.0\n",
      "On the 484th day, sold 7.146941109205261 shares for $509.14808461978276\n",
      "XLP Final Value: 944.0628045327246, Final Money: 944.0628045327246, Final Shares: 0.0\n"
     ]
    },
    {
     "name": "stderr",
     "output_type": "stream",
     "text": [
      "[*********************100%***********************]  1 of 1 completed\n"
     ]
    },
    {
     "name": "stdout",
     "output_type": "stream",
     "text": [
      "read  4779  lines of data for ticker:  XLP\n"
     ]
    },
    {
     "name": "stderr",
     "output_type": "stream",
     "text": [
      "[*********************100%***********************]  1 of 1 completed\n"
     ]
    },
    {
     "name": "stdout",
     "output_type": "stream",
     "text": [
      "read  504  lines of data for ticker:  XLP\n",
      "On the 233th day, Bought 6.646284726837697 shares for $500.0\n",
      "On the 237th day, sold 6.646284726837697 shares for $498.2055031237537\n"
     ]
    },
    {
     "name": "stderr",
     "output_type": "stream",
     "text": [
      "[*********************100%***********************]  1 of 1 completed"
     ]
    },
    {
     "name": "stdout",
     "output_type": "stream",
     "text": [
      "On the 461th day, Bought 7.227522405319456 shares for $500.0\n",
      "On the 462th day, Bought 6 shares for $419.34000000000003\n",
      "On the 469th day, Bought 1 shares for $70.41\n",
      "On the 483th day, sold 14.227522405319455 shares for $1013.5686961549579\n",
      "XLP Final Value: 1022.0241992787116, Final Money: 1022.0241992787116, Final Shares: 0.0\n",
      "read  4779  lines of data for ticker:  XLP\n"
     ]
    },
    {
     "name": "stderr",
     "output_type": "stream",
     "text": [
      "\n",
      "[*********************100%***********************]  1 of 1 completed\n"
     ]
    },
    {
     "name": "stdout",
     "output_type": "stream",
     "text": [
      "read  504  lines of data for ticker:  XLP\n",
      "On the 120th day, Bought 6.846501437765302 shares for $500.0\n",
      "On the 180th day, sold 6.846501437765302 shares for $456.86704094207863\n",
      "On the 219th day, Bought 6.557377049180328 shares for $500.0\n",
      "On the 271th day, Bought 5 shares for $364.85\n",
      "On the 272th day, Bought 1 shares for $73.8\n",
      "On the 276th day, sold 12.557377049180328 shares for $925.2275409836067\n",
      "On the 282th day, Bought 6.941552131056504 shares for $500.0\n",
      "On the 333th day, Bought 5 shares for $384.09999999999997\n",
      "On the 348th day, sold 11.941552131056504 shares for $879.0176523670692\n",
      "On the 428th day, Bought 7.267441860465117 shares for $500.0\n",
      "On the 429th day, Bought 6 shares for $414.06000000000006\n",
      "On the 441th day, sold 13.267441860465116 shares for $895.4196511627906\n",
      "On the 459th day, Bought 7.3014018691588785 shares for $500.0\n",
      "On the 460th day, Bought 6 shares for $413.76\n",
      "XLP Final Value: 965.9240583527413, Final Money: 5.96188545554503, Final Shares: 13.301401869158878\n"
     ]
    },
    {
     "name": "stderr",
     "output_type": "stream",
     "text": [
      "[*********************100%***********************]  1 of 1 completed\n"
     ]
    },
    {
     "name": "stdout",
     "output_type": "stream",
     "text": [
      "read  4779  lines of data for ticker:  XLV\n"
     ]
    },
    {
     "name": "stderr",
     "output_type": "stream",
     "text": [
      "[*********************100%***********************]  1 of 1 completed\n"
     ]
    },
    {
     "name": "stdout",
     "output_type": "stream",
     "text": [
      "read  504  lines of data for ticker:  XLV\n",
      "On the 48th day, Bought 3.730229782154581 shares for $500.0\n",
      "On the 51th day, Bought 3.6427218417601632 shares for $499.99999999999994\n",
      "On the 52th day, Bought 0 shares for $0.0\n",
      "On the 53th day, Bought 0 shares for $0.0\n",
      "On the 54th day, Bought 0 shares for $0.0\n",
      "On the 72th day, sold 7.372951623914744 shares for $972.5660487105939\n",
      "On the 144th day, Bought 3.7653437758867385 shares for $500.0\n",
      "On the 145th day, Bought 2 shares for $263.86\n",
      "On the 163th day, sold 5.7653437758867385 shares for $733.0634611039989\n",
      "On the 198th day, Bought 3.8051750380517504 shares for $500.0\n",
      "On the 199th day, Bought 2 shares for $261.42\n",
      "On the 200th day, Bought 1 shares for $132.86\n",
      "On the 201th day, Bought 0 shares for $0.0\n",
      "On the 202th day, Bought 0 shares for $0.0\n",
      "On the 203th day, Bought 0 shares for $0.0\n",
      "On the 204th day, Bought 0 shares for $0.0\n",
      "On the 217th day, Bought 0 shares for $0.0\n",
      "On the 218th day, Bought 0 shares for $0.0\n",
      "On the 219th day, Bought 0 shares for $0.0\n",
      "On the 220th day, Bought 0 shares for $0.0\n",
      "On the 221th day, Bought 0 shares for $0.0\n",
      "On the 222th day, Bought 0 shares for $0.0\n",
      "On the 223th day, Bought 0 shares for $0.0\n",
      "On the 290th day, sold 6.80517503805175 shares for $844.8624809741249\n",
      "On the 403th day, Bought 3.753753753753754 shares for $500.0\n",
      "On the 404th day, Bought 2 shares for $267.2\n",
      "On the 405th day, Bought 0 shares for $0.0\n",
      "On the 431th day, sold 5.753753753753754 shares for $739.7025825825826\n",
      "On the 467th day, Bought 3.8517833757029503 shares for $500.0\n",
      "On the 468th day, Bought 2 shares for $260.86\n",
      "On the 469th day, Bought 0 shares for $0.0\n",
      "On the 470th day, Bought 0 shares for $0.0\n",
      "On the 471th day, Bought 0 shares for $0.0\n",
      "On the 472th day, Bought 0 shares for $0.0\n",
      "On the 473th day, Bought 0 shares for $0.0\n"
     ]
    },
    {
     "name": "stderr",
     "output_type": "stream",
     "text": [
      "[*********************100%***********************]  1 of 1 completed"
     ]
    },
    {
     "name": "stdout",
     "output_type": "stream",
     "text": [
      "XLV Final Value: 918.7968906041792, Final Money: 103.99457337130036, Final Shares: 5.851783375702951\n",
      "read  4779  lines of data for ticker:  XLV\n"
     ]
    },
    {
     "name": "stderr",
     "output_type": "stream",
     "text": [
      "\n",
      "[*********************100%***********************]  1 of 1 completed\n"
     ]
    },
    {
     "name": "stdout",
     "output_type": "stream",
     "text": [
      "read  504  lines of data for ticker:  XLV\n",
      "On the 48th day, Bought 3.730229782154581 shares for $500.0\n",
      "On the 70th day, sold 3.730229782154581 shares for $501.97702178454193\n",
      "On the 95th day, Bought 3.7812901762081226 shares for $500.0\n",
      "On the 122th day, Bought 3.834061805076298 shares for $500.0\n",
      "On the 123th day, Bought 0 shares for $0.0\n",
      "On the 162th day, sold 7.61535198128442 shares for $952.7566863784938\n",
      "On the 217th day, Bought 3.681885125184094 shares for $500.0\n",
      "On the 218th day, Bought 2 shares for $272.68\n",
      "On the 219th day, Bought 1 shares for $137.15\n",
      "On the 220th day, Bought 0 shares for $0.0\n",
      "On the 288th day, sold 6.681885125184094 shares for $844.2561855670102\n",
      "On the 339th day, Bought 3.80778310867413 shares for $500.0\n",
      "On the 392th day, Bought 2 shares for $267.86\n",
      "On the 413th day, sold 5.80778310867413 shares for $763.5492452973879\n"
     ]
    },
    {
     "name": "stderr",
     "output_type": "stream",
     "text": [
      "[*********************100%***********************]  1 of 1 completed"
     ]
    },
    {
     "name": "stdout",
     "output_type": "stream",
     "text": [
      "On the 467th day, Bought 3.8517833757029503 shares for $500.0\n",
      "On the 468th day, Bought 2 shares for $260.86\n",
      "On the 469th day, Bought 0 shares for $0.0\n",
      "XLV Final Value: 938.7914562603125, Final Money: 123.98913902743368, Final Shares: 5.851783375702951\n",
      "read  4779  lines of data for ticker:  XLV\n"
     ]
    },
    {
     "name": "stderr",
     "output_type": "stream",
     "text": [
      "\n",
      "[*********************100%***********************]  1 of 1 completed\n"
     ]
    },
    {
     "name": "stdout",
     "output_type": "stream",
     "text": [
      "read  504  lines of data for ticker:  XLV\n"
     ]
    },
    {
     "name": "stderr",
     "output_type": "stream",
     "text": [
      "[*********************100%***********************]  1 of 1 completed"
     ]
    },
    {
     "name": "stdout",
     "output_type": "stream",
     "text": [
      "XLV Final Value: 1000.0, Final Money: 1000, Final Shares: 0.0\n",
      "read  4779  lines of data for ticker:  XLV\n"
     ]
    },
    {
     "name": "stderr",
     "output_type": "stream",
     "text": [
      "\n",
      "[*********************100%***********************]  1 of 1 completed\n"
     ]
    },
    {
     "name": "stdout",
     "output_type": "stream",
     "text": [
      "read  504  lines of data for ticker:  XLV\n",
      "On the 88th day, Bought 3.899547652472313 shares for $500.0\n",
      "On the 165th day, sold 3.899547652472313 shares for $508.8909686476369\n",
      "On the 217th day, Bought 3.681885125184094 shares for $500.0\n",
      "On the 218th day, Bought 3.6673023324042835 shares for $500.0\n",
      "On the 277th day, sold 7.3491874575883775 shares for $957.4521419746138\n",
      "On the 336th day, Bought 3.8208772734219774 shares for $500.0\n",
      "On the 413th day, sold 3.8208772734219774 shares for $502.3307351367874\n",
      "On the 420th day, Bought 3.782434374763598 shares for $500.0\n",
      "On the 421th day, Bought 2 shares for $262.9\n",
      "On the 445th day, sold 5.782434374763598 shares for $740.4985460322264\n",
      "On the 458th day, Bought 3.9010688928766486 shares for $500.0\n",
      "On the 488th day, sold 3.9010688928766486 shares for $524.1086057579777\n",
      "XLV Final Value: 970.3809975492422, Final Money: 970.3809975492422, Final Shares: 0.0\n"
     ]
    },
    {
     "name": "stderr",
     "output_type": "stream",
     "text": [
      "[*********************100%***********************]  1 of 1 completed\n"
     ]
    },
    {
     "name": "stdout",
     "output_type": "stream",
     "text": [
      "read  4779  lines of data for ticker:  XLY\n"
     ]
    },
    {
     "name": "stderr",
     "output_type": "stream",
     "text": [
      "[*********************100%***********************]  1 of 1 completed\n"
     ]
    },
    {
     "name": "stdout",
     "output_type": "stream",
     "text": [
      "read  504  lines of data for ticker:  XLY\n",
      "On the 30th day, Bought 2.8378455076905613 shares for $500.0\n",
      "On the 31th day, Bought 1 shares for $177.43\n",
      "On the 32th day, Bought 1 shares for $174.74\n",
      "On the 101th day, Bought 0 shares for $0.0\n",
      "On the 102th day, Bought 0 shares for $0.0\n",
      "On the 103th day, Bought 1 shares for $144.47\n",
      "On the 104th day, Bought 0 shares for $0.0\n",
      "On the 122th day, Bought 0 shares for $0.0\n",
      "On the 123th day, Bought 0 shares for $0.0\n",
      "On the 124th day, Bought 0 shares for $0.0\n",
      "On the 127th day, Bought 0 shares for $0.0\n",
      "On the 128th day, Bought 0 shares for $0.0\n",
      "On the 132th day, Bought 0 shares for $0.0\n",
      "On the 133th day, Bought 0 shares for $0.0\n",
      "On the 145th day, Bought 0 shares for $0.0\n",
      "On the 151th day, Bought 0 shares for $0.0\n",
      "On the 152th day, Bought 0 shares for $0.0\n",
      "On the 154th day, Bought 0 shares for $0.0\n",
      "On the 201th day, Bought 0 shares for $0.0\n",
      "On the 202th day, Bought 0 shares for $0.0\n",
      "On the 217th day, Bought 0 shares for $0.0\n",
      "On the 218th day, Bought 0 shares for $0.0\n",
      "On the 219th day, Bought 0 shares for $0.0\n",
      "On the 220th day, Bought 0 shares for $0.0\n",
      "On the 221th day, Bought 0 shares for $0.0\n",
      "On the 222th day, Bought 0 shares for $0.0\n",
      "On the 223th day, Bought 0 shares for $0.0\n",
      "On the 266th day, sold 5.837845507690561 shares for $883.5579175889665\n",
      "On the 307th day, Bought 3.37997701615629 shares for $500.0\n",
      "On the 332th day, Bought 2 shares for $296.8\n",
      "On the 348th day, sold 5.37997701615629 shares for $844.6563915365375\n",
      "On the 373th day, Bought 2.918685424084992 shares for $500.0\n",
      "On the 375th day, Bought 1 shares for $174.47\n",
      "On the 376th day, Bought 1 shares for $174.92\n",
      "On the 378th day, Bought 0 shares for $0.0\n",
      "On the 379th day, Bought 0 shares for $0.0\n",
      "On the 426th day, sold 4.918685424084992 shares for $796.4335438678419\n",
      "On the 454th day, Bought 3.1645569620253164 shares for $500.0\n",
      "On the 455th day, Bought 2 shares for $320.44\n",
      "On the 457th day, Bought 0 shares for $0.0\n",
      "On the 458th day, Bought 0 shares for $0.0\n",
      "On the 459th day, Bought 0 shares for $0.0\n",
      "On the 460th day, Bought 0 shares for $0.0\n",
      "On the 469th day, Bought 0 shares for $0.0\n",
      "On the 470th day, Bought 0 shares for $0.0\n",
      "On the 471th day, Bought 0 shares for $0.0\n",
      "On the 472th day, Bought 0 shares for $0.0\n",
      "On the 473th day, Bought 0 shares for $0.0\n",
      "XLY Final Value: 951.4892453984091, Final Money: 61.377852993345925, Final Shares: 5.1645569620253164\n"
     ]
    },
    {
     "name": "stderr",
     "output_type": "stream",
     "text": [
      "[*********************100%***********************]  1 of 1 completed\n"
     ]
    },
    {
     "name": "stdout",
     "output_type": "stream",
     "text": [
      "read  4779  lines of data for ticker:  XLY\n"
     ]
    },
    {
     "name": "stderr",
     "output_type": "stream",
     "text": [
      "[*********************100%***********************]  1 of 1 completed\n"
     ]
    },
    {
     "name": "stdout",
     "output_type": "stream",
     "text": [
      "read  504  lines of data for ticker:  XLY\n",
      "On the 49th day, Bought 2.7221254355400695 shares for $500.0\n",
      "On the 50th day, Bought 2.726876090750436 shares for $499.99999999999994\n",
      "On the 75th day, sold 5.449001526290505 shares for $900.5019922347689\n",
      "On the 102th day, Bought 3.3229215125938727 shares for $500.0\n",
      "On the 120th day, Bought 2 shares for $292.7\n",
      "On the 121th day, Bought 0 shares for $0.0\n",
      "On the 122th day, Bought 0 shares for $0.0\n",
      "On the 128th day, Bought 0 shares for $0.0\n",
      "On the 130th day, Bought 0 shares for $0.0\n",
      "On the 168th day, sold 5.322921512593872 shares for $851.8803588755233\n",
      "On the 313th day, Bought 3.4080839751891485 shares for $500.0\n",
      "On the 321th day, Bought 2 shares for $288.86\n",
      "On the 337th day, Bought 1 shares for $150.49\n",
      "On the 360th day, Bought 0 shares for $0.0\n",
      "On the 378th day, Bought 0 shares for $0.0\n",
      "On the 379th day, Bought 0 shares for $0.0\n",
      "On the 380th day, Bought 0 shares for $0.0\n",
      "On the 384th day, sold 6.4080839751891485 shares for $1100.0116951809691\n",
      "On the 416th day, Bought 2.8853367187950836 shares for $500.0\n",
      "On the 422th day, sold 2.8853367187950836 shares for $486.9582780310463\n",
      "On the 458th day, Bought 3.0906168871306714 shares for $500.0\n",
      "On the 470th day, Bought 2.967182956501098 shares for $500.0\n",
      "On the 471th day, Bought 0 shares for $0.0\n",
      "On the 472th day, Bought 0 shares for $0.0\n",
      "On the 473th day, Bought 0 shares for $0.0\n",
      "On the 474th day, Bought 0 shares for $0.0\n",
      "On the 475th day, Bought 0 shares for $0.0\n",
      "XLY Final Value: 1151.364127372243, Final Money: 107.30232432230764, Final Shares: 6.05779984363177\n"
     ]
    },
    {
     "name": "stderr",
     "output_type": "stream",
     "text": [
      "[*********************100%***********************]  1 of 1 completed\n"
     ]
    },
    {
     "name": "stdout",
     "output_type": "stream",
     "text": [
      "read  4779  lines of data for ticker:  XLY\n"
     ]
    },
    {
     "name": "stderr",
     "output_type": "stream",
     "text": [
      "[*********************100%***********************]  1 of 1 completed\n"
     ]
    },
    {
     "name": "stdout",
     "output_type": "stream",
     "text": [
      "read  504  lines of data for ticker:  XLY\n",
      "On the 101th day, Bought 3.262855651265988 shares for $500.0\n",
      "On the 103th day, Bought 2 shares for $288.94\n",
      "On the 176th day, sold 5.262855651265988 shares for $768.8505820934482\n",
      "On the 202th day, Bought 3.5070491688293473 shares for $500.0\n",
      "On the 218th day, Bought 2 shares for $285.1\n",
      "On the 284th day, Bought 1 shares for $143.23\n",
      "On the 339th day, sold 6.507049168829347 shares for $986.1433015360876\n"
     ]
    },
    {
     "name": "stderr",
     "output_type": "stream",
     "text": [
      "[*********************100%***********************]  1 of 1 completed"
     ]
    },
    {
     "name": "stdout",
     "output_type": "stream",
     "text": [
      "XLY Final Value: 1037.723883629536, Final Money: 1037.723883629536, Final Shares: 0.0\n",
      "read  4779  lines of data for ticker:  XLY\n"
     ]
    },
    {
     "name": "stderr",
     "output_type": "stream",
     "text": [
      "\n",
      "[*********************100%***********************]  1 of 1 completed\n"
     ]
    },
    {
     "name": "stdout",
     "output_type": "stream",
     "text": [
      "read  504  lines of data for ticker:  XLY\n",
      "On the 102th day, Bought 3.3229215125938727 shares for $500.0\n",
      "On the 103th day, Bought 2 shares for $288.94\n",
      "On the 110th day, sold 5.322921512593872 shares for $742.0152588555858\n",
      "On the 126th day, Bought 3.4520850593758627 shares for $499.99999999999994\n",
      "On the 128th day, Bought 2 shares for $299.42\n",
      "On the 173th day, sold 5.452085059375863 shares for $836.4043689588511\n",
      "On the 205th day, Bought 3.6363636363636362 shares for $500.0\n",
      "On the 248th day, sold 3.6363636363636362 shares for $483.1636363636364\n",
      "On the 303th day, Bought 3.4628436872359587 shares for $500.00000000000006\n",
      "On the 305th day, Bought 2 shares for $299.08\n",
      "On the 349th day, sold 5.462843687235958 shares for $860.2339954290463\n",
      "XLY Final Value: 1034.3772596071196, Final Money: 1034.3772596071196, Final Shares: 0.0\n"
     ]
    },
    {
     "name": "stderr",
     "output_type": "stream",
     "text": [
      "[*********************100%***********************]  1 of 1 completed\n"
     ]
    },
    {
     "name": "stdout",
     "output_type": "stream",
     "text": [
      "read  4779  lines of data for ticker:  XLU\n"
     ]
    },
    {
     "name": "stderr",
     "output_type": "stream",
     "text": [
      "[*********************100%***********************]  1 of 1 completed\n"
     ]
    },
    {
     "name": "stdout",
     "output_type": "stream",
     "text": [
      "read  504  lines of data for ticker:  XLU\n",
      "On the 46th day, Bought 7.061149555147578 shares for $500.0\n",
      "On the 72th day, sold 7.061149555147578 shares for $512.9925151814716\n",
      "On the 155th day, Bought 6.502796202367017 shares for $499.99999999999994\n",
      "On the 162th day, sold 6.502796202367017 shares for $486.34412797502927\n",
      "On the 201th day, Bought 7.487271638215034 shares for $500.0\n",
      "On the 220th day, Bought 6 shares for $421.26\n",
      "On the 221th day, Bought 1 shares for $69.69\n",
      "On the 270th day, sold 14.487271638215034 shares for $961.8099640610961\n",
      "On the 308th day, Bought 7.212925562608195 shares for $500.0\n",
      "On the 309th day, Bought 6 shares for $418.86\n",
      "On the 359th day, Bought 0 shares for $0.0\n",
      "On the 363th day, sold 13.212925562608195 shares for $867.6928216964802\n"
     ]
    },
    {
     "name": "stderr",
     "output_type": "stream",
     "text": [
      "[*********************100%***********************]  1 of 1 completed"
     ]
    },
    {
     "name": "stdout",
     "output_type": "stream",
     "text": [
      "On the 470th day, Bought 7.963051441312311 shares for $500.0\n",
      "On the 471th day, Bought 6 shares for $377.94\n",
      "On the 472th day, Bought 0 shares for $0.0\n",
      "On the 473th day, Bought 0 shares for $0.0\n",
      "On the 474th day, Bought 0 shares for $0.0\n",
      "On the 485th day, sold 13.963051441312311 shares for $882.8837426341775\n",
      "XLU Final Value: 923.9731715482549, Final Money: 923.9731715482549, Final Shares: 0.0\n",
      "read  4779  lines of data for ticker:  XLU\n"
     ]
    },
    {
     "name": "stderr",
     "output_type": "stream",
     "text": [
      "\n",
      "[*********************100%***********************]  1 of 1 completed\n"
     ]
    },
    {
     "name": "stdout",
     "output_type": "stream",
     "text": [
      "read  504  lines of data for ticker:  XLU\n",
      "On the 230th day, Bought 6.901311249137335 shares for $499.99999999999994\n",
      "On the 262th day, Bought 7.2907553222513855 shares for $500.0\n",
      "On the 263th day, Bought 0 shares for $0.0\n",
      "On the 264th day, Bought 0 shares for $0.0\n",
      "On the 286th day, sold 14.192066571388722 shares for $944.7658716573471\n",
      "On the 308th day, Bought 7.212925562608195 shares for $500.0\n",
      "On the 316th day, Bought 6 shares for $413.46\n",
      "On the 317th day, Bought 0 shares for $0.0\n",
      "On the 363th day, sold 13.212925562608195 shares for $867.6928216964802\n",
      "On the 390th day, Bought 7.723200494284832 shares for $500.0\n",
      "On the 398th day, Bought 6 shares for $378.12\n",
      "On the 399th day, Bought 0 shares for $0.0\n",
      "On the 406th day, Bought 0 shares for $0.0\n",
      "On the 407th day, Bought 0 shares for $0.0\n",
      "On the 408th day, Bought 0 shares for $0.0\n",
      "On the 427th day, Bought 0 shares for $0.0\n",
      "On the 429th day, sold 13.723200494284832 shares for $807.3358850787766\n",
      "On the 470th day, Bought 7.963051441312311 shares for $500.0\n",
      "On the 471th day, Bought 5 shares for $314.95\n",
      "On the 472th day, Bought 0 shares for $0.0\n"
     ]
    },
    {
     "name": "stderr",
     "output_type": "stream",
     "text": [
      "[*********************100%***********************]  1 of 1 completed"
     ]
    },
    {
     "name": "stdout",
     "output_type": "stream",
     "text": [
      "XLU Final Value: 846.6591555945724, Final Money: 13.264578432603969, Final Shares: 12.963051441312311\n",
      "read  4779  lines of data for ticker:  XLU\n"
     ]
    },
    {
     "name": "stderr",
     "output_type": "stream",
     "text": [
      "\n",
      "[*********************100%***********************]  1 of 1 completed\n"
     ]
    },
    {
     "name": "stdout",
     "output_type": "stream",
     "text": [
      "read  504  lines of data for ticker:  XLU\n",
      "On the 307th day, Bought 7.399733609590055 shares for $500.0\n",
      "On the 337th day, sold 7.399733609590055 shares for $491.41630901287556\n",
      "On the 397th day, Bought 7.805182641273806 shares for $500.0\n",
      "On the 428th day, sold 7.805182641273806 shares for $469.325632219794\n",
      "On the 469th day, Bought 7.975753708725475 shares for $500.0\n"
     ]
    },
    {
     "name": "stderr",
     "output_type": "stream",
     "text": [
      "[*********************100%***********************]  1 of 1 completed"
     ]
    },
    {
     "name": "stdout",
     "output_type": "stream",
     "text": [
      "On the 483th day, sold 7.975753708725475 shares for $519.2215664380284\n",
      "XLU Final Value: 979.9635076706979, Final Money: 979.9635076706979, Final Shares: 0.0\n",
      "read  4779  lines of data for ticker:  XLU\n"
     ]
    },
    {
     "name": "stderr",
     "output_type": "stream",
     "text": [
      "\n",
      "[*********************100%***********************]  1 of 1 completed\n"
     ]
    },
    {
     "name": "stdout",
     "output_type": "stream",
     "text": [
      "read  504  lines of data for ticker:  XLU\n",
      "On the 263th day, Bought 7.236937328122738 shares for $500.0\n",
      "On the 272th day, sold 7.236937328122738 shares for $492.9801707917209\n",
      "On the 388th day, Bought 7.547169811320755 shares for $500.0\n",
      "On the 427th day, Bought 7 shares for $429.17\n",
      "On the 429th day, sold 14.547169811320755 shares for $855.81\n",
      "XLU Final Value: 919.6201707917207, Final Money: 919.6201707917207, Final Shares: 0.0\n"
     ]
    },
    {
     "name": "stderr",
     "output_type": "stream",
     "text": [
      "[*********************100%***********************]  1 of 1 completed\n"
     ]
    },
    {
     "name": "stdout",
     "output_type": "stream",
     "text": [
      "read  4779  lines of data for ticker:  XLB\n"
     ]
    },
    {
     "name": "stderr",
     "output_type": "stream",
     "text": [
      "[*********************100%***********************]  1 of 1 completed\n"
     ]
    },
    {
     "name": "stdout",
     "output_type": "stream",
     "text": [
      "read  504  lines of data for ticker:  XLB\n",
      "On the 46th day, Bought 5.7810151462596835 shares for $500.0\n",
      "On the 47th day, Bought 5.749770009199632 shares for $499.99999999999994\n",
      "On the 48th day, Bought 0 shares for $0.0\n",
      "On the 49th day, Bought 0 shares for $0.0\n",
      "On the 50th day, Bought 0 shares for $0.0\n",
      "On the 51th day, Bought 0 shares for $0.0\n",
      "On the 52th day, Bought 0 shares for $0.0\n",
      "On the 53th day, Bought 0 shares for $0.0\n",
      "On the 54th day, Bought 0 shares for $0.0\n",
      "On the 72th day, sold 11.530785155459316 shares for $984.9596679793348\n",
      "On the 189th day, Bought 7.086167800453515 shares for $500.0\n",
      "On the 195th day, sold 7.086167800453515 shares for $512.4716553287981\n",
      "On the 200th day, Bought 6.688963210702341 shares for $500.0\n",
      "On the 202th day, Bought 5 shares for $371.34999999999997\n",
      "On the 203th day, Bought 1 shares for $72.34\n",
      "On the 217th day, Bought 0 shares for $0.0\n",
      "On the 218th day, Bought 0 shares for $0.0\n",
      "On the 219th day, Bought 0 shares for $0.0\n",
      "On the 220th day, Bought 0 shares for $0.0\n",
      "On the 222th day, Bought 0 shares for $0.0\n",
      "On the 278th day, Bought 0 shares for $0.0\n",
      "On the 290th day, sold 12.68896321070234 shares for $992.023143812709\n",
      "On the 378th day, Bought 5.953089653530182 shares for $500.0\n",
      "On the 379th day, Bought 5.9851568111084505 shares for $500.0\n",
      "On the 380th day, Bought 0 shares for $0.0\n",
      "On the 381th day, Bought 0 shares for $0.0\n",
      "On the 382th day, Bought 0 shares for $0.0\n",
      "On the 383th day, Bought 0 shares for $0.0\n",
      "On the 425th day, sold 11.938246464638633 shares for $935.6003754337297\n"
     ]
    },
    {
     "name": "stderr",
     "output_type": "stream",
     "text": [
      "[*********************100%***********************]  1 of 1 completed"
     ]
    },
    {
     "name": "stdout",
     "output_type": "stream",
     "text": [
      "On the 470th day, Bought 6.171315724512467 shares for $500.00000000000006\n",
      "On the 471th day, Bought 5 shares for $405.90000000000003\n",
      "On the 472th day, Bought 0 shares for $0.0\n",
      "XLB Final Value: 1016.0896265585214, Final Money: 75.46484255457165, Final Shares: 11.171315724512468\n",
      "read  4779  lines of data for ticker:  XLB\n"
     ]
    },
    {
     "name": "stderr",
     "output_type": "stream",
     "text": [
      "\n",
      "[*********************100%***********************]  1 of 1 completed\n"
     ]
    },
    {
     "name": "stdout",
     "output_type": "stream",
     "text": [
      "read  504  lines of data for ticker:  XLB\n",
      "On the 30th day, Bought 5.9283851078966086 shares for $500.0\n",
      "On the 44th day, Bought 4 shares for $342.32\n",
      "On the 45th day, Bought 1 shares for $86.1\n",
      "On the 46th day, Bought 0 shares for $0.0\n",
      "On the 47th day, Bought 0 shares for $0.0\n",
      "On the 48th day, Bought 0 shares for $0.0\n",
      "On the 49th day, Bought 0 shares for $0.0\n",
      "On the 73th day, sold 10.92838510789661 shares for $948.2559758121888\n",
      "On the 217th day, Bought 6.091617933723197 shares for $500.0\n",
      "On the 218th day, Bought 6.067961165048543 shares for $500.0\n",
      "On the 219th day, Bought 0 shares for $0.0\n",
      "On the 220th day, Bought 0 shares for $0.0\n",
      "On the 248th day, sold 12.15957909877174 shares for $983.4667575086582\n",
      "On the 262th day, Bought 6.036460219727152 shares for $500.0\n",
      "On the 285th day, Bought 0 shares for $0.0\n",
      "On the 286th day, Bought 6.0074492370539465 shares for $500.0\n",
      "On the 290th day, sold 12.043909456781098 shares for $941.5928413311462\n",
      "On the 377th day, Bought 5.999520038396928 shares for $500.0\n",
      "On the 378th day, Bought 4 shares for $335.96\n",
      "On the 379th day, Bought 1 shares for $83.54\n",
      "On the 382th day, Bought 0 shares for $0.0\n",
      "On the 383th day, Bought 0 shares for $0.0\n",
      "On the 406th day, Bought 0 shares for $0.0\n",
      "On the 407th day, Bought 0 shares for $0.0\n",
      "On the 413th day, sold 10.999520038396927 shares for $902.9505999520038\n",
      "On the 456th day, Bought 6.377551020408163 shares for $500.0\n"
     ]
    },
    {
     "name": "stderr",
     "output_type": "stream",
     "text": [
      "[*********************100%***********************]  1 of 1 completed"
     ]
    },
    {
     "name": "stdout",
     "output_type": "stream",
     "text": [
      "On the 470th day, Bought 0 shares for $0.0\n",
      "On the 471th day, Bought 0 shares for $0.0\n",
      "On the 472th day, Bought 0 shares for $0.0\n",
      "On the 473th day, Bought 0 shares for $0.0\n",
      "XLB Final Value: 965.3359705223645, Final Money: 428.34617460399716, Final Shares: 6.377551020408163\n",
      "read  4779  lines of data for ticker:  XLB\n"
     ]
    },
    {
     "name": "stderr",
     "output_type": "stream",
     "text": [
      "\n",
      "[*********************100%***********************]  1 of 1 completed\n"
     ]
    },
    {
     "name": "stdout",
     "output_type": "stream",
     "text": [
      "read  504  lines of data for ticker:  XLB\n",
      "On the 56th day, Bought 5.611672278338945 shares for $500.0\n",
      "On the 57th day, Bought 4 shares for $353.56\n",
      "On the 71th day, sold 9.611672278338945 shares for $809.1105723905724\n",
      "On the 144th day, Bought 6.30119722747322 shares for $499.99999999999994\n",
      "On the 161th day, sold 6.30119722747322 shares for $468.4940138626339\n",
      "On the 192th day, Bought 7.017543859649122 shares for $500.0\n",
      "On the 210th day, sold 7.017543859649122 shares for $570.1754385964912\n",
      "On the 216th day, Bought 6.229753301769249 shares for $500.0\n",
      "On the 251th day, sold 6.229753301769249 shares for $518.8138549713431\n",
      "On the 381th day, Bought 5.970149253731344 shares for $500.00000000000006\n",
      "On the 405th day, Bought 6.206554121151936 shares for $500.0\n",
      "On the 406th day, Bought 0 shares for $0.0\n",
      "On the 412th day, sold 12.17670337488328 shares for $1001.7773866516474\n",
      "On the 419th day, Bought 6.051071039574005 shares for $500.0\n",
      "On the 425th day, sold 6.051071039574005 shares for $474.2224373714148\n"
     ]
    },
    {
     "name": "stderr",
     "output_type": "stream",
     "text": [
      "[*********************100%***********************]  1 of 1 completed"
     ]
    },
    {
     "name": "stdout",
     "output_type": "stream",
     "text": [
      "On the 469th day, Bought 6.163708086785009 shares for $499.99999999999994\n",
      "XLB Final Value: 1008.0179247514004, Final Money: 489.0337038441027, Final Shares: 6.163708086785009\n",
      "read  4779  lines of data for ticker:  XLB\n"
     ]
    },
    {
     "name": "stderr",
     "output_type": "stream",
     "text": [
      "\n",
      "[*********************100%***********************]  1 of 1 completed\n"
     ]
    },
    {
     "name": "stdout",
     "output_type": "stream",
     "text": [
      "read  504  lines of data for ticker:  XLB\n",
      "On the 41th day, Bought 6.117704637220115 shares for $500.0\n",
      "On the 70th day, sold 6.117704637220115 shares for $523.0637464823199\n",
      "On the 117th day, Bought 6.745817593092283 shares for $500.0\n",
      "On the 145th day, Bought 6.279829188646069 shares for $500.00000000000006\n",
      "On the 146th day, Bought 0 shares for $0.0\n",
      "On the 157th day, sold 13.025646781738352 shares for $1011.050703198531\n",
      "On the 222th day, Bought 6.042296072507553 shares for $500.0\n",
      "On the 253th day, Bought 6.027727546714888 shares for $500.0\n",
      "On the 254th day, Bought 0 shares for $0.0\n",
      "On the 261th day, Bought 0 shares for $0.0\n",
      "On the 262th day, Bought 0 shares for $0.0\n",
      "On the 263th day, Bought 0 shares for $0.0\n",
      "On the 264th day, Bought 0 shares for $0.0\n",
      "On the 285th day, Bought 0 shares for $0.0\n",
      "On the 290th day, sold 12.070023619222441 shares for $943.6344465508106\n",
      "On the 379th day, Bought 5.9851568111084505 shares for $500.0\n",
      "On the 382th day, Bought 4 shares for $336.04\n",
      "On the 383th day, Bought 1 shares for $85.52\n",
      "On the 384th day, Bought 0 shares for $0.0\n",
      "On the 407th day, Bought 0 shares for $0.0\n",
      "On the 428th day, sold 10.98515681110845 shares for $855.0846061766817\n",
      "On the 465th day, Bought 6.228977201943441 shares for $500.0\n",
      "On the 466th day, Bought 5 shares for $402.04999999999995\n",
      "On the 467th day, Bought 0 shares for $0.0\n",
      "On the 468th day, Bought 0 shares for $0.0\n",
      "On the 469th day, Bought 0 shares for $0.0\n",
      "On the 470th day, Bought 0 shares for $0.0\n",
      "On the 471th day, Bought 0 shares for $0.0\n",
      "XLB Final Value: 954.7033828119809, Final Money: 9.223502408343165, Final Shares: 11.22897720194344\n"
     ]
    },
    {
     "name": "stderr",
     "output_type": "stream",
     "text": [
      "[*********************100%***********************]  1 of 1 completed\n"
     ]
    },
    {
     "name": "stdout",
     "output_type": "stream",
     "text": [
      "read  4779  lines of data for ticker:  XLE\n"
     ]
    },
    {
     "name": "stderr",
     "output_type": "stream",
     "text": [
      "[*********************100%***********************]  1 of 1 completed\n"
     ]
    },
    {
     "name": "stdout",
     "output_type": "stream",
     "text": [
      "read  504  lines of data for ticker:  XLE\n",
      "On the 100th day, Bought 5.430060816681147 shares for $500.0\n",
      "On the 108th day, sold 5.430060816681147 shares for $399.05516941789745\n",
      "On the 152th day, Bought 6.304375236414071 shares for $500.0\n",
      "On the 153th day, Bought 4 shares for $328.68\n",
      "On the 155th day, Bought 0 shares for $0.0\n",
      "On the 156th day, Bought 0 shares for $0.0\n",
      "On the 157th day, Bought 0 shares for $0.0\n",
      "On the 176th day, sold 10.30437523641407 shares for $708.4257975034674\n",
      "On the 198th day, Bought 5.6420672534416605 shares for $500.0\n",
      "On the 199th day, Bought 3 shares for $266.82\n",
      "On the 200th day, Bought 0 shares for $0.0\n",
      "On the 201th day, Bought 0 shares for $0.0\n",
      "On the 230th day, sold 8.64206725344166 shares for $733.2794064545247\n",
      "On the 237th day, Bought 5.789717461787864 shares for $499.99999999999994\n",
      "On the 238th day, Bought 2 shares for $168.74\n",
      "On the 254th day, Bought 0 shares for $0.0\n",
      "On the 266th day, sold 7.789717461787864 shares for $669.6041130152847\n",
      "On the 367th day, Bought 6.159911297277319 shares for $500.0\n",
      "On the 368th day, Bought 3 shares for $244.07999999999998\n",
      "On the 369th day, Bought 0 shares for $0.0\n",
      "On the 409th day, Bought 0 shares for $0.0\n",
      "On the 410th day, Bought 0 shares for $0.0\n",
      "On the 411th day, Bought 0 shares for $0.0\n",
      "On the 434th day, sold 9.159911297277318 shares for $780.6076407539731\n"
     ]
    },
    {
     "name": "stderr",
     "output_type": "stream",
     "text": [
      "[*********************100%***********************]  1 of 1 completed"
     ]
    },
    {
     "name": "stdout",
     "output_type": "stream",
     "text": [
      "On the 462th day, Bought 5.8990089664936285 shares for $500.0\n",
      "On the 463th day, Bought 3 shares for $253.79999999999998\n",
      "On the 464th day, Bought 0 shares for $0.0\n",
      "On the 491th day, Bought 0 shares for $0.0\n",
      "On the 492th day, Bought 0 shares for $0.0\n",
      "On the 493th day, Bought 0 shares for $0.0\n",
      "On the 494th day, Bought 0 shares for $0.0\n",
      "XLE Final Value: 781.7972758001735, Final Money: 28.852127145147477, Final Shares: 8.899008966493628\n",
      "read  4779  lines of data for ticker:  XLE\n"
     ]
    },
    {
     "name": "stderr",
     "output_type": "stream",
     "text": [
      "\n",
      "[*********************100%***********************]  1 of 1 completed\n"
     ]
    },
    {
     "name": "stdout",
     "output_type": "stream",
     "text": [
      "read  504  lines of data for ticker:  XLE\n",
      "On the 198th day, Bought 5.6420672534416605 shares for $500.0\n",
      "On the 200th day, Bought 5.602240896358543 shares for $499.99999999999994\n",
      "On the 201th day, Bought 0 shares for $0.0\n",
      "On the 202th day, Bought 0 shares for $0.0\n",
      "On the 203th day, Bought 0 shares for $0.0\n",
      "On the 245th day, sold 11.244308149800204 shares for $948.9071647616393\n",
      "On the 252th day, Bought 5.558643690939411 shares for $500.0\n",
      "On the 253th day, Bought 4 shares for $360.56\n",
      "On the 254th day, Bought 0 shares for $0.0\n",
      "On the 298th day, sold 9.55864369093941 shares for $752.0740856031128\n",
      "On the 369th day, Bought 6.17970584600173 shares for $500.0\n",
      "On the 370th day, Bought 4 shares for $316.36\n",
      "On the 384th day, Bought 0 shares for $0.0\n",
      "On the 385th day, Bought 0 shares for $0.0\n",
      "On the 431th day, sold 10.179705846001731 shares for $901.8201408972934\n",
      "On the 473th day, Bought 5.911563017261764 shares for $499.99999999999994\n",
      "On the 474th day, Bought 4 shares for $340.08\n",
      "XLE Final Value: 924.4187381525633, Final Money: 85.80139126204551, Final Shares: 9.911563017261763\n"
     ]
    },
    {
     "name": "stderr",
     "output_type": "stream",
     "text": [
      "[*********************100%***********************]  1 of 1 completed\n"
     ]
    },
    {
     "name": "stdout",
     "output_type": "stream",
     "text": [
      "read  4779  lines of data for ticker:  XLE\n"
     ]
    },
    {
     "name": "stderr",
     "output_type": "stream",
     "text": [
      "[*********************100%***********************]  1 of 1 completed\n"
     ]
    },
    {
     "name": "stdout",
     "output_type": "stream",
     "text": [
      "read  504  lines of data for ticker:  XLE\n"
     ]
    },
    {
     "name": "stderr",
     "output_type": "stream",
     "text": [
      "[*********************100%***********************]  1 of 1 completed"
     ]
    },
    {
     "name": "stdout",
     "output_type": "stream",
     "text": [
      "On the 467th day, Bought 5.908768612621129 shares for $500.0\n",
      "XLE Final Value: 999.9409123138737, Final Money: 500.0, Final Shares: 5.908768612621129\n",
      "read  4779  lines of data for ticker:  XLE\n"
     ]
    },
    {
     "name": "stderr",
     "output_type": "stream",
     "text": [
      "\n",
      "[*********************100%***********************]  1 of 1 completed\n"
     ]
    },
    {
     "name": "stdout",
     "output_type": "stream",
     "text": [
      "read  504  lines of data for ticker:  XLE\n",
      "On the 148th day, Bought 6.513809275664408 shares for $500.0\n",
      "On the 170th day, sold 6.513809275664408 shares for $510.94319958311615\n",
      "On the 202th day, Bought 5.502366017387477 shares for $500.00000000000006\n",
      "On the 227th day, sold 5.502366017387477 shares for $468.36139540002205\n",
      "On the 255th day, Bought 5.580980020091528 shares for $500.0\n",
      "On the 256th day, Bought 4 shares for $361.92\n",
      "On the 297th day, sold 9.580980020091527 shares for $770.2149838151579\n",
      "On the 318th day, Bought 5.84932147870847 shares for $500.00000000000006\n",
      "On the 352th day, sold 5.84932147870847 shares for $478.3575105287787\n",
      "On the 469th day, Bought 5.887201224537854 shares for $500.0\n",
      "On the 470th day, Bought 4 shares for $338.52\n",
      "On the 471th day, Bought 0 shares for $0.0\n",
      "On the 484th day, sold 9.887201224537854 shares for $833.4910632285411\n",
      "XLE Final Value: 860.9281525556158, Final Money: 860.9281525556158, Final Shares: 0.0\n"
     ]
    },
    {
     "name": "stderr",
     "output_type": "stream",
     "text": [
      "[*********************100%***********************]  1 of 1 completed\n"
     ]
    },
    {
     "name": "stdout",
     "output_type": "stream",
     "text": [
      "read  4779  lines of data for ticker:  XLF\n"
     ]
    },
    {
     "name": "stderr",
     "output_type": "stream",
     "text": [
      "[*********************100%***********************]  1 of 1 completed\n"
     ]
    },
    {
     "name": "stdout",
     "output_type": "stream",
     "text": [
      "read  504  lines of data for ticker:  XLF\n",
      "On the 52th day, Bought 12.658227848101266 shares for $500.0\n",
      "On the 75th day, sold 12.658227848101266 shares for $436.9620253164557\n",
      "On the 100th day, Bought 14.188422247446082 shares for $499.99999999999994\n",
      "On the 101th day, Bought 12 shares for $415.43999999999994\n",
      "On the 102th day, Bought 0 shares for $0.0\n",
      "On the 122th day, Bought 0 shares for $0.0\n",
      "On the 123th day, Bought 0 shares for $0.0\n",
      "On the 124th day, Bought 0 shares for $0.0\n",
      "On the 143th day, Bought 0 shares for $0.0\n",
      "On the 144th day, Bought 0 shares for $0.0\n",
      "On the 162th day, sold 26.188422247446084 shares for $859.242133938706\n",
      "On the 202th day, Bought 14.6756677428823 shares for $500.0\n",
      "On the 203th day, Bought 11 shares for $370.04\n",
      "On the 220th day, Bought 0 shares for $0.0\n",
      "On the 285th day, Bought 0 shares for $0.0\n",
      "On the 290th day, sold 25.6756677428823 shares for $845.4997387731141\n",
      "On the 366th day, Bought 14.961101137043686 shares for $500.0\n",
      "On the 394th day, sold 14.961101137043686 shares for $520.9455415918611\n",
      "On the 461th day, Bought 14.766686355581808 shares for $500.0\n",
      "On the 462th day, Bought 10 shares for $345.0\n",
      "On the 463th day, Bought 0 shares for $0.0\n",
      "On the 466th day, Bought 0 shares for $0.0\n",
      "On the 469th day, Bought 0 shares for $0.0\n",
      "On the 470th day, Bought 0 shares for $0.0\n",
      "On the 471th day, Bought 0 shares for $0.0\n",
      "On the 472th day, Bought 0 shares for $0.0\n"
     ]
    },
    {
     "name": "stderr",
     "output_type": "stream",
     "text": [
      "[*********************100%***********************]  1 of 1 completed"
     ]
    },
    {
     "name": "stdout",
     "output_type": "stream",
     "text": [
      "XLF Final Value: 963.1491797264575, Final Money: 32.16943962013727, Final Shares: 24.766686355581808\n",
      "read  4779  lines of data for ticker:  XLF\n"
     ]
    },
    {
     "name": "stderr",
     "output_type": "stream",
     "text": [
      "\n",
      "[*********************100%***********************]  1 of 1 completed\n"
     ]
    },
    {
     "name": "stdout",
     "output_type": "stream",
     "text": [
      "read  504  lines of data for ticker:  XLF\n",
      "On the 48th day, Bought 12.916559028674762 shares for $500.00000000000006\n",
      "On the 72th day, sold 12.916559028674762 shares for $455.82536812193234\n",
      "On the 120th day, Bought 15.552099533437016 shares for $500.0\n",
      "On the 122th day, Bought 14 shares for $445.48\n",
      "On the 123th day, Bought 0 shares for $0.0\n",
      "On the 168th day, sold 29.552099533437016 shares for $982.6073094867808\n",
      "On the 217th day, Bought 13.950892857142856 shares for $500.0\n",
      "On the 219th day, Bought 12 shares for $433.32\n",
      "On the 220th day, Bought 1 shares for $35.49\n",
      "On the 263th day, Bought 0 shares for $0.0\n",
      "On the 264th day, Bought 0 shares for $0.0\n",
      "On the 265th day, Bought 0 shares for $0.0\n",
      "On the 266th day, Bought 0 shares for $0.0\n",
      "On the 285th day, Bought 0 shares for $0.0\n",
      "On the 288th day, sold 26.950892857142854 shares for $942.2032142857142\n",
      "On the 411th day, Bought 14.413375612568464 shares for $500.0\n",
      "On the 419th day, Bought 13 shares for $455.13\n",
      "On the 430th day, sold 27.413375612568466 shares for $909.3016690688961\n",
      "On the 470th day, Bought 14.180374361883155 shares for $500.0\n",
      "On the 488th day, sold 14.180374361883155 shares for $528.3607487237663\n",
      "XLF Final Value: 948.8783096870898, Final Money: 948.8783096870898, Final Shares: 0.0\n"
     ]
    },
    {
     "name": "stderr",
     "output_type": "stream",
     "text": [
      "[*********************100%***********************]  1 of 1 completed\n"
     ]
    },
    {
     "name": "stdout",
     "output_type": "stream",
     "text": [
      "read  4779  lines of data for ticker:  XLF\n"
     ]
    },
    {
     "name": "stderr",
     "output_type": "stream",
     "text": [
      "[*********************100%***********************]  1 of 1 completed\n"
     ]
    },
    {
     "name": "stdout",
     "output_type": "stream",
     "text": [
      "read  504  lines of data for ticker:  XLF\n",
      "On the 50th day, Bought 12.651821862348177 shares for $500.0\n",
      "On the 72th day, sold 12.651821862348177 shares for $446.4827935222672\n",
      "On the 100th day, Bought 14.188422247446082 shares for $499.99999999999994\n",
      "On the 104th day, sold 14.188422247446082 shares for $447.78660612939836\n",
      "On the 206th day, Bought 14.598540145985401 shares for $500.0\n",
      "On the 216th day, Bought 11 shares for $390.28\n",
      "On the 284th day, Bought 0 shares for $0.0\n",
      "On the 290th day, sold 25.598540145985403 shares for $842.9599270072994\n",
      "On the 336th day, Bought 15.693659761456372 shares for $500.0\n",
      "On the 425th day, sold 15.693659761456372 shares for $528.2485875706215\n",
      "XLF Final Value: 875.1979142295866, Final Money: 875.1979142295866, Final Shares: 0.0\n"
     ]
    },
    {
     "name": "stderr",
     "output_type": "stream",
     "text": [
      "[*********************100%***********************]  1 of 1 completed\n"
     ]
    },
    {
     "name": "stdout",
     "output_type": "stream",
     "text": [
      "read  4779  lines of data for ticker:  XLF\n"
     ]
    },
    {
     "name": "stderr",
     "output_type": "stream",
     "text": [
      "[*********************100%***********************]  1 of 1 completed\n"
     ]
    },
    {
     "name": "stdout",
     "output_type": "stream",
     "text": [
      "read  504  lines of data for ticker:  XLF\n",
      "On the 117th day, Bought 15.683814303638645 shares for $500.0\n",
      "On the 182th day, sold 15.683814303638645 shares for $507.2145545796738\n",
      "On the 268th day, Bought 13.513513513513514 shares for $500.0\n",
      "On the 283th day, Bought 14.044943820224718 shares for $500.0\n",
      "On the 290th day, sold 27.558457333738232 shares for $907.5\n",
      "On the 402th day, Bought 14.731879787860931 shares for $500.0\n",
      "On the 403th day, Bought 12 shares for $403.43999999999994\n",
      "On the 429th day, sold 26.731879787860933 shares for $894.983335297584\n",
      "On the 469th day, Bought 14.132278123233464 shares for $500.0\n",
      "On the 470th day, Bought 11 shares for $387.85999999999996\n",
      "On the 489th day, sold 25.132278123233462 shares for $938.4392651215376\n",
      "XLF Final Value: 956.8371549987955, Final Money: 956.8371549987955, Final Shares: 0.0\n"
     ]
    },
    {
     "name": "stderr",
     "output_type": "stream",
     "text": [
      "[*********************100%***********************]  1 of 1 completed\n"
     ]
    },
    {
     "name": "stdout",
     "output_type": "stream",
     "text": [
      "read  4779  lines of data for ticker:  XLI\n"
     ]
    },
    {
     "name": "stderr",
     "output_type": "stream",
     "text": [
      "[*********************100%***********************]  1 of 1 completed\n"
     ]
    },
    {
     "name": "stdout",
     "output_type": "stream",
     "text": [
      "read  504  lines of data for ticker:  XLI\n",
      "On the 49th day, Bought 4.850601474582849 shares for $500.00000000000006\n",
      "On the 51th day, Bought 3 shares for $311.25\n",
      "On the 52th day, Bought 1 shares for $104.71\n",
      "On the 53th day, Bought 0 shares for $0.0\n",
      "On the 74th day, sold 8.850601474582849 shares for $842.0462242918122\n",
      "On the 100th day, Bought 5.141916906622789 shares for $500.0\n",
      "On the 101th day, Bought 4 shares for $381.92\n",
      "On the 144th day, Bought 0 shares for $0.0\n",
      "On the 162th day, sold 9.14191690662279 shares for $843.8903496503497\n",
      "On the 199th day, Bought 5.407159078620093 shares for $499.99999999999994\n",
      "On the 200th day, Bought 4 shares for $378.48\n",
      "On the 202th day, Bought 0 shares for $0.0\n",
      "On the 203th day, Bought 0 shares for $0.0\n",
      "On the 217th day, Bought 0 shares for $0.0\n",
      "On the 218th day, Bought 0 shares for $0.0\n",
      "On the 219th day, Bought 0 shares for $0.0\n",
      "On the 220th day, Bought 0 shares for $0.0\n",
      "On the 222th day, Bought 0 shares for $0.0\n",
      "On the 272th day, Bought 0 shares for $0.0\n",
      "On the 273th day, Bought 0 shares for $0.0\n",
      "On the 291th day, sold 9.407159078620094 shares for $926.040739699362\n",
      "On the 356th day, Bought 4.805382027871216 shares for $500.00000000000006\n",
      "On the 357th day, Bought 3 shares for $316.86\n",
      "On the 366th day, Bought 1 shares for $106.41\n",
      "On the 367th day, Bought 0 shares for $0.0\n",
      "On the 368th day, Bought 0 shares for $0.0\n",
      "On the 369th day, Bought 0 shares for $0.0\n",
      "On the 370th day, Bought 0 shares for $0.0\n",
      "On the 382th day, Bought 0 shares for $0.0\n",
      "On the 383th day, Bought 0 shares for $0.0\n",
      "On the 406th day, sold 8.805382027871216 shares for $938.1254012493995\n",
      "On the 462th day, Bought 4.775549188156638 shares for $500.0\n"
     ]
    },
    {
     "name": "stderr",
     "output_type": "stream",
     "text": [
      "[*********************100%***********************]  1 of 1 completed"
     ]
    },
    {
     "name": "stdout",
     "output_type": "stream",
     "text": [
      "On the 470th day, Bought 3 shares for $317.21999999999997\n",
      "On the 471th day, Bought 1 shares for $105.49\n",
      "On the 472th day, Bought 0 shares for $0.0\n",
      "XLI Final Value: 1004.4813395327571, Final Money: 27.762714890923306, Final Shares: 8.775549188156639\n",
      "read  4779  lines of data for ticker:  XLI\n"
     ]
    },
    {
     "name": "stderr",
     "output_type": "stream",
     "text": [
      "\n",
      "[*********************100%***********************]  1 of 1 completed\n"
     ]
    },
    {
     "name": "stdout",
     "output_type": "stream",
     "text": [
      "read  504  lines of data for ticker:  XLI\n",
      "On the 44th day, Bought 4.880429477794046 shares for $500.0\n",
      "On the 46th day, Bought 3 shares for $308.19\n",
      "On the 47th day, Bought 1 shares for $103.29\n",
      "On the 48th day, Bought 0 shares for $0.0\n",
      "On the 70th day, sold 8.880429477794046 shares for $874.1006734992679\n",
      "On the 120th day, Bought 5.661872947571056 shares for $500.0\n",
      "On the 144th day, Bought 4 shares for $391.36\n",
      "On the 157th day, sold 9.661872947571055 shares for $918.7474985845316\n",
      "On the 202th day, Bought 5.304476978569912 shares for $499.99999999999994\n",
      "On the 203th day, Bought 4 shares for $370.4\n",
      "On the 217th day, Bought 1 shares for $100.53\n",
      "On the 218th day, Bought 0 shares for $0.0\n",
      "On the 219th day, Bought 0 shares for $0.0\n",
      "On the 220th day, Bought 0 shares for $0.0\n",
      "On the 263th day, Bought 0 shares for $0.0\n",
      "On the 271th day, Bought 0 shares for $0.0\n",
      "On the 272th day, Bought 0 shares for $0.0\n",
      "On the 291th day, sold 10.304476978569912 shares for $1014.3727137704221\n",
      "On the 316th day, Bought 4.945598417408506 shares for $499.99999999999994\n",
      "On the 317th day, Bought 4.949514947535142 shares for $500.0\n",
      "On the 318th day, Bought 0 shares for $0.0\n",
      "On the 381th day, Bought 0 shares for $0.0\n",
      "On the 384th day, Bought 0 shares for $0.0\n",
      "On the 413th day, sold 9.895113364943647 shares for $1053.928524500148\n",
      "On the 462th day, Bought 4.775549188156638 shares for $500.0\n",
      "On the 470th day, Bought 0 shares for $0.0\n",
      "On the 471th day, Bought 4.739785761683573 shares for $500.00000000000006\n",
      "XLI Final Value: 1146.4361902715848, Final Money: 87.37941035436955, Final Shares: 9.51533494984021\n"
     ]
    },
    {
     "name": "stderr",
     "output_type": "stream",
     "text": [
      "[*********************100%***********************]  1 of 1 completed\n"
     ]
    },
    {
     "name": "stdout",
     "output_type": "stream",
     "text": [
      "read  4779  lines of data for ticker:  XLI\n"
     ]
    },
    {
     "name": "stderr",
     "output_type": "stream",
     "text": [
      "[*********************100%***********************]  1 of 1 completed\n"
     ]
    },
    {
     "name": "stdout",
     "output_type": "stream",
     "text": [
      "read  504  lines of data for ticker:  XLI\n",
      "On the 50th day, Bought 4.820671037408407 shares for $499.99999999999994\n",
      "On the 64th day, Bought 5.003001801080648 shares for $500.0\n",
      "On the 72th day, sold 9.823672838489056 shares for $949.3597431115824\n",
      "On the 100th day, Bought 5.141916906622789 shares for $500.0\n",
      "On the 105th day, sold 5.141916906622789 shares for $451.92307692307696\n",
      "On the 216th day, Bought 5.012028869286286 shares for $499.99999999999994\n",
      "On the 256th day, sold 5.012028869286286 shares for $496.1407377706495\n",
      "On the 379th day, Bought 4.562876437306078 shares for $500.0\n",
      "On the 384th day, Bought 3 shares for $331.29\n",
      "On the 401th day, sold 7.562876437306078 shares for $803.4799926993977\n"
     ]
    },
    {
     "name": "stderr",
     "output_type": "stream",
     "text": [
      "[*********************100%***********************]  1 of 1 completed"
     ]
    },
    {
     "name": "stdout",
     "output_type": "stream",
     "text": [
      "On the 469th day, Bought 4.701899567425239 shares for $499.99999999999994\n",
      "On the 472th day, Bought 3 shares for $317.67\n",
      "XLI Final Value: 909.1649723591357, Final Money: 51.94355050470665, Final Shares: 7.701899567425239\n",
      "read  4779  lines of data for ticker:  XLI\n"
     ]
    },
    {
     "name": "stderr",
     "output_type": "stream",
     "text": [
      "\n",
      "[*********************100%***********************]  1 of 1 completed\n"
     ]
    },
    {
     "name": "stdout",
     "output_type": "stream",
     "text": [
      "read  504  lines of data for ticker:  XLI\n",
      "On the 40th day, Bought 5.105166428425567 shares for $500.0\n",
      "On the 72th day, sold 5.105166428425567 shares for $493.36328364304677\n",
      "On the 117th day, Bought 5.675368898978434 shares for $500.0\n",
      "On the 143th day, Bought 4 shares for $382.96\n",
      "On the 144th day, Bought 1 shares for $97.84\n",
      "On the 171th day, sold 10.675368898978434 shares for $960.6764472190692\n",
      "On the 380th day, Bought 4.542563823021713 shares for $499.99999999999994\n",
      "On the 381th day, Bought 3 shares for $328.65\n",
      "On the 382th day, Bought 1 shares for $109.8\n",
      "On the 384th day, Bought 0 shares for $0.0\n",
      "On the 419th day, Bought 0 shares for $0.0\n",
      "On the 430th day, sold 8.542563823021712 shares for $866.0451203779412\n",
      "On the 468th day, Bought 4.71342383107089 shares for $500.0\n",
      "On the 469th day, Bought 3 shares for $319.02\n",
      "On the 470th day, Bought 0 shares for $0.0\n",
      "On the 471th day, Bought 0 shares for $0.0\n",
      "On the 489th day, sold 7.71342383107089 shares for $872.6196380090497\n",
      "XLI Final Value: 954.4344892491071, Final Money: 954.4344892491071, Final Shares: 0.0\n"
     ]
    },
    {
     "name": "stderr",
     "output_type": "stream",
     "text": [
      "[*********************100%***********************]  1 of 1 completed\n"
     ]
    },
    {
     "name": "stdout",
     "output_type": "stream",
     "text": [
      "read  4779  lines of data for ticker:  XLK\n"
     ]
    },
    {
     "name": "stderr",
     "output_type": "stream",
     "text": [
      "[*********************100%***********************]  1 of 1 completed\n"
     ]
    },
    {
     "name": "stdout",
     "output_type": "stream",
     "text": [
      "read  504  lines of data for ticker:  XLK\n",
      "On the 30th day, Bought 3.2393909944930352 shares for $500.0\n",
      "On the 74th day, sold 3.2393909944930352 shares for $458.114674441205\n",
      "On the 102th day, Bought 3.667571334262451 shares for $500.0\n",
      "On the 122th day, Bought 2 shares for $262.08\n",
      "On the 142th day, Bought 1 shares for $145.77\n",
      "On the 143th day, Bought 0 shares for $0.0\n",
      "On the 144th day, Bought 0 shares for $0.0\n",
      "On the 147th day, Bought 0 shares for $0.0\n",
      "On the 148th day, Bought 0 shares for $0.0\n",
      "On the 149th day, Bought 0 shares for $0.0\n",
      "On the 150th day, Bought 0 shares for $0.0\n",
      "On the 151th day, Bought 0 shares for $0.0\n",
      "On the 152th day, Bought 0 shares for $0.0\n",
      "On the 162th day, sold 6.667571334262451 shares for $879.9193889826157\n",
      "On the 217th day, Bought 3.753753753753754 shares for $500.0\n",
      "On the 218th day, Bought 2 shares for $268.76\n",
      "On the 219th day, Bought 1 shares for $133.6\n",
      "On the 220th day, Bought 0 shares for $0.0\n",
      "On the 221th day, Bought 0 shares for $0.0\n",
      "On the 222th day, Bought 0 shares for $0.0\n",
      "On the 256th day, Bought 0 shares for $0.0\n",
      "On the 271th day, sold 6.753753753753754 shares for $948.091951951952\n",
      "On the 285th day, Bought 3.567860710717854 shares for $500.0\n",
      "On the 307th day, Bought 2 shares for $299.88\n",
      "On the 337th day, Bought 1 shares for $154.39\n",
      "On the 338th day, Bought 0 shares for $0.0\n",
      "On the 345th day, sold 6.567860710717854 shares for $1088.0318053375197\n",
      "On the 372th day, Bought 2.9127344751252475 shares for $500.0\n",
      "On the 373th day, Bought 2.9064698017787594 shares for $500.0\n",
      "On the 406th day, sold 5.819204276904006 shares for $981.757953556475\n",
      "On the 413th day, Bought 2.8577960676726106 shares for $500.0\n",
      "On the 416th day, Bought 2.8786919223904657 shares for $500.0\n",
      "On the 450th day, sold 5.736487990063076 shares for $924.2629449589629\n",
      "On the 457th day, Bought 2.8607392150131594 shares for $500.0\n",
      "On the 458th day, Bought 2.8446265005404787 shares for $500.0\n",
      "On the 459th day, Bought 0 shares for $0.0\n",
      "On the 460th day, Bought 0 shares for $0.0\n",
      "On the 462th day, Bought 0 shares for $0.0\n",
      "On the 468th day, Bought 0 shares for $0.0\n",
      "On the 470th day, Bought 0 shares for $0.0\n",
      "On the 471th day, Bought 0 shares for $0.0\n",
      "On the 472th day, Bought 0 shares for $0.0\n",
      "On the 492th day, Bought 0 shares for $0.0\n",
      "On the 493th day, Bought 0 shares for $0.0\n"
     ]
    },
    {
     "name": "stderr",
     "output_type": "stream",
     "text": [
      "[*********************100%***********************]  1 of 1 completed"
     ]
    },
    {
     "name": "stdout",
     "output_type": "stream",
     "text": [
      "XLK Final Value: 1066.4559230622438, Final Money: 15.698719228730397, Final Shares: 5.705365715553638\n",
      "read  4779  lines of data for ticker:  XLK\n"
     ]
    },
    {
     "name": "stderr",
     "output_type": "stream",
     "text": [
      "\n",
      "[*********************100%***********************]  1 of 1 completed\n"
     ]
    },
    {
     "name": "stdout",
     "output_type": "stream",
     "text": [
      "read  504  lines of data for ticker:  XLK\n",
      "On the 102th day, Bought 3.667571334262451 shares for $500.0\n",
      "On the 164th day, Bought 2 shares for $269.08\n",
      "On the 165th day, Bought 1 shares for $137.2\n",
      "On the 168th day, sold 6.667571334262451 shares for $883.3198503630895\n",
      "On the 175th day, Bought 4.040730564085987 shares for $500.0\n",
      "On the 176th day, Bought 3 shares for $368.64\n",
      "On the 177th day, Bought 0 shares for $0.0\n",
      "On the 210th day, sold 7.040730564085987 shares for $937.4028673024081\n",
      "On the 217th day, Bought 3.753753753753754 shares for $500.0\n",
      "On the 218th day, Bought 3.7207917844917398 shares for $499.99999999999994\n",
      "On the 254th day, Bought 0 shares for $0.0\n",
      "On the 255th day, Bought 0 shares for $0.0\n",
      "On the 302th day, Bought 0 shares for $0.0\n",
      "On the 303th day, Bought 0 shares for $0.0\n",
      "On the 313th day, Bought 0 shares for $0.0\n",
      "On the 321th day, Bought 0 shares for $0.0\n",
      "On the 344th day, sold 7.4745455382454935 shares for $1231.6556137920925\n",
      "On the 379th day, Bought 2.7807129748067405 shares for $500.0\n",
      "On the 406th day, sold 2.7807129748067405 shares for $469.1340859796452\n",
      "On the 413th day, Bought 2.8577960676726106 shares for $500.0\n",
      "On the 440th day, Bought 2.9650714582221434 shares for $500.0\n",
      "On the 449th day, Bought 1 shares for $160.19\n",
      "On the 452th day, sold 6.822867525894754 shares for $1119.0185029219986\n",
      "On the 457th day, Bought 2.8607392150131594 shares for $500.0\n",
      "On the 458th day, Bought 2.8446265005404787 shares for $500.0\n",
      "On the 459th day, Bought 1 shares for $174.95\n",
      "On the 474th day, Bought 0 shares for $0.0\n",
      "On the 475th day, Bought 0 shares for $0.0\n"
     ]
    },
    {
     "name": "stderr",
     "output_type": "stream",
     "text": [
      "[*********************100%***********************]  1 of 1 completed"
     ]
    },
    {
     "name": "stdout",
     "output_type": "stream",
     "text": [
      "XLK Final Value: 1265.3981241927472, Final Money: 30.470920359233844, Final Shares: 6.705365715553638\n",
      "read  4779  lines of data for ticker:  XLK\n"
     ]
    },
    {
     "name": "stderr",
     "output_type": "stream",
     "text": [
      "\n",
      "[*********************100%***********************]  1 of 1 completed\n"
     ]
    },
    {
     "name": "stdout",
     "output_type": "stream",
     "text": [
      "read  504  lines of data for ticker:  XLK\n",
      "On the 32th day, Bought 3.3114775812967743 shares for $500.0\n",
      "On the 83th day, sold 3.3114775812967743 shares for $435.42618716471287\n",
      "On the 100th day, Bought 3.529328721677137 shares for $500.0\n",
      "On the 101th day, Bought 2 shares for $280.14\n",
      "On the 102th day, Bought 1 shares for $136.33\n",
      "On the 105th day, sold 6.529328721677137 shares for $823.1524719418367\n",
      "On the 146th day, Bought 3.319832680432906 shares for $500.0\n",
      "On the 211th day, sold 3.319832680432906 shares for $438.2179138171436\n",
      "On the 216th day, Bought 3.826432999158185 shares for $500.0\n",
      "On the 217th day, Bought 2 shares for $266.4\n",
      "On the 218th day, Bought 0 shares for $0.0\n",
      "On the 340th day, sold 5.826432999158185 shares for $919.2945986071785\n"
     ]
    },
    {
     "name": "stderr",
     "output_type": "stream",
     "text": [
      "[*********************100%***********************]  1 of 1 completed"
     ]
    },
    {
     "name": "stdout",
     "output_type": "stream",
     "text": [
      "XLK Final Value: 933.2211715308717, Final Money: 933.2211715308717, Final Shares: 0.0\n",
      "read  4779  lines of data for ticker:  XLK\n"
     ]
    },
    {
     "name": "stderr",
     "output_type": "stream",
     "text": [
      "\n",
      "[*********************100%***********************]  1 of 1 completed\n"
     ]
    },
    {
     "name": "stdout",
     "output_type": "stream",
     "text": [
      "read  504  lines of data for ticker:  XLK\n",
      "On the 30th day, Bought 0 shares for $0.0\n",
      "On the 31th day, Bought 0 shares for $0.0\n",
      "On the 32th day, Bought 0 shares for $0.0\n",
      "On the 33th day, Bought 0 shares for $0.0\n",
      "On the 34th day, Bought 0 shares for $0.0\n",
      "On the 142th day, Bought 0 shares for $0.0\n",
      "On the 143th day, Bought 0 shares for $0.0\n",
      "On the 144th day, Bought 0 shares for $0.0\n",
      "On the 212th day, Bought 0 shares for $0.0\n",
      "On the 213th day, Bought 0 shares for $0.0\n",
      "On the 302th day, Bought 0 shares for $0.0\n",
      "On the 303th day, Bought 0 shares for $0.0\n",
      "On the 313th day, Bought 0 shares for $0.0\n",
      "On the 354th day, Bought 0 shares for $0.0\n",
      "On the 355th day, Bought 0 shares for $0.0\n",
      "On the 357th day, Bought 0 shares for $0.0\n",
      "On the 358th day, Bought 0 shares for $0.0\n",
      "On the 359th day, Bought 0 shares for $0.0\n",
      "On the 412th day, Bought 0 shares for $0.0\n",
      "On the 458th day, Bought 0 shares for $0.0\n",
      "XLK Final Value: 1000.0, Final Money: 1000.0, Final Shares: 0.0\n"
     ]
    },
    {
     "name": "stderr",
     "output_type": "stream",
     "text": [
      "[*********************100%***********************]  1 of 1 completed\n"
     ]
    },
    {
     "name": "stdout",
     "output_type": "stream",
     "text": [
      "read  4779  lines of data for ticker:  XLP\n"
     ]
    },
    {
     "name": "stderr",
     "output_type": "stream",
     "text": [
      "[*********************100%***********************]  1 of 1 completed\n"
     ]
    },
    {
     "name": "stdout",
     "output_type": "stream",
     "text": [
      "read  504  lines of data for ticker:  XLP\n",
      "On the 47th day, Bought 6.7114093959731544 shares for $500.0\n",
      "On the 51th day, Bought 5 shares for $376.75\n",
      "On the 52th day, Bought 1 shares for $76.02\n",
      "On the 53th day, Bought 0 shares for $0.0\n",
      "On the 54th day, Bought 0 shares for $0.0\n",
      "On the 55th day, Bought 0 shares for $0.0\n",
      "On the 75th day, sold 12.711409395973154 shares for $973.9481879194632\n",
      "On the 145th day, Bought 6.67913438418381 shares for $500.0\n",
      "On the 147th day, Bought 6.556517178075006 shares for $500.0\n",
      "On the 155th day, Bought 0 shares for $0.0\n",
      "On the 162th day, sold 13.235651562258816 shares for $954.9522602169736\n",
      "On the 217th day, Bought 6.584145377929945 shares for $500.0\n",
      "On the 218th day, Bought 5 shares for $381.0\n",
      "On the 219th day, Bought 1 shares for $76.25\n",
      "On the 220th day, Bought 0 shares for $0.0\n",
      "On the 221th day, Bought 0 shares for $0.0\n",
      "On the 222th day, Bought 0 shares for $0.0\n",
      "On the 262th day, Bought 0 shares for $0.0\n",
      "On the 290th day, sold 12.584145377929945 shares for $894.8585778245983\n",
      "On the 306th day, Bought 6.657789613848203 shares for $500.0\n",
      "On the 307th day, Bought 5 shares for $374.75\n",
      "On the 308th day, Bought 0 shares for $0.0\n",
      "On the 309th day, Bought 0 shares for $0.0\n",
      "On the 310th day, Bought 0 shares for $0.0\n",
      "On the 339th day, sold 11.657789613848202 shares for $885.0593874833555\n",
      "On the 410th day, Bought 6.871907641561297 shares for $500.0\n",
      "On the 416th day, Bought 5 shares for $361.59999999999997\n",
      "On the 419th day, Bought 0 shares for $0.0\n",
      "On the 434th day, sold 11.871907641561297 shares for $795.8926882902695\n",
      "On the 471th day, Bought 7.089181908407769 shares for $500.0\n",
      "On the 472th day, Bought 5 shares for $349.79999999999995\n",
      "On the 488th day, sold 12.08918190840777 shares for $854.4633772862613\n"
     ]
    },
    {
     "name": "stderr",
     "output_type": "stream",
     "text": [
      "[*********************100%***********************]  1 of 1 completed"
     ]
    },
    {
     "name": "stdout",
     "output_type": "stream",
     "text": [
      "XLP Final Value: 863.0044790209216, Final Money: 863.0044790209216, Final Shares: 0.0\n",
      "read  4779  lines of data for ticker:  XLP\n"
     ]
    },
    {
     "name": "stderr",
     "output_type": "stream",
     "text": [
      "\n",
      "[*********************100%***********************]  1 of 1 completed\n"
     ]
    },
    {
     "name": "stdout",
     "output_type": "stream",
     "text": [
      "read  504  lines of data for ticker:  XLP\n",
      "On the 125th day, Bought 6.87757909215956 shares for $500.0\n",
      "On the 158th day, sold 6.87757909215956 shares for $505.91471801925724\n",
      "On the 216th day, Bought 6.632179334129195 shares for $500.00000000000006\n",
      "On the 217th day, Bought 6.584145377929945 shares for $500.0\n",
      "On the 218th day, Bought 0 shares for $0.0\n",
      "On the 219th day, Bought 0 shares for $0.0\n",
      "On the 220th day, Bought 0 shares for $0.0\n",
      "On the 221th day, Bought 0 shares for $0.0\n",
      "On the 248th day, sold 13.21632471205914 shares for $991.753006392918\n",
      "On the 263th day, Bought 6.780580417683754 shares for $500.0\n",
      "On the 264th day, Bought 5 shares for $371.65\n",
      "On the 284th day, Bought 1 shares for $72.48\n",
      "On the 307th day, Bought 0 shares for $0.0\n",
      "On the 308th day, Bought 0 shares for $0.0\n",
      "On the 309th day, Bought 0 shares for $0.0\n",
      "On the 310th day, Bought 0 shares for $0.0\n",
      "On the 311th day, Bought 0 shares for $0.0\n",
      "On the 349th day, sold 12.780580417683755 shares for $937.3277678329266\n",
      "On the 379th day, Bought 6.690753378830456 shares for $500.0\n",
      "On the 421th day, sold 6.690753378830456 shares for $478.65649672153086\n",
      "On the 427th day, Bought 7.20772668300418 shares for $500.0\n",
      "On the 432th day, Bought 6 shares for $407.09999999999997\n",
      "On the 435th day, sold 13.20772668300418 shares for $880.5591379558888\n",
      "On the 462th day, Bought 7.154099298898268 shares for $500.0\n",
      "On the 484th day, sold 7.154099298898268 shares for $509.6580340535126\n",
      "XLP Final Value: 952.6391609760342, Final Money: 952.6391609760342, Final Shares: 0.0\n"
     ]
    },
    {
     "name": "stderr",
     "output_type": "stream",
     "text": [
      "[*********************100%***********************]  1 of 1 completed\n"
     ]
    },
    {
     "name": "stdout",
     "output_type": "stream",
     "text": [
      "read  4779  lines of data for ticker:  XLP\n"
     ]
    },
    {
     "name": "stderr",
     "output_type": "stream",
     "text": [
      "[*********************100%***********************]  1 of 1 completed\n"
     ]
    },
    {
     "name": "stdout",
     "output_type": "stream",
     "text": [
      "read  504  lines of data for ticker:  XLP\n",
      "On the 174th day, Bought 7.084159818645509 shares for $500.00000000000006\n",
      "On the 201th day, sold 7.084159818645509 shares for $515.3017852082743\n",
      "On the 232th day, Bought 6.5333856004181365 shares for $500.0\n",
      "On the 240th day, Bought 6.619009796134498 shares for $500.0\n",
      "On the 256th day, sold 13.152395396552635 shares for $955.1269536976524\n",
      "On the 263th day, Bought 6.780580417683754 shares for $500.0\n",
      "On the 304th day, sold 6.780580417683754 shares for $502.508814754543\n",
      "On the 312th day, Bought 6.645401382243488 shares for $500.0\n",
      "On the 313th day, Bought 5 shares for $378.29999999999995\n",
      "On the 315th day, Bought 1 shares for $75.66\n",
      "On the 341th day, sold 12.645401382243488 shares for $938.5416905901117\n"
     ]
    },
    {
     "name": "stderr",
     "output_type": "stream",
     "text": [
      "[*********************100%***********************]  1 of 1 completed"
     ]
    },
    {
     "name": "stdout",
     "output_type": "stream",
     "text": [
      "On the 461th day, Bought 7.227522405319456 shares for $500.0\n",
      "On the 483th day, sold 7.227522405319456 shares for $514.888696154958\n",
      "XLP Final Value: 972.4079404055393, Final Money: 972.4079404055393, Final Shares: 0.0\n",
      "read  4779  lines of data for ticker:  XLP\n"
     ]
    },
    {
     "name": "stderr",
     "output_type": "stream",
     "text": [
      "\n",
      "[*********************100%***********************]  1 of 1 completed\n"
     ]
    },
    {
     "name": "stdout",
     "output_type": "stream",
     "text": [
      "read  504  lines of data for ticker:  XLP\n",
      "On the 122th day, Bought 6.868131868131869 shares for $500.0\n",
      "On the 180th day, sold 6.868131868131869 shares for $458.31043956043965\n",
      "On the 218th day, Bought 6.561679790026247 shares for $500.00000000000006\n",
      "On the 219th day, Bought 5 shares for $381.25\n",
      "On the 263th day, Bought 1 shares for $73.74\n",
      "On the 264th day, Bought 0 shares for $0.0\n",
      "On the 271th day, Bought 0 shares for $0.0\n",
      "On the 272th day, Bought 0 shares for $0.0\n",
      "On the 277th day, sold 12.561679790026247 shares for $922.0272965879266\n",
      "On the 307th day, Bought 6.6711140760507 shares for $500.0\n",
      "On the 333th day, Bought 5 shares for $384.09999999999997\n",
      "On the 349th day, sold 11.6711140760507 shares for $855.9595063375583\n",
      "On the 375th day, Bought 6.75401864109145 shares for $500.0\n",
      "On the 393th day, sold 6.75401864109145 shares for $504.6602728623531\n",
      "XLP Final Value: 901.8675153482777, Final Money: 901.8675153482777, Final Shares: 0.0\n"
     ]
    },
    {
     "name": "stderr",
     "output_type": "stream",
     "text": [
      "[*********************100%***********************]  1 of 1 completed\n"
     ]
    },
    {
     "name": "stdout",
     "output_type": "stream",
     "text": [
      "read  4779  lines of data for ticker:  XLV\n"
     ]
    },
    {
     "name": "stderr",
     "output_type": "stream",
     "text": [
      "[*********************100%***********************]  1 of 1 completed\n"
     ]
    },
    {
     "name": "stdout",
     "output_type": "stream",
     "text": [
      "read  504  lines of data for ticker:  XLV\n",
      "On the 50th day, Bought 3.669186174506494 shares for $500.0\n",
      "On the 51th day, Bought 3.6427218417601632 shares for $499.99999999999994\n",
      "On the 52th day, Bought 0 shares for $0.0\n",
      "On the 53th day, Bought 0 shares for $0.0\n",
      "On the 54th day, Bought 0 shares for $0.0\n",
      "On the 75th day, sold 7.311908016266657 shares for $946.7458499462067\n",
      "On the 126th day, Bought 3.840245775729647 shares for $500.0\n",
      "On the 135th day, Bought 2 shares for $265.68\n",
      "On the 143th day, Bought 1 shares for $131.36\n",
      "On the 144th day, Bought 0 shares for $0.0\n",
      "On the 162th day, sold 6.840245775729647 shares for $855.7831490015361\n",
      "On the 203th day, Bought 3.8293635597763656 shares for $500.0\n",
      "On the 217th day, Bought 2 shares for $271.6\n",
      "On the 218th day, Bought 0 shares for $0.0\n",
      "On the 219th day, Bought 0 shares for $0.0\n",
      "On the 220th day, Bought 0 shares for $0.0\n",
      "On the 221th day, Bought 0 shares for $0.0\n",
      "On the 222th day, Bought 0 shares for $0.0\n",
      "On the 273th day, Bought 1 shares for $132.8\n",
      "On the 291th day, sold 6.8293635597763656 shares for $855.7875476755764\n",
      "On the 375th day, Bought 3.8535645472061657 shares for $500.0\n",
      "On the 376th day, Bought 2 shares for $263.4\n",
      "On the 382th day, sold 5.853564547206165 shares for $795.7335645472061\n",
      "On the 403th day, Bought 3.753753753753754 shares for $500.0\n",
      "On the 404th day, Bought 2 shares for $267.2\n",
      "On the 432th day, sold 5.753753753753754 shares for $733.1433033033034\n",
      "On the 458th day, Bought 3.9010688928766486 shares for $500.0\n",
      "On the 459th day, Bought 2 shares for $251.04\n"
     ]
    },
    {
     "name": "stderr",
     "output_type": "stream",
     "text": [
      "[*********************100%***********************]  1 of 1 completed"
     ]
    },
    {
     "name": "stdout",
     "output_type": "stream",
     "text": [
      "On the 467th day, Bought 0 shares for $0.0\n",
      "On the 468th day, Bought 0 shares for $0.0\n",
      "On the 469th day, Bought 0 shares for $0.0\n",
      "On the 470th day, Bought 0 shares for $0.0\n",
      "On the 471th day, Bought 0 shares for $0.0\n",
      "On the 472th day, Bought 0 shares for $0.0\n",
      "On the 473th day, Bought 0 shares for $0.0\n",
      "XLV Final Value: 925.7782471179733, Final Money: 104.11341447382867, Final Shares: 5.901068892876649\n",
      "read  4779  lines of data for ticker:  XLV\n"
     ]
    },
    {
     "name": "stderr",
     "output_type": "stream",
     "text": [
      "\n",
      "[*********************100%***********************]  1 of 1 completed\n"
     ]
    },
    {
     "name": "stdout",
     "output_type": "stream",
     "text": [
      "read  504  lines of data for ticker:  XLV\n",
      "On the 30th day, Bought 3.818251240931654 shares for $500.0\n",
      "On the 45th day, Bought 0 shares for $0.0\n",
      "On the 70th day, sold 3.818251240931654 shares for $513.8220694921727\n",
      "On the 95th day, Bought 0 shares for $0.0\n",
      "On the 122th day, Bought 0 shares for $0.0\n",
      "On the 201th day, Bought 3.766478342749529 shares for $499.99999999999994\n",
      "On the 202th day, Bought 0 shares for $0.0\n",
      "On the 203th day, Bought 0 shares for $0.0\n",
      "On the 217th day, Bought 0 shares for $0.0\n",
      "On the 218th day, Bought 0 shares for $0.0\n",
      "On the 219th day, Bought 0 shares for $0.0\n",
      "On the 220th day, Bought 0 shares for $0.0\n",
      "On the 278th day, sold 3.766478342749529 shares for $489.03954802259886\n",
      "On the 310th day, Bought 0 shares for $0.0\n",
      "On the 389th day, Bought 0 shares for $0.0\n",
      "On the 404th day, Bought 0 shares for $0.0\n",
      "On the 467th day, Bought 0 shares for $0.0\n",
      "On the 468th day, Bought 0 shares for $0.0\n",
      "On the 469th day, Bought 0 shares for $0.0\n",
      "On the 470th day, Bought 0 shares for $0.0\n"
     ]
    },
    {
     "name": "stderr",
     "output_type": "stream",
     "text": [
      "[*********************100%***********************]  1 of 1 completed"
     ]
    },
    {
     "name": "stdout",
     "output_type": "stream",
     "text": [
      "XLV Final Value: 1002.8616175147715, Final Money: 1002.8616175147715, Final Shares: 0.0\n",
      "read  4779  lines of data for ticker:  XLV\n"
     ]
    },
    {
     "name": "stderr",
     "output_type": "stream",
     "text": [
      "\n",
      "[*********************100%***********************]  1 of 1 completed\n"
     ]
    },
    {
     "name": "stdout",
     "output_type": "stream",
     "text": [
      "read  504  lines of data for ticker:  XLV\n",
      "On the 51th day, Bought 3.6427218417601632 shares for $499.99999999999994\n",
      "On the 73th day, sold 3.6427218417601632 shares for $487.1411918985866\n"
     ]
    },
    {
     "name": "stderr",
     "output_type": "stream",
     "text": [
      "[*********************100%***********************]  1 of 1 completed"
     ]
    },
    {
     "name": "stdout",
     "output_type": "stream",
     "text": [
      "On the 480th day, Bought 3.761095230931247 shares for $500.0\n",
      "XLV Final Value: 1010.8360918534535, Final Money: 487.1411918985866, Final Shares: 3.761095230931247\n",
      "read  4779  lines of data for ticker:  XLV\n"
     ]
    },
    {
     "name": "stderr",
     "output_type": "stream",
     "text": [
      "\n",
      "[*********************100%***********************]  1 of 1 completed\n"
     ]
    },
    {
     "name": "stdout",
     "output_type": "stream",
     "text": [
      "read  504  lines of data for ticker:  XLV\n",
      "On the 90th day, Bought 3.8191261839291175 shares for $500.0\n",
      "On the 131th day, sold 3.8191261839291175 shares for $495.83715245951737\n",
      "On the 217th day, Bought 0 shares for $0.0\n",
      "On the 316th day, Bought 3.7441964954320803 shares for $500.0\n",
      "On the 336th day, Bought 2 shares for $261.72\n",
      "On the 373th day, sold 5.74419649543208 shares for $747.032754230942\n",
      "On the 408th day, Bought 3.7058997924696118 shares for $500.0\n",
      "On the 413th day, sold 3.7058997924696118 shares for $487.2146457159798\n",
      "On the 457th day, Bought 3.8955979742890534 shares for $500.0\n",
      "On the 488th day, sold 3.8955979742890534 shares for $523.3735878457343\n",
      "XLV Final Value: 991.7381402521735, Final Money: 991.7381402521735, Final Shares: 0.0\n"
     ]
    },
    {
     "name": "stderr",
     "output_type": "stream",
     "text": [
      "[*********************100%***********************]  1 of 1 completed\n"
     ]
    },
    {
     "name": "stdout",
     "output_type": "stream",
     "text": [
      "read  4779  lines of data for ticker:  XLY\n"
     ]
    },
    {
     "name": "stderr",
     "output_type": "stream",
     "text": [
      "[*********************100%***********************]  1 of 1 completed\n"
     ]
    },
    {
     "name": "stdout",
     "output_type": "stream",
     "text": [
      "read  504  lines of data for ticker:  XLY\n",
      "On the 30th day, Bought 2.8378455076905613 shares for $500.0\n",
      "On the 31th day, Bought 1 shares for $177.43\n",
      "On the 32th day, Bought 1 shares for $174.74\n",
      "On the 75th day, sold 4.837845507690561 shares for $799.5023486009421\n",
      "On the 101th day, Bought 3.262855651265988 shares for $500.0\n",
      "On the 102th day, Bought 2 shares for $300.94\n",
      "On the 103th day, Bought 1 shares for $144.47\n",
      "On the 122th day, Bought 0 shares for $0.0\n",
      "On the 123th day, Bought 0 shares for $0.0\n",
      "On the 132th day, Bought 0 shares for $0.0\n",
      "On the 133th day, Bought 0 shares for $0.0\n",
      "On the 144th day, Bought 0 shares for $0.0\n",
      "On the 151th day, Bought 0 shares for $0.0\n",
      "On the 152th day, Bought 0 shares for $0.0\n",
      "On the 154th day, Bought 0 shares for $0.0\n",
      "On the 155th day, Bought 0 shares for $0.0\n",
      "On the 156th day, Bought 0 shares for $0.0\n",
      "On the 200th day, Bought 0 shares for $0.0\n",
      "On the 217th day, Bought 0 shares for $0.0\n",
      "On the 218th day, Bought 0 shares for $0.0\n",
      "On the 219th day, Bought 0 shares for $0.0\n",
      "On the 220th day, Bought 0 shares for $0.0\n",
      "On the 221th day, Bought 0 shares for $0.0\n",
      "On the 222th day, Bought 0 shares for $0.0\n",
      "On the 266th day, sold 6.262855651265988 shares for $947.8832028191073\n",
      "On the 285th day, Bought 3.41740140796938 shares for $500.0\n",
      "On the 288th day, Bought 2 shares for $286.0\n",
      "On the 289th day, Bought 1 shares for $139.59\n",
      "On the 307th day, Bought 0 shares for $0.0\n",
      "On the 332th day, Bought 0 shares for $0.0\n",
      "On the 337th day, Bought 0 shares for $0.0\n",
      "On the 348th day, sold 6.41740140796938 shares for $1007.5320210511926\n",
      "On the 373th day, Bought 2.918685424084992 shares for $500.0\n",
      "On the 374th day, Bought 2.8926815157651142 shares for $500.0\n",
      "On the 375th day, Bought 0 shares for $0.0\n",
      "On the 376th day, Bought 0 shares for $0.0\n",
      "On the 377th day, Bought 0 shares for $0.0\n",
      "On the 378th day, Bought 0 shares for $0.0\n",
      "On the 379th day, Bought 0 shares for $0.0\n",
      "On the 426th day, sold 5.811366939850107 shares for $940.9765349005291\n",
      "On the 457th day, Bought 3.08242401824795 shares for $500.0\n",
      "On the 458th day, Bought 2 shares for $323.56\n",
      "On the 459th day, Bought 0 shares for $0.0\n"
     ]
    },
    {
     "name": "stderr",
     "output_type": "stream",
     "text": [
      "[*********************100%***********************]  1 of 1 completed"
     ]
    },
    {
     "name": "stdout",
     "output_type": "stream",
     "text": [
      "On the 469th day, Bought 0 shares for $0.0\n",
      "On the 470th day, Bought 0 shares for $0.0\n",
      "On the 471th day, Bought 0 shares for $0.0\n",
      "On the 472th day, Bought 0 shares for $0.0\n",
      "XLY Final Value: 1025.1198869168056, Final Money: 149.1641073717713, Final Shares: 5.08242401824795\n",
      "read  4779  lines of data for ticker:  XLY\n"
     ]
    },
    {
     "name": "stderr",
     "output_type": "stream",
     "text": [
      "\n",
      "[*********************100%***********************]  1 of 1 completed\n"
     ]
    },
    {
     "name": "stdout",
     "output_type": "stream",
     "text": [
      "read  504  lines of data for ticker:  XLY\n",
      "On the 51th day, Bought 2.6560424966799467 shares for $500.0\n",
      "On the 72th day, sold 2.6560424966799467 shares for $446.61354581673305\n",
      "On the 102th day, Bought 3.3229215125938727 shares for $500.0\n",
      "On the 122th day, Bought 2 shares for $284.72\n",
      "On the 126th day, Bought 1 shares for $144.84\n",
      "On the 128th day, Bought 0 shares for $0.0\n",
      "On the 130th day, Bought 0 shares for $0.0\n",
      "On the 131th day, Bought 0 shares for $0.0\n",
      "On the 168th day, sold 6.322921512593872 shares for $1011.9203588755232\n",
      "On the 274th day, Bought 3.248862897985705 shares for $500.0\n",
      "On the 285th day, Bought 3.41740140796938 shares for $500.0\n",
      "On the 313th day, Bought 0 shares for $0.0\n",
      "On the 320th day, Bought 0 shares for $0.0\n",
      "On the 321th day, Bought 0 shares for $0.0\n",
      "On the 337th day, Bought 0 shares for $0.0\n",
      "On the 359th day, Bought 0 shares for $0.0\n",
      "On the 378th day, Bought 0 shares for $0.0\n",
      "On the 379th day, Bought 0 shares for $0.0\n",
      "On the 380th day, Bought 0 shares for $0.0\n",
      "On the 381th day, sold 6.666264305955085 shares for $1139.7978710322004\n",
      "On the 416th day, Bought 2.8853367187950836 shares for $500.0\n",
      "On the 422th day, sold 2.8853367187950836 shares for $486.9582780310463\n",
      "On the 457th day, Bought 3.08242401824795 shares for $500.0\n",
      "On the 458th day, Bought 3.0906168871306714 shares for $500.0\n"
     ]
    },
    {
     "name": "stderr",
     "output_type": "stream",
     "text": [
      "[*********************100%***********************]  1 of 1 completed"
     ]
    },
    {
     "name": "stdout",
     "output_type": "stream",
     "text": [
      "On the 470th day, Bought 0 shares for $0.0\n",
      "On the 471th day, Bought 0 shares for $0.0\n",
      "On the 472th day, Bought 0 shares for $0.0\n",
      "On the 473th day, Bought 0 shares for $0.0\n",
      "On the 474th day, Bought 0 shares for $0.0\n",
      "XLY Final Value: 1219.6536537975082, Final Money: 155.73005375550292, Final Shares: 6.173040905378621\n",
      "read  4779  lines of data for ticker:  XLY\n"
     ]
    },
    {
     "name": "stderr",
     "output_type": "stream",
     "text": [
      "\n",
      "[*********************100%***********************]  1 of 1 completed\n"
     ]
    },
    {
     "name": "stdout",
     "output_type": "stream",
     "text": [
      "read  504  lines of data for ticker:  XLY\n",
      "On the 100th day, Bought 3.243593902043464 shares for $500.0\n",
      "On the 143th day, Bought 2 shares for $324.84\n",
      "On the 163th day, Bought 1 shares for $159.93\n",
      "On the 192th day, Bought 0 shares for $0.0\n",
      "On the 202th day, Bought 0 shares for $0.0\n",
      "On the 216th day, Bought 0 shares for $0.0\n",
      "On the 232th day, Bought 0 shares for $0.0\n",
      "On the 233th day, Bought 0 shares for $0.0\n",
      "On the 273th day, Bought 0 shares for $0.0\n",
      "On the 284th day, Bought 0 shares for $0.0\n",
      "On the 320th day, Bought 0 shares for $0.0\n",
      "On the 336th day, Bought 0 shares for $0.0\n",
      "On the 349th day, sold 6.2435939020434645 shares for $983.1787317547844\n",
      "On the 387th day, Bought 2.877863474156786 shares for $500.0\n",
      "On the 401th day, sold 2.877863474156786 shares for $468.1132727063428\n",
      "On the 415th day, Bought 2.962962962962963 shares for $500.0\n",
      "On the 425th day, sold 2.962962962962963 shares for $476.8296296296296\n",
      "On the 469th day, Bought 2.9719448407037565 shares for $500.0\n"
     ]
    },
    {
     "name": "stderr",
     "output_type": "stream",
     "text": [
      "[*********************100%***********************]  1 of 1 completed"
     ]
    },
    {
     "name": "stdout",
     "output_type": "stream",
     "text": [
      "XLY Final Value: 955.5663273860492, Final Money: 443.35163409075676, Final Shares: 2.9719448407037565\n",
      "read  4779  lines of data for ticker:  XLY\n"
     ]
    },
    {
     "name": "stderr",
     "output_type": "stream",
     "text": [
      "\n",
      "[*********************100%***********************]  1 of 1 completed\n"
     ]
    },
    {
     "name": "stdout",
     "output_type": "stream",
     "text": [
      "read  504  lines of data for ticker:  XLY\n",
      "On the 66th day, Bought 2.715472763808179 shares for $500.0\n",
      "On the 75th day, sold 2.715472763808179 shares for $448.7590289469396\n",
      "On the 102th day, Bought 3.3229215125938727 shares for $500.0\n",
      "On the 103th day, Bought 2 shares for $288.94\n",
      "On the 110th day, sold 5.322921512593872 shares for $742.0152588555858\n",
      "On the 126th day, Bought 3.4520850593758627 shares for $499.99999999999994\n",
      "On the 128th day, Bought 2 shares for $299.42\n",
      "On the 163th day, Bought 0 shares for $0.0\n",
      "On the 188th day, Bought 0 shares for $0.0\n",
      "On the 196th day, sold 5.452085059375863 shares for $779.5936426401547\n",
      "On the 205th day, Bought 3.6363636363636362 shares for $500.0\n",
      "On the 248th day, sold 3.6363636363636362 shares for $483.1636363636364\n",
      "On the 272th day, Bought 3.326237360298031 shares for $500.0\n",
      "On the 273th day, Bought 2 shares for $304.24\n",
      "On the 303th day, Bought 0 shares for $0.0\n",
      "On the 316th day, Bought 0 shares for $0.0\n",
      "On the 317th day, Bought 0 shares for $0.0\n",
      "On the 318th day, Bought 0 shares for $0.0\n",
      "On the 349th day, sold 5.32623736029803 shares for $838.7225971261308\n",
      "On the 457th day, Bought 3.08242401824795 shares for $500.0\n",
      "On the 458th day, Bought 2 shares for $323.56\n",
      "XLY Final Value: 952.0499434774817, Final Money: 76.09416393244743, Final Shares: 5.08242401824795\n"
     ]
    },
    {
     "name": "stderr",
     "output_type": "stream",
     "text": [
      "[*********************100%***********************]  1 of 1 completed\n"
     ]
    },
    {
     "name": "stdout",
     "output_type": "stream",
     "text": [
      "read  4779  lines of data for ticker:  XLU\n"
     ]
    },
    {
     "name": "stderr",
     "output_type": "stream",
     "text": [
      "[*********************100%***********************]  1 of 1 completed\n"
     ]
    },
    {
     "name": "stdout",
     "output_type": "stream",
     "text": [
      "read  504  lines of data for ticker:  XLU\n",
      "On the 45th day, Bought 7.061149555147578 shares for $500.0\n",
      "On the 72th day, sold 7.061149555147578 shares for $512.9925151814716\n",
      "On the 151th day, Bought 6.435006435006435 shares for $500.0\n",
      "On the 155th day, Bought 6.502796202367017 shares for $499.99999999999994\n",
      "On the 162th day, sold 12.937802637373451 shares for $967.6182592491605\n",
      "On the 217th day, Bought 7.168458781362007 shares for $500.0\n",
      "On the 218th day, Bought 6 shares for $423.18\n",
      "On the 219th day, Bought 0 shares for $0.0\n",
      "On the 220th day, Bought 0 shares for $0.0\n",
      "On the 221th day, Bought 0 shares for $0.0\n",
      "On the 222th day, Bought 0 shares for $0.0\n",
      "On the 270th day, sold 13.168458781362007 shares for $874.2539784946237\n",
      "On the 307th day, Bought 7.399733609590055 shares for $500.0\n",
      "On the 308th day, Bought 6 shares for $415.91999999999996\n",
      "On the 359th day, Bought 0 shares for $0.0\n",
      "On the 363th day, sold 13.399733609590054 shares for $879.9605061417789\n",
      "On the 378th day, Bought 7.625438462711607 shares for $500.0\n",
      "On the 392th day, sold 7.625438462711607 shares for $487.87555284428856\n",
      "On the 402th day, Bought 7.925186241876684 shares for $500.0\n",
      "On the 403th day, Bought 6 shares for $379.62\n",
      "On the 428th day, sold 13.925186241876684 shares for $837.321448724045\n"
     ]
    },
    {
     "name": "stderr",
     "output_type": "stream",
     "text": [
      "[*********************100%***********************]  1 of 1 completed"
     ]
    },
    {
     "name": "stdout",
     "output_type": "stream",
     "text": [
      "On the 470th day, Bought 7.963051441312311 shares for $500.0\n",
      "On the 471th day, Bought 5 shares for $314.95\n",
      "On the 472th day, Bought 0 shares for $0.0\n",
      "On the 474th day, Bought 0 shares for $0.0\n",
      "On the 485th day, sold 12.963051441312311 shares for $819.6537426341774\n",
      "XLU Final Value: 846.0060032695455, Final Money: 846.0060032695455, Final Shares: 0.0\n",
      "read  4779  lines of data for ticker:  XLU\n"
     ]
    },
    {
     "name": "stderr",
     "output_type": "stream",
     "text": [
      "\n",
      "[*********************100%***********************]  1 of 1 completed\n"
     ]
    },
    {
     "name": "stdout",
     "output_type": "stream",
     "text": [
      "read  504  lines of data for ticker:  XLU\n",
      "On the 126th day, Bought 7.16743119266055 shares for $500.0\n",
      "On the 164th day, sold 7.16743119266055 shares for $552.3939220183486\n",
      "On the 219th day, Bought 7.048209754722301 shares for $500.0\n",
      "On the 230th day, Bought 6.901311249137335 shares for $499.99999999999994\n",
      "On the 262th day, Bought 0 shares for $0.0\n",
      "On the 263th day, Bought 0 shares for $0.0\n",
      "On the 272th day, sold 13.949521003859637 shares for $950.2413707829186\n",
      "On the 308th day, Bought 7.212925562608195 shares for $500.0\n",
      "On the 316th day, Bought 7.255840951966333 shares for $500.0\n",
      "On the 317th day, Bought 0 shares for $0.0\n",
      "On the 318th day, Bought 0 shares for $0.0\n",
      "On the 364th day, sold 14.46876651457453 shares for $950.4532723424007\n",
      "On the 389th day, Bought 7.547169811320755 shares for $500.0\n",
      "On the 398th day, Bought 6 shares for $378.12\n",
      "On the 400th day, Bought 1 shares for $63.16\n",
      "On the 406th day, Bought 0 shares for $0.0\n",
      "On the 407th day, Bought 0 shares for $0.0\n",
      "On the 408th day, Bought 0 shares for $0.0\n",
      "On the 428th day, sold 14.547169811320755 shares for $874.721320754717\n",
      "On the 470th day, Bought 7.963051441312311 shares for $500.0\n",
      "On the 471th day, Bought 6 shares for $377.94\n",
      "On the 472th day, Bought 0 shares for $0.0\n",
      "On the 474th day, Bought 0 shares for $0.0\n"
     ]
    },
    {
     "name": "stderr",
     "output_type": "stream",
     "text": [
      "[*********************100%***********************]  1 of 1 completed"
     ]
    },
    {
     "name": "stdout",
     "output_type": "stream",
     "text": [
      "XLU Final Value: 906.2744630603536, Final Money: 8.589885898385035, Final Shares: 13.963051441312311\n",
      "read  4779  lines of data for ticker:  XLU\n"
     ]
    },
    {
     "name": "stderr",
     "output_type": "stream",
     "text": [
      "\n",
      "[*********************100%***********************]  1 of 1 completed\n"
     ]
    },
    {
     "name": "stdout",
     "output_type": "stream",
     "text": [
      "read  504  lines of data for ticker:  XLU\n",
      "On the 229th day, Bought 7.059155724975293 shares for $500.0\n",
      "On the 256th day, sold 7.059155724975293 shares for $488.70535084003956\n",
      "On the 261th day, Bought 7.257947452460444 shares for $500.0\n",
      "On the 300th day, sold 7.257947452460444 shares for $476.77456815212656\n",
      "On the 315th day, Bought 7.218131947452 shares for $500.0\n",
      "On the 316th day, Bought 6 shares for $413.46\n",
      "On the 338th day, sold 13.218131947452001 shares for $875.1725162407969\n",
      "On the 397th day, Bought 7.805182641273806 shares for $500.0\n",
      "On the 428th day, sold 7.805182641273806 shares for $469.325632219794\n",
      "On the 469th day, Bought 0 shares for $0.0\n",
      "XLU Final Value: 896.5180674527569, Final Money: 896.5180674527569, Final Shares: 0.0\n"
     ]
    },
    {
     "name": "stderr",
     "output_type": "stream",
     "text": [
      "[*********************100%***********************]  1 of 1 completed\n"
     ]
    },
    {
     "name": "stdout",
     "output_type": "stream",
     "text": [
      "read  4779  lines of data for ticker:  XLU\n"
     ]
    },
    {
     "name": "stderr",
     "output_type": "stream",
     "text": [
      "[*********************100%***********************]  1 of 1 completed\n"
     ]
    },
    {
     "name": "stdout",
     "output_type": "stream",
     "text": [
      "read  504  lines of data for ticker:  XLU\n",
      "On the 99th day, Bought 6.695232994108195 shares for $500.0\n",
      "On the 104th day, sold 6.695232994108195 shares for $455.67755757900375\n",
      "On the 143th day, Bought 6.6515897299454565 shares for $500.0\n",
      "On the 159th day, sold 6.6515897299454565 shares for $494.47918052414525\n",
      "On the 219th day, Bought 7.048209754722301 shares for $500.0\n",
      "On the 266th day, Bought 6 shares for $407.46\n",
      "On the 271th day, sold 13.0482097547223 shares for $883.4942824922468\n",
      "On the 308th day, Bought 7.212925562608195 shares for $500.0\n",
      "On the 336th day, sold 7.212925562608195 shares for $480.74148874783623\n",
      "On the 388th day, Bought 7.547169811320755 shares for $500.0\n",
      "On the 425th day, sold 7.547169811320755 shares for $477.66037735849056\n",
      "XLU Final Value: 884.5928867017227, Final Money: 884.5928867017227, Final Shares: 0.0\n"
     ]
    },
    {
     "name": "stderr",
     "output_type": "stream",
     "text": [
      "[*********************100%***********************]  1 of 1 completed\n"
     ]
    },
    {
     "name": "stdout",
     "output_type": "stream",
     "text": [
      "read  2775  lines of data for ticker:  XLB\n"
     ]
    },
    {
     "name": "stderr",
     "output_type": "stream",
     "text": [
      "[*********************100%***********************]  1 of 1 completed\n"
     ]
    },
    {
     "name": "stdout",
     "output_type": "stream",
     "text": [
      "read  251  lines of data for ticker:  XLB\n",
      "On the 30th day, Bought 6.062810719049351 shares for $500.0\n",
      "On the 31th day, Bought 5.994485073732166 shares for $499.99999999999994\n",
      "On the 32th day, Bought 0 shares for $0.0\n",
      "On the 33th day, Bought 0 shares for $0.0\n",
      "On the 34th day, Bought 0 shares for $0.0\n",
      "On the 119th day, sold 12.057295792781517 shares for $979.2935642897148\n",
      "On the 125th day, Bought 5.953089653530182 shares for $500.0\n",
      "On the 126th day, Bought 4 shares for $334.16\n",
      "On the 127th day, Bought 1 shares for $83.74\n",
      "On the 128th day, Bought 0 shares for $0.0\n",
      "On the 129th day, Bought 0 shares for $0.0\n",
      "On the 130th day, Bought 0 shares for $0.0\n",
      "On the 172th day, sold 10.953089653530181 shares for $858.3936361471604\n"
     ]
    },
    {
     "name": "stderr",
     "output_type": "stream",
     "text": [
      "[*********************100%***********************]  1 of 1 completed"
     ]
    },
    {
     "name": "stdout",
     "output_type": "stream",
     "text": [
      "On the 217th day, Bought 6.171315724512467 shares for $500.00000000000006\n",
      "On the 218th day, Bought 5 shares for $405.90000000000003\n",
      "On the 219th day, Bought 0 shares for $0.0\n",
      "XLB Final Value: 954.5119844408249, Final Money: 13.887200436875105, Final Shares: 11.171315724512468\n",
      "read  2775  lines of data for ticker:  XLB\n"
     ]
    },
    {
     "name": "stderr",
     "output_type": "stream",
     "text": [
      "\n",
      "[*********************100%***********************]  1 of 1 completed\n"
     ]
    },
    {
     "name": "stdout",
     "output_type": "stream",
     "text": [
      "read  251  lines of data for ticker:  XLB\n",
      "On the 126th day, Bought 5.9851568111084505 shares for $500.0\n",
      "On the 172th day, sold 5.9851568111084505 shares for $469.0567392865693\n"
     ]
    },
    {
     "name": "stderr",
     "output_type": "stream",
     "text": [
      "[*********************100%***********************]  1 of 1 completed"
     ]
    },
    {
     "name": "stdout",
     "output_type": "stream",
     "text": [
      "On the 217th day, Bought 6.171315724512467 shares for $500.00000000000006\n",
      "On the 218th day, Bought 5 shares for $405.90000000000003\n",
      "On the 219th day, Bought 0 shares for $0.0\n",
      "On the 220th day, Bought 0 shares for $0.0\n",
      "XLB Final Value: 1003.7815232905191, Final Money: 63.15673928656929, Final Shares: 11.171315724512468\n",
      "read  2775  lines of data for ticker:  XLB\n"
     ]
    },
    {
     "name": "stderr",
     "output_type": "stream",
     "text": [
      "\n",
      "[*********************100%***********************]  1 of 1 completed\n"
     ]
    },
    {
     "name": "stdout",
     "output_type": "stream",
     "text": [
      "read  251  lines of data for ticker:  XLB\n",
      "On the 128th day, Bought 5.970149253731344 shares for $500.00000000000006\n",
      "On the 152th day, Bought 5 shares for $402.8\n",
      "On the 153th day, Bought 1 shares for $80.8\n",
      "On the 166th day, Bought 0 shares for $0.0\n",
      "On the 172th day, sold 11.970149253731343 shares for $938.1005970149254\n"
     ]
    },
    {
     "name": "stderr",
     "output_type": "stream",
     "text": [
      "[*********************100%***********************]  1 of 1 completed"
     ]
    },
    {
     "name": "stdout",
     "output_type": "stream",
     "text": [
      "On the 216th day, Bought 6.163708086785009 shares for $499.99999999999994\n",
      "On the 242th day, Bought 4 shares for $337.88\n",
      "XLB Final Value: 972.4048179222232, Final Money: 116.62059701492541, Final Shares: 10.16370808678501\n",
      "read  2775  lines of data for ticker:  XLB\n"
     ]
    },
    {
     "name": "stderr",
     "output_type": "stream",
     "text": [
      "\n",
      "[*********************100%***********************]  1 of 1 completed\n"
     ]
    },
    {
     "name": "stdout",
     "output_type": "stream",
     "text": [
      "read  251  lines of data for ticker:  XLB\n",
      "On the 130th day, Bought 5.846585594013097 shares for $500.0\n",
      "On the 149th day, Bought 5 shares for $404.20000000000005\n",
      "On the 150th day, Bought 1 shares for $80.77\n",
      "On the 151th day, Bought 0 shares for $0.0\n",
      "On the 152th day, Bought 0 shares for $0.0\n",
      "On the 153th day, Bought 0 shares for $0.0\n",
      "On the 154th day, Bought 0 shares for $0.0\n",
      "On the 155th day, Bought 0 shares for $0.0\n",
      "On the 177th day, sold 11.846585594013096 shares for $930.5492984097286\n",
      "On the 215th day, Bought 6.19041723412158 shares for $500.0\n",
      "On the 216th day, Bought 5 shares for $405.6\n",
      "On the 217th day, Bought 0 shares for $0.0\n",
      "On the 218th day, Bought 0 shares for $0.0\n",
      "On the 219th day, Bought 0 shares for $0.0\n",
      "On the 220th day, Bought 0 shares for $0.0\n",
      "On the 221th day, Bought 0 shares for $0.0\n",
      "XLB Final Value: 982.2124295227655, Final Money: 39.979298409728585, Final Shares: 11.190417234121579\n"
     ]
    },
    {
     "name": "stderr",
     "output_type": "stream",
     "text": [
      "[*********************100%***********************]  1 of 1 completed\n"
     ]
    },
    {
     "name": "stdout",
     "output_type": "stream",
     "text": [
      "read  2775  lines of data for ticker:  XLE\n"
     ]
    },
    {
     "name": "stderr",
     "output_type": "stream",
     "text": [
      "[*********************100%***********************]  1 of 1 completed\n"
     ]
    },
    {
     "name": "stdout",
     "output_type": "stream",
     "text": [
      "read  251  lines of data for ticker:  XLE\n",
      "On the 115th day, Bought 6.145526057030482 shares for $500.0\n",
      "On the 157th day, Bought 4 shares for $355.68\n",
      "On the 158th day, Bought 1 shares for $90.74\n",
      "On the 159th day, Bought 0 shares for $0.0\n",
      "On the 161th day, Bought 0 shares for $0.0\n",
      "On the 181th day, sold 11.145526057030482 shares for $949.8217305801377\n"
     ]
    },
    {
     "name": "stderr",
     "output_type": "stream",
     "text": [
      "[*********************100%***********************]  1 of 1 completed"
     ]
    },
    {
     "name": "stdout",
     "output_type": "stream",
     "text": [
      "On the 210th day, Bought 5.91016548463357 shares for $500.0\n",
      "On the 211th day, Bought 6.027727546714888 shares for $500.0\n",
      "On the 212th day, Bought 0 shares for $0.0\n",
      "On the 238th day, Bought 0 shares for $0.0\n",
      "On the 239th day, Bought 0 shares for $0.0\n",
      "On the 240th day, Bought 0 shares for $0.0\n",
      "On the 241th day, Bought 0 shares for $0.0\n",
      "On the 242th day, Bought 0 shares for $0.0\n",
      "XLE Final Value: 1013.4668599625309, Final Money: 3.4017305801377233, Final Shares: 11.937893031348459\n",
      "read  2775  lines of data for ticker:  XLE\n"
     ]
    },
    {
     "name": "stderr",
     "output_type": "stream",
     "text": [
      "\n",
      "[*********************100%***********************]  1 of 1 completed\n"
     ]
    },
    {
     "name": "stdout",
     "output_type": "stream",
     "text": [
      "read  251  lines of data for ticker:  XLE\n",
      "On the 64th day, Bought 5.797773654916512 shares for $500.0\n",
      "On the 65th day, Bought 4 shares for $341.92\n",
      "On the 117th day, Bought 1 shares for $79.09\n",
      "On the 131th day, Bought 0 shares for $0.0\n",
      "On the 132th day, Bought 0 shares for $0.0\n",
      "On the 168th day, sold 10.797773654916512 shares for $994.5829313543599\n"
     ]
    },
    {
     "name": "stderr",
     "output_type": "stream",
     "text": [
      "[*********************100%***********************]  1 of 1 completed"
     ]
    },
    {
     "name": "stdout",
     "output_type": "stream",
     "text": [
      "On the 220th day, Bought 5.911563017261764 shares for $499.99999999999994\n",
      "On the 221th day, Bought 5.8809691837214775 shares for $500.0\n",
      "On the 222th day, Bought 0 shares for $0.0\n",
      "XLE Final Value: 1071.3390808795518, Final Money: 73.57293135435975, Final Shares: 11.792532200983242\n",
      "read  2775  lines of data for ticker:  XLE\n"
     ]
    },
    {
     "name": "stderr",
     "output_type": "stream",
     "text": [
      "\n",
      "[*********************100%***********************]  1 of 1 completed\n"
     ]
    },
    {
     "name": "stdout",
     "output_type": "stream",
     "text": [
      "read  251  lines of data for ticker:  XLE\n",
      "On the 60th day, Bought 5.742506029631332 shares for $500.0\n",
      "On the 74th day, sold 5.742506029631332 shares for $453.6005512805789\n"
     ]
    },
    {
     "name": "stderr",
     "output_type": "stream",
     "text": [
      "[*********************100%***********************]  1 of 1 completed"
     ]
    },
    {
     "name": "stdout",
     "output_type": "stream",
     "text": [
      "On the 211th day, Bought 6.027727546714888 shares for $500.0\n",
      "On the 219th day, Bought 4 shares for $336.08\n",
      "XLE Final Value: 965.9665790081256, Final Money: 117.5205512805789, Final Shares: 10.027727546714889\n",
      "read  2775  lines of data for ticker:  XLE\n"
     ]
    },
    {
     "name": "stderr",
     "output_type": "stream",
     "text": [
      "\n",
      "[*********************100%***********************]  1 of 1 completed\n"
     ]
    },
    {
     "name": "stdout",
     "output_type": "stream",
     "text": [
      "read  251  lines of data for ticker:  XLE\n",
      "On the 131th day, Bought 5.804504295333179 shares for $500.00000000000006\n",
      "On the 168th day, sold 5.804504295333179 shares for $534.6528906431391\n",
      "On the 216th day, Bought 5.887201224537854 shares for $500.0\n",
      "On the 217th day, Bought 5.908070424199456 shares for $499.99999999999994\n",
      "On the 219th day, Bought 0 shares for $0.0\n",
      "On the 231th day, sold 11.79527164873731 shares for $994.3413999885553\n",
      "XLE Final Value: 1028.9942906316944, Final Money: 1028.9942906316944, Final Shares: 0.0\n"
     ]
    },
    {
     "name": "stderr",
     "output_type": "stream",
     "text": [
      "[*********************100%***********************]  1 of 1 completed\n"
     ]
    },
    {
     "name": "stdout",
     "output_type": "stream",
     "text": [
      "read  2775  lines of data for ticker:  XLF\n"
     ]
    },
    {
     "name": "stderr",
     "output_type": "stream",
     "text": [
      "[*********************100%***********************]  1 of 1 completed\n"
     ]
    },
    {
     "name": "stdout",
     "output_type": "stream",
     "text": [
      "read  251  lines of data for ticker:  XLF\n",
      "On the 112th day, Bought 15.220700152207002 shares for $500.0\n",
      "On the 142th day, sold 15.220700152207002 shares for $530.4414003044141\n"
     ]
    },
    {
     "name": "stderr",
     "output_type": "stream",
     "text": [
      "[*********************100%***********************]  1 of 1 completed"
     ]
    },
    {
     "name": "stdout",
     "output_type": "stream",
     "text": [
      "On the 208th day, Bought 14.766686355581808 shares for $500.0\n",
      "On the 209th day, Bought 14.492753623188406 shares for $500.0\n",
      "On the 210th day, Bought 0 shares for $0.0\n",
      "On the 211th day, Bought 0 shares for $0.0\n",
      "On the 212th day, Bought 0 shares for $0.0\n",
      "On the 215th day, Bought 0 shares for $0.0\n",
      "On the 216th day, Bought 0 shares for $0.0\n",
      "On the 217th day, Bought 0 shares for $0.0\n",
      "On the 218th day, Bought 0 shares for $0.0\n",
      "On the 219th day, Bought 0 shares for $0.0\n",
      "On the 220th day, Bought 0 shares for $0.0\n",
      "XLF Final Value: 1130.3037491063865, Final Money: 30.441400304413946, Final Shares: 29.259439978770214\n",
      "read  2775  lines of data for ticker:  XLF\n"
     ]
    },
    {
     "name": "stderr",
     "output_type": "stream",
     "text": [
      "\n",
      "[*********************100%***********************]  1 of 1 completed\n"
     ]
    },
    {
     "name": "stdout",
     "output_type": "stream",
     "text": [
      "read  251  lines of data for ticker:  XLF\n",
      "On the 158th day, Bought 14.413375612568464 shares for $500.0\n",
      "On the 180th day, sold 14.413375612568464 shares for $470.0201787258576\n"
     ]
    },
    {
     "name": "stderr",
     "output_type": "stream",
     "text": [
      "[*********************100%***********************]  1 of 1 completed"
     ]
    },
    {
     "name": "stdout",
     "output_type": "stream",
     "text": [
      "XLF Final Value: 970.0201787258576, Final Money: 970.0201787258576, Final Shares: 0.0\n",
      "read  2775  lines of data for ticker:  XLF\n"
     ]
    },
    {
     "name": "stderr",
     "output_type": "stream",
     "text": [
      "\n",
      "[*********************100%***********************]  1 of 1 completed\n"
     ]
    },
    {
     "name": "stdout",
     "output_type": "stream",
     "text": [
      "read  251  lines of data for ticker:  XLF\n"
     ]
    },
    {
     "name": "stderr",
     "output_type": "stream",
     "text": [
      "[*********************100%***********************]  1 of 1 completed"
     ]
    },
    {
     "name": "stdout",
     "output_type": "stream",
     "text": [
      "XLF Final Value: 1000.0, Final Money: 1000, Final Shares: 0.0\n",
      "read  2775  lines of data for ticker:  XLF\n"
     ]
    },
    {
     "name": "stderr",
     "output_type": "stream",
     "text": [
      "\n",
      "[*********************100%***********************]  1 of 1 completed\n"
     ]
    },
    {
     "name": "stdout",
     "output_type": "stream",
     "text": [
      "read  251  lines of data for ticker:  XLF\n",
      "On the 150th day, Bought 14.872099940511601 shares for $500.0\n",
      "On the 176th day, sold 14.872099940511601 shares for $497.9179060083284\n",
      "On the 216th day, Bought 14.132278123233464 shares for $500.0\n",
      "On the 217th day, Bought 13 shares for $458.38\n",
      "XLF Final Value: 1059.4402406606744, Final Money: 39.53790600832838, Final Shares: 27.132278123233462\n"
     ]
    },
    {
     "name": "stderr",
     "output_type": "stream",
     "text": [
      "[*********************100%***********************]  1 of 1 completed\n"
     ]
    },
    {
     "name": "stdout",
     "output_type": "stream",
     "text": [
      "read  2775  lines of data for ticker:  XLI\n"
     ]
    },
    {
     "name": "stderr",
     "output_type": "stream",
     "text": [
      "[*********************100%***********************]  1 of 1 completed\n"
     ]
    },
    {
     "name": "stdout",
     "output_type": "stream",
     "text": [
      "read  251  lines of data for ticker:  XLI\n",
      "On the 30th day, Bought 4.932425766992207 shares for $500.00000000000006\n",
      "On the 31th day, Bought 3 shares for $307.68\n",
      "On the 32th day, Bought 1 shares for $103.67\n",
      "On the 33th day, Bought 0 shares for $0.0\n",
      "On the 34th day, Bought 0 shares for $0.0\n",
      "On the 35th day, Bought 0 shares for $0.0\n",
      "On the 99th day, sold 8.932425766992207 shares for $917.09215349709\n",
      "On the 103th day, Bought 4.805382027871216 shares for $500.00000000000006\n",
      "On the 104th day, Bought 4.7339519030486645 shares for $499.99999999999994\n",
      "On the 113th day, Bought 0 shares for $0.0\n",
      "On the 156th day, sold 9.53933393091988 shares for $1037.1163849696095\n"
     ]
    },
    {
     "name": "stderr",
     "output_type": "stream",
     "text": [
      "[*********************100%***********************]  1 of 1 completed"
     ]
    },
    {
     "name": "stdout",
     "output_type": "stream",
     "text": [
      "On the 209th day, Bought 4.775549188156638 shares for $500.0\n",
      "On the 217th day, Bought 4.728579534707774 shares for $500.0\n",
      "On the 218th day, Bought 0 shares for $0.0\n",
      "On the 219th day, Bought 0 shares for $0.0\n",
      "XLI Final Value: 1100.6680653215085, Final Money: 42.85853846669943, Final Shares: 9.504128722864412\n",
      "read  2775  lines of data for ticker:  XLI\n"
     ]
    },
    {
     "name": "stderr",
     "output_type": "stream",
     "text": [
      "\n",
      "[*********************100%***********************]  1 of 1 completed\n"
     ]
    },
    {
     "name": "stdout",
     "output_type": "stream",
     "text": [
      "read  251  lines of data for ticker:  XLI\n",
      "On the 95th day, Bought 4.953437685753913 shares for $500.0\n",
      "On the 96th day, sold 4.953437685753913 shares for $496.53259361997226\n",
      "On the 147th day, Bought 4.715201810637495 shares for $500.00000000000006\n",
      "On the 151th day, Bought 3 shares for $320.85\n",
      "On the 165th day, Bought 1 shares for $104.58\n",
      "On the 171th day, Bought 0 shares for $0.0\n",
      "On the 174th day, Bought 0 shares for $0.0\n",
      "On the 175th day, Bought 0 shares for $0.0\n",
      "On the 182th day, Bought 0 shares for $0.0\n",
      "On the 184th day, sold 8.715201810637495 shares for $897.4914824594493\n",
      "On the 196th day, Bought 5.138746145940391 shares for $500.0\n",
      "On the 200th day, Bought 4 shares for $394.72\n",
      "On the 202th day, sold 9.138746145940392 shares for $928.4966084275437\n"
     ]
    },
    {
     "name": "stderr",
     "output_type": "stream",
     "text": [
      "[*********************100%***********************]  1 of 1 completed"
     ]
    },
    {
     "name": "stdout",
     "output_type": "stream",
     "text": [
      "On the 242th day, Bought 4.49802087081684 shares for $499.99999999999994\n",
      "XLI Final Value: 1003.0004074288795, Final Money: 502.37068450696523, Final Shares: 4.49802087081684\n",
      "read  2775  lines of data for ticker:  XLI\n"
     ]
    },
    {
     "name": "stderr",
     "output_type": "stream",
     "text": [
      "\n",
      "[*********************100%***********************]  1 of 1 completed\n"
     ]
    },
    {
     "name": "stdout",
     "output_type": "stream",
     "text": [
      "read  251  lines of data for ticker:  XLI\n",
      "On the 67th day, Bought 4.95785820525533 shares for $500.0\n",
      "On the 127th day, Bought 4.542563823021713 shares for $499.99999999999994\n",
      "On the 128th day, Bought 0 shares for $0.0\n",
      "On the 148th day, sold 9.500422028277043 shares for $1009.324836284153\n"
     ]
    },
    {
     "name": "stderr",
     "output_type": "stream",
     "text": [
      "[*********************100%***********************]  1 of 1 completed"
     ]
    },
    {
     "name": "stdout",
     "output_type": "stream",
     "text": [
      "On the 218th day, Bought 4.739785761683573 shares for $500.00000000000006\n",
      "On the 219th day, Bought 4.721881197469072 shares for $500.00000000000006\n",
      "On the 228th day, Bought 0 shares for $0.0\n",
      "XLI Final Value: 1062.4083688378423, Final Money: 9.324836284152866, Final Shares: 9.461666959152645\n",
      "read  2775  lines of data for ticker:  XLI\n"
     ]
    },
    {
     "name": "stderr",
     "output_type": "stream",
     "text": [
      "\n",
      "[*********************100%***********************]  1 of 1 completed\n"
     ]
    },
    {
     "name": "stdout",
     "output_type": "stream",
     "text": [
      "read  251  lines of data for ticker:  XLI\n",
      "On the 79th day, Bought 5.04999495000505 shares for $500.0\n",
      "On the 80th day, Bought 5.08078447312265 shares for $499.99999999999994\n",
      "On the 95th day, Bought 0 shares for $0.0\n",
      "On the 99th day, sold 10.130779423127699 shares for $1040.1271233725208\n",
      "On the 172th day, Bought 4.912073877591118 shares for $499.99999999999994\n",
      "On the 174th day, Bought 4.963271788763153 shares for $500.00000000000006\n",
      "On the 185th day, sold 9.87534566635427 shares for $1023.0858110343024\n",
      "On the 192th day, Bought 5.065856129685916 shares for $499.99999999999994\n",
      "On the 193th day, Bought 5.089576547231271 shares for $500.00000000000006\n",
      "On the 196th day, Bought 0 shares for $0.0\n",
      "On the 206th day, Bought 0 shares for $0.0\n",
      "XLI Final Value: 1193.5125913477061, Final Money: 63.212934406823194, Final Shares: 10.155432676917187\n"
     ]
    },
    {
     "name": "stderr",
     "output_type": "stream",
     "text": [
      "[*********************100%***********************]  1 of 1 completed\n"
     ]
    },
    {
     "name": "stdout",
     "output_type": "stream",
     "text": [
      "read  2775  lines of data for ticker:  XLK\n"
     ]
    },
    {
     "name": "stderr",
     "output_type": "stream",
     "text": [
      "[*********************100%***********************]  1 of 1 completed\n"
     ]
    },
    {
     "name": "stdout",
     "output_type": "stream",
     "text": [
      "read  251  lines of data for ticker:  XLK\n",
      "On the 62th day, Bought 3.351431061063074 shares for $500.0\n",
      "On the 63th day, Bought 3.3411293017039756 shares for $499.99999999999994\n",
      "On the 64th day, Bought 0 shares for $0.0\n",
      "On the 65th day, Bought 0 shares for $0.0\n",
      "On the 66th day, Bought 0 shares for $0.0\n",
      "On the 67th day, Bought 0 shares for $0.0\n",
      "On the 68th day, Bought 0 shares for $0.0\n",
      "On the 82th day, Bought 0 shares for $0.0\n",
      "On the 83th day, Bought 0 shares for $0.0\n",
      "On the 84th day, Bought 0 shares for $0.0\n",
      "On the 93th day, sold 6.69256036276705 shares for $1099.453816395371\n",
      "On the 118th day, Bought 2.920390164125927 shares for $499.99999999999994\n",
      "On the 119th day, Bought 2.9127344751252475 shares for $500.0\n",
      "On the 120th day, Bought 0 shares for $0.0\n",
      "On the 122th day, Bought 0 shares for $0.0\n",
      "On the 155th day, sold 5.833124639251174 shares for $1012.0471249100788\n",
      "On the 163th day, Bought 2.8786919223904657 shares for $500.0\n",
      "On the 164th day, Bought 2.9318634924357925 shares for $500.0\n",
      "On the 165th day, Bought 0 shares for $0.0\n",
      "On the 166th day, Bought 0 shares for $0.0\n"
     ]
    },
    {
     "name": "stderr",
     "output_type": "stream",
     "text": [
      "[*********************100%***********************]  1 of 1 completed"
     ]
    },
    {
     "name": "stdout",
     "output_type": "stream",
     "text": [
      "On the 207th day, Bought 0 shares for $0.0\n",
      "On the 208th day, Bought 0 shares for $0.0\n",
      "On the 209th day, Bought 0 shares for $0.0\n",
      "On the 210th day, Bought 0 shares for $0.0\n",
      "On the 211th day, Bought 0 shares for $0.0\n",
      "On the 212th day, Bought 0 shares for $0.0\n",
      "On the 213th day, Bought 0 shares for $0.0\n",
      "On the 214th day, Bought 0 shares for $0.0\n",
      "On the 215th day, Bought 0 shares for $0.0\n",
      "On the 216th day, Bought 0 shares for $0.0\n",
      "On the 217th day, Bought 0 shares for $0.0\n",
      "On the 218th day, Bought 0 shares for $0.0\n",
      "On the 219th day, Bought 0 shares for $0.0\n",
      "On the 220th day, Bought 0 shares for $0.0\n",
      "XLK Final Value: 1181.6309320540015, Final Money: 111.50094130544971, Final Shares: 5.810555414826258\n",
      "read  2775  lines of data for ticker:  XLK\n"
     ]
    },
    {
     "name": "stderr",
     "output_type": "stream",
     "text": [
      "\n",
      "[*********************100%***********************]  1 of 1 completed\n"
     ]
    },
    {
     "name": "stdout",
     "output_type": "stream",
     "text": [
      "read  251  lines of data for ticker:  XLK\n",
      "On the 119th day, Bought 2.9127344751252475 shares for $500.0\n",
      "On the 196th day, Bought 3.121293464011486 shares for $499.99999999999994\n"
     ]
    },
    {
     "name": "stderr",
     "output_type": "stream",
     "text": [
      "[*********************100%***********************]  1 of 1 completed"
     ]
    },
    {
     "name": "stdout",
     "output_type": "stream",
     "text": [
      "On the 222th day, Bought 0 shares for $0.0\n",
      "On the 227th day, Bought 0 shares for $0.0\n",
      "On the 229th day, Bought 0 shares for $0.0\n",
      "XLK Final Value: 1111.2869255508122, Final Money: 5.684341886080802e-14, Final Shares: 6.034027939136734\n",
      "read  2775  lines of data for ticker:  XLK\n"
     ]
    },
    {
     "name": "stderr",
     "output_type": "stream",
     "text": [
      "\n",
      "[*********************100%***********************]  1 of 1 completed\n"
     ]
    },
    {
     "name": "stdout",
     "output_type": "stream",
     "text": [
      "read  251  lines of data for ticker:  XLK\n"
     ]
    },
    {
     "name": "stderr",
     "output_type": "stream",
     "text": [
      "[*********************100%***********************]  1 of 1 completed"
     ]
    },
    {
     "name": "stdout",
     "output_type": "stream",
     "text": [
      "On the 216th day, Bought 2.711349709885581 shares for $500.0\n",
      "On the 237th day, Bought 1 shares for $192.85\n",
      "On the 238th day, Bought 1 shares for $192.84\n",
      "On the 239th day, Bought 0 shares for $0.0\n",
      "On the 240th day, Bought 0 shares for $0.0\n",
      "XLK Final Value: 981.9992760696275, Final Money: 114.30999999999997, Final Shares: 4.711349709885582\n",
      "read  2775  lines of data for ticker:  XLK\n"
     ]
    },
    {
     "name": "stderr",
     "output_type": "stream",
     "text": [
      "\n",
      "[*********************100%***********************]  1 of 1 completed\n"
     ]
    },
    {
     "name": "stdout",
     "output_type": "stream",
     "text": [
      "read  251  lines of data for ticker:  XLK\n",
      "On the 62th day, Bought 3.351431061063074 shares for $500.0\n",
      "On the 63th day, Bought 3.3411293017039756 shares for $499.99999999999994\n",
      "On the 64th day, Bought 0 shares for $0.0\n",
      "On the 67th day, Bought 0 shares for $0.0\n",
      "On the 90th day, sold 6.69256036276705 shares for $1072.3489469261642\n",
      "On the 115th day, Bought 2.8820104905181854 shares for $500.0\n",
      "On the 120th day, Bought 2.9064698017787594 shares for $500.0\n",
      "On the 122th day, Bought 0 shares for $0.0\n",
      "On the 171th day, sold 5.788480292296945 shares for $949.6580767542367\n",
      "On the 203th day, Bought 2.8920122621319915 shares for $499.99999999999994\n",
      "On the 205th day, Bought 2.8446265005404787 shares for $500.0\n",
      "On the 208th day, Bought 0 shares for $0.0\n",
      "On the 216th day, Bought 0 shares for $0.0\n",
      "On the 217th day, Bought 0 shares for $0.0\n",
      "On the 219th day, Bought 0 shares for $0.0\n",
      "On the 227th day, sold 5.73663876267247 shares for $1080.1517126235995\n",
      "On the 237th day, Bought 2.592688618096967 shares for $500.00000000000006\n",
      "XLK Final Value: 1079.654199098919, Final Money: 602.1587363040005, Final Shares: 2.592688618096967\n"
     ]
    },
    {
     "name": "stderr",
     "output_type": "stream",
     "text": [
      "[*********************100%***********************]  1 of 1 completed\n"
     ]
    },
    {
     "name": "stdout",
     "output_type": "stream",
     "text": [
      "read  2775  lines of data for ticker:  XLP\n"
     ]
    },
    {
     "name": "stderr",
     "output_type": "stream",
     "text": [
      "[*********************100%***********************]  1 of 1 completed\n"
     ]
    },
    {
     "name": "stdout",
     "output_type": "stream",
     "text": [
      "read  251  lines of data for ticker:  XLP\n",
      "On the 30th day, Bought 6.993006993006993 shares for $500.0\n",
      "On the 97th day, sold 6.993006993006993 shares for $510.2797202797203\n",
      "On the 104th day, Bought 6.704210244033253 shares for $500.0\n",
      "On the 118th day, Bought 6.806425265450586 shares for $500.0\n",
      "On the 126th day, Bought 0 shares for $0.0\n",
      "On the 136th day, sold 13.510635509483839 shares for $1021.539150872073\n",
      "On the 166th day, Bought 6.882312456985547 shares for $500.0\n"
     ]
    },
    {
     "name": "stderr",
     "output_type": "stream",
     "text": [
      "[*********************100%***********************]  1 of 1 completed"
     ]
    },
    {
     "name": "stdout",
     "output_type": "stream",
     "text": [
      "On the 182th day, Bought 7.499625018749063 shares for $500.0\n",
      "On the 183th day, sold 14.38193747573461 shares for $959.7066877557705\n",
      "XLP Final Value: 991.5255589075638, Final Money: 991.5255589075638, Final Shares: 0.0\n"
     ]
    },
    {
     "name": "stderr",
     "output_type": "stream",
     "text": [
      "\n"
     ]
    },
    {
     "name": "stdout",
     "output_type": "stream",
     "text": [
      "read  2775  lines of data for ticker:  XLP\n"
     ]
    },
    {
     "name": "stderr",
     "output_type": "stream",
     "text": [
      "[*********************100%***********************]  1 of 1 completed\n"
     ]
    },
    {
     "name": "stdout",
     "output_type": "stream",
     "text": [
      "read  251  lines of data for ticker:  XLP\n",
      "On the 90th day, Bought 6.832467887400928 shares for $499.99999999999994\n",
      "On the 92th day, Bought 6.888001102080176 shares for $500.0\n",
      "On the 93th day, Bought 0 shares for $0.0\n",
      "On the 139th day, sold 13.720468989481105 shares for $1032.602496148348\n",
      "On the 182th day, Bought 7.499625018749063 shares for $500.0\n",
      "On the 215th day, sold 7.499625018749063 shares for $526.0986950652468\n"
     ]
    },
    {
     "name": "stderr",
     "output_type": "stream",
     "text": [
      "[*********************100%***********************]  1 of 1 completed"
     ]
    },
    {
     "name": "stdout",
     "output_type": "stream",
     "text": [
      "XLP Final Value: 1058.701191213595, Final Money: 1058.701191213595, Final Shares: 0.0\n",
      "read  2775  lines of data for ticker:  XLP\n"
     ]
    },
    {
     "name": "stderr",
     "output_type": "stream",
     "text": [
      "\n",
      "[*********************100%***********************]  1 of 1 completed\n"
     ]
    },
    {
     "name": "stdout",
     "output_type": "stream",
     "text": [
      "read  251  lines of data for ticker:  XLP\n"
     ]
    },
    {
     "name": "stderr",
     "output_type": "stream",
     "text": [
      "[*********************100%***********************]  1 of 1 completed"
     ]
    },
    {
     "name": "stdout",
     "output_type": "stream",
     "text": [
      "On the 182th day, Bought 7.499625018749063 shares for $500.0\n",
      "On the 230th day, sold 7.499625018749063 shares for $534.2732863356832\n",
      "XLP Final Value: 1034.2732863356832, Final Money: 1034.2732863356832, Final Shares: 0.0\n"
     ]
    },
    {
     "name": "stderr",
     "output_type": "stream",
     "text": [
      "\n"
     ]
    },
    {
     "name": "stdout",
     "output_type": "stream",
     "text": [
      "read  2775  lines of data for ticker:  XLP\n"
     ]
    },
    {
     "name": "stderr",
     "output_type": "stream",
     "text": [
      "[*********************100%***********************]  1 of 1 completed\n"
     ]
    },
    {
     "name": "stdout",
     "output_type": "stream",
     "text": [
      "read  251  lines of data for ticker:  XLP\n",
      "On the 64th day, Bought 6.592827004219409 shares for $499.99999999999994\n",
      "On the 130th day, Bought 6.587615283267457 shares for $500.0\n",
      "On the 140th day, sold 13.180442287486866 shares for $984.8426477210186\n",
      "On the 196th day, Bought 7.407407407407407 shares for $500.0\n",
      "On the 197th day, Bought 6 shares for $399.48\n",
      "On the 198th day, Bought 1 shares for $67.62\n",
      "On the 199th day, Bought 0 shares for $0.0\n",
      "On the 200th day, Bought 0 shares for $0.0\n",
      "On the 206th day, Bought 0 shares for $0.0\n",
      "On the 207th day, Bought 0 shares for $0.0\n",
      "On the 208th day, Bought 0 shares for $0.0\n",
      "On the 231th day, sold 14.407407407407408 shares for $1026.3837037037038\n",
      "XLP Final Value: 1044.1263514247225, Final Money: 1044.1263514247225, Final Shares: 0.0\n"
     ]
    },
    {
     "name": "stderr",
     "output_type": "stream",
     "text": [
      "[*********************100%***********************]  1 of 1 completed\n"
     ]
    },
    {
     "name": "stdout",
     "output_type": "stream",
     "text": [
      "read  2775  lines of data for ticker:  XLV\n"
     ]
    },
    {
     "name": "stderr",
     "output_type": "stream",
     "text": [
      "[*********************100%***********************]  1 of 1 completed\n"
     ]
    },
    {
     "name": "stdout",
     "output_type": "stream",
     "text": [
      "read  251  lines of data for ticker:  XLV\n",
      "On the 30th day, Bought 3.9382482671707626 shares for $500.0\n",
      "On the 132th day, sold 3.9382482671707626 shares for $530.8364839319471\n",
      "On the 150th day, Bought 3.753753753753754 shares for $500.0\n",
      "On the 151th day, Bought 3.7425149700598803 shares for $500.0\n",
      "On the 152th day, Bought 0 shares for $0.0\n",
      "On the 182th day, sold 7.4962687238136345 shares for $974.5898967830105\n"
     ]
    },
    {
     "name": "stderr",
     "output_type": "stream",
     "text": [
      "[*********************100%***********************]  1 of 1 completed"
     ]
    },
    {
     "name": "stdout",
     "output_type": "stream",
     "text": [
      "On the 216th day, Bought 3.813009990086174 shares for $500.0\n",
      "On the 217th day, Bought 3.8370040672243113 shares for $500.0\n",
      "On the 218th day, Bought 0 shares for $0.0\n",
      "On the 219th day, Bought 0 shares for $0.0\n",
      "On the 220th day, Bought 0 shares for $0.0\n",
      "On the 221th day, Bought 0 shares for $0.0\n",
      "On the 222th day, Bought 0 shares for $0.0\n",
      "On the 235th day, sold 7.650014057310486 shares for $1027.7793885996637\n",
      "XLV Final Value: 1033.2057693146212, Final Money: 1033.2057693146212, Final Shares: 0.0\n",
      "read  2775  lines of data for ticker:  XLV\n"
     ]
    },
    {
     "name": "stderr",
     "output_type": "stream",
     "text": [
      "\n",
      "[*********************100%***********************]  1 of 1 completed\n"
     ]
    },
    {
     "name": "stdout",
     "output_type": "stream",
     "text": [
      "read  251  lines of data for ticker:  XLV\n"
     ]
    },
    {
     "name": "stderr",
     "output_type": "stream",
     "text": [
      "[*********************100%***********************]  1 of 1 completed"
     ]
    },
    {
     "name": "stdout",
     "output_type": "stream",
     "text": [
      "On the 213th day, Bought 3.8750678136867394 shares for $500.0\n",
      "On the 241th day, sold 3.8750678136867394 shares for $537.7819111834457\n",
      "XLV Final Value: 1037.7819111834456, Final Money: 1037.7819111834456, Final Shares: 0.0\n",
      "read  2775  lines of data for ticker:  XLV\n"
     ]
    },
    {
     "name": "stderr",
     "output_type": "stream",
     "text": [
      "\n",
      "[*********************100%***********************]  1 of 1 completed\n"
     ]
    },
    {
     "name": "stdout",
     "output_type": "stream",
     "text": [
      "read  251  lines of data for ticker:  XLV\n",
      "On the 30th day, Bought 3.9382482671707626 shares for $500.0\n",
      "On the 72th day, Bought 3.7252272388615704 shares for $499.99999999999994\n",
      "On the 76th day, Bought 0 shares for $0.0\n",
      "On the 77th day, Bought 0 shares for $0.0\n",
      "On the 78th day, Bought 0 shares for $0.0\n",
      "On the 93th day, sold 7.6634755060323325 shares for $979.622073936113\n",
      "On the 154th day, Bought 3.7391564463057136 shares for $500.0\n",
      "On the 166th day, Bought 2 shares for $266.48\n",
      "On the 169th day, Bought 1 shares for $131.56\n"
     ]
    },
    {
     "name": "stderr",
     "output_type": "stream",
     "text": [
      "[*********************100%***********************]  1 of 1 completed"
     ]
    },
    {
     "name": "stdout",
     "output_type": "stream",
     "text": [
      "On the 178th day, sold 6.739156446305714 shares for $866.3859527370626\n",
      "On the 228th day, Bought 3.7450378248820315 shares for $500.0\n",
      "On the 236th day, Bought 2 shares for $270.04\n",
      "On the 237th day, Bought 1 shares for $135.32\n",
      "On the 238th day, Bought 0 shares for $0.0\n",
      "XLV Final Value: 981.7870934097498, Final Money: 42.60802667317569, Final Shares: 6.745037824882031\n"
     ]
    },
    {
     "name": "stderr",
     "output_type": "stream",
     "text": [
      "\n"
     ]
    },
    {
     "name": "stdout",
     "output_type": "stream",
     "text": [
      "read  2775  lines of data for ticker:  XLV\n"
     ]
    },
    {
     "name": "stderr",
     "output_type": "stream",
     "text": [
      "[*********************100%***********************]  1 of 1 completed\n"
     ]
    },
    {
     "name": "stdout",
     "output_type": "stream",
     "text": [
      "read  251  lines of data for ticker:  XLV\n",
      "On the 30th day, Bought 3.9382482671707626 shares for $500.0\n",
      "On the 216th day, sold 3.9382482671707626 shares for $516.4224952741021\n",
      "On the 241th day, Bought 3.602824614497766 shares for $500.0\n",
      "XLV Final Value: 1018.0797945967711, Final Money: 516.4224952741021, Final Shares: 3.602824614497766\n"
     ]
    },
    {
     "name": "stderr",
     "output_type": "stream",
     "text": [
      "[*********************100%***********************]  1 of 1 completed\n"
     ]
    },
    {
     "name": "stdout",
     "output_type": "stream",
     "text": [
      "read  2775  lines of data for ticker:  XLY\n"
     ]
    },
    {
     "name": "stderr",
     "output_type": "stream",
     "text": [
      "[*********************100%***********************]  1 of 1 completed\n"
     ]
    },
    {
     "name": "stdout",
     "output_type": "stream",
     "text": [
      "read  251  lines of data for ticker:  XLY\n",
      "On the 30th day, Bought 3.4792290028529678 shares for $500.0\n",
      "On the 64th day, Bought 2 shares for $296.08\n",
      "On the 65th day, Bought 1 shares for $145.76\n",
      "On the 67th day, Bought 0 shares for $0.0\n",
      "On the 68th day, Bought 0 shares for $0.0\n",
      "On the 78th day, Bought 0 shares for $0.0\n",
      "On the 79th day, Bought 0 shares for $0.0\n",
      "On the 80th day, Bought 0 shares for $0.0\n",
      "On the 81th day, Bought 0 shares for $0.0\n",
      "On the 84th day, Bought 0 shares for $0.0\n",
      "On the 119th day, Bought 0 shares for $0.0\n",
      "On the 120th day, Bought 0 shares for $0.0\n",
      "On the 121th day, Bought 0 shares for $0.0\n",
      "On the 122th day, Bought 0 shares for $0.0\n",
      "On the 123th day, Bought 0 shares for $0.0\n",
      "On the 124th day, Bought 0 shares for $0.0\n",
      "On the 125th day, Bought 0 shares for $0.0\n",
      "On the 126th day, Bought 0 shares for $0.0\n",
      "On the 127th day, Bought 0 shares for $0.0\n",
      "On the 163th day, Bought 0 shares for $0.0\n",
      "On the 172th day, sold 6.479229002852968 shares for $1042.7023234291282\n"
     ]
    },
    {
     "name": "stderr",
     "output_type": "stream",
     "text": [
      "[*********************100%***********************]  1 of 1 completed"
     ]
    },
    {
     "name": "stdout",
     "output_type": "stream",
     "text": [
      "On the 204th day, Bought 3.08242401824795 shares for $500.0\n",
      "On the 205th day, Bought 3.0906168871306714 shares for $500.0\n",
      "On the 206th day, Bought 0 shares for $0.0\n",
      "On the 207th day, Bought 0 shares for $0.0\n",
      "On the 215th day, Bought 0 shares for $0.0\n",
      "On the 216th day, Bought 0 shares for $0.0\n",
      "On the 217th day, Bought 0 shares for $0.0\n",
      "On the 218th day, Bought 0 shares for $0.0\n",
      "On the 219th day, Bought 0 shares for $0.0\n",
      "On the 220th day, Bought 0 shares for $0.0\n",
      "On the 221th day, Bought 0 shares for $0.0\n",
      "On the 242th day, Bought 0 shares for $0.0\n",
      "XLY Final Value: 1164.7859234711336, Final Money: 100.86232342912831, Final Shares: 6.173040905378621\n",
      "read  2775  lines of data for ticker:  XLY\n"
     ]
    },
    {
     "name": "stderr",
     "output_type": "stream",
     "text": [
      "\n",
      "[*********************100%***********************]  1 of 1 completed\n"
     ]
    },
    {
     "name": "stdout",
     "output_type": "stream",
     "text": [
      "read  251  lines of data for ticker:  XLY\n",
      "On the 64th day, Bought 3.377465549851392 shares for $500.00000000000006\n",
      "On the 66th day, sold 3.377465549851392 shares for $497.73709808159964\n",
      "On the 84th day, Bought 3.322479898996611 shares for $500.0\n",
      "On the 85th day, Bought 2 shares for $305.66\n",
      "On the 116th day, sold 5.322479898996611 shares for $915.0939690344874\n"
     ]
    },
    {
     "name": "stderr",
     "output_type": "stream",
     "text": [
      "[*********************100%***********************]  1 of 1 completed"
     ]
    },
    {
     "name": "stdout",
     "output_type": "stream",
     "text": [
      "On the 202th day, Bought 3.1207090250905005 shares for $500.0\n",
      "On the 207th day, Bought 3.097893432465923 shares for $500.0\n",
      "On the 219th day, Bought 0 shares for $0.0\n",
      "XLY Final Value: 1178.9472006759365, Final Money: 107.17106711608699, Final Shares: 6.218602457556424\n",
      "read  2775  lines of data for ticker:  XLY\n"
     ]
    },
    {
     "name": "stderr",
     "output_type": "stream",
     "text": [
      "\n",
      "[*********************100%***********************]  1 of 1 completed\n"
     ]
    },
    {
     "name": "stdout",
     "output_type": "stream",
     "text": [
      "read  251  lines of data for ticker:  XLY\n",
      "On the 30th day, Bought 3.4792290028529678 shares for $500.0\n",
      "On the 176th day, sold 3.4792290028529678 shares for $557.1289402268457\n",
      "On the 208th day, Bought 3.0847060275155775 shares for $500.0\n",
      "On the 210th day, sold 3.0847060275155775 shares for $517.4594361157382\n",
      "On the 236th day, Bought 2.7858257187430358 shares for $500.0\n",
      "On the 237th day, Bought 2.7740790057700844 shares for $500.00000000000006\n",
      "XLY Final Value: 1032.8379556124203, Final Money: 74.58837634258401, Final Shares: 5.55990472451312\n"
     ]
    },
    {
     "name": "stderr",
     "output_type": "stream",
     "text": [
      "[*********************100%***********************]  1 of 1 completed\n"
     ]
    },
    {
     "name": "stdout",
     "output_type": "stream",
     "text": [
      "read  2775  lines of data for ticker:  XLY\n"
     ]
    },
    {
     "name": "stderr",
     "output_type": "stream",
     "text": [
      "[*********************100%***********************]  1 of 1 completed\n"
     ]
    },
    {
     "name": "stdout",
     "output_type": "stream",
     "text": [
      "read  251  lines of data for ticker:  XLY\n",
      "On the 119th day, Bought 2.943080816999235 shares for $500.0\n",
      "On the 126th day, Bought 1 shares for $176.97\n",
      "On the 127th day, Bought 1 shares for $170.94\n",
      "On the 128th day, Bought 0 shares for $0.0\n",
      "On the 129th day, Bought 0 shares for $0.0\n",
      "On the 130th day, Bought 0 shares for $0.0\n",
      "On the 131th day, Bought 0 shares for $0.0\n",
      "On the 170th day, sold 4.943080816999235 shares for $825.9393737124021\n",
      "On the 229th day, Bought 2.8333427778092592 shares for $500.0\n",
      "XLY Final Value: 966.3560014678278, Final Money: 478.02937371240205, Final Shares: 2.8333427778092592\n"
     ]
    },
    {
     "name": "stderr",
     "output_type": "stream",
     "text": [
      "[*********************100%***********************]  1 of 1 completed\n"
     ]
    },
    {
     "name": "stdout",
     "output_type": "stream",
     "text": [
      "read  2775  lines of data for ticker:  XLU\n"
     ]
    },
    {
     "name": "stderr",
     "output_type": "stream",
     "text": [
      "[*********************100%***********************]  1 of 1 completed\n"
     ]
    },
    {
     "name": "stdout",
     "output_type": "stream",
     "text": [
      "read  251  lines of data for ticker:  XLU\n",
      "On the 53th day, Bought 7.437156031533541 shares for $500.0\n",
      "On the 84th day, sold 7.437156031533541 shares for $493.9015320541424\n"
     ]
    },
    {
     "name": "stderr",
     "output_type": "stream",
     "text": [
      "[*********************100%***********************]  1 of 1 completed"
     ]
    },
    {
     "name": "stdout",
     "output_type": "stream",
     "text": [
      "On the 208th day, Bought 8.389261744966444 shares for $500.00000000000006\n",
      "On the 209th day, Bought 7 shares for $433.85999999999996\n",
      "On the 215th day, Bought 0 shares for $0.0\n",
      "On the 216th day, Bought 0 shares for $0.0\n",
      "On the 217th day, Bought 0 shares for $0.0\n",
      "On the 218th day, Bought 0 shares for $0.0\n",
      "On the 219th day, Bought 0 shares for $0.0\n",
      "On the 220th day, Bought 0 shares for $0.0\n",
      "On the 221th day, Bought 0 shares for $0.0\n",
      "XLU Final Value: 1049.4171696380351, Final Money: 60.04153205414241, Final Shares: 15.389261744966444\n",
      "read  2775  lines of data for ticker:  XLU\n"
     ]
    },
    {
     "name": "stderr",
     "output_type": "stream",
     "text": [
      "\n",
      "[*********************100%***********************]  1 of 1 completed\n"
     ]
    },
    {
     "name": "stdout",
     "output_type": "stream",
     "text": [
      "read  251  lines of data for ticker:  XLU\n",
      "On the 63th day, Bought 7.255840951966333 shares for $500.0\n",
      "On the 65th day, Bought 6 shares for $416.52\n",
      "On the 112th day, sold 13.255840951966334 shares for $857.9180264112612\n",
      "On the 145th day, Bought 7.9339892097746745 shares for $500.0\n",
      "On the 146th day, Bought 6 shares for $379.79999999999995\n",
      "On the 147th day, Bought 0 shares for $0.0\n",
      "On the 153th day, Bought 0 shares for $0.0\n",
      "On the 154th day, Bought 0 shares for $0.0\n",
      "On the 155th day, Bought 0 shares for $0.0\n",
      "On the 156th day, Bought 0 shares for $0.0\n",
      "On the 175th day, sold 13.933989209774674 shares for $837.8507711837512\n"
     ]
    },
    {
     "name": "stderr",
     "output_type": "stream",
     "text": [
      "[*********************100%***********************]  1 of 1 completed"
     ]
    },
    {
     "name": "stdout",
     "output_type": "stream",
     "text": [
      "On the 217th day, Bought 7.963051441312311 shares for $500.0\n",
      "On the 218th day, Bought 6 shares for $377.94\n",
      "On the 219th day, Bought 0 shares for $0.0\n",
      "On the 220th day, Bought 0 shares for $0.0\n",
      "XLU Final Value: 919.193374756981, Final Money: 21.50879759501248, Final Shares: 13.963051441312311\n",
      "read  2775  lines of data for ticker:  XLU\n"
     ]
    },
    {
     "name": "stderr",
     "output_type": "stream",
     "text": [
      "\n",
      "[*********************100%***********************]  1 of 1 completed\n"
     ]
    },
    {
     "name": "stdout",
     "output_type": "stream",
     "text": [
      "read  251  lines of data for ticker:  XLU\n",
      "On the 62th day, Bought 7.218131947452 shares for $500.0\n",
      "On the 84th day, sold 7.218131947452 shares for $479.3561426302873\n",
      "On the 144th day, Bought 7.805182641273806 shares for $500.0\n",
      "On the 175th day, sold 7.805182641273806 shares for $469.325632219794\n",
      "On the 216th day, Bought 7.975753708725475 shares for $500.0\n",
      "On the 217th day, Bought 6 shares for $376.74\n"
     ]
    },
    {
     "name": "stderr",
     "output_type": "stream",
     "text": [
      "[*********************100%***********************]  1 of 1 completed"
     ]
    },
    {
     "name": "stdout",
     "output_type": "stream",
     "text": [
      "On the 230th day, sold 13.975753708725474 shares for $909.8215664380283\n",
      "XLU Final Value: 981.7633412881096, Final Money: 981.7633412881096, Final Shares: 0.0\n",
      "read  2775  lines of data for ticker:  XLU\n"
     ]
    },
    {
     "name": "stderr",
     "output_type": "stream",
     "text": [
      "\n",
      "[*********************100%***********************]  1 of 1 completed\n"
     ]
    },
    {
     "name": "stdout",
     "output_type": "stream",
     "text": [
      "read  251  lines of data for ticker:  XLU\n",
      "On the 58th day, Bought 7.170514842965725 shares for $500.0\n",
      "On the 84th day, sold 7.170514842965725 shares for $476.19389072135374\n",
      "On the 154th day, Bought 7.859163784973279 shares for $500.0\n",
      "On the 176th day, sold 7.859163784973279 shares for $462.35460546997797\n",
      "On the 215th day, Bought 7.996161842315688 shares for $500.0\n",
      "On the 216th day, Bought 6 shares for $376.14\n",
      "On the 217th day, Bought 0 shares for $0.0\n",
      "On the 218th day, Bought 0 shares for $0.0\n",
      "On the 219th day, Bought 0 shares for $0.0\n",
      "XLU Final Value: 962.2217410338073, Final Money: 62.408496191331665, Final Shares: 13.996161842315688\n"
     ]
    },
    {
     "name": "stderr",
     "output_type": "stream",
     "text": [
      "[*********************100%***********************]  1 of 1 completed\n"
     ]
    },
    {
     "name": "stdout",
     "output_type": "stream",
     "text": [
      "read  2775  lines of data for ticker:  XLB\n"
     ]
    },
    {
     "name": "stderr",
     "output_type": "stream",
     "text": [
      "[*********************100%***********************]  1 of 1 completed\n"
     ]
    },
    {
     "name": "stdout",
     "output_type": "stream",
     "text": [
      "read  251  lines of data for ticker:  XLB\n",
      "On the 30th day, Bought 6.062810719049351 shares for $500.0\n",
      "On the 31th day, Bought 5.994485073732166 shares for $499.99999999999994\n",
      "On the 32th day, Bought 0 shares for $0.0\n",
      "On the 33th day, Bought 0 shares for $0.0\n",
      "On the 54th day, Bought 0 shares for $0.0\n",
      "On the 55th day, Bought 0 shares for $0.0\n",
      "On the 80th day, sold 12.057295792781517 shares for $939.9867800052469\n",
      "On the 125th day, Bought 5.953089653530182 shares for $500.0\n",
      "On the 126th day, Bought 4 shares for $334.16\n",
      "On the 127th day, Bought 1 shares for $83.74\n",
      "On the 128th day, Bought 0 shares for $0.0\n",
      "On the 129th day, Bought 0 shares for $0.0\n",
      "On the 130th day, Bought 0 shares for $0.0\n",
      "On the 172th day, sold 10.953089653530181 shares for $858.3936361471604\n"
     ]
    },
    {
     "name": "stderr",
     "output_type": "stream",
     "text": [
      "[*********************100%***********************]  1 of 1 completed"
     ]
    },
    {
     "name": "stdout",
     "output_type": "stream",
     "text": [
      "On the 217th day, Bought 6.171315724512467 shares for $500.00000000000006\n",
      "On the 218th day, Bought 4 shares for $324.72\n",
      "On the 219th day, Bought 0 shares for $0.0\n",
      "XLB Final Value: 912.185200156357, Final Money: 55.760416152407345, Final Shares: 10.171315724512468\n",
      "read  2775  lines of data for ticker:  XLB\n"
     ]
    },
    {
     "name": "stderr",
     "output_type": "stream",
     "text": [
      "\n",
      "[*********************100%***********************]  1 of 1 completed\n"
     ]
    },
    {
     "name": "stdout",
     "output_type": "stream",
     "text": [
      "read  251  lines of data for ticker:  XLB\n",
      "On the 32th day, Bought 5.91016548463357 shares for $500.0\n",
      "On the 37th day, sold 5.91016548463357 shares for $462.05673758865254\n",
      "On the 124th day, Bought 5.999520038396928 shares for $500.0\n",
      "On the 125th day, Bought 4 shares for $335.96\n",
      "On the 126th day, Bought 1 shares for $83.54\n",
      "On the 129th day, Bought 0 shares for $0.0\n",
      "On the 130th day, Bought 0 shares for $0.0\n",
      "On the 153th day, Bought 0 shares for $0.0\n",
      "On the 154th day, Bought 0 shares for $0.0\n",
      "On the 160th day, sold 10.999520038396927 shares for $902.9505999520038\n",
      "On the 203th day, Bought 6.377551020408163 shares for $500.0\n",
      "On the 210th day, sold 6.377551020408163 shares for $509.438775510204\n"
     ]
    },
    {
     "name": "stderr",
     "output_type": "stream",
     "text": [
      "[*********************100%***********************]  1 of 1 completed"
     ]
    },
    {
     "name": "stdout",
     "output_type": "stream",
     "text": [
      "On the 217th day, Bought 6.171315724512467 shares for $500.00000000000006\n",
      "On the 218th day, Bought 5 shares for $405.90000000000003\n",
      "On the 219th day, Bought 0 shares for $0.0\n",
      "On the 220th day, Bought 0 shares for $0.0\n",
      "XLB Final Value: 989.6708970548101, Final Money: 49.0461130508603, Final Shares: 11.171315724512468\n",
      "read  2775  lines of data for ticker:  XLB\n"
     ]
    },
    {
     "name": "stderr",
     "output_type": "stream",
     "text": [
      "\n",
      "[*********************100%***********************]  1 of 1 completed\n"
     ]
    },
    {
     "name": "stdout",
     "output_type": "stream",
     "text": [
      "read  251  lines of data for ticker:  XLB\n",
      "On the 128th day, Bought 5.970149253731344 shares for $500.00000000000006\n",
      "On the 129th day, Bought 4 shares for $336.04\n",
      "On the 152th day, Bought 2 shares for $161.12\n",
      "On the 153th day, Bought 0 shares for $0.0\n",
      "On the 154th day, Bought 0 shares for $0.0\n",
      "On the 172th day, sold 11.970149253731343 shares for $938.1005970149254\n"
     ]
    },
    {
     "name": "stderr",
     "output_type": "stream",
     "text": [
      "[*********************100%***********************]  1 of 1 completed"
     ]
    },
    {
     "name": "stdout",
     "output_type": "stream",
     "text": [
      "On the 216th day, Bought 6.163708086785009 shares for $499.99999999999994\n",
      "XLB Final Value: 959.9248179222232, Final Money: 440.94059701492534, Final Shares: 6.163708086785009\n",
      "read  2775  lines of data for ticker:  XLB\n"
     ]
    },
    {
     "name": "stderr",
     "output_type": "stream",
     "text": [
      "\n",
      "[*********************100%***********************]  1 of 1 completed\n"
     ]
    },
    {
     "name": "stdout",
     "output_type": "stream",
     "text": [
      "read  251  lines of data for ticker:  XLB\n",
      "On the 31th day, Bought 5.994485073732166 shares for $499.99999999999994\n",
      "On the 32th day, Bought 5.91016548463357 shares for $500.0\n",
      "On the 118th day, sold 11.904650558365736 shares for $967.1338113616323\n",
      "On the 125th day, Bought 5.953089653530182 shares for $500.0\n",
      "On the 129th day, Bought 4 shares for $336.04\n",
      "On the 130th day, Bought 1 shares for $85.52\n",
      "On the 173th day, sold 10.953089653530181 shares for $865.184551732349\n",
      "On the 212th day, Bought 6.228977201943441 shares for $500.0\n",
      "On the 215th day, Bought 5 shares for $403.84999999999997\n",
      "On the 216th day, Bought 0 shares for $0.0\n",
      "On the 217th day, Bought 0 shares for $0.0\n",
      "XLB Final Value: 952.388243497619, Final Money: 6.908363093981222, Final Shares: 11.22897720194344\n"
     ]
    },
    {
     "name": "stderr",
     "output_type": "stream",
     "text": [
      "[*********************100%***********************]  1 of 1 completed\n"
     ]
    },
    {
     "name": "stdout",
     "output_type": "stream",
     "text": [
      "read  2775  lines of data for ticker:  XLE\n"
     ]
    },
    {
     "name": "stderr",
     "output_type": "stream",
     "text": [
      "[*********************100%***********************]  1 of 1 completed\n"
     ]
    },
    {
     "name": "stdout",
     "output_type": "stream",
     "text": [
      "read  251  lines of data for ticker:  XLE\n",
      "On the 62th day, Bought 5.800464037122969 shares for $500.0\n",
      "On the 65th day, Bought 4 shares for $341.92\n",
      "On the 114th day, Bought 1 shares for $81.17\n",
      "On the 115th day, Bought 0 shares for $0.0\n",
      "On the 116th day, Bought 0 shares for $0.0\n",
      "On the 157th day, Bought 0 shares for $0.0\n",
      "On the 158th day, Bought 0 shares for $0.0\n",
      "On the 159th day, Bought 0 shares for $0.0\n",
      "On the 181th day, sold 10.80046403712297 shares for $920.4155452436195\n"
     ]
    },
    {
     "name": "stderr",
     "output_type": "stream",
     "text": [
      "[*********************100%***********************]  1 of 1 completed"
     ]
    },
    {
     "name": "stdout",
     "output_type": "stream",
     "text": [
      "On the 209th day, Bought 5.8990089664936285 shares for $500.0\n",
      "On the 210th day, Bought 4 shares for $338.4\n",
      "On the 211th day, Bought 1 shares for $82.95\n",
      "On the 238th day, Bought 0 shares for $0.0\n",
      "On the 239th day, Bought 0 shares for $0.0\n",
      "On the 240th day, Bought 0 shares for $0.0\n",
      "On the 241th day, Bought 0 shares for $0.0\n",
      "XLE Final Value: 998.1406938986453, Final Money: 75.97554524361946, Final Shares: 10.899008966493628\n",
      "read  2775  lines of data for ticker:  XLE\n"
     ]
    },
    {
     "name": "stderr",
     "output_type": "stream",
     "text": [
      "\n",
      "[*********************100%***********************]  1 of 1 completed\n"
     ]
    },
    {
     "name": "stdout",
     "output_type": "stream",
     "text": [
      "read  251  lines of data for ticker:  XLE\n",
      "On the 64th day, Bought 5.797773654916512 shares for $500.0\n",
      "On the 131th day, Bought 4 shares for $344.56\n",
      "On the 132th day, Bought 1 shares for $85.59\n",
      "On the 178th day, sold 10.797773654916512 shares for $956.5747680890538\n"
     ]
    },
    {
     "name": "stderr",
     "output_type": "stream",
     "text": [
      "[*********************100%***********************]  1 of 1 completed"
     ]
    },
    {
     "name": "stdout",
     "output_type": "stream",
     "text": [
      "On the 220th day, Bought 5.911563017261764 shares for $499.99999999999994\n",
      "On the 221th day, Bought 5.8809691837214775 shares for $500.0\n",
      "On the 222th day, Bought 0 shares for $0.0\n",
      "XLE Final Value: 1024.1909176142458, Final Money: 26.424768089053714, Final Shares: 11.792532200983242\n",
      "read  2775  lines of data for ticker:  XLE\n"
     ]
    },
    {
     "name": "stderr",
     "output_type": "stream",
     "text": [
      "\n",
      "[*********************100%***********************]  1 of 1 completed\n"
     ]
    },
    {
     "name": "stdout",
     "output_type": "stream",
     "text": [
      "read  251  lines of data for ticker:  XLE\n"
     ]
    },
    {
     "name": "stderr",
     "output_type": "stream",
     "text": [
      "[*********************100%***********************]  1 of 1 completed"
     ]
    },
    {
     "name": "stdout",
     "output_type": "stream",
     "text": [
      "On the 219th day, Bought 5.950964056177101 shares for $500.0\n",
      "XLE Final Value: 1003.5110687931445, Final Money: 500.0, Final Shares: 5.950964056177101\n",
      "read  2775  lines of data for ticker:  XLE\n"
     ]
    },
    {
     "name": "stderr",
     "output_type": "stream",
     "text": [
      "\n",
      "[*********************100%***********************]  1 of 1 completed\n"
     ]
    },
    {
     "name": "stdout",
     "output_type": "stream",
     "text": [
      "read  251  lines of data for ticker:  XLE\n",
      "On the 64th day, Bought 5.797773654916512 shares for $500.0\n",
      "On the 99th day, sold 5.797773654916512 shares for $474.1419294990724\n",
      "On the 160th day, Bought 5.478851632697786 shares for $500.0\n",
      "On the 168th day, sold 5.478851632697786 shares for $504.6570238877931\n",
      "On the 216th day, Bought 5.887201224537854 shares for $500.0\n",
      "On the 217th day, Bought 4 shares for $338.52\n",
      "On the 218th day, Bought 1 shares for $84.65\n",
      "On the 219th day, Bought 0 shares for $0.0\n",
      "On the 230th day, sold 10.887201224537854 shares for $922.6903037795831\n",
      "XLE Final Value: 978.3192571664487, Final Money: 978.3192571664487, Final Shares: 0.0\n"
     ]
    },
    {
     "name": "stderr",
     "output_type": "stream",
     "text": [
      "[*********************100%***********************]  1 of 1 completed\n"
     ]
    },
    {
     "name": "stdout",
     "output_type": "stream",
     "text": [
      "read  2775  lines of data for ticker:  XLF\n"
     ]
    },
    {
     "name": "stderr",
     "output_type": "stream",
     "text": [
      "[*********************100%***********************]  1 of 1 completed\n"
     ]
    },
    {
     "name": "stdout",
     "output_type": "stream",
     "text": [
      "read  251  lines of data for ticker:  XLF\n",
      "On the 32th day, Bought 13.89274798555154 shares for $500.0\n",
      "On the 37th day, sold 13.89274798555154 shares for $457.48819116421225\n",
      "On the 113th day, Bought 14.961101137043686 shares for $500.0\n",
      "On the 141th day, sold 14.961101137043686 shares for $520.9455415918611\n"
     ]
    },
    {
     "name": "stderr",
     "output_type": "stream",
     "text": [
      "[*********************100%***********************]  1 of 1 completed"
     ]
    },
    {
     "name": "stdout",
     "output_type": "stream",
     "text": [
      "On the 208th day, Bought 14.766686355581808 shares for $500.0\n",
      "On the 209th day, Bought 13 shares for $448.5\n",
      "On the 210th day, Bought 0 shares for $0.0\n",
      "On the 213th day, Bought 0 shares for $0.0\n",
      "On the 215th day, Bought 0 shares for $0.0\n",
      "On the 216th day, Bought 0 shares for $0.0\n",
      "On the 217th day, Bought 0 shares for $0.0\n",
      "On the 218th day, Bought 0 shares for $0.0\n",
      "On the 219th day, Bought 0 shares for $0.0\n",
      "XLF Final Value: 1073.6834728623935, Final Money: 29.93373275607337, Final Shares: 27.766686355581808\n",
      "read  2775  lines of data for ticker:  XLF\n"
     ]
    },
    {
     "name": "stderr",
     "output_type": "stream",
     "text": [
      "\n",
      "[*********************100%***********************]  1 of 1 completed\n"
     ]
    },
    {
     "name": "stdout",
     "output_type": "stream",
     "text": [
      "read  251  lines of data for ticker:  XLF\n",
      "On the 32th day, Bought 13.89274798555154 shares for $500.0\n",
      "On the 36th day, sold 13.89274798555154 shares for $465.9627674353987\n",
      "On the 104th day, Bought 14.85884101040119 shares for $500.0\n",
      "On the 146th day, sold 14.85884101040119 shares for $507.57800891530457\n",
      "On the 158th day, Bought 14.413375612568464 shares for $500.0\n",
      "On the 177th day, sold 14.413375612568464 shares for $478.09166906889595\n"
     ]
    },
    {
     "name": "stderr",
     "output_type": "stream",
     "text": [
      "[*********************100%***********************]  1 of 1 completed"
     ]
    },
    {
     "name": "stdout",
     "output_type": "stream",
     "text": [
      "On the 217th day, Bought 14.180374361883155 shares for $500.0\n",
      "On the 219th day, Bought 12 shares for $426.0\n",
      "On the 235th day, sold 26.180374361883153 shares for $975.4807487237663\n",
      "XLF Final Value: 1001.1131941433655, Final Money: 1001.1131941433655, Final Shares: 0.0\n",
      "read  2775  lines of data for ticker:  XLF\n"
     ]
    },
    {
     "name": "stderr",
     "output_type": "stream",
     "text": [
      "\n",
      "[*********************100%***********************]  1 of 1 completed\n"
     ]
    },
    {
     "name": "stdout",
     "output_type": "stream",
     "text": [
      "read  251  lines of data for ticker:  XLF\n",
      "On the 31th day, Bought 14.112334180073384 shares for $500.0\n",
      "On the 37th day, sold 14.112334180073384 shares for $464.7191645498165\n",
      "On the 120th day, Bought 14.645577035735208 shares for $500.0\n",
      "On the 172th day, sold 14.645577035735208 shares for $492.9701230228471\n"
     ]
    },
    {
     "name": "stderr",
     "output_type": "stream",
     "text": [
      "[*********************100%***********************]  1 of 1 completed"
     ]
    },
    {
     "name": "stdout",
     "output_type": "stream",
     "text": [
      "XLF Final Value: 957.6892875726635, Final Money: 957.6892875726635, Final Shares: 0.0\n",
      "read  2775  lines of data for ticker:  XLF\n"
     ]
    },
    {
     "name": "stderr",
     "output_type": "stream",
     "text": [
      "\n",
      "[*********************100%***********************]  1 of 1 completed\n"
     ]
    },
    {
     "name": "stdout",
     "output_type": "stream",
     "text": [
      "read  251  lines of data for ticker:  XLF\n",
      "On the 150th day, Bought 14.872099940511601 shares for $500.0\n",
      "On the 177th day, sold 14.872099940511601 shares for $493.3075550267698\n",
      "On the 216th day, Bought 14.132278123233464 shares for $500.0\n",
      "On the 217th day, Bought 13 shares for $458.38\n",
      "On the 235th day, sold 27.132278123233462 shares for $1010.9486828716788\n",
      "XLF Final Value: 1045.8762378984486, Final Money: 1045.8762378984486, Final Shares: 0.0\n"
     ]
    },
    {
     "name": "stderr",
     "output_type": "stream",
     "text": [
      "[*********************100%***********************]  1 of 1 completed\n"
     ]
    },
    {
     "name": "stdout",
     "output_type": "stream",
     "text": [
      "read  2775  lines of data for ticker:  XLI\n"
     ]
    },
    {
     "name": "stderr",
     "output_type": "stream",
     "text": [
      "[*********************100%***********************]  1 of 1 completed\n"
     ]
    },
    {
     "name": "stdout",
     "output_type": "stream",
     "text": [
      "read  251  lines of data for ticker:  XLI\n",
      "On the 30th day, Bought 4.932425766992207 shares for $500.00000000000006\n",
      "On the 31th day, Bought 3 shares for $307.68\n",
      "On the 32th day, Bought 1 shares for $103.67\n",
      "On the 33th day, Bought 0 shares for $0.0\n",
      "On the 34th day, Bought 0 shares for $0.0\n",
      "On the 35th day, Bought 0 shares for $0.0\n",
      "On the 36th day, Bought 0 shares for $0.0\n",
      "On the 103th day, Bought 0 shares for $0.0\n",
      "On the 104th day, Bought 0 shares for $0.0\n",
      "On the 113th day, Bought 0 shares for $0.0\n",
      "On the 114th day, Bought 0 shares for $0.0\n",
      "On the 115th day, Bought 0 shares for $0.0\n",
      "On the 116th day, Bought 0 shares for $0.0\n",
      "On the 117th day, Bought 0 shares for $0.0\n",
      "On the 128th day, Bought 0 shares for $0.0\n",
      "On the 129th day, Bought 0 shares for $0.0\n",
      "On the 130th day, Bought 0 shares for $0.0\n",
      "On the 153th day, sold 8.932425766992207 shares for $951.6606412153498\n",
      "On the 169th day, Bought 4.796163069544365 shares for $500.00000000000006\n",
      "On the 175th day, sold 4.796163069544365 shares for $486.7625899280576\n"
     ]
    },
    {
     "name": "stderr",
     "output_type": "stream",
     "text": [
      "[*********************100%***********************]  1 of 1 completed"
     ]
    },
    {
     "name": "stdout",
     "output_type": "stream",
     "text": [
      "On the 209th day, Bought 4.775549188156638 shares for $500.0\n",
      "On the 217th day, Bought 4.728579534707774 shares for $500.0\n",
      "On the 218th day, Bought 0 shares for $0.0\n",
      "On the 219th day, Bought 0 shares for $0.0\n",
      "XLI Final Value: 1084.8827579982164, Final Money: 27.073231143407384, Final Shares: 9.504128722864412\n",
      "read  2775  lines of data for ticker:  XLI\n"
     ]
    },
    {
     "name": "stderr",
     "output_type": "stream",
     "text": [
      "\n",
      "[*********************100%***********************]  1 of 1 completed\n"
     ]
    },
    {
     "name": "stdout",
     "output_type": "stream",
     "text": [
      "read  251  lines of data for ticker:  XLI\n",
      "On the 30th day, Bought 4.932425766992207 shares for $500.00000000000006\n",
      "On the 31th day, Bought 3 shares for $307.68\n",
      "On the 32th day, Bought 1 shares for $103.67\n",
      "On the 33th day, Bought 0 shares for $0.0\n",
      "On the 34th day, Bought 0 shares for $0.0\n",
      "On the 63th day, Bought 0 shares for $0.0\n",
      "On the 64th day, Bought 0 shares for $0.0\n",
      "On the 65th day, Bought 0 shares for $0.0\n",
      "On the 128th day, Bought 0 shares for $0.0\n",
      "On the 131th day, Bought 0 shares for $0.0\n",
      "On the 154th day, sold 8.932425766992207 shares for $959.431851632633\n",
      "On the 206th day, Bought 4.946087644673064 shares for $500.00000000000006\n",
      "On the 209th day, Bought 4.775549188156638 shares for $500.0\n"
     ]
    },
    {
     "name": "stderr",
     "output_type": "stream",
     "text": [
      "[*********************100%***********************]  1 of 1 completed"
     ]
    },
    {
     "name": "stdout",
     "output_type": "stream",
     "text": [
      "On the 217th day, Bought 0 shares for $0.0\n",
      "On the 218th day, Bought 0 shares for $0.0\n",
      "On the 219th day, Bought 0 shares for $0.0\n",
      "On the 220th day, Bought 0 shares for $0.0\n",
      "XLI Final Value: 1130.1000311265786, Final Money: 48.081851632632834, Final Shares: 9.721636832829702\n",
      "read  2775  lines of data for ticker:  XLI\n"
     ]
    },
    {
     "name": "stderr",
     "output_type": "stream",
     "text": [
      "\n",
      "[*********************100%***********************]  1 of 1 completed\n"
     ]
    },
    {
     "name": "stdout",
     "output_type": "stream",
     "text": [
      "read  251  lines of data for ticker:  XLI\n",
      "On the 68th day, Bought 5.051015254066067 shares for $500.0\n",
      "On the 96th day, sold 5.051015254066067 shares for $506.31376906758254\n",
      "On the 126th day, Bought 4.562876437306078 shares for $500.0\n",
      "On the 127th day, Bought 4.542563823021713 shares for $499.99999999999994\n",
      "On the 131th day, Bought 0 shares for $0.0\n",
      "On the 186th day, sold 9.105440260327791 shares for $934.764497125251\n"
     ]
    },
    {
     "name": "stderr",
     "output_type": "stream",
     "text": [
      "[*********************100%***********************]  1 of 1 completed"
     ]
    },
    {
     "name": "stdout",
     "output_type": "stream",
     "text": [
      "On the 216th day, Bought 4.701899567425239 shares for $499.99999999999994\n",
      "On the 219th day, Bought 3 shares for $317.67\n",
      "On the 220th day, Bought 1 shares for $107.05\n",
      "XLI Final Value: 984.8796880472629, Final Money: 16.358266192833597, Final Shares: 8.70189956742524\n",
      "read  2775  lines of data for ticker:  XLI\n"
     ]
    },
    {
     "name": "stderr",
     "output_type": "stream",
     "text": [
      "\n",
      "[*********************100%***********************]  1 of 1 completed\n"
     ]
    },
    {
     "name": "stdout",
     "output_type": "stream",
     "text": [
      "read  251  lines of data for ticker:  XLI\n",
      "On the 30th day, Bought 4.932425766992207 shares for $500.00000000000006\n",
      "On the 95th day, sold 4.932425766992207 shares for $497.87905692019336\n",
      "On the 127th day, Bought 4.542563823021713 shares for $499.99999999999994\n",
      "On the 128th day, Bought 3 shares for $328.65\n",
      "On the 129th day, Bought 1 shares for $109.8\n",
      "On the 176th day, sold 8.542563823021712 shares for $870.658104842373\n",
      "On the 215th day, Bought 4.71342383107089 shares for $500.0\n",
      "On the 216th day, Bought 3 shares for $319.02\n",
      "On the 217th day, Bought 1 shares for $105.74\n",
      "XLI Final Value: 975.1312341607564, Final Money: 5.327161762566348, Final Shares: 8.713423831070891\n"
     ]
    },
    {
     "name": "stderr",
     "output_type": "stream",
     "text": [
      "[*********************100%***********************]  1 of 1 completed\n"
     ]
    },
    {
     "name": "stdout",
     "output_type": "stream",
     "text": [
      "read  2775  lines of data for ticker:  XLK\n"
     ]
    },
    {
     "name": "stderr",
     "output_type": "stream",
     "text": [
      "[*********************100%***********************]  1 of 1 completed\n"
     ]
    },
    {
     "name": "stdout",
     "output_type": "stream",
     "text": [
      "read  251  lines of data for ticker:  XLK\n",
      "On the 30th day, Bought 3.6894923258559618 shares for $500.0\n",
      "On the 31th day, Bought 3.644580508783439 shares for $499.99999999999994\n",
      "On the 32th day, Bought 0 shares for $0.0\n",
      "On the 33th day, Bought 0 shares for $0.0\n",
      "On the 84th day, Bought 0 shares for $0.0\n",
      "On the 85th day, Bought 0 shares for $0.0\n",
      "On the 92th day, sold 7.3340728346394 shares for $1214.962505786363\n",
      "On the 120th day, Bought 2.9064698017787594 shares for $500.0\n",
      "On the 153th day, sold 2.9064698017787594 shares for $490.3505202580945\n",
      "On the 161th day, Bought 2.8997274256219914 shares for $500.0\n",
      "On the 163th day, Bought 2.8786919223904657 shares for $500.0\n",
      "On the 197th day, sold 5.7784193480124575 shares for $931.0189253517672\n",
      "On the 205th day, Bought 2.8446265005404787 shares for $500.0\n",
      "On the 206th day, Bought 2.857959416976279 shares for $500.0\n",
      "On the 207th day, Bought 0 shares for $0.0\n"
     ]
    },
    {
     "name": "stderr",
     "output_type": "stream",
     "text": [
      "[*********************100%***********************]  1 of 1 completed"
     ]
    },
    {
     "name": "stdout",
     "output_type": "stream",
     "text": [
      "On the 209th day, Bought 0 shares for $0.0\n",
      "On the 217th day, Bought 0 shares for $0.0\n",
      "On the 218th day, Bought 0 shares for $0.0\n",
      "XLK Final Value: 1186.5771998252858, Final Money: 136.33195139622467, Final Shares: 5.702585917516758\n",
      "read  2775  lines of data for ticker:  XLK\n"
     ]
    },
    {
     "name": "stderr",
     "output_type": "stream",
     "text": [
      "\n",
      "[*********************100%***********************]  1 of 1 completed\n"
     ]
    },
    {
     "name": "stdout",
     "output_type": "stream",
     "text": [
      "read  251  lines of data for ticker:  XLK\n",
      "On the 49th day, Bought 3.46860908775581 shares for $500.00000000000006\n",
      "On the 91th day, sold 3.46860908775581 shares for $571.5574054804024\n",
      "On the 163th day, Bought 2.8786919223904657 shares for $500.0\n",
      "On the 184th day, sold 2.8786919223904657 shares for $487.50647705682536\n",
      "On the 204th day, Bought 2.8607392150131594 shares for $500.0\n",
      "On the 205th day, Bought 2.8446265005404787 shares for $500.0\n",
      "On the 206th day, Bought 0 shares for $0.0\n",
      "On the 217th day, Bought 0 shares for $0.0\n",
      "On the 227th day, sold 5.705365715553638 shares for $1074.2633105815944\n",
      "XLK Final Value: 1133.3271931188222, Final Money: 1133.3271931188222, Final Shares: 0.0\n"
     ]
    },
    {
     "name": "stderr",
     "output_type": "stream",
     "text": [
      "[*********************100%***********************]  1 of 1 completed\n"
     ]
    },
    {
     "name": "stdout",
     "output_type": "stream",
     "text": [
      "read  2775  lines of data for ticker:  XLK\n"
     ]
    },
    {
     "name": "stderr",
     "output_type": "stream",
     "text": [
      "[*********************100%***********************]  1 of 1 completed\n"
     ]
    },
    {
     "name": "stdout",
     "output_type": "stream",
     "text": [
      "read  251  lines of data for ticker:  XLK\n"
     ]
    },
    {
     "name": "stderr",
     "output_type": "stream",
     "text": [
      "[*********************100%***********************]  1 of 1 completed"
     ]
    },
    {
     "name": "stdout",
     "output_type": "stream",
     "text": [
      "On the 216th day, Bought 2.711349709885581 shares for $500.0\n",
      "XLK Final Value: 999.3492760696274, Final Money: 500.0, Final Shares: 2.711349709885581\n",
      "read  2775  lines of data for ticker:  XLK\n"
     ]
    },
    {
     "name": "stderr",
     "output_type": "stream",
     "text": [
      "\n",
      "[*********************100%***********************]  1 of 1 completed\n"
     ]
    },
    {
     "name": "stdout",
     "output_type": "stream",
     "text": [
      "read  251  lines of data for ticker:  XLK\n",
      "On the 49th day, Bought 3.46860908775581 shares for $500.00000000000006\n",
      "On the 60th day, Bought 2 shares for $298.96\n",
      "On the 62th day, Bought 1 shares for $149.19\n",
      "On the 64th day, Bought 0 shares for $0.0\n",
      "On the 91th day, sold 6.4686090877558104 shares for $1065.8974054804025\n",
      "On the 120th day, Bought 2.9064698017787594 shares for $500.0\n",
      "On the 122th day, Bought 2.8368794326241136 shares for $500.0\n",
      "On the 152th day, sold 5.7433492344028725 shares for $959.1967556376237\n",
      "On the 159th day, Bought 2.8275745065882485 shares for $500.0\n",
      "On the 171th day, sold 2.8275745065882485 shares for $463.89187355086807\n",
      "On the 203th day, Bought 2.8920122621319915 shares for $499.99999999999994\n",
      "On the 205th day, Bought 2.8446265005404787 shares for $500.0\n",
      "On the 216th day, Bought 0 shares for $0.0\n",
      "On the 217th day, Bought 0 shares for $0.0\n",
      "On the 227th day, sold 5.73663876267247 shares for $1080.1517126235995\n",
      "XLK Final Value: 1120.9877472924936, Final Money: 1120.9877472924936, Final Shares: 0.0\n"
     ]
    },
    {
     "name": "stderr",
     "output_type": "stream",
     "text": [
      "[*********************100%***********************]  1 of 1 completed\n"
     ]
    },
    {
     "name": "stdout",
     "output_type": "stream",
     "text": [
      "read  2775  lines of data for ticker:  XLP\n"
     ]
    },
    {
     "name": "stderr",
     "output_type": "stream",
     "text": [
      "[*********************100%***********************]  1 of 1 completed\n"
     ]
    },
    {
     "name": "stdout",
     "output_type": "stream",
     "text": [
      "read  251  lines of data for ticker:  XLP\n",
      "On the 30th day, Bought 6.993006993006993 shares for $500.0\n",
      "On the 86th day, sold 6.993006993006993 shares for $530.909090909091\n",
      "On the 163th day, Bought 6.913716814159293 shares for $500.0\n",
      "On the 166th day, Bought 6.882312456985547 shares for $500.0\n",
      "On the 183th day, sold 13.796029271144839 shares for $920.6090332634951\n",
      "On the 219th day, Bought 7.146941109205261 shares for $500.0\n",
      "On the 220th day, Bought 6 shares for $423.96\n",
      "On the 233th day, sold 13.146941109205262 shares for $941.0580445969126\n",
      "XLP Final Value: 968.6161687694987, Final Money: 968.6161687694987, Final Shares: 0.0\n"
     ]
    },
    {
     "name": "stderr",
     "output_type": "stream",
     "text": [
      "[*********************100%***********************]  1 of 1 completed\n"
     ]
    },
    {
     "name": "stdout",
     "output_type": "stream",
     "text": [
      "read  2775  lines of data for ticker:  XLP\n"
     ]
    },
    {
     "name": "stderr",
     "output_type": "stream",
     "text": [
      "[*********************100%***********************]  1 of 1 completed\n"
     ]
    },
    {
     "name": "stdout",
     "output_type": "stream",
     "text": [
      "read  251  lines of data for ticker:  XLP\n",
      "On the 30th day, Bought 6.993006993006993 shares for $500.0\n",
      "On the 73th day, sold 6.993006993006993 shares for $540.4895104895105\n",
      "On the 129th day, Bought 6.585879873551106 shares for $500.0\n",
      "On the 152th day, sold 6.585879873551106 shares for $474.31506849315065\n",
      "XLP Final Value: 1014.804578982661, Final Money: 1014.804578982661, Final Shares: 0.0\n"
     ]
    },
    {
     "name": "stderr",
     "output_type": "stream",
     "text": [
      "[*********************100%***********************]  1 of 1 completed\n"
     ]
    },
    {
     "name": "stdout",
     "output_type": "stream",
     "text": [
      "read  2775  lines of data for ticker:  XLP\n"
     ]
    },
    {
     "name": "stderr",
     "output_type": "stream",
     "text": [
      "[*********************100%***********************]  1 of 1 completed\n"
     ]
    },
    {
     "name": "stdout",
     "output_type": "stream",
     "text": [
      "read  251  lines of data for ticker:  XLP\n",
      "On the 60th day, Bought 6.608511763150939 shares for $500.0\n",
      "On the 88th day, sold 6.608511763150939 shares for $490.4837430610627\n"
     ]
    },
    {
     "name": "stderr",
     "output_type": "stream",
     "text": [
      "[*********************100%***********************]  1 of 1 completed"
     ]
    },
    {
     "name": "stdout",
     "output_type": "stream",
     "text": [
      "On the 208th day, Bought 7.227522405319456 shares for $500.0\n",
      "XLP Final Value: 1012.0940350529678, Final Money: 490.4837430610627, Final Shares: 7.227522405319456\n",
      "read  2775  lines of data for ticker:  XLP\n"
     ]
    },
    {
     "name": "stderr",
     "output_type": "stream",
     "text": [
      "\n",
      "[*********************100%***********************]  1 of 1 completed\n"
     ]
    },
    {
     "name": "stdout",
     "output_type": "stream",
     "text": [
      "read  251  lines of data for ticker:  XLP\n",
      "On the 30th day, Bought 0 shares for $0.0\n",
      "On the 31th day, Bought 0 shares for $0.0\n",
      "On the 32th day, Bought 0 shares for $0.0\n",
      "On the 80th day, Bought 0 shares for $0.0\n",
      "On the 242th day, Bought 0 shares for $0.0\n",
      "XLP Final Value: 1000.0, Final Money: 1000.0, Final Shares: 0.0\n"
     ]
    },
    {
     "name": "stderr",
     "output_type": "stream",
     "text": [
      "[*********************100%***********************]  1 of 1 completed\n"
     ]
    },
    {
     "name": "stdout",
     "output_type": "stream",
     "text": [
      "read  2775  lines of data for ticker:  XLV\n"
     ]
    },
    {
     "name": "stderr",
     "output_type": "stream",
     "text": [
      "[*********************100%***********************]  1 of 1 completed\n"
     ]
    },
    {
     "name": "stdout",
     "output_type": "stream",
     "text": [
      "read  251  lines of data for ticker:  XLV\n",
      "On the 30th day, Bought 3.9382482671707626 shares for $500.0\n",
      "On the 130th day, sold 3.9382482671707626 shares for $535.1291745431632\n",
      "On the 150th day, Bought 3.753753753753754 shares for $500.0\n",
      "On the 151th day, Bought 3.7425149700598803 shares for $500.0\n",
      "On the 152th day, Bought 0 shares for $0.0\n",
      "On the 178th day, sold 7.4962687238136345 shares for $963.7203071334809\n",
      "On the 214th day, Bought 3.8517833757029503 shares for $500.0\n",
      "On the 215th day, Bought 2 shares for $260.86\n",
      "On the 216th day, Bought 1 shares for $131.13\n",
      "On the 217th day, Bought 0 shares for $0.0\n"
     ]
    },
    {
     "name": "stderr",
     "output_type": "stream",
     "text": [
      "[*********************100%***********************]  1 of 1 completed"
     ]
    },
    {
     "name": "stdout",
     "output_type": "stream",
     "text": [
      "On the 218th day, Bought 0 shares for $0.0\n",
      "On the 219th day, Bought 0 shares for $0.0\n",
      "On the 220th day, Bought 0 shares for $0.0\n",
      "XLV Final Value: 1060.9017989095228, Final Money: 106.85948167664401, Final Shares: 6.851783375702951\n",
      "read  2775  lines of data for ticker:  XLV\n"
     ]
    },
    {
     "name": "stderr",
     "output_type": "stream",
     "text": [
      "\n",
      "[*********************100%***********************]  1 of 1 completed\n"
     ]
    },
    {
     "name": "stdout",
     "output_type": "stream",
     "text": [
      "read  251  lines of data for ticker:  XLV\n",
      "On the 30th day, Bought 3.9382482671707626 shares for $500.0\n"
     ]
    },
    {
     "name": "stderr",
     "output_type": "stream",
     "text": [
      "[*********************100%***********************]  1 of 1 completed"
     ]
    },
    {
     "name": "stdout",
     "output_type": "stream",
     "text": [
      "On the 202th day, sold 3.9382482671707626 shares for $501.77221172022684\n",
      "XLV Final Value: 1001.7722117202268, Final Money: 1001.7722117202268, Final Shares: 0.0\n",
      "read  2775  lines of data for ticker:  XLV\n"
     ]
    },
    {
     "name": "stderr",
     "output_type": "stream",
     "text": [
      "\n",
      "[*********************100%***********************]  1 of 1 completed\n"
     ]
    },
    {
     "name": "stdout",
     "output_type": "stream",
     "text": [
      "read  251  lines of data for ticker:  XLV\n"
     ]
    },
    {
     "name": "stderr",
     "output_type": "stream",
     "text": [
      "[*********************100%***********************]  1 of 1 completed"
     ]
    },
    {
     "name": "stdout",
     "output_type": "stream",
     "text": [
      "On the 227th day, Bought 3.761095230931247 shares for $500.0\n",
      "XLV Final Value: 1023.6948999548669, Final Money: 500.0, Final Shares: 3.761095230931247\n",
      "read  2775  lines of data for ticker:  XLV\n"
     ]
    },
    {
     "name": "stderr",
     "output_type": "stream",
     "text": [
      "\n",
      "[*********************100%***********************]  1 of 1 completed\n"
     ]
    },
    {
     "name": "stdout",
     "output_type": "stream",
     "text": [
      "read  251  lines of data for ticker:  XLV\n",
      "On the 82th day, Bought 3.789026977872082 shares for $500.0\n",
      "On the 90th day, sold 3.789026977872082 shares for $484.1997575022734\n",
      "On the 149th day, Bought 3.7405550983765994 shares for $500.0\n",
      "On the 160th day, sold 3.7405550983765994 shares for $491.77077878357153\n",
      "On the 168th day, Bought 3.8037276531000384 shares for $500.0\n",
      "On the 177th day, sold 3.8037276531000384 shares for $489.691898060099\n",
      "On the 204th day, Bought 3.8955979742890534 shares for $500.0\n",
      "On the 212th day, Bought 2 shares for $256.5\n",
      "On the 215th day, Bought 1 shares for $130.43\n",
      "On the 216th day, Bought 0 shares for $0.0\n",
      "On the 241th day, sold 6.895597974289053 shares for $956.9710868718348\n",
      "XLV Final Value: 1035.7035212177786, Final Money: 1035.7035212177786, Final Shares: 0.0\n"
     ]
    },
    {
     "name": "stderr",
     "output_type": "stream",
     "text": [
      "[*********************100%***********************]  1 of 1 completed\n"
     ]
    },
    {
     "name": "stdout",
     "output_type": "stream",
     "text": [
      "read  2775  lines of data for ticker:  XLY\n"
     ]
    },
    {
     "name": "stderr",
     "output_type": "stream",
     "text": [
      "[*********************100%***********************]  1 of 1 completed\n"
     ]
    },
    {
     "name": "stdout",
     "output_type": "stream",
     "text": [
      "read  251  lines of data for ticker:  XLY\n",
      "On the 30th day, Bought 3.4792290028529678 shares for $500.0\n",
      "On the 96th day, sold 3.4792290028529678 shares for $547.8741910792568\n",
      "On the 119th day, Bought 2.943080816999235 shares for $500.0\n",
      "On the 120th day, Bought 2.918685424084992 shares for $500.0\n",
      "On the 121th day, Bought 0 shares for $0.0\n",
      "On the 122th day, Bought 0 shares for $0.0\n",
      "On the 123th day, Bought 0 shares for $0.0\n",
      "On the 124th day, Bought 0 shares for $0.0\n",
      "On the 125th day, Bought 0 shares for $0.0\n",
      "On the 126th day, Bought 0 shares for $0.0\n",
      "On the 163th day, Bought 0 shares for $0.0\n",
      "On the 173th day, sold 5.8617662410842275 shares for $949.137189756358\n",
      "On the 204th day, Bought 3.08242401824795 shares for $500.0\n",
      "On the 205th day, Bought 2 shares for $323.56\n",
      "On the 206th day, Bought 1 shares for $158.76\n"
     ]
    },
    {
     "name": "stderr",
     "output_type": "stream",
     "text": [
      "[*********************100%***********************]  1 of 1 completed"
     ]
    },
    {
     "name": "stdout",
     "output_type": "stream",
     "text": [
      "On the 209th day, Bought 0 shares for $0.0\n",
      "On the 216th day, Bought 0 shares for $0.0\n",
      "On the 217th day, Bought 0 shares for $0.0\n",
      "On the 218th day, Bought 0 shares for $0.0\n",
      "On the 219th day, Bought 0 shares for $0.0\n",
      "On the 220th day, Bought 0 shares for $0.0\n",
      "XLY Final Value: 1062.9971603806491, Final Money: 14.691380835614893, Final Shares: 6.08242401824795\n",
      "read  2775  lines of data for ticker:  XLY\n"
     ]
    },
    {
     "name": "stderr",
     "output_type": "stream",
     "text": [
      "\n",
      "[*********************100%***********************]  1 of 1 completed\n"
     ]
    },
    {
     "name": "stdout",
     "output_type": "stream",
     "text": [
      "read  251  lines of data for ticker:  XLY\n",
      "On the 30th day, Bought 0 shares for $0.0\n",
      "On the 31th day, Bought 0 shares for $0.0\n",
      "On the 32th day, Bought 0 shares for $0.0\n",
      "On the 33th day, Bought 0 shares for $0.0\n",
      "On the 34th day, Bought 0 shares for $0.0\n",
      "On the 35th day, Bought 0 shares for $0.0\n",
      "On the 68th day, Bought 0 shares for $0.0\n",
      "On the 80th day, Bought 0 shares for $0.0\n",
      "On the 81th day, Bought 0 shares for $0.0\n",
      "On the 82th day, Bought 0 shares for $0.0\n",
      "On the 83th day, Bought 0 shares for $0.0\n",
      "On the 84th day, Bought 0 shares for $0.0\n",
      "On the 107th day, Bought 0 shares for $0.0\n",
      "On the 122th day, Bought 0 shares for $0.0\n",
      "On the 123th day, Bought 0 shares for $0.0\n",
      "On the 124th day, Bought 0 shares for $0.0\n",
      "On the 125th day, Bought 0 shares for $0.0\n",
      "On the 126th day, Bought 0 shares for $0.0\n"
     ]
    },
    {
     "name": "stderr",
     "output_type": "stream",
     "text": [
      "[*********************100%***********************]  1 of 1 completed"
     ]
    },
    {
     "name": "stdout",
     "output_type": "stream",
     "text": [
      "On the 204th day, Bought 0 shares for $0.0\n",
      "On the 205th day, Bought 0 shares for $0.0\n",
      "On the 216th day, Bought 0 shares for $0.0\n",
      "On the 217th day, Bought 0 shares for $0.0\n",
      "On the 219th day, Bought 0 shares for $0.0\n",
      "XLY Final Value: 1000.0, Final Money: 1000.0, Final Shares: 0.0\n",
      "read  2775  lines of data for ticker:  XLY\n"
     ]
    },
    {
     "name": "stderr",
     "output_type": "stream",
     "text": [
      "\n",
      "[*********************100%***********************]  1 of 1 completed\n"
     ]
    },
    {
     "name": "stdout",
     "output_type": "stream",
     "text": [
      "read  251  lines of data for ticker:  XLY\n",
      "On the 67th day, Bought 3.3932813030200206 shares for $500.0\n",
      "On the 173th day, sold 3.3932813030200206 shares for $549.4401085850017\n",
      "On the 216th day, Bought 2.9719448407037565 shares for $500.0\n",
      "On the 217th day, Bought 2.967182956501098 shares for $500.0\n",
      "On the 218th day, Bought 0 shares for $0.0\n",
      "On the 219th day, Bought 0 shares for $0.0\n",
      "On the 220th day, Bought 0 shares for $0.0\n",
      "XLY Final Value: 1073.0487844332583, Final Money: 49.44010858500178, Final Shares: 5.939127797204854\n"
     ]
    },
    {
     "name": "stderr",
     "output_type": "stream",
     "text": [
      "[*********************100%***********************]  1 of 1 completed\n"
     ]
    },
    {
     "name": "stdout",
     "output_type": "stream",
     "text": [
      "read  2775  lines of data for ticker:  XLY\n"
     ]
    },
    {
     "name": "stderr",
     "output_type": "stream",
     "text": [
      "[*********************100%***********************]  1 of 1 completed\n"
     ]
    },
    {
     "name": "stdout",
     "output_type": "stream",
     "text": [
      "read  251  lines of data for ticker:  XLY\n",
      "On the 30th day, Bought 3.4792290028529678 shares for $500.0\n",
      "On the 63th day, Bought 0 shares for $0.0\n",
      "On the 64th day, Bought 0 shares for $0.0\n",
      "On the 96th day, sold 3.4792290028529678 shares for $547.8741910792568\n",
      "On the 107th day, Bought 0 shares for $0.0\n",
      "XLY Final Value: 1047.874191079257, Final Money: 1047.874191079257, Final Shares: 0.0\n"
     ]
    },
    {
     "name": "stderr",
     "output_type": "stream",
     "text": [
      "[*********************100%***********************]  1 of 1 completed\n"
     ]
    },
    {
     "name": "stdout",
     "output_type": "stream",
     "text": [
      "read  2775  lines of data for ticker:  XLU\n"
     ]
    },
    {
     "name": "stderr",
     "output_type": "stream",
     "text": [
      "[*********************100%***********************]  1 of 1 completed\n"
     ]
    },
    {
     "name": "stdout",
     "output_type": "stream",
     "text": [
      "read  251  lines of data for ticker:  XLU\n",
      "On the 53th day, Bought 7.437156031533541 shares for $500.0\n",
      "On the 84th day, sold 7.437156031533541 shares for $493.9015320541424\n",
      "On the 106th day, Bought 7.578053955744164 shares for $500.0\n",
      "On the 124th day, Bought 6 shares for $396.48\n",
      "On the 149th day, Bought 1 shares for $63.09\n",
      "On the 175th day, sold 14.578053955744164 shares for $876.5783843588966\n"
     ]
    },
    {
     "name": "stderr",
     "output_type": "stream",
     "text": [
      "[*********************100%***********************]  1 of 1 completed"
     ]
    },
    {
     "name": "stdout",
     "output_type": "stream",
     "text": [
      "On the 209th day, Bought 8.067118425298483 shares for $500.0\n",
      "On the 216th day, Bought 6 shares for $376.14\n",
      "On the 217th day, Bought 0 shares for $0.0\n",
      "On the 218th day, Bought 0 shares for $0.0\n",
      "On the 219th day, Bought 0 shares for $0.0\n",
      "On the 221th day, Bought 0 shares for $0.0\n",
      "XLU Final Value: 939.1449599754786, Final Money: 34.76991641303903, Final Shares: 14.067118425298483\n",
      "read  2775  lines of data for ticker:  XLU\n"
     ]
    },
    {
     "name": "stderr",
     "output_type": "stream",
     "text": [
      "\n",
      "[*********************100%***********************]  1 of 1 completed\n"
     ]
    },
    {
     "name": "stdout",
     "output_type": "stream",
     "text": [
      "read  251  lines of data for ticker:  XLU\n",
      "On the 55th day, Bought 7.212925562608195 shares for $500.0\n"
     ]
    },
    {
     "name": "stderr",
     "output_type": "stream",
     "text": [
      "[*********************100%***********************]  1 of 1 completed"
     ]
    },
    {
     "name": "stdout",
     "output_type": "stream",
     "text": [
      "On the 175th day, sold 7.212925562608195 shares for $433.7132140796308\n",
      "On the 217th day, Bought 7.963051441312311 shares for $500.0\n",
      "On the 218th day, Bought 6 shares for $377.94\n",
      "On the 219th day, Bought 0 shares for $0.0\n",
      "XLU Final Value: 953.4577912415994, Final Money: 55.773214079630804, Final Shares: 13.963051441312311\n"
     ]
    },
    {
     "name": "stderr",
     "output_type": "stream",
     "text": [
      "\n"
     ]
    },
    {
     "name": "stdout",
     "output_type": "stream",
     "text": [
      "read  2775  lines of data for ticker:  XLU\n"
     ]
    },
    {
     "name": "stderr",
     "output_type": "stream",
     "text": [
      "[*********************100%***********************]  1 of 1 completed\n"
     ]
    },
    {
     "name": "stdout",
     "output_type": "stream",
     "text": [
      "read  251  lines of data for ticker:  XLU\n",
      "On the 62th day, Bought 7.218131947452 shares for $500.0\n",
      "On the 65th day, Bought 6 shares for $416.52\n",
      "On the 66th day, Bought 1 shares for $69.62\n",
      "On the 85th day, sold 14.218131947452001 shares for $941.3825162407969\n",
      "On the 144th day, Bought 7.805182641273806 shares for $500.0\n",
      "On the 145th day, Bought 6 shares for $378.12\n",
      "On the 152th day, Bought 1 shares for $63.15\n",
      "On the 175th day, sold 14.805182641273806 shares for $890.235632219794\n",
      "On the 216th day, Bought 7.975753708725475 shares for $500.0\n",
      "On the 217th day, Bought 6 shares for $376.74\n",
      "On the 218th day, Bought 0 shares for $0.0\n"
     ]
    },
    {
     "name": "stderr",
     "output_type": "stream",
     "text": [
      "[*********************100%***********************]  1 of 1 completed"
     ]
    },
    {
     "name": "stdout",
     "output_type": "stream",
     "text": [
      "XLU Final Value: 925.9693543945517, Final Money: 27.468148460590896, Final Shares: 13.975753708725474\n",
      "read  2775  lines of data for ticker:  XLU\n"
     ]
    },
    {
     "name": "stderr",
     "output_type": "stream",
     "text": [
      "\n",
      "[*********************100%***********************]  1 of 1 completed\n"
     ]
    },
    {
     "name": "stdout",
     "output_type": "stream",
     "text": [
      "read  251  lines of data for ticker:  XLU\n",
      "On the 135th day, Bought 7.547169811320755 shares for $500.0\n",
      "On the 175th day, sold 7.547169811320755 shares for $453.81132075471703\n",
      "On the 214th day, Bought 8.034709946970915 shares for $500.00000000000006\n",
      "On the 215th day, Bought 6 shares for $375.18\n",
      "On the 216th day, Bought 1 shares for $62.69\n",
      "On the 217th day, Bought 0 shares for $0.0\n",
      "On the 218th day, Bought 0 shares for $0.0\n",
      "On the 231th day, sold 15.034709946970915 shares for $961.7703953077295\n",
      "XLU Final Value: 977.7117160624464, Final Money: 977.7117160624464, Final Shares: 0.0\n"
     ]
    },
    {
     "name": "stderr",
     "output_type": "stream",
     "text": [
      "[*********************100%***********************]  1 of 1 completed\n"
     ]
    },
    {
     "name": "stdout",
     "output_type": "stream",
     "text": [
      "read  6038  lines of data for ticker:  XLB\n"
     ]
    },
    {
     "name": "stderr",
     "output_type": "stream",
     "text": [
      "[*********************100%***********************]  1 of 1 completed\n"
     ]
    },
    {
     "name": "stdout",
     "output_type": "stream",
     "text": [
      "read  251  lines of data for ticker:  XLB\n",
      "On the 84th day, Bought 5.472255663784612 shares for $500.0\n",
      "On the 85th day, Bought 4 shares for $368.6\n",
      "On the 86th day, Bought 1 shares for $92.28\n",
      "On the 133th day, sold 10.472255663784612 shares for $958.106670679654\n",
      "On the 192th day, Bought 5.161023947151115 shares for $500.0\n"
     ]
    },
    {
     "name": "stderr",
     "output_type": "stream",
     "text": [
      "[*********************100%***********************]  1 of 1 completed"
     ]
    },
    {
     "name": "stdout",
     "output_type": "stream",
     "text": [
      "On the 228th day, sold 5.161023947151115 shares for $467.7436003303055\n",
      "XLB Final Value: 964.9702710099596, Final Money: 964.9702710099596, Final Shares: 0.0\n",
      "read  6038  lines of data for ticker:  XLB\n"
     ]
    },
    {
     "name": "stderr",
     "output_type": "stream",
     "text": [
      "\n",
      "[*********************100%***********************]  1 of 1 completed\n"
     ]
    },
    {
     "name": "stdout",
     "output_type": "stream",
     "text": [
      "read  251  lines of data for ticker:  XLB\n",
      "On the 149th day, Bought 5.514503143266792 shares for $500.0\n",
      "On the 231th day, Bought 4 shares for $353.76\n",
      "On the 232th day, Bought 1 shares for $87.95\n"
     ]
    },
    {
     "name": "stderr",
     "output_type": "stream",
     "text": [
      "[*********************100%***********************]  1 of 1 completed"
     ]
    },
    {
     "name": "stdout",
     "output_type": "stream",
     "text": [
      "On the 233th day, Bought 0 shares for $0.0\n",
      "On the 236th day, sold 10.514503143266792 shares for $894.4687823977059\n",
      "XLB Final Value: 952.7587823977059, Final Money: 952.7587823977059, Final Shares: 0.0\n",
      "read  6038  lines of data for ticker:  XLB\n"
     ]
    },
    {
     "name": "stderr",
     "output_type": "stream",
     "text": [
      "\n",
      "[*********************100%***********************]  1 of 1 completed\n"
     ]
    },
    {
     "name": "stdout",
     "output_type": "stream",
     "text": [
      "read  251  lines of data for ticker:  XLB\n",
      "On the 44th day, Bought 5.4608999563128 shares for $500.0\n",
      "On the 61th day, sold 5.4608999563128 shares for $488.69593709043244\n"
     ]
    },
    {
     "name": "stderr",
     "output_type": "stream",
     "text": [
      "[*********************100%***********************]  1 of 1 completed"
     ]
    },
    {
     "name": "stdout",
     "output_type": "stream",
     "text": [
      "On the 186th day, Bought 5.214308061320263 shares for $500.0\n",
      "On the 211th day, sold 5.214308061320263 shares for $475.96203983731357\n",
      "On the 215th day, Bought 5.343593031954687 shares for $500.00000000000006\n",
      "On the 218th day, sold 5.343593031954687 shares for $504.1680025649247\n",
      "On the 240th day, Bought 5.966587112171838 shares for $500.0\n",
      "XLB Final Value: 965.1863613542457, Final Money: 468.8259794926705, Final Shares: 5.966587112171838\n"
     ]
    },
    {
     "name": "stderr",
     "output_type": "stream",
     "text": [
      "\n"
     ]
    },
    {
     "name": "stdout",
     "output_type": "stream",
     "text": [
      "read  6038  lines of data for ticker:  XLB\n"
     ]
    },
    {
     "name": "stderr",
     "output_type": "stream",
     "text": [
      "[*********************100%***********************]  1 of 1 completed\n"
     ]
    },
    {
     "name": "stdout",
     "output_type": "stream",
     "text": [
      "read  251  lines of data for ticker:  XLB\n",
      "On the 87th day, Bought 5.418292154312961 shares for $500.0\n",
      "On the 95th day, sold 5.418292154312961 shares for $493.01040312093625\n",
      "On the 181th day, Bought 5.253756435851634 shares for $500.0\n",
      "On the 183th day, Bought 4 shares for $377.8\n",
      "XLB Final Value: 885.0304010194336, Final Money: 115.21040312093618, Final Shares: 9.253756435851635\n"
     ]
    },
    {
     "name": "stderr",
     "output_type": "stream",
     "text": [
      "[*********************100%***********************]  1 of 1 completed\n"
     ]
    },
    {
     "name": "stdout",
     "output_type": "stream",
     "text": [
      "read  6038  lines of data for ticker:  XLE\n"
     ]
    },
    {
     "name": "stderr",
     "output_type": "stream",
     "text": [
      "[*********************100%***********************]  1 of 1 completed\n"
     ]
    },
    {
     "name": "stdout",
     "output_type": "stream",
     "text": [
      "read  251  lines of data for ticker:  XLE\n",
      "On the 37th day, Bought 5.612932195779075 shares for $500.00000000000006\n",
      "On the 47th day, Bought 4 shares for $373.04\n",
      "On the 61th day, sold 9.612932195779075 shares for $915.4395330040414\n"
     ]
    },
    {
     "name": "stderr",
     "output_type": "stream",
     "text": [
      "[*********************100%***********************]  1 of 1 completed"
     ]
    },
    {
     "name": "stdout",
     "output_type": "stream",
     "text": [
      "On the 191th day, Bought 5.534646889528448 shares for $500.0\n",
      "On the 192th day, Bought 5.551237926057511 shares for $500.0\n",
      "On the 193th day, Bought 0 shares for $0.0\n",
      "On the 194th day, Bought 0 shares for $0.0\n",
      "On the 195th day, Bought 0 shares for $0.0\n",
      "On the 196th day, Bought 0 shares for $0.0\n",
      "On the 197th day, Bought 0 shares for $0.0\n",
      "On the 237th day, sold 11.08588481558596 shares for $938.3092907911956\n",
      "XLE Final Value: 980.708823795237, Final Money: 980.708823795237, Final Shares: 0.0\n"
     ]
    },
    {
     "name": "stderr",
     "output_type": "stream",
     "text": [
      "\n"
     ]
    },
    {
     "name": "stdout",
     "output_type": "stream",
     "text": [
      "read  6038  lines of data for ticker:  XLE\n"
     ]
    },
    {
     "name": "stderr",
     "output_type": "stream",
     "text": [
      "[*********************100%***********************]  1 of 1 completed\n"
     ]
    },
    {
     "name": "stdout",
     "output_type": "stream",
     "text": [
      "read  251  lines of data for ticker:  XLE\n",
      "On the 172th day, Bought 5.6104129263913824 shares for $500.00000000000006\n",
      "On the 179th day, sold 5.6104129263913824 shares for $508.9766606822262\n",
      "On the 196th day, Bought 5.569789461958338 shares for $500.0\n",
      "On the 197th day, Bought 5.605381165919282 shares for $500.0\n",
      "On the 198th day, Bought 0 shares for $0.0\n",
      "XLE Final Value: 986.4688355026815, Final Money: 8.976660682226111, Final Shares: 11.17517062787762\n"
     ]
    },
    {
     "name": "stderr",
     "output_type": "stream",
     "text": [
      "[*********************100%***********************]  1 of 1 completed\n"
     ]
    },
    {
     "name": "stdout",
     "output_type": "stream",
     "text": [
      "read  6038  lines of data for ticker:  XLE\n"
     ]
    },
    {
     "name": "stderr",
     "output_type": "stream",
     "text": [
      "[*********************100%***********************]  1 of 1 completed\n"
     ]
    },
    {
     "name": "stdout",
     "output_type": "stream",
     "text": [
      "read  251  lines of data for ticker:  XLE\n",
      "On the 116th day, Bought 5.4626898284715395 shares for $500.0\n",
      "On the 126th day, sold 5.4626898284715395 shares for $510.16060308095706\n",
      "On the 195th day, Bought 5.56792873051225 shares for $500.00000000000006\n"
     ]
    },
    {
     "name": "stderr",
     "output_type": "stream",
     "text": [
      "[*********************100%***********************]  1 of 1 completed"
     ]
    },
    {
     "name": "stdout",
     "output_type": "stream",
     "text": [
      "On the 205th day, sold 5.56792873051225 shares for $518.5412026726058\n",
      "XLE Final Value: 1028.701805753563, Final Money: 1028.701805753563, Final Shares: 0.0\n",
      "read  6038  lines of data for ticker:  XLE\n"
     ]
    },
    {
     "name": "stderr",
     "output_type": "stream",
     "text": [
      "\n",
      "[*********************100%***********************]  1 of 1 completed\n"
     ]
    },
    {
     "name": "stdout",
     "output_type": "stream",
     "text": [
      "read  251  lines of data for ticker:  XLE\n",
      "On the 72th day, Bought 5.3464499572284 shares for $500.0\n",
      "On the 74th day, sold 5.3464499572284 shares for $494.86740804106074\n",
      "On the 116th day, Bought 5.4626898284715395 shares for $500.0\n",
      "On the 138th day, sold 5.4626898284715395 shares for $472.2495356713646\n",
      "On the 187th day, Bought 5.389673385792821 shares for $500.0\n",
      "On the 227th day, sold 5.389673385792821 shares for $486.4180230678021\n",
      "XLE Final Value: 953.5349667802275, Final Money: 953.5349667802275, Final Shares: 0.0\n"
     ]
    },
    {
     "name": "stderr",
     "output_type": "stream",
     "text": [
      "[*********************100%***********************]  1 of 1 completed\n"
     ]
    },
    {
     "name": "stdout",
     "output_type": "stream",
     "text": [
      "read  6038  lines of data for ticker:  XLF\n"
     ]
    },
    {
     "name": "stderr",
     "output_type": "stream",
     "text": [
      "[*********************100%***********************]  1 of 1 completed\n"
     ]
    },
    {
     "name": "stdout",
     "output_type": "stream",
     "text": [
      "read  251  lines of data for ticker:  XLF\n"
     ]
    },
    {
     "name": "stderr",
     "output_type": "stream",
     "text": [
      "[*********************100%***********************]  1 of 1 completed"
     ]
    },
    {
     "name": "stdout",
     "output_type": "stream",
     "text": [
      "XLF Final Value: 1000.0, Final Money: 1000, Final Shares: 0.0\n",
      "read  6038  lines of data for ticker:  XLF\n"
     ]
    },
    {
     "name": "stderr",
     "output_type": "stream",
     "text": [
      "\n",
      "[*********************100%***********************]  1 of 1 completed\n"
     ]
    },
    {
     "name": "stdout",
     "output_type": "stream",
     "text": [
      "read  251  lines of data for ticker:  XLF\n",
      "On the 75th day, Bought 12.330456226880395 shares for $500.0\n",
      "On the 95th day, sold 12.330456226880395 shares for $510.23427866831076\n"
     ]
    },
    {
     "name": "stderr",
     "output_type": "stream",
     "text": [
      "[*********************100%***********************]  1 of 1 completed"
     ]
    },
    {
     "name": "stdout",
     "output_type": "stream",
     "text": [
      "XLF Final Value: 1010.2342786683107, Final Money: 1010.2342786683107, Final Shares: 0.0\n",
      "read  6038  lines of data for ticker:  XLF\n"
     ]
    },
    {
     "name": "stderr",
     "output_type": "stream",
     "text": [
      "\n",
      "[*********************100%***********************]  1 of 1 completed\n"
     ]
    },
    {
     "name": "stdout",
     "output_type": "stream",
     "text": [
      "read  251  lines of data for ticker:  XLF\n",
      "On the 174th day, Bought 11.163206072784103 shares for $499.99999999999994\n",
      "On the 180th day, Bought 11.138338159946535 shares for $499.99999999999994\n",
      "On the 187th day, sold 22.301544232730638 shares for $1043.7122700917937\n",
      "XLF Final Value: 1043.712270091794, Final Money: 1043.712270091794, Final Shares: 0.0\n"
     ]
    },
    {
     "name": "stderr",
     "output_type": "stream",
     "text": [
      "[*********************100%***********************]  1 of 1 completed\n"
     ]
    },
    {
     "name": "stdout",
     "output_type": "stream",
     "text": [
      "read  6038  lines of data for ticker:  XLF\n"
     ]
    },
    {
     "name": "stderr",
     "output_type": "stream",
     "text": [
      "[*********************100%***********************]  1 of 1 completed\n"
     ]
    },
    {
     "name": "stdout",
     "output_type": "stream",
     "text": [
      "read  251  lines of data for ticker:  XLF\n",
      "On the 74th day, Bought 12.357884330202669 shares for $500.0\n",
      "On the 77th day, Bought 12.132977432661974 shares for $499.99999999999994\n",
      "On the 78th day, Bought 0 shares for $0.0\n",
      "On the 79th day, Bought 0 shares for $0.0\n",
      "On the 90th day, sold 24.490861762864643 shares for $1019.0647579527978\n",
      "On the 195th day, Bought 10.604453870625663 shares for $500.0\n",
      "On the 196th day, Bought 10.72271070126528 shares for $500.0\n",
      "On the 204th day, sold 21.327164571890943 shares for $1056.7610045371962\n",
      "XLF Final Value: 1075.825762489994, Final Money: 1075.825762489994, Final Shares: 0.0\n"
     ]
    },
    {
     "name": "stderr",
     "output_type": "stream",
     "text": [
      "[*********************100%***********************]  1 of 1 completed\n"
     ]
    },
    {
     "name": "stdout",
     "output_type": "stream",
     "text": [
      "read  6038  lines of data for ticker:  XLI\n"
     ]
    },
    {
     "name": "stderr",
     "output_type": "stream",
     "text": [
      "[*********************100%***********************]  1 of 1 completed\n"
     ]
    },
    {
     "name": "stdout",
     "output_type": "stream",
     "text": [
      "read  251  lines of data for ticker:  XLI\n",
      "On the 82th day, Bought 3.99616368286445 shares for $500.0\n",
      "On the 127th day, sold 3.99616368286445 shares for $499.0009590792839\n"
     ]
    },
    {
     "name": "stderr",
     "output_type": "stream",
     "text": [
      "[*********************100%***********************]  1 of 1 completed"
     ]
    },
    {
     "name": "stdout",
     "output_type": "stream",
     "text": [
      "XLI Final Value: 999.0009590792839, Final Money: 999.0009590792839, Final Shares: 0.0\n",
      "read  6038  lines of data for ticker:  XLI\n"
     ]
    },
    {
     "name": "stderr",
     "output_type": "stream",
     "text": [
      "\n",
      "[*********************100%***********************]  1 of 1 completed\n"
     ]
    },
    {
     "name": "stdout",
     "output_type": "stream",
     "text": [
      "read  251  lines of data for ticker:  XLI\n",
      "On the 66th day, Bought 4.119294776734224 shares for $500.00000000000006\n",
      "On the 80th day, Bought 2 shares for $251.36\n",
      "On the 81th day, Bought 1 shares for $125.15\n",
      "On the 95th day, sold 7.119294776734224 shares for $868.5539627615752\n",
      "On the 149th day, Bought 3.9249548630190754 shares for $500.0\n",
      "On the 154th day, Bought 2 shares for $258.44\n",
      "On the 155th day, Bought 1 shares for $129.16\n",
      "On the 204th day, sold 6.924954863019075 shares for $979.3963662767878\n"
     ]
    },
    {
     "name": "stderr",
     "output_type": "stream",
     "text": [
      "[*********************100%***********************]  1 of 1 completed"
     ]
    },
    {
     "name": "stdout",
     "output_type": "stream",
     "text": [
      "XLI Final Value: 1083.840329038363, Final Money: 1083.840329038363, Final Shares: 0.0\n",
      "read  6038  lines of data for ticker:  XLI\n"
     ]
    },
    {
     "name": "stderr",
     "output_type": "stream",
     "text": [
      "\n",
      "[*********************100%***********************]  1 of 1 completed\n"
     ]
    },
    {
     "name": "stdout",
     "output_type": "stream",
     "text": [
      "read  251  lines of data for ticker:  XLI\n",
      "On the 38th day, Bought 4.091318222731364 shares for $500.0\n",
      "On the 41th day, Bought 3 shares for $366.12\n",
      "On the 45th day, sold 7.091318222731364 shares for $890.9532215039686\n",
      "On the 86th day, Bought 3.9818427968463808 shares for $500.0\n",
      "On the 87th day, Bought 3.9948865452221156 shares for $500.0\n",
      "On the 88th day, Bought 0 shares for $0.0\n",
      "On the 93th day, sold 7.976729342068497 shares for $973.4002816126186\n"
     ]
    },
    {
     "name": "stderr",
     "output_type": "stream",
     "text": [
      "[*********************100%***********************]  1 of 1 completed"
     ]
    },
    {
     "name": "stdout",
     "output_type": "stream",
     "text": [
      "On the 182th day, Bought 3.6987720076934454 shares for $500.0\n",
      "On the 183th day, Bought 2 shares for $270.96\n",
      "On the 205th day, sold 5.698772007693446 shares for $801.1333688415447\n",
      "XLI Final Value: 1028.406871958132, Final Money: 1028.406871958132, Final Shares: 0.0\n"
     ]
    },
    {
     "name": "stderr",
     "output_type": "stream",
     "text": [
      "\n"
     ]
    },
    {
     "name": "stdout",
     "output_type": "stream",
     "text": [
      "read  6038  lines of data for ticker:  XLI\n"
     ]
    },
    {
     "name": "stderr",
     "output_type": "stream",
     "text": [
      "[*********************100%***********************]  1 of 1 completed\n"
     ]
    },
    {
     "name": "stdout",
     "output_type": "stream",
     "text": [
      "read  251  lines of data for ticker:  XLI\n",
      "On the 87th day, Bought 3.9948865452221156 shares for $500.0\n",
      "On the 89th day, Bought 3 shares for $371.49\n",
      "On the 93th day, sold 6.994886545222116 shares for $853.5860051134548\n",
      "XLI Final Value: 982.0960051134548, Final Money: 982.0960051134548, Final Shares: 0.0\n"
     ]
    },
    {
     "name": "stderr",
     "output_type": "stream",
     "text": [
      "[*********************100%***********************]  1 of 1 completed\n"
     ]
    },
    {
     "name": "stdout",
     "output_type": "stream",
     "text": [
      "read  6038  lines of data for ticker:  XLK\n"
     ]
    },
    {
     "name": "stderr",
     "output_type": "stream",
     "text": [
      "[*********************100%***********************]  1 of 1 completed\n"
     ]
    },
    {
     "name": "stdout",
     "output_type": "stream",
     "text": [
      "read  251  lines of data for ticker:  XLK\n",
      "On the 30th day, Bought 2.4156923374239057 shares for $499.99999999999994\n",
      "On the 31th day, Bought 2.3723666729929778 shares for $500.0\n",
      "On the 32th day, Bought 0 shares for $0.0\n",
      "On the 33th day, Bought 0 shares for $0.0\n",
      "On the 34th day, Bought 0 shares for $0.0\n",
      "On the 35th day, Bought 0 shares for $0.0\n",
      "On the 83th day, Bought 0 shares for $0.0\n",
      "On the 84th day, Bought 0 shares for $0.0\n",
      "On the 85th day, Bought 0 shares for $0.0\n",
      "On the 86th day, Bought 0 shares for $0.0\n",
      "On the 125th day, sold 4.788059010416884 shares for $1074.248919577132\n",
      "On the 173th day, Bought 2.2360359554581635 shares for $499.99999999999994\n",
      "On the 174th day, Bought 2.229654403567447 shares for $500.0\n",
      "On the 175th day, Bought 0 shares for $0.0\n",
      "On the 176th day, Bought 0 shares for $0.0\n",
      "On the 177th day, Bought 0 shares for $0.0\n",
      "On the 178th day, Bought 0 shares for $0.0\n"
     ]
    },
    {
     "name": "stderr",
     "output_type": "stream",
     "text": [
      "[*********************100%***********************]  1 of 1 completed"
     ]
    },
    {
     "name": "stdout",
     "output_type": "stream",
     "text": [
      "On the 235th day, sold 4.4656903590256105 shares for $1053.7242971156832\n",
      "XLK Final Value: 1127.9732166928152, Final Money: 1127.9732166928152, Final Shares: 0.0\n",
      "read  6038  lines of data for ticker:  XLK\n"
     ]
    },
    {
     "name": "stderr",
     "output_type": "stream",
     "text": [
      "\n",
      "[*********************100%***********************]  1 of 1 completed\n"
     ]
    },
    {
     "name": "stdout",
     "output_type": "stream",
     "text": [
      "read  251  lines of data for ticker:  XLK\n",
      "On the 83th day, Bought 2.3470872647045016 shares for $500.0\n",
      "On the 111th day, sold 2.3470872647045016 shares for $531.0050227667465\n",
      "On the 178th day, Bought 2.2700444928720604 shares for $500.0\n",
      "On the 196th day, Bought 2.171175474401841 shares for $500.0\n"
     ]
    },
    {
     "name": "stderr",
     "output_type": "stream",
     "text": [
      "[*********************100%***********************]  1 of 1 completed"
     ]
    },
    {
     "name": "stdout",
     "output_type": "stream",
     "text": [
      "On the 198th day, Bought 0 shares for $0.0\n",
      "On the 205th day, sold 4.441219967273902 shares for $1054.4344446301698\n",
      "On the 219th day, Bought 2.159081095085931 shares for $499.99999999999994\n",
      "On the 238th day, sold 2.159081095085931 shares for $519.6692287762328\n",
      "XLK Final Value: 1105.1086961731492, Final Money: 1105.1086961731492, Final Shares: 0.0\n"
     ]
    },
    {
     "name": "stderr",
     "output_type": "stream",
     "text": [
      "\n"
     ]
    },
    {
     "name": "stdout",
     "output_type": "stream",
     "text": [
      "read  6038  lines of data for ticker:  XLK\n"
     ]
    },
    {
     "name": "stderr",
     "output_type": "stream",
     "text": [
      "[*********************100%***********************]  1 of 1 completed\n"
     ]
    },
    {
     "name": "stdout",
     "output_type": "stream",
     "text": [
      "read  251  lines of data for ticker:  XLK\n",
      "On the 155th day, Bought 2.2787348464132715 shares for $500.0\n",
      "On the 158th day, Bought 1 shares for $210.21\n",
      "On the 195th day, Bought 1 shares for $229.1\n",
      "On the 206th day, sold 4.278734846413272 shares for $1014.7447561753715\n"
     ]
    },
    {
     "name": "stderr",
     "output_type": "stream",
     "text": [
      "[*********************100%***********************]  1 of 1 completed"
     ]
    },
    {
     "name": "stdout",
     "output_type": "stream",
     "text": [
      "XLK Final Value: 1075.4347561753716, Final Money: 1075.4347561753716, Final Shares: 0.0\n",
      "read  6038  lines of data for ticker:  XLK\n"
     ]
    },
    {
     "name": "stderr",
     "output_type": "stream",
     "text": [
      "\n",
      "[*********************100%***********************]  1 of 1 completed\n"
     ]
    },
    {
     "name": "stdout",
     "output_type": "stream",
     "text": [
      "read  251  lines of data for ticker:  XLK\n",
      "On the 101th day, Bought 2.270972430394695 shares for $499.99999999999994\n",
      "On the 126th day, sold 2.270972430394695 shares for $509.56079393196165\n",
      "On the 173th day, Bought 2.2360359554581635 shares for $499.99999999999994\n",
      "On the 196th day, Bought 2.171175474401841 shares for $500.0\n",
      "On the 201th day, sold 4.407211429860005 shares for $986.8187112599536\n",
      "XLK Final Value: 996.3795051919153, Final Money: 996.3795051919153, Final Shares: 0.0\n"
     ]
    },
    {
     "name": "stderr",
     "output_type": "stream",
     "text": [
      "[*********************100%***********************]  1 of 1 completed\n"
     ]
    },
    {
     "name": "stdout",
     "output_type": "stream",
     "text": [
      "read  6038  lines of data for ticker:  XLP\n"
     ]
    },
    {
     "name": "stderr",
     "output_type": "stream",
     "text": [
      "[*********************100%***********************]  1 of 1 completed\n"
     ]
    },
    {
     "name": "stdout",
     "output_type": "stream",
     "text": [
      "read  251  lines of data for ticker:  XLP\n",
      "On the 30th day, Bought 6.715916722632639 shares for $500.0\n",
      "On the 62th day, sold 6.715916722632639 shares for $491.00067159167224\n",
      "On the 122th day, Bought 6.455777921239509 shares for $500.0\n",
      "On the 123th day, Bought 5 shares for $385.0\n",
      "On the 135th day, sold 11.455777921239509 shares for $891.8323111684957\n",
      "On the 203th day, Bought 6.181998021760633 shares for $500.0\n",
      "On the 205th day, sold 6.181998021760633 shares for $493.6325420375865\n"
     ]
    },
    {
     "name": "stderr",
     "output_type": "stream",
     "text": [
      "[*********************100%***********************]  1 of 1 completed"
     ]
    },
    {
     "name": "stdout",
     "output_type": "stream",
     "text": [
      "XLP Final Value: 991.4655247977545, Final Money: 991.4655247977545, Final Shares: 0.0\n",
      "read  6038  lines of data for ticker:  XLP\n"
     ]
    },
    {
     "name": "stderr",
     "output_type": "stream",
     "text": [
      "\n",
      "[*********************100%***********************]  1 of 1 completed\n"
     ]
    },
    {
     "name": "stdout",
     "output_type": "stream",
     "text": [
      "read  251  lines of data for ticker:  XLP\n",
      "On the 110th day, Bought 6.459113809585325 shares for $500.0\n",
      "On the 113th day, Bought 5 shares for $382.9\n",
      "On the 114th day, Bought 1 shares for $76.04\n",
      "On the 138th day, sold 12.459113809585325 shares for $968.0731430047798\n"
     ]
    },
    {
     "name": "stderr",
     "output_type": "stream",
     "text": [
      "[*********************100%***********************]  1 of 1 completed"
     ]
    },
    {
     "name": "stdout",
     "output_type": "stream",
     "text": [
      "XLP Final Value: 1009.1331430047799, Final Money: 1009.1331430047799, Final Shares: 0.0\n",
      "read  6038  lines of data for ticker:  XLP\n"
     ]
    },
    {
     "name": "stderr",
     "output_type": "stream",
     "text": [
      "\n",
      "[*********************100%***********************]  1 of 1 completed\n"
     ]
    },
    {
     "name": "stdout",
     "output_type": "stream",
     "text": [
      "read  251  lines of data for ticker:  XLP\n",
      "On the 176th day, Bought 6.022645145748013 shares for $500.0\n",
      "On the 181th day, sold 6.022645145748013 shares for $490.66490002409057\n",
      "XLP Final Value: 990.6649000240906, Final Money: 990.6649000240906, Final Shares: 0.0\n"
     ]
    },
    {
     "name": "stderr",
     "output_type": "stream",
     "text": [
      "[*********************100%***********************]  1 of 1 completed\n"
     ]
    },
    {
     "name": "stdout",
     "output_type": "stream",
     "text": [
      "read  6038  lines of data for ticker:  XLP\n"
     ]
    },
    {
     "name": "stderr",
     "output_type": "stream",
     "text": [
      "[*********************100%***********************]  1 of 1 completed\n"
     ]
    },
    {
     "name": "stdout",
     "output_type": "stream",
     "text": [
      "read  251  lines of data for ticker:  XLP\n",
      "On the 102th day, Bought 6.518055012384305 shares for $499.99999999999994\n",
      "On the 103th day, Bought 6.509569066527796 shares for $500.0\n",
      "On the 104th day, Bought 0 shares for $0.0\n",
      "On the 107th day, Bought 0 shares for $0.0\n",
      "On the 108th day, Bought 0 shares for $0.0\n",
      "On the 109th day, Bought 0 shares for $0.0\n",
      "On the 110th day, Bought 0 shares for $0.0\n",
      "On the 126th day, sold 13.027624078912101 shares for $1020.714346582763\n",
      "XLP Final Value: 1020.714346582763, Final Money: 1020.714346582763, Final Shares: 0.0\n"
     ]
    },
    {
     "name": "stderr",
     "output_type": "stream",
     "text": [
      "[*********************100%***********************]  1 of 1 completed\n"
     ]
    },
    {
     "name": "stdout",
     "output_type": "stream",
     "text": [
      "read  6038  lines of data for ticker:  XLV\n"
     ]
    },
    {
     "name": "stderr",
     "output_type": "stream",
     "text": [
      "[*********************100%***********************]  1 of 1 completed\n"
     ]
    },
    {
     "name": "stdout",
     "output_type": "stream",
     "text": [
      "read  251  lines of data for ticker:  XLV\n",
      "On the 46th day, Bought 3.4378437843784377 shares for $500.0\n",
      "On the 55th day, sold 3.4378437843784377 shares for $492.36798679867985\n",
      "On the 150th day, Bought 3.2324799586242565 shares for $500.0\n",
      "On the 151th day, Bought 2 shares for $309.56\n",
      "On the 202th day, sold 5.232479958624257 shares for $767.9710835272823\n"
     ]
    },
    {
     "name": "stderr",
     "output_type": "stream",
     "text": [
      "[*********************100%***********************]  1 of 1 completed"
     ]
    },
    {
     "name": "stdout",
     "output_type": "stream",
     "text": [
      "XLV Final Value: 950.779070325962, Final Money: 950.779070325962, Final Shares: 0.0\n",
      "read  6038  lines of data for ticker:  XLV\n"
     ]
    },
    {
     "name": "stderr",
     "output_type": "stream",
     "text": [
      "\n",
      "[*********************100%***********************]  1 of 1 completed\n"
     ]
    },
    {
     "name": "stdout",
     "output_type": "stream",
     "text": [
      "read  251  lines of data for ticker:  XLV\n",
      "On the 43th day, Bought 3.4298257648511457 shares for $500.0\n",
      "On the 53th day, sold 3.4298257648511457 shares for $493.9978049115105\n",
      "On the 77th day, Bought 3.5070491688293473 shares for $500.0\n",
      "On the 95th day, sold 3.5070491688293473 shares for $507.50508522129485\n"
     ]
    },
    {
     "name": "stderr",
     "output_type": "stream",
     "text": [
      "[*********************100%***********************]  1 of 1 completed"
     ]
    },
    {
     "name": "stdout",
     "output_type": "stream",
     "text": [
      "On the 200th day, Bought 3.404371212637026 shares for $500.0\n",
      "On the 211th day, sold 3.404371212637026 shares for $482.8760128004358\n",
      "XLV Final Value: 984.3789029332411, Final Money: 984.3789029332411, Final Shares: 0.0\n",
      "read  6038  lines of data for ticker:  XLV\n"
     ]
    },
    {
     "name": "stderr",
     "output_type": "stream",
     "text": [
      "\n",
      "[*********************100%***********************]  1 of 1 completed\n"
     ]
    },
    {
     "name": "stdout",
     "output_type": "stream",
     "text": [
      "read  251  lines of data for ticker:  XLV\n"
     ]
    },
    {
     "name": "stderr",
     "output_type": "stream",
     "text": [
      "[*********************100%***********************]  1 of 1 completed"
     ]
    },
    {
     "name": "stdout",
     "output_type": "stream",
     "text": [
      "XLV Final Value: 1000.0, Final Money: 1000, Final Shares: 0.0\n",
      "read  6038  lines of data for ticker:  XLV\n"
     ]
    },
    {
     "name": "stderr",
     "output_type": "stream",
     "text": [
      "\n",
      "[*********************100%***********************]  1 of 1 completed\n"
     ]
    },
    {
     "name": "stdout",
     "output_type": "stream",
     "text": [
      "read  251  lines of data for ticker:  XLV\n",
      "On the 43th day, Bought 3.4298257648511457 shares for $500.0\n",
      "On the 55th day, sold 3.4298257648511457 shares for $491.2196460419811\n",
      "On the 197th day, Bought 3.359989248034406 shares for $499.99999999999994\n",
      "On the 200th day, Bought 2 shares for $293.74\n",
      "On the 211th day, sold 5.359989248034406 shares for $760.2608749412002\n",
      "XLV Final Value: 957.7405209831813, Final Money: 957.7405209831813, Final Shares: 0.0\n"
     ]
    },
    {
     "name": "stderr",
     "output_type": "stream",
     "text": [
      "[*********************100%***********************]  1 of 1 completed\n"
     ]
    },
    {
     "name": "stdout",
     "output_type": "stream",
     "text": [
      "read  6038  lines of data for ticker:  XLY\n"
     ]
    },
    {
     "name": "stderr",
     "output_type": "stream",
     "text": [
      "[*********************100%***********************]  1 of 1 completed\n"
     ]
    },
    {
     "name": "stdout",
     "output_type": "stream",
     "text": [
      "read  251  lines of data for ticker:  XLY\n",
      "On the 30th day, Bought 2.711349709885581 shares for $500.0\n",
      "On the 58th day, sold 2.711349709885581 shares for $484.21994468846594\n",
      "On the 83th day, Bought 2.794076557697681 shares for $499.99999999999994\n",
      "On the 84th day, Bought 1 shares for $177.79\n",
      "On the 85th day, Bought 1 shares for $178.7\n",
      "On the 86th day, Bought 0 shares for $0.0\n",
      "On the 123th day, sold 4.7940765576976805 shares for $916.9630231908354\n",
      "On the 177th day, Bought 2.495383540450167 shares for $500.0\n",
      "On the 178th day, Bought 2.5055121266786933 shares for $500.00000000000006\n",
      "On the 190th day, Bought 0 shares for $0.0\n",
      "On the 191th day, Bought 0 shares for $0.0\n",
      "On the 192th day, Bought 0 shares for $0.0\n",
      "On the 207th day, sold 5.0008956671288605 shares for $1097.4965631080997\n"
     ]
    },
    {
     "name": "stderr",
     "output_type": "stream",
     "text": [
      "[*********************100%***********************]  1 of 1 completed"
     ]
    },
    {
     "name": "stdout",
     "output_type": "stream",
     "text": [
      "XLY Final Value: 1142.1895309874012, Final Money: 1142.1895309874012, Final Shares: 0.0\n",
      "read  6038  lines of data for ticker:  XLY\n"
     ]
    },
    {
     "name": "stderr",
     "output_type": "stream",
     "text": [
      "\n",
      "[*********************100%***********************]  1 of 1 completed\n"
     ]
    },
    {
     "name": "stdout",
     "output_type": "stream",
     "text": [
      "read  251  lines of data for ticker:  XLY\n",
      "On the 169th day, Bought 2.594033722438392 shares for $500.0\n",
      "On the 170th day, Bought 1 shares for $197.14\n",
      "On the 178th day, Bought 1 shares for $199.56\n",
      "On the 179th day, Bought 0 shares for $0.0\n",
      "On the 199th day, sold 4.594033722438391 shares for $918.5770428015563\n",
      "XLY Final Value: 1021.8770428015564, Final Money: 1021.8770428015564, Final Shares: 0.0\n"
     ]
    },
    {
     "name": "stderr",
     "output_type": "stream",
     "text": [
      "[*********************100%***********************]  1 of 1 completed\n"
     ]
    },
    {
     "name": "stdout",
     "output_type": "stream",
     "text": [
      "read  6038  lines of data for ticker:  XLY\n"
     ]
    },
    {
     "name": "stderr",
     "output_type": "stream",
     "text": [
      "[*********************100%***********************]  1 of 1 completed\n"
     ]
    },
    {
     "name": "stdout",
     "output_type": "stream",
     "text": [
      "read  251  lines of data for ticker:  XLY\n",
      "On the 39th day, Bought 2.7625835681529365 shares for $500.0\n",
      "On the 40th day, Bought 2.7802491103202844 shares for $499.99999999999994\n",
      "On the 41th day, Bought 0 shares for $0.0\n",
      "On the 62th day, sold 5.542832678473221 shares for $959.8523349312077\n",
      "On the 81th day, Bought 2.811041772080733 shares for $500.0\n",
      "On the 116th day, sold 2.811041772080733 shares for $527.8293135435993\n",
      "On the 186th day, Bought 2.543493743005392 shares for $500.0\n"
     ]
    },
    {
     "name": "stderr",
     "output_type": "stream",
     "text": [
      "[*********************100%***********************]  1 of 1 completed"
     ]
    },
    {
     "name": "stdout",
     "output_type": "stream",
     "text": [
      "On the 205th day, sold 2.543493743005392 shares for $539.5004578288738\n",
      "XLY Final Value: 1027.1821063036807, Final Money: 1027.1821063036807, Final Shares: 0.0\n",
      "read  6038  lines of data for ticker:  XLY\n"
     ]
    },
    {
     "name": "stderr",
     "output_type": "stream",
     "text": [
      "\n",
      "[*********************100%***********************]  1 of 1 completed\n"
     ]
    },
    {
     "name": "stdout",
     "output_type": "stream",
     "text": [
      "read  251  lines of data for ticker:  XLY\n",
      "On the 98th day, Bought 2.8028476932563486 shares for $500.0\n",
      "On the 100th day, Bought 2.8053638556920832 shares for $499.99999999999994\n",
      "On the 101th day, Bought 0 shares for $0.0\n",
      "On the 102th day, Bought 0 shares for $0.0\n",
      "On the 103th day, Bought 0 shares for $0.0\n",
      "On the 104th day, Bought 0 shares for $0.0\n",
      "On the 105th day, Bought 0 shares for $0.0\n",
      "On the 127th day, sold 5.608211548948432 shares for $1053.2782110080052\n",
      "On the 192th day, Bought 2.5257627803596687 shares for $500.00000000000006\n",
      "On the 193th day, Bought 2.5360113613308988 shares for $500.0\n",
      "On the 194th day, Bought 0 shares for $0.0\n",
      "On the 195th day, Bought 0 shares for $0.0\n",
      "XLY Final Value: 1196.6317541330707, Final Money: 53.2782110080052, Final Shares: 5.0617741416905675\n"
     ]
    },
    {
     "name": "stderr",
     "output_type": "stream",
     "text": [
      "[*********************100%***********************]  1 of 1 completed\n"
     ]
    },
    {
     "name": "stdout",
     "output_type": "stream",
     "text": [
      "read  6038  lines of data for ticker:  XLU\n"
     ]
    },
    {
     "name": "stderr",
     "output_type": "stream",
     "text": [
      "[*********************100%***********************]  1 of 1 completed\n"
     ]
    },
    {
     "name": "stdout",
     "output_type": "stream",
     "text": [
      "read  251  lines of data for ticker:  XLU\n",
      "On the 44th day, Bought 7.828401440425865 shares for $500.0\n",
      "On the 64th day, sold 7.828401440425865 shares for $504.46218882104273\n",
      "On the 86th day, Bought 6.9232899473829965 shares for $500.0\n",
      "On the 87th day, Bought 6.861534239055852 shares for $500.0\n",
      "On the 120th day, Bought 0 shares for $0.0\n",
      "On the 137th day, sold 13.784824186438849 shares for $1023.1096511174914\n"
     ]
    },
    {
     "name": "stderr",
     "output_type": "stream",
     "text": [
      "[*********************100%***********************]  1 of 1 completed"
     ]
    },
    {
     "name": "stdout",
     "output_type": "stream",
     "text": [
      "On the 233th day, Bought 6.676458806249165 shares for $500.0\n",
      "XLU Final Value: 1042.1932847242197, Final Money: 527.5718399385341, Final Shares: 6.676458806249165\n",
      "read  6038  lines of data for ticker:  XLU\n"
     ]
    },
    {
     "name": "stderr",
     "output_type": "stream",
     "text": [
      "\n",
      "[*********************100%***********************]  1 of 1 completed\n"
     ]
    },
    {
     "name": "stdout",
     "output_type": "stream",
     "text": [
      "read  251  lines of data for ticker:  XLU\n",
      "On the 35th day, Bought 7.862871520679351 shares for $500.0\n",
      "On the 125th day, sold 7.862871520679351 shares for $551.2659223148294\n",
      "On the 147th day, Bought 6.716818914562063 shares for $500.0\n",
      "On the 148th day, Bought 6.6728947017216065 shares for $500.0\n",
      "On the 149th day, Bought 0 shares for $0.0\n",
      "On the 173th day, sold 13.38971361628367 shares for $1067.9635580347856\n"
     ]
    },
    {
     "name": "stderr",
     "output_type": "stream",
     "text": [
      "[*********************100%***********************]  1 of 1 completed"
     ]
    },
    {
     "name": "stdout",
     "output_type": "stream",
     "text": [
      "XLU Final Value: 1119.229480349615, Final Money: 1119.229480349615, Final Shares: 0.0\n",
      "read  6038  lines of data for ticker:  XLU\n"
     ]
    },
    {
     "name": "stderr",
     "output_type": "stream",
     "text": [
      "\n",
      "[*********************100%***********************]  1 of 1 completed\n"
     ]
    },
    {
     "name": "stdout",
     "output_type": "stream",
     "text": [
      "read  251  lines of data for ticker:  XLU\n",
      "On the 41th day, Bought 7.87897888433659 shares for $500.0\n",
      "On the 63th day, sold 7.87897888433659 shares for $504.8849669082887\n",
      "On the 111th day, Bought 7.268498328245384 shares for $500.0\n",
      "On the 112th day, Bought 7.255840951966333 shares for $500.0\n",
      "On the 123th day, sold 14.524339280211716 shares for $1009.8773101531207\n"
     ]
    },
    {
     "name": "stderr",
     "output_type": "stream",
     "text": [
      "[*********************100%***********************]  1 of 1 completed"
     ]
    },
    {
     "name": "stdout",
     "output_type": "stream",
     "text": [
      "On the 197th day, Bought 6.172077521293667 shares for $500.0\n",
      "On the 241th day, Bought 6.605892456070816 shares for $500.0\n",
      "On the 242th day, Bought 0 shares for $0.0\n",
      "XLU Final Value: 999.6882029166636, Final Money: 14.76227706140935, Final Shares: 12.777969977364481\n"
     ]
    },
    {
     "name": "stderr",
     "output_type": "stream",
     "text": [
      "\n"
     ]
    },
    {
     "name": "stdout",
     "output_type": "stream",
     "text": [
      "read  6038  lines of data for ticker:  XLU\n"
     ]
    },
    {
     "name": "stderr",
     "output_type": "stream",
     "text": [
      "[*********************100%***********************]  1 of 1 completed\n"
     ]
    },
    {
     "name": "stdout",
     "output_type": "stream",
     "text": [
      "read  251  lines of data for ticker:  XLU\n",
      "On the 40th day, Bought 7.890168849613382 shares for $500.0\n",
      "On the 66th day, sold 7.890168849613382 shares for $520.9878491399717\n",
      "XLU Final Value: 1020.9878491399717, Final Money: 1020.9878491399717, Final Shares: 0.0\n"
     ]
    },
    {
     "name": "stderr",
     "output_type": "stream",
     "text": [
      "[*********************100%***********************]  1 of 1 completed\n"
     ]
    },
    {
     "name": "stdout",
     "output_type": "stream",
     "text": [
      "read  6038  lines of data for ticker:  XLB\n"
     ]
    },
    {
     "name": "stderr",
     "output_type": "stream",
     "text": [
      "[*********************100%***********************]  1 of 1 completed\n"
     ]
    },
    {
     "name": "stdout",
     "output_type": "stream",
     "text": [
      "read  251  lines of data for ticker:  XLB\n",
      "On the 83th day, Bought 5.433010974682169 shares for $500.0\n",
      "On the 85th day, Bought 4 shares for $368.6\n",
      "On the 87th day, Bought 1 shares for $92.28\n",
      "On the 127th day, sold 10.433010974682169 shares for $940.1186189286102\n",
      "On the 188th day, Bought 5.189952252439277 shares for $500.0\n",
      "On the 191th day, Bought 4 shares for $390.52\n",
      "On the 192th day, Bought 0 shares for $0.0\n"
     ]
    },
    {
     "name": "stderr",
     "output_type": "stream",
     "text": [
      "[*********************100%***********************]  1 of 1 completed"
     ]
    },
    {
     "name": "stdout",
     "output_type": "stream",
     "text": [
      "On the 234th day, sold 9.189952252439276 shares for $776.826663898692\n",
      "XLB Final Value: 865.5452828273022, Final Money: 865.5452828273022, Final Shares: 0.0\n",
      "read  6038  lines of data for ticker:  XLB\n"
     ]
    },
    {
     "name": "stderr",
     "output_type": "stream",
     "text": [
      "\n",
      "[*********************100%***********************]  1 of 1 completed\n"
     ]
    },
    {
     "name": "stdout",
     "output_type": "stream",
     "text": [
      "read  251  lines of data for ticker:  XLB\n",
      "On the 30th day, Bought 5.710370031978072 shares for $500.0\n",
      "On the 60th day, sold 5.710370031978072 shares for $513.4764732754683\n",
      "On the 169th day, Bought 5.357334190506804 shares for $500.0\n",
      "On the 229th day, Bought 5.555555555555555 shares for $500.0\n",
      "On the 230th day, Bought 0 shares for $0.0\n",
      "On the 232th day, Bought 0 shares for $0.0\n",
      "On the 236th day, sold 10.912889746062358 shares for $928.3595306975247\n",
      "XLB Final Value: 941.836003972993, Final Money: 941.836003972993, Final Shares: 0.0\n"
     ]
    },
    {
     "name": "stderr",
     "output_type": "stream",
     "text": [
      "[*********************100%***********************]  1 of 1 completed\n"
     ]
    },
    {
     "name": "stdout",
     "output_type": "stream",
     "text": [
      "read  6038  lines of data for ticker:  XLB\n"
     ]
    },
    {
     "name": "stderr",
     "output_type": "stream",
     "text": [
      "[*********************100%***********************]  1 of 1 completed\n"
     ]
    },
    {
     "name": "stdout",
     "output_type": "stream",
     "text": [
      "read  251  lines of data for ticker:  XLB\n",
      "On the 44th day, Bought 5.4608999563128 shares for $500.0\n",
      "On the 61th day, sold 5.4608999563128 shares for $488.69593709043244\n"
     ]
    },
    {
     "name": "stderr",
     "output_type": "stream",
     "text": [
      "[*********************100%***********************]  1 of 1 completed"
     ]
    },
    {
     "name": "stdout",
     "output_type": "stream",
     "text": [
      "On the 240th day, Bought 5.966587112171838 shares for $500.0\n",
      "XLB Final Value: 985.0563189520076, Final Money: 488.6959370904324, Final Shares: 5.966587112171838\n",
      "read  6038  lines of data for ticker:  XLB\n"
     ]
    },
    {
     "name": "stderr",
     "output_type": "stream",
     "text": [
      "\n",
      "[*********************100%***********************]  1 of 1 completed\n"
     ]
    },
    {
     "name": "stdout",
     "output_type": "stream",
     "text": [
      "read  251  lines of data for ticker:  XLB\n",
      "On the 87th day, Bought 5.418292154312961 shares for $500.0\n",
      "On the 95th day, sold 5.418292154312961 shares for $493.01040312093625\n",
      "On the 181th day, Bought 5.253756435851634 shares for $500.0\n",
      "On the 183th day, Bought 4 shares for $377.8\n",
      "On the 184th day, Bought 1 shares for $95.05\n",
      "On the 242th day, sold 10.253756435851635 shares for $853.2150730272144\n",
      "XLB Final Value: 873.3754761481506, Final Money: 873.3754761481506, Final Shares: 0.0\n"
     ]
    },
    {
     "name": "stderr",
     "output_type": "stream",
     "text": [
      "[*********************100%***********************]  1 of 1 completed\n"
     ]
    },
    {
     "name": "stdout",
     "output_type": "stream",
     "text": [
      "read  6038  lines of data for ticker:  XLE\n"
     ]
    },
    {
     "name": "stderr",
     "output_type": "stream",
     "text": [
      "[*********************100%***********************]  1 of 1 completed\n"
     ]
    },
    {
     "name": "stdout",
     "output_type": "stream",
     "text": [
      "read  251  lines of data for ticker:  XLE\n",
      "On the 37th day, Bought 5.612932195779075 shares for $500.00000000000006\n",
      "On the 46th day, Bought 4 shares for $369.6\n",
      "On the 47th day, Bought 1 shares for $93.26\n",
      "On the 61th day, sold 10.612932195779075 shares for $1010.6695330040413\n"
     ]
    },
    {
     "name": "stderr",
     "output_type": "stream",
     "text": [
      "[*********************100%***********************]  1 of 1 completed"
     ]
    },
    {
     "name": "stdout",
     "output_type": "stream",
     "text": [
      "On the 191th day, Bought 5.534646889528448 shares for $500.0\n",
      "On the 192th day, Bought 5.551237926057511 shares for $500.0\n",
      "On the 193th day, Bought 0 shares for $0.0\n",
      "On the 194th day, Bought 0 shares for $0.0\n",
      "On the 195th day, Bought 0 shares for $0.0\n",
      "On the 196th day, Bought 0 shares for $0.0\n",
      "On the 237th day, sold 11.08588481558596 shares for $938.3092907911956\n",
      "XLE Final Value: 986.1188237952368, Final Money: 986.1188237952368, Final Shares: 0.0\n"
     ]
    },
    {
     "name": "stderr",
     "output_type": "stream",
     "text": [
      "\n"
     ]
    },
    {
     "name": "stdout",
     "output_type": "stream",
     "text": [
      "read  6038  lines of data for ticker:  XLE\n"
     ]
    },
    {
     "name": "stderr",
     "output_type": "stream",
     "text": [
      "[*********************100%***********************]  1 of 1 completed\n"
     ]
    },
    {
     "name": "stdout",
     "output_type": "stream",
     "text": [
      "read  251  lines of data for ticker:  XLE\n",
      "On the 56th day, Bought 5.130309870716191 shares for $499.99999999999994\n",
      "On the 61th day, sold 5.130309870716191 shares for $488.5594089883029\n",
      "On the 172th day, Bought 5.6104129263913824 shares for $500.00000000000006\n",
      "On the 173th day, Bought 4 shares for $355.6\n",
      "On the 177th day, sold 9.610412926391383 shares for $843.7942549371634\n",
      "On the 196th day, Bought 5.569789461958338 shares for $500.0\n",
      "On the 197th day, Bought 4 shares for $356.8\n",
      "On the 198th day, Bought 1 shares for $87.84\n",
      "XLE Final Value: 956.6531481629621, Final Money: 32.113663925466284, Final Shares: 10.569789461958338\n"
     ]
    },
    {
     "name": "stderr",
     "output_type": "stream",
     "text": [
      "[*********************100%***********************]  1 of 1 completed\n"
     ]
    },
    {
     "name": "stdout",
     "output_type": "stream",
     "text": [
      "read  6038  lines of data for ticker:  XLE\n"
     ]
    },
    {
     "name": "stderr",
     "output_type": "stream",
     "text": [
      "[*********************100%***********************]  1 of 1 completed\n"
     ]
    },
    {
     "name": "stdout",
     "output_type": "stream",
     "text": [
      "read  251  lines of data for ticker:  XLE\n",
      "On the 116th day, Bought 5.4626898284715395 shares for $500.0\n",
      "On the 126th day, sold 5.4626898284715395 shares for $510.16060308095706\n",
      "On the 195th day, Bought 5.56792873051225 shares for $500.00000000000006\n"
     ]
    },
    {
     "name": "stderr",
     "output_type": "stream",
     "text": [
      "[*********************100%***********************]  1 of 1 completed"
     ]
    },
    {
     "name": "stdout",
     "output_type": "stream",
     "text": [
      "On the 205th day, sold 5.56792873051225 shares for $518.5412026726058\n",
      "XLE Final Value: 1028.701805753563, Final Money: 1028.701805753563, Final Shares: 0.0\n",
      "read  6038  lines of data for ticker:  XLE\n"
     ]
    },
    {
     "name": "stderr",
     "output_type": "stream",
     "text": [
      "\n",
      "[*********************100%***********************]  1 of 1 completed\n"
     ]
    },
    {
     "name": "stdout",
     "output_type": "stream",
     "text": [
      "read  251  lines of data for ticker:  XLE\n",
      "On the 54th day, Bought 5.152514427040395 shares for $499.99999999999994\n",
      "On the 74th day, sold 5.152514427040395 shares for $476.916735366859\n",
      "On the 116th day, Bought 5.4626898284715395 shares for $500.0\n",
      "On the 138th day, sold 5.4626898284715395 shares for $472.2495356713646\n",
      "On the 187th day, Bought 5.389673385792821 shares for $500.0\n",
      "On the 224th day, sold 5.389673385792821 shares for $499.0298587905573\n",
      "XLE Final Value: 948.1961298287808, Final Money: 948.1961298287808, Final Shares: 0.0\n"
     ]
    },
    {
     "name": "stderr",
     "output_type": "stream",
     "text": [
      "[*********************100%***********************]  1 of 1 completed\n"
     ]
    },
    {
     "name": "stdout",
     "output_type": "stream",
     "text": [
      "read  6038  lines of data for ticker:  XLF\n"
     ]
    },
    {
     "name": "stderr",
     "output_type": "stream",
     "text": [
      "[*********************100%***********************]  1 of 1 completed\n"
     ]
    },
    {
     "name": "stdout",
     "output_type": "stream",
     "text": [
      "read  251  lines of data for ticker:  XLF\n",
      "On the 84th day, Bought 11.853959222380276 shares for $500.0\n",
      "On the 126th day, sold 11.853959222380276 shares for $513.1578947368421\n"
     ]
    },
    {
     "name": "stderr",
     "output_type": "stream",
     "text": [
      "[*********************100%***********************]  1 of 1 completed"
     ]
    },
    {
     "name": "stdout",
     "output_type": "stream",
     "text": [
      "XLF Final Value: 1013.1578947368421, Final Money: 1013.1578947368421, Final Shares: 0.0\n",
      "read  6038  lines of data for ticker:  XLF\n"
     ]
    },
    {
     "name": "stderr",
     "output_type": "stream",
     "text": [
      "\n",
      "[*********************100%***********************]  1 of 1 completed\n"
     ]
    },
    {
     "name": "stdout",
     "output_type": "stream",
     "text": [
      "read  251  lines of data for ticker:  XLF\n",
      "On the 75th day, Bought 12.330456226880395 shares for $500.0\n",
      "On the 95th day, sold 12.330456226880395 shares for $510.23427866831076\n"
     ]
    },
    {
     "name": "stderr",
     "output_type": "stream",
     "text": [
      "[*********************100%***********************]  1 of 1 completed"
     ]
    },
    {
     "name": "stdout",
     "output_type": "stream",
     "text": [
      "XLF Final Value: 1010.2342786683107, Final Money: 1010.2342786683107, Final Shares: 0.0\n",
      "read  6038  lines of data for ticker:  XLF\n"
     ]
    },
    {
     "name": "stderr",
     "output_type": "stream",
     "text": [
      "\n",
      "[*********************100%***********************]  1 of 1 completed\n"
     ]
    },
    {
     "name": "stdout",
     "output_type": "stream",
     "text": [
      "read  251  lines of data for ticker:  XLF\n",
      "On the 174th day, Bought 11.163206072784103 shares for $499.99999999999994\n",
      "On the 189th day, sold 11.163206072784103 shares for $530.0290243357891\n",
      "XLF Final Value: 1030.0290243357892, Final Money: 1030.0290243357892, Final Shares: 0.0\n"
     ]
    },
    {
     "name": "stderr",
     "output_type": "stream",
     "text": [
      "[*********************100%***********************]  1 of 1 completed\n"
     ]
    },
    {
     "name": "stdout",
     "output_type": "stream",
     "text": [
      "read  6038  lines of data for ticker:  XLF\n"
     ]
    },
    {
     "name": "stderr",
     "output_type": "stream",
     "text": [
      "[*********************100%***********************]  1 of 1 completed\n"
     ]
    },
    {
     "name": "stdout",
     "output_type": "stream",
     "text": [
      "read  251  lines of data for ticker:  XLF\n",
      "On the 74th day, Bought 12.357884330202669 shares for $500.0\n",
      "On the 90th day, sold 12.357884330202669 shares for $514.2115669797331\n",
      "On the 195th day, Bought 10.604453870625663 shares for $500.0\n",
      "On the 196th day, Bought 10.72271070126528 shares for $500.0\n",
      "On the 205th day, sold 21.327164571890943 shares for $1039.6992728796836\n",
      "XLF Final Value: 1053.9108398594167, Final Money: 1053.9108398594167, Final Shares: 0.0\n"
     ]
    },
    {
     "name": "stderr",
     "output_type": "stream",
     "text": [
      "[*********************100%***********************]  1 of 1 completed\n"
     ]
    },
    {
     "name": "stdout",
     "output_type": "stream",
     "text": [
      "read  6038  lines of data for ticker:  XLI\n"
     ]
    },
    {
     "name": "stderr",
     "output_type": "stream",
     "text": [
      "[*********************100%***********************]  1 of 1 completed\n"
     ]
    },
    {
     "name": "stdout",
     "output_type": "stream",
     "text": [
      "read  251  lines of data for ticker:  XLI\n",
      "On the 30th day, Bought 4.132231404958677 shares for $499.99999999999994\n",
      "On the 33th day, Bought 4.133597883597884 shares for $500.0\n",
      "On the 55th day, sold 8.26582928855656 shares for $1038.7667666929028\n",
      "On the 82th day, Bought 3.99616368286445 shares for $500.0\n",
      "On the 83th day, Bought 3.9701445132602826 shares for $500.0\n",
      "On the 84th day, Bought 0 shares for $0.0\n",
      "On the 85th day, Bought 0 shares for $0.0\n",
      "On the 86th day, Bought 0 shares for $0.0\n",
      "On the 87th day, Bought 0 shares for $0.0\n",
      "On the 127th day, sold 7.966308196124732 shares for $994.7529044500953\n"
     ]
    },
    {
     "name": "stderr",
     "output_type": "stream",
     "text": [
      "[*********************100%***********************]  1 of 1 completed"
     ]
    },
    {
     "name": "stdout",
     "output_type": "stream",
     "text": [
      "XLI Final Value: 1033.519671142998, Final Money: 1033.519671142998, Final Shares: 0.0\n",
      "read  6038  lines of data for ticker:  XLI\n"
     ]
    },
    {
     "name": "stderr",
     "output_type": "stream",
     "text": [
      "\n",
      "[*********************100%***********************]  1 of 1 completed\n"
     ]
    },
    {
     "name": "stdout",
     "output_type": "stream",
     "text": [
      "read  251  lines of data for ticker:  XLI\n",
      "On the 80th day, Bought 3.9783577339274347 shares for $500.0\n",
      "On the 95th day, sold 3.9783577339274347 shares for $485.35964353914704\n",
      "On the 154th day, Bought 3.869370066553165 shares for $500.0\n",
      "On the 205th day, sold 3.869370066553165 shares for $543.956043956044\n",
      "XLI Final Value: 1029.315687495191, Final Money: 1029.315687495191, Final Shares: 0.0\n"
     ]
    },
    {
     "name": "stderr",
     "output_type": "stream",
     "text": [
      "[*********************100%***********************]  1 of 1 completed\n"
     ]
    },
    {
     "name": "stdout",
     "output_type": "stream",
     "text": [
      "read  6038  lines of data for ticker:  XLI\n"
     ]
    },
    {
     "name": "stderr",
     "output_type": "stream",
     "text": [
      "[*********************100%***********************]  1 of 1 completed\n"
     ]
    },
    {
     "name": "stdout",
     "output_type": "stream",
     "text": [
      "read  251  lines of data for ticker:  XLI\n",
      "On the 41th day, Bought 4.097017371353655 shares for $500.00000000000006\n",
      "On the 42th day, Bought 3 shares for $365.64\n",
      "On the 43th day, Bought 1 shares for $122.93\n",
      "On the 46th day, sold 8.097017371353655 shares for $1013.8275450671911\n",
      "On the 86th day, Bought 3.9818427968463808 shares for $500.0\n",
      "On the 93th day, sold 3.9818427968463808 shares for $485.90427649916387\n",
      "On the 177th day, Bought 3.691671588895452 shares for $500.0\n",
      "On the 193th day, Bought 3.6469730123997084 shares for $500.0\n",
      "On the 205th day, sold 7.33864460129516 shares for $1031.6666580500737\n",
      "XLI Final Value: 1042.8284796164287, Final Money: 1042.8284796164287, Final Shares: 0.0\n"
     ]
    },
    {
     "name": "stderr",
     "output_type": "stream",
     "text": [
      "[*********************100%***********************]  1 of 1 completed\n"
     ]
    },
    {
     "name": "stdout",
     "output_type": "stream",
     "text": [
      "read  6038  lines of data for ticker:  XLI\n"
     ]
    },
    {
     "name": "stderr",
     "output_type": "stream",
     "text": [
      "[*********************100%***********************]  1 of 1 completed\n"
     ]
    },
    {
     "name": "stdout",
     "output_type": "stream",
     "text": [
      "read  251  lines of data for ticker:  XLI\n",
      "On the 30th day, Bought 4.132231404958677 shares for $499.99999999999994\n",
      "On the 31th day, Bought 4.114549045424622 shares for $500.0\n",
      "On the 32th day, Bought 0 shares for $0.0\n",
      "On the 33th day, Bought 0 shares for $0.0\n",
      "On the 56th day, sold 8.246780450383298 shares for $1034.5586075005847\n",
      "On the 87th day, Bought 3.9948865452221156 shares for $500.0\n",
      "On the 93th day, sold 3.9948865452221156 shares for $487.49600511345477\n",
      "On the 197th day, Bought 3.681885125184094 shares for $500.0\n",
      "On the 206th day, sold 3.681885125184094 shares for $523.1590574374079\n",
      "XLI Final Value: 1045.2136700514475, Final Money: 1045.2136700514475, Final Shares: 0.0\n"
     ]
    },
    {
     "name": "stderr",
     "output_type": "stream",
     "text": [
      "[*********************100%***********************]  1 of 1 completed\n"
     ]
    },
    {
     "name": "stdout",
     "output_type": "stream",
     "text": [
      "read  6038  lines of data for ticker:  XLK\n"
     ]
    },
    {
     "name": "stderr",
     "output_type": "stream",
     "text": [
      "[*********************100%***********************]  1 of 1 completed\n"
     ]
    },
    {
     "name": "stdout",
     "output_type": "stream",
     "text": [
      "read  251  lines of data for ticker:  XLK\n",
      "On the 30th day, Bought 2.4156923374239057 shares for $499.99999999999994\n",
      "On the 31th day, Bought 2.3723666729929778 shares for $500.0\n",
      "On the 32th day, Bought 0 shares for $0.0\n",
      "On the 33th day, Bought 0 shares for $0.0\n",
      "On the 34th day, Bought 0 shares for $0.0\n",
      "On the 83th day, Bought 0 shares for $0.0\n",
      "On the 84th day, Bought 0 shares for $0.0\n",
      "On the 85th day, Bought 0 shares for $0.0\n",
      "On the 126th day, sold 4.788059010416884 shares for $1074.3446807573405\n",
      "On the 178th day, Bought 2.2700444928720604 shares for $500.0\n",
      "On the 205th day, sold 2.2700444928720604 shares for $538.9539634976845\n"
     ]
    },
    {
     "name": "stderr",
     "output_type": "stream",
     "text": [
      "[*********************100%***********************]  1 of 1 completed"
     ]
    },
    {
     "name": "stdout",
     "output_type": "stream",
     "text": [
      "XLK Final Value: 1113.298644255025, Final Money: 1113.298644255025, Final Shares: 0.0\n",
      "read  6038  lines of data for ticker:  XLK\n"
     ]
    },
    {
     "name": "stderr",
     "output_type": "stream",
     "text": [
      "\n",
      "[*********************100%***********************]  1 of 1 completed\n"
     ]
    },
    {
     "name": "stdout",
     "output_type": "stream",
     "text": [
      "read  251  lines of data for ticker:  XLK\n",
      "On the 30th day, Bought 0 shares for $0.0\n",
      "On the 31th day, Bought 0 shares for $0.0\n",
      "On the 32th day, Bought 0 shares for $0.0\n",
      "On the 33th day, Bought 0 shares for $0.0\n",
      "On the 34th day, Bought 0 shares for $0.0\n",
      "On the 35th day, Bought 0 shares for $0.0\n",
      "On the 83th day, Bought 0 shares for $0.0\n",
      "On the 91th day, Bought 0 shares for $0.0\n",
      "On the 117th day, Bought 0 shares for $0.0\n",
      "On the 118th day, Bought 0 shares for $0.0\n",
      "On the 119th day, Bought 0 shares for $0.0\n",
      "On the 120th day, Bought 0 shares for $0.0\n",
      "On the 196th day, Bought 0 shares for $0.0\n"
     ]
    },
    {
     "name": "stderr",
     "output_type": "stream",
     "text": [
      "[*********************100%***********************]  1 of 1 completed"
     ]
    },
    {
     "name": "stdout",
     "output_type": "stream",
     "text": [
      "On the 219th day, Bought 0 shares for $0.0\n",
      "XLK Final Value: 1000.0, Final Money: 1000.0, Final Shares: 0.0\n",
      "read  6038  lines of data for ticker:  XLK\n"
     ]
    },
    {
     "name": "stderr",
     "output_type": "stream",
     "text": [
      "\n",
      "[*********************100%***********************]  1 of 1 completed\n"
     ]
    },
    {
     "name": "stdout",
     "output_type": "stream",
     "text": [
      "read  251  lines of data for ticker:  XLK\n",
      "On the 153th day, Bought 2.2609088853719195 shares for $500.0\n",
      "On the 202th day, sold 2.2609088853719195 shares for $505.85575401311326\n"
     ]
    },
    {
     "name": "stderr",
     "output_type": "stream",
     "text": [
      "[*********************100%***********************]  1 of 1 completed"
     ]
    },
    {
     "name": "stdout",
     "output_type": "stream",
     "text": [
      "XLK Final Value: 1005.8557540131133, Final Money: 1005.8557540131133, Final Shares: 0.0\n",
      "read  6038  lines of data for ticker:  XLK\n"
     ]
    },
    {
     "name": "stderr",
     "output_type": "stream",
     "text": [
      "\n",
      "[*********************100%***********************]  1 of 1 completed\n"
     ]
    },
    {
     "name": "stdout",
     "output_type": "stream",
     "text": [
      "read  251  lines of data for ticker:  XLK\n",
      "On the 30th day, Bought 2.4156923374239057 shares for $499.99999999999994\n",
      "On the 101th day, Bought 0 shares for $0.0\n",
      "On the 126th day, sold 2.4156923374239057 shares for $542.033046671176\n",
      "On the 173th day, Bought 2.2360359554581635 shares for $499.99999999999994\n",
      "On the 174th day, Bought 2.229654403567447 shares for $500.0\n",
      "On the 201th day, sold 4.4656903590256105 shares for $999.9127282894244\n",
      "XLK Final Value: 1041.9457749606004, Final Money: 1041.9457749606004, Final Shares: 0.0\n"
     ]
    },
    {
     "name": "stderr",
     "output_type": "stream",
     "text": [
      "[*********************100%***********************]  1 of 1 completed\n"
     ]
    },
    {
     "name": "stdout",
     "output_type": "stream",
     "text": [
      "read  6038  lines of data for ticker:  XLP\n"
     ]
    },
    {
     "name": "stderr",
     "output_type": "stream",
     "text": [
      "[*********************100%***********************]  1 of 1 completed\n"
     ]
    },
    {
     "name": "stdout",
     "output_type": "stream",
     "text": [
      "read  251  lines of data for ticker:  XLP\n",
      "On the 31th day, Bought 6.715014773032501 shares for $500.0\n",
      "On the 67th day, sold 6.715014773032501 shares for $506.04351329572927\n",
      "On the 122th day, Bought 6.455777921239509 shares for $500.0\n",
      "On the 123th day, Bought 6.4935064935064934 shares for $500.0\n",
      "On the 125th day, Bought 0 shares for $0.0\n",
      "On the 136th day, sold 12.949284414746003 shares for $1017.4252764665933\n",
      "On the 201th day, Bought 6.238303181534622 shares for $500.0\n",
      "On the 202th day, Bought 6.221226825930073 shares for $500.0\n",
      "On the 203th day, Bought 0 shares for $0.0\n",
      "On the 205th day, sold 12.459530007464696 shares for $994.8934710960559\n"
     ]
    },
    {
     "name": "stderr",
     "output_type": "stream",
     "text": [
      "[*********************100%***********************]  1 of 1 completed"
     ]
    },
    {
     "name": "stdout",
     "output_type": "stream",
     "text": [
      "XLP Final Value: 1018.3622608583786, Final Money: 1018.3622608583786, Final Shares: 0.0\n",
      "read  6038  lines of data for ticker:  XLP\n"
     ]
    },
    {
     "name": "stderr",
     "output_type": "stream",
     "text": [
      "\n",
      "[*********************100%***********************]  1 of 1 completed\n"
     ]
    },
    {
     "name": "stdout",
     "output_type": "stream",
     "text": [
      "read  251  lines of data for ticker:  XLP\n",
      "On the 34th day, Bought 6.637461834594451 shares for $500.0\n",
      "On the 54th day, sold 6.637461834594451 shares for $492.5660427452542\n",
      "On the 102th day, Bought 6.518055012384305 shares for $499.99999999999994\n",
      "On the 104th day, Bought 5 shares for $384.75\n",
      "On the 110th day, Bought 1 shares for $77.41\n",
      "On the 113th day, Bought 0 shares for $0.0\n",
      "On the 139th day, sold 12.518055012384306 shares for $979.412624168948\n",
      "On the 151th day, Bought 6.126700159294204 shares for $500.0\n"
     ]
    },
    {
     "name": "stderr",
     "output_type": "stream",
     "text": [
      "[*********************100%***********************]  1 of 1 completed"
     ]
    },
    {
     "name": "stdout",
     "output_type": "stream",
     "text": [
      "On the 205th day, sold 6.126700159294204 shares for $489.21700771964214\n",
      "XLP Final Value: 999.0356746338443, Final Money: 999.0356746338443, Final Shares: 0.0\n",
      "read  6038  lines of data for ticker:  XLP\n"
     ]
    },
    {
     "name": "stderr",
     "output_type": "stream",
     "text": [
      "\n",
      "[*********************100%***********************]  1 of 1 completed\n"
     ]
    },
    {
     "name": "stdout",
     "output_type": "stream",
     "text": [
      "read  251  lines of data for ticker:  XLP\n",
      "On the 112th day, Bought 6.500260010400416 shares for $500.0\n",
      "On the 149th day, sold 6.500260010400416 shares for $527.6911076443058\n",
      "On the 175th day, Bought 6.033546518643658 shares for $500.0\n",
      "On the 176th day, Bought 6.022645145748013 shares for $500.0\n",
      "On the 177th day, Bought 0 shares for $0.0\n",
      "On the 181th day, sold 12.05619166439167 shares for $982.2179348979894\n"
     ]
    },
    {
     "name": "stderr",
     "output_type": "stream",
     "text": [
      "[*********************100%***********************]  1 of 1 completed"
     ]
    },
    {
     "name": "stdout",
     "output_type": "stream",
     "text": [
      "XLP Final Value: 1009.9090425422951, Final Money: 1009.9090425422951, Final Shares: 0.0\n",
      "read  6038  lines of data for ticker:  XLP\n"
     ]
    },
    {
     "name": "stderr",
     "output_type": "stream",
     "text": [
      "\n",
      "[*********************100%***********************]  1 of 1 completed\n"
     ]
    },
    {
     "name": "stdout",
     "output_type": "stream",
     "text": [
      "read  251  lines of data for ticker:  XLP\n",
      "On the 102th day, Bought 6.518055012384305 shares for $499.99999999999994\n",
      "On the 104th day, Bought 6.49772579597141 shares for $500.0\n",
      "On the 107th day, Bought 0 shares for $0.0\n",
      "On the 109th day, Bought 0 shares for $0.0\n",
      "On the 110th day, Bought 0 shares for $0.0\n",
      "On the 126th day, sold 13.015780808355714 shares for $1019.7864263346702\n",
      "XLP Final Value: 1019.7864263346703, Final Money: 1019.7864263346703, Final Shares: 0.0\n"
     ]
    },
    {
     "name": "stderr",
     "output_type": "stream",
     "text": [
      "[*********************100%***********************]  1 of 1 completed\n"
     ]
    },
    {
     "name": "stdout",
     "output_type": "stream",
     "text": [
      "read  6038  lines of data for ticker:  XLV\n"
     ]
    },
    {
     "name": "stderr",
     "output_type": "stream",
     "text": [
      "[*********************100%***********************]  1 of 1 completed\n"
     ]
    },
    {
     "name": "stdout",
     "output_type": "stream",
     "text": [
      "read  251  lines of data for ticker:  XLV\n",
      "On the 46th day, Bought 3.4378437843784377 shares for $500.0\n",
      "On the 55th day, sold 3.4378437843784377 shares for $492.36798679867985\n",
      "On the 82th day, Bought 3.470776065528252 shares for $500.0\n",
      "On the 83th day, Bought 2 shares for $292.4\n",
      "On the 95th day, sold 5.470776065528252 shares for $791.6760044425934\n",
      "On the 149th day, Bought 3.2379225488926306 shares for $500.0\n",
      "On the 204th day, sold 3.2379225488926306 shares for $479.342054138065\n",
      "On the 223th day, Bought 3.4073872154831673 shares for $500.0\n"
     ]
    },
    {
     "name": "stderr",
     "output_type": "stream",
     "text": [
      "[*********************100%***********************]  1 of 1 completed"
     ]
    },
    {
     "name": "stdout",
     "output_type": "stream",
     "text": [
      "XLV Final Value: 944.4765728428791, Final Money: 470.9860453793382, Final Shares: 3.4073872154831673\n",
      "read  6038  lines of data for ticker:  XLV\n"
     ]
    },
    {
     "name": "stderr",
     "output_type": "stream",
     "text": [
      "\n",
      "[*********************100%***********************]  1 of 1 completed\n"
     ]
    },
    {
     "name": "stdout",
     "output_type": "stream",
     "text": [
      "read  251  lines of data for ticker:  XLV\n",
      "On the 39th day, Bought 3.4139014065273794 shares for $500.0\n",
      "On the 53th day, sold 3.4139014065273794 shares for $491.7042195821385\n",
      "On the 77th day, Bought 3.5070491688293473 shares for $500.0\n",
      "On the 95th day, sold 3.5070491688293473 shares for $507.50508522129485\n"
     ]
    },
    {
     "name": "stderr",
     "output_type": "stream",
     "text": [
      "[*********************100%***********************]  1 of 1 completed"
     ]
    },
    {
     "name": "stdout",
     "output_type": "stream",
     "text": [
      "On the 200th day, Bought 3.404371212637026 shares for $500.0\n",
      "On the 209th day, sold 3.404371212637026 shares for $499.86382515149455\n",
      "XLV Final Value: 999.0731299549278, Final Money: 999.0731299549278, Final Shares: 0.0\n",
      "read  6038  lines of data for ticker:  XLV\n"
     ]
    },
    {
     "name": "stderr",
     "output_type": "stream",
     "text": [
      "\n",
      "[*********************100%***********************]  1 of 1 completed\n"
     ]
    },
    {
     "name": "stdout",
     "output_type": "stream",
     "text": [
      "read  251  lines of data for ticker:  XLV\n",
      "On the 41th day, Bought 3.439735828288387 shares for $500.0\n",
      "On the 53th day, sold 3.439735828288387 shares for $495.4251513483764\n"
     ]
    },
    {
     "name": "stderr",
     "output_type": "stream",
     "text": [
      "[*********************100%***********************]  1 of 1 completed"
     ]
    },
    {
     "name": "stdout",
     "output_type": "stream",
     "text": [
      "XLV Final Value: 995.4251513483764, Final Money: 995.4251513483764, Final Shares: 0.0\n",
      "read  6038  lines of data for ticker:  XLV\n"
     ]
    },
    {
     "name": "stderr",
     "output_type": "stream",
     "text": [
      "\n",
      "[*********************100%***********************]  1 of 1 completed\n"
     ]
    },
    {
     "name": "stdout",
     "output_type": "stream",
     "text": [
      "read  251  lines of data for ticker:  XLV\n",
      "On the 197th day, Bought 3.359989248034406 shares for $499.99999999999994\n",
      "On the 209th day, sold 3.359989248034406 shares for $493.3472212888919\n",
      "XLV Final Value: 993.3472212888919, Final Money: 993.3472212888919, Final Shares: 0.0\n"
     ]
    },
    {
     "name": "stderr",
     "output_type": "stream",
     "text": [
      "[*********************100%***********************]  1 of 1 completed\n"
     ]
    },
    {
     "name": "stdout",
     "output_type": "stream",
     "text": [
      "read  6038  lines of data for ticker:  XLY\n"
     ]
    },
    {
     "name": "stderr",
     "output_type": "stream",
     "text": [
      "[*********************100%***********************]  1 of 1 completed\n"
     ]
    },
    {
     "name": "stdout",
     "output_type": "stream",
     "text": [
      "read  251  lines of data for ticker:  XLY\n",
      "On the 30th day, Bought 2.711349709885581 shares for $500.0\n",
      "On the 55th day, sold 2.711349709885581 shares for $484.89778211593733\n",
      "On the 82th day, Bought 2.7982986344302665 shares for $500.00000000000006\n",
      "On the 83th day, Bought 1 shares for $178.95\n",
      "On the 84th day, Bought 1 shares for $177.79\n",
      "On the 116th day, sold 4.7982986344302665 shares for $900.9765345869712\n",
      "On the 177th day, Bought 2.495383540450167 shares for $500.0\n",
      "On the 178th day, Bought 2.5055121266786933 shares for $500.00000000000006\n",
      "On the 190th day, Bought 0 shares for $0.0\n",
      "On the 191th day, Bought 0 shares for $0.0\n",
      "On the 192th day, Bought 0 shares for $0.0\n"
     ]
    },
    {
     "name": "stderr",
     "output_type": "stream",
     "text": [
      "[*********************100%***********************]  1 of 1 completed"
     ]
    },
    {
     "name": "stdout",
     "output_type": "stream",
     "text": [
      "On the 207th day, sold 5.0008956671288605 shares for $1097.4965631080997\n",
      "On the 225th day, Bought 2.147766323024055 shares for $500.0\n",
      "On the 236th day, sold 2.147766323024055 shares for $492.2036082474226\n",
      "XLY Final Value: 1118.834488058431, Final Money: 1118.834488058431, Final Shares: 0.0\n",
      "read  6038  lines of data for ticker:  XLY\n"
     ]
    },
    {
     "name": "stderr",
     "output_type": "stream",
     "text": [
      "\n",
      "[*********************100%***********************]  1 of 1 completed\n"
     ]
    },
    {
     "name": "stdout",
     "output_type": "stream",
     "text": [
      "read  251  lines of data for ticker:  XLY\n",
      "On the 30th day, Bought 2.711349709885581 shares for $500.0\n",
      "On the 60th day, sold 2.711349709885581 shares for $480.20714711783535\n",
      "On the 84th day, Bought 2.812306653917543 shares for $500.0\n",
      "On the 85th day, Bought 1 shares for $178.7\n",
      "On the 126th day, sold 3.812306653917543 shares for $722.4321109173744\n",
      "On the 169th day, Bought 2.594033722438392 shares for $500.0\n",
      "On the 170th day, Bought 2.536268641574516 shares for $500.00000000000006\n",
      "On the 196th day, sold 5.130302364012907 shares for $1030.216017717432\n"
     ]
    },
    {
     "name": "stderr",
     "output_type": "stream",
     "text": [
      "[*********************100%***********************]  1 of 1 completed"
     ]
    },
    {
     "name": "stdout",
     "output_type": "stream",
     "text": [
      "XLY Final Value: 1054.1552757526417, Final Money: 1054.1552757526417, Final Shares: 0.0\n",
      "read  6038  lines of data for ticker:  XLY\n"
     ]
    },
    {
     "name": "stderr",
     "output_type": "stream",
     "text": [
      "\n",
      "[*********************100%***********************]  1 of 1 completed\n"
     ]
    },
    {
     "name": "stdout",
     "output_type": "stream",
     "text": [
      "read  251  lines of data for ticker:  XLY\n",
      "On the 39th day, Bought 2.7625835681529365 shares for $500.0\n",
      "On the 40th day, Bought 2.7802491103202844 shares for $499.99999999999994\n",
      "On the 41th day, Bought 0 shares for $0.0\n",
      "On the 62th day, sold 5.542832678473221 shares for $959.8523349312077\n",
      "On the 81th day, Bought 2.811041772080733 shares for $500.0\n",
      "On the 84th day, Bought 1 shares for $177.79\n",
      "On the 116th day, sold 3.811041772080733 shares for $715.5993135435992\n",
      "On the 155th day, Bought 2.7156202476645666 shares for $500.0\n",
      "On the 179th day, Bought 1 shares for $197.87\n"
     ]
    },
    {
     "name": "stderr",
     "output_type": "stream",
     "text": [
      "[*********************100%***********************]  1 of 1 completed"
     ]
    },
    {
     "name": "stdout",
     "output_type": "stream",
     "text": [
      "On the 205th day, sold 3.7156202476645666 shares for $788.1202107321312\n",
      "XLY Final Value: 1087.911859206938, Final Money: 1087.911859206938, Final Shares: 0.0\n",
      "read  6038  lines of data for ticker:  XLY\n"
     ]
    },
    {
     "name": "stderr",
     "output_type": "stream",
     "text": [
      "\n",
      "[*********************100%***********************]  1 of 1 completed\n"
     ]
    },
    {
     "name": "stdout",
     "output_type": "stream",
     "text": [
      "read  251  lines of data for ticker:  XLY\n",
      "On the 99th day, Bought 2.814364516492176 shares for $500.0\n",
      "On the 100th day, Bought 2.8053638556920832 shares for $499.99999999999994\n",
      "On the 126th day, sold 5.619728372184259 shares for $1064.938526528917\n",
      "On the 166th day, Bought 2.5976724854530344 shares for $500.00000000000006\n",
      "On the 167th day, Bought 0 shares for $0.0\n",
      "On the 205th day, sold 2.5976724854530344 shares for $550.9923108894432\n",
      "XLY Final Value: 1115.9308374183602, Final Money: 1115.9308374183602, Final Shares: 0.0\n"
     ]
    },
    {
     "name": "stderr",
     "output_type": "stream",
     "text": [
      "[*********************100%***********************]  1 of 1 completed\n"
     ]
    },
    {
     "name": "stdout",
     "output_type": "stream",
     "text": [
      "read  6038  lines of data for ticker:  XLU\n"
     ]
    },
    {
     "name": "stderr",
     "output_type": "stream",
     "text": [
      "[*********************100%***********************]  1 of 1 completed\n"
     ]
    },
    {
     "name": "stdout",
     "output_type": "stream",
     "text": [
      "read  251  lines of data for ticker:  XLU\n",
      "On the 46th day, Bought 7.829627309740056 shares for $500.0\n",
      "On the 63th day, sold 7.829627309740056 shares for $501.7225180081428\n",
      "On the 86th day, Bought 6.9232899473829965 shares for $500.0\n",
      "On the 87th day, Bought 6.861534239055852 shares for $500.0\n",
      "On the 88th day, Bought 0 shares for $0.0\n",
      "On the 137th day, sold 13.784824186438849 shares for $1023.1096511174914\n"
     ]
    },
    {
     "name": "stderr",
     "output_type": "stream",
     "text": [
      "[*********************100%***********************]  1 of 1 completed"
     ]
    },
    {
     "name": "stdout",
     "output_type": "stream",
     "text": [
      "XLU Final Value: 1024.8321691256342, Final Money: 1024.8321691256342, Final Shares: 0.0\n",
      "read  6038  lines of data for ticker:  XLU\n"
     ]
    },
    {
     "name": "stderr",
     "output_type": "stream",
     "text": [
      "\n",
      "[*********************100%***********************]  1 of 1 completed\n"
     ]
    },
    {
     "name": "stdout",
     "output_type": "stream",
     "text": [
      "read  251  lines of data for ticker:  XLU\n",
      "On the 35th day, Bought 7.862871520679351 shares for $500.0\n",
      "On the 124th day, sold 7.862871520679351 shares for $550.9514074540022\n",
      "On the 146th day, Bought 6.746727836999056 shares for $500.0\n",
      "On the 147th day, Bought 6.716818914562063 shares for $500.0\n",
      "On the 148th day, Bought 0 shares for $0.0\n",
      "On the 202th day, sold 13.463546751561118 shares for $1039.3858092205185\n"
     ]
    },
    {
     "name": "stderr",
     "output_type": "stream",
     "text": [
      "[*********************100%***********************]  1 of 1 completed"
     ]
    },
    {
     "name": "stdout",
     "output_type": "stream",
     "text": [
      "XLU Final Value: 1090.3372166745205, Final Money: 1090.3372166745205, Final Shares: 0.0\n",
      "read  6038  lines of data for ticker:  XLU\n"
     ]
    },
    {
     "name": "stderr",
     "output_type": "stream",
     "text": [
      "\n",
      "[*********************100%***********************]  1 of 1 completed\n"
     ]
    },
    {
     "name": "stdout",
     "output_type": "stream",
     "text": [
      "read  251  lines of data for ticker:  XLU\n",
      "On the 41th day, Bought 7.87897888433659 shares for $500.0\n",
      "On the 51th day, sold 7.87897888433659 shares for $514.1033722029625\n",
      "On the 56th day, Bought 7.6231132794633325 shares for $500.0\n",
      "On the 63th day, sold 7.6231132794633325 shares for $488.48909894801034\n"
     ]
    },
    {
     "name": "stderr",
     "output_type": "stream",
     "text": [
      "[*********************100%***********************]  1 of 1 completed"
     ]
    },
    {
     "name": "stdout",
     "output_type": "stream",
     "text": [
      "On the 241th day, Bought 6.605892456070816 shares for $500.0\n",
      "On the 242th day, Bought 6.555657532450505 shares for $500.0\n",
      "XLU Final Value: 1017.0847442661963, Final Money: 2.5924711509728695, Final Shares: 13.16154998852132\n",
      "read  6038  lines of data for ticker:  XLU\n"
     ]
    },
    {
     "name": "stderr",
     "output_type": "stream",
     "text": [
      "\n",
      "[*********************100%***********************]  1 of 1 completed\n"
     ]
    },
    {
     "name": "stdout",
     "output_type": "stream",
     "text": [
      "read  251  lines of data for ticker:  XLU\n",
      "On the 39th day, Bought 7.827175954915466 shares for $500.0\n",
      "On the 66th day, sold 7.827175954915466 shares for $516.8284283030682\n",
      "On the 144th day, Bought 6.741270055278414 shares for $500.0\n",
      "On the 172th day, sold 6.741270055278414 shares for $541.5262235405149\n",
      "XLU Final Value: 1058.3546518435833, Final Money: 1058.3546518435833, Final Shares: 0.0\n"
     ]
    },
    {
     "name": "stderr",
     "output_type": "stream",
     "text": [
      "[*********************100%***********************]  1 of 1 completed\n"
     ]
    },
    {
     "name": "stdout",
     "output_type": "stream",
     "text": [
      "read  1258  lines of data for ticker:  XLB\n"
     ]
    },
    {
     "name": "stderr",
     "output_type": "stream",
     "text": [
      "[*********************100%***********************]  1 of 1 completed\n"
     ]
    },
    {
     "name": "stdout",
     "output_type": "stream",
     "text": [
      "read  1007  lines of data for ticker:  XLB\n",
      "On the 94th day, Bought 8.955758552749419 shares for $500.00000000000006\n",
      "On the 96th day, Bought 7 shares for $406.91\n",
      "On the 102th day, sold 15.955758552749419 shares for $861.4514042629412\n",
      "On the 190th day, Bought 7.597629539583649 shares for $500.0\n",
      "On the 191th day, Bought 6 shares for $397.62\n",
      "On the 192th day, Bought 0 shares for $0.0\n",
      "On the 193th day, Bought 0 shares for $0.0\n",
      "On the 194th day, Bought 0 shares for $0.0\n",
      "On the 207th day, sold 13.59762953958365 shares for $945.4431818872512\n",
      "On the 369th day, Bought 6.032818532818533 shares for $500.0\n",
      "On the 410th day, Bought 5.840439201027917 shares for $499.99999999999994\n",
      "On the 411th day, Bought 0 shares for $0.0\n",
      "On the 412th day, Bought 0 shares for $0.0\n",
      "On the 416th day, Bought 0 shares for $0.0\n",
      "On the 423th day, sold 11.873257733846451 shares for $942.9741292220851\n",
      "On the 552th day, Bought 5.662514156285391 shares for $500.0\n",
      "On the 553th day, Bought 4 shares for $357.16\n",
      "On the 554th day, Bought 0 shares for $0.0\n",
      "On the 555th day, Bought 0 shares for $0.0\n",
      "On the 556th day, Bought 0 shares for $0.0\n",
      "On the 557th day, Bought 1 shares for $88.15\n",
      "On the 574th day, sold 10.66251415628539 shares for $897.5704416761042\n",
      "On the 703th day, Bought 6.688963210702341 shares for $500.0\n",
      "On the 704th day, Bought 5 shares for $370.4\n",
      "On the 720th day, Bought 0 shares for $0.0\n",
      "On the 721th day, Bought 0 shares for $0.0\n",
      "On the 722th day, Bought 0 shares for $0.0\n",
      "On the 723th day, Bought 0 shares for $0.0\n",
      "On the 724th day, Bought 0 shares for $0.0\n",
      "On the 793th day, sold 11.68896321070234 shares for $913.8431438127091\n",
      "On the 813th day, Bought 6.249218847644044 shares for $500.0\n",
      "On the 877th day, sold 6.249218847644044 shares for $519.31008623922\n",
      "On the 881th day, Bought 5.953089653530182 shares for $500.0\n",
      "On the 882th day, Bought 4 shares for $334.16\n",
      "On the 883th day, Bought 1 shares for $83.74\n",
      "On the 884th day, Bought 0 shares for $0.0\n",
      "On the 885th day, Bought 0 shares for $0.0\n",
      "On the 928th day, sold 10.953089653530181 shares for $858.3936361471604\n"
     ]
    },
    {
     "name": "stderr",
     "output_type": "stream",
     "text": [
      "[*********************100%***********************]  1 of 1 completed"
     ]
    },
    {
     "name": "stdout",
     "output_type": "stream",
     "text": [
      "On the 973th day, Bought 6.171315724512467 shares for $500.00000000000006\n",
      "On the 974th day, Bought 4 shares for $324.72\n",
      "On the 975th day, Bought 0 shares for $0.0\n",
      "XLB Final Value: 932.5508072514208, Final Money: 76.12602324747098, Final Shares: 10.171315724512468\n",
      "read  1258  lines of data for ticker:  XLB\n"
     ]
    },
    {
     "name": "stderr",
     "output_type": "stream",
     "text": [
      "\n",
      "[*********************100%***********************]  1 of 1 completed\n"
     ]
    },
    {
     "name": "stdout",
     "output_type": "stream",
     "text": [
      "read  1007  lines of data for ticker:  XLB\n",
      "On the 96th day, Bought 8.60141063134354 shares for $500.00000000000006\n",
      "On the 97th day, Bought 7 shares for $408.38\n",
      "On the 98th day, Bought 1 shares for $59.83\n",
      "On the 103th day, sold 16.60141063134354 shares for $913.7416411491484\n",
      "On the 147th day, Bought 7.983394539358135 shares for $500.0\n",
      "On the 148th day, Bought 6 shares for $377.46\n",
      "On the 149th day, Bought 1 shares for $62.65\n",
      "On the 150th day, Bought 0 shares for $0.0\n",
      "On the 151th day, Bought 0 shares for $0.0\n",
      "On the 152th day, Bought 0 shares for $0.0\n",
      "On the 161th day, sold 14.983394539358134 shares for $964.9306083346639\n",
      "On the 192th day, Bought 7.633587786259542 shares for $500.0\n",
      "On the 193th day, Bought 6 shares for $393.90000000000003\n",
      "On the 194th day, Bought 1 shares for $65.4\n",
      "On the 195th day, Bought 0 shares for $0.0\n",
      "On the 196th day, Bought 0 shares for $0.0\n",
      "On the 204th day, sold 14.633587786259543 shares for $953.6709160305345\n",
      "On the 370th day, Bought 6.12369871402327 shares for $500.0\n",
      "On the 420th day, Bought 4 shares for $335.8\n",
      "On the 424th day, sold 10.12369871402327 shares for $802.1006491120637\n",
      "On the 470th day, Bought 5.687635081333182 shares for $500.0\n",
      "On the 471th day, Bought 4 shares for $345.6\n",
      "On the 474th day, sold 9.687635081333182 shares for $811.7269434649074\n",
      "On the 550th day, Bought 5.749770009199632 shares for $499.99999999999994\n",
      "On the 551th day, Bought 4 shares for $346.24\n",
      "On the 552th day, Bought 0 shares for $0.0\n",
      "On the 576th day, sold 9.749770009199633 shares for $845.9875436982521\n",
      "On the 720th day, Bought 6.091617933723197 shares for $500.0\n",
      "On the 721th day, Bought 4 shares for $329.6\n",
      "On the 722th day, Bought 0 shares for $0.0\n",
      "On the 723th day, Bought 0 shares for $0.0\n",
      "On the 751th day, sold 10.091617933723196 shares for $816.210058479532\n",
      "On the 766th day, Bought 5.9066745422327225 shares for $500.0\n",
      "On the 788th day, Bought 4 shares for $338.4\n",
      "On the 789th day, Bought 0 shares for $0.0\n",
      "On the 793th day, sold 9.906674542232722 shares for $774.5038157117542\n",
      "On the 881th day, Bought 5.953089653530182 shares for $500.0\n",
      "On the 882th day, Bought 3 shares for $250.62\n",
      "On the 883th day, Bought 0 shares for $0.0\n",
      "On the 884th day, Bought 0 shares for $0.0\n",
      "On the 885th day, Bought 0 shares for $0.0\n",
      "On the 886th day, Bought 0 shares for $0.0\n",
      "On the 909th day, Bought 0 shares for $0.0\n",
      "On the 910th day, Bought 0 shares for $0.0\n",
      "On the 911th day, Bought 0 shares for $0.0\n",
      "On the 916th day, sold 8.953089653530181 shares for $734.9591296582926\n"
     ]
    },
    {
     "name": "stderr",
     "output_type": "stream",
     "text": [
      "[*********************100%***********************]  1 of 1 completed"
     ]
    },
    {
     "name": "stdout",
     "output_type": "stream",
     "text": [
      "On the 973th day, Bought 6.171315724512467 shares for $500.00000000000006\n",
      "On the 974th day, Bought 3 shares for $243.54000000000002\n",
      "On the 975th day, Bought 0 shares for $0.0\n",
      "On the 976th day, Bought 0 shares for $0.0\n",
      "On the 977th day, Bought 0 shares for $0.0\n",
      "XLB Final Value: 832.6360896430986, Final Money: 60.411305639148736, Final Shares: 9.171315724512468\n",
      "read  1258  lines of data for ticker:  XLB\n"
     ]
    },
    {
     "name": "stderr",
     "output_type": "stream",
     "text": [
      "\n",
      "[*********************100%***********************]  1 of 1 completed\n"
     ]
    },
    {
     "name": "stdout",
     "output_type": "stream",
     "text": [
      "read  1007  lines of data for ticker:  XLB\n",
      "On the 65th day, Bought 10.199918400652795 shares for $500.00000000000006\n",
      "On the 103th day, sold 10.199918400652795 shares for $561.4035087719299\n",
      "On the 559th day, Bought 5.611672278338945 shares for $500.0\n",
      "On the 560th day, Bought 5.656748500961648 shares for $500.00000000000006\n",
      "On the 561th day, Bought 0 shares for $0.0\n",
      "On the 574th day, sold 11.268420779300593 shares for $948.575661201524\n",
      "On the 719th day, Bought 6.229753301769249 shares for $500.0\n",
      "On the 754th day, sold 6.229753301769249 shares for $518.8138549713431\n",
      "On the 908th day, Bought 6.206554121151936 shares for $500.0\n",
      "On the 909th day, Bought 6.188118811881188 shares for $500.0\n",
      "On the 915th day, sold 12.394672933033124 shares for $1019.7097422006351\n"
     ]
    },
    {
     "name": "stderr",
     "output_type": "stream",
     "text": [
      "[*********************100%***********************]  1 of 1 completed"
     ]
    },
    {
     "name": "stdout",
     "output_type": "stream",
     "text": [
      "XLB Final Value: 1048.5027671454318, Final Money: 1048.5027671454318, Final Shares: 0.0\n",
      "read  1258  lines of data for ticker:  XLB\n"
     ]
    },
    {
     "name": "stderr",
     "output_type": "stream",
     "text": [
      "\n",
      "[*********************100%***********************]  1 of 1 completed\n"
     ]
    },
    {
     "name": "stdout",
     "output_type": "stream",
     "text": [
      "read  1007  lines of data for ticker:  XLB\n",
      "On the 67th day, Bought 10.256410256410257 shares for $500.00000000000006\n",
      "On the 73th day, Bought 8 shares for $415.04\n",
      "On the 74th day, Bought 1 shares for $50.79\n",
      "On the 95th day, Bought 0 shares for $0.0\n",
      "On the 96th day, Bought 0 shares for $0.0\n",
      "On the 98th day, Bought 0 shares for $0.0\n",
      "On the 163th day, sold 19.256410256410255 shares for $1217.5828205128205\n",
      "On the 245th day, Bought 6.820351930159596 shares for $500.0\n",
      "On the 246th day, Bought 6.552221202987813 shares for $500.0\n",
      "On the 265th day, sold 13.372573133147409 shares for $970.1801808098445\n",
      "On the 331th day, Bought 5.715592135345221 shares for $500.0\n",
      "On the 376th day, sold 5.715592135345221 shares for $470.50754458161856\n",
      "On the 413th day, Bought 5.8568583811643435 shares for $500.00000000000006\n",
      "On the 426th day, sold 5.8568583811643435 shares for $475.51833196673306\n",
      "On the 469th day, Bought 5.647165123108199 shares for $500.0\n",
      "On the 470th day, Bought 5.687635081333182 shares for $500.0\n",
      "On the 471th day, Bought 1 shares for $86.4\n",
      "On the 476th day, sold 12.334800204441382 shares for $1052.2818054408945\n",
      "On the 649th day, Bought 6.163708086785009 shares for $499.99999999999994\n",
      "On the 659th day, sold 6.163708086785009 shares for $481.8170611439842\n",
      "On the 765th day, Bought 6.036460219727152 shares for $500.0\n",
      "On the 766th day, Bought 5.9066745422327225 shares for $500.0\n",
      "On the 767th day, Bought 1 shares for $85.21\n",
      "On the 793th day, sold 12.943134761959875 shares for $1011.8942756900232\n",
      "On the 886th day, Bought 5.846585594013097 shares for $500.0\n",
      "On the 887th day, Bought 5.866478939340608 shares for $500.0\n",
      "On the 888th day, Bought 0 shares for $0.0\n",
      "On the 911th day, Bought 0 shares for $0.0\n",
      "On the 917th day, sold 11.713064533353705 shares for $957.1916336656648\n",
      "On the 971th day, Bought 6.19041723412158 shares for $500.0\n",
      "On the 972th day, Bought 5 shares for $405.6\n",
      "On the 973th day, Bought 1 shares for $81.02\n",
      "XLB Final Value: 1039.34678492462, Final Money: 12.91365381158299, Final Shares: 12.190417234121579\n"
     ]
    },
    {
     "name": "stderr",
     "output_type": "stream",
     "text": [
      "[*********************100%***********************]  1 of 1 completed\n"
     ]
    },
    {
     "name": "stdout",
     "output_type": "stream",
     "text": [
      "read  1258  lines of data for ticker:  XLE\n"
     ]
    },
    {
     "name": "stderr",
     "output_type": "stream",
     "text": [
      "[*********************100%***********************]  1 of 1 completed\n"
     ]
    },
    {
     "name": "stdout",
     "output_type": "stream",
     "text": [
      "read  1007  lines of data for ticker:  XLE\n",
      "On the 85th day, Bought 12.843565373747753 shares for $500.0\n",
      "On the 95th day, Bought 11 shares for $445.94\n",
      "On the 96th day, Bought 1 shares for $41.73\n",
      "On the 97th day, Bought 0 shares for $0.0\n",
      "On the 103th day, sold 24.84356537374775 shares for $989.2707731826355\n",
      "On the 238th day, Bought 13.048016701461378 shares for $500.0\n",
      "On the 239th day, Bought 13.11647429171039 shares for $500.0\n",
      "On the 240th day, Bought 0 shares for $0.0\n",
      "On the 241th day, Bought 0 shares for $0.0\n",
      "On the 242th day, Bought 0 shares for $0.0\n",
      "On the 243th day, Bought 0 shares for $0.0\n",
      "On the 244th day, Bought 0 shares for $0.0\n",
      "On the 280th day, sold 26.164490993171768 shares for $1290.4326957832316\n",
      "On the 309th day, Bought 10.307153164296022 shares for $500.0\n",
      "On the 310th day, Bought 10.375596596804316 shares for $499.99999999999994\n",
      "On the 311th day, Bought 6 shares for $286.86\n",
      "On the 332th day, sold 26.68274976110034 shares for $1394.707330012715\n",
      "On the 400th day, Bought 10.414496979795876 shares for $500.0\n",
      "On the 422th day, sold 10.414496979795876 shares for $513.6429910435326\n",
      "On the 700th day, Bought 5.718860802928056 shares for $499.99999999999994\n",
      "On the 701th day, Bought 5.6420672534416605 shares for $500.0\n",
      "On the 702th day, Bought 4 shares for $355.76\n",
      "On the 703th day, Bought 0 shares for $0.0\n",
      "On the 704th day, Bought 0 shares for $0.0\n",
      "On the 731th day, sold 15.360928056369715 shares for $1301.6850434967696\n",
      "On the 871th day, Bought 6.145526057030482 shares for $500.0\n",
      "On the 872th day, Bought 6.17970584600173 shares for $500.0\n",
      "On the 873th day, Bought 4 shares for $316.36\n",
      "On the 912th day, Bought 0 shares for $0.0\n",
      "On the 913th day, Bought 0 shares for $0.0\n",
      "On the 914th day, Bought 0 shares for $0.0\n",
      "On the 915th day, Bought 0 shares for $0.0\n",
      "On the 937th day, sold 16.32523190303221 shares for $1391.236262776405\n"
     ]
    },
    {
     "name": "stderr",
     "output_type": "stream",
     "text": [
      "[*********************100%***********************]  1 of 1 completed"
     ]
    },
    {
     "name": "stdout",
     "output_type": "stream",
     "text": [
      "On the 966th day, Bought 5.91016548463357 shares for $500.0\n",
      "On the 967th day, Bought 6.027727546714888 shares for $500.0\n",
      "On the 994th day, Bought 4 shares for $341.32\n",
      "On the 995th day, Bought 1 shares for $84.03\n",
      "On the 996th day, Bought 0 shares for $0.0\n",
      "On the 997th day, Bought 0 shares for $0.0\n",
      "On the 998th day, Bought 0 shares for $0.0\n",
      "XLE Final Value: 1442.0902256776824, Final Money: 8.975096295289319, Final Shares: 16.93789303134846\n",
      "read  1258  lines of data for ticker:  XLE\n"
     ]
    },
    {
     "name": "stderr",
     "output_type": "stream",
     "text": [
      "\n",
      "[*********************100%***********************]  1 of 1 completed\n"
     ]
    },
    {
     "name": "stdout",
     "output_type": "stream",
     "text": [
      "read  1007  lines of data for ticker:  XLE\n",
      "On the 95th day, Bought 12.3334977799704 shares for $500.00000000000006\n",
      "On the 96th day, Bought 10 shares for $417.29999999999995\n",
      "On the 102th day, sold 22.3334977799704 shares for $867.4330537740504\n",
      "On the 144th day, Bought 13.089005235602093 shares for $500.0\n",
      "On the 145th day, Bought 11 shares for $424.38\n",
      "On the 146th day, Bought 0 shares for $0.0\n",
      "On the 168th day, sold 24.089005235602095 shares for $786.0242408376964\n",
      "On the 305th day, Bought 9.938382031405286 shares for $499.99999999999994\n",
      "On the 306th day, Bought 6 shares for $294.65999999999997\n",
      "On the 310th day, Bought 0 shares for $0.0\n",
      "On the 311th day, Bought 0 shares for $0.0\n",
      "On the 313th day, Bought 0 shares for $0.0\n",
      "On the 314th day, Bought 0 shares for $0.0\n",
      "On the 338th day, sold 15.938382031405286 shares for $830.8678552971576\n",
      "On the 346th day, Bought 9.221689413500554 shares for $500.00000000000006\n",
      "On the 354th day, Bought 6 shares for $332.28000000000003\n",
      "On the 355th day, Bought 0 shares for $0.0\n",
      "On the 356th day, Bought 0 shares for $0.0\n",
      "On the 424th day, sold 15.221689413500554 shares for $720.7469937292512\n",
      "On the 445th day, Bought 8.548469823901522 shares for $500.00000000000006\n",
      "On the 446th day, Bought 4 shares for $229.64\n",
      "On the 470th day, sold 12.548469823901522 shares for $726.6818875021371\n",
      "On the 701th day, Bought 5.6420672534416605 shares for $500.0\n",
      "On the 702th day, Bought 2 shares for $177.88\n",
      "On the 703th day, Bought 0 shares for $0.0\n",
      "On the 748th day, sold 7.6420672534416605 shares for $644.9140555179417\n",
      "On the 755th day, Bought 5.558643690939411 shares for $500.0\n",
      "On the 756th day, Bought 2 shares for $180.28\n",
      "On the 757th day, Bought 0 shares for $0.0\n",
      "On the 799th day, sold 7.558643690939411 shares for $587.3066147859922\n",
      "On the 872th day, Bought 6.17970584600173 shares for $500.0\n",
      "On the 873th day, Bought 1 shares for $79.09\n",
      "On the 887th day, Bought 0 shares for $0.0\n",
      "On the 888th day, Bought 0 shares for $0.0\n",
      "On the 889th day, Bought 0 shares for $0.0\n",
      "On the 935th day, sold 7.17970584600173 shares for $635.6193585465331\n"
     ]
    },
    {
     "name": "stderr",
     "output_type": "stream",
     "text": [
      "[*********************100%***********************]  1 of 1 completed"
     ]
    },
    {
     "name": "stdout",
     "output_type": "stream",
     "text": [
      "On the 976th day, Bought 5.911563017261764 shares for $499.99999999999994\n",
      "On the 977th day, Bought 1 shares for $85.02\n",
      "On the 978th day, Bought 0 shares for $0.0\n",
      "On the 979th day, Bought 0 shares for $0.0\n",
      "XLE Final Value: 663.8514068812776, Final Money: 79.06405999075984, Final Shares: 6.911563017261764\n",
      "read  1258  lines of data for ticker:  XLE\n"
     ]
    },
    {
     "name": "stderr",
     "output_type": "stream",
     "text": [
      "\n",
      "[*********************100%***********************]  1 of 1 completed\n"
     ]
    },
    {
     "name": "stdout",
     "output_type": "stream",
     "text": [
      "read  1007  lines of data for ticker:  XLE\n",
      "On the 92th day, Bought 12.840267077555215 shares for $500.0\n",
      "On the 99th day, sold 12.840267077555215 shares for $601.6949152542373\n",
      "On the 242th day, Bought 13.082155939298797 shares for $500.0\n",
      "On the 243th day, Bought 13.192612137203167 shares for $500.0\n",
      "On the 269th day, sold 26.274768076501964 shares for $1152.674075516141\n",
      "On the 353th day, Bought 8.997660608241857 shares for $500.0\n",
      "On the 354th day, Bought 9.028530155290719 shares for $500.00000000000006\n",
      "On the 355th day, Bought 4 shares for $220.56\n",
      "On the 379th day, sold 22.026190763532576 shares for $1034.3499182554897\n",
      "On the 457th day, Bought 8.582217645039478 shares for $499.99999999999994\n",
      "On the 475th day, sold 8.582217645039478 shares for $476.99965671129416\n",
      "On the 495th day, Bought 9.00900900900901 shares for $500.0\n",
      "On the 498th day, sold 9.00900900900901 shares for $533.2432432432432\n",
      "On the 545th day, Bought 6.961849067112226 shares for $500.0\n",
      "On the 556th day, Bought 6.452445476835721 shares for $500.0\n",
      "On the 561th day, Bought 1 shares for $76.4\n",
      "On the 574th day, sold 14.414294543947946 shares for $1063.4866514524795\n"
     ]
    },
    {
     "name": "stderr",
     "output_type": "stream",
     "text": [
      "[*********************100%***********************]  1 of 1 completed"
     ]
    },
    {
     "name": "stdout",
     "output_type": "stream",
     "text": [
      "On the 975th day, Bought 5.950964056177101 shares for $500.0\n",
      "XLE Final Value: 1068.9995292260292, Final Money: 565.4884604328847, Final Shares: 5.950964056177101\n",
      "read  1258  lines of data for ticker:  XLE\n"
     ]
    },
    {
     "name": "stderr",
     "output_type": "stream",
     "text": [
      "\n",
      "[*********************100%***********************]  1 of 1 completed\n"
     ]
    },
    {
     "name": "stdout",
     "output_type": "stream",
     "text": [
      "read  1007  lines of data for ticker:  XLE\n",
      "On the 62th day, Bought 15.595757953836555 shares for $500.0\n",
      "On the 102th day, sold 15.595757953836555 shares for $605.7392389270119\n",
      "On the 268th day, Bought 11.276499774470004 shares for $500.0\n",
      "On the 279th day, Bought 9.942334460131239 shares for $500.0\n",
      "On the 282th day, sold 21.218834234601243 shares for $1048.2104111893013\n",
      "On the 416th day, Bought 10.458063166701526 shares for $500.0\n",
      "On the 417th day, Bought 10.462439840970914 shares for $500.0\n",
      "On the 418th day, Bought 3 shares for $147.48\n",
      "On the 427th day, sold 23.92050300767244 shares for $1217.553603090527\n",
      "On the 651th day, Bought 6.513809275664408 shares for $500.0\n",
      "On the 652th day, Bought 6.459948320413436 shares for $500.0\n",
      "On the 653th day, Bought 2 shares for $158.96\n",
      "On the 673th day, sold 14.973757596077844 shares for $1174.5415458363461\n",
      "On the 758th day, Bought 5.580980020091528 shares for $500.0\n",
      "On the 759th day, Bought 5.526083112290008 shares for $499.99999999999994\n",
      "On the 800th day, sold 11.107063132381537 shares for $892.8968052121518\n",
      "On the 973th day, Bought 5.908070424199456 shares for $499.99999999999994\n",
      "On the 974th day, Bought 5.9066745422327225 shares for $500.0\n",
      "On the 975th day, Bought 1 shares for $84.02\n",
      "On the 987th day, sold 12.81474496643218 shares for $1080.2830006702327\n",
      "XLE Final Value: 1128.764604925571, Final Money: 1128.764604925571, Final Shares: 0.0\n"
     ]
    },
    {
     "name": "stderr",
     "output_type": "stream",
     "text": [
      "[*********************100%***********************]  1 of 1 completed\n"
     ]
    },
    {
     "name": "stdout",
     "output_type": "stream",
     "text": [
      "read  1258  lines of data for ticker:  XLF\n"
     ]
    },
    {
     "name": "stderr",
     "output_type": "stream",
     "text": [
      "[*********************100%***********************]  1 of 1 completed\n"
     ]
    },
    {
     "name": "stdout",
     "output_type": "stream",
     "text": [
      "read  1007  lines of data for ticker:  XLF\n",
      "On the 191th day, Bought 20.008003201280513 shares for $500.0\n",
      "On the 193th day, Bought 19 shares for $471.39\n",
      "On the 207th day, sold 39.008003201280516 shares for $1053.6061664665867\n",
      "On the 308th day, Bought 14.351320321469574 shares for $500.0\n",
      "On the 309th day, Bought 14.347202295552366 shares for $500.0\n",
      "On the 310th day, Bought 2 shares for $70.3\n",
      "On the 311th day, Bought 0 shares for $0.0\n",
      "On the 312th day, Bought 0 shares for $0.0\n",
      "On the 313th day, Bought 0 shares for $0.0\n",
      "On the 334th day, sold 30.69852261702194 shares for $1144.747908388748\n",
      "On the 417th day, Bought 13.304949441192123 shares for $500.0\n",
      "On the 418th day, Bought 13.154433043935807 shares for $500.0\n",
      "On the 423th day, sold 26.459382485127932 shares for $967.0904298314258\n",
      "On the 450th day, Bought 12.521913348359629 shares for $500.0\n",
      "On the 451th day, Bought 12.370113805047007 shares for $500.00000000000006\n",
      "On the 472th day, sold 24.892027153406637 shares for $968.0509359959841\n",
      "On the 603th day, Bought 14.188422247446082 shares for $499.99999999999994\n",
      "On the 604th day, Bought 14.44251877527441 shares for $500.00000000000006\n",
      "On the 647th day, Bought 2 shares for $69.2\n",
      "On the 666th day, sold 30.630941022720492 shares for $1024.9112866202277\n",
      "On the 703th day, Bought 14.624159110851126 shares for $499.99999999999994\n",
      "On the 704th day, Bought 14.714537963507947 shares for $500.0\n",
      "On the 705th day, Bought 1 shares for $34.07\n",
      "On the 706th day, Bought 0 shares for $0.0\n",
      "On the 707th day, Bought 0 shares for $0.0\n",
      "On the 708th day, Bought 0 shares for $0.0\n",
      "On the 722th day, Bought 0 shares for $0.0\n",
      "On the 723th day, Bought 0 shares for $0.0\n",
      "On the 793th day, sold 30.338697074359075 shares for $999.0532946586443\n",
      "On the 869th day, Bought 14.961101137043686 shares for $500.0\n",
      "On the 870th day, Bought 14.832393948383269 shares for $500.0\n",
      "On the 871th day, Bought 0 shares for $0.0\n",
      "On the 872th day, Bought 0 shares for $0.0\n",
      "On the 898th day, sold 29.793495085426954 shares for $1038.3033037271293\n",
      "On the 963th day, Bought 14.744913005013272 shares for $500.0\n",
      "On the 964th day, Bought 14.766686355581808 shares for $500.0\n",
      "On the 965th day, Bought 1 shares for $34.5\n",
      "On the 966th day, Bought 0 shares for $0.0\n",
      "On the 967th day, Bought 0 shares for $0.0\n",
      "On the 968th day, Bought 0 shares for $0.0\n",
      "On the 969th day, Bought 0 shares for $0.0\n",
      "On the 971th day, Bought 0 shares for $0.0\n",
      "On the 972th day, Bought 0 shares for $0.0\n",
      "On the 973th day, Bought 0 shares for $0.0\n",
      "On the 974th day, Bought 0 shares for $0.0\n",
      "On the 975th day, Bought 0 shares for $0.0\n"
     ]
    },
    {
     "name": "stderr",
     "output_type": "stream",
     "text": [
      "[*********************100%***********************]  1 of 1 completed"
     ]
    },
    {
     "name": "stdout",
     "output_type": "stream",
     "text": [
      "XLF Final Value: 1163.2343456535152, Final Money: 16.3033256887461, Final Shares: 30.511599360595078\n",
      "read  1258  lines of data for ticker:  XLF\n"
     ]
    },
    {
     "name": "stderr",
     "output_type": "stream",
     "text": [
      "\n",
      "[*********************100%***********************]  1 of 1 completed\n"
     ]
    },
    {
     "name": "stdout",
     "output_type": "stream",
     "text": [
      "read  1007  lines of data for ticker:  XLF\n",
      "On the 186th day, Bought 19.817677368212443 shares for $499.99999999999994\n",
      "On the 188th day, Bought 19.984012789768187 shares for $500.0\n",
      "On the 200th day, sold 39.80169015798063 shares for $946.8822088583591\n",
      "On the 350th day, Bought 13.082155939298797 shares for $500.0\n",
      "On the 351th day, Bought 11 shares for $419.32\n",
      "On the 352th day, Bought 0 shares for $0.0\n",
      "On the 359th day, sold 24.082155939298797 shares for $848.4143537414966\n",
      "On the 418th day, Bought 13.154433043935807 shares for $500.0\n",
      "On the 419th day, Bought 10 shares for $375.0\n",
      "On the 423th day, sold 23.154433043935807 shares for $846.2945277558537\n",
      "On the 465th day, Bought 12.610340479192939 shares for $500.0\n",
      "On the 472th day, sold 12.610340479192939 shares for $490.41614123581337\n",
      "On the 624th day, Bought 15.586034912718205 shares for $500.0\n",
      "On the 625th day, Bought 10 shares for $318.2\n",
      "On the 626th day, Bought 0 shares for $0.0\n",
      "On the 672th day, sold 25.586034912718205 shares for $853.5501246882793\n",
      "On the 722th day, Bought 13.846579894765993 shares for $500.0\n",
      "On the 723th day, Bought 10 shares for $354.90000000000003\n",
      "On the 767th day, Bought 0 shares for $0.0\n",
      "On the 768th day, Bought 0 shares for $0.0\n",
      "On the 769th day, Bought 0 shares for $0.0\n",
      "On the 770th day, Bought 0 shares for $0.0\n",
      "On the 771th day, Bought 0 shares for $0.0\n",
      "On the 792th day, sold 23.846579894765995 shares for $799.8142896704514\n",
      "On the 924th day, Bought 14.38021282714984 shares for $500.0\n",
      "On the 925th day, Bought 9 shares for $312.57\n",
      "On the 926th day, Bought 0 shares for $0.0\n",
      "On the 933th day, sold 23.38021282714984 shares for $775.5216594765602\n",
      "On the 973th day, Bought 14.180374361883155 shares for $500.0\n",
      "On the 974th day, Bought 7 shares for $246.75\n",
      "On the 975th day, Bought 0 shares for $0.0\n",
      "XLF Final Value: 830.3235776900017, Final Money: 34.15330542681386, Final Shares: 21.180374361883153\n"
     ]
    },
    {
     "name": "stderr",
     "output_type": "stream",
     "text": [
      "[*********************100%***********************]  1 of 1 completed\n"
     ]
    },
    {
     "name": "stdout",
     "output_type": "stream",
     "text": [
      "read  1258  lines of data for ticker:  XLF\n"
     ]
    },
    {
     "name": "stderr",
     "output_type": "stream",
     "text": [
      "[*********************100%***********************]  1 of 1 completed\n"
     ]
    },
    {
     "name": "stdout",
     "output_type": "stream",
     "text": [
      "read  1007  lines of data for ticker:  XLF\n",
      "On the 69th day, Bought 22.999080036798528 shares for $499.99999999999994\n",
      "On the 92th day, sold 22.999080036798528 shares for $544.6182152713891\n",
      "On the 351th day, Bought 13.11647429171039 shares for $500.0\n",
      "On the 359th day, sold 13.11647429171039 shares for $462.09338929695696\n",
      "On the 463th day, Bought 12.453300124533001 shares for $500.0\n",
      "On the 474th day, sold 12.453300124533001 shares for $467.49688667496883\n",
      "On the 603th day, Bought 14.188422247446082 shares for $499.99999999999994\n",
      "On the 607th day, sold 14.188422247446082 shares for $447.78660612939836\n",
      "On the 719th day, Bought 14.092446448703496 shares for $500.0\n",
      "On the 787th day, Bought 11 shares for $389.73\n",
      "On the 793th day, sold 25.092446448703498 shares for $826.2942615558062\n"
     ]
    },
    {
     "name": "stderr",
     "output_type": "stream",
     "text": [
      "[*********************100%***********************]  1 of 1 completed"
     ]
    },
    {
     "name": "stdout",
     "output_type": "stream",
     "text": [
      "XLF Final Value: 858.5593589285196, Final Money: 858.5593589285196, Final Shares: 0.0\n",
      "read  1258  lines of data for ticker:  XLF\n"
     ]
    },
    {
     "name": "stderr",
     "output_type": "stream",
     "text": [
      "\n",
      "[*********************100%***********************]  1 of 1 completed\n"
     ]
    },
    {
     "name": "stdout",
     "output_type": "stream",
     "text": [
      "read  1007  lines of data for ticker:  XLF\n",
      "On the 68th day, Bought 23.33177788147457 shares for $500.0\n",
      "On the 69th day, Bought 22.999080036798528 shares for $499.99999999999994\n",
      "On the 70th day, Bought 0 shares for $0.0\n",
      "On the 71th day, Bought 0 shares for $0.0\n",
      "On the 72th day, Bought 0 shares for $0.0\n",
      "On the 73th day, Bought 0 shares for $0.0\n",
      "On the 74th day, Bought 0 shares for $0.0\n",
      "On the 101th day, Bought 0 shares for $0.0\n",
      "On the 103th day, sold 46.3308579182731 shares for $1104.0643441924478\n",
      "On the 112th day, Bought 21.1954217888936 shares for $500.00000000000006\n",
      "On the 113th day, Bought 22.143489813994687 shares for $500.0\n",
      "On the 162th day, sold 43.33891160288829 shares for $1096.0410744370447\n",
      "On the 230th day, Bought 17.568517217146873 shares for $500.0\n",
      "On the 231th day, Bought 17.774617845716318 shares for $500.0\n",
      "On the 232th day, Bought 6 shares for $171.66\n",
      "On the 264th day, sold 41.34313506286319 shares for $1241.9477772884102\n",
      "On the 310th day, Bought 14.22475106685633 shares for $499.99999999999994\n",
      "On the 311th day, Bought 14.164305949008499 shares for $500.0\n",
      "On the 312th day, Bought 7 shares for $244.79\n",
      "On the 336th day, sold 35.38905701586483 shares for $1343.0147137520703\n",
      "On the 390th day, Bought 13.535462912831619 shares for $500.0\n",
      "On the 423th day, sold 13.535462912831619 shares for $494.72116946399564\n",
      "On the 766th day, Bought 13.676148796498905 shares for $500.0\n",
      "On the 768th day, Bought 13.63884342607747 shares for $500.0\n",
      "On the 771th day, Bought 9 shares for $333.0\n",
      "On the 793th day, sold 36.31499222257638 shares for $1195.8526938894402\n",
      "XLF Final Value: 1226.1917730234088, Final Money: 1226.1917730234088, Final Shares: 0.0\n"
     ]
    },
    {
     "name": "stderr",
     "output_type": "stream",
     "text": [
      "[*********************100%***********************]  1 of 1 completed\n"
     ]
    },
    {
     "name": "stdout",
     "output_type": "stream",
     "text": [
      "read  1258  lines of data for ticker:  XLI\n"
     ]
    },
    {
     "name": "stderr",
     "output_type": "stream",
     "text": [
      "[*********************100%***********************]  1 of 1 completed\n"
     ]
    },
    {
     "name": "stdout",
     "output_type": "stream",
     "text": [
      "read  1007  lines of data for ticker:  XLI\n",
      "On the 191th day, Bought 6.127450980392157 shares for $500.0\n",
      "On the 209th day, sold 6.127450980392157 shares for $520.0367647058824\n",
      "On the 309th day, Bought 5.023106288929074 shares for $500.00000000000006\n",
      "On the 310th day, Bought 4.974629390110437 shares for $500.0\n",
      "On the 311th day, Bought 0 shares for $0.0\n",
      "On the 312th day, Bought 0 shares for $0.0\n",
      "On the 313th day, Bought 0 shares for $0.0\n",
      "On the 314th day, Bought 0 shares for $0.0\n",
      "On the 315th day, Bought 0 shares for $0.0\n",
      "On the 335th day, sold 9.997735679039511 shares for $1047.062857665808\n",
      "On the 410th day, Bought 4.78423117405033 shares for $500.0\n",
      "On the 411th day, Bought 4.802612621265968 shares for $499.99999999999994\n",
      "On the 412th day, Bought 0 shares for $0.0\n",
      "On the 413th day, Bought 0 shares for $0.0\n",
      "On the 414th day, Bought 0 shares for $0.0\n",
      "On the 423th day, sold 9.586843795316298 shares for $947.7553776049692\n",
      "On the 449th day, Bought 4.789730817128078 shares for $500.00000000000006\n",
      "On the 450th day, Bought 4.846370068818455 shares for $500.00000000000006\n",
      "On the 451th day, Bought 0 shares for $0.0\n",
      "On the 452th day, Bought 0 shares for $0.0\n",
      "On the 453th day, Bought 0 shares for $0.0\n",
      "On the 454th day, Bought 0 shares for $0.0\n",
      "On the 474th day, sold 9.636100885946533 shares for $957.539345036507\n",
      "On the 551th day, Bought 4.887585532746823 shares for $500.0\n",
      "On the 552th day, Bought 3 shares for $309.24\n",
      "On the 553th day, Bought 1 shares for $103.72\n",
      "On the 554th day, Bought 0 shares for $0.0\n",
      "On the 555th day, Bought 0 shares for $0.0\n",
      "On the 556th day, Bought 0 shares for $0.0\n",
      "On the 557th day, Bought 0 shares for $0.0\n",
      "On the 558th day, Bought 0 shares for $0.0\n",
      "On the 576th day, sold 8.887585532746822 shares for $868.5837341153469\n",
      "On the 702th day, Bought 5.407159078620093 shares for $499.99999999999994\n",
      "On the 703th day, Bought 4 shares for $378.48\n",
      "On the 704th day, Bought 0 shares for $0.0\n",
      "On the 705th day, Bought 0 shares for $0.0\n",
      "On the 706th day, Bought 0 shares for $0.0\n",
      "On the 720th day, Bought 0 shares for $0.0\n",
      "On the 721th day, Bought 0 shares for $0.0\n",
      "On the 722th day, Bought 0 shares for $0.0\n",
      "On the 723th day, Bought 0 shares for $0.0\n",
      "On the 724th day, Bought 0 shares for $0.0\n",
      "On the 775th day, Bought 0 shares for $0.0\n",
      "On the 776th day, Bought 0 shares for $0.0\n",
      "On the 777th day, Bought 0 shares for $0.0\n",
      "On the 778th day, Bought 0 shares for $0.0\n",
      "On the 795th day, sold 9.407159078620094 shares for $935.8241851411269\n",
      "On the 860th day, Bought 4.7339519030486645 shares for $499.99999999999994\n",
      "On the 861th day, Bought 3 shares for $316.35\n",
      "On the 862th day, Bought 1 shares for $104.25\n",
      "On the 863th day, Bought 0 shares for $0.0\n",
      "On the 868th day, Bought 0 shares for $0.0\n",
      "On the 869th day, Bought 0 shares for $0.0\n",
      "On the 870th day, Bought 0 shares for $0.0\n",
      "On the 871th day, Bought 0 shares for $0.0\n",
      "On the 872th day, Bought 0 shares for $0.0\n",
      "On the 873th day, Bought 0 shares for $0.0\n",
      "On the 874th day, Bought 0 shares for $0.0\n",
      "On the 875th day, Bought 0 shares for $0.0\n",
      "On the 885th day, Bought 0 shares for $0.0\n",
      "On the 886th day, Bought 0 shares for $0.0\n",
      "On the 887th day, Bought 0 shares for $0.0\n",
      "On the 910th day, sold 8.733951903048665 shares for $938.113773906457\n",
      "On the 965th day, Bought 4.775549188156638 shares for $500.0\n",
      "On the 966th day, Bought 4.765535646206634 shares for $500.00000000000006\n",
      "On the 967th day, Bought 0 shares for $0.0\n"
     ]
    },
    {
     "name": "stderr",
     "output_type": "stream",
     "text": [
      "[*********************100%***********************]  1 of 1 completed"
     ]
    },
    {
     "name": "stdout",
     "output_type": "stream",
     "text": [
      "On the 973th day, Bought 0 shares for $0.0\n",
      "On the 974th day, Bought 0 shares for $0.0\n",
      "On the 975th day, Bought 0 shares for $0.0\n",
      "XLI Final Value: 1064.7987802407297, Final Money: 2.876038176097552, Final Shares: 9.541084834363271\n",
      "read  1258  lines of data for ticker:  XLI\n"
     ]
    },
    {
     "name": "stderr",
     "output_type": "stream",
     "text": [
      "\n",
      "[*********************100%***********************]  1 of 1 completed\n"
     ]
    },
    {
     "name": "stdout",
     "output_type": "stream",
     "text": [
      "read  1007  lines of data for ticker:  XLI\n",
      "On the 111th day, Bought 7.501875468867216 shares for $500.0\n",
      "On the 162th day, sold 7.501875468867216 shares for $583.9459864966242\n",
      "On the 244th day, Bought 5.786367318597385 shares for $500.00000000000006\n",
      "On the 247th day, sold 5.786367318597385 shares for $519.7893762296031\n",
      "On the 449th day, Bought 4.789730817128078 shares for $500.00000000000006\n",
      "On the 474th day, sold 4.789730817128078 shares for $475.9555512980171\n",
      "On the 551th day, Bought 4.887585532746823 shares for $500.0\n",
      "On the 555th day, Bought 4.775093114315729 shares for $500.0\n",
      "On the 575th day, sold 9.662678647062553 shares for $933.8012644521251\n",
      "On the 625th day, Bought 5.726065048098947 shares for $500.00000000000006\n",
      "On the 660th day, sold 5.726065048098947 shares for $544.491525423729\n",
      "On the 720th day, Bought 4.973639709539441 shares for $500.0\n",
      "On the 721th day, Bought 4.954910316123279 shares for $500.0\n",
      "On the 723th day, Bought 0 shares for $0.0\n",
      "On the 767th day, Bought 0 shares for $0.0\n",
      "On the 798th day, sold 9.92855002566272 shares for $959.7929309808151\n",
      "On the 810th day, Bought 5.045917852457362 shares for $500.0\n",
      "On the 819th day, Bought 4.945598417408506 shares for $499.99999999999994\n",
      "On the 852th day, sold 9.991516269865869 shares for $1001.5495908913547\n",
      "On the 887th day, Bought 4.527755139002083 shares for $500.0\n",
      "On the 940th day, sold 4.527755139002083 shares for $466.2682242144345\n",
      "On the 962th day, Bought 4.946087644673064 shares for $500.00000000000006\n",
      "On the 965th day, Bought 3 shares for $314.1\n"
     ]
    },
    {
     "name": "stderr",
     "output_type": "stream",
     "text": [
      "[*********************100%***********************]  1 of 1 completed"
     ]
    },
    {
     "name": "stdout",
     "output_type": "stream",
     "text": [
      "On the 973th day, Bought 1 shares for $105.74\n",
      "On the 974th day, Bought 0 shares for $0.0\n",
      "On the 975th day, Bought 0 shares for $0.0\n",
      "On the 976th day, Bought 0 shares for $0.0\n",
      "On the 991th day, sold 8.946087644673064 shares for $1007.2400079137403\n",
      "XLI Final Value: 1072.9944579004427, Final Money: 1072.9944579004427, Final Shares: 0.0\n",
      "read  1258  lines of data for ticker:  XLI\n"
     ]
    },
    {
     "name": "stderr",
     "output_type": "stream",
     "text": [
      "\n",
      "[*********************100%***********************]  1 of 1 completed\n"
     ]
    },
    {
     "name": "stdout",
     "output_type": "stream",
     "text": [
      "read  1007  lines of data for ticker:  XLI\n",
      "On the 110th day, Bought 7.241129616220131 shares for $500.0\n",
      "On the 201th day, sold 7.241129616220131 shares for $549.3845039826214\n",
      "On the 231th day, Bought 5.70645971239443 shares for $500.0\n",
      "On the 232th day, Bought 5.628095452498874 shares for $500.0\n",
      "On the 233th day, Bought 0 shares for $0.0\n",
      "On the 234th day, Bought 0 shares for $0.0\n",
      "On the 261th day, sold 11.334555164893304 shares for $982.0258594863559\n",
      "On the 285th day, Bought 5.4776511831726555 shares for $500.0\n",
      "On the 317th day, Bought 5.019576347756249 shares for $500.0\n",
      "On the 358th day, Bought 0 shares for $0.0\n",
      "On the 360th day, sold 10.497227530928905 shares for $1065.2586498386654\n",
      "On the 367th day, Bought 4.8828125 shares for $500.0\n",
      "On the 379th day, Bought 5.0110242533573865 shares for $500.00000000000006\n",
      "On the 414th day, Bought 0 shares for $0.0\n",
      "On the 431th day, Bought 0 shares for $0.0\n",
      "On the 471th day, Bought 0 shares for $0.0\n",
      "On the 474th day, sold 9.893836753357387 shares for $983.1505581811236\n",
      "On the 484th day, Bought 4.799846404915042 shares for $500.0\n",
      "On the 497th day, Bought 4.670714619336759 shares for $500.00000000000006\n",
      "On the 532th day, sold 9.4705610242518 shares for $916.9397183680593\n",
      "On the 631th day, Bought 5.592841163310962 shares for $500.00000000000006\n",
      "On the 674th day, sold 5.592841163310962 shares for $503.29977628635345\n",
      "On the 710th day, Bought 5.158361704322707 shares for $500.0\n",
      "On the 719th day, Bought 5.012028869286286 shares for $499.99999999999994\n",
      "On the 731th day, Bought 0 shares for $0.0\n",
      "On the 732th day, Bought 0 shares for $0.0\n",
      "On the 733th day, Bought 0 shares for $0.0\n",
      "On the 734th day, Bought 0 shares for $0.0\n",
      "On the 735th day, Bought 0 shares for $0.0\n",
      "On the 767th day, Bought 0 shares for $0.0\n",
      "On the 793th day, Bought 0 shares for $0.0\n",
      "On the 795th day, sold 10.170390573608994 shares for $1011.7504542626228\n",
      "On the 851th day, Bought 4.953437685753913 shares for $500.0\n",
      "On the 852th day, sold 4.953437685753913 shares for $496.53259361997226\n",
      "On the 909th day, Bought 4.693073024216257 shares for $500.0\n",
      "On the 923th day, Bought 4.761904761904762 shares for $500.0\n",
      "On the 929th day, sold 9.454977786121018 shares for $967.2442275201802\n",
      "On the 934th day, Bought 4.9805757545572265 shares for $499.99999999999994\n"
     ]
    },
    {
     "name": "stderr",
     "output_type": "stream",
     "text": [
      "[*********************100%***********************]  1 of 1 completed"
     ]
    },
    {
     "name": "stdout",
     "output_type": "stream",
     "text": [
      "On the 942th day, sold 4.9805757545572265 shares for $511.30590696284486\n",
      "On the 946th day, Bought 4.967216371945162 shares for $500.0\n",
      "On the 950th day, sold 4.967216371945162 shares for $491.65507649513216\n",
      "On the 998th day, Bought 4.49802087081684 shares for $499.99999999999994\n",
      "XLI Final Value: 979.1770479258457, Final Money: 478.54732500393135, Final Shares: 4.49802087081684\n"
     ]
    },
    {
     "name": "stderr",
     "output_type": "stream",
     "text": [
      "\n"
     ]
    },
    {
     "name": "stdout",
     "output_type": "stream",
     "text": [
      "read  1258  lines of data for ticker:  XLI\n"
     ]
    },
    {
     "name": "stderr",
     "output_type": "stream",
     "text": [
      "[*********************100%***********************]  1 of 1 completed\n"
     ]
    },
    {
     "name": "stdout",
     "output_type": "stream",
     "text": [
      "read  1007  lines of data for ticker:  XLI\n",
      "On the 90th day, Bought 7.51653638003608 shares for $500.00000000000006\n",
      "On the 103th day, sold 7.51653638003608 shares for $517.288033674083\n",
      "On the 111th day, Bought 7.501875468867216 shares for $500.0\n",
      "On the 164th day, sold 7.501875468867216 shares for $581.8454613653413\n",
      "On the 191th day, Bought 6.127450980392157 shares for $500.0\n",
      "On the 192th day, Bought 6.204243702692642 shares for $500.0\n",
      "On the 200th day, sold 12.331694683084798 shares for $936.7155281271212\n",
      "On the 389th day, Bought 4.870920603994155 shares for $500.00000000000006\n",
      "On the 390th day, Bought 4.8081546302529095 shares for $500.00000000000006\n",
      "On the 407th day, sold 9.679075234247065 shares for $1008.5596394085443\n",
      "On the 416th day, Bought 4.881859011911736 shares for $500.0\n",
      "On the 417th day, Bought 4.903883876029816 shares for $500.00000000000006\n",
      "On the 418th day, Bought 0 shares for $0.0\n",
      "On the 427th day, sold 9.785742887941552 shares for $986.8921702489055\n",
      "On the 460th day, Bought 4.694835680751174 shares for $500.0\n",
      "On the 474th day, sold 4.694835680751174 shares for $466.52582159624416\n",
      "On the 510th day, Bought 4.912556494399685 shares for $499.99999999999994\n",
      "On the 511th day, Bought 3 shares for $302.34000000000003\n",
      "On the 512th day, Bought 1 shares for $99.9\n",
      "On the 513th day, Bought 0 shares for $0.0\n",
      "On the 514th day, Bought 0 shares for $0.0\n",
      "On the 575th day, sold 8.912556494399684 shares for $861.3094596187855\n",
      "On the 631th day, Bought 5.592841163310962 shares for $500.00000000000006\n",
      "On the 660th day, sold 5.592841163310962 shares for $531.8232662192394\n",
      "On the 679th day, Bought 5.962318149296446 shares for $499.99999999999994\n",
      "On the 680th day, Bought 4 shares for $334.32\n",
      "On the 681th day, Bought 1 shares for $85.42\n",
      "On the 686th day, sold 10.962318149296447 shares for $962.8204030527069\n",
      "On the 806th day, Bought 5.017561465127947 shares for $500.0\n",
      "On the 807th day, Bought 5.007009813739235 shares for $500.0\n",
      "On the 808th day, Bought 0 shares for $0.0\n",
      "On the 809th day, Bought 0 shares for $0.0\n",
      "On the 871th day, sold 10.024571278867182 shares for $1076.0374810736032\n",
      "On the 920th day, Bought 4.749240121580547 shares for $500.0\n",
      "On the 921th day, Bought 4.781028877414419 shares for $500.0\n",
      "On the 922th day, Bought 1 shares for $105.61\n",
      "On the 923th day, Bought 0 shares for $0.0\n",
      "On the 924th day, Bought 0 shares for $0.0\n",
      "On the 925th day, Bought 0 shares for $0.0\n",
      "On the 926th day, Bought 0 shares for $0.0\n",
      "On the 927th day, Bought 0 shares for $0.0\n",
      "On the 928th day, Bought 0 shares for $0.0\n",
      "On the 929th day, Bought 0 shares for $0.0\n",
      "On the 930th day, Bought 0 shares for $0.0\n",
      "On the 973th day, Bought 0 shares for $0.0\n",
      "On the 989th day, sold 10.530268998994966 shares for $1192.7635695161598\n",
      "XLI Final Value: 1194.990833900734, Final Money: 1194.990833900734, Final Shares: 0.0\n"
     ]
    },
    {
     "name": "stderr",
     "output_type": "stream",
     "text": [
      "[*********************100%***********************]  1 of 1 completed\n"
     ]
    },
    {
     "name": "stdout",
     "output_type": "stream",
     "text": [
      "read  1258  lines of data for ticker:  XLK\n"
     ]
    },
    {
     "name": "stderr",
     "output_type": "stream",
     "text": [
      "[*********************100%***********************]  1 of 1 completed\n"
     ]
    },
    {
     "name": "stdout",
     "output_type": "stream",
     "text": [
      "read  1007  lines of data for ticker:  XLK\n",
      "On the 107th day, Bought 4.856726566294317 shares for $500.0\n",
      "On the 147th day, Bought 3 shares for $341.64\n",
      "On the 148th day, Bought 1 shares for $114.64\n",
      "On the 149th day, Bought 0 shares for $0.0\n",
      "On the 161th day, sold 8.856726566294316 shares for $1060.9472753763962\n",
      "On the 169th day, Bought 4.360338362256911 shares for $500.0\n",
      "On the 185th day, Bought 4.224043254202923 shares for $500.0\n",
      "On the 239th day, Bought 0 shares for $0.0\n",
      "On the 240th day, Bought 0 shares for $0.0\n",
      "On the 241th day, Bought 0 shares for $0.0\n",
      "On the 242th day, Bought 0 shares for $0.0\n",
      "On the 243th day, Bought 0 shares for $0.0\n",
      "On the 265th day, Bought 0 shares for $0.0\n",
      "On the 266th day, Bought 0 shares for $0.0\n",
      "On the 267th day, Bought 0 shares for $0.0\n",
      "On the 285th day, sold 8.584381616459833 shares for $1086.4393373791565\n",
      "On the 320th day, Bought 3.5038542396636303 shares for $500.0\n",
      "On the 321th day, Bought 3.4860210555671753 shares for $500.0\n",
      "On the 322th day, Bought 1 shares for $143.08\n",
      "On the 323th day, Bought 0 shares for $0.0\n",
      "On the 324th day, Bought 0 shares for $0.0\n",
      "On the 325th day, Bought 0 shares for $0.0\n",
      "On the 326th day, Bought 0 shares for $0.0\n",
      "On the 362th day, Bought 0 shares for $0.0\n",
      "On the 363th day, Bought 0 shares for $0.0\n",
      "On the 364th day, Bought 0 shares for $0.0\n",
      "On the 365th day, Bought 0 shares for $0.0\n",
      "On the 366th day, Bought 0 shares for $0.0\n",
      "On the 367th day, Bought 0 shares for $0.0\n",
      "On the 368th day, Bought 0 shares for $0.0\n",
      "On the 369th day, Bought 0 shares for $0.0\n",
      "On the 370th day, Bought 0 shares for $0.0\n",
      "On the 371th day, Bought 0 shares for $0.0\n",
      "On the 372th day, Bought 0 shares for $0.0\n",
      "On the 373th day, Bought 0 shares for $0.0\n",
      "On the 374th day, Bought 0 shares for $0.0\n",
      "On the 375th day, Bought 0 shares for $0.0\n",
      "On the 376th day, Bought 0 shares for $0.0\n",
      "On the 377th day, Bought 0 shares for $0.0\n",
      "On the 427th day, Bought 0 shares for $0.0\n",
      "On the 428th day, Bought 0 shares for $0.0\n",
      "On the 431th day, sold 7.989875295230806 shares for $1193.048179083864\n",
      "On the 459th day, Bought 2.9888218064439 shares for $500.0\n",
      "On the 461th day, Bought 3.024803387779794 shares for $500.0\n",
      "On the 462th day, Bought 1 shares for $167.31\n",
      "On the 463th day, Bought 0 shares for $0.0\n",
      "On the 464th day, Bought 0 shares for $0.0\n",
      "On the 465th day, Bought 0 shares for $0.0\n",
      "On the 466th day, Bought 0 shares for $0.0\n",
      "On the 467th day, Bought 0 shares for $0.0\n",
      "On the 468th day, Bought 0 shares for $0.0\n",
      "On the 469th day, Bought 0 shares for $0.0\n",
      "On the 470th day, Bought 0 shares for $0.0\n",
      "On the 471th day, Bought 0 shares for $0.0\n",
      "On the 472th day, Bought 0 shares for $0.0\n",
      "On the 500th day, sold 7.013625194223694 shares for $1163.7708284775376\n",
      "On the 649th day, Bought 3.319832680432906 shares for $500.0\n",
      "On the 650th day, Bought 3.299023489047242 shares for $500.0\n",
      "On the 651th day, Bought 1 shares for $151.15\n",
      "On the 652th day, Bought 0 shares for $0.0\n",
      "On the 653th day, Bought 0 shares for $0.0\n",
      "On the 654th day, Bought 0 shares for $0.0\n",
      "On the 655th day, Bought 0 shares for $0.0\n",
      "On the 657th day, Bought 0 shares for $0.0\n",
      "On the 658th day, Bought 0 shares for $0.0\n",
      "On the 659th day, Bought 0 shares for $0.0\n",
      "On the 660th day, Bought 0 shares for $0.0\n",
      "On the 678th day, sold 7.618856169480148 shares for $942.7572624114734\n",
      "On the 772th day, Bought 3.5258444397433184 shares for $500.0\n",
      "On the 773th day, Bought 3.5453449620648088 shares for $500.0\n",
      "On the 774th day, Bought 0 shares for $0.0\n",
      "On the 775th day, Bought 0 shares for $0.0\n",
      "On the 776th day, Bought 0 shares for $0.0\n",
      "On the 777th day, Bought 0 shares for $0.0\n",
      "On the 778th day, Bought 0 shares for $0.0\n",
      "On the 779th day, Bought 0 shares for $0.0\n",
      "On the 799th day, Bought 0 shares for $0.0\n",
      "On the 800th day, Bought 0 shares for $0.0\n",
      "On the 817th day, Bought 0 shares for $0.0\n",
      "On the 818th day, Bought 0 shares for $0.0\n",
      "On the 819th day, Bought 0 shares for $0.0\n",
      "On the 820th day, Bought 0 shares for $0.0\n",
      "On the 827th day, Bought 0 shares for $0.0\n",
      "On the 828th day, Bought 0 shares for $0.0\n",
      "On the 829th day, Bought 0 shares for $0.0\n",
      "On the 830th day, Bought 0 shares for $0.0\n",
      "On the 831th day, Bought 0 shares for $0.0\n",
      "On the 833th day, Bought 0 shares for $0.0\n",
      "On the 852th day, Bought 0 shares for $0.0\n",
      "On the 853th day, Bought 0 shares for $0.0\n",
      "On the 861th day, Bought 0 shares for $0.0\n",
      "On the 862th day, Bought 0 shares for $0.0\n",
      "On the 863th day, Bought 0 shares for $0.0\n",
      "On the 864th day, Bought 0 shares for $0.0\n",
      "On the 866th day, Bought 0 shares for $0.0\n",
      "On the 869th day, Bought 0 shares for $0.0\n",
      "On the 916th day, sold 7.071189401808127 shares for $1237.1752977403498\n"
     ]
    },
    {
     "name": "stderr",
     "output_type": "stream",
     "text": [
      "[*********************100%***********************]  1 of 1 completed"
     ]
    },
    {
     "name": "stdout",
     "output_type": "stream",
     "text": [
      "On the 969th day, Bought 2.6961445133459154 shares for $500.0\n",
      "On the 970th day, Bought 2.718129926610492 shares for $500.0\n",
      "On the 971th day, Bought 1 shares for $184.77\n",
      "On the 972th day, Bought 0 shares for $0.0\n",
      "On the 973th day, Bought 0 shares for $0.0\n",
      "On the 974th day, Bought 0 shares for $0.0\n",
      "On the 975th day, Bought 0 shares for $0.0\n",
      "On the 979th day, Bought 0 shares for $0.0\n",
      "On the 981th day, Bought 0 shares for $0.0\n",
      "On the 982th day, Bought 0 shares for $0.0\n",
      "On the 984th day, Bought 0 shares for $0.0\n",
      "On the 986th day, Bought 0 shares for $0.0\n",
      "On the 987th day, Bought 0 shares for $0.0\n",
      "On the 988th day, Bought 0 shares for $0.0\n",
      "On the 989th day, Bought 0 shares for $0.0\n",
      "On the 990th day, Bought 0 shares for $0.0\n",
      "XLK Final Value: 1262.8651040755492, Final Money: 81.54818046877764, Final Shares: 6.414274439956408\n",
      "read  1258  lines of data for ticker:  XLK\n"
     ]
    },
    {
     "name": "stderr",
     "output_type": "stream",
     "text": [
      "\n",
      "[*********************100%***********************]  1 of 1 completed\n"
     ]
    },
    {
     "name": "stdout",
     "output_type": "stream",
     "text": [
      "read  1007  lines of data for ticker:  XLK\n",
      "On the 91th day, Bought 5.157829585310502 shares for $500.00000000000006\n",
      "On the 93th day, Bought 4 shares for $391.88\n",
      "On the 103th day, Bought 1 shares for $99.41\n",
      "On the 107th day, sold 10.157829585310502 shares for $1045.7485558077162\n",
      "On the 160th day, Bought 3.936078091789341 shares for $500.0\n",
      "On the 161th day, Bought 4.173971116119876 shares for $500.0\n",
      "On the 162th day, Bought 0 shares for $0.0\n",
      "On the 163th day, Bought 0 shares for $0.0\n",
      "On the 246th day, Bought 0 shares for $0.0\n",
      "On the 266th day, sold 8.110049207909217 shares for $1099.884873576648\n",
      "On the 278th day, Bought 3.7684654808561953 shares for $500.0\n",
      "On the 279th day, Bought 3.7116769356395216 shares for $500.0\n",
      "On the 280th day, Bought 1 shares for $130.0\n",
      "On the 281th day, Bought 0 shares for $0.0\n",
      "On the 285th day, Bought 0 shares for $0.0\n",
      "On the 286th day, Bought 0 shares for $0.0\n",
      "On the 327th day, Bought 0 shares for $0.0\n",
      "On the 328th day, Bought 0 shares for $0.0\n",
      "On the 329th day, Bought 0 shares for $0.0\n",
      "On the 330th day, Bought 0 shares for $0.0\n",
      "On the 331th day, Bought 0 shares for $0.0\n",
      "On the 332th day, Bought 0 shares for $0.0\n",
      "On the 333th day, Bought 0 shares for $0.0\n",
      "On the 334th day, Bought 0 shares for $0.0\n",
      "On the 371th day, Bought 0 shares for $0.0\n",
      "On the 372th day, Bought 0 shares for $0.0\n",
      "On the 379th day, Bought 0 shares for $0.0\n",
      "On the 400th day, Bought 0 shares for $0.0\n",
      "On the 401th day, Bought 0 shares for $0.0\n",
      "On the 402th day, Bought 0 shares for $0.0\n",
      "On the 410th day, Bought 0 shares for $0.0\n",
      "On the 411th day, Bought 0 shares for $0.0\n",
      "On the 412th day, Bought 0 shares for $0.0\n",
      "On the 413th day, Bought 0 shares for $0.0\n",
      "On the 414th day, Bought 0 shares for $0.0\n",
      "On the 418th day, Bought 0 shares for $0.0\n",
      "On the 423th day, Bought 0 shares for $0.0\n",
      "On the 432th day, Bought 0 shares for $0.0\n",
      "On the 433th day, Bought 0 shares for $0.0\n",
      "On the 438th day, sold 8.480142416495717 shares for $1281.5191219808328\n",
      "On the 468th day, Bought 2.9515938606847696 shares for $500.0\n",
      "On the 469th day, Bought 2.9584048281166795 shares for $500.0\n",
      "On the 470th day, Bought 1 shares for $170.24\n",
      "On the 471th day, Bought 0 shares for $0.0\n",
      "On the 473th day, Bought 0 shares for $0.0\n",
      "On the 474th day, Bought 0 shares for $0.0\n",
      "On the 475th day, Bought 0 shares for $0.0\n",
      "On the 476th day, Bought 0 shares for $0.0\n",
      "On the 509th day, Bought 0 shares for $0.0\n",
      "On the 510th day, Bought 0 shares for $0.0\n",
      "On the 511th day, Bought 0 shares for $0.0\n",
      "On the 547th day, sold 6.9099986888014495 shares for $1050.0434007502683\n",
      "On the 573th day, Bought 3.4428148454176135 shares for $500.0\n",
      "On the 574th day, Bought 3.576026319553712 shares for $500.0\n",
      "On the 575th day, Bought 1 shares for $141.89\n",
      "On the 588th day, sold 8.018841164971326 shares for $1079.8171512750387\n",
      "On the 659th day, Bought 3.5744924220760654 shares for $500.0\n",
      "On the 660th day, Bought 3.6224009273346374 shares for $500.0\n",
      "On the 661th day, Bought 0 shares for $0.0\n",
      "On the 663th day, Bought 0 shares for $0.0\n",
      "On the 664th day, Bought 0 shares for $0.0\n",
      "On the 678th day, Bought 0 shares for $0.0\n",
      "On the 680th day, Bought 1 shares for $123.04\n",
      "On the 681th day, Bought 0 shares for $0.0\n",
      "On the 682th day, Bought 0 shares for $0.0\n",
      "On the 687th day, sold 8.196893349410702 shares for $1032.398717358278\n",
      "On the 725th day, Bought 3.6775522212415415 shares for $500.0\n",
      "On the 736th day, Bought 3.870268596640607 shares for $500.0\n",
      "On the 737th day, Bought 0 shares for $0.0\n",
      "On the 764th day, sold 7.547820817882148 shares for $1031.7871058044896\n",
      "On the 793th day, Bought 3.682698681593872 shares for $500.0\n",
      "On the 794th day, Bought 3.662735330745001 shares for $500.0\n",
      "On the 795th day, Bought 0 shares for $0.0\n",
      "On the 840th day, Bought 0 shares for $0.0\n",
      "On the 841th day, Bought 0 shares for $0.0\n",
      "On the 846th day, Bought 0 shares for $0.0\n",
      "On the 854th day, Bought 0 shares for $0.0\n",
      "On the 855th day, Bought 0 shares for $0.0\n",
      "On the 856th day, Bought 0 shares for $0.0\n",
      "On the 857th day, Bought 0 shares for $0.0\n",
      "On the 858th day, Bought 0 shares for $0.0\n",
      "On the 859th day, Bought 0 shares for $0.0\n",
      "On the 860th day, Bought 0 shares for $0.0\n",
      "On the 861th day, Bought 0 shares for $0.0\n",
      "On the 862th day, Bought 0 shares for $0.0\n",
      "On the 863th day, Bought 0 shares for $0.0\n",
      "On the 875th day, Bought 0 shares for $0.0\n",
      "On the 876th day, Bought 0 shares for $0.0\n",
      "On the 877th day, Bought 0 shares for $0.0\n",
      "On the 882th day, Bought 0 shares for $0.0\n",
      "On the 883th day, Bought 0 shares for $0.0\n",
      "On the 910th day, sold 7.345434012338872 shares for $1249.3848711587189\n"
     ]
    },
    {
     "name": "stderr",
     "output_type": "stream",
     "text": [
      "[*********************100%***********************]  1 of 1 completed"
     ]
    },
    {
     "name": "stdout",
     "output_type": "stream",
     "text": [
      "On the 976th day, Bought 2.7003672499459928 shares for $500.0\n",
      "On the 977th day, Bought 2.694255846535187 shares for $500.0\n",
      "On the 978th day, Bought 1 shares for $183.32\n",
      "On the 979th day, Bought 0 shares for $0.0\n",
      "On the 980th day, Bought 0 shares for $0.0\n",
      "On the 983th day, Bought 0 shares for $0.0\n",
      "On the 985th day, Bought 0 shares for $0.0\n",
      "XLK Final Value: 1308.5015333909291, Final Money: 130.8037977119904, Final Shares: 6.39462309648118\n",
      "read  1258  lines of data for ticker:  XLK\n"
     ]
    },
    {
     "name": "stderr",
     "output_type": "stream",
     "text": [
      "\n",
      "[*********************100%***********************]  1 of 1 completed\n"
     ]
    },
    {
     "name": "stdout",
     "output_type": "stream",
     "text": [
      "read  1007  lines of data for ticker:  XLK\n",
      "On the 64th day, Bought 5.601613264620211 shares for $500.0\n",
      "On the 66th day, Bought 4 shares for $336.6\n",
      "On the 67th day, Bought 1 shares for $87.39\n",
      "On the 139th day, sold 10.60161326462021 shares for $1202.6470087385167\n",
      "On the 244th day, Bought 3.9093041438623923 shares for $500.0\n",
      "On the 246th day, Bought 3.952256738597739 shares for $500.0\n",
      "On the 260th day, sold 7.8615608824601315 shares for $1033.7952560435074\n",
      "On the 261th day, Bought 3.78673129354741 shares for $500.0\n",
      "On the 262th day, Bought 3.8780733731482195 shares for $499.99999999999994\n",
      "On the 281th day, sold 7.6648046666956295 shares for $1001.7133218904518\n",
      "On the 348th day, Bought 3.6395399621487847 shares for $500.00000000000006\n",
      "On the 388th day, sold 3.6395399621487847 shares for $558.3054301936236\n",
      "On the 417th day, Bought 3.1922364808785035 shares for $500.0\n",
      "On the 423th day, Bought 3.2812705079406745 shares for $500.0\n",
      "On the 431th day, sold 6.473506988819178 shares for $966.6240635704796\n",
      "On the 473th day, Bought 2.963489805595069 shares for $500.0\n",
      "On the 482th day, sold 2.963489805595069 shares for $510.55002370791846\n",
      "On the 845th day, Bought 3.240230704426155 shares for $500.0\n",
      "On the 846th day, Bought 3.1205142607501717 shares for $500.0\n",
      "On the 848th day, sold 6.360744965176327 shares for $1053.7210109311102\n",
      "On the 899th day, Bought 2.9958058717795084 shares for $499.99999999999994\n",
      "On the 915th day, sold 2.9958058717795084 shares for $529.7483523067705\n",
      "On the 917th day, Bought 2.8997274256219914 shares for $500.0\n"
     ]
    },
    {
     "name": "stderr",
     "output_type": "stream",
     "text": [
      "[*********************100%***********************]  1 of 1 completed"
     ]
    },
    {
     "name": "stdout",
     "output_type": "stream",
     "text": [
      "On the 958th day, sold 2.8997274256219914 shares for $498.0571826248332\n",
      "XLK Final Value: 1431.1716500072116, Final Money: 1431.1716500072116, Final Shares: 0.0\n",
      "read  1258  lines of data for ticker:  XLK\n"
     ]
    },
    {
     "name": "stderr",
     "output_type": "stream",
     "text": [
      "\n",
      "[*********************100%***********************]  1 of 1 completed\n"
     ]
    },
    {
     "name": "stdout",
     "output_type": "stream",
     "text": [
      "read  1007  lines of data for ticker:  XLK\n",
      "On the 65th day, Bought 5.692815666628714 shares for $500.0\n",
      "On the 66th day, Bought 4 shares for $336.6\n",
      "On the 67th day, Bought 1 shares for $87.39\n",
      "On the 68th day, Bought 0 shares for $0.0\n",
      "On the 69th day, Bought 0 shares for $0.0\n",
      "On the 70th day, Bought 0 shares for $0.0\n",
      "On the 123th day, Bought 0 shares for $0.0\n",
      "On the 129th day, Bought 0 shares for $0.0\n",
      "On the 131th day, Bought 0 shares for $0.0\n",
      "On the 148th day, Bought 0 shares for $0.0\n",
      "On the 149th day, Bought 0 shares for $0.0\n",
      "On the 150th day, Bought 0 shares for $0.0\n",
      "On the 151th day, Bought 0 shares for $0.0\n",
      "On the 152th day, Bought 0 shares for $0.0\n",
      "On the 153th day, Bought 0 shares for $0.0\n",
      "On the 167th day, sold 10.692815666628714 shares for $1233.2024308322896\n",
      "On the 192th day, Bought 4.205214465937763 shares for $500.0\n",
      "On the 193th day, Bought 4.190763557120107 shares for $499.99999999999994\n",
      "On the 194th day, Bought 2 shares for $238.26\n",
      "On the 195th day, Bought 0 shares for $0.0\n",
      "On the 196th day, Bought 0 shares for $0.0\n",
      "On the 197th day, Bought 0 shares for $0.0\n",
      "On the 198th day, Bought 0 shares for $0.0\n",
      "On the 199th day, Bought 0 shares for $0.0\n",
      "On the 230th day, Bought 0 shares for $0.0\n",
      "On the 231th day, Bought 0 shares for $0.0\n",
      "On the 232th day, Bought 0 shares for $0.0\n",
      "On the 233th day, Bought 0 shares for $0.0\n",
      "On the 234th day, Bought 0 shares for $0.0\n",
      "On the 270th day, Bought 0 shares for $0.0\n",
      "On the 271th day, Bought 0 shares for $0.0\n",
      "On the 272th day, Bought 0 shares for $0.0\n",
      "On the 273th day, Bought 0 shares for $0.0\n",
      "On the 274th day, Bought 0 shares for $0.0\n",
      "On the 275th day, Bought 0 shares for $0.0\n",
      "On the 276th day, Bought 0 shares for $0.0\n",
      "On the 277th day, Bought 0 shares for $0.0\n",
      "On the 278th day, Bought 0 shares for $0.0\n",
      "On the 285th day, sold 10.39597802305787 shares for $1315.714978598204\n",
      "On the 316th day, Bought 3.5184012384772356 shares for $500.0\n",
      "On the 317th day, Bought 3.549875754348598 shares for $500.0\n",
      "On the 319th day, Bought 2 shares for $281.2\n",
      "On the 321th day, Bought 0 shares for $0.0\n",
      "On the 322th day, Bought 0 shares for $0.0\n",
      "On the 323th day, Bought 0 shares for $0.0\n",
      "On the 324th day, Bought 0 shares for $0.0\n",
      "On the 367th day, Bought 0 shares for $0.0\n",
      "On the 368th day, Bought 0 shares for $0.0\n",
      "On the 369th day, Bought 0 shares for $0.0\n",
      "On the 370th day, Bought 0 shares for $0.0\n",
      "On the 371th day, Bought 0 shares for $0.0\n",
      "On the 372th day, Bought 0 shares for $0.0\n",
      "On the 373th day, Bought 0 shares for $0.0\n",
      "On the 374th day, Bought 0 shares for $0.0\n",
      "On the 375th day, Bought 0 shares for $0.0\n",
      "On the 376th day, Bought 0 shares for $0.0\n",
      "On the 377th day, Bought 0 shares for $0.0\n",
      "On the 378th day, Bought 0 shares for $0.0\n",
      "On the 379th day, Bought 0 shares for $0.0\n",
      "On the 422th day, Bought 0 shares for $0.0\n",
      "On the 431th day, sold 9.068276992825833 shares for $1354.0751205687534\n",
      "On the 461th day, Bought 3.024803387779794 shares for $500.0\n",
      "On the 462th day, Bought 2.9884645269260655 shares for $500.0\n",
      "On the 463th day, Bought 1 shares for $167.14\n",
      "On the 464th day, Bought 1 shares for $168.9\n",
      "On the 465th day, Bought 0 shares for $0.0\n",
      "On the 466th day, Bought 0 shares for $0.0\n",
      "On the 467th day, Bought 0 shares for $0.0\n",
      "On the 510th day, sold 8.01326791470586 shares for $1243.09825160832\n",
      "On the 645th day, Bought 3.4300610550867803 shares for $500.0\n",
      "On the 646th day, Bought 3.46476335666274 shares for $500.0\n",
      "On the 647th day, Bought 2 shares for $296.5\n",
      "On the 648th day, Bought 0 shares for $0.0\n",
      "On the 649th day, Bought 0 shares for $0.0\n",
      "On the 650th day, Bought 0 shares for $0.0\n",
      "On the 651th day, Bought 0 shares for $0.0\n",
      "On the 652th day, Bought 0 shares for $0.0\n",
      "On the 653th day, Bought 0 shares for $0.0\n",
      "On the 654th day, Bought 0 shares for $0.0\n",
      "On the 655th day, Bought 0 shares for $0.0\n",
      "On the 656th day, Bought 0 shares for $0.0\n",
      "On the 657th day, Bought 0 shares for $0.0\n",
      "On the 659th day, Bought 0 shares for $0.0\n",
      "On the 681th day, sold 8.89482441174952 shares for $1105.9824673569353\n",
      "On the 722th day, Bought 3.7425149700598803 shares for $500.0\n",
      "On the 723th day, Bought 3.8243842741318645 shares for $500.0\n",
      "On the 724th day, Bought 1 shares for $129.46\n",
      "On the 726th day, Bought 0 shares for $0.0\n",
      "On the 728th day, Bought 0 shares for $0.0\n",
      "On the 729th day, Bought 0 shares for $0.0\n",
      "On the 730th day, Bought 0 shares for $0.0\n",
      "On the 777th day, Bought 0 shares for $0.0\n",
      "On the 778th day, Bought 0 shares for $0.0\n",
      "On the 779th day, Bought 0 shares for $0.0\n",
      "On the 780th day, Bought 0 shares for $0.0\n",
      "On the 781th day, Bought 0 shares for $0.0\n",
      "On the 782th day, Bought 0 shares for $0.0\n",
      "On the 783th day, Bought 0 shares for $0.0\n",
      "On the 784th day, Bought 0 shares for $0.0\n",
      "On the 785th day, Bought 0 shares for $0.0\n",
      "On the 786th day, Bought 0 shares for $0.0\n",
      "On the 807th day, Bought 0 shares for $0.0\n",
      "On the 811th day, Bought 0 shares for $0.0\n",
      "On the 814th day, Bought 0 shares for $0.0\n",
      "On the 815th day, Bought 0 shares for $0.0\n",
      "On the 816th day, Bought 0 shares for $0.0\n",
      "On the 817th day, Bought 0 shares for $0.0\n",
      "On the 818th day, Bought 0 shares for $0.0\n",
      "On the 819th day, Bought 0 shares for $0.0\n",
      "On the 820th day, Bought 0 shares for $0.0\n",
      "On the 821th day, Bought 0 shares for $0.0\n",
      "On the 853th day, Bought 0 shares for $0.0\n",
      "On the 854th day, Bought 0 shares for $0.0\n",
      "On the 855th day, Bought 0 shares for $0.0\n",
      "On the 856th day, Bought 0 shares for $0.0\n",
      "On the 857th day, Bought 0 shares for $0.0\n",
      "On the 858th day, Bought 0 shares for $0.0\n",
      "On the 859th day, Bought 0 shares for $0.0\n",
      "On the 860th day, Bought 0 shares for $0.0\n",
      "On the 861th day, Bought 0 shares for $0.0\n",
      "On the 862th day, Bought 0 shares for $0.0\n",
      "On the 863th day, Bought 0 shares for $0.0\n",
      "On the 864th day, Bought 0 shares for $0.0\n",
      "On the 865th day, Bought 0 shares for $0.0\n",
      "On the 866th day, Bought 0 shares for $0.0\n",
      "On the 867th day, Bought 0 shares for $0.0\n",
      "On the 868th day, Bought 0 shares for $0.0\n",
      "On the 869th day, Bought 0 shares for $0.0\n",
      "On the 870th day, Bought 0 shares for $0.0\n",
      "On the 871th day, Bought 0 shares for $0.0\n",
      "On the 911th day, sold 8.566899244191745 shares for $1486.357018867268\n",
      "On the 965th day, Bought 2.7466490881125027 shares for $500.0\n",
      "On the 966th day, Bought 2.743183189773413 shares for $500.00000000000006\n",
      "On the 967th day, Bought 2.7295556283437055 shares for $500.0\n",
      "On the 968th day, Bought 0 shares for $0.0\n",
      "On the 969th day, Bought 0 shares for $0.0\n",
      "On the 970th day, Bought 0 shares for $0.0\n",
      "On the 971th day, Bought 0 shares for $0.0\n",
      "On the 972th day, Bought 0 shares for $0.0\n",
      "On the 973th day, Bought 0 shares for $0.0\n",
      "On the 976th day, Bought 0 shares for $0.0\n",
      "On the 989th day, Bought 0 shares for $0.0\n",
      "On the 990th day, Bought 0 shares for $0.0\n",
      "On the 991th day, Bought 0 shares for $0.0\n",
      "On the 992th day, Bought 0 shares for $0.0\n",
      "XLK Final Value: 1546.744938522079, Final Money: 32.98026783177011, Final Shares: 8.21938790622962\n"
     ]
    },
    {
     "name": "stderr",
     "output_type": "stream",
     "text": [
      "[*********************100%***********************]  1 of 1 completed\n"
     ]
    },
    {
     "name": "stdout",
     "output_type": "stream",
     "text": [
      "read  1258  lines of data for ticker:  XLP\n"
     ]
    },
    {
     "name": "stderr",
     "output_type": "stream",
     "text": [
      "[*********************100%***********************]  1 of 1 completed\n"
     ]
    },
    {
     "name": "stdout",
     "output_type": "stream",
     "text": [
      "read  1007  lines of data for ticker:  XLP\n",
      "On the 315th day, Bought 7.162297665090961 shares for $500.0\n",
      "On the 381th day, sold 7.162297665090961 shares for $506.1595759919782\n",
      "On the 399th day, Bought 6.855889208830384 shares for $500.0\n",
      "On the 411th day, Bought 6.883259911894273 shares for $500.0\n",
      "On the 412th day, Bought 0 shares for $0.0\n",
      "On the 413th day, Bought 0 shares for $0.0\n",
      "On the 414th day, Bought 0 shares for $0.0\n",
      "On the 423th day, sold 13.739149120724658 shares for $964.6256597660781\n",
      "On the 654th day, Bought 6.50110518788194 shares for $500.0\n",
      "On the 655th day, Bought 5 shares for $380.65\n",
      "On the 656th day, Bought 1 shares for $75.8\n",
      "On the 665th day, sold 12.50110518788194 shares for $901.9547393056821\n",
      "On the 720th day, Bought 6.584145377929945 shares for $500.0\n",
      "On the 721th day, Bought 5 shares for $381.0\n",
      "On the 722th day, Bought 0 shares for $0.0\n",
      "On the 723th day, Bought 0 shares for $0.0\n",
      "On the 724th day, Bought 0 shares for $0.0\n",
      "On the 725th day, Bought 0 shares for $0.0\n",
      "On the 793th day, sold 11.584145377929945 shares for $823.7485778245983\n",
      "On the 811th day, Bought 6.6401062416998675 shares for $500.0\n",
      "On the 812th day, Bought 4 shares for $301.44\n",
      "On the 844th day, sold 10.640106241699868 shares for $789.7086852589642\n",
      "On the 887th day, Bought 6.579813133307015 shares for $500.0\n",
      "On the 888th day, Bought 4 shares for $301.28\n",
      "On the 889th day, Bought 0 shares for $0.0\n",
      "On the 932th day, sold 10.579813133307015 shares for $730.1129043295172\n",
      "On the 965th day, Bought 7.154099298898268 shares for $500.0\n"
     ]
    },
    {
     "name": "stderr",
     "output_type": "stream",
     "text": [
      "[*********************100%***********************]  1 of 1 completed"
     ]
    },
    {
     "name": "stdout",
     "output_type": "stream",
     "text": [
      "On the 975th day, Bought 3 shares for $209.88\n",
      "XLP Final Value: 799.0814888783065, Final Money: 66.26014247681837, Final Shares: 10.154099298898268\n",
      "read  1258  lines of data for ticker:  XLP\n"
     ]
    },
    {
     "name": "stderr",
     "output_type": "stream",
     "text": [
      "\n",
      "[*********************100%***********************]  1 of 1 completed\n"
     ]
    },
    {
     "name": "stdout",
     "output_type": "stream",
     "text": [
      "read  1007  lines of data for ticker:  XLP\n",
      "On the 136th day, Bought 7.966857871255577 shares for $500.0\n",
      "On the 164th day, sold 7.966857871255577 shares for $518.5627788400255\n",
      "On the 199th day, Bought 8.0 shares for $500.0\n",
      "On the 205th day, sold 8.0 shares for $518.32\n",
      "On the 248th day, Bought 7.473841554559042 shares for $500.0\n",
      "On the 258th day, Bought 7.608034083992696 shares for $500.0\n",
      "On the 265th day, sold 15.08187563855174 shares for $975.4957163015266\n",
      "On the 359th day, Bought 7.267441860465117 shares for $500.0\n",
      "On the 369th day, Bought 7.150007150007149 shares for $500.0\n",
      "On the 379th day, Bought 0 shares for $0.0\n",
      "On the 380th day, Bought 0 shares for $0.0\n",
      "On the 423th day, Bought 0 shares for $0.0\n",
      "On the 436th day, sold 14.417449010472266 shares for $1011.09569910442\n",
      "On the 473th day, Bought 7.1133873950775355 shares for $500.0\n",
      "On the 477th day, sold 7.1133873950775355 shares for $518.0680039834969\n",
      "On the 498th day, Bought 6.447453255963895 shares for $500.0\n",
      "On the 499th day, Bought 6.464959917248513 shares for $500.0\n",
      "On the 510th day, Bought 0 shares for $0.0\n",
      "On the 512th day, Bought 0 shares for $0.0\n",
      "On the 561th day, Bought 0 shares for $0.0\n",
      "On the 578th day, Bought 0 shares for $0.0\n",
      "On the 579th day, Bought 0 shares for $0.0\n",
      "On the 580th day, Bought 0 shares for $0.0\n",
      "On the 595th day, sold 12.912413173212407 shares for $947.2546303868621\n",
      "On the 723th day, Bought 6.582411795681939 shares for $500.0\n",
      "On the 724th day, Bought 5 shares for $378.35\n",
      "On the 725th day, Bought 1 shares for $77.19\n",
      "On the 726th day, Bought 0 shares for $0.0\n",
      "On the 752th day, sold 12.582411795681939 shares for $942.9259399684045\n",
      "On the 767th day, Bought 6.726759047490919 shares for $500.0\n",
      "On the 768th day, Bought 5 shares for $368.45\n",
      "On the 769th day, Bought 1 shares for $73.4\n",
      "On the 794th day, Bought 0 shares for $0.0\n",
      "On the 795th day, Bought 0 shares for $0.0\n",
      "On the 796th day, Bought 0 shares for $0.0\n",
      "On the 846th day, Bought 0 shares for $0.0\n",
      "On the 847th day, Bought 0 shares for $0.0\n",
      "On the 848th day, Bought 0 shares for $0.0\n",
      "On the 849th day, Bought 0 shares for $0.0\n",
      "On the 883th day, Bought 0 shares for $0.0\n",
      "On the 931th day, Bought 0 shares for $0.0\n",
      "On the 932th day, Bought 0 shares for $0.0\n",
      "On the 933th day, Bought 0 shares for $0.0\n",
      "On the 934th day, Bought 0 shares for $0.0\n",
      "On the 935th day, Bought 0 shares for $0.0\n",
      "On the 936th day, Bought 0 shares for $0.0\n",
      "On the 937th day, Bought 0 shares for $0.0\n",
      "On the 938th day, Bought 0 shares for $0.0\n",
      "On the 972th day, sold 12.72675904749092 shares for $896.0911045338356\n",
      "XLP Final Value: 930.4238731185712, Final Money: 930.4238731185712, Final Shares: 0.0\n"
     ]
    },
    {
     "name": "stderr",
     "output_type": "stream",
     "text": [
      "[*********************100%***********************]  1 of 1 completed\n"
     ]
    },
    {
     "name": "stdout",
     "output_type": "stream",
     "text": [
      "read  1258  lines of data for ticker:  XLP\n"
     ]
    },
    {
     "name": "stderr",
     "output_type": "stream",
     "text": [
      "[*********************100%***********************]  1 of 1 completed\n"
     ]
    },
    {
     "name": "stdout",
     "output_type": "stream",
     "text": [
      "read  1007  lines of data for ticker:  XLP\n",
      "On the 130th day, Bought 8.065817067268915 shares for $500.00000000000006\n",
      "On the 131th day, Bought 7 shares for $435.47\n",
      "On the 132th day, Bought 1 shares for $62.13\n",
      "On the 133th day, Bought 0 shares for $0.0\n",
      "On the 138th day, Bought 0 shares for $0.0\n",
      "On the 139th day, Bought 0 shares for $0.0\n",
      "On the 140th day, Bought 0 shares for $0.0\n",
      "On the 161th day, sold 16.065817067268917 shares for $1055.3635231488952\n",
      "On the 311th day, Bought 7.216048491845864 shares for $500.0\n",
      "On the 313th day, Bought 7.261109497531223 shares for $500.0\n",
      "On the 314th day, Bought 0 shares for $0.0\n",
      "On the 315th day, Bought 0 shares for $0.0\n",
      "On the 341th day, Bought 0 shares for $0.0\n",
      "On the 346th day, Bought 0 shares for $0.0\n",
      "On the 347th day, Bought 0 shares for $0.0\n",
      "On the 349th day, Bought 0 shares for $0.0\n",
      "On the 360th day, sold 14.477157989377087 shares for $1000.9507033855318\n",
      "On the 719th day, Bought 6.632179334129195 shares for $500.00000000000006\n",
      "On the 727th day, Bought 6.477522995206633 shares for $500.0\n",
      "On the 758th day, sold 13.109702329335828 shares for $944.6851498519399\n",
      "On the 817th day, Bought 6.65070497472732 shares for $500.0\n",
      "On the 818th day, Bought 6.608511763150939 shares for $500.0\n",
      "On the 819th day, Bought 0 shares for $0.0\n",
      "On the 820th day, Bought 0 shares for $0.0\n",
      "On the 821th day, Bought 0 shares for $0.0\n",
      "On the 844th day, sold 13.259216737878258 shares for $984.0990662853243\n",
      "On the 891th day, Bought 6.636580833554552 shares for $499.99999999999994\n",
      "On the 893th day, Bought 5 shares for $377.0\n",
      "On the 904th day, sold 11.636580833554552 shares for $849.7031324661533\n",
      "On the 963th day, Bought 7.250580046403713 shares for $500.0\n",
      "On the 964th day, Bought 6 shares for $415.08000000000004\n",
      "On the 965th day, Bought 0 shares for $0.0\n",
      "On the 972th day, Bought 0 shares for $0.0\n"
     ]
    },
    {
     "name": "stderr",
     "output_type": "stream",
     "text": [
      "[*********************100%***********************]  1 of 1 completed"
     ]
    },
    {
     "name": "stdout",
     "output_type": "stream",
     "text": [
      "XLP Final Value: 1001.4159370868003, Final Money: 45.12157513784439, Final Shares: 13.250580046403712\n",
      "read  1258  lines of data for ticker:  XLP\n"
     ]
    },
    {
     "name": "stderr",
     "output_type": "stream",
     "text": [
      "\n",
      "[*********************100%***********************]  1 of 1 completed\n"
     ]
    },
    {
     "name": "stdout",
     "output_type": "stream",
     "text": [
      "read  1007  lines of data for ticker:  XLP\n",
      "On the 77th day, Bought 8.770391159445712 shares for $500.0\n",
      "On the 79th day, Bought 7 shares for $406.84\n",
      "On the 80th day, Bought 1 shares for $58.04\n",
      "On the 81th day, Bought 0 shares for $0.0\n",
      "On the 82th day, Bought 0 shares for $0.0\n",
      "On the 135th day, Bought 0 shares for $0.0\n",
      "On the 136th day, Bought 0 shares for $0.0\n",
      "On the 137th day, Bought 0 shares for $0.0\n",
      "On the 138th day, Bought 0 shares for $0.0\n",
      "On the 141th day, Bought 0 shares for $0.0\n",
      "On the 142th day, Bought 0 shares for $0.0\n",
      "On the 161th day, Bought 0 shares for $0.0\n",
      "On the 162th day, Bought 0 shares for $0.0\n",
      "On the 163th day, Bought 0 shares for $0.0\n",
      "On the 167th day, sold 16.770391159445712 shares for $1091.2493527451325\n",
      "On the 197th day, Bought 7.74593338497289 shares for $500.0\n",
      "On the 198th day, Bought 7.766387076731905 shares for $500.0\n",
      "On the 199th day, Bought 2 shares for $125.0\n",
      "On the 200th day, Bought 0 shares for $0.0\n",
      "On the 201th day, Bought 0 shares for $0.0\n",
      "On the 202th day, Bought 0 shares for $0.0\n",
      "On the 203th day, Bought 0 shares for $0.0\n",
      "On the 204th day, Bought 0 shares for $0.0\n",
      "On the 205th day, Bought 0 shares for $0.0\n",
      "On the 244th day, Bought 0 shares for $0.0\n",
      "On the 245th day, Bought 0 shares for $0.0\n",
      "On the 246th day, Bought 0 shares for $0.0\n",
      "On the 247th day, Bought 0 shares for $0.0\n",
      "On the 248th day, Bought 0 shares for $0.0\n",
      "On the 261th day, Bought 0 shares for $0.0\n",
      "On the 262th day, Bought 0 shares for $0.0\n",
      "On the 309th day, sold 17.512320461704796 shares for $1209.0506046760993\n",
      "On the 359th day, Bought 7.267441860465117 shares for $500.0\n",
      "On the 360th day, Bought 7.231703789412785 shares for $500.0\n",
      "On the 364th day, sold 14.499145649877903 shares for $1010.3004688834924\n",
      "On the 369th day, Bought 7.150007150007149 shares for $500.0\n",
      "On the 380th day, Bought 7.057163020465773 shares for $500.0\n",
      "On the 396th day, Bought 3 shares for $215.85000000000002\n",
      "On the 433th day, Bought 0 shares for $0.0\n",
      "On the 436th day, sold 17.20717017047292 shares for $1206.7388440552659\n",
      "On the 467th day, Bought 6.939625260235948 shares for $500.0\n",
      "On the 468th day, Bought 6.885155604516662 shares for $500.0\n",
      "On the 469th day, Bought 2 shares for $146.2\n",
      "On the 473th day, Bought 0 shares for $0.0\n",
      "On the 474th day, Bought 0 shares for $0.0\n",
      "On the 475th day, Bought 0 shares for $0.0\n",
      "On the 476th day, Bought 0 shares for $0.0\n",
      "On the 489th day, sold 15.82478086475261 shares for $1188.1245473256258\n",
      "On the 510th day, Bought 6.604147404570071 shares for $500.00000000000006\n",
      "On the 512th day, Bought 6.7294751009421265 shares for $500.0\n",
      "On the 543th day, sold 13.333622505512198 shares for $952.5539917937914\n",
      "On the 570th day, Bought 6.20578379049274 shares for $500.0\n",
      "On the 571th day, Bought 6.211180124223603 shares for $500.0\n",
      "On the 572th day, Bought 2 shares for $158.48\n",
      "On the 573th day, Bought 0 shares for $0.0\n",
      "On the 574th day, Bought 0 shares for $0.0\n",
      "On the 575th day, Bought 0 shares for $0.0\n",
      "On the 576th day, Bought 0 shares for $0.0\n",
      "On the 577th day, Bought 0 shares for $0.0\n",
      "On the 578th day, Bought 0 shares for $0.0\n",
      "On the 579th day, Bought 0 shares for $0.0\n",
      "On the 585th day, sold 14.416963914716343 shares for $1093.2383736529403\n",
      "On the 639th day, Bought 6.7123103772318435 shares for $500.0\n",
      "On the 640th day, Bought 6.629541235746486 shares for $500.0\n",
      "On the 641th day, Bought 1 shares for $74.82\n",
      "On the 642th day, Bought 0 shares for $0.0\n",
      "On the 665th day, Bought 0 shares for $0.0\n",
      "On the 683th day, sold 14.34185161297833 shares for $957.031758134044\n",
      "On the 719th day, Bought 6.632179334129195 shares for $500.00000000000006\n",
      "On the 720th day, Bought 6.584145377929945 shares for $500.0\n",
      "On the 721th day, Bought 0 shares for $0.0\n",
      "On the 722th day, Bought 0 shares for $0.0\n",
      "On the 723th day, Bought 0 shares for $0.0\n",
      "On the 724th day, Bought 0 shares for $0.0\n",
      "On the 725th day, Bought 0 shares for $0.0\n",
      "On the 726th day, Bought 0 shares for $0.0\n",
      "On the 727th day, Bought 0 shares for $0.0\n",
      "On the 728th day, Bought 0 shares for $0.0\n",
      "On the 729th day, Bought 0 shares for $0.0\n",
      "On the 730th day, Bought 0 shares for $0.0\n",
      "On the 731th day, Bought 0 shares for $0.0\n",
      "On the 732th day, Bought 0 shares for $0.0\n",
      "On the 793th day, Bought 0 shares for $0.0\n",
      "On the 794th day, Bought 0 shares for $0.0\n",
      "On the 795th day, Bought 0 shares for $0.0\n",
      "On the 796th day, Bought 0 shares for $0.0\n",
      "On the 826th day, Bought 0 shares for $0.0\n",
      "On the 827th day, Bought 0 shares for $0.0\n",
      "On the 828th day, Bought 0 shares for $0.0\n",
      "On the 829th day, Bought 0 shares for $0.0\n",
      "On the 830th day, Bought 0 shares for $0.0\n",
      "On the 848th day, Bought 0 shares for $0.0\n",
      "On the 849th day, Bought 0 shares for $0.0\n",
      "On the 867th day, sold 13.21632471205914 shares for $979.3296611635823\n",
      "On the 938th day, Bought 7.499625018749063 shares for $500.0\n",
      "On the 940th day, Bought 7.417297136923305 shares for $500.0\n",
      "On the 948th day, sold 14.916922155672367 shares for $1003.46135341208\n",
      "On the 977th day, Bought 7.04721634954193 shares for $499.99999999999994\n",
      "On the 978th day, Bought 7.038288288288288 shares for $500.0\n",
      "On the 979th day, Bought 0 shares for $0.0\n",
      "On the 980th day, Bought 0 shares for $0.0\n",
      "On the 983th day, Bought 0 shares for $0.0\n",
      "On the 986th day, Bought 0 shares for $0.0\n",
      "On the 987th day, Bought 0 shares for $0.0\n",
      "XLP Final Value: 1022.399825554261, Final Money: 5.8489558420540675, Final Shares: 14.085504637830219\n"
     ]
    },
    {
     "name": "stderr",
     "output_type": "stream",
     "text": [
      "[*********************100%***********************]  1 of 1 completed\n"
     ]
    },
    {
     "name": "stdout",
     "output_type": "stream",
     "text": [
      "read  1258  lines of data for ticker:  XLV\n"
     ]
    },
    {
     "name": "stderr",
     "output_type": "stream",
     "text": [
      "[*********************100%***********************]  1 of 1 completed\n"
     ]
    },
    {
     "name": "stdout",
     "output_type": "stream",
     "text": [
      "read  1007  lines of data for ticker:  XLV\n",
      "On the 102th day, Bought 5.156233886769104 shares for $500.0\n",
      "On the 105th day, sold 5.156233886769104 shares for $516.8093224708673\n",
      "On the 159th day, Bought 4.660266567247646 shares for $500.0\n",
      "On the 160th day, Bought 4.568713450292398 shares for $500.0\n",
      "On the 161th day, Bought 0 shares for $0.0\n",
      "On the 162th day, Bought 0 shares for $0.0\n",
      "On the 200th day, Bought 0 shares for $0.0\n",
      "On the 204th day, Bought 0 shares for $0.0\n",
      "On the 207th day, Bought 0 shares for $0.0\n",
      "On the 239th day, sold 9.228980017540044 shares for $1028.7544025551888\n",
      "On the 244th day, Bought 4.426737494466578 shares for $500.0\n",
      "On the 245th day, Bought 4.394831677946735 shares for $500.00000000000006\n",
      "On the 246th day, Bought 0 shares for $0.0\n",
      "On the 247th day, Bought 0 shares for $0.0\n",
      "On the 280th day, Bought 0 shares for $0.0\n",
      "On the 281th day, Bought 0 shares for $0.0\n",
      "On the 285th day, Bought 0 shares for $0.0\n",
      "On the 286th day, Bought 0 shares for $0.0\n",
      "On the 326th day, Bought 0 shares for $0.0\n",
      "On the 327th day, Bought 0 shares for $0.0\n",
      "On the 328th day, Bought 0 shares for $0.0\n",
      "On the 329th day, Bought 0 shares for $0.0\n",
      "On the 346th day, Bought 0 shares for $0.0\n",
      "On the 347th day, Bought 0 shares for $0.0\n",
      "On the 371th day, Bought 0 shares for $0.0\n",
      "On the 379th day, Bought 0 shares for $0.0\n",
      "On the 380th day, Bought 0 shares for $0.0\n",
      "On the 418th day, Bought 0 shares for $0.0\n",
      "On the 423th day, Bought 0 shares for $0.0\n",
      "On the 429th day, Bought 0 shares for $0.0\n",
      "On the 431th day, Bought 0 shares for $0.0\n",
      "On the 432th day, Bought 0 shares for $0.0\n",
      "On the 433th day, Bought 0 shares for $0.0\n",
      "On the 434th day, Bought 0 shares for $0.0\n",
      "On the 473th day, Bought 0 shares for $0.0\n",
      "On the 474th day, Bought 0 shares for $0.0\n",
      "On the 475th day, Bought 0 shares for $0.0\n",
      "On the 476th day, Bought 0 shares for $0.0\n",
      "On the 509th day, Bought 0 shares for $0.0\n",
      "On the 510th day, Bought 0 shares for $0.0\n",
      "On the 511th day, Bought 0 shares for $0.0\n",
      "On the 512th day, Bought 0 shares for $0.0\n",
      "On the 553th day, sold 8.821569172413312 shares for $1202.1152311247622\n",
      "On the 572th day, Bought 3.7405550983765994 shares for $500.0\n",
      "On the 574th day, Bought 3.782148260211801 shares for $500.0\n",
      "On the 578th day, Bought 1 shares for $129.48\n",
      "On the 588th day, sold 8.5227033585884 shares for $1104.1162201051272\n",
      "On the 663th day, Bought 3.9429067108272218 shares for $500.0\n",
      "On the 664th day, Bought 4.000320025602048 shares for $499.99999999999994\n",
      "On the 670th day, Bought 1 shares for $127.03\n",
      "On the 676th day, Bought 0 shares for $0.0\n",
      "On the 678th day, Bought 0 shares for $0.0\n",
      "On the 681th day, Bought 0 shares for $0.0\n",
      "On the 713th day, Bought 0 shares for $0.0\n",
      "On the 722th day, sold 8.94322673642927 shares for $1226.5635469012745\n",
      "On the 726th day, Bought 3.586286042174724 shares for $500.0\n",
      "On the 768th day, Bought 3.757138563270213 shares for $500.0\n",
      "On the 792th day, Bought 2 shares for $250.14\n",
      "On the 793th day, Bought 0 shares for $0.0\n",
      "On the 794th day, Bought 0 shares for $0.0\n",
      "On the 795th day, Bought 0 shares for $0.0\n",
      "On the 829th day, Bought 0 shares for $0.0\n",
      "On the 840th day, Bought 0 shares for $0.0\n",
      "On the 841th day, Bought 0 shares for $0.0\n",
      "On the 849th day, Bought 0 shares for $0.0\n",
      "On the 871th day, sold 9.343424605444937 shares for $1229.9684150607713\n",
      "On the 883th day, Bought 3.7069988137603795 shares for $500.0\n",
      "On the 892th day, Bought 3.7441964954320803 shares for $500.0\n",
      "On the 906th day, sold 7.45119530919246 shares for $992.4992151844357\n",
      "On the 916th day, Bought 3.803149007378109 shares for $500.0\n",
      "On the 933th day, Bought 3.883796799751437 shares for $500.0\n",
      "On the 934th day, Bought 2 shares for $257.12\n",
      "On the 935th day, Bought 0 shares for $0.0\n",
      "On the 947th day, Bought 0 shares for $0.0\n"
     ]
    },
    {
     "name": "stderr",
     "output_type": "stream",
     "text": [
      "[*********************100%***********************]  1 of 1 completed"
     ]
    },
    {
     "name": "stdout",
     "output_type": "stream",
     "text": [
      "On the 968th day, sold 9.686945807129547 shares for $1242.3507997643644\n",
      "On the 997th day, Bought 3.602824614497766 shares for $500.0\n",
      "On the 998th day, Bought 3.6088054853843374 shares for $500.0\n",
      "XLV Final Value: 1283.5545282743756, Final Money: 279.40715316679143, Final Shares: 7.211630099882104\n",
      "read  1258  lines of data for ticker:  XLV\n"
     ]
    },
    {
     "name": "stderr",
     "output_type": "stream",
     "text": [
      "\n",
      "[*********************100%***********************]  1 of 1 completed\n"
     ]
    },
    {
     "name": "stdout",
     "output_type": "stream",
     "text": [
      "read  1007  lines of data for ticker:  XLV\n",
      "On the 71th day, Bought 5.023610971566362 shares for $500.00000000000006\n",
      "On the 73th day, Bought 4 shares for $398.92\n",
      "On the 74th day, Bought 1 shares for $97.83\n",
      "On the 75th day, Bought 0 shares for $0.0\n",
      "On the 76th day, Bought 0 shares for $0.0\n",
      "On the 77th day, Bought 0 shares for $0.0\n",
      "On the 102th day, sold 10.023610971566363 shares for $971.9895559127903\n",
      "On the 194th day, Bought 4.725004725004725 shares for $499.99999999999994\n",
      "On the 199th day, sold 4.725004725004725 shares for $484.4547344547345\n",
      "On the 550th day, Bought 3.6632720345812877 shares for $500.0\n",
      "On the 551th day, Bought 2 shares for $268.08\n",
      "On the 574th day, sold 5.663272034581288 shares for $748.6845629716462\n",
      "On the 589th day, Bought 3.8072032285083375 shares for $500.0\n",
      "On the 601th day, Bought 2 shares for $259.64\n",
      "On the 625th day, Bought 1 shares for $130.41\n",
      "On the 641th day, Bought 0 shares for $0.0\n",
      "On the 642th day, Bought 0 shares for $0.0\n",
      "On the 643th day, Bought 0 shares for $0.0\n",
      "On the 663th day, sold 6.807203228508337 shares for $863.2214414071423\n",
      "On the 696th day, Bought 4.00576830636116 shares for $500.0\n",
      "On the 697th day, Bought 3 shares for $371.28000000000003\n",
      "On the 702th day, Bought 0 shares for $0.0\n",
      "On the 720th day, Bought 0 shares for $0.0\n",
      "On the 721th day, Bought 0 shares for $0.0\n",
      "On the 722th day, Bought 0 shares for $0.0\n",
      "On the 723th day, Bought 0 shares for $0.0\n",
      "On the 724th day, Bought 0 shares for $0.0\n",
      "On the 768th day, sold 7.00576830636116 shares for $932.3276462105433\n",
      "On the 871th day, Bought 3.7982376177453667 shares for $500.0\n",
      "On the 883th day, sold 3.7982376177453667 shares for $512.306289881495\n",
      "On the 906th day, Bought 3.753753753753754 shares for $500.0\n",
      "On the 907th day, Bought 2 shares for $267.2\n",
      "On the 916th day, sold 5.753753753753754 shares for $756.4460060060061\n"
     ]
    },
    {
     "name": "stderr",
     "output_type": "stream",
     "text": [
      "[*********************100%***********************]  1 of 1 completed"
     ]
    },
    {
     "name": "stdout",
     "output_type": "stream",
     "text": [
      "On the 970th day, Bought 3.8517833757029503 shares for $500.0\n",
      "On the 971th day, Bought 2 shares for $260.86\n",
      "On the 972th day, Bought 1 shares for $131.13\n",
      "On the 974th day, Bought 0 shares for $0.0\n",
      "On the 997th day, sold 6.851783375702951 shares for $950.8904968800555\n",
      "XLV Final Value: 1034.9707337244129, Final Money: 1034.9707337244129, Final Shares: 0.0\n",
      "read  1258  lines of data for ticker:  XLV\n"
     ]
    },
    {
     "name": "stderr",
     "output_type": "stream",
     "text": [
      "\n",
      "[*********************100%***********************]  1 of 1 completed\n"
     ]
    },
    {
     "name": "stdout",
     "output_type": "stream",
     "text": [
      "read  1007  lines of data for ticker:  XLV\n",
      "On the 68th day, Bought 5.052546483427648 shares for $500.0\n",
      "On the 69th day, Bought 3 shares for $300.87\n",
      "On the 70th day, Bought 1 shares for $101.58\n",
      "On the 74th day, Bought 0 shares for $0.0\n",
      "On the 78th day, Bought 0 shares for $0.0\n",
      "On the 99th day, Bought 0 shares for $0.0\n",
      "On the 104th day, sold 9.052546483427648 shares for $885.5200970088924\n",
      "On the 553th day, Bought 3.669186174506494 shares for $500.0\n",
      "On the 554th day, Bought 2 shares for $274.52\n",
      "On the 608th day, sold 5.669186174506494 shares for $683.3070096132677\n",
      "On the 649th day, Bought 3.74195479718605 shares for $500.0\n",
      "On the 650th day, Bought 2 shares for $268.58\n",
      "On the 661th day, sold 5.74195479718605 shares for $720.9598443346805\n"
     ]
    },
    {
     "name": "stderr",
     "output_type": "stream",
     "text": [
      "[*********************100%***********************]  1 of 1 completed"
     ]
    },
    {
     "name": "stdout",
     "output_type": "stream",
     "text": [
      "On the 984th day, Bought 3.7450378248820315 shares for $500.0\n",
      "On the 985th day, Bought 2 shares for $271.94\n",
      "On the 990th day, Bought 0 shares for $0.0\n",
      "On the 991th day, Bought 0 shares for $0.0\n",
      "On the 992th day, Bought 0 shares for $0.0\n",
      "On the 993th day, Bought 0 shares for $0.0\n",
      "XLV Final Value: 872.2360176934149, Final Money: 72.2969509568407, Final Shares: 5.745037824882031\n",
      "read  1258  lines of data for ticker:  XLV\n"
     ]
    },
    {
     "name": "stderr",
     "output_type": "stream",
     "text": [
      "\n",
      "[*********************100%***********************]  1 of 1 completed\n"
     ]
    },
    {
     "name": "stdout",
     "output_type": "stream",
     "text": [
      "read  1007  lines of data for ticker:  XLV\n",
      "On the 124th day, Bought 4.8407396650208145 shares for $499.99999999999994\n",
      "On the 132th day, Bought 4.757373929590866 shares for $500.0\n",
      "On the 133th day, Bought 0 shares for $0.0\n",
      "On the 134th day, Bought 0 shares for $0.0\n",
      "On the 135th day, Bought 0 shares for $0.0\n",
      "On the 136th day, Bought 0 shares for $0.0\n",
      "On the 138th day, Bought 0 shares for $0.0\n",
      "On the 143th day, Bought 0 shares for $0.0\n",
      "On the 144th day, Bought 0 shares for $0.0\n",
      "On the 145th day, Bought 0 shares for $0.0\n",
      "On the 146th day, Bought 0 shares for $0.0\n",
      "On the 147th day, Bought 0 shares for $0.0\n",
      "On the 148th day, Bought 0 shares for $0.0\n",
      "On the 183th day, sold 9.59811359461168 shares for $1006.7461349388192\n",
      "On the 234th day, Bought 4.428305730227615 shares for $500.0\n",
      "On the 235th day, Bought 4.424778761061947 shares for $500.0\n",
      "On the 236th day, Bought 0 shares for $0.0\n",
      "On the 237th day, Bought 0 shares for $0.0\n",
      "On the 238th day, Bought 0 shares for $0.0\n",
      "On the 239th day, Bought 0 shares for $0.0\n",
      "On the 240th day, Bought 0 shares for $0.0\n",
      "On the 241th day, Bought 0 shares for $0.0\n",
      "On the 245th day, Bought 0 shares for $0.0\n",
      "On the 246th day, Bought 0 shares for $0.0\n",
      "On the 247th day, Bought 0 shares for $0.0\n",
      "On the 279th day, Bought 0 shares for $0.0\n",
      "On the 280th day, Bought 0 shares for $0.0\n",
      "On the 281th day, Bought 0 shares for $0.0\n",
      "On the 288th day, sold 8.853084491289561 shares for $1003.9397813122363\n",
      "On the 317th day, Bought 4.099032628299721 shares for $500.0\n",
      "On the 318th day, Bought 0 shares for $0.0\n",
      "On the 319th day, Bought 0 shares for $0.0\n",
      "On the 320th day, Bought 0 shares for $0.0\n",
      "On the 325th day, Bought 0 shares for $0.0\n",
      "On the 326th day, Bought 0 shares for $0.0\n",
      "On the 327th day, Bought 0 shares for $0.0\n",
      "On the 328th day, Bought 0 shares for $0.0\n",
      "On the 329th day, Bought 0 shares for $0.0\n",
      "On the 371th day, Bought 0 shares for $0.0\n",
      "On the 379th day, Bought 0 shares for $0.0\n",
      "On the 380th day, Bought 0 shares for $0.0\n",
      "On the 412th day, Bought 0 shares for $0.0\n",
      "On the 419th day, Bought 0 shares for $0.0\n",
      "On the 420th day, Bought 0 shares for $0.0\n",
      "On the 422th day, Bought 0 shares for $0.0\n",
      "On the 423th day, Bought 0 shares for $0.0\n",
      "On the 424th day, Bought 0 shares for $0.0\n",
      "On the 433th day, Bought 0 shares for $0.0\n",
      "On the 437th day, sold 4.099032628299721 shares for $520.3312018363665\n",
      "On the 467th day, Bought 0 shares for $0.0\n",
      "On the 468th day, Bought 0 shares for $0.0\n",
      "On the 469th day, Bought 0 shares for $0.0\n",
      "On the 470th day, Bought 0 shares for $0.0\n",
      "On the 471th day, Bought 0 shares for $0.0\n",
      "On the 472th day, Bought 0 shares for $0.0\n",
      "On the 473th day, Bought 0 shares for $0.0\n",
      "On the 474th day, Bought 0 shares for $0.0\n",
      "On the 475th day, Bought 0 shares for $0.0\n",
      "On the 476th day, Bought 0 shares for $0.0\n",
      "On the 509th day, Bought 0 shares for $0.0\n",
      "On the 510th day, Bought 0 shares for $0.0\n",
      "On the 512th day, Bought 0 shares for $0.0\n",
      "On the 559th day, Bought 0 shares for $0.0\n",
      "On the 560th day, Bought 0 shares for $0.0\n",
      "On the 561th day, Bought 0 shares for $0.0\n",
      "On the 562th day, Bought 0 shares for $0.0\n",
      "On the 563th day, Bought 0 shares for $0.0\n",
      "On the 644th day, Bought 0 shares for $0.0\n",
      "On the 645th day, Bought 0 shares for $0.0\n",
      "On the 646th day, Bought 0 shares for $0.0\n",
      "On the 663th day, Bought 0 shares for $0.0\n",
      "On the 666th day, Bought 0 shares for $0.0\n",
      "On the 717th day, Bought 0 shares for $0.0\n",
      "On the 718th day, Bought 0 shares for $0.0\n",
      "On the 719th day, Bought 0 shares for $0.0\n",
      "On the 720th day, Bought 0 shares for $0.0\n",
      "On the 721th day, Bought 0 shares for $0.0\n",
      "On the 727th day, Bought 0 shares for $0.0\n",
      "On the 768th day, Bought 0 shares for $0.0\n",
      "On the 793th day, Bought 0 shares for $0.0\n",
      "On the 794th day, Bought 0 shares for $0.0\n",
      "On the 828th day, Bought 0 shares for $0.0\n",
      "On the 829th day, Bought 0 shares for $0.0\n",
      "On the 830th day, Bought 0 shares for $0.0\n",
      "On the 831th day, Bought 0 shares for $0.0\n",
      "On the 832th day, Bought 0 shares for $0.0\n",
      "On the 883th day, Bought 0 shares for $0.0\n",
      "On the 917th day, Bought 0 shares for $0.0\n",
      "On the 932th day, Bought 0 shares for $0.0\n",
      "On the 934th day, Bought 0 shares for $0.0\n",
      "On the 935th day, Bought 0 shares for $0.0\n",
      "On the 985th day, Bought 0 shares for $0.0\n",
      "On the 986th day, Bought 0 shares for $0.0\n",
      "On the 987th day, Bought 0 shares for $0.0\n",
      "On the 988th day, Bought 0 shares for $0.0\n",
      "On the 989th day, Bought 0 shares for $0.0\n",
      "On the 995th day, Bought 0 shares for $0.0\n",
      "On the 996th day, Bought 0 shares for $0.0\n",
      "On the 997th day, Bought 0 shares for $0.0\n",
      "XLV Final Value: 1031.0171180874222, Final Money: 1031.0171180874222, Final Shares: 0.0\n"
     ]
    },
    {
     "name": "stderr",
     "output_type": "stream",
     "text": [
      "[*********************100%***********************]  1 of 1 completed\n"
     ]
    },
    {
     "name": "stdout",
     "output_type": "stream",
     "text": [
      "read  1258  lines of data for ticker:  XLY\n"
     ]
    },
    {
     "name": "stderr",
     "output_type": "stream",
     "text": [
      "[*********************100%***********************]  1 of 1 completed\n"
     ]
    },
    {
     "name": "stdout",
     "output_type": "stream",
     "text": [
      "read  1007  lines of data for ticker:  XLY\n",
      "On the 72th day, Bought 4.261484701269922 shares for $500.0\n",
      "On the 93th day, Bought 3 shares for $372.57\n",
      "On the 94th day, Bought 1 shares for $125.37\n",
      "On the 95th day, Bought 0 shares for $0.0\n",
      "On the 96th day, Bought 0 shares for $0.0\n",
      "On the 97th day, Bought 0 shares for $0.0\n",
      "On the 98th day, Bought 0 shares for $0.0\n",
      "On the 99th day, Bought 0 shares for $0.0\n",
      "On the 100th day, Bought 0 shares for $0.0\n",
      "On the 105th day, sold 8.261484701269922 shares for $1067.301208557061\n",
      "On the 132th day, Bought 3.688947912055482 shares for $500.0\n",
      "On the 133th day, Bought 3.6662267194603317 shares for $500.0\n",
      "On the 134th day, Bought 0 shares for $0.0\n",
      "On the 140th day, Bought 0 shares for $0.0\n",
      "On the 141th day, Bought 0 shares for $0.0\n",
      "On the 163th day, sold 7.355174631515814 shares for $1068.1920117350417\n",
      "On the 216th day, Bought 3.2533021016331576 shares for $500.0\n",
      "On the 217th day, Bought 3.2179173638820955 shares for $500.0\n",
      "On the 218th day, Bought 0 shares for $0.0\n",
      "On the 219th day, Bought 0 shares for $0.0\n",
      "On the 220th day, Bought 0 shares for $0.0\n",
      "On the 221th day, Bought 0 shares for $0.0\n",
      "On the 247th day, sold 6.471219465515253 shares for $1070.2102752069125\n",
      "On the 309th day, Bought 2.8682882055988985 shares for $499.99999999999994\n",
      "On the 310th day, Bought 2.8412319581770658 shares for $500.0\n",
      "On the 311th day, Bought 1 shares for $177.11\n",
      "On the 312th day, Bought 0 shares for $0.0\n",
      "On the 313th day, Bought 0 shares for $0.0\n",
      "On the 334th day, sold 6.709520163775965 shares for $1126.0587690865202\n",
      "On the 496th day, Bought 2.377442822500119 shares for $500.0\n",
      "On the 497th day, Bought 2.392001148160551 shares for $500.0\n",
      "On the 554th day, Bought 0 shares for $0.0\n",
      "On the 555th day, Bought 0 shares for $0.0\n",
      "On the 556th day, Bought 0 shares for $0.0\n",
      "On the 557th day, Bought 0 shares for $0.0\n",
      "On the 558th day, Bought 0 shares for $0.0\n",
      "On the 559th day, Bought 0 shares for $0.0\n",
      "On the 604th day, Bought 1 shares for $153.24\n",
      "On the 605th day, Bought 0 shares for $0.0\n",
      "On the 606th day, Bought 0 shares for $0.0\n",
      "On the 625th day, Bought 0 shares for $0.0\n",
      "On the 626th day, Bought 0 shares for $0.0\n",
      "On the 627th day, Bought 0 shares for $0.0\n",
      "On the 631th day, Bought 0 shares for $0.0\n",
      "On the 633th day, Bought 0 shares for $0.0\n",
      "On the 634th day, Bought 0 shares for $0.0\n",
      "On the 635th day, Bought 0 shares for $0.0\n",
      "On the 636th day, Bought 0 shares for $0.0\n",
      "On the 647th day, Bought 0 shares for $0.0\n",
      "On the 648th day, Bought 0 shares for $0.0\n",
      "On the 649th day, Bought 0 shares for $0.0\n",
      "On the 650th day, Bought 0 shares for $0.0\n",
      "On the 651th day, Bought 0 shares for $0.0\n",
      "On the 654th day, Bought 0 shares for $0.0\n",
      "On the 655th day, Bought 0 shares for $0.0\n",
      "On the 657th day, Bought 0 shares for $0.0\n",
      "On the 658th day, Bought 0 shares for $0.0\n",
      "On the 703th day, Bought 0 shares for $0.0\n",
      "On the 720th day, Bought 0 shares for $0.0\n",
      "On the 721th day, Bought 0 shares for $0.0\n",
      "On the 722th day, Bought 0 shares for $0.0\n",
      "On the 723th day, Bought 0 shares for $0.0\n",
      "On the 724th day, Bought 0 shares for $0.0\n",
      "On the 725th day, Bought 0 shares for $0.0\n",
      "On the 726th day, Bought 0 shares for $0.0\n",
      "On the 727th day, Bought 0 shares for $0.0\n",
      "On the 769th day, sold 5.76944397066067 shares for $873.2053449594923\n",
      "On the 788th day, Bought 3.41740140796938 shares for $500.0\n",
      "On the 789th day, Bought 2 shares for $290.48\n",
      "On the 790th day, Bought 0 shares for $0.0\n",
      "On the 791th day, Bought 0 shares for $0.0\n",
      "On the 792th day, Bought 0 shares for $0.0\n",
      "On the 810th day, Bought 0 shares for $0.0\n",
      "On the 811th day, Bought 0 shares for $0.0\n",
      "On the 835th day, Bought 0 shares for $0.0\n",
      "On the 836th day, Bought 0 shares for $0.0\n",
      "On the 837th day, Bought 0 shares for $0.0\n",
      "On the 852th day, sold 5.41740140796938 shares for $853.0781997129383\n"
     ]
    },
    {
     "name": "stderr",
     "output_type": "stream",
     "text": [
      "[*********************100%***********************]  1 of 1 completed"
     ]
    },
    {
     "name": "stdout",
     "output_type": "stream",
     "text": [
      "On the 958th day, Bought 3.1207090250905005 shares for $500.0\n",
      "On the 959th day, Bought 2 shares for $320.84\n",
      "On the 960th day, Bought 0 shares for $0.0\n",
      "On the 961th day, Bought 0 shares for $0.0\n",
      "On the 962th day, Bought 0 shares for $0.0\n",
      "On the 963th day, Bought 0 shares for $0.0\n",
      "On the 973th day, Bought 0 shares for $0.0\n",
      "On the 974th day, Bought 0 shares for $0.0\n",
      "On the 975th day, Bought 0 shares for $0.0\n",
      "On the 976th day, Bought 0 shares for $0.0\n",
      "XLY Final Value: 1000.9900097323134, Final Money: 118.43580925796579, Final Shares: 5.1207090250905\n",
      "read  1258  lines of data for ticker:  XLY\n"
     ]
    },
    {
     "name": "stderr",
     "output_type": "stream",
     "text": [
      "\n",
      "[*********************100%***********************]  1 of 1 completed\n"
     ]
    },
    {
     "name": "stdout",
     "output_type": "stream",
     "text": [
      "read  1007  lines of data for ticker:  XLY\n",
      "On the 94th day, Bought 3.9881949429688124 shares for $500.0\n",
      "On the 158th day, sold 3.9881949429688124 shares for $598.588178990189\n",
      "On the 195th day, Bought 3.2968482131082686 shares for $500.0\n",
      "On the 196th day, Bought 3.268187463232891 shares for $500.0\n",
      "On the 205th day, sold 6.565035676341159 shares for $1005.8947663289924\n",
      "On the 230th day, Bought 3.198976327575176 shares for $500.00000000000006\n",
      "On the 244th day, sold 3.198976327575176 shares for $509.9808061420345\n",
      "On the 272th day, Bought 2.9356505401596995 shares for $500.0\n",
      "On the 273th day, Bought 2.9484609034084204 shares for $499.99999999999994\n",
      "On the 274th day, Bought 0 shares for $0.0\n",
      "On the 275th day, Bought 0 shares for $0.0\n",
      "On the 327th day, Bought 0 shares for $0.0\n",
      "On the 328th day, Bought 0 shares for $0.0\n",
      "On the 329th day, Bought 0 shares for $0.0\n",
      "On the 330th day, Bought 0 shares for $0.0\n",
      "On the 334th day, sold 5.88411144356812 shares for $987.5304235740376\n",
      "On the 397th day, Bought 2.7460456942003515 shares for $500.00000000000006\n",
      "On the 398th day, Bought 2.753910552985239 shares for $499.99999999999994\n",
      "On the 399th day, Bought 0 shares for $0.0\n",
      "On the 424th day, sold 5.49995624718559 shares for $989.4971284311596\n",
      "On the 495th day, Bought 2.4457053414204655 shares for $499.99999999999994\n",
      "On the 509th day, sold 2.4457053414204655 shares for $441.25415769908034\n",
      "On the 559th day, Bought 2.6400549131421935 shares for $500.0\n",
      "On the 569th day, Bought 2.715472763808179 shares for $500.0\n",
      "On the 589th day, Bought 0 shares for $0.0\n",
      "On the 595th day, Bought 0 shares for $0.0\n",
      "On the 605th day, Bought 0 shares for $0.0\n",
      "On the 620th day, Bought 0 shares for $0.0\n",
      "On the 621th day, Bought 0 shares for $0.0\n",
      "On the 625th day, Bought 0 shares for $0.0\n",
      "On the 629th day, Bought 0 shares for $0.0\n",
      "On the 640th day, sold 5.355527676950373 shares for $876.3785490561589\n",
      "On the 709th day, Bought 3.661930569796397 shares for $500.00000000000006\n",
      "On the 710th day, Bought 2 shares for $272.4\n",
      "On the 713th day, sold 5.661930569796397 shares for $821.4895063717593\n",
      "On the 721th day, Bought 3.5075412136092594 shares for $499.99999999999994\n",
      "On the 722th day, Bought 2 shares for $285.26\n",
      "On the 764th day, sold 5.50754121360926 shares for $814.5102700806733\n",
      "On the 824th day, Bought 3.4618846500034617 shares for $500.0\n",
      "On the 826th day, Bought 2 shares for $294.96\n",
      "On the 836th day, Bought 1 shares for $149.09\n",
      "On the 838th day, Bought 0 shares for $0.0\n",
      "On the 839th day, Bought 0 shares for $0.0\n",
      "On the 840th day, Bought 0 shares for $0.0\n",
      "On the 870th day, sold 6.461884650003462 shares for $1097.2926324170878\n",
      "On the 881th day, Bought 2.835270768358378 shares for $500.0\n",
      "On the 900th day, Bought 2.9370300751879697 shares for $500.0\n",
      "On the 904th day, Bought 0 shares for $0.0\n",
      "On the 905th day, Bought 0 shares for $0.0\n"
     ]
    },
    {
     "name": "stderr",
     "output_type": "stream",
     "text": [
      "[*********************100%***********************]  1 of 1 completed"
     ]
    },
    {
     "name": "stdout",
     "output_type": "stream",
     "text": [
      "On the 947th day, sold 5.772300843546348 shares for $889.3961139736214\n",
      "On the 961th day, Bought 3.0906168871306714 shares for $500.0\n",
      "On the 966th day, sold 3.0906168871306714 shares for $518.4509828161702\n",
      "On the 973th day, Bought 2.967182956501098 shares for $500.0\n",
      "On the 975th day, Bought 2.958229795290498 shares for $500.0\n",
      "XLY Final Value: 1069.7984036522457, Final Money: 48.55351588096437, Final Shares: 5.925412751791596\n",
      "read  1258  lines of data for ticker:  XLY\n"
     ]
    },
    {
     "name": "stderr",
     "output_type": "stream",
     "text": [
      "\n",
      "[*********************100%***********************]  1 of 1 completed\n"
     ]
    },
    {
     "name": "stdout",
     "output_type": "stream",
     "text": [
      "read  1007  lines of data for ticker:  XLY\n",
      "On the 159th day, Bought 3.2968482131082686 shares for $500.0\n",
      "On the 164th day, sold 3.2968482131082686 shares for $487.8346300936305\n",
      "On the 379th day, Bought 2.841393419332841 shares for $500.0\n",
      "On the 382th day, Bought 1 shares for $181.65\n",
      "On the 383th day, Bought 1 shares for $183.27\n",
      "On the 387th day, Bought 0 shares for $0.0\n",
      "On the 403th day, sold 4.8413934193328405 shares for $859.9282991418992\n",
      "On the 846th day, Bought 3.367456896551724 shares for $500.0\n",
      "On the 847th day, Bought 2 shares for $303.94\n",
      "On the 848th day, Bought 1 shares for $152.99\n",
      "On the 852th day, sold 6.367456896551724 shares for $1002.6834375\n"
     ]
    },
    {
     "name": "stderr",
     "output_type": "stream",
     "text": [
      "[*********************100%***********************]  1 of 1 completed"
     ]
    },
    {
     "name": "stdout",
     "output_type": "stream",
     "text": [
      "XLY Final Value: 1028.5963667355297, Final Money: 1028.5963667355297, Final Shares: 0.0\n",
      "read  1258  lines of data for ticker:  XLY\n"
     ]
    },
    {
     "name": "stderr",
     "output_type": "stream",
     "text": [
      "\n",
      "[*********************100%***********************]  1 of 1 completed\n"
     ]
    },
    {
     "name": "stdout",
     "output_type": "stream",
     "text": [
      "read  1007  lines of data for ticker:  XLY\n",
      "On the 122th day, Bought 3.750656364863851 shares for $500.0\n",
      "On the 164th day, sold 3.750656364863851 shares for $554.984622308904\n",
      "On the 222th day, Bought 3.1559679353657764 shares for $499.99999999999994\n",
      "On the 228th day, Bought 3.1808639226413895 shares for $500.0\n",
      "On the 244th day, Bought 0 shares for $0.0\n",
      "On the 251th day, sold 6.336831858007166 shares for $1065.601645242485\n",
      "On the 307th day, Bought 2.8732329617285366 shares for $499.99999999999994\n",
      "On the 319th day, sold 2.8732329617285366 shares for $505.63153660498784\n",
      "On the 359th day, Bought 2.904275092936803 shares for $499.99999999999994\n",
      "On the 372th day, Bought 2.765486725663717 shares for $500.0\n",
      "On the 410th day, Bought 0 shares for $0.0\n",
      "On the 431th day, Bought 0 shares for $0.0\n",
      "On the 444th day, sold 5.66976181860052 shares for $1081.6771597526072\n",
      "On the 459th day, Bought 2.445944623813717 shares for $500.0\n",
      "On the 462th day, sold 2.445944623813717 shares for $498.45905488699736\n",
      "On the 465th day, Bought 2.402113860196973 shares for $500.0\n",
      "On the 475th day, Bought 2.455675065075389 shares for $499.99999999999994\n",
      "On the 478th day, sold 4.857788925272362 shares for $1003.8135035182809\n",
      "On the 509th day, Bought 2.7713113845471677 shares for $499.99999999999994\n",
      "On the 510th day, Bought 2.738375595596692 shares for $500.0\n",
      "On the 511th day, Bought 1 shares for $179.5\n",
      "On the 512th day, Bought 0 shares for $0.0\n",
      "On the 516th day, sold 6.50968698014386 shares for $1211.2574563953679\n",
      "On the 574th day, Bought 2.973889252364242 shares for $500.0\n",
      "On the 578th day, sold 2.973889252364242 shares for $491.46493784571464\n",
      "On the 615th day, Bought 3.401591945030274 shares for $500.0\n",
      "On the 616th day, Bought 3.4376074252320388 shares for $500.0\n",
      "On the 663th day, Bought 1 shares for $156.93\n",
      "On the 664th day, Bought 0 shares for $0.0\n",
      "On the 665th day, Bought 0 shares for $0.0\n",
      "On the 666th day, Bought 0 shares for $0.0\n",
      "On the 691th day, Bought 0 shares for $0.0\n",
      "On the 692th day, Bought 0 shares for $0.0\n",
      "On the 695th day, sold 7.839199370262312 shares for $1118.6537501364319\n",
      "On the 769th day, Bought 3.303600925008259 shares for $500.0\n",
      "On the 771th day, sold 3.303600925008259 shares for $500.42946812025104\n",
      "On the 793th day, Bought 3.6179450072358903 shares for $500.0\n",
      "On the 794th day, Bought 3.610368979709726 shares for $500.0\n",
      "On the 833th day, sold 7.228313986945617 shares for $1067.5496927319982\n",
      "On the 883th day, Bought 2.925002925002925 shares for $500.0\n",
      "On the 925th day, sold 2.925002925002925 shares for $493.6527436527437\n",
      "On the 929th day, Bought 3.0879446640316206 shares for $499.99999999999994\n",
      "On the 951th day, sold 3.0879446640316206 shares for $464.3959980237154\n",
      "XLY Final Value: 1221.1415692204846, Final Money: 1221.1415692204846, Final Shares: 0.0\n"
     ]
    },
    {
     "name": "stderr",
     "output_type": "stream",
     "text": [
      "[*********************100%***********************]  1 of 1 completed\n"
     ]
    },
    {
     "name": "stdout",
     "output_type": "stream",
     "text": [
      "read  1258  lines of data for ticker:  XLU\n"
     ]
    },
    {
     "name": "stderr",
     "output_type": "stream",
     "text": [
      "[*********************100%***********************]  1 of 1 completed\n"
     ]
    },
    {
     "name": "stdout",
     "output_type": "stream",
     "text": [
      "read  1007  lines of data for ticker:  XLU\n",
      "On the 124th day, Bought 8.566044200788076 shares for $499.99999999999994\n",
      "On the 151th day, Bought 8.428860418071476 shares for $500.0\n",
      "On the 152th day, Bought 0 shares for $0.0\n",
      "On the 153th day, Bought 0 shares for $0.0\n",
      "On the 154th day, Bought 0 shares for $0.0\n",
      "On the 165th day, sold 16.99490461885955 shares for $999.1304425427529\n",
      "On the 191th day, Bought 7.8125 shares for $500.0\n",
      "On the 195th day, Bought 6 shares for $387.41999999999996\n",
      "On the 196th day, Bought 1 shares for $64.75\n",
      "On the 197th day, Bought 0 shares for $0.0\n",
      "On the 204th day, sold 14.8125 shares for $943.5562500000001\n",
      "On the 275th day, Bought 8.020532563362206 shares for $499.99999999999994\n",
      "On the 283th day, sold 8.020532563362206 shares for $476.9810715431504\n",
      "On the 311th day, Bought 7.706535141800247 shares for $500.0\n",
      "On the 334th day, sold 7.706535141800247 shares for $505.4716399506782\n",
      "On the 448th day, Bought 7.467144563918758 shares for $500.0\n",
      "On the 449th day, Bought 6 shares for $403.91999999999996\n",
      "On the 450th day, Bought 1 shares for $66.87\n",
      "On the 451th day, Bought 0 shares for $0.0\n",
      "On the 453th day, Bought 0 shares for $0.0\n",
      "On the 474th day, sold 14.467144563918758 shares for $953.240155316607\n",
      "On the 550th day, Bought 7.051191651389085 shares for $500.0\n",
      "On the 551th day, Bought 6 shares for $426.06000000000006\n",
      "On the 552th day, Bought 0 shares for $0.0\n",
      "On the 553th day, Bought 0 shares for $0.0\n",
      "On the 554th day, Bought 0 shares for $0.0\n",
      "On the 555th day, Bought 0 shares for $0.0\n",
      "On the 556th day, Bought 0 shares for $0.0\n",
      "On the 557th day, Bought 0 shares for $0.0\n",
      "On the 577th day, sold 13.051191651389086 shares for $930.0279170779863\n",
      "On the 654th day, Bought 6.435006435006435 shares for $500.0\n",
      "On the 655th day, Bought 5 shares for $383.2\n",
      "On the 656th day, Bought 1 shares for $76.18\n",
      "On the 657th day, Bought 0 shares for $0.0\n",
      "On the 658th day, Bought 0 shares for $0.0\n",
      "On the 659th day, Bought 0 shares for $0.0\n",
      "On the 677th day, sold 12.435006435006436 shares for $902.7814671814672\n",
      "On the 720th day, Bought 7.168458781362007 shares for $500.0\n",
      "On the 721th day, Bought 5 shares for $352.65\n",
      "On the 722th day, Bought 0 shares for $0.0\n",
      "On the 723th day, Bought 0 shares for $0.0\n",
      "On the 772th day, sold 12.168458781362007 shares for $819.0589605734767\n",
      "On the 811th day, Bought 7.212925562608195 shares for $500.0\n",
      "On the 812th day, Bought 5 shares for $349.05\n",
      "On the 813th day, Bought 0 shares for $0.0\n",
      "On the 814th day, Bought 0 shares for $0.0\n",
      "On the 840th day, sold 12.212925562608195 shares for $811.0603866128101\n",
      "On the 860th day, Bought 7.469375560203167 shares for $499.99999999999994\n",
      "On the 862th day, Bought 5 shares for $329.90000000000003\n",
      "On the 866th day, sold 12.469375560203167 shares for $818.863893038542\n"
     ]
    },
    {
     "name": "stderr",
     "output_type": "stream",
     "text": [
      "[*********************100%***********************]  1 of 1 completed"
     ]
    },
    {
     "name": "stdout",
     "output_type": "stream",
     "text": [
      "On the 965th day, Bought 8.067118425298483 shares for $500.0\n",
      "On the 971th day, Bought 5 shares for $312.65\n",
      "On the 972th day, Bought 0 shares for $0.0\n",
      "On the 973th day, Bought 0 shares for $0.0\n",
      "On the 974th day, Bought 0 shares for $0.0\n",
      "On the 975th day, Bought 0 shares for $0.0\n",
      "XLU Final Value: 847.6072273999106, Final Money: 7.5221838374710615, Final Shares: 13.067118425298483\n",
      "read  1258  lines of data for ticker:  XLU\n"
     ]
    },
    {
     "name": "stderr",
     "output_type": "stream",
     "text": [
      "\n",
      "[*********************100%***********************]  1 of 1 completed\n"
     ]
    },
    {
     "name": "stdout",
     "output_type": "stream",
     "text": [
      "read  1007  lines of data for ticker:  XLU\n",
      "On the 113th day, Bought 9.061254077564335 shares for $500.0\n",
      "On the 152th day, Bought 7 shares for $415.94\n",
      "On the 153th day, Bought 1 shares for $59.94\n",
      "On the 154th day, Bought 0 shares for $0.0\n",
      "On the 155th day, Bought 0 shares for $0.0\n",
      "On the 200th day, sold 17.061254077564335 shares for $1074.347169264226\n",
      "On the 230th day, Bought 8.033419023136247 shares for $500.00000000000006\n",
      "On the 231th day, Bought 8.074935400516795 shares for $499.99999999999994\n",
      "On the 232th day, Bought 1 shares for $63.14\n",
      "On the 247th day, sold 17.10835442365304 shares for $1057.4673869259943\n",
      "On the 269th day, Bought 7.912644405760405 shares for $500.0\n",
      "On the 270th day, Bought 7.881462799495587 shares for $500.0\n",
      "On the 311th day, Bought 1 shares for $64.88\n",
      "On the 312th day, Bought 0 shares for $0.0\n",
      "On the 331th day, sold 16.79410720525599 shares for $1120.3348916626271\n",
      "On the 629th day, Bought 7.16743119266055 shares for $500.0\n",
      "On the 630th day, Bought 7.268498328245384 shares for $500.0\n",
      "On the 631th day, Bought 2 shares for $138.46\n",
      "On the 632th day, Bought 0 shares for $0.0\n",
      "On the 667th day, sold 16.435929520905933 shares for $1266.7170881762202\n",
      "On the 722th day, Bought 7.048209754722301 shares for $500.0\n",
      "On the 766th day, Bought 7.236937328122738 shares for $500.0\n",
      "On the 790th day, sold 14.28514708284504 shares for $935.3914309846932\n",
      "On the 819th day, Bought 7.255840951966333 shares for $500.0\n",
      "On the 820th day, Bought 7.200460829493088 shares for $500.0\n",
      "On the 821th day, Bought 3 shares for $208.26\n",
      "On the 822th day, Bought 0 shares for $0.0\n",
      "On the 823th day, Bought 0 shares for $0.0\n",
      "On the 884th day, sold 17.456301781459423 shares for $1195.058419958712\n",
      "On the 901th day, Bought 7.9339892097746745 shares for $500.0\n",
      "On the 902th day, Bought 7.898894154818326 shares for $500.0\n",
      "On the 903th day, Bought 3 shares for $189.48\n",
      "On the 904th day, Bought 0 shares for $0.0\n",
      "On the 905th day, Bought 0 shares for $0.0\n",
      "On the 909th day, Bought 0 shares for $0.0\n",
      "On the 910th day, Bought 0 shares for $0.0\n",
      "On the 911th day, Bought 0 shares for $0.0\n",
      "On the 912th day, Bought 0 shares for $0.0\n",
      "On the 935th day, Bought 0 shares for $0.0\n",
      "On the 939th day, sold 18.832883364593002 shares for $1088.9173161407673\n",
      "On the 973th day, Bought 7.963051441312311 shares for $500.0\n",
      "On the 974th day, Bought 7.937767899666613 shares for $500.0\n",
      "On the 975th day, Bought 1 shares for $62.49\n",
      "On the 976th day, Bought 0 shares for $0.0\n"
     ]
    },
    {
     "name": "stderr",
     "output_type": "stream",
     "text": [
      "[*********************100%***********************]  1 of 1 completed"
     ]
    },
    {
     "name": "stdout",
     "output_type": "stream",
     "text": [
      "XLU Final Value: 1122.1973785447751, Final Money: 35.643703113240015, Final Shares: 16.900819340978924\n",
      "read  1258  lines of data for ticker:  XLU\n"
     ]
    },
    {
     "name": "stderr",
     "output_type": "stream",
     "text": [
      "\n",
      "[*********************100%***********************]  1 of 1 completed\n"
     ]
    },
    {
     "name": "stdout",
     "output_type": "stream",
     "text": [
      "read  1007  lines of data for ticker:  XLU\n",
      "On the 64th day, Bought 8.260366760284157 shares for $500.0\n",
      "On the 65th day, Bought 7 shares for $407.68\n",
      "On the 66th day, Bought 1 shares for $57.28\n",
      "On the 67th day, Bought 0 shares for $0.0\n",
      "On the 69th day, Bought 0 shares for $0.0\n",
      "On the 95th day, sold 16.260366760284157 shares for $988.4676953576738\n",
      "On the 258th day, Bought 7.8003120124805 shares for $500.0\n",
      "On the 278th day, sold 7.8003120124805 shares for $473.5569422776912\n",
      "On the 307th day, Bought 7.689941556444172 shares for $500.0\n",
      "On the 334th day, sold 7.689941556444172 shares for $504.38326668717326\n",
      "On the 349th day, Bought 7.6464291176020796 shares for $500.0\n",
      "On the 360th day, sold 7.6464291176020796 shares for $492.65942804710204\n",
      "On the 411th day, Bought 7.200460829493088 shares for $500.0\n",
      "On the 419th day, sold 7.200460829493088 shares for $490.35138248847926\n",
      "On the 451th day, Bought 7.428316743425939 shares for $500.0\n",
      "On the 452th day, Bought 6 shares for $401.46\n",
      "On the 453th day, Bought 1 shares for $67.15\n",
      "On the 474th day, sold 14.428316743425938 shares for $950.681790224335\n",
      "On the 530th day, Bought 7.558578987150415 shares for $500.0\n",
      "On the 538th day, sold 7.558578987150415 shares for $535.827664399093\n",
      "On the 601th day, Bought 6.724949562878279 shares for $500.0\n",
      "On the 607th day, sold 6.724949562878279 shares for $457.70006724949565\n",
      "On the 709th day, Bought 7.597629539583649 shares for $500.0\n",
      "On the 757th day, Bought 6 shares for $417.12\n",
      "On the 759th day, sold 13.59762953958365 shares for $941.3638930253761\n",
      "On the 764th day, Bought 7.257947452460444 shares for $500.0\n",
      "On the 774th day, sold 7.257947452460444 shares for $491.4356220060966\n",
      "On the 817th day, Bought 7.257947452460444 shares for $500.0\n",
      "On the 818th day, Bought 6 shares for $415.62\n",
      "On the 819th day, Bought 0 shares for $0.0\n",
      "On the 840th day, sold 13.257947452460444 shares for $880.4602903178981\n",
      "On the 900th day, Bought 7.805182641273806 shares for $500.0\n",
      "On the 931th day, sold 7.805182641273806 shares for $469.325632219794\n",
      "On the 972th day, Bought 7.975753708725475 shares for $500.0\n",
      "On the 973th day, Bought 6 shares for $376.74\n",
      "On the 974th day, Bought 0 shares for $0.0\n",
      "XLU Final Value: 931.6648802341688, Final Money: 33.16367430020796, Final Shares: 13.975753708725474\n"
     ]
    },
    {
     "name": "stderr",
     "output_type": "stream",
     "text": [
      "[*********************100%***********************]  1 of 1 completed\n"
     ]
    },
    {
     "name": "stdout",
     "output_type": "stream",
     "text": [
      "read  1258  lines of data for ticker:  XLU\n"
     ]
    },
    {
     "name": "stderr",
     "output_type": "stream",
     "text": [
      "[*********************100%***********************]  1 of 1 completed\n"
     ]
    },
    {
     "name": "stdout",
     "output_type": "stream",
     "text": [
      "read  1007  lines of data for ticker:  XLU\n",
      "On the 70th day, Bought 8.484642796538266 shares for $500.0\n",
      "On the 74th day, Bought 8.947745168217608 shares for $499.99999999999994\n",
      "On the 150th day, Bought 0 shares for $0.0\n",
      "On the 151th day, Bought 0 shares for $0.0\n",
      "On the 177th day, sold 17.432387964755875 shares for $1026.2446794851783\n",
      "On the 471th day, Bought 7.489514679448771 shares for $500.0\n",
      "On the 477th day, sold 7.489514679448771 shares for $512.5074895146795\n",
      "On the 496th day, Bought 7.055171440666007 shares for $499.99999999999994\n",
      "On the 516th day, sold 7.055171440666007 shares for $482.0798645407083\n"
     ]
    }
   ],
   "source": [
    "num=20000\n",
    "for file in os.listdir('../output'):\n",
    "    if \"runtest\" in file:\n",
    "        num+=1\n",
    "os.mkdir(f'../output/runtest_{num}')\n",
    "for d,(start,end,start_t,end_t) in enumerate(date_list):\n",
    "    os.mkdir(f'../output/runtest_{num}/date_config{d}')\n",
    "    for model_type in models:\n",
    "        os.mkdir(f'../output/runtest_{num}/date_config{d}/{model_type}')\n",
    "        root = f'../output/runtest_{num}/date_config{d}/{model_type}'\n",
    "        with open(os.path.join(root,'run_data.txt'),'w') as f:\n",
    "            f.write(f'Start Training Date: {start} \\n End Training Date: {end} \\n Start Sim Date: {start_t} \\n End Sim Date: {end_t} \\n')\n",
    "            f.write(f'\\n Model Type: {model_type}')\n",
    "            f.write(f'Look-back window: {T} days')\n",
    "\n",
    "        for etf in etfs:\n",
    "            os.mkdir(f'{root}/{etf}')\n",
    "        for lr in lrs:\n",
    "            results = pd.DataFrame({\"ETF\":[],\"Metric\":[],\"Final_Value\":[],\"Passive_Potential\":[],\"Relative_MSE\":[],\"MAPE\":[],\"DM_stat\":[],\"DM_p\":[]})\n",
    "            money_df_std = pd.DataFrame()\n",
    "            money_df_atr = pd.DataFrame()\n",
    "            money_df_sd_prices = pd.DataFrame()\n",
    "            money_df_iqr = pd.DataFrame()\n",
    "            money_df_passive = pd.DataFrame()\n",
    "            for j,etf in enumerate(etfs):\n",
    "                #fig,ax = plt.subplots(1,len(metrics),figsize=(26,6))\n",
    "                fig,ax = plt.subplots(2,2,figsize=(25,18))\n",
    "                atr_preds = []\n",
    "                for i,metric in enumerate(metrics):\n",
    "                    scaler = StandardScaler()\n",
    "                    scaler_x = StandardScaler()\n",
    "                    df = get_cleaned_df(etf,start,end)\n",
    "                    #print(df)\n",
    "                    model,fig_tr,fig_te = get_trained_model(df,scaler, scaler_x, metric=metric,model_type=model_type)\n",
    "                    fig_tr.savefig(os.path.join(root,etf,f'training_results_{metric}'))\n",
    "                    fig_te.savefig(os.path.join(root,etf,f'testing_results_{metric}'))\n",
    "                    df_test = get_cleaned_df(etf,start_t,end_t)\n",
    "                    ini_cash = 10000\n",
    "                    final_value, money, shares,passive_value,buy_points,sell_points,preds, t_money,p_money = backtest_strategy_mr(df_test,model,scaler,scaler_x,metric,sell_scale=2,buy_scale=2)\n",
    "                    print(f\"{etf} Final Value: {final_value}, Final Money: {money}, Final Shares: {shares}\")\n",
    "                    \n",
    "                    real_met = np.array(df_test[metric].iloc[T:len(df_test)-1])\n",
    "                    atr_met = np.array(df_test[\"ATR\"].iloc[T:len(df_test)-1])\n",
    "                    null_model_error = np.sum((real_met-real_met.mean())**2)\n",
    "                    mse_error = 1/len(real_met) * np.sum((real_met-preds)**2)/null_model_error\n",
    "                    mape_error = 1/len(real_met) * np.sum(abs(real_met-preds)/(real_met+1e-8))\n",
    "                    if metric==\"ATR\": #atr should go first\n",
    "                        money_df_atr[etf] = t_money\n",
    "                        atr_preds = preds\n",
    "                    elif metric==\"SD_Squared_Returns\":\n",
    "                        money_df_std[etf] = t_money\n",
    "                        money_df_passive[f\"{etf}_Passive\"] = p_money\n",
    "                    elif metric == \"SD_Prices\":\n",
    "                        money_df_sd_prices[etf] = t_money\n",
    "                    elif metric == \"IQR\":\n",
    "                        money_df_iqr[etf] = t_money\n",
    "\n",
    "                    dm,p = diebold_mariano_test(atr_met,atr_preds,real_met,preds,loss=\"mae\")\n",
    "                    results.loc[len(results)] = [etf,metric,final_value,passive_value,mse_error,mape_error,dm,p]\n",
    "\n",
    "                    sns.lineplot(preds,ax=ax[i//2][i%2],label=f\"Prediction {metric}\",color=\"Blue\",linestyle = '--')\n",
    "                    sns.lineplot(real_met,ax=ax[i//2][i%2],label = f\"True {metric}\",color=\"Orange\")\n",
    "                    sns.despine(ax=ax[i//2][i%2])\n",
    "                    #for buy in buy_points:\n",
    "                        #ax[i].axvline(buy,color=\"Green\",alpha=.6)\n",
    "                    #for sell in sell_points:\n",
    "                        #ax[i].axvline(sell,color=\"Red\",alpha=.6)\n",
    "                    ax[i//2][i%2].set_title(f\"{etf} - {metric} \",fontsize = 20)\n",
    "                    ax[i//2][i%2].set_xlabel(f'Total MSE Error {mse_error:.6f} | Total MAPE Error: {mape_error:.3f}')\n",
    "                    customize_ax(ax[i//2][i%2])\n",
    "                    #plt.title(f\"Performance of LSTM on {etf}\")\n",
    "                fig.supylabel(\"Volatility Metric\")\n",
    "                fig.supxlabel(f\"Days after {start_t}\")\n",
    "                fig.tight_layout()\n",
    "                fig.savefig(os.path.join(root,etf,'predictions_lr_{lr}.png'))\n",
    "                fig_sim,ax_sim = plt.subplots(figsize=(10,6))\n",
    "                sns.lineplot(x=range(0, len(df_test.index)-(T+1)), y=money_df_atr[etf], label=\"ATR\",ax=ax_sim,palette = 'colorblind')\n",
    "                sns.lineplot(x=range(0,len(df_test.index)-(T+1)),y=money_df_std[etf],label=\"SD_Squared_Returns\",ax=ax_sim,palette = 'colorblind')\n",
    "                sns.lineplot(x=range(0,len(df_test.index)-(T+1)),y=money_df_sd_prices[etf],label=\"SD_Prices\",ax=ax_sim,palette = 'colorblind')\n",
    "                sns.lineplot(x=range(0,len(df_test.index)-(T+1)),y=money_df_passive[f\"{etf}_Passive\"],label=\"Passive\",ax=ax_sim,palette = 'colorblind')\n",
    "                sns.lineplot(x=range(0,len(df_test.index)-(T+1)),y=money_df_iqr[etf],label=\"IQR\",ax=ax_sim,palette = 'colorblind')\n",
    "                sns.despine(ax=ax_sim)\n",
    "                ax_sim.axhline(1000, label = \"Initial\",color=\"Black\")\n",
    "                ax_sim.set_xlabel(f\"Days after {start_t}\")\n",
    "                ax_sim.set_ylabel(f\"Value ($)\")\n",
    "                ax_sim.set_title(f\"ETF Performance Over Time for {etf}\")\n",
    "                customize_ax(ax_sim)\n",
    "                ax_sim.legend(\n",
    "                    loc='upper left',              # anchor the legend’s corner\n",
    "                    bbox_to_anchor=(1.02, 1.0),     # (x, y) in axes fraction coordinates\n",
    "                    borderaxespad=0\n",
    "                )\n",
    "                fig_sim.tight_layout()\n",
    "                fig_sim.savefig(os.path.join(root,etf,'simulation_perf_lr_{lr}'))\n",
    "                \n",
    "            fig2,ax2 = plt.subplots(figsize = (8,6))\n",
    "            sns.barplot(data=results,x=\"ETF\",y=\"Final_Value\",hue=\"Metric\",ax=ax2,palette='colorblind') \n",
    "            sns.despine(ax=ax2)   \n",
    "            plt.legend(loc=(1.1,1))\n",
    "            fig2.tight_layout()\n",
    "            customize_ax(ax2)\n",
    "            fig2.savefig(os.path.join(root,'return_metrics_lr_{lr}.png'))\n",
    "            results.to_csv(os.path.join(root,'overall_results.csv'),index=False)"
   ]
  },
  {
   "cell_type": "code",
   "execution_count": 3,
   "id": "aa29a250",
   "metadata": {},
   "outputs": [
    {
     "ename": "NameError",
     "evalue": "name 'os' is not defined",
     "output_type": "error",
     "traceback": [
      "\u001b[0;31m---------------------------------------------------------------------------\u001b[0m",
      "\u001b[0;31mNameError\u001b[0m                                 Traceback (most recent call last)",
      "Cell \u001b[0;32mIn[3], line 1\u001b[0m\n\u001b[0;32m----> 1\u001b[0m \u001b[43mos\u001b[49m\u001b[38;5;241m.\u001b[39mlistdir()\n",
      "\u001b[0;31mNameError\u001b[0m: name 'os' is not defined"
     ]
    }
   ],
   "source": [
    "os.listdir()"
   ]
  },
  {
   "cell_type": "code",
   "execution_count": null,
   "id": "d98e91eb",
   "metadata": {},
   "outputs": [],
   "source": [
    "for i in range(32,41):\n",
    "    df = pd.read_csv(f'runtest_{i}/overall_results.csv')\n",
    "    print(i,df.groupby('Metric')['Relative_MSE'].mean())"
   ]
  },
  {
   "cell_type": "code",
   "execution_count": null,
   "id": "d2be5dc6",
   "metadata": {},
   "outputs": [],
   "source": [
    "scaler_x = StandardScaler()\n",
    "scaler = StandardScaler()\n",
    "start,end,start_t,end_t = date_list[1]\n",
    "df_xlp = get_cleaned_df('XLP',start,end)\n",
    "df_xlp_test = get_cleaned_df('XLP',start_t,end_t)\n",
    "model,fig_tr,fig_te = get_trained_model(df_xlp,scaler, scaler_x, metric=\"SD_Squared_Returns\",model_type=\"LSTM\")\n",
    "final_value, money, shares,passive_value,buy_points,sell_points,preds, t_money,p_money = backtest_strategy_mr(df_xlp_test,model,scaler,scaler_x,\"SD_Squared_Returns\",sell_scale=1.7,buy_scale=1.7)"
   ]
  },
  {
   "cell_type": "code",
   "execution_count": null,
   "id": "6569d81e",
   "metadata": {},
   "outputs": [],
   "source": [
    "sns.lineplot(t_money)"
   ]
  },
  {
   "cell_type": "code",
   "execution_count": null,
   "id": "693fd171",
   "metadata": {},
   "outputs": [],
   "source": []
  }
 ],
 "metadata": {
  "kernelspec": {
   "display_name": "Python 3",
   "language": "python",
   "name": "python3"
  },
  "language_info": {
   "codemirror_mode": {
    "name": "ipython",
    "version": 3
   },
   "file_extension": ".py",
   "mimetype": "text/x-python",
   "name": "python",
   "nbconvert_exporter": "python",
   "pygments_lexer": "ipython3",
   "version": "3.9.13"
  }
 },
 "nbformat": 4,
 "nbformat_minor": 5
}
