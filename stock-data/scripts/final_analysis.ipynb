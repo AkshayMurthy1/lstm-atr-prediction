{
 "cells": [
  {
   "cell_type": "code",
   "execution_count": 2,
   "metadata": {},
   "outputs": [],
   "source": [
    "import pandas as pd\n",
    "import numpy as np\n",
    "import os\n",
    "import seaborn as sns\n",
    "import matplotlib.pyplot as plt\n",
    "from utils import *"
   ]
  },
  {
   "cell_type": "markdown",
   "metadata": {},
   "source": [
    "We can see that ATR consistently outperforms squared returns, doing best when there is ample amounts of training data. This might demonstrate ATR's ability to not overfit the model."
   ]
  },
  {
   "cell_type": "code",
   "execution_count": 3,
   "metadata": {},
   "outputs": [
    {
     "ename": "FileNotFoundError",
     "evalue": "[Errno 2] No such file or directory: '../output/runtest_10034[final2]/date_config3/RNN/overall_results.csv'",
     "output_type": "error",
     "traceback": [
      "\u001b[0;31m---------------------------------------------------------------------------\u001b[0m",
      "\u001b[0;31mFileNotFoundError\u001b[0m                         Traceback (most recent call last)",
      "Cell \u001b[0;32mIn[3], line 7\u001b[0m\n\u001b[1;32m      5\u001b[0m \u001b[38;5;28;01mfor\u001b[39;00m date \u001b[38;5;129;01min\u001b[39;00m os\u001b[38;5;241m.\u001b[39mlistdir(path\u001b[38;5;241m=\u001b[39mroot):\n\u001b[1;32m      6\u001b[0m     \u001b[38;5;28;01mfor\u001b[39;00m model \u001b[38;5;129;01min\u001b[39;00m os\u001b[38;5;241m.\u001b[39mlistdir(path\u001b[38;5;241m=\u001b[39mos\u001b[38;5;241m.\u001b[39mpath\u001b[38;5;241m.\u001b[39mjoin(root,date)): \n\u001b[0;32m----> 7\u001b[0m        df \u001b[38;5;241m=\u001b[39m \u001b[43mpd\u001b[49m\u001b[38;5;241;43m.\u001b[39;49m\u001b[43mread_csv\u001b[49m\u001b[43m(\u001b[49m\u001b[43mos\u001b[49m\u001b[38;5;241;43m.\u001b[39;49m\u001b[43mpath\u001b[49m\u001b[38;5;241;43m.\u001b[39;49m\u001b[43mjoin\u001b[49m\u001b[43m(\u001b[49m\u001b[43mroot\u001b[49m\u001b[43m,\u001b[49m\u001b[43mdate\u001b[49m\u001b[43m,\u001b[49m\u001b[43mmodel\u001b[49m\u001b[43m,\u001b[49m\u001b[38;5;124;43m'\u001b[39;49m\u001b[38;5;124;43moverall_results.csv\u001b[39;49m\u001b[38;5;124;43m'\u001b[39;49m\u001b[43m)\u001b[49m\u001b[43m)\u001b[49m\n\u001b[1;32m      8\u001b[0m        df[\u001b[38;5;124m\"\u001b[39m\u001b[38;5;124mDate\u001b[39m\u001b[38;5;124m\"\u001b[39m] \u001b[38;5;241m=\u001b[39m [date \u001b[38;5;28;01mfor\u001b[39;00m _ \u001b[38;5;129;01min\u001b[39;00m \u001b[38;5;28mrange\u001b[39m(\u001b[38;5;28mlen\u001b[39m(df))]\n\u001b[1;32m      9\u001b[0m        df[\u001b[38;5;124m\"\u001b[39m\u001b[38;5;124mModel\u001b[39m\u001b[38;5;124m\"\u001b[39m] \u001b[38;5;241m=\u001b[39m [model \u001b[38;5;28;01mfor\u001b[39;00m _  \u001b[38;5;129;01min\u001b[39;00m \u001b[38;5;28mrange\u001b[39m(\u001b[38;5;28mlen\u001b[39m(df))]\n",
      "File \u001b[0;32m/share/pkg.8/python3/3.12.4/install/lib/python3.12/site-packages/pandas/io/parsers/readers.py:1026\u001b[0m, in \u001b[0;36mread_csv\u001b[0;34m(filepath_or_buffer, sep, delimiter, header, names, index_col, usecols, dtype, engine, converters, true_values, false_values, skipinitialspace, skiprows, skipfooter, nrows, na_values, keep_default_na, na_filter, verbose, skip_blank_lines, parse_dates, infer_datetime_format, keep_date_col, date_parser, date_format, dayfirst, cache_dates, iterator, chunksize, compression, thousands, decimal, lineterminator, quotechar, quoting, doublequote, escapechar, comment, encoding, encoding_errors, dialect, on_bad_lines, delim_whitespace, low_memory, memory_map, float_precision, storage_options, dtype_backend)\u001b[0m\n\u001b[1;32m   1013\u001b[0m kwds_defaults \u001b[38;5;241m=\u001b[39m _refine_defaults_read(\n\u001b[1;32m   1014\u001b[0m     dialect,\n\u001b[1;32m   1015\u001b[0m     delimiter,\n\u001b[0;32m   (...)\u001b[0m\n\u001b[1;32m   1022\u001b[0m     dtype_backend\u001b[38;5;241m=\u001b[39mdtype_backend,\n\u001b[1;32m   1023\u001b[0m )\n\u001b[1;32m   1024\u001b[0m kwds\u001b[38;5;241m.\u001b[39mupdate(kwds_defaults)\n\u001b[0;32m-> 1026\u001b[0m \u001b[38;5;28;01mreturn\u001b[39;00m \u001b[43m_read\u001b[49m\u001b[43m(\u001b[49m\u001b[43mfilepath_or_buffer\u001b[49m\u001b[43m,\u001b[49m\u001b[43m \u001b[49m\u001b[43mkwds\u001b[49m\u001b[43m)\u001b[49m\n",
      "File \u001b[0;32m/share/pkg.8/python3/3.12.4/install/lib/python3.12/site-packages/pandas/io/parsers/readers.py:620\u001b[0m, in \u001b[0;36m_read\u001b[0;34m(filepath_or_buffer, kwds)\u001b[0m\n\u001b[1;32m    617\u001b[0m _validate_names(kwds\u001b[38;5;241m.\u001b[39mget(\u001b[38;5;124m\"\u001b[39m\u001b[38;5;124mnames\u001b[39m\u001b[38;5;124m\"\u001b[39m, \u001b[38;5;28;01mNone\u001b[39;00m))\n\u001b[1;32m    619\u001b[0m \u001b[38;5;66;03m# Create the parser.\u001b[39;00m\n\u001b[0;32m--> 620\u001b[0m parser \u001b[38;5;241m=\u001b[39m \u001b[43mTextFileReader\u001b[49m\u001b[43m(\u001b[49m\u001b[43mfilepath_or_buffer\u001b[49m\u001b[43m,\u001b[49m\u001b[43m \u001b[49m\u001b[38;5;241;43m*\u001b[39;49m\u001b[38;5;241;43m*\u001b[39;49m\u001b[43mkwds\u001b[49m\u001b[43m)\u001b[49m\n\u001b[1;32m    622\u001b[0m \u001b[38;5;28;01mif\u001b[39;00m chunksize \u001b[38;5;129;01mor\u001b[39;00m iterator:\n\u001b[1;32m    623\u001b[0m     \u001b[38;5;28;01mreturn\u001b[39;00m parser\n",
      "File \u001b[0;32m/share/pkg.8/python3/3.12.4/install/lib/python3.12/site-packages/pandas/io/parsers/readers.py:1620\u001b[0m, in \u001b[0;36mTextFileReader.__init__\u001b[0;34m(self, f, engine, **kwds)\u001b[0m\n\u001b[1;32m   1617\u001b[0m     \u001b[38;5;28mself\u001b[39m\u001b[38;5;241m.\u001b[39moptions[\u001b[38;5;124m\"\u001b[39m\u001b[38;5;124mhas_index_names\u001b[39m\u001b[38;5;124m\"\u001b[39m] \u001b[38;5;241m=\u001b[39m kwds[\u001b[38;5;124m\"\u001b[39m\u001b[38;5;124mhas_index_names\u001b[39m\u001b[38;5;124m\"\u001b[39m]\n\u001b[1;32m   1619\u001b[0m \u001b[38;5;28mself\u001b[39m\u001b[38;5;241m.\u001b[39mhandles: IOHandles \u001b[38;5;241m|\u001b[39m \u001b[38;5;28;01mNone\u001b[39;00m \u001b[38;5;241m=\u001b[39m \u001b[38;5;28;01mNone\u001b[39;00m\n\u001b[0;32m-> 1620\u001b[0m \u001b[38;5;28mself\u001b[39m\u001b[38;5;241m.\u001b[39m_engine \u001b[38;5;241m=\u001b[39m \u001b[38;5;28;43mself\u001b[39;49m\u001b[38;5;241;43m.\u001b[39;49m\u001b[43m_make_engine\u001b[49m\u001b[43m(\u001b[49m\u001b[43mf\u001b[49m\u001b[43m,\u001b[49m\u001b[43m \u001b[49m\u001b[38;5;28;43mself\u001b[39;49m\u001b[38;5;241;43m.\u001b[39;49m\u001b[43mengine\u001b[49m\u001b[43m)\u001b[49m\n",
      "File \u001b[0;32m/share/pkg.8/python3/3.12.4/install/lib/python3.12/site-packages/pandas/io/parsers/readers.py:1880\u001b[0m, in \u001b[0;36mTextFileReader._make_engine\u001b[0;34m(self, f, engine)\u001b[0m\n\u001b[1;32m   1878\u001b[0m     \u001b[38;5;28;01mif\u001b[39;00m \u001b[38;5;124m\"\u001b[39m\u001b[38;5;124mb\u001b[39m\u001b[38;5;124m\"\u001b[39m \u001b[38;5;129;01mnot\u001b[39;00m \u001b[38;5;129;01min\u001b[39;00m mode:\n\u001b[1;32m   1879\u001b[0m         mode \u001b[38;5;241m+\u001b[39m\u001b[38;5;241m=\u001b[39m \u001b[38;5;124m\"\u001b[39m\u001b[38;5;124mb\u001b[39m\u001b[38;5;124m\"\u001b[39m\n\u001b[0;32m-> 1880\u001b[0m \u001b[38;5;28mself\u001b[39m\u001b[38;5;241m.\u001b[39mhandles \u001b[38;5;241m=\u001b[39m \u001b[43mget_handle\u001b[49m\u001b[43m(\u001b[49m\n\u001b[1;32m   1881\u001b[0m \u001b[43m    \u001b[49m\u001b[43mf\u001b[49m\u001b[43m,\u001b[49m\n\u001b[1;32m   1882\u001b[0m \u001b[43m    \u001b[49m\u001b[43mmode\u001b[49m\u001b[43m,\u001b[49m\n\u001b[1;32m   1883\u001b[0m \u001b[43m    \u001b[49m\u001b[43mencoding\u001b[49m\u001b[38;5;241;43m=\u001b[39;49m\u001b[38;5;28;43mself\u001b[39;49m\u001b[38;5;241;43m.\u001b[39;49m\u001b[43moptions\u001b[49m\u001b[38;5;241;43m.\u001b[39;49m\u001b[43mget\u001b[49m\u001b[43m(\u001b[49m\u001b[38;5;124;43m\"\u001b[39;49m\u001b[38;5;124;43mencoding\u001b[39;49m\u001b[38;5;124;43m\"\u001b[39;49m\u001b[43m,\u001b[49m\u001b[43m \u001b[49m\u001b[38;5;28;43;01mNone\u001b[39;49;00m\u001b[43m)\u001b[49m\u001b[43m,\u001b[49m\n\u001b[1;32m   1884\u001b[0m \u001b[43m    \u001b[49m\u001b[43mcompression\u001b[49m\u001b[38;5;241;43m=\u001b[39;49m\u001b[38;5;28;43mself\u001b[39;49m\u001b[38;5;241;43m.\u001b[39;49m\u001b[43moptions\u001b[49m\u001b[38;5;241;43m.\u001b[39;49m\u001b[43mget\u001b[49m\u001b[43m(\u001b[49m\u001b[38;5;124;43m\"\u001b[39;49m\u001b[38;5;124;43mcompression\u001b[39;49m\u001b[38;5;124;43m\"\u001b[39;49m\u001b[43m,\u001b[49m\u001b[43m \u001b[49m\u001b[38;5;28;43;01mNone\u001b[39;49;00m\u001b[43m)\u001b[49m\u001b[43m,\u001b[49m\n\u001b[1;32m   1885\u001b[0m \u001b[43m    \u001b[49m\u001b[43mmemory_map\u001b[49m\u001b[38;5;241;43m=\u001b[39;49m\u001b[38;5;28;43mself\u001b[39;49m\u001b[38;5;241;43m.\u001b[39;49m\u001b[43moptions\u001b[49m\u001b[38;5;241;43m.\u001b[39;49m\u001b[43mget\u001b[49m\u001b[43m(\u001b[49m\u001b[38;5;124;43m\"\u001b[39;49m\u001b[38;5;124;43mmemory_map\u001b[39;49m\u001b[38;5;124;43m\"\u001b[39;49m\u001b[43m,\u001b[49m\u001b[43m \u001b[49m\u001b[38;5;28;43;01mFalse\u001b[39;49;00m\u001b[43m)\u001b[49m\u001b[43m,\u001b[49m\n\u001b[1;32m   1886\u001b[0m \u001b[43m    \u001b[49m\u001b[43mis_text\u001b[49m\u001b[38;5;241;43m=\u001b[39;49m\u001b[43mis_text\u001b[49m\u001b[43m,\u001b[49m\n\u001b[1;32m   1887\u001b[0m \u001b[43m    \u001b[49m\u001b[43merrors\u001b[49m\u001b[38;5;241;43m=\u001b[39;49m\u001b[38;5;28;43mself\u001b[39;49m\u001b[38;5;241;43m.\u001b[39;49m\u001b[43moptions\u001b[49m\u001b[38;5;241;43m.\u001b[39;49m\u001b[43mget\u001b[49m\u001b[43m(\u001b[49m\u001b[38;5;124;43m\"\u001b[39;49m\u001b[38;5;124;43mencoding_errors\u001b[39;49m\u001b[38;5;124;43m\"\u001b[39;49m\u001b[43m,\u001b[49m\u001b[43m \u001b[49m\u001b[38;5;124;43m\"\u001b[39;49m\u001b[38;5;124;43mstrict\u001b[39;49m\u001b[38;5;124;43m\"\u001b[39;49m\u001b[43m)\u001b[49m\u001b[43m,\u001b[49m\n\u001b[1;32m   1888\u001b[0m \u001b[43m    \u001b[49m\u001b[43mstorage_options\u001b[49m\u001b[38;5;241;43m=\u001b[39;49m\u001b[38;5;28;43mself\u001b[39;49m\u001b[38;5;241;43m.\u001b[39;49m\u001b[43moptions\u001b[49m\u001b[38;5;241;43m.\u001b[39;49m\u001b[43mget\u001b[49m\u001b[43m(\u001b[49m\u001b[38;5;124;43m\"\u001b[39;49m\u001b[38;5;124;43mstorage_options\u001b[39;49m\u001b[38;5;124;43m\"\u001b[39;49m\u001b[43m,\u001b[49m\u001b[43m \u001b[49m\u001b[38;5;28;43;01mNone\u001b[39;49;00m\u001b[43m)\u001b[49m\u001b[43m,\u001b[49m\n\u001b[1;32m   1889\u001b[0m \u001b[43m\u001b[49m\u001b[43m)\u001b[49m\n\u001b[1;32m   1890\u001b[0m \u001b[38;5;28;01massert\u001b[39;00m \u001b[38;5;28mself\u001b[39m\u001b[38;5;241m.\u001b[39mhandles \u001b[38;5;129;01mis\u001b[39;00m \u001b[38;5;129;01mnot\u001b[39;00m \u001b[38;5;28;01mNone\u001b[39;00m\n\u001b[1;32m   1891\u001b[0m f \u001b[38;5;241m=\u001b[39m \u001b[38;5;28mself\u001b[39m\u001b[38;5;241m.\u001b[39mhandles\u001b[38;5;241m.\u001b[39mhandle\n",
      "File \u001b[0;32m/share/pkg.8/python3/3.12.4/install/lib/python3.12/site-packages/pandas/io/common.py:873\u001b[0m, in \u001b[0;36mget_handle\u001b[0;34m(path_or_buf, mode, encoding, compression, memory_map, is_text, errors, storage_options)\u001b[0m\n\u001b[1;32m    868\u001b[0m \u001b[38;5;28;01melif\u001b[39;00m \u001b[38;5;28misinstance\u001b[39m(handle, \u001b[38;5;28mstr\u001b[39m):\n\u001b[1;32m    869\u001b[0m     \u001b[38;5;66;03m# Check whether the filename is to be opened in binary mode.\u001b[39;00m\n\u001b[1;32m    870\u001b[0m     \u001b[38;5;66;03m# Binary mode does not support 'encoding' and 'newline'.\u001b[39;00m\n\u001b[1;32m    871\u001b[0m     \u001b[38;5;28;01mif\u001b[39;00m ioargs\u001b[38;5;241m.\u001b[39mencoding \u001b[38;5;129;01mand\u001b[39;00m \u001b[38;5;124m\"\u001b[39m\u001b[38;5;124mb\u001b[39m\u001b[38;5;124m\"\u001b[39m \u001b[38;5;129;01mnot\u001b[39;00m \u001b[38;5;129;01min\u001b[39;00m ioargs\u001b[38;5;241m.\u001b[39mmode:\n\u001b[1;32m    872\u001b[0m         \u001b[38;5;66;03m# Encoding\u001b[39;00m\n\u001b[0;32m--> 873\u001b[0m         handle \u001b[38;5;241m=\u001b[39m \u001b[38;5;28;43mopen\u001b[39;49m\u001b[43m(\u001b[49m\n\u001b[1;32m    874\u001b[0m \u001b[43m            \u001b[49m\u001b[43mhandle\u001b[49m\u001b[43m,\u001b[49m\n\u001b[1;32m    875\u001b[0m \u001b[43m            \u001b[49m\u001b[43mioargs\u001b[49m\u001b[38;5;241;43m.\u001b[39;49m\u001b[43mmode\u001b[49m\u001b[43m,\u001b[49m\n\u001b[1;32m    876\u001b[0m \u001b[43m            \u001b[49m\u001b[43mencoding\u001b[49m\u001b[38;5;241;43m=\u001b[39;49m\u001b[43mioargs\u001b[49m\u001b[38;5;241;43m.\u001b[39;49m\u001b[43mencoding\u001b[49m\u001b[43m,\u001b[49m\n\u001b[1;32m    877\u001b[0m \u001b[43m            \u001b[49m\u001b[43merrors\u001b[49m\u001b[38;5;241;43m=\u001b[39;49m\u001b[43merrors\u001b[49m\u001b[43m,\u001b[49m\n\u001b[1;32m    878\u001b[0m \u001b[43m            \u001b[49m\u001b[43mnewline\u001b[49m\u001b[38;5;241;43m=\u001b[39;49m\u001b[38;5;124;43m\"\u001b[39;49m\u001b[38;5;124;43m\"\u001b[39;49m\u001b[43m,\u001b[49m\n\u001b[1;32m    879\u001b[0m \u001b[43m        \u001b[49m\u001b[43m)\u001b[49m\n\u001b[1;32m    880\u001b[0m     \u001b[38;5;28;01melse\u001b[39;00m:\n\u001b[1;32m    881\u001b[0m         \u001b[38;5;66;03m# Binary mode\u001b[39;00m\n\u001b[1;32m    882\u001b[0m         handle \u001b[38;5;241m=\u001b[39m \u001b[38;5;28mopen\u001b[39m(handle, ioargs\u001b[38;5;241m.\u001b[39mmode)\n",
      "\u001b[0;31mFileNotFoundError\u001b[0m: [Errno 2] No such file or directory: '../output/runtest_10034[final2]/date_config3/RNN/overall_results.csv'"
     ]
    }
   ],
   "source": [
    "#Analyze final runs\n",
    "df_final = pd.DataFrame()\n",
    "num = 10034\n",
    "root = f\"../output/runtest_{num}[final2]\"\n",
    "for date in os.listdir(path=root):\n",
    "    for model in os.listdir(path=os.path.join(root,date)): \n",
    "       df = pd.read_csv(os.path.join(root,date,model,'overall_results.csv'))\n",
    "       df[\"Date\"] = [date for _ in range(len(df))]\n",
    "       df[\"Model\"] = [model for _  in range(len(df))]\n",
    "       #print(df)#.groupby(\"Metric\")[[\"Relative_MSE\",\"MAPE\"]].mean()) \n",
    "       df_final = pd.concat((df_final,df),axis=0)\n",
    "df_final.sort_values(by=\"MAPE\").groupby([\"ETF\",\"Metric\"])[\"MAPE\"].mean()\n",
    "df_final.to_csv('../output/analysis/final_df.csv')"
   ]
  },
  {
   "cell_type": "code",
   "execution_count": 4,
   "metadata": {},
   "outputs": [
    {
     "data": {
      "image/png": "[encoded data removed]",
      "text/plain": [
       "<Figure size 1000x500 with 1 Axes>"
      ]
     },
     "metadata": {},
     "output_type": "display_data"
    }
   ],
   "source": [
    "fig, ax = plt.subplots(figsize = (10,5))\n",
    "\n",
    "sns.barplot(df_final,x=\"ETF\",y=\"MAPE\",hue=\"Metric\",errorbar=None,palette='colorblind')\n",
    "sns.despine()\n",
    "plt.title(\"Average MAPE vs. Sector and Volatility Metric\")\n",
    "out_root = '../output/analysis/'\n",
    "plt.savefig(os.path.join(out_root,\"avg_errors\"))\n"
   ]
  },
  {
   "cell_type": "code",
   "execution_count": 5,
   "metadata": {},
   "outputs": [
    {
     "data": {
      "image/png": "[encoded data removed]",
      "text/plain": [
       "<Figure size 640x480 with 1 Axes>"
      ]
     },
     "metadata": {},
     "output_type": "display_data"
    },
    {
     "data": {
      "image/png": "[encoded data removed]",
      "text/plain": [
       "<Figure size 640x480 with 1 Axes>"
      ]
     },
     "metadata": {},
     "output_type": "display_data"
    },
    {
     "data": {
      "image/png": "[encoded data removed]",
      "text/plain": [
       "<Figure size 640x480 with 1 Axes>"
      ]
     },
     "metadata": {},
     "output_type": "display_data"
    }
   ],
   "source": [
    "# show results\n",
    "accuracy_metric = \"MAPE\"\n",
    "for date,date_chunk in df_final.groupby(\"Date\"): #returns (date_name,grouped section of df)\n",
    "    for model,model_chunk in date_chunk.groupby(\"Model\"):\n",
    "        fig,ax = plt.subplots()\n",
    "        sns.barplot(model_chunk,x=\"ETF\",y=accuracy_metric,hue = \"Metric\", ax = ax)\n",
    "        fig.tight_layout()\n",
    "        ax.set_title(f\"{accuracy_metric} for {model} in {date}\")\n",
    "        fig.savefig(fname=f\"../output/analysis/{accuracy_metric}_{date}_{model}\")"
   ]
  },
  {
   "cell_type": "code",
   "execution_count": 9,
   "metadata": {},
   "outputs": [
    {
     "data": {
      "text/plain": [
       "ETF  Metric            \n",
       "XLB  ATR                    962.894991\n",
       "     IQR                    972.566305\n",
       "     SD_Prices             1000.827710\n",
       "     SD_Squared_Returns     958.599236\n",
       "XLE  ATR                   1052.538098\n",
       "     IQR                    983.442748\n",
       "     SD_Prices             1005.091723\n",
       "     SD_Squared_Returns     900.036645\n",
       "XLF  ATR                   1065.900870\n",
       "     IQR                   1048.832910\n",
       "     SD_Prices              923.060508\n",
       "     SD_Squared_Returns     962.728809\n",
       "XLI  ATR                   1065.993862\n",
       "     IQR                   1035.003911\n",
       "     SD_Prices             1018.851850\n",
       "     SD_Squared_Returns    1052.834176\n",
       "XLK  ATR                   1169.089137\n",
       "     IQR                   1106.166492\n",
       "     SD_Prices             1097.277859\n",
       "     SD_Squared_Returns    1156.090180\n",
       "XLP  ATR                    935.009655\n",
       "     IQR                    998.280568\n",
       "     SD_Prices             1005.402359\n",
       "     SD_Squared_Returns     982.271597\n",
       "XLU  ATR                    935.099133\n",
       "     IQR                    949.777147\n",
       "     SD_Prices              957.804177\n",
       "     SD_Squared_Returns     975.220996\n",
       "XLV  ATR                   1013.701300\n",
       "     IQR                   1005.760796\n",
       "     SD_Prices              974.326247\n",
       "     SD_Squared_Returns     999.953745\n",
       "XLY  ATR                   1116.937190\n",
       "     IQR                   1043.907391\n",
       "     SD_Prices             1073.422124\n",
       "     SD_Squared_Returns    1113.350773\n",
       "Name: Final_Value, dtype: float64"
      ]
     },
     "execution_count": 9,
     "metadata": {},
     "output_type": "execute_result"
    }
   ],
   "source": [
    "#Analyze final runs\n",
    "df_final = pd.DataFrame()\n",
    "num = 20019\n",
    "root = f\"../output/runtest_{num}\"\n",
    "for date in os.listdir(path=root):\n",
    "    for model in os.listdir(path=os.path.join(root,date)): \n",
    "       df = pd.read_csv(os.path.join(root,date,model,'overall_results.csv'))\n",
    "       df[\"Date\"] = [date for _ in range(len(df))]\n",
    "       df[\"Model\"] = [model for _  in range(len(df))]\n",
    "       #print(df)#.groupby(\"Metric\")[[\"Relative_MSE\",\"MAPE\"]].mean()) \n",
    "       df_final = pd.concat((df_final,df),axis=0)\n",
    "df_final.groupby([\"ETF\",\"Metric\"])[\"Final_Value\"].mean()"
   ]
  },
  {
   "cell_type": "code",
   "execution_count": 10,
   "metadata": {},
   "outputs": [
    {
     "data": {
      "image/png": "[encoded data removed]",
      "text/plain": [
       "<Figure size 1000x500 with 1 Axes>"
      ]
     },
     "metadata": {},
     "output_type": "display_data"
    }
   ],
   "source": [
    "fig, ax = plt.subplots(figsize=(10,5))\n",
    "sns.barplot(\n",
    "    df_final,\n",
    "    x=\"ETF\",\n",
    "    y=\"Final_Value\",\n",
    "    hue=\"Metric\",\n",
    "    errorbar=None,\n",
    "    ax=ax,\n",
    "    palette='colorblind'\n",
    ")\n",
    "sns.despine()\n",
    "ax.set_ylabel(\"Final Value ($)\")\n",
    "ax.set_title(\"Final Value of Portfolio for ETF vs. Metric Used in Strategy\",fontsize=18)\n",
    "customize_ax(ax)\n",
    "\n",
    "# place legend outside the plot:\n",
    "ax.legend(\n",
    "    loc='upper left',              # anchor the legend’s corner\n",
    "    bbox_to_anchor=(1.02, 1.0),     # (x, y) in axes fraction coordinates\n",
    "    borderaxespad=0\n",
    ")\n",
    "\n",
    "fig.tight_layout()  # make room for the legend\n",
    "fig.savefig(\"../output/analysis/Final_Portfolio_Returns.png\")\n"
   ]
  },
  {
   "cell_type": "code",
   "execution_count": 11,
   "metadata": {},
   "outputs": [
    {
     "name": "stderr",
     "output_type": "stream",
     "text": [
      "[*********************100%***********************]  1 of 1 completed\n"
     ]
    },
    {
     "name": "stdout",
     "output_type": "stream",
     "text": [
      "read  4779  lines of data for ticker:  XLB\n"
     ]
    },
    {
     "name": "stderr",
     "output_type": "stream",
     "text": [
      "[*********************100%***********************]  1 of 1 completed\n"
     ]
    },
    {
     "name": "stdout",
     "output_type": "stream",
     "text": [
      "read  2775  lines of data for ticker:  XLB\n"
     ]
    },
    {
     "name": "stderr",
     "output_type": "stream",
     "text": [
      "[*********************100%***********************]  1 of 1 completed\n"
     ]
    },
    {
     "name": "stdout",
     "output_type": "stream",
     "text": [
      "read  6038  lines of data for ticker:  XLB\n"
     ]
    },
    {
     "name": "stderr",
     "output_type": "stream",
     "text": [
      "[*********************100%***********************]  1 of 1 completed\n"
     ]
    },
    {
     "name": "stdout",
     "output_type": "stream",
     "text": [
      "read  1258  lines of data for ticker:  XLB\n"
     ]
    },
    {
     "name": "stderr",
     "output_type": "stream",
     "text": [
      "[*********************100%***********************]  1 of 1 completed\n"
     ]
    },
    {
     "name": "stdout",
     "output_type": "stream",
     "text": [
      "read  4779  lines of data for ticker:  XLE\n"
     ]
    },
    {
     "name": "stderr",
     "output_type": "stream",
     "text": [
      "[*********************100%***********************]  1 of 1 completed\n"
     ]
    },
    {
     "name": "stdout",
     "output_type": "stream",
     "text": [
      "read  2775  lines of data for ticker:  XLE\n"
     ]
    },
    {
     "name": "stderr",
     "output_type": "stream",
     "text": [
      "[*********************100%***********************]  1 of 1 completed\n"
     ]
    },
    {
     "name": "stdout",
     "output_type": "stream",
     "text": [
      "read  6038  lines of data for ticker:  XLE\n"
     ]
    },
    {
     "name": "stderr",
     "output_type": "stream",
     "text": [
      "[*********************100%***********************]  1 of 1 completed\n"
     ]
    },
    {
     "name": "stdout",
     "output_type": "stream",
     "text": [
      "read  1258  lines of data for ticker:  XLE\n"
     ]
    },
    {
     "name": "stderr",
     "output_type": "stream",
     "text": [
      "[*********************100%***********************]  1 of 1 completed\n"
     ]
    },
    {
     "name": "stdout",
     "output_type": "stream",
     "text": [
      "read  4779  lines of data for ticker:  XLF\n"
     ]
    },
    {
     "name": "stderr",
     "output_type": "stream",
     "text": [
      "[*********************100%***********************]  1 of 1 completed\n"
     ]
    },
    {
     "name": "stdout",
     "output_type": "stream",
     "text": [
      "read  2775  lines of data for ticker:  XLF\n"
     ]
    },
    {
     "name": "stderr",
     "output_type": "stream",
     "text": [
      "[*********************100%***********************]  1 of 1 completed\n"
     ]
    },
    {
     "name": "stdout",
     "output_type": "stream",
     "text": [
      "read  6038  lines of data for ticker:  XLF\n"
     ]
    },
    {
     "name": "stderr",
     "output_type": "stream",
     "text": [
      "[*********************100%***********************]  1 of 1 completed\n"
     ]
    },
    {
     "name": "stdout",
     "output_type": "stream",
     "text": [
      "read  1258  lines of data for ticker:  XLF\n"
     ]
    },
    {
     "name": "stderr",
     "output_type": "stream",
     "text": [
      "[*********************100%***********************]  1 of 1 completed\n"
     ]
    },
    {
     "name": "stdout",
     "output_type": "stream",
     "text": [
      "read  4779  lines of data for ticker:  XLI\n"
     ]
    },
    {
     "name": "stderr",
     "output_type": "stream",
     "text": [
      "[*********************100%***********************]  1 of 1 completed\n"
     ]
    },
    {
     "name": "stdout",
     "output_type": "stream",
     "text": [
      "read  2775  lines of data for ticker:  XLI\n"
     ]
    },
    {
     "name": "stderr",
     "output_type": "stream",
     "text": [
      "[*********************100%***********************]  1 of 1 completed\n"
     ]
    },
    {
     "name": "stdout",
     "output_type": "stream",
     "text": [
      "read  6038  lines of data for ticker:  XLI\n"
     ]
    },
    {
     "name": "stderr",
     "output_type": "stream",
     "text": [
      "[*********************100%***********************]  1 of 1 completed\n"
     ]
    },
    {
     "name": "stdout",
     "output_type": "stream",
     "text": [
      "read  1258  lines of data for ticker:  XLI\n"
     ]
    },
    {
     "name": "stderr",
     "output_type": "stream",
     "text": [
      "[*********************100%***********************]  1 of 1 completed\n"
     ]
    },
    {
     "name": "stdout",
     "output_type": "stream",
     "text": [
      "read  4779  lines of data for ticker:  XLK\n"
     ]
    },
    {
     "name": "stderr",
     "output_type": "stream",
     "text": [
      "[*********************100%***********************]  1 of 1 completed\n"
     ]
    },
    {
     "name": "stdout",
     "output_type": "stream",
     "text": [
      "read  2775  lines of data for ticker:  XLK\n"
     ]
    },
    {
     "name": "stderr",
     "output_type": "stream",
     "text": [
      "[*********************100%***********************]  1 of 1 completed\n"
     ]
    },
    {
     "name": "stdout",
     "output_type": "stream",
     "text": [
      "read  6038  lines of data for ticker:  XLK\n"
     ]
    },
    {
     "name": "stderr",
     "output_type": "stream",
     "text": [
      "[*********************100%***********************]  1 of 1 completed\n"
     ]
    },
    {
     "name": "stdout",
     "output_type": "stream",
     "text": [
      "read  1258  lines of data for ticker:  XLK\n"
     ]
    },
    {
     "name": "stderr",
     "output_type": "stream",
     "text": [
      "[*********************100%***********************]  1 of 1 completed\n"
     ]
    },
    {
     "name": "stdout",
     "output_type": "stream",
     "text": [
      "read  4779  lines of data for ticker:  XLP\n"
     ]
    },
    {
     "name": "stderr",
     "output_type": "stream",
     "text": [
      "[*********************100%***********************]  1 of 1 completed\n"
     ]
    },
    {
     "name": "stdout",
     "output_type": "stream",
     "text": [
      "read  2775  lines of data for ticker:  XLP\n"
     ]
    },
    {
     "name": "stderr",
     "output_type": "stream",
     "text": [
      "[*********************100%***********************]  1 of 1 completed\n"
     ]
    },
    {
     "name": "stdout",
     "output_type": "stream",
     "text": [
      "read  6038  lines of data for ticker:  XLP\n"
     ]
    },
    {
     "name": "stderr",
     "output_type": "stream",
     "text": [
      "[*********************100%***********************]  1 of 1 completed\n"
     ]
    },
    {
     "name": "stdout",
     "output_type": "stream",
     "text": [
      "read  1258  lines of data for ticker:  XLP\n"
     ]
    },
    {
     "name": "stderr",
     "output_type": "stream",
     "text": [
      "[*********************100%***********************]  1 of 1 completed\n"
     ]
    },
    {
     "name": "stdout",
     "output_type": "stream",
     "text": [
      "read  4779  lines of data for ticker:  XLV\n"
     ]
    },
    {
     "name": "stderr",
     "output_type": "stream",
     "text": [
      "[*********************100%***********************]  1 of 1 completed\n"
     ]
    },
    {
     "name": "stdout",
     "output_type": "stream",
     "text": [
      "read  2775  lines of data for ticker:  XLV\n"
     ]
    },
    {
     "name": "stderr",
     "output_type": "stream",
     "text": [
      "[*********************100%***********************]  1 of 1 completed\n"
     ]
    },
    {
     "name": "stdout",
     "output_type": "stream",
     "text": [
      "read  6038  lines of data for ticker:  XLV\n"
     ]
    },
    {
     "name": "stderr",
     "output_type": "stream",
     "text": [
      "[*********************100%***********************]  1 of 1 completed\n"
     ]
    },
    {
     "name": "stdout",
     "output_type": "stream",
     "text": [
      "read  1258  lines of data for ticker:  XLV\n"
     ]
    },
    {
     "name": "stderr",
     "output_type": "stream",
     "text": [
      "[*********************100%***********************]  1 of 1 completed\n"
     ]
    },
    {
     "name": "stdout",
     "output_type": "stream",
     "text": [
      "read  4779  lines of data for ticker:  XLY\n"
     ]
    },
    {
     "name": "stderr",
     "output_type": "stream",
     "text": [
      "[*********************100%***********************]  1 of 1 completed\n"
     ]
    },
    {
     "name": "stdout",
     "output_type": "stream",
     "text": [
      "read  2775  lines of data for ticker:  XLY\n"
     ]
    },
    {
     "name": "stderr",
     "output_type": "stream",
     "text": [
      "[*********************100%***********************]  1 of 1 completed\n"
     ]
    },
    {
     "name": "stdout",
     "output_type": "stream",
     "text": [
      "read  6038  lines of data for ticker:  XLY\n"
     ]
    },
    {
     "name": "stderr",
     "output_type": "stream",
     "text": [
      "[*********************100%***********************]  1 of 1 completed\n"
     ]
    },
    {
     "name": "stdout",
     "output_type": "stream",
     "text": [
      "read  1258  lines of data for ticker:  XLY\n"
     ]
    },
    {
     "name": "stderr",
     "output_type": "stream",
     "text": [
      "[*********************100%***********************]  1 of 1 completed\n"
     ]
    },
    {
     "name": "stdout",
     "output_type": "stream",
     "text": [
      "read  4779  lines of data for ticker:  XLU\n"
     ]
    },
    {
     "name": "stderr",
     "output_type": "stream",
     "text": [
      "[*********************100%***********************]  1 of 1 completed\n"
     ]
    },
    {
     "name": "stdout",
     "output_type": "stream",
     "text": [
      "read  2775  lines of data for ticker:  XLU\n"
     ]
    },
    {
     "name": "stderr",
     "output_type": "stream",
     "text": [
      "[*********************100%***********************]  1 of 1 completed\n"
     ]
    },
    {
     "name": "stdout",
     "output_type": "stream",
     "text": [
      "read  6038  lines of data for ticker:  XLU\n"
     ]
    },
    {
     "name": "stderr",
     "output_type": "stream",
     "text": [
      "[*********************100%***********************]  1 of 1 completed"
     ]
    },
    {
     "name": "stdout",
     "output_type": "stream",
     "text": [
      "read  1258  lines of data for ticker:  XLU\n"
     ]
    },
    {
     "name": "stderr",
     "output_type": "stream",
     "text": [
      "\n"
     ]
    }
   ],
   "source": [
    "#take corr between accuracy and kurtosis\n",
    "df_final = pd.read_csv('../output/analysis/final_df.csv')\n",
    "etfs = ['XLB','XLE','XLF','XLI','XLK','XLP','XLV','XLY','XLU']\n",
    "kurts = []\n",
    "dates = {'date_config0':['2001-01-01', '2020-01-01', '2022-01-02', '2024-01-05'],'date_config1':['1990-01-05', '2010-01-05', '2023-01-05', '2024-01-05'],'date_config2':['2000-01-05', \"2024-01-05\", \"2024-01-05\", \"2025-01-05\"],'date_config3':['2005-01-05', '2010-01-05', '2020-01-05', '2024-01-05']}\n",
    "for etf in etfs:\n",
    "    for date,_ in df_final.groupby(\"Date\"):\n",
    "        df = get_cleaned_df(etf,dates[date][0],dates[date][1])\n",
    "        kurt = ((df[\"Close\"]/df[\"Close\"].shift(1))**2).kurt()\n",
    "        kurts.append(kurt)\n"
   ]
  },
  {
   "cell_type": "code",
   "execution_count": 13,
   "metadata": {},
   "outputs": [
    {
     "data": {
      "text/plain": [
       "36"
      ]
     },
     "execution_count": 13,
     "metadata": {},
     "output_type": "execute_result"
    }
   ],
   "source": [
    "len(kurts) #for each etf, have 4 date configs"
   ]
  },
  {
   "cell_type": "code",
   "execution_count": 45,
   "metadata": {},
   "outputs": [
    {
     "data": {
      "text/html": [
       "<div>\n",
       "<style scoped>\n",
       "    .dataframe tbody tr th:only-of-type {\n",
       "        vertical-align: middle;\n",
       "    }\n",
       "\n",
       "    .dataframe tbody tr th {\n",
       "        vertical-align: top;\n",
       "    }\n",
       "\n",
       "    .dataframe thead th {\n",
       "        text-align: right;\n",
       "    }\n",
       "</style>\n",
       "<table border=\"1\" class=\"dataframe\">\n",
       "  <thead>\n",
       "    <tr style=\"text-align: right;\">\n",
       "      <th></th>\n",
       "      <th>Unnamed: 0</th>\n",
       "      <th>ETF</th>\n",
       "      <th>Metric</th>\n",
       "      <th>Final_Value</th>\n",
       "      <th>Passive_Potential</th>\n",
       "      <th>Relative_MSE</th>\n",
       "      <th>MAPE</th>\n",
       "      <th>DM_stat</th>\n",
       "      <th>DM_p</th>\n",
       "      <th>Date</th>\n",
       "      <th>Model</th>\n",
       "    </tr>\n",
       "  </thead>\n",
       "  <tbody>\n",
       "    <tr>\n",
       "      <th>0</th>\n",
       "      <td>0</td>\n",
       "      <td>XLB</td>\n",
       "      <td>ATR</td>\n",
       "      <td>999.218631</td>\n",
       "      <td>1026.704060</td>\n",
       "      <td>0.007887</td>\n",
       "      <td>0.253470</td>\n",
       "      <td>NaN</td>\n",
       "      <td>NaN</td>\n",
       "      <td>date_config1</td>\n",
       "      <td>LSTM</td>\n",
       "    </tr>\n",
       "    <tr>\n",
       "      <th>1</th>\n",
       "      <td>1</td>\n",
       "      <td>XLB</td>\n",
       "      <td>SD_Squared_Returns</td>\n",
       "      <td>963.784288</td>\n",
       "      <td>1026.704060</td>\n",
       "      <td>0.007000</td>\n",
       "      <td>0.559637</td>\n",
       "      <td>29.069408</td>\n",
       "      <td>8.749017e-186</td>\n",
       "      <td>date_config1</td>\n",
       "      <td>LSTM</td>\n",
       "    </tr>\n",
       "    <tr>\n",
       "      <th>2</th>\n",
       "      <td>2</td>\n",
       "      <td>XLB</td>\n",
       "      <td>SD_Prices</td>\n",
       "      <td>940.682907</td>\n",
       "      <td>1026.704060</td>\n",
       "      <td>0.005466</td>\n",
       "      <td>0.376079</td>\n",
       "      <td>-2.934657</td>\n",
       "      <td>3.339170e-03</td>\n",
       "      <td>date_config1</td>\n",
       "      <td>LSTM</td>\n",
       "    </tr>\n",
       "    <tr>\n",
       "      <th>3</th>\n",
       "      <td>3</td>\n",
       "      <td>XLB</td>\n",
       "      <td>IQR</td>\n",
       "      <td>999.911312</td>\n",
       "      <td>1026.704060</td>\n",
       "      <td>0.003273</td>\n",
       "      <td>0.568779</td>\n",
       "      <td>29.488678</td>\n",
       "      <td>4.021882e-191</td>\n",
       "      <td>date_config1</td>\n",
       "      <td>LSTM</td>\n",
       "    </tr>\n",
       "    <tr>\n",
       "      <th>4</th>\n",
       "      <td>4</td>\n",
       "      <td>XLE</td>\n",
       "      <td>ATR</td>\n",
       "      <td>938.127941</td>\n",
       "      <td>1010.148042</td>\n",
       "      <td>0.000666</td>\n",
       "      <td>0.066390</td>\n",
       "      <td>NaN</td>\n",
       "      <td>NaN</td>\n",
       "      <td>date_config1</td>\n",
       "      <td>LSTM</td>\n",
       "    </tr>\n",
       "    <tr>\n",
       "      <th>...</th>\n",
       "      <td>...</td>\n",
       "      <td>...</td>\n",
       "      <td>...</td>\n",
       "      <td>...</td>\n",
       "      <td>...</td>\n",
       "      <td>...</td>\n",
       "      <td>...</td>\n",
       "      <td>...</td>\n",
       "      <td>...</td>\n",
       "      <td>...</td>\n",
       "      <td>...</td>\n",
       "    </tr>\n",
       "    <tr>\n",
       "      <th>283</th>\n",
       "      <td>31</td>\n",
       "      <td>XLY</td>\n",
       "      <td>IQR</td>\n",
       "      <td>923.972012</td>\n",
       "      <td>994.575567</td>\n",
       "      <td>0.004227</td>\n",
       "      <td>0.808892</td>\n",
       "      <td>39.215389</td>\n",
       "      <td>0.000000e+00</td>\n",
       "      <td>date_config0</td>\n",
       "      <td>RNN</td>\n",
       "    </tr>\n",
       "    <tr>\n",
       "      <th>284</th>\n",
       "      <td>32</td>\n",
       "      <td>XLU</td>\n",
       "      <td>ATR</td>\n",
       "      <td>866.409105</td>\n",
       "      <td>972.176017</td>\n",
       "      <td>0.000868</td>\n",
       "      <td>0.114553</td>\n",
       "      <td>NaN</td>\n",
       "      <td>NaN</td>\n",
       "      <td>date_config0</td>\n",
       "      <td>RNN</td>\n",
       "    </tr>\n",
       "    <tr>\n",
       "      <th>285</th>\n",
       "      <td>33</td>\n",
       "      <td>XLU</td>\n",
       "      <td>SD_Squared_Returns</td>\n",
       "      <td>1063.502867</td>\n",
       "      <td>972.176017</td>\n",
       "      <td>0.001869</td>\n",
       "      <td>0.329975</td>\n",
       "      <td>26.308942</td>\n",
       "      <td>1.515235e-152</td>\n",
       "      <td>date_config0</td>\n",
       "      <td>RNN</td>\n",
       "    </tr>\n",
       "    <tr>\n",
       "      <th>286</th>\n",
       "      <td>34</td>\n",
       "      <td>XLU</td>\n",
       "      <td>SD_Prices</td>\n",
       "      <td>917.086036</td>\n",
       "      <td>972.176017</td>\n",
       "      <td>0.000848</td>\n",
       "      <td>0.260012</td>\n",
       "      <td>-9.016113</td>\n",
       "      <td>1.948812e-19</td>\n",
       "      <td>date_config0</td>\n",
       "      <td>RNN</td>\n",
       "    </tr>\n",
       "    <tr>\n",
       "      <th>287</th>\n",
       "      <td>35</td>\n",
       "      <td>XLU</td>\n",
       "      <td>IQR</td>\n",
       "      <td>864.521558</td>\n",
       "      <td>972.176017</td>\n",
       "      <td>0.000900</td>\n",
       "      <td>0.263794</td>\n",
       "      <td>26.614937</td>\n",
       "      <td>4.559332e-156</td>\n",
       "      <td>date_config0</td>\n",
       "      <td>RNN</td>\n",
       "    </tr>\n",
       "  </tbody>\n",
       "</table>\n",
       "<p>288 rows × 11 columns</p>\n",
       "</div>"
      ],
      "text/plain": [
       "     Unnamed: 0  ETF              Metric  Final_Value  Passive_Potential  \\\n",
       "0             0  XLB                 ATR   999.218631        1026.704060   \n",
       "1             1  XLB  SD_Squared_Returns   963.784288        1026.704060   \n",
       "2             2  XLB           SD_Prices   940.682907        1026.704060   \n",
       "3             3  XLB                 IQR   999.911312        1026.704060   \n",
       "4             4  XLE                 ATR   938.127941        1010.148042   \n",
       "..          ...  ...                 ...          ...                ...   \n",
       "283          31  XLY                 IQR   923.972012         994.575567   \n",
       "284          32  XLU                 ATR   866.409105         972.176017   \n",
       "285          33  XLU  SD_Squared_Returns  1063.502867         972.176017   \n",
       "286          34  XLU           SD_Prices   917.086036         972.176017   \n",
       "287          35  XLU                 IQR   864.521558         972.176017   \n",
       "\n",
       "     Relative_MSE      MAPE    DM_stat           DM_p          Date Model  \n",
       "0        0.007887  0.253470        NaN            NaN  date_config1  LSTM  \n",
       "1        0.007000  0.559637  29.069408  8.749017e-186  date_config1  LSTM  \n",
       "2        0.005466  0.376079  -2.934657   3.339170e-03  date_config1  LSTM  \n",
       "3        0.003273  0.568779  29.488678  4.021882e-191  date_config1  LSTM  \n",
       "4        0.000666  0.066390        NaN            NaN  date_config1  LSTM  \n",
       "..            ...       ...        ...            ...           ...   ...  \n",
       "283      0.004227  0.808892  39.215389   0.000000e+00  date_config0   RNN  \n",
       "284      0.000868  0.114553        NaN            NaN  date_config0   RNN  \n",
       "285      0.001869  0.329975  26.308942  1.515235e-152  date_config0   RNN  \n",
       "286      0.000848  0.260012  -9.016113   1.948812e-19  date_config0   RNN  \n",
       "287      0.000900  0.263794  26.614937  4.559332e-156  date_config0   RNN  \n",
       "\n",
       "[288 rows x 11 columns]"
      ]
     },
     "execution_count": 45,
     "metadata": {},
     "output_type": "execute_result"
    }
   ],
   "source": [
    "df_final"
   ]
  },
  {
   "cell_type": "code",
   "execution_count": 46,
   "metadata": {},
   "outputs": [],
   "source": [
    "atrs = df_final.loc[(df_final[\"Metric\"]==\"ATR\") ].groupby([\"ETF\",\"Date\"])[\"MAPE\"].mean()\n",
    "sds = df_final.loc[(df_final[\"Metric\"]==\"SD_Squared_Returns\") ].groupby([\"ETF\",\"Date\"])[\"MAPE\"].mean()\n",
    "diffs = atrs-sds"
   ]
  },
  {
   "cell_type": "code",
   "execution_count": 47,
   "metadata": {},
   "outputs": [
    {
     "data": {
      "text/plain": [
       "ETF  Date        \n",
       "XLB  date_config0   -0.098021\n",
       "     date_config1   -0.172381\n",
       "     date_config2   -0.181441\n",
       "     date_config3    0.076925\n",
       "XLE  date_config0   -0.086044\n",
       "     date_config1   -0.096036\n",
       "     date_config2   -0.113641\n",
       "     date_config3   -0.080921\n",
       "XLF  date_config0   -0.085267\n",
       "     date_config1   -0.149040\n",
       "     date_config2   -0.529856\n",
       "     date_config3   -0.098206\n",
       "XLI  date_config0   -0.085821\n",
       "     date_config1   -0.062876\n",
       "     date_config2   -0.112608\n",
       "     date_config3   -0.174982\n",
       "XLK  date_config0    0.068609\n",
       "     date_config1   -0.256414\n",
       "     date_config2    0.121175\n",
       "     date_config3    0.051990\n",
       "XLP  date_config0   -0.023876\n",
       "     date_config1   -0.875027\n",
       "     date_config2   -0.119849\n",
       "     date_config3    0.115035\n",
       "XLU  date_config0   -0.160137\n",
       "     date_config1   -0.223752\n",
       "     date_config2   -0.213131\n",
       "     date_config3   -0.294415\n",
       "XLV  date_config0   -0.267399\n",
       "     date_config1   -0.340158\n",
       "     date_config2   -0.167680\n",
       "     date_config3    0.043142\n",
       "XLY  date_config0   -0.030359\n",
       "     date_config1    0.039587\n",
       "     date_config2   -0.070337\n",
       "     date_config3    0.060778\n",
       "Name: MAPE, dtype: float64"
      ]
     },
     "execution_count": 47,
     "metadata": {},
     "output_type": "execute_result"
    }
   ],
   "source": [
    "diffs"
   ]
  },
  {
   "cell_type": "code",
   "execution_count": 50,
   "metadata": {},
   "outputs": [
    {
     "data": {
      "text/plain": [
       "Text(0.05, 0.95, 'Slope = 0.003')"
      ]
     },
     "execution_count": 50,
     "metadata": {},
     "output_type": "execute_result"
    },
    {
     "data": {
      "image/png": "[encoded data removed]",
      "text/plain": [
       "<Figure size 640x480 with 1 Axes>"
      ]
     },
     "metadata": {},
     "output_type": "display_data"
    }
   ],
   "source": [
    "fig,ax = plt.subplots()\n",
    "sns.regplot(x=kurts,y=diffs,ax=ax)\n",
    "slope, intercept = np.polyfit(kurts, diffs, 1)\n",
    "ax.text(\n",
    "    0.05, 0.95,\n",
    "    f\"Slope = {slope:.3f}\",\n",
    "    transform=ax.transAxes,\n",
    "    ha='left',\n",
    "    va='top',\n",
    "    fontsize=12,\n",
    "    bbox=dict(boxstyle=\"round,pad=0.3\", fc=\"white\", ec=\"black\", lw=0.5)\n",
    ")"
   ]
  },
  {
   "cell_type": "code",
   "execution_count": null,
   "metadata": {},
   "outputs": [],
   "source": []
  }
 ],
 "metadata": {
  "kernelspec": {
   "display_name": "Python 3",
   "language": "python",
   "name": "python3"
  },
  "language_info": {
   "codemirror_mode": {
    "name": "ipython",
    "version": 3
   },
   "file_extension": ".py",
   "mimetype": "text/x-python",
   "name": "python",
   "nbconvert_exporter": "python",
   "pygments_lexer": "ipython3",
   "version": "3.12.4"
  }
 },
 "nbformat": 4,
 "nbformat_minor": 2
}
